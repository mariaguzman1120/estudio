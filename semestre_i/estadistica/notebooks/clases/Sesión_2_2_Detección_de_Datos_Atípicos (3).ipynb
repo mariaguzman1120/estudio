{
 "cells": [
  {
   "cell_type": "code",
   "execution_count": 1,
   "metadata": {
    "colab": {
     "base_uri": "https://localhost:8080/"
    },
    "id": "_Wmr5VCU04qn",
    "outputId": "c176c521-efc0-4174-9e86-a64a7458ab7a",
    "tags": []
   },
   "outputs": [],
   "source": [
    "#!wget --no-cache -O init.py -q https://raw.githubusercontent.com/UDEA-Esp-Analitica-y-Ciencia-de-Datos/EACD-02-ESTADISTICA/master/init.py\n",
    "#import init; init.init(force_download=False); \n",
    "from IPython.display import Image"
   ]
  },
  {
   "cell_type": "code",
   "execution_count": 2,
   "metadata": {
    "colab": {
     "base_uri": "https://localhost:8080/",
     "height": 251
    },
    "id": "VV3BghiJ05DI",
    "outputId": "8229da3d-4b38-4cce-de8c-1e5b1879275c",
    "tags": []
   },
   "outputs": [
    {
     "data": {
      "image/png": "[encoded data removed]",
      "text/plain": [
       "<IPython.core.display.Image object>"
      ]
     },
     "execution_count": 2,
     "metadata": {},
     "output_type": "execute_result"
    }
   ],
   "source": [
    "Image(\"../../docs/udea-datascience.png\")"
   ]
  },
  {
   "cell_type": "markdown",
   "metadata": {
    "id": "mvXlahbAbQqg"
   },
   "source": [
    "**Desarrollado por:** Javier Fernando Botía Valderrama\n",
    "\n",
    "*Docente del Departamento de Ingeniería de Sistemas*\n",
    "\n",
    "**Materia:** Estadística y Análisis Exploratorio\n",
    "\n",
    "**Departamento:** Posgrado en Ingeniería\n",
    "\n",
    "**Facultad de Ingeniería - Universidad de Antioquia**"
   ]
  },
  {
   "cell_type": "markdown",
   "metadata": {
    "id": "G_C_kWIibU7U"
   },
   "source": [
    "# Métodos Básicos para la Detección de Datos Atípicos"
   ]
  },
  {
   "cell_type": "code",
   "execution_count": 3,
   "metadata": {
    "id": "DHK-sekm7LLg",
    "tags": []
   },
   "outputs": [],
   "source": [
    "import pandas as pd\n",
    "import numpy as np\n",
    "import requests\n",
    "import io\n",
    "import seaborn as sns\n",
    "\n",
    "from matplotlib import pyplot as plt\n",
    "\n",
    "from sklearn.preprocessing import MinMaxScaler\n",
    "\n",
    "from sklearn.neighbors import LocalOutlierFactor # Algoritmo LOF\n",
    "from scipy.special import entr # Entropía de Shannon\n",
    "from scipy.stats import multivariate_normal # Modelo de distribución gaussiana multivariable\n",
    "from sklearn.covariance import EllipticEnvelope # Estimación de Covarianza\n",
    "from scipy.stats import median_abs_deviation # MAD\n",
    "from scipy.stats import iqr # Interquartile range\n",
    "import matplotlib"
   ]
  },
  {
   "cell_type": "markdown",
   "metadata": {
    "id": "tMAa4Of9be9G"
   },
   "source": [
    "**Datos atípicos u outliers:**  Un *outlier* es un punto por el cual esta alejado desde el valor predicho por un modelo. Este tipo de datos se generan por diversas razones tales como almacenamiento incorrecto de la base de datos o el ruido de los sensores que generan lecturas erróneas, etc. Por lo general, los datos atípicos pueden tener pocos efectos en el desempeño de un modelo si el error que genera es pequeño o poco representativo para una predicción o una estimación. Sin embargo, si hay un porcentaje alto de la base de datos que son atípicos, el error puede incrementar abruptamente y generar una disminución el desempeño de un modelo de regresión o de clasificación, etc..."
   ]
  },
  {
   "cell_type": "markdown",
   "metadata": {
    "id": "n9RiZg_M72pz"
   },
   "source": [
    "**Base de datos:** \n",
    "\n",
    "This dataset was generated for use on 'Prediction of Motor Failure Time Using An Artificial Neural Network' project (DOI: 10.3390/s19194342). A cooler fan with weights on its blades was used to generate vibrations. To this fan cooler was attached an accelerometer to collect the vibration data. With this data, motor failure time predictions were made, using an artificial neural networks. To generate three distinct vibration scenarios, the weights were distributed in three different ways: 1) 'red' - normal configuration: two weight pieces positioned on neighboring blades; 2) 'blue' - perpendicular configuration: two weight pieces positioned on blades forming a 90$°$ angle; 3) 'green' - opposite configuration: two weight pieces positioned on opposite blades.\n",
    "\n",
    "*Devices used*:\n",
    "\n",
    "Akasa AK-FN059 12cm Viper cooling fan (Generate the vibrations)\n",
    "MMA8452Q accelerometer (Measure vibration)\n",
    "\n",
    "*Data collection method*:\n",
    "\n",
    "17 rotation speeds were set up, ranging from 20% to 100% of the cooler maximum speed at 5% intervals; for the three weight distribution configurations in the cooler blades. Note that the Akasa AK-FN059 cooler has 1900 rpm of max rotation speed.\n",
    "\n",
    "The vibration measurements were collected at a frequency of 20 ms for 1 min for each percentage, generating 3000 records per speed. Thus, in total, 153.000 vibration records were collected from the simulation model.\n",
    "\n",
    "*Columns:*\n",
    "\n",
    "*   wconfid: Weight Configuration ID (1 - 'red' - normal configuration; 2 - 'blue' - perpendicular configuration; 3 - 'green' - opposite configuration)\n",
    "*   pctid: Cooler Fan RPM Speed Percentage ID (20 means 20%, and so on).\n",
    "*   x: Accelerometer x value.\n",
    "*   y: Accelerometer y value.\n",
    "*   z: Accelerometer z value."
   ]
  },
  {
   "cell_type": "code",
   "execution_count": 4,
   "metadata": {
    "colab": {
     "base_uri": "https://localhost:8080/",
     "height": 676
    },
    "id": "5u8xY-ikbPkl",
    "outputId": "aba8f763-6c23-4313-dddf-b343b4b39a1c",
    "tags": []
   },
   "outputs": [
    {
     "data": {
      "text/html": [
       "<div>\n",
       "<style scoped>\n",
       "    .dataframe tbody tr th:only-of-type {\n",
       "        vertical-align: middle;\n",
       "    }\n",
       "\n",
       "    .dataframe tbody tr th {\n",
       "        vertical-align: top;\n",
       "    }\n",
       "\n",
       "    .dataframe thead th {\n",
       "        text-align: right;\n",
       "    }\n",
       "</style>\n",
       "<table border=\"1\" class=\"dataframe\">\n",
       "  <thead>\n",
       "    <tr style=\"text-align: right;\">\n",
       "      <th></th>\n",
       "      <th>wconfid</th>\n",
       "      <th>pctid</th>\n",
       "      <th>x</th>\n",
       "      <th>y</th>\n",
       "      <th>z</th>\n",
       "    </tr>\n",
       "  </thead>\n",
       "  <tbody>\n",
       "    <tr>\n",
       "      <th>0</th>\n",
       "      <td>1</td>\n",
       "      <td>20</td>\n",
       "      <td>1.004</td>\n",
       "      <td>0.090</td>\n",
       "      <td>-0.125</td>\n",
       "    </tr>\n",
       "    <tr>\n",
       "      <th>1</th>\n",
       "      <td>1</td>\n",
       "      <td>20</td>\n",
       "      <td>1.004</td>\n",
       "      <td>-0.043</td>\n",
       "      <td>-0.125</td>\n",
       "    </tr>\n",
       "    <tr>\n",
       "      <th>2</th>\n",
       "      <td>1</td>\n",
       "      <td>20</td>\n",
       "      <td>0.969</td>\n",
       "      <td>0.090</td>\n",
       "      <td>-0.121</td>\n",
       "    </tr>\n",
       "    <tr>\n",
       "      <th>3</th>\n",
       "      <td>1</td>\n",
       "      <td>20</td>\n",
       "      <td>0.973</td>\n",
       "      <td>-0.012</td>\n",
       "      <td>-0.137</td>\n",
       "    </tr>\n",
       "    <tr>\n",
       "      <th>4</th>\n",
       "      <td>1</td>\n",
       "      <td>20</td>\n",
       "      <td>1.000</td>\n",
       "      <td>-0.016</td>\n",
       "      <td>-0.121</td>\n",
       "    </tr>\n",
       "    <tr>\n",
       "      <th>5</th>\n",
       "      <td>1</td>\n",
       "      <td>20</td>\n",
       "      <td>0.961</td>\n",
       "      <td>0.082</td>\n",
       "      <td>-0.121</td>\n",
       "    </tr>\n",
       "    <tr>\n",
       "      <th>6</th>\n",
       "      <td>1</td>\n",
       "      <td>20</td>\n",
       "      <td>0.973</td>\n",
       "      <td>-0.055</td>\n",
       "      <td>-0.109</td>\n",
       "    </tr>\n",
       "    <tr>\n",
       "      <th>7</th>\n",
       "      <td>1</td>\n",
       "      <td>20</td>\n",
       "      <td>1.000</td>\n",
       "      <td>0.012</td>\n",
       "      <td>-0.133</td>\n",
       "    </tr>\n",
       "    <tr>\n",
       "      <th>8</th>\n",
       "      <td>1</td>\n",
       "      <td>20</td>\n",
       "      <td>0.969</td>\n",
       "      <td>-0.102</td>\n",
       "      <td>-0.141</td>\n",
       "    </tr>\n",
       "    <tr>\n",
       "      <th>9</th>\n",
       "      <td>1</td>\n",
       "      <td>20</td>\n",
       "      <td>0.973</td>\n",
       "      <td>-0.059</td>\n",
       "      <td>-0.125</td>\n",
       "    </tr>\n",
       "    <tr>\n",
       "      <th>10</th>\n",
       "      <td>1</td>\n",
       "      <td>20</td>\n",
       "      <td>1.012</td>\n",
       "      <td>0.043</td>\n",
       "      <td>-0.133</td>\n",
       "    </tr>\n",
       "    <tr>\n",
       "      <th>11</th>\n",
       "      <td>1</td>\n",
       "      <td>20</td>\n",
       "      <td>0.996</td>\n",
       "      <td>-0.109</td>\n",
       "      <td>-0.148</td>\n",
       "    </tr>\n",
       "    <tr>\n",
       "      <th>12</th>\n",
       "      <td>1</td>\n",
       "      <td>20</td>\n",
       "      <td>0.988</td>\n",
       "      <td>-0.020</td>\n",
       "      <td>-0.125</td>\n",
       "    </tr>\n",
       "    <tr>\n",
       "      <th>13</th>\n",
       "      <td>1</td>\n",
       "      <td>20</td>\n",
       "      <td>1.012</td>\n",
       "      <td>0.043</td>\n",
       "      <td>-0.129</td>\n",
       "    </tr>\n",
       "    <tr>\n",
       "      <th>14</th>\n",
       "      <td>1</td>\n",
       "      <td>20</td>\n",
       "      <td>0.996</td>\n",
       "      <td>-0.090</td>\n",
       "      <td>-0.152</td>\n",
       "    </tr>\n",
       "    <tr>\n",
       "      <th>15</th>\n",
       "      <td>1</td>\n",
       "      <td>20</td>\n",
       "      <td>0.965</td>\n",
       "      <td>-0.102</td>\n",
       "      <td>-0.117</td>\n",
       "    </tr>\n",
       "    <tr>\n",
       "      <th>16</th>\n",
       "      <td>1</td>\n",
       "      <td>20</td>\n",
       "      <td>1.004</td>\n",
       "      <td>0.055</td>\n",
       "      <td>-0.121</td>\n",
       "    </tr>\n",
       "    <tr>\n",
       "      <th>17</th>\n",
       "      <td>1</td>\n",
       "      <td>20</td>\n",
       "      <td>0.988</td>\n",
       "      <td>-0.059</td>\n",
       "      <td>-0.141</td>\n",
       "    </tr>\n",
       "    <tr>\n",
       "      <th>18</th>\n",
       "      <td>1</td>\n",
       "      <td>20</td>\n",
       "      <td>0.969</td>\n",
       "      <td>-0.086</td>\n",
       "      <td>-0.117</td>\n",
       "    </tr>\n",
       "    <tr>\n",
       "      <th>19</th>\n",
       "      <td>1</td>\n",
       "      <td>20</td>\n",
       "      <td>1.039</td>\n",
       "      <td>0.094</td>\n",
       "      <td>-0.117</td>\n",
       "    </tr>\n",
       "  </tbody>\n",
       "</table>\n",
       "</div>"
      ],
      "text/plain": [
       "    wconfid  pctid      x       y       z\n",
       "0         1     20  1.004   0.090  -0.125\n",
       "1         1     20  1.004  -0.043  -0.125\n",
       "2         1     20  0.969   0.090  -0.121\n",
       "3         1     20  0.973  -0.012  -0.137\n",
       "4         1     20  1.000  -0.016  -0.121\n",
       "5         1     20  0.961   0.082  -0.121\n",
       "6         1     20  0.973  -0.055  -0.109\n",
       "7         1     20  1.000   0.012  -0.133\n",
       "8         1     20  0.969  -0.102  -0.141\n",
       "9         1     20  0.973  -0.059  -0.125\n",
       "10        1     20  1.012   0.043  -0.133\n",
       "11        1     20  0.996  -0.109  -0.148\n",
       "12        1     20  0.988  -0.020  -0.125\n",
       "13        1     20  1.012   0.043  -0.129\n",
       "14        1     20  0.996  -0.090  -0.152\n",
       "15        1     20  0.965  -0.102  -0.117\n",
       "16        1     20  1.004   0.055  -0.121\n",
       "17        1     20  0.988  -0.059  -0.141\n",
       "18        1     20  0.969  -0.086  -0.117\n",
       "19        1     20  1.039   0.094  -0.117"
      ]
     },
     "metadata": {},
     "output_type": "display_data"
    }
   ],
   "source": [
    "url = \"https://raw.githubusercontent.com/javierfernandobotia/AnalisisAvanzadoDatos/main/accelerometer.csv\"\n",
    "download = requests.get(url).content\n",
    "data = pd.read_csv(io.StringIO(download.decode('utf-8')), sep=',',\n",
    "                     decimal = ',')\n",
    "# Esimportante codificarlo a utf-8\n",
    "display(data.head(20))"
   ]
  },
  {
   "cell_type": "markdown",
   "metadata": {
    "id": "dySm2JDW9nPe"
   },
   "source": [
    "## Visualización de los Datos Atípicos con el diagrama de cajas"
   ]
  },
  {
   "cell_type": "code",
   "execution_count": 5,
   "metadata": {
    "colab": {
     "base_uri": "https://localhost:8080/"
    },
    "id": "gq8a1-7v91Cp",
    "outputId": "f8682481-dae2-4bfa-8fbe-9ad2b311a648",
    "tags": []
   },
   "outputs": [
    {
     "name": "stdout",
     "output_type": "stream",
     "text": [
      "<class 'pandas.core.frame.DataFrame'>\n",
      "RangeIndex: 153000 entries, 0 to 152999\n",
      "Data columns (total 5 columns):\n",
      " #   Column   Non-Null Count   Dtype \n",
      "---  ------   --------------   ----- \n",
      " 0   wconfid  153000 non-null  int64 \n",
      " 1   pctid    153000 non-null  int64 \n",
      " 2   x        153000 non-null  object\n",
      " 3   y        153000 non-null  object\n",
      " 4   z        153000 non-null  object\n",
      "dtypes: int64(2), object(3)\n",
      "memory usage: 5.8+ MB\n"
     ]
    }
   ],
   "source": [
    "data.info()"
   ]
  },
  {
   "cell_type": "markdown",
   "metadata": {
    "id": "CF0UnnwA97op"
   },
   "source": [
    "Convertimos las variables x, y, z en datos tipo float64."
   ]
  },
  {
   "cell_type": "code",
   "execution_count": 6,
   "metadata": {
    "colab": {
     "base_uri": "https://localhost:8080/"
    },
    "id": "V0P8Ht-V-DE0",
    "outputId": "cdb5382e-73b0-45e9-a3bc-d1e9c0e74703",
    "tags": []
   },
   "outputs": [
    {
     "name": "stdout",
     "output_type": "stream",
     "text": [
      "<class 'pandas.core.frame.DataFrame'>\n",
      "RangeIndex: 153000 entries, 0 to 152999\n",
      "Data columns (total 5 columns):\n",
      " #   Column   Non-Null Count   Dtype  \n",
      "---  ------   --------------   -----  \n",
      " 0   wconfid  153000 non-null  int64  \n",
      " 1   pctid    153000 non-null  int64  \n",
      " 2   x        153000 non-null  float64\n",
      " 3   y        153000 non-null  float64\n",
      " 4   z        153000 non-null  float64\n",
      "dtypes: float64(3), int64(2)\n",
      "memory usage: 5.8 MB\n"
     ]
    }
   ],
   "source": [
    "data['x'] = data['x'].astype(float)\n",
    "data['y'] = data['y'].astype(float)\n",
    "data['z'] = data['z'].astype(float)\n",
    "\n",
    "data.info()"
   ]
  },
  {
   "cell_type": "markdown",
   "metadata": {
    "id": "y12UTP8J-Umm"
   },
   "source": [
    "Generando un reporte estadístico de las variables:"
   ]
  },
  {
   "cell_type": "code",
   "execution_count": 7,
   "metadata": {
    "colab": {
     "base_uri": "https://localhost:8080/",
     "height": 300
    },
    "id": "fKYVcfdC-YsR",
    "outputId": "1b74e065-5d41-42c2-b2cb-b5d181b1f5b2",
    "tags": []
   },
   "outputs": [
    {
     "data": {
      "text/html": [
       "<div>\n",
       "<style scoped>\n",
       "    .dataframe tbody tr th:only-of-type {\n",
       "        vertical-align: middle;\n",
       "    }\n",
       "\n",
       "    .dataframe tbody tr th {\n",
       "        vertical-align: top;\n",
       "    }\n",
       "\n",
       "    .dataframe thead th {\n",
       "        text-align: right;\n",
       "    }\n",
       "</style>\n",
       "<table border=\"1\" class=\"dataframe\">\n",
       "  <thead>\n",
       "    <tr style=\"text-align: right;\">\n",
       "      <th></th>\n",
       "      <th>wconfid</th>\n",
       "      <th>pctid</th>\n",
       "      <th>x</th>\n",
       "      <th>y</th>\n",
       "      <th>z</th>\n",
       "    </tr>\n",
       "  </thead>\n",
       "  <tbody>\n",
       "    <tr>\n",
       "      <th>count</th>\n",
       "      <td>153000.000000</td>\n",
       "      <td>153000.000000</td>\n",
       "      <td>153000.000000</td>\n",
       "      <td>153000.000000</td>\n",
       "      <td>153000.000000</td>\n",
       "    </tr>\n",
       "    <tr>\n",
       "      <th>mean</th>\n",
       "      <td>2.000000</td>\n",
       "      <td>60.000000</td>\n",
       "      <td>0.995622</td>\n",
       "      <td>0.005351</td>\n",
       "      <td>-0.117769</td>\n",
       "    </tr>\n",
       "    <tr>\n",
       "      <th>std</th>\n",
       "      <td>0.816499</td>\n",
       "      <td>24.494977</td>\n",
       "      <td>0.773958</td>\n",
       "      <td>0.742602</td>\n",
       "      <td>0.517008</td>\n",
       "    </tr>\n",
       "    <tr>\n",
       "      <th>min</th>\n",
       "      <td>1.000000</td>\n",
       "      <td>20.000000</td>\n",
       "      <td>-8.000000</td>\n",
       "      <td>-8.000000</td>\n",
       "      <td>-5.867000</td>\n",
       "    </tr>\n",
       "    <tr>\n",
       "      <th>25%</th>\n",
       "      <td>1.000000</td>\n",
       "      <td>40.000000</td>\n",
       "      <td>0.945000</td>\n",
       "      <td>-0.078000</td>\n",
       "      <td>-0.172000</td>\n",
       "    </tr>\n",
       "    <tr>\n",
       "      <th>50%</th>\n",
       "      <td>2.000000</td>\n",
       "      <td>60.000000</td>\n",
       "      <td>0.992000</td>\n",
       "      <td>0.008000</td>\n",
       "      <td>-0.125000</td>\n",
       "    </tr>\n",
       "    <tr>\n",
       "      <th>75%</th>\n",
       "      <td>3.000000</td>\n",
       "      <td>80.000000</td>\n",
       "      <td>1.039000</td>\n",
       "      <td>0.105000</td>\n",
       "      <td>-0.066000</td>\n",
       "    </tr>\n",
       "    <tr>\n",
       "      <th>max</th>\n",
       "      <td>3.000000</td>\n",
       "      <td>100.000000</td>\n",
       "      <td>7.996000</td>\n",
       "      <td>7.996000</td>\n",
       "      <td>6.086000</td>\n",
       "    </tr>\n",
       "  </tbody>\n",
       "</table>\n",
       "</div>"
      ],
      "text/plain": [
       "             wconfid          pctid              x              y  \\\n",
       "count  153000.000000  153000.000000  153000.000000  153000.000000   \n",
       "mean        2.000000      60.000000       0.995622       0.005351   \n",
       "std         0.816499      24.494977       0.773958       0.742602   \n",
       "min         1.000000      20.000000      -8.000000      -8.000000   \n",
       "25%         1.000000      40.000000       0.945000      -0.078000   \n",
       "50%         2.000000      60.000000       0.992000       0.008000   \n",
       "75%         3.000000      80.000000       1.039000       0.105000   \n",
       "max         3.000000     100.000000       7.996000       7.996000   \n",
       "\n",
       "                   z  \n",
       "count  153000.000000  \n",
       "mean       -0.117769  \n",
       "std         0.517008  \n",
       "min        -5.867000  \n",
       "25%        -0.172000  \n",
       "50%        -0.125000  \n",
       "75%        -0.066000  \n",
       "max         6.086000  "
      ]
     },
     "execution_count": 7,
     "metadata": {},
     "output_type": "execute_result"
    }
   ],
   "source": [
    "data.describe()"
   ]
  },
  {
   "cell_type": "markdown",
   "metadata": {
    "id": "iNuD7366-ztO"
   },
   "source": [
    "Generando el diagrama de cajas:"
   ]
  },
  {
   "cell_type": "code",
   "execution_count": 8,
   "metadata": {
    "colab": {
     "base_uri": "https://localhost:8080/",
     "height": 498
    },
    "id": "BP2pyeIG-2JV",
    "outputId": "3fb5db3e-9ca6-4f12-d3fe-fd543049c093",
    "tags": []
   },
   "outputs": [
    {
     "data": {
      "image/png": "[encoded data removed]",
      "text/plain": [
       "<Figure size 432x288 with 1 Axes>"
      ]
     },
     "metadata": {
      "needs_background": "light"
     },
     "output_type": "display_data"
    }
   ],
   "source": [
    "sns.set(rc={'figure.figsize':(25,9)}) # Tamaño de la figura\n",
    "sns.set(style=\"whitegrid\") # Estilo de la figura\n",
    "sns.boxplot(data = data, linewidth = 3, palette=\"Set2\", fliersize = 5) # Diagrama Box Plot\n",
    "sns.despine(left=True)"
   ]
  },
  {
   "cell_type": "markdown",
   "metadata": {
    "id": "VyFLmlBj_CZ-"
   },
   "source": [
    "Normalizando los datos para mejorar la visualización del diagrama de cajas:"
   ]
  },
  {
   "cell_type": "code",
   "execution_count": 9,
   "metadata": {
    "id": "qQtDo-ci_J69",
    "tags": []
   },
   "outputs": [],
   "source": [
    "MinMax = MinMaxScaler(copy=True, feature_range=(0, 1)) # Método MinMax con valores entre 0 y 1\n",
    "nombres = data.columns\n",
    "Datos_Min_Max = MinMax.fit_transform(data) # Transformación de los nuevos datos con una escala MinMax\n",
    "Datos_Min_Max = pd.DataFrame(Datos_Min_Max, columns = nombres)"
   ]
  },
  {
   "cell_type": "code",
   "execution_count": 10,
   "metadata": {
    "colab": {
     "base_uri": "https://localhost:8080/",
     "height": 300
    },
    "id": "LsgHNgZ7rZCD",
    "outputId": "61849bd0-b5e8-4c19-f69c-b57c0221cbbf",
    "tags": []
   },
   "outputs": [
    {
     "data": {
      "text/html": [
       "<div>\n",
       "<style scoped>\n",
       "    .dataframe tbody tr th:only-of-type {\n",
       "        vertical-align: middle;\n",
       "    }\n",
       "\n",
       "    .dataframe tbody tr th {\n",
       "        vertical-align: top;\n",
       "    }\n",
       "\n",
       "    .dataframe thead th {\n",
       "        text-align: right;\n",
       "    }\n",
       "</style>\n",
       "<table border=\"1\" class=\"dataframe\">\n",
       "  <thead>\n",
       "    <tr style=\"text-align: right;\">\n",
       "      <th></th>\n",
       "      <th>wconfid</th>\n",
       "      <th>pctid</th>\n",
       "      <th>x</th>\n",
       "      <th>y</th>\n",
       "      <th>z</th>\n",
       "    </tr>\n",
       "  </thead>\n",
       "  <tbody>\n",
       "    <tr>\n",
       "      <th>count</th>\n",
       "      <td>153000.00000</td>\n",
       "      <td>153000.000000</td>\n",
       "      <td>153000.000000</td>\n",
       "      <td>153000.000000</td>\n",
       "      <td>153000.000000</td>\n",
       "    </tr>\n",
       "    <tr>\n",
       "      <th>mean</th>\n",
       "      <td>0.50000</td>\n",
       "      <td>0.500000</td>\n",
       "      <td>0.562367</td>\n",
       "      <td>0.500460</td>\n",
       "      <td>0.480986</td>\n",
       "    </tr>\n",
       "    <tr>\n",
       "      <th>std</th>\n",
       "      <td>0.40825</td>\n",
       "      <td>0.306187</td>\n",
       "      <td>0.048384</td>\n",
       "      <td>0.046424</td>\n",
       "      <td>0.043253</td>\n",
       "    </tr>\n",
       "    <tr>\n",
       "      <th>min</th>\n",
       "      <td>0.00000</td>\n",
       "      <td>0.000000</td>\n",
       "      <td>0.000000</td>\n",
       "      <td>0.000000</td>\n",
       "      <td>0.000000</td>\n",
       "    </tr>\n",
       "    <tr>\n",
       "      <th>25%</th>\n",
       "      <td>0.00000</td>\n",
       "      <td>0.250000</td>\n",
       "      <td>0.559202</td>\n",
       "      <td>0.495249</td>\n",
       "      <td>0.476449</td>\n",
       "    </tr>\n",
       "    <tr>\n",
       "      <th>50%</th>\n",
       "      <td>0.50000</td>\n",
       "      <td>0.500000</td>\n",
       "      <td>0.562141</td>\n",
       "      <td>0.500625</td>\n",
       "      <td>0.480381</td>\n",
       "    </tr>\n",
       "    <tr>\n",
       "      <th>75%</th>\n",
       "      <td>1.00000</td>\n",
       "      <td>0.750000</td>\n",
       "      <td>0.565079</td>\n",
       "      <td>0.506689</td>\n",
       "      <td>0.485317</td>\n",
       "    </tr>\n",
       "    <tr>\n",
       "      <th>max</th>\n",
       "      <td>1.00000</td>\n",
       "      <td>1.000000</td>\n",
       "      <td>1.000000</td>\n",
       "      <td>1.000000</td>\n",
       "      <td>1.000000</td>\n",
       "    </tr>\n",
       "  </tbody>\n",
       "</table>\n",
       "</div>"
      ],
      "text/plain": [
       "            wconfid          pctid              x              y  \\\n",
       "count  153000.00000  153000.000000  153000.000000  153000.000000   \n",
       "mean        0.50000       0.500000       0.562367       0.500460   \n",
       "std         0.40825       0.306187       0.048384       0.046424   \n",
       "min         0.00000       0.000000       0.000000       0.000000   \n",
       "25%         0.00000       0.250000       0.559202       0.495249   \n",
       "50%         0.50000       0.500000       0.562141       0.500625   \n",
       "75%         1.00000       0.750000       0.565079       0.506689   \n",
       "max         1.00000       1.000000       1.000000       1.000000   \n",
       "\n",
       "                   z  \n",
       "count  153000.000000  \n",
       "mean        0.480986  \n",
       "std         0.043253  \n",
       "min         0.000000  \n",
       "25%         0.476449  \n",
       "50%         0.480381  \n",
       "75%         0.485317  \n",
       "max         1.000000  "
      ]
     },
     "execution_count": 10,
     "metadata": {},
     "output_type": "execute_result"
    }
   ],
   "source": [
    "Datos_Min_Max.describe()"
   ]
  },
  {
   "cell_type": "code",
   "execution_count": 11,
   "metadata": {
    "colab": {
     "base_uri": "https://localhost:8080/",
     "height": 499
    },
    "id": "mzfq6_L8_jX5",
    "outputId": "5adcd579-bce6-4f98-da4c-bfe8fa257ff4",
    "tags": []
   },
   "outputs": [
    {
     "data": {
      "image/png": "[encoded data removed]",
      "text/plain": [
       "<Figure size 1800x648 with 1 Axes>"
      ]
     },
     "metadata": {},
     "output_type": "display_data"
    }
   ],
   "source": [
    "sns.set(rc={'figure.figsize':(25,9)}) # Tamaño de la figura\n",
    "sns.set(style=\"whitegrid\") # Estilo de la figura\n",
    "sns.boxplot(data = Datos_Min_Max, linewidth = 3, palette=\"Set2\", fliersize = 5) # Diagrama Box Plot\n",
    "sns.despine(left=True)"
   ]
  },
  {
   "cell_type": "markdown",
   "metadata": {
    "id": "C28kiXbK_w0_"
   },
   "source": [
    "Se observa que las dos primeras columnas, *wconfid* y *pctid*, no tienen datos atípicos considerable pero las columnas *x*, *y*, *z*, tienen presencia de datos atípicos en ambos cuartiles (por debajo de 25% y por encima de 75 %). Por consiguiente, vamos a detectar y eliminar los datos atípicos sin sacrificar hasta lo posible la información que puedan ofrecer las variables *x*, *y*, *z*. "
   ]
  },
  {
   "cell_type": "markdown",
   "metadata": {
    "id": "cY1l7T3D88Ib"
   },
   "source": [
    "## Algoritmo LOF (Local Outlier Factor)"
   ]
  },
  {
   "cell_type": "markdown",
   "metadata": {
    "id": "TAttEqYhAa7t"
   },
   "source": [
    "Es un método de detección de outilers basado en una búsqueda local de datos atípicos llamado **factor atípico local o LOF**. Al usar LOF, se calcula la desviación local de la densidad de cada muestra con respecto a sus vecinos más cercanos. Por lo general, se utiliza una métrica de distancia entre una muestra y los vecinos más cercanos de forma local, donde una distancia más grande de un vecino con respecto a una muestra se considera como dato atípico. \n"
   ]
  },
  {
   "cell_type": "code",
   "execution_count": 12,
   "metadata": {
    "id": "qigJHwtVAiU4",
    "tags": []
   },
   "outputs": [],
   "source": [
    "LOF = LocalOutlierFactor(n_neighbors = 5, algorithm = 'auto', contamination = 'auto', metric = 'euclidean') \n",
    "# OJO, usar un número de vecinos más cercano con números impares.\n",
    "\n",
    "Filtrado = LOF.fit_predict(Datos_Min_Max) # Se realiza la predicción de los datos atípicos\n",
    "\n",
    "NOF = LOF.negative_outlier_factor_ # Detecta los valores positivos y negativos (residuos). Si los valores son grandes, entonces son valores no atípicos y por lo general, son valores cercanos a -1.\n",
    "                                   # Si los valores son positivos y grandes y cercanos a 1, entonces son valores atípicos. La opción negative_outlier_dactor_ calcula dichos valores por \n",
    "                                   # la media de la relación entre la densidad local de una muestra y las de sus vecinos más cercanos.\n",
    "\n",
    "radio_outiler = (NOF.max() - NOF)/(NOF.max() - NOF.min()) # radio de detección de datos atípicos\n",
    "ground_truth = np.ones(len(Datos_Min_Max), dtype = int) \n",
    "# Se recomienda para luego comparar que datos es o no atípico (genera un vector de 1 o -1)\n",
    "n_errors = (Filtrado != ground_truth).sum() # número de datos atípicos"
   ]
  },
  {
   "cell_type": "code",
   "execution_count": 13,
   "metadata": {
    "colab": {
     "base_uri": "https://localhost:8080/"
    },
    "id": "tSaRDbMABfiv",
    "outputId": "5a6a1aaf-60e7-4cf0-fca2-336e0a10d17e",
    "tags": []
   },
   "outputs": [
    {
     "name": "stdout",
     "output_type": "stream",
     "text": [
      "Detección:  [1 1 1 ... 1 1 1]\n",
      "Factores atípicos negativos:  [-1.06320122 -0.94153861 -0.97905    ... -0.95174656 -1.14236594\n",
      " -0.94374553]\n",
      "Número de muestras o filas con datos atípicos:  2581\n"
     ]
    }
   ],
   "source": [
    "print(\"Detección: \", Filtrado)\n",
    "print(\"Factores atípicos negativos: \", NOF)\n",
    "print(\"Número de muestras o filas con datos atípicos: \", n_errors)"
   ]
  },
  {
   "cell_type": "markdown",
   "metadata": {
    "id": "H5j6xdwGCCgY"
   },
   "source": [
    "Observemos como se visualiza la identificación de los datos atípicos, analizando dos características de nuestra base de datos"
   ]
  },
  {
   "cell_type": "code",
   "execution_count": 14,
   "metadata": {
    "colab": {
     "base_uri": "https://localhost:8080/",
     "height": 602
    },
    "id": "XipzBTCCB81w",
    "outputId": "60fa712e-d6a0-420f-d829-63cd556fe6fb",
    "tags": []
   },
   "outputs": [
    {
     "data": {
      "image/png": "[encoded data removed]",
      "text/plain": [
       "<Figure size 1800x648 with 1 Axes>"
      ]
     },
     "metadata": {},
     "output_type": "display_data"
    }
   ],
   "source": [
    "plt.scatter(Datos_Min_Max['pctid'], Datos_Min_Max['x'], color='b', s=3, label='Datos')\n",
    "plt.scatter(Datos_Min_Max['pctid'], Datos_Min_Max['x'], s=1000 * radio_outiler, edgecolors='r', facecolors='none', label='valor outiler')\n",
    "plt.axis('tight')\n",
    "plt.xlabel('pctid')\n",
    "plt.ylabel('x')\n",
    "legend = plt.legend(loc = 'upper left')\n",
    "legend.legendHandles[0]._sizes = [10]\n",
    "legend.legendHandles[1]._sizes = [20]\n",
    "plt.show()"
   ]
  },
  {
   "cell_type": "markdown",
   "metadata": {
    "id": "KSxtMA_FDWc4"
   },
   "source": [
    "Ahora, vamos a eliminar las muestras o filas de la base de datos donde el algoritmo LOF identifico como datos atípicos"
   ]
  },
  {
   "cell_type": "code",
   "execution_count": 15,
   "metadata": {
    "colab": {
     "base_uri": "https://localhost:8080/",
     "height": 442
    },
    "id": "yDu7zrabDXo6",
    "outputId": "e5d4f3f1-847d-4e98-bde8-5edd2b19a4ed",
    "tags": []
   },
   "outputs": [
    {
     "name": "stdout",
     "output_type": "stream",
     "text": [
      "Número de muestras sin outilers: 150419\n"
     ]
    },
    {
     "data": {
      "text/html": [
       "<div>\n",
       "<style scoped>\n",
       "    .dataframe tbody tr th:only-of-type {\n",
       "        vertical-align: middle;\n",
       "    }\n",
       "\n",
       "    .dataframe tbody tr th {\n",
       "        vertical-align: top;\n",
       "    }\n",
       "\n",
       "    .dataframe thead th {\n",
       "        text-align: right;\n",
       "    }\n",
       "</style>\n",
       "<table border=\"1\" class=\"dataframe\">\n",
       "  <thead>\n",
       "    <tr style=\"text-align: right;\">\n",
       "      <th></th>\n",
       "      <th>wconfid</th>\n",
       "      <th>pctid</th>\n",
       "      <th>x</th>\n",
       "      <th>y</th>\n",
       "      <th>z</th>\n",
       "    </tr>\n",
       "  </thead>\n",
       "  <tbody>\n",
       "    <tr>\n",
       "      <th>0</th>\n",
       "      <td>0.0</td>\n",
       "      <td>0.0</td>\n",
       "      <td>0.562891</td>\n",
       "      <td>0.505751</td>\n",
       "      <td>0.480381</td>\n",
       "    </tr>\n",
       "    <tr>\n",
       "      <th>1</th>\n",
       "      <td>0.0</td>\n",
       "      <td>0.0</td>\n",
       "      <td>0.562891</td>\n",
       "      <td>0.497437</td>\n",
       "      <td>0.480381</td>\n",
       "    </tr>\n",
       "    <tr>\n",
       "      <th>2</th>\n",
       "      <td>0.0</td>\n",
       "      <td>0.0</td>\n",
       "      <td>0.560703</td>\n",
       "      <td>0.505751</td>\n",
       "      <td>0.480716</td>\n",
       "    </tr>\n",
       "    <tr>\n",
       "      <th>3</th>\n",
       "      <td>0.0</td>\n",
       "      <td>0.0</td>\n",
       "      <td>0.560953</td>\n",
       "      <td>0.499375</td>\n",
       "      <td>0.479378</td>\n",
       "    </tr>\n",
       "    <tr>\n",
       "      <th>4</th>\n",
       "      <td>0.0</td>\n",
       "      <td>0.0</td>\n",
       "      <td>0.562641</td>\n",
       "      <td>0.499125</td>\n",
       "      <td>0.480716</td>\n",
       "    </tr>\n",
       "    <tr>\n",
       "      <th>...</th>\n",
       "      <td>...</td>\n",
       "      <td>...</td>\n",
       "      <td>...</td>\n",
       "      <td>...</td>\n",
       "      <td>...</td>\n",
       "    </tr>\n",
       "    <tr>\n",
       "      <th>152995</th>\n",
       "      <td>1.0</td>\n",
       "      <td>1.0</td>\n",
       "      <td>0.565829</td>\n",
       "      <td>0.505751</td>\n",
       "      <td>0.468920</td>\n",
       "    </tr>\n",
       "    <tr>\n",
       "      <th>152996</th>\n",
       "      <td>1.0</td>\n",
       "      <td>1.0</td>\n",
       "      <td>0.557514</td>\n",
       "      <td>0.502563</td>\n",
       "      <td>0.480047</td>\n",
       "    </tr>\n",
       "    <tr>\n",
       "      <th>152997</th>\n",
       "      <td>1.0</td>\n",
       "      <td>1.0</td>\n",
       "      <td>0.572393</td>\n",
       "      <td>0.494249</td>\n",
       "      <td>0.471848</td>\n",
       "    </tr>\n",
       "    <tr>\n",
       "      <th>152998</th>\n",
       "      <td>1.0</td>\n",
       "      <td>1.0</td>\n",
       "      <td>0.558515</td>\n",
       "      <td>0.512816</td>\n",
       "      <td>0.476449</td>\n",
       "    </tr>\n",
       "    <tr>\n",
       "      <th>152999</th>\n",
       "      <td>1.0</td>\n",
       "      <td>1.0</td>\n",
       "      <td>0.575081</td>\n",
       "      <td>0.489122</td>\n",
       "      <td>0.499958</td>\n",
       "    </tr>\n",
       "  </tbody>\n",
       "</table>\n",
       "<p>150419 rows × 5 columns</p>\n",
       "</div>"
      ],
      "text/plain": [
       "        wconfid  pctid         x         y         z\n",
       "0           0.0    0.0  0.562891  0.505751  0.480381\n",
       "1           0.0    0.0  0.562891  0.497437  0.480381\n",
       "2           0.0    0.0  0.560703  0.505751  0.480716\n",
       "3           0.0    0.0  0.560953  0.499375  0.479378\n",
       "4           0.0    0.0  0.562641  0.499125  0.480716\n",
       "...         ...    ...       ...       ...       ...\n",
       "152995      1.0    1.0  0.565829  0.505751  0.468920\n",
       "152996      1.0    1.0  0.557514  0.502563  0.480047\n",
       "152997      1.0    1.0  0.572393  0.494249  0.471848\n",
       "152998      1.0    1.0  0.558515  0.512816  0.476449\n",
       "152999      1.0    1.0  0.575081  0.489122  0.499958\n",
       "\n",
       "[150419 rows x 5 columns]"
      ]
     },
     "metadata": {},
     "output_type": "display_data"
    }
   ],
   "source": [
    "pos = np.where(Filtrado == ground_truth) # Se identifican en que muestras o filas de nuestra base de datos hay presencia de datos atípicos\n",
    "pos = np.asarray(pos)\n",
    "pos = np.hstack(pos)\n",
    "datos_sin_outilers_LOF = Datos_Min_Max.loc[pos, :]\n",
    "print(\"Número de muestras sin outilers:\", datos_sin_outilers_LOF.shape[0])\n",
    "display(datos_sin_outilers_LOF)"
   ]
  },
  {
   "cell_type": "code",
   "execution_count": 16,
   "metadata": {
    "colab": {
     "base_uri": "https://localhost:8080/"
    },
    "id": "8E2VmRAXDiIm",
    "outputId": "03b2805a-ff4b-4e5b-e63f-884d1b560403",
    "tags": []
   },
   "outputs": [
    {
     "name": "stdout",
     "output_type": "stream",
     "text": [
      "(153000, 5)\n",
      "(150419, 5)\n"
     ]
    }
   ],
   "source": [
    "print(Datos_Min_Max.shape) # Tamaño de los datos originales\n",
    "print(datos_sin_outilers_LOF.shape) # Tamañno de los datos sin outliers "
   ]
  },
  {
   "cell_type": "markdown",
   "metadata": {
    "id": "ScJcShMyDtFx"
   },
   "source": [
    "¿Qué cambios se observan en el diagrama de cajas con la eliminación de datos atípicos basado en el algoritmo LOF?"
   ]
  },
  {
   "cell_type": "code",
   "execution_count": 17,
   "metadata": {
    "colab": {
     "base_uri": "https://localhost:8080/",
     "height": 499
    },
    "id": "BU-0AHOdDquF",
    "outputId": "44d794df-ab4f-4f21-bb2f-3102e96feed0",
    "tags": []
   },
   "outputs": [
    {
     "data": {
      "image/png": "[encoded data removed]",
      "text/plain": [
       "<Figure size 1800x648 with 1 Axes>"
      ]
     },
     "metadata": {},
     "output_type": "display_data"
    }
   ],
   "source": [
    "sns.set(rc={'figure.figsize':(25,9)}) # Tamaño de la figura\n",
    "sns.set(style=\"whitegrid\") # Estilo de la figura\n",
    "sns.boxplot(data = datos_sin_outilers_LOF, linewidth = 3, palette=\"Set2\", fliersize = 5) # Diagrama Box Plot\n",
    "sns.despine(left=True)"
   ]
  },
  {
   "cell_type": "markdown",
   "metadata": {
    "id": "WkS3ZPLxEimT"
   },
   "source": [
    "Para determinar si hay cambios considerables o no en la información de los datos, una estrategía es calcular el valor de la entropía en cada variable para comparar la información de los datos originales con respecto a la información de los datos con eliminación de datos atípicos (*Nota*: Solo se aplica con las características con datos cuantitativos):"
   ]
  },
  {
   "cell_type": "code",
   "execution_count": 18,
   "metadata": {
    "colab": {
     "base_uri": "https://localhost:8080/",
     "height": 143
    },
    "id": "-XgqMFC1E4QJ",
    "outputId": "1996fedb-5d00-4486-b97f-676291712c85"
   },
   "outputs": [
    {
     "data": {
      "text/html": [
       "<div>\n",
       "<style scoped>\n",
       "    .dataframe tbody tr th:only-of-type {\n",
       "        vertical-align: middle;\n",
       "    }\n",
       "\n",
       "    .dataframe tbody tr th {\n",
       "        vertical-align: top;\n",
       "    }\n",
       "\n",
       "    .dataframe thead th {\n",
       "        text-align: right;\n",
       "    }\n",
       "</style>\n",
       "<table border=\"1\" class=\"dataframe\">\n",
       "  <thead>\n",
       "    <tr style=\"text-align: right;\">\n",
       "      <th></th>\n",
       "      <th>Entropia Original</th>\n",
       "      <th>Entropia LOF</th>\n",
       "    </tr>\n",
       "  </thead>\n",
       "  <tbody>\n",
       "    <tr>\n",
       "      <th>x</th>\n",
       "      <td>0.321535</td>\n",
       "      <td>0.321538</td>\n",
       "    </tr>\n",
       "    <tr>\n",
       "      <th>y</th>\n",
       "      <td>0.344003</td>\n",
       "      <td>0.344028</td>\n",
       "    </tr>\n",
       "    <tr>\n",
       "      <th>z</th>\n",
       "      <td>0.350070</td>\n",
       "      <td>0.350089</td>\n",
       "    </tr>\n",
       "  </tbody>\n",
       "</table>\n",
       "</div>"
      ],
      "text/plain": [
       "   Entropia Original  Entropia LOF\n",
       "x           0.321535      0.321538\n",
       "y           0.344003      0.344028\n",
       "z           0.350070      0.350089"
      ]
     },
     "metadata": {},
     "output_type": "display_data"
    }
   ],
   "source": [
    "H_1 = entr(Datos_Min_Max[['x','y','z']])\n",
    "H_2 = entr(datos_sin_outilers_LOF[['x','y','z']])\n",
    "\n",
    "entropia_normalizada_1 = H_1.sum()/Datos_Min_Max.shape[0]\n",
    "entropia_normalizada_2 = H_2.sum()/datos_sin_outilers_LOF.shape[0]\n",
    "\n",
    "entropia_normalizada_1 = pd.DataFrame(entropia_normalizada_1, index = None, columns = ['Entropia Original'])\n",
    "entropia_normalizada_2 = pd.DataFrame(entropia_normalizada_2, index = None, columns = ['Entropia LOF'])\n",
    "Comparacion_entropias = pd.concat([entropia_normalizada_1, entropia_normalizada_2], axis = 1)\n",
    "\n",
    "display(Comparacion_entropias)"
   ]
  },
  {
   "cell_type": "markdown",
   "metadata": {
    "id": "65G7oHP5GnC5"
   },
   "source": [
    "Al comparar ambos casos, se concluye que el algoritmo LOF conservó la cantidad de información original de la base de datos."
   ]
  },
  {
   "cell_type": "markdown",
   "metadata": {
    "id": "QGifX5JiRXrw"
   },
   "source": [
    "## Rango intercuartil para detección de datos atípicos"
   ]
  },
  {
   "cell_type": "markdown",
   "metadata": {
    "id": "9C55NkNLRnXb"
   },
   "source": [
    "El método de rango intercuartil es un método de detección de datos atípicos a partir de la diferencia entre el primer (25%) y el tercer cuartil (75%), el cual permite cubrir el 50% de los datos. \n",
    "\n",
    "$IQR = Q3 - Q1$"
   ]
  },
  {
   "cell_type": "code",
   "execution_count": 19,
   "metadata": {
    "colab": {
     "base_uri": "https://localhost:8080/"
    },
    "id": "XI_ah9z7Rfeh",
    "outputId": "71a5be46-29c0-4b9b-c897-da454a2c55a8"
   },
   "outputs": [
    {
     "name": "stdout",
     "output_type": "stream",
     "text": [
      "[1.         0.5        0.00587647 0.01144036 0.00886807]\n"
     ]
    }
   ],
   "source": [
    "IQR = iqr(Datos_Min_Max, axis = 0, rng = (25, 75), interpolation = 'midpoint')\n",
    "print(IQR)"
   ]
  },
  {
   "cell_type": "markdown",
   "metadata": {
    "id": "v8WDjznOW_lK"
   },
   "source": [
    "Ahora, calculamos la *desviación cuartil*, el cual es la mitad del IQR:"
   ]
  },
  {
   "cell_type": "code",
   "execution_count": 20,
   "metadata": {
    "colab": {
     "base_uri": "https://localhost:8080/"
    },
    "id": "owDH2kLCW_JW",
    "outputId": "ca543130-70f5-4f37-b541-26f3e4c434af"
   },
   "outputs": [
    {
     "name": "stdout",
     "output_type": "stream",
     "text": [
      "[0.5        0.25       0.00293823 0.00572018 0.00443403]\n"
     ]
    }
   ],
   "source": [
    "DC = IQR/2\n",
    "print(DC)"
   ]
  },
  {
   "cell_type": "markdown",
   "metadata": {
    "id": "nd_z9cfvY3QJ"
   },
   "source": [
    "La desviación cuartil nos permite observar que región de los datos está por fuera del IQR (Se puede visualizar con el diagrama de cajas). Ahora, vamos a calcular los límites intercuatiles el cual es $Q1 - 1.5*IQR$ y $Q3 + 1.5*IQR$. El valor 1.5 permite establecer una distancia entre el cuartil Q1 y Q3 con respecto al extremo superior e inferior de una caja que representa los datos."
   ]
  },
  {
   "cell_type": "code",
   "execution_count": 21,
   "metadata": {
    "colab": {
     "base_uri": "https://localhost:8080/"
    },
    "id": "8mwvqN72XvDx",
    "outputId": "9f7a7f8d-cac4-46a2-96ea-14bc77b7ce18"
   },
   "outputs": [
    {
     "name": "stdout",
     "output_type": "stream",
     "text": [
      "Límites inferiores =  [-1.5        -0.5         0.5503876   0.47808827  0.46314733]\n",
      "\n",
      "\n",
      "Límites superiores =  [2.5        1.5        0.57389347 0.52384971 0.49861959]\n"
     ]
    },
    {
     "name": "stderr",
     "output_type": "stream",
     "text": [
      "C:\\Users\\Usuario\\AppData\\Local\\Temp\\ipykernel_4552\\1281563668.py:1: DeprecationWarning: the `interpolation=` argument to percentile was renamed to `method=`, which has additional options.\n",
      "Users of the modes 'nearest', 'lower', 'higher', or 'midpoint' are encouraged to review the method they used. (Deprecated NumPy 1.22)\n",
      "  Q1 = np.percentile(Datos_Min_Max, 25, axis = 0, interpolation = 'midpoint')\n",
      "C:\\Users\\Usuario\\AppData\\Local\\Temp\\ipykernel_4552\\1281563668.py:2: DeprecationWarning: the `interpolation=` argument to percentile was renamed to `method=`, which has additional options.\n",
      "Users of the modes 'nearest', 'lower', 'higher', or 'midpoint' are encouraged to review the method they used. (Deprecated NumPy 1.22)\n",
      "  Q3 = np.percentile(Datos_Min_Max, 75, axis = 0, interpolation = 'midpoint')\n"
     ]
    }
   ],
   "source": [
    "Q1 = np.percentile(Datos_Min_Max, 25, axis = 0, interpolation = 'midpoint')\n",
    "Q3 = np.percentile(Datos_Min_Max, 75, axis = 0, interpolation = 'midpoint')\n",
    "\n",
    "Min_Limite = Q1 - 1.5*IQR\n",
    "Max_Limite = Q3 + 1.5*IQR\n",
    "\n",
    "print(\"Límites inferiores = \", Min_Limite)\n",
    "print(\"\\n\")\n",
    "print(\"Límites superiores = \", Max_Limite)"
   ]
  },
  {
   "cell_type": "code",
   "execution_count": 22,
   "metadata": {
    "colab": {
     "base_uri": "https://localhost:8080/",
     "height": 496
    },
    "id": "Ic4wZw8tZ4c4",
    "outputId": "df7f8b23-4af5-44fa-9442-5bdc37faf72d"
   },
   "outputs": [
    {
     "data": {
      "image/png": "[encoded data removed]",
      "text/plain": [
       "<Figure size 1800x648 with 1 Axes>"
      ]
     },
     "metadata": {},
     "output_type": "display_data"
    }
   ],
   "source": [
    "sns.set(rc={'figure.figsize':(25,9)}) # Tamaño de la figura\n",
    "sns.set(style=\"whitegrid\") # Estilo de la figura\n",
    "sns.boxplot(data = Datos_Min_Max, linewidth = 3, palette=\"Set2\", fliersize = 5) # Diagrama Box Plot\n",
    "\n",
    "for m in range(len(IQR)):\n",
    "  plt.axhline(Min_Limite[m], color = 'r')\n",
    "  plt.axhline(Max_Limite[m], color = 'b')\n",
    "\n",
    "sns.despine(left=True)"
   ]
  },
  {
   "cell_type": "code",
   "execution_count": 23,
   "metadata": {
    "colab": {
     "base_uri": "https://localhost:8080/",
     "height": 206
    },
    "id": "Q_YmOQuZbvXb",
    "outputId": "dbd3cc48-f5ea-4277-8927-0f1197f07b7d"
   },
   "outputs": [
    {
     "data": {
      "text/html": [
       "<div>\n",
       "<style scoped>\n",
       "    .dataframe tbody tr th:only-of-type {\n",
       "        vertical-align: middle;\n",
       "    }\n",
       "\n",
       "    .dataframe tbody tr th {\n",
       "        vertical-align: top;\n",
       "    }\n",
       "\n",
       "    .dataframe thead th {\n",
       "        text-align: right;\n",
       "    }\n",
       "</style>\n",
       "<table border=\"1\" class=\"dataframe\">\n",
       "  <thead>\n",
       "    <tr style=\"text-align: right;\">\n",
       "      <th></th>\n",
       "      <th>Número de Datos Atípicos</th>\n",
       "    </tr>\n",
       "  </thead>\n",
       "  <tbody>\n",
       "    <tr>\n",
       "      <th>wconfid</th>\n",
       "      <td>0</td>\n",
       "    </tr>\n",
       "    <tr>\n",
       "      <th>pctid</th>\n",
       "      <td>0</td>\n",
       "    </tr>\n",
       "    <tr>\n",
       "      <th>x</th>\n",
       "      <td>38169</td>\n",
       "    </tr>\n",
       "    <tr>\n",
       "      <th>y</th>\n",
       "      <td>30135</td>\n",
       "    </tr>\n",
       "    <tr>\n",
       "      <th>z</th>\n",
       "      <td>43205</td>\n",
       "    </tr>\n",
       "  </tbody>\n",
       "</table>\n",
       "</div>"
      ],
      "text/plain": [
       "         Número de Datos Atípicos\n",
       "wconfid                         0\n",
       "pctid                           0\n",
       "x                           38169\n",
       "y                           30135\n",
       "z                           43205"
      ]
     },
     "metadata": {},
     "output_type": "display_data"
    }
   ],
   "source": [
    "datos_atipicos_wconfid = []\n",
    "datos_atipicos_pctid = []\n",
    "datos_atipicos_x = []\n",
    "datos_atipicos_y = []\n",
    "datos_atipicos_z = []\n",
    "\n",
    "pos_atipicos_wconfid = []\n",
    "pos_atipicos_pctid = []\n",
    "pos_atipicos_x = []\n",
    "pos_atipicos_y = []\n",
    "pos_atipicos_z = []\n",
    "\n",
    "for n in range(Datos_Min_Max.shape[0]):\n",
    "  if Datos_Min_Max.iloc[n,0] < Min_Limite[0] or Datos_Min_Max.iloc[n,0] > Max_Limite[0]:\n",
    "     datos_atipicos_wconfid.append(Datos_Min_Max.iloc[n,0])\n",
    "     pos_atipicos_wconfid.append(n)\n",
    "  if Datos_Min_Max.iloc[n,1] < Min_Limite[1] or Datos_Min_Max.iloc[n,1] > Max_Limite[1]:\n",
    "     datos_atipicos_pctid.append(Datos_Min_Max.iloc[n,1])\n",
    "     pos_atipicos_pctid.append(n)\n",
    "  if Datos_Min_Max.iloc[n,2] < Min_Limite[2] or Datos_Min_Max.iloc[n,2] > Max_Limite[2]:\n",
    "     datos_atipicos_x.append(Datos_Min_Max.iloc[n,2])\n",
    "     pos_atipicos_x.append(n)\n",
    "  if Datos_Min_Max.iloc[n,3] < Min_Limite[3] or Datos_Min_Max.iloc[n,3] > Max_Limite[3]:\n",
    "     datos_atipicos_y.append(Datos_Min_Max.iloc[n,3])\n",
    "     pos_atipicos_y.append(n)\n",
    "  if Datos_Min_Max.iloc[n,4] < Min_Limite[4] or Datos_Min_Max.iloc[n,4] > Max_Limite[4]:\n",
    "     datos_atipicos_z.append(Datos_Min_Max.iloc[n,4])\n",
    "     pos_atipicos_z.append(n)\n",
    "\n",
    "Numero_datos_atipicos = [len(datos_atipicos_wconfid), len(datos_atipicos_pctid), len(datos_atipicos_x), \n",
    "                         len(datos_atipicos_y), len(datos_atipicos_z)]\n",
    "\n",
    "reporte = pd.DataFrame(Numero_datos_atipicos, index = nombres, columns = ['Número de Datos Atípicos'])\n",
    "display(reporte)  "
   ]
  },
  {
   "cell_type": "markdown",
   "metadata": {
    "id": "Y-Jf8_UfeP4J"
   },
   "source": [
    "¿Cómo eliminar los datos atípicos si las columnas $x$, $y$, $z$, tienen diferentes número de datos atípicos? Una estrategía es localizar las posiciones donde coincidan los datos atípicos de las tres columnas mencionadas."
   ]
  },
  {
   "cell_type": "code",
   "execution_count": 24,
   "metadata": {
    "colab": {
     "base_uri": "https://localhost:8080/"
    },
    "id": "cwyvlWnEePX0",
    "outputId": "ae352f2c-4514-4e75-d725-8c5991922ef4"
   },
   "outputs": [
    {
     "name": "stdout",
     "output_type": "stream",
     "text": [
      "[32769, 98306, 32771, 98307, 98308, 98312, 32779, 98316, 98318, 98319, 32785, 98321, 98322, 32788, 98323, 98324, 98325, 32792, 98329, 98332, 98333, 32799, 98335, 98336, 98337, 98338, 98340, 32806, 98342, 98343, 98344, 32811, 98347, 98348, 98350, 98353, 98354, 98355, 98356, 98357, 98359, 98360, 98365, 98366, 98369, 98371, 98372, 98373, 98374, 98376, 98377, 98378, 32843, 98379, 98380, 98382, 98383, 32848, 98384, 32850, 98390, 98391, 98394, 98396, 32862, 98399, 98402, 98403, 98404, 98405, 32873, 32874, 98409, 98412, 98415, 98416, 98417, 98418, 98419, 98421, 98422, 98424, 98426, 98429, 32894, 98430, 32896, 32897, 98431, 32899, 98432, 98436, 98437, 98439, 98441, 98442, 98443, 98445, 98446, 98448, 98450, 98451, 98452, 98454, 98455, 32920, 98456, 32922, 98458, 98461, 32926, 98462, 98463, 32929, 98464, 98465, 98466, 98467, 98468, 98469, 98470, 32940, 98478, 98481, 98484, 32949, 98488, 32954, 98496, 98497, 32963, 98499, 98500, 98501, 98502, 98503, 98506, 32972, 98510, 98511, 98512, 98513, 98514, 98515, 32980, 98516, 32982, 98519, 98521, 32986, 98523, 32988, 98524, 98526, 32991, 98528, 98530, 98532, 98535, 98542, 98543, 98544, 33009, 33011, 98548, 33014, 98550, 98552, 33018, 98554, 33020, 98556, 33022, 98558, 98559, 98560, 98561, 98562, 33029, 33030, 98565, 98566, 98568, 98570, 33036, 98573, 98574, 98577, 98579, 98584, 98585, 98586, 33051, 98588, 98589, 33054, 98591, 98592, 98593, 33058, 98594, 33062, 98599, 98600, 98601, 33067, 98603, 98604, 98605, 33071, 98606, 98608, 98609, 98610, 98611, 98612, 33080, 98617, 98618, 98619, 33084, 98620, 98621, 98622, 33088, 33090, 98626, 98627, 98628, 98630, 98631, 98632, 33097, 33098, 98633, 98636, 33101, 33102, 33103, 98637, 98638, 98639, 98640, 98642, 33109, 33110, 98643, 98645, 33113, 33114, 98647, 33116, 33117, 98648, 33119, 33120, 98650, 98653, 98654, 33124, 98656, 98657, 33127, 98658, 98661, 33130, 98662, 98663, 98664, 98666, 98668, 98670, 33137, 33142, 33144, 33146, 98682, 98683, 33150, 98687, 33155, 33156, 98693, 98694, 33159, 98695, 98696, 33162, 98698, 98700, 33166, 98704, 98705, 98708, 98709, 33175, 98711, 98712, 98713, 98715, 98717, 33183, 98719, 98720, 33186, 33187, 33188, 33189, 98722, 98724, 33192, 98725, 98726, 98727, 98728, 98730, 33198, 33199, 98731, 33201, 33202, 33203, 98733, 33205, 33206, 98734, 98735, 98737, 98740, 33211, 33212, 98742, 98743, 98744, 33216, 33217, 98747, 33219, 98748, 98749, 33222, 98751, 98752, 98753, 33226, 98754, 98755, 98757, 98759, 33231, 98760, 33233, 98763, 98764, 33236, 98765, 98768, 98769, 98771, 33241, 98772, 98774, 33244, 33245, 98776, 98778, 98780, 98781, 98782, 98783, 33252, 98786, 98787, 98788, 33256, 98790, 98791, 33259, 98792, 98793, 33262, 33263, 98794, 98795, 98796, 33267, 98797, 33269, 33270, 33271, 98801, 98802, 98803, 33275, 98804, 98806, 33280, 98817, 98818, 98819, 98821, 33286, 33288, 98824, 33290, 33291, 98825, 98826, 98827, 33295, 33296, 98828, 33298, 98830, 98831, 33301, 98834, 98835, 33304, 33305, 98837, 33307, 98838, 98841, 98842, 33311, 98843, 98845, 98847, 98850, 98853, 33318, 33319, 98854, 98858, 98859, 33324, 98860, 33326, 98861, 33328, 98862, 33330, 98863, 33332, 98865, 98867, 98869, 33336, 33337, 33338, 98873, 33340, 33341, 98874, 98875, 33344, 33345, 98879, 98881, 33348, 98885, 98890, 33357, 98893, 98894, 98895, 98896, 98898, 33363, 98899, 98901, 33366, 33368, 33369, 33370, 33372, 98908, 98910, 98912, 98913, 33378, 33379, 98914, 98915, 33382, 33383, 98916, 98917, 33386, 98920, 33388, 33389, 33390, 98922, 98923, 98924, 98925, 33395, 98927, 33397, 98928, 98929, 98930, 98932, 33402, 33403, 33404, 33405, 98935, 33407, 33408, 98936, 33410, 98938, 98940, 98942, 98947, 98948, 33416, 33417, 33418, 98950, 33420, 98955, 98956, 33424, 98960, 98961, 98962, 98964, 98965, 98966, 33431, 33433, 98969, 33435, 98970, 33437, 98972, 98973, 98974, 33441, 33442, 98976, 98977, 98978, 98979, 98980, 33448, 98981, 33450, 98982, 33452, 98983, 33454, 98988, 98989, 98990, 98991, 33462, 98999, 99000, 99001, 33466, 33467, 99004, 99005, 33470, 33471, 99006, 33473, 99013, 33478, 33479, 99014, 33481, 99016, 33483, 99019, 33485, 99020, 33487, 33488, 33489, 99021, 99022, 33492, 99023, 33494, 99024, 33496, 99032, 99034, 99036, 33504, 33505, 99041, 33507, 33509, 33510, 99048, 33513, 33514, 33515, 99049, 33517, 99053, 99054, 33521, 99057, 99059, 33525, 99062, 99063, 33528, 99064, 33530, 33531, 99065, 99066, 99067, 33535, 33536, 99068, 33538, 99069, 99070, 99073, 33542, 99074, 99076, 33545, 99078, 99079, 99081, 99082, 99085, 99087, 99088, 33555, 33556, 99091, 99093, 99096, 33561, 33562, 99097, 33564, 99099, 33566, 99100, 33568, 99103, 99104, 33572, 99108, 99109, 99111, 33576, 99114, 33579, 99115, 99117, 99118, 33583, 99120, 99121, 33586, 33587, 99124, 33590, 33591, 99126, 33593, 99127, 99128, 99130, 99132, 99133, 99134, 99138, 99139, 33604, 99140, 33606, 99141, 33608, 99142, 99143, 33611, 99144, 99145, 33614, 33615, 99146, 99148, 99149, 33619, 99151, 99152, 33622, 99154, 33624, 99157, 99159, 33627, 33628, 99164, 99166, 33631, 99168, 33633, 99169, 99170, 99172, 99173, 99177, 99178, 99179, 33644, 99180, 99181, 99183, 99184, 99185, 99186, 33651, 99187, 33653, 99191, 33657, 99193, 99195, 33661, 33662, 99197, 99198, 99199, 99201, 99202, 99203, 99205, 33670, 99206, 99207, 99209, 33674, 33675, 33676, 33677, 99210, 33679, 99212, 33681, 99213, 33683, 99214, 99219, 33686, 33687, 33688, 99220, 99222, 99225, 33694, 33695, 99233, 33698, 99236, 33702, 33703, 99238, 99239, 33706, 99240, 33708, 33709, 99242, 33712, 33713, 33715, 99251, 99252, 99253, 33719, 99254, 33721, 99255, 33723, 99257, 99258, 99259, 99260, 99261, 33729, 99262, 33731, 99263, 99264, 99266, 99270, 33736, 99271, 99273, 99275, 33740, 99278, 99280, 99283, 33749, 33750, 33751, 99287, 99288, 33754, 33755, 33756, 33757, 99289, 33759, 33760, 99290, 99291, 99292, 99293, 99294, 99295, 33767, 99298, 99299, 99300, 99301, 99303, 99308, 33776, 99312, 99313, 99314, 33780, 99317, 33783, 33784, 33785, 99319, 99320, 99321, 99322, 99324, 99325, 33792, 99328, 33794, 33795, 99330, 99331, 99332, 99335, 99336, 33802, 99340, 33806, 33807, 99343, 99347, 33812, 99349, 33814, 33815, 99350, 99352, 33819, 99355, 99357, 33822, 99358, 33827, 99363, 99366, 33832, 99368, 99370, 33836, 33837, 99374, 99377, 33842, 99378, 99379, 33845, 99381, 99382, 33849, 99385, 33853, 99389, 99390, 99391, 99392, 33858, 99393, 99395, 33861, 99397, 99398, 99399, 99401, 33866, 99402, 99403, 99405, 33870, 99408, 99409, 33874, 99410, 33876, 33877, 33878, 99411, 99413, 33881, 99415, 33883, 99418, 99419, 99420, 33887, 99421, 99423, 99424, 99425, 33892, 99426, 99428, 33895, 99431, 99435, 33900, 33901, 99436, 33903, 99437, 99439, 99441, 99442, 99443, 33909, 99444, 99446, 33912, 33913, 99447, 33915, 99449, 33917, 99450, 99454, 99455, 33921, 99456, 99457, 99458, 99459, 99461, 33927, 99462, 33929, 99463, 99465, 99466, 99467, 33934, 33935, 99468, 99469, 33938, 99470, 99471, 99472, 99473, 99475, 99476, 33945, 33946, 99477, 99478, 99479, 99481, 33951, 99482, 99483, 33954, 33955, 99488, 99489, 99490, 99491, 99492, 33961, 33962, 33963, 99493, 99494, 33966, 99496, 99497, 33969, 99498, 33971, 99499, 99500, 99501, 99502, 99503, 99505, 99506, 33979, 33980, 33981, 99510, 99511, 99512, 33985, 99514, 99515, 99518, 99520, 33990, 99521, 99523, 33993, 99526, 99527, 33996, 99528, 33998, 99532, 99533, 34001, 34002, 99534, 99535, 99536, 99541, 34007, 34008, 34009, 34010, 34011, 99544, 99546, 99552, 99553, 99554, 99555, 34021, 99557, 34023, 34024, 99558, 99559, 99560, 34028, 34029, 99564, 99566, 99567, 99568, 99569, 99571, 99572, 99573, 34038, 34039, 34040, 34041, 99575, 34043, 99576, 99577, 99578, 99580, 34048, 99588, 99589, 34054, 99591, 99592, 34057, 99595, 34060, 99596, 34062, 99597, 99598, 99600, 99605, 99606, 99607, 34072, 99608, 34074, 99612, 34077, 99613, 99615, 99616, 99617, 99618, 99619, 34085, 99621, 34087, 34088, 99622, 99624, 99626, 99627, 34093, 99628, 34095, 99629, 99630, 99632, 99633, 34100, 34101, 34102, 99634, 34104, 99635, 99636, 99637, 99639, 34109, 99640, 99641, 99642, 34113, 99643, 99645, 99646, 99648, 99649, 99650, 99651, 99652, 99653, 99655, 99656, 34125, 99658, 99659, 99660, 99662, 99663, 34131, 34132, 99664, 34134, 99665, 99668, 34137, 99670, 34139, 99671, 99672, 99676, 99677, 99678, 99680, 99683, 99684, 99686, 34151, 99688, 99689, 99690, 99691, 34156, 99692, 99695, 34160, 99696, 99700, 99701, 34166, 34167, 34168, 99702, 99705, 34171, 99707, 99711, 34176, 99714, 99716, 34183, 34184, 34185, 34186, 99719, 34188, 99720, 34190, 99721, 99723, 99724, 99729, 99730, 99731, 34197, 34198, 99732, 99734, 34201, 99736, 99739, 99740, 99741, 34206, 34207, 99742, 99744, 99745, 99746, 99747, 34213, 99749, 34215, 99750, 99752, 34218, 99753, 34220, 99754, 99755, 99756, 34224, 99759, 99761, 99763, 99764, 34229, 99765, 99766, 99767, 34234, 34235, 34236, 99770, 99771, 34239, 99773, 34241, 34242, 99775, 99776, 34245, 99777, 99778, 99781, 99782, 99784, 34251, 34252, 99785, 99786, 99789, 99790, 99791, 99798, 99799, 99803, 99804, 34269, 99805, 34271, 34272, 34273, 99806, 34275, 99807, 99808, 99810, 34279, 99813, 99814, 99816, 34283, 99821, 99822, 99823, 34288, 34290, 99826, 99827, 99828, 34294, 99831, 34297, 99833, 99834, 34300, 34301, 34302, 34303, 99836, 34305, 99837, 34307, 99838, 34309, 99842, 34311, 99844, 99845, 34314, 99849, 99851, 99852, 34318, 99853, 99855, 99856, 99858, 99859, 34324, 99862, 99863, 99865, 34330, 99867, 99868, 34333, 99871, 99872, 34337, 99873, 34339, 99874, 34341, 99875, 99876, 99878, 99879, 99882, 34347, 34348, 99883, 99884, 34351, 99885, 34354, 99890, 34356, 99893, 34358, 34359, 34360, 99894, 99895, 99896, 34364, 99898, 99899, 99901, 34368, 99902, 99903, 99904, 99906, 34373, 99907, 99908, 99909, 34377, 34378, 99912, 99913, 34381, 99914, 99916, 34385, 99921, 99923, 34388, 99924, 34390, 99926, 99927, 99929, 99931, 99932, 99934, 34399, 99936, 99937, 99938, 99939, 34406, 34411, 99949, 99950, 99951, 99952, 99954, 99955, 99957, 99958, 34423, 34424, 99960, 34426, 99962, 34428, 99964, 34430, 99966, 34432, 99967, 99968, 99969, 99970, 99971, 99972, 99973, 34440, 99974, 99975, 99976, 34444, 99978, 99980, 99982, 99984, 34449, 99985, 34453, 99989, 99992, 34457, 99996, 34462, 99998, 100000, 100001, 34466, 100003, 34468, 100004, 100006, 100007, 100008, 100009, 34474, 100012, 100016, 100018, 34483, 100019, 100020, 100021, 34487, 100022, 100025, 100026, 34491, 100027, 100028, 100029, 34496, 34497, 100032, 100033, 100034, 34501, 34502, 100036, 100041, 34508, 100044, 100045, 100046, 100047, 34513, 100048, 34515, 100049, 34517, 100050, 100051, 100052, 34521, 34522, 100054, 100055, 34525, 100056, 100057, 34528, 100058, 100059, 100060, 34532, 34533, 34534, 100062, 34536, 100065, 100067, 100070, 100073, 100074, 34542, 100078, 34544, 100082, 34547, 100085, 34551, 100089, 100090, 34555, 34556, 100091, 100094, 34559, 100095, 34561, 100096, 34563, 34564, 100097, 34566, 100098, 34568, 100099, 100100, 100101, 34572, 34573, 100103, 34575, 34576, 100107, 100109, 100110, 34580, 34581, 100111, 34583, 100113, 34585, 34586, 100114, 100115, 34589, 34590, 100119, 100120, 100121, 34594, 100124, 100126, 100127, 100129, 100130, 100133, 100136, 34602, 100139, 100141, 34606, 100142, 100145, 100146, 100149, 34615, 100153, 34619, 100155, 100156, 34622, 34623, 100159, 34626, 34631, 34632, 100167, 100170, 34636, 100172, 100173, 34640, 100176, 34645, 100183, 100184, 100186, 34653, 100189, 34657, 34658, 100193, 100195, 34661, 100196, 100197, 34664, 100198, 34666, 100201, 100204, 100205, 34670, 100206, 100207, 34673, 34674, 100208, 100209, 34677, 100211, 100212, 100214, 100215, 100217, 100218, 100219, 34685, 100220, 34687, 100221, 100222, 100223, 34691, 100224, 34693, 100225, 100226, 34696, 100227, 100228, 100229, 100231, 100232, 100233, 100234, 34704, 100237, 100238, 34707, 34708, 100241, 34710, 34711, 100242, 100243, 100244, 100245, 100246, 34717, 100247, 100248, 100252, 34721, 34722, 100255, 100258, 34725, 100260, 100262, 100263, 100265, 34730, 100268, 34734, 100270, 100271, 100272, 34738, 100273, 100274, 100275, 34742, 100276, 100277, 34745, 100278, 100279, 100280, 100281, 34750, 34751, 100282, 100283, 100284, 100290, 100291, 100293, 34759, 34762, 100298, 34764, 100299, 100300, 34767, 100302, 100304, 34770, 100306, 34772, 100309, 100311, 34776, 100312, 100314, 34779, 100315, 100316, 100317, 100318, 34784, 34785, 100319, 34787, 100320, 34789, 100321, 100322, 34792, 34793, 100323, 100324, 100330, 100332, 34798, 100334, 100335, 100336, 100337, 100338, 34804, 100339, 34806, 34807, 100342, 100345, 34810, 34811, 100347, 34813, 100348, 100349, 100352, 34817, 34819, 100355, 100356, 34823, 100361, 34828, 34831, 34833, 34834, 100369, 34836, 100370, 100374, 100375, 34840, 100376, 100377, 34843, 100378, 100380, 34846, 100382, 100383, 100385, 34850, 34851, 100386, 34853, 100388, 100389, 100390, 34857, 100391, 100392, 34860, 100393, 100396, 100397, 100399, 34865, 100400, 100403, 34871, 100407, 100409, 34874, 100411, 34877, 34878, 100413, 100414, 34881, 100416, 34883, 100417, 100418, 100419, 100420, 100421, 100425, 34891, 100427, 100428, 100430, 100431, 100432, 100433, 100435, 34900, 100436, 100438, 34903, 34904, 100440, 100441, 100442, 100443, 34909, 100444, 100446, 100447, 34913, 100448, 100450, 100453, 100454, 100456, 34921, 100457, 100459, 100461, 34926, 100462, 100463, 100464, 100466, 34931, 100468, 100469, 100470, 100472, 100475, 100476, 100477, 34943, 100479, 100480, 100481, 100482, 100485, 100489, 100492, 100493, 100495, 100497, 100498, 100501, 100504, 34970, 34971, 34972, 100506, 100507, 100509, 100511, 34978, 100516, 100518, 100520, 100521, 100523, 100524, 34989, 34990, 100525, 34992, 100527, 34994, 34995, 100528, 100533, 100534, 100537, 100538, 100540, 100541, 100542, 100544, 100545, 35012, 100550, 35016, 100555, 100557, 100558, 35023, 35024, 100560, 35026, 100562, 100563, 100564, 100565, 100566, 35032, 100567, 100568, 100569, 100570, 100571, 35038, 100573, 35040, 100576, 100577, 35043, 100578, 100579, 35046, 100580, 100581, 100582, 35050, 100583, 100584, 100585, 100586, 100587, 35056, 100588, 35058, 100589, 100590, 100591, 100593, 100595, 100596, 100597, 100598, 100599, 100600, 100601, 100603, 100604, 35072, 100605, 35074, 35075, 100606, 35077, 100608, 35079, 35080, 100609, 35082, 100610, 100612, 100613, 100616, 100618, 100620, 35089, 100621, 100622, 35092, 100624, 35094, 100625, 100626, 100627, 100629, 100630, 35100, 35101, 100631, 100635, 35104, 100636, 100641, 100642, 100643, 100644, 100645, 35111, 100648, 100650, 100651, 100652, 35117, 100655, 100657, 35123, 100660, 35125, 35126, 100661, 100662, 35131, 100668, 100669, 35135, 100673, 100675, 35140, 100679, 100680, 100682, 100683, 100684, 35151, 100687, 100688, 100689, 100690, 35156, 35157, 100693, 35159, 100696, 100697, 100698, 100702, 35167, 100703, 100705, 100708, 35174, 35175, 100711, 100714, 35179, 100716, 100717, 100718, 100719, 35184, 100720, 100723, 100725, 100726, 35191, 35193, 35194, 100729, 100730, 100731, 35198, 35199, 100734, 100736, 35202, 100737, 100739, 100740, 35208, 35209, 100745, 35211, 100747, 100748, 100749, 100750, 100752, 100753, 35218, 100754, 35220, 100755, 100756, 35223, 100757, 35225, 100758, 100760, 35228, 100761, 100762, 100763, 100764, 100766, 100768, 100770, 35236, 100771, 100772, 100773, 100774, 100775, 35242, 35243, 100776, 35245, 100777, 100778, 100779, 35249, 100780, 100781, 35252, 35253, 100786, 100788, 35256, 100790, 100794, 100795, 35260, 35261, 35262, 100796, 100797, 100800, 100801, 100803, 35269, 35270, 35271, 100808, 35277, 100813, 100815, 35281, 100817, 35283, 100818, 100819, 100821, 35287, 100826, 100827, 100828, 35293, 100831, 100832, 35298, 100837, 100839, 35304, 35305, 100840, 100843, 35308, 100844, 100845, 100846, 100847, 35313, 100848, 100850, 35317, 35318, 100854, 100855, 100856, 100857, 35324, 35325, 100860, 100861, 100863, 35330, 100867, 100868, 100870, 100871, 35336, 100873, 35338, 35339, 35341, 100877, 35344, 100880, 100882, 100883, 35348, 100884, 100885, 100887, 100889, 100890, 35355, 100891, 100893, 35358, 100895, 35360, 35364, 100903, 100907, 35372, 100910, 100911, 100912, 35377, 100915, 100916, 100917, 100919, 35384, 35385, 100922, 100923, 35388, 100925, 35390, 100927, 100929, 35394, 100932, 100933, 35400, 100937, 100938, 100939, 100940, 100942, 35407, 100943, 100944, 100945, 35411, 100947, 100948, 100950, 100953, 35418, 35419, 100954, 100956, 100957, 100959, 35424, 100960, 100961, 100962, 35428, 100964, 100965, 100967, 100969, 100970, 35436, 35437, 100972, 100973, 100975, 35441, 100979, 35445, 100981, 100983, 35449, 100985, 35451, 100990, 35456, 100993, 35458, 100995, 35461, 35462, 100999, 35466, 101003, 101005, 35470, 101007, 101008, 101009, 101010, 35475, 35476, 101012, 35479, 101015, 101017, 101019, 101020, 35487, 35488, 101024, 35490, 101025, 35492, 101026, 101028, 101030, 35496, 101031, 101033, 101034, 101036, 101037, 101038, 101039, 35504, 35505, 101041, 35507, 101042, 35509, 101043, 35513, 101050, 101052, 101053, 101054, 35519, 101055, 35521, 35522, 101057, 101058, 101060, 35526, 101061, 101062, 101063, 35530, 101064, 101065, 101068, 35534, 101069, 101070, 35537, 35538, 101071, 101073, 101074, 101075, 101076, 101078, 101080, 35546, 35547, 101086, 101088, 35553, 101090, 35555, 35556, 35558, 101095, 101096, 101098, 35563, 35564, 101100, 101101, 101103, 101106, 35572, 35573, 101111, 35577, 101113, 101114, 101115, 101116, 35582, 101117, 101118, 35585, 35586, 101120, 101121, 35589, 101123, 101125, 101126, 35593, 35594, 101129, 35596, 101131, 101132, 35599, 101133, 101135, 35602, 101137, 101138, 101140, 101141, 101142, 35608, 101144, 101146, 101147, 35613, 101149, 35615, 101150, 101151, 101152, 101153, 101157, 101158, 35623, 35624, 101159, 35626, 101162, 35628, 35629, 101163, 101166, 101167, 35633, 101168, 101171, 101173, 35638, 101175, 35640, 35641, 101177, 35643, 101179, 101180, 101181, 101182, 101183, 35650, 101186, 101188, 101189, 35655, 35656, 101193, 101194, 35660, 101196, 101197, 101198, 101199, 101202, 101203, 101205, 35672, 35673, 35674, 101208, 101210, 101211, 35679, 101216, 101217, 35683, 35687, 101223, 35691, 101228, 101230, 35695, 101233, 35698, 35699, 101234, 35701, 101237, 101239, 35705, 35706, 101241, 101243, 101245, 35712, 35713, 101249, 35715, 101251, 101253, 101254, 35721, 101257, 101258, 101260, 35725, 101261, 101262, 35728, 101266, 101267, 101272, 101273, 101274, 101275, 35740, 35741, 35742, 35743, 101276, 35745, 101277, 35747, 35748, 101278, 35750, 101279, 101280, 101282, 101284, 101288, 101289, 101290, 101291, 35759, 35760, 101292, 35762, 101296, 101297, 101298, 101302, 101303, 101304, 101305, 101307, 35772, 35773, 101308, 35775, 101310, 101311, 35778, 101312, 101313, 101314, 101315, 101320, 101322, 35787, 35788, 35789, 101323, 101324, 101325, 101326, 101327, 101328, 101329, 101331, 35798, 35799, 101332, 101333, 101334, 101336, 101337, 35805, 35806, 35807, 101339, 35809, 101340, 35811, 101342, 101344, 35814, 35815, 101345, 101346, 101347, 101348, 98300, 35821, 101349, 35823, 101351, 101354, 101355, 101357, 35828, 101360, 101362, 101364, 35832, 101365, 101368, 101370, 101371, 101373, 35838, 101376, 101379, 35844, 35845, 35848, 35849, 101387, 101388, 101390, 35856, 35857, 35858, 101395, 35860, 101396, 35862, 101397, 101398, 35865, 35866, 101400, 101401, 35869, 101402, 101403, 35872, 35873, 35874, 35875, 101404, 101405, 101407, 101408, 101409, 101410, 101413, 101414, 101416, 35885, 101417, 35887, 101419, 101422, 101423, 101425, 35892, 35893, 101426, 35895, 101427, 35897, 101429, 101430, 101431, 101432, 101433, 101434, 35904, 35905, 35906, 35907, 101435, 101436, 101437, 101438, 101441, 35913, 101443, 101445, 101446, 101447, 35919, 35920, 101457, 35922, 101458, 101460, 101461, 101462, 101463, 35929, 101465, 101467, 101469, 101471, 35936, 35937, 35938, 35939, 35940, 101473, 101476, 35943, 101477, 101478, 101480, 101481, 101482, 35949, 35950, 101486, 35952, 35953, 101487, 101488, 101489, 35957, 35958, 101490, 35960, 35961, 101493, 101494, 35964, 35965, 101495, 101496, 101498, 101499, 101503, 35971, 101504, 35973, 101506, 35975, 101507, 101512, 101513, 101515, 101516, 35981, 101517, 101518, 101519, 35985, 35986, 101521, 35988, 101522, 35990, 101523, 101524, 101526, 101527, 101528, 101529, 101531, 35998, 35999, 101532, 36001, 101533, 101534, 101535, 101536, 101539, 101540, 36008, 36009, 101542, 101543, 36012, 36013, 36014, 101544, 101545, 101546, 101547, 36019, 101550, 101555, 101558, 101559, 101563, 36030, 101566, 101568, 36033, 101569, 36035, 101571, 36038, 101574, 101575, 101576, 36042, 101577, 101578, 101580, 36046, 101581, 101583, 101585, 101586, 101588, 36054, 101591, 101592, 101593, 36058, 101594, 36060, 36061, 36062, 36063, 101595, 101596, 36066, 36067, 101597, 36069, 101598, 101599, 101602, 101604, 36074, 36075, 101606, 101609, 36078, 101612, 36080, 36081, 36082, 101615, 36084, 101616, 36086, 36087, 36088, 101617, 36090, 36091, 101620, 101621, 36094, 36095, 101623, 101624, 101625, 101626, 101631, 36101, 36102, 36103, 101633, 101634, 36106, 101635, 101638, 36109, 36110, 101639, 101643, 101645, 36114, 101647, 36116, 101648, 101649, 101651, 101654, 101655, 36122, 101656, 101657, 101659, 36126, 101660, 36128, 101661, 101662, 36131, 101663, 36133, 36136, 101673, 36138, 36140, 101677, 101678, 101680, 101681, 36146, 101683, 36148, 101685, 36150, 101686, 36152, 101687, 101688, 36155, 101689, 101690, 36158, 101691, 36160, 101692, 36162, 36163, 36164, 101693, 36166, 36167, 101695, 101698, 36170, 101702, 101703, 101704, 101705, 36175, 101706, 36177, 101707, 101709, 101710, 101711, 101712, 36183, 101717, 36185, 36186, 36187, 101718, 36189, 36190, 101719, 36192, 36193, 101721, 101722, 36196, 36197, 101725, 36199, 36200, 36201, 36202, 101730, 36204, 36205, 36206, 101737, 101738, 101739, 101740, 36211, 101745, 36213, 101750, 101751, 101752, 36218, 36219, 101755, 36221, 36222, 36223, 36224, 36227, 101764, 36229, 101766, 101768, 36233, 101769, 36235, 36236, 36237, 101770, 36239, 36240, 101771, 101773, 36243, 101774, 101777, 101778, 36247, 36248, 36249, 101779, 36251, 36252, 101780, 101781, 101783, 36256, 36257, 36258, 36259, 36260, 36261, 36262, 101790, 101793, 36265, 36266, 36267, 36268, 36269, 36270, 36271, 36272, 36273, 36274, 36275, 101803, 36277, 36278, 101806, 101809, 36281, 36282, 101811, 36284, 101815, 36286, 36287, 36288, 36289, 101817, 101820, 101822, 36293, 101823, 101824, 36296, 101827, 101828, 101829, 36300, 101831, 36302, 36303, 36304, 101836, 36306, 101837, 36308, 36309, 36310, 101839, 36312, 101842, 36314, 36315, 36316, 101845, 101846, 101855, 36320, 101857, 36322, 36323, 36324, 36325, 36326, 101862, 36328, 36329, 36330, 101867, 36332, 36333, 36336, 36338, 101874, 36340, 36341, 36342, 101876, 101877, 36345, 101879, 101880, 101882, 36349, 36350, 101884, 36352, 36353, 36354, 36355, 36356, 36357, 101885, 36359, 101887, 36361, 36362, 36363, 101891, 36365, 101893, 36367, 36368, 101899, 36370, 36371, 101900, 36373, 36374, 36375, 101903, 101904, 101905, 36379, 36380, 36381, 101909, 36383, 101911, 36385, 101913, 36387, 101915, 36389, 101917, 36391, 101919, 101921, 101923, 101926, 101927, 36397, 36398, 36399, 101930, 36401, 101931, 36403, 36404, 101934, 101935, 101937, 36408, 101938, 36410, 101940, 36412, 36413, 36414, 101942, 101945, 101947, 36418, 101948, 36420, 36421, 101950, 36423, 36424, 101953, 36426, 36427, 101955, 101957, 36430, 36431, 36432, 101963, 101964, 36435, 36436, 101965, 101972, 36439, 36440, 101976, 36442, 36443, 36444, 101980, 36446, 101982, 36448, 101983, 36450, 36451, 36452, 36453, 36454, 36455, 101984, 36457, 36458, 36459, 101987, 36461, 36462, 101990, 101991, 36465, 36466, 101994, 101997, 36470, 36472, 36474, 36476, 36481, 36482, 36484, 36485, 36486, 36488, 36490, 36492, 36494, 36496, 36499, 36500, 36501, 36502, 36505, 36506, 36507, 36511, 36513, 36514, 36516, 36519, 36520, 36524, 36525, 36526, 36527, 36528, 36530, 36531, 36532, 36537, 36539, 36540, 36541, 36545, 36547, 36549, 36555, 36557, 36559, 36563, 36566, 36567, 36571, 36573, 36576, 36579, 36582, 36583, 36585, 36587, 36590, 36593, 36597, 36599, 36603, 36604, 36605, 36606, 36607, 36611, 36617, 36618, 36620, 36622, 36623, 36624, 36626, 36627, 36628, 36629, 36630, 36632, 36634, 36635, 36638, 36640, 36648, 36650, 36652, 36653, 36654, 36655, 36656, 36657, 36658, 36659, 36660, 36662, 36664, 36666, 36668, 36669, 36672, 36676, 36677, 36678, 36679, 36680, 36681, 36684, 36685, 36686, 36687, 36688, 36691, 36692, 36695, 36696, 36700, 36703, 36707, 36708, 36710, 36711, 36715, 36716, 36718, 36719, 36720, 36722, 36726, 36729, 36733, 36735, 36736, 36739, 36740, 36744, 36748, 36752, 36754, 36755, 36756, 36759, 36760, 36764, 36765, 36766, 36768, 36772, 36776, 36777, 36780, 36782, 36783, 36786, 36787, 36788, 36789, 36790, 36791, 36793, 36794, 36795, 36797, 36798, 36800, 36803, 36807, 36810, 36812, 36816, 36818, 36819, 36820, 36822, 36824, 36826, 36828, 36830, 36831, 36836, 36840, 36846, 36852, 36858, 36860, 36864, 36865, 36869, 36870, 36872, 36874, 36875, 36882, 36883, 36887, 36888, 36889, 36891, 36892, 36894, 36896, 36899, 36901, 36910, 36911, 36913, 36919, 36921, 36922, 36924, 36935, 36940, 36942, 36943, 36944, 36947, 36951, 36955, 36957, 36958, 36965, 36968, 36969, 36971, 36973, 36976, 36977, 36978, 36979, 36985, 36987, 36988, 36989, 36990, 36991, 36992, 36994, 36995, 36996, 36998, 36999, 37000, 37002, 37004, 37006, 37007, 37010, 37011, 37012, 37013, 37020, 37022, 37024, 37026, 37030, 37031, 37034, 37040, 37042, 37043, 37044, 37047, 37051, 37054, 37057, 37060, 37062, 37063, 37064, 37066, 37068, 37069, 37072, 37074, 37076, 37077, 37080, 37081, 37084, 37085, 37089, 37100, 37101, 37105, 37109, 37110, 37114, 37115, 37117, 37122, 37125, 37126, 37129, 37132, 37134, 37135, 37136, 37137, 37139, 37143, 37144, 37145, 37146, 37148, 37149, 37151, 37155, 37156, 37157, 37160, 37163, 37165, 37169, 37170, 37171, 37172, 37174, 37175, 37181, 37183, 37185, 37187, 37188, 37191, 37192, 37193, 37194, 37195, 37199, 37203, 37205, 37207, 37209, 37211, 37213, 37215, 37222, 37223, 37224, 37226, 37228, 37229, 37231, 37232, 37233, 37235, 37236, 37237, 37239, 37240, 37241, 37244, 37245, 37246, 37247, 37248, 37250, 37252, 37253, 37255, 37256, 37257, 37259, 37261, 37263, 37265, 37267, 37269, 37271, 37272, 37274, 37277, 37281, 37283, 37285, 37287, 37288, 37289, 37292, 37295, 37297, 37303, 37305, 37306, 37307, 37308, 37310, 37313, 37315, 37316, 37317, 37321, 37323, 37324, 37325, 37328, 37332, 37334, 37335, 37336, 37337, 37338, 37340, 37341, 37342, 37344, 37345, 37347, 37349, 37350, 37351, 37352, 37353, 37354, 37355, 37356, 37357, 37360, 37367, 37368, 37369, 37370, 37371, 37372, 37375, 37378, 37379, 37383, 37384, 37385, 37390, 37393, 37395, 37396, 37399, 37400, 37404, 37406, 37407, 37408, 37409, 37410, 37411, 37415, 37416, 37419, 37421, 37423, 37425, 37427, 37428, 37429, 37431, 37432, 37433, 37435, 37437, 37439, 37442, 37443, 37445, 37446, 37449, 37451, 37453, 37455, 37457, 37459, 37461, 37462, 37463, 37465, 37466, 37467, 37471, 37473, 37476, 37477, 37478, 37481, 37482, 37485, 37489, 37490, 37493, 37495, 37497, 37498, 37506, 37507, 37510, 37511, 37514, 37515, 37517, 37518, 37519, 37521, 37522, 37523, 37525, 37527, 37531, 37539, 37541, 37547, 37550, 37551, 37555, 37557, 37559, 37561, 37562, 37563, 37566, 37577, 37579, 37581, 37585, 37587, 37589, 37591, 37593, 37595, 37597, 37599, 37602, 37603, 37604, 37605, 37606, 37611, 37613, 37615, 37617, 37618, 37619, 37622, 37626, 37632, 37634, 37636, 37638, 37639, 37643, 37647, 37650, 37653, 37655, 37661, 37662, 37669, 37678, 37681, 37682, 37685, 37686, 37689, 37690, 37697, 37705, 37708, 37712, 37714, 37720, 37724, 37726, 37728, 37729, 37730, 37734, 37738, 37740, 37742, 37743, 37744, 37747, 37748, 37752, 37754, 37755, 37756, 37758, 37760, 37761, 37764, 37765, 37766, 37767, 37770, 37772, 37774, 37782, 37785, 37787, 37790, 37791, 37795, 37796, 37797, 37798, 37799, 37801, 37802, 37803, 37805, 37807, 37809, 37811, 37812, 37813, 37815, 37819, 37821, 37822, 37823, 37824, 37825, 37826, 37830, 37831, 37832, 37833, 37836, 37841, 37844, 37846, 37850, 37851, 37852, 37854, 37855, 37856, 37857, 37858, 37860, 37862, 37863, 37864, 37865, 37867, 37868, 37869, 37873, 37874, 37876, 37878, 37879, 37882, 37884, 37886, 37888, 37892, 37894, 37896, 37898, 37902, 37904, 37906, 37910, 37911, 37912, 37919, 37921, 37923, 37925, 37927, 37929, 37933, 37935, 37936, 37937, 37938, 37942, 37943, 37947, 37949, 37952, 37953, 37954, 37955, 37956, 37958, 37960, 37962, 37963, 37964, 37968, 37970, 37971, 37972, 37975, 37978, 37982, 37984, 37987, 37988, 37989, 37991, 37992, 37996, 37997, 37998, 37999, 38000, 38002, 38003, 38004, 38005, 38007, 38011, 38012, 38013, 38014, 38020, 38021, 38024, 38025, 38026, 38030, 38032, 38033, 38034, 38037, 38038, 38040, 38042, 38046, 38049, 38053, 38057, 38059, 38062, 38064, 38066, 38068, 38070, 38073, 38077, 38082, 38084, 38088, 38090, 38092, 38094, 38096, 38097, 38098, 38100, 38101, 38107, 38110, 38111, 38114, 38115, 38116, 38117, 38124, 38126, 38127, 38129, 38132, 38135, 38136, 38139, 38140, 38142, 38147, 38149, 38152, 38153, 38156, 38158, 38160, 38161, 38162, 38166, 38172, 38173, 38176, 38179, 38181, 38182, 38183, 38185, 38187, 38188, 38193, 38194, 38195, 38197, 38202, 38205, 38207, 38209, 38210, 38213, 38215, 38217, 38219, 38221, 38223, 38225, 38226, 38227, 38229, 38231, 38233, 38234, 38235, 38237, 38239, 38240, 38241, 38245, 38247, 38248, 38249, 38252, 38253, 38254, 38255, 38258, 38259, 38260, 38261, 38263, 38265, 38266, 38267, 38271, 38273, 38274, 38279, 38281, 38282, 38285, 38287, 38288, 38289, 38291, 38293, 38294, 38295, 38303, 38304, 38308, 38309, 38310, 38311, 38312, 38313, 38319, 38320, 38321, 38322, 38323, 38324, 38325, 38326, 38327, 38328, 38330, 38332, 38334, 38335, 38338, 38339, 38343, 38345, 38351, 38353, 38355, 38356, 38359, 38361, 38363, 38365, 38367, 38370, 38371, 38372, 38375, 38376, 38377, 38381, 38382, 38385, 38389, 38390, 38393, 38394, 38395, 38398, 38399, 38401, 38405, 38406, 38407, 38409, 38410, 38412, 38414, 38415, 38418, 38419, 38420, 38421, 38424, 38426, 38427, 38428, 38431, 38434, 38439, 38441, 38442, 38443, 38445, 38446, 38449, 38451, 38454, 38455, 38456, 38458, 38463, 38464, 38465, 38466, 38468, 38470, 38471, 38472, 38473, 38474, 38476, 38477, 38478, 38480, 38484, 38485, 38486, 38489, 38490, 38491, 38492, 38493, 38498, 38501, 38503, 38504, 38505, 38506, 38507, 38509, 38510, 38514, 38515, 38519, 38523, 38527, 38529, 38531, 38536, 38537, 38539, 38540, 38547, 38549, 38552, 38553, 38555, 38556, 38557, 38561, 38565, 38568, 38569, 38570, 38573, 38577, 38581, 38588, 38589, 38592, 38593, 38597, 38601, 38603, 38607, 38608, 38611, 38613, 38615, 38619, 38621, 38623, 38630, 38634, 38635, 38637, 38639, 38641, 38643, 38646, 38647, 38653, 38654, 38655, 38659, 38660, 38661, 38666, 38667, 38668, 38669, 38670, 38671, 38672, 38675, 38676, 38677, 38680, 38682, 38688, 38689, 38692, 38693, 38694, 38695, 38696, 38697, 38699, 38700, 38702, 38704, 38705, 38715, 38717, 38719, 38721, 38722, 38723, 38727, 38728, 38731, 38733, 38737, 38738, 38740, 38750, 38751, 38752, 38754, 38755, 38756, 38758, 38760, 38764, 38765, 38767, 38773, 38774, 38778, 38779, 38780, 38781, 38783, 38784, 38786, 38789, 38790, 38792, 38793, 38795, 38798, 38802, 38803, 38806, 38808, 38809, 38813, 38814, 38817, 38818, 38821, 38822, 38824, 38825, 38828, 38829, 38837, 38842, 38845, 38846, 38847, 38848, 38849, 38852, 38853, 38861, 38862, 38864, 38865, 38873, 38877, 38879, 38881, 38883, 38885, 38887, 38889, 38891, 38894, 38897, 38898, 38899, 38901, 38902, 38905, 38906, 38908, 38913, 38915, 38916, 38917, 38918, 38919, 38920, 38925, 38928, 38931, 38935, 38936, 38937, 38940, 38941, 38944, 38946, 38948, 38950, 38952, 38953, 38954, 38956, 38957, 38958, 38959, 38960, 38961, 38962, 38963, 38965, 38968, 38972, 38974, 38976, 38979, 38980, 38981, 38982, 38983, 38984, 38986, 38991, 38992, 38995, 38998, 39002, 39004, 39005, 39007, 39008, 39011, 39012, 39013, 39020, 39021, 39022, 39024, 39026, 39028, 39030, 39032, 39033, 39034, 39035, 39036, 39037, 39041, 39044, 39048, 39049, 39050, 39051, 39052, 39055, 39057, 39059, 39060, 39061, 39063, 39065, 39066, 39067, 39068, 39070, 39074, 39075, 39076, 39077, 39078, 39080, 39081, 39083, 39087, 39088, 39089, 39090, 39093, 39096, 39097, 39101, 39104, 39106, 39107, 39110, 39112, 39113, 39114, 39116, 39117, 39118, 39119, 39120, 39123, 39125, 39127, 39129, 39130, 39132, 39133, 39134, 39136, 39142, 39143, 39146, 39147, 39149, 39150, 39151, 39154, 39155, 39156, 39157, 39158, 39159, 39160, 39162, 39164, 39166, 39168, 39172, 39173, 39178, 39179, 39181, 39184, 39185, 39187, 39191, 39193, 39194, 39196, 39197, 39198, 39201, 39202, 39203, 39204, 39205, 39207, 39208, 39209, 39212, 39214, 39216, 39218, 39219, 39220, 39221, 39222, 39224, 39225, 39233, 39234, 39235, 39236, 39237, 39239, 39241, 39242, 39245, 39248, 39250, 39251, 39252, 39254, 39256, 39257, 39258, 39259, 39261, 39262, 39264, 39265, 39268, 39269, 39271, 39272, 39273, 39275, 39277, 39278, 39279, 39280, 39281, 39283, 39284, 39285, 39289, 39291, 39293, 39294, 39296, 39297, 39299, 39302, 39305, 39307, 39312, 39314, 39315, 39317, 39319, 39320, 39322, 39323, 39324, 39325, 39327, 39328, 39329, 39330, 39332, 39334, 39335, 39336, 39338, 39339, 39342, 39343, 39345, 39346, 39348, 39351, 39353, 39354, 39355, 39356, 39357, 39362, 39364, 39365, 39367, 39369, 39371, 39373, 39374, 39376, 39382, 39383, 39384, 39385, 39388, 39389, 39391, 39393, 39394, 39395, 39397, 39400, 39401, 39402, 39403, 39404, 39405, 39406, 39407, 39408, 39410, 39415, 39416, 39417, 39418, 39420, 39423, 39424, 39425, 39426, 39428, 39429, 39430, 39433, 39434, 39435, 39438, 39440, 39442, 39443, 39444, 39445, 39446, 39448, 39449, 39450, 39452, 39454, 39455, 39456, 39457, 39458, 39460, 39464, 39466, 39467, 39471, 39472, 39474, 39475, 39477, 39479, 39481, 39482, 39483, 39484, 39485, 39486, 39489, 39491, 39492, 39493, 39494, 39496, 39497, 39499, 39500, 39501, 39502, 39503, 39504, 39505, 39507, 39508, 39509, 39511, 39514, 39515, 39517, 39519, 39520, 39521, 39523, 39524, 39525, 39527, 39529, 39532, 39533, 39534, 72304, 39537, 39539, 39540, 39541, 39543, 39545, 39548, 39550, 39551, 39552, 39553, 39554, 39557, 39558, 39559, 39560, 39563, 39564, 39565, 39566, 39567, 39569, 39572, 39573, 39574, 39575, 39576, 39577, 39578, 39580, 39581, 39582, 39583, 39584, 39586, 39587, 39588, 39590, 39591, 39592, 39593, 39596, 39598, 39600, 39601, 39602, 39605, 39607, 39608, 39609, 39611, 39612, 39613, 39615, 39616, 39617, 39618, 39619, 39620, 39621, 39622, 39623, 39624, 39625, 39630, 39631, 39632, 39633, 39634, 39635, 39636, 39638, 39639, 39640, 39641, 39642, 39643, 39646, 39648, 39650, 39651, 39654, 39655, 39656, 39658, 39659, 39660, 39661, 39664, 39668, 39669, 39670, 39671, 39674, 39677, 39678, 39679, 39680, 39682, 39684, 39685, 39689, 39691, 39696, 39697, 39698, 39699, 39701, 39702, 39703, 39705, 39706, 39708, 72476, 39710, 39712, 39713, 39714, 39716, 39717, 39718, 39719, 39724, 39725, 39726, 39727, 39728, 39731, 39732, 39734, 39736, 39737, 39738, 39739, 39743, 39745, 39747, 39748, 39749, 39750, 39751, 39752, 39753, 39754, 39756, 39758, 39761, 39762, 39763, 39764, 39765, 39769, 39771, 39772, 39773, 39774, 39775, 39776, 39778, 39779, 39780, 39781, 39782, 39786, 39787, 39788, 39791, 39792, 39794, 39796, 39799, 39800, 39802, 39805, 39806, 39808, 39810, 39812, 39813, 39814, 39816, 39817, 39818, 39820, 39822, 39823, 39824, 39825, 39827, 39828, 39829, 39830, 39831, 39833, 39834, 39835, 39836, 39837, 39838, 39839, 39841, 39842, 39843, 39845, 39848, 39849, 39850, 39851, 39853, 39854, 39855, 72622, 39858, 39859, 39860, 39862, 39864, 39865, 39867, 39868, 39869, 39870, 39871, 39872, 39873, 39874, 39875, 39876, 39880, 39881, 39882, 39883, 39885, 39886, 39890, 39891, 72658, 39893, 39895, 39897, 39900, 39902, 39905, 39906, 39907, 39909, 39910, 39911, 39912, 39913, 39914, 39915, 39916, 39917, 39918, 39920, 39922, 39923, 39925, 39926, 39927, 39930, 39931, 39934, 39937, 39938, 39939, 39942, 39944, 39945, 39948, 39949, 39950, 39951, 39952, 39953, 39954, 39955, 39956, 39958, 39960, 39961, 39962, 39963, 39964, 39965, 39967, 39968, 39969, 39970, 39972, 39974, 39975, 39978, 39979, 39980, 39983, 39984, 39986, 39988, 39990, 39992, 39994, 72762, 39997, 40000, 40001, 40003, 40004, 40005, 40007, 40008, 40010, 40011, 40012, 40014, 40015, 40016, 40017, 40019, 40020, 40022, 40023, 40028, 40030, 40032, 40034, 40035, 40037, 40038, 40039, 40040, 40041, 40042, 40045, 40046, 40047, 40049, 40050, 40052, 40053, 40054, 40057, 40059, 40060, 40061, 40063, 40064, 40065, 40068, 40071, 40072, 40073, 40074, 40075, 40076, 72840, 40078, 40079, 40080, 40083, 40084, 40086, 40088, 40089, 40090, 40092, 40093, 40094, 40097, 40098, 40099, 40101, 40102, 40103, 40105, 40106, 40107, 40108, 40109, 40110, 40114, 40115, 40116, 40117, 40119, 40122, 40123, 40125, 40127, 40132, 40136, 40139, 40142, 40144, 40145, 40146, 40150, 40151, 72918, 40153, 40155, 40157, 40158, 40159, 40162, 40163, 40164, 40165, 40166, 40167, 40168, 40169, 40172, 40173, 40174, 40175, 40176, 40177, 40178, 40179, 40180, 40182, 40183, 40184, 40188, 40190, 40192, 40193, 40195, 40196, 40198, 40199, 40201, 40202, 40203, 40207, 40208, 40210, 40213, 40214, 40216, 40217, 40218, 40219, 40220, 40222, 40223, 40224, 40225, 40228, 40229, 40230, 40231, 40232, 40236, 40237, 40239, 40240, 40242, 40244, 40245, 40246, 40249, 40250, 40251, 40254, 40256, 40257, 40258, 40260, 40261, 40262, 40263, 40265, 40266, 40267, 40268, 40270, 40274, 40277, 40278, 40279, 40281, 40282, 40283, 40286, 40288, 40293, 40294, 40295, 40296, 40297, 40299, 40302, 40303, 40305, 40306, 40309, 40310, 40311, 40312, 40313, 40314, 40315, 40319, 40320, 40322, 40324, 73094, 40328, 40330, 40333, 40336, 40337, 40338, 40340, 40341, 40342, 40344, 40345, 40346, 40348, 40350, 40351, 40352, 40354, 40355, 40356, 40359, 40360, 40361, 40364, 40366, 40368, 40369, 40370, 40371, 40374, 40378, 40379, 40381, 40384, 40385, 40386, 40388, 40389, 40391, 40395, 40396, 40397, 40398, 40400, 40402, 40403, 40406, 40409, 40410, 40411, 40413, 40414, 40415, 40417, 40421, 40422, 40424, 40425, 40426, 40427, 40429, 40430, 40433, 40436, 40437, 40439, 40441, 40444, 40445, 40448, 40450, 40451, 40453, 40454, 40455, 40459, 40460, 40463, 40465, 73234, 40467, 40469, 40470, 40471, 40473, 40474, 40475, 40478, 40480, 40481, 40483, 40484, 40485, 40486, 40487, 40492, 40495, 40496, 40498, 40501, 40504, 40506, 40507, 40511, 40513, 40515, 40517, 40518, 40522, 40523, 40524, 40525, 40526, 40527, 40529, 40532, 40533, 40536, 40537, 40540, 40544, 40547, 40550, 40552, 40554, 40555, 40558, 40559, 40561, 40563, 40565, 40566, 40567, 40569, 40570, 40571, 40572, 40573, 40576, 40577, 40581, 40582, 40583, 40584, 40585, 40587, 40589, 40591, 40592, 40593, 40595, 40596, 40598, 40599, 40600, 40601, 40603, 40606, 40608, 40609, 40610, 40611, 40612, 40613, 40624, 40625, 40626, 40628, 40632, 40637, 40638, 40639, 73405, 40641, 40642, 40643, 40648, 40650, 40651, 40655, 40656, 40657, 40659, 40662, 40663, 40666, 40667, 40668, 40669, 40670, 40673, 40674, 40677, 40678, 40682, 40683, 40684, 40685, 40688, 40689, 40690, 40691, 40693, 40694, 40695, 40697, 40699, 40700, 73467, 40702, 40703, 40704, 40706, 40708, 40710, 40711, 40712, 40717, 40719, 40722, 40724, 40726, 40727, 40730, 40733, 40734, 40735, 40737, 40738, 40740, 40741, 40743, 40744, 40748, 40749, 40751, 40752, 40754, 40756, 40758, 40759, 40763, 40765, 40767, 40768, 40771, 40774, 40776, 40778, 40782, 40783, 40785, 40788, 40790, 40791, 40796, 40797, 40800, 40801, 40802, 40804, 40807, 40808, 40809, 40811, 40812, 40814, 40815, 40816, 40817, 40820, 40822, 40823, 40826, 40827, 40828, 73596, 40835, 40836, 40837, 40841, 40844, 40845, 40846, 40848, 40852, 40853, 40854, 73622, 40856, 40859, 40862, 40863, 40865, 40867, 40870, 40871, 40873, 40874, 40875, 40876, 40879, 40881, 40882, 40885, 73653, 40887, 40888, 73658, 40892, 40893, 40896, 40898, 40901, 40902, 40904, 40906, 40908, 40909, 40910, 40912, 40914, 40915, 40917, 40918, 40919, 40920, 40921, 40924, 40925, 40926, 40927, 40928, 40929, 40930, 40934, 40936, 40937, 40939, 40940, 40943, 40944, 40946, 40947, 40948, 40949, 40950, 40953, 40955, 40956, 40957, 40958, 40960, 40962, 40963, 73731, 40966, 40967, 40968, 40976, 40981, 40982, 40984, 40987, 40988, 40989, 40990, 40991, 40992, 40993, 40994, 40995, 40997, 40998, 40999, 41000, 41003, 41004, 41005, 41006, 41008, 41010, 41011, 41013, 41014, 41015, 41016, 41017, 41018, 41021, 41022, 41023, 41025, 41026, 41029, 41030, 41031, 41034, 41037, 41039, 41040, 41042, 41043, 41044, 41045, 41046, 41047, 41048, 41050, 41052, 41053, 41054, 41055, 41056, 73824, 41059, 41061, 41062, 41063, 41066, 41067, 41068, 41070, 41071, 41072, 41073, 41074, 41076, 41077, 41078, 41080, 41081, 41082, 41083, 41085, 41088, 41089, 41091, 41092, 41093, 41094, 41095, 41099, 41100, 41101, 41103, 41104, 41108, 41109, 41111, 41112, 41116, 41119, 41120, 41121, 41122, 41124, 41125, 41126, 41127, 41128, 41130, 41131, 41132, 41133, 41134, 41135, 41136, 41138, 41141, 41142, 41143, 41144, 41148, 41150, 41151, 41152, 41153, 41154, 41155, 41158, 41159, 41161, 41162, 41163, 41164, 41165, 41167, 41169, 41170, 41172, 41173, 41175, 41177, 41179, 41180, 41181, 41182, 73954, 41188, 41189, 41190, 41191, 41192, 41193, 41195, 41196, 41197, 41198, 41199, 41200, 41202, 41209, 41210, 41213, 41215, 41216, 73985, 41218, 41221, 41222, 41225, 41227, 41228, 41232, 41233, 41234, 41235, 41236, 41237, 41239, 41241, 41243, 41244, 41245, 41246, 41247, 74011, 41251, 41252, 41253, 41254, 41256, 41258, 41260, 41261, 41262, 41263, 41265, 41266, 41267, 41268, 41269, 41273, 74042, 41276, 41278, 41279, 41283, 41284, 41286, 41287, 41288, 41289, 41291, 41292, 41295, 41297, 41298, 41299, 41300, 41301, 41303, 41304, 41306, 41307, 41310, 41312, 41313, 41316, 41319, 41321, 41322, 41325, 41326, 41327, 41328, 41329, 41330, 41332, 41333, 41334, 41335, 41336, 41337, 41346, 41349, 41350, 41355, 41356, 41357, 41358, 41360, 41361, 41362, 41363, 41364, 41366, 41368, 41373, 41374, 41377, 41378, 41379, 74146, 41381, 41382, 41384, 41385, 41386, 41387, 41388, 41389, 41390, 41392, 41395, 41398, 41399, 41401, 41407, 41408, 41414, 41419, 41420, 41421, 41424, 41426, 41428, 41430, 41431, 41432, 41433, 41434, 41435, 41436, 41438, 41441, 41443, 41444, 41445, 41451, 41453, 41455, 41458, 41459, 41462, 41467, 41469, 41470, 41473, 41475, 41477, 41479, 41480, 41481, 74250, 41483, 41486, 41487, 41489, 41492, 41494, 41499, 41500, 41501, 41503, 41505, 41509, 41510, 41514, 41517, 41521, 41522, 41523, 41525, 41526, 41527, 41529, 41530, 41532, 41533, 41535, 41536, 41538, 41540, 41542, 41545, 41546, 41548, 41549, 41550, 41552, 41553, 41554, 41555, 41558, 41559, 41561, 41563, 41566, 41568, 41569, 41570, 41572, 41574, 41575, 41577, 41579, 41581, 41582, 41583, 41587, 41588, 41589, 41591, 41592, 74359, 41595, 41596, 41599, 41600, 41602, 41603, 41604, 41605, 41606, 41607, 41609, 41610, 41611, 41612, 41614, 41615, 41616, 41617, 41618, 41619, 41621, 41622, 41623, 41624, 41625, 41627, 41628, 41629, 41630, 41632, 41634, 41636, 41637, 41638, 41639, 41643, 41646, 41648, 41649, 41651, 41653, 41655, 41656, 41657, 41658, 41659, 41660, 41661, 41662, 41663, 41664, 41666, 41667, 41668, 41670, 41671, 41672, 41673, 41674, 41675, 41676, 41677, 41678, 41679, 41681, 41683, 41686, 41687, 41689, 41690, 41692, 41693, 41694, 41695, 41696, 41699, 41700, 41702, 41703, 41705, 41706, 41709, 41712, 41713, 41715, 41717, 41720, 41721, 74489, 41724, 41725, 41728, 41730, 41731, 41732, 41735, 41736, 41737, 41738, 41739, 41740, 41746, 41747, 41750, 41751, 41752, 41754, 41757, 41758, 41760, 41761, 41763, 41768, 41769, 41771, 41772, 41773, 74541, 41775, 41778, 41780, 41783, 41787, 41789, 41790, 41791, 41793, 74567, 41802, 41805, 41808, 41809, 41810, 41812, 41813, 41816, 41818, 41819, 41820, 41821, 41822, 41823, 41824, 41825, 41828, 41831, 41832, 41834, 41836, 41837, 41839, 41841, 41842, 41846, 41847, 41850, 74619, 41852, 41854, 41856, 41861, 41862, 41864, 41865, 41867, 41869, 41871, 41872, 41877, 41880, 41884, 41885, 41887, 41888, 41891, 41893, 41894, 99507, 41897, 99508, 41907, 41908, 41910, 41912, 41913, 41915, 41916, 41920, 41923, 41924, 41925, 41926, 41927, 41928, 41931, 41937, 41939, 41940, 41941, 41942, 41943, 41945, 41946, 41948, 41951, 41952, 41953, 41954, 41957, 41959, 41961, 41963, 41964, 41965, 41967, 41968, 41973, 41974, 41978, 41979, 41980, 41984, 41986, 41989, 41994, 41997, 41998, 42001, 42004, 42006, 42007, 42009, 42010, 42014, 42015, 42018, 42024, 42025, 42026, 42029, 42030, 42031, 42034, 42035, 42036, 42039, 42040, 42041, 42042, 42043, 42044, 42047, 42049, 42050, 42053, 42054, 42055, 42057, 42059, 74827, 42063, 42064, 42065, 42067, 42068, 42070, 42071, 42074, 42075, 42076, 42078, 42079, 42082, 42083, 42084, 42086, 42090, 42092, 42095, 42098, 42099, 42103, 42104, 42105, 42106, 42107, 42109, 42112, 42113, 42115, 42117, 42118, 42122, 42123, 42124, 42125, 42127, 42128, 42129, 42130, 42131, 42132, 42135, 42136, 42138, 42139, 42140, 42141, 42143, 42144, 42145, 42146, 42147, 42148, 42150, 42151, 42152, 42153, 42154, 42155, 42160, 42161, 42164, 42165, 42166, 42168, 42171, 42173, 42174, 42175, 42176, 42177, 42178, 42179, 42181, 42182, 42183, 42185, 42186, 42187, 42191, 42192, 42195, 42198, 42199, 42200, 42201, 42205, 42206, 42207, 42208, 42213, 42215, 42216, 42217, 42219, 42220, 42221, 42222, 42226, 42228, 42229, 42230, 42232, 42234, 42235, 42238, 42240, 42243, 42245, 42246, 42247, 42249, 42250, 42251, 42253, 42254, 42255, 42257, 42258, 42259, 42260, 42262, 42263, 42264, 42265, 42266, 42268, 42272, 42273, 42274, 42275, 42276, 42278, 42281, 42282, 42283, 42284, 42285, 42286, 42288, 42290, 42291, 42292, 42293, 42295, 42296, 42297, 42299, 42300, 42302, 42303, 42306, 42308, 42309, 42311, 42312, 42313, 42314, 42315, 42316, 42317, 42318, 42319, 42320, 42323, 42324, 42325, 42326, 42328, 42329, 42330, 42331, 42332, 42334, 42335, 42336, 42337, 42338, 42342, 42344, 42345, 42347, 42348, 75115, 42350, 42351, 42352, 42353, 42354, 42355, 42357, 42358, 75125, 42361, 42364, 42365, 42368, 42369, 42371, 42373, 42374, 42377, 42379, 42382, 42384, 42386, 42387, 42388, 42389, 42390, 42391, 42393, 42396, 42398, 42399, 42400, 42401, 42403, 42404, 42406, 42412, 42413, 42415, 42417, 42419, 42420, 42422, 42423, 42425, 42426, 42427, 42428, 42429, 42430, 42431, 42432, 42433, 42434, 42436, 42438, 42440, 42441, 42442, 42443, 42445, 42446, 42447, 42448, 42449, 42450, 42451, 42453, 42454, 42455, 42456, 42457, 42459, 42460, 42461, 42462, 42463, 42464, 42466, 42469, 42470, 42471, 42472, 42474, 42476, 42478, 42483, 42484, 42485, 42486, 42487, 42488, 42489, 42490, 42493, 42494, 42496, 42497, 42498, 42499, 42501, 42503, 42504, 42505, 42506, 42508, 42509, 42510, 42511, 42513, 42514, 42515, 42518, 42524, 42525, 42527, 42532, 42537, 42539, 42540, 42543, 42544, 42545, 42546, 42547, 42548, 42550, 42553, 42555, 42556, 42557, 42558, 42559, 42560, 42561, 42562, 42565, 42566, 42567, 42568, 42569, 42570, 42571, 42572, 42575, 42576, 42577, 42579, 42580, 42585, 42586, 42587, 42588, 42589, 42590, 42591, 42592, 42593, 42599, 42600, 42601, 42602, 42603, 42604, 42606, 42607, 42608, 42609, 42611, 42613, 42615, 42616, 42617, 42618, 42619, 42620, 42621, 42622, 42625, 42626, 42627, 42628, 42629, 42630, 42632, 42634, 42635, 42636, 42639, 42640, 42641, 42642, 42643, 42644, 42645, 75417, 42651, 42652, 42653, 42654, 42657, 42658, 42660, 42664, 42665, 42666, 42667, 42668, 42670, 75441, 42674, 42675, 42676, 42678, 42680, 42681, 42682, 42683, 42684, 42686, 42687, 42689, 42693, 42694, 42695, 42696, 42697, 42698, 42700, 42701, 42704, 42705, 42707, 42708, 42709, 42710, 42712, 42713, 42714, 42717, 42718, 42723, 42724, 42726, 42729, 42731, 42733, 42734, 42737, 42738, 42740, 42741, 42742, 42744, 42747, 75515, 42749, 42750, 42751, 42752, 42754, 42755, 42756, 42757, 42758, 42759, 42760, 42762, 42763, 42764, 42766, 42767, 42768, 42769, 42770, 42771, 42772, 42773, 42774, 42775, 75539, 42777, 42778, 42780, 42781, 42782, 42785, 42790, 42791, 42792, 42793, 42794, 42795, 42799, 42800, 42801, 42802, 42804, 42805, 42807, 42808, 42809, 42811, 42812, 42813, 42814, 42815, 42816, 42819, 42820, 42821, 42822, 42823, 42824, 42825, 42826, 42827, 42829, 42830, 42831, 42832, 42833, 42835, 42837, 42838, 42842, 42843, 42845, 42846, 42848, 42850, 42851, 42855, 42857, 42858, 42859, 42860, 42861, 42862, 42863, 42864, 42865, 42866, 42867, 42868, 42869, 42870, 42871, 42872, 42873, 42874, 42875, 42876, 42879, 42880, 42881, 42882, 42883, 42884, 42885, 42886, 42888, 42889, 42890, 42895, 42896, 42897, 42899, 42901, 42904, 42905, 42906, 42907, 42908, 42912, 42916, 42917, 42919, 42921, 42922, 42924, 42925, 42926, 42927, 42928, 42930, 42931, 42932, 42935, 42937, 42938, 42942, 42944, 42945, 75715, 42949, 42951, 42952, 42954, 42956, 42957, 42958, 42959, 42960, 42962, 42963, 42965, 42969, 42971, 42972, 42973, 42974, 42976, 42977, 42978, 42982, 42983, 42985, 42987, 42988, 42989, 42990, 42991, 42994, 42995, 42996, 42997, 42998, 43000, 43004, 43005, 43006, 43007, 43010, 43011, 43012, 43013, 43014, 43015, 43016, 43018, 43019, 43020, 43021, 43022, 43023, 43025, 43026, 43028, 43032, 43033, 43034, 43035, 43038, 43039, 43041, 43042, 43045, 43048, 43049, 43051, 43053, 43054, 43055, 43056, 43058, 43060, 43062, 43063, 43066, 43068, 43069, 43070, 43073, 43074, 43076, 43077, 43079, 43080, 43081, 43082, 43083, 43087, 43090, 43093, 43095, 43096, 43097, 43098, 43100, 43102, 43103, 43104, 43105, 43106, 43107, 43113, 43114, 43115, 43116, 43118, 43119, 43120, 43122, 43123, 43124, 43126, 43127, 43131, 43132, 43134, 43135, 43136, 43137, 43139, 43142, 43147, 43148, 43150, 43153, 43155, 43156, 43158, 43159, 43160, 43161, 43162, 43166, 43167, 43168, 43170, 43171, 43172, 43173, 43174, 43175, 43177, 43178, 43180, 43181, 43183, 43185, 43187, 43188, 43190, 43191, 43196, 43197, 43200, 43201, 43202, 43204, 43207, 43208, 43211, 75979, 43213, 43214, 43216, 43218, 43219, 43220, 43221, 43222, 43224, 43225, 43226, 43227, 43228, 43229, 43230, 43231, 43232, 43233, 43234, 43235, 43236, 43237, 43238, 43239, 43241, 43242, 43243, 43245, 43247, 43249, 43250, 43251, 43252, 43254, 43255, 43256, 43257, 43258, 43259, 43263, 43264, 43266, 43267, 43268, 43270, 43273, 76043, 43277, 43280, 43282, 43284, 43285, 43286, 43287, 43288, 43291, 43292, 43293, 43294, 43296, 43298, 43299, 76067, 43301, 43303, 43304, 43305, 43306, 43307, 43309, 43311, 43312, 43315, 43316, 43317, 43318, 43319, 43320, 43322, 43324, 43325, 43326, 43327, 43328, 43329, 43330, 43331, 43332, 43333, 43334, 43336, 43337, 43339, 43341, 43344, 43348, 43349, 43350, 43351, 43352, 43355, 43356, 43357, 43358, 43359, 43360, 43362, 43364, 43366, 43367, 43370, 43371, 43374, 43375, 43378, 43379, 43381, 43382, 43383, 43384, 43385, 43387, 43388, 43389, 43390, 43391, 43392, 43393, 43395, 43396, 43398, 43399, 43401, 43402, 43403, 43406, 43407, 43408, 43409, 43411, 43412, 43413, 43414, 43416, 43421, 43423, 43424, 43427, 43428, 43429, 43430, 43433, 43434, 43435, 43437, 43439, 43440, 43441, 43442, 43443, 43445, 43446, 43448, 43449, 43451, 43454, 43455, 43456, 43459, 43460, 43461, 43462, 43463, 43465, 43466, 43467, 43469, 43470, 43472, 43473, 43474, 43475, 43477, 43478, 43479, 43481, 43484, 43485, 43486, 43487, 43489, 43491, 43492, 43493, 43494, 43495, 43497, 43498, 43499, 43500, 43501, 43502, 43503, 43504, 43507, 43508, 43512, 43513, 43514, 43516, 43517, 43518, 43519, 43520, 43521, 43522, 43525, 43526, 43527, 43528, 43529, 43530, 43531, 43532, 43533, 43535, 43536, 43538, 43539, 43540, 43543, 43544, 43545, 43546, 43547, 43548, 43549, 43550, 43551, 43552, 43553, 43554, 43557, 43559, 43561, 43563, 43564, 43565, 43566, 43568, 43571, 43572, 43573, 43575, 43576, 43577, 43578, 43582, 43584, 43585, 43587, 43588, 43589, 43591, 43592, 43594, 43595, 43596, 43597, 43598, 76365, 43600, 43601, 43603, 43606, 43607, 43608, 43609, 43610, 43613, 43615, 43616, 43617, 43623, 43627, 43628, 43629, 43630, 43631, 43632, 43633, 43634, 43637, 43638, 43639, 43640, 43641, 43643, 43644, 43646, 43647, 43650, 43651, 43652, 43655, 43656, 43657, 43659, 43660, 43661, 43664, 43665, 43666, 43667, 43668, 43670, 43671, 43672, 43673, 43674, 43678, 43679, 43680, 43681, 43682, 43684, 43686, 43687, 43690, 43691, 43692, 43693, 43694, 43695, 43699, 43700, 43701, 43704, 43705, 43706, 43707, 43708, 43709, 43712, 43713, 43715, 43716, 43720, 43721, 43723, 43725, 43729, 43732, 43735, 43736, 43737, 43738, 43741, 43742, 43744, 76512, 43746, 43748, 43752, 43754, 43755, 43756, 43758, 43759, 43761, 43762, 43763, 43764, 43765, 43768, 43769, 43770, 43771, 76536, 43773, 43774, 43775, 43776, 43777, 43779, 43783, 43784, 43785, 43786, 43788, 43790, 43791, 43792, 43793, 43794, 43795, 43798, 43802, 43804, 43806, 43807, 43808, 43811, 43813, 43814, 43815, 43816, 43818, 43819, 43820, 43821, 43822, 43823, 43825, 43827, 43829, 43832, 43833, 43834, 43835, 43837, 43839, 43840, 43841, 43846, 43847, 43848, 43851, 43852, 43853, 43854, 43856, 43857, 43858, 43859, 43860, 43863, 43864, 43865, 43868, 43869, 43870, 43871, 43872, 43874, 43875, 43877, 43878, 43879, 43880, 43881, 43882, 43884, 43885, 43887, 43888, 43889, 43890, 43891, 43893, 43896, 43897, 43900, 43902, 43903, 43904, 43906, 43907, 43908, 43909, 43910, 43911, 43913, 43914, 43917, 43918, 43919, 43924, 43926, 43929, 43930, 43931, 43932, 43933, 43934, 43935, 43936, 76702, 43938, 43939, 43940, 43942, 43944, 43945, 43947, 43948, 43950, 43951, 43952, 43953, 43954, 43955, 43956, 43957, 43958, 43959, 43961, 43964, 43966, 43967, 43968, 43971, 43972, 43973, 43975, 43979, 43980, 43982, 43983, 43984, 43985, 43986, 43987, 43988, 43990, 43991, 43993, 43994, 43996, 43997, 43998, 44000, 44001, 44005, 44007, 44014, 44015, 44016, 44017, 44018, 44029, 44031, 76800, 44033, 44034, 44037, 44039, 44040, 44041, 44042, 44044, 44046, 44048, 44050, 44051, 44052, 44053, 44055, 44056, 44057, 44058, 44059, 44060, 44061, 44063, 44064, 44065, 44067, 44068, 44069, 44070, 44072, 44074, 44075, 44076, 44077, 44082, 44085, 44086, 44088, 44090, 44093, 44094, 44096, 44100, 44101, 44103, 44105, 44106, 44107, 44108, 44110, 44114, 44115, 44116, 44117, 44118, 44121, 44122, 44124, 44125, 44127, 44128, 44131, 44132, 44133, 44136, 44137, 44138, 44139, 44141, 44142, 44143, 44144, 44145, 44146, 44150, 44151, 44152, 44155, 44156, 44158, 44159, 44160, 44165, 44166, 44167, 44169, 44170, 44171, 44172, 44173, 44175, 44176, 44177, 44178, 44179, 44181, 44182, 44183, 44185, 44186, 44188, 44189, 44190, 44192, 44193, 44198, 44199, 44200, 44201, 44205, 44206, 44207, 44208, 44209, 44211, 44214, 44216, 44219, 44221, 44224, 44225, 44229, 44230, 44234, 44235, 44236, 44237, 44239, 44241, 44242, 44244, 44246, 44248, 44249, 44250, 44252, 44254, 44255, 44258, 44261, 44262, 77030, 44265, 44267, 44268, 44269, 77038, 44271, 44272, 44273, 44275, 77044, 44278, 44279, 44280, 44281, 44284, 44285, 44288, 44289, 44292, 44294, 44295, 44297, 44299, 44300, 44301, 44302, 44303, 44304, 44305, 44306, 44309, 44310, 44311, 44314, 44315, 44317, 44319, 44321, 44323, 44324, 44325, 44326, 44328, 44329, 44330, 44334, 44336, 44337, 44339, 44340, 44341, 44342, 44343, 44344, 44347, 44348, 44350, 44351, 44353, 44355, 44357, 44358, 44361, 44363, 44364, 44365, 44368, 44372, 44375, 44376, 44377, 44379, 44380, 44381, 44382, 44383, 44385, 44388, 44389, 44390, 44391, 44392, 44393, 44394, 44395, 44396, 44400, 44401, 44402, 44403, 44404, 44405, 44406, 44407, 44409, 44410, 44411, 44412, 44413, 44417, 44418, 44419, 44425, 44428, 44429, 44431, 44432, 44433, 44434, 44435, 44437, 44438, 44440, 44441, 44443, 44444, 44447, 44448, 44449, 44450, 44452, 44455, 44461, 44462, 44463, 44465, 44467, 44468, 44469, 44471, 44472, 44473, 44474, 44475, 44477, 44478, 44480, 44481, 44482, 44483, 77249, 44485, 44486, 44488, 44489, 44491, 44492, 44493, 44495, 77264, 44497, 44499, 44500, 44501, 44504, 44507, 44508, 44509, 44511, 44512, 44515, 44516, 44517, 44519, 44520, 44521, 44522, 44523, 44524, 44525, 44528, 44529, 44532, 44533, 44534, 44535, 44536, 77303, 44538, 44539, 44541, 44544, 44546, 44548, 44550, 44551, 44552, 44553, 44554, 44557, 44558, 44559, 44562, 44563, 44564, 44566, 44571, 44572, 44573, 44574, 44579, 44580, 44581, 44582, 44583, 44585, 44586, 44587, 44589, 44591, 44592, 44593, 44594, 44595, 44596, 44597, 44600, 44601, 44604, 44607, 44608, 44610, 44611, 44612, 44613, 44615, 44616, 44617, 44618, 44619, 44622, 44623, 44624, 44626, 44627, 44628, 44629, 44630, 44631, 44632, 44633, 77401, 44637, 44639, 44640, 44641, 44642, 44643, 44644, 44645, 44646, 44651, 44654, 44657, 44659, 44660, 44664, 44665, 44667, 44668, 44669, 44671, 44672, 77440, 44674, 44675, 44677, 44678, 44680, 44682, 44688, 44689, 100063, 44691, 44693, 44694, 44695, 44697, 44698, 44701, 44702, 44704, 44707, 44710, 44711, 44713, 44714, 44715, 44717, 44718, 44720, 44721, 44725, 44728, 44729, 44730, 44731, 44733, 44734, 44737, 44740, 44741, 44742, 44743, 44744, 44745, 44747, 44751, 44753, 44754, 44756, 44758, 44759, 44762, 44763, 44765, 44766, 44767, 44768, 44769, 44773, 44777, 44779, 44780, 44781, 77548, 44783, 44785, 44786, 44787, 44788, 44789, 44790, 44792, 44793, 44794, 44795, 44796, 44798, 44800, 44803, 44804, 44805, 44808, 44810, 44811, 44812, 44813, 44814, 44815, 44818, 44819, 44820, 44821, 44822, 44823, 44824, 44825, 44826, 44829, 44832, 44833, 44834, 44837, 44838, 44841, 44842, 44844, 44845, 44846, 44847, 44849, 44850, 44853, 44855, 44856, 44857, 44858, 44859, 44864, 44867, 44868, 44869, 44870, 44871, 44873, 44875, 44876, 44878, 44880, 44881, 44883, 44884, 44885, 44886, 44887, 44889, 44893, 44895, 44896, 44897, 44899, 44900, 44901, 44902, 44903, 44905, 44906, 44907, 44908, 44909, 44910, 44911, 44912, 44913, 44914, 44915, 44917, 44918, 44919, 44920, 44921, 44923, 44926, 44928, 44930, 44932, 44934, 44935, 44938, 44940, 44942, 44946, 44947, 44948, 44949, 44950, 44953, 44955, 44956, 44957, 100116, 44960, 44962, 44963, 44964, 44965, 44966, 44967, 44968, 44970, 44972, 44973, 44976, 44977, 44979, 44980, 44981, 44983, 44984, 44985, 44986, 44987, 44992, 44993, 44995, 44996, 44997, 44999, 45000, 45001, 45002, 45004, 45006, 45007, 45008, 45009, 45010, 45011, 45012, 45013, 45015, 45016, 45017, 45021, 45023, 45024, 45028, 45030, 45031, 45032, 45034, 45036, 45037, 45040, 45041, 45043, 45044, 45045, 45046, 45047, 45049, 45050, 45051, 45053, 45054, 45055, 45056, 45057, 45058, 45059, 45062, 45067, 45068, 45069, 45071, 45072, 45073, 45074, 45075, 45076, 45077, 45078, 45079, 45080, 45081, 77846, 45083, 45084, 45085, 45086, 45087, 45089, 45090, 45091, 45092, 45093, 45094, 45095, 45096, 45097, 45099, 45100, 45101, 45102, 45103, 45104, 45107, 45108, 45109, 45110, 45114, 45115, 45116, 77885, 45119, 45120, 45121, 45123, 45124, 45125, 45126, 45127, 45128, 45131, 45132, 45133, 45134, 45135, 45136, 45138, 45140, 45141, 45142, 45144, 45145, 45146, 45147, 45148, 45149, 45150, 45151, 45152, 45153, 45154, 45155, 45156, 45157, 45159, 45160, 45161, 45162, 45163, 45164, 45165, 45166, 45167, 45168, 45169, 45171, 45173, 45174, 45175, 45176, 45177, 45181, 45182, 45183, 45184, 45185, 45186, 45187, 45189, 45190, 45193, 45194, 45195, 45196, 45198, 45199, 45200, 45203, 45204, 45205, 45206, 45208, 45209, 45210, 45211, 45212, 45213, 45214, 45217, 45218, 45220, 45221, 45222, 45223, 45225, 45227, 45229, 45230, 45236, 45238, 45239, 45240, 45241, 45242, 45243, 45245, 45246, 45247, 45248, 45249, 45250, 45251, 45252, 45255, 45257, 45259, 45260, 45262, 45263, 45264, 45267, 45268, 45269, 45271, 45272, 45273, 45274, 45275, 45276, 45278, 45279, 45280, 45282, 45283, 45284, 45285, 45286, 45287, 45288, 45290, 45291, 45292, 45293, 45294, 45295, 45297, 45298, 45299, 45300, 45302, 45303, 45305, 45307, 45308, 45310, 45312, 45313, 45314, 45315, 45316, 45319, 45321, 45322, 45323, 45324, 45325, 45328, 45329, 45330, 45332, 45333, 45335, 45336, 45337, 45338, 45340, 45342, 45343, 45344, 45345, 45346, 45347, 45349, 45352, 45354, 45355, 45356, 45357, 45358, 45360, 45361, 45362, 45364, 45365, 45368, 45369, 45371, 45372, 45374, 45375, 45376, 45377, 45378, 45379, 45380, 45381, 45385, 45386, 45387, 45388, 45389, 45391, 45392, 45393, 45394, 45395, 45397, 45398, 45399, 45400, 45401, 45403, 45404, 45405, 45406, 45411, 45412, 45413, 45415, 78183, 45417, 45418, 45420, 45421, 45422, 45423, 45424, 45425, 45427, 45428, 45429, 45430, 45431, 45434, 45435, 45436, 45437, 78204, 45439, 45440, 45441, 45442, 45444, 45446, 45447, 45448, 45449, 45450, 78216, 45454, 45455, 45456, 45458, 45459, 45460, 45461, 45463, 45464, 45465, 45466, 45467, 45468, 45469, 45470, 45472, 45473, 45474, 45475, 45476, 45477, 45478, 45479, 45480, 45482, 45485, 45487, 45488, 45490, 45491, 45492, 45493, 45494, 45495, 45496, 45497, 45498, 45501, 45504, 45506, 45510, 45511, 45513, 45514, 45515, 45521, 45523, 45525, 45528, 45530, 45531, 45532, 45534, 45535, 45536, 45539, 45540, 45541, 45544, 45547, 45549, 45550, 45554, 45555, 45557, 45558, 45560, 45563, 45564, 45565, 45567, 45568, 45573, 45574, 45575, 45576, 45580, 45581, 45582, 45583, 45585, 45586, 45588, 45590, 45594, 45595, 45596, 45597, 45599, 45601, 45602, 45605, 45606, 45607, 45610, 45611, 45613, 45614, 45615, 45622, 45623, 45624, 45626, 45627, 78397, 45630, 45631, 45632, 45634, 45635, 45637, 45638, 45640, 45641, 45643, 45646, 45647, 45648, 45649, 45650, 45653, 45654, 45656, 45657, 45658, 45662, 45663, 45664, 45666, 45667, 45668, 45669, 45670, 45671, 45675, 45676, 45678, 45679, 45680, 45681, 45685, 45686, 45687, 45688, 45689, 45690, 45691, 45692, 45693, 45695, 45696, 45697, 45698, 45699, 45700, 45703, 45704, 45705, 45706, 45707, 45708, 45709, 45710, 45711, 45712, 45713, 45714, 45715, 45716, 45719, 45725, 45726, 45728, 45730, 45731, 45733, 45734, 45735, 45739, 45740, 45741, 45742, 45743, 45744, 45745, 45746, 45747, 45748, 45749, 45754, 45755, 45756, 45757, 45760, 45761, 45762, 45763, 45764, 45765, 45766, 45767, 45768, 45769, 45771, 45772, 45773, 45774, 45775, 45776, 45777, 45778, 45779, 45780, 45781, 45782, 45784, 45785, 45787, 45788, 45789, 45790, 45791, 45793, 45794, 45797, 45798, 45799, 45800, 45802, 45803, 45805, 45806, 45807, 45808, 45809, 45814, 45815, 45816, 45817, 45820, 45824, 45825, 45826, 45827, 45828, 45829, 45830, 45831, 45833, 45834, 45835, 45836, 45838, 45839, 45840, 45841, 45842, 45844, 45846, 45850, 45852, 45853, 45855, 45856, 45857, 45859, 45860, 45863, 45864, 45865, 45866, 45868, 45869, 45870, 45871, 45872, 45873, 45876, 45878, 45880, 45881, 45882, 45884, 45888, 45889, 45890, 45891, 45892, 45894, 45895, 45899, 45900, 45901, 45903, 45907, 45910, 45912, 45913, 45914, 45915, 45918, 45919, 45920, 45921, 45922, 45923, 45924, 45925, 45926, 45927, 45928, 45929, 45930, 45932, 45933, 45934, 45936, 45937, 45938, 45942, 45943, 45945, 45946, 45947, 45949, 45950, 45951, 45952, 45956, 45957, 45958, 45959, 45960, 45963, 45965, 45966, 45967, 45968, 45969, 45970, 45971, 45972, 45975, 45976, 45978, 45980, 45982, 45983, 45984, 45985, 45988, 45989, 45991, 45992, 45993, 45994, 45995, 45999, 46002, 46005, 46006, 46009, 46010, 46011, 46013, 46014, 46015, 46016, 46017, 46018, 46019, 46020, 46021, 46022, 46026, 46027, 46028, 46029, 46031, 46032, 46034, 78804, 46038, 46040, 46041, 46042, 46043, 46044, 46045, 46046, 46047, 46048, 46049, 46051, 46052, 46056, 46057, 46058, 46059, 46061, 46062, 46063, 46064, 46065, 46066, 46067, 46068, 46069, 46070, 46071, 46072, 46073, 46075, 46078, 46081, 46082, 78850, 46084, 46085, 46086, 46087, 46088, 46092, 46093, 46094, 46096, 46097, 46098, 46099, 46100, 46101, 46102, 46103, 46104, 46106, 46107, 46108, 46110, 46111, 46112, 46114, 46115, 46116, 46117, 46120, 46121, 46122, 46124, 46126, 46127, 46128, 46130, 46131, 46132, 46134, 46135, 46136, 46138, 46139, 46140, 46142, 46144, 46146, 46148, 46149, 46150, 46151, 46152, 46153, 46154, 46155, 46157, 46159, 46160, 46161, 46162, 46164, 46165, 46166, 46167, 46168, 46170, 46171, 46172, 46173, 46174, 46175, 46176, 78939, 46178, 46179, 46180, 46181, 46185, 46190, 46191, 46192, 46193, 46194, 46195, 46196, 46197, 46199, 46200, 46201, 46202, 46204, 46205, 46206, 46210, 46212, 46214, 46215, 46216, 46217, 46219, 46220, 46221, 46222, 46224, 46225, 46226, 46227, 46228, 46229, 46231, 46232, 46236, 46238, 46241, 46245, 46249, 46251, 46252, 46253, 46254, 46258, 46260, 46261, 46262, 46263, 46264, 46265, 46266, 46272, 46273, 46274, 46276, 46277, 46278, 46281, 46282, 46284, 46285, 46286, 46288, 46289, 46290, 46291, 46294, 46295, 46298, 46299, 46301, 46303, 46304, 46305, 46307, 46308, 46310, 46311, 46313, 46314, 46316, 46317, 46318, 46319, 46320, 46321, 46323, 46324, 46325, 46328, 46329, 46330, 46332, 46333, 46334, 46335, 46337, 46338, 46342, 46343, 46344, 46346, 46347, 46348, 46349, 46350, 46351, 46352, 46353, 46354, 46355, 46356, 46362, 46363, 46364, 46366, 46367, 46368, 46369, 46371, 46372, 46373, 46374, 46376, 46377, 46378, 46379, 46380, 46381, 46383, 46384, 46385, 46386, 46387, 46388, 46390, 46391, 46393, 46395, 46396, 46401, 46403, 46404, 46410, 46412, 46414, 46416, 46417, 46418, 46420, 46421, 46422, 46423, 46424, 46425, 46429, 46432, 46433, 46434, 46435, 46440, 46441, 46443, 46446, 46447, 46450, 46452, 46453, 79223, 46456, 46457, 46459, 46460, 46466, 46467, 46469, 46471, 46472, 46473, 46474, 46475, 46476, 46479, 46480, 46484, 46485, 46488, 46491, 46492, 46495, 46496, 46497, 46498, 46499, 46500, 46502, 46503, 46504, 46505, 46510, 46511, 46512, 46513, 46514, 46515, 46517, 46518, 46519, 46522, 46523, 46525, 46526, 46527, 46529, 46531, 46532, 46533, 46535, 46536, 46537, 46538, 46540, 46541, 46546, 46547, 46548, 46549, 46550, 46551, 46552, 46553, 46554, 46555, 46557, 46558, 46562, 46563, 46565, 46566, 46567, 46568, 46571, 46572, 46574, 46575, 46576, 46577, 46578, 46580, 46581, 46582, 46583, 46585, 46586, 46590, 46591, 46592, 46593, 46595, 46596, 46599, 46600, 46602, 46603, 46604, 46605, 46606, 46607, 46609, 46610, 46611, 46613, 46615, 46616, 46617, 46618, 46622, 46623, 46624, 46626, 46628, 46629, 46630, 46632, 46633, 46635, 46636, 46637, 46638, 46643, 46644, 46646, 46648, 46650, 46652, 46653, 46656, 46657, 46660, 46662, 46664, 46668, 46669, 46670, 46671, 46672, 46674, 46675, 46678, 46679, 46682, 46683, 46684, 46685, 46686, 46689, 46690, 46693, 46694, 46695, 46696, 46698, 46703, 46704, 46705, 46707, 46709, 46710, 46711, 46713, 46714, 46716, 46717, 46718, 46719, 46720, 46721, 46722, 46723, 46724, 46725, 79496, 46729, 46731, 46732, 46734, 46735, 46737, 46740, 46741, 46742, 46743, 46744, 46745, 46747, 46748, 46752, 46754, 46755, 46757, 46758, 46760, 46761, 46762, 46763, 46766, 46768, 46769, 46771, 46772, 46773, 46774, 46777, 46778, 46783, 46785, 46786, 46787, 46788, 46789, 46790, 46792, 46795, 46797, 46799, 46800, 46802, 46803, 46804, 46805, 46806, 46807, 46810, 46811, 46812, 46813, 46816, 46818, 46820, 46821, 46822, 46823, 46824, 46825, 46827, 46828, 46833, 46834, 46835, 46837, 46838, 46839, 46840, 46846, 46847, 46849, 46851, 46852, 46854, 46856, 46857, 46859, 46860, 46861, 46863, 46864, 46865, 46869, 46870, 46871, 46872, 46873, 46876, 46879, 46880, 46882, 46883, 46885, 46886, 46888, 46889, 46890, 46891, 46894, 46895, 46897, 46900, 46901, 46902, 46904, 46906, 46907, 46908, 46911, 46914, 46915, 46917, 46918, 46919, 46920, 46921, 46922, 46923, 46924, 46925, 46926, 46930, 46931, 46932, 46934, 46935, 46939, 46940, 46941, 46942, 46943, 46944, 46947, 46948, 46949, 46950, 46951, 46954, 46955, 46956, 46958, 46959, 46960, 46963, 46964, 46965, 46966, 46969, 46970, 46972, 46973, 46974, 46975, 46976, 46978, 46980, 46983, 46984, 46985, 46988, 46991, 46992, 46994, 46995, 46996, 46998, 46999, 47000, 47001, 47003, 47004, 47005, 47006, 47007, 47008, 47011, 47012, 47013, 47015, 47017, 47018, 47019, 47020, 47022, 47023, 47024, 47027, 47029, 47030, 47032, 47033, 47035, 47036, 47037, 47038, 47039, 47041, 47042, 47043, 47044, 47047, 47050, 47055, 47057, 47059, 47060, 47063, 47064, 47065, 47066, 47067, 47070, 47073, 47075, 47077, 47078, 47080, 47083, 47084, 47086, 47087, 47088, 47089, 47090, 47091, 47092, 47093, 47094, 47095, 47096, 47097, 47098, 47099, 47100, 47102, 47103, 47104, 47105, 47106, 47107, 47108, 47109, 47110, 47112, 47113, 47115, 47116, 47118, 47119, 47120, 47121, 47122, 47123, 47124, 47126, 47127, 47128, 47130, 47131, 47132, 47133, 47135, 47136, 47138, 47139, 47142, 47144, 47146, 47147, 47148, 47149, 47150, 47151, 47152, 47153, 47156, 47157, 47158, 47159, 47160, 47162, 47163, 47166, 47168, 47170, 47171, 47173, 47174, 47175, 47176, 47177, 47178, 47179, 47180, 47181, 47182, 47183, 47184, 47185, 47186, 47187, 47188, 47189, 47190, 47191, 47192, 47193, 79964, 47197, 47201, 47204, 47207, 47208, 47209, 47210, 47214, 47215, 47216, 47219, 47220, 47221, 47223, 47224, 47225, 47226, 47228, 47229, 47231, 47232, 47237, 47239, 47240, 47241, 47243, 47244, 47246, 47248, 47249, 47250, 47251, 47253, 47254, 47255, 47257, 47259, 47262, 47263, 47264, 47266, 47269, 47270, 47271, 47274, 47275, 47276, 47277, 47280, 47281, 47283, 47284, 47286, 47287, 47288, 47291, 47292, 47294, 47296, 47297, 47300, 47301, 47302, 47303, 47304, 47306, 47307, 47308, 47313, 47314, 47315, 47318, 47319, 47320, 47323, 47325, 47326, 47328, 47329, 47330, 47331, 47332, 47333, 47334, 47335, 47336, 47338, 47339, 47344, 47347, 47348, 47351, 47353, 47354, 47355, 47356, 47357, 47358, 47359, 47360, 47361, 47362, 47364, 47365, 47367, 47369, 47370, 47371, 47372, 47373, 47374, 47375, 47377, 47378, 47379, 47380, 47383, 47384, 47385, 47387, 47388, 47389, 47392, 47393, 47394, 47395, 47396, 47401, 47403, 47404, 47407, 47408, 47411, 47412, 47413, 47416, 47419, 47421, 47422, 47424, 47425, 47428, 47429, 47432, 47433, 47435, 47436, 47438, 47440, 47442, 47443, 47444, 47445, 47446, 47448, 47450, 47451, 47453, 47456, 47458, 47460, 47461, 47463, 47464, 47470, 47473, 47477, 47480, 47481, 47483, 47484, 47485, 47486, 47489, 47490, 47491, 47493, 47495, 47498, 47503, 47504, 47505, 47508, 47509, 47510, 47511, 47512, 47513, 47515, 47516, 47517, 47518, 47519, 47520, 47521, 47523, 47524, 47526, 47530, 47534, 47535, 47536, 47537, 47538, 47540, 47541, 47542, 47543, 47546, 47547, 47548, 47549, 47550, 47551, 47552, 47553, 47554, 47555, 47556, 47557, 47558, 47559, 47562, 47563, 47564, 47565, 47567, 47570, 47571, 47572, 47574, 47575, 47579, 47580, 47581, 47582, 47583, 47584, 47586, 47587, 47590, 47593, 47594, 47595, 47597, 47598, 47599, 47600, 47601, 47603, 47604, 47605, 47607, 47610, 47612, 47613, 47614, 47615, 47616, 47619, 47621, 47623, 47624, 47625, 47626, 47628, 47630, 47632, 47634, 47635, 47636, 47637, 47638, 47639, 80403, 47641, 47645, 47646, 47648, 47650, 47651, 47653, 47654, 47655, 47657, 47660, 47663, 47664, 47665, 47666, 47668, 47669, 47673, 47674, 47677, 47678, 47679, 47681, 47685, 47687, 47689, 47690, 47691, 47692, 47694, 47702, 47704, 47705, 47706, 47707, 47708, 47710, 47712, 47713, 47714, 47715, 47719, 47720, 47722, 47724, 47727, 47729, 47730, 47731, 47732, 47733, 47734, 47735, 47736, 47738, 47739, 47740, 47741, 47745, 47746, 47747, 47748, 47751, 47753, 47754, 47757, 47758, 47760, 47761, 47762, 47763, 47764, 47765, 47766, 47767, 47772, 47776, 47777, 47780, 47781, 47782, 47783, 47785, 47786, 47787, 47789, 47790, 47792, 47793, 47794, 47797, 47799, 47800, 47801, 47802, 47803, 47804, 47805, 47806, 47807, 47808, 47811, 47812, 47813, 47814, 47815, 47816, 47818, 47819, 47820, 47823, 47824, 47825, 47826, 47827, 47829, 47831, 47832, 47833, 47834, 47837, 47838, 47839, 47840, 47842, 47843, 47844, 47847, 47850, 47852, 47853, 47854, 47855, 47856, 47859, 47860, 47861, 47862, 47863, 47865, 47866, 47867, 47868, 47870, 47872, 47873, 47874, 47875, 47877, 47878, 47881, 47882, 47884, 47885, 47886, 47888, 47890, 47891, 47896, 47897, 47898, 47899, 47902, 47903, 47905, 47906, 47910, 47918, 47921, 47922, 47923, 47927, 47929, 47930, 47932, 47933, 47934, 47937, 47939, 47940, 47941, 47942, 47943, 47944, 47947, 47948, 80717, 47950, 47951, 47952, 47956, 47958, 47959, 47961, 47962, 47965, 47966, 47967, 47969, 47971, 47972, 47973, 80740, 47975, 47976, 47977, 47978, 47979, 47980, 47981, 47982, 47983, 47984, 47987, 47989, 47990, 47992, 47994, 47996, 47998, 48001, 48002, 48003, 48004, 48005, 48006, 48007, 48008, 48009, 48010, 48012, 48014, 48015, 48016, 48017, 48020, 48021, 48022, 48024, 48025, 48026, 48027, 48028, 48029, 48030, 48033, 48034, 48035, 48037, 48038, 48040, 48043, 48047, 48048, 48050, 48051, 48052, 48053, 48055, 48056, 48058, 48061, 48062, 48063, 48066, 48067, 48068, 48069, 48070, 48073, 48077, 48079, 48081, 48084, 48085, 48086, 48087, 48088, 48089, 48090, 48092, 48094, 48095, 48096, 48100, 48101, 81202, 48103, 48105, 48107, 48108, 48111, 48112, 48113, 48114, 48115, 48116, 48117, 48122, 48123, 48124, 48126, 48127, 48128, 48129, 48131, 48133, 48136, 48137, 48139, 48140, 48141, 48143, 48144, 48145, 48146, 48148, 48149, 48152, 48153, 48155, 48156, 48157, 48158, 48160, 48161, 48163, 48164, 48165, 48166, 48167, 48169, 48170, 48171, 48172, 48173, 48174, 48177, 48178, 48179, 48180, 48182, 48185, 48186, 48187, 48188, 48190, 48191, 48192, 48193, 48195, 48197, 48199, 48201, 48202, 48205, 48206, 48207, 48209, 48210, 81224, 48212, 48215, 48216, 48218, 48219, 48220, 48222, 48224, 48225, 48227, 48228, 48229, 48230, 48231, 48233, 48234, 48235, 48236, 81007, 48241, 48242, 48244, 48245, 48246, 48247, 48248, 48250, 48251, 48252, 81023, 48258, 48259, 48261, 48262, 48265, 48267, 48268, 48269, 48270, 48271, 48272, 81037, 48274, 48275, 48276, 48279, 48280, 48281, 81051, 48285, 48286, 48288, 48289, 48291, 48292, 48293, 48294, 48295, 48297, 48298, 48299, 48300, 48301, 48303, 48305, 48307, 48308, 48309, 48311, 48312, 48313, 48314, 48315, 48317, 81086, 48319, 48321, 48322, 81092, 48325, 48326, 48327, 48331, 48332, 48333, 48336, 48337, 81105, 48339, 48340, 48341, 48348, 48349, 48350, 48351, 48352, 48353, 48354, 48355, 81117, 48357, 48358, 48359, 81122, 81128, 48362, 48363, 48364, 48365, 48366, 48367, 81130, 48369, 48370, 48371, 48372, 48373, 48374, 48378, 48379, 48380, 48381, 81149, 48383, 48384, 48385, 48386, 48387, 48388, 48390, 48391, 48392, 48393, 48394, 48395, 81159, 81162, 48398, 48399, 48400, 48402, 81171, 48404, 48406, 48407, 48409, 48410, 48413, 48415, 48416, 48417, 48420, 48422, 48423, 81190, 48425, 48426, 48427, 81193, 48429, 81194, 48432, 48433, 48434, 48435, 48436, 48437, 48438, 48439, 48440, 48441, 48442, 48443, 81211, 48445, 48446, 48447, 48448, 48449, 48450, 48451, 48452, 48453, 48454, 48455, 81221, 48457, 48458, 48459, 48460, 48461, 48462, 48463, 48464, 48465, 48466, 48467, 48468, 48469, 48470, 48471, 48472, 48473, 48474, 48476, 48478, 48479, 81246, 48481, 48482, 48483, 48484, 48485, 48486, 48487, 48488, 48489, 48490, 81250, 48495, 48496, 48497, 81263, 81264, 48500, 48502, 48503, 48504, 81272, 48506, 48510, 48511, 48512, 48513, 48516, 48517, 81285, 48523, 81293, 48526, 48527, 81294, 48529, 48530, 81295, 48532, 81297, 48534, 48535, 48536, 48538, 48539, 48540, 48541, 48542, 81307, 48544, 48545, 48546, 48547, 48548, 48551, 48552, 81320, 81321, 48555, 48556, 48557, 48559, 81328, 48561, 48562, 48563, 48564, 48565, 81329, 48567, 48568, 81332, 48570, 48572, 48574, 48575, 48576, 48577, 48579, 48580, 48581, 48582, 48583, 48586, 48587, 48588, 81354, 48590, 48591, 48592, 81355, 48594, 48595, 81364, 48597, 48598, 48599, 81367, 48601, 48604, 48605, 48606, 48608, 48611, 48612, 81381, 48614, 81382, 48616, 48617, 48620, 48621, 48622, 81390, 48625, 48626, 48627, 48628, 48629, 48632, 48633, 48636, 48637, 48638, 48639, 48641, 48645, 48646, 48647, 81416, 48650, 48651, 48654, 48655, 81425, 48658, 48659, 48660, 48662, 48663, 48664, 48665, 48666, 48668, 48672, 81441, 48674, 48675, 48676, 48677, 48678, 48679, 81442, 81443, 48683, 48684, 48685, 48687, 48688, 48691, 48692, 48697, 48698, 81468, 48701, 48703, 48704, 81473, 48707, 48709, 48715, 48717, 48719, 48720, 48722, 81491, 48727, 48730, 81499, 48732, 48733, 81503, 48736, 48737, 48738, 48739, 48740, 48741, 48742, 48743, 81506, 48746, 48747, 48748, 48749, 48750, 48752, 81520, 48754, 48755, 48756, 48757, 48758, 48759, 48760, 81521, 81523, 48763, 48764, 48766, 48769, 48770, 48771, 48774, 48777, 48778, 48779, 48780, 48781, 48782, 81546, 48784, 48785, 48786, 48787, 48788, 81555, 48790, 81559, 81560, 48793, 48794, 48798, 48804, 48805, 48806, 48807, 48808, 81572, 48810, 48811, 81573, 48813, 48815, 48816, 48817, 48818, 48819, 48821, 48823, 48828, 48829, 48830, 81598, 48832, 48836, 48837, 48840, 48841, 48842, 48843, 48846, 48848, 48849, 48850, 48853, 48854, 48856, 48857, 48858, 48859, 81624, 81625, 48862, 48863, 48865, 48866, 48867, 48868, 81636, 48874, 48875, 48876, 48877, 48878, 48879, 81649, 48882, 48883, 48884, 48885, 48886, 48887, 81650, 48889, 48890, 48892, 48893, 81662, 48895, 48896, 48897, 81663, 48899, 48901, 48902, 48903, 48904, 48906, 48907, 48908, 48909, 48910, 48911, 81676, 48913, 48914, 48915, 48916, 48917, 48918, 48921, 48923, 48924, 48925, 48926, 48928, 48929, 48930, 48931, 48934, 48935, 81702, 48939, 48940, 48941, 48942, 48943, 48944, 48945, 48946, 48947, 48949, 48950, 48951, 48952, 48953, 48954, 48955, 48957, 48958, 48959, 48960, 48961, 48962, 81728, 81733, 48967, 48970, 48972, 81740, 48974, 48975, 48976, 48977, 48978, 48979, 48980, 81741, 48983, 48984, 48985, 48986, 48987, 81754, 48990, 48992, 48995, 48996, 48997, 48998, 49000, 49003, 49004, 49005, 49006, 49007, 49008, 49009, 49010, 49011, 49012, 49015, 49016, 49017, 49018, 49020, 49021, 49022, 49023, 49024, 49026, 49028, 49029, 49030, 49031, 49032, 49033, 49035, 49036, 49037, 81806, 49040, 49041, 49042, 49043, 49044, 49045, 49046, 49047, 81811, 49049, 49051, 49052, 49053, 49054, 49055, 49057, 49058, 49059, 49060, 49063, 49066, 49067, 49068, 49069, 49070, 49072, 49073, 49074, 49075, 49076, 49077, 49078, 81844, 49080, 49081, 49082, 49083, 49084, 49085, 81845, 49087, 49088, 49089, 49093, 49095, 49097, 49098, 49099, 49100, 81866, 49103, 49105, 49107, 49109, 49110, 49111, 49115, 49116, 49117, 49119, 49120, 49121, 49123, 49125, 49126, 49127, 49128, 81893, 49130, 49131, 81896, 49134, 49135, 49137, 49138, 49139, 49141, 49142, 49144, 49145, 49146, 49148, 49149, 81916, 49152, 81922, 81923, 49156, 49158, 49159, 49160, 49161, 49163, 49164, 81934, 49167, 49168, 81936, 49170, 49171, 81937, 49173, 49174, 49175, 81942, 49177, 49178, 49179, 49180, 49181, 81950, 49184, 49185, 49187, 49188, 49190, 49193, 49195, 81963, 49199, 49200, 81968, 49202, 49204, 49205, 49206, 49207, 81974, 49210, 49211, 49212, 49213, 49214, 49215, 49217, 49218, 49219, 49220, 81988, 49222, 49226, 49228, 49231, 49232, 49233, 49234, 82000, 49238, 49239, 49240, 49242, 82012, 49245, 82014, 49247, 49250, 49251, 49252, 49253, 82018, 49255, 49256, 49257, 49258, 49259, 82027, 82028, 49263, 49267, 49269, 49270, 49271, 49272, 49273, 82040, 49278, 49279, 49280, 49281, 49283, 82052, 49285, 49287, 49289, 49291, 49292, 49293, 49294, 49296, 49297, 49299, 49301, 49302, 49305, 49309, 82078, 49311, 49312, 49313, 49314, 49315, 49316, 49317, 49318, 49319, 49320, 49321, 49322, 49323, 49324, 49325, 82092, 49327, 49329, 49331, 49332, 49333, 49334, 49336, 49337, 82104, 49339, 49340, 49342, 49343, 49347, 49350, 49351, 49352, 49353, 82118, 49355, 49359, 49360, 49362, 82130, 49364, 49365, 49366, 49367, 49368, 49370, 49372, 49373, 49374, 49375, 49376, 49378, 49379, 49380, 49381, 49382, 49383, 49384, 49385, 49386, 82153, 49388, 49389, 49390, 82156, 49392, 49393, 82157, 49397, 49398, 49399, 49400, 49401, 82170, 49404, 49405, 49406, 49407, 49411, 49412, 49413, 82182, 82183, 49416, 49418, 49419, 49420, 49421, 49422, 49425, 49427, 49430, 49431, 49433, 49435, 49437, 49438, 49439, 49440, 49441, 49443, 49444, 49445, 49448, 49449, 82218, 49451, 49452, 49454, 49455, 49456, 49458, 49460, 82228, 49462, 49463, 49464, 82231, 49466, 49467, 49468, 49469, 49470, 49471, 49474, 49475, 49476, 49477, 49479, 49481, 49482, 49483, 49484, 49485, 49486, 49487, 49488, 82257, 49490, 49491, 82260, 49493, 49495, 49496, 49497, 49498, 49500, 49501, 82269, 49504, 49506, 49508, 49509, 49510, 49513, 49516, 49517, 49518, 49519, 49520, 49521, 49522, 49523, 49524, 49526, 49527, 49528, 82295, 49530, 49531, 49532, 49535, 49536, 49537, 49539, 82307, 49542, 49543, 49545, 49546, 49548, 49549, 49550, 49552, 49553, 49554, 49555, 82322, 49559, 49561, 49562, 49564, 49565, 49566, 82335, 49569, 49570, 49573, 49575, 49576, 49577, 49579, 49580, 49581, 49582, 49583, 82347, 49585, 49587, 49588, 49591, 49593, 82361, 49596, 49597, 49598, 49600, 49601, 49602, 49604, 49605, 82373, 49607, 49608, 49609, 49611, 49616, 49618, 49619, 49620, 82387, 82388, 49623, 82390, 49627, 49628, 49629, 82396, 49632, 49633, 49634, 49635, 82400, 49638, 49639, 49642, 49644, 82413, 49646, 49647, 49648, 49649, 49651, 49654, 49655, 49656, 49657, 82425, 49660, 49661, 49663, 49664, 49666, 49669, 49671, 49672, 49674, 49675, 49676, 49678, 49680, 49681, 49682, 82451, 82452, 49685, 49686, 49687, 49688, 49691, 49692, 82460, 49696, 49697, 49698, 49699, 49701, 49703, 49705, 49706, 82478, 49711, 49712, 49713, 49716, 49717, 49719, 49723, 49724, 49725, 49726, 82491, 49729, 49730, 49731, 49732, 49734, 49735, 82504, 49737, 49738, 49739, 49741, 49742, 49744, 49745, 49746, 49747, 49748, 49750, 49751, 49752, 49753, 82520, 49755, 49756, 49758, 49759, 49760, 49761, 49762, 82529, 49764, 49765, 49770, 49771, 49772, 49774, 49775, 49777, 49778, 49779, 49780, 49781, 49786, 49789, 49790, 49791, 49792, 49794, 49796, 49797, 49798, 49800, 49801, 49802, 49803, 49804, 49806, 49808, 49809, 49810, 49811, 49813, 82581, 49815, 49816, 49817, 49818, 49819, 82587, 82590, 49823, 49825, 49830, 49833, 49834, 82602, 49836, 49837, 49838, 49839, 49840, 49841, 49843, 49844, 49845, 82611, 49847, 49848, 82616, 49850, 49852, 49853, 49854, 49855, 49856, 49857, 82626, 49859, 49860, 49862, 49863, 49864, 49865, 49867, 49868, 49869, 49870, 49871, 49872, 82639, 49874, 82642, 49878, 49880, 49881, 82648, 49883, 49884, 49885, 82651, 49887, 49890, 49891, 49894, 49895, 49897, 49899, 49901, 49903, 82672, 49905, 49906, 49907, 82677, 49910, 49911, 49912, 49913, 82679, 49915, 49916, 49917, 49918, 49919, 49920, 82683, 49922, 49923, 49924, 49925, 49927, 49928, 49929, 49931, 49934, 49936, 49939, 49942, 49944, 49945, 82712, 49948, 49953, 49954, 49955, 49956, 82725, 49958, 49959, 49960, 49961, 49962, 49964, 49966, 49967, 49968, 49969, 49970, 82738, 49972, 82739, 49975, 49976, 49977, 49978, 49979, 49982, 82750, 49984, 49986, 49988, 49989, 49990, 49991, 49992, 49993, 49994, 49995, 49996, 82765, 49999, 50000, 50004, 50005, 50008, 50009, 50010, 50011, 50012, 50013, 50014, 50015, 50017, 50018, 50019, 50020, 50021, 50024, 82792, 50026, 50028, 50030, 50031, 50032, 50033, 50034, 50036, 50037, 50038, 50040, 50041, 50042, 50043, 50044, 50045, 50047, 50052, 50053, 50054, 50056, 50057, 50058, 50060, 50061, 50062, 50063, 50064, 50065, 50066, 50067, 50069, 50070, 82839, 50072, 50073, 50074, 50075, 82843, 50080, 50081, 50082, 50083, 50085, 50089, 50090, 50091, 50093, 50094, 50095, 50097, 50098, 50099, 50100, 50101, 50102, 50103, 50104, 82865, 50107, 50108, 50109, 50110, 50113, 50119, 50121, 50122, 82891, 50124, 50125, 50127, 50129, 50130, 50131, 50132, 50133, 50135, 50137, 50139, 82908, 50141, 50142, 50143, 50145, 50146, 50147, 50150, 50151, 50152, 50153, 50155, 50157, 50158, 50159, 50160, 50162, 50163, 50165, 50167, 50168, 50169, 50173, 50176, 50178, 50180, 50181, 50183, 50184, 50186, 50187, 82956, 50190, 50191, 50192, 50193, 50194, 50196, 50197, 82966, 50199, 50200, 50201, 50202, 50203, 50204, 50205, 82969, 50208, 50210, 50211, 50213, 50214, 50215, 82982, 50218, 50219, 50220, 50224, 50226, 82995, 50230, 50232, 50233, 50234, 50235, 50236, 50237, 50238, 50239, 50240, 50241, 50242, 50244, 50246, 50248, 50250, 83021, 50254, 50255, 50256, 50259, 50260, 50261, 50263, 50264, 50265, 50266, 50267, 50269, 50271, 50273, 50274, 50275, 50276, 50277, 50278, 50279, 50280, 50281, 50283, 50285, 50286, 50288, 50289, 50291, 50292, 50293, 50294, 50295, 83060, 50297, 83064, 50300, 50302, 50303, 83073, 50306, 50307, 50308, 50309, 50314, 50316, 50318, 50319, 50320, 50321, 50322, 50323, 50324, 50325, 50326, 83089, 50328, 83090, 50330, 50331, 50332, 50333, 50334, 50335, 50336, 83102, 50339, 50340, 50343, 50346, 50347, 50348, 50349, 83116, 50352, 50353, 50354, 50355, 50356, 50357, 50358, 50359, 50360, 50361, 83129, 50363, 50366, 50367, 50369, 50370, 50371, 50372, 50375, 50378, 50379, 50380, 50381, 50382, 50383, 50384, 50385, 50386, 83155, 50388, 50389, 50391, 50392, 50394, 50396, 50397, 50398, 50399, 50400, 50402, 50403, 50404, 50405, 50406, 50407, 50408, 50409, 50411, 50412, 50413, 83181, 50415, 50417, 50419, 50420, 50422, 50424, 50425, 50426, 50427, 50428, 50429, 50430, 50431, 83194, 50433, 83198, 50435, 50436, 50438, 50440, 50444, 50445, 50446, 50448, 50449, 50451, 50453, 50455, 50456, 50457, 83225, 50459, 50461, 50462, 50463, 83232, 50465, 50466, 50467, 50468, 50469, 50470, 50472, 50473, 50475, 50476, 50477, 50478, 50479, 50480, 83246, 83250, 50484, 50486, 50487, 50490, 50491, 50492, 50493, 50494, 81677, 50496, 50497, 50500, 50501, 50504, 50505, 50507, 50508, 50509, 50511, 50513, 50515, 50516, 50517, 50519, 50520, 50521, 50522, 50523, 83289, 50525, 50526, 50527, 50528, 50529, 50530, 50531, 50532, 83298, 50534, 50538, 50543, 83313, 50549, 50551, 50553, 50554, 50555, 83324, 50558, 50559, 83328, 50561, 50562, 50564, 50565, 50569, 50570, 50572, 50573, 50575, 50577, 50578, 50579, 50580, 50581, 83350, 50585, 50587, 50588, 50589, 50590, 50592, 50593, 50594, 50595, 50597, 50599, 50602, 50603, 50605, 50607, 50608, 50609, 50610, 50612, 50613, 50615, 50616, 50618, 50620, 50621, 83389, 83391, 50624, 50626, 50628, 50630, 83399, 50633, 50634, 50635, 83402, 50638, 50641, 50642, 50644, 50647, 50648, 50649, 50650, 50651, 50652, 83415, 50654, 50655, 50656, 50657, 50660, 50661, 50662, 83428, 50664, 50665, 50667, 50668, 50670, 50673, 50675, 50677, 50678, 50679, 50680, 50681, 50687, 50688, 50689, 50691, 50692, 50693, 50696, 50700, 50701, 50702, 50704, 50706, 50707, 50708, 50709, 50710, 50711, 50712, 83480, 50716, 50717, 50718, 83484, 50720, 50721, 50722, 50723, 50725, 50726, 50728, 50729, 50732, 50733, 50734, 50735, 50736, 50737, 83503, 83506, 50740, 50741, 50743, 50744, 50746, 50747, 83518, 50751, 50752, 50753, 50754, 83519, 50760, 50762, 50763, 50764, 50766, 50767, 50768, 50771, 50772, 50774, 50776, 50778, 50779, 50787, 50788, 83558, 50791, 50792, 50793, 50794, 50796, 50797, 50798, 50801, 50802, 83571, 50804, 50808, 50810, 50812, 50813, 50816, 50817, 50818, 50820, 83588, 50822, 50824, 50825, 50826, 50828, 50829, 50830, 50831, 50832, 50833, 50835, 50836, 50838, 50840, 50842, 83610, 50844, 50845, 83614, 50847, 50848, 50849, 50850, 50851, 50852, 50855, 50856, 83625, 50859, 50860, 50861, 83627, 50863, 50864, 50865, 50867, 50869, 50870, 50871, 50873, 50874, 50875, 83641, 50877, 50878, 50879, 50880, 50881, 50882, 83649, 50884, 50886, 50888, 50889, 50891, 50892, 50893, 50894, 50895, 50896, 50897, 50898, 83665, 83666, 50901, 50902, 50903, 50904, 50905, 50906, 50907, 50908, 50909, 50910, 50912, 50913, 83680, 50915, 50917, 50918, 50919, 50920, 50921, 50922, 50924, 50925, 50926, 50928, 50929, 50930, 50935, 50937, 50938, 50939, 83705, 50941, 50942, 50943, 50944, 50945, 50949, 50950, 50952, 50953, 50954, 50955, 50956, 50957, 50959, 50960, 50961, 50962, 83732, 50965, 50969, 50972, 50973, 50975, 50976, 83744, 50980, 50981, 50982, 50983, 50986, 50989, 50990, 50991, 50992, 83757, 50994, 50995, 83761, 50997, 50998, 83770, 83783, 83786, 83809, 83864, 83865, 83890, 83904, 83916, 83942, 83943, 83965, 83968, 83969, 83978, 83988, 83991, 83995, 84006, 84010, 84026, 84027, 84032, 84035, 84048, 84052, 84070, 84076, 84077, 84079, 84081, 84086, 84090, 84098, 84110, 84122, 84126, 84142, 84147, 84150, 84154, 84155, 84158, 84162, 84166, 84167, 84171, 84178, 84179, 84182, 84189, 84190, 84191, 84194, 84198, 84199, 84202, 84205, 84206, 84208, 84210, 84214, 84234, 84243, 84246, 84250, 84251, 84258, 84262, 84263, 84269, 84274, 84278, 84283, 84291, 84294, 84296, 84298, 84299, 84302, 84303, 84306, 84323, 84327, 84330, 84334, 84335, 84342, 84343, 84346, 84349, 84354, 84357, 84358, 84362, 84366, 84371, 84373, 84374, 84378, 84381, 84382, 84386, 84390, 84394, 84395, 84397, 84406, 84410, 84431, 84442, 84443, 84446, 84450, 84453, 84454, 84461, 84462, 84463, 84466, 84469, 84472, 84474, 84478, 84482, 84483, 84485, 84486, 84490, 84492, 84493, 84494, 84497, 84498, 84501, 84502, 84509, 84510, 84514, 84519, 84522, 84530, 84538, 84539, 84550, 84554, 84557, 84562, 84571, 84583, 84586, 84590, 84594, 84597, 84606, 84610, 84613, 84616, 84618, 84621, 84622, 84626, 84629, 84630, 84632, 84634, 84635, 84637, 84638, 84642, 84658, 84660, 84661, 84662, 84663, 84666, 84668, 84670, 84674, 84677, 84682, 84686, 84694, 84696, 84698, 84706, 84710, 84713, 84714, 84717, 84718, 84722, 84723, 84725, 84726, 84730, 84734, 84738, 84744, 84746, 84749, 84750, 84754, 84758, 84759, 84761, 84762, 84763, 84766, 84770, 84771, 84773, 84774, 84779, 84781, 84782, 84794, 84800, 84802, 84803, 84805, 84806, 84810, 84813, 84815, 84818, 84822, 84823, 84826, 84828, 84834, 84838, 84839, 84842, 84846, 84853, 84855, 84858, 84861, 84866, 84868, 84870, 84874, 84877, 84878, 84888, 84890, 84892, 84898, 84899, 84901, 84906, 84909, 84910, 84916, 84918, 84922, 84923, 84925, 84926, 84928, 84930, 84933, 84934, 84938, 84944, 84946, 84947, 84949, 84954, 84955, 84957, 84958, 84962, 84966, 84970, 84978, 84981, 84982, 84984, 84998, 85002, 85005, 85006, 85010, 85011, 85012, 85013, 85014, 85034, 85036, 85037, 85038, 85046, 85048, 85054, 85057, 85059, 85066, 85069, 85074, 85077, 85078, 85081, 85082, 85086, 85093, 85101, 85102, 85105, 85106, 85109, 85110, 85114, 85117, 85125, 85126, 85130, 85134, 85141, 85149, 85150, 85154, 85166, 85167, 85173, 85174, 85181, 85188, 85189, 85190, 85194, 85197, 85198, 85202, 85205, 85213, 85218, 85221, 85226, 85229, 85233, 85234, 85237, 85238, 85250, 85254, 85258, 85261, 85265, 85266, 85269, 85270, 85273, 85274, 85276, 85278, 85286, 85290, 85292, 85294, 85296, 85297, 85302, 101622, 85305, 85306, 85311, 85316, 85317, 85318, 85323, 85326, 85335, 85340, 85341, 85342, 85346, 85350, 85353, 85355, 85356, 85366, 85378, 85383, 85384, 85386, 85388, 85390, 85394, 85397, 85398, 85401, 85402, 85403, 85407, 85412, 85415, 85419, 85422, 85426, 85431, 85436, 85453, 85461, 85466, 85469, 85471, 85474, 85477, 85478, 85483, 85486, 85487, 85490, 85493, 85494, 85498, 85502, 85504, 85506, 85510, 85514, 85517, 85518, 85522, 85523, 85530, 85538, 85541, 85542, 85546, 85550, 85554, 85557, 85558, 85560, 85562, 85570, 85573, 85574, 85580, 85581, 85582, 85586, 85589, 85597, 85598, 85604, 85605, 85606, 85610, 85613, 85614, 85617, 85618, 85626, 85627, 85629, 85630, 85634, 85635, 85637, 85638, 85642, 85645, 85647, 85650, 85652, 85653, 85654, 85658, 85659, 85661, 85662, 85666, 85669, 85670, 85673, 85674, 85677, 85682, 85683, 85689, 85690, 85698, 85701, 85706, 85709, 85710, 85714, 85716, 85717, 85718, 85722, 85730, 85733, 85739, 85746, 85750, 85754, 85755, 85756, 85765, 85770, 85773, 85781, 85786, 85788, 85789, 85790, 85794, 101720, 85797, 85798, 85804, 85805, 85810, 101723, 85813, 85815, 85818, 85821, 101726, 85826, 85828, 85829, 85830, 85832, 85834, 101728, 85838, 85840, 101729, 85843, 85845, 85850, 101731, 85853, 101732, 85863, 85867, 85869, 85874, 85875, 85877, 85882, 85883, 85885, 85890, 85903, 85911, 85923, 85926, 85933, 85943, 85950, 85967, 85968, 85974, 85975, 85978, 85981, 85982, 85986, 85989, 85990, 85997, 85998, 86002, 86010, 86017, 86021, 86022, 86035, 86043, 86046, 86055, 86059, 86063, 86065, 86067, 86068, 86069, 86070, 86083, 86085, 86086, 86089, 86091, 86094, 86098, 86099, 86100, 86101, 86102, 86106, 86108, 86109, 86110, 86114, 86115, 86117, 86118, 86121, 101785, 86125, 86126, 86130, 101787, 86133, 86134, 86139, 86141, 86142, 101789, 86146, 86149, 86150, 86154, 86157, 86158, 86162, 101794, 101795, 101796, 86187, 86188, 86189, 86190, 86191, 101799, 101801, 86204, 86214, 86215, 101804, 86220, 86221, 86222, 86225, 86229, 86234, 86237, 86238, 86245, 86246, 86247, 86253, 86254, 86257, 86270, 86271, 86274, 86277, 86278, 101816, 86282, 86284, 86286, 86292, 86293, 86294, 86298, 86300, 86301, 86306, 86309, 86310, 86314, 86317, 86318, 86322, 86323, 86331, 86333, 86334, 86335, 86338, 86341, 86342, 86346, 86349, 86352, 86354, 86355, 86357, 86358, 86362, 86365, 86366, 86370, 86373, 86374, 86378, 86379, 86381, 86392, 86394, 86398, 86404, 86405, 86410, 86413, 86414, 86419, 86422, 86426, 86431, 86435, 86436, 86438, 86439, 86450, 86451, 86455, 86460, 86465, 86468, 86475, 86479, 86481, 86484, 86485, 86491, 86499, 86500, 86509, 86522, 86525, 86530, 86533, 86534, 86538, 86540, 86546, 86549, 86550, 86554, 86555, 86562, 86566, 86570, 86573, 86574, 86578, 86580, 86581, 86588, 86589, 86590, 86594, 86596, 86598, 86600, 86602, 86605, 86606, 86611, 86613, 86614, 86619, 86621, 86622, 86623, 86629, 101886, 86634, 86636, 86638, 101888, 86642, 86645, 86646, 86654, 86655, 86661, 86666, 86667, 101894, 86672, 86673, 86675, 86680, 86682, 86690, 86694, 86701, 86702, 101901, 86707, 101902, 86716, 86717, 86718, 86722, 86723, 86725, 86728, 86730, 86732, 86733, 86734, 86736, 101907, 86739, 101908, 86743, 86747, 86749, 101910, 86752, 86754, 86755, 86758, 101912, 86762, 86770, 86773, 86780, 101916, 86784, 86789, 86807, 86812, 86814, 86821, 86822, 86826, 86838, 86846, 86850, 86852, 86853, 86857, 86858, 86860, 86866, 86873, 86877, 86878, 86885, 86886, 86892, 86898, 86899, 86900, 86901, 86902, 86907, 86909, 86910, 86911, 86918, 86925, 86926, 86930, 86933, 86934, 86938, 86941, 86942, 86943, 86946, 86947, 21414, 86950, 86951, 86964, 86978, 86981, 86988, 21453, 101958, 86997, 101959, 87007, 87010, 87011, 87017, 87022, 87029, 87032, 87035, 87044, 87046, 87048, 87049, 87052, 87058, 87064, 87068, 87070, 87078, 87079, 87080, 87083, 87086, 87087, 87089, 87095, 87097, 87098, 87099, 87101, 87102, 87103, 87104, 87107, 87110, 87113, 87116, 87117, 87124, 101985, 87131, 87133, 87134, 87135, 101986, 87138, 87140, 101988, 87147, 87149, 87159, 87161, 21626, 87162, 87163, 87165, 101992, 87168, 87169, 101993, 87171, 87177, 87179, 21646, 87184, 87185, 87194, 87196, 87198, 87200, 87203, 87205, 87206, 87209, 87210, 87212, 87213, 87215, 87224, 87230, 87231, 87233, 87235, 87242, 21707, 87243, 87245, 87246, 87247, 87252, 87253, 87254, 87256, 87258, 87259, 87260, 87264, 87266, 87267, 87269, 87272, 87274, 87275, 87276, 87277, 87278, 87283, 87287, 87288, 87289, 87290, 87291, 87292, 87293, 87295, 87296, 87302, 87303, 21768, 87304, 87305, 87306, 87308, 87313, 87315, 87318, 87319, 87321, 87322, 87324, 87326, 87327, 87328, 87335, 87355, 87367, 87372, 87376, 87377, 87380, 87386, 87389, 87392, 87394, 87398, 87399, 87403, 87404, 87405, 21873, 87411, 87412, 87413, 87414, 87417, 87418, 87419, 87421, 87425, 87431, 87433, 87434, 87437, 87438, 87441, 87442, 87445, 87453, 87454, 87456, 87457, 87458, 87462, 87463, 87464, 87466, 87468, 87474, 87476, 87480, 87483, 87485, 87486, 87487, 87488, 87489, 87490, 87494, 87497, 87499, 87500, 87505, 87506, 87507, 87510, 87511, 87515, 87520, 87526, 87528, 87529, 87532, 87533, 87534, 87540, 87542, 87566, 87570, 87572, 87573, 87574, 87577, 87581, 87583, 87584, 87585, 87586, 87591, 87595, 87596, 87597, 87598, 87599, 87600, 87608, 87609, 87610, 87615, 87618, 87619, 87621, 87622, 87623, 87626, 87628, 87636, 87637, 87639, 87641, 87643, 87645, 87646, 87647, 87649, 87650, 87651, 87652, 87657, 87658, 87659, 87660, 87667, 87676, 87679, 87680, 87683, 87686, 87693, 87694, 87696, 87706, 87707, 87709, 87712, 87713, 87716, 87723, 87731, 87734, 87736, 87737, 87741, 87742, 87743, 87745, 87754, 87763, 87767, 87781, 87783, 87784, 87785, 87793, 87796, 87812, 87814, 87816, 87817, 87818, 87820, 87821, 87824, 87825, 87828, 87829, 87831, 87832, 87837, 87838, 87839, 87840, 87843, 87845, 87855, 87857, 87858, 87862, 87864, 87869, 87872, 87873, 87878, 87880, 87881, 87883, 87884, 87886, 87893, 87899, 87901, 87905, 87909, 87916, 87920, 87928, 87930, 87938, 87940, 87947, 87956, 87957, 87963, 87965, 87966, 87972, 87973, 87974, 87978, 87979, 87980, 87984, 87985, 87987, 87988, 87989, 87991, 87992, 87996, 88007, 88010, 88011, 88015, 88020, 88021, 88025, 88027, 88028, 88029, 88031, 88034, 88036, 88037, 88039, 88046, 88047, 88048, 88049, 88052, 88054, 88057, 88060, 88069, 88077, 88079, 88086, 88087, 88088, 88094, 88096, 88097, 88103, 88105, 88107, 88108, 88109, 88111, 88112, 88113, 88114, 88115, 88118, 88123, 88124, 88130, 88133, 88134, 88137, 88138, 88141, 88147, 88148, 88151, 88153, 88154, 88166, 88167, 88168, 88170, 88172, 88174, 22640, 88178, 88180, 88183, 88186, 88189, 88194, 88199, 88200, 88201, 88203, 88206, 88207, 88208, 88209, 88210, 88214, 88219, 88223, 88225, 88227, 88231, 88232, 88234, 88240, 88241, 88242, 22710, 88246, 88247, 88248, 88249, 88251, 88256, 88263, 88266, 88268, 88269, 88272, 88275, 88276, 88285, 88291, 88296, 88297, 88304, 88309, 88312, 88314, 88320, 88322, 88323, 88327, 22794, 88330, 88332, 88333, 88335, 88337, 88338, 88340, 88342, 88345, 88346, 88353, 88354, 88356, 88357, 88362, 88363, 88371, 88373, 88375, 22840, 88376, 88384, 22849, 88385, 88389, 88391, 88393, 88394, 88396, 88413, 88425, 88433, 88434, 88435, 88436, 88440, 88443, 88444, 88449, 88451, 88454, 88464, 88465, 88468, 88471, 88473, 88474, 88476, 22945, 88481, 88487, 88489, 88490, 88493, 88494, 88496, 88497, 88499, 88504, 88505, 88509, 88513, 88515, 88518, 88523, 88524, 88527, 88533, 88536, 88539, 88541, 88546, 88547, 88549, 88550, 88552, 88554, 88558, 88560, 88562, 88563, 88565, 88572, 88580, 88581, 88582, 88586, 88589, 88591, 88592, 88594, 88595, 88599, 88601, 88615, 88617, 88620, 88621, 88627, 88629, 23095, 88631, 88632, 88633, 88638, 88639, 88641, 88642, 88645, 88649, 88650, 88651, 88652, 88653, 88654, 88660, 88663, 88664, 88665, 88668, 88669, 88672, 88676, 88677, 88679, 23145, 88683, 88690, 88691, 88694, 88700, 88703, 88705, 88706, 88708, 88709, 88711, 88712, 88713, 88715, 88716, 88719, 88722, 88729, 88736, 88737, 88739, 88741, 88754, 88759, 88760, 88762, 88764, 88765, 88774, 88778, 88779, 88780, 88783, 88784, 88785, 88789, 88792, 88794, 88799, 88805, 88806, 88810, 88811, 88812, 88814, 88815, 88825, 88832, 88835, 88836, 88840, 88842, 88844, 88850, 88851, 88852, 88861, 88863, 88871, 88875, 88879, 88881, 88883, 88884, 88886, 88887, 88891, 88892, 88893, 88894, 88896, 88897, 88900, 88901, 88902, 88907, 88908, 88910, 88912, 88923, 88930, 88933, 88942, 88943, 88945, 88948, 88953, 88969, 88970, 88971, 88973, 88974, 88976, 88977, 88985, 88988, 88992, 88997, 89006, 89009, 89011, 89012, 89013, 89020, 89021, 89023, 89026, 89027, 76311, 89031, 89033, 89037, 89052, 89053, 89059, 89060, 89069, 89070, 89071, 89073, 89074, 89075, 89076, 89078, 89081, 89091, 89094, 89095, 89098, 89102, 89104, 89110, 89111, 89113, 89120, 89126, 89127, 89129, 89131, 89136, 89137, 89138, 89142, 89144, 89146, 89151, 89156, 89166, 89167, 89173, 89175, 89176, 89177, 89183, 89184, 89188, 89189, 89198, 89199, 89206, 89209, 89216, 89222, 89224, 89225, 89226, 89228, 89229, 89233, 89235, 89238, 89240, 89241, 89242, 89246, 89249, 89251, 89252, 89253, 89254, 89255, 89263, 89281, 89282, 89285, 89286, 89288, 89289, 89292, 89302, 89306, 89307, 89311, 89315, 89316, 89320, 89324, 89332, 89334, 89336, 89345, 89348, 89351, 89354, 89356, 89357, 89359, 89360, 89362, 89365, 89370, 89372, 89374, 89378, 89379, 89380, 89383, 89386, 89387, 89388, 89390, 89392, 89393, 89397, 89398, 89401, 89402, 23871, 89412, 89418, 89419, 89421, 89427, 89428, 89430, 89431, 89432, 89440, 89447, 89449, 89452, 89453, 89454, 89459, 89461, 89463, 89466, 89469, 89470, 89472, 89476, 89477, 89482, 89485, 89489, 89490, 89491, 89492, 89494, 89497, 89500, 89501, 89505, 89506, 89511, 89514, 89515, 89518, 89519, 89520, 89522, 89523, 89525, 89526, 89528, 89545, 89547, 89549, 89553, 89554, 89555, 89556, 89559, 89560, 89565, 89573, 89574, 89576, 89583, 89584, 89589, 89593, 89596, 89600, 89601, 89603, 89605, 89606, 89611, 89617, 89619, 89622, 89623, 89629, 89632, 89634, 89638, 89641, 89647, 89648, 89649, 89651, 89654, 89661, 89663, 89664, 89669, 89670, 89674, 89681, 89683, 89687, 89688, 89689, 89692, 89695, 89698, 89699, 89702, 89710, 89711, 89712, 89714, 89716, 89718, 89721, 89727, 89728, 89729, 89735, 89738, 89739, 89741, 89745, 89747, 24230, 89767, 89769, 89771, 89772, 24237, 89778, 89779, 89784, 24251, 89790, 24261, 89797, 89798, 89799, 89802, 89807, 89809, 89820, 89825, 89830, 89832, 89834, 24310, 89847, 89850, 89862, 89863, 89865, 89866, 89870, 89872, 89873, 89875, 89876, 89878, 89881, 24350, 89888, 89889, 89891, 89894, 89899, 89900, 89901, 89905, 89907, 89911, 24376, 89916, 89917, 89918, 89919, 89921, 89923, 89928, 89929, 89932, 24397, 89939, 89943, 89947, 89950, 89951, 89952, 89953, 24423, 89959, 89960, 89961, 89962, 24428, 89966, 89967, 89969, 89970, 89972, 89973, 89978, 89980, 89983, 89987, 89988, 89989, 89990, 89992, 89996, 89997, 89999, 90003, 24470, 90008, 90009, 90010, 90012, 90017, 90018, 90021, 90026, 90028, 90031, 90032, 90035, 90036, 90038, 90039, 90046, 90050, 90052, 90053, 90055, 90057, 90058, 90069, 90076, 90077, 90079, 90080, 90081, 90082, 90083, 90084, 90086, 90087, 90088, 24553, 90090, 90091, 90094, 90095, 90096, 90097, 90098, 90100, 90101, 90103, 90104, 90107, 90108, 90109, 90110, 90112, 90115, 90116, 90117, 90119, 90121, 90125, 90126, 90129, 90130, 90133, 90136, 90137, 24605, 90142, 90143, 90145, 90146, 90152, 90154, 90156, 90158, 90165, 90166, 90167, 90168, 90172, 90175, 90179, 90180, 90182, 90183, 90184, 24652, 90190, 90194, 90200, 90201, 90202, 90203, 90204, 90209, 90211, 24678, 90215, 90218, 90221, 90229, 90234, 90235, 90241, 90244, 90246, 90249, 90250, 90251, 90252, 90258, 90260, 24725, 90261, 90262, 90264, 90268, 90269, 90277, 90280, 90282, 90285, 90286, 90288, 90289, 90290, 90292, 90295, 90296, 90303, 90305, 90306, 90313, 90316, 90318, 90322, 90323, 90325, 90326, 90330, 90332, 90333, 90334, 90335, 90337, 90338, 90339, 90342, 90343, 90344, 90345, 90347, 90348, 90350, 90352, 90354, 90355, 90356, 90361, 90362, 90363, 90369, 90371, 90372, 90373, 90374, 90375, 90376, 90377, 90378, 90379, 90381, 90383, 90384, 90387, 90392, 90396, 90397, 90398, 90399, 24866, 90409, 90410, 90412, 90413, 90417, 90418, 90421, 90425, 90431, 90432, 90433, 90437, 90438, 90439, 90442, 90444, 90445, 90447, 24918, 90455, 90456, 90457, 90459, 90464, 90467, 90468, 90469, 90470, 90471, 90473, 90475, 90476, 90477, 90478, 90482, 90483, 90485, 90490, 90492, 90493, 90494, 90497, 90498, 90499, 90500, 90503, 90504, 90505, 24970, 90506, 90507, 90508, 90509, 90510, 90517, 83120, 90519, 24985, 90522, 90523, 90526, 90527, 90528, 90529, 90530, 90531, 24996, 90532, 90533, 90534, 90535, 90536, 90540, 90541, 90542, 90543, 90547, 90548, 90550, 90552, 25017, 90558, 90559, 90561, 90563, 90565, 90566, 90567, 90570, 90572, 25038, 90574, 90575, 90577, 90578, 90580, 90582, 90585, 90593, 90598, 90599, 25064, 90601, 90609, 90611, 90612, 90619, 90620, 90621, 90626, 90627, 90632, 25100, 90637, 90638, 90641, 90642, 90643, 90644, 90645, 90646, 25111, 90649, 90651, 90653, 90654, 90656, 90657, 90658, 90659, 90660, 90663, 90664, 90666, 90667, 90670, 90671, 25137, 90673, 90674, 90675, 90677, 90681, 90683, 90684, 90686, 90688, 90690, 90691, 90696, 90698, 90699, 90702, 90703, 25168, 90705, 90708, 90709, 90710, 90715, 90716, 90717, 90719, 90722, 90723, 90724, 90725, 90734, 90738, 90743, 90744, 90745, 25210, 90748, 90753, 90755, 90757, 90759, 90760, 90761, 90763, 25231, 90767, 90771, 90772, 90774, 90775, 90777, 90779, 90783, 90789, 90790, 90795, 90796, 90797, 90801, 90802, 90806, 90810, 90811, 90815, 90819, 90826, 90828, 90830, 90831, 90836, 90840, 90842, 90845, 90848, 90849, 90850, 90851, 90854, 90856, 90858, 90861, 90862, 90863, 25330, 90867, 90868, 90870, 90871, 90872, 90873, 90878, 90880, 90882, 90889, 90890, 90896, 90897, 90898, 25363, 90899, 90901, 90902, 90904, 90905, 90906, 90907, 90908, 90910, 25377, 90913, 90916, 90917, 90918, 90919, 90920, 90922, 90923, 90924, 90925, 90928, 90929, 90930, 90931, 90932, 90933, 90934, 90935, 90936, 90937, 90938, 90944, 90946, 90949, 90951, 90952, 90953, 90958, 90959, 90962, 90963, 25429, 90965, 90966, 90971, 90972, 90973, 90974, 90975, 90976, 90978, 90982, 90983, 90984, 25450, 91000, 25466, 25471, 91007, 91014, 91021, 91025, 91026, 91027, 25492, 91028, 91030, 91031, 91032, 91033, 91037, 91038, 91039, 91047, 91048, 91049, 91052, 91054, 91055, 91057, 91060, 91061, 91062, 91068, 91069, 91072, 91073, 25539, 91077, 91079, 91080, 91081, 91082, 91086, 91089, 91091, 91093, 25560, 91096, 91100, 91113, 91114, 91122, 91127, 91133, 91139, 91140, 91144, 91146, 91148, 91149, 25614, 91150, 91151, 91152, 91154, 91159, 91160, 91161, 91162, 25628, 91166, 91169, 91171, 91172, 91174, 91175, 91177, 91179, 91180, 91181, 91182, 91183, 91187, 91188, 91189, 25654, 91190, 91191, 91193, 91196, 91197, 91198, 91200, 91203, 91204, 91207, 91209, 91210, 91211, 91213, 91214, 91216, 91217, 91218, 91219, 91222, 91225, 91226, 91228, 91231, 25696, 91240, 91241, 91251, 91252, 25717, 91255, 91259, 91264, 91268, 91270, 91271, 91272, 25738, 91274, 91277, 91278, 91281, 91283, 91284, 91285, 91286, 91287, 91289, 91291, 91292, 91293, 91295, 91298, 25764, 91300, 91301, 91304, 91305, 91309, 91310, 91315, 91318, 91325, 91327, 91329, 91333, 91334, 91336, 91338, 91342, 91344, 91345, 91346, 91349, 91351, 91355, 91357, 91358, 91359, 91360, 91369, 91372, 25837, 91376, 91382, 91384, 91385, 91386, 91391, 91395, 25863, 91403, 91408, 91412, 91413, 91414, 91416, 91418, 91420, 91422, 91423, 91425, 91426, 91431, 91432, 91434, 91435, 91436, 91438, 91439, 91440, 91442, 91443, 91445, 91448, 91449, 91450, 91452, 91455, 91456, 91461, 25926, 91462, 91463, 91464, 91466, 91467, 91469, 91470, 91471, 91472, 91473, 91475, 91476, 91478, 91481, 91482, 25947, 91485, 91486, 91488, 91489, 91492, 91493, 91494, 91495, 91496, 91498, 91499, 91500, 91501, 91502, 91503, 25968, 91506, 91508, 91509, 91510, 91511, 91512, 91515, 91516, 91517, 91518, 91519, 91520, 91521, 91522, 91523, 25989, 91525, 91539, 91540, 91546, 91548, 91553, 91556, 91557, 91560, 91562, 91563, 91564, 91565, 91567, 91568, 91569, 91570, 91573, 91575, 91576, 91579, 91582, 91583, 91586, 91587, 91588, 91593, 91596, 91597, 91599, 91600, 91601, 91607, 91608, 91610, 91612, 91613, 26078, 91616, 91618, 91619, 91620, 91621, 91624, 91625, 91627, 91631, 91632, 91634, 91635, 91636, 91638, 91639, 26104, 91640, 91641, 91642, 91643, 91644, 91645, 91646, 91648, 91650, 91652, 91654, 91659, 91661, 91663, 91665, 91667, 91668, 91670, 91671, 91672, 91674, 91678, 91686, 91688, 91690, 91695, 91697, 91698, 91701, 91702, 91703, 91706, 91713, 91716, 91717, 91720, 91722, 91725, 91728, 91729, 91730, 91732, 91735, 91737, 91743, 91746, 91748, 91753, 91754, 91756, 91757, 91758, 91769, 91774, 91776, 91778, 91779, 91784, 91786, 91788, 26253, 91791, 91792, 91793, 91794, 91796, 91797, 91799, 91804, 91806, 91821, 91822, 91828, 91829, 91830, 91837, 91838, 91840, 91842, 91843, 26308, 91847, 91858, 91866, 91867, 91871, 91876, 91877, 91879, 91881, 91883, 91884, 91885, 91888, 91889, 91890, 91893, 91894, 91897, 91898, 91900, 91902, 91904, 91905, 91909, 91910, 91912, 91916, 91918, 91923, 91927, 26397, 91933, 91934, 91937, 91939, 91940, 91945, 91949, 91950, 91955, 91957, 91958, 91959, 91960, 91962, 91964, 91968, 91970, 91971, 91973, 91978, 26444, 91981, 91982, 91984, 91985, 91988, 91991, 91995, 91996, 91997, 91998, 92002, 92003, 92004, 92005, 92006, 92007, 92010, 92011, 92015, 92019, 92021, 26486, 92022, 92023, 92024, 92025, 92028, 92029, 92030, 92031, 92032, 92035, 92038, 92039, 92040, 92041, 92042, 92046, 26512, 92050, 92057, 92064, 92066, 92069, 92070, 92071, 92077, 92078, 26543, 92093, 92094, 92095, 92098, 92102, 92105, 92106, 92107, 92113, 92114, 92115, 92116, 92117, 92118, 92120, 92122, 92124, 92125, 26590, 92127, 92135, 92137, 92140, 92141, 92142, 92143, 92150, 92154, 92155, 92156, 26621, 92163, 92164, 92169, 92172, 92178, 92180, 92181, 92185, 92186, 92190, 92191, 92193, 92194, 92195, 92196, 92197, 92199, 92201, 92202, 92203, 92205, 92207, 92208, 92209, 92210, 92213, 92216, 92218, 26684, 92221, 92222, 92227, 92229, 92230, 92232, 92234, 92235, 92236, 92237, 92238, 92240, 92241, 92244, 92247, 92249, 92250, 26715, 92253, 92254, 92255, 92260, 92269, 92272, 92281, 92282, 92283, 92285, 92286, 92291, 26757, 92293, 92294, 92296, 92297, 92298, 92299, 92301, 92302, 92304, 92305, 92307, 92308, 92310, 92311, 92314, 92317, 92318, 92319, 92322, 92325, 92327, 92329, 92330, 92331, 92333, 92335, 92337, 92339, 92340, 92341, 92342, 92343, 92347, 92348, 92351, 92353, 92354, 92362, 92363, 92364, 92365, 92366, 92368, 92371, 92373, 92375, 92376, 92379, 92380, 92382, 92383, 92386, 26851, 92387, 92390, 92394, 92395, 92397, 92398, 92399, 92400, 92405, 92406, 92407, 26872, 92412, 26877, 92414, 92415, 92416, 92417, 92425, 92426, 92427, 92428, 92429, 92432, 92433, 92435, 92436, 92440, 92441, 92443, 92444, 92445, 92446, 92447, 92448, 92451, 92452, 92463, 92473, 92480, 92481, 92482, 92484, 92487, 92489, 92490, 92494, 92495, 92496, 92501, 92504, 92505, 92509, 92510, 92511, 92514, 92517, 92519, 92522, 92523, 92524, 92525, 92526, 92527, 26992, 92528, 92537, 92539, 92541, 92545, 92546, 92547, 92556, 92557, 92562, 92563, 92567, 92568, 92570, 92571, 92574, 92575, 92576, 92580, 92583, 92584, 92585, 92586, 92592, 92595, 27061, 92598, 92599, 92604, 92607, 92610, 92611, 92612, 92613, 27081, 92617, 92619, 92625, 92627, 92628, 92629, 92630, 92633, 92634, 92635, 92638, 92644, 92646, 27112, 92648, 92649, 92650, 92651, 92653, 92654, 92655, 92656, 92661, 92664, 92666, 92669, 92671, 92673, 92674, 92675, 92677, 92690, 92691, 92694, 92696, 92698, 92704, 92705, 92706, 92710, 92711, 27176, 92714, 92716, 92719, 92720, 92721, 92722, 92723, 92724, 92726, 92728, 92729, 92730, 92732, 92733, 92735, 27201, 92737, 92738, 92739, 92740, 92746, 92748, 92749, 92750, 92753, 92754, 92755, 92756, 92758, 92760, 92761, 92762, 92764, 92765, 92766, 27236, 92772, 92773, 92774, 92775, 27241, 92779, 92780, 92781, 92782, 92784, 92785, 92788, 92789, 92791, 92792, 92796, 27261, 92798, 92800, 92801, 92802, 92806, 27271, 92807, 92810, 92812, 92813, 92816, 27281, 92819, 92821, 27286, 92829, 92832, 92835, 27306, 92844, 92850, 92860, 92870, 92872, 92873, 92875, 92876, 27341, 92879, 27348, 92885, 92886, 92889, 92893, 92895, 92897, 92898, 92899, 92903, 92904, 92905, 92906, 92907, 92908, 92910, 92912, 92913, 92914, 92915, 92916, 92917, 92918, 92919, 92920, 27385, 92921, 92925, 92927, 27395, 92931, 92932, 92933, 92934, 92935, 92939, 92941, 92945, 92950, 27415, 92953, 92954, 27420, 92958, 92959, 27425, 92965, 92966, 92970, 27435, 92973, 92975, 92977, 92980, 92982, 27450, 92990, 92991, 92994, 92997, 93001, 93002, 93003, 93009, 93021, 93025, 93026, 27495, 93033, 93034, 93035, 93038, 93039, 93041, 27507, 93043, 93045, 93046, 93048, 93049, 93050, 93051, 93052, 93054, 93055, 93057, 93058, 93059, 93062, 93064, 93065, 93066, 93067, 93068, 93069, 27534, 93070, 93074, 93078, 27544, 93080, 93081, 93082, 93083, 27549, 93084, 93085, 93086, 93087, 27554, 93088, 93090, 93091, 93092, 93093, 93094, 93096, 93098, 93099, 93101, 93102, 93103, 27569, 93105, 93106, 27574, 93110, 93111, 93117, 93118, 93119, 93120, 93123, 93124, 27589, 93125, 93126, 93128, 93129, 93130, 93131, 93134, 27599, 93135, 93136, 93137, 93138, 27604, 93141, 93144, 27612, 93148, 93149, 93151, 93153, 27619, 93155, 93156, 93157, 93158, 93160, 93161, 93162, 93164, 93166, 93167, 93168, 93169, 93170, 93171, 93174, 93175, 93176, 27644, 93182, 93185, 93187, 93189, 93194, 93196, 27663, 93199, 93200, 93205, 93207, 93209, 93214, 93216, 93217, 27683, 93223, 93227, 93228, 27693, 93231, 93232, 93233, 27698, 93234, 93236, 93239, 93241, 93242, 27708, 27713, 93249, 93253, 93254, 93255, 27721, 93258, 93260, 93261, 93265, 93266, 27731, 93269, 93270, 93273, 93274, 93275, 93276, 93280, 93282, 93283, 93286, 93288, 93289, 93290, 93298, 93300, 93301, 93303, 93305, 93306, 93307, 93308, 93310, 93312, 93315, 93316, 93317, 93321, 93322, 93323, 93325, 93326, 93327, 93328, 93331, 93332, 93334, 93335, 93336, 93340, 93342, 93343, 93347, 93348, 93349, 93350, 93351, 93353, 93354, 93355, 93356, 93357, 93358, 27825, 93361, 93364, 93365, 93366, 93367, 93369, 93370, 93371, 93372, 93374, 93377, 93378, 93379, 93380, 93382, 93384, 27849, 93386, 93388, 93391, 93392, 93393, 93394, 93395, 93397, 93399, 93400, 93401, 93402, 93403, 93404, 93406, 93408, 93409, 93410, 93411, 93412, 93413, 93416, 93417, 93419, 93423, 93424, 93425, 93432, 93434, 93438, 93439, 93440, 93441, 93445, 93446, 93449, 93450, 93454, 93455, 27921, 93457, 93458, 93459, 93462, 93463, 93467, 93469, 93472, 93473, 93474, 27939, 93476, 93477, 93478, 93488, 93500, 93502, 93504, 93506, 93509, 93514, 93516, 93518, 93522, 93523, 93524, 93526, 93530, 93534, 93536, 93537, 93541, 93542, 93543, 93544, 93548, 93552, 93558, 93561, 93562, 93565, 93567, 93569, 93571, 93572, 93575, 93576, 93578, 93579, 93581, 93584, 93585, 93590, 93591, 93594, 93596, 93599, 93601, 93603, 93604, 93606, 93610, 93611, 93613, 93616, 93617, 93619, 93620, 93621, 93622, 93623, 93625, 93626, 93628, 93629, 93631, 93632, 93634, 93641, 93644, 93647, 93649, 93655, 93656, 93658, 93662, 93666, 93669, 93670, 93671, 93674, 93675, 93676, 93678, 93679, 93680, 93681, 93682, 93683, 93685, 93686, 93687, 93688, 93689, 93693, 93694, 93702, 93708, 93709, 93710, 93711, 93712, 93713, 93719, 93722, 93725, 93727, 93728, 93734, 93735, 28200, 93738, 93739, 93741, 93742, 93745, 93746, 93747, 93749, 93750, 93753, 93758, 93761, 93762, 93763, 93764, 93765, 93766, 93768, 28235, 93773, 93777, 93781, 93783, 93785, 28250, 93788, 28255, 93792, 93794, 93797, 93798, 93799, 93800, 93803, 93804, 93806, 93807, 93808, 93809, 93810, 93812, 93813, 93815, 93820, 93821, 93822, 93824, 93825, 93827, 93828, 93829, 93832, 93833, 93834, 93835, 93836, 93837, 93838, 93840, 93844, 93845, 93847, 93848, 93849, 93850, 93851, 93852, 93854, 93855, 93856, 93857, 93858, 93859, 93861, 93865, 28330, 93868, 93869, 93870, 93871, 93872, 93873, 93874, 93876, 93882, 93883, 93884, 93885, 93886, 93888, 93892, 93893, 93894, 93896, 93897, 28365, 93904, 93908, 93911, 93912, 93913, 93914, 93916, 93918, 93926, 93927, 93930, 93932, 93939, 93940, 93941, 93942, 93945, 93947, 93951, 93954, 93955, 93956, 93958, 93959, 93964, 93967, 93968, 93978, 93979, 28445, 93981, 93982, 93983, 93985, 93987, 93990, 93992, 93994, 93995, 93997, 93998, 94000, 94001, 94003, 94005, 94007, 94008, 94010, 94016, 94017, 94018, 94019, 94020, 94022, 94024, 94026, 94028, 94030, 94031, 94035, 94038, 94039, 94040, 94041, 94045, 28510, 94047, 94048, 94049, 94050, 94052, 94053, 94055, 94057, 94059, 94062, 94064, 94066, 94067, 94069, 94070, 94071, 94073, 94074, 94075, 94076, 94077, 94078, 94079, 94080, 94081, 94083, 94084, 94085, 94086, 94089, 94092, 94095, 94096, 94097, 94104, 94106, 94107, 94108, 94109, 94110, 94115, 94117, 94118, 94119, 94123, 94126, 94127, 94130, 94132, 94133, 94136, 94140, 94142, 94143, 94144, 94146, 94147, 94150, 94152, 94153, 28620, 94157, 94159, 94160, 28625, 94163, 94166, 94171, 94172, 94173, 94175, 94176, 94178, 94179, 94181, 94183, 94187, 94188, 94192, 94195, 94196, 94197, 94198, 94200, 28665, 94202, 94203, 94204, 94205, 28670, 94206, 94207, 94208, 94211, 94212, 94214, 94215, 94218, 94220, 94221, 94222, 94224, 28690, 94226, 94228, 94230, 94231, 94232, 94233, 94238, 94240, 94241, 94242, 94243, 94245, 94246, 94247, 94249, 94252, 94253, 28718, 94254, 94256, 94257, 94264, 94265, 28730, 94266, 94269, 28735, 94272, 94274, 94280, 94287, 94288, 94291, 94292, 94293, 94295, 94296, 94297, 94298, 94299, 94303, 94304, 94305, 28770, 94308, 94309, 94311, 94312, 94313, 94315, 94316, 94320, 94321, 94323, 94324, 94326, 94327, 94329, 28795, 94331, 94332, 94335, 94340, 94341, 94342, 94343, 94345, 28810, 94346, 94349, 94354, 94356, 94357, 94358, 94361, 94364, 94365, 94366, 94368, 94369, 94370, 28835, 94371, 94372, 94378, 94379, 94380, 94383, 94384, 94385, 94386, 94387, 94389, 94393, 94397, 94398, 94400, 94403, 94404, 94409, 94410, 94411, 94412, 94413, 94414, 94417, 94422, 94423, 94426, 94428, 94429, 94432, 94434, 94435, 94436, 94438, 94439, 94440, 94441, 94445, 94448, 94450, 94451, 94454, 94455, 94456, 94457, 94459, 94460, 94461, 94468, 94471, 94473, 94475, 94476, 94477, 94481, 94484, 28950, 94488, 94490, 94492, 94494, 94495, 94497, 94498, 94499, 94500, 28965, 94501, 94502, 28970, 94507, 94508, 94511, 94514, 94515, 28980, 94516, 94518, 94522, 94526, 94527, 94529, 94530, 94533, 94537, 94539, 94540, 94542, 94543, 29010, 94546, 94547, 94548, 94551, 94552, 94560, 94563, 94564, 94565, 94567, 94568, 94569, 94572, 94573, 94574, 94575, 94576, 94577, 94578, 94580, 94581, 94582, 94583, 94584, 29050, 94592, 94593, 29058, 94594, 94595, 94596, 94598, 94600, 29065, 94601, 94603, 94604, 94605, 94606, 94607, 94608, 94609, 94610, 29075, 94611, 94612, 94614, 94615, 94618, 94619, 94621, 94622, 94623, 94625, 94626, 94630, 94632, 94633, 94634, 94635, 94638, 94640, 94641, 94646, 94647, 94648, 94651, 94653, 94657, 94658, 94659, 94660, 94662, 94665, 94666, 94668, 94670, 94671, 94673, 94674, 94675, 94676, 94678, 94679, 94682, 94683, 94685, 94688, 94690, 94691, 94692, 94693, 94695, 94696, 94699, 94700, 94702, 94703, 94704, 94705, 94706, 94707, 94710, 94713, 94714, 94715, 94716, 94720, 29185, 94724, 94725, 94726, 29195, 94732, 94735, 94736, 94738, 94739, 94740, 94741, 94742, 94744, 94746, 94747, 94750, 94752, 94753, 94757, 94758, 94759, 94761, 94765, 94766, 94767, 94769, 94771, 94779, 94783, 94792, 94794, 94802, 94803, 94804, 29270, 94806, 94808, 94811, 94813, 94819, 94821, 94822, 94823, 94824, 94826, 94827, 94828, 94829, 94830, 29295, 94831, 94833, 94835, 94837, 94838, 94839, 94840, 94843, 94844, 94845, 94846, 94848, 94849, 94851, 94852, 94853, 94854, 94856, 94861, 94863, 94864, 94865, 94866, 94871, 94873, 94874, 94876, 94877, 94880, 94881, 94882, 94883, 94884, 94885, 94886, 94888, 29353, 94890, 94891, 94892, 94894, 94895, 94896, 94897, 94898, 94900, 29365, 94902, 94905, 94906, 94907, 94910, 94911, 94912, 94914, 94915, 94916, 94917, 94918, 94919, 94921, 94922, 94924, 94925, 94926, 94928, 94931, 94932, 94933, 94934, 29405, 94944, 94949, 94953, 94958, 94961, 94964, 94966, 94968, 94980, 94981, 94985, 94988, 94989, 94990, 94996, 94997, 94998, 94999, 95002, 95003, 95004, 95005, 95008, 95010, 95013, 95014, 95015, 95016, 95017, 95018, 95021, 95022, 95023, 95024, 95026, 95027, 95028, 95032, 95035, 95036, 95037, 95038, 95040, 95041, 95042, 95043, 95049, 95053, 95054, 95056, 95058, 95059, 95061, 95062, 95063, 95065, 95067, 95068, 95069, 95070, 95072, 95075, 95077, 95079, 95081, 95082, 95083, 95084, 95085, 95091, 95094, 95097, 95098, 95102, 95103, 95104, 95105, 95108, 95109, 95110, 95111, 95112, 95116, 95119, 95122, 95126, 95127, 95128, 95130, 95132, 95134, 95137, 95141, 95142, 95143, 95149, 95151, 95153, 95154, 95161, 95162, 95164, 95165, 95167, 95168, 95171, 95173, 95174, 95176, 95177, 95178, 95180, 95181, 95182, 95189, 95191, 95192, 95193, 95194, 95196, 95197, 95198, 95199, 95200, 95203, 95206, 95208, 95212, 95214, 95215, 95216, 95220, 95222, 95223, 95224, 95229, 95230, 95231, 95232, 95233, 95234, 95236, 95237, 95238, 95243, 95244, 95245, 95246, 95249, 95250, 95251, 95253, 95256, 95264, 95265, 95266, 95269, 95274, 95275, 95282, 95284, 95285, 95288, 95291, 95294, 29760, 95296, 95297, 95299, 95300, 95301, 95303, 95304, 95306, 95307, 95309, 95310, 95312, 95315, 95316, 95318, 95319, 95324, 95325, 95330, 95331, 95332, 95333, 95334, 29800, 95336, 95337, 95338, 95339, 95340, 95341, 95342, 95343, 95346, 95347, 95348, 95349, 95350, 95352, 95353, 95355, 95357, 95358, 95359, 95360, 95363, 95368, 95369, 95370, 95371, 95373, 95374, 95375, 95376, 95377, 95378, 95379, 95380, 95381, 95382, 95383, 95384, 95385, 95389, 95390, 95394, 95396, 95397, 95398, 95399, 95403, 95404, 95405, 29870, 95406, 95407, 95408, 95409, 95410, 95411, 95412, 95415, 95416, 95417, 95418, 95420, 95421, 95422, 95423, 95426, 95427, 95430, 95431, 95433, 95437, 95440, 95441, 95443, 95444, 95446, 95449, 95450, 95451, 95453, 95454, 95457, 29925, 95463, 95464, 95468, 95470, 95472, 95473, 95474, 95475, 95478, 95479, 95482, 95483, 95486, 95487, 95488, 95491, 95493, 95495, 95496, 95497, 95498, 95500, 95503, 95505, 95506, 95509, 95510, 95511, 95512, 95514, 95515, 95517, 95519, 95521, 95524, 95525, 95526, 95527, 95528, 95531, 95532, 95533, 95536, 95537, 95540, 95541, 95542, 95543, 95544, 95545, 95547, 95548, 95550, 95551, 95552, 95555, 95557, 95558, 95560, 95562, 95566, 95568, 30033, 95575, 95576, 95577, 30042, 95579, 95582, 95583, 95584, 95592, 95594, 95596, 30061, 95598, 95601, 95602, 95605, 95607, 95608, 95610, 95614, 95615, 30080, 95620, 95624, 30091, 95627, 95628, 95631, 95632, 95634, 30099, 95636, 95637, 30108, 95644, 95647, 95648, 95651, 95653, 95654, 95655, 95656, 95657, 95658, 30124, 95660, 30127, 95665, 30130, 95666, 95668, 95671, 30136, 95673, 95675, 95676, 95678, 95679, 95680, 30145, 95681, 95682, 95683, 95686, 95688, 95689, 95690, 95691, 95693, 30158, 95696, 95697, 95699, 95701, 95704, 30169, 95705, 95706, 30172, 95707, 95708, 95709, 95710, 95713, 30178, 95714, 95715, 95716, 95717, 30183, 95719, 95720, 95721, 95723, 95724, 95726, 95727, 30192, 95728, 95730, 95733, 95734, 95735, 95736, 95737, 95738, 95740, 30206, 95742, 95743, 95744, 95745, 30211, 95746, 95747, 95749, 30215, 95750, 30217, 95751, 95752, 95753, 95755, 30222, 95756, 30225, 95761, 95763, 30229, 95765, 95766, 95767, 95768, 95771, 30236, 95774, 95775, 95776, 95779, 95781, 95782, 30248, 95785, 95789, 95790, 95793, 95794, 30259, 30262, 95800, 95801, 30266, 95802, 95803, 95806, 95807, 30273, 95809, 95810, 30276, 95811, 95813, 95814, 95815, 95817, 95818, 95820, 95821, 30287, 95823, 30290, 95826, 95828, 95829, 30294, 95830, 95832, 30297, 95833, 95837, 95839, 95840, 95841, 95842, 95845, 30310, 95846, 95848, 95849, 30315, 95853, 95854, 95856, 95857, 30324, 95860, 95863, 30331, 95867, 95868, 95871, 30336, 30337, 30338, 95872, 95873, 30341, 95875, 95877, 30344, 95879, 95881, 30347, 95882, 95885, 30350, 30352, 95888, 95890, 95892, 95893, 95894, 30359, 95896, 95900, 95901, 30366, 95906, 95910, 30375, 30376, 95911, 30378, 95912, 95913, 95915, 95916, 95917, 95920, 95922, 95924, 95928, 95930, 95931, 30396, 95932, 30398, 95934, 95935, 30401, 95936, 95937, 95939, 30405, 95941, 30407, 95946, 95947, 95948, 95949, 95950, 95951, 95954, 30419, 95955, 30421, 95956, 95958, 95962, 95963, 30431, 95968, 95971, 95972, 95973, 95975, 30442, 95978, 30444, 95979, 95980, 95987, 95988, 95990, 95992, 95993, 30458, 95994, 95996, 95998, 30465, 96002, 96005, 96007, 30472, 96009, 96010, 30475, 96011, 96012, 96014, 96015, 96017, 96021, 96022, 96025, 96027, 96028, 96029, 96030, 30495, 30498, 96034, 96035, 96036, 30502, 96038, 96039, 96041, 96042, 30507, 30509, 96045, 96048, 96049, 96050, 30516, 96052, 96053, 96056, 96057, 96058, 30523, 96059, 96061, 96063, 96064, 96065, 30530, 96066, 30532, 96067, 96071, 96072, 96073, 30539, 96078, 30544, 96081, 96083, 96084, 96085, 96087, 96089, 96090, 96091, 96092, 96093, 96094, 96095, 96097, 96098, 96099, 30565, 96106, 96107, 96108, 96110, 96111, 96113, 96114, 96115, 96117, 96118, 96119, 96121, 96122, 30588, 96125, 96126, 96127, 96128, 96130, 96134, 30601, 96139, 30604, 96140, 96141, 96143, 96144, 96145, 30611, 96147, 96149, 96152, 96155, 96156, 30624, 96161, 30627, 96166, 96167, 96169, 96170, 96172, 96173, 96174, 96176, 96177, 96178, 96179, 96180, 96181, 96183, 96184, 96185, 96186, 96188, 96189, 96190, 96191, 30657, 96196, 30661, 96197, 96198, 96200, 96201, 96202, 96203, 96204, 96205, 96207, 96208, 96209, 96210, 96212, 30679, 96215, 96216, 30682, 96217, 30684, 96218, 96220, 30687, 96221, 96222, 96224, 30691, 96225, 96226, 96227, 96228, 96229, 96230, 96231, 96232, 96234, 96236, 96237, 96239, 30705, 96241, 30707, 96242, 96244, 96245, 96246, 96248, 96249, 96250, 30717, 96253, 96255, 96256, 96257, 96259, 96261, 96263, 96264, 96266, 30731, 96267, 30733, 96270, 96271, 30737, 96273, 30739, 96275, 96276, 96278, 96279, 30746, 96283, 96284, 96285, 30753, 96290, 96292, 96293, 96294, 96299, 30765, 30767, 30768, 96303, 30770, 96304, 30774, 96311, 96314, 96317, 96318, 96319, 96320, 30785, 96321, 30788, 30790, 96326, 96327, 96328, 96329, 96330, 30796, 30797, 96331, 96333, 96334, 96336, 96337, 96338, 30804, 96343, 96344, 96346, 96347, 96348, 96349, 96352, 30819, 96355, 96356, 96361, 96363, 96364, 96365, 96366, 96368, 30833, 96370, 30839, 96375, 96376, 30842, 96381, 96382, 96383, 96385, 96388, 96390, 96391, 96393, 96394, 96395, 96396, 96398, 96400, 96404, 96406, 96409, 96412, 30878, 96416, 30881, 96417, 96418, 30885, 96423, 30888, 96424, 30890, 96425, 96426, 96428, 96430, 96431, 96432, 96434, 30901, 96438, 96439, 30904, 96440, 96441, 30908, 96444, 96445, 96446, 96447, 30913, 96448, 30915, 96450, 96451, 96452, 96454, 96455, 30921, 30922, 96456, 96459, 96460, 96461, 96462, 96464, 96465, 30930, 96466, 30932, 96467, 96468, 96470, 30936, 96471, 96474, 30943, 96482, 96483, 96486, 96487, 30952, 96489, 96492, 96493, 30958, 30959, 96494, 96497, 96499, 96500, 96501, 30966, 96502, 96503, 96507, 96508, 96509, 96510, 96511, 96512, 96513, 30978, 96515, 96516, 96517, 96518, 30983, 96520, 96522, 96523, 96524, 96525, 96526, 96527, 96528, 96530, 96533, 96534, 31003, 96541, 31006, 31009, 31010, 96546, 96547, 96549, 96550, 31017, 96553, 96554, 96555, 96557, 96558, 96559, 96566, 31031, 96571, 96573, 96574, 96577, 96578, 96580, 96581, 96582, 96583, 96585, 96586, 31051, 96587, 96592, 96593, 31059, 96595, 96597, 96598, 96599, 96600, 31065, 31066, 96602, 96603, 96604, 96605, 96606, 31073, 96609, 96610, 96615, 31080, 96617, 96618, 96619, 96621, 96622, 96623, 31088, 96628, 31093, 96629, 96630, 96631, 96633, 96634, 96635, 31101, 96637, 96639, 31104, 96640, 96642, 96643, 31108, 96645, 96647, 96648, 31115, 96652, 96655, 31121, 96659, 96660, 96661, 96663, 96664, 31129, 96665, 96666, 96667, 96668, 96669, 96671, 96672, 96675, 96676, 31141, 96677, 31144, 96680, 96681, 96682, 96684, 96685, 96686, 31152, 96688, 96689, 96691, 96692, 96693, 31159, 96695, 96696, 96699, 31166, 96708, 31173, 96709, 96715, 96717, 96719, 96720, 31189, 96725, 96729, 96731, 96734, 96735, 96736, 31201, 96737, 31203, 96738, 96743, 96744, 31210, 96750, 31215, 96751, 96753, 96754, 96755, 96757, 96762, 31227, 96763, 31229, 96764, 96766, 96767, 31233, 96769, 96770, 96772, 96773, 31238, 96774, 96778, 96779, 96780, 96782, 96783, 96784, 96785, 96788, 96791, 96792, 31258, 96794, 96799, 31264, 96800, 96801, 96802, 96803, 96804, 31270, 96807, 31272, 31273, 96808, 96809, 96811, 96812, 96813, 96814, 96815, 96816, 96817, 96820, 96821, 96822, 31287, 31289, 96825, 96826, 96827, 31293, 96828, 96829, 31296, 96830, 96831, 96832, 96833, 96839, 96843, 96844, 96848, 96849, 96850, 31316, 96852, 96856, 96857, 96858, 96859, 96861, 96862, 96863, 96865, 31330, 96866, 31332, 96869, 96870, 96871, 96873, 96879, 96881, 31347, 96884, 31349, 96886, 96887, 96888, 31353, 96890, 31358, 96894, 96895, 96898, 96902, 96903, 96904, 96906, 96911, 96915, 96916, 31381, 96917, 31383, 96919, 96920, 96921, 96922, 96924, 31389, 96928, 31395, 96932, 31397, 96933, 96934, 96935, 96937, 96942, 31407, 96945, 96946, 96949, 96952, 96953, 31418, 96954, 31420, 96955, 96956, 96957, 96958, 96959, 96960, 31427, 96962, 96963, 96964, 96965, 96966, 96972, 96973, 96974, 96975, 96976, 96978, 96979, 96981, 96982, 31448, 96984, 96985, 96986, 96988, 96989, 96990, 96991, 96992, 96996, 96997, 96998, 97001, 97002, 97004, 97005, 97008, 31474, 97011, 97012, 97014, 31479, 97015, 31482, 97018, 97019, 97020, 97022, 97023, 97025, 31490, 97027, 97028, 31497, 97034, 97040, 97042, 31510, 97048, 97049, 31516, 97052, 31518, 97054, 97055, 97056, 97058, 97060, 31525, 97061, 97064, 97067, 97068, 97069, 97070, 97072, 97073, 97075, 31541, 97078, 97079, 97083, 97085, 31550, 97086, 97088, 97089, 31555, 97092, 31558, 97094, 97096, 31562, 97102, 97104, 31569, 97105, 97106, 97109, 31576, 97112, 31578, 97114, 97115, 97116, 97118, 97122, 31592, 97128, 97129, 31595, 97132, 97133, 97134, 31599, 97140, 31606, 97143, 97144, 31613, 97150, 97151, 97153, 97154, 97158, 97163, 97165, 31630, 97167, 31632, 97168, 97169, 97171, 97172, 31638, 97174, 97175, 97176, 97183, 97184, 31650, 97187, 97189, 97190, 97191, 97193, 97196, 97198, 31664, 97200, 31666, 97205, 97206, 31673, 97209, 97210, 97211, 97216, 97217, 97219, 97222, 31687, 97223, 97224, 31690, 31692, 97228, 97231, 31696, 97232, 97234, 97235, 97238, 97239, 97240, 97241, 97243, 97245, 97246, 97247, 31712, 97249, 97250, 31715, 97251, 97252, 97253, 97254, 97255, 97257, 97258, 97259, 97262, 97263, 97264, 31729, 97267, 97270, 97271, 97273, 97274, 97275, 31740, 97277, 97278, 31743, 97279, 97280, 97283, 97285, 97288, 31754, 97291, 97292, 31757, 97293, 97294, 31761, 97299, 97300, 97301, 97303, 97306, 97308, 31774, 97312, 97315, 97317, 31782, 97318, 97319, 97320, 97323, 31789, 97327, 97328, 97329, 97330, 31796, 97332, 97333, 97334, 97335, 97336, 97337, 97338, 97340, 97341, 97342, 97343, 97344, 97345, 31810, 97346, 97348, 31813, 97349, 97351, 31817, 97353, 97355, 31822, 97358, 31824, 97360, 31827, 97364, 97366, 31831, 97367, 97369, 97370, 97371, 31836, 97372, 31838, 97374, 97375, 31841, 97377, 97379, 97380, 31847, 97383, 97384, 97387, 97388, 97389, 97391, 31859, 97395, 97396, 31862, 97397, 97398, 97399, 97401, 97402, 97403, 97404, 97405, 97407, 97409, 97410, 97411, 97412, 97413, 97414, 97415, 97416, 97419, 31885, 97421, 97422, 97423, 97427, 31894, 31896, 97433, 97435, 97439, 97440, 97441, 97442, 31908, 97447, 97448, 31913, 97449, 97450, 97451, 31917, 97452, 97454, 97455, 97456, 97457, 97458, 97459, 97460, 97463, 31928, 97466, 31931, 97469, 97472, 31938, 31939, 97474, 97476, 97477, 97478, 97480, 31945, 97481, 31947, 97482, 97483, 97486, 31951, 97487, 97488, 97494, 31959, 97498, 97499, 97500, 97503, 97504, 97507, 97511, 97512, 97513, 97517, 97518, 31986, 97523, 97524, 31989, 97525, 97526, 97529, 97531, 97533, 97535, 97537, 97539, 97540, 97542, 97545, 32010, 97547, 97551, 32016, 97552, 32021, 97557, 97559, 32024, 97560, 97561, 97563, 97564, 97565, 97566, 97567, 97568, 97569, 97570, 97571, 97572, 97573, 97574, 97575, 97577, 97578, 97579, 32044, 97580, 97583, 97584, 97585, 97590, 97591, 97592, 97595, 32062, 97600, 32067, 97603, 32069, 97608, 97611, 32076, 97612, 97613, 97614, 97615, 97616, 32082, 32083, 97619, 97620, 97621, 97622, 97623, 97625, 32090, 97627, 97628, 32095, 32096, 97631, 32098, 97632, 32100, 97633, 97635, 97636, 97637, 97638, 97639, 97641, 97642, 32109, 97645, 97647, 97648, 97652, 97653, 32118, 97654, 32120, 97655, 97657, 97658, 97659, 97660, 97661, 32127, 97663, 97666, 97667, 32132, 97668, 32134, 97669, 97670, 97674, 32141, 97678, 97679, 97681, 32146, 97682, 97683, 97685, 97686, 32151, 97687, 97689, 97691, 97692, 32157, 97697, 32164, 97701, 97703, 97704, 97706, 32171, 97708, 97710, 97711, 97712, 32178, 97717, 97718, 97719, 32184, 32185, 97720, 97723, 97726, 32192, 97728, 97729, 97731, 97732, 97734, 32199, 97735, 97737, 97738, 97741, 32206, 97744, 97745, 32211, 97747, 97749, 97750, 97753, 97754, 32220, 97756, 97758, 97759, 32225, 97762, 32227, 97763, 97764, 97765, 97766, 97769, 97772, 97773, 32239, 97775, 32241, 97776, 97779, 97780, 97782, 32248, 97785, 97787, 97788, 97790, 32255, 97792, 97793, 97794, 32261, 97799, 97800, 97802, 32267, 97803, 32269, 97804, 97805, 32272, 97806, 97809, 97810, 97811, 97812, 97813, 97815, 97816, 97818, 32283, 97819, 97821, 97822, 97823, 97824, 97826, 97828, 97829, 97830, 32295, 97831, 32297, 97832, 97833, 97835, 97838, 97840, 97841, 97842, 97843, 97844, 97846, 32311, 97848, 97851, 32317, 32318, 97853, 97857, 97859, 32325, 97862, 32328, 97865, 97866, 32332, 97868, 97870, 97871, 97874, 32339, 97875, 97876, 32342, 97877, 97879, 97880, 32346, 97883, 97885, 97886, 97887, 97888, 32353, 97889, 97891, 97892, 97894, 97897, 97899, 97900, 97903, 97907, 97908, 97909, 97912, 97913, 97916, 32384, 97920, 32388, 97924, 97925, 97926, 97928, 32393, 97929, 97930, 97931, 97933, 97935, 97936, 97937, 32404, 97940, 97942, 32407, 97943, 97946, 32411, 97948, 97949, 97952, 97953, 32418, 97954, 97955, 97956, 97957, 97958, 97959, 32425, 97960, 97962, 97963, 97964, 32430, 97965, 97968, 97969, 97970, 32435, 97971, 97973, 32439, 97975, 97978, 32444, 97980, 97984, 97987, 97988, 97989, 97991, 97993, 97994, 97996, 32462, 97998, 98000, 98001, 98004, 32469, 98006, 98009, 98010, 32476, 98013, 98014, 98018, 98022, 32492, 98028, 98031, 98033, 98034, 32499, 98037, 98039, 98040, 98042, 32508, 98045, 98046, 98049, 32515, 98052, 98054, 32522, 98058, 98059, 98061, 32527, 98063, 98064, 98065, 98068, 98069, 98071, 98072, 32539, 98076, 98078, 98079, 98081, 98082, 98085, 98086, 98087, 98089, 98092, 98093, 32559, 98095, 98097, 98099, 98100, 98101, 32566, 98104, 98107, 98108, 32573, 98111, 98112, 32580, 98116, 98117, 98118, 98121, 32587, 98124, 98125, 98127, 32592, 98128, 32594, 98129, 98130, 98131, 32601, 98139, 98141, 32606, 98146, 98149, 32615, 98152, 98154, 98155, 98156, 98157, 32622, 98159, 98160, 32625, 98162, 98163, 98164, 98165, 98167, 98168, 98171, 32636, 98172, 32639, 98176, 98178, 32643, 98181, 98183, 98184, 98185, 32650, 98186, 98187, 98189, 98191, 98194, 98195, 98197, 98198, 98203, 98205, 98207, 98210, 98211, 98212, 98217, 98218, 98219, 98220, 98224, 98225, 98226, 98227, 32692, 98228, 32699, 98236, 98237, 98240, 32706, 98242, 98244, 98247, 32712, 98249, 98250, 98254, 32720, 98256, 98257, 32723, 32726, 98262, 98265, 98266, 98268, 32734, 98271, 98272, 98274, 98275, 98276, 32741, 98278, 98279, 98283, 98284, 98285, 32750, 98287, 98290, 98293, 98294, 98297, 98298, 32764, 98302]\n"
     ]
    }
   ],
   "source": [
    "Posiciones_coinciden = list(set(pos_atipicos_x) & set(pos_atipicos_y) & set(pos_atipicos_z))\n",
    "print(Posiciones_coinciden)"
   ]
  },
  {
   "cell_type": "markdown",
   "metadata": {
    "id": "vnINjupCjchI"
   },
   "source": [
    "En este punto, vamos a eliminar los datos atípicos con dos opciones:"
   ]
  },
  {
   "cell_type": "markdown",
   "metadata": {
    "id": "CfS2EkuPjigw"
   },
   "source": [
    "*Opción 1: Usando la función drop para remover filas de la base de datos*"
   ]
  },
  {
   "cell_type": "code",
   "execution_count": 25,
   "metadata": {
    "colab": {
     "base_uri": "https://localhost:8080/"
    },
    "id": "QhBpjouVfS73",
    "outputId": "1cb13b24-bc17-4616-bf19-84f14492b47a"
   },
   "outputs": [
    {
     "name": "stdout",
     "output_type": "stream",
     "text": [
      "(153000, 5)\n",
      "(134258, 5)\n",
      "Muestras removidas =  18742\n"
     ]
    }
   ],
   "source": [
    "datos_sin_outliers_IQR = Datos_Min_Max.drop(Posiciones_coinciden)\n",
    "print(Datos_Min_Max.shape) # Tamaño de los datos originales\n",
    "print(datos_sin_outliers_IQR.shape) # Tamañno de los datos sin outliers\n",
    "print(\"Muestras removidas = \", Datos_Min_Max.shape[0] - datos_sin_outliers_IQR.shape[0]) "
   ]
  },
  {
   "cell_type": "code",
   "execution_count": 26,
   "metadata": {
    "colab": {
     "base_uri": "https://localhost:8080/",
     "height": 499
    },
    "id": "AWxgRlHHfphP",
    "outputId": "8b7679b9-e06e-4e42-f8fb-c948423affb9"
   },
   "outputs": [
    {
     "data": {
      "image/png": "[encoded data removed]",
      "text/plain": [
       "<Figure size 1800x648 with 1 Axes>"
      ]
     },
     "metadata": {},
     "output_type": "display_data"
    }
   ],
   "source": [
    "sns.set(rc={'figure.figsize':(25,9)}) # Tamaño de la figura\n",
    "sns.set(style=\"whitegrid\") # Estilo de la figura\n",
    "sns.boxplot(data = datos_sin_outliers_IQR, linewidth = 3, palette=\"Set2\", fliersize = 5) # Diagrama Box Plot\n",
    "sns.despine(left=True)"
   ]
  },
  {
   "cell_type": "markdown",
   "metadata": {
    "id": "AK_VDNGHjs4J"
   },
   "source": [
    "*Opción 2: Usando un taponamiento superior e inferior*"
   ]
  },
  {
   "cell_type": "code",
   "execution_count": 27,
   "metadata": {
    "id": "TNkmWFdJj0z3"
   },
   "outputs": [],
   "source": [
    "Datos_taponados = Datos_Min_Max.copy()\n",
    "\n",
    "Datos_taponados['x'] = np.where(Datos_taponados['x'] > Max_Limite[2], Max_Limite[2],\n",
    "                                np.where(Datos_taponados['x'] < Min_Limite[2], Min_Limite[2], Datos_taponados['x']))\n",
    "\n",
    "Datos_taponados['y'] = np.where(Datos_taponados['y'] > Max_Limite[3], Max_Limite[3],\n",
    "                                np.where(Datos_taponados['y'] < Min_Limite[3], Min_Limite[3], Datos_taponados['y']))\n",
    "\n",
    "Datos_taponados['z'] = np.where(Datos_taponados['z'] > Max_Limite[4], Max_Limite[4],\n",
    "                                np.where(Datos_taponados['z'] < Min_Limite[4], Min_Limite[4], Datos_taponados['z']))"
   ]
  },
  {
   "cell_type": "code",
   "execution_count": 28,
   "metadata": {
    "colab": {
     "base_uri": "https://localhost:8080/",
     "height": 499
    },
    "id": "dtGONKClmmon",
    "outputId": "62f4e3da-32c3-4792-b860-3be846b3880e"
   },
   "outputs": [
    {
     "data": {
      "image/png": "[encoded data removed]",
      "text/plain": [
       "<Figure size 1800x648 with 1 Axes>"
      ]
     },
     "metadata": {},
     "output_type": "display_data"
    }
   ],
   "source": [
    "sns.set(rc={'figure.figsize':(25,9)}) # Tamaño de la figura\n",
    "sns.set(style=\"whitegrid\") # Estilo de la figura\n",
    "sns.boxplot(data = Datos_taponados, linewidth = 3, palette=\"Set2\", fliersize = 5) # Diagrama Box Plot\n",
    "sns.despine(left=True)"
   ]
  },
  {
   "cell_type": "markdown",
   "metadata": {
    "id": "4YjI_7q5mzxc"
   },
   "source": [
    "Comparemos los resultados de ambas opciones con la métrica de la entropía"
   ]
  },
  {
   "cell_type": "code",
   "execution_count": 29,
   "metadata": {
    "colab": {
     "base_uri": "https://localhost:8080/",
     "height": 143
    },
    "id": "Bwcc6er7gvHD",
    "outputId": "0f6343ac-bee1-439f-9ee7-135a22b9bfdb"
   },
   "outputs": [
    {
     "data": {
      "text/html": [
       "<div>\n",
       "<style scoped>\n",
       "    .dataframe tbody tr th:only-of-type {\n",
       "        vertical-align: middle;\n",
       "    }\n",
       "\n",
       "    .dataframe tbody tr th {\n",
       "        vertical-align: top;\n",
       "    }\n",
       "\n",
       "    .dataframe thead th {\n",
       "        text-align: right;\n",
       "    }\n",
       "</style>\n",
       "<table border=\"1\" class=\"dataframe\">\n",
       "  <thead>\n",
       "    <tr style=\"text-align: right;\">\n",
       "      <th></th>\n",
       "      <th>Entropia Original</th>\n",
       "      <th>Entropia IQR</th>\n",
       "      <th>Entropia IQR Taponado</th>\n",
       "    </tr>\n",
       "  </thead>\n",
       "  <tbody>\n",
       "    <tr>\n",
       "      <th>x</th>\n",
       "      <td>0.321535</td>\n",
       "      <td>0.322888</td>\n",
       "      <td>0.323757</td>\n",
       "    </tr>\n",
       "    <tr>\n",
       "      <th>y</th>\n",
       "      <td>0.344003</td>\n",
       "      <td>0.345610</td>\n",
       "      <td>0.346077</td>\n",
       "    </tr>\n",
       "    <tr>\n",
       "      <th>z</th>\n",
       "      <td>0.350070</td>\n",
       "      <td>0.351448</td>\n",
       "      <td>0.352000</td>\n",
       "    </tr>\n",
       "  </tbody>\n",
       "</table>\n",
       "</div>"
      ],
      "text/plain": [
       "   Entropia Original  Entropia IQR  Entropia IQR Taponado\n",
       "x           0.321535      0.322888               0.323757\n",
       "y           0.344003      0.345610               0.346077\n",
       "z           0.350070      0.351448               0.352000"
      ]
     },
     "metadata": {},
     "output_type": "display_data"
    }
   ],
   "source": [
    "H_1 = entr(Datos_Min_Max[['x','y','z']])\n",
    "H_2 = entr(datos_sin_outliers_IQR[['x','y','z']])\n",
    "H_3 = entr(Datos_taponados[['x','y','z']])\n",
    "\n",
    "entropia_normalizada_1 = H_1.sum()/Datos_Min_Max.shape[0]\n",
    "entropia_normalizada_2 = H_2.sum()/datos_sin_outliers_IQR.shape[0]\n",
    "entropia_normalizada_3 = H_3.sum()/Datos_taponados.shape[0]\n",
    "\n",
    "entropia_normalizada_1 = pd.DataFrame(entropia_normalizada_1, index = None, columns = ['Entropia Original'])\n",
    "entropia_normalizada_2 = pd.DataFrame(entropia_normalizada_2, index = None, columns = ['Entropia IQR'])\n",
    "entropia_normalizada_3 = pd.DataFrame(entropia_normalizada_3, index = None, columns = ['Entropia IQR Taponado'])\n",
    "Comparacion_entropias = pd.concat([entropia_normalizada_1, entropia_normalizada_2, entropia_normalizada_3], axis = 1)\n",
    "\n",
    "display(Comparacion_entropias)"
   ]
  },
  {
   "cell_type": "markdown",
   "metadata": {
    "id": "vZzKd8mAG9Pz"
   },
   "source": [
    "## Test Z para Detección de Datos Atípicos"
   ]
  },
  {
   "cell_type": "markdown",
   "metadata": {
    "id": "ZdiamuOqHrhe"
   },
   "source": [
    "El test Z o puntuación estándar es un test estadístico que permite entender si un valor de los datos es mayor o menor que la media y a qué distancia está de la media. Lo anterior indica cuántas desviaciones estándar hay entre un punto de los datos y la media.\n",
    "\n",
    "$z = \\frac{x - \\mu}{\\sigma}$\n",
    "\n",
    "siendo $x$ una columna de datos, $\\mu$ es la media de la columna de datos y $\\sigma$ es la desviación estándar de la columna de datos (observen que este concepto es exactamente igual al método de escalamiento estándar visto en la sesión anterior).\n",
    "\n",
    "Para el caso de la detección de datos atípicos, se sugiere seguir la regla de las 3 desviaciones estándar:\n",
    "\n",
    "1.   Si se considera el 68% de los datos dentro de una distribución normal, entonces se considera una desviación estándar más o menos de 1, es decir, $\\mu \\pm \\sigma$\n",
    "2.   Si se considera el 95% de los datos dentro de una distribución normal, entonces se considera una desviación estándar más o menos de 2, es decir, $\\mu \\pm 2\\sigma$\n",
    "3.   Si se considera el 99.7% de los datos dentro de una distribución normal, entonces se considera una desviación estándar más o menos de 2, es decir, $\\mu \\pm 3\\sigma$\n",
    "\n",
    "Por ejemplo, si la el valor $z$ de un dato es mayor a 3, esto nos indica que el dato es muy diferente de los demás datos, y por consiguiente, el dato puede ser un valor atípico."
   ]
  },
  {
   "cell_type": "code",
   "execution_count": 30,
   "metadata": {
    "colab": {
     "base_uri": "https://localhost:8080/"
    },
    "id": "--Ad2OMzJ19_",
    "outputId": "fde97c2b-2c33-471d-ed17-749c06c4dfd3"
   },
   "outputs": [
    {
     "name": "stdout",
     "output_type": "stream",
     "text": [
      "media de las características de la base de datos: \n",
      " wconfid    0.500000\n",
      "pctid      0.500000\n",
      "x          0.562367\n",
      "y          0.500460\n",
      "z          0.480986\n",
      "dtype: float64\n",
      "desviación estándar de las características de la base de datos: \n",
      "  wconfid    0.408248\n",
      "pctid      0.306186\n",
      "x          0.048384\n",
      "y          0.046424\n",
      "z          0.043253\n",
      "dtype: float64\n"
     ]
    },
    {
     "name": "stderr",
     "output_type": "stream",
     "text": [
      "C:\\Users\\Usuario\\AppData\\Local\\Programs\\Python\\Python39\\lib\\site-packages\\numpy\\core\\fromnumeric.py:3430: FutureWarning: In a future version, DataFrame.mean(axis=None) will return a scalar mean over the entire DataFrame. To retain the old behavior, use 'frame.mean(axis=0)' or just 'frame.mean()'\n",
      "  return mean(axis=axis, dtype=dtype, out=out, **kwargs)\n"
     ]
    }
   ],
   "source": [
    "media = np.mean(Datos_Min_Max)\n",
    "std = np.std(Datos_Min_Max)\n",
    "\n",
    "print('media de las características de la base de datos: \\n', media)\n",
    "print('desviación estándar de las características de la base de datos: \\n ', std)"
   ]
  },
  {
   "cell_type": "code",
   "execution_count": 31,
   "metadata": {
    "colab": {
     "base_uri": "https://localhost:8080/",
     "height": 300
    },
    "id": "GsKGmCM8KYOm",
    "outputId": "fd39975c-5ccd-4526-ad9a-3c66ac3feaab"
   },
   "outputs": [
    {
     "data": {
      "text/html": [
       "<div>\n",
       "<style scoped>\n",
       "    .dataframe tbody tr th:only-of-type {\n",
       "        vertical-align: middle;\n",
       "    }\n",
       "\n",
       "    .dataframe tbody tr th {\n",
       "        vertical-align: top;\n",
       "    }\n",
       "\n",
       "    .dataframe thead th {\n",
       "        text-align: right;\n",
       "    }\n",
       "</style>\n",
       "<table border=\"1\" class=\"dataframe\">\n",
       "  <thead>\n",
       "    <tr style=\"text-align: right;\">\n",
       "      <th></th>\n",
       "      <th>wconfid</th>\n",
       "      <th>pctid</th>\n",
       "      <th>x</th>\n",
       "      <th>y</th>\n",
       "      <th>z</th>\n",
       "    </tr>\n",
       "  </thead>\n",
       "  <tbody>\n",
       "    <tr>\n",
       "      <th>count</th>\n",
       "      <td>1.530000e+05</td>\n",
       "      <td>1.530000e+05</td>\n",
       "      <td>1.530000e+05</td>\n",
       "      <td>1.530000e+05</td>\n",
       "      <td>1.530000e+05</td>\n",
       "    </tr>\n",
       "    <tr>\n",
       "      <th>mean</th>\n",
       "      <td>4.755528e-17</td>\n",
       "      <td>-1.188882e-17</td>\n",
       "      <td>2.691703e-16</td>\n",
       "      <td>1.205647e-15</td>\n",
       "      <td>-9.709822e-16</td>\n",
       "    </tr>\n",
       "    <tr>\n",
       "      <th>std</th>\n",
       "      <td>1.000003e+00</td>\n",
       "      <td>1.000003e+00</td>\n",
       "      <td>1.000003e+00</td>\n",
       "      <td>1.000003e+00</td>\n",
       "      <td>1.000003e+00</td>\n",
       "    </tr>\n",
       "    <tr>\n",
       "      <th>min</th>\n",
       "      <td>-1.224745e+00</td>\n",
       "      <td>-1.632993e+00</td>\n",
       "      <td>-1.162291e+01</td>\n",
       "      <td>-1.078018e+01</td>\n",
       "      <td>-1.112024e+01</td>\n",
       "    </tr>\n",
       "    <tr>\n",
       "      <th>25%</th>\n",
       "      <td>-1.224745e+00</td>\n",
       "      <td>-8.164966e-01</td>\n",
       "      <td>-6.540706e-02</td>\n",
       "      <td>-1.122427e-01</td>\n",
       "      <td>-1.048940e-01</td>\n",
       "    </tr>\n",
       "    <tr>\n",
       "      <th>50%</th>\n",
       "      <td>0.000000e+00</td>\n",
       "      <td>0.000000e+00</td>\n",
       "      <td>-4.680082e-03</td>\n",
       "      <td>3.566742e-03</td>\n",
       "      <td>-1.398598e-02</td>\n",
       "    </tr>\n",
       "    <tr>\n",
       "      <th>75%</th>\n",
       "      <td>1.224745e+00</td>\n",
       "      <td>8.164966e-01</td>\n",
       "      <td>5.604690e-02</td>\n",
       "      <td>1.341890e-01</td>\n",
       "      <td>1.001326e-01</td>\n",
       "    </tr>\n",
       "    <tr>\n",
       "      <th>max</th>\n",
       "      <td>1.224745e+00</td>\n",
       "      <td>1.632993e+00</td>\n",
       "      <td>9.044932e+00</td>\n",
       "      <td>1.076038e+01</td>\n",
       "      <td>1.199941e+01</td>\n",
       "    </tr>\n",
       "  </tbody>\n",
       "</table>\n",
       "</div>"
      ],
      "text/plain": [
       "            wconfid         pctid             x             y             z\n",
       "count  1.530000e+05  1.530000e+05  1.530000e+05  1.530000e+05  1.530000e+05\n",
       "mean   4.755528e-17 -1.188882e-17  2.691703e-16  1.205647e-15 -9.709822e-16\n",
       "std    1.000003e+00  1.000003e+00  1.000003e+00  1.000003e+00  1.000003e+00\n",
       "min   -1.224745e+00 -1.632993e+00 -1.162291e+01 -1.078018e+01 -1.112024e+01\n",
       "25%   -1.224745e+00 -8.164966e-01 -6.540706e-02 -1.122427e-01 -1.048940e-01\n",
       "50%    0.000000e+00  0.000000e+00 -4.680082e-03  3.566742e-03 -1.398598e-02\n",
       "75%    1.224745e+00  8.164966e-01  5.604690e-02  1.341890e-01  1.001326e-01\n",
       "max    1.224745e+00  1.632993e+00  9.044932e+00  1.076038e+01  1.199941e+01"
      ]
     },
     "execution_count": 31,
     "metadata": {},
     "output_type": "execute_result"
    }
   ],
   "source": [
    "regla_desviacion = 3\n",
    "z = (Datos_Min_Max - media)/std\n",
    "z.describe()"
   ]
  },
  {
   "cell_type": "code",
   "execution_count": 32,
   "metadata": {
    "colab": {
     "base_uri": "https://localhost:8080/",
     "height": 206
    },
    "id": "8A5Owq81LKGD",
    "outputId": "730016b7-c4f6-486d-a79a-48e88d37ab6f"
   },
   "outputs": [
    {
     "data": {
      "text/html": [
       "<div>\n",
       "<style scoped>\n",
       "    .dataframe tbody tr th:only-of-type {\n",
       "        vertical-align: middle;\n",
       "    }\n",
       "\n",
       "    .dataframe tbody tr th {\n",
       "        vertical-align: top;\n",
       "    }\n",
       "\n",
       "    .dataframe thead th {\n",
       "        text-align: right;\n",
       "    }\n",
       "</style>\n",
       "<table border=\"1\" class=\"dataframe\">\n",
       "  <thead>\n",
       "    <tr style=\"text-align: right;\">\n",
       "      <th></th>\n",
       "      <th>Número de Datos Atípicos</th>\n",
       "    </tr>\n",
       "  </thead>\n",
       "  <tbody>\n",
       "    <tr>\n",
       "      <th>wconfid</th>\n",
       "      <td>0</td>\n",
       "    </tr>\n",
       "    <tr>\n",
       "      <th>pctid</th>\n",
       "      <td>0</td>\n",
       "    </tr>\n",
       "    <tr>\n",
       "      <th>x</th>\n",
       "      <td>2287</td>\n",
       "    </tr>\n",
       "    <tr>\n",
       "      <th>y</th>\n",
       "      <td>1827</td>\n",
       "    </tr>\n",
       "    <tr>\n",
       "      <th>z</th>\n",
       "      <td>2417</td>\n",
       "    </tr>\n",
       "  </tbody>\n",
       "</table>\n",
       "</div>"
      ],
      "text/plain": [
       "         Número de Datos Atípicos\n",
       "wconfid                         0\n",
       "pctid                           0\n",
       "x                            2287\n",
       "y                            1827\n",
       "z                            2417"
      ]
     },
     "metadata": {},
     "output_type": "display_data"
    }
   ],
   "source": [
    "datos_atipicos_wconfid = []\n",
    "datos_atipicos_pctid = []\n",
    "datos_atipicos_x = []\n",
    "datos_atipicos_y = []\n",
    "datos_atipicos_z = []\n",
    "\n",
    "pos_atipicos_wconfid = []\n",
    "pos_atipicos_pctid = []\n",
    "pos_atipicos_x = []\n",
    "pos_atipicos_y = []\n",
    "pos_atipicos_z = []\n",
    "\n",
    "for n in range(Datos_Min_Max.shape[0]):\n",
    "    if z.iloc[n,0] > regla_desviacion:\n",
    "      datos_atipicos_wconfid.append(Datos_Min_Max.iloc[n,0])\n",
    "      pos_atipicos_wconfid.append(n)\n",
    "    if z.iloc[n,1] > regla_desviacion:\n",
    "      datos_atipicos_pctid.append(Datos_Min_Max.iloc[n,1])\n",
    "      pos_atipicos_pctid.append(n)\n",
    "    if z.iloc[n,2] > regla_desviacion:\n",
    "      datos_atipicos_x.append(Datos_Min_Max.iloc[n,2])\n",
    "      pos_atipicos_x.append(n) \n",
    "    if z.iloc[n,3] > regla_desviacion:\n",
    "      datos_atipicos_y.append(Datos_Min_Max.iloc[n,3])\n",
    "      pos_atipicos_y.append(n) \n",
    "    if z.iloc[n,4] > regla_desviacion:\n",
    "      datos_atipicos_z.append(Datos_Min_Max.iloc[n,4])\n",
    "      pos_atipicos_z.append(n)\n",
    "\n",
    "Numero_datos_atipicos = [len(datos_atipicos_wconfid), len(datos_atipicos_pctid), len(datos_atipicos_x), \n",
    "                         len(datos_atipicos_y), len(datos_atipicos_z)]\n",
    "\n",
    "reporte = pd.DataFrame(Numero_datos_atipicos, index = nombres, columns = ['Número de Datos Atípicos'])\n",
    "display(reporte)  "
   ]
  },
  {
   "cell_type": "markdown",
   "metadata": {
    "id": "8xG-HnOTO4-h"
   },
   "source": [
    "¿Cómo eliminar los datos atípicos si las columnas $x$, $y$, $z$, tienen diferentes número de datos atípicos? Una estrategía es localizar las posiciones donde coincidan los datos atípicos de las tres columnas mencionadas."
   ]
  },
  {
   "cell_type": "code",
   "execution_count": 33,
   "metadata": {
    "colab": {
     "base_uri": "https://localhost:8080/"
    },
    "id": "Hyaw9V8BPUFq",
    "outputId": "f14170f7-e440-4817-91b0-aefb6e787b73"
   },
   "outputs": [
    {
     "name": "stdout",
     "output_type": "stream",
     "text": [
      "[45573, 97414, 50952, 50826, 99598, 42513, 46098, 45842, 49553, 99219, 49823, 42145, 47011, 47523, 49322, 48298, 46510, 46128, 46262, 44984, 99514, 48829, 46412, 48717, 47956, 47060, 48736, 43107, 100336, 97655]\n"
     ]
    }
   ],
   "source": [
    "Posiciones_coinciden = list(set(pos_atipicos_x) & set(pos_atipicos_y) & set(pos_atipicos_z))\n",
    "print(Posiciones_coinciden)"
   ]
  },
  {
   "cell_type": "code",
   "execution_count": 34,
   "metadata": {
    "colab": {
     "base_uri": "https://localhost:8080/"
    },
    "id": "bNCcK6dBWUHK",
    "outputId": "0bd36b3a-20b1-45f9-8b71-600fee80df3d"
   },
   "outputs": [
    {
     "name": "stdout",
     "output_type": "stream",
     "text": [
      "(153000, 5)\n",
      "(152970, 5)\n"
     ]
    }
   ],
   "source": [
    "datos_sin_outliers_z = Datos_Min_Max.drop(Posiciones_coinciden)\n",
    "print(Datos_Min_Max.shape) # Tamaño de los datos originales\n",
    "print(datos_sin_outliers_z.shape) # Tamañno de los datos sin outliers "
   ]
  },
  {
   "cell_type": "markdown",
   "metadata": {
    "id": "GeB8E6ancwbs"
   },
   "source": [
    "Verificando con la métrica de entropía"
   ]
  },
  {
   "cell_type": "code",
   "execution_count": 35,
   "metadata": {
    "colab": {
     "base_uri": "https://localhost:8080/",
     "height": 143
    },
    "id": "N53apF4nczwA",
    "outputId": "56375990-4a6c-4238-b107-fe5666c70b1a"
   },
   "outputs": [
    {
     "data": {
      "text/html": [
       "<div>\n",
       "<style scoped>\n",
       "    .dataframe tbody tr th:only-of-type {\n",
       "        vertical-align: middle;\n",
       "    }\n",
       "\n",
       "    .dataframe tbody tr th {\n",
       "        vertical-align: top;\n",
       "    }\n",
       "\n",
       "    .dataframe thead th {\n",
       "        text-align: right;\n",
       "    }\n",
       "</style>\n",
       "<table border=\"1\" class=\"dataframe\">\n",
       "  <thead>\n",
       "    <tr style=\"text-align: right;\">\n",
       "      <th></th>\n",
       "      <th>Entropia Original</th>\n",
       "      <th>Entropia Z</th>\n",
       "    </tr>\n",
       "  </thead>\n",
       "  <tbody>\n",
       "    <tr>\n",
       "      <th>x</th>\n",
       "      <td>0.321535</td>\n",
       "      <td>0.321569</td>\n",
       "    </tr>\n",
       "    <tr>\n",
       "      <th>y</th>\n",
       "      <td>0.344003</td>\n",
       "      <td>0.344024</td>\n",
       "    </tr>\n",
       "    <tr>\n",
       "      <th>z</th>\n",
       "      <td>0.350070</td>\n",
       "      <td>0.350088</td>\n",
       "    </tr>\n",
       "  </tbody>\n",
       "</table>\n",
       "</div>"
      ],
      "text/plain": [
       "   Entropia Original  Entropia Z\n",
       "x           0.321535    0.321569\n",
       "y           0.344003    0.344024\n",
       "z           0.350070    0.350088"
      ]
     },
     "metadata": {},
     "output_type": "display_data"
    }
   ],
   "source": [
    "H_1 = entr(Datos_Min_Max[['x','y','z']])\n",
    "H_2 = entr(datos_sin_outliers_z[['x','y','z']])\n",
    "\n",
    "entropia_normalizada_1 = H_1.sum()/Datos_Min_Max.shape[0]\n",
    "entropia_normalizada_2 = H_2.sum()/datos_sin_outliers_z.shape[0]\n",
    "\n",
    "entropia_normalizada_1 = pd.DataFrame(entropia_normalizada_1, index = None, columns = ['Entropia Original'])\n",
    "entropia_normalizada_2 = pd.DataFrame(entropia_normalizada_2, index = None, columns = ['Entropia Z'])\n",
    "Comparacion_entropias = pd.concat([entropia_normalizada_1, entropia_normalizada_2], axis = 1)\n",
    "\n",
    "display(Comparacion_entropias)"
   ]
  },
  {
   "cell_type": "markdown",
   "metadata": {
    "id": "caysuJO79ofi"
   },
   "source": [
    "## Test Z Modificado para Detección de Datos Atípicos"
   ]
  },
  {
   "cell_type": "markdown",
   "metadata": {
    "id": "DEYu8MI89xj1"
   },
   "source": [
    "El test Z modificado es una mejora del test Z clásico para mejorar la sensibilidad en la detección de datos atípicos. A diferencia del test Z, el test Z modificado cálcula la cantidad de desviaciones medias por debajo o por encima de la mediana de los datos, lo cual, permite detectar aquellos datos con mayor valor de $z$. Si el valor de $z$ es mayor, la desviación media de la mediana de los datos será mayor y permitirá detectar aquellos datos atípicos.\n",
    "\n",
    "La fórmula para calcular el Test Z modificado es el siguiente:\n",
    "\n",
    "$z_{mod} = 0.6745 \\left (\\frac{x-mediana}{MAD} \\right )$\n",
    "\n",
    "donde $MAD$ significa *Desviación Mediana Absoluta*, el cual reemplaza el cálculo de la desviación estándar del test Z clásico y el factor 0.6745 esta cercano a la regla 1 mencionado del test Z original. "
   ]
  },
  {
   "cell_type": "code",
   "execution_count": 36,
   "metadata": {
    "colab": {
     "base_uri": "https://localhost:8080/"
    },
    "id": "WJLcgTdx9vPy",
    "outputId": "d1dd4b2a-99f3-4a5b-edf7-4f8a677b45f3"
   },
   "outputs": [
    {
     "name": "stdout",
     "output_type": "stream",
     "text": [
      "mediana de las características de la base de datos: \n",
      " [0.5        0.5        0.56214054 0.50062516 0.48038149]\n",
      "\n",
      "\n",
      "MAD de las características de la base de datos: \n",
      "  [0.5        0.25       0.00293823 0.00562641 0.00460136]\n"
     ]
    }
   ],
   "source": [
    "mediana = np.median(Datos_Min_Max, axis = 0)\n",
    "MAD = median_abs_deviation(Datos_Min_Max)\n",
    "\n",
    "print('mediana de las características de la base de datos: \\n', mediana)\n",
    "print('\\n')\n",
    "print('MAD de las características de la base de datos: \\n ', MAD)"
   ]
  },
  {
   "cell_type": "code",
   "execution_count": 37,
   "metadata": {
    "colab": {
     "base_uri": "https://localhost:8080/",
     "height": 300
    },
    "id": "XrU4zXZgD7e-",
    "outputId": "e7d90030-40eb-4727-e780-b4a4fc658b01"
   },
   "outputs": [
    {
     "data": {
      "text/html": [
       "<div>\n",
       "<style scoped>\n",
       "    .dataframe tbody tr th:only-of-type {\n",
       "        vertical-align: middle;\n",
       "    }\n",
       "\n",
       "    .dataframe tbody tr th {\n",
       "        vertical-align: top;\n",
       "    }\n",
       "\n",
       "    .dataframe thead th {\n",
       "        text-align: right;\n",
       "    }\n",
       "</style>\n",
       "<table border=\"1\" class=\"dataframe\">\n",
       "  <thead>\n",
       "    <tr style=\"text-align: right;\">\n",
       "      <th></th>\n",
       "      <th>wconfid</th>\n",
       "      <th>pctid</th>\n",
       "      <th>x</th>\n",
       "      <th>y</th>\n",
       "      <th>z</th>\n",
       "    </tr>\n",
       "  </thead>\n",
       "  <tbody>\n",
       "    <tr>\n",
       "      <th>count</th>\n",
       "      <td>1.530000e+05</td>\n",
       "      <td>1.530000e+05</td>\n",
       "      <td>153000.000000</td>\n",
       "      <td>153000.000000</td>\n",
       "      <td>153000.000000</td>\n",
       "    </tr>\n",
       "    <tr>\n",
       "      <th>mean</th>\n",
       "      <td>1.783323e-17</td>\n",
       "      <td>-1.188882e-17</td>\n",
       "      <td>0.051982</td>\n",
       "      <td>-0.019850</td>\n",
       "      <td>0.088676</td>\n",
       "    </tr>\n",
       "    <tr>\n",
       "      <th>std</th>\n",
       "      <td>5.507287e-01</td>\n",
       "      <td>8.260931e-01</td>\n",
       "      <td>11.107125</td>\n",
       "      <td>5.565387</td>\n",
       "      <td>6.340396</td>\n",
       "    </tr>\n",
       "    <tr>\n",
       "      <th>min</th>\n",
       "      <td>-6.745000e-01</td>\n",
       "      <td>-1.349000e+00</td>\n",
       "      <td>-129.044766</td>\n",
       "      <td>-60.015511</td>\n",
       "      <td>-70.417800</td>\n",
       "    </tr>\n",
       "    <tr>\n",
       "      <th>25%</th>\n",
       "      <td>-6.745000e-01</td>\n",
       "      <td>-6.745000e-01</td>\n",
       "      <td>-0.674500</td>\n",
       "      <td>-0.644522</td>\n",
       "      <td>-0.576391</td>\n",
       "    </tr>\n",
       "    <tr>\n",
       "      <th>50%</th>\n",
       "      <td>0.000000e+00</td>\n",
       "      <td>0.000000e+00</td>\n",
       "      <td>0.000000</td>\n",
       "      <td>0.000000</td>\n",
       "      <td>0.000000</td>\n",
       "    </tr>\n",
       "    <tr>\n",
       "      <th>75%</th>\n",
       "      <td>6.745000e-01</td>\n",
       "      <td>6.745000e-01</td>\n",
       "      <td>0.674500</td>\n",
       "      <td>0.726961</td>\n",
       "      <td>0.723555</td>\n",
       "    </tr>\n",
       "    <tr>\n",
       "      <th>max</th>\n",
       "      <td>6.745000e-01</td>\n",
       "      <td>1.349000e+00</td>\n",
       "      <td>100.514851</td>\n",
       "      <td>59.865622</td>\n",
       "      <td>76.169445</td>\n",
       "    </tr>\n",
       "  </tbody>\n",
       "</table>\n",
       "</div>"
      ],
      "text/plain": [
       "            wconfid         pctid              x              y              z\n",
       "count  1.530000e+05  1.530000e+05  153000.000000  153000.000000  153000.000000\n",
       "mean   1.783323e-17 -1.188882e-17       0.051982      -0.019850       0.088676\n",
       "std    5.507287e-01  8.260931e-01      11.107125       5.565387       6.340396\n",
       "min   -6.745000e-01 -1.349000e+00    -129.044766     -60.015511     -70.417800\n",
       "25%   -6.745000e-01 -6.745000e-01      -0.674500      -0.644522      -0.576391\n",
       "50%    0.000000e+00  0.000000e+00       0.000000       0.000000       0.000000\n",
       "75%    6.745000e-01  6.745000e-01       0.674500       0.726961       0.723555\n",
       "max    6.745000e-01  1.349000e+00     100.514851      59.865622      76.169445"
      ]
     },
     "execution_count": 37,
     "metadata": {},
     "output_type": "execute_result"
    }
   ],
   "source": [
    "z_modificado = 0.6745*((Datos_Min_Max - mediana)/MAD)\n",
    "z_modificado.describe()"
   ]
  },
  {
   "cell_type": "code",
   "execution_count": 38,
   "metadata": {
    "colab": {
     "base_uri": "https://localhost:8080/",
     "height": 206
    },
    "id": "EgfqdyEjNfU8",
    "outputId": "15b63aad-d42d-476f-b9f9-8fac46f14df0"
   },
   "outputs": [
    {
     "data": {
      "text/html": [
       "<div>\n",
       "<style scoped>\n",
       "    .dataframe tbody tr th:only-of-type {\n",
       "        vertical-align: middle;\n",
       "    }\n",
       "\n",
       "    .dataframe tbody tr th {\n",
       "        vertical-align: top;\n",
       "    }\n",
       "\n",
       "    .dataframe thead th {\n",
       "        text-align: right;\n",
       "    }\n",
       "</style>\n",
       "<table border=\"1\" class=\"dataframe\">\n",
       "  <thead>\n",
       "    <tr style=\"text-align: right;\">\n",
       "      <th></th>\n",
       "      <th>Número de Datos Atípicos</th>\n",
       "    </tr>\n",
       "  </thead>\n",
       "  <tbody>\n",
       "    <tr>\n",
       "      <th>wconfid</th>\n",
       "      <td>0</td>\n",
       "    </tr>\n",
       "    <tr>\n",
       "      <th>pctid</th>\n",
       "      <td>0</td>\n",
       "    </tr>\n",
       "    <tr>\n",
       "      <th>x</th>\n",
       "      <td>18061</td>\n",
       "    </tr>\n",
       "    <tr>\n",
       "      <th>y</th>\n",
       "      <td>15114</td>\n",
       "    </tr>\n",
       "    <tr>\n",
       "      <th>z</th>\n",
       "      <td>19405</td>\n",
       "    </tr>\n",
       "  </tbody>\n",
       "</table>\n",
       "</div>"
      ],
      "text/plain": [
       "         Número de Datos Atípicos\n",
       "wconfid                         0\n",
       "pctid                           0\n",
       "x                           18061\n",
       "y                           15114\n",
       "z                           19405"
      ]
     },
     "metadata": {},
     "output_type": "display_data"
    }
   ],
   "source": [
    "regla_desviacion = 3\n",
    "\n",
    "datos_atipicos_wconfid = []\n",
    "datos_atipicos_pctid = []\n",
    "datos_atipicos_x = []\n",
    "datos_atipicos_y = []\n",
    "datos_atipicos_z = []\n",
    "\n",
    "for n in range(Datos_Min_Max.shape[0]):\n",
    "    if z_modificado.iloc[n,0] > regla_desviacion:\n",
    "      datos_atipicos_wconfid.append(Datos_Min_Max.iloc[n,0])\n",
    "    if z_modificado.iloc[n,1] > regla_desviacion:\n",
    "      datos_atipicos_pctid.append(Datos_Min_Max.iloc[n,1])\n",
    "    if z_modificado.iloc[n,2] > regla_desviacion:\n",
    "      datos_atipicos_x.append(Datos_Min_Max.iloc[n,2]) \n",
    "    if z_modificado.iloc[n,3] > regla_desviacion:\n",
    "      datos_atipicos_y.append(Datos_Min_Max.iloc[n,3])\n",
    "    if z_modificado.iloc[n,4] > regla_desviacion:\n",
    "      datos_atipicos_z.append(Datos_Min_Max.iloc[n,4])\n",
    "\n",
    "Numero_datos_atipicos = [len(datos_atipicos_wconfid), len(datos_atipicos_pctid), len(datos_atipicos_x), \n",
    "                         len(datos_atipicos_y), len(datos_atipicos_z)]\n",
    "\n",
    "reporte = pd.DataFrame(Numero_datos_atipicos, index = nombres, columns = ['Número de Datos Atípicos'])\n",
    "display(reporte)  "
   ]
  },
  {
   "cell_type": "code",
   "execution_count": 39,
   "metadata": {
    "colab": {
     "base_uri": "https://localhost:8080/"
    },
    "id": "tJgGKAJfOEXq",
    "outputId": "62f3101c-2be0-4fd6-d9f7-8419bf3fe39e"
   },
   "outputs": [
    {
     "name": "stdout",
     "output_type": "stream",
     "text": [
      "[40960, 81922, 49161, 49167, 90129, 49170, 98323, 49174, 49178, 90154, 41003, 49200, 49214, 41023, 49215, 98373, 90182, 98379, 41040, 82000, 41044, 90202, 41055, 98415, 41071, 98426, 98429, 41085, 49279, 98432, 90251, 90258, 49299, 98452, 90262, 49315, 98470, 49319, 49322, 49331, 90292, 49334, 41150, 41154, 32963, 49347, 98502, 49352, 49360, 90325, 32986, 98523, 98526, 41182, 49374, 98532, 90343, 41192, 33018, 90374, 49416, 98573, 49427, 41237, 98584, 98585, 41241, 98588, 41245, 49438, 90398, 98594, 33062, 49449, 41258, 49451, 41260, 98612, 33088, 98628, 41284, 41286, 49477, 49481, 82260, 49506, 90468, 98662, 98666, 90475, 41325, 49523, 33144, 49532, 90492, 90500, 98693, 49545, 90506, 41358, 98705, 49553, 49555, 98708, 49559, 49561, 90523, 49570, 90530, 98726, 90550, 41407, 98752, 41408, 90567, 33226, 41419, 90578, 41435, 33244, 98781, 98782, 41436, 41438, 41441, 98788, 90598, 33256, 41451, 49644, 98797, 98806, 49655, 98819, 41477, 49669, 90632, 98827, 90638, 41492, 49685, 90646, 90649, 41509, 90663, 98865, 98869, 90677, 49730, 98895, 98898, 41554, 41555, 98901, 82520, 49755, 49756, 98910, 90719, 41570, 41582, 49774, 41587, 98936, 98942, 98948, 90757, 90759, 90767, 98962, 49810, 82581, 49823, 33441, 98980, 49830, 41655, 41656, 82616, 99005, 49854, 90828, 99024, 82642, 49878, 41687, 41693, 90848, 33505, 49894, 41705, 49905, 99066, 49922, 49923, 99088, 49939, 99096, 90908, 49954, 49955, 33572, 99108, 99111, 90919, 99114, 99117, 41775, 90933, 49976, 49979, 41789, 99134, 41790, 49982, 41793, 49986, 41805, 99151, 50000, 50005, 50008, 33627, 41819, 41820, 50015, 90978, 99172, 50024, 50026, 41842, 41856, 99201, 41864, 50057, 41871, 99219, 91027, 91030, 50074, 50085, 99240, 99252, 99260, 33751, 99289, 99300, 41963, 33780, 99322, 50173, 99330, 41986, 50186, 91146, 91149, 91152, 50197, 33814, 50202, 50205, 91169, 33827, 50218, 91180, 99374, 91183, 99377, 50226, 33845, 42039, 91193, 50236, 91196, 99391, 91200, 91203, 42064, 33874, 42075, 99425, 42082, 99431, 50281, 50283, 42098, 50295, 33912, 33913, 99457, 99459, 50308, 42117, 99462, 33929, 42122, 99475, 91283, 50325, 50326, 42135, 42145, 42146, 99491, 33963, 99507, 99510, 42166, 99514, 42178, 33993, 42185, 50378, 99534, 42195, 50388, 50391, 99546, 91358, 50402, 99555, 34024, 42216, 50412, 99568, 42230, 34040, 50425, 91385, 42238, 42243, 34057, 99598, 42257, 91412, 50456, 99618, 99621, 34087, 34088, 50473, 42282, 50475, 50476, 91443, 42292, 91445, 42296, 91449, 91450, 99643, 99653, 91462, 91463, 42312, 42313, 50508, 91470, 50511, 99664, 34134, 99671, 34151, 42347, 50543, 42364, 91521, 99720, 42386, 99732, 34198, 42390, 42396, 99746, 34215, 91562, 50608, 42417, 91569, 34236, 50621, 91583, 42436, 42438, 42443, 91600, 42450, 91607, 42462, 34271, 42463, 50654, 34283, 91634, 42485, 42486, 42506, 42509, 34318, 50701, 42513, 99858, 42524, 99873, 50723, 91688, 99884, 99893, 99896, 99899, 50752, 34373, 42569, 91722, 91725, 50768, 91732, 42589, 42590, 91754, 91756, 42606, 50798, 42611, 42617, 99962, 42620, 50825, 50826, 42639, 50832, 99985, 42645, 50847, 42657, 42665, 50870, 100025, 42682, 100027, 50877, 42689, 50881, 91847, 42697, 42698, 100045, 100049, 100051, 50904, 34521, 50907, 100060, 42717, 42718, 50910, 91867, 42724, 100074, 50924, 91884, 42740, 100089, 50937, 34555, 42747, 50941, 91897, 100096, 100097, 42754, 91904, 100103, 50952, 100107, 34573, 42768, 50962, 50965, 42775, 100126, 100146, 42805, 100155, 42811, 42813, 91968, 42821, 83786, 91981, 42833, 91988, 100183, 100186, 34657, 92004, 92007, 42875, 34687, 42889, 92042, 100252, 42917, 100270, 42935, 100281, 92094, 100291, 100293, 92105, 42954, 100299, 92107, 100302, 42965, 83942, 42983, 42988, 92141, 100336, 42994, 100342, 43000, 92154, 34811, 100348, 34823, 43015, 43016, 34828, 43021, 100377, 43051, 92209, 43060, 84026, 43068, 34878, 100414, 100417, 100420, 92240, 43090, 92247, 43098, 92254, 43106, 43107, 100454, 34921, 100463, 100466, 43127, 100472, 92282, 43131, 92298, 92305, 43155, 43177, 34989, 34990, 43187, 92339, 92343, 43201, 35023, 35024, 100560, 43219, 92373, 43231, 92387, 92395, 35058, 92407, 100604, 35074, 35075, 100618, 100622, 92435, 35092, 43288, 92445, 43296, 100641, 43301, 84269, 100662, 43319, 43326, 100679, 92489, 43339, 100689, 43350, 100697, 43360, 43367, 92526, 100726, 35193, 35194, 43385, 84349, 43407, 43414, 100763, 43427, 43430, 92583, 100777, 100780, 43437, 43439, 43441, 43443, 43445, 43446, 43459, 43466, 100821, 100828, 43493, 84453, 35313, 84469, 100857, 43514, 84485, 43530, 35339, 43532, 84493, 84501, 43547, 43548, 84509, 100895, 92706, 43557, 92710, 92720, 43575, 92730, 27201, 100932, 92740, 100939, 100943, 43609, 43610, 35419, 92764, 100957, 100960, 27236, 35436, 35437, 100975, 43633, 84597, 43640, 27261, 92798, 43647, 35461, 84613, 27271, 43660, 92812, 101009, 27281, 84629, 84637, 43678, 35488, 92832, 92835, 101037, 35504, 35505, 84661, 101054, 35521, 35522, 84677, 43721, 43723, 35538, 92886, 43741, 43744, 43746, 35555, 35556, 43755, 84717, 101106, 43762, 35572, 35573, 43765, 27385, 43774, 92927, 101120, 43776, 101123, 27395, 101126, 84749, 101138, 27415, 84761, 92954, 43804, 92958, 27425, 84771, 84773, 35624, 27435, 43821, 101166, 101167, 43825, 43829, 101175, 35641, 27450, 101182, 92990, 84805, 84813, 43857, 43865, 35674, 101210, 43870, 101216, 93025, 43884, 101233, 93048, 43900, 93055, 35712, 93058, 43908, 93064, 93065, 93068, 101261, 27534, 101272, 27544, 101276, 27549, 43934, 43935, 93088, 101284, 43944, 93101, 27569, 43955, 27574, 101307, 35773, 101310, 93131, 101324, 35789, 43984, 43985, 43997, 84957, 35807, 93151, 44014, 93167, 93170, 93171, 101364, 93174, 98302, 101373, 101379, 85005, 101390, 35858, 85011, 44056, 35865, 101404, 93214, 44063, 93223, 93227, 85037, 27693, 93231, 101427, 44090, 27708, 44094, 35905, 27713, 44101, 101446, 44110, 85077, 44125, 93282, 35939, 44132, 101478, 101481, 44139, 85101, 85109, 101515, 93323, 44176, 101521, 35986, 101524, 44183, 93335, 44185, 93340, 93343, 36009, 101545, 93353, 93369, 101571, 101574, 101581, 93399, 101593, 101595, 101596, 44252, 36063, 44255, 93419, 93432, 93434, 101633, 93445, 44301, 85261, 93455, 44309, 85269, 101656, 44314, 44323, 36133, 93477, 44330, 85297, 44343, 101691, 44350, 44351, 36162, 93506, 85316, 85317, 36166, 36170, 101711, 93522, 36186, 36187, 44379, 44381, 36190, 101728, 101730, 93541, 44391, 44400, 101745, 44412, 93572, 93581, 101779, 101781, 44437, 85397, 101785, 44444, 36257, 101793, 36260, 101796, 93606, 36265, 36269, 44468, 36277, 101816, 36281, 93625, 44475, 101822, 44478, 85453, 101839, 101842, 101845, 36315, 44507, 85477, 101862, 44524, 93686, 93689, 44539, 101885, 36352, 36356, 44548, 44559, 101907, 44580, 36389, 44587, 36399, 44593, 93746, 85557, 101959, 44615, 44617, 44618, 44619, 93768, 85581, 44626, 28250, 85597, 28255, 36450, 85605, 36454, 44646, 36458, 101997, 36462, 85613, 36466, 36470, 44664, 85629, 44671, 93824, 36482, 36484, 36488, 44680, 93834, 36496, 93840, 44695, 44697, 36506, 44702, 44704, 93858, 93859, 44710, 44731, 93885, 28365, 44754, 85717, 93911, 93913, 44762, 44763, 44769, 85733, 36593, 44786, 93945, 44813, 44820, 85781, 85805, 93997, 36655, 85813, 44857, 94010, 85821, 85829, 36679, 94035, 85845, 36695, 28510, 36703, 36707, 44901, 36711, 94055, 44908, 85869, 94067, 85877, 36729, 85885, 94096, 36755, 94107, 44957, 44960, 44964, 36788, 94133, 44984, 44985, 94143, 36807, 94152, 45001, 36812, 28620, 45006, 28625, 36819, 45013, 94173, 36831, 85989, 28665, 94207, 45056, 94220, 28690, 36887, 36888, 45079, 45080, 36896, 45091, 45101, 45110, 28730, 36942, 86101, 45142, 94299, 45151, 28770, 45156, 94308, 45161, 86125, 45167, 45171, 94324, 94327, 86139, 28795, 36989, 45181, 94340, 45190, 94343, 28810, 94346, 37011, 94358, 45214, 94371, 94387, 45238, 37062, 37066, 86221, 45262, 45267, 86237, 45285, 86245, 94441, 45290, 86253, 94445, 37105, 45299, 94456, 37114, 86277, 37136, 86293, 86301, 94497, 86309, 28965, 28970, 37163, 94507, 86317, 37171, 37172, 28980, 37175, 86333, 94526, 45375, 45378, 37188, 86341, 37191, 86349, 94542, 45392, 45393, 29010, 86357, 86365, 45412, 86373, 45421, 86381, 45425, 37237, 94582, 37240, 29050, 45435, 78204, 94592, 86404, 94601, 45454, 37263, 94607, 29075, 94611, 94614, 37274, 45467, 45469, 45494, 37303, 37308, 37315, 45511, 37325, 94671, 37332, 86485, 94676, 94678, 37347, 45540, 94696, 94699, 45563, 37372, 45568, 45573, 37384, 94732, 45583, 94747, 37406, 45606, 45613, 45615, 86580, 45627, 37446, 37451, 86613, 37466, 86621, 45671, 94823, 37481, 37495, 45687, 37498, 45691, 45696, 94851, 86661, 37510, 45704, 37514, 94861, 37518, 37522, 45715, 45716, 94874, 94880, 94886, 45739, 45741, 94895, 45748, 94902, 86717, 37566, 94914, 94918, 94924, 86733, 45781, 37593, 37597, 86749, 29405, 45798, 37611, 37615, 37619, 45842, 95021, 45871, 95024, 37681, 37685, 37689, 45884, 45888, 95043, 86852, 37705, 95056, 95059, 86877, 95069, 37729, 86885, 45932, 86901, 45949, 86909, 95105, 37766, 37770, 95119, 37812, 46006, 95164, 37825, 37833, 46026, 46034, 37846, 95192, 46045, 37855, 37863, 46056, 87017, 95216, 46068, 37879, 95236, 46086, 95246, 37904, 46098, 46115, 87078, 87086, 46128, 37943, 87097, 37947, 37955, 46151, 37963, 46160, 87131, 46172, 95324, 37988, 95339, 87149, 37998, 37999, 46192, 95343, 95346, 38004, 95348, 95352, 38012, 38013, 38014, 95358, 87171, 95368, 38025, 95370, 95371, 46222, 95375, 38033, 38037, 95382, 87200, 46241, 38053, 38057, 95404, 87215, 38068, 46262, 38073, 87245, 46294, 38110, 46304, 38114, 38117, 87276, 38126, 46320, 95479, 87288, 87289, 38142, 95488, 46344, 38158, 46350, 38162, 46354, 38166, 87319, 95528, 46388, 95540, 46390, 38202, 46410, 46412, 95566, 46420, 95576, 30042, 95579, 38240, 46435, 38248, 46440, 95594, 87403, 38252, 30061, 87411, 79223, 95607, 87418, 30080, 87425, 46469, 87437, 95632, 38293, 30108, 95644, 46504, 87466, 46510, 95671, 87480, 30136, 95675, 95678, 87488, 38339, 38343, 95697, 46548, 95701, 95713, 30178, 95716, 87528, 87529, 46572, 87532, 30192, 38385, 38389, 30206, 38399, 46596, 38407, 46599, 95752, 38419, 46613, 95765, 46635, 46637, 95794, 87609, 46657, 95810, 38477, 46670, 46671, 46672, 95826, 95829, 38490, 87649, 95841, 95848, 46698, 87660, 46707, 46711, 30331, 38529, 46723, 87686, 38536, 87693, 46740, 46744, 87707, 38556, 95911, 38568, 95930, 38588, 95955, 87784, 46825, 30442, 46835, 46838, 46840, 30465, 96002, 38661, 46860, 38669, 46863, 46865, 87831, 46886, 38695, 46888, 96049, 96052, 46901, 87864, 87878, 46921, 46922, 96073, 87886, 96084, 96092, 46942, 96095, 96119, 87930, 38779, 87940, 46984, 46985, 38814, 38818, 47011, 87973, 38822, 47020, 96172, 87984, 96176, 96178, 96184, 47033, 47043, 96196, 88010, 47060, 88021, 47066, 96220, 88031, 96225, 96230, 96232, 88046, 30705, 88060, 38913, 38916, 47120, 30737, 88086, 30746, 47131, 47132, 88097, 38959, 47158, 38972, 96317, 47168, 30788, 47177, 96329, 30797, 47183, 96338, 47187, 47188, 47215, 96375, 47224, 47225, 39037, 39048, 47249, 39060, 47254, 96409, 96417, 39075, 39077, 39078, 88231, 96423, 96438, 47291, 96447, 96456, 39113, 30922, 96468, 39125, 96471, 47335, 96489, 96492, 39150, 30959, 47347, 96499, 39157, 47353, 39164, 96517, 39178, 88340, 39198, 47393, 39202, 31010, 96547, 39209, 88362, 96553, 96559, 47408, 88384, 39239, 96586, 47443, 96598, 31066, 96604, 47453, 47458, 31080, 88433, 88435, 96631, 47489, 31108, 39305, 88464, 47505, 39314, 88471, 96665, 39324, 47523, 96676, 88489, 96681, 88493, 96685, 96688, 39346, 47540, 39351, 88504, 31159, 88515, 96709, 96715, 88533, 39388, 31201, 47586, 88552, 39402, 47594, 47595, 39410, 96757, 39416, 96766, 96769, 88580, 88591, 96799, 47648, 88620, 96817, 96820, 47677, 88653, 88664, 39515, 47710, 47729, 96888, 39552, 47745, 39557, 39558, 96903, 47754, 96906, 47757, 39567, 88719, 88729, 96921, 96924, 39581, 39582, 47787, 47790, 39605, 88762, 88765, 39616, 96966, 47816, 47820, 39631, 39632, 96976, 39634, 47829, 47840, 39655, 39658, 47850, 47852, 97008, 97011, 47860, 97014, 97018, 47867, 97020, 47873, 88835, 39701, 39708, 39710, 47903, 97060, 39725, 97069, 97075, 47929, 47933, 88896, 88900, 47944, 31562, 47950, 39761, 39762, 47956, 47965, 47973, 47977, 39794, 47989, 97144, 48001, 48002, 48006, 88969, 48012, 39823, 39824, 88976, 39828, 39829, 48030, 39839, 31650, 97196, 89009, 39860, 48053, 39862, 97205, 97211, 48063, 89023, 48067, 39883, 39890, 97245, 48111, 97264, 97267, 48116, 48129, 97285, 31761, 89110, 39961, 39962, 48157, 39968, 48160, 39975, 39978, 40001, 97345, 40003, 97348, 40005, 40007, 97351, 40014, 48209, 48212, 97366, 97369, 48220, 89183, 97375, 40038, 48231, 40040, 97384, 48235, 97387, 48241, 40050, 48244, 40054, 97398, 48248, 97404, 97407, 48262, 97414, 89225, 89226, 40075, 40076, 40088, 97435, 89255, 48298, 97450, 40109, 97456, 48307, 48311, 31928, 48313, 40132, 89288, 40144, 40150, 89306, 48351, 48355, 97507, 48358, 48359, 40172, 89324, 40179, 97531, 40202, 89357, 40213, 48407, 97560, 40217, 97566, 48426, 48429, 40242, 40244, 48440, 89402, 48446, 40265, 40267, 97623, 97625, 48474, 40295, 48495, 40306, 40309, 40310, 97655, 89469, 97661, 40319, 40330, 81293, 81297, 48532, 48536, 89505, 89506, 48552, 89520, 40371, 48567, 40384, 40386, 40388, 48580, 97734, 97737, 40396, 97741, 97749, 81367, 97763, 97765, 40425, 97772, 40429, 40436, 97787, 48638, 97790, 40448, 97793, 40450, 40451, 97799, 97802, 40463, 48655, 40465, 48660, 48664, 48672, 48674, 97828, 48688, 97840, 89651, 48701, 48704, 48717, 89683, 48736, 40547, 48742, 89702, 97897, 48746, 48748, 97926, 40583, 40584, 89738, 97936, 48787, 48788, 89767, 40624, 40625, 97973, 48829, 48830, 97988, 97991, 97994, 48859, 89825, 98018, 48867, 40677, 48879, 98033, 48883, 48893, 40703, 48897, 89862, 98054, 89866, 48918, 40733, 48925, 48926, 89891, 48935, 98089, 48939, 98092, 48951, 98104, 48955, 98116, 48967, 89929, 48970, 48972, 48976, 98130, 40788, 48984, 48992, 40802, 48995, 40807, 49021, 49026, 98181, 40841, 49035, 40844, 49044, 40856, 49054, 40867, 49063, 98219, 98225, 90038, 98240, 98249, 40906, 98250, 49100, 40919, 90080, 40934, 90091, 90094, 40948, 40958]\n"
     ]
    }
   ],
   "source": [
    "pos_atipicos_x = []\n",
    "pos_atipicos_y = []\n",
    "pos_atipicos_z = []\n",
    "\n",
    "for n in range(Datos_Min_Max.shape[0]):\n",
    "  if z_modificado.iloc[n,2] > regla_desviacion:\n",
    "    pos_atipicos_x.append(n)\n",
    "  if z_modificado.iloc[n,3] > regla_desviacion:\n",
    "    pos_atipicos_y.append(n)\n",
    "  if z_modificado.iloc[n,4] > regla_desviacion:\n",
    "    pos_atipicos_z.append(n)\n",
    "\n",
    "Posiciones_coinciden = list(set(pos_atipicos_x) & set(pos_atipicos_y) & set(pos_atipicos_z))\n",
    "print(Posiciones_coinciden)"
   ]
  },
  {
   "cell_type": "code",
   "execution_count": 40,
   "metadata": {
    "colab": {
     "base_uri": "https://localhost:8080/"
    },
    "id": "ue2WmhMsOVnj",
    "outputId": "0dc0bb47-3ee9-4538-e15c-d9f66df6b6f7"
   },
   "outputs": [
    {
     "name": "stdout",
     "output_type": "stream",
     "text": [
      "(153000, 5)\n",
      "(151025, 5)\n"
     ]
    }
   ],
   "source": [
    "datos_sin_outliers_z_modificado = Datos_Min_Max.drop(Posiciones_coinciden)\n",
    "print(Datos_Min_Max.shape) # Tamaño de los datos originales\n",
    "print(datos_sin_outliers_z_modificado.shape) # Tamañno de los datos sin outliers"
   ]
  },
  {
   "cell_type": "code",
   "execution_count": 41,
   "metadata": {
    "colab": {
     "base_uri": "https://localhost:8080/"
    },
    "id": "i7jL4zn4OtTF",
    "outputId": "d3ad5357-443a-4bee-cea9-ddbdc259680b"
   },
   "outputs": [
    {
     "name": "stdout",
     "output_type": "stream",
     "text": [
      "Número de datos atípicos eliminados =  1975\n"
     ]
    }
   ],
   "source": [
    "print(\"Número de datos atípicos eliminados = \", Datos_Min_Max.shape[0] - datos_sin_outliers_z_modificado.shape[0])"
   ]
  },
  {
   "cell_type": "code",
   "execution_count": 42,
   "metadata": {
    "colab": {
     "base_uri": "https://localhost:8080/",
     "height": 143
    },
    "id": "N2J4GqLgOcgQ",
    "outputId": "cf0f5b5b-50dc-4f5b-d427-8d8e096903ca"
   },
   "outputs": [
    {
     "data": {
      "text/html": [
       "<div>\n",
       "<style scoped>\n",
       "    .dataframe tbody tr th:only-of-type {\n",
       "        vertical-align: middle;\n",
       "    }\n",
       "\n",
       "    .dataframe tbody tr th {\n",
       "        vertical-align: top;\n",
       "    }\n",
       "\n",
       "    .dataframe thead th {\n",
       "        text-align: right;\n",
       "    }\n",
       "</style>\n",
       "<table border=\"1\" class=\"dataframe\">\n",
       "  <thead>\n",
       "    <tr style=\"text-align: right;\">\n",
       "      <th></th>\n",
       "      <th>Entropia Original</th>\n",
       "      <th>Entropia Z Modificado</th>\n",
       "    </tr>\n",
       "  </thead>\n",
       "  <tbody>\n",
       "    <tr>\n",
       "      <th>x</th>\n",
       "      <td>0.321535</td>\n",
       "      <td>0.322130</td>\n",
       "    </tr>\n",
       "    <tr>\n",
       "      <th>y</th>\n",
       "      <td>0.344003</td>\n",
       "      <td>0.344441</td>\n",
       "    </tr>\n",
       "    <tr>\n",
       "      <th>z</th>\n",
       "      <td>0.350070</td>\n",
       "      <td>0.350482</td>\n",
       "    </tr>\n",
       "  </tbody>\n",
       "</table>\n",
       "</div>"
      ],
      "text/plain": [
       "   Entropia Original  Entropia Z Modificado\n",
       "x           0.321535               0.322130\n",
       "y           0.344003               0.344441\n",
       "z           0.350070               0.350482"
      ]
     },
     "metadata": {},
     "output_type": "display_data"
    }
   ],
   "source": [
    "H_1 = entr(Datos_Min_Max[['x','y','z']])\n",
    "H_2 = entr(datos_sin_outliers_z_modificado[['x','y','z']])\n",
    "\n",
    "entropia_normalizada_1 = H_1.sum()/Datos_Min_Max.shape[0]\n",
    "entropia_normalizada_2 = H_2.sum()/datos_sin_outliers_z_modificado.shape[0]\n",
    "\n",
    "entropia_normalizada_1 = pd.DataFrame(entropia_normalizada_1, index = None, columns = ['Entropia Original'])\n",
    "entropia_normalizada_2 = pd.DataFrame(entropia_normalizada_2, index = None, columns = ['Entropia Z Modificado'])\n",
    "Comparacion_entropias = pd.concat([entropia_normalizada_1, entropia_normalizada_2], axis = 1)\n",
    "\n",
    "display(Comparacion_entropias)"
   ]
  },
  {
   "cell_type": "code",
   "execution_count": 43,
   "metadata": {
    "colab": {
     "base_uri": "https://localhost:8080/",
     "height": 499
    },
    "id": "R8Byj0pXPxub",
    "outputId": "1abcc826-98e6-4d15-9291-1464e8bfdffb"
   },
   "outputs": [
    {
     "data": {
      "image/png": "[encoded data removed]",
      "text/plain": [
       "<Figure size 1800x648 with 1 Axes>"
      ]
     },
     "metadata": {},
     "output_type": "display_data"
    }
   ],
   "source": [
    "sns.set(rc={'figure.figsize':(25,9)}) # Tamaño de la figura\n",
    "sns.set(style=\"whitegrid\") # Estilo de la figura\n",
    "sns.boxplot(data = datos_sin_outliers_z_modificado, linewidth = 3, palette=\"Set2\", fliersize = 5) # Diagrama Box Plot\n",
    "sns.despine(left=True)"
   ]
  },
  {
   "cell_type": "markdown",
   "metadata": {
    "id": "ZH_EMk4vdb3J"
   },
   "source": [
    "## Detección de Datos Atípicos con Estimación de Covarianza basado en una distribución multidimensional Gaussiana"
   ]
  },
  {
   "cell_type": "markdown",
   "metadata": {
    "id": "74ZFTbjteM7o"
   },
   "source": [
    "Este método considera una detección de datos atípicos basado en una distribución de densidad de probabilidad multidimensional Gaussiana. \n",
    "\n",
    "Para comprender este método, vamos a dar una breve explicación de la densidad de probabilidad Gaussiana multivariada:"
   ]
  },
  {
   "cell_type": "markdown",
   "metadata": {
    "id": "5SDBSaSVe87A"
   },
   "source": [
    "**Definición:** Dado un vector aleatorio de N-dimensiones, $X = \\lbrack x_1, \\ldots, x_N \\rbrack$ sujeto a una distribución Gaussiana de N-dimensiones,$X \\sim N(\\mu, \\Sigma)$, con parámetros ($\\mu$,$\\Sigma$), la función de densidad de probabilidad se expresa como:\n",
    "\n",
    "$$f(x\\vert \\mu, \\Sigma) = \\frac{1}{(2\\pi)^\\frac{D}{2}\\vert\\Sigma \\vert^\\frac{1}{2}} \\exp \\left \\lbrack -\\frac{1}{2}(x - \\mu)^T \\Sigma^{-1} (x - \\mu)\\right \\rbrack$$\n",
    "\n",
    "donde:\n",
    "\n",
    "1.   $D$ es el número de dimensiones.\n",
    "2.   $\\mu$ es el vector de la media, donde la esperanza matemática es $E(X) = \\mu$\n",
    "3.   $ Cov(X) = \\Sigma$ es la matriz de covarianza de los datos.\n",
    "\n",
    "$$\\Sigma = \\begin{bmatrix} \\sigma_{1,1} & \\cdots &\\sigma_{1,d} & \\cdots & \\sigma_{1,D}\\\\\n",
    "\\vdots & \\ddots & \\vdots & \\cdots & \\vdots\\\\\n",
    "\\sigma_{d,1} & \\cdots &\\sigma_{d,d} & \\cdots & \\sigma_{d,D}\\\\\n",
    "\\vdots & \\ddots & \\vdots & \\cdots & \\vdots\\\\\n",
    "\\sigma_{D,1} & \\cdots &\\sigma_{D,d} & \\cdots & \\sigma_{D,D}\\\\\\end{bmatrix}_{DxD}$$\n",
    "\n",
    "Siendo $\\sigma_{d,d}$ la covarianza de una dimensión $d$ con respecto a otra dimensión $d$, considerando:\n",
    "\n",
    "$$\\sigma_{i,j} = E(X_i - \\mu_i)(X_j - \\mu_j) = E(X_i X_j) - \\mu_i\\mu_j$$\n",
    "\n",
    "Y la varianza por cada muestra $X_i$:\n",
    "\n",
    "$$\\sigma_{i,i} = E(X_i - \\mu_i)^2 = E(X_i^2) - \\mu_i^2$$\n",
    "\n",
    "4.   $\\vert \\cdot \\vert$ es el operador determinante de la matriz.\n",
    "5.   $\\Sigma^{-1}$ es la pseudo-inversa de la matriz de covarianza de los datos.\n",
    "6.   $\\frac{1}{2}(x - \\mu)^T \\Sigma^{-1} (x - \\mu)$ es una forma cuadrática.   \n",
    "\n",
    "Para determinar la la función de densidad de probabilidad, se estima los dos parámetros $(\\mu, \\Sigma)$, el cual se expresa como:\n",
    "\n",
    "$$\\hat{\\mu} = \\frac{1}{N} \\sum_{n=1}^N x_{n}$$\n",
    "$$\\Sigma = \\sum_{n=1}^N (x_{n} - \\hat{\\mu})^T (x_{n} - \\hat{\\mu})$$\n",
    "\n",
    "**Nota:** La función de probabilidad Gaussiana de una dimensión se considera como un caso especial de la función de probabilidad Gaussiana multivariable."
   ]
  },
  {
   "cell_type": "code",
   "execution_count": 44,
   "metadata": {
    "colab": {
     "base_uri": "https://localhost:8080/",
     "height": 516
    },
    "id": "LJdhwadxfmbv",
    "outputId": "b6b254df-3f77-42e0-813e-0a19b3b433a2",
    "tags": []
   },
   "outputs": [
    {
     "data": {
      "image/png": "[encoded data removed]",
      "text/plain": [
       "<Figure size 1224x576 with 1 Axes>"
      ]
     },
     "metadata": {},
     "output_type": "display_data"
    }
   ],
   "source": [
    "matplotlib.rcParams.update({'font.size': 18, 'font.family': 'STIXGeneral', 'mathtext.fontset': 'stix'})\n",
    "\n",
    "x = np.linspace(0, 2, 1000, endpoint = False)\n",
    "f = multivariate_normal.pdf(x, mean = 1, cov = 0.2)\n",
    "\n",
    "fig = plt.figure(figsize=(17,8))\n",
    "plt.plot(x, f, '-o')\n",
    "plt.xlabel('$x$') # Etiqueta del eje x \n",
    "                   # $ es para escribir símbolos en LaTeX\n",
    "plt.ylabel('$f(x)$') # Etiqueta del eje y\n",
    "plt.title('Función de distribución de probabilidad Gaussiana')\n",
    "plt.show()"
   ]
  },
  {
   "cell_type": "markdown",
   "metadata": {
    "id": "EVLW2fACfsMy"
   },
   "source": [
    "La matriz de covarianza $\\Sigma$ tiene muchas implicaciones la forma como construimos una distribución de probabilidad Gaussiana Multivariada, lo cual, en aplicaciones en Machine Learning tiene muchas implicaciones en la forma como analizamos la distribución natural de los datos. Considerando lo anterior, vamos a observar tres casos de la matriz de covarianza $\\Sigma$"
   ]
  },
  {
   "cell_type": "markdown",
   "metadata": {
    "id": "YNfMBZSrf3xK"
   },
   "source": [
    "rimero, vamos a definir la matriz de covarianza desde el punto de vista matemático:\n",
    "\n",
    "$$\\Sigma = \\begin{bmatrix} \\Sigma_{x} & \\Sigma_{xy} \\\\ \\Sigma_{xy}^T & \\Sigma_{y}\\end{bmatrix}$$\n",
    "\n",
    "donde $x$ e $y$ son dos variables aleatorias y $\\Sigma^T$ es la transpuesta de la matriz.\n",
    "\n",
    "Por otra parte, se debe considerar un vector de medias, donde cada media esta relacionado con una variable aleatoria:\n",
    "\n",
    "$$\\mu =  \\begin{bmatrix} \\mu_x\\\\ \\mu_y \\end{bmatrix}$$"
   ]
  },
  {
   "cell_type": "markdown",
   "metadata": {
    "id": "Me_EIJgTgGgK"
   },
   "source": [
    "**Matriz de Covarianza Completa:** \n",
    "\n",
    "Los datos se agrupan en forma parabólica.\n",
    "\n",
    "$$f(x,y) = \\mathcal{N} \\begin{pmatrix} \\begin{bmatrix} 0\\\\ 0\\end{bmatrix}, \\begin{bmatrix} 1 & -1 \\\\ -1 & 4\\end{bmatrix} \\end{pmatrix}$$"
   ]
  },
  {
   "cell_type": "code",
   "execution_count": 45,
   "metadata": {
    "colab": {
     "base_uri": "https://localhost:8080/",
     "height": 516
    },
    "id": "O9O-KqVKf5OE",
    "outputId": "f2b6bf2e-91a1-4cbb-9d6d-b772d85dcf12",
    "tags": []
   },
   "outputs": [
    {
     "data": {
      "image/png": "[encoded data removed]",
      "text/plain": [
       "<Figure size 1224x576 with 1 Axes>"
      ]
     },
     "metadata": {},
     "output_type": "display_data"
    }
   ],
   "source": [
    "matplotlib.rcParams.update({'font.size': 18, 'font.family': 'STIXGeneral', 'mathtext.fontset': 'stix'})\n",
    "\n",
    "x, y = np.mgrid[-4:4:0.01, -4:4:0.01]\n",
    "pos = np.dstack((x, y))\n",
    "rv = multivariate_normal([0, 0], [[1, -1], [-1, 4]])\n",
    "fig = plt.figure(figsize=(17,8))\n",
    "ax2 = fig.add_subplot(111)\n",
    "ax2.contourf(x, y, rv.pdf(pos)) # Genera una gráfica de contonor\n",
    "plt.xlabel('$x$') # Etiqueta del eje x\n",
    "plt.ylabel('$f(x)$') # Etiqueta del eje y\n",
    "plt.title('PDF con matriz de covarianza completa')\n",
    "plt.show()"
   ]
  },
  {
   "cell_type": "markdown",
   "metadata": {
    "id": "xLs6w-ONgZY7"
   },
   "source": [
    "**Matriz de Covarianza Esférica:** \n",
    "\n",
    "Los datos se agrupan de forma circular de acuerdo a los valores de la media, generando hiperesferas. Lo anterior genera un único valor de la varianza para todos los datos.\n",
    "\n",
    "$$f(x,y) = \\mathcal{N} \\begin{pmatrix} \\begin{bmatrix} 0\\\\ 0\\end{bmatrix}, \\begin{bmatrix} 1 & 0 \\\\ 0 & 1\\end{bmatrix} \\end{pmatrix}$$"
   ]
  },
  {
   "cell_type": "code",
   "execution_count": 46,
   "metadata": {
    "colab": {
     "base_uri": "https://localhost:8080/",
     "height": 515
    },
    "id": "4O3Xj9Y-gkLx",
    "outputId": "72e29bcf-2e6f-4d68-c99f-785c699b0016",
    "tags": []
   },
   "outputs": [
    {
     "data": {
      "image/png": "[encoded data removed]",
      "text/plain": [
       "<Figure size 1224x576 with 1 Axes>"
      ]
     },
     "metadata": {},
     "output_type": "display_data"
    }
   ],
   "source": [
    "matplotlib.rcParams.update({'font.size': 18, 'font.family': 'STIXGeneral', 'mathtext.fontset': 'stix'})\n",
    "\n",
    "x, y = np.mgrid[-4:4:0.01, -4:4:0.01]\n",
    "pos = np.dstack((x, y))\n",
    "plt.figure(figsize=(17,8))\n",
    "rv_3 = multivariate_normal([0, 0], [[1, 0], [0, 1]])\n",
    "plt.contourf(x, y, rv_3.pdf(pos))\n",
    "plt.xlabel('$x$') # Etiqueta del eje x\n",
    "plt.ylabel('$f(x)$') # Etiqueta del eje y\n",
    "plt.title('PDF con matriz de covarianza esférica')\n",
    "plt.show()"
   ]
  },
  {
   "cell_type": "markdown",
   "metadata": {
    "id": "lI7rAeDVgs9m"
   },
   "source": [
    "**Matriz de Covarianza Diagonal:** \n",
    "\n",
    "Los datos se agrupan de forma elíptica, generando hiperelipsoides donde $\\Sigma$ contiene valores distintos en su diagonal.\n",
    "\n",
    "$$f(x,y) = \\mathcal{N} \\begin{pmatrix} \\begin{bmatrix} 0\\\\ 0\\end{bmatrix}, \\begin{bmatrix} 1 & 0 \\\\ 0 & 4\\end{bmatrix} \\end{pmatrix}$$\n",
    "\n",
    "En este caso, los datos se agrupan en elipses en paralelo a un eje."
   ]
  },
  {
   "cell_type": "code",
   "execution_count": 47,
   "metadata": {
    "colab": {
     "base_uri": "https://localhost:8080/",
     "height": 516
    },
    "id": "ZPP8T0Elg4AN",
    "outputId": "f3ca004a-82a1-455c-b860-d1c15fcff283",
    "tags": []
   },
   "outputs": [
    {
     "data": {
      "image/png": "[encoded data removed]",
      "text/plain": [
       "<Figure size 1224x576 with 1 Axes>"
      ]
     },
     "metadata": {},
     "output_type": "display_data"
    }
   ],
   "source": [
    "matplotlib.rcParams.update({'font.size': 18, 'font.family': 'STIXGeneral', 'mathtext.fontset': 'stix'})\n",
    "\n",
    "x, y = np.mgrid[-4:4:0.01, -4:4:0.01]\n",
    "pos = np.dstack((x, y))\n",
    "plt.figure(figsize=(17,8))\n",
    "rv_2 = multivariate_normal([0, 0], [[1, 0], [0, 4]])\n",
    "plt.contourf(x, y, rv_2.pdf(pos))\n",
    "plt.xlabel('$x$') # Etiqueta del eje x\n",
    "plt.ylabel('$f(x)$') # Etiqueta del eje y\n",
    "plt.title('PDF con matriz de covarianza diagonal')\n",
    "plt.show()"
   ]
  },
  {
   "cell_type": "markdown",
   "metadata": {
    "id": "XFadNhSNhGQe"
   },
   "source": [
    "Teniendo presente estos conceptos de la función Gaussiana multivariada, vamos a aplicar la estimación de covarianza con dicha distribución para detectar datos atípicos:"
   ]
  },
  {
   "cell_type": "markdown",
   "metadata": {
    "id": "bLy6mfVJha-F"
   },
   "source": [
    "Primer se aplica la regla de detección para determinar si es pertinente o no aplicar el método con nuestro datos:"
   ]
  },
  {
   "cell_type": "code",
   "execution_count": 48,
   "metadata": {
    "colab": {
     "base_uri": "https://localhost:8080/"
    },
    "id": "uCckS_FWhU26",
    "outputId": "079c1f6f-e62a-4389-b059-13bed4e14b10",
    "tags": []
   },
   "outputs": [
    {
     "name": "stdout",
     "output_type": "stream",
     "text": [
      "Se puede aplicar el método de estimación de covarianza con una distribución gaussiana multivariada\n"
     ]
    }
   ],
   "source": [
    "Muestras = Datos_Min_Max.shape[0]\n",
    "Caracteristicas_Cuadradas = (Datos_Min_Max.shape[1])**2\n",
    "\n",
    "if Muestras > Caracteristicas_Cuadradas:\n",
    "  print(\"Se puede aplicar el método de estimación de covarianza con una distribución gaussiana multivariada\")\n",
    "  if Muestras < Caracteristicas_Cuadradas:\n",
    "    print(\"No se puede aplicar el método de estimación de covarianza con una distribución gaussiana multivariada\")"
   ]
  },
  {
   "cell_type": "markdown",
   "metadata": {
    "id": "J__URQ77iP96"
   },
   "source": [
    "Ahora, vamos a estimar la covarianza de nuestros datos:"
   ]
  },
  {
   "cell_type": "code",
   "execution_count": 49,
   "metadata": {
    "id": "X1MfpxJviUf8"
   },
   "outputs": [],
   "source": [
    "EE = EllipticEnvelope(contamination = 0.05) # 5% de Datos Atípicos\n",
    "estimacion_covarianza = EE.fit(Datos_Min_Max)"
   ]
  },
  {
   "cell_type": "code",
   "execution_count": 50,
   "metadata": {
    "colab": {
     "base_uri": "https://localhost:8080/"
    },
    "id": "QAwSxsJ1jKmA",
    "outputId": "851ed5f8-4493-4af0-9fa9-9ca059be0a0e"
   },
   "outputs": [
    {
     "data": {
      "text/plain": [
       "array([[ 1.69893590e-01,  3.92525724e-02, -3.57971394e-05,\n",
       "         3.68076810e-05, -1.70157474e-05],\n",
       "       [ 3.92525724e-02,  6.29220793e-02, -3.30800898e-05,\n",
       "         1.60961782e-04,  3.59333257e-06],\n",
       "       [-3.57971394e-05, -3.30800898e-05,  9.29803245e-06,\n",
       "         1.00013020e-06, -6.66702646e-08],\n",
       "       [ 3.68076810e-05,  1.60961782e-04,  1.00013020e-06,\n",
       "         3.49817253e-05, -7.10347737e-07],\n",
       "       [-1.70157474e-05,  3.59333257e-06, -6.66702646e-08,\n",
       "        -7.10347737e-07,  2.01251514e-05]])"
      ]
     },
     "execution_count": 50,
     "metadata": {},
     "output_type": "execute_result"
    }
   ],
   "source": [
    "estimacion_covarianza.covariance_ # Matrices de covarianza"
   ]
  },
  {
   "cell_type": "code",
   "execution_count": 51,
   "metadata": {
    "colab": {
     "base_uri": "https://localhost:8080/"
    },
    "id": "021nqe04jYmD",
    "outputId": "7c1492fa-177c-43ed-c18d-ce21006fe89b"
   },
   "outputs": [
    {
     "name": "stdout",
     "output_type": "stream",
     "text": [
      "[1 1 1 ... 1 1 1]\n"
     ]
    }
   ],
   "source": [
    "Estimacion_Muestras = estimacion_covarianza.predict(Datos_Min_Max)\n",
    "print(Estimacion_Muestras) # si hay -1, es un dato atípico"
   ]
  },
  {
   "cell_type": "code",
   "execution_count": 52,
   "metadata": {
    "colab": {
     "base_uri": "https://localhost:8080/"
    },
    "id": "3tOXGHkHl8-w",
    "outputId": "5039dbea-6028-41a3-a301-d00b5b17f2ad"
   },
   "outputs": [
    {
     "name": "stdout",
     "output_type": "stream",
     "text": [
      "Número de Filas con Datos Atípicos =  7650\n"
     ]
    }
   ],
   "source": [
    "Deteccion = np.where(Estimacion_Muestras == -1)\n",
    "print(\"Número de Filas con Datos Atípicos = \", pd.DataFrame(Deteccion).shape[1])"
   ]
  },
  {
   "cell_type": "code",
   "execution_count": 53,
   "metadata": {
    "colab": {
     "base_uri": "https://localhost:8080/",
     "height": 501
    },
    "id": "aaJYCpHBm9ZN",
    "outputId": "f6900b24-36e1-476d-925c-3449eac5f0e3"
   },
   "outputs": [
    {
     "data": {
      "image/png": "[encoded data removed]",
      "text/plain": [
       "<Figure size 1080x576 with 1 Axes>"
      ]
     },
     "metadata": {},
     "output_type": "display_data"
    }
   ],
   "source": [
    "puntajes = estimacion_covarianza.score_samples(Datos_Min_Max)\n",
    "umbral = estimacion_covarianza.offset_\n",
    "\n",
    "plt.figure(figsize=(15,8))\n",
    "plt.plot(np.arange(0,puntajes.shape[0],1), puntajes)\n",
    "plt.axhline(umbral, color = 'r')\n",
    "plt.xlabel('Muestras')\n",
    "plt.ylabel('Puntaje de Detección')\n",
    "plt.show()"
   ]
  },
  {
   "cell_type": "code",
   "execution_count": 54,
   "metadata": {
    "colab": {
     "base_uri": "https://localhost:8080/"
    },
    "id": "xSirKfA-nrax",
    "outputId": "70a9c8cb-0cd4-411b-a1e2-b2c4b84d1fdf"
   },
   "outputs": [
    {
     "name": "stdout",
     "output_type": "stream",
     "text": [
      "Número de muestras sin outilers: 145350\n"
     ]
    }
   ],
   "source": [
    "pos = np.where(Estimacion_Muestras == 1) \n",
    "# Se identifican en que muestras o filas de nuestra base de datos hay presencia de datos atípicos\n",
    "pos = np.asarray(pos)\n",
    "pos = np.hstack(pos)\n",
    "datos_sin_outilers_EC = Datos_Min_Max.loc[pos, :]\n",
    "print(\"Número de muestras sin outilers:\", datos_sin_outilers_EC.shape[0])"
   ]
  },
  {
   "cell_type": "code",
   "execution_count": 55,
   "metadata": {
    "colab": {
     "base_uri": "https://localhost:8080/"
    },
    "id": "A_LZ8_Ieo0sK",
    "outputId": "1ce4972d-753b-494e-a732-7029fff3146f"
   },
   "outputs": [
    {
     "name": "stdout",
     "output_type": "stream",
     "text": [
      "(153000, 5)\n",
      "(145350, 5)\n"
     ]
    }
   ],
   "source": [
    "print(Datos_Min_Max.shape) # Tamaño de los datos originales\n",
    "print(datos_sin_outilers_EC.shape) # Tamañno de los datos sin outliers "
   ]
  },
  {
   "cell_type": "code",
   "execution_count": 56,
   "metadata": {
    "colab": {
     "base_uri": "https://localhost:8080/",
     "height": 499
    },
    "id": "XGWHKozdpp8p",
    "outputId": "720a90ee-e9ea-4312-8932-400f07593a60"
   },
   "outputs": [
    {
     "data": {
      "image/png": "[encoded data removed]",
      "text/plain": [
       "<Figure size 1800x648 with 1 Axes>"
      ]
     },
     "metadata": {},
     "output_type": "display_data"
    }
   ],
   "source": [
    "sns.set(rc={'figure.figsize':(25,9)}) # Tamaño de la figura\n",
    "sns.set(style=\"whitegrid\") # Estilo de la figura\n",
    "sns.boxplot(data = datos_sin_outilers_EC, linewidth = 3, palette=\"Set2\", fliersize = 5) # Diagrama Box Plot\n",
    "sns.despine(left=True)"
   ]
  },
  {
   "cell_type": "code",
   "execution_count": 57,
   "metadata": {
    "colab": {
     "base_uri": "https://localhost:8080/",
     "height": 143
    },
    "id": "FSoUAd_Wpx7D",
    "outputId": "3991740e-7eee-4bef-bf7d-dc99a5309b95"
   },
   "outputs": [
    {
     "data": {
      "text/html": [
       "<div>\n",
       "<style scoped>\n",
       "    .dataframe tbody tr th:only-of-type {\n",
       "        vertical-align: middle;\n",
       "    }\n",
       "\n",
       "    .dataframe tbody tr th {\n",
       "        vertical-align: top;\n",
       "    }\n",
       "\n",
       "    .dataframe thead th {\n",
       "        text-align: right;\n",
       "    }\n",
       "</style>\n",
       "<table border=\"1\" class=\"dataframe\">\n",
       "  <thead>\n",
       "    <tr style=\"text-align: right;\">\n",
       "      <th></th>\n",
       "      <th>Entropia Original</th>\n",
       "      <th>Entropia EC</th>\n",
       "    </tr>\n",
       "  </thead>\n",
       "  <tbody>\n",
       "    <tr>\n",
       "      <th>x</th>\n",
       "      <td>0.321535</td>\n",
       "      <td>0.323184</td>\n",
       "    </tr>\n",
       "    <tr>\n",
       "      <th>y</th>\n",
       "      <td>0.344003</td>\n",
       "      <td>0.345183</td>\n",
       "    </tr>\n",
       "    <tr>\n",
       "      <th>z</th>\n",
       "      <td>0.350070</td>\n",
       "      <td>0.351184</td>\n",
       "    </tr>\n",
       "  </tbody>\n",
       "</table>\n",
       "</div>"
      ],
      "text/plain": [
       "   Entropia Original  Entropia EC\n",
       "x           0.321535     0.323184\n",
       "y           0.344003     0.345183\n",
       "z           0.350070     0.351184"
      ]
     },
     "metadata": {},
     "output_type": "display_data"
    }
   ],
   "source": [
    "H_1 = entr(Datos_Min_Max[['x','y','z']])\n",
    "H_2 = entr(datos_sin_outilers_EC[['x','y','z']])\n",
    "\n",
    "entropia_normalizada_1 = H_1.sum()/Datos_Min_Max.shape[0]\n",
    "entropia_normalizada_2 = H_2.sum()/datos_sin_outilers_EC.shape[0]\n",
    "\n",
    "entropia_normalizada_1 = pd.DataFrame(entropia_normalizada_1, index = None, columns = ['Entropia Original'])\n",
    "entropia_normalizada_2 = pd.DataFrame(entropia_normalizada_2, index = None, columns = ['Entropia EC'])\n",
    "Comparacion_entropias = pd.concat([entropia_normalizada_1, entropia_normalizada_2], axis = 1)\n",
    "\n",
    "display(Comparacion_entropias)"
   ]
  },
  {
   "cell_type": "markdown",
   "metadata": {
    "id": "f-sUwu6msQDn"
   },
   "source": [
    "### Eliminación de Datos atípicos con estimación de covarianza usando taponamiento"
   ]
  },
  {
   "cell_type": "code",
   "execution_count": 58,
   "metadata": {
    "colab": {
     "base_uri": "https://localhost:8080/"
    },
    "id": "4fsa2NfrsZbd",
    "outputId": "79966e38-b069-453b-fb2b-9485cf74b008",
    "tags": []
   },
   "outputs": [
    {
     "name": "stdout",
     "output_type": "stream",
     "text": [
      "[1.         0.5        0.00512628 0.01075269 0.00752949]\n"
     ]
    }
   ],
   "source": [
    "pos_outliers = np.where(Estimacion_Muestras == -1)\n",
    "pos_s = pd.DataFrame(pos_outliers)\n",
    "IQR = iqr(datos_sin_outilers_EC, axis = 0, rng = (25, 75), interpolation = 'midpoint')\n",
    "print(IQR)"
   ]
  },
  {
   "cell_type": "code",
   "execution_count": 59,
   "metadata": {
    "colab": {
     "base_uri": "https://localhost:8080/"
    },
    "id": "UseLvI6Ot1t8",
    "outputId": "204d2aa2-5992-4771-e033-6fae57f139aa",
    "tags": []
   },
   "outputs": [
    {
     "name": "stdout",
     "output_type": "stream",
     "text": [
      "Límites inferiores =  [-1.5        -0.5         0.552013    0.4796199   0.46582448]\n",
      "\n",
      "\n",
      "Límites superiores =  [2.5        1.5        0.57251813 0.52263066 0.49594244]\n"
     ]
    },
    {
     "name": "stderr",
     "output_type": "stream",
     "text": [
      "C:\\Users\\Usuario\\AppData\\Local\\Temp\\ipykernel_4552\\2329078125.py:1: DeprecationWarning: the `interpolation=` argument to percentile was renamed to `method=`, which has additional options.\n",
      "Users of the modes 'nearest', 'lower', 'higher', or 'midpoint' are encouraged to review the method they used. (Deprecated NumPy 1.22)\n",
      "  Q1 = np.percentile(datos_sin_outilers_EC, 25, axis = 0, interpolation = 'midpoint')\n",
      "C:\\Users\\Usuario\\AppData\\Local\\Temp\\ipykernel_4552\\2329078125.py:2: DeprecationWarning: the `interpolation=` argument to percentile was renamed to `method=`, which has additional options.\n",
      "Users of the modes 'nearest', 'lower', 'higher', or 'midpoint' are encouraged to review the method they used. (Deprecated NumPy 1.22)\n",
      "  Q3 = np.percentile(datos_sin_outilers_EC, 75, axis = 0, interpolation = 'midpoint')\n"
     ]
    }
   ],
   "source": [
    "Q1 = np.percentile(datos_sin_outilers_EC, 25, axis = 0, interpolation = 'midpoint')\n",
    "Q3 = np.percentile(datos_sin_outilers_EC, 75, axis = 0, interpolation = 'midpoint')\n",
    "\n",
    "Min_Limite = Q1 - 1.5*IQR\n",
    "Max_Limite = Q3 + 1.5*IQR\n",
    "\n",
    "print(\"Límites inferiores = \", Min_Limite)\n",
    "print(\"\\n\")\n",
    "print(\"Límites superiores = \", Max_Limite)"
   ]
  },
  {
   "cell_type": "code",
   "execution_count": 60,
   "metadata": {
    "colab": {
     "base_uri": "https://localhost:8080/",
     "height": 423
    },
    "id": "xsutjxRMvgHV",
    "outputId": "827048b3-a6fd-4f75-8eff-f479fcab9b2f",
    "tags": []
   },
   "outputs": [
    {
     "data": {
      "text/html": [
       "<div>\n",
       "<style scoped>\n",
       "    .dataframe tbody tr th:only-of-type {\n",
       "        vertical-align: middle;\n",
       "    }\n",
       "\n",
       "    .dataframe tbody tr th {\n",
       "        vertical-align: top;\n",
       "    }\n",
       "\n",
       "    .dataframe thead th {\n",
       "        text-align: right;\n",
       "    }\n",
       "</style>\n",
       "<table border=\"1\" class=\"dataframe\">\n",
       "  <thead>\n",
       "    <tr style=\"text-align: right;\">\n",
       "      <th></th>\n",
       "      <th>wconfid</th>\n",
       "      <th>pctid</th>\n",
       "      <th>x</th>\n",
       "      <th>y</th>\n",
       "      <th>z</th>\n",
       "    </tr>\n",
       "  </thead>\n",
       "  <tbody>\n",
       "    <tr>\n",
       "      <th>33084</th>\n",
       "      <td>0.0</td>\n",
       "      <td>0.6875</td>\n",
       "      <td>0.572518</td>\n",
       "      <td>0.479620</td>\n",
       "      <td>0.495942</td>\n",
       "    </tr>\n",
       "    <tr>\n",
       "      <th>33110</th>\n",
       "      <td>0.0</td>\n",
       "      <td>0.6875</td>\n",
       "      <td>0.572518</td>\n",
       "      <td>0.479620</td>\n",
       "      <td>0.495942</td>\n",
       "    </tr>\n",
       "    <tr>\n",
       "      <th>33123</th>\n",
       "      <td>0.0</td>\n",
       "      <td>0.6875</td>\n",
       "      <td>0.572518</td>\n",
       "      <td>0.479620</td>\n",
       "      <td>0.471262</td>\n",
       "    </tr>\n",
       "    <tr>\n",
       "      <th>33136</th>\n",
       "      <td>0.0</td>\n",
       "      <td>0.6875</td>\n",
       "      <td>0.572518</td>\n",
       "      <td>0.479620</td>\n",
       "      <td>0.477453</td>\n",
       "    </tr>\n",
       "    <tr>\n",
       "      <th>33235</th>\n",
       "      <td>0.0</td>\n",
       "      <td>0.6875</td>\n",
       "      <td>0.564329</td>\n",
       "      <td>0.479620</td>\n",
       "      <td>0.465824</td>\n",
       "    </tr>\n",
       "    <tr>\n",
       "      <th>...</th>\n",
       "      <td>...</td>\n",
       "      <td>...</td>\n",
       "      <td>...</td>\n",
       "      <td>...</td>\n",
       "      <td>...</td>\n",
       "    </tr>\n",
       "    <tr>\n",
       "      <th>101960</th>\n",
       "      <td>0.5</td>\n",
       "      <td>1.0000</td>\n",
       "      <td>0.572518</td>\n",
       "      <td>0.479620</td>\n",
       "      <td>0.483979</td>\n",
       "    </tr>\n",
       "    <tr>\n",
       "      <th>101965</th>\n",
       "      <td>0.5</td>\n",
       "      <td>1.0000</td>\n",
       "      <td>0.552013</td>\n",
       "      <td>0.522631</td>\n",
       "      <td>0.495942</td>\n",
       "    </tr>\n",
       "    <tr>\n",
       "      <th>101986</th>\n",
       "      <td>0.5</td>\n",
       "      <td>1.0000</td>\n",
       "      <td>0.572518</td>\n",
       "      <td>0.479620</td>\n",
       "      <td>0.495942</td>\n",
       "    </tr>\n",
       "    <tr>\n",
       "      <th>101987</th>\n",
       "      <td>0.5</td>\n",
       "      <td>1.0000</td>\n",
       "      <td>0.572518</td>\n",
       "      <td>0.479620</td>\n",
       "      <td>0.495942</td>\n",
       "    </tr>\n",
       "    <tr>\n",
       "      <th>101992</th>\n",
       "      <td>0.5</td>\n",
       "      <td>1.0000</td>\n",
       "      <td>0.552013</td>\n",
       "      <td>0.479620</td>\n",
       "      <td>0.465824</td>\n",
       "    </tr>\n",
       "  </tbody>\n",
       "</table>\n",
       "<p>7650 rows × 5 columns</p>\n",
       "</div>"
      ],
      "text/plain": [
       "        wconfid   pctid         x         y         z\n",
       "33084       0.0  0.6875  0.572518  0.479620  0.495942\n",
       "33110       0.0  0.6875  0.572518  0.479620  0.495942\n",
       "33123       0.0  0.6875  0.572518  0.479620  0.471262\n",
       "33136       0.0  0.6875  0.572518  0.479620  0.477453\n",
       "33235       0.0  0.6875  0.564329  0.479620  0.465824\n",
       "...         ...     ...       ...       ...       ...\n",
       "101960      0.5  1.0000  0.572518  0.479620  0.483979\n",
       "101965      0.5  1.0000  0.552013  0.522631  0.495942\n",
       "101986      0.5  1.0000  0.572518  0.479620  0.495942\n",
       "101987      0.5  1.0000  0.572518  0.479620  0.495942\n",
       "101992      0.5  1.0000  0.552013  0.479620  0.465824\n",
       "\n",
       "[7650 rows x 5 columns]"
      ]
     },
     "metadata": {},
     "output_type": "display_data"
    }
   ],
   "source": [
    "Datos_taponados_N = Datos_Min_Max.copy()\n",
    "\n",
    "D1 = np.where(Datos_taponados_N.loc[pos_outliers,'x'] > Max_Limite[2], Max_Limite[2],\n",
    "                                np.where(Datos_taponados_N.loc[pos_outliers,'x'] < Min_Limite[2], Min_Limite[2], \n",
    "                                         Datos_taponados_N.loc[pos_outliers,'x']))\n",
    "\n",
    "D2 = np.where(Datos_taponados_N.loc[pos_outliers,'y'] > Max_Limite[3], Max_Limite[3],\n",
    "                                np.where(Datos_taponados_N.loc[pos_outliers,'y'] < Min_Limite[3], Min_Limite[3], \n",
    "                                         Datos_taponados_N.loc[pos_outliers,'y']))\n",
    "\n",
    "D3 = np.where(Datos_taponados_N.loc[pos_outliers,'z'] > Max_Limite[4], Max_Limite[4],\n",
    "                                np.where(Datos_taponados_N.loc[pos_outliers,'z'] < Min_Limite[4], Min_Limite[4], \n",
    "                                         Datos_taponados_N.loc[pos_outliers,'z']))\n",
    "A1 = Datos_taponados_N.loc[pos_outliers,'wconfid']\n",
    "A2 = Datos_taponados_N.loc[pos_outliers,'pctid']\n",
    "\n",
    "concatenar = np.vstack([pos_s, A1, A2, D1, D2, D3]).transpose()\n",
    "concatenar = pd.DataFrame(concatenar, index = None, columns = ['pos','wconfid', 'pctid', 'x','y','z'])\n",
    "concatenar['pos'] = concatenar['pos'].astype(int)\n",
    "concatenar.set_index(['pos'], inplace=True)\n",
    "concatenar.index.name = None\n",
    "display(concatenar)"
   ]
  },
  {
   "cell_type": "code",
   "execution_count": 61,
   "metadata": {
    "id": "OC2Wj2Row-Rx",
    "tags": []
   },
   "outputs": [],
   "source": [
    " Datos_taponados_N.iloc[pos_outliers] = concatenar.loc[pos_outliers] # Reemplazamos los nuevos valores"
   ]
  },
  {
   "cell_type": "code",
   "execution_count": 62,
   "metadata": {
    "colab": {
     "base_uri": "https://localhost:8080/",
     "height": 499
    },
    "id": "wf_CcGHjJwDN",
    "outputId": "19548dd9-8caf-4ae5-e73e-2e282b725c2e"
   },
   "outputs": [
    {
     "data": {
      "image/png": "[encoded data removed]",
      "text/plain": [
       "<Figure size 1800x648 with 1 Axes>"
      ]
     },
     "metadata": {},
     "output_type": "display_data"
    }
   ],
   "source": [
    "sns.set(rc={'figure.figsize':(25,9)}) # Tamaño de la figura\n",
    "sns.set(style=\"whitegrid\") # Estilo de la figura\n",
    "sns.boxplot(data = Datos_taponados_N, linewidth = 3, palette=\"Set2\", fliersize = 5) # Diagrama Box Plot\n",
    "sns.despine(left=True)"
   ]
  },
  {
   "cell_type": "code",
   "execution_count": 63,
   "metadata": {
    "colab": {
     "base_uri": "https://localhost:8080/",
     "height": 143
    },
    "id": "YDuWMOosUFJ7",
    "outputId": "f4131c34-776b-4825-8029-191157f08448",
    "tags": []
   },
   "outputs": [
    {
     "data": {
      "text/html": [
       "<div>\n",
       "<style scoped>\n",
       "    .dataframe tbody tr th:only-of-type {\n",
       "        vertical-align: middle;\n",
       "    }\n",
       "\n",
       "    .dataframe tbody tr th {\n",
       "        vertical-align: top;\n",
       "    }\n",
       "\n",
       "    .dataframe thead th {\n",
       "        text-align: right;\n",
       "    }\n",
       "</style>\n",
       "<table border=\"1\" class=\"dataframe\">\n",
       "  <thead>\n",
       "    <tr style=\"text-align: right;\">\n",
       "      <th></th>\n",
       "      <th>Entropia Original</th>\n",
       "      <th>Entropia EC Taponado</th>\n",
       "    </tr>\n",
       "  </thead>\n",
       "  <tbody>\n",
       "    <tr>\n",
       "      <th>x</th>\n",
       "      <td>0.321535</td>\n",
       "      <td>0.323203</td>\n",
       "    </tr>\n",
       "    <tr>\n",
       "      <th>y</th>\n",
       "      <td>0.344003</td>\n",
       "      <td>0.345233</td>\n",
       "    </tr>\n",
       "    <tr>\n",
       "      <th>z</th>\n",
       "      <td>0.350070</td>\n",
       "      <td>0.351211</td>\n",
       "    </tr>\n",
       "  </tbody>\n",
       "</table>\n",
       "</div>"
      ],
      "text/plain": [
       "   Entropia Original  Entropia EC Taponado\n",
       "x           0.321535              0.323203\n",
       "y           0.344003              0.345233\n",
       "z           0.350070              0.351211"
      ]
     },
     "metadata": {},
     "output_type": "display_data"
    }
   ],
   "source": [
    "H_1 = entr(Datos_Min_Max[['x','y','z']])\n",
    "H_2 = entr(Datos_taponados_N[['x','y','z']])\n",
    "\n",
    "entropia_normalizada_1 = H_1.sum()/Datos_Min_Max.shape[0]\n",
    "entropia_normalizada_2 = H_2.sum()/Datos_taponados_N.shape[0]\n",
    "\n",
    "entropia_normalizada_1 = pd.DataFrame(entropia_normalizada_1, index = None, columns = ['Entropia Original'])\n",
    "entropia_normalizada_2 = pd.DataFrame(entropia_normalizada_2, index = None, columns = ['Entropia EC Taponado'])\n",
    "Comparacion_entropias = pd.concat([entropia_normalizada_1, entropia_normalizada_2], axis = 1)\n",
    "\n",
    "display(Comparacion_entropias)"
   ]
  }
 ],
 "metadata": {
  "colab": {
   "machine_shape": "hm",
   "provenance": [],
   "toc_visible": true
  },
  "gpuClass": "standard",
  "kernelspec": {
   "display_name": "Python 3 (ipykernel)",
   "language": "python",
   "name": "python3"
  },
  "language_info": {
   "codemirror_mode": {
    "name": "ipython",
    "version": 3
   },
   "file_extension": ".py",
   "mimetype": "text/x-python",
   "name": "python",
   "nbconvert_exporter": "python",
   "pygments_lexer": "ipython3",
   "version": "3.9.13"
  }
 },
 "nbformat": 4,
 "nbformat_minor": 4
}
