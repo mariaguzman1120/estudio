{
 "cells": [
  {
   "cell_type": "code",
   "execution_count": 1,
   "metadata": {
    "colab": {
     "base_uri": "https://localhost:8080/"
    },
    "id": "ycYfCBACPCRL",
    "outputId": "e844932d-fda4-431e-f86d-ec40ddaa7e16"
   },
   "outputs": [],
   "source": [
    "#!wget --no-cache -O init.py -q https://raw.githubusercontent.com/UDEA-Esp-Analitica-y-Ciencia-de-Datos/EACD-02-ESTADISTICA/master/init.py\n",
    "#import init; init.init(force_download=False); \n",
    "from IPython.display import Image"
   ]
  },
  {
   "cell_type": "code",
   "execution_count": 2,
   "metadata": {
    "colab": {
     "base_uri": "https://localhost:8080/",
     "height": 251
    },
    "id": "OaVZxOmQPEzU",
    "outputId": "3e1af48c-2a25-47cb-cc91-ef9fb25580c1"
   },
   "outputs": [
    {
     "data": {
      "image/png": "[encoded data removed]",
      "text/plain": [
       "<IPython.core.display.Image object>"
      ]
     },
     "execution_count": 2,
     "metadata": {},
     "output_type": "execute_result"
    }
   ],
   "source": [
    "Image(\"../../docs/udea-datascience.png\")"
   ]
  },
  {
   "cell_type": "markdown",
   "metadata": {
    "id": "kVJT2mQTPAeo"
   },
   "source": [
    "# **Fundamentos de Probabilidad y Estadística - Práctico**\n",
    "## Desarrollado por Javier Fernando Botía Valderrama\n",
    "## Universidad de Antioquia"
   ]
  },
  {
   "cell_type": "markdown",
   "metadata": {
    "id": "MjJQFWtuTqtY"
   },
   "source": [
    "## Leer una base de datos"
   ]
  },
  {
   "cell_type": "markdown",
   "metadata": {
    "id": "zZy0oJ9dUI2f"
   },
   "source": [
    "Para esta práctica, utilizaremos la base de datos del mundo real llamado **Stock Price** que se encuentra en la siguiente url: https://sci2s.ugr.es/keel/dataset.php?cod=1298"
   ]
  },
  {
   "cell_type": "code",
   "execution_count": 3,
   "metadata": {
    "id": "tMAZRauVK-iA"
   },
   "outputs": [],
   "source": [
    "import pandas as pd\n",
    "import io\n",
    "import requests "
   ]
  },
  {
   "cell_type": "code",
   "execution_count": 5,
   "metadata": {
    "colab": {
     "base_uri": "https://localhost:8080/",
     "height": 676
    },
    "id": "sugPQDnnU5K8",
    "outputId": "17c104bb-79d6-4890-eba4-0bf30e82d12a"
   },
   "outputs": [
    {
     "data": {
      "text/html": [
       "<div>\n",
       "<style scoped>\n",
       "    .dataframe tbody tr th:only-of-type {\n",
       "        vertical-align: middle;\n",
       "    }\n",
       "\n",
       "    .dataframe tbody tr th {\n",
       "        vertical-align: top;\n",
       "    }\n",
       "\n",
       "    .dataframe thead th {\n",
       "        text-align: right;\n",
       "    }\n",
       "</style>\n",
       "<table border=\"1\" class=\"dataframe\">\n",
       "  <thead>\n",
       "    <tr style=\"text-align: right;\">\n",
       "      <th></th>\n",
       "      <th>Company 1</th>\n",
       "      <th>Company 2</th>\n",
       "      <th>Company 3</th>\n",
       "      <th>Company 4</th>\n",
       "      <th>Company 5</th>\n",
       "      <th>Company 6</th>\n",
       "      <th>Company 7</th>\n",
       "      <th>Company 8</th>\n",
       "      <th>Company 9</th>\n",
       "      <th>Company 10</th>\n",
       "    </tr>\n",
       "  </thead>\n",
       "  <tbody>\n",
       "    <tr>\n",
       "      <th>0</th>\n",
       "      <td>17.219</td>\n",
       "      <td>50.500</td>\n",
       "      <td>18.750</td>\n",
       "      <td>43.000</td>\n",
       "      <td>60.875</td>\n",
       "      <td>26.375</td>\n",
       "      <td>67.750</td>\n",
       "      <td>19.000</td>\n",
       "      <td>48.750</td>\n",
       "      <td>34.875</td>\n",
       "    </tr>\n",
       "    <tr>\n",
       "      <th>1</th>\n",
       "      <td>17.891</td>\n",
       "      <td>51.375</td>\n",
       "      <td>19.625</td>\n",
       "      <td>44.000</td>\n",
       "      <td>62.000</td>\n",
       "      <td>26.125</td>\n",
       "      <td>68.125</td>\n",
       "      <td>19.125</td>\n",
       "      <td>48.750</td>\n",
       "      <td>35.625</td>\n",
       "    </tr>\n",
       "    <tr>\n",
       "      <th>2</th>\n",
       "      <td>18.438</td>\n",
       "      <td>50.875</td>\n",
       "      <td>19.875</td>\n",
       "      <td>43.875</td>\n",
       "      <td>61.875</td>\n",
       "      <td>27.250</td>\n",
       "      <td>68.500</td>\n",
       "      <td>18.250</td>\n",
       "      <td>49.000</td>\n",
       "      <td>36.375</td>\n",
       "    </tr>\n",
       "    <tr>\n",
       "      <th>3</th>\n",
       "      <td>18.672</td>\n",
       "      <td>51.500</td>\n",
       "      <td>20.000</td>\n",
       "      <td>44.000</td>\n",
       "      <td>62.625</td>\n",
       "      <td>27.875</td>\n",
       "      <td>69.375</td>\n",
       "      <td>18.375</td>\n",
       "      <td>49.625</td>\n",
       "      <td>36.250</td>\n",
       "    </tr>\n",
       "    <tr>\n",
       "      <th>4</th>\n",
       "      <td>17.438</td>\n",
       "      <td>49.000</td>\n",
       "      <td>20.000</td>\n",
       "      <td>41.375</td>\n",
       "      <td>59.750</td>\n",
       "      <td>25.875</td>\n",
       "      <td>63.250</td>\n",
       "      <td>16.500</td>\n",
       "      <td>47.500</td>\n",
       "      <td>35.500</td>\n",
       "    </tr>\n",
       "  </tbody>\n",
       "</table>\n",
       "</div>"
      ],
      "text/plain": [
       "   Company 1  Company 2  Company 3  Company 4  Company 5  Company 6  \\\n",
       "0     17.219     50.500     18.750     43.000     60.875     26.375   \n",
       "1     17.891     51.375     19.625     44.000     62.000     26.125   \n",
       "2     18.438     50.875     19.875     43.875     61.875     27.250   \n",
       "3     18.672     51.500     20.000     44.000     62.625     27.875   \n",
       "4     17.438     49.000     20.000     41.375     59.750     25.875   \n",
       "\n",
       "   Company 7  Company 8  Company 9  Company 10  \n",
       "0     67.750     19.000     48.750      34.875  \n",
       "1     68.125     19.125     48.750      35.625  \n",
       "2     68.500     18.250     49.000      36.375  \n",
       "3     69.375     18.375     49.625      36.250  \n",
       "4     63.250     16.500     47.500      35.500  "
      ]
     },
     "metadata": {},
     "output_type": "display_data"
    }
   ],
   "source": [
    "nombres = ['Company 1', 'Company 2', 'Company 3', 'Company 4', 'Company 5', 'Company 6', 'Company 7', 'Company 8', 'Company 9', 'Company 10']\n",
    "url = \"https://raw.githubusercontent.com/javierfernandobotia/AnalisisAvanzadoDatos/main/stock.dat\"\n",
    "\n",
    "download = requests.get(url).content\n",
    "datos_stock = pd.read_table(io.StringIO(download.decode('utf-8')), sep=',', names=nombres)\n",
    "\n",
    "display(datos_stock.head())"
   ]
  },
  {
   "cell_type": "code",
   "execution_count": 6,
   "metadata": {
    "colab": {
     "base_uri": "https://localhost:8080/"
    },
    "id": "9urjPeRYV1dC",
    "outputId": "3e7a54ef-e76c-45dc-82fc-c305cb230ff5"
   },
   "outputs": [
    {
     "name": "stdout",
     "output_type": "stream",
     "text": [
      "<class 'pandas.core.frame.DataFrame'>\n",
      "RangeIndex: 950 entries, 0 to 949\n",
      "Data columns (total 10 columns):\n",
      " #   Column      Non-Null Count  Dtype  \n",
      "---  ------      --------------  -----  \n",
      " 0   Company 1   950 non-null    float64\n",
      " 1   Company 2   950 non-null    float64\n",
      " 2   Company 3   950 non-null    float64\n",
      " 3   Company 4   950 non-null    float64\n",
      " 4   Company 5   950 non-null    float64\n",
      " 5   Company 6   950 non-null    float64\n",
      " 6   Company 7   950 non-null    float64\n",
      " 7   Company 8   950 non-null    float64\n",
      " 8   Company 9   950 non-null    float64\n",
      " 9   Company 10  950 non-null    float64\n",
      "dtypes: float64(10)\n",
      "memory usage: 74.3 KB\n"
     ]
    }
   ],
   "source": [
    "datos_stock.info() # Observar el número de datos por cada columna de la base de datos y el tipo de dato"
   ]
  },
  {
   "cell_type": "markdown",
   "metadata": {
    "id": "pC6M_TmBWG9p"
   },
   "source": [
    "## Análisis inicial de la base de datos"
   ]
  },
  {
   "cell_type": "markdown",
   "metadata": {
    "id": "OaLEM2j7WVEb"
   },
   "source": [
    "Primero, vamos a explorar los datos con la función **.describe()**, los estadísticos de la media, desviación estándar, y los percentiles, así como los valores mínimos y máximos por cada columna de la base de datos"
   ]
  },
  {
   "cell_type": "code",
   "execution_count": 7,
   "metadata": {
    "colab": {
     "base_uri": "https://localhost:8080/",
     "height": 300
    },
    "id": "cl0PJURuWUbo",
    "outputId": "61938c06-6d1f-4dc0-cf9d-c857673d8009"
   },
   "outputs": [
    {
     "data": {
      "text/html": [
       "<div>\n",
       "<style scoped>\n",
       "    .dataframe tbody tr th:only-of-type {\n",
       "        vertical-align: middle;\n",
       "    }\n",
       "\n",
       "    .dataframe tbody tr th {\n",
       "        vertical-align: top;\n",
       "    }\n",
       "\n",
       "    .dataframe thead th {\n",
       "        text-align: right;\n",
       "    }\n",
       "</style>\n",
       "<table border=\"1\" class=\"dataframe\">\n",
       "  <thead>\n",
       "    <tr style=\"text-align: right;\">\n",
       "      <th></th>\n",
       "      <th>Company 1</th>\n",
       "      <th>Company 2</th>\n",
       "      <th>Company 3</th>\n",
       "      <th>Company 4</th>\n",
       "      <th>Company 5</th>\n",
       "      <th>Company 6</th>\n",
       "      <th>Company 7</th>\n",
       "      <th>Company 8</th>\n",
       "      <th>Company 9</th>\n",
       "      <th>Company 10</th>\n",
       "    </tr>\n",
       "  </thead>\n",
       "  <tbody>\n",
       "    <tr>\n",
       "      <th>count</th>\n",
       "      <td>950.000000</td>\n",
       "      <td>950.000000</td>\n",
       "      <td>950.000000</td>\n",
       "      <td>950.000000</td>\n",
       "      <td>950.000000</td>\n",
       "      <td>950.000000</td>\n",
       "      <td>950.000000</td>\n",
       "      <td>950.000000</td>\n",
       "      <td>950.000000</td>\n",
       "      <td>950.000000</td>\n",
       "    </tr>\n",
       "    <tr>\n",
       "      <th>mean</th>\n",
       "      <td>37.925592</td>\n",
       "      <td>43.955526</td>\n",
       "      <td>18.704474</td>\n",
       "      <td>45.352895</td>\n",
       "      <td>60.863553</td>\n",
       "      <td>24.122632</td>\n",
       "      <td>70.673421</td>\n",
       "      <td>23.294211</td>\n",
       "      <td>44.214211</td>\n",
       "      <td>46.994079</td>\n",
       "    </tr>\n",
       "    <tr>\n",
       "      <th>std</th>\n",
       "      <td>10.759764</td>\n",
       "      <td>11.377308</td>\n",
       "      <td>2.730364</td>\n",
       "      <td>5.606898</td>\n",
       "      <td>14.299412</td>\n",
       "      <td>5.530962</td>\n",
       "      <td>6.773101</td>\n",
       "      <td>2.970152</td>\n",
       "      <td>4.270098</td>\n",
       "      <td>6.539420</td>\n",
       "    </tr>\n",
       "    <tr>\n",
       "      <th>min</th>\n",
       "      <td>17.219000</td>\n",
       "      <td>19.250000</td>\n",
       "      <td>12.750000</td>\n",
       "      <td>34.375000</td>\n",
       "      <td>27.750000</td>\n",
       "      <td>14.125000</td>\n",
       "      <td>58.000000</td>\n",
       "      <td>16.375000</td>\n",
       "      <td>31.500000</td>\n",
       "      <td>34.000000</td>\n",
       "    </tr>\n",
       "    <tr>\n",
       "      <th>25%</th>\n",
       "      <td>27.781000</td>\n",
       "      <td>35.406250</td>\n",
       "      <td>16.125000</td>\n",
       "      <td>41.375000</td>\n",
       "      <td>49.656250</td>\n",
       "      <td>18.000000</td>\n",
       "      <td>65.625000</td>\n",
       "      <td>21.250000</td>\n",
       "      <td>41.750000</td>\n",
       "      <td>41.375000</td>\n",
       "    </tr>\n",
       "    <tr>\n",
       "      <th>50%</th>\n",
       "      <td>38.922000</td>\n",
       "      <td>49.062500</td>\n",
       "      <td>19.375000</td>\n",
       "      <td>43.937500</td>\n",
       "      <td>61.750000</td>\n",
       "      <td>25.750000</td>\n",
       "      <td>68.625000</td>\n",
       "      <td>22.500000</td>\n",
       "      <td>44.750000</td>\n",
       "      <td>46.687500</td>\n",
       "    </tr>\n",
       "    <tr>\n",
       "      <th>75%</th>\n",
       "      <td>46.875000</td>\n",
       "      <td>53.250000</td>\n",
       "      <td>20.875000</td>\n",
       "      <td>48.125000</td>\n",
       "      <td>71.843750</td>\n",
       "      <td>28.875000</td>\n",
       "      <td>76.375000</td>\n",
       "      <td>26.375000</td>\n",
       "      <td>47.625000</td>\n",
       "      <td>52.125000</td>\n",
       "    </tr>\n",
       "    <tr>\n",
       "      <th>max</th>\n",
       "      <td>61.500000</td>\n",
       "      <td>60.250000</td>\n",
       "      <td>25.125000</td>\n",
       "      <td>60.125000</td>\n",
       "      <td>94.125000</td>\n",
       "      <td>35.250000</td>\n",
       "      <td>87.250000</td>\n",
       "      <td>29.250000</td>\n",
       "      <td>53.000000</td>\n",
       "      <td>62.000000</td>\n",
       "    </tr>\n",
       "  </tbody>\n",
       "</table>\n",
       "</div>"
      ],
      "text/plain": [
       "        Company 1   Company 2   Company 3   Company 4   Company 5   Company 6  \\\n",
       "count  950.000000  950.000000  950.000000  950.000000  950.000000  950.000000   \n",
       "mean    37.925592   43.955526   18.704474   45.352895   60.863553   24.122632   \n",
       "std     10.759764   11.377308    2.730364    5.606898   14.299412    5.530962   \n",
       "min     17.219000   19.250000   12.750000   34.375000   27.750000   14.125000   \n",
       "25%     27.781000   35.406250   16.125000   41.375000   49.656250   18.000000   \n",
       "50%     38.922000   49.062500   19.375000   43.937500   61.750000   25.750000   \n",
       "75%     46.875000   53.250000   20.875000   48.125000   71.843750   28.875000   \n",
       "max     61.500000   60.250000   25.125000   60.125000   94.125000   35.250000   \n",
       "\n",
       "        Company 7   Company 8   Company 9  Company 10  \n",
       "count  950.000000  950.000000  950.000000  950.000000  \n",
       "mean    70.673421   23.294211   44.214211   46.994079  \n",
       "std      6.773101    2.970152    4.270098    6.539420  \n",
       "min     58.000000   16.375000   31.500000   34.000000  \n",
       "25%     65.625000   21.250000   41.750000   41.375000  \n",
       "50%     68.625000   22.500000   44.750000   46.687500  \n",
       "75%     76.375000   26.375000   47.625000   52.125000  \n",
       "max     87.250000   29.250000   53.000000   62.000000  "
      ]
     },
     "execution_count": 7,
     "metadata": {},
     "output_type": "execute_result"
    }
   ],
   "source": [
    "datos_stock.describe()"
   ]
  },
  {
   "cell_type": "markdown",
   "metadata": {
    "id": "Rh814QgYW6sd"
   },
   "source": [
    "Como pueden observar, por cada columna de la base de datos, calculamos la media, la desviación estándar, el valor mínimo y máximo, los percentiles y el conteo de datos. Vamos a seleccionar **Company 1** para hacer un histograma."
   ]
  },
  {
   "cell_type": "code",
   "execution_count": 9,
   "metadata": {
    "colab": {
     "base_uri": "https://localhost:8080/",
     "height": 533
    },
    "id": "LzcS1DKGW6cJ",
    "outputId": "221479ba-8e05-4700-946d-68ee45f0abac"
   },
   "outputs": [
    {
     "data": {
      "image/png": "[encoded data removed]",
      "text/plain": [
       "<Figure size 720x360 with 1 Axes>"
      ]
     },
     "metadata": {
      "needs_background": "light"
     },
     "output_type": "display_data"
    }
   ],
   "source": [
    "import matplotlib\n",
    "from matplotlib import pyplot as plt\n",
    "\n",
    "matplotlib.rcParams.update({'font.size': 20, 'font.family': 'STIXGeneral', 'mathtext.fontset': 'stix'})\n",
    "\n",
    "fig = plt.figure(figsize=(10, 5))\n",
    "plt.hist(datos_stock['Company 1'], bins = 'fd', alpha=0.7) # fd = regla de Freedman-Diaconis\n",
    "plt.xlim(datos_stock['Company 1'].min(), datos_stock['Company 1'].max()) # Límita el valor mínimo y máximo en eje x de la gráfica\n",
    "plt.xlabel('Valores')\n",
    "plt.ylabel('Frecuencias')\n",
    "plt.title('Histograma de Company 1')\n",
    "plt.show()"
   ]
  },
  {
   "cell_type": "markdown",
   "metadata": {
    "id": "Iwn3APQbYkfY"
   },
   "source": [
    "Una estrategía para analizar el histograma es el cálculo de los cuartiles. Veamos el resultado que nos genera este cálculo:"
   ]
  },
  {
   "cell_type": "code",
   "execution_count": 10,
   "metadata": {
    "colab": {
     "base_uri": "https://localhost:8080/"
    },
    "id": "KJxGHzk0Y3pY",
    "outputId": "20c715c6-041d-4d97-f2b8-7fa1d4e80665"
   },
   "outputs": [
    {
     "data": {
      "text/plain": [
       "0.00    17.219\n",
       "0.25    27.781\n",
       "0.50    38.922\n",
       "0.75    46.875\n",
       "1.00    61.500\n",
       "Name: Company 1, dtype: float64"
      ]
     },
     "execution_count": 10,
     "metadata": {},
     "output_type": "execute_result"
    }
   ],
   "source": [
    "# Calculando los cuartiles\n",
    "datos_stock['Company 1'].quantile([0, 0.25, 0.5, 0.75, 1])"
   ]
  },
  {
   "cell_type": "markdown",
   "metadata": {
    "id": "ldRLE1UGZFKA"
   },
   "source": [
    "Observen que los cuartiles nos está indicando como los valores se dividen en particiones del 0%, 25%, 50%, 75%, y 100%. Ahora vamos a calcular la mediana de los datos"
   ]
  },
  {
   "cell_type": "code",
   "execution_count": 11,
   "metadata": {
    "colab": {
     "base_uri": "https://localhost:8080/"
    },
    "id": "23CFf6X1ZW-w",
    "outputId": "5ac07e1b-1f5f-45c3-9d2b-97f7bb06f9e8"
   },
   "outputs": [
    {
     "data": {
      "text/plain": [
       "38.922"
      ]
     },
     "execution_count": 11,
     "metadata": {},
     "output_type": "execute_result"
    }
   ],
   "source": [
    "datos_stock['Company 1'].median()"
   ]
  },
  {
   "cell_type": "markdown",
   "metadata": {
    "id": "zGPhxP_CZiQm"
   },
   "source": [
    "Cuando se calcula el valor de la mediana, es equivalente al cuartil del 50%."
   ]
  },
  {
   "cell_type": "markdown",
   "metadata": {
    "id": "LSxRTaxbaLxl"
   },
   "source": [
    "**Recordatorio de la Mediana:** es el número medio de una lista de números ordenada, ascendente o descendente, y puede ser más descriptiva de ese conjunto de datos que la media. Es decir, la mediana ordena el vector de valores y toma el valor central, lo cual, es menos sensible que la media muestral cuando hay valores extremos poco probables."
   ]
  },
  {
   "cell_type": "code",
   "execution_count": 12,
   "metadata": {
    "colab": {
     "base_uri": "https://localhost:8080/"
    },
    "id": "4APlvN1YZtVQ",
    "outputId": "491260ad-9f75-40b1-92c3-2bd6d489981a"
   },
   "outputs": [
    {
     "data": {
      "text/plain": [
       "37.92559157894737"
      ]
     },
     "execution_count": 12,
     "metadata": {},
     "output_type": "execute_result"
    }
   ],
   "source": [
    "datos_stock['Company 1'].mean()"
   ]
  },
  {
   "cell_type": "code",
   "execution_count": 13,
   "metadata": {
    "colab": {
     "base_uri": "https://localhost:8080/"
    },
    "id": "tYFS4TOYanKy",
    "outputId": "ee11f97f-7e74-445b-84ad-4d26549ef175"
   },
   "outputs": [
    {
     "data": {
      "text/plain": [
       "0.9964084210526281"
      ]
     },
     "execution_count": 13,
     "metadata": {},
     "output_type": "execute_result"
    }
   ],
   "source": [
    "datos_stock['Company 1'].median() - datos_stock['Company 1'].mean() # Diferencia entre mediana y media"
   ]
  },
  {
   "cell_type": "markdown",
   "metadata": {
    "id": "1ynBcEazaxeH"
   },
   "source": [
    "Como pueden observar en el histograma, se utiliza una regla para construir llamado regla de Freedman-Diaconis, útil para calcular los cuartiles y el ancho de las particiones. No obstante, ¿Qué sucedería si se consideran otras reglas?\n"
   ]
  },
  {
   "cell_type": "code",
   "execution_count": 14,
   "metadata": {
    "colab": {
     "base_uri": "https://localhost:8080/",
     "height": 407
    },
    "id": "jGST2jTEbsVP",
    "outputId": "6b769d8a-4fb9-446d-b3d1-303aef4be946"
   },
   "outputs": [
    {
     "data": {
      "image/png": "[encoded data removed]",
      "text/plain": [
       "<Figure size 2160x576 with 3 Axes>"
      ]
     },
     "metadata": {
      "needs_background": "light"
     },
     "output_type": "display_data"
    }
   ],
   "source": [
    "matplotlib.rcParams.update({'font.size': 18, 'font.family': 'STIXGeneral', 'mathtext.fontset': 'stix'})\n",
    "fig = plt.figure(figsize=(30,8))\n",
    "\n",
    "ax = fig.add_subplot(1, 3, 1)\n",
    "plt.hist(datos_stock['Company 1'], bins = 'fd', alpha=0.7) # fd = regla de Freedman-Diaconis\n",
    "plt.xlim(datos_stock['Company 1'].min(), datos_stock['Company 1'].max()) # Límita el valor mínimo y máximo en eje x de la gráfica\n",
    "plt.xlabel('Valores')\n",
    "plt.ylabel('Frecuencias')\n",
    "plt.title('Histograma con la regla de Freedman-Diaconis para Company 1')\n",
    "\n",
    "ax = fig.add_subplot(1, 3, 2)\n",
    "plt.hist(datos_stock['Company 1'], bins = 'sturges', alpha=0.7, color = 'r') # Regla de Sturges\n",
    "plt.xlim(datos_stock['Company 1'].min(), datos_stock['Company 1'].max()) # Límita el valor mínimo y máximo en eje x de la gráfica\n",
    "plt.xlabel('Valores')\n",
    "plt.ylabel('Frecuencias')\n",
    "plt.title('Histograma con la regla de Sturges para Company 1')\n",
    "\n",
    "ax = fig.add_subplot(1, 3, 3)\n",
    "plt.hist(datos_stock['Company 1'], bins = 'scott', alpha=0.7, color = 'm') # Regla de Scott\n",
    "plt.xlim(datos_stock['Company 1'].min(), datos_stock['Company 1'].max()) # Límita el valor mínimo y máximo en eje x de la gráfica\n",
    "plt.xlabel('Valores')\n",
    "plt.ylabel('Frecuencias')\n",
    "plt.title('Histograma con la regla de Scott para Company 1')\n",
    "plt.show()"
   ]
  },
  {
   "cell_type": "markdown",
   "metadata": {
    "id": "N-uzuYcec9XF"
   },
   "source": [
    "Observen que al cambiar la regla para generar el histograma, hay algunos cambios en la distribución de los valores de Company 1. No obstante, al nivel práctico, el más utilizado es la regla de Freedman-Diaconis."
   ]
  },
  {
   "cell_type": "markdown",
   "metadata": {
    "id": "WgAvjEIreBpf"
   },
   "source": [
    "Un detalle importante cuando se calcula cuartiles de los datos es la **interpolación (por defecto es lineal)**, pero ¿Qué sucedería si se cambia el método de interpolación?"
   ]
  },
  {
   "cell_type": "code",
   "execution_count": 15,
   "metadata": {
    "colab": {
     "base_uri": "https://localhost:8080/"
    },
    "id": "Oe11jm3vd8fS",
    "outputId": "3ff14ab6-9e8f-4953-e464-31aef413c798"
   },
   "outputs": [
    {
     "data": {
      "text/plain": [
       "0.00    17.219\n",
       "0.25    27.781\n",
       "0.50    38.922\n",
       "0.75    46.875\n",
       "1.00    61.500\n",
       "Name: Company 1, dtype: float64"
      ]
     },
     "execution_count": 15,
     "metadata": {},
     "output_type": "execute_result"
    }
   ],
   "source": [
    "datos_stock['Company 1'].quantile([0, 0.25, 0.5, 0.75, 1], interpolation = 'lower')"
   ]
  },
  {
   "cell_type": "code",
   "execution_count": 16,
   "metadata": {
    "colab": {
     "base_uri": "https://localhost:8080/"
    },
    "id": "8Vo4BEziejEs",
    "outputId": "a3c773b6-ff58-4c76-9010-01cae64f0236"
   },
   "outputs": [
    {
     "data": {
      "text/plain": [
       "0.00    17.219\n",
       "0.25    27.781\n",
       "0.50    38.922\n",
       "0.75    46.875\n",
       "1.00    61.500\n",
       "Name: Company 1, dtype: float64"
      ]
     },
     "execution_count": 16,
     "metadata": {},
     "output_type": "execute_result"
    }
   ],
   "source": [
    "datos_stock['Company 1'].quantile([0, 0.25, 0.5, 0.75, 1], interpolation = 'higher')"
   ]
  },
  {
   "cell_type": "code",
   "execution_count": 17,
   "metadata": {
    "colab": {
     "base_uri": "https://localhost:8080/"
    },
    "id": "Tk768ZBrerWn",
    "outputId": "b3e0511a-105e-436f-9561-7060141648ed"
   },
   "outputs": [
    {
     "data": {
      "text/plain": [
       "0.00    17.219\n",
       "0.25    27.781\n",
       "0.50    38.922\n",
       "0.75    46.875\n",
       "1.00    61.500\n",
       "Name: Company 1, dtype: float64"
      ]
     },
     "execution_count": 17,
     "metadata": {},
     "output_type": "execute_result"
    }
   ],
   "source": [
    "datos_stock['Company 1'].quantile([0, 0.25, 0.5, 0.75, 1], interpolation = 'nearest')"
   ]
  },
  {
   "cell_type": "code",
   "execution_count": 18,
   "metadata": {
    "colab": {
     "base_uri": "https://localhost:8080/"
    },
    "id": "lnSaBw7Te3Pv",
    "outputId": "247f4307-3583-427c-da5f-65daac8598cc"
   },
   "outputs": [
    {
     "data": {
      "text/plain": [
       "0.00    17.219\n",
       "0.25    27.781\n",
       "0.50    38.922\n",
       "0.75    46.875\n",
       "1.00    61.500\n",
       "Name: Company 1, dtype: float64"
      ]
     },
     "execution_count": 18,
     "metadata": {},
     "output_type": "execute_result"
    }
   ],
   "source": [
    "datos_stock['Company 1'].quantile([0, 0.25, 0.5, 0.75, 1], interpolation = 'midpoint')"
   ]
  },
  {
   "cell_type": "markdown",
   "metadata": {
    "id": "0DjKwILmf3Ot"
   },
   "source": [
    "## Análisis por grupos de datos"
   ]
  },
  {
   "cell_type": "markdown",
   "metadata": {
    "id": "HD1hpim9hMBI"
   },
   "source": [
    "Para este caso, cada fila de la base de datos esta representando un conjunto de precios de diferentes productos de las compañias. Si deseamos obtener cuántos productos tienen un valor mayor a 50.000, realizaremos un conteo de acuerdo a una comparación."
   ]
  },
  {
   "cell_type": "code",
   "execution_count": 19,
   "metadata": {
    "colab": {
     "base_uri": "https://localhost:8080/"
    },
    "id": "g-NOdW01hrL9",
    "outputId": "9d99fa74-1fd0-4c4e-9059-e12313da4d13"
   },
   "outputs": [
    {
     "name": "stdout",
     "output_type": "stream",
     "text": [
      "[1 4 6 ... 6 4 6]\n"
     ]
    }
   ],
   "source": [
    "import numpy as np\n",
    "\n",
    "num_mayores_50k = np.where(datos_stock.values >= 50.000)\n",
    "numero_conteo_columnas = num_mayores_50k[1]\n",
    "print(numero_conteo_columnas)"
   ]
  },
  {
   "cell_type": "code",
   "execution_count": 20,
   "metadata": {
    "colab": {
     "base_uri": "https://localhost:8080/",
     "height": 163
    },
    "id": "s4AvMfjwmlrw",
    "outputId": "4a13ffaf-8aab-4084-b9ec-f084cb79c6a6"
   },
   "outputs": [
    {
     "data": {
      "text/plain": [
       "6    950\n",
       "4    707\n",
       "1    450\n",
       "9    332\n",
       "3    195\n",
       "0     94\n",
       "8     55\n",
       "dtype: int64"
      ]
     },
     "metadata": {},
     "output_type": "display_data"
    }
   ],
   "source": [
    "Conteo = pd.DataFrame(numero_conteo_columnas).value_counts(sort = True)\n",
    "display(Conteo) # La primera columna representa el número de la compañia"
   ]
  },
  {
   "cell_type": "code",
   "execution_count": 21,
   "metadata": {
    "id": "dYelGaoMnYoh"
   },
   "outputs": [],
   "source": [
    "nombres_companias_50K = ['Company 7','Company 5','Company 2', 'Company 10', 'Company 4', 'Company 1', 'Company 9'] # Se sumo un digito más porque el arreglo va de 0 hasta 9."
   ]
  },
  {
   "cell_type": "code",
   "execution_count": 22,
   "metadata": {
    "colab": {
     "base_uri": "https://localhost:8080/",
     "height": 271
    },
    "id": "3vmYJZwdn67f",
    "outputId": "24a96cf2-5a18-4629-add5-7398f3faa0f2"
   },
   "outputs": [
    {
     "data": {
      "image/png": "[encoded data removed]",
      "text/plain": [
       "<Figure size 432x288 with 1 Axes>"
      ]
     },
     "metadata": {
      "needs_background": "light"
     },
     "output_type": "display_data"
    }
   ],
   "source": [
    "import seaborn as sns\n",
    "\n",
    "sns.barplot(y = nombres_companias_50K, x = Conteo.values)\n",
    "plt.show()"
   ]
  },
  {
   "cell_type": "markdown",
   "metadata": {
    "id": "2aGfucbupgA9"
   },
   "source": [
    "Como se puede apreciar en este diagrama de barras, la compañia 7 tiene los precios por encima de 50.000, no obstante la compañia 5 tiene el segundo lugar con los productos por encima de 50.000"
   ]
  },
  {
   "cell_type": "markdown",
   "metadata": {
    "id": "9yxCICdEp2M0"
   },
   "source": [
    "Ahora vamos a calcular el precio promedio de cada compañia por encima de 50.000"
   ]
  },
  {
   "cell_type": "code",
   "execution_count": 23,
   "metadata": {
    "id": "XWcYF9TeqDJo"
   },
   "outputs": [],
   "source": [
    "Precio = []\n",
    "Datos_Valores = datos_stock.values\n",
    "num_mayores_50k_sin_tupla = np.asarray(num_mayores_50k)\n",
    "\n",
    "for x in range(num_mayores_50k_sin_tupla.shape[1]):\n",
    "  Precio.append(Datos_Valores[num_mayores_50k_sin_tupla[0,x],num_mayores_50k_sin_tupla[1,x]]) # Almacenamos la lista de precios por encima de 50K"
   ]
  },
  {
   "cell_type": "code",
   "execution_count": 25,
   "metadata": {
    "colab": {
     "base_uri": "https://localhost:8080/",
     "height": 423
    },
    "id": "eLaN_BOUrz4W",
    "outputId": "6e7e522a-1c5a-4ddc-b747-af7e50dbed73"
   },
   "outputs": [
    {
     "data": {
      "text/html": [
       "<div>\n",
       "<style scoped>\n",
       "    .dataframe tbody tr th:only-of-type {\n",
       "        vertical-align: middle;\n",
       "    }\n",
       "\n",
       "    .dataframe tbody tr th {\n",
       "        vertical-align: top;\n",
       "    }\n",
       "\n",
       "    .dataframe thead th {\n",
       "        text-align: right;\n",
       "    }\n",
       "</style>\n",
       "<table border=\"1\" class=\"dataframe\">\n",
       "  <thead>\n",
       "    <tr style=\"text-align: right;\">\n",
       "      <th></th>\n",
       "      <th>Compania</th>\n",
       "      <th>Precio</th>\n",
       "    </tr>\n",
       "  </thead>\n",
       "  <tbody>\n",
       "    <tr>\n",
       "      <th>0</th>\n",
       "      <td>1</td>\n",
       "      <td>50.500</td>\n",
       "    </tr>\n",
       "    <tr>\n",
       "      <th>1</th>\n",
       "      <td>4</td>\n",
       "      <td>60.875</td>\n",
       "    </tr>\n",
       "    <tr>\n",
       "      <th>2</th>\n",
       "      <td>6</td>\n",
       "      <td>67.750</td>\n",
       "    </tr>\n",
       "    <tr>\n",
       "      <th>3</th>\n",
       "      <td>1</td>\n",
       "      <td>51.375</td>\n",
       "    </tr>\n",
       "    <tr>\n",
       "      <th>4</th>\n",
       "      <td>4</td>\n",
       "      <td>62.000</td>\n",
       "    </tr>\n",
       "    <tr>\n",
       "      <th>...</th>\n",
       "      <td>...</td>\n",
       "      <td>...</td>\n",
       "    </tr>\n",
       "    <tr>\n",
       "      <th>2778</th>\n",
       "      <td>3</td>\n",
       "      <td>50.750</td>\n",
       "    </tr>\n",
       "    <tr>\n",
       "      <th>2779</th>\n",
       "      <td>4</td>\n",
       "      <td>62.750</td>\n",
       "    </tr>\n",
       "    <tr>\n",
       "      <th>2780</th>\n",
       "      <td>6</td>\n",
       "      <td>74.500</td>\n",
       "    </tr>\n",
       "    <tr>\n",
       "      <th>2781</th>\n",
       "      <td>4</td>\n",
       "      <td>60.875</td>\n",
       "    </tr>\n",
       "    <tr>\n",
       "      <th>2782</th>\n",
       "      <td>6</td>\n",
       "      <td>75.625</td>\n",
       "    </tr>\n",
       "  </tbody>\n",
       "</table>\n",
       "<p>2783 rows × 2 columns</p>\n",
       "</div>"
      ],
      "text/plain": [
       "      Compania  Precio\n",
       "0            1  50.500\n",
       "1            4  60.875\n",
       "2            6  67.750\n",
       "3            1  51.375\n",
       "4            4  62.000\n",
       "...        ...     ...\n",
       "2778         3  50.750\n",
       "2779         4  62.750\n",
       "2780         6  74.500\n",
       "2781         4  60.875\n",
       "2782         6  75.625\n",
       "\n",
       "[2783 rows x 2 columns]"
      ]
     },
     "metadata": {},
     "output_type": "display_data"
    }
   ],
   "source": [
    "numero_conteo_columnas = pd.DataFrame(numero_conteo_columnas, index = None, columns = ['Compania'])\n",
    "Precio = pd.DataFrame(Precio, index = None, columns = ['Precio'])\n",
    "Datos_50k_concatenados = pd.concat([numero_conteo_columnas,Precio], axis = 1, join = 'inner')\n",
    "display(Datos_50k_concatenados)"
   ]
  },
  {
   "cell_type": "code",
   "execution_count": 26,
   "metadata": {
    "colab": {
     "base_uri": "https://localhost:8080/",
     "height": 181
    },
    "id": "BOMT7TYovHsG",
    "outputId": "e398e066-3a69-4cb4-8764-5c92c850f845"
   },
   "outputs": [
    {
     "data": {
      "text/plain": [
       "Compania\n",
       "0    54.947968\n",
       "1    53.975556\n",
       "3    54.534615\n",
       "4    66.947666\n",
       "6    70.673421\n",
       "8    50.595455\n",
       "9    54.327560\n",
       "Name: Precio, dtype: float64"
      ]
     },
     "metadata": {},
     "output_type": "display_data"
    }
   ],
   "source": [
    "Grupos_Datos = Datos_50k_concatenados.groupby(['Compania'])\n",
    "datos_agrupados_precio_50K = Grupos_Datos['Precio']\n",
    "Datos_promedio_50k = datos_agrupados_precio_50K.agg('mean') # Calculamos el valor promedio de los precios por encima de 50K\n",
    "display(Datos_promedio_50k)"
   ]
  },
  {
   "cell_type": "code",
   "execution_count": 27,
   "metadata": {
    "colab": {
     "base_uri": "https://localhost:8080/",
     "height": 363
    },
    "id": "SQo3HQwv5rJJ",
    "outputId": "abf2d966-a4b2-4831-ea4a-2ef9de4abab3"
   },
   "outputs": [
    {
     "data": {
      "text/html": [
       "<div>\n",
       "<style scoped>\n",
       "    .dataframe tbody tr th:only-of-type {\n",
       "        vertical-align: middle;\n",
       "    }\n",
       "\n",
       "    .dataframe tbody tr th {\n",
       "        vertical-align: top;\n",
       "    }\n",
       "\n",
       "    .dataframe thead th {\n",
       "        text-align: right;\n",
       "    }\n",
       "</style>\n",
       "<table border=\"1\" class=\"dataframe\">\n",
       "  <thead>\n",
       "    <tr style=\"text-align: right;\">\n",
       "      <th></th>\n",
       "      <th>0</th>\n",
       "      <th>1</th>\n",
       "    </tr>\n",
       "  </thead>\n",
       "  <tbody>\n",
       "    <tr>\n",
       "      <th>0</th>\n",
       "      <td>Company 1</td>\n",
       "      <td>54.947968</td>\n",
       "    </tr>\n",
       "    <tr>\n",
       "      <th>1</th>\n",
       "      <td>Company 2</td>\n",
       "      <td>53.975556</td>\n",
       "    </tr>\n",
       "    <tr>\n",
       "      <th>2</th>\n",
       "      <td>Company 3</td>\n",
       "      <td>NaN</td>\n",
       "    </tr>\n",
       "    <tr>\n",
       "      <th>3</th>\n",
       "      <td>Company 4</td>\n",
       "      <td>54.534615</td>\n",
       "    </tr>\n",
       "    <tr>\n",
       "      <th>4</th>\n",
       "      <td>Company 5</td>\n",
       "      <td>66.947666</td>\n",
       "    </tr>\n",
       "    <tr>\n",
       "      <th>5</th>\n",
       "      <td>Company 6</td>\n",
       "      <td>NaN</td>\n",
       "    </tr>\n",
       "    <tr>\n",
       "      <th>6</th>\n",
       "      <td>Company 7</td>\n",
       "      <td>70.673421</td>\n",
       "    </tr>\n",
       "    <tr>\n",
       "      <th>7</th>\n",
       "      <td>Company 8</td>\n",
       "      <td>NaN</td>\n",
       "    </tr>\n",
       "    <tr>\n",
       "      <th>8</th>\n",
       "      <td>Company 9</td>\n",
       "      <td>50.595455</td>\n",
       "    </tr>\n",
       "    <tr>\n",
       "      <th>9</th>\n",
       "      <td>Company 10</td>\n",
       "      <td>54.327560</td>\n",
       "    </tr>\n",
       "  </tbody>\n",
       "</table>\n",
       "</div>"
      ],
      "text/plain": [
       "            0          1\n",
       "0   Company 1  54.947968\n",
       "1   Company 2  53.975556\n",
       "2   Company 3        NaN\n",
       "3   Company 4  54.534615\n",
       "4   Company 5  66.947666\n",
       "5   Company 6        NaN\n",
       "6   Company 7  70.673421\n",
       "7   Company 8        NaN\n",
       "8   Company 9  50.595455\n",
       "9  Company 10  54.327560"
      ]
     },
     "execution_count": 27,
     "metadata": {},
     "output_type": "execute_result"
    }
   ],
   "source": [
    "nombres_companias_50K_rename = pd.DataFrame(['Company 1', 'Company 2', 'Company 3', 'Company 4', 'Company 5', 'Company 6', 'Company 7', 'Company 8', 'Company 9', 'Company 10'])\n",
    "pd.concat([nombres_companias_50K_rename,Datos_promedio_50k],axis = 1, ignore_index = True)"
   ]
  },
  {
   "cell_type": "markdown",
   "metadata": {
    "id": "JPxPQg667UtO"
   },
   "source": [
    "Como se puede apreciar en esta tabla de resultados, la compañia 7 tiene el promedio más alto de precios de sus productos por encima de 50.000 y además, es la compañia con la mayor cantidad de productos con precios por encima del umbral mencionado. Por otra parte, la compañia 9 tiene el promedio más bajo de productos por encima de 50.000 y además, es donde menos productos por encima de un precio de 50.000 se identificaron en la base de datos"
   ]
  },
  {
   "cell_type": "markdown",
   "metadata": {
    "id": "q1nV4wEi8EAU"
   },
   "source": [
    "Ahora, vamos a determinar la desviación estándar de los precios por encima de 50.000 de las compañias que se identificaron anteriormente"
   ]
  },
  {
   "cell_type": "code",
   "execution_count": 28,
   "metadata": {
    "colab": {
     "base_uri": "https://localhost:8080/",
     "height": 181
    },
    "id": "02tNhjUM8YT-",
    "outputId": "f57e5f20-1217-47f4-f520-8d8a9203ffe1"
   },
   "outputs": [
    {
     "data": {
      "text/plain": [
       "Compania\n",
       "0     3.734416\n",
       "1     2.802525\n",
       "3     2.766077\n",
       "4    11.056985\n",
       "6     6.773101\n",
       "8     0.630973\n",
       "9     2.851947\n",
       "Name: Precio, dtype: float64"
      ]
     },
     "metadata": {},
     "output_type": "display_data"
    }
   ],
   "source": [
    "Datos_std_50k = datos_agrupados_precio_50K.agg('std') # Calculamos la desviación estándar de los precios por encima de 50K\n",
    "display(Datos_std_50k)"
   ]
  },
  {
   "cell_type": "code",
   "execution_count": 29,
   "metadata": {
    "colab": {
     "base_uri": "https://localhost:8080/",
     "height": 363
    },
    "id": "Ub86huCX8mZu",
    "outputId": "6bce0fc0-0182-49c1-d296-b8283d48806e"
   },
   "outputs": [
    {
     "data": {
      "text/html": [
       "<div>\n",
       "<style scoped>\n",
       "    .dataframe tbody tr th:only-of-type {\n",
       "        vertical-align: middle;\n",
       "    }\n",
       "\n",
       "    .dataframe tbody tr th {\n",
       "        vertical-align: top;\n",
       "    }\n",
       "\n",
       "    .dataframe thead th {\n",
       "        text-align: right;\n",
       "    }\n",
       "</style>\n",
       "<table border=\"1\" class=\"dataframe\">\n",
       "  <thead>\n",
       "    <tr style=\"text-align: right;\">\n",
       "      <th></th>\n",
       "      <th>0</th>\n",
       "      <th>1</th>\n",
       "    </tr>\n",
       "  </thead>\n",
       "  <tbody>\n",
       "    <tr>\n",
       "      <th>0</th>\n",
       "      <td>Company 1</td>\n",
       "      <td>3.734416</td>\n",
       "    </tr>\n",
       "    <tr>\n",
       "      <th>1</th>\n",
       "      <td>Company 2</td>\n",
       "      <td>2.802525</td>\n",
       "    </tr>\n",
       "    <tr>\n",
       "      <th>2</th>\n",
       "      <td>Company 3</td>\n",
       "      <td>NaN</td>\n",
       "    </tr>\n",
       "    <tr>\n",
       "      <th>3</th>\n",
       "      <td>Company 4</td>\n",
       "      <td>2.766077</td>\n",
       "    </tr>\n",
       "    <tr>\n",
       "      <th>4</th>\n",
       "      <td>Company 5</td>\n",
       "      <td>11.056985</td>\n",
       "    </tr>\n",
       "    <tr>\n",
       "      <th>5</th>\n",
       "      <td>Company 6</td>\n",
       "      <td>NaN</td>\n",
       "    </tr>\n",
       "    <tr>\n",
       "      <th>6</th>\n",
       "      <td>Company 7</td>\n",
       "      <td>6.773101</td>\n",
       "    </tr>\n",
       "    <tr>\n",
       "      <th>7</th>\n",
       "      <td>Company 8</td>\n",
       "      <td>NaN</td>\n",
       "    </tr>\n",
       "    <tr>\n",
       "      <th>8</th>\n",
       "      <td>Company 9</td>\n",
       "      <td>0.630973</td>\n",
       "    </tr>\n",
       "    <tr>\n",
       "      <th>9</th>\n",
       "      <td>Company 10</td>\n",
       "      <td>2.851947</td>\n",
       "    </tr>\n",
       "  </tbody>\n",
       "</table>\n",
       "</div>"
      ],
      "text/plain": [
       "            0          1\n",
       "0   Company 1   3.734416\n",
       "1   Company 2   2.802525\n",
       "2   Company 3        NaN\n",
       "3   Company 4   2.766077\n",
       "4   Company 5  11.056985\n",
       "5   Company 6        NaN\n",
       "6   Company 7   6.773101\n",
       "7   Company 8        NaN\n",
       "8   Company 9   0.630973\n",
       "9  Company 10   2.851947"
      ]
     },
     "execution_count": 29,
     "metadata": {},
     "output_type": "execute_result"
    }
   ],
   "source": [
    "pd.concat([nombres_companias_50K_rename,Datos_std_50k],axis = 1, ignore_index = True)"
   ]
  },
  {
   "cell_type": "markdown",
   "metadata": {
    "id": "JnfF8JFn8ypB"
   },
   "source": [
    "Concatenando la columna compania, el promedio y la desviación estándar"
   ]
  },
  {
   "cell_type": "code",
   "execution_count": 30,
   "metadata": {
    "colab": {
     "base_uri": "https://localhost:8080/",
     "height": 363
    },
    "id": "qht6n1Ym85QX",
    "outputId": "4db6b6e1-3325-482f-d97a-b65b1bd30860"
   },
   "outputs": [
    {
     "data": {
      "text/html": [
       "<div>\n",
       "<style scoped>\n",
       "    .dataframe tbody tr th:only-of-type {\n",
       "        vertical-align: middle;\n",
       "    }\n",
       "\n",
       "    .dataframe tbody tr th {\n",
       "        vertical-align: top;\n",
       "    }\n",
       "\n",
       "    .dataframe thead th {\n",
       "        text-align: right;\n",
       "    }\n",
       "</style>\n",
       "<table border=\"1\" class=\"dataframe\">\n",
       "  <thead>\n",
       "    <tr style=\"text-align: right;\">\n",
       "      <th></th>\n",
       "      <th>0</th>\n",
       "      <th>1</th>\n",
       "      <th>2</th>\n",
       "    </tr>\n",
       "  </thead>\n",
       "  <tbody>\n",
       "    <tr>\n",
       "      <th>0</th>\n",
       "      <td>Company 1</td>\n",
       "      <td>54.947968</td>\n",
       "      <td>3.734416</td>\n",
       "    </tr>\n",
       "    <tr>\n",
       "      <th>1</th>\n",
       "      <td>Company 2</td>\n",
       "      <td>53.975556</td>\n",
       "      <td>2.802525</td>\n",
       "    </tr>\n",
       "    <tr>\n",
       "      <th>2</th>\n",
       "      <td>Company 3</td>\n",
       "      <td>NaN</td>\n",
       "      <td>NaN</td>\n",
       "    </tr>\n",
       "    <tr>\n",
       "      <th>3</th>\n",
       "      <td>Company 4</td>\n",
       "      <td>54.534615</td>\n",
       "      <td>2.766077</td>\n",
       "    </tr>\n",
       "    <tr>\n",
       "      <th>4</th>\n",
       "      <td>Company 5</td>\n",
       "      <td>66.947666</td>\n",
       "      <td>11.056985</td>\n",
       "    </tr>\n",
       "    <tr>\n",
       "      <th>5</th>\n",
       "      <td>Company 6</td>\n",
       "      <td>NaN</td>\n",
       "      <td>NaN</td>\n",
       "    </tr>\n",
       "    <tr>\n",
       "      <th>6</th>\n",
       "      <td>Company 7</td>\n",
       "      <td>70.673421</td>\n",
       "      <td>6.773101</td>\n",
       "    </tr>\n",
       "    <tr>\n",
       "      <th>7</th>\n",
       "      <td>Company 8</td>\n",
       "      <td>NaN</td>\n",
       "      <td>NaN</td>\n",
       "    </tr>\n",
       "    <tr>\n",
       "      <th>8</th>\n",
       "      <td>Company 9</td>\n",
       "      <td>50.595455</td>\n",
       "      <td>0.630973</td>\n",
       "    </tr>\n",
       "    <tr>\n",
       "      <th>9</th>\n",
       "      <td>Company 10</td>\n",
       "      <td>54.327560</td>\n",
       "      <td>2.851947</td>\n",
       "    </tr>\n",
       "  </tbody>\n",
       "</table>\n",
       "</div>"
      ],
      "text/plain": [
       "            0          1          2\n",
       "0   Company 1  54.947968   3.734416\n",
       "1   Company 2  53.975556   2.802525\n",
       "2   Company 3        NaN        NaN\n",
       "3   Company 4  54.534615   2.766077\n",
       "4   Company 5  66.947666  11.056985\n",
       "5   Company 6        NaN        NaN\n",
       "6   Company 7  70.673421   6.773101\n",
       "7   Company 8        NaN        NaN\n",
       "8   Company 9  50.595455   0.630973\n",
       "9  Company 10  54.327560   2.851947"
      ]
     },
     "execution_count": 30,
     "metadata": {},
     "output_type": "execute_result"
    }
   ],
   "source": [
    "pd.concat([nombres_companias_50K_rename,Datos_promedio_50k,Datos_std_50k],axis = 1, ignore_index = True)\n",
    "# La columna 1 es el promedio\n",
    "# La columna 2 es la desviación estándar"
   ]
  },
  {
   "cell_type": "markdown",
   "metadata": {
    "id": "KV10qydt9b1p"
   },
   "source": [
    "Se puede observar que la compañia 5 tiene la desviación estándar más alto para los productos por encima de 50.000. En este caso, los precios de la compañia 5 se mide como m = 66.947666 +/- std = 11.056985.\n",
    "\n",
    "Por otra parte, la compañia 9 tiene la menor desviación estándar para los productos por encima de 50.000. Este resultado es evidente siendo que la compañia 9 tiene la menor cantidad de productos por encima de un precio de 50.000. "
   ]
  },
  {
   "cell_type": "markdown",
   "metadata": {
    "id": "pFYj-asUAQoj"
   },
   "source": [
    "## Aplicando la función de probabilidad Gaussiana con la base de datos"
   ]
  },
  {
   "cell_type": "code",
   "execution_count": 31,
   "metadata": {
    "colab": {
     "base_uri": "https://localhost:8080/",
     "height": 423
    },
    "id": "DRjUpfceHCQE",
    "outputId": "d8458eca-68d3-4010-c0b4-5189df213fd7"
   },
   "outputs": [
    {
     "data": {
      "text/html": [
       "<div>\n",
       "<style scoped>\n",
       "    .dataframe tbody tr th:only-of-type {\n",
       "        vertical-align: middle;\n",
       "    }\n",
       "\n",
       "    .dataframe tbody tr th {\n",
       "        vertical-align: top;\n",
       "    }\n",
       "\n",
       "    .dataframe thead th {\n",
       "        text-align: right;\n",
       "    }\n",
       "</style>\n",
       "<table border=\"1\" class=\"dataframe\">\n",
       "  <thead>\n",
       "    <tr style=\"text-align: right;\">\n",
       "      <th></th>\n",
       "      <th>Compania</th>\n",
       "      <th>Precio</th>\n",
       "    </tr>\n",
       "  </thead>\n",
       "  <tbody>\n",
       "    <tr>\n",
       "      <th>2</th>\n",
       "      <td>6</td>\n",
       "      <td>67.750</td>\n",
       "    </tr>\n",
       "    <tr>\n",
       "      <th>5</th>\n",
       "      <td>6</td>\n",
       "      <td>68.125</td>\n",
       "    </tr>\n",
       "    <tr>\n",
       "      <th>8</th>\n",
       "      <td>6</td>\n",
       "      <td>68.500</td>\n",
       "    </tr>\n",
       "    <tr>\n",
       "      <th>11</th>\n",
       "      <td>6</td>\n",
       "      <td>69.375</td>\n",
       "    </tr>\n",
       "    <tr>\n",
       "      <th>13</th>\n",
       "      <td>6</td>\n",
       "      <td>63.250</td>\n",
       "    </tr>\n",
       "    <tr>\n",
       "      <th>...</th>\n",
       "      <td>...</td>\n",
       "      <td>...</td>\n",
       "    </tr>\n",
       "    <tr>\n",
       "      <th>2768</th>\n",
       "      <td>6</td>\n",
       "      <td>78.625</td>\n",
       "    </tr>\n",
       "    <tr>\n",
       "      <th>2772</th>\n",
       "      <td>6</td>\n",
       "      <td>77.625</td>\n",
       "    </tr>\n",
       "    <tr>\n",
       "      <th>2776</th>\n",
       "      <td>6</td>\n",
       "      <td>75.000</td>\n",
       "    </tr>\n",
       "    <tr>\n",
       "      <th>2780</th>\n",
       "      <td>6</td>\n",
       "      <td>74.500</td>\n",
       "    </tr>\n",
       "    <tr>\n",
       "      <th>2782</th>\n",
       "      <td>6</td>\n",
       "      <td>75.625</td>\n",
       "    </tr>\n",
       "  </tbody>\n",
       "</table>\n",
       "<p>950 rows × 2 columns</p>\n",
       "</div>"
      ],
      "text/plain": [
       "      Compania  Precio\n",
       "2            6  67.750\n",
       "5            6  68.125\n",
       "8            6  68.500\n",
       "11           6  69.375\n",
       "13           6  63.250\n",
       "...        ...     ...\n",
       "2768         6  78.625\n",
       "2772         6  77.625\n",
       "2776         6  75.000\n",
       "2780         6  74.500\n",
       "2782         6  75.625\n",
       "\n",
       "[950 rows x 2 columns]"
      ]
     },
     "metadata": {},
     "output_type": "display_data"
    }
   ],
   "source": [
    "pos = np.where(numero_conteo_columnas.values == 6) # número de datos de la compañia 7 (la etiqueta 6 es igual a la compañia 7)\n",
    "Datos_50k_concatenados_compania7_50k = Datos_50k_concatenados.loc[pos[0],:] # Importante colocar pos[0] para que reconozca los posiciones que son iguales a 6 \n",
    "display(Datos_50k_concatenados_compania7_50k)"
   ]
  },
  {
   "cell_type": "code",
   "execution_count": 32,
   "metadata": {
    "colab": {
     "base_uri": "https://localhost:8080/"
    },
    "id": "CF5C5-tok6Ux",
    "outputId": "763b53bf-0174-4821-f728-feb40edbfd06"
   },
   "outputs": [
    {
     "data": {
      "text/plain": [
       "count    950.000000\n",
       "mean      70.673421\n",
       "std        6.773101\n",
       "min       58.000000\n",
       "25%       65.625000\n",
       "50%       68.625000\n",
       "75%       76.375000\n",
       "max       87.250000\n",
       "Name: Precio, dtype: float64"
      ]
     },
     "execution_count": 32,
     "metadata": {},
     "output_type": "execute_result"
    }
   ],
   "source": [
    "Datos_50k_concatenados_compania7_50k.Precio.describe()"
   ]
  },
  {
   "cell_type": "code",
   "execution_count": 33,
   "metadata": {
    "colab": {
     "base_uri": "https://localhost:8080/"
    },
    "id": "sChIOuoLHzOs",
    "outputId": "2c9579cd-e46e-4bdf-dbfd-03cc45ccc710"
   },
   "outputs": [
    {
     "name": "stdout",
     "output_type": "stream",
     "text": [
      "Valor de la media para Company 7 con precios mayores o iguales a 50.000 =  70.67342105263158\n",
      "Valor de la desviación estándar para Company 7 con precios mayores o iguales a 50.000 =  6.769534900573532\n"
     ]
    }
   ],
   "source": [
    "from scipy.stats import norm # distribución de probabilidad Gaussiana\n",
    "\n",
    "media, desv_std = norm.fit(Datos_50k_concatenados_compania7_50k['Precio']) # A partir de los datos, calculamos la media y la desviación estándar, aplicando la Estimación de la Máxima Verosimilitud (MLE) de la Gaussiana\n",
    "print(\"Valor de la media para Company 7 con precios mayores o iguales a 50.000 = \", media)\n",
    "print(\"Valor de la desviación estándar para Company 7 con precios mayores o iguales a 50.000 = \", desv_std) "
   ]
  },
  {
   "cell_type": "code",
   "execution_count": 34,
   "metadata": {
    "colab": {
     "base_uri": "https://localhost:8080/"
    },
    "id": "OoBNySvzK5Na",
    "outputId": "52ac93d2-a667-430e-affd-e565821bdde3"
   },
   "outputs": [
    {
     "data": {
      "text/plain": [
       "(950,)"
      ]
     },
     "execution_count": 34,
     "metadata": {},
     "output_type": "execute_result"
    }
   ],
   "source": [
    "x_minimo = np.min(Datos_50k_concatenados_compania7_50k['Precio'].values)\n",
    "x_maximo = np.max(Datos_50k_concatenados_compania7_50k['Precio'].values)\n",
    "x = np.linspace(x_minimo, x_maximo, Datos_50k_concatenados_compania7_50k.shape[0]) # Generamos un arreglo de valores para construir la función de densidad de probabilidad Gaussiana\n",
    "x.shape"
   ]
  },
  {
   "cell_type": "code",
   "execution_count": 35,
   "metadata": {
    "colab": {
     "base_uri": "https://localhost:8080/",
     "height": 535
    },
    "id": "1TXc4zXHMqMj",
    "outputId": "d3413dcb-8668-4492-e0ec-9652381e1ff0"
   },
   "outputs": [
    {
     "data": {
      "image/png": "[encoded data removed]",
      "text/plain": [
       "<Figure size 864x576 with 1 Axes>"
      ]
     },
     "metadata": {
      "needs_background": "light"
     },
     "output_type": "display_data"
    }
   ],
   "source": [
    "P_normal = norm.pdf(x, loc = media, scale = desv_std)\n",
    "\n",
    "fig = plt.figure(figsize=(12,8))\n",
    "plt.plot(x, P_normal, 'b-', lw = 5, alpha = 0.6, label='pdf norm')\n",
    "plt.hist(norm.rvs(size = 950, loc = media, scale = desv_std), density=True, histtype='stepfilled', alpha=0.5) # rvs significa variable aleatoria\n",
    "plt.xlabel('$x$ = Precios de la Compañia 7 superiores a 50.000')\n",
    "plt.ylabel('$f(x)$')\n",
    "plt.title('pdf norm Compañia 7')\n",
    "plt.show()"
   ]
  },
  {
   "cell_type": "markdown",
   "metadata": {
    "id": "MI9ODenpP9H_"
   },
   "source": [
    "Si queremos conocer la probabilidad de observar los precios **inferiores a 70.000** para la compañia 7, se debe hacer el cálculo mediante la función de densidad de probabilidad acumulada."
   ]
  },
  {
   "cell_type": "code",
   "execution_count": 36,
   "metadata": {
    "colab": {
     "base_uri": "https://localhost:8080/"
    },
    "id": "Rptn1ohgMvdS",
    "outputId": "fa6eb154-853f-4a53-e443-a5a6f622e657"
   },
   "outputs": [
    {
     "name": "stdout",
     "output_type": "stream",
     "text": [
      "la probabilidad de observar los precios inferiores a 70.000 para la compañia 7 es = 0.460379\n"
     ]
    }
   ],
   "source": [
    "z_menos_70 = (70 - media)/desv_std # z = (x - media)/desviacion\n",
    "\n",
    "prob_menos_70 = norm.cdf(z_menos_70, loc = 0, scale = 1) # Es importante colocar loc = 0 y scale = 1 para considerar un función de densidad de probabilidad normal con media 0 y varianza 1.\n",
    "print(\"la probabilidad de observar los precios inferiores a 70.000 para la compañia 7 es = {:.6f}\".format(prob_menos_70))"
   ]
  },
  {
   "cell_type": "markdown",
   "metadata": {
    "id": "ZzhUskntRjcB"
   },
   "source": [
    "Si queremos conocer la probabilidad de observar precios de la compañia 7 **superiores a 80.000**"
   ]
  },
  {
   "cell_type": "code",
   "execution_count": 37,
   "metadata": {
    "colab": {
     "base_uri": "https://localhost:8080/"
    },
    "id": "NoAQxYWgRi99",
    "outputId": "fba793f1-f74c-4adf-f2d4-f21d3373fc82"
   },
   "outputs": [
    {
     "name": "stdout",
     "output_type": "stream",
     "text": [
      "la probabilidad de observar los precios superiores a 80.000 para la compañia 7 es = 0.084144\n"
     ]
    }
   ],
   "source": [
    "z_mas_80 = (80 - media)/desv_std\n",
    "\n",
    "prob_mas_80 = 1 - norm.cdf(z_mas_80, loc = 0, scale = 1) \n",
    "print(\"la probabilidad de observar los precios superiores a 80.000 para la compañia 7 es = {:.6f}\".format(prob_mas_80))"
   ]
  },
  {
   "cell_type": "markdown",
   "metadata": {
    "id": "CtHoWeEsZUQ6"
   },
   "source": [
    "¿Por qué se de restar 1 - cdf para encontrar la probabilidad de encontrar precios superiores a 80.000? Lo anterior se puede observar mediante una gráfica de la cdf."
   ]
  },
  {
   "cell_type": "code",
   "execution_count": 38,
   "metadata": {
    "colab": {
     "base_uri": "https://localhost:8080/",
     "height": 644
    },
    "id": "3MmztL8jZmWp",
    "outputId": "ae69d9a4-6811-495a-da0f-99cd677ae9ed"
   },
   "outputs": [
    {
     "data": {
      "image/png": "[encoded data removed]",
      "text/plain": [
       "<Figure size 720x720 with 1 Axes>"
      ]
     },
     "metadata": {
      "needs_background": "light"
     },
     "output_type": "display_data"
    }
   ],
   "source": [
    "import matplotlib\n",
    "from matplotlib import pyplot as plt\n",
    "\n",
    "matplotlib.rcParams.update({'font.size': 18, 'font.family': 'STIXGeneral', 'mathtext.fontset': 'stix'})\n",
    "\n",
    "PP = norm.cdf(x, loc = media, scale = desv_std)\n",
    "\n",
    "plt.figure(figsize=(10,10))\n",
    "plt.plot(x, PP, 'b-', lw = 5, alpha = 0.6, label='cdf Gaussiano')\n",
    "plt.xlabel('$z$ (Precios de la Compañia 7)')\n",
    "plt.ylabel('$cdf(z)$')\n",
    "plt.title('cdf Gaussiana Compañia 7')\n",
    "plt.show()"
   ]
  },
  {
   "cell_type": "markdown",
   "metadata": {
    "id": "cTPibW9XcGdT"
   },
   "source": [
    "Observen como se acumula los valores de probabilidad desde el valor más pequeño del precio de la compañia 7 hasta el valor más alto del precio de la compañia 7, el cual, la cdf es 1."
   ]
  },
  {
   "cell_type": "markdown",
   "metadata": {
    "id": "BPHmCooGZyru"
   },
   "source": [
    "Como solicitamos precios **superiores a 80.000**, se analiza los valores de probabilidad entre 80 y el valor máximo del precio"
   ]
  },
  {
   "cell_type": "code",
   "execution_count": 39,
   "metadata": {
    "colab": {
     "base_uri": "https://localhost:8080/"
    },
    "id": "sGFkwfHBaBgn",
    "outputId": "3313be18-2bdf-42b3-dba7-a5a450a1c3c3"
   },
   "outputs": [
    {
     "name": "stdout",
     "output_type": "stream",
     "text": [
      "0.9928314149729724\n"
     ]
    }
   ],
   "source": [
    "PP_80 = norm.cdf(80, loc = media, scale = desv_std)\n",
    "PP_max = norm.cdf(x_maximo, loc = media, scale = desv_std)\n",
    "print(PP_max)"
   ]
  },
  {
   "cell_type": "markdown",
   "metadata": {
    "id": "E-HwcFLCa7wM"
   },
   "source": [
    "Este valor de probabilidad se puede redondear a 1. Por consiguiente:"
   ]
  },
  {
   "cell_type": "code",
   "execution_count": 40,
   "metadata": {
    "colab": {
     "base_uri": "https://localhost:8080/"
    },
    "id": "3BZiL7-Ea62b",
    "outputId": "039c3576-d275-4b5d-9bc9-aab104f63e54"
   },
   "outputs": [
    {
     "name": "stdout",
     "output_type": "stream",
     "text": [
      "la probabilidad de observar los precios superiores a 80.000 para la compañia 7 es = 0.084144\n"
     ]
    }
   ],
   "source": [
    "print(\"la probabilidad de observar los precios superiores a 80.000 para la compañia 7 es = {:.6f}\".format(1 - PP_80))"
   ]
  },
  {
   "cell_type": "markdown",
   "metadata": {
    "id": "_cUu0s4FSnsx"
   },
   "source": [
    "Si queremos conocer **la probabilidad de observar precios entre 70.000 y 75.000**:"
   ]
  },
  {
   "cell_type": "code",
   "execution_count": 41,
   "metadata": {
    "colab": {
     "base_uri": "https://localhost:8080/"
    },
    "id": "8UcEXvSISy5i",
    "outputId": "8e08c3f9-619b-4000-ccae-102264dacc03"
   },
   "outputs": [
    {
     "name": "stdout",
     "output_type": "stream",
     "text": [
      "La probabilidad de observaciones en el intervalo entre 70.000 y 75.000 es = 0.278250\n"
     ]
    }
   ],
   "source": [
    "z_70 = (70 - media)/desv_std\n",
    "z_75 = (75 - media)/desv_std\n",
    "\n",
    "prob_70 = norm.cdf(z_70, loc = 0, scale = 1)\n",
    "prob_75 = norm.cdf(z_75, loc = 0, scale = 1)\n",
    "\n",
    "print(\"La probabilidad de observaciones en el intervalo entre 70.000 y 75.000 es = {:.6f}\".format(prob_75 - prob_70))"
   ]
  },
  {
   "cell_type": "markdown",
   "metadata": {
    "id": "1_SK_3GjcD9S"
   },
   "source": [
    "Considerando esta estrategía de análisis de los datos, vamos a analizar las otras compañias con precios superiores a 50.000"
   ]
  },
  {
   "cell_type": "code",
   "execution_count": 42,
   "metadata": {
    "colab": {
     "base_uri": "https://localhost:8080/",
     "height": 363
    },
    "id": "tCEvQiIx3Wa9",
    "outputId": "0d712a16-be6b-4cf7-ec81-64626a38f9ce"
   },
   "outputs": [
    {
     "data": {
      "text/html": [
       "<div>\n",
       "<style scoped>\n",
       "    .dataframe tbody tr th:only-of-type {\n",
       "        vertical-align: middle;\n",
       "    }\n",
       "\n",
       "    .dataframe tbody tr th {\n",
       "        vertical-align: top;\n",
       "    }\n",
       "\n",
       "    .dataframe thead th {\n",
       "        text-align: right;\n",
       "    }\n",
       "</style>\n",
       "<table border=\"1\" class=\"dataframe\">\n",
       "  <thead>\n",
       "    <tr style=\"text-align: right;\">\n",
       "      <th></th>\n",
       "      <th>0</th>\n",
       "      <th>1</th>\n",
       "      <th>2</th>\n",
       "    </tr>\n",
       "  </thead>\n",
       "  <tbody>\n",
       "    <tr>\n",
       "      <th>0</th>\n",
       "      <td>Company 1</td>\n",
       "      <td>54.947968</td>\n",
       "      <td>3.734416</td>\n",
       "    </tr>\n",
       "    <tr>\n",
       "      <th>1</th>\n",
       "      <td>Company 2</td>\n",
       "      <td>53.975556</td>\n",
       "      <td>2.802525</td>\n",
       "    </tr>\n",
       "    <tr>\n",
       "      <th>2</th>\n",
       "      <td>Company 3</td>\n",
       "      <td>NaN</td>\n",
       "      <td>NaN</td>\n",
       "    </tr>\n",
       "    <tr>\n",
       "      <th>3</th>\n",
       "      <td>Company 4</td>\n",
       "      <td>54.534615</td>\n",
       "      <td>2.766077</td>\n",
       "    </tr>\n",
       "    <tr>\n",
       "      <th>4</th>\n",
       "      <td>Company 5</td>\n",
       "      <td>66.947666</td>\n",
       "      <td>11.056985</td>\n",
       "    </tr>\n",
       "    <tr>\n",
       "      <th>5</th>\n",
       "      <td>Company 6</td>\n",
       "      <td>NaN</td>\n",
       "      <td>NaN</td>\n",
       "    </tr>\n",
       "    <tr>\n",
       "      <th>6</th>\n",
       "      <td>Company 7</td>\n",
       "      <td>70.673421</td>\n",
       "      <td>6.773101</td>\n",
       "    </tr>\n",
       "    <tr>\n",
       "      <th>7</th>\n",
       "      <td>Company 8</td>\n",
       "      <td>NaN</td>\n",
       "      <td>NaN</td>\n",
       "    </tr>\n",
       "    <tr>\n",
       "      <th>8</th>\n",
       "      <td>Company 9</td>\n",
       "      <td>50.595455</td>\n",
       "      <td>0.630973</td>\n",
       "    </tr>\n",
       "    <tr>\n",
       "      <th>9</th>\n",
       "      <td>Company 10</td>\n",
       "      <td>54.327560</td>\n",
       "      <td>2.851947</td>\n",
       "    </tr>\n",
       "  </tbody>\n",
       "</table>\n",
       "</div>"
      ],
      "text/plain": [
       "            0          1          2\n",
       "0   Company 1  54.947968   3.734416\n",
       "1   Company 2  53.975556   2.802525\n",
       "2   Company 3        NaN        NaN\n",
       "3   Company 4  54.534615   2.766077\n",
       "4   Company 5  66.947666  11.056985\n",
       "5   Company 6        NaN        NaN\n",
       "6   Company 7  70.673421   6.773101\n",
       "7   Company 8        NaN        NaN\n",
       "8   Company 9  50.595455   0.630973\n",
       "9  Company 10  54.327560   2.851947"
      ]
     },
     "execution_count": 42,
     "metadata": {},
     "output_type": "execute_result"
    }
   ],
   "source": [
    "pd.concat([nombres_companias_50K_rename,Datos_promedio_50k,Datos_std_50k],axis = 1, ignore_index = True)"
   ]
  },
  {
   "cell_type": "code",
   "execution_count": 43,
   "metadata": {
    "id": "Kr91cRCOcZhd"
   },
   "outputs": [],
   "source": [
    "pos_0 = np.where(numero_conteo_columnas.values == 0)\n",
    "pos_1 = np.where(numero_conteo_columnas.values == 1)\n",
    "pos_3 = np.where(numero_conteo_columnas.values == 3)\n",
    "pos_4 = np.where(numero_conteo_columnas.values == 4)\n",
    "pos_8 = np.where(numero_conteo_columnas.values == 8)\n",
    "pos_9 = np.where(numero_conteo_columnas.values == 9)\n",
    "Datos_50k_concatenados_compania1_50k = Datos_50k_concatenados.loc[pos_0[0],:]\n",
    "Datos_50k_concatenados_compania2_50k = Datos_50k_concatenados.loc[pos_1[0],:]\n",
    "Datos_50k_concatenados_compania4_50k = Datos_50k_concatenados.loc[pos_3[0],:]\n",
    "Datos_50k_concatenados_compania5_50k = Datos_50k_concatenados.loc[pos_4[0],:]\n",
    "Datos_50k_concatenados_compania9_50k = Datos_50k_concatenados.loc[pos_8[0],:]\n",
    "Datos_50k_concatenados_compania10_50k = Datos_50k_concatenados.loc[pos_9[0],:]"
   ]
  },
  {
   "cell_type": "code",
   "execution_count": 44,
   "metadata": {
    "id": "lIdHTj0VdYZA"
   },
   "outputs": [],
   "source": [
    "media_comp_1, desv_comp_1 = norm.fit(Datos_50k_concatenados_compania1_50k['Precio'])\n",
    "media_comp_2, desv_comp_2 = norm.fit(Datos_50k_concatenados_compania2_50k['Precio'])\n",
    "media_comp_4, desv_comp_4 = norm.fit(Datos_50k_concatenados_compania4_50k['Precio'])\n",
    "media_comp_5, desv_comp_5 = norm.fit(Datos_50k_concatenados_compania5_50k['Precio'])\n",
    "media_comp_9, desv_comp_9 = norm.fit(Datos_50k_concatenados_compania9_50k['Precio'])\n",
    "media_comp_10, desv_comp_10 = norm.fit(Datos_50k_concatenados_compania10_50k['Precio'])"
   ]
  },
  {
   "cell_type": "code",
   "execution_count": 45,
   "metadata": {
    "id": "8jZE8-2QePtm"
   },
   "outputs": [],
   "source": [
    "x_minimo_comp_1 = np.min(Datos_50k_concatenados_compania1_50k['Precio'].values)\n",
    "x_maximo_comp_1 = np.max(Datos_50k_concatenados_compania1_50k['Precio'].values)\n",
    "\n",
    "x_minimo_comp_2 = np.min(Datos_50k_concatenados_compania2_50k['Precio'].values)\n",
    "x_maximo_comp_2 = np.max(Datos_50k_concatenados_compania2_50k['Precio'].values)\n",
    "\n",
    "x_minimo_comp_4 = np.min(Datos_50k_concatenados_compania4_50k['Precio'].values)\n",
    "x_maximo_comp_4 = np.max(Datos_50k_concatenados_compania4_50k['Precio'].values)\n",
    "\n",
    "x_minimo_comp_5 = np.min(Datos_50k_concatenados_compania5_50k['Precio'].values)\n",
    "x_maximo_comp_5 = np.max(Datos_50k_concatenados_compania5_50k['Precio'].values)\n",
    "\n",
    "x_minimo_comp_9 = np.min(Datos_50k_concatenados_compania9_50k['Precio'].values)\n",
    "x_maximo_comp_9 = np.max(Datos_50k_concatenados_compania9_50k['Precio'].values)\n",
    "\n",
    "x_minimo_comp_10 = np.min(Datos_50k_concatenados_compania10_50k['Precio'].values)\n",
    "x_maximo_comp_10 = np.max(Datos_50k_concatenados_compania10_50k['Precio'].values)\n",
    "\n",
    "\n",
    "x_1 = np.linspace(x_minimo_comp_1, x_maximo_comp_1, Datos_50k_concatenados_compania1_50k.shape[0])\n",
    "x_2 = np.linspace(x_minimo_comp_2, x_maximo_comp_2, Datos_50k_concatenados_compania2_50k.shape[0])\n",
    "x_4 = np.linspace(x_minimo_comp_4, x_maximo_comp_4, Datos_50k_concatenados_compania4_50k.shape[0])\n",
    "x_5 = np.linspace(x_minimo_comp_5, x_maximo_comp_5, Datos_50k_concatenados_compania5_50k.shape[0])\n",
    "x_9 = np.linspace(x_minimo_comp_9, x_maximo_comp_9, Datos_50k_concatenados_compania9_50k.shape[0])\n",
    "x_10 = np.linspace(x_minimo_comp_10, x_maximo_comp_10, Datos_50k_concatenados_compania10_50k.shape[0])                  "
   ]
  },
  {
   "cell_type": "code",
   "execution_count": 46,
   "metadata": {
    "id": "RDEMFPUMfKCY"
   },
   "outputs": [],
   "source": [
    "P_normal_1 = norm.pdf(x_1, loc = media_comp_1, scale = desv_comp_1)\n",
    "P_normal_2 = norm.pdf(x_2, loc = media_comp_2, scale = desv_comp_2)\n",
    "P_normal_4 = norm.pdf(x_4, loc = media_comp_4, scale = desv_comp_4)\n",
    "P_normal_5 = norm.pdf(x_5, loc = media_comp_5, scale = desv_comp_5)\n",
    "P_normal_9 = norm.pdf(x_9, loc = media_comp_9, scale = desv_comp_9)\n",
    "P_normal_10 = norm.pdf(x_10, loc = media_comp_10, scale = desv_comp_10)"
   ]
  },
  {
   "cell_type": "code",
   "execution_count": 47,
   "metadata": {
    "colab": {
     "base_uri": "https://localhost:8080/"
    },
    "id": "qzXchcBmiWAi",
    "outputId": "30425aec-2eaf-471a-9dff-f294d92fa7be"
   },
   "outputs": [
    {
     "data": {
      "text/plain": [
       "6    950\n",
       "4    707\n",
       "1    450\n",
       "9    332\n",
       "3    195\n",
       "0     94\n",
       "8     55\n",
       "dtype: int64"
      ]
     },
     "execution_count": 47,
     "metadata": {},
     "output_type": "execute_result"
    }
   ],
   "source": [
    "Conteo"
   ]
  },
  {
   "cell_type": "code",
   "execution_count": 48,
   "metadata": {
    "colab": {
     "base_uri": "https://localhost:8080/",
     "height": 1000
    },
    "id": "ppOQmWGSfhWD",
    "outputId": "8829d29d-e8c9-497e-e3f8-b0bef74041a3"
   },
   "outputs": [
    {
     "data": {
      "image/png": "[encoded data removed]",
      "text/plain": [
       "<Figure size 864x3240 with 6 Axes>"
      ]
     },
     "metadata": {
      "needs_background": "light"
     },
     "output_type": "display_data"
    }
   ],
   "source": [
    "fig = plt.figure(figsize=(12,45))\n",
    "\n",
    "ax = fig.add_subplot(6, 1, 1)\n",
    "plt.plot(x_1, P_normal_1, 'b-', lw = 5, alpha = 0.6, label='pdf norm')\n",
    "plt.hist(norm.rvs(size = 950, loc = media_comp_1, scale = desv_comp_1), density=True, histtype='stepfilled', alpha=0.5) # rvs significa variable aleatoria\n",
    "plt.xlabel('$x$ = Precios de la Compañia 1 superiores a 50.000')\n",
    "plt.ylabel('$f(x)$')\n",
    "plt.title('pdf norm Compañia 1')\n",
    "\n",
    "ax = fig.add_subplot(6, 1, 2)\n",
    "plt.plot(x_2, P_normal_2, 'b-', lw = 5, alpha = 0.6, label='pdf norm')\n",
    "plt.hist(norm.rvs(size = 450, loc = media_comp_2, scale = desv_comp_2), density=True, histtype='stepfilled', alpha=0.5) # rvs significa variable aleatoria\n",
    "plt.xlabel('$x$ = Precios de la Compañia 2 superiores a 50.000')\n",
    "plt.ylabel('$f(x)$')\n",
    "plt.title('pdf norm Compañia 2')\n",
    "\n",
    "ax = fig.add_subplot(6, 1, 3)\n",
    "plt.plot(x_4, P_normal_4, 'b-', lw = 5, alpha = 0.6, label='pdf norm')\n",
    "plt.hist(norm.rvs(size = 195, loc = media_comp_4, scale = desv_comp_4), density=True, histtype='stepfilled', alpha=0.5) # rvs significa variable aleatoria\n",
    "plt.xlabel('$x$ = Precios de la Compañia 4 superiores a 50.000')\n",
    "plt.ylabel('$f(x)$')\n",
    "plt.title('pdf norm Compañia 4')\n",
    "\n",
    "ax = fig.add_subplot(6, 1, 4)\n",
    "plt.plot(x_5, P_normal_5, 'b-', lw = 5, alpha = 0.6, label='pdf norm')\n",
    "plt.hist(norm.rvs(size = 707, loc = media_comp_5, scale = desv_comp_5), density=True, histtype='stepfilled', alpha=0.5) # rvs significa variable aleatoria\n",
    "plt.xlabel('$x$ = Precios de la Compañia 5 superiores a 50.000')\n",
    "plt.ylabel('$f(x)$')\n",
    "plt.title('pdf norm Compañia 5')\n",
    "\n",
    "ax = fig.add_subplot(6, 1, 5)\n",
    "plt.plot(x_9, P_normal_9, 'b-', lw = 5, alpha = 0.6, label='pdf norm')\n",
    "plt.hist(norm.rvs(size = 55, loc = media_comp_9, scale = desv_comp_9), density=True, histtype='stepfilled', alpha=0.5) # rvs significa variable aleatoria\n",
    "plt.xlabel('$x$ = Precios de la Compañia 9 superiores a 50.000')\n",
    "plt.ylabel('$f(x)$')\n",
    "plt.title('pdf norm Compañia 9')\n",
    "\n",
    "ax = fig.add_subplot(6, 1, 6)\n",
    "plt.plot(x_10, P_normal_10, 'b-', lw = 5, alpha = 0.6, label='pdf norm')\n",
    "plt.hist(norm.rvs(size = 332, loc = media_comp_10, scale = desv_comp_10), density=True, histtype='stepfilled', alpha=0.5) # rvs significa variable aleatoria\n",
    "plt.xlabel('$x$ = Precios de la Compañia 10 superiores a 50.000')\n",
    "plt.ylabel('$f(x)$')\n",
    "plt.title('pdf norm Compañia 10')\n",
    "\n",
    "plt.show()"
   ]
  },
  {
   "cell_type": "markdown",
   "metadata": {
    "id": "XdJgNr3QjhCe"
   },
   "source": [
    "Si queremos conocer las probabilidades de observar los precios **inferiores a 70.000** para las compañias 1, 2, 4, 5, 9 y 10, entonces calculamos las cdfs:\n"
   ]
  },
  {
   "cell_type": "code",
   "execution_count": 49,
   "metadata": {
    "colab": {
     "base_uri": "https://localhost:8080/",
     "height": 300
    },
    "id": "YJoZpsBg6Pks",
    "outputId": "5e21056f-5782-4853-8c93-8b7d9831ad00"
   },
   "outputs": [
    {
     "data": {
      "text/html": [
       "<div>\n",
       "<style scoped>\n",
       "    .dataframe tbody tr th:only-of-type {\n",
       "        vertical-align: middle;\n",
       "    }\n",
       "\n",
       "    .dataframe tbody tr th {\n",
       "        vertical-align: top;\n",
       "    }\n",
       "\n",
       "    .dataframe thead th {\n",
       "        text-align: right;\n",
       "    }\n",
       "</style>\n",
       "<table border=\"1\" class=\"dataframe\">\n",
       "  <thead>\n",
       "    <tr style=\"text-align: right;\">\n",
       "      <th></th>\n",
       "      <th>Company 1</th>\n",
       "      <th>Company 2</th>\n",
       "      <th>Company 3</th>\n",
       "      <th>Company 4</th>\n",
       "      <th>Company 5</th>\n",
       "      <th>Company 6</th>\n",
       "      <th>Company 7</th>\n",
       "      <th>Company 8</th>\n",
       "      <th>Company 9</th>\n",
       "      <th>Company 10</th>\n",
       "    </tr>\n",
       "  </thead>\n",
       "  <tbody>\n",
       "    <tr>\n",
       "      <th>count</th>\n",
       "      <td>950.000000</td>\n",
       "      <td>950.000000</td>\n",
       "      <td>950.000000</td>\n",
       "      <td>950.000000</td>\n",
       "      <td>950.000000</td>\n",
       "      <td>950.000000</td>\n",
       "      <td>950.000000</td>\n",
       "      <td>950.000000</td>\n",
       "      <td>950.000000</td>\n",
       "      <td>950.000000</td>\n",
       "    </tr>\n",
       "    <tr>\n",
       "      <th>mean</th>\n",
       "      <td>37.925592</td>\n",
       "      <td>43.955526</td>\n",
       "      <td>18.704474</td>\n",
       "      <td>45.352895</td>\n",
       "      <td>60.863553</td>\n",
       "      <td>24.122632</td>\n",
       "      <td>70.673421</td>\n",
       "      <td>23.294211</td>\n",
       "      <td>44.214211</td>\n",
       "      <td>46.994079</td>\n",
       "    </tr>\n",
       "    <tr>\n",
       "      <th>std</th>\n",
       "      <td>10.759764</td>\n",
       "      <td>11.377308</td>\n",
       "      <td>2.730364</td>\n",
       "      <td>5.606898</td>\n",
       "      <td>14.299412</td>\n",
       "      <td>5.530962</td>\n",
       "      <td>6.773101</td>\n",
       "      <td>2.970152</td>\n",
       "      <td>4.270098</td>\n",
       "      <td>6.539420</td>\n",
       "    </tr>\n",
       "    <tr>\n",
       "      <th>min</th>\n",
       "      <td>17.219000</td>\n",
       "      <td>19.250000</td>\n",
       "      <td>12.750000</td>\n",
       "      <td>34.375000</td>\n",
       "      <td>27.750000</td>\n",
       "      <td>14.125000</td>\n",
       "      <td>58.000000</td>\n",
       "      <td>16.375000</td>\n",
       "      <td>31.500000</td>\n",
       "      <td>34.000000</td>\n",
       "    </tr>\n",
       "    <tr>\n",
       "      <th>25%</th>\n",
       "      <td>27.781000</td>\n",
       "      <td>35.406250</td>\n",
       "      <td>16.125000</td>\n",
       "      <td>41.375000</td>\n",
       "      <td>49.656250</td>\n",
       "      <td>18.000000</td>\n",
       "      <td>65.625000</td>\n",
       "      <td>21.250000</td>\n",
       "      <td>41.750000</td>\n",
       "      <td>41.375000</td>\n",
       "    </tr>\n",
       "    <tr>\n",
       "      <th>50%</th>\n",
       "      <td>38.922000</td>\n",
       "      <td>49.062500</td>\n",
       "      <td>19.375000</td>\n",
       "      <td>43.937500</td>\n",
       "      <td>61.750000</td>\n",
       "      <td>25.750000</td>\n",
       "      <td>68.625000</td>\n",
       "      <td>22.500000</td>\n",
       "      <td>44.750000</td>\n",
       "      <td>46.687500</td>\n",
       "    </tr>\n",
       "    <tr>\n",
       "      <th>75%</th>\n",
       "      <td>46.875000</td>\n",
       "      <td>53.250000</td>\n",
       "      <td>20.875000</td>\n",
       "      <td>48.125000</td>\n",
       "      <td>71.843750</td>\n",
       "      <td>28.875000</td>\n",
       "      <td>76.375000</td>\n",
       "      <td>26.375000</td>\n",
       "      <td>47.625000</td>\n",
       "      <td>52.125000</td>\n",
       "    </tr>\n",
       "    <tr>\n",
       "      <th>max</th>\n",
       "      <td>61.500000</td>\n",
       "      <td>60.250000</td>\n",
       "      <td>25.125000</td>\n",
       "      <td>60.125000</td>\n",
       "      <td>94.125000</td>\n",
       "      <td>35.250000</td>\n",
       "      <td>87.250000</td>\n",
       "      <td>29.250000</td>\n",
       "      <td>53.000000</td>\n",
       "      <td>62.000000</td>\n",
       "    </tr>\n",
       "  </tbody>\n",
       "</table>\n",
       "</div>"
      ],
      "text/plain": [
       "        Company 1   Company 2   Company 3   Company 4   Company 5   Company 6  \\\n",
       "count  950.000000  950.000000  950.000000  950.000000  950.000000  950.000000   \n",
       "mean    37.925592   43.955526   18.704474   45.352895   60.863553   24.122632   \n",
       "std     10.759764   11.377308    2.730364    5.606898   14.299412    5.530962   \n",
       "min     17.219000   19.250000   12.750000   34.375000   27.750000   14.125000   \n",
       "25%     27.781000   35.406250   16.125000   41.375000   49.656250   18.000000   \n",
       "50%     38.922000   49.062500   19.375000   43.937500   61.750000   25.750000   \n",
       "75%     46.875000   53.250000   20.875000   48.125000   71.843750   28.875000   \n",
       "max     61.500000   60.250000   25.125000   60.125000   94.125000   35.250000   \n",
       "\n",
       "        Company 7   Company 8   Company 9  Company 10  \n",
       "count  950.000000  950.000000  950.000000  950.000000  \n",
       "mean    70.673421   23.294211   44.214211   46.994079  \n",
       "std      6.773101    2.970152    4.270098    6.539420  \n",
       "min     58.000000   16.375000   31.500000   34.000000  \n",
       "25%     65.625000   21.250000   41.750000   41.375000  \n",
       "50%     68.625000   22.500000   44.750000   46.687500  \n",
       "75%     76.375000   26.375000   47.625000   52.125000  \n",
       "max     87.250000   29.250000   53.000000   62.000000  "
      ]
     },
     "execution_count": 49,
     "metadata": {},
     "output_type": "execute_result"
    }
   ],
   "source": [
    "datos_stock.describe()"
   ]
  },
  {
   "cell_type": "code",
   "execution_count": 50,
   "metadata": {
    "id": "zxptdFq7jSZ3"
   },
   "outputs": [],
   "source": [
    "z_menos_70_comp_1 = (70 - media_comp_1)/desv_comp_1\n",
    "z_menos_70_comp_2 = (70 - media_comp_2)/desv_comp_2\n",
    "z_menos_70_comp_4 = (70 - media_comp_1)/desv_comp_4\n",
    "z_menos_70_comp_5 = (70 - media_comp_5)/desv_comp_5\n",
    "z_menos_70_comp_9 = (70 - media_comp_9)/desv_comp_9\n",
    "z_menos_70_comp_10 = (70 - media_comp_10)/desv_comp_10\n",
    "\n",
    "prob_menos_70_comp_1 = 1 - norm.cdf(z_menos_70_comp_1, loc = 0, scale = 1) # 1 - cdf porque el precio máximo de la compañia es menor a 70 y no está definido en el intervalo\n",
    "prob_menos_70_comp_2 = 1 - norm.cdf(z_menos_70_comp_2, loc = 0, scale = 1) # 1 - cdf porque el precio máximo de la compañia es menor a 70 y no está definido en el intervalo\n",
    "prob_menos_70_comp_4 = 1 - norm.cdf(z_menos_70_comp_4, loc = 0, scale = 1) # 1 - cdf porque el precio máximo de la compañia es menor a 70 y no está definido en el intervalo\n",
    "prob_menos_70_comp_5 = norm.cdf(z_menos_70_comp_5, loc = 0, scale = 1)\n",
    "prob_menos_70_comp_9 = 1 - norm.cdf(z_menos_70_comp_9, loc = 0, scale = 1) # 1 - cdf porque el precio máximo de la compañia es menor a 70 y no está definido en el intervalo\n",
    "prob_menos_70_comp_10 =1 -  norm.cdf(z_menos_70_comp_10, loc = 0, scale = 1) # 1 - cdf porque el precio máximo de la compañia es menor a 70 y no está definido en el intervalo\n",
    "\n",
    "prob_menos_70_comp_7 = prob_menos_70 # cambiamos el nombre a la prob de la compañia 7 para hacer una comparación con las otras probabilidades"
   ]
  },
  {
   "cell_type": "code",
   "execution_count": 51,
   "metadata": {
    "colab": {
     "base_uri": "https://localhost:8080/",
     "height": 269
    },
    "id": "pzXZJCuBk3I-",
    "outputId": "718380ff-37ff-43f6-b422-c0daed5591c7"
   },
   "outputs": [
    {
     "data": {
      "text/html": [
       "<div>\n",
       "<style scoped>\n",
       "    .dataframe tbody tr th:only-of-type {\n",
       "        vertical-align: middle;\n",
       "    }\n",
       "\n",
       "    .dataframe tbody tr th {\n",
       "        vertical-align: top;\n",
       "    }\n",
       "\n",
       "    .dataframe thead th {\n",
       "        text-align: right;\n",
       "    }\n",
       "</style>\n",
       "<table border=\"1\" class=\"dataframe\">\n",
       "  <thead>\n",
       "    <tr style=\"text-align: right;\">\n",
       "      <th></th>\n",
       "      <th>0</th>\n",
       "      <th>1</th>\n",
       "    </tr>\n",
       "  </thead>\n",
       "  <tbody>\n",
       "    <tr>\n",
       "      <th>0</th>\n",
       "      <td>Company 1</td>\n",
       "      <td>2.536502e-05</td>\n",
       "    </tr>\n",
       "    <tr>\n",
       "      <th>1</th>\n",
       "      <td>Company 2</td>\n",
       "      <td>5.195414e-09</td>\n",
       "    </tr>\n",
       "    <tr>\n",
       "      <th>2</th>\n",
       "      <td>Company 4</td>\n",
       "      <td>2.439551e-08</td>\n",
       "    </tr>\n",
       "    <tr>\n",
       "      <th>3</th>\n",
       "      <td>Company 5</td>\n",
       "      <td>6.088221e-01</td>\n",
       "    </tr>\n",
       "    <tr>\n",
       "      <th>4</th>\n",
       "      <td>Company 7</td>\n",
       "      <td>4.603793e-01</td>\n",
       "    </tr>\n",
       "    <tr>\n",
       "      <th>5</th>\n",
       "      <td>Company 9</td>\n",
       "      <td>0.000000e+00</td>\n",
       "    </tr>\n",
       "    <tr>\n",
       "      <th>6</th>\n",
       "      <td>Company 10</td>\n",
       "      <td>1.860113e-08</td>\n",
       "    </tr>\n",
       "  </tbody>\n",
       "</table>\n",
       "</div>"
      ],
      "text/plain": [
       "            0             1\n",
       "0   Company 1  2.536502e-05\n",
       "1   Company 2  5.195414e-09\n",
       "2   Company 4  2.439551e-08\n",
       "3   Company 5  6.088221e-01\n",
       "4   Company 7  4.603793e-01\n",
       "5   Company 9  0.000000e+00\n",
       "6  Company 10  1.860113e-08"
      ]
     },
     "execution_count": 51,
     "metadata": {},
     "output_type": "execute_result"
    }
   ],
   "source": [
    "nombres_companias_50K_rename = pd.DataFrame(['Company 1', 'Company 2', 'Company 4', 'Company 5', 'Company 7', 'Company 9', 'Company 10'])\n",
    "\n",
    "prob_MENOS_70 = pd.DataFrame([prob_menos_70_comp_1, prob_menos_70_comp_2, prob_menos_70_comp_4, prob_menos_70_comp_5, prob_menos_70_comp_7, prob_menos_70_comp_9, prob_menos_70_comp_10])\n",
    "pd.concat([nombres_companias_50K_rename, prob_MENOS_70],axis = 1, ignore_index = True)"
   ]
  },
  {
   "cell_type": "code",
   "execution_count": null,
   "metadata": {},
   "outputs": [],
   "source": []
  }
 ],
 "metadata": {
  "colab": {
   "provenance": [],
   "toc_visible": true
  },
  "kernelspec": {
   "display_name": "Python 3 (ipykernel)",
   "language": "python",
   "name": "python3"
  },
  "language_info": {
   "codemirror_mode": {
    "name": "ipython",
    "version": 3
   },
   "file_extension": ".py",
   "mimetype": "text/x-python",
   "name": "python",
   "nbconvert_exporter": "python",
   "pygments_lexer": "ipython3",
   "version": "3.9.13"
  }
 },
 "nbformat": 4,
 "nbformat_minor": 4
}
