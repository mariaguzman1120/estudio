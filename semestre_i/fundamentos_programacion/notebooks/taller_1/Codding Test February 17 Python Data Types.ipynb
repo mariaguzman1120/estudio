{
 "cells": [
  {
   "cell_type": "markdown",
   "id": "7bdfddda-f616-40d3-b0cb-898aa430df02",
   "metadata": {},
   "source": [
    "# Taller\n",
    "\n",
    "+ Johan Arbey Mejía Vargas cc: 1152195956\n",
    "+ María del mar Ipia Guzmán cc: 1214726595"
   ]
  },
  {
   "cell_type": "markdown",
   "id": "9752dcab-dbea-4704-9b85-afec6c2f6a3b",
   "metadata": {},
   "source": [
    "## Write a program to prompt the user for hours and rate per hour using input to compute gross pay. Use 35 hours and a rate of 2.75 per hour to test the program (the pay should be 96.25). You should use input to read a string and float() to convert the string to a number. Do not worry about error checking or bad user data. "
   ]
  },
  {
   "cell_type": "code",
   "execution_count": 1,
   "id": "19dd2971-03a2-4ed6-80ed-fb35dd26011d",
   "metadata": {},
   "outputs": [
    {
     "name": "stdin",
     "output_type": "stream",
     "text": [
      "Cantidad de horas:  35\n",
      "Precio por hora:  2.75\n"
     ]
    },
    {
     "name": "stdout",
     "output_type": "stream",
     "text": [
      "96.25\n"
     ]
    }
   ],
   "source": [
    "hours = int(input('Cantidad de horas: '))\n",
    "rate_hour = float(input('Precio por hora: '))\n",
    "\n",
    "result = hours * rate_hour\n",
    "print(result)"
   ]
  },
  {
   "cell_type": "markdown",
   "id": "d32ae6ae-0697-48fd-9685-3053350f82de",
   "metadata": {
    "tags": []
   },
   "source": [
    "## You have two variables which store the distance between each planet and a common point: the sun. You can subtract these two values to determine the distance between the planets. \n",
    " \n",
    "Start by adding the code to subtract first_planet from second_planet and store the result in a variable named distance_km. Display the value to the screen. \n",
    " \n",
    "Then add the code to convert distance_km to miles by dividing it by 1.609344 (the rough difference between miles and kilometers) and store the result in a variable named distance_mi. Display the value to the screen. "
   ]
  },
  {
   "cell_type": "code",
   "execution_count": 14,
   "id": "e96dde6b-170e-42ea-84fe-9ceb9ce4f39c",
   "metadata": {},
   "outputs": [
    {
     "name": "stdin",
     "output_type": "stream",
     "text": [
      " 10000\n",
      " 30000\n"
     ]
    },
    {
     "name": "stdout",
     "output_type": "stream",
     "text": [
      "Resultado en millas: 12427.423844746678\n"
     ]
    }
   ],
   "source": [
    "first_planet = float(input())\n",
    "second_planet = float(input())\n",
    "\n",
    "distance_km = second_planet - first_planet\n",
    "\n",
    "km_to_miles = 1.609344\n",
    "result = distance_km / km_to_miles\n",
    "print(f'Resultado en millas: {result}')"
   ]
  },
  {
   "cell_type": "markdown",
   "id": "c3ea91d6-702a-44c4-97aa-3b34ec3cd8e0",
   "metadata": {},
   "source": [
    "## Write a program that accepts your name and five subjects mark. Print an output where you will see your name and five subjects mark including your average mark. "
   ]
  },
  {
   "cell_type": "code",
   "execution_count": 15,
   "id": "f9bdb40a-b81e-4396-85f4-d587480a2d13",
   "metadata": {},
   "outputs": [
    {
     "name": "stdin",
     "output_type": "stream",
     "text": [
      "Ingrese nombre:  maria\n",
      "Ingrese notas:  1 2 3 4 5\n"
     ]
    },
    {
     "name": "stdout",
     "output_type": "stream",
     "text": [
      "Nombre: maria\n",
      "Notas: [1, 2, 3, 4, 5]\n",
      "promedio: 3.0\n"
     ]
    }
   ],
   "source": [
    "name = input('Ingrese nombre: ')\n",
    "subject = input('Ingrese notas: ')\n",
    "\n",
    "notas = [int(i) for i in subject.split(' ')]\n",
    "\n",
    "dic = {\n",
    "    'Nombre': name,\n",
    "    'Notas': notas,\n",
    "    'Promedio': sum(notas)/len(notas)}\n",
    "\n",
    "print(f\"Nombre: {dic['Nombre']}\")\n",
    "print(f\"Notas: {dic['Notas']}\")\n",
    "print(f\"promedio: {dic['Promedio']}\")"
   ]
  },
  {
   "cell_type": "markdown",
   "id": "d3ca26fd-3e8a-4417-b5c2-de907d95bebd",
   "metadata": {},
   "source": [
    "## Write a Program that add soccer player input to a dictionary in Python , the dictionary will show the soccer player name and Salary use a range of 5 players. "
   ]
  },
  {
   "cell_type": "code",
   "execution_count": 16,
   "id": "983733f8-80b7-460f-806b-7bb17b2cb251",
   "metadata": {},
   "outputs": [
    {
     "name": "stdin",
     "output_type": "stream",
     "text": [
      " maria 100\n",
      " johan 50\n",
      " felipe 200\n",
      " ana 35\n",
      " maradonna 1000\n"
     ]
    },
    {
     "name": "stdout",
     "output_type": "stream",
     "text": [
      "{'maria': 100.0, 'johan': 50.0, 'felipe': 200.0, 'ana': 35.0, 'maradonna': 1000.0}\n"
     ]
    }
   ],
   "source": [
    "dic = {}\n",
    "\n",
    "count = 0\n",
    "\n",
    "while count < 5:\n",
    "    player_info = input()\n",
    "    list_p = player_info.split(' ')\n",
    "    dic[list_p[0]] = float(list_p[1])\n",
    "    count += 1\n",
    "    \n",
    "print(dic)"
   ]
  },
  {
   "cell_type": "markdown",
   "id": "818bc6e5-ab0b-49fe-a6d6-9a4c739a04aa",
   "metadata": {},
   "source": [
    "## Write a Program to count and to find the smallest and the largest list elements on inputs provided by the user and remove the smallest element of the list. "
   ]
  },
  {
   "cell_type": "code",
   "execution_count": 17,
   "id": "8ca0b03c-9c36-4f46-b0e5-a02bca64794d",
   "metadata": {},
   "outputs": [
    {
     "name": "stdin",
     "output_type": "stream",
     "text": [
      " 1 2 3 4 4 5 6 8\n"
     ]
    },
    {
     "name": "stdout",
     "output_type": "stream",
     "text": [
      "Mínimo: 1\n",
      "Máximo: 8\n",
      "Nueva lista: [2, 3, 4, 4, 5, 6, 8]\n"
     ]
    }
   ],
   "source": [
    "lista = input().split(' ')\n",
    "lista = [int(i) for i in lista]\n",
    "\n",
    "print(f'Mínimo: {min(lista)}')\n",
    "print(f'Máximo: {max(lista)}')\n",
    "# Eliminar el mínimo\n",
    "lista.remove(min(lista))\n",
    "\n",
    "print(f'Nueva lista: {lista}')"
   ]
  },
  {
   "cell_type": "code",
   "execution_count": null,
   "id": "87e84062-b614-45cb-b010-2ef5a84b240d",
   "metadata": {},
   "outputs": [],
   "source": []
  }
 ],
 "metadata": {
  "kernelspec": {
   "display_name": "Python 3 (ipykernel)",
   "language": "python",
   "name": "python3"
  },
  "language_info": {
   "codemirror_mode": {
    "name": "ipython",
    "version": 3
   },
   "file_extension": ".py",
   "mimetype": "text/x-python",
   "name": "python",
   "nbconvert_exporter": "python",
   "pygments_lexer": "ipython3",
   "version": "3.9.13"
  },
  "toc-autonumbering": true
 },
 "nbformat": 4,
 "nbformat_minor": 5
}
