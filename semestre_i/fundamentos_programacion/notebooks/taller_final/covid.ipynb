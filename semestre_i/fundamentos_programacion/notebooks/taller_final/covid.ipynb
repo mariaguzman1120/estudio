{
 "cells": [
  {
   "cell_type": "code",
   "execution_count": 1,
   "id": "164498d1-584a-4e2b-961c-f89276a3036e",
   "metadata": {},
   "outputs": [],
   "source": [
    "import numpy as np\n",
    "import pandas as pd\n",
    "import matplotlib.pyplot as plt\n",
    "import plotly.express as px\n",
    "import seaborn as sns"
   ]
  },
  {
   "cell_type": "markdown",
   "id": "14a0548b-a30a-41e1-a508-4e07da44d78b",
   "metadata": {},
   "source": [
    "# lectura de archivos"
   ]
  },
  {
   "cell_type": "code",
   "execution_count": 2,
   "id": "c31b5a7d-fbcd-4ce1-a4b7-ab986b4ed20b",
   "metadata": {},
   "outputs": [],
   "source": [
    "df = pd.read_csv('covid_worldwide.csv')"
   ]
  },
  {
   "cell_type": "code",
   "execution_count": 3,
   "id": "4dc30567-39ef-4171-9a71-ab906a96a970",
   "metadata": {},
   "outputs": [
    {
     "data": {
      "text/html": [
       "<div>\n",
       "<style scoped>\n",
       "    .dataframe tbody tr th:only-of-type {\n",
       "        vertical-align: middle;\n",
       "    }\n",
       "\n",
       "    .dataframe tbody tr th {\n",
       "        vertical-align: top;\n",
       "    }\n",
       "\n",
       "    .dataframe thead th {\n",
       "        text-align: right;\n",
       "    }\n",
       "</style>\n",
       "<table border=\"1\" class=\"dataframe\">\n",
       "  <thead>\n",
       "    <tr style=\"text-align: right;\">\n",
       "      <th></th>\n",
       "      <th>Serial Number</th>\n",
       "      <th>Country</th>\n",
       "      <th>Total Cases</th>\n",
       "      <th>Total Deaths</th>\n",
       "      <th>Total Recovered</th>\n",
       "      <th>Active Cases</th>\n",
       "      <th>Total Test</th>\n",
       "      <th>Population</th>\n",
       "    </tr>\n",
       "  </thead>\n",
       "  <tbody>\n",
       "    <tr>\n",
       "      <th>0</th>\n",
       "      <td>1</td>\n",
       "      <td>USA</td>\n",
       "      <td>104,196,861</td>\n",
       "      <td>1,132,935</td>\n",
       "      <td>101,322,779</td>\n",
       "      <td>1,741,147</td>\n",
       "      <td>1,159,832,679</td>\n",
       "      <td>334,805,269</td>\n",
       "    </tr>\n",
       "    <tr>\n",
       "      <th>1</th>\n",
       "      <td>2</td>\n",
       "      <td>India</td>\n",
       "      <td>44,682,784</td>\n",
       "      <td>530,740</td>\n",
       "      <td>44,150,289</td>\n",
       "      <td>1,755</td>\n",
       "      <td>915,265,788</td>\n",
       "      <td>1,406,631,776</td>\n",
       "    </tr>\n",
       "    <tr>\n",
       "      <th>2</th>\n",
       "      <td>3</td>\n",
       "      <td>France</td>\n",
       "      <td>39,524,311</td>\n",
       "      <td>164,233</td>\n",
       "      <td>39,264,546</td>\n",
       "      <td>95,532</td>\n",
       "      <td>271,490,188</td>\n",
       "      <td>65,584,518</td>\n",
       "    </tr>\n",
       "    <tr>\n",
       "      <th>3</th>\n",
       "      <td>4</td>\n",
       "      <td>Germany</td>\n",
       "      <td>37,779,833</td>\n",
       "      <td>165,711</td>\n",
       "      <td>37,398,100</td>\n",
       "      <td>216,022</td>\n",
       "      <td>122,332,384</td>\n",
       "      <td>83,883,596</td>\n",
       "    </tr>\n",
       "    <tr>\n",
       "      <th>4</th>\n",
       "      <td>5</td>\n",
       "      <td>Brazil</td>\n",
       "      <td>36,824,580</td>\n",
       "      <td>697,074</td>\n",
       "      <td>35,919,372</td>\n",
       "      <td>208,134</td>\n",
       "      <td>63,776,166</td>\n",
       "      <td>215,353,593</td>\n",
       "    </tr>\n",
       "  </tbody>\n",
       "</table>\n",
       "</div>"
      ],
      "text/plain": [
       "   Serial Number  Country  Total Cases Total Deaths Total Recovered  \\\n",
       "0              1      USA  104,196,861    1,132,935     101,322,779   \n",
       "1              2    India   44,682,784      530,740      44,150,289   \n",
       "2              3   France   39,524,311      164,233      39,264,546   \n",
       "3              4  Germany   37,779,833      165,711      37,398,100   \n",
       "4              5   Brazil   36,824,580      697,074      35,919,372   \n",
       "\n",
       "  Active Cases     Total Test     Population  \n",
       "0    1,741,147  1,159,832,679    334,805,269  \n",
       "1        1,755    915,265,788  1,406,631,776  \n",
       "2       95,532    271,490,188     65,584,518  \n",
       "3      216,022    122,332,384     83,883,596  \n",
       "4      208,134     63,776,166    215,353,593  "
      ]
     },
     "execution_count": 3,
     "metadata": {},
     "output_type": "execute_result"
    }
   ],
   "source": [
    "df.head()"
   ]
  },
  {
   "cell_type": "markdown",
   "id": "5ca33b0f-ef97-4082-a091-997d28bf79d2",
   "metadata": {},
   "source": [
    "# Forma del dataset"
   ]
  },
  {
   "cell_type": "code",
   "execution_count": 4,
   "id": "131a3c1c-604b-467d-b532-7c3780482c9b",
   "metadata": {},
   "outputs": [
    {
     "data": {
      "text/plain": [
       "(231, 8)"
      ]
     },
     "execution_count": 4,
     "metadata": {},
     "output_type": "execute_result"
    }
   ],
   "source": [
    "df.shape"
   ]
  },
  {
   "cell_type": "markdown",
   "id": "1dd1014a-5327-449c-8d57-71a16185f72e",
   "metadata": {},
   "source": [
    "# Información del dataset"
   ]
  },
  {
   "cell_type": "code",
   "execution_count": 5,
   "id": "dadc29d4-9ee8-4a29-8e54-6019775cac33",
   "metadata": {},
   "outputs": [
    {
     "name": "stdout",
     "output_type": "stream",
     "text": [
      "<class 'pandas.core.frame.DataFrame'>\n",
      "RangeIndex: 231 entries, 0 to 230\n",
      "Data columns (total 8 columns):\n",
      " #   Column           Non-Null Count  Dtype \n",
      "---  ------           --------------  ----- \n",
      " 0   Serial Number    231 non-null    int64 \n",
      " 1   Country          231 non-null    object\n",
      " 2   Total Cases      231 non-null    object\n",
      " 3   Total Deaths     225 non-null    object\n",
      " 4   Total Recovered  210 non-null    object\n",
      " 5   Active Cases     212 non-null    object\n",
      " 6   Total Test       213 non-null    object\n",
      " 7   Population       228 non-null    object\n",
      "dtypes: int64(1), object(7)\n",
      "memory usage: 14.6+ KB\n"
     ]
    }
   ],
   "source": [
    "df.info()"
   ]
  },
  {
   "cell_type": "markdown",
   "id": "126d5d88-979e-45c4-aad6-a1f953187bea",
   "metadata": {},
   "source": [
    "# Eliminar elementos con tipo de dato diferente"
   ]
  },
  {
   "cell_type": "markdown",
   "id": "834d8170-7bc5-4455-872c-e9658654631e",
   "metadata": {},
   "source": [
    "como se puede ver en la celda anterior, la columna con tipo de dato \n",
    "diferente es la 'Serial Number' por lo cual procedemoa a eliminarla"
   ]
  },
  {
   "cell_type": "code",
   "execution_count": 6,
   "id": "eeb8cd51-5f26-413c-baa0-1ce5e8d93357",
   "metadata": {},
   "outputs": [],
   "source": [
    "df = df.drop('Serial Number', axis=1)"
   ]
  },
  {
   "cell_type": "code",
   "execution_count": 7,
   "id": "e46a03fc-f451-4099-b9f8-3426cd56d390",
   "metadata": {},
   "outputs": [
    {
     "data": {
      "text/html": [
       "<div>\n",
       "<style scoped>\n",
       "    .dataframe tbody tr th:only-of-type {\n",
       "        vertical-align: middle;\n",
       "    }\n",
       "\n",
       "    .dataframe tbody tr th {\n",
       "        vertical-align: top;\n",
       "    }\n",
       "\n",
       "    .dataframe thead th {\n",
       "        text-align: right;\n",
       "    }\n",
       "</style>\n",
       "<table border=\"1\" class=\"dataframe\">\n",
       "  <thead>\n",
       "    <tr style=\"text-align: right;\">\n",
       "      <th></th>\n",
       "      <th>Country</th>\n",
       "      <th>Total Cases</th>\n",
       "      <th>Total Deaths</th>\n",
       "      <th>Total Recovered</th>\n",
       "      <th>Active Cases</th>\n",
       "      <th>Total Test</th>\n",
       "      <th>Population</th>\n",
       "    </tr>\n",
       "  </thead>\n",
       "  <tbody>\n",
       "    <tr>\n",
       "      <th>0</th>\n",
       "      <td>USA</td>\n",
       "      <td>104,196,861</td>\n",
       "      <td>1,132,935</td>\n",
       "      <td>101,322,779</td>\n",
       "      <td>1,741,147</td>\n",
       "      <td>1,159,832,679</td>\n",
       "      <td>334,805,269</td>\n",
       "    </tr>\n",
       "    <tr>\n",
       "      <th>1</th>\n",
       "      <td>India</td>\n",
       "      <td>44,682,784</td>\n",
       "      <td>530,740</td>\n",
       "      <td>44,150,289</td>\n",
       "      <td>1,755</td>\n",
       "      <td>915,265,788</td>\n",
       "      <td>1,406,631,776</td>\n",
       "    </tr>\n",
       "    <tr>\n",
       "      <th>2</th>\n",
       "      <td>France</td>\n",
       "      <td>39,524,311</td>\n",
       "      <td>164,233</td>\n",
       "      <td>39,264,546</td>\n",
       "      <td>95,532</td>\n",
       "      <td>271,490,188</td>\n",
       "      <td>65,584,518</td>\n",
       "    </tr>\n",
       "    <tr>\n",
       "      <th>3</th>\n",
       "      <td>Germany</td>\n",
       "      <td>37,779,833</td>\n",
       "      <td>165,711</td>\n",
       "      <td>37,398,100</td>\n",
       "      <td>216,022</td>\n",
       "      <td>122,332,384</td>\n",
       "      <td>83,883,596</td>\n",
       "    </tr>\n",
       "    <tr>\n",
       "      <th>4</th>\n",
       "      <td>Brazil</td>\n",
       "      <td>36,824,580</td>\n",
       "      <td>697,074</td>\n",
       "      <td>35,919,372</td>\n",
       "      <td>208,134</td>\n",
       "      <td>63,776,166</td>\n",
       "      <td>215,353,593</td>\n",
       "    </tr>\n",
       "    <tr>\n",
       "      <th>...</th>\n",
       "      <td>...</td>\n",
       "      <td>...</td>\n",
       "      <td>...</td>\n",
       "      <td>...</td>\n",
       "      <td>...</td>\n",
       "      <td>...</td>\n",
       "      <td>...</td>\n",
       "    </tr>\n",
       "    <tr>\n",
       "      <th>226</th>\n",
       "      <td>Diamond Princess</td>\n",
       "      <td>712</td>\n",
       "      <td>13</td>\n",
       "      <td>699</td>\n",
       "      <td>0</td>\n",
       "      <td>NaN</td>\n",
       "      <td>NaN</td>\n",
       "    </tr>\n",
       "    <tr>\n",
       "      <th>227</th>\n",
       "      <td>Vatican City</td>\n",
       "      <td>29</td>\n",
       "      <td>NaN</td>\n",
       "      <td>29</td>\n",
       "      <td>0</td>\n",
       "      <td>NaN</td>\n",
       "      <td>799</td>\n",
       "    </tr>\n",
       "    <tr>\n",
       "      <th>228</th>\n",
       "      <td>Western Sahara</td>\n",
       "      <td>10</td>\n",
       "      <td>1</td>\n",
       "      <td>9</td>\n",
       "      <td>0</td>\n",
       "      <td>NaN</td>\n",
       "      <td>626,161</td>\n",
       "    </tr>\n",
       "    <tr>\n",
       "      <th>229</th>\n",
       "      <td>MS Zaandam</td>\n",
       "      <td>9</td>\n",
       "      <td>2</td>\n",
       "      <td>7</td>\n",
       "      <td>0</td>\n",
       "      <td>NaN</td>\n",
       "      <td>NaN</td>\n",
       "    </tr>\n",
       "    <tr>\n",
       "      <th>230</th>\n",
       "      <td>Tokelau</td>\n",
       "      <td>5</td>\n",
       "      <td>NaN</td>\n",
       "      <td>NaN</td>\n",
       "      <td>5</td>\n",
       "      <td>NaN</td>\n",
       "      <td>1,378</td>\n",
       "    </tr>\n",
       "  </tbody>\n",
       "</table>\n",
       "<p>231 rows × 7 columns</p>\n",
       "</div>"
      ],
      "text/plain": [
       "              Country  Total Cases Total Deaths Total Recovered Active Cases  \\\n",
       "0                 USA  104,196,861    1,132,935     101,322,779    1,741,147   \n",
       "1               India   44,682,784      530,740      44,150,289        1,755   \n",
       "2              France   39,524,311      164,233      39,264,546       95,532   \n",
       "3             Germany   37,779,833      165,711      37,398,100      216,022   \n",
       "4              Brazil   36,824,580      697,074      35,919,372      208,134   \n",
       "..                ...          ...          ...             ...          ...   \n",
       "226  Diamond Princess          712           13             699            0   \n",
       "227      Vatican City           29          NaN              29            0   \n",
       "228    Western Sahara           10            1               9            0   \n",
       "229        MS Zaandam            9            2               7            0   \n",
       "230           Tokelau            5          NaN             NaN            5   \n",
       "\n",
       "        Total Test     Population  \n",
       "0    1,159,832,679    334,805,269  \n",
       "1      915,265,788  1,406,631,776  \n",
       "2      271,490,188     65,584,518  \n",
       "3      122,332,384     83,883,596  \n",
       "4       63,776,166    215,353,593  \n",
       "..             ...            ...  \n",
       "226            NaN            NaN  \n",
       "227            NaN            799  \n",
       "228            NaN        626,161  \n",
       "229            NaN            NaN  \n",
       "230            NaN          1,378  \n",
       "\n",
       "[231 rows x 7 columns]"
      ]
     },
     "execution_count": 7,
     "metadata": {},
     "output_type": "execute_result"
    }
   ],
   "source": [
    "df"
   ]
  },
  {
   "cell_type": "markdown",
   "id": "294bfa24-88e7-46e3-89bb-f690be375aa7",
   "metadata": {},
   "source": [
    "# Datos nulos en más del 50% de datos nulos"
   ]
  },
  {
   "cell_type": "code",
   "execution_count": 8,
   "id": "036deb7a-223a-4f35-bfb7-f2644ac5d5ce",
   "metadata": {},
   "outputs": [],
   "source": [
    "# Revisamos los datos nulos por columna\n",
    "datos_nulos = df.isnull().sum()"
   ]
  },
  {
   "cell_type": "code",
   "execution_count": 9,
   "id": "0f5e8629-b485-4ade-a23e-90d0579283ec",
   "metadata": {},
   "outputs": [
    {
     "data": {
      "text/plain": [
       "Country             0\n",
       "Total Cases         0\n",
       "Total Deaths        6\n",
       "Total Recovered    21\n",
       "Active Cases       19\n",
       "Total Test         18\n",
       "Population          3\n",
       "dtype: int64"
      ]
     },
     "execution_count": 9,
     "metadata": {},
     "output_type": "execute_result"
    }
   ],
   "source": [
    "datos_nulos"
   ]
  },
  {
   "cell_type": "code",
   "execution_count": 10,
   "id": "52724837-7cd5-411e-ba70-b33da93eff2b",
   "metadata": {},
   "outputs": [],
   "source": [
    "# Posterior a ellos validamos el porcentaje de los datos nulos con respecto a todos los valores de cada columna\n",
    "\n",
    "porcentaje_nulos = df.isnull().sum() / len(df) * 100"
   ]
  },
  {
   "cell_type": "code",
   "execution_count": 11,
   "id": "7799bff6-6880-481e-b1ec-125b1974ce3e",
   "metadata": {},
   "outputs": [
    {
     "data": {
      "text/plain": [
       "Country            0.000000\n",
       "Total Cases        0.000000\n",
       "Total Deaths       2.597403\n",
       "Total Recovered    9.090909\n",
       "Active Cases       8.225108\n",
       "Total Test         7.792208\n",
       "Population         1.298701\n",
       "dtype: float64"
      ]
     },
     "execution_count": 11,
     "metadata": {},
     "output_type": "execute_result"
    }
   ],
   "source": [
    "porcentaje_nulos"
   ]
  },
  {
   "cell_type": "markdown",
   "id": "c7cb14fb-6561-4a55-96b2-774454b70b29",
   "metadata": {},
   "source": [
    "# Revisar si hay países duplicados"
   ]
  },
  {
   "cell_type": "code",
   "execution_count": 12,
   "id": "c8ba627e-f847-4389-b320-2880cb358c45",
   "metadata": {},
   "outputs": [
    {
     "data": {
      "text/plain": [
       "231"
      ]
     },
     "execution_count": 12,
     "metadata": {},
     "output_type": "execute_result"
    }
   ],
   "source": [
    "df['Country'].nunique()"
   ]
  },
  {
   "cell_type": "code",
   "execution_count": 13,
   "id": "7232aed5-6709-463c-a0f3-4d1d045057f0",
   "metadata": {},
   "outputs": [
    {
     "data": {
      "text/plain": [
       "(231, 7)"
      ]
     },
     "execution_count": 13,
     "metadata": {},
     "output_type": "execute_result"
    }
   ],
   "source": [
    "df.shape"
   ]
  },
  {
   "cell_type": "code",
   "execution_count": 14,
   "id": "097c8b18-256e-4991-8e5c-34a3b56da3fc",
   "metadata": {},
   "outputs": [],
   "source": [
    "new_duplicate = df[df.duplicated('Country', False)]"
   ]
  },
  {
   "cell_type": "code",
   "execution_count": 15,
   "id": "6066d71a-ab46-428e-92d1-e9deaed06d72",
   "metadata": {},
   "outputs": [
    {
     "data": {
      "text/html": [
       "<div>\n",
       "<style scoped>\n",
       "    .dataframe tbody tr th:only-of-type {\n",
       "        vertical-align: middle;\n",
       "    }\n",
       "\n",
       "    .dataframe tbody tr th {\n",
       "        vertical-align: top;\n",
       "    }\n",
       "\n",
       "    .dataframe thead th {\n",
       "        text-align: right;\n",
       "    }\n",
       "</style>\n",
       "<table border=\"1\" class=\"dataframe\">\n",
       "  <thead>\n",
       "    <tr style=\"text-align: right;\">\n",
       "      <th></th>\n",
       "      <th>Country</th>\n",
       "      <th>Total Cases</th>\n",
       "      <th>Total Deaths</th>\n",
       "      <th>Total Recovered</th>\n",
       "      <th>Active Cases</th>\n",
       "      <th>Total Test</th>\n",
       "      <th>Population</th>\n",
       "    </tr>\n",
       "  </thead>\n",
       "  <tbody>\n",
       "  </tbody>\n",
       "</table>\n",
       "</div>"
      ],
      "text/plain": [
       "Empty DataFrame\n",
       "Columns: [Country, Total Cases, Total Deaths, Total Recovered, Active Cases, Total Test, Population]\n",
       "Index: []"
      ]
     },
     "execution_count": 15,
     "metadata": {},
     "output_type": "execute_result"
    }
   ],
   "source": [
    "new_duplicate"
   ]
  },
  {
   "cell_type": "markdown",
   "id": "7183cb06-302f-47c2-ad8b-4df604ab2436",
   "metadata": {},
   "source": [
    "No hay paises duplicado debia que el df.shape y el df.unique son iguales"
   ]
  },
  {
   "cell_type": "markdown",
   "id": "a08b8b33-2475-4ad1-9660-9ffb0234305f",
   "metadata": {},
   "source": [
    "# Porcentaje de pacientes que murieron por cada país"
   ]
  },
  {
   "cell_type": "code",
   "execution_count": 16,
   "id": "3752eaba-940c-4d4a-81b8-ba7b5c144e19",
   "metadata": {
    "tags": []
   },
   "outputs": [],
   "source": [
    "df['Total Deaths'] = df['Total Deaths'].str.replace(',', '')"
   ]
  },
  {
   "cell_type": "code",
   "execution_count": 17,
   "id": "9f46fd93-de87-4f34-863f-3b8cfd102676",
   "metadata": {},
   "outputs": [],
   "source": [
    "df['Total Deaths'] = pd.to_numeric(df['Total Deaths'], errors='coerce')"
   ]
  },
  {
   "cell_type": "code",
   "execution_count": 18,
   "id": "8190217a-9356-41d0-9c09-6b6dcdf37f38",
   "metadata": {},
   "outputs": [],
   "source": [
    "df['Total Cases'] = df['Total Cases'].str.replace(',', '')"
   ]
  },
  {
   "cell_type": "code",
   "execution_count": 19,
   "id": "743a2765-632c-4b48-9aad-c6f8074daabf",
   "metadata": {},
   "outputs": [],
   "source": [
    "df['Total Cases'] = pd.to_numeric(df['Total Cases'], errors='coerce')"
   ]
  },
  {
   "cell_type": "code",
   "execution_count": 20,
   "id": "987b9835-defc-475e-958a-20fb95f2bba1",
   "metadata": {},
   "outputs": [],
   "source": [
    "df['% Deaths'] = df['Total Deaths'] / df['Total Cases'] * 100"
   ]
  },
  {
   "cell_type": "code",
   "execution_count": 21,
   "id": "83a9c8ab-ce4f-46cd-b347-4dee7dcf8d45",
   "metadata": {},
   "outputs": [
    {
     "name": "stdout",
     "output_type": "stream",
     "text": [
      "<class 'pandas.core.frame.DataFrame'>\n",
      "RangeIndex: 231 entries, 0 to 230\n",
      "Data columns (total 8 columns):\n",
      " #   Column           Non-Null Count  Dtype  \n",
      "---  ------           --------------  -----  \n",
      " 0   Country          231 non-null    object \n",
      " 1   Total Cases      231 non-null    int64  \n",
      " 2   Total Deaths     225 non-null    float64\n",
      " 3   Total Recovered  210 non-null    object \n",
      " 4   Active Cases     212 non-null    object \n",
      " 5   Total Test       213 non-null    object \n",
      " 6   Population       228 non-null    object \n",
      " 7   % Deaths         225 non-null    float64\n",
      "dtypes: float64(2), int64(1), object(5)\n",
      "memory usage: 14.6+ KB\n"
     ]
    }
   ],
   "source": [
    "df.info()"
   ]
  },
  {
   "cell_type": "code",
   "execution_count": 22,
   "id": "6b79b9a1-a261-42b8-a8b3-e846ae05b2fa",
   "metadata": {},
   "outputs": [
    {
     "data": {
      "text/html": [
       "<div>\n",
       "<style scoped>\n",
       "    .dataframe tbody tr th:only-of-type {\n",
       "        vertical-align: middle;\n",
       "    }\n",
       "\n",
       "    .dataframe tbody tr th {\n",
       "        vertical-align: top;\n",
       "    }\n",
       "\n",
       "    .dataframe thead th {\n",
       "        text-align: right;\n",
       "    }\n",
       "</style>\n",
       "<table border=\"1\" class=\"dataframe\">\n",
       "  <thead>\n",
       "    <tr style=\"text-align: right;\">\n",
       "      <th></th>\n",
       "      <th>Country</th>\n",
       "      <th>Total Cases</th>\n",
       "      <th>Total Deaths</th>\n",
       "      <th>Total Recovered</th>\n",
       "      <th>Active Cases</th>\n",
       "      <th>Total Test</th>\n",
       "      <th>Population</th>\n",
       "      <th>% Deaths</th>\n",
       "    </tr>\n",
       "  </thead>\n",
       "  <tbody>\n",
       "    <tr>\n",
       "      <th>0</th>\n",
       "      <td>USA</td>\n",
       "      <td>104196861</td>\n",
       "      <td>1132935.0</td>\n",
       "      <td>101,322,779</td>\n",
       "      <td>1,741,147</td>\n",
       "      <td>1,159,832,679</td>\n",
       "      <td>334,805,269</td>\n",
       "      <td>1.087302</td>\n",
       "    </tr>\n",
       "    <tr>\n",
       "      <th>1</th>\n",
       "      <td>India</td>\n",
       "      <td>44682784</td>\n",
       "      <td>530740.0</td>\n",
       "      <td>44,150,289</td>\n",
       "      <td>1,755</td>\n",
       "      <td>915,265,788</td>\n",
       "      <td>1,406,631,776</td>\n",
       "      <td>1.187795</td>\n",
       "    </tr>\n",
       "    <tr>\n",
       "      <th>2</th>\n",
       "      <td>France</td>\n",
       "      <td>39524311</td>\n",
       "      <td>164233.0</td>\n",
       "      <td>39,264,546</td>\n",
       "      <td>95,532</td>\n",
       "      <td>271,490,188</td>\n",
       "      <td>65,584,518</td>\n",
       "      <td>0.415524</td>\n",
       "    </tr>\n",
       "    <tr>\n",
       "      <th>3</th>\n",
       "      <td>Germany</td>\n",
       "      <td>37779833</td>\n",
       "      <td>165711.0</td>\n",
       "      <td>37,398,100</td>\n",
       "      <td>216,022</td>\n",
       "      <td>122,332,384</td>\n",
       "      <td>83,883,596</td>\n",
       "      <td>0.438623</td>\n",
       "    </tr>\n",
       "    <tr>\n",
       "      <th>4</th>\n",
       "      <td>Brazil</td>\n",
       "      <td>36824580</td>\n",
       "      <td>697074.0</td>\n",
       "      <td>35,919,372</td>\n",
       "      <td>208,134</td>\n",
       "      <td>63,776,166</td>\n",
       "      <td>215,353,593</td>\n",
       "      <td>1.892958</td>\n",
       "    </tr>\n",
       "  </tbody>\n",
       "</table>\n",
       "</div>"
      ],
      "text/plain": [
       "   Country  Total Cases  Total Deaths Total Recovered Active Cases  \\\n",
       "0      USA    104196861     1132935.0     101,322,779    1,741,147   \n",
       "1    India     44682784      530740.0      44,150,289        1,755   \n",
       "2   France     39524311      164233.0      39,264,546       95,532   \n",
       "3  Germany     37779833      165711.0      37,398,100      216,022   \n",
       "4   Brazil     36824580      697074.0      35,919,372      208,134   \n",
       "\n",
       "      Total Test     Population  % Deaths  \n",
       "0  1,159,832,679    334,805,269  1.087302  \n",
       "1    915,265,788  1,406,631,776  1.187795  \n",
       "2    271,490,188     65,584,518  0.415524  \n",
       "3    122,332,384     83,883,596  0.438623  \n",
       "4     63,776,166    215,353,593  1.892958  "
      ]
     },
     "execution_count": 22,
     "metadata": {},
     "output_type": "execute_result"
    }
   ],
   "source": [
    "df.head()"
   ]
  },
  {
   "cell_type": "markdown",
   "id": "be4fbbe2-ce52-4f22-8487-c877488f1fc1",
   "metadata": {},
   "source": [
    "# Top 10 de países con más cantidad de muertos"
   ]
  },
  {
   "cell_type": "code",
   "execution_count": 23,
   "id": "5a3cf275-3648-4585-812b-9227ecb1de0c",
   "metadata": {},
   "outputs": [],
   "source": [
    "tabla_1 = df.nlargest(10, 'Total Deaths')"
   ]
  },
  {
   "cell_type": "code",
   "execution_count": 24,
   "id": "edc6a6b2-c30e-4aa1-bc8f-1863e6b0e319",
   "metadata": {},
   "outputs": [
    {
     "data": {
      "text/html": [
       "<div>\n",
       "<style scoped>\n",
       "    .dataframe tbody tr th:only-of-type {\n",
       "        vertical-align: middle;\n",
       "    }\n",
       "\n",
       "    .dataframe tbody tr th {\n",
       "        vertical-align: top;\n",
       "    }\n",
       "\n",
       "    .dataframe thead th {\n",
       "        text-align: right;\n",
       "    }\n",
       "</style>\n",
       "<table border=\"1\" class=\"dataframe\">\n",
       "  <thead>\n",
       "    <tr style=\"text-align: right;\">\n",
       "      <th></th>\n",
       "      <th>Country</th>\n",
       "      <th>Total Cases</th>\n",
       "      <th>Total Deaths</th>\n",
       "      <th>Total Recovered</th>\n",
       "      <th>Active Cases</th>\n",
       "      <th>Total Test</th>\n",
       "      <th>Population</th>\n",
       "      <th>% Deaths</th>\n",
       "    </tr>\n",
       "  </thead>\n",
       "  <tbody>\n",
       "    <tr>\n",
       "      <th>0</th>\n",
       "      <td>USA</td>\n",
       "      <td>104196861</td>\n",
       "      <td>1132935.0</td>\n",
       "      <td>101,322,779</td>\n",
       "      <td>1,741,147</td>\n",
       "      <td>1,159,832,679</td>\n",
       "      <td>334,805,269</td>\n",
       "      <td>1.087302</td>\n",
       "    </tr>\n",
       "    <tr>\n",
       "      <th>4</th>\n",
       "      <td>Brazil</td>\n",
       "      <td>36824580</td>\n",
       "      <td>697074.0</td>\n",
       "      <td>35,919,372</td>\n",
       "      <td>208,134</td>\n",
       "      <td>63,776,166</td>\n",
       "      <td>215,353,593</td>\n",
       "      <td>1.892958</td>\n",
       "    </tr>\n",
       "    <tr>\n",
       "      <th>1</th>\n",
       "      <td>India</td>\n",
       "      <td>44682784</td>\n",
       "      <td>530740.0</td>\n",
       "      <td>44,150,289</td>\n",
       "      <td>1,755</td>\n",
       "      <td>915,265,788</td>\n",
       "      <td>1,406,631,776</td>\n",
       "      <td>1.187795</td>\n",
       "    </tr>\n",
       "    <tr>\n",
       "      <th>9</th>\n",
       "      <td>Russia</td>\n",
       "      <td>21958696</td>\n",
       "      <td>395108.0</td>\n",
       "      <td>21,356,008</td>\n",
       "      <td>207,580</td>\n",
       "      <td>273,400,000</td>\n",
       "      <td>145,805,947</td>\n",
       "      <td>1.799324</td>\n",
       "    </tr>\n",
       "    <tr>\n",
       "      <th>18</th>\n",
       "      <td>Mexico</td>\n",
       "      <td>7368252</td>\n",
       "      <td>332198.0</td>\n",
       "      <td>6,606,633</td>\n",
       "      <td>429,421</td>\n",
       "      <td>19,356,195</td>\n",
       "      <td>131,562,772</td>\n",
       "      <td>4.508505</td>\n",
       "    </tr>\n",
       "    <tr>\n",
       "      <th>34</th>\n",
       "      <td>Peru</td>\n",
       "      <td>4481621</td>\n",
       "      <td>218931.0</td>\n",
       "      <td>4,258,688</td>\n",
       "      <td>4,002</td>\n",
       "      <td>37,754,603</td>\n",
       "      <td>33,684,208</td>\n",
       "      <td>4.885085</td>\n",
       "    </tr>\n",
       "    <tr>\n",
       "      <th>8</th>\n",
       "      <td>UK</td>\n",
       "      <td>24274361</td>\n",
       "      <td>204171.0</td>\n",
       "      <td>24,020,088</td>\n",
       "      <td>50,102</td>\n",
       "      <td>522,526,476</td>\n",
       "      <td>68,497,907</td>\n",
       "      <td>0.841097</td>\n",
       "    </tr>\n",
       "    <tr>\n",
       "      <th>7</th>\n",
       "      <td>Italy</td>\n",
       "      <td>25453789</td>\n",
       "      <td>186833.0</td>\n",
       "      <td>25,014,986</td>\n",
       "      <td>251,970</td>\n",
       "      <td>265,478,247</td>\n",
       "      <td>60,262,770</td>\n",
       "      <td>0.734009</td>\n",
       "    </tr>\n",
       "    <tr>\n",
       "      <th>3</th>\n",
       "      <td>Germany</td>\n",
       "      <td>37779833</td>\n",
       "      <td>165711.0</td>\n",
       "      <td>37,398,100</td>\n",
       "      <td>216,022</td>\n",
       "      <td>122,332,384</td>\n",
       "      <td>83,883,596</td>\n",
       "      <td>0.438623</td>\n",
       "    </tr>\n",
       "    <tr>\n",
       "      <th>2</th>\n",
       "      <td>France</td>\n",
       "      <td>39524311</td>\n",
       "      <td>164233.0</td>\n",
       "      <td>39,264,546</td>\n",
       "      <td>95,532</td>\n",
       "      <td>271,490,188</td>\n",
       "      <td>65,584,518</td>\n",
       "      <td>0.415524</td>\n",
       "    </tr>\n",
       "  </tbody>\n",
       "</table>\n",
       "</div>"
      ],
      "text/plain": [
       "    Country  Total Cases  Total Deaths Total Recovered Active Cases  \\\n",
       "0       USA    104196861     1132935.0     101,322,779    1,741,147   \n",
       "4    Brazil     36824580      697074.0      35,919,372      208,134   \n",
       "1     India     44682784      530740.0      44,150,289        1,755   \n",
       "9    Russia     21958696      395108.0      21,356,008      207,580   \n",
       "18   Mexico      7368252      332198.0       6,606,633      429,421   \n",
       "34     Peru      4481621      218931.0       4,258,688        4,002   \n",
       "8        UK     24274361      204171.0      24,020,088       50,102   \n",
       "7     Italy     25453789      186833.0      25,014,986      251,970   \n",
       "3   Germany     37779833      165711.0      37,398,100      216,022   \n",
       "2    France     39524311      164233.0      39,264,546       95,532   \n",
       "\n",
       "       Total Test     Population  % Deaths  \n",
       "0   1,159,832,679    334,805,269  1.087302  \n",
       "4      63,776,166    215,353,593  1.892958  \n",
       "1     915,265,788  1,406,631,776  1.187795  \n",
       "9     273,400,000    145,805,947  1.799324  \n",
       "18     19,356,195    131,562,772  4.508505  \n",
       "34     37,754,603     33,684,208  4.885085  \n",
       "8     522,526,476     68,497,907  0.841097  \n",
       "7     265,478,247     60,262,770  0.734009  \n",
       "3     122,332,384     83,883,596  0.438623  \n",
       "2     271,490,188     65,584,518  0.415524  "
      ]
     },
     "execution_count": 24,
     "metadata": {},
     "output_type": "execute_result"
    }
   ],
   "source": [
    "tabla_1"
   ]
  },
  {
   "cell_type": "markdown",
   "id": "5ca6eb2e-2e6a-4531-bedd-4f097735be17",
   "metadata": {},
   "source": [
    "# Los 10 países con menos muertos"
   ]
  },
  {
   "cell_type": "code",
   "execution_count": 25,
   "id": "d428ae32-f3c7-4191-b2b7-dafd00acf90a",
   "metadata": {},
   "outputs": [],
   "source": [
    "tabla_2 = df.nsmallest(10, 'Total Deaths')"
   ]
  },
  {
   "cell_type": "code",
   "execution_count": 26,
   "id": "24e1f0ac-3f46-4996-afe4-c943df9baa59",
   "metadata": {},
   "outputs": [
    {
     "data": {
      "text/html": [
       "<div>\n",
       "<style scoped>\n",
       "    .dataframe tbody tr th:only-of-type {\n",
       "        vertical-align: middle;\n",
       "    }\n",
       "\n",
       "    .dataframe tbody tr th {\n",
       "        vertical-align: top;\n",
       "    }\n",
       "\n",
       "    .dataframe thead th {\n",
       "        text-align: right;\n",
       "    }\n",
       "</style>\n",
       "<table border=\"1\" class=\"dataframe\">\n",
       "  <thead>\n",
       "    <tr style=\"text-align: right;\">\n",
       "      <th></th>\n",
       "      <th>Country</th>\n",
       "      <th>Total Cases</th>\n",
       "      <th>Total Deaths</th>\n",
       "      <th>Total Recovered</th>\n",
       "      <th>Active Cases</th>\n",
       "      <th>Total Test</th>\n",
       "      <th>Population</th>\n",
       "      <th>% Deaths</th>\n",
       "    </tr>\n",
       "  </thead>\n",
       "  <tbody>\n",
       "    <tr>\n",
       "      <th>216</th>\n",
       "      <td>Nauru</td>\n",
       "      <td>4621</td>\n",
       "      <td>1.0</td>\n",
       "      <td>4,609</td>\n",
       "      <td>11</td>\n",
       "      <td>20,509</td>\n",
       "      <td>10,903</td>\n",
       "      <td>0.021640</td>\n",
       "    </tr>\n",
       "    <tr>\n",
       "      <th>228</th>\n",
       "      <td>Western Sahara</td>\n",
       "      <td>10</td>\n",
       "      <td>1.0</td>\n",
       "      <td>9</td>\n",
       "      <td>0</td>\n",
       "      <td>NaN</td>\n",
       "      <td>626,161</td>\n",
       "      <td>10.000000</td>\n",
       "    </tr>\n",
       "    <tr>\n",
       "      <th>209</th>\n",
       "      <td>Cook Islands</td>\n",
       "      <td>7011</td>\n",
       "      <td>2.0</td>\n",
       "      <td>6,993</td>\n",
       "      <td>16</td>\n",
       "      <td>19,690</td>\n",
       "      <td>17,571</td>\n",
       "      <td>0.028527</td>\n",
       "    </tr>\n",
       "    <tr>\n",
       "      <th>219</th>\n",
       "      <td>Saint Pierre Miquelon</td>\n",
       "      <td>3452</td>\n",
       "      <td>2.0</td>\n",
       "      <td>2,449</td>\n",
       "      <td>1,001</td>\n",
       "      <td>25,400</td>\n",
       "      <td>5,759</td>\n",
       "      <td>0.057937</td>\n",
       "    </tr>\n",
       "    <tr>\n",
       "      <th>229</th>\n",
       "      <td>MS Zaandam</td>\n",
       "      <td>9</td>\n",
       "      <td>2.0</td>\n",
       "      <td>7</td>\n",
       "      <td>0</td>\n",
       "      <td>NaN</td>\n",
       "      <td>NaN</td>\n",
       "      <td>22.222222</td>\n",
       "    </tr>\n",
       "    <tr>\n",
       "      <th>214</th>\n",
       "      <td>St. Barth</td>\n",
       "      <td>5420</td>\n",
       "      <td>6.0</td>\n",
       "      <td>NaN</td>\n",
       "      <td>NaN</td>\n",
       "      <td>78,646</td>\n",
       "      <td>9,945</td>\n",
       "      <td>0.110701</td>\n",
       "    </tr>\n",
       "    <tr>\n",
       "      <th>220</th>\n",
       "      <td>Wallis and Futuna</td>\n",
       "      <td>3427</td>\n",
       "      <td>7.0</td>\n",
       "      <td>438</td>\n",
       "      <td>2,982</td>\n",
       "      <td>20,508</td>\n",
       "      <td>10,982</td>\n",
       "      <td>0.204260</td>\n",
       "    </tr>\n",
       "    <tr>\n",
       "      <th>224</th>\n",
       "      <td>Montserrat</td>\n",
       "      <td>1403</td>\n",
       "      <td>8.0</td>\n",
       "      <td>1,376</td>\n",
       "      <td>19</td>\n",
       "      <td>17,762</td>\n",
       "      <td>4,965</td>\n",
       "      <td>0.570207</td>\n",
       "    </tr>\n",
       "    <tr>\n",
       "      <th>213</th>\n",
       "      <td>Palau</td>\n",
       "      <td>5986</td>\n",
       "      <td>9.0</td>\n",
       "      <td>5,976</td>\n",
       "      <td>1</td>\n",
       "      <td>68,820</td>\n",
       "      <td>18,233</td>\n",
       "      <td>0.150351</td>\n",
       "    </tr>\n",
       "    <tr>\n",
       "      <th>217</th>\n",
       "      <td>Anguilla</td>\n",
       "      <td>3904</td>\n",
       "      <td>12.0</td>\n",
       "      <td>3,879</td>\n",
       "      <td>13</td>\n",
       "      <td>51,382</td>\n",
       "      <td>15,230</td>\n",
       "      <td>0.307377</td>\n",
       "    </tr>\n",
       "  </tbody>\n",
       "</table>\n",
       "</div>"
      ],
      "text/plain": [
       "                   Country  Total Cases  Total Deaths Total Recovered  \\\n",
       "216                  Nauru         4621           1.0           4,609   \n",
       "228         Western Sahara           10           1.0               9   \n",
       "209           Cook Islands         7011           2.0           6,993   \n",
       "219  Saint Pierre Miquelon         3452           2.0           2,449   \n",
       "229             MS Zaandam            9           2.0               7   \n",
       "214              St. Barth         5420           6.0             NaN   \n",
       "220      Wallis and Futuna         3427           7.0             438   \n",
       "224             Montserrat         1403           8.0           1,376   \n",
       "213                  Palau         5986           9.0           5,976   \n",
       "217               Anguilla         3904          12.0           3,879   \n",
       "\n",
       "    Active Cases Total Test Population   % Deaths  \n",
       "216           11     20,509     10,903   0.021640  \n",
       "228            0        NaN    626,161  10.000000  \n",
       "209           16     19,690     17,571   0.028527  \n",
       "219        1,001     25,400      5,759   0.057937  \n",
       "229            0        NaN        NaN  22.222222  \n",
       "214          NaN     78,646      9,945   0.110701  \n",
       "220        2,982     20,508     10,982   0.204260  \n",
       "224           19     17,762      4,965   0.570207  \n",
       "213            1     68,820     18,233   0.150351  \n",
       "217           13     51,382     15,230   0.307377  "
      ]
     },
     "execution_count": 26,
     "metadata": {},
     "output_type": "execute_result"
    }
   ],
   "source": [
    "tabla_2"
   ]
  },
  {
   "cell_type": "markdown",
   "id": "10674d74-aea8-4a4e-985c-97c0d2cccb57",
   "metadata": {},
   "source": [
    "# 10 países con más pacientes recuperados"
   ]
  },
  {
   "cell_type": "code",
   "execution_count": 27,
   "id": "4348fd85-b2a0-478a-90a1-13bf894ef9bd",
   "metadata": {
    "tags": []
   },
   "outputs": [],
   "source": [
    "df['Total Recovered'] = df['Total Recovered'].str.replace(',', '')"
   ]
  },
  {
   "cell_type": "code",
   "execution_count": 28,
   "id": "1bb91c4f-2b82-4816-89a9-a3764dcdcd89",
   "metadata": {},
   "outputs": [],
   "source": [
    "df['Total Recovered'] = pd.to_numeric(df['Total Recovered'], errors='coerce')"
   ]
  },
  {
   "cell_type": "code",
   "execution_count": 29,
   "id": "c7b7eec1-55de-4c64-af67-8287efdd022d",
   "metadata": {},
   "outputs": [],
   "source": [
    "tabla_3 = df.nlargest(10, 'Total Recovered')"
   ]
  },
  {
   "cell_type": "code",
   "execution_count": 30,
   "id": "81666e3a-3266-4f65-b788-7724119de74f",
   "metadata": {},
   "outputs": [
    {
     "data": {
      "text/html": [
       "<div>\n",
       "<style scoped>\n",
       "    .dataframe tbody tr th:only-of-type {\n",
       "        vertical-align: middle;\n",
       "    }\n",
       "\n",
       "    .dataframe tbody tr th {\n",
       "        vertical-align: top;\n",
       "    }\n",
       "\n",
       "    .dataframe thead th {\n",
       "        text-align: right;\n",
       "    }\n",
       "</style>\n",
       "<table border=\"1\" class=\"dataframe\">\n",
       "  <thead>\n",
       "    <tr style=\"text-align: right;\">\n",
       "      <th></th>\n",
       "      <th>Country</th>\n",
       "      <th>Total Cases</th>\n",
       "      <th>Total Deaths</th>\n",
       "      <th>Total Recovered</th>\n",
       "      <th>Active Cases</th>\n",
       "      <th>Total Test</th>\n",
       "      <th>Population</th>\n",
       "      <th>% Deaths</th>\n",
       "    </tr>\n",
       "  </thead>\n",
       "  <tbody>\n",
       "    <tr>\n",
       "      <th>0</th>\n",
       "      <td>USA</td>\n",
       "      <td>104196861</td>\n",
       "      <td>1132935.0</td>\n",
       "      <td>101322779.0</td>\n",
       "      <td>1,741,147</td>\n",
       "      <td>1,159,832,679</td>\n",
       "      <td>334,805,269</td>\n",
       "      <td>1.087302</td>\n",
       "    </tr>\n",
       "    <tr>\n",
       "      <th>1</th>\n",
       "      <td>India</td>\n",
       "      <td>44682784</td>\n",
       "      <td>530740.0</td>\n",
       "      <td>44150289.0</td>\n",
       "      <td>1,755</td>\n",
       "      <td>915,265,788</td>\n",
       "      <td>1,406,631,776</td>\n",
       "      <td>1.187795</td>\n",
       "    </tr>\n",
       "    <tr>\n",
       "      <th>2</th>\n",
       "      <td>France</td>\n",
       "      <td>39524311</td>\n",
       "      <td>164233.0</td>\n",
       "      <td>39264546.0</td>\n",
       "      <td>95,532</td>\n",
       "      <td>271,490,188</td>\n",
       "      <td>65,584,518</td>\n",
       "      <td>0.415524</td>\n",
       "    </tr>\n",
       "    <tr>\n",
       "      <th>3</th>\n",
       "      <td>Germany</td>\n",
       "      <td>37779833</td>\n",
       "      <td>165711.0</td>\n",
       "      <td>37398100.0</td>\n",
       "      <td>216,022</td>\n",
       "      <td>122,332,384</td>\n",
       "      <td>83,883,596</td>\n",
       "      <td>0.438623</td>\n",
       "    </tr>\n",
       "    <tr>\n",
       "      <th>4</th>\n",
       "      <td>Brazil</td>\n",
       "      <td>36824580</td>\n",
       "      <td>697074.0</td>\n",
       "      <td>35919372.0</td>\n",
       "      <td>208,134</td>\n",
       "      <td>63,776,166</td>\n",
       "      <td>215,353,593</td>\n",
       "      <td>1.892958</td>\n",
       "    </tr>\n",
       "    <tr>\n",
       "      <th>6</th>\n",
       "      <td>S. Korea</td>\n",
       "      <td>30197066</td>\n",
       "      <td>33486.0</td>\n",
       "      <td>29740877.0</td>\n",
       "      <td>422,703</td>\n",
       "      <td>15,804,065</td>\n",
       "      <td>51,329,899</td>\n",
       "      <td>0.110892</td>\n",
       "    </tr>\n",
       "    <tr>\n",
       "      <th>7</th>\n",
       "      <td>Italy</td>\n",
       "      <td>25453789</td>\n",
       "      <td>186833.0</td>\n",
       "      <td>25014986.0</td>\n",
       "      <td>251,970</td>\n",
       "      <td>265,478,247</td>\n",
       "      <td>60,262,770</td>\n",
       "      <td>0.734009</td>\n",
       "    </tr>\n",
       "    <tr>\n",
       "      <th>8</th>\n",
       "      <td>UK</td>\n",
       "      <td>24274361</td>\n",
       "      <td>204171.0</td>\n",
       "      <td>24020088.0</td>\n",
       "      <td>50,102</td>\n",
       "      <td>522,526,476</td>\n",
       "      <td>68,497,907</td>\n",
       "      <td>0.841097</td>\n",
       "    </tr>\n",
       "    <tr>\n",
       "      <th>5</th>\n",
       "      <td>Japan</td>\n",
       "      <td>32588442</td>\n",
       "      <td>68399.0</td>\n",
       "      <td>21567425.0</td>\n",
       "      <td>10,952,618</td>\n",
       "      <td>92,144,639</td>\n",
       "      <td>125,584,838</td>\n",
       "      <td>0.209887</td>\n",
       "    </tr>\n",
       "    <tr>\n",
       "      <th>9</th>\n",
       "      <td>Russia</td>\n",
       "      <td>21958696</td>\n",
       "      <td>395108.0</td>\n",
       "      <td>21356008.0</td>\n",
       "      <td>207,580</td>\n",
       "      <td>273,400,000</td>\n",
       "      <td>145,805,947</td>\n",
       "      <td>1.799324</td>\n",
       "    </tr>\n",
       "  </tbody>\n",
       "</table>\n",
       "</div>"
      ],
      "text/plain": [
       "    Country  Total Cases  Total Deaths  Total Recovered Active Cases  \\\n",
       "0       USA    104196861     1132935.0      101322779.0    1,741,147   \n",
       "1     India     44682784      530740.0       44150289.0        1,755   \n",
       "2    France     39524311      164233.0       39264546.0       95,532   \n",
       "3   Germany     37779833      165711.0       37398100.0      216,022   \n",
       "4    Brazil     36824580      697074.0       35919372.0      208,134   \n",
       "6  S. Korea     30197066       33486.0       29740877.0      422,703   \n",
       "7     Italy     25453789      186833.0       25014986.0      251,970   \n",
       "8        UK     24274361      204171.0       24020088.0       50,102   \n",
       "5     Japan     32588442       68399.0       21567425.0   10,952,618   \n",
       "9    Russia     21958696      395108.0       21356008.0      207,580   \n",
       "\n",
       "      Total Test     Population  % Deaths  \n",
       "0  1,159,832,679    334,805,269  1.087302  \n",
       "1    915,265,788  1,406,631,776  1.187795  \n",
       "2    271,490,188     65,584,518  0.415524  \n",
       "3    122,332,384     83,883,596  0.438623  \n",
       "4     63,776,166    215,353,593  1.892958  \n",
       "6     15,804,065     51,329,899  0.110892  \n",
       "7    265,478,247     60,262,770  0.734009  \n",
       "8    522,526,476     68,497,907  0.841097  \n",
       "5     92,144,639    125,584,838  0.209887  \n",
       "9    273,400,000    145,805,947  1.799324  "
      ]
     },
     "execution_count": 30,
     "metadata": {},
     "output_type": "execute_result"
    }
   ],
   "source": [
    "tabla_3"
   ]
  },
  {
   "cell_type": "markdown",
   "id": "a3e4475c-ff54-47f9-a5b0-1cfe093efca5",
   "metadata": {},
   "source": [
    "# Gráficas"
   ]
  },
  {
   "cell_type": "code",
   "execution_count": 31,
   "id": "15c8b98c-f40a-4c18-8975-10fb88774e57",
   "metadata": {},
   "outputs": [
    {
     "data": {
      "text/plain": [
       "Text(0, 0.5, 'Total Deaths')"
      ]
     },
     "execution_count": 31,
     "metadata": {},
     "output_type": "execute_result"
    },
    {
     "data": {
      "image/png": "[encoded data removed]",
      "text/plain": [
       "<Figure size 432x288 with 1 Axes>"
      ]
     },
     "metadata": {
      "needs_background": "light"
     },
     "output_type": "display_data"
    }
   ],
   "source": [
    "tabla_1.plot.bar(\n",
    "    x='Country',\n",
    "    y='Total Deaths',\n",
    "    legend=None)\n",
    "\n",
    "plt.title(\"Top 10 Countries with most Deaths\")\n",
    "plt.xlabel('Country')\n",
    "plt.ylabel('Total Deaths')"
   ]
  },
  {
   "cell_type": "code",
   "execution_count": 32,
   "id": "273e7a14-2836-4597-9020-6e02d0a10281",
   "metadata": {},
   "outputs": [
    {
     "data": {
      "text/plain": [
       "Text(0, 0.5, 'Total Deaths')"
      ]
     },
     "execution_count": 32,
     "metadata": {},
     "output_type": "execute_result"
    },
    {
     "data": {
      "image/png": "[encoded data removed]",
      "text/plain": [
       "<Figure size 432x288 with 1 Axes>"
      ]
     },
     "metadata": {
      "needs_background": "light"
     },
     "output_type": "display_data"
    }
   ],
   "source": [
    "tabla_2.plot.bar(\n",
    "    x='Country',\n",
    "    y='Total Deaths',\n",
    "    legend=None)\n",
    "\n",
    "plt.title(\"Top 10 Countries with less Deaths\")\n",
    "plt.xlabel('Country')\n",
    "plt.ylabel('Total Deaths')"
   ]
  },
  {
   "cell_type": "code",
   "execution_count": 33,
   "id": "eeb85476-56fd-4c10-b38b-2e9b0f9c5d5f",
   "metadata": {},
   "outputs": [
    {
     "data": {
      "text/plain": [
       "Text(0, 0.5, 'Total Deaths')"
      ]
     },
     "execution_count": 33,
     "metadata": {},
     "output_type": "execute_result"
    },
    {
     "data": {
      "image/png": "[encoded data removed]",
      "text/plain": [
       "<Figure size 432x288 with 1 Axes>"
      ]
     },
     "metadata": {
      "needs_background": "light"
     },
     "output_type": "display_data"
    }
   ],
   "source": [
    "tabla_3.plot.bar(\n",
    "    x='Country',\n",
    "    y='Total Deaths',\n",
    "    legend=None)\n",
    "\n",
    "plt.title(\"Top 10 Countries Best Recovery\")\n",
    "plt.xlabel('Country')\n",
    "plt.ylabel('Total Deaths')"
   ]
  },
  {
   "cell_type": "markdown",
   "id": "71e04dd9-4a4b-417b-b0b5-6e459cd35f20",
   "metadata": {},
   "source": [
    "# libreria px.scatter_geo para mostrar los casos en un mapa"
   ]
  },
  {
   "cell_type": "code",
   "execution_count": 36,
   "id": "db6af3c1-a4d0-466f-a8da-3e59f9afe66f",
   "metadata": {},
   "outputs": [],
   "source": [
    "#filtramos por los datos que no sean nulos en la columna del total de casos de covid\n",
    "df_map = df[~df['Total Cases'].isnull()]"
   ]
  },
  {
   "cell_type": "code",
   "execution_count": 47,
   "id": "cd0896cd-3bdc-4674-86fa-86b37a34da40",
   "metadata": {},
   "outputs": [
    {
     "data": {
      "application/vnd.plotly.v1+json": {
       "config": {
        "plotlyServerURL": "https://plot.ly"
       },
       "data": [
        {
         "geo": "geo",
         "hovertemplate": "Total Cases=%{marker.color}<br>Country=%{location}<extra></extra>",
         "legendgroup": "",
         "locationmode": "country names",
         "locations": [
          "USA",
          "India",
          "France",
          "Germany",
          "Brazil",
          "Japan",
          "S. Korea",
          "Italy",
          "UK",
          "Russia",
          "Turkey",
          "Spain",
          "Vietnam",
          "Australia",
          "Argentina",
          "Taiwan",
          "Netherlands",
          "Iran",
          "Mexico",
          "Indonesia",
          "Poland",
          "Colombia",
          "Austria",
          "Greece",
          "Portugal",
          "Ukraine",
          "Chile",
          "Malaysia",
          "Israel",
          "DPRK",
          "Thailand",
          "Belgium",
          "Czechia",
          "Canada",
          "Peru",
          "Switzerland",
          "Philippines",
          "South Africa",
          "Romania",
          "Denmark",
          "Hong Kong",
          "Sweden",
          "Serbia",
          "Iraq",
          "Singapore",
          "Hungary",
          "New Zealand",
          "Bangladesh",
          "Slovakia",
          "Georgia",
          "Jordan",
          "Ireland",
          "Pakistan",
          "Norway",
          "Finland",
          "Kazakhstan",
          "Slovenia",
          "Lithuania",
          "Bulgaria",
          "Morocco",
          "Croatia",
          "Lebanon",
          "Guatemala",
          "Bolivia",
          "Costa Rica",
          "Tunisia",
          "Cuba",
          "Ecuador",
          "UAE",
          "Uruguay",
          "Panama",
          "Mongolia",
          "Nepal",
          "Belarus",
          "Latvia",
          "Saudi Arabia",
          "Azerbaijan",
          "Paraguay",
          "Bahrain",
          "Sri Lanka",
          "Kuwait",
          "Dominican Republic",
          "Cyprus",
          "Myanmar",
          "Palestine",
          "Estonia",
          "Moldova",
          "Venezuela",
          "Egypt",
          "Libya",
          "China",
          "Ethiopia",
          "Qatar",
          "Réunion",
          "Honduras",
          "Armenia",
          "Bosnia and Herzegovina",
          "Oman",
          "North Macedonia",
          "Kenya",
          "Zambia",
          "Albania",
          "Botswana",
          "Luxembourg",
          "Montenegro",
          "Brunei",
          "Algeria",
          "Nigeria",
          "Zimbabwe",
          "Uzbekistan",
          "Mozambique",
          "Martinique",
          "Laos",
          "Iceland",
          "Afghanistan",
          "Kyrgyzstan",
          "El Salvador",
          "Guadeloupe",
          "Trinidad and Tobago",
          "Maldives",
          "Ghana",
          "Namibia",
          "Uganda",
          "Jamaica",
          "Cambodia",
          "Rwanda",
          "Cameroon",
          "Malta",
          "Barbados",
          "Angola",
          "Channel Islands",
          "French Guiana",
          "DRC",
          "Senegal",
          "Malawi",
          "Ivory Coast",
          "Suriname",
          "New Caledonia",
          "French Polynesia",
          "Eswatini",
          "Guyana",
          "Belize",
          "Fiji",
          "Madagascar",
          "Sudan",
          "Mauritania",
          "Cabo Verde",
          "Bhutan",
          "Syria",
          "Burundi",
          "Seychelles",
          "Gabon",
          "Andorra",
          "Papua New Guinea",
          "Curaçao",
          "Aruba",
          "Tanzania",
          "Mayotte",
          "Mauritius",
          "Togo",
          "Guinea",
          "Isle of Man",
          "Bahamas",
          "Lesotho",
          "Faeroe Islands",
          "Haiti",
          "Mali",
          "Cayman Islands",
          "Saint Lucia",
          "Benin",
          "Somalia",
          "Congo",
          "Solomon Islands",
          "San Marino",
          "Timor-Leste",
          "Micronesia",
          "Burkina Faso",
          "Liechtenstein",
          "Gibraltar",
          "Grenada",
          "Bermuda",
          "Nicaragua",
          "South Sudan",
          "Tajikistan",
          "Equatorial Guinea",
          "Tonga",
          "Samoa",
          "Monaco",
          "Dominica",
          "Djibouti",
          "Marshall Islands",
          "CAR",
          "Gambia",
          "Saint Martin",
          "Vanuatu",
          "Greenland",
          "Yemen",
          "Caribbean Netherlands",
          "Sint Maarten",
          "Eritrea",
          "Niger",
          "St. Vincent Grenadines",
          "Antigua and Barbuda",
          "Comoros",
          "Guinea-Bissau",
          "Liberia",
          "Sierra Leone",
          "Chad",
          "British Virgin Islands",
          "Cook Islands",
          "Saint Kitts and Nevis",
          "Turks and Caicos",
          "Sao Tome and Principe",
          "Palau",
          "St. Barth",
          "Kiribati",
          "Nauru",
          "Anguilla",
          "Macao",
          "Saint Pierre Miquelon",
          "Wallis and Futuna",
          "Tuvalu",
          "Saint Helena",
          "Falkland Islands",
          "Montserrat",
          "Niue",
          "Diamond Princess",
          "Vatican City",
          "Western Sahara",
          "MS Zaandam",
          "Tokelau"
         ],
         "marker": {
          "color": [
           104196861,
           44682784,
           39524311,
           37779833,
           36824580,
           32588442,
           30197066,
           25453789,
           24274361,
           21958696,
           17042722,
           13731478,
           11526508,
           11295446,
           10037135,
           9569611,
           8582500,
           7564350,
           7368252,
           6730289,
           6380225,
           6356309,
           5780229,
           5708301,
           5563907,
           5370131,
           5118981,
           5036593,
           4786189,
           4772813,
           4726984,
           4691499,
           4590019,
           4550256,
           4481621,
           4385701,
           4073454,
           4055966,
           3325006,
           3173247,
           2877280,
           2693458,
           2471198,
           2465545,
           2217110,
           2192447,
           2182355,
           2037556,
           1860893,
           1814180,
           1746997,
           1700253,
           1576313,
           1477856,
           1458619,
           1405917,
           1321852,
           1296865,
           1295426,
           1272240,
           1267580,
           1228639,
           1227853,
           1187986,
           1186176,
           1150356,
           1112438,
           1051239,
           1049409,
           1032710,
           1029701,
           1007871,
           1001102,
           994037,
           975355,
           827962,
           827944,
           806256,
           700452,
           671989,
           662858,
           660095,
           642663,
           633820,
           621008,
           613891,
           598673,
           551587,
           515645,
           507162,
           503302,
           499531,
           492534,
           485895,
           470757,
           446008,
           401384,
           399449,
           346428,
           342810,
           340763,
           334167,
           329227,
           297757,
           286355,
           275220,
           271378,
           266463,
           261606,
           250567,
           231994,
           229687,
           217973,
           208688,
           208545,
           206592,
           201785,
           201394,
           187908,
           185715,
           171112,
           170741,
           170400,
           153407,
           138693,
           133090,
           123993,
           117062,
           106157,
           105184,
           101116,
           98028,
           95514,
           88902,
           88559,
           87982,
           82020,
           79845,
           77957,
           74133,
           72950,
           70660,
           68820,
           67827,
           63742,
           63665,
           63229,
           62605,
           57453,
           53492,
           50665,
           48981,
           47839,
           46750,
           45986,
           43993,
           42664,
           42002,
           41652,
           39354,
           38240,
           38008,
           37491,
           34790,
           34658,
           34076,
           32783,
           31472,
           29803,
           27989,
           27318,
           25375,
           24575,
           23427,
           23415,
           22676,
           22025,
           21340,
           20399,
           19680,
           18766,
           18491,
           18368,
           17786,
           17190,
           16734,
           16087,
           16056,
           15760,
           15690,
           15584,
           15368,
           12586,
           12233,
           12014,
           11971,
           11945,
           11661,
           11010,
           10189,
           9931,
           9585,
           9106,
           8992,
           8947,
           8062,
           7760,
           7652,
           7305,
           7011,
           6592,
           6522,
           6280,
           5986,
           5420,
           5008,
           4621,
           3904,
           3488,
           3452,
           3427,
           2805,
           2166,
           1930,
           1403,
           747,
           712,
           29,
           10,
           9,
           5
          ],
          "coloraxis": "coloraxis",
          "size": [
           104196861,
           44682784,
           39524311,
           37779833,
           36824580,
           32588442,
           30197066,
           25453789,
           24274361,
           21958696,
           17042722,
           13731478,
           11526508,
           11295446,
           10037135,
           9569611,
           8582500,
           7564350,
           7368252,
           6730289,
           6380225,
           6356309,
           5780229,
           5708301,
           5563907,
           5370131,
           5118981,
           5036593,
           4786189,
           4772813,
           4726984,
           4691499,
           4590019,
           4550256,
           4481621,
           4385701,
           4073454,
           4055966,
           3325006,
           3173247,
           2877280,
           2693458,
           2471198,
           2465545,
           2217110,
           2192447,
           2182355,
           2037556,
           1860893,
           1814180,
           1746997,
           1700253,
           1576313,
           1477856,
           1458619,
           1405917,
           1321852,
           1296865,
           1295426,
           1272240,
           1267580,
           1228639,
           1227853,
           1187986,
           1186176,
           1150356,
           1112438,
           1051239,
           1049409,
           1032710,
           1029701,
           1007871,
           1001102,
           994037,
           975355,
           827962,
           827944,
           806256,
           700452,
           671989,
           662858,
           660095,
           642663,
           633820,
           621008,
           613891,
           598673,
           551587,
           515645,
           507162,
           503302,
           499531,
           492534,
           485895,
           470757,
           446008,
           401384,
           399449,
           346428,
           342810,
           340763,
           334167,
           329227,
           297757,
           286355,
           275220,
           271378,
           266463,
           261606,
           250567,
           231994,
           229687,
           217973,
           208688,
           208545,
           206592,
           201785,
           201394,
           187908,
           185715,
           171112,
           170741,
           170400,
           153407,
           138693,
           133090,
           123993,
           117062,
           106157,
           105184,
           101116,
           98028,
           95514,
           88902,
           88559,
           87982,
           82020,
           79845,
           77957,
           74133,
           72950,
           70660,
           68820,
           67827,
           63742,
           63665,
           63229,
           62605,
           57453,
           53492,
           50665,
           48981,
           47839,
           46750,
           45986,
           43993,
           42664,
           42002,
           41652,
           39354,
           38240,
           38008,
           37491,
           34790,
           34658,
           34076,
           32783,
           31472,
           29803,
           27989,
           27318,
           25375,
           24575,
           23427,
           23415,
           22676,
           22025,
           21340,
           20399,
           19680,
           18766,
           18491,
           18368,
           17786,
           17190,
           16734,
           16087,
           16056,
           15760,
           15690,
           15584,
           15368,
           12586,
           12233,
           12014,
           11971,
           11945,
           11661,
           11010,
           10189,
           9931,
           9585,
           9106,
           8992,
           8947,
           8062,
           7760,
           7652,
           7305,
           7011,
           6592,
           6522,
           6280,
           5986,
           5420,
           5008,
           4621,
           3904,
           3488,
           3452,
           3427,
           2805,
           2166,
           1930,
           1403,
           747,
           712,
           29,
           10,
           9,
           5
          ],
          "sizemode": "area",
          "sizeref": 260492.1525,
          "symbol": "circle"
         },
         "mode": "markers",
         "name": "",
         "showlegend": false,
         "type": "scattergeo"
        }
       ],
       "layout": {
        "autosize": true,
        "coloraxis": {
         "colorbar": {
          "title": {
           "text": "Total Cases"
          }
         },
         "colorscale": [
          [
           0,
           "rgb(243, 203, 211)"
          ],
          [
           0.16666666666666666,
           "rgb(234, 169, 189)"
          ],
          [
           0.3333333333333333,
           "rgb(221, 136, 172)"
          ],
          [
           0.5,
           "rgb(202, 105, 157)"
          ],
          [
           0.6666666666666666,
           "rgb(177, 77, 142)"
          ],
          [
           0.8333333333333334,
           "rgb(145, 53, 125)"
          ],
          [
           1,
           "rgb(108, 33, 103)"
          ]
         ]
        },
        "geo": {
         "center": {},
         "domain": {
          "x": [
           0,
           1
          ],
          "y": [
           0,
           1
          ]
         }
        },
        "legend": {
         "itemsizing": "constant",
         "tracegroupgap": 0
        },
        "template": {
         "data": {
          "bar": [
           {
            "error_x": {
             "color": "#2a3f5f"
            },
            "error_y": {
             "color": "#2a3f5f"
            },
            "marker": {
             "line": {
              "color": "#E5ECF6",
              "width": 0.5
             },
             "pattern": {
              "fillmode": "overlay",
              "size": 10,
              "solidity": 0.2
             }
            },
            "type": "bar"
           }
          ],
          "barpolar": [
           {
            "marker": {
             "line": {
              "color": "#E5ECF6",
              "width": 0.5
             },
             "pattern": {
              "fillmode": "overlay",
              "size": 10,
              "solidity": 0.2
             }
            },
            "type": "barpolar"
           }
          ],
          "carpet": [
           {
            "aaxis": {
             "endlinecolor": "#2a3f5f",
             "gridcolor": "white",
             "linecolor": "white",
             "minorgridcolor": "white",
             "startlinecolor": "#2a3f5f"
            },
            "baxis": {
             "endlinecolor": "#2a3f5f",
             "gridcolor": "white",
             "linecolor": "white",
             "minorgridcolor": "white",
             "startlinecolor": "#2a3f5f"
            },
            "type": "carpet"
           }
          ],
          "choropleth": [
           {
            "colorbar": {
             "outlinewidth": 0,
             "ticks": ""
            },
            "type": "choropleth"
           }
          ],
          "contour": [
           {
            "colorbar": {
             "outlinewidth": 0,
             "ticks": ""
            },
            "colorscale": [
             [
              0,
              "#0d0887"
             ],
             [
              0.1111111111111111,
              "#46039f"
             ],
             [
              0.2222222222222222,
              "#7201a8"
             ],
             [
              0.3333333333333333,
              "#9c179e"
             ],
             [
              0.4444444444444444,
              "#bd3786"
             ],
             [
              0.5555555555555556,
              "#d8576b"
             ],
             [
              0.6666666666666666,
              "#ed7953"
             ],
             [
              0.7777777777777778,
              "#fb9f3a"
             ],
             [
              0.8888888888888888,
              "#fdca26"
             ],
             [
              1,
              "#f0f921"
             ]
            ],
            "type": "contour"
           }
          ],
          "contourcarpet": [
           {
            "colorbar": {
             "outlinewidth": 0,
             "ticks": ""
            },
            "type": "contourcarpet"
           }
          ],
          "heatmap": [
           {
            "colorbar": {
             "outlinewidth": 0,
             "ticks": ""
            },
            "colorscale": [
             [
              0,
              "#0d0887"
             ],
             [
              0.1111111111111111,
              "#46039f"
             ],
             [
              0.2222222222222222,
              "#7201a8"
             ],
             [
              0.3333333333333333,
              "#9c179e"
             ],
             [
              0.4444444444444444,
              "#bd3786"
             ],
             [
              0.5555555555555556,
              "#d8576b"
             ],
             [
              0.6666666666666666,
              "#ed7953"
             ],
             [
              0.7777777777777778,
              "#fb9f3a"
             ],
             [
              0.8888888888888888,
              "#fdca26"
             ],
             [
              1,
              "#f0f921"
             ]
            ],
            "type": "heatmap"
           }
          ],
          "heatmapgl": [
           {
            "colorbar": {
             "outlinewidth": 0,
             "ticks": ""
            },
            "colorscale": [
             [
              0,
              "#0d0887"
             ],
             [
              0.1111111111111111,
              "#46039f"
             ],
             [
              0.2222222222222222,
              "#7201a8"
             ],
             [
              0.3333333333333333,
              "#9c179e"
             ],
             [
              0.4444444444444444,
              "#bd3786"
             ],
             [
              0.5555555555555556,
              "#d8576b"
             ],
             [
              0.6666666666666666,
              "#ed7953"
             ],
             [
              0.7777777777777778,
              "#fb9f3a"
             ],
             [
              0.8888888888888888,
              "#fdca26"
             ],
             [
              1,
              "#f0f921"
             ]
            ],
            "type": "heatmapgl"
           }
          ],
          "histogram": [
           {
            "marker": {
             "pattern": {
              "fillmode": "overlay",
              "size": 10,
              "solidity": 0.2
             }
            },
            "type": "histogram"
           }
          ],
          "histogram2d": [
           {
            "colorbar": {
             "outlinewidth": 0,
             "ticks": ""
            },
            "colorscale": [
             [
              0,
              "#0d0887"
             ],
             [
              0.1111111111111111,
              "#46039f"
             ],
             [
              0.2222222222222222,
              "#7201a8"
             ],
             [
              0.3333333333333333,
              "#9c179e"
             ],
             [
              0.4444444444444444,
              "#bd3786"
             ],
             [
              0.5555555555555556,
              "#d8576b"
             ],
             [
              0.6666666666666666,
              "#ed7953"
             ],
             [
              0.7777777777777778,
              "#fb9f3a"
             ],
             [
              0.8888888888888888,
              "#fdca26"
             ],
             [
              1,
              "#f0f921"
             ]
            ],
            "type": "histogram2d"
           }
          ],
          "histogram2dcontour": [
           {
            "colorbar": {
             "outlinewidth": 0,
             "ticks": ""
            },
            "colorscale": [
             [
              0,
              "#0d0887"
             ],
             [
              0.1111111111111111,
              "#46039f"
             ],
             [
              0.2222222222222222,
              "#7201a8"
             ],
             [
              0.3333333333333333,
              "#9c179e"
             ],
             [
              0.4444444444444444,
              "#bd3786"
             ],
             [
              0.5555555555555556,
              "#d8576b"
             ],
             [
              0.6666666666666666,
              "#ed7953"
             ],
             [
              0.7777777777777778,
              "#fb9f3a"
             ],
             [
              0.8888888888888888,
              "#fdca26"
             ],
             [
              1,
              "#f0f921"
             ]
            ],
            "type": "histogram2dcontour"
           }
          ],
          "mesh3d": [
           {
            "colorbar": {
             "outlinewidth": 0,
             "ticks": ""
            },
            "type": "mesh3d"
           }
          ],
          "parcoords": [
           {
            "line": {
             "colorbar": {
              "outlinewidth": 0,
              "ticks": ""
             }
            },
            "type": "parcoords"
           }
          ],
          "pie": [
           {
            "automargin": true,
            "type": "pie"
           }
          ],
          "scatter": [
           {
            "fillpattern": {
             "fillmode": "overlay",
             "size": 10,
             "solidity": 0.2
            },
            "type": "scatter"
           }
          ],
          "scatter3d": [
           {
            "line": {
             "colorbar": {
              "outlinewidth": 0,
              "ticks": ""
             }
            },
            "marker": {
             "colorbar": {
              "outlinewidth": 0,
              "ticks": ""
             }
            },
            "type": "scatter3d"
           }
          ],
          "scattercarpet": [
           {
            "marker": {
             "colorbar": {
              "outlinewidth": 0,
              "ticks": ""
             }
            },
            "type": "scattercarpet"
           }
          ],
          "scattergeo": [
           {
            "marker": {
             "colorbar": {
              "outlinewidth": 0,
              "ticks": ""
             }
            },
            "type": "scattergeo"
           }
          ],
          "scattergl": [
           {
            "marker": {
             "colorbar": {
              "outlinewidth": 0,
              "ticks": ""
             }
            },
            "type": "scattergl"
           }
          ],
          "scattermapbox": [
           {
            "marker": {
             "colorbar": {
              "outlinewidth": 0,
              "ticks": ""
             }
            },
            "type": "scattermapbox"
           }
          ],
          "scatterpolar": [
           {
            "marker": {
             "colorbar": {
              "outlinewidth": 0,
              "ticks": ""
             }
            },
            "type": "scatterpolar"
           }
          ],
          "scatterpolargl": [
           {
            "marker": {
             "colorbar": {
              "outlinewidth": 0,
              "ticks": ""
             }
            },
            "type": "scatterpolargl"
           }
          ],
          "scatterternary": [
           {
            "marker": {
             "colorbar": {
              "outlinewidth": 0,
              "ticks": ""
             }
            },
            "type": "scatterternary"
           }
          ],
          "surface": [
           {
            "colorbar": {
             "outlinewidth": 0,
             "ticks": ""
            },
            "colorscale": [
             [
              0,
              "#0d0887"
             ],
             [
              0.1111111111111111,
              "#46039f"
             ],
             [
              0.2222222222222222,
              "#7201a8"
             ],
             [
              0.3333333333333333,
              "#9c179e"
             ],
             [
              0.4444444444444444,
              "#bd3786"
             ],
             [
              0.5555555555555556,
              "#d8576b"
             ],
             [
              0.6666666666666666,
              "#ed7953"
             ],
             [
              0.7777777777777778,
              "#fb9f3a"
             ],
             [
              0.8888888888888888,
              "#fdca26"
             ],
             [
              1,
              "#f0f921"
             ]
            ],
            "type": "surface"
           }
          ],
          "table": [
           {
            "cells": {
             "fill": {
              "color": "#EBF0F8"
             },
             "line": {
              "color": "white"
             }
            },
            "header": {
             "fill": {
              "color": "#C8D4E3"
             },
             "line": {
              "color": "white"
             }
            },
            "type": "table"
           }
          ]
         },
         "layout": {
          "annotationdefaults": {
           "arrowcolor": "#2a3f5f",
           "arrowhead": 0,
           "arrowwidth": 1
          },
          "autotypenumbers": "strict",
          "coloraxis": {
           "colorbar": {
            "outlinewidth": 0,
            "ticks": ""
           }
          },
          "colorscale": {
           "diverging": [
            [
             0,
             "#8e0152"
            ],
            [
             0.1,
             "#c51b7d"
            ],
            [
             0.2,
             "#de77ae"
            ],
            [
             0.3,
             "#f1b6da"
            ],
            [
             0.4,
             "#fde0ef"
            ],
            [
             0.5,
             "#f7f7f7"
            ],
            [
             0.6,
             "#e6f5d0"
            ],
            [
             0.7,
             "#b8e186"
            ],
            [
             0.8,
             "#7fbc41"
            ],
            [
             0.9,
             "#4d9221"
            ],
            [
             1,
             "#276419"
            ]
           ],
           "sequential": [
            [
             0,
             "#0d0887"
            ],
            [
             0.1111111111111111,
             "#46039f"
            ],
            [
             0.2222222222222222,
             "#7201a8"
            ],
            [
             0.3333333333333333,
             "#9c179e"
            ],
            [
             0.4444444444444444,
             "#bd3786"
            ],
            [
             0.5555555555555556,
             "#d8576b"
            ],
            [
             0.6666666666666666,
             "#ed7953"
            ],
            [
             0.7777777777777778,
             "#fb9f3a"
            ],
            [
             0.8888888888888888,
             "#fdca26"
            ],
            [
             1,
             "#f0f921"
            ]
           ],
           "sequentialminus": [
            [
             0,
             "#0d0887"
            ],
            [
             0.1111111111111111,
             "#46039f"
            ],
            [
             0.2222222222222222,
             "#7201a8"
            ],
            [
             0.3333333333333333,
             "#9c179e"
            ],
            [
             0.4444444444444444,
             "#bd3786"
            ],
            [
             0.5555555555555556,
             "#d8576b"
            ],
            [
             0.6666666666666666,
             "#ed7953"
            ],
            [
             0.7777777777777778,
             "#fb9f3a"
            ],
            [
             0.8888888888888888,
             "#fdca26"
            ],
            [
             1,
             "#f0f921"
            ]
           ]
          },
          "colorway": [
           "#636efa",
           "#EF553B",
           "#00cc96",
           "#ab63fa",
           "#FFA15A",
           "#19d3f3",
           "#FF6692",
           "#B6E880",
           "#FF97FF",
           "#FECB52"
          ],
          "font": {
           "color": "#2a3f5f"
          },
          "geo": {
           "bgcolor": "white",
           "lakecolor": "white",
           "landcolor": "#E5ECF6",
           "showlakes": true,
           "showland": true,
           "subunitcolor": "white"
          },
          "hoverlabel": {
           "align": "left"
          },
          "hovermode": "closest",
          "mapbox": {
           "style": "light"
          },
          "paper_bgcolor": "white",
          "plot_bgcolor": "#E5ECF6",
          "polar": {
           "angularaxis": {
            "gridcolor": "white",
            "linecolor": "white",
            "ticks": ""
           },
           "bgcolor": "#E5ECF6",
           "radialaxis": {
            "gridcolor": "white",
            "linecolor": "white",
            "ticks": ""
           }
          },
          "scene": {
           "xaxis": {
            "backgroundcolor": "#E5ECF6",
            "gridcolor": "white",
            "gridwidth": 2,
            "linecolor": "white",
            "showbackground": true,
            "ticks": "",
            "zerolinecolor": "white"
           },
           "yaxis": {
            "backgroundcolor": "#E5ECF6",
            "gridcolor": "white",
            "gridwidth": 2,
            "linecolor": "white",
            "showbackground": true,
            "ticks": "",
            "zerolinecolor": "white"
           },
           "zaxis": {
            "backgroundcolor": "#E5ECF6",
            "gridcolor": "white",
            "gridwidth": 2,
            "linecolor": "white",
            "showbackground": true,
            "ticks": "",
            "zerolinecolor": "white"
           }
          },
          "shapedefaults": {
           "line": {
            "color": "#2a3f5f"
           }
          },
          "ternary": {
           "aaxis": {
            "gridcolor": "white",
            "linecolor": "white",
            "ticks": ""
           },
           "baxis": {
            "gridcolor": "white",
            "linecolor": "white",
            "ticks": ""
           },
           "bgcolor": "#E5ECF6",
           "caxis": {
            "gridcolor": "white",
            "linecolor": "white",
            "ticks": ""
           }
          },
          "title": {
           "x": 0.05
          },
          "xaxis": {
           "automargin": true,
           "gridcolor": "white",
           "linecolor": "white",
           "ticks": "",
           "title": {
            "standoff": 15
           },
           "zerolinecolor": "white",
           "zerolinewidth": 2
          },
          "yaxis": {
           "automargin": true,
           "gridcolor": "white",
           "linecolor": "white",
           "ticks": "",
           "title": {
            "standoff": 15
           },
           "zerolinecolor": "white",
           "zerolinewidth": 2
          }
         }
        },
        "title": {
         "text": "Total Cases"
        }
       }
      },
      "image/png": "[encoded data removed]",
      "text/html": [
       "<div>                            <div id=\"1bebe798-7bd4-4de7-b0e0-d3f1a6413534\" class=\"plotly-graph-div\" style=\"height:525px; width:100%;\"></div>            <script type=\"text/javascript\">                require([\"plotly\"], function(Plotly) {                    window.PLOTLYENV=window.PLOTLYENV || {};                                    if (document.getElementById(\"1bebe798-7bd4-4de7-b0e0-d3f1a6413534\")) {                    Plotly.newPlot(                        \"1bebe798-7bd4-4de7-b0e0-d3f1a6413534\",                        [{\"geo\":\"geo\",\"hovertemplate\":\"Total Cases=%{marker.color}<br>Country=%{location}<extra></extra>\",\"legendgroup\":\"\",\"locationmode\":\"country names\",\"locations\":[\"USA\",\"India\",\"France\",\"Germany\",\"Brazil\",\"Japan\",\"S. Korea\",\"Italy\",\"UK\",\"Russia\",\"Turkey\",\"Spain\",\"Vietnam\",\"Australia\",\"Argentina\",\"Taiwan\",\"Netherlands\",\"Iran\",\"Mexico\",\"Indonesia\",\"Poland\",\"Colombia\",\"Austria\",\"Greece\",\"Portugal\",\"Ukraine\",\"Chile\",\"Malaysia\",\"Israel\",\"DPRK\",\"Thailand\",\"Belgium\",\"Czechia\",\"Canada\",\"Peru\",\"Switzerland\",\"Philippines\",\"South Africa\",\"Romania\",\"Denmark\",\"Hong Kong\",\"Sweden\",\"Serbia\",\"Iraq\",\"Singapore\",\"Hungary\",\"New Zealand\",\"Bangladesh\",\"Slovakia\",\"Georgia\",\"Jordan\",\"Ireland\",\"Pakistan\",\"Norway\",\"Finland\",\"Kazakhstan\",\"Slovenia\",\"Lithuania\",\"Bulgaria\",\"Morocco\",\"Croatia\",\"Lebanon\",\"Guatemala\",\"Bolivia\",\"Costa Rica\",\"Tunisia\",\"Cuba\",\"Ecuador\",\"UAE\",\"Uruguay\",\"Panama\",\"Mongolia\",\"Nepal\",\"Belarus\",\"Latvia\",\"Saudi Arabia\",\"Azerbaijan\",\"Paraguay\",\"Bahrain\",\"Sri Lanka\",\"Kuwait\",\"Dominican Republic\",\"Cyprus\",\"Myanmar\",\"Palestine\",\"Estonia\",\"Moldova\",\"Venezuela\",\"Egypt\",\"Libya\",\"China\",\"Ethiopia\",\"Qatar\",\"R\\u00e9union\",\"Honduras\",\"Armenia\",\"Bosnia and Herzegovina\",\"Oman\",\"North Macedonia\",\"Kenya\",\"Zambia\",\"Albania\",\"Botswana\",\"Luxembourg\",\"Montenegro\",\"Brunei\",\"Algeria\",\"Nigeria\",\"Zimbabwe\",\"Uzbekistan\",\"Mozambique\",\"Martinique\",\"Laos\",\"Iceland\",\"Afghanistan\",\"Kyrgyzstan\",\"El Salvador\",\"Guadeloupe\",\"Trinidad and Tobago\",\"Maldives\",\"Ghana\",\"Namibia\",\"Uganda\",\"Jamaica\",\"Cambodia\",\"Rwanda\",\"Cameroon\",\"Malta\",\"Barbados\",\"Angola\",\"Channel Islands\",\"French Guiana\",\"DRC\",\"Senegal\",\"Malawi\",\"Ivory Coast\",\"Suriname\",\"New Caledonia\",\"French Polynesia\",\"Eswatini\",\"Guyana\",\"Belize\",\"Fiji\",\"Madagascar\",\"Sudan\",\"Mauritania\",\"Cabo Verde\",\"Bhutan\",\"Syria\",\"Burundi\",\"Seychelles\",\"Gabon\",\"Andorra\",\"Papua New Guinea\",\"Cura\\u00e7ao\",\"Aruba\",\"Tanzania\",\"Mayotte\",\"Mauritius\",\"Togo\",\"Guinea\",\"Isle of Man\",\"Bahamas\",\"Lesotho\",\"Faeroe Islands\",\"Haiti\",\"Mali\",\"Cayman Islands\",\"Saint Lucia\",\"Benin\",\"Somalia\",\"Congo\",\"Solomon Islands\",\"San Marino\",\"Timor-Leste\",\"Micronesia\",\"Burkina Faso\",\"Liechtenstein\",\"Gibraltar\",\"Grenada\",\"Bermuda\",\"Nicaragua\",\"South Sudan\",\"Tajikistan\",\"Equatorial Guinea\",\"Tonga\",\"Samoa\",\"Monaco\",\"Dominica\",\"Djibouti\",\"Marshall Islands\",\"CAR\",\"Gambia\",\"Saint Martin\",\"Vanuatu\",\"Greenland\",\"Yemen\",\"Caribbean Netherlands\",\"Sint Maarten\",\"Eritrea\",\"Niger\",\"St. Vincent Grenadines\",\"Antigua and Barbuda\",\"Comoros\",\"Guinea-Bissau\",\"Liberia\",\"Sierra Leone\",\"Chad\",\"British Virgin Islands\",\"Cook Islands\",\"Saint Kitts and Nevis\",\"Turks and Caicos\",\"Sao Tome and Principe\",\"Palau\",\"St. Barth\",\"Kiribati\",\"Nauru\",\"Anguilla\",\"Macao\",\"Saint Pierre Miquelon\",\"Wallis and Futuna\",\"Tuvalu\",\"Saint Helena\",\"Falkland Islands\",\"Montserrat\",\"Niue\",\"Diamond Princess\",\"Vatican City\",\"Western Sahara\",\"MS Zaandam\",\"Tokelau\"],\"marker\":{\"color\":[104196861,44682784,39524311,37779833,36824580,32588442,30197066,25453789,24274361,21958696,17042722,13731478,11526508,11295446,10037135,9569611,8582500,7564350,7368252,6730289,6380225,6356309,5780229,5708301,5563907,5370131,5118981,5036593,4786189,4772813,4726984,4691499,4590019,4550256,4481621,4385701,4073454,4055966,3325006,3173247,2877280,2693458,2471198,2465545,2217110,2192447,2182355,2037556,1860893,1814180,1746997,1700253,1576313,1477856,1458619,1405917,1321852,1296865,1295426,1272240,1267580,1228639,1227853,1187986,1186176,1150356,1112438,1051239,1049409,1032710,1029701,1007871,1001102,994037,975355,827962,827944,806256,700452,671989,662858,660095,642663,633820,621008,613891,598673,551587,515645,507162,503302,499531,492534,485895,470757,446008,401384,399449,346428,342810,340763,334167,329227,297757,286355,275220,271378,266463,261606,250567,231994,229687,217973,208688,208545,206592,201785,201394,187908,185715,171112,170741,170400,153407,138693,133090,123993,117062,106157,105184,101116,98028,95514,88902,88559,87982,82020,79845,77957,74133,72950,70660,68820,67827,63742,63665,63229,62605,57453,53492,50665,48981,47839,46750,45986,43993,42664,42002,41652,39354,38240,38008,37491,34790,34658,34076,32783,31472,29803,27989,27318,25375,24575,23427,23415,22676,22025,21340,20399,19680,18766,18491,18368,17786,17190,16734,16087,16056,15760,15690,15584,15368,12586,12233,12014,11971,11945,11661,11010,10189,9931,9585,9106,8992,8947,8062,7760,7652,7305,7011,6592,6522,6280,5986,5420,5008,4621,3904,3488,3452,3427,2805,2166,1930,1403,747,712,29,10,9,5],\"coloraxis\":\"coloraxis\",\"size\":[104196861,44682784,39524311,37779833,36824580,32588442,30197066,25453789,24274361,21958696,17042722,13731478,11526508,11295446,10037135,9569611,8582500,7564350,7368252,6730289,6380225,6356309,5780229,5708301,5563907,5370131,5118981,5036593,4786189,4772813,4726984,4691499,4590019,4550256,4481621,4385701,4073454,4055966,3325006,3173247,2877280,2693458,2471198,2465545,2217110,2192447,2182355,2037556,1860893,1814180,1746997,1700253,1576313,1477856,1458619,1405917,1321852,1296865,1295426,1272240,1267580,1228639,1227853,1187986,1186176,1150356,1112438,1051239,1049409,1032710,1029701,1007871,1001102,994037,975355,827962,827944,806256,700452,671989,662858,660095,642663,633820,621008,613891,598673,551587,515645,507162,503302,499531,492534,485895,470757,446008,401384,399449,346428,342810,340763,334167,329227,297757,286355,275220,271378,266463,261606,250567,231994,229687,217973,208688,208545,206592,201785,201394,187908,185715,171112,170741,170400,153407,138693,133090,123993,117062,106157,105184,101116,98028,95514,88902,88559,87982,82020,79845,77957,74133,72950,70660,68820,67827,63742,63665,63229,62605,57453,53492,50665,48981,47839,46750,45986,43993,42664,42002,41652,39354,38240,38008,37491,34790,34658,34076,32783,31472,29803,27989,27318,25375,24575,23427,23415,22676,22025,21340,20399,19680,18766,18491,18368,17786,17190,16734,16087,16056,15760,15690,15584,15368,12586,12233,12014,11971,11945,11661,11010,10189,9931,9585,9106,8992,8947,8062,7760,7652,7305,7011,6592,6522,6280,5986,5420,5008,4621,3904,3488,3452,3427,2805,2166,1930,1403,747,712,29,10,9,5],\"sizemode\":\"area\",\"sizeref\":260492.1525,\"symbol\":\"circle\"},\"mode\":\"markers\",\"name\":\"\",\"showlegend\":false,\"type\":\"scattergeo\"}],                        {\"template\":{\"data\":{\"histogram2dcontour\":[{\"type\":\"histogram2dcontour\",\"colorbar\":{\"outlinewidth\":0,\"ticks\":\"\"},\"colorscale\":[[0.0,\"#0d0887\"],[0.1111111111111111,\"#46039f\"],[0.2222222222222222,\"#7201a8\"],[0.3333333333333333,\"#9c179e\"],[0.4444444444444444,\"#bd3786\"],[0.5555555555555556,\"#d8576b\"],[0.6666666666666666,\"#ed7953\"],[0.7777777777777778,\"#fb9f3a\"],[0.8888888888888888,\"#fdca26\"],[1.0,\"#f0f921\"]]}],\"choropleth\":[{\"type\":\"choropleth\",\"colorbar\":{\"outlinewidth\":0,\"ticks\":\"\"}}],\"histogram2d\":[{\"type\":\"histogram2d\",\"colorbar\":{\"outlinewidth\":0,\"ticks\":\"\"},\"colorscale\":[[0.0,\"#0d0887\"],[0.1111111111111111,\"#46039f\"],[0.2222222222222222,\"#7201a8\"],[0.3333333333333333,\"#9c179e\"],[0.4444444444444444,\"#bd3786\"],[0.5555555555555556,\"#d8576b\"],[0.6666666666666666,\"#ed7953\"],[0.7777777777777778,\"#fb9f3a\"],[0.8888888888888888,\"#fdca26\"],[1.0,\"#f0f921\"]]}],\"heatmap\":[{\"type\":\"heatmap\",\"colorbar\":{\"outlinewidth\":0,\"ticks\":\"\"},\"colorscale\":[[0.0,\"#0d0887\"],[0.1111111111111111,\"#46039f\"],[0.2222222222222222,\"#7201a8\"],[0.3333333333333333,\"#9c179e\"],[0.4444444444444444,\"#bd3786\"],[0.5555555555555556,\"#d8576b\"],[0.6666666666666666,\"#ed7953\"],[0.7777777777777778,\"#fb9f3a\"],[0.8888888888888888,\"#fdca26\"],[1.0,\"#f0f921\"]]}],\"heatmapgl\":[{\"type\":\"heatmapgl\",\"colorbar\":{\"outlinewidth\":0,\"ticks\":\"\"},\"colorscale\":[[0.0,\"#0d0887\"],[0.1111111111111111,\"#46039f\"],[0.2222222222222222,\"#7201a8\"],[0.3333333333333333,\"#9c179e\"],[0.4444444444444444,\"#bd3786\"],[0.5555555555555556,\"#d8576b\"],[0.6666666666666666,\"#ed7953\"],[0.7777777777777778,\"#fb9f3a\"],[0.8888888888888888,\"#fdca26\"],[1.0,\"#f0f921\"]]}],\"contourcarpet\":[{\"type\":\"contourcarpet\",\"colorbar\":{\"outlinewidth\":0,\"ticks\":\"\"}}],\"contour\":[{\"type\":\"contour\",\"colorbar\":{\"outlinewidth\":0,\"ticks\":\"\"},\"colorscale\":[[0.0,\"#0d0887\"],[0.1111111111111111,\"#46039f\"],[0.2222222222222222,\"#7201a8\"],[0.3333333333333333,\"#9c179e\"],[0.4444444444444444,\"#bd3786\"],[0.5555555555555556,\"#d8576b\"],[0.6666666666666666,\"#ed7953\"],[0.7777777777777778,\"#fb9f3a\"],[0.8888888888888888,\"#fdca26\"],[1.0,\"#f0f921\"]]}],\"surface\":[{\"type\":\"surface\",\"colorbar\":{\"outlinewidth\":0,\"ticks\":\"\"},\"colorscale\":[[0.0,\"#0d0887\"],[0.1111111111111111,\"#46039f\"],[0.2222222222222222,\"#7201a8\"],[0.3333333333333333,\"#9c179e\"],[0.4444444444444444,\"#bd3786\"],[0.5555555555555556,\"#d8576b\"],[0.6666666666666666,\"#ed7953\"],[0.7777777777777778,\"#fb9f3a\"],[0.8888888888888888,\"#fdca26\"],[1.0,\"#f0f921\"]]}],\"mesh3d\":[{\"type\":\"mesh3d\",\"colorbar\":{\"outlinewidth\":0,\"ticks\":\"\"}}],\"scatter\":[{\"fillpattern\":{\"fillmode\":\"overlay\",\"size\":10,\"solidity\":0.2},\"type\":\"scatter\"}],\"parcoords\":[{\"type\":\"parcoords\",\"line\":{\"colorbar\":{\"outlinewidth\":0,\"ticks\":\"\"}}}],\"scatterpolargl\":[{\"type\":\"scatterpolargl\",\"marker\":{\"colorbar\":{\"outlinewidth\":0,\"ticks\":\"\"}}}],\"bar\":[{\"error_x\":{\"color\":\"#2a3f5f\"},\"error_y\":{\"color\":\"#2a3f5f\"},\"marker\":{\"line\":{\"color\":\"#E5ECF6\",\"width\":0.5},\"pattern\":{\"fillmode\":\"overlay\",\"size\":10,\"solidity\":0.2}},\"type\":\"bar\"}],\"scattergeo\":[{\"type\":\"scattergeo\",\"marker\":{\"colorbar\":{\"outlinewidth\":0,\"ticks\":\"\"}}}],\"scatterpolar\":[{\"type\":\"scatterpolar\",\"marker\":{\"colorbar\":{\"outlinewidth\":0,\"ticks\":\"\"}}}],\"histogram\":[{\"marker\":{\"pattern\":{\"fillmode\":\"overlay\",\"size\":10,\"solidity\":0.2}},\"type\":\"histogram\"}],\"scattergl\":[{\"type\":\"scattergl\",\"marker\":{\"colorbar\":{\"outlinewidth\":0,\"ticks\":\"\"}}}],\"scatter3d\":[{\"type\":\"scatter3d\",\"line\":{\"colorbar\":{\"outlinewidth\":0,\"ticks\":\"\"}},\"marker\":{\"colorbar\":{\"outlinewidth\":0,\"ticks\":\"\"}}}],\"scattermapbox\":[{\"type\":\"scattermapbox\",\"marker\":{\"colorbar\":{\"outlinewidth\":0,\"ticks\":\"\"}}}],\"scatterternary\":[{\"type\":\"scatterternary\",\"marker\":{\"colorbar\":{\"outlinewidth\":0,\"ticks\":\"\"}}}],\"scattercarpet\":[{\"type\":\"scattercarpet\",\"marker\":{\"colorbar\":{\"outlinewidth\":0,\"ticks\":\"\"}}}],\"carpet\":[{\"aaxis\":{\"endlinecolor\":\"#2a3f5f\",\"gridcolor\":\"white\",\"linecolor\":\"white\",\"minorgridcolor\":\"white\",\"startlinecolor\":\"#2a3f5f\"},\"baxis\":{\"endlinecolor\":\"#2a3f5f\",\"gridcolor\":\"white\",\"linecolor\":\"white\",\"minorgridcolor\":\"white\",\"startlinecolor\":\"#2a3f5f\"},\"type\":\"carpet\"}],\"table\":[{\"cells\":{\"fill\":{\"color\":\"#EBF0F8\"},\"line\":{\"color\":\"white\"}},\"header\":{\"fill\":{\"color\":\"#C8D4E3\"},\"line\":{\"color\":\"white\"}},\"type\":\"table\"}],\"barpolar\":[{\"marker\":{\"line\":{\"color\":\"#E5ECF6\",\"width\":0.5},\"pattern\":{\"fillmode\":\"overlay\",\"size\":10,\"solidity\":0.2}},\"type\":\"barpolar\"}],\"pie\":[{\"automargin\":true,\"type\":\"pie\"}]},\"layout\":{\"autotypenumbers\":\"strict\",\"colorway\":[\"#636efa\",\"#EF553B\",\"#00cc96\",\"#ab63fa\",\"#FFA15A\",\"#19d3f3\",\"#FF6692\",\"#B6E880\",\"#FF97FF\",\"#FECB52\"],\"font\":{\"color\":\"#2a3f5f\"},\"hovermode\":\"closest\",\"hoverlabel\":{\"align\":\"left\"},\"paper_bgcolor\":\"white\",\"plot_bgcolor\":\"#E5ECF6\",\"polar\":{\"bgcolor\":\"#E5ECF6\",\"angularaxis\":{\"gridcolor\":\"white\",\"linecolor\":\"white\",\"ticks\":\"\"},\"radialaxis\":{\"gridcolor\":\"white\",\"linecolor\":\"white\",\"ticks\":\"\"}},\"ternary\":{\"bgcolor\":\"#E5ECF6\",\"aaxis\":{\"gridcolor\":\"white\",\"linecolor\":\"white\",\"ticks\":\"\"},\"baxis\":{\"gridcolor\":\"white\",\"linecolor\":\"white\",\"ticks\":\"\"},\"caxis\":{\"gridcolor\":\"white\",\"linecolor\":\"white\",\"ticks\":\"\"}},\"coloraxis\":{\"colorbar\":{\"outlinewidth\":0,\"ticks\":\"\"}},\"colorscale\":{\"sequential\":[[0.0,\"#0d0887\"],[0.1111111111111111,\"#46039f\"],[0.2222222222222222,\"#7201a8\"],[0.3333333333333333,\"#9c179e\"],[0.4444444444444444,\"#bd3786\"],[0.5555555555555556,\"#d8576b\"],[0.6666666666666666,\"#ed7953\"],[0.7777777777777778,\"#fb9f3a\"],[0.8888888888888888,\"#fdca26\"],[1.0,\"#f0f921\"]],\"sequentialminus\":[[0.0,\"#0d0887\"],[0.1111111111111111,\"#46039f\"],[0.2222222222222222,\"#7201a8\"],[0.3333333333333333,\"#9c179e\"],[0.4444444444444444,\"#bd3786\"],[0.5555555555555556,\"#d8576b\"],[0.6666666666666666,\"#ed7953\"],[0.7777777777777778,\"#fb9f3a\"],[0.8888888888888888,\"#fdca26\"],[1.0,\"#f0f921\"]],\"diverging\":[[0,\"#8e0152\"],[0.1,\"#c51b7d\"],[0.2,\"#de77ae\"],[0.3,\"#f1b6da\"],[0.4,\"#fde0ef\"],[0.5,\"#f7f7f7\"],[0.6,\"#e6f5d0\"],[0.7,\"#b8e186\"],[0.8,\"#7fbc41\"],[0.9,\"#4d9221\"],[1,\"#276419\"]]},\"xaxis\":{\"gridcolor\":\"white\",\"linecolor\":\"white\",\"ticks\":\"\",\"title\":{\"standoff\":15},\"zerolinecolor\":\"white\",\"automargin\":true,\"zerolinewidth\":2},\"yaxis\":{\"gridcolor\":\"white\",\"linecolor\":\"white\",\"ticks\":\"\",\"title\":{\"standoff\":15},\"zerolinecolor\":\"white\",\"automargin\":true,\"zerolinewidth\":2},\"scene\":{\"xaxis\":{\"backgroundcolor\":\"#E5ECF6\",\"gridcolor\":\"white\",\"linecolor\":\"white\",\"showbackground\":true,\"ticks\":\"\",\"zerolinecolor\":\"white\",\"gridwidth\":2},\"yaxis\":{\"backgroundcolor\":\"#E5ECF6\",\"gridcolor\":\"white\",\"linecolor\":\"white\",\"showbackground\":true,\"ticks\":\"\",\"zerolinecolor\":\"white\",\"gridwidth\":2},\"zaxis\":{\"backgroundcolor\":\"#E5ECF6\",\"gridcolor\":\"white\",\"linecolor\":\"white\",\"showbackground\":true,\"ticks\":\"\",\"zerolinecolor\":\"white\",\"gridwidth\":2}},\"shapedefaults\":{\"line\":{\"color\":\"#2a3f5f\"}},\"annotationdefaults\":{\"arrowcolor\":\"#2a3f5f\",\"arrowhead\":0,\"arrowwidth\":1},\"geo\":{\"bgcolor\":\"white\",\"landcolor\":\"#E5ECF6\",\"subunitcolor\":\"white\",\"showland\":true,\"showlakes\":true,\"lakecolor\":\"white\"},\"title\":{\"x\":0.05},\"mapbox\":{\"style\":\"light\"}}},\"geo\":{\"domain\":{\"x\":[0.0,1.0],\"y\":[0.0,1.0]},\"center\":{}},\"coloraxis\":{\"colorbar\":{\"title\":{\"text\":\"Total Cases\"}},\"colorscale\":[[0.0,\"rgb(243, 203, 211)\"],[0.16666666666666666,\"rgb(234, 169, 189)\"],[0.3333333333333333,\"rgb(221, 136, 172)\"],[0.5,\"rgb(202, 105, 157)\"],[0.6666666666666666,\"rgb(177, 77, 142)\"],[0.8333333333333334,\"rgb(145, 53, 125)\"],[1.0,\"rgb(108, 33, 103)\"]]},\"legend\":{\"tracegroupgap\":0,\"itemsizing\":\"constant\"},\"title\":{\"text\":\"Total Cases\"}},                        {\"responsive\": true}                    ).then(function(){\n",
       "                            \n",
       "var gd = document.getElementById('1bebe798-7bd4-4de7-b0e0-d3f1a6413534');\n",
       "var x = new MutationObserver(function (mutations, observer) {{\n",
       "        var display = window.getComputedStyle(gd).display;\n",
       "        if (!display || display === 'none') {{\n",
       "            console.log([gd, 'removed!']);\n",
       "            Plotly.purge(gd);\n",
       "            observer.disconnect();\n",
       "        }}\n",
       "}});\n",
       "\n",
       "// Listen for the removal of the full notebook cells\n",
       "var notebookContainer = gd.closest('#notebook-container');\n",
       "if (notebookContainer) {{\n",
       "    x.observe(notebookContainer, {childList: true});\n",
       "}}\n",
       "\n",
       "// Listen for the clearing of the current output cell\n",
       "var outputEl = gd.closest('.output');\n",
       "if (outputEl) {{\n",
       "    x.observe(outputEl, {childList: true});\n",
       "}}\n",
       "\n",
       "                        })                };                });            </script>        </div>"
      ]
     },
     "metadata": {},
     "output_type": "display_data"
    }
   ],
   "source": [
    "plot = px.scatter_geo(\n",
    "    df_map, \n",
    "    locations='Country', \n",
    "    locationmode='country names',\n",
    "    size='Total Cases',\n",
    "    title='Total Cases',\n",
    "    color='Total Cases',\n",
    "    color_continuous_scale='magenta')\n",
    "\n",
    "plot.show()"
   ]
  },
  {
   "cell_type": "code",
   "execution_count": null,
   "id": "6234c81d-2611-41d2-ab24-3473c08f61cb",
   "metadata": {},
   "outputs": [],
   "source": []
  }
 ],
 "metadata": {
  "kernelspec": {
   "display_name": "Python 3 (ipykernel)",
   "language": "python",
   "name": "python3"
  },
  "language_info": {
   "codemirror_mode": {
    "name": "ipython",
    "version": 3
   },
   "file_extension": ".py",
   "mimetype": "text/x-python",
   "name": "python",
   "nbconvert_exporter": "python",
   "pygments_lexer": "ipython3",
   "version": "3.10.11"
  }
 },
 "nbformat": 4,
 "nbformat_minor": 5
}
