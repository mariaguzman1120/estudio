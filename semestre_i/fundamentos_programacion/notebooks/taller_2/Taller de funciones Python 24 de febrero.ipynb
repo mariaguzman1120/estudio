{
 "cells": [
  {
   "cell_type": "markdown",
   "id": "3d0661e2-d950-4413-9d24-de872135e22b",
   "metadata": {},
   "source": [
    " # Taller 2"
   ]
  },
  {
   "cell_type": "code",
   "execution_count": 1,
   "id": "a8e8ad1c-3e01-411d-9030-ea3bb97f6746",
   "metadata": {},
   "outputs": [],
   "source": [
    "import locale\n",
    "\n",
    "from datetime import datetime"
   ]
  },
  {
   "cell_type": "markdown",
   "id": "9e0934f1-20cd-4456-93e4-5285c19c8955",
   "metadata": {},
   "source": [
    "## Crear una expresión anónima con Python usando la función Lambda para calcular la ecuación cuadrática:\n",
    "$$ f(x) = ax^2 + bx + c $$"
   ]
  },
  {
   "cell_type": "code",
   "execution_count": 2,
   "id": "3999e8ea-ab02-4919-b09a-7f0c6dff0322",
   "metadata": {},
   "outputs": [],
   "source": [
    "cuadratica = lambda x, a=1, b=1, c=0: a * x**2 + b * x + c   "
   ]
  },
  {
   "cell_type": "code",
   "execution_count": 3,
   "id": "13f23b9c-e3f2-4ae3-a2ca-b2a179c5a4c6",
   "metadata": {},
   "outputs": [
    {
     "data": {
      "text/plain": [
       "6"
      ]
     },
     "execution_count": 3,
     "metadata": {},
     "output_type": "execute_result"
    }
   ],
   "source": [
    "cuadratica(2)"
   ]
  },
  {
   "cell_type": "markdown",
   "id": "7c14d6dd-8e2d-44b1-960b-72060ac3dbcf",
   "metadata": {},
   "source": [
    "## Crear una función que cuente el número de veces que la palabra “perro” se encuentra en un string y que corte la frase cada vez que encuentra un espacio."
   ]
  },
  {
   "cell_type": "code",
   "execution_count": 4,
   "id": "34d259a0-1ed7-4263-a74d-86b0218c6a80",
   "metadata": {},
   "outputs": [],
   "source": [
    "def mi_funcion(string: str) -> int:\n",
    "    \"\"\" Función que cuenta la cantidad de veces que la palabra \n",
    "     'perro' está en un string. \n",
    "     \n",
    "    Args:\n",
    "        string: Frase de entrada\n",
    "    \n",
    "    Returns:\n",
    "        Cantidad de veces que ls palabra 'perro' se encontró en el string\n",
    "        \n",
    "    \"\"\"\n",
    "    #dividimos el string por los espacios y se guarda dentro de una lista\n",
    "    lista = string.split()\n",
    "    contador = 0\n",
    "    for i in lista:\n",
    "        if i=='perro':\n",
    "            contador += 1\n",
    "        \n",
    "    return contador"
   ]
  },
  {
   "cell_type": "code",
   "execution_count": 5,
   "id": "fd6dc933-e7e9-4f99-b620-ab080d6a0604",
   "metadata": {},
   "outputs": [],
   "source": [
    "string = 'abdhwkg perro bvifubv perro kjrbg perro'"
   ]
  },
  {
   "cell_type": "code",
   "execution_count": 6,
   "id": "cffa6ba4-a057-4680-ab9e-2140adb3752f",
   "metadata": {},
   "outputs": [
    {
     "data": {
      "text/plain": [
       "3"
      ]
     },
     "execution_count": 6,
     "metadata": {},
     "output_type": "execute_result"
    }
   ],
   "source": [
    "mi_funcion(string)"
   ]
  },
  {
   "cell_type": "code",
   "execution_count": 7,
   "id": "15117bcf-5b5b-4ef0-b15e-7a3f8b96c6cf",
   "metadata": {},
   "outputs": [],
   "source": [
    "# Se crea otra función para dar una solución más optima al problema"
   ]
  },
  {
   "cell_type": "code",
   "execution_count": 8,
   "id": "5af318f1-9ed4-41ae-866c-3225efc7a76e",
   "metadata": {},
   "outputs": [],
   "source": [
    "def mi_funcion2(string: str) -> int:\n",
    "    \"\"\" Función que cuenta la cantidad de veces que la palabra \n",
    "     'perro' está en un string. \n",
    "     \n",
    "    Args:\n",
    "        string: Frase de entrada\n",
    "    \n",
    "    Returns:\n",
    "        Cantidad de veces que la palabra 'perro' se encontró en el string\n",
    "        \n",
    "    \"\"\"\n",
    "    return string.split().count('perro')"
   ]
  },
  {
   "cell_type": "code",
   "execution_count": 9,
   "id": "16990787-fbcb-4333-a1c1-9962627e2840",
   "metadata": {},
   "outputs": [
    {
     "name": "stdout",
     "output_type": "stream",
     "text": [
      "451 ns ± 3.47 ns per loop (mean ± std. dev. of 7 runs, 1,000,000 loops each)\n"
     ]
    }
   ],
   "source": [
    "%timeit mi_funcion(string)"
   ]
  },
  {
   "cell_type": "code",
   "execution_count": 10,
   "id": "ad90fb65-9d69-41d0-a9be-bff72a996cf0",
   "metadata": {},
   "outputs": [
    {
     "name": "stdout",
     "output_type": "stream",
     "text": [
      "338 ns ± 0.852 ns per loop (mean ± std. dev. of 7 runs, 1,000,000 loops each)\n"
     ]
    }
   ],
   "source": [
    "%timeit mi_funcion2(string)"
   ]
  },
  {
   "cell_type": "markdown",
   "id": "d0152b8c-5e27-4f3c-93bd-1f53eada0042",
   "metadata": {},
   "source": [
    "## Implemente una función que permita determinar que transforme una fecha dada de string a datetime y que indique a que día de la semana corresponde"
   ]
  },
  {
   "cell_type": "code",
   "execution_count": 11,
   "id": "1721c251-36cc-4531-82ec-4afe61fe571d",
   "metadata": {},
   "outputs": [],
   "source": [
    "def week_day(string_date: str) -> str:\n",
    "    \"\"\" función que permita determinar que transforme una fecha dada \n",
    "    de string a datetime y que indique a que día de la semana corresponde.\n",
    "    \n",
    "    Args:\n",
    "        string: Fecha a modificar\n",
    "    \n",
    "    Returns:\n",
    "        Nombre del día de la semana\n",
    "    \"\"\"\n",
    "    # para que los nombres de los meses queden en español\n",
    "    locale.setlocale(locale.LC_ALL, 'es_ES')\n",
    "    \n",
    "    fecha = datetime.strptime(string_date, '%d/%m/%Y')\n",
    "    \n",
    "    return fecha.strftime('%A').capitalize()"
   ]
  },
  {
   "cell_type": "code",
   "execution_count": 12,
   "id": "668dbb91-2934-42a7-9ca4-9a17b5b750b2",
   "metadata": {},
   "outputs": [
    {
     "data": {
      "text/plain": [
       "'Domingo'"
      ]
     },
     "execution_count": 12,
     "metadata": {},
     "output_type": "execute_result"
    }
   ],
   "source": [
    "week_day('20/11/1994')"
   ]
  },
  {
   "cell_type": "markdown",
   "id": "4bf8b78a-8769-4378-8be8-3a39693ea044",
   "metadata": {},
   "source": [
    "## Implemente una clase de tipo vehículo , donde se pueda ver detalles como nombre, color, precio del vehiculo."
   ]
  },
  {
   "cell_type": "code",
   "execution_count": 13,
   "id": "b9190edf-8531-40b2-b551-fc4b5c93fc57",
   "metadata": {},
   "outputs": [],
   "source": [
    "class Vehiculo:\n",
    "    \n",
    "    def __init__(self, nombre: str, color: str, precio: float):\n",
    "        self.nombre = nombre\n",
    "        self.color = color\n",
    "        self.precio = precio"
   ]
  },
  {
   "cell_type": "code",
   "execution_count": 14,
   "id": "bfe754c6-e87c-4d4e-a045-3771af9173c6",
   "metadata": {},
   "outputs": [],
   "source": [
    "vehiculo = Vehiculo('Renault', 'negro', 70.52)"
   ]
  },
  {
   "cell_type": "code",
   "execution_count": 15,
   "id": "3c3bc3b1-6540-431a-91e4-7019774a3303",
   "metadata": {},
   "outputs": [
    {
     "data": {
      "text/plain": [
       "'negro'"
      ]
     },
     "execution_count": 15,
     "metadata": {},
     "output_type": "execute_result"
    }
   ],
   "source": [
    "vehiculo.color"
   ]
  },
  {
   "cell_type": "markdown",
   "id": "1550a787-3a3a-4c01-a902-d3e851c162c4",
   "metadata": {},
   "source": [
    "## Cree una función que solicite la fecha de nacimiento de la persona e indique cuantos años tiene actualmente."
   ]
  },
  {
   "cell_type": "code",
   "execution_count": 17,
   "id": "862b12a2-bc06-4745-90e7-cc1eef539944",
   "metadata": {},
   "outputs": [],
   "source": [
    "def age_calculate() -> None:\n",
    "    \"\"\" Calcula la edad al ingresar la fecha de nacimiento. \n",
    "     Formato de entrada es dd/mm/YYYY.\n",
    "     \n",
    "    \"\"\"\n",
    "    string_date = input('Ingrese el año de nacimiento: ')\n",
    "    \n",
    "    date = datetime.strptime(string_date, '%d/%m/%Y')\n",
    "    now = datetime.now()\n",
    "    \n",
    "    age = now.year - date.year - ((now.month, now.day) < (date.month, date.day))\n",
    "    \n",
    "    print(f'Su edad es: {round(age)} años')"
   ]
  },
  {
   "cell_type": "code",
   "execution_count": 18,
   "id": "8f7186e7-1c52-45fc-bad2-794e57387156",
   "metadata": {},
   "outputs": [
    {
     "name": "stdin",
     "output_type": "stream",
     "text": [
      "Ingrese el año de nacimiento:  14/05/1992\n"
     ]
    },
    {
     "name": "stdout",
     "output_type": "stream",
     "text": [
      "Su edad es: 30 años\n"
     ]
    }
   ],
   "source": [
    "age_calculate()"
   ]
  },
  {
   "cell_type": "code",
   "execution_count": null,
   "id": "23789eee-fde3-4cf2-91e3-5baa24d5e0c9",
   "metadata": {},
   "outputs": [],
   "source": []
  }
 ],
 "metadata": {
  "kernelspec": {
   "display_name": "Python 3 (ipykernel)",
   "language": "python",
   "name": "python3"
  },
  "language_info": {
   "codemirror_mode": {
    "name": "ipython",
    "version": 3
   },
   "file_extension": ".py",
   "mimetype": "text/x-python",
   "name": "python",
   "nbconvert_exporter": "python",
   "pygments_lexer": "ipython3",
   "version": "3.10.11"
  },
  "toc-autonumbering": true
 },
 "nbformat": 4,
 "nbformat_minor": 5
}
