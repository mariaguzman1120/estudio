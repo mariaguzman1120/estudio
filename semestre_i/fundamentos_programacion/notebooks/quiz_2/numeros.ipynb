{
 "cells": [
  {
   "cell_type": "markdown",
   "id": "859c166b-5438-466a-b0eb-a716b5d20f06",
   "metadata": {},
   "source": [
    "# Quiz"
   ]
  },
  {
   "cell_type": "code",
   "execution_count": 1,
   "id": "d7a6cd27-5f0b-4adc-bcd4-a983809355c3",
   "metadata": {},
   "outputs": [],
   "source": [
    "import math\n",
    "import random"
   ]
  },
  {
   "cell_type": "code",
   "execution_count": 2,
   "id": "c0e9d655-7735-4a66-aace-8008bf847077",
   "metadata": {},
   "outputs": [],
   "source": [
    "def leer_numero(ini: int, fin: int, mensaje: str) -> int:\n",
    "    \"\"\" ingresa numero dentro de un rango dado\n",
    "    \n",
    "    Args:\n",
    "        ini: Número inicial.\n",
    "        fin: Número final\n",
    "        mensaje: Mensaje en la entrada del usuario.\n",
    "\n",
    "    Returns:\n",
    "        Número que cumpla la condición.\n",
    "\n",
    "    \"\"\"\n",
    "    num = int(input(mensaje))\n",
    "    \n",
    "    while num not in range(ini, fin + 1):\n",
    "        print(num)\n",
    "        num = int(input(mensaje))\n",
    "    \n",
    "    return num"
   ]
  },
  {
   "cell_type": "code",
   "execution_count": 3,
   "id": "65fc8471-f939-4f1f-b1fe-8d40deedcce7",
   "metadata": {},
   "outputs": [],
   "source": [
    "def generador() -> list:\n",
    "    \"\"\" genera lista con números redondeados.\n",
    "    \n",
    "    Returns:\n",
    "        Lista con números.\n",
    "\n",
    "    \"\"\"\n",
    "    numeros = leer_numero(1, 20, '¿Cuantos números quieres generar? [1-20]: ')\n",
    "    modo = leer_numero(1, 3, '¿Cómo quieres redondear los números? [1]Al alza [2]A la baja [3]Normal: ')\n",
    "    \n",
    "    lista = [random.uniform(0, 100) for _ in range(numeros)]\n",
    "    \n",
    "    if modo == 1:\n",
    "        ls_round = []\n",
    "        for i in lista:\n",
    "            new_number = math.ceil(i)\n",
    "            print(f'Original: {i} -> Redondeado: {new_number}')\n",
    "            ls_round.append(new_number)\n",
    "    elif modo == 2:\n",
    "        ls_round = []\n",
    "        for i in lista:\n",
    "            new_number = math.floor(i)\n",
    "            print(f'Original: {i} -> Redondeado: {new_number}')\n",
    "            ls_round.append(new_number)\n",
    "    elif modo == 3:\n",
    "        ls_round = []\n",
    "        for i in lista:\n",
    "            new_number = round(i)\n",
    "            print(f'Original: {i} -> Redondeado: {new_number}')\n",
    "            ls_round.append(new_number)\n",
    "    else:\n",
    "        raise NotImplementedError\n",
    "        \n",
    "    return ls_round "
   ]
  },
  {
   "cell_type": "code",
   "execution_count": 4,
   "id": "e5bec810-e777-4eea-826b-ba1857498eac",
   "metadata": {},
   "outputs": [
    {
     "name": "stdin",
     "output_type": "stream",
     "text": [
      "¿Cuantos números quieres generar? [1-20]:  4\n",
      "¿Cómo quieres redondear los números? [1]Al alza [2]A la baja [3]Normal:  1\n"
     ]
    },
    {
     "name": "stdout",
     "output_type": "stream",
     "text": [
      "Original: 31.846195560943748 -> Redondeado: 32\n",
      "Original: 56.43375734045962 -> Redondeado: 57\n",
      "Original: 13.893698536480503 -> Redondeado: 14\n",
      "Original: 49.64139518987609 -> Redondeado: 50\n"
     ]
    },
    {
     "data": {
      "text/plain": [
       "[32, 57, 14, 50]"
      ]
     },
     "execution_count": 4,
     "metadata": {},
     "output_type": "execute_result"
    }
   ],
   "source": [
    "generador()"
   ]
  },
  {
   "cell_type": "code",
   "execution_count": null,
   "id": "50837036-c609-42e4-831d-02b06630518b",
   "metadata": {},
   "outputs": [],
   "source": []
  }
 ],
 "metadata": {
  "kernelspec": {
   "display_name": "Python 3 (ipykernel)",
   "language": "python",
   "name": "python3"
  },
  "language_info": {
   "codemirror_mode": {
    "name": "ipython",
    "version": 3
   },
   "file_extension": ".py",
   "mimetype": "text/x-python",
   "name": "python",
   "nbconvert_exporter": "python",
   "pygments_lexer": "ipython3",
   "version": "3.10.11"
  }
 },
 "nbformat": 4,
 "nbformat_minor": 5
}
