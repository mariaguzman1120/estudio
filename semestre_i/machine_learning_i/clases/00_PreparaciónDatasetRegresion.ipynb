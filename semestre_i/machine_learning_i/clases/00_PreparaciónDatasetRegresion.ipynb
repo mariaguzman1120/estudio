{
 "cells": [
  {
   "cell_type": "markdown",
   "metadata": {
    "id": "HKl7gocmd_p6"
   },
   "source": [
    "# Preparación del dataset de ventas de vehículos"
   ]
  },
  {
   "cell_type": "markdown",
   "metadata": {
    "id": "5F5BCgCvd_p_"
   },
   "source": [
    "## 1. Librerias y configuraciones previas\n"
   ]
  },
  {
   "cell_type": "code",
   "execution_count": 1,
   "metadata": {
    "colab": {
     "base_uri": "https://localhost:8080/"
    },
    "executionInfo": {
     "elapsed": 3412,
     "status": "ok",
     "timestamp": 1612389346965,
     "user": {
      "displayName": "JORGE ALONSO BEDOYA PUERTA",
      "photoUrl": "",
      "userId": "14875356627137784897"
     },
     "user_tz": 300
    },
    "id": "QFQi_2Xad_qA",
    "outputId": "7e960c7c-2e57-4de3-b021-4f0df2887a4f"
   },
   "outputs": [],
   "source": [
    "# Tratamiento de datos\n",
    "# ==============================================================================\n",
    "import pandas as pd\n",
    "import numpy as np\n",
    "\n",
    "\n",
    "# Matemáticas y estadísticas\n",
    "# ==============================================================================\n",
    "import math\n",
    "\n",
    "# Preparación de datos\n",
    "# ==============================================================================\n",
    "from sklearn.impute import KNNImputer\n",
    "from sklearn.impute import SimpleImputer\n",
    "from sklearn.neighbors import LocalOutlierFactor\n",
    "\n",
    "\n",
    "# Gráficos\n",
    "# ==============================================================================\n",
    "import matplotlib.pyplot as plt\n",
    "from matplotlib import style\n",
    "import seaborn as sns\n",
    "\n",
    "# Configuración matplotlib\n",
    "# ==============================================================================\n",
    "plt.rcParams['image.cmap'] = \"bwr\"\n",
    "#plt.rcParams['figure.dpi'] = \"100\"\n",
    "plt.rcParams['savefig.bbox'] = \"tight\"\n",
    "style.use('ggplot') or plt.style.use('ggplot')\n",
    "\n",
    "# Configuración warnings\n",
    "# ==============================================================================\n",
    "import warnings\n",
    "warnings.filterwarnings('ignore')"
   ]
  },
  {
   "cell_type": "markdown",
   "metadata": {
    "id": "6K3wwPyUd_qB"
   },
   "source": [
    "## 2. Funciones"
   ]
  },
  {
   "cell_type": "code",
   "execution_count": 2,
   "metadata": {
    "id": "0E2TpW4gd_qB"
   },
   "outputs": [],
   "source": [
    "# Función para graficar un plot con multiples gráficas del mismo tipo:\n",
    "#\n",
    "# df       : dataframe \n",
    "# cols     : lista de columnas a graficar\n",
    "# num_cols : número de columnas \n",
    "# num_rows : número de filas\n",
    "# tipo     : 'c' = countplot,   'b' = boxplot, 's' = scatterplot \n",
    "# targetVar: nombre de la variable comparativa de salida. Debe ser numérica y debe estar cotenida en el dataframe. \n",
    "#            Para countplot no es necesario (None)\n",
    "# figsize  : tamaño del plot. Valor por defecto (16,8)\n",
    "#\n",
    "# *Nota: el número de filas * el número de columnas debe ser mayor al total de elementos de cols\n",
    "#\n",
    "# Ejemplos:     \n",
    "#    plot_multiples_graficas (d, catCols, 5, 3, 'c', None, (16,12))\n",
    "#    plot_multiples_graficas (d, numCols, 5, 3, 's', 'price', (16,12))\n",
    "#    plot_multiples_graficas (d, ['make'], 1, 1, 'b', 'price', (16,12))\n",
    "# ==============================================================================\n",
    "\n",
    "\n",
    "def plot_multiples_graficas(df, cols, num_cols, num_rows, tipo, targetVar, figsize=(16,8)):\n",
    "    \n",
    "    plt.rcParams['figure.figsize'] = figsize\n",
    "    \n",
    "    #num_plots = len(cols)\n",
    "    #num_cols = math.ceil(np.sqrt(num_plots))\n",
    "    #num_rows = math.ceil(num_plots/num_cols)\n",
    "        \n",
    "    fig, axs = plt.subplots(num_rows, num_cols)\n",
    "    \n",
    "    for ind, col in enumerate(cols):\n",
    "        i = math.floor(ind/num_cols)\n",
    "        j = ind - i*num_cols\n",
    "        \n",
    "        if num_rows == 1:\n",
    "            if num_cols == 1:\n",
    "                if tipo == 'c': \n",
    "                    sns.countplot(x=df[col], ax=axs, dodge = False)\n",
    "                if tipo == 'b':\n",
    "                    sns.boxplot(x=df[col], y=df[targetVar], ax=axs)\n",
    "                if tipo == 's':\n",
    "                    sns.scatterplot(x=df[col], y=df[targetVar], ax=axs)\n",
    "            else:\n",
    "                if tipo == 'c':\n",
    "                    sns.countplot(x=df[col], ax=axs[j], dodge = False)\n",
    "                if tipo == 'b':\n",
    "                    sns.boxplot(x=df[col], y=df[targetVar], ax=axs[j])\n",
    "                if tipo == 's':\n",
    "                    sns.scatterplot(x=df[col], y=df[targetVar], ax=axs[j])\n",
    "        else:\n",
    "            if num_cols == 1:\n",
    "                if tipo == 'c':\n",
    "                    sns.countplot(x=d[col], ax=axs[i], dodge = False)\n",
    "                if tipo == 'b':\n",
    "                    sns.boxplot(x=df[col], y=df[targetVar], ax=axs[i])\n",
    "                if tipo == 's':\n",
    "                    sns.scatterplot(x=df[col], y=df[targetVar], ax=axs[i])\n",
    "            else:\n",
    "                if tipo == 'c':\n",
    "                    sns.countplot(x=df[col], ax=axs[i, j], dodge = False)\n",
    "                if tipo == 'b':\n",
    "                    sns.boxplot(x=df[col], y=df[targetVar], ax=axs[i, j])\n",
    "                if tipo == 's':\n",
    "                    sns.scatterplot(x=df[col], y=df[targetVar], ax=axs[i, j])"
   ]
  },
  {
   "cell_type": "markdown",
   "metadata": {
    "id": "ZEYdiUrpd_qC"
   },
   "source": [
    "## 3. Carga del dataset"
   ]
  },
  {
   "cell_type": "markdown",
   "metadata": {},
   "source": [
    "Este dataset extraido de *Kaggle* (nombrado: **car details v4.csv** ) contiene información sobre **vehículos usados**, los cuales serán usados para la predicción de precios de venta, a partir de las diferentes variables.\n",
    "\n",
    "A continuación una breve descripción de las variables:\n",
    "\n",
    "****\n",
    "\n",
    "    \n",
    "| Campo | Descripción | Ejempo |\n",
    "| :--- | :--- |:--- |\n",
    "| Make | Marca  | Honda |\n",
    "| Model | Modelo  | Amaze 1.2 VX i-VTEC |\n",
    "| Price | Precio  | 505000 |\n",
    "| Year | Año  | 2017 |\n",
    "| Kilometer | Kilometraje  | 87150 |\n",
    "| Fuel Type | Tipo de combustible  | Petrol |\n",
    "| Transmission | Tipo de transmisión  | Manual |\n",
    "| Location | Ubicación  | Pune |\n",
    "| Color | Color  | Grey |\n",
    "| Owner | Número de propietarios previos  | First |\n",
    "| Seller Type | Tipo de vendedor  | Corporate |\n",
    "| Engine | Tipo de motor  | 1198 cc |\n",
    "| Max Power | Potencia máxima del motor  | 87 bhp @ 6000 rpm |\n",
    "| Max Torque | Torque máximo del motor  | 109 Nm @ 4500 rpm |\n",
    "| Drivetrain | Tipo de tracción  | FWD |\n",
    "| Length | Longitud  | 3990 |\n",
    "| Width | Anchura  | 1680 |\n",
    "| Height | Altura  | 1505 |\n",
    "| Seating Capacity | Capacidad de asientos  | 5 |\n",
    "| Fuel Tank Capacity | Capacidad del tanque de combustible  | 35 |\n",
    "\n",
    "****\n",
    "\n",
    "Url origen datos: https://www.kaggle.com/datasets/nehalbirla/vehicle-dataset-from-cardekho?select=car+details+v4.csv\n"
   ]
  },
  {
   "cell_type": "code",
   "execution_count": 3,
   "metadata": {
    "executionInfo": {
     "elapsed": 446,
     "status": "ok",
     "timestamp": 1612390480737,
     "user": {
      "displayName": "JORGE ALONSO BEDOYA PUERTA",
      "photoUrl": "",
      "userId": "14875356627137784897"
     },
     "user_tz": 300
    },
    "id": "jtrrf9geeLRe"
   },
   "outputs": [],
   "source": [
    "#Cargar el dataset\n",
    "d=pd.read_csv('./datasets/01_car details v4.csv')"
   ]
  },
  {
   "cell_type": "code",
   "execution_count": 4,
   "metadata": {
    "colab": {
     "base_uri": "https://localhost:8080/"
    },
    "executionInfo": {
     "elapsed": 28506,
     "status": "ok",
     "timestamp": 1612389372084,
     "user": {
      "displayName": "JORGE ALONSO BEDOYA PUERTA",
      "photoUrl": "",
      "userId": "14875356627137784897"
     },
     "user_tz": 300
    },
    "id": "8hJGAI2md_qD",
    "outputId": "be52fb0a-7a4d-4e8d-b87a-dddc1e2c1a9f"
   },
   "outputs": [],
   "source": [
    "## Cargar datos con colab\n",
    "## =============================================================================\n",
    "\n",
    "#from google.colab import drive \n",
    "#import os\n",
    "\n",
    "#drive.mount('/gdrive')"
   ]
  },
  {
   "cell_type": "code",
   "execution_count": 5,
   "metadata": {},
   "outputs": [],
   "source": [
    "#os.chdir(\"/gdrive/MyDrive/ModelosCuantitativosPython/Notebooks\")\n",
    "#!ls"
   ]
  },
  {
   "cell_type": "code",
   "execution_count": 6,
   "metadata": {
    "colab": {
     "base_uri": "https://localhost:8080/"
    },
    "executionInfo": {
     "elapsed": 442,
     "status": "ok",
     "timestamp": 1612390434870,
     "user": {
      "displayName": "JORGE ALONSO BEDOYA PUERTA",
      "photoUrl": "",
      "userId": "14875356627137784897"
     },
     "user_tz": 300
    },
    "id": "yG1tUj3Ld_qD",
    "outputId": "112e3658-f908-4761-c0e6-67ea589d9a8e"
   },
   "outputs": [
    {
     "name": "stdout",
     "output_type": "stream",
     "text": [
      "<class 'pandas.core.frame.DataFrame'>\n",
      "RangeIndex: 2059 entries, 0 to 2058\n",
      "Data columns (total 20 columns):\n",
      " #   Column              Non-Null Count  Dtype  \n",
      "---  ------              --------------  -----  \n",
      " 0   Make                2059 non-null   object \n",
      " 1   Model               2059 non-null   object \n",
      " 2   Price               2059 non-null   int64  \n",
      " 3   Year                2059 non-null   int64  \n",
      " 4   Kilometer           2059 non-null   int64  \n",
      " 5   Fuel Type           2059 non-null   object \n",
      " 6   Transmission        2059 non-null   object \n",
      " 7   Location            2059 non-null   object \n",
      " 8   Color               2059 non-null   object \n",
      " 9   Owner               2059 non-null   object \n",
      " 10  Seller Type         2059 non-null   object \n",
      " 11  Engine              1979 non-null   object \n",
      " 12  Max Power           1979 non-null   object \n",
      " 13  Max Torque          1979 non-null   object \n",
      " 14  Drivetrain          1923 non-null   object \n",
      " 15  Length              1995 non-null   float64\n",
      " 16  Width               1995 non-null   float64\n",
      " 17  Height              1995 non-null   float64\n",
      " 18  Seating Capacity    1995 non-null   float64\n",
      " 19  Fuel Tank Capacity  1946 non-null   float64\n",
      "dtypes: float64(5), int64(3), object(12)\n",
      "memory usage: 321.8+ KB\n"
     ]
    }
   ],
   "source": [
    "d.info()"
   ]
  },
  {
   "cell_type": "code",
   "execution_count": 7,
   "metadata": {},
   "outputs": [
    {
     "data": {
      "text/html": [
       "<div>\n",
       "<style scoped>\n",
       "    .dataframe tbody tr th:only-of-type {\n",
       "        vertical-align: middle;\n",
       "    }\n",
       "\n",
       "    .dataframe tbody tr th {\n",
       "        vertical-align: top;\n",
       "    }\n",
       "\n",
       "    .dataframe thead th {\n",
       "        text-align: right;\n",
       "    }\n",
       "</style>\n",
       "<table border=\"1\" class=\"dataframe\">\n",
       "  <thead>\n",
       "    <tr style=\"text-align: right;\">\n",
       "      <th></th>\n",
       "      <th>Make</th>\n",
       "      <th>Model</th>\n",
       "      <th>Price</th>\n",
       "      <th>Year</th>\n",
       "      <th>Kilometer</th>\n",
       "      <th>Fuel Type</th>\n",
       "      <th>Transmission</th>\n",
       "      <th>Location</th>\n",
       "      <th>Color</th>\n",
       "      <th>Owner</th>\n",
       "      <th>Seller Type</th>\n",
       "      <th>Engine</th>\n",
       "      <th>Max Power</th>\n",
       "      <th>Max Torque</th>\n",
       "      <th>Drivetrain</th>\n",
       "      <th>Length</th>\n",
       "      <th>Width</th>\n",
       "      <th>Height</th>\n",
       "      <th>Seating Capacity</th>\n",
       "      <th>Fuel Tank Capacity</th>\n",
       "    </tr>\n",
       "  </thead>\n",
       "  <tbody>\n",
       "    <tr>\n",
       "      <th>0</th>\n",
       "      <td>Honda</td>\n",
       "      <td>Amaze 1.2 VX i-VTEC</td>\n",
       "      <td>505000</td>\n",
       "      <td>2017</td>\n",
       "      <td>87150</td>\n",
       "      <td>Petrol</td>\n",
       "      <td>Manual</td>\n",
       "      <td>Pune</td>\n",
       "      <td>Grey</td>\n",
       "      <td>First</td>\n",
       "      <td>Corporate</td>\n",
       "      <td>1198 cc</td>\n",
       "      <td>87 bhp @ 6000 rpm</td>\n",
       "      <td>109 Nm @ 4500 rpm</td>\n",
       "      <td>FWD</td>\n",
       "      <td>3990.0</td>\n",
       "      <td>1680.0</td>\n",
       "      <td>1505.0</td>\n",
       "      <td>5.0</td>\n",
       "      <td>35.0</td>\n",
       "    </tr>\n",
       "    <tr>\n",
       "      <th>1</th>\n",
       "      <td>Maruti Suzuki</td>\n",
       "      <td>Swift DZire VDI</td>\n",
       "      <td>450000</td>\n",
       "      <td>2014</td>\n",
       "      <td>75000</td>\n",
       "      <td>Diesel</td>\n",
       "      <td>Manual</td>\n",
       "      <td>Ludhiana</td>\n",
       "      <td>White</td>\n",
       "      <td>Second</td>\n",
       "      <td>Individual</td>\n",
       "      <td>1248 cc</td>\n",
       "      <td>74 bhp @ 4000 rpm</td>\n",
       "      <td>190 Nm @ 2000 rpm</td>\n",
       "      <td>FWD</td>\n",
       "      <td>3995.0</td>\n",
       "      <td>1695.0</td>\n",
       "      <td>1555.0</td>\n",
       "      <td>5.0</td>\n",
       "      <td>42.0</td>\n",
       "    </tr>\n",
       "    <tr>\n",
       "      <th>2</th>\n",
       "      <td>Hyundai</td>\n",
       "      <td>i10 Magna 1.2 Kappa2</td>\n",
       "      <td>220000</td>\n",
       "      <td>2011</td>\n",
       "      <td>67000</td>\n",
       "      <td>Petrol</td>\n",
       "      <td>Manual</td>\n",
       "      <td>Lucknow</td>\n",
       "      <td>Maroon</td>\n",
       "      <td>First</td>\n",
       "      <td>Individual</td>\n",
       "      <td>1197 cc</td>\n",
       "      <td>79 bhp @ 6000 rpm</td>\n",
       "      <td>112.7619 Nm @ 4000 rpm</td>\n",
       "      <td>FWD</td>\n",
       "      <td>3585.0</td>\n",
       "      <td>1595.0</td>\n",
       "      <td>1550.0</td>\n",
       "      <td>5.0</td>\n",
       "      <td>35.0</td>\n",
       "    </tr>\n",
       "    <tr>\n",
       "      <th>3</th>\n",
       "      <td>Toyota</td>\n",
       "      <td>Glanza G</td>\n",
       "      <td>799000</td>\n",
       "      <td>2019</td>\n",
       "      <td>37500</td>\n",
       "      <td>Petrol</td>\n",
       "      <td>Manual</td>\n",
       "      <td>Mangalore</td>\n",
       "      <td>Red</td>\n",
       "      <td>First</td>\n",
       "      <td>Individual</td>\n",
       "      <td>1197 cc</td>\n",
       "      <td>82 bhp @ 6000 rpm</td>\n",
       "      <td>113 Nm @ 4200 rpm</td>\n",
       "      <td>FWD</td>\n",
       "      <td>3995.0</td>\n",
       "      <td>1745.0</td>\n",
       "      <td>1510.0</td>\n",
       "      <td>5.0</td>\n",
       "      <td>37.0</td>\n",
       "    </tr>\n",
       "    <tr>\n",
       "      <th>4</th>\n",
       "      <td>Toyota</td>\n",
       "      <td>Innova 2.4 VX 7 STR [2016-2020]</td>\n",
       "      <td>1950000</td>\n",
       "      <td>2018</td>\n",
       "      <td>69000</td>\n",
       "      <td>Diesel</td>\n",
       "      <td>Manual</td>\n",
       "      <td>Mumbai</td>\n",
       "      <td>Grey</td>\n",
       "      <td>First</td>\n",
       "      <td>Individual</td>\n",
       "      <td>2393 cc</td>\n",
       "      <td>148 bhp @ 3400 rpm</td>\n",
       "      <td>343 Nm @ 1400 rpm</td>\n",
       "      <td>RWD</td>\n",
       "      <td>4735.0</td>\n",
       "      <td>1830.0</td>\n",
       "      <td>1795.0</td>\n",
       "      <td>7.0</td>\n",
       "      <td>55.0</td>\n",
       "    </tr>\n",
       "  </tbody>\n",
       "</table>\n",
       "</div>"
      ],
      "text/plain": [
       "            Make                            Model    Price  Year  Kilometer  \\\n",
       "0          Honda              Amaze 1.2 VX i-VTEC   505000  2017      87150   \n",
       "1  Maruti Suzuki                  Swift DZire VDI   450000  2014      75000   \n",
       "2        Hyundai             i10 Magna 1.2 Kappa2   220000  2011      67000   \n",
       "3         Toyota                         Glanza G   799000  2019      37500   \n",
       "4         Toyota  Innova 2.4 VX 7 STR [2016-2020]  1950000  2018      69000   \n",
       "\n",
       "  Fuel Type Transmission   Location   Color   Owner Seller Type   Engine  \\\n",
       "0    Petrol       Manual       Pune    Grey   First   Corporate  1198 cc   \n",
       "1    Diesel       Manual   Ludhiana   White  Second  Individual  1248 cc   \n",
       "2    Petrol       Manual    Lucknow  Maroon   First  Individual  1197 cc   \n",
       "3    Petrol       Manual  Mangalore     Red   First  Individual  1197 cc   \n",
       "4    Diesel       Manual     Mumbai    Grey   First  Individual  2393 cc   \n",
       "\n",
       "            Max Power              Max Torque Drivetrain  Length   Width  \\\n",
       "0   87 bhp @ 6000 rpm       109 Nm @ 4500 rpm        FWD  3990.0  1680.0   \n",
       "1   74 bhp @ 4000 rpm       190 Nm @ 2000 rpm        FWD  3995.0  1695.0   \n",
       "2   79 bhp @ 6000 rpm  112.7619 Nm @ 4000 rpm        FWD  3585.0  1595.0   \n",
       "3   82 bhp @ 6000 rpm       113 Nm @ 4200 rpm        FWD  3995.0  1745.0   \n",
       "4  148 bhp @ 3400 rpm       343 Nm @ 1400 rpm        RWD  4735.0  1830.0   \n",
       "\n",
       "   Height  Seating Capacity  Fuel Tank Capacity  \n",
       "0  1505.0               5.0                35.0  \n",
       "1  1555.0               5.0                42.0  \n",
       "2  1550.0               5.0                35.0  \n",
       "3  1510.0               5.0                37.0  \n",
       "4  1795.0               7.0                55.0  "
      ]
     },
     "execution_count": 7,
     "metadata": {},
     "output_type": "execute_result"
    }
   ],
   "source": [
    "d.head()"
   ]
  },
  {
   "cell_type": "markdown",
   "metadata": {
    "id": "2zGAUBLUd_qE"
   },
   "source": [
    "## 4. Limpieza de datos (Data Cleaning)"
   ]
  },
  {
   "cell_type": "code",
   "execution_count": 8,
   "metadata": {
    "executionInfo": {
     "elapsed": 703,
     "status": "ok",
     "timestamp": 1612390486798,
     "user": {
      "displayName": "JORGE ALONSO BEDOYA PUERTA",
      "photoUrl": "",
      "userId": "14875356627137784897"
     },
     "user_tz": 300
    },
    "id": "-4Skrm5yd_qE"
   },
   "outputs": [],
   "source": [
    "#Borrando columnas que no se emplearán\n",
    "\n",
    "d.drop([ 'Model', 'Location', 'Color', 'Max Power', 'Max Torque'], axis='columns', inplace=True)\n"
   ]
  },
  {
   "cell_type": "code",
   "execution_count": 9,
   "metadata": {},
   "outputs": [
    {
     "data": {
      "text/plain": [
       "dtype('float64')"
      ]
     },
     "execution_count": 9,
     "metadata": {},
     "output_type": "execute_result"
    }
   ],
   "source": [
    "#Se limpia la variable Engine para convertirla en una variable numérica\n",
    "\n",
    "#Se borra todos los valores ' cc'\n",
    "d['Engine'] = d['Engine'].str.replace(' cc', '')\n",
    "\n",
    "#se convierte a variable tipo float\n",
    "d['Engine'] = d['Engine'].astype('float64')\n",
    "d[\"Engine\"].dtype"
   ]
  },
  {
   "cell_type": "code",
   "execution_count": 10,
   "metadata": {
    "colab": {
     "base_uri": "https://localhost:8080/",
     "height": 97
    },
    "executionInfo": {
     "elapsed": 29279,
     "status": "ok",
     "timestamp": 1612389372910,
     "user": {
      "displayName": "JORGE ALONSO BEDOYA PUERTA",
      "photoUrl": "",
      "userId": "14875356627137784897"
     },
     "user_tz": 300
    },
    "id": "p1s_JBved_qF",
    "outputId": "066bb4ca-2463-43eb-a387-f5661abde5ae"
   },
   "outputs": [
    {
     "data": {
      "text/html": [
       "<div>\n",
       "<style scoped>\n",
       "    .dataframe tbody tr th:only-of-type {\n",
       "        vertical-align: middle;\n",
       "    }\n",
       "\n",
       "    .dataframe tbody tr th {\n",
       "        vertical-align: top;\n",
       "    }\n",
       "\n",
       "    .dataframe thead th {\n",
       "        text-align: right;\n",
       "    }\n",
       "</style>\n",
       "<table border=\"1\" class=\"dataframe\">\n",
       "  <thead>\n",
       "    <tr style=\"text-align: right;\">\n",
       "      <th></th>\n",
       "      <th>Make</th>\n",
       "      <th>Price</th>\n",
       "      <th>Year</th>\n",
       "      <th>Kilometer</th>\n",
       "      <th>Fuel Type</th>\n",
       "      <th>Transmission</th>\n",
       "      <th>Owner</th>\n",
       "      <th>Seller Type</th>\n",
       "      <th>Engine</th>\n",
       "      <th>Drivetrain</th>\n",
       "      <th>Length</th>\n",
       "      <th>Width</th>\n",
       "      <th>Height</th>\n",
       "      <th>Seating Capacity</th>\n",
       "      <th>Fuel Tank Capacity</th>\n",
       "    </tr>\n",
       "  </thead>\n",
       "  <tbody>\n",
       "    <tr>\n",
       "      <th>258</th>\n",
       "      <td>BMW</td>\n",
       "      <td>2950000</td>\n",
       "      <td>2015</td>\n",
       "      <td>84700</td>\n",
       "      <td>Diesel</td>\n",
       "      <td>Automatic</td>\n",
       "      <td>Second</td>\n",
       "      <td>Individual</td>\n",
       "      <td>2993.0</td>\n",
       "      <td>AWD</td>\n",
       "      <td>4886.0</td>\n",
       "      <td>1938.0</td>\n",
       "      <td>1762.0</td>\n",
       "      <td>5.0</td>\n",
       "      <td>NaN</td>\n",
       "    </tr>\n",
       "    <tr>\n",
       "      <th>923</th>\n",
       "      <td>Renault</td>\n",
       "      <td>315000</td>\n",
       "      <td>2017</td>\n",
       "      <td>15507</td>\n",
       "      <td>Petrol</td>\n",
       "      <td>Manual</td>\n",
       "      <td>First</td>\n",
       "      <td>Individual</td>\n",
       "      <td>799.0</td>\n",
       "      <td>FWD</td>\n",
       "      <td>3679.0</td>\n",
       "      <td>1579.0</td>\n",
       "      <td>1478.0</td>\n",
       "      <td>5.0</td>\n",
       "      <td>28.0</td>\n",
       "    </tr>\n",
       "    <tr>\n",
       "      <th>1217</th>\n",
       "      <td>Maruti Suzuki</td>\n",
       "      <td>725000</td>\n",
       "      <td>2019</td>\n",
       "      <td>11874</td>\n",
       "      <td>Petrol</td>\n",
       "      <td>Automatic</td>\n",
       "      <td>First</td>\n",
       "      <td>Individual</td>\n",
       "      <td>1197.0</td>\n",
       "      <td>FWD</td>\n",
       "      <td>3840.0</td>\n",
       "      <td>1735.0</td>\n",
       "      <td>1530.0</td>\n",
       "      <td>5.0</td>\n",
       "      <td>37.0</td>\n",
       "    </tr>\n",
       "    <tr>\n",
       "      <th>1555</th>\n",
       "      <td>Hyundai</td>\n",
       "      <td>649000</td>\n",
       "      <td>2020</td>\n",
       "      <td>52236</td>\n",
       "      <td>Petrol</td>\n",
       "      <td>Manual</td>\n",
       "      <td>First</td>\n",
       "      <td>Individual</td>\n",
       "      <td>1197.0</td>\n",
       "      <td>FWD</td>\n",
       "      <td>3765.0</td>\n",
       "      <td>1660.0</td>\n",
       "      <td>1520.0</td>\n",
       "      <td>5.0</td>\n",
       "      <td>43.0</td>\n",
       "    </tr>\n",
       "    <tr>\n",
       "      <th>1603</th>\n",
       "      <td>Mercedes-Benz</td>\n",
       "      <td>7475000</td>\n",
       "      <td>2021</td>\n",
       "      <td>13000</td>\n",
       "      <td>Diesel</td>\n",
       "      <td>Automatic</td>\n",
       "      <td>First</td>\n",
       "      <td>Individual</td>\n",
       "      <td>1950.0</td>\n",
       "      <td>RWD</td>\n",
       "      <td>5063.0</td>\n",
       "      <td>1860.0</td>\n",
       "      <td>1494.0</td>\n",
       "      <td>5.0</td>\n",
       "      <td>80.0</td>\n",
       "    </tr>\n",
       "    <tr>\n",
       "      <th>1856</th>\n",
       "      <td>Skoda</td>\n",
       "      <td>1390000</td>\n",
       "      <td>2017</td>\n",
       "      <td>56000</td>\n",
       "      <td>Petrol</td>\n",
       "      <td>Automatic</td>\n",
       "      <td>First</td>\n",
       "      <td>Individual</td>\n",
       "      <td>1798.0</td>\n",
       "      <td>FWD</td>\n",
       "      <td>4670.0</td>\n",
       "      <td>1814.0</td>\n",
       "      <td>1476.0</td>\n",
       "      <td>5.0</td>\n",
       "      <td>50.0</td>\n",
       "    </tr>\n",
       "  </tbody>\n",
       "</table>\n",
       "</div>"
      ],
      "text/plain": [
       "               Make    Price  Year  Kilometer Fuel Type Transmission   Owner  \\\n",
       "258             BMW  2950000  2015      84700    Diesel    Automatic  Second   \n",
       "923         Renault   315000  2017      15507    Petrol       Manual   First   \n",
       "1217  Maruti Suzuki   725000  2019      11874    Petrol    Automatic   First   \n",
       "1555        Hyundai   649000  2020      52236    Petrol       Manual   First   \n",
       "1603  Mercedes-Benz  7475000  2021      13000    Diesel    Automatic   First   \n",
       "1856          Skoda  1390000  2017      56000    Petrol    Automatic   First   \n",
       "\n",
       "     Seller Type  Engine Drivetrain  Length   Width  Height  Seating Capacity  \\\n",
       "258   Individual  2993.0        AWD  4886.0  1938.0  1762.0               5.0   \n",
       "923   Individual   799.0        FWD  3679.0  1579.0  1478.0               5.0   \n",
       "1217  Individual  1197.0        FWD  3840.0  1735.0  1530.0               5.0   \n",
       "1555  Individual  1197.0        FWD  3765.0  1660.0  1520.0               5.0   \n",
       "1603  Individual  1950.0        RWD  5063.0  1860.0  1494.0               5.0   \n",
       "1856  Individual  1798.0        FWD  4670.0  1814.0  1476.0               5.0   \n",
       "\n",
       "      Fuel Tank Capacity  \n",
       "258                  NaN  \n",
       "923                 28.0  \n",
       "1217                37.0  \n",
       "1555                43.0  \n",
       "1603                80.0  \n",
       "1856                50.0  "
      ]
     },
     "execution_count": 10,
     "metadata": {},
     "output_type": "execute_result"
    }
   ],
   "source": [
    "#Verificación y eliminación de registros duplicados\n",
    "\n",
    "#Verificación de registros duplicados\n",
    "d.loc[d.duplicated()]"
   ]
  },
  {
   "cell_type": "code",
   "execution_count": 11,
   "metadata": {
    "id": "CwPpjXE9d_qF"
   },
   "outputs": [],
   "source": [
    "# eliminación de registros duplicados\n",
    "d = d.drop_duplicates()\n",
    "\n",
    "#Reiniciar el indice\n",
    "d.reset_index(drop=True, inplace=True) "
   ]
  },
  {
   "cell_type": "markdown",
   "metadata": {
    "id": "9dyZpSYHd_qH"
   },
   "source": [
    "## 5. Visualización de datos"
   ]
  },
  {
   "cell_type": "markdown",
   "metadata": {},
   "source": [
    "### Variables de entrada"
   ]
  },
  {
   "cell_type": "code",
   "execution_count": 12,
   "metadata": {
    "colab": {
     "base_uri": "https://localhost:8080/",
     "height": 195
    },
    "executionInfo": {
     "elapsed": 29995,
     "status": "ok",
     "timestamp": 1612389373679,
     "user": {
      "displayName": "JORGE ALONSO BEDOYA PUERTA",
      "photoUrl": "",
      "userId": "14875356627137784897"
     },
     "user_tz": 300
    },
    "id": "TTRG_1tid_qI",
    "outputId": "ce95eddf-3d10-44d9-d962-a7e030dc2eeb"
   },
   "outputs": [
    {
     "data": {
      "text/html": [
       "<div>\n",
       "<style scoped>\n",
       "    .dataframe tbody tr th:only-of-type {\n",
       "        vertical-align: middle;\n",
       "    }\n",
       "\n",
       "    .dataframe tbody tr th {\n",
       "        vertical-align: top;\n",
       "    }\n",
       "\n",
       "    .dataframe thead th {\n",
       "        text-align: right;\n",
       "    }\n",
       "</style>\n",
       "<table border=\"1\" class=\"dataframe\">\n",
       "  <thead>\n",
       "    <tr style=\"text-align: right;\">\n",
       "      <th></th>\n",
       "      <th>Make</th>\n",
       "      <th>Fuel Type</th>\n",
       "      <th>Transmission</th>\n",
       "      <th>Owner</th>\n",
       "      <th>Seller Type</th>\n",
       "      <th>Drivetrain</th>\n",
       "    </tr>\n",
       "  </thead>\n",
       "  <tbody>\n",
       "    <tr>\n",
       "      <th>0</th>\n",
       "      <td>Honda</td>\n",
       "      <td>Petrol</td>\n",
       "      <td>Manual</td>\n",
       "      <td>First</td>\n",
       "      <td>Corporate</td>\n",
       "      <td>FWD</td>\n",
       "    </tr>\n",
       "    <tr>\n",
       "      <th>1</th>\n",
       "      <td>Maruti Suzuki</td>\n",
       "      <td>Diesel</td>\n",
       "      <td>Manual</td>\n",
       "      <td>Second</td>\n",
       "      <td>Individual</td>\n",
       "      <td>FWD</td>\n",
       "    </tr>\n",
       "    <tr>\n",
       "      <th>2</th>\n",
       "      <td>Hyundai</td>\n",
       "      <td>Petrol</td>\n",
       "      <td>Manual</td>\n",
       "      <td>First</td>\n",
       "      <td>Individual</td>\n",
       "      <td>FWD</td>\n",
       "    </tr>\n",
       "    <tr>\n",
       "      <th>3</th>\n",
       "      <td>Toyota</td>\n",
       "      <td>Petrol</td>\n",
       "      <td>Manual</td>\n",
       "      <td>First</td>\n",
       "      <td>Individual</td>\n",
       "      <td>FWD</td>\n",
       "    </tr>\n",
       "    <tr>\n",
       "      <th>4</th>\n",
       "      <td>Toyota</td>\n",
       "      <td>Diesel</td>\n",
       "      <td>Manual</td>\n",
       "      <td>First</td>\n",
       "      <td>Individual</td>\n",
       "      <td>RWD</td>\n",
       "    </tr>\n",
       "  </tbody>\n",
       "</table>\n",
       "</div>"
      ],
      "text/plain": [
       "            Make Fuel Type Transmission   Owner Seller Type Drivetrain\n",
       "0          Honda    Petrol       Manual   First   Corporate        FWD\n",
       "1  Maruti Suzuki    Diesel       Manual  Second  Individual        FWD\n",
       "2        Hyundai    Petrol       Manual   First  Individual        FWD\n",
       "3         Toyota    Petrol       Manual   First  Individual        FWD\n",
       "4         Toyota    Diesel       Manual   First  Individual        RWD"
      ]
     },
     "execution_count": 12,
     "metadata": {},
     "output_type": "execute_result"
    }
   ],
   "source": [
    "#Lista de variables categóricas\n",
    "catCols = d.select_dtypes(include = [\"object\", 'category']).columns.tolist()\n",
    "\n",
    "d[catCols].head()"
   ]
  },
  {
   "cell_type": "code",
   "execution_count": 13,
   "metadata": {
    "colab": {
     "base_uri": "https://localhost:8080/",
     "height": 195
    },
    "executionInfo": {
     "elapsed": 29987,
     "status": "ok",
     "timestamp": 1612389373681,
     "user": {
      "displayName": "JORGE ALONSO BEDOYA PUERTA",
      "photoUrl": "",
      "userId": "14875356627137784897"
     },
     "user_tz": 300
    },
    "id": "OslSQfGQd_qI",
    "outputId": "00b0ea5d-ef49-491a-a1cc-9109cf93aa1e"
   },
   "outputs": [
    {
     "data": {
      "text/html": [
       "<div>\n",
       "<style scoped>\n",
       "    .dataframe tbody tr th:only-of-type {\n",
       "        vertical-align: middle;\n",
       "    }\n",
       "\n",
       "    .dataframe tbody tr th {\n",
       "        vertical-align: top;\n",
       "    }\n",
       "\n",
       "    .dataframe thead th {\n",
       "        text-align: right;\n",
       "    }\n",
       "</style>\n",
       "<table border=\"1\" class=\"dataframe\">\n",
       "  <thead>\n",
       "    <tr style=\"text-align: right;\">\n",
       "      <th></th>\n",
       "      <th>Price</th>\n",
       "      <th>Year</th>\n",
       "      <th>Kilometer</th>\n",
       "      <th>Engine</th>\n",
       "      <th>Length</th>\n",
       "      <th>Width</th>\n",
       "      <th>Height</th>\n",
       "      <th>Seating Capacity</th>\n",
       "      <th>Fuel Tank Capacity</th>\n",
       "    </tr>\n",
       "  </thead>\n",
       "  <tbody>\n",
       "    <tr>\n",
       "      <th>0</th>\n",
       "      <td>505000</td>\n",
       "      <td>2017</td>\n",
       "      <td>87150</td>\n",
       "      <td>1198.0</td>\n",
       "      <td>3990.0</td>\n",
       "      <td>1680.0</td>\n",
       "      <td>1505.0</td>\n",
       "      <td>5.0</td>\n",
       "      <td>35.0</td>\n",
       "    </tr>\n",
       "    <tr>\n",
       "      <th>1</th>\n",
       "      <td>450000</td>\n",
       "      <td>2014</td>\n",
       "      <td>75000</td>\n",
       "      <td>1248.0</td>\n",
       "      <td>3995.0</td>\n",
       "      <td>1695.0</td>\n",
       "      <td>1555.0</td>\n",
       "      <td>5.0</td>\n",
       "      <td>42.0</td>\n",
       "    </tr>\n",
       "    <tr>\n",
       "      <th>2</th>\n",
       "      <td>220000</td>\n",
       "      <td>2011</td>\n",
       "      <td>67000</td>\n",
       "      <td>1197.0</td>\n",
       "      <td>3585.0</td>\n",
       "      <td>1595.0</td>\n",
       "      <td>1550.0</td>\n",
       "      <td>5.0</td>\n",
       "      <td>35.0</td>\n",
       "    </tr>\n",
       "    <tr>\n",
       "      <th>3</th>\n",
       "      <td>799000</td>\n",
       "      <td>2019</td>\n",
       "      <td>37500</td>\n",
       "      <td>1197.0</td>\n",
       "      <td>3995.0</td>\n",
       "      <td>1745.0</td>\n",
       "      <td>1510.0</td>\n",
       "      <td>5.0</td>\n",
       "      <td>37.0</td>\n",
       "    </tr>\n",
       "    <tr>\n",
       "      <th>4</th>\n",
       "      <td>1950000</td>\n",
       "      <td>2018</td>\n",
       "      <td>69000</td>\n",
       "      <td>2393.0</td>\n",
       "      <td>4735.0</td>\n",
       "      <td>1830.0</td>\n",
       "      <td>1795.0</td>\n",
       "      <td>7.0</td>\n",
       "      <td>55.0</td>\n",
       "    </tr>\n",
       "  </tbody>\n",
       "</table>\n",
       "</div>"
      ],
      "text/plain": [
       "     Price  Year  Kilometer  Engine  Length   Width  Height  Seating Capacity  \\\n",
       "0   505000  2017      87150  1198.0  3990.0  1680.0  1505.0               5.0   \n",
       "1   450000  2014      75000  1248.0  3995.0  1695.0  1555.0               5.0   \n",
       "2   220000  2011      67000  1197.0  3585.0  1595.0  1550.0               5.0   \n",
       "3   799000  2019      37500  1197.0  3995.0  1745.0  1510.0               5.0   \n",
       "4  1950000  2018      69000  2393.0  4735.0  1830.0  1795.0               7.0   \n",
       "\n",
       "   Fuel Tank Capacity  \n",
       "0                35.0  \n",
       "1                42.0  \n",
       "2                35.0  \n",
       "3                37.0  \n",
       "4                55.0  "
      ]
     },
     "execution_count": 13,
     "metadata": {},
     "output_type": "execute_result"
    }
   ],
   "source": [
    "#Lista de variables numéricas\n",
    "\n",
    "numCols=d.select_dtypes(include = ['float64','int32','int64']).columns.tolist()\n",
    "d[numCols].head()"
   ]
  },
  {
   "cell_type": "code",
   "execution_count": 14,
   "metadata": {
    "colab": {
     "base_uri": "https://localhost:8080/",
     "height": 447
    },
    "executionInfo": {
     "elapsed": 34166,
     "status": "ok",
     "timestamp": 1612389377870,
     "user": {
      "displayName": "JORGE ALONSO BEDOYA PUERTA",
      "photoUrl": "",
      "userId": "14875356627137784897"
     },
     "user_tz": 300
    },
    "id": "H6qvJKpcd_qI",
    "outputId": "5b300f74-2567-47e8-e8e8-8aba560e87e0"
   },
   "outputs": [
    {
     "data": {
      "image/png": "[encoded data removed]",
      "text/plain": [
       "<Figure size 1152x648 with 6 Axes>"
      ]
     },
     "metadata": {},
     "output_type": "display_data"
    }
   ],
   "source": [
    "#Visualización de frecuencia de instancias para variables categóricas\n",
    "plot_multiples_graficas(d,catCols, 3, 2, 'c', None, (16,9))"
   ]
  },
  {
   "cell_type": "code",
   "execution_count": 15,
   "metadata": {},
   "outputs": [
    {
     "data": {
      "image/png": "[encoded data removed]",
      "text/plain": [
       "<Figure size 1728x648 with 1 Axes>"
      ]
     },
     "metadata": {},
     "output_type": "display_data"
    }
   ],
   "source": [
    "#Visualización por medio de gráficos de caja de bigotes para la variable Make con respecto al precio\n",
    "plot_multiples_graficas(d,['Make'], 1, 1, 'b', 'Price', (24,9))"
   ]
  },
  {
   "cell_type": "code",
   "execution_count": 16,
   "metadata": {
    "colab": {
     "base_uri": "https://localhost:8080/",
     "height": 717
    },
    "executionInfo": {
     "elapsed": 40843,
     "status": "ok",
     "timestamp": 1612389384557,
     "user": {
      "displayName": "JORGE ALONSO BEDOYA PUERTA",
      "photoUrl": "",
      "userId": "14875356627137784897"
     },
     "user_tz": 300
    },
    "id": "-gUPnlx2d_qI",
    "outputId": "bbc61fb5-d2bf-42d9-d628-c028713744f8"
   },
   "outputs": [
    {
     "data": {
      "image/png": "[encoded data removed]",
      "text/plain": [
       "<Figure size 1152x504 with 6 Axes>"
      ]
     },
     "metadata": {},
     "output_type": "display_data"
    }
   ],
   "source": [
    "#Visualización por medio de gráficos de caja de bigotes para las variables categóricas con respecto al precio\n",
    "plot_multiples_graficas (d, catCols, 3, 2, 'b', 'Price', (16,7))"
   ]
  },
  {
   "cell_type": "code",
   "execution_count": 17,
   "metadata": {
    "colab": {
     "base_uri": "https://localhost:8080/",
     "height": 717
    },
    "executionInfo": {
     "elapsed": 43660,
     "status": "ok",
     "timestamp": 1612389387389,
     "user": {
      "displayName": "JORGE ALONSO BEDOYA PUERTA",
      "photoUrl": "",
      "userId": "14875356627137784897"
     },
     "user_tz": 300
    },
    "id": "Forf3B_xd_qJ",
    "outputId": "8650eac0-5e48-42c2-a0f6-5a11f3980c11"
   },
   "outputs": [
    {
     "data": {
      "image/png": "[encoded data removed]",
      "text/plain": [
       "<Figure size 1152x720 with 10 Axes>"
      ]
     },
     "metadata": {},
     "output_type": "display_data"
    }
   ],
   "source": [
    "#Visualización de variables numéricas con respecto al precio\n",
    "\n",
    "plot_multiples_graficas (d, numCols, 5, 2, 's', 'Price', (16,10))\n",
    "\n",
    "\n",
    "#Tambien puede utilizar la funcion pairplot de seaborn\n",
    "#sns.pairplot(d[numCols])\n",
    "#plt.show()"
   ]
  },
  {
   "cell_type": "markdown",
   "metadata": {},
   "source": [
    "### Variable de salida"
   ]
  },
  {
   "cell_type": "code",
   "execution_count": 18,
   "metadata": {
    "colab": {
     "base_uri": "https://localhost:8080/",
     "height": 299
    },
    "executionInfo": {
     "elapsed": 30014,
     "status": "ok",
     "timestamp": 1612389373678,
     "user": {
      "displayName": "JORGE ALONSO BEDOYA PUERTA",
      "photoUrl": "",
      "userId": "14875356627137784897"
     },
     "user_tz": 300
    },
    "id": "VHAu_AEHd_qH",
    "outputId": "52a14134-736f-401a-f144-c3179f34b7e9"
   },
   "outputs": [
    {
     "data": {
      "image/png": "[encoded data removed]",
      "text/plain": [
       "<Figure size 864x288 with 2 Axes>"
      ]
     },
     "metadata": {},
     "output_type": "display_data"
    }
   ],
   "source": [
    "#Histográma y caja de bigotes del precio de los vehículos\n",
    "\n",
    "plt.figure(figsize=(12,4))\n",
    "\n",
    "plt.subplot(1,2,1)\n",
    "plt.title('Distribución de precio de vehículos')\n",
    "sns.distplot(d['Price'])\n",
    "\n",
    "plt.subplot(1,2,2)\n",
    "plt.title('Diferencia de precios de vehículos')\n",
    "sns.boxplot(x=d['Price'])\n",
    "\n",
    "plt.show()"
   ]
  },
  {
   "cell_type": "code",
   "execution_count": 19,
   "metadata": {
    "colab": {
     "base_uri": "https://localhost:8080/"
    },
    "executionInfo": {
     "elapsed": 30005,
     "status": "ok",
     "timestamp": 1612389373678,
     "user": {
      "displayName": "JORGE ALONSO BEDOYA PUERTA",
      "photoUrl": "",
      "userId": "14875356627137784897"
     },
     "user_tz": 300
    },
    "id": "Odv2HwBDd_qH",
    "outputId": "c9085a36-40dc-4b1a-fbd0-89aa2acefc09"
   },
   "outputs": [
    {
     "name": "stdout",
     "output_type": "stream",
     "text": [
      "count       2053\n",
      "mean     1701391\n",
      "std      2419495\n",
      "min        49000\n",
      "25%       484999\n",
      "50%       825000\n",
      "75%      1925000\n",
      "85%      3100000\n",
      "90%      4150000\n",
      "95%      5870000\n",
      "97.5%    7449500\n",
      "100%    35000000\n",
      "max     35000000\n",
      "Name: Price, dtype: float64\n"
     ]
    }
   ],
   "source": [
    "#Descripción del precio de los vehículos: Total, media, desviación, mínimo, máximo y percentiles \n",
    "\n",
    "#Configuración de formato de visualización\n",
    "pd.set_option('display.float_format', lambda x: '%.0f' % x)\n",
    "\n",
    "#Descripción\n",
    "print(d['Price'].describe(percentiles = [0.25,0.50,0.75,0.85,0.90,0.95,0.975,1]))"
   ]
  },
  {
   "cell_type": "markdown",
   "metadata": {},
   "source": [
    "## 6. Preparación de datos"
   ]
  },
  {
   "cell_type": "markdown",
   "metadata": {},
   "source": [
    "### Valores atípicos de la variable de salida"
   ]
  },
  {
   "cell_type": "code",
   "execution_count": 20,
   "metadata": {},
   "outputs": [
    {
     "name": "stdout",
     "output_type": "stream",
     "text": [
      "Valor atípico leve inferior:-1675002.5\n",
      "Valor atípico leve superior:4085001.5\n"
     ]
    }
   ],
   "source": [
    "#Calculo de valores atípicos\n",
    "\n",
    "\n",
    "#Calculo de Q1 t Q3\n",
    "Q1 = np.percentile(d['Price'], 25, interpolation = 'midpoint') \n",
    "Q3 = np.percentile(d['Price'], 75, interpolation = 'midpoint') \n",
    "  \n",
    "#Cálculo del rango intercuartil    \n",
    "IQR = Q3 - Q1 \n",
    "\n",
    "#Cálculo de valor mínimo y máximo para los valores atípicos\n",
    "VAInf = Q1 - 1.5*IQR\n",
    "VASup = Q3 + 1.5*IQR\n",
    "   \n",
    "print(f'Valor atípico leve inferior:{VAInf}') \n",
    "print(f'Valor atípico leve superior:{VASup}') \n"
   ]
  },
  {
   "cell_type": "code",
   "execution_count": 21,
   "metadata": {},
   "outputs": [],
   "source": [
    "# Se eliminan los valores atípicos\n",
    "d = d.drop(d[d['Price']>VASup].index)\n",
    "\n",
    "#Reiniciar el indice\n",
    "d.reset_index(drop=True, inplace=True) "
   ]
  },
  {
   "cell_type": "code",
   "execution_count": 22,
   "metadata": {},
   "outputs": [
    {
     "data": {
      "image/png": "[encoded data removed]",
      "text/plain": [
       "<Figure size 864x288 with 2 Axes>"
      ]
     },
     "metadata": {},
     "output_type": "display_data"
    }
   ],
   "source": [
    "#Histográma y caja de bigotes del precio de los vehículos\n",
    "\n",
    "plt.figure(figsize=(12,4))\n",
    "\n",
    "plt.subplot(1,2,1)\n",
    "plt.title('Car Price Distribution Plot')\n",
    "sns.distplot(d['Price'])\n",
    "\n",
    "plt.subplot(1,2,2)\n",
    "plt.title('Car Price Spread')\n",
    "sns.boxplot(x=d['Price'])\n",
    "\n",
    "plt.show()"
   ]
  },
  {
   "cell_type": "code",
   "execution_count": 23,
   "metadata": {},
   "outputs": [
    {
     "name": "stdout",
     "output_type": "stream",
     "text": [
      "count      1839\n",
      "mean    1083866\n",
      "std      889819\n",
      "min       49000\n",
      "25%      450000\n",
      "50%      740000\n",
      "75%     1480000\n",
      "85%     1991499\n",
      "90%     2499200\n",
      "95%     3125000\n",
      "97.5%   3500000\n",
      "100%    4000000\n",
      "max     4000000\n",
      "Name: Price, dtype: float64\n"
     ]
    }
   ],
   "source": [
    "#Descripción del precio de los vehículos después de eliminar valores atípicos\n",
    "\n",
    "print(d['Price'].describe(percentiles = [0.25,0.50,0.75,0.85,0.90,0.95,0.975,1]))"
   ]
  },
  {
   "cell_type": "markdown",
   "metadata": {
    "colab": {
     "base_uri": "https://localhost:8080/"
    },
    "executionInfo": {
     "elapsed": 43650,
     "status": "ok",
     "timestamp": 1612389387390,
     "user": {
      "displayName": "JORGE ALONSO BEDOYA PUERTA",
      "photoUrl": "",
      "userId": "14875356627137784897"
     },
     "user_tz": 300
    },
    "id": "anzcFuv4d_qJ",
    "outputId": "99362c61-f369-4c9e-c807-dd9c7e6d8901"
   },
   "source": [
    "### Imputaciones"
   ]
  },
  {
   "cell_type": "code",
   "execution_count": 24,
   "metadata": {},
   "outputs": [
    {
     "name": "stdout",
     "output_type": "stream",
     "text": [
      "Price 0\n",
      "Year 0\n",
      "Kilometer 0\n",
      "Engine 75\n",
      "Length 59\n",
      "Width 59\n",
      "Height 59\n",
      "Seating Capacity 59\n",
      "Fuel Tank Capacity 95\n"
     ]
    }
   ],
   "source": [
    "#Identificación de valores nulos para las variables numéricas\n",
    "for col in d[numCols]:\n",
    "    print (col, np.sum(pd.isnull(d[col])))"
   ]
  },
  {
   "cell_type": "code",
   "execution_count": 25,
   "metadata": {},
   "outputs": [
    {
     "data": {
      "text/html": [
       "<div>\n",
       "<style scoped>\n",
       "    .dataframe tbody tr th:only-of-type {\n",
       "        vertical-align: middle;\n",
       "    }\n",
       "\n",
       "    .dataframe tbody tr th {\n",
       "        vertical-align: top;\n",
       "    }\n",
       "\n",
       "    .dataframe thead th {\n",
       "        text-align: right;\n",
       "    }\n",
       "</style>\n",
       "<table border=\"1\" class=\"dataframe\">\n",
       "  <thead>\n",
       "    <tr style=\"text-align: right;\">\n",
       "      <th></th>\n",
       "      <th>Price</th>\n",
       "      <th>Year</th>\n",
       "      <th>Kilometer</th>\n",
       "      <th>Engine</th>\n",
       "      <th>Length</th>\n",
       "      <th>Width</th>\n",
       "      <th>Height</th>\n",
       "      <th>Seating Capacity</th>\n",
       "      <th>Fuel Tank Capacity</th>\n",
       "    </tr>\n",
       "  </thead>\n",
       "  <tbody>\n",
       "    <tr>\n",
       "      <th>0</th>\n",
       "      <td>505000</td>\n",
       "      <td>2017</td>\n",
       "      <td>87150</td>\n",
       "      <td>1198</td>\n",
       "      <td>3990</td>\n",
       "      <td>1680</td>\n",
       "      <td>1505</td>\n",
       "      <td>5</td>\n",
       "      <td>35</td>\n",
       "    </tr>\n",
       "    <tr>\n",
       "      <th>1</th>\n",
       "      <td>450000</td>\n",
       "      <td>2014</td>\n",
       "      <td>75000</td>\n",
       "      <td>1248</td>\n",
       "      <td>3995</td>\n",
       "      <td>1695</td>\n",
       "      <td>1555</td>\n",
       "      <td>5</td>\n",
       "      <td>42</td>\n",
       "    </tr>\n",
       "    <tr>\n",
       "      <th>2</th>\n",
       "      <td>220000</td>\n",
       "      <td>2011</td>\n",
       "      <td>67000</td>\n",
       "      <td>1197</td>\n",
       "      <td>3585</td>\n",
       "      <td>1595</td>\n",
       "      <td>1550</td>\n",
       "      <td>5</td>\n",
       "      <td>35</td>\n",
       "    </tr>\n",
       "    <tr>\n",
       "      <th>3</th>\n",
       "      <td>799000</td>\n",
       "      <td>2019</td>\n",
       "      <td>37500</td>\n",
       "      <td>1197</td>\n",
       "      <td>3995</td>\n",
       "      <td>1745</td>\n",
       "      <td>1510</td>\n",
       "      <td>5</td>\n",
       "      <td>37</td>\n",
       "    </tr>\n",
       "    <tr>\n",
       "      <th>4</th>\n",
       "      <td>1950000</td>\n",
       "      <td>2018</td>\n",
       "      <td>69000</td>\n",
       "      <td>2393</td>\n",
       "      <td>4735</td>\n",
       "      <td>1830</td>\n",
       "      <td>1795</td>\n",
       "      <td>7</td>\n",
       "      <td>55</td>\n",
       "    </tr>\n",
       "  </tbody>\n",
       "</table>\n",
       "</div>"
      ],
      "text/plain": [
       "    Price  Year  Kilometer  Engine  Length  Width  Height  Seating Capacity  \\\n",
       "0  505000  2017      87150    1198    3990   1680    1505                 5   \n",
       "1  450000  2014      75000    1248    3995   1695    1555                 5   \n",
       "2  220000  2011      67000    1197    3585   1595    1550                 5   \n",
       "3  799000  2019      37500    1197    3995   1745    1510                 5   \n",
       "4 1950000  2018      69000    2393    4735   1830    1795                 7   \n",
       "\n",
       "   Fuel Tank Capacity  \n",
       "0                  35  \n",
       "1                  42  \n",
       "2                  35  \n",
       "3                  37  \n",
       "4                  55  "
      ]
     },
     "execution_count": 25,
     "metadata": {},
     "output_type": "execute_result"
    }
   ],
   "source": [
    "#Imputación de variables numéricas por medio de KNNImputer\n",
    "\n",
    "# crear un objeto KNNImputer con k=5\n",
    "imputer = KNNImputer(n_neighbors=5)\n",
    "\n",
    "# imputar los valores faltantes en el dataframe\n",
    "df_imputed = imputer.fit_transform(d[numCols])\n",
    "\n",
    "# convertir el arreglo numpy devuelto por el imputer en un dataframe\n",
    "df_imputed = pd.DataFrame(df_imputed, columns=numCols)\n",
    "\n",
    "# imprimir el dataframe con los valores imputados\n",
    "df_imputed.head()"
   ]
  },
  {
   "cell_type": "code",
   "execution_count": 26,
   "metadata": {},
   "outputs": [
    {
     "data": {
      "text/html": [
       "<div>\n",
       "<style scoped>\n",
       "    .dataframe tbody tr th:only-of-type {\n",
       "        vertical-align: middle;\n",
       "    }\n",
       "\n",
       "    .dataframe tbody tr th {\n",
       "        vertical-align: top;\n",
       "    }\n",
       "\n",
       "    .dataframe thead th {\n",
       "        text-align: right;\n",
       "    }\n",
       "</style>\n",
       "<table border=\"1\" class=\"dataframe\">\n",
       "  <thead>\n",
       "    <tr style=\"text-align: right;\">\n",
       "      <th></th>\n",
       "      <th>Make</th>\n",
       "      <th>Fuel Type</th>\n",
       "      <th>Transmission</th>\n",
       "      <th>Owner</th>\n",
       "      <th>Seller Type</th>\n",
       "      <th>Drivetrain</th>\n",
       "    </tr>\n",
       "  </thead>\n",
       "  <tbody>\n",
       "    <tr>\n",
       "      <th>0</th>\n",
       "      <td>Honda</td>\n",
       "      <td>Petrol</td>\n",
       "      <td>Manual</td>\n",
       "      <td>First</td>\n",
       "      <td>Corporate</td>\n",
       "      <td>FWD</td>\n",
       "    </tr>\n",
       "    <tr>\n",
       "      <th>1</th>\n",
       "      <td>Maruti Suzuki</td>\n",
       "      <td>Diesel</td>\n",
       "      <td>Manual</td>\n",
       "      <td>Second</td>\n",
       "      <td>Individual</td>\n",
       "      <td>FWD</td>\n",
       "    </tr>\n",
       "    <tr>\n",
       "      <th>2</th>\n",
       "      <td>Hyundai</td>\n",
       "      <td>Petrol</td>\n",
       "      <td>Manual</td>\n",
       "      <td>First</td>\n",
       "      <td>Individual</td>\n",
       "      <td>FWD</td>\n",
       "    </tr>\n",
       "    <tr>\n",
       "      <th>3</th>\n",
       "      <td>Toyota</td>\n",
       "      <td>Petrol</td>\n",
       "      <td>Manual</td>\n",
       "      <td>First</td>\n",
       "      <td>Individual</td>\n",
       "      <td>FWD</td>\n",
       "    </tr>\n",
       "    <tr>\n",
       "      <th>4</th>\n",
       "      <td>Toyota</td>\n",
       "      <td>Diesel</td>\n",
       "      <td>Manual</td>\n",
       "      <td>First</td>\n",
       "      <td>Individual</td>\n",
       "      <td>RWD</td>\n",
       "    </tr>\n",
       "    <tr>\n",
       "      <th>...</th>\n",
       "      <td>...</td>\n",
       "      <td>...</td>\n",
       "      <td>...</td>\n",
       "      <td>...</td>\n",
       "      <td>...</td>\n",
       "      <td>...</td>\n",
       "    </tr>\n",
       "    <tr>\n",
       "      <th>1834</th>\n",
       "      <td>Maruti Suzuki</td>\n",
       "      <td>Petrol</td>\n",
       "      <td>Manual</td>\n",
       "      <td>Second</td>\n",
       "      <td>Individual</td>\n",
       "      <td>FWD</td>\n",
       "    </tr>\n",
       "    <tr>\n",
       "      <th>1835</th>\n",
       "      <td>Mahindra</td>\n",
       "      <td>Diesel</td>\n",
       "      <td>Manual</td>\n",
       "      <td>First</td>\n",
       "      <td>Individual</td>\n",
       "      <td>FWD</td>\n",
       "    </tr>\n",
       "    <tr>\n",
       "      <th>1836</th>\n",
       "      <td>Hyundai</td>\n",
       "      <td>Petrol</td>\n",
       "      <td>Manual</td>\n",
       "      <td>Second</td>\n",
       "      <td>Individual</td>\n",
       "      <td>FWD</td>\n",
       "    </tr>\n",
       "    <tr>\n",
       "      <th>1837</th>\n",
       "      <td>Ford</td>\n",
       "      <td>Petrol</td>\n",
       "      <td>Manual</td>\n",
       "      <td>First</td>\n",
       "      <td>Individual</td>\n",
       "      <td>FWD</td>\n",
       "    </tr>\n",
       "    <tr>\n",
       "      <th>1838</th>\n",
       "      <td>Mahindra</td>\n",
       "      <td>Diesel</td>\n",
       "      <td>Manual</td>\n",
       "      <td>First</td>\n",
       "      <td>Individual</td>\n",
       "      <td>RWD</td>\n",
       "    </tr>\n",
       "  </tbody>\n",
       "</table>\n",
       "<p>1839 rows × 6 columns</p>\n",
       "</div>"
      ],
      "text/plain": [
       "               Make Fuel Type Transmission   Owner Seller Type Drivetrain\n",
       "0             Honda    Petrol       Manual   First   Corporate        FWD\n",
       "1     Maruti Suzuki    Diesel       Manual  Second  Individual        FWD\n",
       "2           Hyundai    Petrol       Manual   First  Individual        FWD\n",
       "3            Toyota    Petrol       Manual   First  Individual        FWD\n",
       "4            Toyota    Diesel       Manual   First  Individual        RWD\n",
       "...             ...       ...          ...     ...         ...        ...\n",
       "1834  Maruti Suzuki    Petrol       Manual  Second  Individual        FWD\n",
       "1835       Mahindra    Diesel       Manual   First  Individual        FWD\n",
       "1836        Hyundai    Petrol       Manual  Second  Individual        FWD\n",
       "1837           Ford    Petrol       Manual   First  Individual        FWD\n",
       "1838       Mahindra    Diesel       Manual   First  Individual        RWD\n",
       "\n",
       "[1839 rows x 6 columns]"
      ]
     },
     "execution_count": 26,
     "metadata": {},
     "output_type": "execute_result"
    }
   ],
   "source": [
    "#Imputación de variables categóricas por medio de SimpleImputer\n",
    "\n",
    "# crear un objeto SimpleImputer con la estrategia de más frecuente\n",
    "imputer = SimpleImputer(strategy='most_frequent')\n",
    "\n",
    "# imputar los valores faltantes en el dataframe\n",
    "df_imputed2 = imputer.fit_transform(d[catCols])\n",
    "\n",
    "# convertir el arreglo numpy devuelto por el imputer en un dataframe\n",
    "df_imputed2 = pd.DataFrame(df_imputed2, columns=catCols)\n",
    "\n",
    "#imprimir el dataframe con los valores imputados\n",
    "df_imputed2"
   ]
  },
  {
   "cell_type": "code",
   "execution_count": 27,
   "metadata": {},
   "outputs": [
    {
     "data": {
      "text/html": [
       "<div>\n",
       "<style scoped>\n",
       "    .dataframe tbody tr th:only-of-type {\n",
       "        vertical-align: middle;\n",
       "    }\n",
       "\n",
       "    .dataframe tbody tr th {\n",
       "        vertical-align: top;\n",
       "    }\n",
       "\n",
       "    .dataframe thead th {\n",
       "        text-align: right;\n",
       "    }\n",
       "</style>\n",
       "<table border=\"1\" class=\"dataframe\">\n",
       "  <thead>\n",
       "    <tr style=\"text-align: right;\">\n",
       "      <th></th>\n",
       "      <th>Price</th>\n",
       "      <th>Year</th>\n",
       "      <th>Kilometer</th>\n",
       "      <th>Engine</th>\n",
       "      <th>Length</th>\n",
       "      <th>Width</th>\n",
       "      <th>Height</th>\n",
       "      <th>Seating Capacity</th>\n",
       "      <th>Fuel Tank Capacity</th>\n",
       "      <th>Make</th>\n",
       "      <th>Fuel Type</th>\n",
       "      <th>Transmission</th>\n",
       "      <th>Owner</th>\n",
       "      <th>Seller Type</th>\n",
       "      <th>Drivetrain</th>\n",
       "    </tr>\n",
       "  </thead>\n",
       "  <tbody>\n",
       "    <tr>\n",
       "      <th>0</th>\n",
       "      <td>505000</td>\n",
       "      <td>2017</td>\n",
       "      <td>87150</td>\n",
       "      <td>1198</td>\n",
       "      <td>3990</td>\n",
       "      <td>1680</td>\n",
       "      <td>1505</td>\n",
       "      <td>5</td>\n",
       "      <td>35</td>\n",
       "      <td>Honda</td>\n",
       "      <td>Petrol</td>\n",
       "      <td>Manual</td>\n",
       "      <td>First</td>\n",
       "      <td>Corporate</td>\n",
       "      <td>FWD</td>\n",
       "    </tr>\n",
       "    <tr>\n",
       "      <th>1</th>\n",
       "      <td>450000</td>\n",
       "      <td>2014</td>\n",
       "      <td>75000</td>\n",
       "      <td>1248</td>\n",
       "      <td>3995</td>\n",
       "      <td>1695</td>\n",
       "      <td>1555</td>\n",
       "      <td>5</td>\n",
       "      <td>42</td>\n",
       "      <td>Maruti Suzuki</td>\n",
       "      <td>Diesel</td>\n",
       "      <td>Manual</td>\n",
       "      <td>Second</td>\n",
       "      <td>Individual</td>\n",
       "      <td>FWD</td>\n",
       "    </tr>\n",
       "    <tr>\n",
       "      <th>2</th>\n",
       "      <td>220000</td>\n",
       "      <td>2011</td>\n",
       "      <td>67000</td>\n",
       "      <td>1197</td>\n",
       "      <td>3585</td>\n",
       "      <td>1595</td>\n",
       "      <td>1550</td>\n",
       "      <td>5</td>\n",
       "      <td>35</td>\n",
       "      <td>Hyundai</td>\n",
       "      <td>Petrol</td>\n",
       "      <td>Manual</td>\n",
       "      <td>First</td>\n",
       "      <td>Individual</td>\n",
       "      <td>FWD</td>\n",
       "    </tr>\n",
       "    <tr>\n",
       "      <th>3</th>\n",
       "      <td>799000</td>\n",
       "      <td>2019</td>\n",
       "      <td>37500</td>\n",
       "      <td>1197</td>\n",
       "      <td>3995</td>\n",
       "      <td>1745</td>\n",
       "      <td>1510</td>\n",
       "      <td>5</td>\n",
       "      <td>37</td>\n",
       "      <td>Toyota</td>\n",
       "      <td>Petrol</td>\n",
       "      <td>Manual</td>\n",
       "      <td>First</td>\n",
       "      <td>Individual</td>\n",
       "      <td>FWD</td>\n",
       "    </tr>\n",
       "    <tr>\n",
       "      <th>4</th>\n",
       "      <td>1950000</td>\n",
       "      <td>2018</td>\n",
       "      <td>69000</td>\n",
       "      <td>2393</td>\n",
       "      <td>4735</td>\n",
       "      <td>1830</td>\n",
       "      <td>1795</td>\n",
       "      <td>7</td>\n",
       "      <td>55</td>\n",
       "      <td>Toyota</td>\n",
       "      <td>Diesel</td>\n",
       "      <td>Manual</td>\n",
       "      <td>First</td>\n",
       "      <td>Individual</td>\n",
       "      <td>RWD</td>\n",
       "    </tr>\n",
       "  </tbody>\n",
       "</table>\n",
       "</div>"
      ],
      "text/plain": [
       "    Price  Year  Kilometer  Engine  Length  Width  Height  Seating Capacity  \\\n",
       "0  505000  2017      87150    1198    3990   1680    1505                 5   \n",
       "1  450000  2014      75000    1248    3995   1695    1555                 5   \n",
       "2  220000  2011      67000    1197    3585   1595    1550                 5   \n",
       "3  799000  2019      37500    1197    3995   1745    1510                 5   \n",
       "4 1950000  2018      69000    2393    4735   1830    1795                 7   \n",
       "\n",
       "   Fuel Tank Capacity           Make Fuel Type Transmission   Owner  \\\n",
       "0                  35          Honda    Petrol       Manual   First   \n",
       "1                  42  Maruti Suzuki    Diesel       Manual  Second   \n",
       "2                  35        Hyundai    Petrol       Manual   First   \n",
       "3                  37         Toyota    Petrol       Manual   First   \n",
       "4                  55         Toyota    Diesel       Manual   First   \n",
       "\n",
       "  Seller Type Drivetrain  \n",
       "0   Corporate        FWD  \n",
       "1  Individual        FWD  \n",
       "2  Individual        FWD  \n",
       "3  Individual        FWD  \n",
       "4  Individual        RWD  "
      ]
     },
     "execution_count": 27,
     "metadata": {},
     "output_type": "execute_result"
    }
   ],
   "source": [
    "#Integración de los dos dataframes (categoricos y numéricos) después de la imputación\n",
    "d = pd.merge(df_imputed, df_imputed2, left_index=True, right_index=True)\n",
    "d.head()"
   ]
  },
  {
   "cell_type": "code",
   "execution_count": 28,
   "metadata": {
    "scrolled": false
   },
   "outputs": [
    {
     "name": "stdout",
     "output_type": "stream",
     "text": [
      "Price 0\n",
      "Year 0\n",
      "Kilometer 0\n",
      "Engine 0\n",
      "Length 0\n",
      "Width 0\n",
      "Height 0\n",
      "Seating Capacity 0\n",
      "Fuel Tank Capacity 0\n",
      "Make 0\n",
      "Fuel Type 0\n",
      "Transmission 0\n",
      "Owner 0\n",
      "Seller Type 0\n",
      "Drivetrain 0\n"
     ]
    }
   ],
   "source": [
    "#verificación de la imputación: No existen valores nulos\n",
    "for col in d.columns:\n",
    "    print (col, np.sum(pd.isnull(d[col])))"
   ]
  },
  {
   "cell_type": "markdown",
   "metadata": {},
   "source": [
    "### Valores atípicos para las variables de entrada"
   ]
  },
  {
   "cell_type": "code",
   "execution_count": 29,
   "metadata": {},
   "outputs": [
    {
     "name": "stdout",
     "output_type": "stream",
     "text": [
      "Indices de valores atípicos:  [16, 25, 68, 77, 85, 86, 90, 102, 110, 125, 131, 140, 172, 177, 208, 222, 234, 266, 272, 274, 287, 293, 295, 296, 304, 310, 314, 316, 330, 349, 358, 362, 381, 383, 387, 393, 402, 403, 409, 414, 422, 423, 434, 437, 444, 447, 449, 454, 480, 500, 507, 511, 512, 514, 516, 569, 584, 585, 587, 591, 602, 612, 622, 627, 628, 634, 641, 642, 654, 659, 660, 665, 667, 670, 690, 702, 714, 740, 745, 767, 779, 784, 791, 792, 802, 806, 807, 810, 823, 824, 832, 834, 844, 854, 872, 873, 874, 876, 895, 915, 920, 952, 985, 999, 1004, 1006, 1007, 1008, 1012, 1019, 1025, 1029, 1043, 1045, 1083, 1086, 1122, 1143, 1146, 1148, 1163, 1190, 1196, 1197, 1218, 1223, 1262, 1268, 1295, 1296, 1319, 1323, 1329, 1338, 1352, 1356, 1360, 1369, 1384, 1386, 1421, 1438, 1442, 1447, 1451, 1459, 1467, 1500, 1501, 1507, 1541, 1569, 1578, 1601, 1602, 1605, 1608, 1612, 1614, 1617, 1619, 1622, 1627, 1646, 1665, 1672, 1688, 1711, 1719, 1744, 1747, 1749, 1756, 1768, 1777, 1778, 1789, 1790, 1804, 1806, 1807, 1813, 1818, 1822]\n"
     ]
    }
   ],
   "source": [
    "#utilización de LocalOutlierFactor con 14 vecinos para identificar valores atípicos en las variables de entrada\n",
    "\n",
    "\n",
    "# crear un objeto LocalOutlierFactor con n_neighbors=14\n",
    "lof = LocalOutlierFactor(n_neighbors=14, contamination=0.1)\n",
    "\n",
    "# identificar los valires atípicos por medio de lof \n",
    "y_pred = lof.fit_predict(d[numCols])\n",
    "\n",
    "# Identificar los índices de los valores atípicos\n",
    "outliers = y_pred == -1\n",
    "\n",
    "print('Indices de valores atípicos: ', d[outliers].index.tolist())\n"
   ]
  },
  {
   "cell_type": "code",
   "execution_count": 30,
   "metadata": {},
   "outputs": [],
   "source": [
    "# Eliminar los valores atípicos del dataframe original\n",
    "d = d.loc[~outliers]"
   ]
  },
  {
   "cell_type": "markdown",
   "metadata": {},
   "source": [
    "### Transformaciones"
   ]
  },
  {
   "cell_type": "code",
   "execution_count": 31,
   "metadata": {},
   "outputs": [
    {
     "data": {
      "text/plain": [
       "Petrol          810\n",
       "Diesel          785\n",
       "CNG              48\n",
       "Electric          5\n",
       "LPG               4\n",
       "CNG + CNG         1\n",
       "Petrol + CNG      1\n",
       "Petrol + LPG      1\n",
       "Name: Fuel Type, dtype: int64"
      ]
     },
     "execution_count": 31,
     "metadata": {},
     "output_type": "execute_result"
    }
   ],
   "source": [
    "#Eliminación de categorias pequeñas para la variable Fuel Type\n",
    "\n",
    "d['Fuel Type'].value_counts().sort_values(ascending=False)"
   ]
  },
  {
   "cell_type": "code",
   "execution_count": 32,
   "metadata": {},
   "outputs": [],
   "source": [
    "#Diccionario con los reemplazos a realizar\n",
    "reemplazos = {  \"Electric\": \"Otro\"\n",
    "              , \"LPG\": \"Otro\"\n",
    "              , \"CNG + CNG\": \"Otro\"\n",
    "              , \"Petrol + CNG\": \"Otro\"\n",
    "              , \"Petrol + LPG\": \"Otro\"}\n",
    "\n",
    "\n",
    "#Se reemplazan los valores de acuerdo con el diccionario creado anteriormente\n",
    "d['Fuel Type'] = d['Fuel Type'].map(reemplazos).fillna(d['Fuel Type'])\n",
    "\n",
    "#Visualización de las nuevos valores agrupados para la categoria 'Fuel Type'\n",
    "d['Fuel Type'].value_counts().sort_values(ascending=False)"
   ]
  },
  {
   "cell_type": "code",
   "execution_count": 33,
   "metadata": {},
   "outputs": [
    {
     "data": {
      "text/plain": [
       "Petrol    810\n",
       "Diesel    785\n",
       "CNG        48\n",
       "Otro       12\n",
       "Name: Fuel Type, dtype: int64"
      ]
     },
     "execution_count": 33,
     "metadata": {},
     "output_type": "execute_result"
    }
   ],
   "source": []
  },
  {
   "cell_type": "code",
   "execution_count": 133,
   "metadata": {},
   "outputs": [
    {
     "data": {
      "text/plain": [
       "Maruti Suzuki    400\n",
       "Hyundai          323\n",
       "Honda            142\n",
       "Toyota           108\n",
       "Audi              99\n",
       "Mahindra          97\n",
       "Mercedes-Benz     84\n",
       "BMW               65\n",
       "Volkswagen        44\n",
       "Tata              43\n",
       "Ford              43\n",
       "Renault           38\n",
       "Skoda             36\n",
       "Kia               21\n",
       "MG                17\n",
       "Jeep              14\n",
       "Nissan            14\n",
       "Jaguar            12\n",
       "Volvo             11\n",
       "MINI              10\n",
       "Land Rover         9\n",
       "Datsun             7\n",
       "Chevrolet          7\n",
       "Isuzu              2\n",
       "Fiat               2\n",
       "Mitsubishi         2\n",
       "Ssangyong          2\n",
       "Lexus              2\n",
       "Porsche            1\n",
       "Name: Make, dtype: int64"
      ]
     },
     "execution_count": 133,
     "metadata": {},
     "output_type": "execute_result"
    }
   ],
   "source": [
    "#Discretización (binning) de la variable 'Make'\n",
    "\n",
    "#Cantidad de instancias por Make\n",
    "d['Make'].value_counts().sort_values(ascending=False)"
   ]
  },
  {
   "cell_type": "code",
   "execution_count": 134,
   "metadata": {},
   "outputs": [
    {
     "data": {
      "text/plain": [
       "Make\n",
       "Porsche         3600000\n",
       "Land Rover      3500000\n",
       "MINI            3250000\n",
       "Jaguar          3000000\n",
       "Lexus           3000000\n",
       "BMW             2650000\n",
       "Mercedes-Benz   2250000\n",
       "Audi            2089999\n",
       "Isuzu           1945500\n",
       "Volvo           1798999\n",
       "MG              1780000\n",
       "Toyota          1750000\n",
       "Jeep            1667000\n",
       "Kia             1525000\n",
       "Skoda           1395000\n",
       "Mahindra        1050000\n",
       "Mitsubishi      1050000\n",
       "Ssangyong        937500\n",
       "Tata             890000\n",
       "Hyundai          591000\n",
       "Honda            585000\n",
       "Ford             585000\n",
       "Volkswagen       570000\n",
       "Maruti Suzuki    535000\n",
       "Nissan           447500\n",
       "Renault          419500\n",
       "Datsun           320000\n",
       "Chevrolet        320000\n",
       "Fiat             305000\n",
       "Name: Price, dtype: float64"
      ]
     },
     "execution_count": 134,
     "metadata": {},
     "output_type": "execute_result"
    }
   ],
   "source": [
    "#Se Calcula la mediana por marca 'Make'\n",
    "\n",
    "d.groupby('Make').Price.median().sort_values(ascending=False)"
   ]
  },
  {
   "cell_type": "code",
   "execution_count": 135,
   "metadata": {},
   "outputs": [
    {
     "data": {
      "image/png": "[encoded data removed]",
      "text/plain": [
       "<Figure size 432x432 with 1 Axes>"
      ]
     },
     "metadata": {},
     "output_type": "display_data"
    }
   ],
   "source": [
    "#Gráfica de visualización de precio medio por marca 'Make'\n",
    "plt.figure(figsize=(6, 6))\n",
    "\n",
    "d.groupby('Make').Price.median().sort_values(ascending=True).plot.barh()\n",
    "plt.title(\"Precio medio por marca\")\n",
    "plt.ylabel(\"Make\")\n",
    "plt.xlabel(\"Price\")\n",
    "plt.show()"
   ]
  },
  {
   "cell_type": "code",
   "execution_count": 136,
   "metadata": {},
   "outputs": [
    {
     "data": {
      "text/html": [
       "<div>\n",
       "<style scoped>\n",
       "    .dataframe tbody tr th:only-of-type {\n",
       "        vertical-align: middle;\n",
       "    }\n",
       "\n",
       "    .dataframe tbody tr th {\n",
       "        vertical-align: top;\n",
       "    }\n",
       "\n",
       "    .dataframe thead th {\n",
       "        text-align: right;\n",
       "    }\n",
       "</style>\n",
       "<table border=\"1\" class=\"dataframe\">\n",
       "  <thead>\n",
       "    <tr style=\"text-align: right;\">\n",
       "      <th></th>\n",
       "      <th>Make</th>\n",
       "      <th>Price</th>\n",
       "    </tr>\n",
       "  </thead>\n",
       "  <tbody>\n",
       "    <tr>\n",
       "      <th>0</th>\n",
       "      <td>Porsche</td>\n",
       "      <td>3600000</td>\n",
       "    </tr>\n",
       "    <tr>\n",
       "      <th>1</th>\n",
       "      <td>Land Rover</td>\n",
       "      <td>3500000</td>\n",
       "    </tr>\n",
       "    <tr>\n",
       "      <th>2</th>\n",
       "      <td>MINI</td>\n",
       "      <td>3250000</td>\n",
       "    </tr>\n",
       "    <tr>\n",
       "      <th>3</th>\n",
       "      <td>Jaguar</td>\n",
       "      <td>3000000</td>\n",
       "    </tr>\n",
       "    <tr>\n",
       "      <th>4</th>\n",
       "      <td>Lexus</td>\n",
       "      <td>3000000</td>\n",
       "    </tr>\n",
       "    <tr>\n",
       "      <th>5</th>\n",
       "      <td>BMW</td>\n",
       "      <td>2650000</td>\n",
       "    </tr>\n",
       "    <tr>\n",
       "      <th>6</th>\n",
       "      <td>Mercedes-Benz</td>\n",
       "      <td>2250000</td>\n",
       "    </tr>\n",
       "    <tr>\n",
       "      <th>7</th>\n",
       "      <td>Audi</td>\n",
       "      <td>2089999</td>\n",
       "    </tr>\n",
       "    <tr>\n",
       "      <th>8</th>\n",
       "      <td>Isuzu</td>\n",
       "      <td>1945500</td>\n",
       "    </tr>\n",
       "    <tr>\n",
       "      <th>9</th>\n",
       "      <td>Volvo</td>\n",
       "      <td>1798999</td>\n",
       "    </tr>\n",
       "  </tbody>\n",
       "</table>\n",
       "</div>"
      ],
      "text/plain": [
       "            Make   Price\n",
       "0        Porsche 3600000\n",
       "1     Land Rover 3500000\n",
       "2           MINI 3250000\n",
       "3         Jaguar 3000000\n",
       "4          Lexus 3000000\n",
       "5            BMW 2650000\n",
       "6  Mercedes-Benz 2250000\n",
       "7           Audi 2089999\n",
       "8          Isuzu 1945500\n",
       "9          Volvo 1798999"
      ]
     },
     "execution_count": 136,
     "metadata": {},
     "output_type": "execute_result"
    }
   ],
   "source": [
    "df= d.groupby('Make').Price.median().sort_values(ascending=False)\n",
    "df=df.reset_index()\n",
    "df.head(10)"
   ]
  },
  {
   "cell_type": "code",
   "execution_count": 137,
   "metadata": {},
   "outputs": [
    {
     "data": {
      "text/html": [
       "<div>\n",
       "<style scoped>\n",
       "    .dataframe tbody tr th:only-of-type {\n",
       "        vertical-align: middle;\n",
       "    }\n",
       "\n",
       "    .dataframe tbody tr th {\n",
       "        vertical-align: top;\n",
       "    }\n",
       "\n",
       "    .dataframe thead th {\n",
       "        text-align: right;\n",
       "    }\n",
       "</style>\n",
       "<table border=\"1\" class=\"dataframe\">\n",
       "  <thead>\n",
       "    <tr style=\"text-align: right;\">\n",
       "      <th></th>\n",
       "      <th>Make</th>\n",
       "      <th>Price</th>\n",
       "      <th>PriceRange</th>\n",
       "    </tr>\n",
       "  </thead>\n",
       "  <tbody>\n",
       "    <tr>\n",
       "      <th>0</th>\n",
       "      <td>Porsche</td>\n",
       "      <td>3600000.0000</td>\n",
       "      <td>6</td>\n",
       "    </tr>\n",
       "    <tr>\n",
       "      <th>1</th>\n",
       "      <td>Land Rover</td>\n",
       "      <td>3500000.0000</td>\n",
       "      <td>6</td>\n",
       "    </tr>\n",
       "    <tr>\n",
       "      <th>2</th>\n",
       "      <td>MINI</td>\n",
       "      <td>3250000.0000</td>\n",
       "      <td>5</td>\n",
       "    </tr>\n",
       "    <tr>\n",
       "      <th>3</th>\n",
       "      <td>Jaguar</td>\n",
       "      <td>3000000.0000</td>\n",
       "      <td>5</td>\n",
       "    </tr>\n",
       "    <tr>\n",
       "      <th>4</th>\n",
       "      <td>Lexus</td>\n",
       "      <td>3000000.0000</td>\n",
       "      <td>5</td>\n",
       "    </tr>\n",
       "  </tbody>\n",
       "</table>\n",
       "</div>"
      ],
      "text/plain": [
       "         Make        Price  PriceRange\n",
       "0     Porsche 3600000.0000           6\n",
       "1  Land Rover 3500000.0000           6\n",
       "2        MINI 3250000.0000           5\n",
       "3      Jaguar 3000000.0000           5\n",
       "4       Lexus 3000000.0000           5"
      ]
     },
     "execution_count": 137,
     "metadata": {},
     "output_type": "execute_result"
    }
   ],
   "source": [
    "#Se crea una nueva variable que establece el un bin de acuerdo al precio medio por marca\n",
    "\n",
    "#Configuración de formato de visualización\n",
    "pd.set_option('display.float_format', lambda x: '%.4f' % x)\n",
    "\n",
    "#Se define el numero de bins que se quieren crear \n",
    "numBins = 6\n",
    "\n",
    "#Se identifica el maximo valor\n",
    "max_value = df[\"Price\"].max()\n",
    "\n",
    "#Se crea la nueva variable PriceRange dando el mayor valor al mayor precio medio\n",
    "df['PriceRange'] = df['Price'].apply(lambda x: int(round(x / (max_value/numBins))))\n",
    "\n",
    "\n",
    "df.head()"
   ]
  },
  {
   "cell_type": "code",
   "execution_count": 138,
   "metadata": {},
   "outputs": [
    {
     "name": "stdout",
     "output_type": "stream",
     "text": [
      "<class 'pandas.core.frame.DataFrame'>\n",
      "Int64Index: 1655 entries, 0 to 1654\n",
      "Data columns (total 15 columns):\n",
      " #   Column              Non-Null Count  Dtype  \n",
      "---  ------              --------------  -----  \n",
      " 0   Price               1655 non-null   float64\n",
      " 1   Year                1655 non-null   float64\n",
      " 2   Kilometer           1655 non-null   float64\n",
      " 3   Engine              1655 non-null   float64\n",
      " 4   Length              1655 non-null   float64\n",
      " 5   Width               1655 non-null   float64\n",
      " 6   Height              1655 non-null   float64\n",
      " 7   Seating Capacity    1655 non-null   float64\n",
      " 8   Fuel Tank Capacity  1655 non-null   float64\n",
      " 9   Fuel Type           1655 non-null   object \n",
      " 10  Transmission        1655 non-null   object \n",
      " 11  Owner               1655 non-null   object \n",
      " 12  Seller Type         1655 non-null   object \n",
      " 13  Drivetrain          1655 non-null   object \n",
      " 14  PriceRange          1655 non-null   int64  \n",
      "dtypes: float64(9), int64(1), object(5)\n",
      "memory usage: 206.9+ KB\n"
     ]
    }
   ],
   "source": [
    "#Se adiciona la nueva variable al dataset original\n",
    "d=pd.merge(d, df[['Make','PriceRange']], on='Make', how='left')\n",
    "\n",
    "#Se elimina la variable Make\n",
    "d = d.drop(['Make'], axis=1)\n",
    "\n",
    "d.info()"
   ]
  },
  {
   "cell_type": "code",
   "execution_count": 139,
   "metadata": {},
   "outputs": [
    {
     "data": {
      "text/plain": [
       "['Price',\n",
       " 'Year',\n",
       " 'Kilometer',\n",
       " 'Engine',\n",
       " 'Length',\n",
       " 'Width',\n",
       " 'Height',\n",
       " 'Seating Capacity',\n",
       " 'Fuel Tank Capacity',\n",
       " 'PriceRange']"
      ]
     },
     "execution_count": 139,
     "metadata": {},
     "output_type": "execute_result"
    }
   ],
   "source": [
    "numCols.append('PriceRange')\n",
    "numCols"
   ]
  },
  {
   "cell_type": "code",
   "execution_count": 140,
   "metadata": {},
   "outputs": [
    {
     "data": {
      "text/plain": [
       "['Fuel Type', 'Transmission', 'Owner', 'Seller Type', 'Drivetrain']"
      ]
     },
     "execution_count": 140,
     "metadata": {},
     "output_type": "execute_result"
    }
   ],
   "source": [
    "catCols.remove('Make')\n",
    "catCols"
   ]
  },
  {
   "cell_type": "markdown",
   "metadata": {},
   "source": [
    "## 7. Prueba dataset: Creación de un modelo"
   ]
  },
  {
   "cell_type": "markdown",
   "metadata": {},
   "source": [
    "### Líbrerías"
   ]
  },
  {
   "cell_type": "code",
   "execution_count": 141,
   "metadata": {},
   "outputs": [],
   "source": [
    "# Preparación de datos\n",
    "# ==============================================================================\n",
    "from sklearn.model_selection import train_test_split\n",
    "from sklearn.preprocessing import MinMaxScaler\n",
    "\n",
    "\n",
    "# Modelado\n",
    "# ==============================================================================\n",
    "from sklearn.ensemble import RandomForestRegressor\n",
    "\n",
    "\n",
    "# Evaluación de modelos\n",
    "# ==============================================================================\n",
    "from sklearn.metrics import r2_score\n",
    "from sklearn.metrics import mean_squared_error\n"
   ]
  },
  {
   "cell_type": "markdown",
   "metadata": {
    "id": "DYXemklud_qJ"
   },
   "source": [
    "### Creación de Variables Dummies"
   ]
  },
  {
   "cell_type": "code",
   "execution_count": 142,
   "metadata": {
    "id": "rCjUcQKvd_qJ"
   },
   "outputs": [],
   "source": [
    "# Aplicación de la función de get_dummies\n",
    "\n",
    "df =pd.get_dummies(d, drop_first=1)"
   ]
  },
  {
   "cell_type": "markdown",
   "metadata": {
    "id": "6cWka5yrd_qK"
   },
   "source": [
    "### Dividir el conjunto de datos"
   ]
  },
  {
   "cell_type": "code",
   "execution_count": 143,
   "metadata": {
    "colab": {
     "base_uri": "https://localhost:8080/"
    },
    "executionInfo": {
     "elapsed": 43608,
     "status": "ok",
     "timestamp": 1612389387394,
     "user": {
      "displayName": "JORGE ALONSO BEDOYA PUERTA",
      "photoUrl": "",
      "userId": "14875356627137784897"
     },
     "user_tz": 300
    },
    "id": "lCZP2J2fd_qK",
    "outputId": "497702ee-28c6-41de-cef0-c454b3686977"
   },
   "outputs": [
    {
     "name": "stdout",
     "output_type": "stream",
     "text": [
      "['Year', 'Kilometer', 'Engine', 'Length', 'Width', 'Height', 'Seating Capacity', 'Fuel Tank Capacity', 'PriceRange', 'Fuel Type_Diesel', 'Fuel Type_Otro', 'Fuel Type_Petrol', 'Transmission_Manual', 'Owner_First', 'Owner_Fourth', 'Owner_Second', 'Owner_Third', 'Owner_UnRegistered Car', 'Seller Type_Corporate', 'Seller Type_Individual', 'Drivetrain_FWD', 'Drivetrain_RWD']\n"
     ]
    }
   ],
   "source": [
    "#Se crea una lista con todas las varibles de entrada\n",
    "\n",
    "vDep = list(df.columns)\n",
    "vDep.remove('Price')\n",
    "\n",
    "print(vDep)"
   ]
  },
  {
   "cell_type": "code",
   "execution_count": 144,
   "metadata": {},
   "outputs": [],
   "source": [
    "#Se elimina el elemento Price de la lista de variables numéricas\n",
    "\n",
    "numCols.remove('Price')"
   ]
  },
  {
   "cell_type": "code",
   "execution_count": 145,
   "metadata": {
    "id": "aYj6YX3-d_qK"
   },
   "outputs": [],
   "source": [
    "# División de los datos en train y test\n",
    "\n",
    "\n",
    "# Se establecen los dataframes de con las variables de entrada X y la variable de salida y\n",
    "X = df[vDep]\n",
    "y = df['Price']"
   ]
  },
  {
   "cell_type": "code",
   "execution_count": 146,
   "metadata": {
    "id": "8nUwW3utd_qK"
   },
   "outputs": [],
   "source": [
    "# Se crean los datasets de entrenamiento y prueba para las variables de entrada y salida \n",
    "\n",
    "X_train, X_test, y_train, y_test = train_test_split(\n",
    "                                        X,\n",
    "                                        y.values.reshape(-1,1), \n",
    "                                        train_size   = 0.7,\n",
    "                                        random_state = 1234,\n",
    "                                        shuffle      = True\n",
    "                                    )"
   ]
  },
  {
   "cell_type": "code",
   "execution_count": 147,
   "metadata": {
    "colab": {
     "base_uri": "https://localhost:8080/",
     "height": 195
    },
    "executionInfo": {
     "elapsed": 43850,
     "status": "ok",
     "timestamp": 1612389387670,
     "user": {
      "displayName": "JORGE ALONSO BEDOYA PUERTA",
      "photoUrl": "",
      "userId": "14875356627137784897"
     },
     "user_tz": 300
    },
    "id": "x_umEW8wd_qL",
    "outputId": "e51174c0-d822-4885-95cc-aa6c159e5403"
   },
   "outputs": [
    {
     "data": {
      "text/html": [
       "<div>\n",
       "<style scoped>\n",
       "    .dataframe tbody tr th:only-of-type {\n",
       "        vertical-align: middle;\n",
       "    }\n",
       "\n",
       "    .dataframe tbody tr th {\n",
       "        vertical-align: top;\n",
       "    }\n",
       "\n",
       "    .dataframe thead th {\n",
       "        text-align: right;\n",
       "    }\n",
       "</style>\n",
       "<table border=\"1\" class=\"dataframe\">\n",
       "  <thead>\n",
       "    <tr style=\"text-align: right;\">\n",
       "      <th></th>\n",
       "      <th>Year</th>\n",
       "      <th>Kilometer</th>\n",
       "      <th>Engine</th>\n",
       "      <th>Length</th>\n",
       "      <th>Width</th>\n",
       "      <th>Height</th>\n",
       "      <th>Seating Capacity</th>\n",
       "      <th>Fuel Tank Capacity</th>\n",
       "      <th>PriceRange</th>\n",
       "      <th>Fuel Type_Diesel</th>\n",
       "      <th>...</th>\n",
       "      <th>Transmission_Manual</th>\n",
       "      <th>Owner_First</th>\n",
       "      <th>Owner_Fourth</th>\n",
       "      <th>Owner_Second</th>\n",
       "      <th>Owner_Third</th>\n",
       "      <th>Owner_UnRegistered Car</th>\n",
       "      <th>Seller Type_Corporate</th>\n",
       "      <th>Seller Type_Individual</th>\n",
       "      <th>Drivetrain_FWD</th>\n",
       "      <th>Drivetrain_RWD</th>\n",
       "    </tr>\n",
       "  </thead>\n",
       "  <tbody>\n",
       "    <tr>\n",
       "      <th>1313</th>\n",
       "      <td>0.9118</td>\n",
       "      <td>0.5425</td>\n",
       "      <td>0.2212</td>\n",
       "      <td>0.5385</td>\n",
       "      <td>0.5150</td>\n",
       "      <td>0.4914</td>\n",
       "      <td>0.5000</td>\n",
       "      <td>0.4521</td>\n",
       "      <td>0.4000</td>\n",
       "      <td>1</td>\n",
       "      <td>...</td>\n",
       "      <td>1</td>\n",
       "      <td>1</td>\n",
       "      <td>0</td>\n",
       "      <td>0</td>\n",
       "      <td>0</td>\n",
       "      <td>0</td>\n",
       "      <td>0</td>\n",
       "      <td>1</td>\n",
       "      <td>1</td>\n",
       "      <td>0</td>\n",
       "    </tr>\n",
       "    <tr>\n",
       "      <th>99</th>\n",
       "      <td>0.9706</td>\n",
       "      <td>0.0667</td>\n",
       "      <td>0.2579</td>\n",
       "      <td>0.3177</td>\n",
       "      <td>0.5180</td>\n",
       "      <td>0.7837</td>\n",
       "      <td>0.3333</td>\n",
       "      <td>0.4110</td>\n",
       "      <td>0.2000</td>\n",
       "      <td>0</td>\n",
       "      <td>...</td>\n",
       "      <td>1</td>\n",
       "      <td>1</td>\n",
       "      <td>0</td>\n",
       "      <td>0</td>\n",
       "      <td>0</td>\n",
       "      <td>0</td>\n",
       "      <td>0</td>\n",
       "      <td>1</td>\n",
       "      <td>0</td>\n",
       "      <td>0</td>\n",
       "    </tr>\n",
       "    <tr>\n",
       "      <th>506</th>\n",
       "      <td>0.9412</td>\n",
       "      <td>0.2799</td>\n",
       "      <td>0.1500</td>\n",
       "      <td>0.4954</td>\n",
       "      <td>0.4880</td>\n",
       "      <td>0.4986</td>\n",
       "      <td>0.5000</td>\n",
       "      <td>0.3151</td>\n",
       "      <td>0.4000</td>\n",
       "      <td>1</td>\n",
       "      <td>...</td>\n",
       "      <td>0</td>\n",
       "      <td>1</td>\n",
       "      <td>0</td>\n",
       "      <td>0</td>\n",
       "      <td>0</td>\n",
       "      <td>0</td>\n",
       "      <td>0</td>\n",
       "      <td>1</td>\n",
       "      <td>1</td>\n",
       "      <td>0</td>\n",
       "    </tr>\n",
       "    <tr>\n",
       "      <th>638</th>\n",
       "      <td>0.9118</td>\n",
       "      <td>0.2608</td>\n",
       "      <td>0.0865</td>\n",
       "      <td>0.3231</td>\n",
       "      <td>0.3904</td>\n",
       "      <td>0.3123</td>\n",
       "      <td>0.5000</td>\n",
       "      <td>0.1370</td>\n",
       "      <td>0.0000</td>\n",
       "      <td>0</td>\n",
       "      <td>...</td>\n",
       "      <td>0</td>\n",
       "      <td>1</td>\n",
       "      <td>0</td>\n",
       "      <td>0</td>\n",
       "      <td>0</td>\n",
       "      <td>0</td>\n",
       "      <td>0</td>\n",
       "      <td>1</td>\n",
       "      <td>1</td>\n",
       "      <td>0</td>\n",
       "    </tr>\n",
       "    <tr>\n",
       "      <th>724</th>\n",
       "      <td>0.7647</td>\n",
       "      <td>0.2570</td>\n",
       "      <td>0.0439</td>\n",
       "      <td>0.1212</td>\n",
       "      <td>0.0000</td>\n",
       "      <td>0.2335</td>\n",
       "      <td>0.5000</td>\n",
       "      <td>0.1096</td>\n",
       "      <td>0.0000</td>\n",
       "      <td>0</td>\n",
       "      <td>...</td>\n",
       "      <td>1</td>\n",
       "      <td>0</td>\n",
       "      <td>0</td>\n",
       "      <td>1</td>\n",
       "      <td>0</td>\n",
       "      <td>0</td>\n",
       "      <td>0</td>\n",
       "      <td>1</td>\n",
       "      <td>1</td>\n",
       "      <td>0</td>\n",
       "    </tr>\n",
       "  </tbody>\n",
       "</table>\n",
       "<p>5 rows × 22 columns</p>\n",
       "</div>"
      ],
      "text/plain": [
       "       Year  Kilometer  Engine  Length  Width  Height  Seating Capacity  \\\n",
       "1313 0.9118     0.5425  0.2212  0.5385 0.5150  0.4914            0.5000   \n",
       "99   0.9706     0.0667  0.2579  0.3177 0.5180  0.7837            0.3333   \n",
       "506  0.9412     0.2799  0.1500  0.4954 0.4880  0.4986            0.5000   \n",
       "638  0.9118     0.2608  0.0865  0.3231 0.3904  0.3123            0.5000   \n",
       "724  0.7647     0.2570  0.0439  0.1212 0.0000  0.2335            0.5000   \n",
       "\n",
       "      Fuel Tank Capacity  PriceRange  Fuel Type_Diesel  ...  \\\n",
       "1313              0.4521      0.4000                 1  ...   \n",
       "99                0.4110      0.2000                 0  ...   \n",
       "506               0.3151      0.4000                 1  ...   \n",
       "638               0.1370      0.0000                 0  ...   \n",
       "724               0.1096      0.0000                 0  ...   \n",
       "\n",
       "      Transmission_Manual  Owner_First  Owner_Fourth  Owner_Second  \\\n",
       "1313                    1            1             0             0   \n",
       "99                      1            1             0             0   \n",
       "506                     0            1             0             0   \n",
       "638                     0            1             0             0   \n",
       "724                     1            0             0             1   \n",
       "\n",
       "      Owner_Third  Owner_UnRegistered Car  Seller Type_Corporate  \\\n",
       "1313            0                       0                      0   \n",
       "99              0                       0                      0   \n",
       "506             0                       0                      0   \n",
       "638             0                       0                      0   \n",
       "724             0                       0                      0   \n",
       "\n",
       "      Seller Type_Individual  Drivetrain_FWD  Drivetrain_RWD  \n",
       "1313                       1               1               0  \n",
       "99                         1               0               0  \n",
       "506                        1               1               0  \n",
       "638                        1               1               0  \n",
       "724                        1               1               0  \n",
       "\n",
       "[5 rows x 22 columns]"
      ]
     },
     "execution_count": 147,
     "metadata": {},
     "output_type": "execute_result"
    }
   ],
   "source": [
    "#Escalar Variables\n",
    "\n",
    "# Se establece la configuración para que los valores numéricos se vean con 4 decimales\n",
    "pd.set_option('display.float_format', lambda x: '%.4f' % x)\n",
    "\n",
    "# Se crea un objeto MinMaxScaler\n",
    "scaler = MinMaxScaler()\n",
    "\n",
    "# Se escalan los valores del dataset entrenamiento y prueba de las columnas numéricas\n",
    "X_train[numCols] = scaler.fit_transform(X_train[numCols])\n",
    "X_test[numCols] = scaler.fit_transform(X_test[numCols])\n",
    "\n",
    "X_train.head()"
   ]
  },
  {
   "cell_type": "markdown",
   "metadata": {
    "id": "hL-vP9ond_qL"
   },
   "source": [
    "### Creación del un modelo"
   ]
  },
  {
   "cell_type": "code",
   "execution_count": 148,
   "metadata": {
    "colab": {
     "base_uri": "https://localhost:8080/"
    },
    "executionInfo": {
     "elapsed": 43840,
     "status": "ok",
     "timestamp": 1612389387672,
     "user": {
      "displayName": "JORGE ALONSO BEDOYA PUERTA",
      "photoUrl": "",
      "userId": "14875356627137784897"
     },
     "user_tz": 300
    },
    "id": "1lM3TNOhd_qL",
    "outputId": "3fcd7f04-76c6-452c-9218-ab562d9a551a"
   },
   "outputs": [
    {
     "data": {
      "text/html": [
       "<style>#sk-container-id-2 {color: black;background-color: white;}#sk-container-id-2 pre{padding: 0;}#sk-container-id-2 div.sk-toggleable {background-color: white;}#sk-container-id-2 label.sk-toggleable__label {cursor: pointer;display: block;width: 100%;margin-bottom: 0;padding: 0.3em;box-sizing: border-box;text-align: center;}#sk-container-id-2 label.sk-toggleable__label-arrow:before {content: \"▸\";float: left;margin-right: 0.25em;color: #696969;}#sk-container-id-2 label.sk-toggleable__label-arrow:hover:before {color: black;}#sk-container-id-2 div.sk-estimator:hover label.sk-toggleable__label-arrow:before {color: black;}#sk-container-id-2 div.sk-toggleable__content {max-height: 0;max-width: 0;overflow: hidden;text-align: left;background-color: #f0f8ff;}#sk-container-id-2 div.sk-toggleable__content pre {margin: 0.2em;color: black;border-radius: 0.25em;background-color: #f0f8ff;}#sk-container-id-2 input.sk-toggleable__control:checked~div.sk-toggleable__content {max-height: 200px;max-width: 100%;overflow: auto;}#sk-container-id-2 input.sk-toggleable__control:checked~label.sk-toggleable__label-arrow:before {content: \"▾\";}#sk-container-id-2 div.sk-estimator input.sk-toggleable__control:checked~label.sk-toggleable__label {background-color: #d4ebff;}#sk-container-id-2 div.sk-label input.sk-toggleable__control:checked~label.sk-toggleable__label {background-color: #d4ebff;}#sk-container-id-2 input.sk-hidden--visually {border: 0;clip: rect(1px 1px 1px 1px);clip: rect(1px, 1px, 1px, 1px);height: 1px;margin: -1px;overflow: hidden;padding: 0;position: absolute;width: 1px;}#sk-container-id-2 div.sk-estimator {font-family: monospace;background-color: #f0f8ff;border: 1px dotted black;border-radius: 0.25em;box-sizing: border-box;margin-bottom: 0.5em;}#sk-container-id-2 div.sk-estimator:hover {background-color: #d4ebff;}#sk-container-id-2 div.sk-parallel-item::after {content: \"\";width: 100%;border-bottom: 1px solid gray;flex-grow: 1;}#sk-container-id-2 div.sk-label:hover label.sk-toggleable__label {background-color: #d4ebff;}#sk-container-id-2 div.sk-serial::before {content: \"\";position: absolute;border-left: 1px solid gray;box-sizing: border-box;top: 0;bottom: 0;left: 50%;z-index: 0;}#sk-container-id-2 div.sk-serial {display: flex;flex-direction: column;align-items: center;background-color: white;padding-right: 0.2em;padding-left: 0.2em;position: relative;}#sk-container-id-2 div.sk-item {position: relative;z-index: 1;}#sk-container-id-2 div.sk-parallel {display: flex;align-items: stretch;justify-content: center;background-color: white;position: relative;}#sk-container-id-2 div.sk-item::before, #sk-container-id-2 div.sk-parallel-item::before {content: \"\";position: absolute;border-left: 1px solid gray;box-sizing: border-box;top: 0;bottom: 0;left: 50%;z-index: -1;}#sk-container-id-2 div.sk-parallel-item {display: flex;flex-direction: column;z-index: 1;position: relative;background-color: white;}#sk-container-id-2 div.sk-parallel-item:first-child::after {align-self: flex-end;width: 50%;}#sk-container-id-2 div.sk-parallel-item:last-child::after {align-self: flex-start;width: 50%;}#sk-container-id-2 div.sk-parallel-item:only-child::after {width: 0;}#sk-container-id-2 div.sk-dashed-wrapped {border: 1px dashed gray;margin: 0 0.4em 0.5em 0.4em;box-sizing: border-box;padding-bottom: 0.4em;background-color: white;}#sk-container-id-2 div.sk-label label {font-family: monospace;font-weight: bold;display: inline-block;line-height: 1.2em;}#sk-container-id-2 div.sk-label-container {text-align: center;}#sk-container-id-2 div.sk-container {/* jupyter's `normalize.less` sets `[hidden] { display: none; }` but bootstrap.min.css set `[hidden] { display: none !important; }` so we also need the `!important` here to be able to override the default hidden behavior on the sphinx rendered scikit-learn.org. See: https://github.com/scikit-learn/scikit-learn/issues/21755 */display: inline-block !important;position: relative;}#sk-container-id-2 div.sk-text-repr-fallback {display: none;}</style><div id=\"sk-container-id-2\" class=\"sk-top-container\"><div class=\"sk-text-repr-fallback\"><pre>RandomForestRegressor(criterion=&#x27;mse&#x27;, max_depth=5, max_features=&#x27;auto&#x27;,\n",
       "                      n_jobs=-1, random_state=1234)</pre><b>In a Jupyter environment, please rerun this cell to show the HTML representation or trust the notebook. <br />On GitHub, the HTML representation is unable to render, please try loading this page with nbviewer.org.</b></div><div class=\"sk-container\" hidden><div class=\"sk-item\"><div class=\"sk-estimator sk-toggleable\"><input class=\"sk-toggleable__control sk-hidden--visually\" id=\"sk-estimator-id-2\" type=\"checkbox\" checked><label for=\"sk-estimator-id-2\" class=\"sk-toggleable__label sk-toggleable__label-arrow\">RandomForestRegressor</label><div class=\"sk-toggleable__content\"><pre>RandomForestRegressor(criterion=&#x27;mse&#x27;, max_depth=5, max_features=&#x27;auto&#x27;,\n",
       "                      n_jobs=-1, random_state=1234)</pre></div></div></div></div></div>"
      ],
      "text/plain": [
       "RandomForestRegressor(criterion='mse', max_depth=5, max_features='auto',\n",
       "                      n_jobs=-1, random_state=1234)"
      ]
     },
     "execution_count": 148,
     "metadata": {},
     "output_type": "execute_result"
    }
   ],
   "source": [
    "# Creación del modelo randomForest con con 100 árboles y 5 niveles de profundidad\n",
    "\n",
    "modelo = RandomForestRegressor(\n",
    "            n_estimators = 100,\n",
    "            criterion    = 'mse',\n",
    "            max_depth    = 5,\n",
    "            max_features = 'auto',\n",
    "            oob_score    = False,   #out-of-bag samples\n",
    "            n_jobs       = -1,\n",
    "            random_state = 1234\n",
    "         )\n",
    "\n",
    "\n",
    "# Entrenamiento del modelo\n",
    "\n",
    "modelo.fit(X_train, y_train)"
   ]
  },
  {
   "cell_type": "code",
   "execution_count": 149,
   "metadata": {},
   "outputs": [
    {
     "name": "stdout",
     "output_type": "stream",
     "text": [
      "El error rmse de test es: 259085.29057551653\n",
      "El error R^2 de test es: 0.9172760570261886\n"
     ]
    }
   ],
   "source": [
    "# Error del dataset de entrenamiento\n",
    "\n",
    "predicciones = modelo.predict(X = X_train)\n",
    "\n",
    "# Se calcula el rmse\n",
    "rmse = mean_squared_error(y_true  = y_train, y_pred  = predicciones, squared = False)\n",
    "print(f\"El error rmse de test es: {rmse}\")\n",
    "\n",
    "# Se calcula el r^2\n",
    "r2 = r2_score(y_train, predicciones)\n",
    "print(f\"El error R^2 de test es: {r2}\")\n"
   ]
  },
  {
   "cell_type": "code",
   "execution_count": 150,
   "metadata": {},
   "outputs": [
    {
     "name": "stdout",
     "output_type": "stream",
     "text": [
      "El error rmse de test es: 396872.8243591866\n",
      "El error r^2 de test es: 0.8180879287597104\n"
     ]
    }
   ],
   "source": [
    "# Error del dataset de prueba\n",
    "\n",
    "predicciones = modelo.predict(X = X_test)\n",
    "\n",
    "# Se calcula el rmse\n",
    "rmse = mean_squared_error(y_true  = y_test, y_pred  = predicciones, squared = False)\n",
    "print(f\"El error rmse de test es: {rmse}\")\n",
    "\n",
    "# Se calcula el r^2\n",
    "r2 = r2_score(y_test, predicciones)\n",
    "print(f\"El error r^2 de test es: {r2}\")"
   ]
  },
  {
   "cell_type": "markdown",
   "metadata": {},
   "source": [
    "## 8. Exportar el dataset"
   ]
  },
  {
   "cell_type": "code",
   "execution_count": 151,
   "metadata": {},
   "outputs": [],
   "source": [
    "# Exportamos el dataframe a un archivo CSV\n",
    "d.to_csv('./datasets/01_carDetailsV4_Prep.csv', index=False)"
   ]
  },
  {
   "cell_type": "markdown",
   "metadata": {
    "id": "FIKrkASRd_qR"
   },
   "source": [
    "### Referencias\n",
    "\n",
    "\n",
    "- *Dataset:*  \n",
    "    - https://www.kaggle.com/datasets/nehalbirla/vehicle-dataset-from-cardekho?select=car+details+v4.csv\n",
    "    \n",
    "    \n",
    "- *Machine learning con Python y Scikit-learn:*\n",
    "    - https://www.cienciadedatos.net/documentos/py06_machine_learning_python_scikitlearn.html\n",
    "    \n",
    "    \n",
    "- *LocalOutlierFactor:*\n",
    "    - https://scikit-learn.org/stable/modules/generated/sklearn.neighbors.LocalOutlierFactor.html\n",
    "    \n",
    "\n",
    "- *scikit-learn:*    \n",
    "    - https://scikit-learn.org/stable/\n",
    "    - https://scikit-learn.org/stable/user_guide.html\n",
    "  \n",
    "  \n",
    "- *Gráficas con  seaborn:*\n",
    "    - https://ichi.pro/es/como-utilizar-python-seaborn-para-analisis-de-datos-exploratorios-28897898172180\n",
    "\n",
    "  "
   ]
  }
 ],
 "metadata": {
  "colab": {
   "collapsed_sections": [
    "FIKrkASRd_qR"
   ],
   "name": "04_2_RegresionLineal.ipynb",
   "provenance": []
  },
  "kernelspec": {
   "display_name": "Python 3 (ipykernel)",
   "language": "python",
   "name": "python3"
  },
  "language_info": {
   "codemirror_mode": {
    "name": "ipython",
    "version": 3
   },
   "file_extension": ".py",
   "mimetype": "text/x-python",
   "name": "python",
   "nbconvert_exporter": "python",
   "pygments_lexer": "ipython3",
   "version": "3.9.7"
  }
 },
 "nbformat": 4,
 "nbformat_minor": 1
}
