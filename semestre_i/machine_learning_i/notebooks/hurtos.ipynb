{
 "cells": [
  {
   "cell_type": "markdown",
   "metadata": {},
   "source": [
    "# Hurtos en Medellín"
   ]
  },
  {
   "cell_type": "markdown",
   "metadata": {},
   "source": [
    "## Librerías"
   ]
  },
  {
   "cell_type": "code",
   "execution_count": 1,
   "metadata": {},
   "outputs": [],
   "source": [
    "import locale\n",
    "import matplotlib.pyplot as plt\n",
    "import numpy as np\n",
    "import pandas as pd\n",
    "\n",
    "from pathlib import Path\n",
    "from typing import List\n",
    "\n",
    "from sklearn.preprocessing import MinMaxScaler\n",
    "from tensorflow.keras.models import Sequential\n",
    "from tensorflow.keras.layers import Dense, LSTM\n",
    "\n",
    "%matplotlib inline\n",
    "plt.style.use('ggplot')"
   ]
  },
  {
   "cell_type": "code",
   "execution_count": 2,
   "metadata": {},
   "outputs": [
    {
     "data": {
      "text/plain": [
       "'es_ES'"
      ]
     },
     "execution_count": 2,
     "metadata": {},
     "output_type": "execute_result"
    }
   ],
   "source": [
    "locale.setlocale(locale.LC_TIME, 'es_ES')"
   ]
  },
  {
   "cell_type": "code",
   "execution_count": 3,
   "metadata": {},
   "outputs": [],
   "source": [
    "pd.set_option('display.max_colwidth', None)\n",
    "pd.set_option('display.max_columns', None)"
   ]
  },
  {
   "cell_type": "markdown",
   "metadata": {},
   "source": [
    "## Metadata"
   ]
  },
  {
   "cell_type": "code",
   "execution_count": 4,
   "metadata": {},
   "outputs": [],
   "source": [
    "class Categories:\n",
    "    \"\"\"Clase que contiene la asignación de las categorias.\"\"\"\n",
    "    \n",
    "    categoria_transporte = {\n",
    "        'Caminata': 'Caminata',\n",
    "        'Taxi': 'Transporte público',\n",
    "        'Motocicleta': 'Motocicleta',\n",
    "        'Automóvil': 'Vehículo',\n",
    "        'Metro': 'Transporte público',\n",
    "        'Bicicleta': 'Bicicleta',\n",
    "        'Autobus': 'Transporte público',\n",
    "        'Motocicleta con parrillero': 'Motocicleta',\n",
    "        'Sin dato': 'Otro',\n",
    "        'Planeador': 'Otro'}\n",
    "    \n",
    "    categoria_modalidad = {\n",
    "        'Atraco': 'Atraco',\n",
    "        'Descuido': 'Hurto',\n",
    "        'Cosquilleo': 'Hurto',\n",
    "        'Raponazo': 'Hurto',\n",
    "        'Sin dato': 'Otros',\n",
    "        'Rompimiento cerraduta': 'Robo',\n",
    "        'Engaño': 'Engaño',\n",
    "        'Escopolamina': 'Manipulación',\n",
    "        'Rompimiento de ventana': 'Hurto',\n",
    "        'Halado': 'Hurto',\n",
    "        'Clonación de tarjeta': 'Engaño',\n",
    "        'Comisión de delito': 'Engaño',\n",
    "        'Suplantación': 'Engaño',\n",
    "        'Paquete chileno': 'Otros',\n",
    "        'Abuso de confianza': 'Otros',\n",
    "        'Informático': 'Otros',\n",
    "        'Llave maestra': 'Hurto',\n",
    "        'Fleteo': 'Robo',\n",
    "        'Miedo o terror': 'Otros',\n",
    "        'Simulando necesidad': 'Engaño',\n",
    "        'Retención de tarjeta': 'Manipulación',\n",
    "        'Llamada millonaria': 'Engaño',\n",
    "        'Forcejeo': 'Hurto',\n",
    "        'Retención de dinero': 'Otros',\n",
    "        'Tóxico o agente químico': 'Otros',\n",
    "        'Enfrentamiento con la fuerza pública': 'Otros',\n",
    "        'Auto robo': 'Hurto',\n",
    "        'Violencia intrafamiliar': 'Otros',\n",
    "        'Vandalismo': 'Otros'}\n",
    "    \n",
    "    categoria_armas = {\n",
    "        'Arma cortopunzante': 'Arma',\n",
    "        'No': 'Sin arma',\n",
    "        'Arma de fuego': 'Arma',\n",
    "        'Objeto contundente': 'Arma',\n",
    "        'Escopolamina': 'Arma',\n",
    "        'Sin dato': 'Sin arma',\n",
    "        'Llave maestra': 'Sin arma',\n",
    "        'Perro': 'Sin arma',\n",
    "        'Palanca': 'Sin arma',\n",
    "        'Tóxico o Químico': 'Arma'}\n",
    "    \n",
    "    categoria_lugar = {\n",
    "        'Vía pública': 'Pública',\n",
    "        'Hospital o centro de salud': 'Pública',\n",
    "        'Fábrica o empresa': 'Privada',\n",
    "        'Institución de educación superior': 'Pública',\n",
    "        'Vehículo particular': 'Privada',\n",
    "        'Hotel, motel y hostal': 'Privada',\n",
    "        'Parqueadero': 'Privada',\n",
    "        'Terminal de transporte': 'Pública',\n",
    "        'Restaurante': 'Privada',\n",
    "        'Parque': 'Pública',\n",
    "        'Estación del Metro': 'Pública',\n",
    "        'Centro comercial': 'Privada',\n",
    "        'Oficina': 'Privada',\n",
    "        'Residencia': 'Privada',\n",
    "        'Escenario deportivo': 'Pública',\n",
    "        'Almacén tienda y otro': 'Privada',\n",
    "        'Banco': 'Privada',\n",
    "        'Bus de servicio público': 'Pública',\n",
    "        'Local comercial': 'Privada',\n",
    "        'Institución educativa (jardín, primaria o secundaria)': 'Pública',\n",
    "        'Estación de gasolina': 'Pública',\n",
    "        'Estación del Metro plus': 'Pública',\n",
    "        'Supermercado': 'Privada',\n",
    "        'Casa de apuesta': 'Privada',\n",
    "        'Piscina': 'Pública',\n",
    "        'Paradero de bus': 'Pública',\n",
    "        'Bar o cantina': 'Privada',\n",
    "        'Casa o apartamento': 'Privada',\n",
    "        'Metro Plus': 'Pública',\n",
    "        'Aeropuerto': 'Pública',\n",
    "        'Plaza de mercado': 'Pública',\n",
    "        'Cafetería': 'Privada',\n",
    "        'Conjunto residencial': 'Privada',\n",
    "        'Sin dato': 'Sin dato',\n",
    "        'Bodega': 'Privada',\n",
    "        'Edificio': 'Privada',\n",
    "        'Cajero electrónico': 'Privada',\n",
    "        'Iglesia': 'Pública',\n",
    "        'Taller mecánico': 'Privada',\n",
    "        'Matadero, carnicería y similar': 'Privada',\n",
    "        'Droguería o farmacia': 'Privada',\n",
    "        'Cementerio': 'Pública',\n",
    "        'Sede social, club, auditorio o similar': 'Pública',\n",
    "        'Teatro': 'Pública',\n",
    "        'Instalación gubernamental': 'Pública',\n",
    "        'Biblioteca': 'Pública',\n",
    "        'Puente peatonal': 'Pública',\n",
    "        'Finca': 'Privada',\n",
    "        'Instalación fuerza pública': 'Pública',\n",
    "        'Centro de belleza o estética': 'Privada',\n",
    "        'Casino': 'Privada',\n",
    "        'Instalación judicial': 'Pública',\n",
    "        'Panadería': 'Privada',\n",
    "        'Plaza de toros': 'Pública',\n",
    "        'Obra en construcción': 'Pública',\n",
    "        'Quebrada o rio': 'Pública',\n",
    "        'Lavadero de carros': 'Privada',\n",
    "        'Gimnasio': 'Privada',\n",
    "        'Café internet': 'Privada',\n",
    "        'Baño': 'Privada',\n",
    "        'Feria de ganado': 'Pública',\n",
    "        'Turístico': 'Pública',\n",
    "        'Caseta de vigilancia empresa': 'Privada',\n",
    "        'Laboratorios de procesamiento de droga ílicita': 'Privada',\n",
    "        'Montallanta': 'Privada',\n",
    "        'Corporación': 'Privada',\n",
    "        'Caseta vigilancia conjunto residencial': 'Privada',\n",
    "        'Cárcel': 'Pública',\n",
    "        'Hogar de paso': 'Pública',\n",
    "        'Funeraria y sala de velación': 'Privada',\n",
    "        'Billar': 'Privada',\n",
    "        'Reserva natural': 'Pública',\n",
    "        'Albergue': 'Pública',\n",
    "        'Zona boscosa': 'Pública',\n",
    "        'Lote baldío': 'Pública',\n",
    "        'Potrero': 'Pública',\n",
    "        'Compraventa': 'Privada',\n",
    "        'Estadero': 'Privada',\n",
    "        'Hipodromo': 'Pública',\n",
    "        'Represa o laguna': 'Pública',\n",
    "        'Empresa de transporte': 'Privada',\n",
    "        'Joyería': 'Privada',\n",
    "        'Cantera': 'Pública',\n",
    "        'Puesto de trabajo': 'Privada',\n",
    "        'Prostíbulo': 'Privada',\n",
    "        'Librería': 'Privada',\n",
    "        'Metro': 'Pública',\n",
    "        'Consultorio jurídico': 'Privada',\n",
    "        'Peaje': 'Pública',\n",
    "        'Sede política': 'Pública',\n",
    "        'Desguazadero': 'Privada'}"
   ]
  },
  {
   "cell_type": "markdown",
   "metadata": {},
   "source": [
    "## Utils"
   ]
  },
  {
   "cell_type": "code",
   "execution_count": 5,
   "metadata": {},
   "outputs": [],
   "source": [
    "def find_missing(df: pd.DataFrame) -> pd.DataFrame:\n",
    "    \"\"\"Encuentra los valores faltantes en un DataFrame y devuelve un nuevo DataFrame\n",
    "     que muestra la cantidad de valores faltantes y el porcentaje correspondiente.\n",
    "\n",
    "    Args:\n",
    "        df: El DataFrame que se va a analizar.\n",
    "\n",
    "    Returns:\n",
    "        Un nuevo DataFrame que muestra las columnas, la cantidad de\n",
    "        valores faltantes y el porcentaje de valores faltantes para cada columna.\n",
    "\n",
    "    \"\"\"\n",
    "    lista = []\n",
    "    for col in df.columns:\n",
    "        num = df[df[col].isnull()].shape[0]\n",
    "        lista.append(num)\n",
    "    \n",
    "    dic = {\n",
    "        'Columnas': df.columns,\n",
    "        'Faltantes': lista}\n",
    "    df_faltantes = pd.DataFrame(dic)\n",
    "    \n",
    "    df_faltantes['Porcentaje'] = df_faltantes['Faltantes'] / df.shape[0]\n",
    "    \n",
    "    df_faltantes = df_faltantes.sort_values(by='Faltantes', ascending=False)\n",
    "    \n",
    "    return df_faltantes"
   ]
  },
  {
   "cell_type": "code",
   "execution_count": 6,
   "metadata": {},
   "outputs": [],
   "source": [
    "def importance_columns(df: pd.DataFrame, \n",
    "                       element: str = 'Sin dato') -> pd.DataFrame:\n",
    "    \"\"\"Calcula la importancia de las columnas en función de la \n",
    "     proporción de un elemento dado en cada una de ellas.\n",
    "\n",
    "    Args:\n",
    "        df: El DataFrame del cual se calculará la importancia de \n",
    "         las columnas.\n",
    "        element: El elemento a evaluar en cada columna. \n",
    "         Por defecto es 'Sin dato'.\n",
    "\n",
    "    Returns:\n",
    "        Un DataFrame con las columnas y su respectivo porcentaje \n",
    "         de ocurrencia del elemento proporcionado, ordenado de \n",
    "         forma descendente según el porcentaje.\n",
    "\n",
    "    \"\"\"\n",
    "    \n",
    "    ls = []\n",
    "    for col in df.columns:\n",
    "        df_filt = df[df[col] == element]\n",
    "        porcentaje_faltantes = df_filt.shape[0] / hurtos.shape[0] * 100\n",
    "        ls.append(porcentaje_faltantes)\n",
    "        \n",
    "    importance = pd.DataFrame({'columna': df.columns, 'porcentaje': ls})\n",
    "    \n",
    "    importance = importance.sort_values(by='porcentaje', ascending=False)\n",
    "    \n",
    "    return importance"
   ]
  },
  {
   "cell_type": "code",
   "execution_count": 7,
   "metadata": {},
   "outputs": [],
   "source": [
    "def pie_missing(df: pd.DataFrame, shape: int) -> None:\n",
    "    \"\"\"Genera un gráfico de tipo pie para visualizar el \n",
    "     porcentaje de datos faltantes en un DataFrame.\n",
    "\n",
    "    Args:\n",
    "        df: El DataFrame del cual se calculará el porcentaje \n",
    "         de datos faltantes.\n",
    "        shape: El número total de registros en el DataFrame.\n",
    "\n",
    "    Returns:\n",
    "        None: La función muestra el gráfico de tipo pie \n",
    "         de forma interactiva en la salida.\n",
    "\n",
    "    \"\"\"\n",
    "    total_faltantes = df['Faltantes'].sum()\n",
    "    plt.figure(figsize=(5, 5))\n",
    "    datos = [shape - total_faltantes, total_faltantes]\n",
    "    label = ['No nulos', 'Nulos']\n",
    "\n",
    "    plt.pie(\n",
    "        datos, \n",
    "        labels=label, \n",
    "        colors=['orchid', 'lightblue'], \n",
    "        autopct='%.2f%%')\n",
    "    plt.title('Porcentaje de datos faltantes')\n",
    "    plt.show()"
   ]
  },
  {
   "cell_type": "code",
   "execution_count": 8,
   "metadata": {},
   "outputs": [],
   "source": [
    "def bar_subplots(df: pd.DataFrame, \n",
    "                 columnas: List[str],\n",
    "                 savefig: bool = False) -> None:\n",
    "    \"\"\"\n",
    "    Genera diagramas de barras para contar la cantidad \n",
    "     de hurtos en cada columna especificada.\n",
    "\n",
    "    Args:\n",
    "        df: DataFrame que contiene los datos de los hurtos.\n",
    "        columnas: Lista de columnas del DataFrame a \n",
    "         mostrar en los diagramas de barras.\n",
    "        savefig: Opcional. Si se quiere guardar la imagen \n",
    "         en output.\n",
    "\n",
    "    \"\"\"\n",
    "    num_columnas = len(columnas)\n",
    "    num_filas = num_columnas // 2 + num_columnas % 2 \n",
    "\n",
    "    fig, axs = plt.subplots(num_filas, 2, figsize=(12, 4 * num_filas))\n",
    "    fig.tight_layout(pad=4.0)\n",
    "\n",
    "    for i, columna in enumerate(columnas):\n",
    "        ax = axs[i // 2, i % 2] if num_filas > 1 else axs[i]\n",
    "        valores = df[columna].value_counts()\n",
    "\n",
    "        ax.bar(valores.index, valores.values)\n",
    "        ax.set_title(f\"Hurtos por {columna}\")\n",
    "        plt.xlabel(None)\n",
    "        ax.yaxis.set_visible(False)\n",
    "        \n",
    "        ax.set_xticks(range(len(valores.index))) \n",
    "        ax.set_xticklabels(valores.index, rotation=20) \n",
    "\n",
    "        for p in ax.patches:\n",
    "            ax.annotate(\n",
    "                '{:,.0f}'.format(int(p.get_height())).replace(\",\", \".\"),\n",
    "                (p.get_x() + p.get_width() / 2.0, p.get_height()),\n",
    "                ha='center',\n",
    "                va='center',\n",
    "                xytext=(0, 10),\n",
    "                textcoords='offset points',\n",
    "                fontsize=10)\n",
    "\n",
    "        for spine in ax.spines:\n",
    "            ax.spines[spine].set_visible(False)\n",
    "    \n",
    "    if savefig:\n",
    "        plt.savefig(Path('..') / 'output' / 'fig.png', bbox_inches='tight')\n",
    "    plt.show()"
   ]
  },
  {
   "cell_type": "markdown",
   "metadata": {},
   "source": [
    "## Lectura de datos"
   ]
  },
  {
   "cell_type": "code",
   "execution_count": 9,
   "metadata": {},
   "outputs": [],
   "source": [
    "path = Path('..') / 'data' / 'hurto_a_persona.csv'"
   ]
  },
  {
   "cell_type": "code",
   "execution_count": 10,
   "metadata": {},
   "outputs": [],
   "source": [
    "hurtos = pd.read_csv(path, encoding='utf-8', sep=';', dtype=str)"
   ]
  },
  {
   "cell_type": "code",
   "execution_count": 11,
   "metadata": {},
   "outputs": [
    {
     "name": "stdout",
     "output_type": "stream",
     "text": [
      "El tamaño del dataset: \n",
      " 305879 filas y 36 columnas\n"
     ]
    }
   ],
   "source": [
    "print(f'El tamaño del dataset: \\n {hurtos.shape[0]} filas y {hurtos.shape[1]} columnas')"
   ]
  },
  {
   "cell_type": "markdown",
   "metadata": {},
   "source": [
    "## Analisis exploratorio"
   ]
  },
  {
   "cell_type": "markdown",
   "metadata": {},
   "source": [
    "### Conversión de tipos de datos"
   ]
  },
  {
   "cell_type": "code",
   "execution_count": 12,
   "metadata": {},
   "outputs": [],
   "source": [
    "types = {\n",
    "    'fecha_hecho': 'datetime64[ns]',\n",
    "    'cantidad': float,\n",
    "    'latitud': float,\n",
    "    'longitud': float,\n",
    "    'edad': int,\n",
    "    'fecha_ingestion': 'datetime64[ns]'\n",
    "}\n",
    "\n",
    "hurtos = hurtos.astype(types)"
   ]
  },
  {
   "cell_type": "markdown",
   "metadata": {},
   "source": [
    "### Imputación de datos"
   ]
  },
  {
   "cell_type": "code",
   "execution_count": 13,
   "metadata": {},
   "outputs": [],
   "source": [
    "eleccion_cols = importance_columns(hurtos)"
   ]
  },
  {
   "cell_type": "code",
   "execution_count": 14,
   "metadata": {},
   "outputs": [
    {
     "data": {
      "text/html": [
       "<div>\n",
       "<style scoped>\n",
       "    .dataframe tbody tr th:only-of-type {\n",
       "        vertical-align: middle;\n",
       "    }\n",
       "\n",
       "    .dataframe tbody tr th {\n",
       "        vertical-align: top;\n",
       "    }\n",
       "\n",
       "    .dataframe thead th {\n",
       "        text-align: right;\n",
       "    }\n",
       "</style>\n",
       "<table border=\"1\" class=\"dataframe\">\n",
       "  <thead>\n",
       "    <tr style=\"text-align: right;\">\n",
       "      <th></th>\n",
       "      <th>columna</th>\n",
       "      <th>porcentaje</th>\n",
       "    </tr>\n",
       "  </thead>\n",
       "  <tbody>\n",
       "    <tr>\n",
       "      <th>18</th>\n",
       "      <td>caracterizacion</td>\n",
       "      <td>100.000000</td>\n",
       "    </tr>\n",
       "    <tr>\n",
       "      <th>15</th>\n",
       "      <td>testigo</td>\n",
       "      <td>100.000000</td>\n",
       "    </tr>\n",
       "    <tr>\n",
       "      <th>34</th>\n",
       "      <td>unidad_medida</td>\n",
       "      <td>100.000000</td>\n",
       "    </tr>\n",
       "    <tr>\n",
       "      <th>33</th>\n",
       "      <td>permiso</td>\n",
       "      <td>100.000000</td>\n",
       "    </tr>\n",
       "    <tr>\n",
       "      <th>22</th>\n",
       "      <td>categoria_penal</td>\n",
       "      <td>100.000000</td>\n",
       "    </tr>\n",
       "    <tr>\n",
       "      <th>21</th>\n",
       "      <td>articulo_penal</td>\n",
       "      <td>100.000000</td>\n",
       "    </tr>\n",
       "    <tr>\n",
       "      <th>7</th>\n",
       "      <td>grupo_actor</td>\n",
       "      <td>100.000000</td>\n",
       "    </tr>\n",
       "    <tr>\n",
       "      <th>8</th>\n",
       "      <td>actividad_delictiva</td>\n",
       "      <td>100.000000</td>\n",
       "    </tr>\n",
       "    <tr>\n",
       "      <th>9</th>\n",
       "      <td>parentesco</td>\n",
       "      <td>100.000000</td>\n",
       "    </tr>\n",
       "    <tr>\n",
       "      <th>10</th>\n",
       "      <td>ocupacion</td>\n",
       "      <td>100.000000</td>\n",
       "    </tr>\n",
       "    <tr>\n",
       "      <th>11</th>\n",
       "      <td>discapacidad</td>\n",
       "      <td>100.000000</td>\n",
       "    </tr>\n",
       "    <tr>\n",
       "      <th>12</th>\n",
       "      <td>grupo_especial</td>\n",
       "      <td>100.000000</td>\n",
       "    </tr>\n",
       "    <tr>\n",
       "      <th>14</th>\n",
       "      <td>nivel_academico</td>\n",
       "      <td>100.000000</td>\n",
       "    </tr>\n",
       "    <tr>\n",
       "      <th>32</th>\n",
       "      <td>color</td>\n",
       "      <td>71.650555</td>\n",
       "    </tr>\n",
       "    <tr>\n",
       "      <th>19</th>\n",
       "      <td>conducta_especial</td>\n",
       "      <td>67.341661</td>\n",
       "    </tr>\n",
       "    <tr>\n",
       "      <th>13</th>\n",
       "      <td>medio_transporte</td>\n",
       "      <td>5.103325</td>\n",
       "    </tr>\n",
       "    <tr>\n",
       "      <th>17</th>\n",
       "      <td>modalidad</td>\n",
       "      <td>3.612867</td>\n",
       "    </tr>\n",
       "    <tr>\n",
       "      <th>6</th>\n",
       "      <td>estado_civil</td>\n",
       "      <td>3.464115</td>\n",
       "    </tr>\n",
       "    <tr>\n",
       "      <th>20</th>\n",
       "      <td>arma_medio</td>\n",
       "      <td>2.907359</td>\n",
       "    </tr>\n",
       "    <tr>\n",
       "      <th>27</th>\n",
       "      <td>sede_receptora</td>\n",
       "      <td>1.812481</td>\n",
       "    </tr>\n",
       "    <tr>\n",
       "      <th>26</th>\n",
       "      <td>lugar</td>\n",
       "      <td>1.386496</td>\n",
       "    </tr>\n",
       "    <tr>\n",
       "      <th>30</th>\n",
       "      <td>grupo_bien</td>\n",
       "      <td>0.903298</td>\n",
       "    </tr>\n",
       "    <tr>\n",
       "      <th>29</th>\n",
       "      <td>categoria_bien</td>\n",
       "      <td>0.903298</td>\n",
       "    </tr>\n",
       "    <tr>\n",
       "      <th>28</th>\n",
       "      <td>bien</td>\n",
       "      <td>0.903298</td>\n",
       "    </tr>\n",
       "    <tr>\n",
       "      <th>4</th>\n",
       "      <td>sexo</td>\n",
       "      <td>0.544333</td>\n",
       "    </tr>\n",
       "    <tr>\n",
       "      <th>23</th>\n",
       "      <td>nombre_barrio</td>\n",
       "      <td>0.316138</td>\n",
       "    </tr>\n",
       "    <tr>\n",
       "      <th>31</th>\n",
       "      <td>modelo</td>\n",
       "      <td>0.000000</td>\n",
       "    </tr>\n",
       "    <tr>\n",
       "      <th>0</th>\n",
       "      <td>fecha_hecho</td>\n",
       "      <td>0.000000</td>\n",
       "    </tr>\n",
       "    <tr>\n",
       "      <th>25</th>\n",
       "      <td>codigo_comuna</td>\n",
       "      <td>0.000000</td>\n",
       "    </tr>\n",
       "    <tr>\n",
       "      <th>24</th>\n",
       "      <td>codigo_barrio</td>\n",
       "      <td>0.000000</td>\n",
       "    </tr>\n",
       "    <tr>\n",
       "      <th>1</th>\n",
       "      <td>cantidad</td>\n",
       "      <td>0.000000</td>\n",
       "    </tr>\n",
       "    <tr>\n",
       "      <th>16</th>\n",
       "      <td>conducta</td>\n",
       "      <td>0.000000</td>\n",
       "    </tr>\n",
       "    <tr>\n",
       "      <th>5</th>\n",
       "      <td>edad</td>\n",
       "      <td>0.000000</td>\n",
       "    </tr>\n",
       "    <tr>\n",
       "      <th>3</th>\n",
       "      <td>longitud</td>\n",
       "      <td>0.000000</td>\n",
       "    </tr>\n",
       "    <tr>\n",
       "      <th>2</th>\n",
       "      <td>latitud</td>\n",
       "      <td>0.000000</td>\n",
       "    </tr>\n",
       "    <tr>\n",
       "      <th>35</th>\n",
       "      <td>fecha_ingestion</td>\n",
       "      <td>0.000000</td>\n",
       "    </tr>\n",
       "  </tbody>\n",
       "</table>\n",
       "</div>"
      ],
      "text/plain": [
       "                columna  porcentaje\n",
       "18      caracterizacion  100.000000\n",
       "15              testigo  100.000000\n",
       "34        unidad_medida  100.000000\n",
       "33              permiso  100.000000\n",
       "22      categoria_penal  100.000000\n",
       "21       articulo_penal  100.000000\n",
       "7           grupo_actor  100.000000\n",
       "8   actividad_delictiva  100.000000\n",
       "9            parentesco  100.000000\n",
       "10            ocupacion  100.000000\n",
       "11         discapacidad  100.000000\n",
       "12       grupo_especial  100.000000\n",
       "14      nivel_academico  100.000000\n",
       "32                color   71.650555\n",
       "19    conducta_especial   67.341661\n",
       "13     medio_transporte    5.103325\n",
       "17            modalidad    3.612867\n",
       "6          estado_civil    3.464115\n",
       "20           arma_medio    2.907359\n",
       "27       sede_receptora    1.812481\n",
       "26                lugar    1.386496\n",
       "30           grupo_bien    0.903298\n",
       "29       categoria_bien    0.903298\n",
       "28                 bien    0.903298\n",
       "4                  sexo    0.544333\n",
       "23        nombre_barrio    0.316138\n",
       "31               modelo    0.000000\n",
       "0           fecha_hecho    0.000000\n",
       "25        codigo_comuna    0.000000\n",
       "24        codigo_barrio    0.000000\n",
       "1              cantidad    0.000000\n",
       "16             conducta    0.000000\n",
       "5                  edad    0.000000\n",
       "3              longitud    0.000000\n",
       "2               latitud    0.000000\n",
       "35      fecha_ingestion    0.000000"
      ]
     },
     "execution_count": 14,
     "metadata": {},
     "output_type": "execute_result"
    }
   ],
   "source": [
    "eleccion_cols"
   ]
  },
  {
   "cell_type": "code",
   "execution_count": 15,
   "metadata": {},
   "outputs": [],
   "source": [
    "cols_drop = eleccion_cols[eleccion_cols['porcentaje'] > 50]['columna'].values"
   ]
  },
  {
   "cell_type": "code",
   "execution_count": 16,
   "metadata": {},
   "outputs": [],
   "source": [
    "hurtos.drop(cols_drop, axis=1, inplace=True)"
   ]
  },
  {
   "cell_type": "code",
   "execution_count": 17,
   "metadata": {},
   "outputs": [],
   "source": [
    "missing_values = find_missing(hurtos)"
   ]
  },
  {
   "cell_type": "code",
   "execution_count": 18,
   "metadata": {},
   "outputs": [
    {
     "data": {
      "text/html": [
       "<div>\n",
       "<style scoped>\n",
       "    .dataframe tbody tr th:only-of-type {\n",
       "        vertical-align: middle;\n",
       "    }\n",
       "\n",
       "    .dataframe tbody tr th {\n",
       "        vertical-align: top;\n",
       "    }\n",
       "\n",
       "    .dataframe thead th {\n",
       "        text-align: right;\n",
       "    }\n",
       "</style>\n",
       "<table border=\"1\" class=\"dataframe\">\n",
       "  <thead>\n",
       "    <tr style=\"text-align: right;\">\n",
       "      <th></th>\n",
       "      <th>Columnas</th>\n",
       "      <th>Faltantes</th>\n",
       "      <th>Porcentaje</th>\n",
       "    </tr>\n",
       "  </thead>\n",
       "  <tbody>\n",
       "    <tr>\n",
       "      <th>2</th>\n",
       "      <td>latitud</td>\n",
       "      <td>14231</td>\n",
       "      <td>0.046525</td>\n",
       "    </tr>\n",
       "    <tr>\n",
       "      <th>3</th>\n",
       "      <td>longitud</td>\n",
       "      <td>14231</td>\n",
       "      <td>0.046525</td>\n",
       "    </tr>\n",
       "    <tr>\n",
       "      <th>0</th>\n",
       "      <td>fecha_hecho</td>\n",
       "      <td>0</td>\n",
       "      <td>0.000000</td>\n",
       "    </tr>\n",
       "    <tr>\n",
       "      <th>12</th>\n",
       "      <td>codigo_barrio</td>\n",
       "      <td>0</td>\n",
       "      <td>0.000000</td>\n",
       "    </tr>\n",
       "    <tr>\n",
       "      <th>19</th>\n",
       "      <td>modelo</td>\n",
       "      <td>0</td>\n",
       "      <td>0.000000</td>\n",
       "    </tr>\n",
       "    <tr>\n",
       "      <th>18</th>\n",
       "      <td>grupo_bien</td>\n",
       "      <td>0</td>\n",
       "      <td>0.000000</td>\n",
       "    </tr>\n",
       "    <tr>\n",
       "      <th>17</th>\n",
       "      <td>categoria_bien</td>\n",
       "      <td>0</td>\n",
       "      <td>0.000000</td>\n",
       "    </tr>\n",
       "    <tr>\n",
       "      <th>16</th>\n",
       "      <td>bien</td>\n",
       "      <td>0</td>\n",
       "      <td>0.000000</td>\n",
       "    </tr>\n",
       "    <tr>\n",
       "      <th>15</th>\n",
       "      <td>sede_receptora</td>\n",
       "      <td>0</td>\n",
       "      <td>0.000000</td>\n",
       "    </tr>\n",
       "    <tr>\n",
       "      <th>14</th>\n",
       "      <td>lugar</td>\n",
       "      <td>0</td>\n",
       "      <td>0.000000</td>\n",
       "    </tr>\n",
       "    <tr>\n",
       "      <th>13</th>\n",
       "      <td>codigo_comuna</td>\n",
       "      <td>0</td>\n",
       "      <td>0.000000</td>\n",
       "    </tr>\n",
       "    <tr>\n",
       "      <th>10</th>\n",
       "      <td>arma_medio</td>\n",
       "      <td>0</td>\n",
       "      <td>0.000000</td>\n",
       "    </tr>\n",
       "    <tr>\n",
       "      <th>11</th>\n",
       "      <td>nombre_barrio</td>\n",
       "      <td>0</td>\n",
       "      <td>0.000000</td>\n",
       "    </tr>\n",
       "    <tr>\n",
       "      <th>1</th>\n",
       "      <td>cantidad</td>\n",
       "      <td>0</td>\n",
       "      <td>0.000000</td>\n",
       "    </tr>\n",
       "    <tr>\n",
       "      <th>9</th>\n",
       "      <td>modalidad</td>\n",
       "      <td>0</td>\n",
       "      <td>0.000000</td>\n",
       "    </tr>\n",
       "    <tr>\n",
       "      <th>8</th>\n",
       "      <td>conducta</td>\n",
       "      <td>0</td>\n",
       "      <td>0.000000</td>\n",
       "    </tr>\n",
       "    <tr>\n",
       "      <th>7</th>\n",
       "      <td>medio_transporte</td>\n",
       "      <td>0</td>\n",
       "      <td>0.000000</td>\n",
       "    </tr>\n",
       "    <tr>\n",
       "      <th>6</th>\n",
       "      <td>estado_civil</td>\n",
       "      <td>0</td>\n",
       "      <td>0.000000</td>\n",
       "    </tr>\n",
       "    <tr>\n",
       "      <th>5</th>\n",
       "      <td>edad</td>\n",
       "      <td>0</td>\n",
       "      <td>0.000000</td>\n",
       "    </tr>\n",
       "    <tr>\n",
       "      <th>4</th>\n",
       "      <td>sexo</td>\n",
       "      <td>0</td>\n",
       "      <td>0.000000</td>\n",
       "    </tr>\n",
       "    <tr>\n",
       "      <th>20</th>\n",
       "      <td>fecha_ingestion</td>\n",
       "      <td>0</td>\n",
       "      <td>0.000000</td>\n",
       "    </tr>\n",
       "  </tbody>\n",
       "</table>\n",
       "</div>"
      ],
      "text/plain": [
       "            Columnas  Faltantes  Porcentaje\n",
       "2            latitud      14231    0.046525\n",
       "3           longitud      14231    0.046525\n",
       "0        fecha_hecho          0    0.000000\n",
       "12     codigo_barrio          0    0.000000\n",
       "19            modelo          0    0.000000\n",
       "18        grupo_bien          0    0.000000\n",
       "17    categoria_bien          0    0.000000\n",
       "16              bien          0    0.000000\n",
       "15    sede_receptora          0    0.000000\n",
       "14             lugar          0    0.000000\n",
       "13     codigo_comuna          0    0.000000\n",
       "10        arma_medio          0    0.000000\n",
       "11     nombre_barrio          0    0.000000\n",
       "1           cantidad          0    0.000000\n",
       "9          modalidad          0    0.000000\n",
       "8           conducta          0    0.000000\n",
       "7   medio_transporte          0    0.000000\n",
       "6       estado_civil          0    0.000000\n",
       "5               edad          0    0.000000\n",
       "4               sexo          0    0.000000\n",
       "20   fecha_ingestion          0    0.000000"
      ]
     },
     "execution_count": 18,
     "metadata": {},
     "output_type": "execute_result"
    }
   ],
   "source": [
    "missing_values"
   ]
  },
  {
   "cell_type": "code",
   "execution_count": 19,
   "metadata": {},
   "outputs": [],
   "source": [
    "shape = hurtos.shape[0] * hurtos.shape[1]"
   ]
  },
  {
   "cell_type": "code",
   "execution_count": 20,
   "metadata": {},
   "outputs": [
    {
     "data": {
      "image/png": "[encoded data removed]",
      "text/plain": [
       "<Figure size 360x360 with 1 Axes>"
      ]
     },
     "metadata": {},
     "output_type": "display_data"
    }
   ],
   "source": [
    "pie_missing(missing_values, shape)"
   ]
  },
  {
   "cell_type": "markdown",
   "metadata": {},
   "source": [
    "#### Llenar posición geográfica segun datos existentes"
   ]
  },
  {
   "cell_type": "code",
   "execution_count": 21,
   "metadata": {},
   "outputs": [],
   "source": [
    "barrios = hurtos[hurtos['latitud'].isnull()]['nombre_barrio'].values"
   ]
  },
  {
   "cell_type": "code",
   "execution_count": 22,
   "metadata": {},
   "outputs": [],
   "source": [
    "cond_barrios = hurtos['nombre_barrio'].isin(barrios)\n",
    "cond_pos = hurtos['latitud'].notnull()\n",
    "\n",
    "locacion = hurtos.loc[cond_barrios & cond_pos, ['nombre_barrio', 'latitud', 'longitud']]\n",
    "locacion = locacion.groupby('nombre_barrio', as_index=False).mean()"
   ]
  },
  {
   "cell_type": "code",
   "execution_count": 23,
   "metadata": {},
   "outputs": [
    {
     "data": {
      "text/html": [
       "<div>\n",
       "<style scoped>\n",
       "    .dataframe tbody tr th:only-of-type {\n",
       "        vertical-align: middle;\n",
       "    }\n",
       "\n",
       "    .dataframe tbody tr th {\n",
       "        vertical-align: top;\n",
       "    }\n",
       "\n",
       "    .dataframe thead th {\n",
       "        text-align: right;\n",
       "    }\n",
       "</style>\n",
       "<table border=\"1\" class=\"dataframe\">\n",
       "  <thead>\n",
       "    <tr style=\"text-align: right;\">\n",
       "      <th></th>\n",
       "      <th>nombre_barrio</th>\n",
       "      <th>latitud</th>\n",
       "      <th>longitud</th>\n",
       "    </tr>\n",
       "  </thead>\n",
       "  <tbody>\n",
       "    <tr>\n",
       "      <th>0</th>\n",
       "      <td>Aguas Frias</td>\n",
       "      <td>6.232493</td>\n",
       "      <td>-75.647458</td>\n",
       "    </tr>\n",
       "    <tr>\n",
       "      <th>1</th>\n",
       "      <td>Aldea Pablo VI</td>\n",
       "      <td>6.287915</td>\n",
       "      <td>-75.542049</td>\n",
       "    </tr>\n",
       "    <tr>\n",
       "      <th>2</th>\n",
       "      <td>Alejandro Echavarría</td>\n",
       "      <td>6.238090</td>\n",
       "      <td>-75.546697</td>\n",
       "    </tr>\n",
       "    <tr>\n",
       "      <th>3</th>\n",
       "      <td>Alejandría</td>\n",
       "      <td>6.200316</td>\n",
       "      <td>-75.569970</td>\n",
       "    </tr>\n",
       "    <tr>\n",
       "      <th>4</th>\n",
       "      <td>Alfonso López</td>\n",
       "      <td>6.283903</td>\n",
       "      <td>-75.574895</td>\n",
       "    </tr>\n",
       "    <tr>\n",
       "      <th>...</th>\n",
       "      <td>...</td>\n",
       "      <td>...</td>\n",
       "      <td>...</td>\n",
       "    </tr>\n",
       "    <tr>\n",
       "      <th>265</th>\n",
       "      <td>Villa Nueva</td>\n",
       "      <td>6.252273</td>\n",
       "      <td>-75.562773</td>\n",
       "    </tr>\n",
       "    <tr>\n",
       "      <th>266</th>\n",
       "      <td>Villa del Socorro</td>\n",
       "      <td>6.294771</td>\n",
       "      <td>-75.552934</td>\n",
       "    </tr>\n",
       "    <tr>\n",
       "      <th>267</th>\n",
       "      <td>Villatina</td>\n",
       "      <td>6.236930</td>\n",
       "      <td>-75.539896</td>\n",
       "    </tr>\n",
       "    <tr>\n",
       "      <th>268</th>\n",
       "      <td>Área Urbana Cgto. San Antonio de Prado</td>\n",
       "      <td>6.180854</td>\n",
       "      <td>-75.648451</td>\n",
       "    </tr>\n",
       "    <tr>\n",
       "      <th>269</th>\n",
       "      <td>Área Urbana Cgto. San Cristóbal</td>\n",
       "      <td>6.275422</td>\n",
       "      <td>-75.630164</td>\n",
       "    </tr>\n",
       "  </tbody>\n",
       "</table>\n",
       "<p>270 rows × 3 columns</p>\n",
       "</div>"
      ],
      "text/plain": [
       "                              nombre_barrio   latitud   longitud\n",
       "0                               Aguas Frias  6.232493 -75.647458\n",
       "1                            Aldea Pablo VI  6.287915 -75.542049\n",
       "2                      Alejandro Echavarría  6.238090 -75.546697\n",
       "3                                Alejandría  6.200316 -75.569970\n",
       "4                             Alfonso López  6.283903 -75.574895\n",
       "..                                      ...       ...        ...\n",
       "265                             Villa Nueva  6.252273 -75.562773\n",
       "266                       Villa del Socorro  6.294771 -75.552934\n",
       "267                               Villatina  6.236930 -75.539896\n",
       "268  Área Urbana Cgto. San Antonio de Prado  6.180854 -75.648451\n",
       "269         Área Urbana Cgto. San Cristóbal  6.275422 -75.630164\n",
       "\n",
       "[270 rows x 3 columns]"
      ]
     },
     "execution_count": 23,
     "metadata": {},
     "output_type": "execute_result"
    }
   ],
   "source": [
    "locacion"
   ]
  },
  {
   "cell_type": "code",
   "execution_count": 24,
   "metadata": {},
   "outputs": [],
   "source": [
    "hurtos = pd.merge(hurtos, locacion, on='nombre_barrio', how='left', suffixes=('', '_fill'))"
   ]
  },
  {
   "cell_type": "code",
   "execution_count": 25,
   "metadata": {},
   "outputs": [],
   "source": [
    "hurtos['latitud'] = hurtos['latitud'].fillna(hurtos['latitud_fill'])\n",
    "hurtos['longitud'] = hurtos['longitud'].fillna(hurtos['longitud_fill'])"
   ]
  },
  {
   "cell_type": "code",
   "execution_count": 26,
   "metadata": {},
   "outputs": [],
   "source": [
    "hurtos.drop(columns=['latitud_fill', 'longitud_fill'], inplace=True)"
   ]
  },
  {
   "cell_type": "code",
   "execution_count": 27,
   "metadata": {},
   "outputs": [],
   "source": [
    "hurtos = hurtos.loc[hurtos['latitud'].notnull(), hurtos.columns]"
   ]
  },
  {
   "cell_type": "markdown",
   "metadata": {},
   "source": [
    "#### Validación de nulos"
   ]
  },
  {
   "cell_type": "code",
   "execution_count": 28,
   "metadata": {},
   "outputs": [
    {
     "data": {
      "text/html": [
       "<div>\n",
       "<style scoped>\n",
       "    .dataframe tbody tr th:only-of-type {\n",
       "        vertical-align: middle;\n",
       "    }\n",
       "\n",
       "    .dataframe tbody tr th {\n",
       "        vertical-align: top;\n",
       "    }\n",
       "\n",
       "    .dataframe thead th {\n",
       "        text-align: right;\n",
       "    }\n",
       "</style>\n",
       "<table border=\"1\" class=\"dataframe\">\n",
       "  <thead>\n",
       "    <tr style=\"text-align: right;\">\n",
       "      <th></th>\n",
       "      <th>Columnas</th>\n",
       "      <th>Faltantes</th>\n",
       "      <th>Porcentaje</th>\n",
       "    </tr>\n",
       "  </thead>\n",
       "  <tbody>\n",
       "    <tr>\n",
       "      <th>0</th>\n",
       "      <td>fecha_hecho</td>\n",
       "      <td>0</td>\n",
       "      <td>0.0</td>\n",
       "    </tr>\n",
       "    <tr>\n",
       "      <th>11</th>\n",
       "      <td>nombre_barrio</td>\n",
       "      <td>0</td>\n",
       "      <td>0.0</td>\n",
       "    </tr>\n",
       "    <tr>\n",
       "      <th>19</th>\n",
       "      <td>modelo</td>\n",
       "      <td>0</td>\n",
       "      <td>0.0</td>\n",
       "    </tr>\n",
       "    <tr>\n",
       "      <th>18</th>\n",
       "      <td>grupo_bien</td>\n",
       "      <td>0</td>\n",
       "      <td>0.0</td>\n",
       "    </tr>\n",
       "    <tr>\n",
       "      <th>17</th>\n",
       "      <td>categoria_bien</td>\n",
       "      <td>0</td>\n",
       "      <td>0.0</td>\n",
       "    </tr>\n",
       "    <tr>\n",
       "      <th>16</th>\n",
       "      <td>bien</td>\n",
       "      <td>0</td>\n",
       "      <td>0.0</td>\n",
       "    </tr>\n",
       "    <tr>\n",
       "      <th>15</th>\n",
       "      <td>sede_receptora</td>\n",
       "      <td>0</td>\n",
       "      <td>0.0</td>\n",
       "    </tr>\n",
       "    <tr>\n",
       "      <th>14</th>\n",
       "      <td>lugar</td>\n",
       "      <td>0</td>\n",
       "      <td>0.0</td>\n",
       "    </tr>\n",
       "    <tr>\n",
       "      <th>13</th>\n",
       "      <td>codigo_comuna</td>\n",
       "      <td>0</td>\n",
       "      <td>0.0</td>\n",
       "    </tr>\n",
       "    <tr>\n",
       "      <th>12</th>\n",
       "      <td>codigo_barrio</td>\n",
       "      <td>0</td>\n",
       "      <td>0.0</td>\n",
       "    </tr>\n",
       "    <tr>\n",
       "      <th>10</th>\n",
       "      <td>arma_medio</td>\n",
       "      <td>0</td>\n",
       "      <td>0.0</td>\n",
       "    </tr>\n",
       "    <tr>\n",
       "      <th>1</th>\n",
       "      <td>cantidad</td>\n",
       "      <td>0</td>\n",
       "      <td>0.0</td>\n",
       "    </tr>\n",
       "    <tr>\n",
       "      <th>9</th>\n",
       "      <td>modalidad</td>\n",
       "      <td>0</td>\n",
       "      <td>0.0</td>\n",
       "    </tr>\n",
       "    <tr>\n",
       "      <th>8</th>\n",
       "      <td>conducta</td>\n",
       "      <td>0</td>\n",
       "      <td>0.0</td>\n",
       "    </tr>\n",
       "    <tr>\n",
       "      <th>7</th>\n",
       "      <td>medio_transporte</td>\n",
       "      <td>0</td>\n",
       "      <td>0.0</td>\n",
       "    </tr>\n",
       "    <tr>\n",
       "      <th>6</th>\n",
       "      <td>estado_civil</td>\n",
       "      <td>0</td>\n",
       "      <td>0.0</td>\n",
       "    </tr>\n",
       "    <tr>\n",
       "      <th>5</th>\n",
       "      <td>edad</td>\n",
       "      <td>0</td>\n",
       "      <td>0.0</td>\n",
       "    </tr>\n",
       "    <tr>\n",
       "      <th>4</th>\n",
       "      <td>sexo</td>\n",
       "      <td>0</td>\n",
       "      <td>0.0</td>\n",
       "    </tr>\n",
       "    <tr>\n",
       "      <th>3</th>\n",
       "      <td>longitud</td>\n",
       "      <td>0</td>\n",
       "      <td>0.0</td>\n",
       "    </tr>\n",
       "    <tr>\n",
       "      <th>2</th>\n",
       "      <td>latitud</td>\n",
       "      <td>0</td>\n",
       "      <td>0.0</td>\n",
       "    </tr>\n",
       "    <tr>\n",
       "      <th>20</th>\n",
       "      <td>fecha_ingestion</td>\n",
       "      <td>0</td>\n",
       "      <td>0.0</td>\n",
       "    </tr>\n",
       "  </tbody>\n",
       "</table>\n",
       "</div>"
      ],
      "text/plain": [
       "            Columnas  Faltantes  Porcentaje\n",
       "0        fecha_hecho          0         0.0\n",
       "11     nombre_barrio          0         0.0\n",
       "19            modelo          0         0.0\n",
       "18        grupo_bien          0         0.0\n",
       "17    categoria_bien          0         0.0\n",
       "16              bien          0         0.0\n",
       "15    sede_receptora          0         0.0\n",
       "14             lugar          0         0.0\n",
       "13     codigo_comuna          0         0.0\n",
       "12     codigo_barrio          0         0.0\n",
       "10        arma_medio          0         0.0\n",
       "1           cantidad          0         0.0\n",
       "9          modalidad          0         0.0\n",
       "8           conducta          0         0.0\n",
       "7   medio_transporte          0         0.0\n",
       "6       estado_civil          0         0.0\n",
       "5               edad          0         0.0\n",
       "4               sexo          0         0.0\n",
       "3           longitud          0         0.0\n",
       "2            latitud          0         0.0\n",
       "20   fecha_ingestion          0         0.0"
      ]
     },
     "execution_count": 28,
     "metadata": {},
     "output_type": "execute_result"
    }
   ],
   "source": [
    "find_missing(hurtos)"
   ]
  },
  {
   "cell_type": "markdown",
   "metadata": {},
   "source": [
    "## Transformaciones"
   ]
  },
  {
   "cell_type": "code",
   "execution_count": 29,
   "metadata": {},
   "outputs": [],
   "source": [
    "hurtos['hora'] = hurtos['fecha_hecho'].dt.time"
   ]
  },
  {
   "cell_type": "code",
   "execution_count": 30,
   "metadata": {},
   "outputs": [],
   "source": [
    "hurtos['hora'] = hurtos['hora'].apply(lambda x: x.strftime(\"%H:%M\"))"
   ]
  },
  {
   "cell_type": "code",
   "execution_count": 31,
   "metadata": {},
   "outputs": [],
   "source": [
    "hurtos['fecha'] = hurtos['fecha_hecho'].dt.date"
   ]
  },
  {
   "cell_type": "code",
   "execution_count": 32,
   "metadata": {},
   "outputs": [],
   "source": [
    "hurtos['dia_semana'] = hurtos['fecha_hecho'].dt.strftime('%A')"
   ]
  },
  {
   "cell_type": "markdown",
   "metadata": {},
   "source": [
    "* Para realizar la asiganción de las categorias se usa la clase Categories definida en metadata"
   ]
  },
  {
   "cell_type": "code",
   "execution_count": 33,
   "metadata": {},
   "outputs": [],
   "source": [
    "hurtos['medio_transporte'] = hurtos['medio_transporte'].map(Categories.categoria_transporte)"
   ]
  },
  {
   "cell_type": "code",
   "execution_count": 34,
   "metadata": {},
   "outputs": [],
   "source": [
    "hurtos['modalidad'] = hurtos['modalidad'].map(Categories.categoria_modalidad)"
   ]
  },
  {
   "cell_type": "code",
   "execution_count": 35,
   "metadata": {},
   "outputs": [],
   "source": [
    "hurtos['arma_medio'] = hurtos['arma_medio'].map(Categories.categoria_armas)"
   ]
  },
  {
   "cell_type": "code",
   "execution_count": 36,
   "metadata": {},
   "outputs": [],
   "source": [
    "hurtos['lugar'] = hurtos['lugar'].map(Categories.categoria_lugar)"
   ]
  },
  {
   "cell_type": "code",
   "execution_count": 37,
   "metadata": {},
   "outputs": [],
   "source": [
    "criterios = [\n",
    "    hurtos['edad'] < 30,\n",
    "    hurtos['edad'].between(30, 60, inclusive='left'),\n",
    "    hurtos['edad'] >= 60\n",
    "]\n",
    "categorias = ['Joven', 'Adulto', 'Mayor']\n",
    "\n",
    "hurtos['edad'] = np.select(criterios, categorias)"
   ]
  },
  {
   "cell_type": "markdown",
   "metadata": {},
   "source": [
    "* Se grafican los resultados"
   ]
  },
  {
   "cell_type": "code",
   "execution_count": 38,
   "metadata": {},
   "outputs": [
    {
     "data": {
      "image/png": "[encoded data removed]",
      "text/plain": [
       "<Figure size 864x1440 with 10 Axes>"
      ]
     },
     "metadata": {},
     "output_type": "display_data"
    }
   ],
   "source": [
    "cols = ['sexo', 'medio_transporte', 'estado_civil', \n",
    "        'modalidad', 'arma_medio', 'lugar', 'grupo_bien',\n",
    "        'dia_semana', 'edad']\n",
    "\n",
    "bar_subplots(hurtos, cols, savefig=True)"
   ]
  },
  {
   "cell_type": "code",
   "execution_count": 39,
   "metadata": {},
   "outputs": [],
   "source": [
    "columnas = ['fecha_hecho', 'latitud', 'longitud', 'sexo', 'edad',\n",
    "            'estado_civil', 'medio_transporte', 'conducta', 'modalidad',\n",
    "            'arma_medio', 'nombre_barrio', 'lugar', 'grupo_bien',\n",
    "            'hora', 'fecha', 'dia_semana']\n",
    "hurtos = hurtos.loc[:, columnas]"
   ]
  },
  {
   "cell_type": "code",
   "execution_count": 40,
   "metadata": {},
   "outputs": [],
   "source": [
    "hurtos.to_parquet(Path('..') / 'output' / 'hurtos.parquet', index=False)"
   ]
  },
  {
   "cell_type": "markdown",
   "metadata": {},
   "source": [
    "## Modelo"
   ]
  },
  {
   "cell_type": "code",
   "execution_count": 41,
   "metadata": {},
   "outputs": [
    {
     "data": {
      "text/html": [
       "<div>\n",
       "<style scoped>\n",
       "    .dataframe tbody tr th:only-of-type {\n",
       "        vertical-align: middle;\n",
       "    }\n",
       "\n",
       "    .dataframe tbody tr th {\n",
       "        vertical-align: top;\n",
       "    }\n",
       "\n",
       "    .dataframe thead th {\n",
       "        text-align: right;\n",
       "    }\n",
       "</style>\n",
       "<table border=\"1\" class=\"dataframe\">\n",
       "  <thead>\n",
       "    <tr style=\"text-align: right;\">\n",
       "      <th></th>\n",
       "      <th>fecha_hecho</th>\n",
       "      <th>latitud</th>\n",
       "      <th>longitud</th>\n",
       "      <th>sexo</th>\n",
       "      <th>edad</th>\n",
       "      <th>estado_civil</th>\n",
       "      <th>medio_transporte</th>\n",
       "      <th>conducta</th>\n",
       "      <th>modalidad</th>\n",
       "      <th>arma_medio</th>\n",
       "      <th>nombre_barrio</th>\n",
       "      <th>lugar</th>\n",
       "      <th>grupo_bien</th>\n",
       "      <th>hora</th>\n",
       "      <th>fecha</th>\n",
       "      <th>dia_semana</th>\n",
       "    </tr>\n",
       "  </thead>\n",
       "  <tbody>\n",
       "    <tr>\n",
       "      <th>0</th>\n",
       "      <td>2017-01-01 06:00:00</td>\n",
       "      <td>6.299703</td>\n",
       "      <td>-75.582016</td>\n",
       "      <td>Mujer</td>\n",
       "      <td>Adulto</td>\n",
       "      <td>Unión marital de hecho</td>\n",
       "      <td>Caminata</td>\n",
       "      <td>Hurto a persona</td>\n",
       "      <td>Atraco</td>\n",
       "      <td>Arma</td>\n",
       "      <td>Doce de Octubre No.2</td>\n",
       "      <td>Pública</td>\n",
       "      <td>Mercancía</td>\n",
       "      <td>06:00</td>\n",
       "      <td>2017-01-01</td>\n",
       "      <td>domingo</td>\n",
       "    </tr>\n",
       "    <tr>\n",
       "      <th>1</th>\n",
       "      <td>2017-01-01 20:00:00</td>\n",
       "      <td>6.250917</td>\n",
       "      <td>-75.566160</td>\n",
       "      <td>Mujer</td>\n",
       "      <td>Joven</td>\n",
       "      <td>Soltero(a)</td>\n",
       "      <td>Caminata</td>\n",
       "      <td>Hurto a persona</td>\n",
       "      <td>Atraco</td>\n",
       "      <td>Arma</td>\n",
       "      <td>La Candelaria</td>\n",
       "      <td>Pública</td>\n",
       "      <td>Mercancía</td>\n",
       "      <td>20:00</td>\n",
       "      <td>2017-01-01</td>\n",
       "      <td>domingo</td>\n",
       "    </tr>\n",
       "  </tbody>\n",
       "</table>\n",
       "</div>"
      ],
      "text/plain": [
       "          fecha_hecho   latitud   longitud   sexo    edad  \\\n",
       "0 2017-01-01 06:00:00  6.299703 -75.582016  Mujer  Adulto   \n",
       "1 2017-01-01 20:00:00  6.250917 -75.566160  Mujer   Joven   \n",
       "\n",
       "             estado_civil medio_transporte         conducta modalidad  \\\n",
       "0  Unión marital de hecho         Caminata  Hurto a persona    Atraco   \n",
       "1              Soltero(a)         Caminata  Hurto a persona    Atraco   \n",
       "\n",
       "  arma_medio         nombre_barrio    lugar grupo_bien   hora       fecha  \\\n",
       "0       Arma  Doce de Octubre No.2  Pública  Mercancía  06:00  2017-01-01   \n",
       "1       Arma         La Candelaria  Pública  Mercancía  20:00  2017-01-01   \n",
       "\n",
       "  dia_semana  \n",
       "0    domingo  \n",
       "1    domingo  "
      ]
     },
     "execution_count": 41,
     "metadata": {},
     "output_type": "execute_result"
    }
   ],
   "source": [
    "hurtos.head(2)"
   ]
  },
  {
   "cell_type": "code",
   "execution_count": 42,
   "metadata": {},
   "outputs": [
    {
     "data": {
      "text/plain": [
       "datetime.date(2003, 1, 1)"
      ]
     },
     "execution_count": 42,
     "metadata": {},
     "output_type": "execute_result"
    }
   ],
   "source": [
    "hurtos['fecha'].min()"
   ]
  },
  {
   "cell_type": "code",
   "execution_count": 43,
   "metadata": {},
   "outputs": [
    {
     "data": {
      "text/plain": [
       "datetime.date(2023, 3, 1)"
      ]
     },
     "execution_count": 43,
     "metadata": {},
     "output_type": "execute_result"
    }
   ],
   "source": [
    "hurtos['fecha'].max()"
   ]
  },
  {
   "cell_type": "code",
   "execution_count": 44,
   "metadata": {},
   "outputs": [],
   "source": [
    "hurtos['fecha'] = pd.to_datetime(hurtos['fecha'])\n",
    "hurtos = hurtos.set_index('fecha')\n",
    "hurtos_model = hurtos.resample('M').size()"
   ]
  },
  {
   "cell_type": "code",
   "execution_count": 45,
   "metadata": {},
   "outputs": [
    {
     "data": {
      "text/plain": [
       "fecha\n",
       "2003-01-31     214\n",
       "2003-02-28     178\n",
       "2003-03-31     258\n",
       "2003-04-30     354\n",
       "2003-05-31     510\n",
       "              ... \n",
       "2022-11-30    3531\n",
       "2022-12-31    3319\n",
       "2023-01-31    3382\n",
       "2023-02-28    3703\n",
       "2023-03-31      11\n",
       "Freq: M, Length: 243, dtype: int64"
      ]
     },
     "execution_count": 45,
     "metadata": {},
     "output_type": "execute_result"
    }
   ],
   "source": [
    "hurtos_model"
   ]
  },
  {
   "cell_type": "code",
   "execution_count": 47,
   "metadata": {},
   "outputs": [],
   "source": [
    "scaler = MinMaxScaler()\n",
    "scaled_data = scaler.fit_transform(hurtos_model.values.reshape(-1, 1))"
   ]
  },
  {
   "cell_type": "code",
   "execution_count": 48,
   "metadata": {},
   "outputs": [],
   "source": [
    "train_size = int(len(scaled_data) * 0.8)\n",
    "train_data = scaled_data[:train_size]\n",
    "test_data = scaled_data[train_size:]"
   ]
  },
  {
   "cell_type": "code",
   "execution_count": 49,
   "metadata": {},
   "outputs": [],
   "source": [
    "window_size = 12\n",
    "X_train, y_train = [], []\n",
    "for i in range(window_size, len(train_data)):\n",
    "    X_train.append(train_data[i-window_size:i, 0])\n",
    "    y_train.append(train_data[i, 0])\n",
    "X_train, y_train = np.array(X_train), np.array(y_train)"
   ]
  },
  {
   "cell_type": "code",
   "execution_count": 50,
   "metadata": {},
   "outputs": [],
   "source": [
    "X_train = np.reshape(X_train, (X_train.shape[0], X_train.shape[1], 1))"
   ]
  },
  {
   "cell_type": "code",
   "execution_count": 51,
   "metadata": {},
   "outputs": [],
   "source": [
    "model = Sequential()\n",
    "model.add(LSTM(64, activation='relu', input_shape=(window_size, 1)))\n",
    "model.add(Dense(1))\n",
    "model.compile(optimizer='adam', loss='mean_squared_error')"
   ]
  },
  {
   "cell_type": "code",
   "execution_count": 52,
   "metadata": {},
   "outputs": [
    {
     "name": "stdout",
     "output_type": "stream",
     "text": [
      "Epoch 1/50\n",
      "6/6 [==============================] - 5s 24ms/step - loss: 0.0491\n",
      "Epoch 2/50\n",
      "6/6 [==============================] - 0s 22ms/step - loss: 0.0279\n",
      "Epoch 3/50\n",
      "6/6 [==============================] - 0s 22ms/step - loss: 0.0131\n",
      "Epoch 4/50\n",
      "6/6 [==============================] - 0s 28ms/step - loss: 0.0098\n",
      "Epoch 5/50\n",
      "6/6 [==============================] - 0s 28ms/step - loss: 0.0089\n",
      "Epoch 6/50\n",
      "6/6 [==============================] - 0s 28ms/step - loss: 0.0056\n",
      "Epoch 7/50\n",
      "6/6 [==============================] - 0s 27ms/step - loss: 0.0049\n",
      "Epoch 8/50\n",
      "6/6 [==============================] - 0s 27ms/step - loss: 0.0033\n",
      "Epoch 9/50\n",
      "6/6 [==============================] - 0s 27ms/step - loss: 0.0030\n",
      "Epoch 10/50\n",
      "6/6 [==============================] - 0s 25ms/step - loss: 0.0032\n",
      "Epoch 11/50\n",
      "6/6 [==============================] - 0s 27ms/step - loss: 0.0029\n",
      "Epoch 12/50\n",
      "6/6 [==============================] - 0s 28ms/step - loss: 0.0028\n",
      "Epoch 13/50\n",
      "6/6 [==============================] - 0s 27ms/step - loss: 0.0027\n",
      "Epoch 14/50\n",
      "6/6 [==============================] - 0s 26ms/step - loss: 0.0027\n",
      "Epoch 15/50\n",
      "6/6 [==============================] - 0s 29ms/step - loss: 0.0026\n",
      "Epoch 16/50\n",
      "6/6 [==============================] - 0s 27ms/step - loss: 0.0026\n",
      "Epoch 17/50\n",
      "6/6 [==============================] - 0s 29ms/step - loss: 0.0025\n",
      "Epoch 18/50\n",
      "6/6 [==============================] - 0s 29ms/step - loss: 0.0025\n",
      "Epoch 19/50\n",
      "6/6 [==============================] - 0s 37ms/step - loss: 0.0024\n",
      "Epoch 20/50\n",
      "6/6 [==============================] - 0s 31ms/step - loss: 0.0024\n",
      "Epoch 21/50\n",
      "6/6 [==============================] - 0s 27ms/step - loss: 0.0023\n",
      "Epoch 22/50\n",
      "6/6 [==============================] - 0s 30ms/step - loss: 0.0023\n",
      "Epoch 23/50\n",
      "6/6 [==============================] - 0s 24ms/step - loss: 0.0023\n",
      "Epoch 24/50\n",
      "6/6 [==============================] - 0s 29ms/step - loss: 0.0023\n",
      "Epoch 25/50\n",
      "6/6 [==============================] - 0s 27ms/step - loss: 0.0023\n",
      "Epoch 26/50\n",
      "6/6 [==============================] - 0s 30ms/step - loss: 0.0022\n",
      "Epoch 27/50\n",
      "6/6 [==============================] - 0s 27ms/step - loss: 0.0022\n",
      "Epoch 28/50\n",
      "6/6 [==============================] - 0s 27ms/step - loss: 0.0022\n",
      "Epoch 29/50\n",
      "6/6 [==============================] - 0s 25ms/step - loss: 0.0022\n",
      "Epoch 30/50\n",
      "6/6 [==============================] - 0s 29ms/step - loss: 0.0022\n",
      "Epoch 31/50\n",
      "6/6 [==============================] - 0s 36ms/step - loss: 0.0021\n",
      "Epoch 32/50\n",
      "6/6 [==============================] - 0s 31ms/step - loss: 0.0022\n",
      "Epoch 33/50\n",
      "6/6 [==============================] - 0s 28ms/step - loss: 0.0021\n",
      "Epoch 34/50\n",
      "6/6 [==============================] - 0s 29ms/step - loss: 0.0021\n",
      "Epoch 35/50\n",
      "6/6 [==============================] - 0s 29ms/step - loss: 0.0021\n",
      "Epoch 36/50\n",
      "6/6 [==============================] - 0s 29ms/step - loss: 0.0021\n",
      "Epoch 37/50\n",
      "6/6 [==============================] - 0s 27ms/step - loss: 0.0020\n",
      "Epoch 38/50\n",
      "6/6 [==============================] - 0s 26ms/step - loss: 0.0020\n",
      "Epoch 39/50\n",
      "6/6 [==============================] - 0s 25ms/step - loss: 0.0020\n",
      "Epoch 40/50\n",
      "6/6 [==============================] - 0s 25ms/step - loss: 0.0020\n",
      "Epoch 41/50\n",
      "6/6 [==============================] - 0s 27ms/step - loss: 0.0021\n",
      "Epoch 42/50\n",
      "6/6 [==============================] - 0s 27ms/step - loss: 0.0020\n",
      "Epoch 43/50\n",
      "6/6 [==============================] - 0s 25ms/step - loss: 0.0020\n",
      "Epoch 44/50\n",
      "6/6 [==============================] - 0s 27ms/step - loss: 0.0020\n",
      "Epoch 45/50\n",
      "6/6 [==============================] - 0s 27ms/step - loss: 0.0021\n",
      "Epoch 46/50\n",
      "6/6 [==============================] - 0s 30ms/step - loss: 0.0020\n",
      "Epoch 47/50\n",
      "6/6 [==============================] - 0s 30ms/step - loss: 0.0021\n",
      "Epoch 48/50\n",
      "6/6 [==============================] - 0s 28ms/step - loss: 0.0019\n",
      "Epoch 49/50\n",
      "6/6 [==============================] - 0s 27ms/step - loss: 0.0020\n",
      "Epoch 50/50\n",
      "6/6 [==============================] - 0s 27ms/step - loss: 0.0020\n"
     ]
    },
    {
     "data": {
      "text/plain": [
       "<keras.callbacks.History at 0x1db6c330ac0>"
      ]
     },
     "execution_count": 52,
     "metadata": {},
     "output_type": "execute_result"
    }
   ],
   "source": [
    "model.fit(X_train, y_train, epochs=50, batch_size=32)"
   ]
  },
  {
   "cell_type": "code",
   "execution_count": 53,
   "metadata": {},
   "outputs": [],
   "source": [
    "X_test, y_test = [], []\n",
    "for i in range(window_size, len(test_data)):\n",
    "    X_test.append(test_data[i-window_size:i, 0])\n",
    "    y_test.append(test_data[i, 0])\n",
    "X_test, y_test = np.array(X_test), np.array(y_test)"
   ]
  },
  {
   "cell_type": "code",
   "execution_count": 54,
   "metadata": {},
   "outputs": [],
   "source": [
    "X_test = np.reshape(X_test, (X_test.shape[0], X_test.shape[1], 1))"
   ]
  },
  {
   "cell_type": "code",
   "execution_count": 55,
   "metadata": {},
   "outputs": [
    {
     "name": "stdout",
     "output_type": "stream",
     "text": [
      "2/2 [==============================] - 1s 16ms/step - loss: 0.0435\n",
      "Pérdida en datos de prueba: 0.04345664381980896\n"
     ]
    }
   ],
   "source": [
    "loss = model.evaluate(X_test, y_test)\n",
    "print(\"Pérdida en datos de prueba:\", loss)"
   ]
  },
  {
   "cell_type": "code",
   "execution_count": 57,
   "metadata": {},
   "outputs": [
    {
     "name": "stdout",
     "output_type": "stream",
     "text": [
      "2/2 [==============================] - 1s 11ms/step\n"
     ]
    }
   ],
   "source": [
    "predictions = model.predict(X_test)"
   ]
  },
  {
   "cell_type": "code",
   "execution_count": 58,
   "metadata": {},
   "outputs": [],
   "source": [
    "predictions = scaler.inverse_transform(predictions)"
   ]
  },
  {
   "cell_type": "code",
   "execution_count": 66,
   "metadata": {},
   "outputs": [
    {
     "name": "stdout",
     "output_type": "stream",
     "text": [
      "1/1 [==============================] - 0s 103ms/step\n",
      "Predicciones para los próximos 6 meses:\n",
      "[3435.418]\n",
      "[3449.8694]\n",
      "[3476.359]\n",
      "[3484.292]\n",
      "[3511.4758]\n",
      "[3555.2642]\n"
     ]
    }
   ],
   "source": [
    "x_input = X_test[-6:]\n",
    "\n",
    "predictions = model.predict(x_input)\n",
    "predictions = scaler.inverse_transform(predictions)\n",
    "\n",
    "print(\"Predicciones para los próximos 6 meses:\")\n",
    "for prediction in predictions:\n",
    "    print(prediction)"
   ]
  },
  {
   "cell_type": "code",
   "execution_count": null,
   "metadata": {},
   "outputs": [],
   "source": [
    "scaler.inverse_transform(predictions)"
   ]
  }
 ],
 "metadata": {
  "kernelspec": {
   "display_name": "Python 3 (ipykernel)",
   "language": "python",
   "name": "python3"
  },
  "language_info": {
   "codemirror_mode": {
    "name": "ipython",
    "version": 3
   },
   "file_extension": ".py",
   "mimetype": "text/x-python",
   "name": "python",
   "nbconvert_exporter": "python",
   "pygments_lexer": "ipython3",
   "version": "3.10.11"
  },
  "toc-autonumbering": true
 },
 "nbformat": 4,
 "nbformat_minor": 4
}
