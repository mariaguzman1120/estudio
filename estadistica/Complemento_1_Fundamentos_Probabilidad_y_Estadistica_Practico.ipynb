{
 "cells": [
  {
   "cell_type": "code",
   "execution_count": 1,
   "metadata": {
    "colab": {
     "base_uri": "https://localhost:8080/"
    },
    "id": "ycYfCBACPCRL",
    "outputId": "e844932d-fda4-431e-f86d-ec40ddaa7e16"
   },
   "outputs": [],
   "source": [
    "#!wget --no-cache -O init.py -q https://raw.githubusercontent.com/UDEA-Esp-Analitica-y-Ciencia-de-Datos/EACD-02-ESTADISTICA/master/init.py\n",
    "#import init; init.init(force_download=False); \n",
    "from IPython.display import Image"
   ]
  },
  {
   "cell_type": "code",
   "execution_count": 2,
   "metadata": {
    "colab": {
     "base_uri": "https://localhost:8080/",
     "height": 251
    },
    "id": "OaVZxOmQPEzU",
    "outputId": "3e1af48c-2a25-47cb-cc91-ef9fb25580c1"
   },
   "outputs": [
    {
     "data": {
      "image/png": "[encoded data removed]",
      "text/plain": [
       "<IPython.core.display.Image object>"
      ]
     },
     "execution_count": 2,
     "metadata": {},
     "output_type": "execute_result"
    }
   ],
   "source": [
    "Image('../docs/udea-datascience.png')"
   ]
  },
  {
   "cell_type": "markdown",
   "metadata": {
    "id": "kVJT2mQTPAeo"
   },
   "source": [
    "# **Fundamentos de Probabilidad y Estadística - Práctico**\n",
    "## Desarrollado por Javier Fernando Botía Valderrama\n",
    "## Universidad de Antioquia"
   ]
  },
  {
   "cell_type": "markdown",
   "metadata": {
    "id": "MjJQFWtuTqtY"
   },
   "source": [
    "## Leer una base de datos"
   ]
  },
  {
   "cell_type": "markdown",
   "metadata": {
    "id": "zZy0oJ9dUI2f"
   },
   "source": [
    "Para esta práctica, utilizaremos la base de datos del mundo real llamado **Stock Price** que se encuentra en la siguiente url: https://sci2s.ugr.es/keel/dataset.php?cod=1298"
   ]
  },
  {
   "cell_type": "code",
   "execution_count": null,
   "metadata": {
    "id": "tMAZRauVK-iA"
   },
   "outputs": [],
   "source": [
    "import pandas as pd\n",
    "import io\n",
    "import requests "
   ]
  },
  {
   "cell_type": "code",
   "execution_count": null,
   "metadata": {
    "colab": {
     "base_uri": "https://localhost:8080/",
     "height": 676
    },
    "id": "sugPQDnnU5K8",
    "outputId": "17c104bb-79d6-4890-eba4-0bf30e82d12a"
   },
   "outputs": [],
   "source": [
    "nombres = ['Company 1', 'Company 2', 'Company 3', 'Company 4', 'Company 5', 'Company 6', 'Company 7', 'Company 8', 'Company 9', 'Company 10']\n",
    "url = \"https://raw.githubusercontent.com/javierfernandobotia/AnalisisAvanzadoDatos/main/stock.dat\"\n",
    "\n",
    "download = requests.get(url).content\n",
    "datos_stock = pd.read_table(io.StringIO(download.decode('utf-8')), sep=',', names = nombres)\n",
    "# Es importante codificarlo a utf-8\n",
    "display(datos_stock.head(20))"
   ]
  },
  {
   "cell_type": "code",
   "execution_count": null,
   "metadata": {
    "colab": {
     "base_uri": "https://localhost:8080/",
     "height": 206
    },
    "id": "Hva2pH61Vqi0",
    "outputId": "1fdc1167-64ed-4a07-acce-599390e9342e"
   },
   "outputs": [],
   "source": [
    "display(datos_stock.head())  # Si desean ver las 5 primeras filas de la base de datos"
   ]
  },
  {
   "cell_type": "code",
   "execution_count": null,
   "metadata": {
    "colab": {
     "base_uri": "https://localhost:8080/"
    },
    "id": "9urjPeRYV1dC",
    "outputId": "3e7a54ef-e76c-45dc-82fc-c305cb230ff5"
   },
   "outputs": [],
   "source": [
    "datos_stock.info() # Observar el número de datos por cada columna de la base de datos y el tipo de dato"
   ]
  },
  {
   "cell_type": "markdown",
   "metadata": {
    "id": "pC6M_TmBWG9p"
   },
   "source": [
    "## Análisis inicial de la base de datos"
   ]
  },
  {
   "cell_type": "markdown",
   "metadata": {
    "id": "OaLEM2j7WVEb"
   },
   "source": [
    "Primero, vamos a explorar los datos con la función **.describe()**, los estadísticos de la media, desviación estándar, y los percentiles, así como los valores mínimos y máximos por cada columna de la base de datos"
   ]
  },
  {
   "cell_type": "code",
   "execution_count": null,
   "metadata": {
    "colab": {
     "base_uri": "https://localhost:8080/",
     "height": 300
    },
    "id": "cl0PJURuWUbo",
    "outputId": "61938c06-6d1f-4dc0-cf9d-c857673d8009"
   },
   "outputs": [],
   "source": [
    "datos_stock.describe()"
   ]
  },
  {
   "cell_type": "markdown",
   "metadata": {
    "id": "Rh814QgYW6sd"
   },
   "source": [
    "Como pueden observar, por cada columna de la base de datos, calculamos la media, la desviación estándar, el valor mínimo y máximo, los percentiles y el conteo de datos. Vamos a seleccionar **Company 1** para hacer un histograma."
   ]
  },
  {
   "cell_type": "code",
   "execution_count": null,
   "metadata": {
    "colab": {
     "base_uri": "https://localhost:8080/",
     "height": 533
    },
    "id": "LzcS1DKGW6cJ",
    "outputId": "221479ba-8e05-4700-946d-68ee45f0abac"
   },
   "outputs": [],
   "source": [
    "import matplotlib\n",
    "from matplotlib import pyplot as plt\n",
    "\n",
    "matplotlib.rcParams.update({'font.size': 20, 'font.family': 'STIXGeneral', 'mathtext.fontset': 'stix'})\n",
    "\n",
    "fig = plt.figure(figsize=(15,8))\n",
    "plt.hist(datos_stock['Company 1'], bins = 'fd', alpha=0.7) # fd = regla de Freedman-Diaconis\n",
    "plt.xlim(datos_stock['Company 1'].min(), datos_stock['Company 1'].max()) # Límita el valor mínimo y máximo en eje x de la gráfica\n",
    "plt.xlabel('Valores')\n",
    "plt.ylabel('Frecuencias')\n",
    "plt.title('Histograma de Company 1')\n",
    "plt.show()"
   ]
  },
  {
   "cell_type": "markdown",
   "metadata": {
    "id": "Iwn3APQbYkfY"
   },
   "source": [
    "Una estrategía para analizar el histograma es el cálculo de los cuartiles. Veamos el resultado que nos genera este cálculo:"
   ]
  },
  {
   "cell_type": "code",
   "execution_count": null,
   "metadata": {
    "colab": {
     "base_uri": "https://localhost:8080/"
    },
    "id": "KJxGHzk0Y3pY",
    "outputId": "20c715c6-041d-4d97-f2b8-7fa1d4e80665"
   },
   "outputs": [],
   "source": [
    "# Calculando los cuartiles\n",
    "datos_stock['Company 1'].quantile([0, 0.25, 0.5, 0.75, 1])"
   ]
  },
  {
   "cell_type": "markdown",
   "metadata": {
    "id": "ldRLE1UGZFKA"
   },
   "source": [
    "Observen que los cuartiles nos está indicando como los valores se dividen en particiones del 0%, 25%, 50%, 75%, y 100%. Ahora vamos a calcular la mediana de los datos"
   ]
  },
  {
   "cell_type": "code",
   "execution_count": null,
   "metadata": {
    "colab": {
     "base_uri": "https://localhost:8080/"
    },
    "id": "23CFf6X1ZW-w",
    "outputId": "5ac07e1b-1f5f-45c3-9d2b-97f7bb06f9e8"
   },
   "outputs": [],
   "source": [
    "datos_stock['Company 1'].median()"
   ]
  },
  {
   "cell_type": "markdown",
   "metadata": {
    "id": "zGPhxP_CZiQm"
   },
   "source": [
    "Cuando se calcula el valor de la mediana, es equivalente al cuartil del 50%."
   ]
  },
  {
   "cell_type": "markdown",
   "metadata": {
    "id": "LSxRTaxbaLxl"
   },
   "source": [
    "**Recordatorio de la Mediana:** es el número medio de una lista de números ordenada, ascendente o descendente, y puede ser más descriptiva de ese conjunto de datos que la media. Es decir, la mediana ordena el vector de valores y toma el valor central, lo cual, es menos sensible que la media muestral cuando hay valores extremos poco probables."
   ]
  },
  {
   "cell_type": "code",
   "execution_count": null,
   "metadata": {
    "colab": {
     "base_uri": "https://localhost:8080/"
    },
    "id": "4APlvN1YZtVQ",
    "outputId": "491260ad-9f75-40b1-92c3-2bd6d489981a"
   },
   "outputs": [],
   "source": [
    "datos_stock['Company 1'].mean()"
   ]
  },
  {
   "cell_type": "code",
   "execution_count": null,
   "metadata": {
    "colab": {
     "base_uri": "https://localhost:8080/"
    },
    "id": "tYFS4TOYanKy",
    "outputId": "ee11f97f-7e74-445b-84ad-4d26549ef175"
   },
   "outputs": [],
   "source": [
    "datos_stock['Company 1'].median() - datos_stock['Company 1'].mean() # Diferencia entre mediana y media"
   ]
  },
  {
   "cell_type": "markdown",
   "metadata": {
    "id": "1ynBcEazaxeH"
   },
   "source": [
    "Como pueden observar en el histograma, se utiliza una regla para construir llamado regla de Freedman-Diaconis, útil para calcular los cuartiles y el ancho de las particiones. No obstante, ¿Qué sucedería si se consideran otras reglas?\n"
   ]
  },
  {
   "cell_type": "code",
   "execution_count": null,
   "metadata": {
    "colab": {
     "base_uri": "https://localhost:8080/",
     "height": 407
    },
    "id": "jGST2jTEbsVP",
    "outputId": "6b769d8a-4fb9-446d-b3d1-303aef4be946"
   },
   "outputs": [],
   "source": [
    "matplotlib.rcParams.update({'font.size': 18, 'font.family': 'STIXGeneral', 'mathtext.fontset': 'stix'})\n",
    "fig = plt.figure(figsize=(30,8))\n",
    "\n",
    "ax = fig.add_subplot(1, 3, 1)\n",
    "plt.hist(datos_stock['Company 1'], bins = 'fd', alpha=0.7) # fd = regla de Freedman-Diaconis\n",
    "plt.xlim(datos_stock['Company 1'].min(), datos_stock['Company 1'].max()) # Límita el valor mínimo y máximo en eje x de la gráfica\n",
    "plt.xlabel('Valores')\n",
    "plt.ylabel('Frecuencias')\n",
    "plt.title('Histograma con la regla de Freedman-Diaconis para Company 1')\n",
    "\n",
    "ax = fig.add_subplot(1, 3, 2)\n",
    "plt.hist(datos_stock['Company 1'], bins = 'sturges', alpha=0.7, color = 'r') # Regla de Sturges\n",
    "plt.xlim(datos_stock['Company 1'].min(), datos_stock['Company 1'].max()) # Límita el valor mínimo y máximo en eje x de la gráfica\n",
    "plt.xlabel('Valores')\n",
    "plt.ylabel('Frecuencias')\n",
    "plt.title('Histograma con la regla de Sturges para Company 1')\n",
    "\n",
    "ax = fig.add_subplot(1, 3, 3)\n",
    "plt.hist(datos_stock['Company 1'], bins = 'scott', alpha=0.7, color = 'm') # Regla de Scott\n",
    "plt.xlim(datos_stock['Company 1'].min(), datos_stock['Company 1'].max()) # Límita el valor mínimo y máximo en eje x de la gráfica\n",
    "plt.xlabel('Valores')\n",
    "plt.ylabel('Frecuencias')\n",
    "plt.title('Histograma con la regla de Scott para Company 1')\n",
    "plt.show()"
   ]
  },
  {
   "cell_type": "markdown",
   "metadata": {
    "id": "N-uzuYcec9XF"
   },
   "source": [
    "Observen que al cambiar la regla para generar el histograma, hay algunos cambios en la distribución de los valores de Company 1. No obstante, al nivel práctico, el más utilizado es la regla de Freedman-Diaconis."
   ]
  },
  {
   "cell_type": "markdown",
   "metadata": {
    "id": "WgAvjEIreBpf"
   },
   "source": [
    "Un detalle importante cuando se calcula cuartiles de los datos es la **interpolación (por defecto es lineal)**, pero ¿Qué sucedería si se cambia el método de interpolación?"
   ]
  },
  {
   "cell_type": "code",
   "execution_count": null,
   "metadata": {
    "colab": {
     "base_uri": "https://localhost:8080/"
    },
    "id": "Oe11jm3vd8fS",
    "outputId": "3ff14ab6-9e8f-4953-e464-31aef413c798"
   },
   "outputs": [],
   "source": [
    "datos_stock['Company 1'].quantile([0, 0.25, 0.5, 0.75, 1], interpolation = 'lower')"
   ]
  },
  {
   "cell_type": "code",
   "execution_count": null,
   "metadata": {
    "colab": {
     "base_uri": "https://localhost:8080/"
    },
    "id": "8Vo4BEziejEs",
    "outputId": "a3c773b6-ff58-4c76-9010-01cae64f0236"
   },
   "outputs": [],
   "source": [
    "datos_stock['Company 1'].quantile([0, 0.25, 0.5, 0.75, 1], interpolation = 'higher')"
   ]
  },
  {
   "cell_type": "code",
   "execution_count": null,
   "metadata": {
    "colab": {
     "base_uri": "https://localhost:8080/"
    },
    "id": "Tk768ZBrerWn",
    "outputId": "b3e0511a-105e-436f-9561-7060141648ed"
   },
   "outputs": [],
   "source": [
    "datos_stock['Company 1'].quantile([0, 0.25, 0.5, 0.75, 1], interpolation = 'nearest')"
   ]
  },
  {
   "cell_type": "code",
   "execution_count": null,
   "metadata": {
    "colab": {
     "base_uri": "https://localhost:8080/"
    },
    "id": "lnSaBw7Te3Pv",
    "outputId": "247f4307-3583-427c-da5f-65daac8598cc"
   },
   "outputs": [],
   "source": [
    "datos_stock['Company 1'].quantile([0, 0.25, 0.5, 0.75, 1], interpolation = 'midpoint')"
   ]
  },
  {
   "cell_type": "markdown",
   "metadata": {
    "id": "0DjKwILmf3Ot"
   },
   "source": [
    "## Análisis por grupos de datos"
   ]
  },
  {
   "cell_type": "markdown",
   "metadata": {
    "id": "HD1hpim9hMBI"
   },
   "source": [
    "Para este caso, cada fila de la base de datos esta representando un conjunto de precios de diferentes productos de las compañias. Si deseamos obtener cuántos productos tienen un valor mayor a 50.000, realizaremos un conteo de acuerdo a una comparación."
   ]
  },
  {
   "cell_type": "code",
   "execution_count": null,
   "metadata": {
    "colab": {
     "base_uri": "https://localhost:8080/"
    },
    "id": "g-NOdW01hrL9",
    "outputId": "9d99fa74-1fd0-4c4e-9059-e12313da4d13"
   },
   "outputs": [],
   "source": [
    "import numpy as np\n",
    "\n",
    "num_mayores_50k = np.where(datos_stock.values >= 50.000)\n",
    "numero_conteo_columnas = num_mayores_50k[1]\n",
    "print(numero_conteo_columnas)"
   ]
  },
  {
   "cell_type": "code",
   "execution_count": null,
   "metadata": {
    "colab": {
     "base_uri": "https://localhost:8080/",
     "height": 163
    },
    "id": "s4AvMfjwmlrw",
    "outputId": "4a13ffaf-8aab-4084-b9ec-f084cb79c6a6"
   },
   "outputs": [],
   "source": [
    "Conteo = pd.DataFrame(numero_conteo_columnas).value_counts(sort = True)\n",
    "display(Conteo) # La primera columna representa el número de la compañia"
   ]
  },
  {
   "cell_type": "code",
   "execution_count": null,
   "metadata": {
    "id": "dYelGaoMnYoh"
   },
   "outputs": [],
   "source": [
    "nombres_companias_50K = ['Company 7','Company 5','Company 2', 'Company 10', 'Company 4', 'Company 1', 'Company 9'] # Se sumo un digito más porque el arreglo va de 0 hasta 9."
   ]
  },
  {
   "cell_type": "code",
   "execution_count": null,
   "metadata": {
    "colab": {
     "base_uri": "https://localhost:8080/",
     "height": 271
    },
    "id": "3vmYJZwdn67f",
    "outputId": "24a96cf2-5a18-4629-add5-7398f3faa0f2"
   },
   "outputs": [],
   "source": [
    "import seaborn as sns\n",
    "\n",
    "sns.barplot(y = nombres_companias_50K, x = Conteo.values)\n",
    "plt.show()"
   ]
  },
  {
   "cell_type": "markdown",
   "metadata": {
    "id": "2aGfucbupgA9"
   },
   "source": [
    "Como se puede apreciar en este diagrama de barras, la compañia 7 tiene los precios por encima de 50.000, no obstante la compañia 5 tiene el segundo lugar con los productos por encima de 50.000"
   ]
  },
  {
   "cell_type": "markdown",
   "metadata": {
    "id": "9yxCICdEp2M0"
   },
   "source": [
    "Ahora vamos a calcular el precio promedio de cada compañia por encima de 50.000"
   ]
  },
  {
   "cell_type": "code",
   "execution_count": null,
   "metadata": {
    "id": "XWcYF9TeqDJo"
   },
   "outputs": [],
   "source": [
    "Precio = []\n",
    "Datos_Valores = datos_stock.values\n",
    "num_mayores_50k_sin_tupla = np.asarray(num_mayores_50k)\n",
    "\n",
    "for x in range(num_mayores_50k_sin_tupla.shape[1]):\n",
    "  Precio.append(Datos_Valores[num_mayores_50k_sin_tupla[0,x],num_mayores_50k_sin_tupla[1,x]]) # Almacenamos la lista de precios por encima de 50K"
   ]
  },
  {
   "cell_type": "code",
   "execution_count": null,
   "metadata": {
    "colab": {
     "base_uri": "https://localhost:8080/"
    },
    "id": "Rg8z3-_UrxNj",
    "outputId": "1e8b036d-df5d-4007-e0a8-a7579bf94cd9"
   },
   "outputs": [],
   "source": [
    "print(Precio)"
   ]
  },
  {
   "cell_type": "code",
   "execution_count": null,
   "metadata": {
    "colab": {
     "base_uri": "https://localhost:8080/",
     "height": 423
    },
    "id": "eLaN_BOUrz4W",
    "outputId": "6e7e522a-1c5a-4ddc-b747-af7e50dbed73"
   },
   "outputs": [],
   "source": [
    "numero_conteo_columnas = pd.DataFrame(numero_conteo_columnas, index = None, columns = ['Compania'])\n",
    "Precio = pd.DataFrame(Precio, index = None, columns = ['Precio'])\n",
    "Datos_50k_concatenados = pd.concat([numero_conteo_columnas,Precio], axis = 1, join = 'inner')\n",
    "display(Datos_50k_concatenados)"
   ]
  },
  {
   "cell_type": "code",
   "execution_count": null,
   "metadata": {
    "colab": {
     "base_uri": "https://localhost:8080/",
     "height": 181
    },
    "id": "BOMT7TYovHsG",
    "outputId": "e398e066-3a69-4cb4-8764-5c92c850f845"
   },
   "outputs": [],
   "source": [
    "Grupos_Datos = Datos_50k_concatenados.groupby(['Compania'])\n",
    "datos_agrupados_precio_50K = Grupos_Datos['Precio']\n",
    "Datos_promedio_50k = datos_agrupados_precio_50K.agg('mean') # Calculamos el valor promedio de los precios por encima de 50K\n",
    "display(Datos_promedio_50k)"
   ]
  },
  {
   "cell_type": "code",
   "execution_count": null,
   "metadata": {
    "colab": {
     "base_uri": "https://localhost:8080/",
     "height": 363
    },
    "id": "SQo3HQwv5rJJ",
    "outputId": "abf2d966-a4b2-4831-ea4a-2ef9de4abab3"
   },
   "outputs": [],
   "source": [
    "nombres_companias_50K_rename = pd.DataFrame(['Company 1', 'Company 2', 'Company 3', 'Company 4', 'Company 5', 'Company 6', 'Company 7', 'Company 8', 'Company 9', 'Company 10'])\n",
    "pd.concat([nombres_companias_50K_rename,Datos_promedio_50k],axis = 1, ignore_index = True)"
   ]
  },
  {
   "cell_type": "markdown",
   "metadata": {
    "id": "JPxPQg667UtO"
   },
   "source": [
    "Como se puede apreciar en esta tabla de resultados, la compañia 7 tiene el promedio más alto de precios de sus productos por encima de 50.000 y además, es la compañia con la mayor cantidad de productos con precios por encima del umbral mencionado. Por otra parte, la compañia 9 tiene el promedio más bajo de productos por encima de 50.000 y además, es donde menos productos por encima de un precio de 50.000 se identificaron en la base de datos"
   ]
  },
  {
   "cell_type": "markdown",
   "metadata": {
    "id": "q1nV4wEi8EAU"
   },
   "source": [
    "Ahora, vamos a determinar la desviación estándar de los precios por encima de 50.000 de las compañias que se identificaron anteriormente"
   ]
  },
  {
   "cell_type": "code",
   "execution_count": null,
   "metadata": {
    "colab": {
     "base_uri": "https://localhost:8080/",
     "height": 181
    },
    "id": "02tNhjUM8YT-",
    "outputId": "f57e5f20-1217-47f4-f520-8d8a9203ffe1"
   },
   "outputs": [],
   "source": [
    "Datos_std_50k = datos_agrupados_precio_50K.agg('std') # Calculamos la desviación estándar de los precios por encima de 50K\n",
    "display(Datos_std_50k)"
   ]
  },
  {
   "cell_type": "code",
   "execution_count": null,
   "metadata": {
    "colab": {
     "base_uri": "https://localhost:8080/",
     "height": 363
    },
    "id": "Ub86huCX8mZu",
    "outputId": "6bce0fc0-0182-49c1-d296-b8283d48806e"
   },
   "outputs": [],
   "source": [
    "pd.concat([nombres_companias_50K_rename,Datos_std_50k],axis = 1, ignore_index = True)"
   ]
  },
  {
   "cell_type": "markdown",
   "metadata": {
    "id": "JnfF8JFn8ypB"
   },
   "source": [
    "Concatenando la columna compania, el promedio y la desviación estándar"
   ]
  },
  {
   "cell_type": "code",
   "execution_count": null,
   "metadata": {
    "colab": {
     "base_uri": "https://localhost:8080/",
     "height": 363
    },
    "id": "qht6n1Ym85QX",
    "outputId": "4db6b6e1-3325-482f-d97a-b65b1bd30860"
   },
   "outputs": [],
   "source": [
    "pd.concat([nombres_companias_50K_rename,Datos_promedio_50k,Datos_std_50k],axis = 1, ignore_index = True)\n",
    "# La columna 1 es el promedio\n",
    "# La columna 2 es la desviación estándar"
   ]
  },
  {
   "cell_type": "markdown",
   "metadata": {
    "id": "KV10qydt9b1p"
   },
   "source": [
    "Se puede observar que la compañia 5 tiene la desviación estándar más alto para los productos por encima de 50.000. En este caso, los precios de la compañia 5 se mide como m = 66.947666 +/- std = 11.056985.\n",
    "\n",
    "Por otra parte, la compañia 9 tiene la menor desviación estándar para los productos por encima de 50.000. Este resultado es evidente siendo que la compañia 9 tiene la menor cantidad de productos por encima de un precio de 50.000. "
   ]
  },
  {
   "cell_type": "markdown",
   "metadata": {
    "id": "pFYj-asUAQoj"
   },
   "source": [
    "## Aplicando la función de probabilidad Gaussiana con la base de datos"
   ]
  },
  {
   "cell_type": "code",
   "execution_count": null,
   "metadata": {
    "colab": {
     "base_uri": "https://localhost:8080/",
     "height": 423
    },
    "id": "DRjUpfceHCQE",
    "outputId": "d8458eca-68d3-4010-c0b4-5189df213fd7"
   },
   "outputs": [],
   "source": [
    "pos = np.where(numero_conteo_columnas.values == 6) # número de datos de la compañia 7 (la etiqueta 6 es igual a la compañia 7)\n",
    "Datos_50k_concatenados_compania7_50k = Datos_50k_concatenados.loc[pos[0],:] # Importante colocar pos[0] para que reconozca los posiciones que son iguales a 6 \n",
    "display(Datos_50k_concatenados_compania7_50k)"
   ]
  },
  {
   "cell_type": "code",
   "execution_count": null,
   "metadata": {
    "colab": {
     "base_uri": "https://localhost:8080/"
    },
    "id": "CF5C5-tok6Ux",
    "outputId": "763b53bf-0174-4821-f728-feb40edbfd06"
   },
   "outputs": [],
   "source": [
    "Datos_50k_concatenados_compania7_50k.Precio.describe()"
   ]
  },
  {
   "cell_type": "code",
   "execution_count": null,
   "metadata": {
    "colab": {
     "base_uri": "https://localhost:8080/"
    },
    "id": "sChIOuoLHzOs",
    "outputId": "2c9579cd-e46e-4bdf-dbfd-03cc45ccc710"
   },
   "outputs": [],
   "source": [
    "from scipy.stats import norm # distribución de probabilidad Gaussiana\n",
    "\n",
    "media, desv_std = norm.fit(Datos_50k_concatenados_compania7_50k['Precio']) # A partir de los datos, calculamos la media y la desviación estándar, aplicando la Estimación de la Máxima Verosimilitud (MLE) de la Gaussiana\n",
    "print(\"Valor de la media para Company 7 con precios mayores o iguales a 50.000 = \", media)\n",
    "print(\"Valor de la desviación estándar para Company 7 con precios mayores o iguales a 50.000 = \", desv_std) "
   ]
  },
  {
   "cell_type": "code",
   "execution_count": null,
   "metadata": {
    "colab": {
     "base_uri": "https://localhost:8080/"
    },
    "id": "OoBNySvzK5Na",
    "outputId": "52ac93d2-a667-430e-affd-e565821bdde3"
   },
   "outputs": [],
   "source": [
    "x_minimo = np.min(Datos_50k_concatenados_compania7_50k['Precio'].values)\n",
    "x_maximo = np.max(Datos_50k_concatenados_compania7_50k['Precio'].values)\n",
    "x = np.linspace(x_minimo, x_maximo, Datos_50k_concatenados_compania7_50k.shape[0]) # Generamos un arreglo de valores para construir la función de densidad de probabilidad Gaussiana\n",
    "x.shape"
   ]
  },
  {
   "cell_type": "code",
   "execution_count": null,
   "metadata": {
    "colab": {
     "base_uri": "https://localhost:8080/",
     "height": 535
    },
    "id": "1TXc4zXHMqMj",
    "outputId": "d3413dcb-8668-4492-e0ec-9652381e1ff0"
   },
   "outputs": [],
   "source": [
    "P_normal = norm.pdf(x, loc = media, scale = desv_std)\n",
    "\n",
    "fig = plt.figure(figsize=(12,8))\n",
    "plt.plot(x, P_normal, 'b-', lw = 5, alpha = 0.6, label='pdf norm')\n",
    "plt.hist(norm.rvs(size = 950, loc = media, scale = desv_std), density=True, histtype='stepfilled', alpha=0.5) # rvs significa variable aleatoria\n",
    "plt.xlabel('$x$ = Precios de la Compañia 7 superiores a 50.000')\n",
    "plt.ylabel('$f(x)$')\n",
    "plt.title('pdf norm Compañia 7')\n",
    "plt.show()"
   ]
  },
  {
   "cell_type": "markdown",
   "metadata": {
    "id": "MI9ODenpP9H_"
   },
   "source": [
    "Si queremos conocer la probabilidad de observar los precios **inferiores a 70.000** para la compañia 7, se debe hacer el cálculo mediante la función de densidad de probabilidad acumulada."
   ]
  },
  {
   "cell_type": "code",
   "execution_count": null,
   "metadata": {
    "colab": {
     "base_uri": "https://localhost:8080/"
    },
    "id": "Rptn1ohgMvdS",
    "outputId": "fa6eb154-853f-4a53-e443-a5a6f622e657"
   },
   "outputs": [],
   "source": [
    "z_menos_70 = (70 - media)/desv_std # z = (x - media)/desviacion\n",
    "\n",
    "prob_menos_70 = norm.cdf(z_menos_70, loc = 0, scale = 1) # Es importante colocar loc = 0 y scale = 1 para considerar un función de densidad de probabilidad normal con media 0 y varianza 1.\n",
    "print(\"la probabilidad de observar los precios inferiores a 70.000 para la compañia 7 es = {:.6f}\".format(prob_menos_70))"
   ]
  },
  {
   "cell_type": "markdown",
   "metadata": {
    "id": "ZzhUskntRjcB"
   },
   "source": [
    "Si queremos conocer la probabilidad de observar precios de la compañia 7 **superiores a 80.000**"
   ]
  },
  {
   "cell_type": "code",
   "execution_count": null,
   "metadata": {
    "colab": {
     "base_uri": "https://localhost:8080/"
    },
    "id": "NoAQxYWgRi99",
    "outputId": "fba793f1-f74c-4adf-f2d4-f21d3373fc82"
   },
   "outputs": [],
   "source": [
    "z_mas_80 = (80 - media)/desv_std\n",
    "\n",
    "prob_mas_80 = 1 - norm.cdf(z_mas_80, loc = 0, scale = 1) \n",
    "print(\"la probabilidad de observar los precios superiores a 80.000 para la compañia 7 es = {:.6f}\".format(prob_mas_80))"
   ]
  },
  {
   "cell_type": "markdown",
   "metadata": {
    "id": "CtHoWeEsZUQ6"
   },
   "source": [
    "¿Por qué se de restar 1 - cdf para encontrar la probabilidad de encontrar precios superiores a 80.000? Lo anterior se puede observar mediante una gráfica de la cdf."
   ]
  },
  {
   "cell_type": "code",
   "execution_count": null,
   "metadata": {
    "colab": {
     "base_uri": "https://localhost:8080/",
     "height": 644
    },
    "id": "3MmztL8jZmWp",
    "outputId": "ae69d9a4-6811-495a-da0f-99cd677ae9ed"
   },
   "outputs": [],
   "source": [
    "import matplotlib\n",
    "from matplotlib import pyplot as plt\n",
    "\n",
    "matplotlib.rcParams.update({'font.size': 18, 'font.family': 'STIXGeneral', 'mathtext.fontset': 'stix'})\n",
    "\n",
    "PP = norm.cdf(x, loc = media, scale = desv_std)\n",
    "\n",
    "plt.figure(figsize=(10,10))\n",
    "plt.plot(x, PP, 'b-', lw = 5, alpha = 0.6, label='cdf Gaussiano')\n",
    "plt.xlabel('$z$ (Precios de la Compañia 7)')\n",
    "plt.ylabel('$cdf(z)$')\n",
    "plt.title('cdf Gaussiana Compañia 7')\n",
    "plt.show()"
   ]
  },
  {
   "cell_type": "markdown",
   "metadata": {
    "id": "cTPibW9XcGdT"
   },
   "source": [
    "Observen como se acumula los valores de probabilidad desde el valor más pequeño del precio de la compañia 7 hasta el valor más alto del precio de la compañia 7, el cual, la cdf es 1."
   ]
  },
  {
   "cell_type": "markdown",
   "metadata": {
    "id": "BPHmCooGZyru"
   },
   "source": [
    "Como solicitamos precios **superiores a 80.000**, se analiza los valores de probabilidad entre 80 y el valor máximo del precio"
   ]
  },
  {
   "cell_type": "code",
   "execution_count": null,
   "metadata": {
    "colab": {
     "base_uri": "https://localhost:8080/"
    },
    "id": "sGFkwfHBaBgn",
    "outputId": "3313be18-2bdf-42b3-dba7-a5a450a1c3c3"
   },
   "outputs": [],
   "source": [
    "PP_80 = norm.cdf(80, loc = media, scale = desv_std)\n",
    "PP_max = norm.cdf(x_maximo, loc = media, scale = desv_std)\n",
    "print(PP_max)"
   ]
  },
  {
   "cell_type": "markdown",
   "metadata": {
    "id": "E-HwcFLCa7wM"
   },
   "source": [
    "Este valor de probabilidad se puede redondear a 1. Por consiguiente:"
   ]
  },
  {
   "cell_type": "code",
   "execution_count": null,
   "metadata": {
    "colab": {
     "base_uri": "https://localhost:8080/"
    },
    "id": "3BZiL7-Ea62b",
    "outputId": "039c3576-d275-4b5d-9bc9-aab104f63e54"
   },
   "outputs": [],
   "source": [
    "print(\"la probabilidad de observar los precios superiores a 80.000 para la compañia 7 es = {:.6f}\".format(1 - PP_80))"
   ]
  },
  {
   "cell_type": "markdown",
   "metadata": {
    "id": "_cUu0s4FSnsx"
   },
   "source": [
    "Si queremos conocer **la probabilidad de observar precios entre 70.000 y 75.000**:"
   ]
  },
  {
   "cell_type": "code",
   "execution_count": null,
   "metadata": {
    "colab": {
     "base_uri": "https://localhost:8080/"
    },
    "id": "8UcEXvSISy5i",
    "outputId": "8e08c3f9-619b-4000-ccae-102264dacc03"
   },
   "outputs": [],
   "source": [
    "z_70 = (70 - media)/desv_std\n",
    "z_75 = (75 - media)/desv_std\n",
    "\n",
    "prob_70 = norm.cdf(z_70, loc = 0, scale = 1)\n",
    "prob_75 = norm.cdf(z_75, loc = 0, scale = 1)\n",
    "\n",
    "print(\"La probabilidad de observaciones en el intervalo entre 70.000 y 75.000 es = {:.6f}\".format(prob_75 - prob_70))"
   ]
  },
  {
   "cell_type": "markdown",
   "metadata": {
    "id": "1_SK_3GjcD9S"
   },
   "source": [
    "Considerando esta estrategía de análisis de los datos, vamos a analizar las otras compañias con precios superiores a 50.000"
   ]
  },
  {
   "cell_type": "code",
   "execution_count": null,
   "metadata": {
    "colab": {
     "base_uri": "https://localhost:8080/",
     "height": 363
    },
    "id": "tCEvQiIx3Wa9",
    "outputId": "0d712a16-be6b-4cf7-ec81-64626a38f9ce"
   },
   "outputs": [],
   "source": [
    "pd.concat([nombres_companias_50K_rename,Datos_promedio_50k,Datos_std_50k],axis = 1, ignore_index = True)"
   ]
  },
  {
   "cell_type": "code",
   "execution_count": null,
   "metadata": {
    "id": "Kr91cRCOcZhd"
   },
   "outputs": [],
   "source": [
    "pos_0 = np.where(numero_conteo_columnas.values == 0)\n",
    "pos_1 = np.where(numero_conteo_columnas.values == 1)\n",
    "pos_3 = np.where(numero_conteo_columnas.values == 3)\n",
    "pos_4 = np.where(numero_conteo_columnas.values == 4)\n",
    "pos_8 = np.where(numero_conteo_columnas.values == 8)\n",
    "pos_9 = np.where(numero_conteo_columnas.values == 9)\n",
    "Datos_50k_concatenados_compania1_50k = Datos_50k_concatenados.loc[pos_0[0],:]\n",
    "Datos_50k_concatenados_compania2_50k = Datos_50k_concatenados.loc[pos_1[0],:]\n",
    "Datos_50k_concatenados_compania4_50k = Datos_50k_concatenados.loc[pos_3[0],:]\n",
    "Datos_50k_concatenados_compania5_50k = Datos_50k_concatenados.loc[pos_4[0],:]\n",
    "Datos_50k_concatenados_compania9_50k = Datos_50k_concatenados.loc[pos_8[0],:]\n",
    "Datos_50k_concatenados_compania10_50k = Datos_50k_concatenados.loc[pos_9[0],:]"
   ]
  },
  {
   "cell_type": "code",
   "execution_count": null,
   "metadata": {
    "id": "lIdHTj0VdYZA"
   },
   "outputs": [],
   "source": [
    "media_comp_1, desv_comp_1 = norm.fit(Datos_50k_concatenados_compania1_50k['Precio'])\n",
    "media_comp_2, desv_comp_2 = norm.fit(Datos_50k_concatenados_compania2_50k['Precio'])\n",
    "media_comp_4, desv_comp_4 = norm.fit(Datos_50k_concatenados_compania4_50k['Precio'])\n",
    "media_comp_5, desv_comp_5 = norm.fit(Datos_50k_concatenados_compania5_50k['Precio'])\n",
    "media_comp_9, desv_comp_9 = norm.fit(Datos_50k_concatenados_compania9_50k['Precio'])\n",
    "media_comp_10, desv_comp_10 = norm.fit(Datos_50k_concatenados_compania10_50k['Precio'])"
   ]
  },
  {
   "cell_type": "code",
   "execution_count": null,
   "metadata": {
    "id": "8jZE8-2QePtm"
   },
   "outputs": [],
   "source": [
    "x_minimo_comp_1 = np.min(Datos_50k_concatenados_compania1_50k['Precio'].values)\n",
    "x_maximo_comp_1 = np.max(Datos_50k_concatenados_compania1_50k['Precio'].values)\n",
    "\n",
    "x_minimo_comp_2 = np.min(Datos_50k_concatenados_compania2_50k['Precio'].values)\n",
    "x_maximo_comp_2 = np.max(Datos_50k_concatenados_compania2_50k['Precio'].values)\n",
    "\n",
    "x_minimo_comp_4 = np.min(Datos_50k_concatenados_compania4_50k['Precio'].values)\n",
    "x_maximo_comp_4 = np.max(Datos_50k_concatenados_compania4_50k['Precio'].values)\n",
    "\n",
    "x_minimo_comp_5 = np.min(Datos_50k_concatenados_compania5_50k['Precio'].values)\n",
    "x_maximo_comp_5 = np.max(Datos_50k_concatenados_compania5_50k['Precio'].values)\n",
    "\n",
    "x_minimo_comp_9 = np.min(Datos_50k_concatenados_compania9_50k['Precio'].values)\n",
    "x_maximo_comp_9 = np.max(Datos_50k_concatenados_compania9_50k['Precio'].values)\n",
    "\n",
    "x_minimo_comp_10 = np.min(Datos_50k_concatenados_compania10_50k['Precio'].values)\n",
    "x_maximo_comp_10 = np.max(Datos_50k_concatenados_compania10_50k['Precio'].values)\n",
    "\n",
    "\n",
    "x_1 = np.linspace(x_minimo_comp_1, x_maximo_comp_1, Datos_50k_concatenados_compania1_50k.shape[0])\n",
    "x_2 = np.linspace(x_minimo_comp_2, x_maximo_comp_2, Datos_50k_concatenados_compania2_50k.shape[0])\n",
    "x_4 = np.linspace(x_minimo_comp_4, x_maximo_comp_4, Datos_50k_concatenados_compania4_50k.shape[0])\n",
    "x_5 = np.linspace(x_minimo_comp_5, x_maximo_comp_5, Datos_50k_concatenados_compania5_50k.shape[0])\n",
    "x_9 = np.linspace(x_minimo_comp_9, x_maximo_comp_9, Datos_50k_concatenados_compania9_50k.shape[0])\n",
    "x_10 = np.linspace(x_minimo_comp_10, x_maximo_comp_10, Datos_50k_concatenados_compania10_50k.shape[0])                  "
   ]
  },
  {
   "cell_type": "code",
   "execution_count": null,
   "metadata": {
    "id": "RDEMFPUMfKCY"
   },
   "outputs": [],
   "source": [
    "P_normal_1 = norm.pdf(x_1, loc = media_comp_1, scale = desv_comp_1)\n",
    "P_normal_2 = norm.pdf(x_2, loc = media_comp_2, scale = desv_comp_2)\n",
    "P_normal_4 = norm.pdf(x_4, loc = media_comp_4, scale = desv_comp_4)\n",
    "P_normal_5 = norm.pdf(x_5, loc = media_comp_5, scale = desv_comp_5)\n",
    "P_normal_9 = norm.pdf(x_9, loc = media_comp_9, scale = desv_comp_9)\n",
    "P_normal_10 = norm.pdf(x_10, loc = media_comp_10, scale = desv_comp_10)"
   ]
  },
  {
   "cell_type": "code",
   "execution_count": null,
   "metadata": {
    "colab": {
     "base_uri": "https://localhost:8080/"
    },
    "id": "qzXchcBmiWAi",
    "outputId": "30425aec-2eaf-471a-9dff-f294d92fa7be"
   },
   "outputs": [],
   "source": [
    "Conteo"
   ]
  },
  {
   "cell_type": "code",
   "execution_count": null,
   "metadata": {
    "colab": {
     "base_uri": "https://localhost:8080/",
     "height": 1000
    },
    "id": "ppOQmWGSfhWD",
    "outputId": "8829d29d-e8c9-497e-e3f8-b0bef74041a3"
   },
   "outputs": [],
   "source": [
    "fig = plt.figure(figsize=(12,45))\n",
    "\n",
    "ax = fig.add_subplot(6, 1, 1)\n",
    "plt.plot(x_1, P_normal_1, 'b-', lw = 5, alpha = 0.6, label='pdf norm')\n",
    "plt.hist(norm.rvs(size = 950, loc = media_comp_1, scale = desv_comp_1), density=True, histtype='stepfilled', alpha=0.5) # rvs significa variable aleatoria\n",
    "plt.xlabel('$x$ = Precios de la Compañia 1 superiores a 50.000')\n",
    "plt.ylabel('$f(x)$')\n",
    "plt.title('pdf norm Compañia 1')\n",
    "\n",
    "ax = fig.add_subplot(6, 1, 2)\n",
    "plt.plot(x_2, P_normal_2, 'b-', lw = 5, alpha = 0.6, label='pdf norm')\n",
    "plt.hist(norm.rvs(size = 450, loc = media_comp_2, scale = desv_comp_2), density=True, histtype='stepfilled', alpha=0.5) # rvs significa variable aleatoria\n",
    "plt.xlabel('$x$ = Precios de la Compañia 2 superiores a 50.000')\n",
    "plt.ylabel('$f(x)$')\n",
    "plt.title('pdf norm Compañia 2')\n",
    "\n",
    "ax = fig.add_subplot(6, 1, 3)\n",
    "plt.plot(x_4, P_normal_4, 'b-', lw = 5, alpha = 0.6, label='pdf norm')\n",
    "plt.hist(norm.rvs(size = 195, loc = media_comp_4, scale = desv_comp_4), density=True, histtype='stepfilled', alpha=0.5) # rvs significa variable aleatoria\n",
    "plt.xlabel('$x$ = Precios de la Compañia 4 superiores a 50.000')\n",
    "plt.ylabel('$f(x)$')\n",
    "plt.title('pdf norm Compañia 4')\n",
    "\n",
    "ax = fig.add_subplot(6, 1, 4)\n",
    "plt.plot(x_5, P_normal_5, 'b-', lw = 5, alpha = 0.6, label='pdf norm')\n",
    "plt.hist(norm.rvs(size = 707, loc = media_comp_5, scale = desv_comp_5), density=True, histtype='stepfilled', alpha=0.5) # rvs significa variable aleatoria\n",
    "plt.xlabel('$x$ = Precios de la Compañia 5 superiores a 50.000')\n",
    "plt.ylabel('$f(x)$')\n",
    "plt.title('pdf norm Compañia 5')\n",
    "\n",
    "ax = fig.add_subplot(6, 1, 5)\n",
    "plt.plot(x_9, P_normal_9, 'b-', lw = 5, alpha = 0.6, label='pdf norm')\n",
    "plt.hist(norm.rvs(size = 55, loc = media_comp_9, scale = desv_comp_9), density=True, histtype='stepfilled', alpha=0.5) # rvs significa variable aleatoria\n",
    "plt.xlabel('$x$ = Precios de la Compañia 9 superiores a 50.000')\n",
    "plt.ylabel('$f(x)$')\n",
    "plt.title('pdf norm Compañia 9')\n",
    "\n",
    "ax = fig.add_subplot(6, 1, 6)\n",
    "plt.plot(x_10, P_normal_10, 'b-', lw = 5, alpha = 0.6, label='pdf norm')\n",
    "plt.hist(norm.rvs(size = 332, loc = media_comp_10, scale = desv_comp_10), density=True, histtype='stepfilled', alpha=0.5) # rvs significa variable aleatoria\n",
    "plt.xlabel('$x$ = Precios de la Compañia 10 superiores a 50.000')\n",
    "plt.ylabel('$f(x)$')\n",
    "plt.title('pdf norm Compañia 10')\n",
    "\n",
    "plt.show()"
   ]
  },
  {
   "cell_type": "markdown",
   "metadata": {
    "id": "XdJgNr3QjhCe"
   },
   "source": [
    "Si queremos conocer las probabilidades de observar los precios **inferiores a 70.000** para las compañias 1, 2, 4, 5, 9 y 10, entonces calculamos las cdfs:\n"
   ]
  },
  {
   "cell_type": "code",
   "execution_count": null,
   "metadata": {
    "colab": {
     "base_uri": "https://localhost:8080/",
     "height": 300
    },
    "id": "YJoZpsBg6Pks",
    "outputId": "5e21056f-5782-4853-8c93-8b7d9831ad00"
   },
   "outputs": [],
   "source": [
    "datos_stock.describe()"
   ]
  },
  {
   "cell_type": "code",
   "execution_count": null,
   "metadata": {
    "id": "zxptdFq7jSZ3"
   },
   "outputs": [],
   "source": [
    "z_menos_70_comp_1 = (70 - media_comp_1)/desv_comp_1\n",
    "z_menos_70_comp_2 = (70 - media_comp_2)/desv_comp_2\n",
    "z_menos_70_comp_4 = (70 - media_comp_1)/desv_comp_4\n",
    "z_menos_70_comp_5 = (70 - media_comp_5)/desv_comp_5\n",
    "z_menos_70_comp_9 = (70 - media_comp_9)/desv_comp_9\n",
    "z_menos_70_comp_10 = (70 - media_comp_10)/desv_comp_10\n",
    "\n",
    "prob_menos_70_comp_1 = 1 - norm.cdf(z_menos_70_comp_1, loc = 0, scale = 1) # 1 - cdf porque el precio máximo de la compañia es menor a 70 y no está definido en el intervalo\n",
    "prob_menos_70_comp_2 = 1 - norm.cdf(z_menos_70_comp_2, loc = 0, scale = 1) # 1 - cdf porque el precio máximo de la compañia es menor a 70 y no está definido en el intervalo\n",
    "prob_menos_70_comp_4 = 1 - norm.cdf(z_menos_70_comp_4, loc = 0, scale = 1) # 1 - cdf porque el precio máximo de la compañia es menor a 70 y no está definido en el intervalo\n",
    "prob_menos_70_comp_5 = norm.cdf(z_menos_70_comp_5, loc = 0, scale = 1)\n",
    "prob_menos_70_comp_9 = 1 - norm.cdf(z_menos_70_comp_9, loc = 0, scale = 1) # 1 - cdf porque el precio máximo de la compañia es menor a 70 y no está definido en el intervalo\n",
    "prob_menos_70_comp_10 =1 -  norm.cdf(z_menos_70_comp_10, loc = 0, scale = 1) # 1 - cdf porque el precio máximo de la compañia es menor a 70 y no está definido en el intervalo\n",
    "\n",
    "prob_menos_70_comp_7 = prob_menos_70 # cambiamos el nombre a la prob de la compañia 7 para hacer una comparación con las otras probabilidades"
   ]
  },
  {
   "cell_type": "code",
   "execution_count": null,
   "metadata": {
    "colab": {
     "base_uri": "https://localhost:8080/",
     "height": 269
    },
    "id": "pzXZJCuBk3I-",
    "outputId": "718380ff-37ff-43f6-b422-c0daed5591c7"
   },
   "outputs": [],
   "source": [
    "nombres_companias_50K_rename = pd.DataFrame(['Company 1', 'Company 2', 'Company 4', 'Company 5', 'Company 7', 'Company 9', 'Company 10'])\n",
    "\n",
    "prob_MENOS_70 = pd.DataFrame([prob_menos_70_comp_1, prob_menos_70_comp_2, prob_menos_70_comp_4, prob_menos_70_comp_5, prob_menos_70_comp_7, prob_menos_70_comp_9, prob_menos_70_comp_10])\n",
    "pd.concat([nombres_companias_50K_rename, prob_MENOS_70],axis = 1, ignore_index = True)"
   ]
  }
 ],
 "metadata": {
  "colab": {
   "provenance": [],
   "toc_visible": true
  },
  "kernelspec": {
   "display_name": "Python 3 (ipykernel)",
   "language": "python",
   "name": "python3"
  },
  "language_info": {
   "codemirror_mode": {
    "name": "ipython",
    "version": 3
   },
   "file_extension": ".py",
   "mimetype": "text/x-python",
   "name": "python",
   "nbconvert_exporter": "python",
   "pygments_lexer": "ipython3",
   "version": "3.9.13"
  }
 },
 "nbformat": 4,
 "nbformat_minor": 4
}
