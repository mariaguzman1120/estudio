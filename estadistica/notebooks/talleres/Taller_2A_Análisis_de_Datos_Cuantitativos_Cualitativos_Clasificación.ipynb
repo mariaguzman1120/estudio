{
 "cells": [
  {
   "cell_type": "code",
   "execution_count": 84,
   "metadata": {
    "id": "cGoHlyv6frkG"
   },
   "outputs": [],
   "source": [
    "#!wget --no-cache -O init.py -q https://raw.githubusercontent.com/UDEA-Esp-Analitica-y-Ciencia-de-Datos/EACD-02-ESTADISTICA/master/init.py\n",
    "#import init; init.init(force_download=False); \n",
    "from IPython.display import Image"
   ]
  },
  {
   "cell_type": "code",
   "execution_count": 85,
   "metadata": {
    "colab": {
     "base_uri": "https://localhost:8080/",
     "height": 251
    },
    "executionInfo": {
     "elapsed": 199,
     "status": "ok",
     "timestamp": 1663016741220,
     "user": {
      "displayName": "Javier Botia",
      "userId": "00496500698686116515"
     },
     "user_tz": 300
    },
    "id": "G89Q0e6ef0wh",
    "outputId": "802338aa-20c4-4e58-f18a-d87d1e5cff5d"
   },
   "outputs": [
    {
     "data": {
      "image/png": "[encoded data removed]",
      "text/plain": [
       "<IPython.core.display.Image object>"
      ]
     },
     "execution_count": 85,
     "metadata": {},
     "output_type": "execute_result"
    }
   ],
   "source": [
    "Image('../docs/udea-datascience.png')"
   ]
  },
  {
   "cell_type": "markdown",
   "metadata": {
    "id": "RjjGToKiBKXO"
   },
   "source": [
    "**Desarrollado por:** Javier Fernando Botía Valderrama\n",
    "\n",
    "*Docente del Departamento de Ingeniería de Sistemas*\n",
    "\n",
    "**Materia:** Estadística y Análisis Exploratorio\n",
    "\n",
    "**Departamento:** Especialización en Analítica y Ciencia de Datos - Posgrados en Ingeniería\n",
    "\n",
    "**Facultad de Ingeniería - Universidad de Antioquia**"
   ]
  },
  {
   "cell_type": "markdown",
   "metadata": {
    "id": "s9b-U6DOBUKT"
   },
   "source": [
    "*   **Nombres Completos**: Maria del mar Ipia Guzman\n",
    "*   **Número de Cédula**: 1214726595\n",
    "\n",
    "\n",
    "*   **Nombres Completos**: Johan Arbey Vargas Mejia\n",
    "*   **Número de Cédula**: 1152195956\n"
   ]
  },
  {
   "cell_type": "markdown",
   "metadata": {
    "id": "3NvJLgTYYL-j"
   },
   "source": [
    "Bienvenido al segundo taller de Estadística y Análisis Exploratorio. Esta es una de las tres fuentes de datos disponibles para presentar el taller. Tan solo debes escoger una y realizar los pasos indicados. ¡Mucha suerte!"
   ]
  },
  {
   "cell_type": "markdown",
   "metadata": {
    "id": "Fax2TW9JHvKT"
   },
   "source": [
    "# Descripción de la base de datos A 🍷 (Cuantitativa)"
   ]
  },
  {
   "cell_type": "markdown",
   "metadata": {
    "id": "Y-1egI32H7yQ"
   },
   "source": [
    "**Name:** Wine Quality\n",
    "\n",
    "**Website:** https://archive.ics.uci.edu/ml/datasets/wine+quality\n",
    "\n",
    "**Description:** \n",
    "\n",
    "The dataset is related to a red variant of the Portuguese \"Vinho Verde\" wine. For more details, consult: [Web Link](http://www.vinhoverde.pt/en/) or the reference [Cortez et al., 2009](http://dx.doi.org/10.1016/j.dss.2009.05.016). Due to privacy and logistic issues, only physicochemical (inputs) and sensory (the output) variables are available (e.g. there is no data about grape types, wine brand, wine selling price, etc.).\n",
    "\n",
    "The classes are ordered and not balanced (e.g. there are many more normal wines than excellent or poor ones). Outlier detection algorithms could be used to detect the few excellent or poor wines. Also, we are not sure if all input variables are relevant. So it could be interesting to test feature selection methods.\n",
    "\n",
    "Additionally, there is some missing data from the dataset.\n",
    "\n",
    "**Attribute Information**\n",
    "\n",
    "\n",
    "For more information, read [Cortez et al., 2009](http://dx.doi.org/10.1016/j.dss.2009.05.016).\n",
    "\n",
    "**Input variables (based on physicochemical tests):**\n",
    "1. fixed acidity\n",
    "2. volatile acidity\n",
    "3. citric acid\n",
    "4. residual sugar\n",
    "5. chlorides\n",
    "6. free sulfur dioxide\n",
    "7. total sulfur dioxide\n",
    "8. density\n",
    "9. pH\n",
    "10. sulphates\n",
    "11. alcohol\n",
    "\n",
    "**Output variable (based on sensory data):**\n",
    "1. quality (score between 0 and 10)"
   ]
  },
  {
   "cell_type": "markdown",
   "metadata": {
    "id": "nOYLhO8uT1xM"
   },
   "source": [
    "Cargue el archivo winequality.csv desde la siguiente URL."
   ]
  },
  {
   "cell_type": "markdown",
   "metadata": {},
   "source": [
    "## Librerías"
   ]
  },
  {
   "cell_type": "code",
   "execution_count": 72,
   "metadata": {},
   "outputs": [],
   "source": [
    "import pandas as pd\n",
    "import numpy as np\n",
    "import os\n",
    "import matplotlib.pyplot as plt\n",
    "import matplotlib as mpl\n",
    "\n",
    "from sklearn.impute import SimpleImputer\n",
    "from sklearn.neighbors import LocalOutlierFactor\n",
    "from sklearn.preprocessing import MinMaxScaler\n",
    "\n",
    "%matplotlib inline\n",
    "plt.style.use('ggplot')"
   ]
  },
  {
   "cell_type": "code",
   "execution_count": 36,
   "metadata": {
    "id": "93sjXyCvT1GZ"
   },
   "outputs": [
    {
     "data": {
      "text/html": [
       "<div>\n",
       "<style scoped>\n",
       "    .dataframe tbody tr th:only-of-type {\n",
       "        vertical-align: middle;\n",
       "    }\n",
       "\n",
       "    .dataframe tbody tr th {\n",
       "        vertical-align: top;\n",
       "    }\n",
       "\n",
       "    .dataframe thead th {\n",
       "        text-align: right;\n",
       "    }\n",
       "</style>\n",
       "<table border=\"1\" class=\"dataframe\">\n",
       "  <thead>\n",
       "    <tr style=\"text-align: right;\">\n",
       "      <th></th>\n",
       "      <th>fixed acidity</th>\n",
       "      <th>volatile acidity</th>\n",
       "      <th>citric acid</th>\n",
       "      <th>residual sugar</th>\n",
       "      <th>chlorides</th>\n",
       "      <th>free sulfur dioxide</th>\n",
       "      <th>total sulfur dioxide</th>\n",
       "      <th>density</th>\n",
       "      <th>pH</th>\n",
       "      <th>sulphates</th>\n",
       "      <th>alcohol</th>\n",
       "      <th>quality</th>\n",
       "    </tr>\n",
       "  </thead>\n",
       "  <tbody>\n",
       "    <tr>\n",
       "      <th>0</th>\n",
       "      <td>7.4</td>\n",
       "      <td>0.7</td>\n",
       "      <td>0.0</td>\n",
       "      <td>?</td>\n",
       "      <td>0.076</td>\n",
       "      <td>11.0</td>\n",
       "      <td>34.0</td>\n",
       "      <td>?</td>\n",
       "      <td>3.51</td>\n",
       "      <td>?</td>\n",
       "      <td>9.4</td>\n",
       "      <td>5</td>\n",
       "    </tr>\n",
       "    <tr>\n",
       "      <th>1</th>\n",
       "      <td>7.8</td>\n",
       "      <td>0.88</td>\n",
       "      <td>0.0</td>\n",
       "      <td>2.6</td>\n",
       "      <td>0.098</td>\n",
       "      <td>25.0</td>\n",
       "      <td>67.0</td>\n",
       "      <td>?</td>\n",
       "      <td>3.2</td>\n",
       "      <td>0.68</td>\n",
       "      <td>9.8</td>\n",
       "      <td>5</td>\n",
       "    </tr>\n",
       "    <tr>\n",
       "      <th>2</th>\n",
       "      <td>7.8</td>\n",
       "      <td>0.76</td>\n",
       "      <td>0.04</td>\n",
       "      <td>2.3</td>\n",
       "      <td>0.092</td>\n",
       "      <td>15.0</td>\n",
       "      <td>54.0</td>\n",
       "      <td>0.997</td>\n",
       "      <td>3.26</td>\n",
       "      <td>?</td>\n",
       "      <td>9.8</td>\n",
       "      <td>5</td>\n",
       "    </tr>\n",
       "    <tr>\n",
       "      <th>3</th>\n",
       "      <td>11.2</td>\n",
       "      <td>0.28</td>\n",
       "      <td>0.56</td>\n",
       "      <td>?</td>\n",
       "      <td>0.075</td>\n",
       "      <td>17.0</td>\n",
       "      <td>60.0</td>\n",
       "      <td>0.998</td>\n",
       "      <td>3.16</td>\n",
       "      <td>0.58</td>\n",
       "      <td>9.8</td>\n",
       "      <td>6</td>\n",
       "    </tr>\n",
       "    <tr>\n",
       "      <th>4</th>\n",
       "      <td>7.4</td>\n",
       "      <td>0.7</td>\n",
       "      <td>0.0</td>\n",
       "      <td>1.9</td>\n",
       "      <td>0.076</td>\n",
       "      <td>11.0</td>\n",
       "      <td>34.0</td>\n",
       "      <td>?</td>\n",
       "      <td>3.51</td>\n",
       "      <td>0.56</td>\n",
       "      <td>9.4</td>\n",
       "      <td>5</td>\n",
       "    </tr>\n",
       "  </tbody>\n",
       "</table>\n",
       "</div>"
      ],
      "text/plain": [
       "  fixed acidity volatile acidity citric acid residual sugar chlorides  \\\n",
       "0           7.4              0.7         0.0              ?     0.076   \n",
       "1           7.8             0.88         0.0            2.6     0.098   \n",
       "2           7.8             0.76        0.04            2.3     0.092   \n",
       "3          11.2             0.28        0.56              ?     0.075   \n",
       "4           7.4              0.7         0.0            1.9     0.076   \n",
       "\n",
       "  free sulfur dioxide total sulfur dioxide density    pH sulphates alcohol  \\\n",
       "0                11.0                 34.0       ?  3.51         ?     9.4   \n",
       "1                25.0                 67.0       ?   3.2      0.68     9.8   \n",
       "2                15.0                 54.0   0.997  3.26         ?     9.8   \n",
       "3                17.0                 60.0   0.998  3.16      0.58     9.8   \n",
       "4                11.0                 34.0       ?  3.51      0.56     9.4   \n",
       "\n",
       "   quality  \n",
       "0        5  \n",
       "1        5  \n",
       "2        5  \n",
       "3        6  \n",
       "4        5  "
      ]
     },
     "execution_count": 36,
     "metadata": {},
     "output_type": "execute_result"
    }
   ],
   "source": [
    "wine_url = 'https://raw.githubusercontent.com/analiticaycienciadatosudea/EstadisticaExploracionDatos/main/winequality.csv'\n",
    "columns = ['fixed acidity', 'volatile acidity', 'citric acid',\n",
    "           'residual sugar', 'chlorides', 'free sulfur dioxide',\n",
    "           'total sulfur dioxide', 'density', 'pH', 'sulphates', 'alcohol', 'quality']\n",
    "data = pd.read_csv(wine_url, sep=';', encoding='utf8', usecols=columns)\n",
    "\n",
    "data.head()"
   ]
  },
  {
   "cell_type": "markdown",
   "metadata": {
    "id": "9QTD_BpuoVGG"
   },
   "source": [
    "## Exploración inicial y Análisis de Datos Atípicos de los datos de A"
   ]
  },
  {
   "cell_type": "markdown",
   "metadata": {
    "id": "ZEfOkLDDoYpq"
   },
   "source": [
    "En este apartado, se debe cargar la base de datos y generar una exploración inicial, determinando si hay datos faltantes o no y generando un reporte de las estadísticas principales como la media, la desviación estándar, los cuartiles y los valores máximos y mínimos de cada variable. lUego, se debe realizar una detección de datos atípicos con un algoritmo o método de su elección."
   ]
  },
  {
   "cell_type": "code",
   "execution_count": 37,
   "metadata": {},
   "outputs": [
    {
     "name": "stdout",
     "output_type": "stream",
     "text": [
      "<class 'pandas.core.frame.DataFrame'>\n",
      "RangeIndex: 1599 entries, 0 to 1598\n",
      "Data columns (total 12 columns):\n",
      " #   Column                Non-Null Count  Dtype \n",
      "---  ------                --------------  ----- \n",
      " 0   fixed acidity         1599 non-null   object\n",
      " 1   volatile acidity      1599 non-null   object\n",
      " 2   citric acid           1599 non-null   object\n",
      " 3   residual sugar        1599 non-null   object\n",
      " 4   chlorides             1599 non-null   object\n",
      " 5   free sulfur dioxide   1599 non-null   object\n",
      " 6   total sulfur dioxide  1599 non-null   object\n",
      " 7   density               1599 non-null   object\n",
      " 8   pH                    1599 non-null   object\n",
      " 9   sulphates             1599 non-null   object\n",
      " 10  alcohol               1599 non-null   object\n",
      " 11  quality               1599 non-null   int64 \n",
      "dtypes: int64(1), object(11)\n",
      "memory usage: 150.0+ KB\n"
     ]
    }
   ],
   "source": [
    "data.info()"
   ]
  },
  {
   "cell_type": "code",
   "execution_count": 38,
   "metadata": {},
   "outputs": [
    {
     "data": {
      "text/plain": [
       "(1599, 12)"
      ]
     },
     "execution_count": 38,
     "metadata": {},
     "output_type": "execute_result"
    }
   ],
   "source": [
    "data.shape"
   ]
  },
  {
   "cell_type": "code",
   "execution_count": 39,
   "metadata": {},
   "outputs": [
    {
     "data": {
      "text/plain": [
       "107"
      ]
     },
     "execution_count": 39,
     "metadata": {},
     "output_type": "execute_result"
    }
   ],
   "source": [
    "data[data['volatile acidity'] == '?'].shape[0]"
   ]
  },
  {
   "cell_type": "code",
   "execution_count": 40,
   "metadata": {},
   "outputs": [],
   "source": [
    "lista = []\n",
    "for col in data.columns:\n",
    "    num = data[data[col] == '?'].shape[0]\n",
    "    lista.append(num)"
   ]
  },
  {
   "cell_type": "code",
   "execution_count": 41,
   "metadata": {},
   "outputs": [],
   "source": [
    "dic = {\n",
    "    'Columnas': data.columns,\n",
    "    'Faltantes': lista\n",
    "}\n",
    "df_faltantes = pd.DataFrame(dic)"
   ]
  },
  {
   "cell_type": "code",
   "execution_count": 42,
   "metadata": {},
   "outputs": [],
   "source": [
    "df_faltantes['Porcentaje'] = df_faltantes['Faltantes'] / data.shape[0]"
   ]
  },
  {
   "cell_type": "code",
   "execution_count": 43,
   "metadata": {},
   "outputs": [
    {
     "data": {
      "text/html": [
       "<div>\n",
       "<style scoped>\n",
       "    .dataframe tbody tr th:only-of-type {\n",
       "        vertical-align: middle;\n",
       "    }\n",
       "\n",
       "    .dataframe tbody tr th {\n",
       "        vertical-align: top;\n",
       "    }\n",
       "\n",
       "    .dataframe thead th {\n",
       "        text-align: right;\n",
       "    }\n",
       "</style>\n",
       "<table border=\"1\" class=\"dataframe\">\n",
       "  <thead>\n",
       "    <tr style=\"text-align: right;\">\n",
       "      <th></th>\n",
       "      <th>Columnas</th>\n",
       "      <th>Faltantes</th>\n",
       "      <th>Porcentaje</th>\n",
       "    </tr>\n",
       "  </thead>\n",
       "  <tbody>\n",
       "    <tr>\n",
       "      <th>0</th>\n",
       "      <td>fixed acidity</td>\n",
       "      <td>94</td>\n",
       "      <td>0.058787</td>\n",
       "    </tr>\n",
       "    <tr>\n",
       "      <th>1</th>\n",
       "      <td>volatile acidity</td>\n",
       "      <td>107</td>\n",
       "      <td>0.066917</td>\n",
       "    </tr>\n",
       "    <tr>\n",
       "      <th>2</th>\n",
       "      <td>citric acid</td>\n",
       "      <td>109</td>\n",
       "      <td>0.068168</td>\n",
       "    </tr>\n",
       "    <tr>\n",
       "      <th>3</th>\n",
       "      <td>residual sugar</td>\n",
       "      <td>97</td>\n",
       "      <td>0.060663</td>\n",
       "    </tr>\n",
       "    <tr>\n",
       "      <th>4</th>\n",
       "      <td>chlorides</td>\n",
       "      <td>104</td>\n",
       "      <td>0.065041</td>\n",
       "    </tr>\n",
       "    <tr>\n",
       "      <th>5</th>\n",
       "      <td>free sulfur dioxide</td>\n",
       "      <td>94</td>\n",
       "      <td>0.058787</td>\n",
       "    </tr>\n",
       "    <tr>\n",
       "      <th>6</th>\n",
       "      <td>total sulfur dioxide</td>\n",
       "      <td>102</td>\n",
       "      <td>0.063790</td>\n",
       "    </tr>\n",
       "    <tr>\n",
       "      <th>7</th>\n",
       "      <td>density</td>\n",
       "      <td>83</td>\n",
       "      <td>0.051907</td>\n",
       "    </tr>\n",
       "    <tr>\n",
       "      <th>8</th>\n",
       "      <td>pH</td>\n",
       "      <td>69</td>\n",
       "      <td>0.043152</td>\n",
       "    </tr>\n",
       "    <tr>\n",
       "      <th>9</th>\n",
       "      <td>sulphates</td>\n",
       "      <td>96</td>\n",
       "      <td>0.060038</td>\n",
       "    </tr>\n",
       "    <tr>\n",
       "      <th>10</th>\n",
       "      <td>alcohol</td>\n",
       "      <td>100</td>\n",
       "      <td>0.062539</td>\n",
       "    </tr>\n",
       "    <tr>\n",
       "      <th>11</th>\n",
       "      <td>quality</td>\n",
       "      <td>0</td>\n",
       "      <td>0.000000</td>\n",
       "    </tr>\n",
       "  </tbody>\n",
       "</table>\n",
       "</div>"
      ],
      "text/plain": [
       "                Columnas  Faltantes  Porcentaje\n",
       "0          fixed acidity         94    0.058787\n",
       "1       volatile acidity        107    0.066917\n",
       "2            citric acid        109    0.068168\n",
       "3         residual sugar         97    0.060663\n",
       "4              chlorides        104    0.065041\n",
       "5    free sulfur dioxide         94    0.058787\n",
       "6   total sulfur dioxide        102    0.063790\n",
       "7                density         83    0.051907\n",
       "8                     pH         69    0.043152\n",
       "9              sulphates         96    0.060038\n",
       "10               alcohol        100    0.062539\n",
       "11               quality          0    0.000000"
      ]
     },
     "execution_count": 43,
     "metadata": {},
     "output_type": "execute_result"
    }
   ],
   "source": [
    "df_faltantes"
   ]
  },
  {
   "cell_type": "code",
   "execution_count": 48,
   "metadata": {},
   "outputs": [
    {
     "data": {
      "image/png": "[encoded data removed]",
      "text/plain": [
       "<Figure size 576x576 with 1 Axes>"
      ]
     },
     "metadata": {},
     "output_type": "display_data"
    }
   ],
   "source": [
    "faltantes_total = df_faltantes['Faltantes'].sum()\n",
    "registros_total = data.shape[0] * data.shape[1]\n",
    "\n",
    "plt.figure(figsize=(8, 8))\n",
    "datos = [registros_total - faltantes_total, faltantes_total]\n",
    "label = ['No nulos', 'Nulos']\n",
    "\n",
    "plt.pie(datos, labels=label)\n",
    "plt.title('Porcentaje de datos faltantes')\n",
    "plt.show()"
   ]
  },
  {
   "cell_type": "code",
   "execution_count": 52,
   "metadata": {},
   "outputs": [],
   "source": [
    "data = data.replace('?', np.nan).astype(float)"
   ]
  },
  {
   "cell_type": "code",
   "execution_count": 54,
   "metadata": {},
   "outputs": [
    {
     "name": "stdout",
     "output_type": "stream",
     "text": [
      "<class 'pandas.core.frame.DataFrame'>\n",
      "RangeIndex: 1599 entries, 0 to 1598\n",
      "Data columns (total 12 columns):\n",
      " #   Column                Non-Null Count  Dtype  \n",
      "---  ------                --------------  -----  \n",
      " 0   fixed acidity         1505 non-null   float64\n",
      " 1   volatile acidity      1492 non-null   float64\n",
      " 2   citric acid           1490 non-null   float64\n",
      " 3   residual sugar        1502 non-null   float64\n",
      " 4   chlorides             1495 non-null   float64\n",
      " 5   free sulfur dioxide   1505 non-null   float64\n",
      " 6   total sulfur dioxide  1497 non-null   float64\n",
      " 7   density               1516 non-null   float64\n",
      " 8   pH                    1530 non-null   float64\n",
      " 9   sulphates             1503 non-null   float64\n",
      " 10  alcohol               1499 non-null   float64\n",
      " 11  quality               1599 non-null   float64\n",
      "dtypes: float64(12)\n",
      "memory usage: 150.0 KB\n"
     ]
    }
   ],
   "source": [
    "data.info()"
   ]
  },
  {
   "cell_type": "code",
   "execution_count": 55,
   "metadata": {},
   "outputs": [
    {
     "data": {
      "text/html": [
       "<div>\n",
       "<style scoped>\n",
       "    .dataframe tbody tr th:only-of-type {\n",
       "        vertical-align: middle;\n",
       "    }\n",
       "\n",
       "    .dataframe tbody tr th {\n",
       "        vertical-align: top;\n",
       "    }\n",
       "\n",
       "    .dataframe thead th {\n",
       "        text-align: right;\n",
       "    }\n",
       "</style>\n",
       "<table border=\"1\" class=\"dataframe\">\n",
       "  <thead>\n",
       "    <tr style=\"text-align: right;\">\n",
       "      <th></th>\n",
       "      <th>fixed acidity</th>\n",
       "      <th>volatile acidity</th>\n",
       "      <th>citric acid</th>\n",
       "      <th>residual sugar</th>\n",
       "      <th>chlorides</th>\n",
       "      <th>free sulfur dioxide</th>\n",
       "      <th>total sulfur dioxide</th>\n",
       "      <th>density</th>\n",
       "      <th>pH</th>\n",
       "      <th>sulphates</th>\n",
       "      <th>alcohol</th>\n",
       "      <th>quality</th>\n",
       "    </tr>\n",
       "  </thead>\n",
       "  <tbody>\n",
       "    <tr>\n",
       "      <th>count</th>\n",
       "      <td>1505.000000</td>\n",
       "      <td>1492.000000</td>\n",
       "      <td>1490.000000</td>\n",
       "      <td>1502.000000</td>\n",
       "      <td>1495.000000</td>\n",
       "      <td>1505.000000</td>\n",
       "      <td>1497.000000</td>\n",
       "      <td>1516.000000</td>\n",
       "      <td>1530.000000</td>\n",
       "      <td>1503.000000</td>\n",
       "      <td>1499.000000</td>\n",
       "      <td>1599.000000</td>\n",
       "    </tr>\n",
       "    <tr>\n",
       "      <th>mean</th>\n",
       "      <td>8.332159</td>\n",
       "      <td>0.527309</td>\n",
       "      <td>0.270248</td>\n",
       "      <td>2.528029</td>\n",
       "      <td>0.087443</td>\n",
       "      <td>15.918272</td>\n",
       "      <td>46.414830</td>\n",
       "      <td>0.996726</td>\n",
       "      <td>3.311386</td>\n",
       "      <td>0.659787</td>\n",
       "      <td>10.431454</td>\n",
       "      <td>5.636023</td>\n",
       "    </tr>\n",
       "    <tr>\n",
       "      <th>std</th>\n",
       "      <td>1.745085</td>\n",
       "      <td>0.179209</td>\n",
       "      <td>0.193030</td>\n",
       "      <td>1.414587</td>\n",
       "      <td>0.048099</td>\n",
       "      <td>10.522738</td>\n",
       "      <td>33.079014</td>\n",
       "      <td>0.001894</td>\n",
       "      <td>0.154461</td>\n",
       "      <td>0.169091</td>\n",
       "      <td>1.068366</td>\n",
       "      <td>0.807569</td>\n",
       "    </tr>\n",
       "    <tr>\n",
       "      <th>min</th>\n",
       "      <td>4.600000</td>\n",
       "      <td>0.120000</td>\n",
       "      <td>0.000000</td>\n",
       "      <td>0.900000</td>\n",
       "      <td>0.012000</td>\n",
       "      <td>1.000000</td>\n",
       "      <td>6.000000</td>\n",
       "      <td>0.990070</td>\n",
       "      <td>2.740000</td>\n",
       "      <td>0.330000</td>\n",
       "      <td>8.400000</td>\n",
       "      <td>3.000000</td>\n",
       "    </tr>\n",
       "    <tr>\n",
       "      <th>25%</th>\n",
       "      <td>7.100000</td>\n",
       "      <td>0.390000</td>\n",
       "      <td>0.092500</td>\n",
       "      <td>1.900000</td>\n",
       "      <td>0.070000</td>\n",
       "      <td>7.000000</td>\n",
       "      <td>22.000000</td>\n",
       "      <td>0.995600</td>\n",
       "      <td>3.210000</td>\n",
       "      <td>0.550000</td>\n",
       "      <td>9.500000</td>\n",
       "      <td>5.000000</td>\n",
       "    </tr>\n",
       "    <tr>\n",
       "      <th>50%</th>\n",
       "      <td>7.900000</td>\n",
       "      <td>0.520000</td>\n",
       "      <td>0.260000</td>\n",
       "      <td>2.200000</td>\n",
       "      <td>0.079000</td>\n",
       "      <td>14.000000</td>\n",
       "      <td>38.000000</td>\n",
       "      <td>0.996700</td>\n",
       "      <td>3.310000</td>\n",
       "      <td>0.620000</td>\n",
       "      <td>10.200000</td>\n",
       "      <td>6.000000</td>\n",
       "    </tr>\n",
       "    <tr>\n",
       "      <th>75%</th>\n",
       "      <td>9.200000</td>\n",
       "      <td>0.640000</td>\n",
       "      <td>0.420000</td>\n",
       "      <td>2.600000</td>\n",
       "      <td>0.090000</td>\n",
       "      <td>21.000000</td>\n",
       "      <td>62.000000</td>\n",
       "      <td>0.997800</td>\n",
       "      <td>3.400000</td>\n",
       "      <td>0.730000</td>\n",
       "      <td>11.100000</td>\n",
       "      <td>6.000000</td>\n",
       "    </tr>\n",
       "    <tr>\n",
       "      <th>max</th>\n",
       "      <td>15.900000</td>\n",
       "      <td>1.580000</td>\n",
       "      <td>1.000000</td>\n",
       "      <td>15.500000</td>\n",
       "      <td>0.611000</td>\n",
       "      <td>72.000000</td>\n",
       "      <td>289.000000</td>\n",
       "      <td>1.003690</td>\n",
       "      <td>4.010000</td>\n",
       "      <td>2.000000</td>\n",
       "      <td>14.900000</td>\n",
       "      <td>8.000000</td>\n",
       "    </tr>\n",
       "  </tbody>\n",
       "</table>\n",
       "</div>"
      ],
      "text/plain": [
       "       fixed acidity  volatile acidity  citric acid  residual sugar  \\\n",
       "count    1505.000000       1492.000000  1490.000000     1502.000000   \n",
       "mean        8.332159          0.527309     0.270248        2.528029   \n",
       "std         1.745085          0.179209     0.193030        1.414587   \n",
       "min         4.600000          0.120000     0.000000        0.900000   \n",
       "25%         7.100000          0.390000     0.092500        1.900000   \n",
       "50%         7.900000          0.520000     0.260000        2.200000   \n",
       "75%         9.200000          0.640000     0.420000        2.600000   \n",
       "max        15.900000          1.580000     1.000000       15.500000   \n",
       "\n",
       "         chlorides  free sulfur dioxide  total sulfur dioxide      density  \\\n",
       "count  1495.000000          1505.000000           1497.000000  1516.000000   \n",
       "mean      0.087443            15.918272             46.414830     0.996726   \n",
       "std       0.048099            10.522738             33.079014     0.001894   \n",
       "min       0.012000             1.000000              6.000000     0.990070   \n",
       "25%       0.070000             7.000000             22.000000     0.995600   \n",
       "50%       0.079000            14.000000             38.000000     0.996700   \n",
       "75%       0.090000            21.000000             62.000000     0.997800   \n",
       "max       0.611000            72.000000            289.000000     1.003690   \n",
       "\n",
       "                pH    sulphates      alcohol      quality  \n",
       "count  1530.000000  1503.000000  1499.000000  1599.000000  \n",
       "mean      3.311386     0.659787    10.431454     5.636023  \n",
       "std       0.154461     0.169091     1.068366     0.807569  \n",
       "min       2.740000     0.330000     8.400000     3.000000  \n",
       "25%       3.210000     0.550000     9.500000     5.000000  \n",
       "50%       3.310000     0.620000    10.200000     6.000000  \n",
       "75%       3.400000     0.730000    11.100000     6.000000  \n",
       "max       4.010000     2.000000    14.900000     8.000000  "
      ]
     },
     "execution_count": 55,
     "metadata": {},
     "output_type": "execute_result"
    }
   ],
   "source": [
    "data.describe()"
   ]
  },
  {
   "cell_type": "code",
   "execution_count": 57,
   "metadata": {},
   "outputs": [],
   "source": [
    "imp_simple = SimpleImputer(missing_values=np.nan, strategy='mean')"
   ]
  },
  {
   "cell_type": "code",
   "execution_count": 59,
   "metadata": {},
   "outputs": [
    {
     "data": {
      "text/html": [
       "<style>#sk-container-id-2 {color: black;background-color: white;}#sk-container-id-2 pre{padding: 0;}#sk-container-id-2 div.sk-toggleable {background-color: white;}#sk-container-id-2 label.sk-toggleable__label {cursor: pointer;display: block;width: 100%;margin-bottom: 0;padding: 0.3em;box-sizing: border-box;text-align: center;}#sk-container-id-2 label.sk-toggleable__label-arrow:before {content: \"▸\";float: left;margin-right: 0.25em;color: #696969;}#sk-container-id-2 label.sk-toggleable__label-arrow:hover:before {color: black;}#sk-container-id-2 div.sk-estimator:hover label.sk-toggleable__label-arrow:before {color: black;}#sk-container-id-2 div.sk-toggleable__content {max-height: 0;max-width: 0;overflow: hidden;text-align: left;background-color: #f0f8ff;}#sk-container-id-2 div.sk-toggleable__content pre {margin: 0.2em;color: black;border-radius: 0.25em;background-color: #f0f8ff;}#sk-container-id-2 input.sk-toggleable__control:checked~div.sk-toggleable__content {max-height: 200px;max-width: 100%;overflow: auto;}#sk-container-id-2 input.sk-toggleable__control:checked~label.sk-toggleable__label-arrow:before {content: \"▾\";}#sk-container-id-2 div.sk-estimator input.sk-toggleable__control:checked~label.sk-toggleable__label {background-color: #d4ebff;}#sk-container-id-2 div.sk-label input.sk-toggleable__control:checked~label.sk-toggleable__label {background-color: #d4ebff;}#sk-container-id-2 input.sk-hidden--visually {border: 0;clip: rect(1px 1px 1px 1px);clip: rect(1px, 1px, 1px, 1px);height: 1px;margin: -1px;overflow: hidden;padding: 0;position: absolute;width: 1px;}#sk-container-id-2 div.sk-estimator {font-family: monospace;background-color: #f0f8ff;border: 1px dotted black;border-radius: 0.25em;box-sizing: border-box;margin-bottom: 0.5em;}#sk-container-id-2 div.sk-estimator:hover {background-color: #d4ebff;}#sk-container-id-2 div.sk-parallel-item::after {content: \"\";width: 100%;border-bottom: 1px solid gray;flex-grow: 1;}#sk-container-id-2 div.sk-label:hover label.sk-toggleable__label {background-color: #d4ebff;}#sk-container-id-2 div.sk-serial::before {content: \"\";position: absolute;border-left: 1px solid gray;box-sizing: border-box;top: 0;bottom: 0;left: 50%;z-index: 0;}#sk-container-id-2 div.sk-serial {display: flex;flex-direction: column;align-items: center;background-color: white;padding-right: 0.2em;padding-left: 0.2em;position: relative;}#sk-container-id-2 div.sk-item {position: relative;z-index: 1;}#sk-container-id-2 div.sk-parallel {display: flex;align-items: stretch;justify-content: center;background-color: white;position: relative;}#sk-container-id-2 div.sk-item::before, #sk-container-id-2 div.sk-parallel-item::before {content: \"\";position: absolute;border-left: 1px solid gray;box-sizing: border-box;top: 0;bottom: 0;left: 50%;z-index: -1;}#sk-container-id-2 div.sk-parallel-item {display: flex;flex-direction: column;z-index: 1;position: relative;background-color: white;}#sk-container-id-2 div.sk-parallel-item:first-child::after {align-self: flex-end;width: 50%;}#sk-container-id-2 div.sk-parallel-item:last-child::after {align-self: flex-start;width: 50%;}#sk-container-id-2 div.sk-parallel-item:only-child::after {width: 0;}#sk-container-id-2 div.sk-dashed-wrapped {border: 1px dashed gray;margin: 0 0.4em 0.5em 0.4em;box-sizing: border-box;padding-bottom: 0.4em;background-color: white;}#sk-container-id-2 div.sk-label label {font-family: monospace;font-weight: bold;display: inline-block;line-height: 1.2em;}#sk-container-id-2 div.sk-label-container {text-align: center;}#sk-container-id-2 div.sk-container {/* jupyter's `normalize.less` sets `[hidden] { display: none; }` but bootstrap.min.css set `[hidden] { display: none !important; }` so we also need the `!important` here to be able to override the default hidden behavior on the sphinx rendered scikit-learn.org. See: https://github.com/scikit-learn/scikit-learn/issues/21755 */display: inline-block !important;position: relative;}#sk-container-id-2 div.sk-text-repr-fallback {display: none;}</style><div id=\"sk-container-id-2\" class=\"sk-top-container\"><div class=\"sk-text-repr-fallback\"><pre>SimpleImputer()</pre><b>In a Jupyter environment, please rerun this cell to show the HTML representation or trust the notebook. <br />On GitHub, the HTML representation is unable to render, please try loading this page with nbviewer.org.</b></div><div class=\"sk-container\" hidden><div class=\"sk-item\"><div class=\"sk-estimator sk-toggleable\"><input class=\"sk-toggleable__control sk-hidden--visually\" id=\"sk-estimator-id-2\" type=\"checkbox\" checked><label for=\"sk-estimator-id-2\" class=\"sk-toggleable__label sk-toggleable__label-arrow\">SimpleImputer</label><div class=\"sk-toggleable__content\"><pre>SimpleImputer()</pre></div></div></div></div></div>"
      ],
      "text/plain": [
       "SimpleImputer()"
      ]
     },
     "execution_count": 59,
     "metadata": {},
     "output_type": "execute_result"
    }
   ],
   "source": [
    "imp_simple.fit(data)"
   ]
  },
  {
   "cell_type": "code",
   "execution_count": 61,
   "metadata": {},
   "outputs": [],
   "source": [
    "matrix = imp_simple.transform(data)"
   ]
  },
  {
   "cell_type": "code",
   "execution_count": 62,
   "metadata": {},
   "outputs": [],
   "source": [
    "data_imp = pd.DataFrame(matrix, columns=data.columns)"
   ]
  },
  {
   "cell_type": "code",
   "execution_count": 63,
   "metadata": {},
   "outputs": [
    {
     "data": {
      "text/html": [
       "<div>\n",
       "<style scoped>\n",
       "    .dataframe tbody tr th:only-of-type {\n",
       "        vertical-align: middle;\n",
       "    }\n",
       "\n",
       "    .dataframe tbody tr th {\n",
       "        vertical-align: top;\n",
       "    }\n",
       "\n",
       "    .dataframe thead th {\n",
       "        text-align: right;\n",
       "    }\n",
       "</style>\n",
       "<table border=\"1\" class=\"dataframe\">\n",
       "  <thead>\n",
       "    <tr style=\"text-align: right;\">\n",
       "      <th></th>\n",
       "      <th>fixed acidity</th>\n",
       "      <th>volatile acidity</th>\n",
       "      <th>citric acid</th>\n",
       "      <th>residual sugar</th>\n",
       "      <th>chlorides</th>\n",
       "      <th>free sulfur dioxide</th>\n",
       "      <th>total sulfur dioxide</th>\n",
       "      <th>density</th>\n",
       "      <th>pH</th>\n",
       "      <th>sulphates</th>\n",
       "      <th>alcohol</th>\n",
       "      <th>quality</th>\n",
       "    </tr>\n",
       "  </thead>\n",
       "  <tbody>\n",
       "    <tr>\n",
       "      <th>0</th>\n",
       "      <td>7.4</td>\n",
       "      <td>0.70</td>\n",
       "      <td>0.00</td>\n",
       "      <td>2.528029</td>\n",
       "      <td>0.076</td>\n",
       "      <td>11.0</td>\n",
       "      <td>34.0</td>\n",
       "      <td>0.996726</td>\n",
       "      <td>3.51</td>\n",
       "      <td>0.659787</td>\n",
       "      <td>9.4</td>\n",
       "      <td>5.0</td>\n",
       "    </tr>\n",
       "    <tr>\n",
       "      <th>1</th>\n",
       "      <td>7.8</td>\n",
       "      <td>0.88</td>\n",
       "      <td>0.00</td>\n",
       "      <td>2.600000</td>\n",
       "      <td>0.098</td>\n",
       "      <td>25.0</td>\n",
       "      <td>67.0</td>\n",
       "      <td>0.996726</td>\n",
       "      <td>3.20</td>\n",
       "      <td>0.680000</td>\n",
       "      <td>9.8</td>\n",
       "      <td>5.0</td>\n",
       "    </tr>\n",
       "    <tr>\n",
       "      <th>2</th>\n",
       "      <td>7.8</td>\n",
       "      <td>0.76</td>\n",
       "      <td>0.04</td>\n",
       "      <td>2.300000</td>\n",
       "      <td>0.092</td>\n",
       "      <td>15.0</td>\n",
       "      <td>54.0</td>\n",
       "      <td>0.997000</td>\n",
       "      <td>3.26</td>\n",
       "      <td>0.659787</td>\n",
       "      <td>9.8</td>\n",
       "      <td>5.0</td>\n",
       "    </tr>\n",
       "    <tr>\n",
       "      <th>3</th>\n",
       "      <td>11.2</td>\n",
       "      <td>0.28</td>\n",
       "      <td>0.56</td>\n",
       "      <td>2.528029</td>\n",
       "      <td>0.075</td>\n",
       "      <td>17.0</td>\n",
       "      <td>60.0</td>\n",
       "      <td>0.998000</td>\n",
       "      <td>3.16</td>\n",
       "      <td>0.580000</td>\n",
       "      <td>9.8</td>\n",
       "      <td>6.0</td>\n",
       "    </tr>\n",
       "    <tr>\n",
       "      <th>4</th>\n",
       "      <td>7.4</td>\n",
       "      <td>0.70</td>\n",
       "      <td>0.00</td>\n",
       "      <td>1.900000</td>\n",
       "      <td>0.076</td>\n",
       "      <td>11.0</td>\n",
       "      <td>34.0</td>\n",
       "      <td>0.996726</td>\n",
       "      <td>3.51</td>\n",
       "      <td>0.560000</td>\n",
       "      <td>9.4</td>\n",
       "      <td>5.0</td>\n",
       "    </tr>\n",
       "  </tbody>\n",
       "</table>\n",
       "</div>"
      ],
      "text/plain": [
       "   fixed acidity  volatile acidity  citric acid  residual sugar  chlorides  \\\n",
       "0            7.4              0.70         0.00        2.528029      0.076   \n",
       "1            7.8              0.88         0.00        2.600000      0.098   \n",
       "2            7.8              0.76         0.04        2.300000      0.092   \n",
       "3           11.2              0.28         0.56        2.528029      0.075   \n",
       "4            7.4              0.70         0.00        1.900000      0.076   \n",
       "\n",
       "   free sulfur dioxide  total sulfur dioxide   density    pH  sulphates  \\\n",
       "0                 11.0                  34.0  0.996726  3.51   0.659787   \n",
       "1                 25.0                  67.0  0.996726  3.20   0.680000   \n",
       "2                 15.0                  54.0  0.997000  3.26   0.659787   \n",
       "3                 17.0                  60.0  0.998000  3.16   0.580000   \n",
       "4                 11.0                  34.0  0.996726  3.51   0.560000   \n",
       "\n",
       "   alcohol  quality  \n",
       "0      9.4      5.0  \n",
       "1      9.8      5.0  \n",
       "2      9.8      5.0  \n",
       "3      9.8      6.0  \n",
       "4      9.4      5.0  "
      ]
     },
     "execution_count": 63,
     "metadata": {},
     "output_type": "execute_result"
    }
   ],
   "source": [
    "data_imp.head()"
   ]
  },
  {
   "cell_type": "code",
   "execution_count": 64,
   "metadata": {},
   "outputs": [
    {
     "data": {
      "text/html": [
       "<div>\n",
       "<style scoped>\n",
       "    .dataframe tbody tr th:only-of-type {\n",
       "        vertical-align: middle;\n",
       "    }\n",
       "\n",
       "    .dataframe tbody tr th {\n",
       "        vertical-align: top;\n",
       "    }\n",
       "\n",
       "    .dataframe thead th {\n",
       "        text-align: right;\n",
       "    }\n",
       "</style>\n",
       "<table border=\"1\" class=\"dataframe\">\n",
       "  <thead>\n",
       "    <tr style=\"text-align: right;\">\n",
       "      <th></th>\n",
       "      <th>fixed acidity</th>\n",
       "      <th>volatile acidity</th>\n",
       "      <th>citric acid</th>\n",
       "      <th>residual sugar</th>\n",
       "      <th>chlorides</th>\n",
       "      <th>free sulfur dioxide</th>\n",
       "      <th>total sulfur dioxide</th>\n",
       "      <th>density</th>\n",
       "      <th>pH</th>\n",
       "      <th>sulphates</th>\n",
       "      <th>alcohol</th>\n",
       "      <th>quality</th>\n",
       "    </tr>\n",
       "  </thead>\n",
       "  <tbody>\n",
       "    <tr>\n",
       "      <th>count</th>\n",
       "      <td>1599.000000</td>\n",
       "      <td>1599.000000</td>\n",
       "      <td>1599.000000</td>\n",
       "      <td>1599.000000</td>\n",
       "      <td>1599.000000</td>\n",
       "      <td>1599.000000</td>\n",
       "      <td>1599.000000</td>\n",
       "      <td>1599.000000</td>\n",
       "      <td>1599.000000</td>\n",
       "      <td>1599.000000</td>\n",
       "      <td>1599.000000</td>\n",
       "      <td>1599.000000</td>\n",
       "    </tr>\n",
       "    <tr>\n",
       "      <th>mean</th>\n",
       "      <td>8.332159</td>\n",
       "      <td>0.527309</td>\n",
       "      <td>0.270248</td>\n",
       "      <td>2.528029</td>\n",
       "      <td>0.087443</td>\n",
       "      <td>15.918272</td>\n",
       "      <td>46.414830</td>\n",
       "      <td>0.996726</td>\n",
       "      <td>3.311386</td>\n",
       "      <td>0.659787</td>\n",
       "      <td>10.431454</td>\n",
       "      <td>5.636023</td>\n",
       "    </tr>\n",
       "    <tr>\n",
       "      <th>std</th>\n",
       "      <td>1.692981</td>\n",
       "      <td>0.173106</td>\n",
       "      <td>0.186330</td>\n",
       "      <td>1.370981</td>\n",
       "      <td>0.046507</td>\n",
       "      <td>10.208556</td>\n",
       "      <td>32.005894</td>\n",
       "      <td>0.001844</td>\n",
       "      <td>0.151089</td>\n",
       "      <td>0.163933</td>\n",
       "      <td>1.034398</td>\n",
       "      <td>0.807569</td>\n",
       "    </tr>\n",
       "    <tr>\n",
       "      <th>min</th>\n",
       "      <td>4.600000</td>\n",
       "      <td>0.120000</td>\n",
       "      <td>0.000000</td>\n",
       "      <td>0.900000</td>\n",
       "      <td>0.012000</td>\n",
       "      <td>1.000000</td>\n",
       "      <td>6.000000</td>\n",
       "      <td>0.990070</td>\n",
       "      <td>2.740000</td>\n",
       "      <td>0.330000</td>\n",
       "      <td>8.400000</td>\n",
       "      <td>3.000000</td>\n",
       "    </tr>\n",
       "    <tr>\n",
       "      <th>25%</th>\n",
       "      <td>7.200000</td>\n",
       "      <td>0.400000</td>\n",
       "      <td>0.100000</td>\n",
       "      <td>1.900000</td>\n",
       "      <td>0.071000</td>\n",
       "      <td>8.000000</td>\n",
       "      <td>23.000000</td>\n",
       "      <td>0.995655</td>\n",
       "      <td>3.210000</td>\n",
       "      <td>0.560000</td>\n",
       "      <td>9.500000</td>\n",
       "      <td>5.000000</td>\n",
       "    </tr>\n",
       "    <tr>\n",
       "      <th>50%</th>\n",
       "      <td>8.000000</td>\n",
       "      <td>0.527309</td>\n",
       "      <td>0.270248</td>\n",
       "      <td>2.200000</td>\n",
       "      <td>0.080000</td>\n",
       "      <td>15.000000</td>\n",
       "      <td>40.000000</td>\n",
       "      <td>0.996726</td>\n",
       "      <td>3.311386</td>\n",
       "      <td>0.630000</td>\n",
       "      <td>10.300000</td>\n",
       "      <td>6.000000</td>\n",
       "    </tr>\n",
       "    <tr>\n",
       "      <th>75%</th>\n",
       "      <td>9.100000</td>\n",
       "      <td>0.630000</td>\n",
       "      <td>0.410000</td>\n",
       "      <td>2.600000</td>\n",
       "      <td>0.089000</td>\n",
       "      <td>21.000000</td>\n",
       "      <td>60.000000</td>\n",
       "      <td>0.997740</td>\n",
       "      <td>3.400000</td>\n",
       "      <td>0.725000</td>\n",
       "      <td>11.000000</td>\n",
       "      <td>6.000000</td>\n",
       "    </tr>\n",
       "    <tr>\n",
       "      <th>max</th>\n",
       "      <td>15.900000</td>\n",
       "      <td>1.580000</td>\n",
       "      <td>1.000000</td>\n",
       "      <td>15.500000</td>\n",
       "      <td>0.611000</td>\n",
       "      <td>72.000000</td>\n",
       "      <td>289.000000</td>\n",
       "      <td>1.003690</td>\n",
       "      <td>4.010000</td>\n",
       "      <td>2.000000</td>\n",
       "      <td>14.900000</td>\n",
       "      <td>8.000000</td>\n",
       "    </tr>\n",
       "  </tbody>\n",
       "</table>\n",
       "</div>"
      ],
      "text/plain": [
       "       fixed acidity  volatile acidity  citric acid  residual sugar  \\\n",
       "count    1599.000000       1599.000000  1599.000000     1599.000000   \n",
       "mean        8.332159          0.527309     0.270248        2.528029   \n",
       "std         1.692981          0.173106     0.186330        1.370981   \n",
       "min         4.600000          0.120000     0.000000        0.900000   \n",
       "25%         7.200000          0.400000     0.100000        1.900000   \n",
       "50%         8.000000          0.527309     0.270248        2.200000   \n",
       "75%         9.100000          0.630000     0.410000        2.600000   \n",
       "max        15.900000          1.580000     1.000000       15.500000   \n",
       "\n",
       "         chlorides  free sulfur dioxide  total sulfur dioxide      density  \\\n",
       "count  1599.000000          1599.000000           1599.000000  1599.000000   \n",
       "mean      0.087443            15.918272             46.414830     0.996726   \n",
       "std       0.046507            10.208556             32.005894     0.001844   \n",
       "min       0.012000             1.000000              6.000000     0.990070   \n",
       "25%       0.071000             8.000000             23.000000     0.995655   \n",
       "50%       0.080000            15.000000             40.000000     0.996726   \n",
       "75%       0.089000            21.000000             60.000000     0.997740   \n",
       "max       0.611000            72.000000            289.000000     1.003690   \n",
       "\n",
       "                pH    sulphates      alcohol      quality  \n",
       "count  1599.000000  1599.000000  1599.000000  1599.000000  \n",
       "mean      3.311386     0.659787    10.431454     5.636023  \n",
       "std       0.151089     0.163933     1.034398     0.807569  \n",
       "min       2.740000     0.330000     8.400000     3.000000  \n",
       "25%       3.210000     0.560000     9.500000     5.000000  \n",
       "50%       3.311386     0.630000    10.300000     6.000000  \n",
       "75%       3.400000     0.725000    11.000000     6.000000  \n",
       "max       4.010000     2.000000    14.900000     8.000000  "
      ]
     },
     "execution_count": 64,
     "metadata": {},
     "output_type": "execute_result"
    }
   ],
   "source": [
    "data_imp.describe()"
   ]
  },
  {
   "cell_type": "code",
   "execution_count": 67,
   "metadata": {},
   "outputs": [
    {
     "data": {
      "image/png": "[encoded data removed]",
      "text/plain": [
       "<Figure size 720x360 with 1 Axes>"
      ]
     },
     "metadata": {},
     "output_type": "display_data"
    }
   ],
   "source": [
    "data_imp.plot(kind='box', figsize=(10, 5), rot=90)\n",
    "plt.show()"
   ]
  },
  {
   "cell_type": "code",
   "execution_count": 69,
   "metadata": {},
   "outputs": [],
   "source": [
    "min_max = MinMaxScaler(copy=True, feature_range=(0, 1))\n",
    "\n",
    "array = min_max.fit_transform(data_imp)\n",
    "\n",
    "data_norm = pd.DataFrame(array, columns=data.columns)"
   ]
  },
  {
   "cell_type": "code",
   "execution_count": 73,
   "metadata": {},
   "outputs": [
    {
     "data": {
      "image/png": "[encoded data removed]",
      "text/plain": [
       "<Figure size 720x360 with 1 Axes>"
      ]
     },
     "metadata": {},
     "output_type": "display_data"
    }
   ],
   "source": [
    "data_norm.plot(kind='box', figsize=(10, 5), rot=90)\n",
    "plt.show()"
   ]
  },
  {
   "cell_type": "code",
   "execution_count": 80,
   "metadata": {},
   "outputs": [],
   "source": [
    "lof = LocalOutlierFactor(\n",
    "    n_neighbors=5, \n",
    "    algorithm='auto', \n",
    "    contamination='auto',\n",
    "    metric='euclidean') \n",
    "\n",
    "filtrado = lof.fit_predict(data_imp) \n",
    "\n",
    "nof = lof.negative_outlier_factor_ \n",
    "\n",
    "radio_outiler = (nof.max() - nof) / (nof.max() - nof.min())\n",
    "\n",
    "ground_truth = np.ones(len(data_imp), dtype=int) \n",
    "\n",
    "n_errors = (filtrado != ground_truth).sum()"
   ]
  },
  {
   "cell_type": "code",
   "execution_count": 81,
   "metadata": {},
   "outputs": [
    {
     "data": {
      "text/plain": [
       "51"
      ]
     },
     "execution_count": 81,
     "metadata": {},
     "output_type": "execute_result"
    }
   ],
   "source": [
    "n_errors"
   ]
  },
  {
   "cell_type": "code",
   "execution_count": 78,
   "metadata": {},
   "outputs": [
    {
     "data": {
      "text/plain": [
       "array([1, 1, 1, ..., 1, 1, 1])"
      ]
     },
     "execution_count": 78,
     "metadata": {},
     "output_type": "execute_result"
    }
   ],
   "source": [
    "ground_truth"
   ]
  },
  {
   "cell_type": "code",
   "execution_count": 83,
   "metadata": {},
   "outputs": [
    {
     "name": "stdout",
     "output_type": "stream",
     "text": [
      "Número de muestras sin outilers: 1548\n"
     ]
    },
    {
     "data": {
      "text/html": [
       "<div>\n",
       "<style scoped>\n",
       "    .dataframe tbody tr th:only-of-type {\n",
       "        vertical-align: middle;\n",
       "    }\n",
       "\n",
       "    .dataframe tbody tr th {\n",
       "        vertical-align: top;\n",
       "    }\n",
       "\n",
       "    .dataframe thead th {\n",
       "        text-align: right;\n",
       "    }\n",
       "</style>\n",
       "<table border=\"1\" class=\"dataframe\">\n",
       "  <thead>\n",
       "    <tr style=\"text-align: right;\">\n",
       "      <th></th>\n",
       "      <th>fixed acidity</th>\n",
       "      <th>volatile acidity</th>\n",
       "      <th>citric acid</th>\n",
       "      <th>residual sugar</th>\n",
       "      <th>chlorides</th>\n",
       "      <th>free sulfur dioxide</th>\n",
       "      <th>total sulfur dioxide</th>\n",
       "      <th>density</th>\n",
       "      <th>pH</th>\n",
       "      <th>sulphates</th>\n",
       "      <th>alcohol</th>\n",
       "      <th>quality</th>\n",
       "    </tr>\n",
       "  </thead>\n",
       "  <tbody>\n",
       "    <tr>\n",
       "      <th>0</th>\n",
       "      <td>7.4</td>\n",
       "      <td>0.700</td>\n",
       "      <td>0.00</td>\n",
       "      <td>2.528029</td>\n",
       "      <td>0.076</td>\n",
       "      <td>11.000000</td>\n",
       "      <td>34.0</td>\n",
       "      <td>0.996726</td>\n",
       "      <td>3.51</td>\n",
       "      <td>0.659787</td>\n",
       "      <td>9.4</td>\n",
       "      <td>5.0</td>\n",
       "    </tr>\n",
       "    <tr>\n",
       "      <th>1</th>\n",
       "      <td>7.8</td>\n",
       "      <td>0.880</td>\n",
       "      <td>0.00</td>\n",
       "      <td>2.600000</td>\n",
       "      <td>0.098</td>\n",
       "      <td>25.000000</td>\n",
       "      <td>67.0</td>\n",
       "      <td>0.996726</td>\n",
       "      <td>3.20</td>\n",
       "      <td>0.680000</td>\n",
       "      <td>9.8</td>\n",
       "      <td>5.0</td>\n",
       "    </tr>\n",
       "    <tr>\n",
       "      <th>2</th>\n",
       "      <td>7.8</td>\n",
       "      <td>0.760</td>\n",
       "      <td>0.04</td>\n",
       "      <td>2.300000</td>\n",
       "      <td>0.092</td>\n",
       "      <td>15.000000</td>\n",
       "      <td>54.0</td>\n",
       "      <td>0.997000</td>\n",
       "      <td>3.26</td>\n",
       "      <td>0.659787</td>\n",
       "      <td>9.8</td>\n",
       "      <td>5.0</td>\n",
       "    </tr>\n",
       "    <tr>\n",
       "      <th>3</th>\n",
       "      <td>11.2</td>\n",
       "      <td>0.280</td>\n",
       "      <td>0.56</td>\n",
       "      <td>2.528029</td>\n",
       "      <td>0.075</td>\n",
       "      <td>17.000000</td>\n",
       "      <td>60.0</td>\n",
       "      <td>0.998000</td>\n",
       "      <td>3.16</td>\n",
       "      <td>0.580000</td>\n",
       "      <td>9.8</td>\n",
       "      <td>6.0</td>\n",
       "    </tr>\n",
       "    <tr>\n",
       "      <th>4</th>\n",
       "      <td>7.4</td>\n",
       "      <td>0.700</td>\n",
       "      <td>0.00</td>\n",
       "      <td>1.900000</td>\n",
       "      <td>0.076</td>\n",
       "      <td>11.000000</td>\n",
       "      <td>34.0</td>\n",
       "      <td>0.996726</td>\n",
       "      <td>3.51</td>\n",
       "      <td>0.560000</td>\n",
       "      <td>9.4</td>\n",
       "      <td>5.0</td>\n",
       "    </tr>\n",
       "    <tr>\n",
       "      <th>...</th>\n",
       "      <td>...</td>\n",
       "      <td>...</td>\n",
       "      <td>...</td>\n",
       "      <td>...</td>\n",
       "      <td>...</td>\n",
       "      <td>...</td>\n",
       "      <td>...</td>\n",
       "      <td>...</td>\n",
       "      <td>...</td>\n",
       "      <td>...</td>\n",
       "      <td>...</td>\n",
       "      <td>...</td>\n",
       "    </tr>\n",
       "    <tr>\n",
       "      <th>1594</th>\n",
       "      <td>6.2</td>\n",
       "      <td>0.600</td>\n",
       "      <td>0.08</td>\n",
       "      <td>2.000000</td>\n",
       "      <td>0.090</td>\n",
       "      <td>32.000000</td>\n",
       "      <td>44.0</td>\n",
       "      <td>0.994900</td>\n",
       "      <td>3.45</td>\n",
       "      <td>0.580000</td>\n",
       "      <td>10.5</td>\n",
       "      <td>5.0</td>\n",
       "    </tr>\n",
       "    <tr>\n",
       "      <th>1595</th>\n",
       "      <td>5.9</td>\n",
       "      <td>0.550</td>\n",
       "      <td>0.10</td>\n",
       "      <td>2.200000</td>\n",
       "      <td>0.062</td>\n",
       "      <td>39.000000</td>\n",
       "      <td>51.0</td>\n",
       "      <td>0.995120</td>\n",
       "      <td>3.52</td>\n",
       "      <td>0.760000</td>\n",
       "      <td>11.2</td>\n",
       "      <td>6.0</td>\n",
       "    </tr>\n",
       "    <tr>\n",
       "      <th>1596</th>\n",
       "      <td>6.3</td>\n",
       "      <td>0.510</td>\n",
       "      <td>0.13</td>\n",
       "      <td>2.300000</td>\n",
       "      <td>0.076</td>\n",
       "      <td>15.918272</td>\n",
       "      <td>40.0</td>\n",
       "      <td>0.995740</td>\n",
       "      <td>3.42</td>\n",
       "      <td>0.750000</td>\n",
       "      <td>11.0</td>\n",
       "      <td>6.0</td>\n",
       "    </tr>\n",
       "    <tr>\n",
       "      <th>1597</th>\n",
       "      <td>5.9</td>\n",
       "      <td>0.645</td>\n",
       "      <td>0.12</td>\n",
       "      <td>2.000000</td>\n",
       "      <td>0.075</td>\n",
       "      <td>32.000000</td>\n",
       "      <td>44.0</td>\n",
       "      <td>0.995470</td>\n",
       "      <td>3.57</td>\n",
       "      <td>0.710000</td>\n",
       "      <td>10.2</td>\n",
       "      <td>5.0</td>\n",
       "    </tr>\n",
       "    <tr>\n",
       "      <th>1598</th>\n",
       "      <td>6.0</td>\n",
       "      <td>0.310</td>\n",
       "      <td>0.47</td>\n",
       "      <td>3.600000</td>\n",
       "      <td>0.067</td>\n",
       "      <td>18.000000</td>\n",
       "      <td>42.0</td>\n",
       "      <td>0.995490</td>\n",
       "      <td>3.39</td>\n",
       "      <td>0.660000</td>\n",
       "      <td>11.0</td>\n",
       "      <td>6.0</td>\n",
       "    </tr>\n",
       "  </tbody>\n",
       "</table>\n",
       "<p>1548 rows × 12 columns</p>\n",
       "</div>"
      ],
      "text/plain": [
       "      fixed acidity  volatile acidity  citric acid  residual sugar  chlorides  \\\n",
       "0               7.4             0.700         0.00        2.528029      0.076   \n",
       "1               7.8             0.880         0.00        2.600000      0.098   \n",
       "2               7.8             0.760         0.04        2.300000      0.092   \n",
       "3              11.2             0.280         0.56        2.528029      0.075   \n",
       "4               7.4             0.700         0.00        1.900000      0.076   \n",
       "...             ...               ...          ...             ...        ...   \n",
       "1594            6.2             0.600         0.08        2.000000      0.090   \n",
       "1595            5.9             0.550         0.10        2.200000      0.062   \n",
       "1596            6.3             0.510         0.13        2.300000      0.076   \n",
       "1597            5.9             0.645         0.12        2.000000      0.075   \n",
       "1598            6.0             0.310         0.47        3.600000      0.067   \n",
       "\n",
       "      free sulfur dioxide  total sulfur dioxide   density    pH  sulphates  \\\n",
       "0               11.000000                  34.0  0.996726  3.51   0.659787   \n",
       "1               25.000000                  67.0  0.996726  3.20   0.680000   \n",
       "2               15.000000                  54.0  0.997000  3.26   0.659787   \n",
       "3               17.000000                  60.0  0.998000  3.16   0.580000   \n",
       "4               11.000000                  34.0  0.996726  3.51   0.560000   \n",
       "...                   ...                   ...       ...   ...        ...   \n",
       "1594            32.000000                  44.0  0.994900  3.45   0.580000   \n",
       "1595            39.000000                  51.0  0.995120  3.52   0.760000   \n",
       "1596            15.918272                  40.0  0.995740  3.42   0.750000   \n",
       "1597            32.000000                  44.0  0.995470  3.57   0.710000   \n",
       "1598            18.000000                  42.0  0.995490  3.39   0.660000   \n",
       "\n",
       "      alcohol  quality  \n",
       "0         9.4      5.0  \n",
       "1         9.8      5.0  \n",
       "2         9.8      5.0  \n",
       "3         9.8      6.0  \n",
       "4         9.4      5.0  \n",
       "...       ...      ...  \n",
       "1594     10.5      5.0  \n",
       "1595     11.2      6.0  \n",
       "1596     11.0      6.0  \n",
       "1597     10.2      5.0  \n",
       "1598     11.0      6.0  \n",
       "\n",
       "[1548 rows x 12 columns]"
      ]
     },
     "execution_count": 83,
     "metadata": {},
     "output_type": "execute_result"
    }
   ],
   "source": [
    "pos = np.where(filtrado == ground_truth)\n",
    "pos = np.asarray(pos)\n",
    "pos = np.hstack(pos)\n",
    "datos_sin_outilers = data_imp.loc[pos, :]\n",
    "print(\"Número de muestras sin outilers:\", datos_sin_outilers_LOF.shape[0])\n",
    "datos_sin_outilers"
   ]
  },
  {
   "cell_type": "markdown",
   "metadata": {
    "id": "x4FWWmE4sA7F"
   },
   "source": [
    "## Análisis Estadístico"
   ]
  },
  {
   "cell_type": "markdown",
   "metadata": {
    "id": "1FxEvCRGsL3y"
   },
   "source": [
    "En este apartado, los datos filtrados de la sección anterior (Exploración inicial y Análisis de Datos Atípicos) deben ser analizados mediante test estadísticos de acuerdo al tipo de variable (cualitativo, cuantitativo, etc.... Determinar si los datos siguen una determinada distribución de probabilidad y si hay o no correlacción entre las variables."
   ]
  },
  {
   "cell_type": "markdown",
   "metadata": {
    "id": "3HnyvCddXn-l"
   },
   "source": [
    "## Densidad Kernel"
   ]
  },
  {
   "cell_type": "markdown",
   "metadata": {
    "id": "IMZXsWKTXrJY"
   },
   "source": [
    "En este apartado, se debe encontrar una función de densidad de probabilidad por cada variable o característica de la base de datos. Luego, realizar un análisis comparativo con el análisis estadístico del item anterior."
   ]
  },
  {
   "cell_type": "markdown",
   "metadata": {
    "id": "KT4Jt7tOJ6UO"
   },
   "source": [
    "### **Relación de variables cuantitativas**\n"
   ]
  },
  {
   "cell_type": "markdown",
   "metadata": {
    "id": "4GgO21oSKK2S"
   },
   "source": [
    "En este apartado, se hallará la relación entre las variables del conjunto de datos a través de los métodos aprendidos en clase."
   ]
  },
  {
   "cell_type": "markdown",
   "metadata": {
    "id": "fL8Nbq3rvMnf"
   },
   "source": [
    "## Escalamiento"
   ]
  },
  {
   "cell_type": "markdown",
   "metadata": {
    "id": "hXg9ISBnvbqJ"
   },
   "source": [
    "En este apartado, se realizará un proceso de escalamiento a las columnas del conjunto de datos. Primero, grafique diagramas de cajas para visualizar la distribución de los datos. ¿Cuál es la columna con mayor cantidad de outliers? Justifique cuál es el mejor método de escalamiento en este caso.\n",
    "\n"
   ]
  },
  {
   "cell_type": "markdown",
   "metadata": {
    "id": "DO-LKNibxN3G"
   },
   "source": [
    "## Conclusiones"
   ]
  },
  {
   "cell_type": "markdown",
   "metadata": {
    "id": "cttdFEMBx7DV"
   },
   "source": [
    "**Colocar las conclusiones de la práctica**"
   ]
  }
 ],
 "metadata": {
  "colab": {
   "provenance": [
    {
     "file_id": "1HRtoKv4r7IMJ8N7F1ggg6TJkjgWnBRKx",
     "timestamp": 1663313959997
    }
   ],
   "toc_visible": true
  },
  "kernelspec": {
   "display_name": "Python 3 (ipykernel)",
   "language": "python",
   "name": "python3"
  },
  "language_info": {
   "codemirror_mode": {
    "name": "ipython",
    "version": 3
   },
   "file_extension": ".py",
   "mimetype": "text/x-python",
   "name": "python",
   "nbconvert_exporter": "python",
   "pygments_lexer": "ipython3",
   "version": "3.9.13"
  }
 },
 "nbformat": 4,
 "nbformat_minor": 4
}
