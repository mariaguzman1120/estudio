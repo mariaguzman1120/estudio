{
 "cells": [
  {
   "cell_type": "code",
   "execution_count": 15,
   "metadata": {
    "id": "GfDO0vxG2Wb1"
   },
   "outputs": [],
   "source": [
    "!wget --no-cache -O init.py -q https://raw.githubusercontent.com/UDEA-Esp-Analitica-y-Ciencia-de-Datos/EACD-02-ESTADISTICA/master/init.py\n",
    "import init; init.init(force_download=False); \n",
    "from IPython.display import Image"
   ]
  },
  {
   "cell_type": "code",
   "execution_count": 16,
   "metadata": {
    "colab": {
     "base_uri": "https://localhost:8080/",
     "height": 251
    },
    "id": "jWngY9rk2YG0",
    "outputId": "548b6cfa-5e83-4e53-cdd2-c71bb354247f"
   },
   "outputs": [
    {
     "data": {
      "image/png": "[encoded data removed]",
      "text/plain": [
       "<IPython.core.display.Image object>"
      ]
     },
     "execution_count": 16,
     "metadata": {},
     "output_type": "execute_result"
    }
   ],
   "source": [
    "Image(\"local/imgs/udea-datascience.png\")"
   ]
  },
  {
   "cell_type": "markdown",
   "metadata": {
    "id": "MLmjFniFxDoE"
   },
   "source": [
    "**Desarrollado por:** Javier Fernando Botía Valderrama\n",
    "\n",
    "*Docente del Departamento de Ingeniería de Sistemas*\n",
    "\n",
    "**Materia:** Estadística y Análisis Exploratorio\n",
    "\n",
    "**Departamento:** Posgrado en Ingeniería\n",
    "\n",
    "**Facultad de Ingeniería - Universidad de Antioquia**"
   ]
  },
  {
   "cell_type": "markdown",
   "metadata": {
    "id": "Srz24zNTxGe6"
   },
   "source": [
    "# Teoría y Práctica del Agrupamiento de Datos"
   ]
  },
  {
   "cell_type": "markdown",
   "metadata": {
    "id": "0-mxBCSagswk"
   },
   "source": [
    "## Agrupamiento de datos"
   ]
  },
  {
   "cell_type": "markdown",
   "metadata": {
    "id": "yo79RLpriPmY"
   },
   "source": [
    "El agrupamiento de datos es un modelo basado en el aprendizaje no supervisado que permite encontrar un vector de clases a partir de un conjunto de datos o características. El agrupamiento busca las relaciones de los datos por cada grupo o cluster, lo cual permite diferenciar un grupo de datos con respecto a otro. Usualmente, este tipo de relaciones se establece entre los datos y un centro o centroide de un cluster o grupo, permitiendo agrupar los datos más cercanos a un centro. Considerando lo anterior, la relación entre los datos y el centro se calcula mediante una *medida de distancia*, por ejemplo, la distancia Euclidiana:\n",
    "\n",
    "$$d_{n,c} = \\vert \\vert x_n - v_c \\vert \\vert^2$$\n",
    "\n",
    "donde $x_n$ es un vector de datos localizado en una fila o muestra de datos $n$, $v_c$ es un centro de un cluster $c$ (*Nota*: el centro es en realidad un vector de la forma $v_c = \\lbrace v_{c,1}, \\ldots, v_{c,d}, \\ldots, v_{c,D}\\rbrace$, donde $d$ es una característica o columna de la base de datos), y $\\vert \\vert \\cdot \\vert \\vert^2$ es la norma 2 para calcular la distancia Euclidiana.\n",
    "\n",
    "Otro punto importante del agrupamiento es la separación de un cluster con respecto a otro cluster, lo cual entre más separación se genere, mayor facilidad para diferenciar que datos pertenece a un cluster con respecto a otro. Usando la distancia Euclidiana, se establece que:\n",
    "\n",
    "$$d_{i,j} = \\vert \\vert v_i - v_j \\vert \\vert^2$$\n",
    "\n",
    "donde $d_{i,j}$ es la distancia euclidiana entre un centro $v_i$ y un centro $v_j$.\n",
    "\n",
    "Al asumir ambas medidas de distancia, se establecen dos conceptos fundamentales del agrupamiento de datos: **Compactación** y **Separabilidad**. La compactación ($d_{n,c}$), es una medida que establece que tan cercano o alejado esta un conjunto de datos a un centro o centroide. Por otra parte, la separabilidad ($d_{i,j}$), es una medida que establece la separación entre clusters, de tal forma que si hay una mayor distancia entre ellos, se puede diferenciar mejor los datos que pertenencen a un cluster con respecto a otro.\n",
    "\n",
    "![](https://raw.githubusercontent.com/javierfernandobotia/AnalisisAvanzadoDatos/main/Clustering.png)"
   ]
  },
  {
   "cell_type": "markdown",
   "metadata": {
    "id": "GPFaHZyEuUe8"
   },
   "source": [
    "## Algoritmo K-Means"
   ]
  },
  {
   "cell_type": "markdown",
   "metadata": {
    "id": "QUWFwoAtuawS"
   },
   "source": [
    "K-means o k-medias es un algoritmo de agrupamiento basado en un **métrica de distancia**. Por lo general, se debe especificar el número de clusters para que luego el algoritmo aleatoriamente represente los prototipos o centros de cada cluster. Luego, se asigna un conjunto de muestras al centro del cluster más cercano de acuerdo a una métrica de distancia que los separa del centro. Para cada uno de los clusters se calcula el centroide de todas sus muestras, lo cual se toman como los nuevos centros de sus respectivos clusters. La iteración continua hasta que se repite la asignación de las mismas muestras a los mismos clusters (es decir, que se logre una estabilidad del agrupamiento) o que el error de optimización sea menor al fijado por el usuario.\n",
    "\n",
    "Pasos del algoritmo K-means:\n",
    "\n",
    "1) Elegir un número de clusters que actúan como la cantidad que clusters que se desea llegar. El usuario puede fijar el error de optimización de la función de costo que desea obtener del agrupamiento.\n",
    "\n",
    "2) El algoritmo genera de forma aleatoria un conjunto de centroides de acuerdo al número de clusters.\n",
    "\n",
    "3) Para cada muestra de los datos, se añade esta muestra a un cluster que se ajuste mejor.\n",
    "\n",
    "4) Se calcula de nuevo los centros, lo cual van a ser los nuevos centros del agrupamiento.\n",
    "\n",
    "5) Si no se llega al error de optimización dado por el usuario, volver al paso 3."
   ]
  },
  {
   "cell_type": "markdown",
   "metadata": {
    "id": "SK3bBu9Qf7Oo"
   },
   "source": [
    "### Leer base de datos"
   ]
  },
  {
   "cell_type": "code",
   "execution_count": 17,
   "metadata": {
    "id": "MIyjegGkhYRb"
   },
   "outputs": [],
   "source": [
    "import numpy as np\n",
    "import pandas as pd\n",
    "import matplotlib.pyplot as plt\n",
    "import matplotlib\n",
    "import requests\n",
    "import io"
   ]
  },
  {
   "cell_type": "markdown",
   "metadata": {
    "id": "kzXnDREohdDz"
   },
   "source": [
    "Para este caso, utilizaremos una base de datos de un sonar con 60 bandas, para identificar si en un área determinada hay una mina (M) o una roca (R). Cada banda esta normalizado entre 0 y 1, el cual son los niveles de energía normalizados que permiten hacer un escaner del área de interés"
   ]
  },
  {
   "cell_type": "code",
   "execution_count": 18,
   "metadata": {
    "colab": {
     "base_uri": "https://localhost:8080/",
     "height": 235
    },
    "id": "QNityWo4w6iM",
    "outputId": "6cf96e7d-4e93-4201-811f-c4b7275529be"
   },
   "outputs": [
    {
     "data": {
      "text/html": [
       "\n",
       "  <div id=\"df-d3a47494-7b3a-433f-9bcd-b8970cca4ab1\">\n",
       "    <div class=\"colab-df-container\">\n",
       "      <div>\n",
       "<style scoped>\n",
       "    .dataframe tbody tr th:only-of-type {\n",
       "        vertical-align: middle;\n",
       "    }\n",
       "\n",
       "    .dataframe tbody tr th {\n",
       "        vertical-align: top;\n",
       "    }\n",
       "\n",
       "    .dataframe thead th {\n",
       "        text-align: right;\n",
       "    }\n",
       "</style>\n",
       "<table border=\"1\" class=\"dataframe\">\n",
       "  <thead>\n",
       "    <tr style=\"text-align: right;\">\n",
       "      <th></th>\n",
       "      <th>Band1</th>\n",
       "      <th>Band2</th>\n",
       "      <th>Band3</th>\n",
       "      <th>Band4</th>\n",
       "      <th>Band5</th>\n",
       "      <th>Band6</th>\n",
       "      <th>Band7</th>\n",
       "      <th>Band8</th>\n",
       "      <th>Band9</th>\n",
       "      <th>Band10</th>\n",
       "      <th>...</th>\n",
       "      <th>Band52</th>\n",
       "      <th>Band53</th>\n",
       "      <th>Band54</th>\n",
       "      <th>Band55</th>\n",
       "      <th>Band56</th>\n",
       "      <th>Band57</th>\n",
       "      <th>Band58</th>\n",
       "      <th>Band59</th>\n",
       "      <th>Band60</th>\n",
       "      <th>Type</th>\n",
       "    </tr>\n",
       "  </thead>\n",
       "  <tbody>\n",
       "    <tr>\n",
       "      <th>0</th>\n",
       "      <td>0.02</td>\n",
       "      <td>0.037</td>\n",
       "      <td>0.043</td>\n",
       "      <td>0.021</td>\n",
       "      <td>0.095</td>\n",
       "      <td>0.099</td>\n",
       "      <td>0.154</td>\n",
       "      <td>0.16</td>\n",
       "      <td>0.311</td>\n",
       "      <td>0.211</td>\n",
       "      <td>...</td>\n",
       "      <td>0.0030</td>\n",
       "      <td>0.0060</td>\n",
       "      <td>0.016</td>\n",
       "      <td>0.0070</td>\n",
       "      <td>0.017</td>\n",
       "      <td>0.018</td>\n",
       "      <td>0.0080</td>\n",
       "      <td>0.0090</td>\n",
       "      <td>0.0030</td>\n",
       "      <td>R</td>\n",
       "    </tr>\n",
       "    <tr>\n",
       "      <th>1</th>\n",
       "      <td>0.045</td>\n",
       "      <td>0.052</td>\n",
       "      <td>0.084</td>\n",
       "      <td>0.069</td>\n",
       "      <td>0.118</td>\n",
       "      <td>0.258</td>\n",
       "      <td>0.216</td>\n",
       "      <td>0.348</td>\n",
       "      <td>0.334</td>\n",
       "      <td>0.287</td>\n",
       "      <td>...</td>\n",
       "      <td>0.0080</td>\n",
       "      <td>0.0090</td>\n",
       "      <td>0.0050</td>\n",
       "      <td>0.0090</td>\n",
       "      <td>0.019</td>\n",
       "      <td>0.014</td>\n",
       "      <td>0.0050</td>\n",
       "      <td>0.0050</td>\n",
       "      <td>0.0040</td>\n",
       "      <td>R</td>\n",
       "    </tr>\n",
       "    <tr>\n",
       "      <th>2</th>\n",
       "      <td>0.026</td>\n",
       "      <td>0.058</td>\n",
       "      <td>0.11</td>\n",
       "      <td>0.108</td>\n",
       "      <td>0.097</td>\n",
       "      <td>0.228</td>\n",
       "      <td>0.243</td>\n",
       "      <td>0.377</td>\n",
       "      <td>0.56</td>\n",
       "      <td>0.619</td>\n",
       "      <td>...</td>\n",
       "      <td>0.023</td>\n",
       "      <td>0.017</td>\n",
       "      <td>0.01</td>\n",
       "      <td>0.018</td>\n",
       "      <td>0.024</td>\n",
       "      <td>0.032</td>\n",
       "      <td>0.016</td>\n",
       "      <td>0.01</td>\n",
       "      <td>0.0080</td>\n",
       "      <td>R</td>\n",
       "    </tr>\n",
       "    <tr>\n",
       "      <th>3</th>\n",
       "      <td>0.01</td>\n",
       "      <td>0.017</td>\n",
       "      <td>0.062</td>\n",
       "      <td>0.02</td>\n",
       "      <td>0.02</td>\n",
       "      <td>0.037</td>\n",
       "      <td>0.11</td>\n",
       "      <td>0.128</td>\n",
       "      <td>0.06</td>\n",
       "      <td>0.126</td>\n",
       "      <td>...</td>\n",
       "      <td>0.012</td>\n",
       "      <td>0.0040</td>\n",
       "      <td>0.015</td>\n",
       "      <td>0.0080</td>\n",
       "      <td>0.0070</td>\n",
       "      <td>0.0050</td>\n",
       "      <td>0.0040</td>\n",
       "      <td>0.0040</td>\n",
       "      <td>0.012</td>\n",
       "      <td>R</td>\n",
       "    </tr>\n",
       "    <tr>\n",
       "      <th>4</th>\n",
       "      <td>0.076</td>\n",
       "      <td>0.067</td>\n",
       "      <td>0.048</td>\n",
       "      <td>0.039</td>\n",
       "      <td>0.059</td>\n",
       "      <td>0.065</td>\n",
       "      <td>0.121</td>\n",
       "      <td>0.247</td>\n",
       "      <td>0.356</td>\n",
       "      <td>0.446</td>\n",
       "      <td>...</td>\n",
       "      <td>0.0030</td>\n",
       "      <td>0.0050</td>\n",
       "      <td>0.01</td>\n",
       "      <td>0.011</td>\n",
       "      <td>0.0020</td>\n",
       "      <td>0.0070</td>\n",
       "      <td>0.0050</td>\n",
       "      <td>0.011</td>\n",
       "      <td>0.0090</td>\n",
       "      <td>R</td>\n",
       "    </tr>\n",
       "  </tbody>\n",
       "</table>\n",
       "<p>5 rows × 61 columns</p>\n",
       "</div>\n",
       "      <button class=\"colab-df-convert\" onclick=\"convertToInteractive('df-d3a47494-7b3a-433f-9bcd-b8970cca4ab1')\"\n",
       "              title=\"Convert this dataframe to an interactive table.\"\n",
       "              style=\"display:none;\">\n",
       "        \n",
       "  <svg xmlns=\"http://www.w3.org/2000/svg\" height=\"24px\"viewBox=\"0 0 24 24\"\n",
       "       width=\"24px\">\n",
       "    <path d=\"M0 0h24v24H0V0z\" fill=\"none\"/>\n",
       "    <path d=\"M18.56 5.44l.94 2.06.94-2.06 2.06-.94-2.06-.94-.94-2.06-.94 2.06-2.06.94zm-11 1L8.5 8.5l.94-2.06 2.06-.94-2.06-.94L8.5 2.5l-.94 2.06-2.06.94zm10 10l.94 2.06.94-2.06 2.06-.94-2.06-.94-.94-2.06-.94 2.06-2.06.94z\"/><path d=\"M17.41 7.96l-1.37-1.37c-.4-.4-.92-.59-1.43-.59-.52 0-1.04.2-1.43.59L10.3 9.45l-7.72 7.72c-.78.78-.78 2.05 0 2.83L4 21.41c.39.39.9.59 1.41.59.51 0 1.02-.2 1.41-.59l7.78-7.78 2.81-2.81c.8-.78.8-2.07 0-2.86zM5.41 20L4 18.59l7.72-7.72 1.47 1.35L5.41 20z\"/>\n",
       "  </svg>\n",
       "      </button>\n",
       "      \n",
       "  <style>\n",
       "    .colab-df-container {\n",
       "      display:flex;\n",
       "      flex-wrap:wrap;\n",
       "      gap: 12px;\n",
       "    }\n",
       "\n",
       "    .colab-df-convert {\n",
       "      background-color: #E8F0FE;\n",
       "      border: none;\n",
       "      border-radius: 50%;\n",
       "      cursor: pointer;\n",
       "      display: none;\n",
       "      fill: #1967D2;\n",
       "      height: 32px;\n",
       "      padding: 0 0 0 0;\n",
       "      width: 32px;\n",
       "    }\n",
       "\n",
       "    .colab-df-convert:hover {\n",
       "      background-color: #E2EBFA;\n",
       "      box-shadow: 0px 1px 2px rgba(60, 64, 67, 0.3), 0px 1px 3px 1px rgba(60, 64, 67, 0.15);\n",
       "      fill: #174EA6;\n",
       "    }\n",
       "\n",
       "    [theme=dark] .colab-df-convert {\n",
       "      background-color: #3B4455;\n",
       "      fill: #D2E3FC;\n",
       "    }\n",
       "\n",
       "    [theme=dark] .colab-df-convert:hover {\n",
       "      background-color: #434B5C;\n",
       "      box-shadow: 0px 1px 3px 1px rgba(0, 0, 0, 0.15);\n",
       "      filter: drop-shadow(0px 1px 2px rgba(0, 0, 0, 0.3));\n",
       "      fill: #FFFFFF;\n",
       "    }\n",
       "  </style>\n",
       "\n",
       "      <script>\n",
       "        const buttonEl =\n",
       "          document.querySelector('#df-d3a47494-7b3a-433f-9bcd-b8970cca4ab1 button.colab-df-convert');\n",
       "        buttonEl.style.display =\n",
       "          google.colab.kernel.accessAllowed ? 'block' : 'none';\n",
       "\n",
       "        async function convertToInteractive(key) {\n",
       "          const element = document.querySelector('#df-d3a47494-7b3a-433f-9bcd-b8970cca4ab1');\n",
       "          const dataTable =\n",
       "            await google.colab.kernel.invokeFunction('convertToInteractive',\n",
       "                                                     [key], {});\n",
       "          if (!dataTable) return;\n",
       "\n",
       "          const docLinkHtml = 'Like what you see? Visit the ' +\n",
       "            '<a target=\"_blank\" href=https://colab.research.google.com/notebooks/data_table.ipynb>data table notebook</a>'\n",
       "            + ' to learn more about interactive tables.';\n",
       "          element.innerHTML = '';\n",
       "          dataTable['output_type'] = 'display_data';\n",
       "          await google.colab.output.renderOutput(dataTable, element);\n",
       "          const docLink = document.createElement('div');\n",
       "          docLink.innerHTML = docLinkHtml;\n",
       "          element.appendChild(docLink);\n",
       "        }\n",
       "      </script>\n",
       "    </div>\n",
       "  </div>\n",
       "  "
      ],
      "text/plain": [
       "   Band1   Band2   Band3   Band4   Band5   Band6   Band7   Band8   Band9  \\\n",
       "0   0.02   0.037   0.043   0.021   0.095   0.099   0.154    0.16   0.311   \n",
       "1  0.045   0.052   0.084   0.069   0.118   0.258   0.216   0.348   0.334   \n",
       "2  0.026   0.058    0.11   0.108   0.097   0.228   0.243   0.377    0.56   \n",
       "3   0.01   0.017   0.062    0.02    0.02   0.037    0.11   0.128    0.06   \n",
       "4  0.076   0.067   0.048   0.039   0.059   0.065   0.121   0.247   0.356   \n",
       "\n",
       "   Band10  ...   Band52   Band53   Band54   Band55   Band56   Band57   Band58  \\\n",
       "0   0.211  ...   0.0030   0.0060    0.016   0.0070    0.017    0.018   0.0080   \n",
       "1   0.287  ...   0.0080   0.0090   0.0050   0.0090    0.019    0.014   0.0050   \n",
       "2   0.619  ...    0.023    0.017     0.01    0.018    0.024    0.032    0.016   \n",
       "3   0.126  ...    0.012   0.0040    0.015   0.0080   0.0070   0.0050   0.0040   \n",
       "4   0.446  ...   0.0030   0.0050     0.01    0.011   0.0020   0.0070   0.0050   \n",
       "\n",
       "    Band59   Band60  Type  \n",
       "0   0.0090   0.0030     R  \n",
       "1   0.0050   0.0040     R  \n",
       "2     0.01   0.0080     R  \n",
       "3   0.0040    0.012     R  \n",
       "4    0.011   0.0090     R  \n",
       "\n",
       "[5 rows x 61 columns]"
      ]
     },
     "metadata": {},
     "output_type": "display_data"
    }
   ],
   "source": [
    "url = \"https://raw.githubusercontent.com/javierfernandobotia/AnalisisAvanzadoDatos/main/sonar.dat\"\n",
    "download = requests.get(url).content\n",
    "data = pd.read_table(io.StringIO(download.decode('utf-8')),sep=',',decimal = ',')\n",
    "display(data.head())"
   ]
  },
  {
   "cell_type": "code",
   "execution_count": 19,
   "metadata": {
    "colab": {
     "base_uri": "https://localhost:8080/"
    },
    "id": "LxByau2UmIi_",
    "outputId": "9991cd44-c3a1-453f-9f96-ab2227d0964c"
   },
   "outputs": [
    {
     "name": "stdout",
     "output_type": "stream",
     "text": [
      "<class 'pandas.core.frame.DataFrame'>\n",
      "RangeIndex: 208 entries, 0 to 207\n",
      "Data columns (total 61 columns):\n",
      " #   Column   Non-Null Count  Dtype \n",
      "---  ------   --------------  ----- \n",
      " 0   Band1    208 non-null    object\n",
      " 1    Band2   208 non-null    object\n",
      " 2    Band3   208 non-null    object\n",
      " 3    Band4   208 non-null    object\n",
      " 4    Band5   208 non-null    object\n",
      " 5    Band6   208 non-null    object\n",
      " 6    Band7   208 non-null    object\n",
      " 7    Band8   208 non-null    object\n",
      " 8    Band9   208 non-null    object\n",
      " 9    Band10  208 non-null    object\n",
      " 10   Band11  208 non-null    object\n",
      " 11   Band12  208 non-null    object\n",
      " 12   Band13  208 non-null    object\n",
      " 13   Band14  208 non-null    object\n",
      " 14   Band15  208 non-null    object\n",
      " 15   Band16  208 non-null    object\n",
      " 16   Band17  208 non-null    object\n",
      " 17   Band18  208 non-null    object\n",
      " 18   Band19  208 non-null    object\n",
      " 19   Band20  208 non-null    object\n",
      " 20   Band21  208 non-null    object\n",
      " 21   Band22  208 non-null    object\n",
      " 22   Band23  208 non-null    object\n",
      " 23   Band24  208 non-null    object\n",
      " 24   Band25  208 non-null    object\n",
      " 25   Band26  208 non-null    object\n",
      " 26   Band27  208 non-null    object\n",
      " 27   Band28  208 non-null    object\n",
      " 28   Band29  208 non-null    object\n",
      " 29   Band30  208 non-null    object\n",
      " 30   Band31  208 non-null    object\n",
      " 31   Band32  208 non-null    object\n",
      " 32   Band33  208 non-null    object\n",
      " 33   Band34  208 non-null    object\n",
      " 34   Band35  208 non-null    object\n",
      " 35   Band36  208 non-null    object\n",
      " 36   Band37  208 non-null    object\n",
      " 37   Band38  208 non-null    object\n",
      " 38   Band39  208 non-null    object\n",
      " 39   Band40  208 non-null    object\n",
      " 40   Band41  208 non-null    object\n",
      " 41   Band42  208 non-null    object\n",
      " 42   Band43  208 non-null    object\n",
      " 43   Band44  208 non-null    object\n",
      " 44   Band45  208 non-null    object\n",
      " 45   Band46  208 non-null    object\n",
      " 46   Band47  208 non-null    object\n",
      " 47   Band48  208 non-null    object\n",
      " 48   Band49  208 non-null    object\n",
      " 49   Band50  208 non-null    object\n",
      " 50   Band51  208 non-null    object\n",
      " 51   Band52  208 non-null    object\n",
      " 52   Band53  208 non-null    object\n",
      " 53   Band54  208 non-null    object\n",
      " 54   Band55  208 non-null    object\n",
      " 55   Band56  208 non-null    object\n",
      " 56   Band57  208 non-null    object\n",
      " 57   Band58  208 non-null    object\n",
      " 58   Band59  208 non-null    object\n",
      " 59   Band60  208 non-null    object\n",
      " 60   Type    208 non-null    object\n",
      "dtypes: object(61)\n",
      "memory usage: 99.2+ KB\n"
     ]
    }
   ],
   "source": [
    "data.info()"
   ]
  },
  {
   "cell_type": "markdown",
   "metadata": {
    "id": "AD2bcsJPmbRH"
   },
   "source": [
    "Vamos a separar los datos de la siguiente forma: los datos, $X$, serán representados desde *band1* hasta *band60*, y la columna *Type*, se llamará $Y$"
   ]
  },
  {
   "cell_type": "code",
   "execution_count": 20,
   "metadata": {
    "id": "OPF37fRSmRQW"
   },
   "outputs": [],
   "source": [
    "columnas = data.columns # Extraemos los nombres de las columnas\n",
    "X = data.loc[:,:' Band60']\n",
    "Y = data[' Type']"
   ]
  },
  {
   "cell_type": "code",
   "execution_count": 21,
   "metadata": {
    "colab": {
     "base_uri": "https://localhost:8080/",
     "height": 423
    },
    "id": "l7HVGgiL2xdl",
    "outputId": "8e19de92-8e01-447e-fcbb-963df67876a2"
   },
   "outputs": [
    {
     "data": {
      "text/html": [
       "\n",
       "  <div id=\"df-fb4810db-12b4-447d-bd07-1c7fbdbd02b1\">\n",
       "    <div class=\"colab-df-container\">\n",
       "      <div>\n",
       "<style scoped>\n",
       "    .dataframe tbody tr th:only-of-type {\n",
       "        vertical-align: middle;\n",
       "    }\n",
       "\n",
       "    .dataframe tbody tr th {\n",
       "        vertical-align: top;\n",
       "    }\n",
       "\n",
       "    .dataframe thead th {\n",
       "        text-align: right;\n",
       "    }\n",
       "</style>\n",
       "<table border=\"1\" class=\"dataframe\">\n",
       "  <thead>\n",
       "    <tr style=\"text-align: right;\">\n",
       "      <th></th>\n",
       "      <th>Band1</th>\n",
       "      <th>Band2</th>\n",
       "      <th>Band3</th>\n",
       "      <th>Band4</th>\n",
       "      <th>Band5</th>\n",
       "      <th>Band6</th>\n",
       "      <th>Band7</th>\n",
       "      <th>Band8</th>\n",
       "      <th>Band9</th>\n",
       "      <th>Band10</th>\n",
       "      <th>...</th>\n",
       "      <th>Band51</th>\n",
       "      <th>Band52</th>\n",
       "      <th>Band53</th>\n",
       "      <th>Band54</th>\n",
       "      <th>Band55</th>\n",
       "      <th>Band56</th>\n",
       "      <th>Band57</th>\n",
       "      <th>Band58</th>\n",
       "      <th>Band59</th>\n",
       "      <th>Band60</th>\n",
       "    </tr>\n",
       "  </thead>\n",
       "  <tbody>\n",
       "    <tr>\n",
       "      <th>0</th>\n",
       "      <td>0.02</td>\n",
       "      <td>0.037</td>\n",
       "      <td>0.043</td>\n",
       "      <td>0.021</td>\n",
       "      <td>0.095</td>\n",
       "      <td>0.099</td>\n",
       "      <td>0.154</td>\n",
       "      <td>0.16</td>\n",
       "      <td>0.311</td>\n",
       "      <td>0.211</td>\n",
       "      <td>...</td>\n",
       "      <td>0.023</td>\n",
       "      <td>0.0030</td>\n",
       "      <td>0.0060</td>\n",
       "      <td>0.016</td>\n",
       "      <td>0.0070</td>\n",
       "      <td>0.017</td>\n",
       "      <td>0.018</td>\n",
       "      <td>0.0080</td>\n",
       "      <td>0.0090</td>\n",
       "      <td>0.0030</td>\n",
       "    </tr>\n",
       "    <tr>\n",
       "      <th>1</th>\n",
       "      <td>0.045</td>\n",
       "      <td>0.052</td>\n",
       "      <td>0.084</td>\n",
       "      <td>0.069</td>\n",
       "      <td>0.118</td>\n",
       "      <td>0.258</td>\n",
       "      <td>0.216</td>\n",
       "      <td>0.348</td>\n",
       "      <td>0.334</td>\n",
       "      <td>0.287</td>\n",
       "      <td>...</td>\n",
       "      <td>0.012</td>\n",
       "      <td>0.0080</td>\n",
       "      <td>0.0090</td>\n",
       "      <td>0.0050</td>\n",
       "      <td>0.0090</td>\n",
       "      <td>0.019</td>\n",
       "      <td>0.014</td>\n",
       "      <td>0.0050</td>\n",
       "      <td>0.0050</td>\n",
       "      <td>0.0040</td>\n",
       "    </tr>\n",
       "    <tr>\n",
       "      <th>2</th>\n",
       "      <td>0.026</td>\n",
       "      <td>0.058</td>\n",
       "      <td>0.11</td>\n",
       "      <td>0.108</td>\n",
       "      <td>0.097</td>\n",
       "      <td>0.228</td>\n",
       "      <td>0.243</td>\n",
       "      <td>0.377</td>\n",
       "      <td>0.56</td>\n",
       "      <td>0.619</td>\n",
       "      <td>...</td>\n",
       "      <td>0.0030</td>\n",
       "      <td>0.023</td>\n",
       "      <td>0.017</td>\n",
       "      <td>0.01</td>\n",
       "      <td>0.018</td>\n",
       "      <td>0.024</td>\n",
       "      <td>0.032</td>\n",
       "      <td>0.016</td>\n",
       "      <td>0.01</td>\n",
       "      <td>0.0080</td>\n",
       "    </tr>\n",
       "    <tr>\n",
       "      <th>3</th>\n",
       "      <td>0.01</td>\n",
       "      <td>0.017</td>\n",
       "      <td>0.062</td>\n",
       "      <td>0.02</td>\n",
       "      <td>0.02</td>\n",
       "      <td>0.037</td>\n",
       "      <td>0.11</td>\n",
       "      <td>0.128</td>\n",
       "      <td>0.06</td>\n",
       "      <td>0.126</td>\n",
       "      <td>...</td>\n",
       "      <td>0.024</td>\n",
       "      <td>0.012</td>\n",
       "      <td>0.0040</td>\n",
       "      <td>0.015</td>\n",
       "      <td>0.0080</td>\n",
       "      <td>0.0070</td>\n",
       "      <td>0.0050</td>\n",
       "      <td>0.0040</td>\n",
       "      <td>0.0040</td>\n",
       "      <td>0.012</td>\n",
       "    </tr>\n",
       "    <tr>\n",
       "      <th>4</th>\n",
       "      <td>0.076</td>\n",
       "      <td>0.067</td>\n",
       "      <td>0.048</td>\n",
       "      <td>0.039</td>\n",
       "      <td>0.059</td>\n",
       "      <td>0.065</td>\n",
       "      <td>0.121</td>\n",
       "      <td>0.247</td>\n",
       "      <td>0.356</td>\n",
       "      <td>0.446</td>\n",
       "      <td>...</td>\n",
       "      <td>0.016</td>\n",
       "      <td>0.0030</td>\n",
       "      <td>0.0050</td>\n",
       "      <td>0.01</td>\n",
       "      <td>0.011</td>\n",
       "      <td>0.0020</td>\n",
       "      <td>0.0070</td>\n",
       "      <td>0.0050</td>\n",
       "      <td>0.011</td>\n",
       "      <td>0.0090</td>\n",
       "    </tr>\n",
       "    <tr>\n",
       "      <th>...</th>\n",
       "      <td>...</td>\n",
       "      <td>...</td>\n",
       "      <td>...</td>\n",
       "      <td>...</td>\n",
       "      <td>...</td>\n",
       "      <td>...</td>\n",
       "      <td>...</td>\n",
       "      <td>...</td>\n",
       "      <td>...</td>\n",
       "      <td>...</td>\n",
       "      <td>...</td>\n",
       "      <td>...</td>\n",
       "      <td>...</td>\n",
       "      <td>...</td>\n",
       "      <td>...</td>\n",
       "      <td>...</td>\n",
       "      <td>...</td>\n",
       "      <td>...</td>\n",
       "      <td>...</td>\n",
       "      <td>...</td>\n",
       "      <td>...</td>\n",
       "    </tr>\n",
       "    <tr>\n",
       "      <th>203</th>\n",
       "      <td>0.019</td>\n",
       "      <td>0.035</td>\n",
       "      <td>0.017</td>\n",
       "      <td>0.018</td>\n",
       "      <td>0.039</td>\n",
       "      <td>0.163</td>\n",
       "      <td>0.203</td>\n",
       "      <td>0.169</td>\n",
       "      <td>0.233</td>\n",
       "      <td>0.268</td>\n",
       "      <td>...</td>\n",
       "      <td>0.02</td>\n",
       "      <td>0.012</td>\n",
       "      <td>0.01</td>\n",
       "      <td>0.02</td>\n",
       "      <td>0.0030</td>\n",
       "      <td>0.01</td>\n",
       "      <td>0.0060</td>\n",
       "      <td>0.012</td>\n",
       "      <td>0.019</td>\n",
       "      <td>0.016</td>\n",
       "    </tr>\n",
       "    <tr>\n",
       "      <th>204</th>\n",
       "      <td>0.032</td>\n",
       "      <td>0.01</td>\n",
       "      <td>0.03</td>\n",
       "      <td>0.056</td>\n",
       "      <td>0.076</td>\n",
       "      <td>0.096</td>\n",
       "      <td>0.099</td>\n",
       "      <td>0.102</td>\n",
       "      <td>0.103</td>\n",
       "      <td>0.215</td>\n",
       "      <td>...</td>\n",
       "      <td>0.0050</td>\n",
       "      <td>0.0060</td>\n",
       "      <td>0.0090</td>\n",
       "      <td>0.014</td>\n",
       "      <td>0.0060</td>\n",
       "      <td>0.0060</td>\n",
       "      <td>0.0030</td>\n",
       "      <td>0.0030</td>\n",
       "      <td>0.0060</td>\n",
       "      <td>0.0070</td>\n",
       "    </tr>\n",
       "    <tr>\n",
       "      <th>205</th>\n",
       "      <td>0.052</td>\n",
       "      <td>0.044</td>\n",
       "      <td>0.018</td>\n",
       "      <td>0.029</td>\n",
       "      <td>0.035</td>\n",
       "      <td>0.117</td>\n",
       "      <td>0.126</td>\n",
       "      <td>0.118</td>\n",
       "      <td>0.126</td>\n",
       "      <td>0.253</td>\n",
       "      <td>...</td>\n",
       "      <td>0.016</td>\n",
       "      <td>0.016</td>\n",
       "      <td>0.0030</td>\n",
       "      <td>0.0050</td>\n",
       "      <td>0.0060</td>\n",
       "      <td>0.0090</td>\n",
       "      <td>0.014</td>\n",
       "      <td>0.014</td>\n",
       "      <td>0.0080</td>\n",
       "      <td>0.0030</td>\n",
       "    </tr>\n",
       "    <tr>\n",
       "      <th>206</th>\n",
       "      <td>0.03</td>\n",
       "      <td>0.035</td>\n",
       "      <td>0.049</td>\n",
       "      <td>0.061</td>\n",
       "      <td>0.017</td>\n",
       "      <td>0.135</td>\n",
       "      <td>0.146</td>\n",
       "      <td>0.112</td>\n",
       "      <td>0.194</td>\n",
       "      <td>0.235</td>\n",
       "      <td>...</td>\n",
       "      <td>0.0040</td>\n",
       "      <td>0.0090</td>\n",
       "      <td>0.0050</td>\n",
       "      <td>0.013</td>\n",
       "      <td>0.0040</td>\n",
       "      <td>0.0040</td>\n",
       "      <td>0.0030</td>\n",
       "      <td>0.0080</td>\n",
       "      <td>0.0040</td>\n",
       "      <td>0.0050</td>\n",
       "    </tr>\n",
       "    <tr>\n",
       "      <th>207</th>\n",
       "      <td>0.026</td>\n",
       "      <td>0.036</td>\n",
       "      <td>0.014</td>\n",
       "      <td>0.027</td>\n",
       "      <td>0.021</td>\n",
       "      <td>0.034</td>\n",
       "      <td>0.066</td>\n",
       "      <td>0.14</td>\n",
       "      <td>0.184</td>\n",
       "      <td>0.235</td>\n",
       "      <td>...</td>\n",
       "      <td>0.018</td>\n",
       "      <td>0.015</td>\n",
       "      <td>0.013</td>\n",
       "      <td>0.0050</td>\n",
       "      <td>0.0040</td>\n",
       "      <td>0.0060</td>\n",
       "      <td>0.0040</td>\n",
       "      <td>0.0040</td>\n",
       "      <td>0.0060</td>\n",
       "      <td>0.012</td>\n",
       "    </tr>\n",
       "  </tbody>\n",
       "</table>\n",
       "<p>208 rows × 60 columns</p>\n",
       "</div>\n",
       "      <button class=\"colab-df-convert\" onclick=\"convertToInteractive('df-fb4810db-12b4-447d-bd07-1c7fbdbd02b1')\"\n",
       "              title=\"Convert this dataframe to an interactive table.\"\n",
       "              style=\"display:none;\">\n",
       "        \n",
       "  <svg xmlns=\"http://www.w3.org/2000/svg\" height=\"24px\"viewBox=\"0 0 24 24\"\n",
       "       width=\"24px\">\n",
       "    <path d=\"M0 0h24v24H0V0z\" fill=\"none\"/>\n",
       "    <path d=\"M18.56 5.44l.94 2.06.94-2.06 2.06-.94-2.06-.94-.94-2.06-.94 2.06-2.06.94zm-11 1L8.5 8.5l.94-2.06 2.06-.94-2.06-.94L8.5 2.5l-.94 2.06-2.06.94zm10 10l.94 2.06.94-2.06 2.06-.94-2.06-.94-.94-2.06-.94 2.06-2.06.94z\"/><path d=\"M17.41 7.96l-1.37-1.37c-.4-.4-.92-.59-1.43-.59-.52 0-1.04.2-1.43.59L10.3 9.45l-7.72 7.72c-.78.78-.78 2.05 0 2.83L4 21.41c.39.39.9.59 1.41.59.51 0 1.02-.2 1.41-.59l7.78-7.78 2.81-2.81c.8-.78.8-2.07 0-2.86zM5.41 20L4 18.59l7.72-7.72 1.47 1.35L5.41 20z\"/>\n",
       "  </svg>\n",
       "      </button>\n",
       "      \n",
       "  <style>\n",
       "    .colab-df-container {\n",
       "      display:flex;\n",
       "      flex-wrap:wrap;\n",
       "      gap: 12px;\n",
       "    }\n",
       "\n",
       "    .colab-df-convert {\n",
       "      background-color: #E8F0FE;\n",
       "      border: none;\n",
       "      border-radius: 50%;\n",
       "      cursor: pointer;\n",
       "      display: none;\n",
       "      fill: #1967D2;\n",
       "      height: 32px;\n",
       "      padding: 0 0 0 0;\n",
       "      width: 32px;\n",
       "    }\n",
       "\n",
       "    .colab-df-convert:hover {\n",
       "      background-color: #E2EBFA;\n",
       "      box-shadow: 0px 1px 2px rgba(60, 64, 67, 0.3), 0px 1px 3px 1px rgba(60, 64, 67, 0.15);\n",
       "      fill: #174EA6;\n",
       "    }\n",
       "\n",
       "    [theme=dark] .colab-df-convert {\n",
       "      background-color: #3B4455;\n",
       "      fill: #D2E3FC;\n",
       "    }\n",
       "\n",
       "    [theme=dark] .colab-df-convert:hover {\n",
       "      background-color: #434B5C;\n",
       "      box-shadow: 0px 1px 3px 1px rgba(0, 0, 0, 0.15);\n",
       "      filter: drop-shadow(0px 1px 2px rgba(0, 0, 0, 0.3));\n",
       "      fill: #FFFFFF;\n",
       "    }\n",
       "  </style>\n",
       "\n",
       "      <script>\n",
       "        const buttonEl =\n",
       "          document.querySelector('#df-fb4810db-12b4-447d-bd07-1c7fbdbd02b1 button.colab-df-convert');\n",
       "        buttonEl.style.display =\n",
       "          google.colab.kernel.accessAllowed ? 'block' : 'none';\n",
       "\n",
       "        async function convertToInteractive(key) {\n",
       "          const element = document.querySelector('#df-fb4810db-12b4-447d-bd07-1c7fbdbd02b1');\n",
       "          const dataTable =\n",
       "            await google.colab.kernel.invokeFunction('convertToInteractive',\n",
       "                                                     [key], {});\n",
       "          if (!dataTable) return;\n",
       "\n",
       "          const docLinkHtml = 'Like what you see? Visit the ' +\n",
       "            '<a target=\"_blank\" href=https://colab.research.google.com/notebooks/data_table.ipynb>data table notebook</a>'\n",
       "            + ' to learn more about interactive tables.';\n",
       "          element.innerHTML = '';\n",
       "          dataTable['output_type'] = 'display_data';\n",
       "          await google.colab.output.renderOutput(dataTable, element);\n",
       "          const docLink = document.createElement('div');\n",
       "          docLink.innerHTML = docLinkHtml;\n",
       "          element.appendChild(docLink);\n",
       "        }\n",
       "      </script>\n",
       "    </div>\n",
       "  </div>\n",
       "  "
      ],
      "text/plain": [
       "     Band1   Band2   Band3   Band4   Band5   Band6   Band7   Band8   Band9  \\\n",
       "0     0.02   0.037   0.043   0.021   0.095   0.099   0.154    0.16   0.311   \n",
       "1    0.045   0.052   0.084   0.069   0.118   0.258   0.216   0.348   0.334   \n",
       "2    0.026   0.058    0.11   0.108   0.097   0.228   0.243   0.377    0.56   \n",
       "3     0.01   0.017   0.062    0.02    0.02   0.037    0.11   0.128    0.06   \n",
       "4    0.076   0.067   0.048   0.039   0.059   0.065   0.121   0.247   0.356   \n",
       "..     ...     ...     ...     ...     ...     ...     ...     ...     ...   \n",
       "203  0.019   0.035   0.017   0.018   0.039   0.163   0.203   0.169   0.233   \n",
       "204  0.032    0.01    0.03   0.056   0.076   0.096   0.099   0.102   0.103   \n",
       "205  0.052   0.044   0.018   0.029   0.035   0.117   0.126   0.118   0.126   \n",
       "206   0.03   0.035   0.049   0.061   0.017   0.135   0.146   0.112   0.194   \n",
       "207  0.026   0.036   0.014   0.027   0.021   0.034   0.066    0.14   0.184   \n",
       "\n",
       "     Band10  ...   Band51   Band52   Band53   Band54   Band55   Band56  \\\n",
       "0     0.211  ...    0.023   0.0030   0.0060    0.016   0.0070    0.017   \n",
       "1     0.287  ...    0.012   0.0080   0.0090   0.0050   0.0090    0.019   \n",
       "2     0.619  ...   0.0030    0.023    0.017     0.01    0.018    0.024   \n",
       "3     0.126  ...    0.024    0.012   0.0040    0.015   0.0080   0.0070   \n",
       "4     0.446  ...    0.016   0.0030   0.0050     0.01    0.011   0.0020   \n",
       "..      ...  ...      ...      ...      ...      ...      ...      ...   \n",
       "203   0.268  ...     0.02    0.012     0.01     0.02   0.0030     0.01   \n",
       "204   0.215  ...   0.0050   0.0060   0.0090    0.014   0.0060   0.0060   \n",
       "205   0.253  ...    0.016    0.016   0.0030   0.0050   0.0060   0.0090   \n",
       "206   0.235  ...   0.0040   0.0090   0.0050    0.013   0.0040   0.0040   \n",
       "207   0.235  ...    0.018    0.015    0.013   0.0050   0.0040   0.0060   \n",
       "\n",
       "      Band57   Band58   Band59   Band60  \n",
       "0      0.018   0.0080   0.0090   0.0030  \n",
       "1      0.014   0.0050   0.0050   0.0040  \n",
       "2      0.032    0.016     0.01   0.0080  \n",
       "3     0.0050   0.0040   0.0040    0.012  \n",
       "4     0.0070   0.0050    0.011   0.0090  \n",
       "..       ...      ...      ...      ...  \n",
       "203   0.0060    0.012    0.019    0.016  \n",
       "204   0.0030   0.0030   0.0060   0.0070  \n",
       "205    0.014    0.014   0.0080   0.0030  \n",
       "206   0.0030   0.0080   0.0040   0.0050  \n",
       "207   0.0040   0.0040   0.0060    0.012  \n",
       "\n",
       "[208 rows x 60 columns]"
      ]
     },
     "execution_count": 21,
     "metadata": {},
     "output_type": "execute_result"
    }
   ],
   "source": [
    "X"
   ]
  },
  {
   "cell_type": "markdown",
   "metadata": {
    "id": "LGVV-g-sojEi"
   },
   "source": [
    "Usaremos solo $X$ para encontrar un vector de clases con el algoritmo K-Means. Primero, vamos a convertir el tipo de variable *object*  por *float*."
   ]
  },
  {
   "cell_type": "code",
   "execution_count": 22,
   "metadata": {
    "colab": {
     "base_uri": "https://localhost:8080/"
    },
    "id": "BcHK_6Swm4VR",
    "outputId": "774e2c8a-3aeb-406e-d6dc-7dd81e8b6dcc"
   },
   "outputs": [
    {
     "name": "stdout",
     "output_type": "stream",
     "text": [
      "<class 'pandas.core.frame.DataFrame'>\n",
      "RangeIndex: 208 entries, 0 to 207\n",
      "Data columns (total 60 columns):\n",
      " #   Column   Non-Null Count  Dtype  \n",
      "---  ------   --------------  -----  \n",
      " 0   Band1    208 non-null    float64\n",
      " 1    Band2   208 non-null    float64\n",
      " 2    Band3   208 non-null    float64\n",
      " 3    Band4   208 non-null    float64\n",
      " 4    Band5   208 non-null    float64\n",
      " 5    Band6   208 non-null    float64\n",
      " 6    Band7   208 non-null    float64\n",
      " 7    Band8   208 non-null    float64\n",
      " 8    Band9   208 non-null    float64\n",
      " 9    Band10  208 non-null    float64\n",
      " 10   Band11  208 non-null    float64\n",
      " 11   Band12  208 non-null    float64\n",
      " 12   Band13  208 non-null    float64\n",
      " 13   Band14  208 non-null    float64\n",
      " 14   Band15  208 non-null    float64\n",
      " 15   Band16  208 non-null    float64\n",
      " 16   Band17  208 non-null    float64\n",
      " 17   Band18  208 non-null    float64\n",
      " 18   Band19  208 non-null    float64\n",
      " 19   Band20  208 non-null    float64\n",
      " 20   Band21  208 non-null    float64\n",
      " 21   Band22  208 non-null    float64\n",
      " 22   Band23  208 non-null    float64\n",
      " 23   Band24  208 non-null    float64\n",
      " 24   Band25  208 non-null    float64\n",
      " 25   Band26  208 non-null    float64\n",
      " 26   Band27  208 non-null    float64\n",
      " 27   Band28  208 non-null    float64\n",
      " 28   Band29  208 non-null    float64\n",
      " 29   Band30  208 non-null    float64\n",
      " 30   Band31  208 non-null    float64\n",
      " 31   Band32  208 non-null    float64\n",
      " 32   Band33  208 non-null    float64\n",
      " 33   Band34  208 non-null    float64\n",
      " 34   Band35  208 non-null    float64\n",
      " 35   Band36  208 non-null    float64\n",
      " 36   Band37  208 non-null    float64\n",
      " 37   Band38  208 non-null    float64\n",
      " 38   Band39  208 non-null    float64\n",
      " 39   Band40  208 non-null    float64\n",
      " 40   Band41  208 non-null    float64\n",
      " 41   Band42  208 non-null    float64\n",
      " 42   Band43  208 non-null    float64\n",
      " 43   Band44  208 non-null    float64\n",
      " 44   Band45  208 non-null    float64\n",
      " 45   Band46  208 non-null    float64\n",
      " 46   Band47  208 non-null    float64\n",
      " 47   Band48  208 non-null    float64\n",
      " 48   Band49  208 non-null    float64\n",
      " 49   Band50  208 non-null    float64\n",
      " 50   Band51  208 non-null    float64\n",
      " 51   Band52  208 non-null    float64\n",
      " 52   Band53  208 non-null    float64\n",
      " 53   Band54  208 non-null    float64\n",
      " 54   Band55  208 non-null    float64\n",
      " 55   Band56  208 non-null    float64\n",
      " 56   Band57  208 non-null    float64\n",
      " 57   Band58  208 non-null    float64\n",
      " 58   Band59  208 non-null    float64\n",
      " 59   Band60  208 non-null    float64\n",
      "dtypes: float64(60)\n",
      "memory usage: 97.6 KB\n"
     ]
    }
   ],
   "source": [
    "X = X.astype('float')\n",
    "X.info()"
   ]
  },
  {
   "cell_type": "markdown",
   "metadata": {
    "id": "2CAC689Epe-E"
   },
   "source": [
    "Luego, vamos a generar un reporte estadístico para describir cada característica de los datos $X$:"
   ]
  },
  {
   "cell_type": "code",
   "execution_count": 23,
   "metadata": {
    "colab": {
     "base_uri": "https://localhost:8080/",
     "height": 393
    },
    "id": "KABY_4p1psgn",
    "outputId": "dd04df76-c25e-4a42-b9d6-1a5f1718c2a4"
   },
   "outputs": [
    {
     "data": {
      "text/html": [
       "\n",
       "  <div id=\"df-b4f5b34f-1128-4b0d-9825-b39555f33a6a\">\n",
       "    <div class=\"colab-df-container\">\n",
       "      <div>\n",
       "<style scoped>\n",
       "    .dataframe tbody tr th:only-of-type {\n",
       "        vertical-align: middle;\n",
       "    }\n",
       "\n",
       "    .dataframe tbody tr th {\n",
       "        vertical-align: top;\n",
       "    }\n",
       "\n",
       "    .dataframe thead th {\n",
       "        text-align: right;\n",
       "    }\n",
       "</style>\n",
       "<table border=\"1\" class=\"dataframe\">\n",
       "  <thead>\n",
       "    <tr style=\"text-align: right;\">\n",
       "      <th></th>\n",
       "      <th>Band1</th>\n",
       "      <th>Band2</th>\n",
       "      <th>Band3</th>\n",
       "      <th>Band4</th>\n",
       "      <th>Band5</th>\n",
       "      <th>Band6</th>\n",
       "      <th>Band7</th>\n",
       "      <th>Band8</th>\n",
       "      <th>Band9</th>\n",
       "      <th>Band10</th>\n",
       "      <th>...</th>\n",
       "      <th>Band51</th>\n",
       "      <th>Band52</th>\n",
       "      <th>Band53</th>\n",
       "      <th>Band54</th>\n",
       "      <th>Band55</th>\n",
       "      <th>Band56</th>\n",
       "      <th>Band57</th>\n",
       "      <th>Band58</th>\n",
       "      <th>Band59</th>\n",
       "      <th>Band60</th>\n",
       "    </tr>\n",
       "  </thead>\n",
       "  <tbody>\n",
       "    <tr>\n",
       "      <th>count</th>\n",
       "      <td>208.000000</td>\n",
       "      <td>208.000000</td>\n",
       "      <td>208.000000</td>\n",
       "      <td>208.000000</td>\n",
       "      <td>208.000000</td>\n",
       "      <td>208.000000</td>\n",
       "      <td>208.000000</td>\n",
       "      <td>208.000000</td>\n",
       "      <td>208.000000</td>\n",
       "      <td>208.000000</td>\n",
       "      <td>...</td>\n",
       "      <td>208.000000</td>\n",
       "      <td>208.000000</td>\n",
       "      <td>208.000000</td>\n",
       "      <td>208.000000</td>\n",
       "      <td>208.000000</td>\n",
       "      <td>208.000000</td>\n",
       "      <td>208.000000</td>\n",
       "      <td>208.000000</td>\n",
       "      <td>208.000000</td>\n",
       "      <td>208.000000</td>\n",
       "    </tr>\n",
       "    <tr>\n",
       "      <th>mean</th>\n",
       "      <td>0.029173</td>\n",
       "      <td>0.038428</td>\n",
       "      <td>0.043870</td>\n",
       "      <td>0.053889</td>\n",
       "      <td>0.075231</td>\n",
       "      <td>0.104572</td>\n",
       "      <td>0.121755</td>\n",
       "      <td>0.134793</td>\n",
       "      <td>0.178005</td>\n",
       "      <td>0.208260</td>\n",
       "      <td>...</td>\n",
       "      <td>0.016072</td>\n",
       "      <td>0.013394</td>\n",
       "      <td>0.010702</td>\n",
       "      <td>0.010913</td>\n",
       "      <td>0.009284</td>\n",
       "      <td>0.008221</td>\n",
       "      <td>0.007832</td>\n",
       "      <td>0.007933</td>\n",
       "      <td>0.007942</td>\n",
       "      <td>0.006500</td>\n",
       "    </tr>\n",
       "    <tr>\n",
       "      <th>std</th>\n",
       "      <td>0.022975</td>\n",
       "      <td>0.032949</td>\n",
       "      <td>0.038424</td>\n",
       "      <td>0.046494</td>\n",
       "      <td>0.055549</td>\n",
       "      <td>0.059095</td>\n",
       "      <td>0.061830</td>\n",
       "      <td>0.085111</td>\n",
       "      <td>0.118388</td>\n",
       "      <td>0.134413</td>\n",
       "      <td>...</td>\n",
       "      <td>0.012022</td>\n",
       "      <td>0.009652</td>\n",
       "      <td>0.007083</td>\n",
       "      <td>0.007288</td>\n",
       "      <td>0.007102</td>\n",
       "      <td>0.005726</td>\n",
       "      <td>0.005814</td>\n",
       "      <td>0.006443</td>\n",
       "      <td>0.006175</td>\n",
       "      <td>0.005039</td>\n",
       "    </tr>\n",
       "    <tr>\n",
       "      <th>min</th>\n",
       "      <td>0.002000</td>\n",
       "      <td>0.001000</td>\n",
       "      <td>0.002000</td>\n",
       "      <td>0.006000</td>\n",
       "      <td>0.007000</td>\n",
       "      <td>0.010000</td>\n",
       "      <td>0.003000</td>\n",
       "      <td>0.006000</td>\n",
       "      <td>0.008000</td>\n",
       "      <td>0.011000</td>\n",
       "      <td>...</td>\n",
       "      <td>0.000000</td>\n",
       "      <td>0.001000</td>\n",
       "      <td>0.000000</td>\n",
       "      <td>0.001000</td>\n",
       "      <td>0.001000</td>\n",
       "      <td>0.000000</td>\n",
       "      <td>0.000000</td>\n",
       "      <td>0.000000</td>\n",
       "      <td>0.000000</td>\n",
       "      <td>0.001000</td>\n",
       "    </tr>\n",
       "    <tr>\n",
       "      <th>25%</th>\n",
       "      <td>0.013000</td>\n",
       "      <td>0.016000</td>\n",
       "      <td>0.019000</td>\n",
       "      <td>0.024000</td>\n",
       "      <td>0.037750</td>\n",
       "      <td>0.067000</td>\n",
       "      <td>0.080750</td>\n",
       "      <td>0.080000</td>\n",
       "      <td>0.096750</td>\n",
       "      <td>0.111000</td>\n",
       "      <td>...</td>\n",
       "      <td>0.008000</td>\n",
       "      <td>0.007000</td>\n",
       "      <td>0.005000</td>\n",
       "      <td>0.005000</td>\n",
       "      <td>0.004000</td>\n",
       "      <td>0.004000</td>\n",
       "      <td>0.004000</td>\n",
       "      <td>0.004000</td>\n",
       "      <td>0.004000</td>\n",
       "      <td>0.003000</td>\n",
       "    </tr>\n",
       "    <tr>\n",
       "      <th>50%</th>\n",
       "      <td>0.023000</td>\n",
       "      <td>0.031000</td>\n",
       "      <td>0.034000</td>\n",
       "      <td>0.044000</td>\n",
       "      <td>0.062500</td>\n",
       "      <td>0.092000</td>\n",
       "      <td>0.107000</td>\n",
       "      <td>0.112000</td>\n",
       "      <td>0.152000</td>\n",
       "      <td>0.182500</td>\n",
       "      <td>...</td>\n",
       "      <td>0.014000</td>\n",
       "      <td>0.011500</td>\n",
       "      <td>0.010000</td>\n",
       "      <td>0.009000</td>\n",
       "      <td>0.008000</td>\n",
       "      <td>0.007000</td>\n",
       "      <td>0.006000</td>\n",
       "      <td>0.006000</td>\n",
       "      <td>0.006000</td>\n",
       "      <td>0.005000</td>\n",
       "    </tr>\n",
       "    <tr>\n",
       "      <th>75%</th>\n",
       "      <td>0.035250</td>\n",
       "      <td>0.048000</td>\n",
       "      <td>0.058250</td>\n",
       "      <td>0.064250</td>\n",
       "      <td>0.100750</td>\n",
       "      <td>0.134000</td>\n",
       "      <td>0.154000</td>\n",
       "      <td>0.169250</td>\n",
       "      <td>0.233500</td>\n",
       "      <td>0.268500</td>\n",
       "      <td>...</td>\n",
       "      <td>0.021000</td>\n",
       "      <td>0.017000</td>\n",
       "      <td>0.015000</td>\n",
       "      <td>0.014000</td>\n",
       "      <td>0.012000</td>\n",
       "      <td>0.010250</td>\n",
       "      <td>0.010000</td>\n",
       "      <td>0.010000</td>\n",
       "      <td>0.010000</td>\n",
       "      <td>0.008250</td>\n",
       "    </tr>\n",
       "    <tr>\n",
       "      <th>max</th>\n",
       "      <td>0.137000</td>\n",
       "      <td>0.234000</td>\n",
       "      <td>0.306000</td>\n",
       "      <td>0.426000</td>\n",
       "      <td>0.401000</td>\n",
       "      <td>0.382000</td>\n",
       "      <td>0.373000</td>\n",
       "      <td>0.459000</td>\n",
       "      <td>0.683000</td>\n",
       "      <td>0.711000</td>\n",
       "      <td>...</td>\n",
       "      <td>0.100000</td>\n",
       "      <td>0.071000</td>\n",
       "      <td>0.039000</td>\n",
       "      <td>0.035000</td>\n",
       "      <td>0.045000</td>\n",
       "      <td>0.039000</td>\n",
       "      <td>0.036000</td>\n",
       "      <td>0.044000</td>\n",
       "      <td>0.036000</td>\n",
       "      <td>0.044000</td>\n",
       "    </tr>\n",
       "  </tbody>\n",
       "</table>\n",
       "<p>8 rows × 60 columns</p>\n",
       "</div>\n",
       "      <button class=\"colab-df-convert\" onclick=\"convertToInteractive('df-b4f5b34f-1128-4b0d-9825-b39555f33a6a')\"\n",
       "              title=\"Convert this dataframe to an interactive table.\"\n",
       "              style=\"display:none;\">\n",
       "        \n",
       "  <svg xmlns=\"http://www.w3.org/2000/svg\" height=\"24px\"viewBox=\"0 0 24 24\"\n",
       "       width=\"24px\">\n",
       "    <path d=\"M0 0h24v24H0V0z\" fill=\"none\"/>\n",
       "    <path d=\"M18.56 5.44l.94 2.06.94-2.06 2.06-.94-2.06-.94-.94-2.06-.94 2.06-2.06.94zm-11 1L8.5 8.5l.94-2.06 2.06-.94-2.06-.94L8.5 2.5l-.94 2.06-2.06.94zm10 10l.94 2.06.94-2.06 2.06-.94-2.06-.94-.94-2.06-.94 2.06-2.06.94z\"/><path d=\"M17.41 7.96l-1.37-1.37c-.4-.4-.92-.59-1.43-.59-.52 0-1.04.2-1.43.59L10.3 9.45l-7.72 7.72c-.78.78-.78 2.05 0 2.83L4 21.41c.39.39.9.59 1.41.59.51 0 1.02-.2 1.41-.59l7.78-7.78 2.81-2.81c.8-.78.8-2.07 0-2.86zM5.41 20L4 18.59l7.72-7.72 1.47 1.35L5.41 20z\"/>\n",
       "  </svg>\n",
       "      </button>\n",
       "      \n",
       "  <style>\n",
       "    .colab-df-container {\n",
       "      display:flex;\n",
       "      flex-wrap:wrap;\n",
       "      gap: 12px;\n",
       "    }\n",
       "\n",
       "    .colab-df-convert {\n",
       "      background-color: #E8F0FE;\n",
       "      border: none;\n",
       "      border-radius: 50%;\n",
       "      cursor: pointer;\n",
       "      display: none;\n",
       "      fill: #1967D2;\n",
       "      height: 32px;\n",
       "      padding: 0 0 0 0;\n",
       "      width: 32px;\n",
       "    }\n",
       "\n",
       "    .colab-df-convert:hover {\n",
       "      background-color: #E2EBFA;\n",
       "      box-shadow: 0px 1px 2px rgba(60, 64, 67, 0.3), 0px 1px 3px 1px rgba(60, 64, 67, 0.15);\n",
       "      fill: #174EA6;\n",
       "    }\n",
       "\n",
       "    [theme=dark] .colab-df-convert {\n",
       "      background-color: #3B4455;\n",
       "      fill: #D2E3FC;\n",
       "    }\n",
       "\n",
       "    [theme=dark] .colab-df-convert:hover {\n",
       "      background-color: #434B5C;\n",
       "      box-shadow: 0px 1px 3px 1px rgba(0, 0, 0, 0.15);\n",
       "      filter: drop-shadow(0px 1px 2px rgba(0, 0, 0, 0.3));\n",
       "      fill: #FFFFFF;\n",
       "    }\n",
       "  </style>\n",
       "\n",
       "      <script>\n",
       "        const buttonEl =\n",
       "          document.querySelector('#df-b4f5b34f-1128-4b0d-9825-b39555f33a6a button.colab-df-convert');\n",
       "        buttonEl.style.display =\n",
       "          google.colab.kernel.accessAllowed ? 'block' : 'none';\n",
       "\n",
       "        async function convertToInteractive(key) {\n",
       "          const element = document.querySelector('#df-b4f5b34f-1128-4b0d-9825-b39555f33a6a');\n",
       "          const dataTable =\n",
       "            await google.colab.kernel.invokeFunction('convertToInteractive',\n",
       "                                                     [key], {});\n",
       "          if (!dataTable) return;\n",
       "\n",
       "          const docLinkHtml = 'Like what you see? Visit the ' +\n",
       "            '<a target=\"_blank\" href=https://colab.research.google.com/notebooks/data_table.ipynb>data table notebook</a>'\n",
       "            + ' to learn more about interactive tables.';\n",
       "          element.innerHTML = '';\n",
       "          dataTable['output_type'] = 'display_data';\n",
       "          await google.colab.output.renderOutput(dataTable, element);\n",
       "          const docLink = document.createElement('div');\n",
       "          docLink.innerHTML = docLinkHtml;\n",
       "          element.appendChild(docLink);\n",
       "        }\n",
       "      </script>\n",
       "    </div>\n",
       "  </div>\n",
       "  "
      ],
      "text/plain": [
       "            Band1       Band2       Band3       Band4       Band5       Band6  \\\n",
       "count  208.000000  208.000000  208.000000  208.000000  208.000000  208.000000   \n",
       "mean     0.029173    0.038428    0.043870    0.053889    0.075231    0.104572   \n",
       "std      0.022975    0.032949    0.038424    0.046494    0.055549    0.059095   \n",
       "min      0.002000    0.001000    0.002000    0.006000    0.007000    0.010000   \n",
       "25%      0.013000    0.016000    0.019000    0.024000    0.037750    0.067000   \n",
       "50%      0.023000    0.031000    0.034000    0.044000    0.062500    0.092000   \n",
       "75%      0.035250    0.048000    0.058250    0.064250    0.100750    0.134000   \n",
       "max      0.137000    0.234000    0.306000    0.426000    0.401000    0.382000   \n",
       "\n",
       "            Band7       Band8       Band9      Band10  ...      Band51  \\\n",
       "count  208.000000  208.000000  208.000000  208.000000  ...  208.000000   \n",
       "mean     0.121755    0.134793    0.178005    0.208260  ...    0.016072   \n",
       "std      0.061830    0.085111    0.118388    0.134413  ...    0.012022   \n",
       "min      0.003000    0.006000    0.008000    0.011000  ...    0.000000   \n",
       "25%      0.080750    0.080000    0.096750    0.111000  ...    0.008000   \n",
       "50%      0.107000    0.112000    0.152000    0.182500  ...    0.014000   \n",
       "75%      0.154000    0.169250    0.233500    0.268500  ...    0.021000   \n",
       "max      0.373000    0.459000    0.683000    0.711000  ...    0.100000   \n",
       "\n",
       "           Band52      Band53      Band54      Band55      Band56      Band57  \\\n",
       "count  208.000000  208.000000  208.000000  208.000000  208.000000  208.000000   \n",
       "mean     0.013394    0.010702    0.010913    0.009284    0.008221    0.007832   \n",
       "std      0.009652    0.007083    0.007288    0.007102    0.005726    0.005814   \n",
       "min      0.001000    0.000000    0.001000    0.001000    0.000000    0.000000   \n",
       "25%      0.007000    0.005000    0.005000    0.004000    0.004000    0.004000   \n",
       "50%      0.011500    0.010000    0.009000    0.008000    0.007000    0.006000   \n",
       "75%      0.017000    0.015000    0.014000    0.012000    0.010250    0.010000   \n",
       "max      0.071000    0.039000    0.035000    0.045000    0.039000    0.036000   \n",
       "\n",
       "           Band58      Band59      Band60  \n",
       "count  208.000000  208.000000  208.000000  \n",
       "mean     0.007933    0.007942    0.006500  \n",
       "std      0.006443    0.006175    0.005039  \n",
       "min      0.000000    0.000000    0.001000  \n",
       "25%      0.004000    0.004000    0.003000  \n",
       "50%      0.006000    0.006000    0.005000  \n",
       "75%      0.010000    0.010000    0.008250  \n",
       "max      0.044000    0.036000    0.044000  \n",
       "\n",
       "[8 rows x 60 columns]"
      ]
     },
     "execution_count": 23,
     "metadata": {},
     "output_type": "execute_result"
    }
   ],
   "source": [
    "X.describe()"
   ]
  },
  {
   "cell_type": "markdown",
   "metadata": {
    "id": "Ir8UdlG0qRzu"
   },
   "source": [
    "Observen que algunas características están normalizadas hasta 1 pero otras características tiene un valor máximo menor a 1. Para este caso, vamos a realizar dos experimentos: El primer experimento es agrupar los datos con $X$ y el segundo experimento es agrupar los datos con una normalización min-max, el cual llamaremos como $X_{norm}$"
   ]
  },
  {
   "cell_type": "code",
   "execution_count": 24,
   "metadata": {
    "colab": {
     "base_uri": "https://localhost:8080/",
     "height": 299
    },
    "id": "x5oLSC5JqvhQ",
    "outputId": "f64568b0-7be8-4681-dead-196d28f10281"
   },
   "outputs": [
    {
     "data": {
      "text/html": [
       "\n",
       "  <div id=\"df-bdcca377-3ace-44e4-81fe-ef83619b1ad1\">\n",
       "    <div class=\"colab-df-container\">\n",
       "      <div>\n",
       "<style scoped>\n",
       "    .dataframe tbody tr th:only-of-type {\n",
       "        vertical-align: middle;\n",
       "    }\n",
       "\n",
       "    .dataframe tbody tr th {\n",
       "        vertical-align: top;\n",
       "    }\n",
       "\n",
       "    .dataframe thead th {\n",
       "        text-align: right;\n",
       "    }\n",
       "</style>\n",
       "<table border=\"1\" class=\"dataframe\">\n",
       "  <thead>\n",
       "    <tr style=\"text-align: right;\">\n",
       "      <th></th>\n",
       "      <th>Band1</th>\n",
       "      <th>Band2</th>\n",
       "      <th>Band3</th>\n",
       "      <th>Band4</th>\n",
       "      <th>Band5</th>\n",
       "      <th>Band6</th>\n",
       "      <th>Band7</th>\n",
       "      <th>Band8</th>\n",
       "      <th>Band9</th>\n",
       "      <th>Band10</th>\n",
       "      <th>...</th>\n",
       "      <th>Band51</th>\n",
       "      <th>Band52</th>\n",
       "      <th>Band53</th>\n",
       "      <th>Band54</th>\n",
       "      <th>Band55</th>\n",
       "      <th>Band56</th>\n",
       "      <th>Band57</th>\n",
       "      <th>Band58</th>\n",
       "      <th>Band59</th>\n",
       "      <th>Band60</th>\n",
       "    </tr>\n",
       "  </thead>\n",
       "  <tbody>\n",
       "    <tr>\n",
       "      <th>0</th>\n",
       "      <td>0.133333</td>\n",
       "      <td>0.154506</td>\n",
       "      <td>0.134868</td>\n",
       "      <td>0.035714</td>\n",
       "      <td>0.223350</td>\n",
       "      <td>0.239247</td>\n",
       "      <td>0.408108</td>\n",
       "      <td>0.339956</td>\n",
       "      <td>0.448889</td>\n",
       "      <td>0.285714</td>\n",
       "      <td>...</td>\n",
       "      <td>0.23</td>\n",
       "      <td>0.028571</td>\n",
       "      <td>0.153846</td>\n",
       "      <td>0.441176</td>\n",
       "      <td>0.136364</td>\n",
       "      <td>0.435897</td>\n",
       "      <td>0.500000</td>\n",
       "      <td>0.181818</td>\n",
       "      <td>0.250000</td>\n",
       "      <td>0.046512</td>\n",
       "    </tr>\n",
       "    <tr>\n",
       "      <th>1</th>\n",
       "      <td>0.318519</td>\n",
       "      <td>0.218884</td>\n",
       "      <td>0.269737</td>\n",
       "      <td>0.150000</td>\n",
       "      <td>0.281726</td>\n",
       "      <td>0.666667</td>\n",
       "      <td>0.575676</td>\n",
       "      <td>0.754967</td>\n",
       "      <td>0.482963</td>\n",
       "      <td>0.394286</td>\n",
       "      <td>...</td>\n",
       "      <td>0.12</td>\n",
       "      <td>0.100000</td>\n",
       "      <td>0.230769</td>\n",
       "      <td>0.117647</td>\n",
       "      <td>0.181818</td>\n",
       "      <td>0.487179</td>\n",
       "      <td>0.388889</td>\n",
       "      <td>0.113636</td>\n",
       "      <td>0.138889</td>\n",
       "      <td>0.069767</td>\n",
       "    </tr>\n",
       "    <tr>\n",
       "      <th>2</th>\n",
       "      <td>0.177778</td>\n",
       "      <td>0.244635</td>\n",
       "      <td>0.355263</td>\n",
       "      <td>0.242857</td>\n",
       "      <td>0.228426</td>\n",
       "      <td>0.586022</td>\n",
       "      <td>0.648649</td>\n",
       "      <td>0.818985</td>\n",
       "      <td>0.817778</td>\n",
       "      <td>0.868571</td>\n",
       "      <td>...</td>\n",
       "      <td>0.03</td>\n",
       "      <td>0.314286</td>\n",
       "      <td>0.435897</td>\n",
       "      <td>0.264706</td>\n",
       "      <td>0.386364</td>\n",
       "      <td>0.615385</td>\n",
       "      <td>0.888889</td>\n",
       "      <td>0.363636</td>\n",
       "      <td>0.277778</td>\n",
       "      <td>0.162791</td>\n",
       "    </tr>\n",
       "    <tr>\n",
       "      <th>3</th>\n",
       "      <td>0.059259</td>\n",
       "      <td>0.068670</td>\n",
       "      <td>0.197368</td>\n",
       "      <td>0.033333</td>\n",
       "      <td>0.032995</td>\n",
       "      <td>0.072581</td>\n",
       "      <td>0.289189</td>\n",
       "      <td>0.269316</td>\n",
       "      <td>0.077037</td>\n",
       "      <td>0.164286</td>\n",
       "      <td>...</td>\n",
       "      <td>0.24</td>\n",
       "      <td>0.157143</td>\n",
       "      <td>0.102564</td>\n",
       "      <td>0.411765</td>\n",
       "      <td>0.159091</td>\n",
       "      <td>0.179487</td>\n",
       "      <td>0.138889</td>\n",
       "      <td>0.090909</td>\n",
       "      <td>0.111111</td>\n",
       "      <td>0.255814</td>\n",
       "    </tr>\n",
       "    <tr>\n",
       "      <th>4</th>\n",
       "      <td>0.548148</td>\n",
       "      <td>0.283262</td>\n",
       "      <td>0.151316</td>\n",
       "      <td>0.078571</td>\n",
       "      <td>0.131980</td>\n",
       "      <td>0.147849</td>\n",
       "      <td>0.318919</td>\n",
       "      <td>0.532009</td>\n",
       "      <td>0.515556</td>\n",
       "      <td>0.621429</td>\n",
       "      <td>...</td>\n",
       "      <td>0.16</td>\n",
       "      <td>0.028571</td>\n",
       "      <td>0.128205</td>\n",
       "      <td>0.264706</td>\n",
       "      <td>0.227273</td>\n",
       "      <td>0.051282</td>\n",
       "      <td>0.194444</td>\n",
       "      <td>0.113636</td>\n",
       "      <td>0.305556</td>\n",
       "      <td>0.186047</td>\n",
       "    </tr>\n",
       "  </tbody>\n",
       "</table>\n",
       "<p>5 rows × 60 columns</p>\n",
       "</div>\n",
       "      <button class=\"colab-df-convert\" onclick=\"convertToInteractive('df-bdcca377-3ace-44e4-81fe-ef83619b1ad1')\"\n",
       "              title=\"Convert this dataframe to an interactive table.\"\n",
       "              style=\"display:none;\">\n",
       "        \n",
       "  <svg xmlns=\"http://www.w3.org/2000/svg\" height=\"24px\"viewBox=\"0 0 24 24\"\n",
       "       width=\"24px\">\n",
       "    <path d=\"M0 0h24v24H0V0z\" fill=\"none\"/>\n",
       "    <path d=\"M18.56 5.44l.94 2.06.94-2.06 2.06-.94-2.06-.94-.94-2.06-.94 2.06-2.06.94zm-11 1L8.5 8.5l.94-2.06 2.06-.94-2.06-.94L8.5 2.5l-.94 2.06-2.06.94zm10 10l.94 2.06.94-2.06 2.06-.94-2.06-.94-.94-2.06-.94 2.06-2.06.94z\"/><path d=\"M17.41 7.96l-1.37-1.37c-.4-.4-.92-.59-1.43-.59-.52 0-1.04.2-1.43.59L10.3 9.45l-7.72 7.72c-.78.78-.78 2.05 0 2.83L4 21.41c.39.39.9.59 1.41.59.51 0 1.02-.2 1.41-.59l7.78-7.78 2.81-2.81c.8-.78.8-2.07 0-2.86zM5.41 20L4 18.59l7.72-7.72 1.47 1.35L5.41 20z\"/>\n",
       "  </svg>\n",
       "      </button>\n",
       "      \n",
       "  <style>\n",
       "    .colab-df-container {\n",
       "      display:flex;\n",
       "      flex-wrap:wrap;\n",
       "      gap: 12px;\n",
       "    }\n",
       "\n",
       "    .colab-df-convert {\n",
       "      background-color: #E8F0FE;\n",
       "      border: none;\n",
       "      border-radius: 50%;\n",
       "      cursor: pointer;\n",
       "      display: none;\n",
       "      fill: #1967D2;\n",
       "      height: 32px;\n",
       "      padding: 0 0 0 0;\n",
       "      width: 32px;\n",
       "    }\n",
       "\n",
       "    .colab-df-convert:hover {\n",
       "      background-color: #E2EBFA;\n",
       "      box-shadow: 0px 1px 2px rgba(60, 64, 67, 0.3), 0px 1px 3px 1px rgba(60, 64, 67, 0.15);\n",
       "      fill: #174EA6;\n",
       "    }\n",
       "\n",
       "    [theme=dark] .colab-df-convert {\n",
       "      background-color: #3B4455;\n",
       "      fill: #D2E3FC;\n",
       "    }\n",
       "\n",
       "    [theme=dark] .colab-df-convert:hover {\n",
       "      background-color: #434B5C;\n",
       "      box-shadow: 0px 1px 3px 1px rgba(0, 0, 0, 0.15);\n",
       "      filter: drop-shadow(0px 1px 2px rgba(0, 0, 0, 0.3));\n",
       "      fill: #FFFFFF;\n",
       "    }\n",
       "  </style>\n",
       "\n",
       "      <script>\n",
       "        const buttonEl =\n",
       "          document.querySelector('#df-bdcca377-3ace-44e4-81fe-ef83619b1ad1 button.colab-df-convert');\n",
       "        buttonEl.style.display =\n",
       "          google.colab.kernel.accessAllowed ? 'block' : 'none';\n",
       "\n",
       "        async function convertToInteractive(key) {\n",
       "          const element = document.querySelector('#df-bdcca377-3ace-44e4-81fe-ef83619b1ad1');\n",
       "          const dataTable =\n",
       "            await google.colab.kernel.invokeFunction('convertToInteractive',\n",
       "                                                     [key], {});\n",
       "          if (!dataTable) return;\n",
       "\n",
       "          const docLinkHtml = 'Like what you see? Visit the ' +\n",
       "            '<a target=\"_blank\" href=https://colab.research.google.com/notebooks/data_table.ipynb>data table notebook</a>'\n",
       "            + ' to learn more about interactive tables.';\n",
       "          element.innerHTML = '';\n",
       "          dataTable['output_type'] = 'display_data';\n",
       "          await google.colab.output.renderOutput(dataTable, element);\n",
       "          const docLink = document.createElement('div');\n",
       "          docLink.innerHTML = docLinkHtml;\n",
       "          element.appendChild(docLink);\n",
       "        }\n",
       "      </script>\n",
       "    </div>\n",
       "  </div>\n",
       "  "
      ],
      "text/plain": [
       "      Band1     Band2     Band3     Band4     Band5     Band6     Band7  \\\n",
       "0  0.133333  0.154506  0.134868  0.035714  0.223350  0.239247  0.408108   \n",
       "1  0.318519  0.218884  0.269737  0.150000  0.281726  0.666667  0.575676   \n",
       "2  0.177778  0.244635  0.355263  0.242857  0.228426  0.586022  0.648649   \n",
       "3  0.059259  0.068670  0.197368  0.033333  0.032995  0.072581  0.289189   \n",
       "4  0.548148  0.283262  0.151316  0.078571  0.131980  0.147849  0.318919   \n",
       "\n",
       "      Band8     Band9    Band10  ...   Band51    Band52    Band53    Band54  \\\n",
       "0  0.339956  0.448889  0.285714  ...     0.23  0.028571  0.153846  0.441176   \n",
       "1  0.754967  0.482963  0.394286  ...     0.12  0.100000  0.230769  0.117647   \n",
       "2  0.818985  0.817778  0.868571  ...     0.03  0.314286  0.435897  0.264706   \n",
       "3  0.269316  0.077037  0.164286  ...     0.24  0.157143  0.102564  0.411765   \n",
       "4  0.532009  0.515556  0.621429  ...     0.16  0.028571  0.128205  0.264706   \n",
       "\n",
       "     Band55    Band56    Band57    Band58    Band59    Band60  \n",
       "0  0.136364  0.435897  0.500000  0.181818  0.250000  0.046512  \n",
       "1  0.181818  0.487179  0.388889  0.113636  0.138889  0.069767  \n",
       "2  0.386364  0.615385  0.888889  0.363636  0.277778  0.162791  \n",
       "3  0.159091  0.179487  0.138889  0.090909  0.111111  0.255814  \n",
       "4  0.227273  0.051282  0.194444  0.113636  0.305556  0.186047  \n",
       "\n",
       "[5 rows x 60 columns]"
      ]
     },
     "metadata": {},
     "output_type": "display_data"
    }
   ],
   "source": [
    "from sklearn.preprocessing import MinMaxScaler\n",
    "\n",
    "MM = MinMaxScaler(feature_range = (0,1))\n",
    "X_norm = MM.fit_transform(X)\n",
    "X_norm = pd.DataFrame(X_norm, columns = columnas[0:60])\n",
    "display(X_norm.head())"
   ]
  },
  {
   "cell_type": "code",
   "execution_count": 25,
   "metadata": {
    "colab": {
     "base_uri": "https://localhost:8080/",
     "height": 393
    },
    "id": "Kx4Ye80It7-3",
    "outputId": "18489c60-a229-4d21-9dc2-50c08f0c60b8"
   },
   "outputs": [
    {
     "data": {
      "text/html": [
       "\n",
       "  <div id=\"df-a27d8db8-547a-4b81-bee8-574609323223\">\n",
       "    <div class=\"colab-df-container\">\n",
       "      <div>\n",
       "<style scoped>\n",
       "    .dataframe tbody tr th:only-of-type {\n",
       "        vertical-align: middle;\n",
       "    }\n",
       "\n",
       "    .dataframe tbody tr th {\n",
       "        vertical-align: top;\n",
       "    }\n",
       "\n",
       "    .dataframe thead th {\n",
       "        text-align: right;\n",
       "    }\n",
       "</style>\n",
       "<table border=\"1\" class=\"dataframe\">\n",
       "  <thead>\n",
       "    <tr style=\"text-align: right;\">\n",
       "      <th></th>\n",
       "      <th>Band1</th>\n",
       "      <th>Band2</th>\n",
       "      <th>Band3</th>\n",
       "      <th>Band4</th>\n",
       "      <th>Band5</th>\n",
       "      <th>Band6</th>\n",
       "      <th>Band7</th>\n",
       "      <th>Band8</th>\n",
       "      <th>Band9</th>\n",
       "      <th>Band10</th>\n",
       "      <th>...</th>\n",
       "      <th>Band51</th>\n",
       "      <th>Band52</th>\n",
       "      <th>Band53</th>\n",
       "      <th>Band54</th>\n",
       "      <th>Band55</th>\n",
       "      <th>Band56</th>\n",
       "      <th>Band57</th>\n",
       "      <th>Band58</th>\n",
       "      <th>Band59</th>\n",
       "      <th>Band60</th>\n",
       "    </tr>\n",
       "  </thead>\n",
       "  <tbody>\n",
       "    <tr>\n",
       "      <th>count</th>\n",
       "      <td>208.000000</td>\n",
       "      <td>208.000000</td>\n",
       "      <td>208.000000</td>\n",
       "      <td>208.000000</td>\n",
       "      <td>208.000000</td>\n",
       "      <td>208.000000</td>\n",
       "      <td>208.000000</td>\n",
       "      <td>208.000000</td>\n",
       "      <td>208.000000</td>\n",
       "      <td>208.000000</td>\n",
       "      <td>...</td>\n",
       "      <td>208.000000</td>\n",
       "      <td>208.000000</td>\n",
       "      <td>208.000000</td>\n",
       "      <td>208.000000</td>\n",
       "      <td>208.000000</td>\n",
       "      <td>208.000000</td>\n",
       "      <td>208.000000</td>\n",
       "      <td>208.000000</td>\n",
       "      <td>208.000000</td>\n",
       "      <td>208.000000</td>\n",
       "    </tr>\n",
       "    <tr>\n",
       "      <th>mean</th>\n",
       "      <td>0.201282</td>\n",
       "      <td>0.160635</td>\n",
       "      <td>0.137731</td>\n",
       "      <td>0.114022</td>\n",
       "      <td>0.173175</td>\n",
       "      <td>0.254226</td>\n",
       "      <td>0.320959</td>\n",
       "      <td>0.284312</td>\n",
       "      <td>0.251859</td>\n",
       "      <td>0.281799</td>\n",
       "      <td>...</td>\n",
       "      <td>0.160721</td>\n",
       "      <td>0.177060</td>\n",
       "      <td>0.274408</td>\n",
       "      <td>0.291572</td>\n",
       "      <td>0.188265</td>\n",
       "      <td>0.210799</td>\n",
       "      <td>0.217548</td>\n",
       "      <td>0.180288</td>\n",
       "      <td>0.220620</td>\n",
       "      <td>0.127907</td>\n",
       "    </tr>\n",
       "    <tr>\n",
       "      <th>std</th>\n",
       "      <td>0.170186</td>\n",
       "      <td>0.141414</td>\n",
       "      <td>0.126396</td>\n",
       "      <td>0.110700</td>\n",
       "      <td>0.140989</td>\n",
       "      <td>0.158859</td>\n",
       "      <td>0.167108</td>\n",
       "      <td>0.187884</td>\n",
       "      <td>0.175389</td>\n",
       "      <td>0.192019</td>\n",
       "      <td>...</td>\n",
       "      <td>0.120221</td>\n",
       "      <td>0.137890</td>\n",
       "      <td>0.181620</td>\n",
       "      <td>0.214350</td>\n",
       "      <td>0.161405</td>\n",
       "      <td>0.146809</td>\n",
       "      <td>0.161500</td>\n",
       "      <td>0.146432</td>\n",
       "      <td>0.171531</td>\n",
       "      <td>0.117186</td>\n",
       "    </tr>\n",
       "    <tr>\n",
       "      <th>min</th>\n",
       "      <td>0.000000</td>\n",
       "      <td>0.000000</td>\n",
       "      <td>0.000000</td>\n",
       "      <td>0.000000</td>\n",
       "      <td>0.000000</td>\n",
       "      <td>0.000000</td>\n",
       "      <td>0.000000</td>\n",
       "      <td>0.000000</td>\n",
       "      <td>0.000000</td>\n",
       "      <td>0.000000</td>\n",
       "      <td>...</td>\n",
       "      <td>0.000000</td>\n",
       "      <td>0.000000</td>\n",
       "      <td>0.000000</td>\n",
       "      <td>0.000000</td>\n",
       "      <td>0.000000</td>\n",
       "      <td>0.000000</td>\n",
       "      <td>0.000000</td>\n",
       "      <td>0.000000</td>\n",
       "      <td>0.000000</td>\n",
       "      <td>0.000000</td>\n",
       "    </tr>\n",
       "    <tr>\n",
       "      <th>25%</th>\n",
       "      <td>0.081481</td>\n",
       "      <td>0.064378</td>\n",
       "      <td>0.055921</td>\n",
       "      <td>0.042857</td>\n",
       "      <td>0.078046</td>\n",
       "      <td>0.153226</td>\n",
       "      <td>0.210135</td>\n",
       "      <td>0.163355</td>\n",
       "      <td>0.131481</td>\n",
       "      <td>0.142857</td>\n",
       "      <td>...</td>\n",
       "      <td>0.080000</td>\n",
       "      <td>0.085714</td>\n",
       "      <td>0.128205</td>\n",
       "      <td>0.117647</td>\n",
       "      <td>0.068182</td>\n",
       "      <td>0.102564</td>\n",
       "      <td>0.111111</td>\n",
       "      <td>0.090909</td>\n",
       "      <td>0.111111</td>\n",
       "      <td>0.046512</td>\n",
       "    </tr>\n",
       "    <tr>\n",
       "      <th>50%</th>\n",
       "      <td>0.155556</td>\n",
       "      <td>0.128755</td>\n",
       "      <td>0.105263</td>\n",
       "      <td>0.090476</td>\n",
       "      <td>0.140863</td>\n",
       "      <td>0.220430</td>\n",
       "      <td>0.281081</td>\n",
       "      <td>0.233996</td>\n",
       "      <td>0.213333</td>\n",
       "      <td>0.245000</td>\n",
       "      <td>...</td>\n",
       "      <td>0.140000</td>\n",
       "      <td>0.150000</td>\n",
       "      <td>0.256410</td>\n",
       "      <td>0.235294</td>\n",
       "      <td>0.159091</td>\n",
       "      <td>0.179487</td>\n",
       "      <td>0.166667</td>\n",
       "      <td>0.136364</td>\n",
       "      <td>0.166667</td>\n",
       "      <td>0.093023</td>\n",
       "    </tr>\n",
       "    <tr>\n",
       "      <th>75%</th>\n",
       "      <td>0.246296</td>\n",
       "      <td>0.201717</td>\n",
       "      <td>0.185033</td>\n",
       "      <td>0.138690</td>\n",
       "      <td>0.237944</td>\n",
       "      <td>0.333333</td>\n",
       "      <td>0.408108</td>\n",
       "      <td>0.360375</td>\n",
       "      <td>0.334074</td>\n",
       "      <td>0.367857</td>\n",
       "      <td>...</td>\n",
       "      <td>0.210000</td>\n",
       "      <td>0.228571</td>\n",
       "      <td>0.384615</td>\n",
       "      <td>0.382353</td>\n",
       "      <td>0.250000</td>\n",
       "      <td>0.262821</td>\n",
       "      <td>0.277778</td>\n",
       "      <td>0.227273</td>\n",
       "      <td>0.277778</td>\n",
       "      <td>0.168605</td>\n",
       "    </tr>\n",
       "    <tr>\n",
       "      <th>max</th>\n",
       "      <td>1.000000</td>\n",
       "      <td>1.000000</td>\n",
       "      <td>1.000000</td>\n",
       "      <td>1.000000</td>\n",
       "      <td>1.000000</td>\n",
       "      <td>1.000000</td>\n",
       "      <td>1.000000</td>\n",
       "      <td>1.000000</td>\n",
       "      <td>1.000000</td>\n",
       "      <td>1.000000</td>\n",
       "      <td>...</td>\n",
       "      <td>1.000000</td>\n",
       "      <td>1.000000</td>\n",
       "      <td>1.000000</td>\n",
       "      <td>1.000000</td>\n",
       "      <td>1.000000</td>\n",
       "      <td>1.000000</td>\n",
       "      <td>1.000000</td>\n",
       "      <td>1.000000</td>\n",
       "      <td>1.000000</td>\n",
       "      <td>1.000000</td>\n",
       "    </tr>\n",
       "  </tbody>\n",
       "</table>\n",
       "<p>8 rows × 60 columns</p>\n",
       "</div>\n",
       "      <button class=\"colab-df-convert\" onclick=\"convertToInteractive('df-a27d8db8-547a-4b81-bee8-574609323223')\"\n",
       "              title=\"Convert this dataframe to an interactive table.\"\n",
       "              style=\"display:none;\">\n",
       "        \n",
       "  <svg xmlns=\"http://www.w3.org/2000/svg\" height=\"24px\"viewBox=\"0 0 24 24\"\n",
       "       width=\"24px\">\n",
       "    <path d=\"M0 0h24v24H0V0z\" fill=\"none\"/>\n",
       "    <path d=\"M18.56 5.44l.94 2.06.94-2.06 2.06-.94-2.06-.94-.94-2.06-.94 2.06-2.06.94zm-11 1L8.5 8.5l.94-2.06 2.06-.94-2.06-.94L8.5 2.5l-.94 2.06-2.06.94zm10 10l.94 2.06.94-2.06 2.06-.94-2.06-.94-.94-2.06-.94 2.06-2.06.94z\"/><path d=\"M17.41 7.96l-1.37-1.37c-.4-.4-.92-.59-1.43-.59-.52 0-1.04.2-1.43.59L10.3 9.45l-7.72 7.72c-.78.78-.78 2.05 0 2.83L4 21.41c.39.39.9.59 1.41.59.51 0 1.02-.2 1.41-.59l7.78-7.78 2.81-2.81c.8-.78.8-2.07 0-2.86zM5.41 20L4 18.59l7.72-7.72 1.47 1.35L5.41 20z\"/>\n",
       "  </svg>\n",
       "      </button>\n",
       "      \n",
       "  <style>\n",
       "    .colab-df-container {\n",
       "      display:flex;\n",
       "      flex-wrap:wrap;\n",
       "      gap: 12px;\n",
       "    }\n",
       "\n",
       "    .colab-df-convert {\n",
       "      background-color: #E8F0FE;\n",
       "      border: none;\n",
       "      border-radius: 50%;\n",
       "      cursor: pointer;\n",
       "      display: none;\n",
       "      fill: #1967D2;\n",
       "      height: 32px;\n",
       "      padding: 0 0 0 0;\n",
       "      width: 32px;\n",
       "    }\n",
       "\n",
       "    .colab-df-convert:hover {\n",
       "      background-color: #E2EBFA;\n",
       "      box-shadow: 0px 1px 2px rgba(60, 64, 67, 0.3), 0px 1px 3px 1px rgba(60, 64, 67, 0.15);\n",
       "      fill: #174EA6;\n",
       "    }\n",
       "\n",
       "    [theme=dark] .colab-df-convert {\n",
       "      background-color: #3B4455;\n",
       "      fill: #D2E3FC;\n",
       "    }\n",
       "\n",
       "    [theme=dark] .colab-df-convert:hover {\n",
       "      background-color: #434B5C;\n",
       "      box-shadow: 0px 1px 3px 1px rgba(0, 0, 0, 0.15);\n",
       "      filter: drop-shadow(0px 1px 2px rgba(0, 0, 0, 0.3));\n",
       "      fill: #FFFFFF;\n",
       "    }\n",
       "  </style>\n",
       "\n",
       "      <script>\n",
       "        const buttonEl =\n",
       "          document.querySelector('#df-a27d8db8-547a-4b81-bee8-574609323223 button.colab-df-convert');\n",
       "        buttonEl.style.display =\n",
       "          google.colab.kernel.accessAllowed ? 'block' : 'none';\n",
       "\n",
       "        async function convertToInteractive(key) {\n",
       "          const element = document.querySelector('#df-a27d8db8-547a-4b81-bee8-574609323223');\n",
       "          const dataTable =\n",
       "            await google.colab.kernel.invokeFunction('convertToInteractive',\n",
       "                                                     [key], {});\n",
       "          if (!dataTable) return;\n",
       "\n",
       "          const docLinkHtml = 'Like what you see? Visit the ' +\n",
       "            '<a target=\"_blank\" href=https://colab.research.google.com/notebooks/data_table.ipynb>data table notebook</a>'\n",
       "            + ' to learn more about interactive tables.';\n",
       "          element.innerHTML = '';\n",
       "          dataTable['output_type'] = 'display_data';\n",
       "          await google.colab.output.renderOutput(dataTable, element);\n",
       "          const docLink = document.createElement('div');\n",
       "          docLink.innerHTML = docLinkHtml;\n",
       "          element.appendChild(docLink);\n",
       "        }\n",
       "      </script>\n",
       "    </div>\n",
       "  </div>\n",
       "  "
      ],
      "text/plain": [
       "            Band1       Band2       Band3       Band4       Band5       Band6  \\\n",
       "count  208.000000  208.000000  208.000000  208.000000  208.000000  208.000000   \n",
       "mean     0.201282    0.160635    0.137731    0.114022    0.173175    0.254226   \n",
       "std      0.170186    0.141414    0.126396    0.110700    0.140989    0.158859   \n",
       "min      0.000000    0.000000    0.000000    0.000000    0.000000    0.000000   \n",
       "25%      0.081481    0.064378    0.055921    0.042857    0.078046    0.153226   \n",
       "50%      0.155556    0.128755    0.105263    0.090476    0.140863    0.220430   \n",
       "75%      0.246296    0.201717    0.185033    0.138690    0.237944    0.333333   \n",
       "max      1.000000    1.000000    1.000000    1.000000    1.000000    1.000000   \n",
       "\n",
       "            Band7       Band8       Band9      Band10  ...      Band51  \\\n",
       "count  208.000000  208.000000  208.000000  208.000000  ...  208.000000   \n",
       "mean     0.320959    0.284312    0.251859    0.281799  ...    0.160721   \n",
       "std      0.167108    0.187884    0.175389    0.192019  ...    0.120221   \n",
       "min      0.000000    0.000000    0.000000    0.000000  ...    0.000000   \n",
       "25%      0.210135    0.163355    0.131481    0.142857  ...    0.080000   \n",
       "50%      0.281081    0.233996    0.213333    0.245000  ...    0.140000   \n",
       "75%      0.408108    0.360375    0.334074    0.367857  ...    0.210000   \n",
       "max      1.000000    1.000000    1.000000    1.000000  ...    1.000000   \n",
       "\n",
       "           Band52      Band53      Band54      Band55      Band56      Band57  \\\n",
       "count  208.000000  208.000000  208.000000  208.000000  208.000000  208.000000   \n",
       "mean     0.177060    0.274408    0.291572    0.188265    0.210799    0.217548   \n",
       "std      0.137890    0.181620    0.214350    0.161405    0.146809    0.161500   \n",
       "min      0.000000    0.000000    0.000000    0.000000    0.000000    0.000000   \n",
       "25%      0.085714    0.128205    0.117647    0.068182    0.102564    0.111111   \n",
       "50%      0.150000    0.256410    0.235294    0.159091    0.179487    0.166667   \n",
       "75%      0.228571    0.384615    0.382353    0.250000    0.262821    0.277778   \n",
       "max      1.000000    1.000000    1.000000    1.000000    1.000000    1.000000   \n",
       "\n",
       "           Band58      Band59      Band60  \n",
       "count  208.000000  208.000000  208.000000  \n",
       "mean     0.180288    0.220620    0.127907  \n",
       "std      0.146432    0.171531    0.117186  \n",
       "min      0.000000    0.000000    0.000000  \n",
       "25%      0.090909    0.111111    0.046512  \n",
       "50%      0.136364    0.166667    0.093023  \n",
       "75%      0.227273    0.277778    0.168605  \n",
       "max      1.000000    1.000000    1.000000  \n",
       "\n",
       "[8 rows x 60 columns]"
      ]
     },
     "execution_count": 25,
     "metadata": {},
     "output_type": "execute_result"
    }
   ],
   "source": [
    "X_norm.describe()"
   ]
  },
  {
   "cell_type": "markdown",
   "metadata": {
    "id": "yjSBme42ud-s"
   },
   "source": [
    "Una vez realizado este preprocesamiento de datos, vamos aplicar el algoritmo K-Means para agrupar los datos:"
   ]
  },
  {
   "cell_type": "markdown",
   "metadata": {
    "id": "nqUi112l0uCI"
   },
   "source": [
    "### Aplicando el algoritmo K-Means"
   ]
  },
  {
   "cell_type": "code",
   "execution_count": 26,
   "metadata": {
    "id": "Ie-phbmhuqGm"
   },
   "outputs": [],
   "source": [
    "from sklearn.cluster import KMeans # Algoritmo KMeans"
   ]
  },
  {
   "cell_type": "code",
   "execution_count": 27,
   "metadata": {
    "colab": {
     "base_uri": "https://localhost:8080/",
     "height": 168
    },
    "id": "3seD7MoMu5wm",
    "outputId": "d6515a11-4acb-4be7-c82e-2c7cb707aba7"
   },
   "outputs": [
    {
     "name": "stderr",
     "output_type": "stream",
     "text": [
      "/usr/local/lib/python3.9/dist-packages/sklearn/cluster/_kmeans.py:870: FutureWarning: The default value of `n_init` will change from 10 to 'auto' in 1.4. Set the value of `n_init` explicitly to suppress the warning\n",
      "  warnings.warn(\n",
      "/usr/local/lib/python3.9/dist-packages/sklearn/cluster/_kmeans.py:870: FutureWarning: The default value of `n_init` will change from 10 to 'auto' in 1.4. Set the value of `n_init` explicitly to suppress the warning\n",
      "  warnings.warn(\n"
     ]
    },
    {
     "data": {
      "text/html": [
       "<style>#sk-container-id-1 {color: black;background-color: white;}#sk-container-id-1 pre{padding: 0;}#sk-container-id-1 div.sk-toggleable {background-color: white;}#sk-container-id-1 label.sk-toggleable__label {cursor: pointer;display: block;width: 100%;margin-bottom: 0;padding: 0.3em;box-sizing: border-box;text-align: center;}#sk-container-id-1 label.sk-toggleable__label-arrow:before {content: \"▸\";float: left;margin-right: 0.25em;color: #696969;}#sk-container-id-1 label.sk-toggleable__label-arrow:hover:before {color: black;}#sk-container-id-1 div.sk-estimator:hover label.sk-toggleable__label-arrow:before {color: black;}#sk-container-id-1 div.sk-toggleable__content {max-height: 0;max-width: 0;overflow: hidden;text-align: left;background-color: #f0f8ff;}#sk-container-id-1 div.sk-toggleable__content pre {margin: 0.2em;color: black;border-radius: 0.25em;background-color: #f0f8ff;}#sk-container-id-1 input.sk-toggleable__control:checked~div.sk-toggleable__content {max-height: 200px;max-width: 100%;overflow: auto;}#sk-container-id-1 input.sk-toggleable__control:checked~label.sk-toggleable__label-arrow:before {content: \"▾\";}#sk-container-id-1 div.sk-estimator input.sk-toggleable__control:checked~label.sk-toggleable__label {background-color: #d4ebff;}#sk-container-id-1 div.sk-label input.sk-toggleable__control:checked~label.sk-toggleable__label {background-color: #d4ebff;}#sk-container-id-1 input.sk-hidden--visually {border: 0;clip: rect(1px 1px 1px 1px);clip: rect(1px, 1px, 1px, 1px);height: 1px;margin: -1px;overflow: hidden;padding: 0;position: absolute;width: 1px;}#sk-container-id-1 div.sk-estimator {font-family: monospace;background-color: #f0f8ff;border: 1px dotted black;border-radius: 0.25em;box-sizing: border-box;margin-bottom: 0.5em;}#sk-container-id-1 div.sk-estimator:hover {background-color: #d4ebff;}#sk-container-id-1 div.sk-parallel-item::after {content: \"\";width: 100%;border-bottom: 1px solid gray;flex-grow: 1;}#sk-container-id-1 div.sk-label:hover label.sk-toggleable__label {background-color: #d4ebff;}#sk-container-id-1 div.sk-serial::before {content: \"\";position: absolute;border-left: 1px solid gray;box-sizing: border-box;top: 0;bottom: 0;left: 50%;z-index: 0;}#sk-container-id-1 div.sk-serial {display: flex;flex-direction: column;align-items: center;background-color: white;padding-right: 0.2em;padding-left: 0.2em;position: relative;}#sk-container-id-1 div.sk-item {position: relative;z-index: 1;}#sk-container-id-1 div.sk-parallel {display: flex;align-items: stretch;justify-content: center;background-color: white;position: relative;}#sk-container-id-1 div.sk-item::before, #sk-container-id-1 div.sk-parallel-item::before {content: \"\";position: absolute;border-left: 1px solid gray;box-sizing: border-box;top: 0;bottom: 0;left: 50%;z-index: -1;}#sk-container-id-1 div.sk-parallel-item {display: flex;flex-direction: column;z-index: 1;position: relative;background-color: white;}#sk-container-id-1 div.sk-parallel-item:first-child::after {align-self: flex-end;width: 50%;}#sk-container-id-1 div.sk-parallel-item:last-child::after {align-self: flex-start;width: 50%;}#sk-container-id-1 div.sk-parallel-item:only-child::after {width: 0;}#sk-container-id-1 div.sk-dashed-wrapped {border: 1px dashed gray;margin: 0 0.4em 0.5em 0.4em;box-sizing: border-box;padding-bottom: 0.4em;background-color: white;}#sk-container-id-1 div.sk-label label {font-family: monospace;font-weight: bold;display: inline-block;line-height: 1.2em;}#sk-container-id-1 div.sk-label-container {text-align: center;}#sk-container-id-1 div.sk-container {/* jupyter's `normalize.less` sets `[hidden] { display: none; }` but bootstrap.min.css set `[hidden] { display: none !important; }` so we also need the `!important` here to be able to override the default hidden behavior on the sphinx rendered scikit-learn.org. See: https://github.com/scikit-learn/scikit-learn/issues/21755 */display: inline-block !important;position: relative;}#sk-container-id-1 div.sk-text-repr-fallback {display: none;}</style><div id=\"sk-container-id-1\" class=\"sk-top-container\"><div class=\"sk-text-repr-fallback\"><pre>KMeans(max_iter=5000, n_clusters=2, random_state=17)</pre><b>In a Jupyter environment, please rerun this cell to show the HTML representation or trust the notebook. <br />On GitHub, the HTML representation is unable to render, please try loading this page with nbviewer.org.</b></div><div class=\"sk-container\" hidden><div class=\"sk-item\"><div class=\"sk-estimator sk-toggleable\"><input class=\"sk-toggleable__control sk-hidden--visually\" id=\"sk-estimator-id-1\" type=\"checkbox\" checked><label for=\"sk-estimator-id-1\" class=\"sk-toggleable__label sk-toggleable__label-arrow\">KMeans</label><div class=\"sk-toggleable__content\"><pre>KMeans(max_iter=5000, n_clusters=2, random_state=17)</pre></div></div></div></div></div>"
      ],
      "text/plain": [
       "KMeans(max_iter=5000, n_clusters=2, random_state=17)"
      ]
     },
     "execution_count": 27,
     "metadata": {},
     "output_type": "execute_result"
    }
   ],
   "source": [
    "Numero_Clusters = 2\n",
    "error = 1e-4\n",
    "max_iteraciones = 5000\n",
    "\n",
    "Modelo_Kmeans_X = KMeans(n_clusters = Numero_Clusters, max_iter = max_iteraciones, \n",
    "                       tol = error,random_state = 17)\n",
    "Modelo_Kmeans_Xnorm = KMeans(n_clusters = Numero_Clusters, max_iter = max_iteraciones, \n",
    "                       tol = error,random_state = 17)\n",
    "Modelo_Kmeans_X.fit(X) # Experimento 1: Agrupar con los datos originales\n",
    "Modelo_Kmeans_Xnorm.fit(X_norm) # Experimento 2: Agrupar con los datos normalizados"
   ]
  },
  {
   "cell_type": "markdown",
   "metadata": {
    "id": "dxXoqrY-wKKA"
   },
   "source": [
    "Como pueden observar, usamos los datos originales y los datos normalizados para obtener dos modelos de agrupamiento de datos. Es importante aclarar que usamos 2 clusters debido a que la variable *Type* tiene dos clases, M y R, y por consiguiente, sabiamos con antelación el número apropiado de clusters (Ojo, no todas las veces se puede hacer esto puesto que hay bases de datos que NO tenemos la información del número óptimo de clusters, pero eso lo veremos con otro ejemplo)."
   ]
  },
  {
   "cell_type": "code",
   "execution_count": 28,
   "metadata": {
    "colab": {
     "base_uri": "https://localhost:8080/"
    },
    "id": "jHdBAUy2wvT0",
    "outputId": "061c39d7-3ba8-48dc-bc8d-bdb74a436b5a"
   },
   "outputs": [
    {
     "data": {
      "text/plain": [
       "[' R', ' R', ' R', ' R', ' R', ..., ' M', ' M', ' M', ' M', ' M']\n",
       "Length: 208\n",
       "Categories (2, object): [' M', ' R']"
      ]
     },
     "execution_count": 28,
     "metadata": {},
     "output_type": "execute_result"
    }
   ],
   "source": [
    "pd.Categorical(Y)"
   ]
  },
  {
   "cell_type": "markdown",
   "metadata": {
    "id": "XBGcgESqxIYg"
   },
   "source": [
    "Considerando esta aclaración, vamos a extraer los vectores de clases de cada modelo:"
   ]
  },
  {
   "cell_type": "code",
   "execution_count": 29,
   "metadata": {
    "id": "XdYgAf-ewIqs"
   },
   "outputs": [],
   "source": [
    "Clases_X = Modelo_Kmeans_X.labels_\n",
    "Clases_Xnorm = Modelo_Kmeans_Xnorm.labels_"
   ]
  },
  {
   "cell_type": "code",
   "execution_count": 30,
   "metadata": {
    "colab": {
     "base_uri": "https://localhost:8080/"
    },
    "id": "vub8Uio7xbO6",
    "outputId": "20fb8558-f3fd-4818-c93a-233e4722d46d"
   },
   "outputs": [
    {
     "data": {
      "text/plain": [
       "array([0, 1, 1, 0, 1, 1, 1, 1, 1, 0, 0, 1, 1, 0, 0, 0, 0, 1, 0, 1, 0, 0,\n",
       "       0, 0, 0, 0, 1, 1, 1, 1, 0, 1, 1, 1, 1, 1, 0, 0, 0, 0, 0, 0, 0, 0,\n",
       "       0, 1, 1, 0, 0, 0, 0, 0, 1, 0, 0, 0, 0, 0, 0, 0, 0, 0, 0, 0, 0, 0,\n",
       "       0, 0, 0, 0, 0, 0, 0, 0, 1, 1, 1, 1, 1, 1, 1, 1, 1, 1, 1, 1, 1, 1,\n",
       "       1, 1, 1, 0, 0, 0, 0, 0, 0, 0, 0, 0, 1, 1, 1, 1, 1, 1, 1, 1, 1, 1,\n",
       "       1, 1, 1, 1, 1, 1, 1, 1, 1, 1, 1, 1, 1, 1, 1, 1, 1, 1, 1, 1, 1, 0,\n",
       "       0, 0, 0, 0, 0, 1, 0, 0, 0, 0, 0, 0, 0, 0, 0, 1, 1, 1, 1, 1, 1, 1,\n",
       "       1, 1, 0, 0, 0, 0, 0, 0, 0, 1, 0, 1, 0, 0, 0, 0, 0, 1, 0, 1, 1, 1,\n",
       "       1, 0, 0, 0, 1, 0, 0, 0, 1, 1, 0, 0, 0, 0, 0, 0, 0, 0, 0, 1, 1, 1,\n",
       "       1, 1, 1, 1, 0, 0, 0, 0, 0, 0], dtype=int32)"
      ]
     },
     "execution_count": 30,
     "metadata": {},
     "output_type": "execute_result"
    }
   ],
   "source": [
    "Clases_X"
   ]
  },
  {
   "cell_type": "code",
   "execution_count": 31,
   "metadata": {
    "colab": {
     "base_uri": "https://localhost:8080/"
    },
    "id": "lRQ86sp0xeG4",
    "outputId": "9f298c1b-7303-48e0-b8d6-8b35d7b8702d"
   },
   "outputs": [
    {
     "data": {
      "text/plain": [
       "array([0, 1, 1, 0, 1, 1, 1, 1, 1, 0, 0, 0, 1, 0, 0, 0, 0, 1, 0, 1, 1, 0,\n",
       "       0, 0, 0, 0, 1, 1, 1, 1, 0, 1, 1, 1, 1, 1, 0, 0, 0, 0, 0, 0, 0, 0,\n",
       "       0, 1, 1, 0, 0, 0, 0, 0, 0, 0, 0, 0, 0, 0, 0, 0, 0, 0, 0, 0, 0, 0,\n",
       "       0, 0, 0, 0, 0, 0, 0, 0, 1, 1, 1, 1, 1, 1, 1, 1, 1, 1, 1, 1, 1, 1,\n",
       "       1, 1, 1, 0, 0, 0, 0, 0, 0, 0, 1, 0, 1, 1, 1, 1, 1, 1, 1, 1, 1, 1,\n",
       "       1, 1, 1, 1, 1, 1, 1, 1, 1, 1, 1, 1, 1, 1, 1, 1, 1, 1, 1, 1, 1, 0,\n",
       "       0, 0, 0, 0, 0, 1, 0, 0, 0, 0, 0, 0, 0, 0, 0, 1, 1, 1, 1, 1, 1, 1,\n",
       "       1, 1, 0, 0, 0, 0, 0, 0, 0, 1, 0, 1, 0, 0, 0, 0, 0, 1, 0, 1, 1, 1,\n",
       "       1, 0, 0, 0, 1, 0, 0, 0, 1, 1, 0, 0, 0, 0, 0, 0, 0, 0, 0, 1, 1, 1,\n",
       "       1, 1, 1, 1, 0, 0, 0, 0, 0, 0], dtype=int32)"
      ]
     },
     "execution_count": 31,
     "metadata": {},
     "output_type": "execute_result"
    }
   ],
   "source": [
    "Clases_Xnorm"
   ]
  },
  {
   "cell_type": "markdown",
   "metadata": {
    "id": "1LjwoJ4Vxkk-"
   },
   "source": [
    "También se puede extraer la matriz de centros de los 2 clusters:"
   ]
  },
  {
   "cell_type": "code",
   "execution_count": 32,
   "metadata": {
    "id": "1IGnFZ6Ixutc"
   },
   "outputs": [],
   "source": [
    "centros_X = Modelo_Kmeans_X.cluster_centers_\n",
    "centros_Xnorm = Modelo_Kmeans_Xnorm.cluster_centers_"
   ]
  },
  {
   "cell_type": "code",
   "execution_count": 33,
   "metadata": {
    "colab": {
     "base_uri": "https://localhost:8080/"
    },
    "id": "hbfMWFWIx3b5",
    "outputId": "f95a899f-3c8d-45c6-fdfe-e588598da36c"
   },
   "outputs": [
    {
     "data": {
      "text/plain": [
       "(2, 60)"
      ]
     },
     "execution_count": 33,
     "metadata": {},
     "output_type": "execute_result"
    }
   ],
   "source": [
    "centros_X.shape"
   ]
  },
  {
   "cell_type": "code",
   "execution_count": 34,
   "metadata": {
    "colab": {
     "base_uri": "https://localhost:8080/"
    },
    "id": "YVBEXKCTx_Rg",
    "outputId": "ab5e48c3-755e-407a-9b2c-e3c06de1382c"
   },
   "outputs": [
    {
     "data": {
      "text/plain": [
       "(2, 60)"
      ]
     },
     "execution_count": 34,
     "metadata": {},
     "output_type": "execute_result"
    }
   ],
   "source": [
    "centros_Xnorm.shape"
   ]
  },
  {
   "cell_type": "markdown",
   "metadata": {
    "id": "WhAjCYSDyB1-"
   },
   "source": [
    "Este tamaño de la matriz de centros representa 2 clusters por 60 columnas o características de la base de datos."
   ]
  },
  {
   "cell_type": "markdown",
   "metadata": {
    "id": "ZqfzlBqpyLkG"
   },
   "source": [
    "A partir de los vectores de clases y las matrices de centros o centroides, vamos a realizar una representación visual del agrupamiento de datos:"
   ]
  },
  {
   "cell_type": "code",
   "execution_count": 35,
   "metadata": {
    "colab": {
     "base_uri": "https://localhost:8080/",
     "height": 350
    },
    "id": "rjXMfbwoybjA",
    "outputId": "721d973c-228b-4173-c8d3-bbdff86bbe43"
   },
   "outputs": [
    {
     "data": {
      "image/png": "[encoded data removed]",
      "text/plain": [
       "<Figure size 360x360 with 1 Axes>"
      ]
     },
     "metadata": {
      "needs_background": "light"
     },
     "output_type": "display_data"
    }
   ],
   "source": [
    "# Experimento 1:\n",
    "\n",
    "x_1 = X['Band1']\n",
    "x_2 = X[' Band2']\n",
    "colors = [\"b\", \"orange\"]\n",
    "fig = plt.figure(figsize = (5,5))\n",
    "\n",
    "for j in range(Numero_Clusters):\n",
    "    plt.plot(x_1[Clases_X == j], x_2[Clases_X == j], '.', color = colors[j])\n",
    "\n",
    "for pt in centros_X:\n",
    "    plt.plot(pt[0],pt[1],'rs') # r = rojo; s = square\n",
    "\n",
    "plt.xlabel(\"Band1\")\n",
    "plt.ylabel(\"Band2\")\n",
    "plt.title(\"Agrupamiento de los datos con los datos originales\")\n",
    "plt.show()"
   ]
  },
  {
   "cell_type": "code",
   "execution_count": 36,
   "metadata": {
    "colab": {
     "base_uri": "https://localhost:8080/",
     "height": 350
    },
    "id": "DDvXlNV6z9SS",
    "outputId": "491de922-3466-43b7-8fa9-ff5209ffdbab"
   },
   "outputs": [
    {
     "data": {
      "image/png": "[encoded data removed]",
      "text/plain": [
       "<Figure size 360x360 with 1 Axes>"
      ]
     },
     "metadata": {
      "needs_background": "light"
     },
     "output_type": "display_data"
    }
   ],
   "source": [
    "# Experimento 2:\n",
    "\n",
    "x_1 = X_norm['Band1']\n",
    "x_2 = X_norm[' Band2']\n",
    "colors = [\"b\", \"orange\"]\n",
    "fig = plt.figure(figsize = (5,5))\n",
    "\n",
    "for j in range(Numero_Clusters):\n",
    "    plt.plot(x_1[Clases_Xnorm == j], x_2[Clases_Xnorm == j], '.', color = colors[j])\n",
    "\n",
    "for pt in centros_Xnorm:\n",
    "    plt.plot(pt[0],pt[1],'rs')\n",
    "\n",
    "plt.xlabel(\"Band1\")\n",
    "plt.ylabel(\"Band2\")\n",
    "plt.title(\"Agrupamiento de los datos con los datos normalizados\")\n",
    "plt.show()\n"
   ]
  },
  {
   "cell_type": "markdown",
   "metadata": {
    "id": "UC1QSes70aRq"
   },
   "source": [
    "Comparando ambos agrupamientos, se observan algunas pequeñas diferencias en la forma como agrupo los datos. No obstante, como conocemos el vector de clases original, $Y$, podemos hacer una comparación de los resultados:"
   ]
  },
  {
   "cell_type": "code",
   "execution_count": 37,
   "metadata": {
    "colab": {
     "base_uri": "https://localhost:8080/"
    },
    "id": "-PDe847f1Ffn",
    "outputId": "b48fa421-a831-4a08-96f6-cfeaa514bd53"
   },
   "outputs": [
    {
     "name": "stdout",
     "output_type": "stream",
     "text": [
      "[1 1 1 1 1 1 1 1 1 1 1 1 1 1 1 1 1 1 1 1 1 1 1 1 1 1 1 1 1 1 1 1 1 1 1 1 1\n",
      " 1 1 1 1 1 1 1 1 1 1 1 1 1 1 1 1 1 1 1 1 1 1 1 1 1 1 1 1 1 1 1 1 1 1 1 1 1\n",
      " 1 1 1 1 1 1 1 1 1 1 1 1 1 1 1 1 1 1 1 1 1 1 1 0 0 0 0 0 0 0 0 0 0 0 0 0 0\n",
      " 0 0 0 0 0 0 0 0 0 0 0 0 0 0 0 0 0 0 0 0 0 0 0 0 0 0 0 0 0 0 0 0 0 0 0 0 0\n",
      " 0 0 0 0 0 0 0 0 0 0 0 0 0 0 0 0 0 0 0 0 0 0 0 0 0 0 0 0 0 0 0 0 0 0 0 0 0\n",
      " 0 0 0 0 0 0 0 0 0 0 0 0 0 0 0 0 0 0 0 0 0 0 0]\n"
     ]
    }
   ],
   "source": [
    "from sklearn.preprocessing import LabelEncoder\n",
    "\n",
    "LE = LabelEncoder()\n",
    "LE.fit(Y)\n",
    "Y_codificado = LE.transform(Y)\n",
    "print(Y_codificado)"
   ]
  },
  {
   "cell_type": "code",
   "execution_count": 38,
   "metadata": {
    "colab": {
     "base_uri": "https://localhost:8080/",
     "height": 302
    },
    "id": "GEwplKmS4KI3",
    "outputId": "6e31d229-f08b-414c-9f73-5e25fd4d58e3"
   },
   "outputs": [
    {
     "data": {
      "image/png": "[encoded data removed]",
      "text/plain": [
       "<Figure size 1800x1080 with 3 Axes>"
      ]
     },
     "metadata": {
      "needs_background": "light"
     },
     "output_type": "display_data"
    }
   ],
   "source": [
    "matplotlib.rcParams.update({'font.size': 18, 'font.family': 'STIXGeneral', 'mathtext.fontset': 'stix'})\n",
    "\n",
    "fig = plt.figure(figsize=(25,15)) # Se define el tamaño de la figura en ancho y altura    \n",
    "    \n",
    "ax = fig.add_subplot(3, 3, 1)\n",
    "x_1 = X['Band1']\n",
    "x_2 = X[' Band2']\n",
    "for j in range(Numero_Clusters):\n",
    "    plt.plot(x_1[Y_codificado == j], x_2[Y_codificado == j], '.', color = colors[j])\n",
    "plt.xlabel(\"Band1\")\n",
    "plt.ylabel(\"Band2\")\n",
    "plt.title(\"Agrupamiento Original\")\n",
    "\n",
    "ax = fig.add_subplot(3, 3, 2)\n",
    "x_1 = X['Band1']\n",
    "x_2 = X[' Band2']\n",
    "for j in range(Numero_Clusters):\n",
    "    plt.plot(x_1[Clases_X == j], x_2[Clases_X == j], '.', color = colors[j])\n",
    "plt.xlabel(\"Band1\")\n",
    "plt.ylabel(\"Band2\")\n",
    "plt.title(\"Agrupamiento con Kmeans\")\n",
    "\n",
    "ax = fig.add_subplot(3, 3, 3)\n",
    "x_1_N = X_norm['Band1']\n",
    "x_2_N = X_norm[' Band2']\n",
    "for j in range(Numero_Clusters):\n",
    "    plt.plot(x_1_N[Clases_Xnorm == j], x_2_N[Clases_Xnorm == j], '.', color = colors[j])\n",
    "plt.xlabel(\"Band1\")\n",
    "plt.ylabel(\"Band2\")\n",
    "plt.title(\"Agrupamiento con Kmeans - Datos Normalizados\")\n",
    "plt.show()"
   ]
  },
  {
   "cell_type": "markdown",
   "metadata": {
    "id": "MSy-MrjDkFcp"
   },
   "source": [
    "Al comparar los espacios de características de cada caso, se puede establecer que es necesario usar una o más métricas de validación para validar el desempeño de los modelos generados. Considerando el escenario que estamos trabajando y conociendo el vector de clases original, se puede aplicar **los índices de validación de clusters externas**. Veamos como se utilizan para este caso:"
   ]
  },
  {
   "cell_type": "markdown",
   "metadata": {
    "id": "pRokGLsAkn7I"
   },
   "source": [
    "### Índices de Validación de Clusters Externos"
   ]
  },
  {
   "cell_type": "markdown",
   "metadata": {
    "id": "OvJcjC8GkvmR"
   },
   "source": [
    "**Índice Rand:** mide la similitud entre dos pares de clusters y es igual a la proporción de coincidencia entre dos particiones de datos  o clusters."
   ]
  },
  {
   "cell_type": "code",
   "execution_count": 39,
   "metadata": {
    "id": "7pw0pRUCpvzM"
   },
   "outputs": [],
   "source": [
    "from sklearn.metrics import rand_score"
   ]
  },
  {
   "cell_type": "code",
   "execution_count": 40,
   "metadata": {
    "id": "tubL-BA2p3bY"
   },
   "outputs": [],
   "source": [
    "P1 = rand_score(Clases_X, Y_codificado)\n",
    "P2 = rand_score(Clases_Xnorm, Y_codificado)"
   ]
  },
  {
   "cell_type": "markdown",
   "metadata": {
    "id": "YzcB34Or0O_Q"
   },
   "source": [
    "**Índice Rand Ajustado:** es una mejora del índice Rand que asume una distribución de probabilidad hipergeométrica generalizada de dos particiones de datos generados por un modelo de agrupamiento. Mientras que el indice Rand selecciona de forma ordenada las particiones, este índice selecciona las particiones de forma aleatoria."
   ]
  },
  {
   "cell_type": "code",
   "execution_count": 41,
   "metadata": {
    "id": "Tz6sGXtUo8mP"
   },
   "outputs": [],
   "source": [
    "from sklearn.metrics import adjusted_rand_score"
   ]
  },
  {
   "cell_type": "code",
   "execution_count": 42,
   "metadata": {
    "id": "3T4UXjGTo_VE"
   },
   "outputs": [],
   "source": [
    "P3 = adjusted_rand_score(Clases_X, Y_codificado)\n",
    "P4 = adjusted_rand_score(Clases_Xnorm, Y_codificado)"
   ]
  },
  {
   "cell_type": "markdown",
   "metadata": {
    "id": "E2SpcrSk1wIZ"
   },
   "source": [
    "**Métrica V:** es la normalización de la métrica de información mutua, el cual es un promedio entre la medida de exhaustividad y homogenidad de los clusters. Esta métrica es útil para determinar si el agrupamiento de datos contiene una cantidad de información que establezca si la incertidumbre de la etiquetación de los datos es alta o baja."
   ]
  },
  {
   "cell_type": "code",
   "execution_count": 43,
   "metadata": {
    "id": "BN1uVVRIpfdc"
   },
   "outputs": [],
   "source": [
    "from sklearn.metrics.cluster import v_measure_score"
   ]
  },
  {
   "cell_type": "code",
   "execution_count": 44,
   "metadata": {
    "id": "2v-I297Nplc1"
   },
   "outputs": [],
   "source": [
    "P5 = v_measure_score(Clases_X, Y_codificado)\n",
    "P6 = v_measure_score(Clases_Xnorm, Y_codificado)"
   ]
  },
  {
   "cell_type": "markdown",
   "metadata": {
    "id": "V8A8dDqK4KrT"
   },
   "source": [
    "**Índice de Fowlkes-Mallows** es una métrica que evalua la similitud entre dos clusters, a partir del cálculo de la raíz cuadrada del producto entre la tasa de verdaderos positivos (vector de clases original) y la tasa de positivos predichos por el modelo de agrupamiento. En otras palabras, este índice permite establecer la sensibilidad y la presición del modelo de agrupamiento a partir de un vector de clases conocida."
   ]
  },
  {
   "cell_type": "code",
   "execution_count": 45,
   "metadata": {
    "id": "P-Wo78gQpsNn"
   },
   "outputs": [],
   "source": [
    "from sklearn.metrics.cluster import fowlkes_mallows_score"
   ]
  },
  {
   "cell_type": "code",
   "execution_count": 46,
   "metadata": {
    "id": "zi0IRBgZqMGE"
   },
   "outputs": [],
   "source": [
    "P7 = fowlkes_mallows_score(Clases_X, Y_codificado)\n",
    "P8 = fowlkes_mallows_score(Clases_Xnorm, Y_codificado)"
   ]
  },
  {
   "cell_type": "markdown",
   "metadata": {
    "id": "OHxxW8c32FXi"
   },
   "source": [
    "**Métrica de la homogenidad:** mide la similitud de cada muestra de datos en un cluster o grupo, usando la métrica de entropía de Shannon para calcular la cantidad de información que aporta los datos a un cluster."
   ]
  },
  {
   "cell_type": "code",
   "execution_count": 47,
   "metadata": {
    "id": "mT3XPrFPqYKj"
   },
   "outputs": [],
   "source": [
    "from sklearn.metrics import homogeneity_score"
   ]
  },
  {
   "cell_type": "code",
   "execution_count": 48,
   "metadata": {
    "id": "0sMb-xO9qjci"
   },
   "outputs": [],
   "source": [
    "P9 = homogeneity_score(Clases_X, Y_codificado)\n",
    "P10 = homogeneity_score(Clases_Xnorm, Y_codificado)"
   ]
  },
  {
   "cell_type": "markdown",
   "metadata": {
    "id": "nl3Hy5Xg2cdc"
   },
   "source": [
    "**Métrica de la información mutua normalizada:** es una medida de la similitud entre dos clusters de los mismos datos, lo cual se mide mediante una medida de entropía."
   ]
  },
  {
   "cell_type": "code",
   "execution_count": 49,
   "metadata": {
    "id": "CXIS-hHHqt0z"
   },
   "outputs": [],
   "source": [
    "from sklearn.metrics import normalized_mutual_info_score"
   ]
  },
  {
   "cell_type": "code",
   "execution_count": 50,
   "metadata": {
    "id": "JR40-GcvqwQj"
   },
   "outputs": [],
   "source": [
    "P11 = normalized_mutual_info_score(Clases_X, Y_codificado)\n",
    "P12 = normalized_mutual_info_score(Clases_Xnorm, Y_codificado)"
   ]
  },
  {
   "cell_type": "code",
   "execution_count": 51,
   "metadata": {
    "colab": {
     "base_uri": "https://localhost:8080/",
     "height": 112
    },
    "id": "AVV9fmz4q7jr",
    "outputId": "6c284168-9180-4e71-983c-cc475708d5ec"
   },
   "outputs": [
    {
     "data": {
      "text/html": [
       "\n",
       "  <div id=\"df-908f1758-df55-4fa0-9da6-df8b9f872c3d\">\n",
       "    <div class=\"colab-df-container\">\n",
       "      <div>\n",
       "<style scoped>\n",
       "    .dataframe tbody tr th:only-of-type {\n",
       "        vertical-align: middle;\n",
       "    }\n",
       "\n",
       "    .dataframe tbody tr th {\n",
       "        vertical-align: top;\n",
       "    }\n",
       "\n",
       "    .dataframe thead th {\n",
       "        text-align: right;\n",
       "    }\n",
       "</style>\n",
       "<table border=\"1\" class=\"dataframe\">\n",
       "  <thead>\n",
       "    <tr style=\"text-align: right;\">\n",
       "      <th></th>\n",
       "      <th>Rand</th>\n",
       "      <th>Rand Adjusted</th>\n",
       "      <th>V_measure</th>\n",
       "      <th>FM</th>\n",
       "      <th>Homogeneity</th>\n",
       "      <th>Mutual_Info</th>\n",
       "    </tr>\n",
       "  </thead>\n",
       "  <tbody>\n",
       "    <tr>\n",
       "      <th>Datos Originales</th>\n",
       "      <td>0.503205</td>\n",
       "      <td>0.006410</td>\n",
       "      <td>0.008790</td>\n",
       "      <td>0.502766</td>\n",
       "      <td>0.008786</td>\n",
       "      <td>0.008790</td>\n",
       "    </tr>\n",
       "    <tr>\n",
       "      <th>Datos Normalizados</th>\n",
       "      <td>0.505435</td>\n",
       "      <td>0.010869</td>\n",
       "      <td>0.012155</td>\n",
       "      <td>0.504998</td>\n",
       "      <td>0.012149</td>\n",
       "      <td>0.012155</td>\n",
       "    </tr>\n",
       "  </tbody>\n",
       "</table>\n",
       "</div>\n",
       "      <button class=\"colab-df-convert\" onclick=\"convertToInteractive('df-908f1758-df55-4fa0-9da6-df8b9f872c3d')\"\n",
       "              title=\"Convert this dataframe to an interactive table.\"\n",
       "              style=\"display:none;\">\n",
       "        \n",
       "  <svg xmlns=\"http://www.w3.org/2000/svg\" height=\"24px\"viewBox=\"0 0 24 24\"\n",
       "       width=\"24px\">\n",
       "    <path d=\"M0 0h24v24H0V0z\" fill=\"none\"/>\n",
       "    <path d=\"M18.56 5.44l.94 2.06.94-2.06 2.06-.94-2.06-.94-.94-2.06-.94 2.06-2.06.94zm-11 1L8.5 8.5l.94-2.06 2.06-.94-2.06-.94L8.5 2.5l-.94 2.06-2.06.94zm10 10l.94 2.06.94-2.06 2.06-.94-2.06-.94-.94-2.06-.94 2.06-2.06.94z\"/><path d=\"M17.41 7.96l-1.37-1.37c-.4-.4-.92-.59-1.43-.59-.52 0-1.04.2-1.43.59L10.3 9.45l-7.72 7.72c-.78.78-.78 2.05 0 2.83L4 21.41c.39.39.9.59 1.41.59.51 0 1.02-.2 1.41-.59l7.78-7.78 2.81-2.81c.8-.78.8-2.07 0-2.86zM5.41 20L4 18.59l7.72-7.72 1.47 1.35L5.41 20z\"/>\n",
       "  </svg>\n",
       "      </button>\n",
       "      \n",
       "  <style>\n",
       "    .colab-df-container {\n",
       "      display:flex;\n",
       "      flex-wrap:wrap;\n",
       "      gap: 12px;\n",
       "    }\n",
       "\n",
       "    .colab-df-convert {\n",
       "      background-color: #E8F0FE;\n",
       "      border: none;\n",
       "      border-radius: 50%;\n",
       "      cursor: pointer;\n",
       "      display: none;\n",
       "      fill: #1967D2;\n",
       "      height: 32px;\n",
       "      padding: 0 0 0 0;\n",
       "      width: 32px;\n",
       "    }\n",
       "\n",
       "    .colab-df-convert:hover {\n",
       "      background-color: #E2EBFA;\n",
       "      box-shadow: 0px 1px 2px rgba(60, 64, 67, 0.3), 0px 1px 3px 1px rgba(60, 64, 67, 0.15);\n",
       "      fill: #174EA6;\n",
       "    }\n",
       "\n",
       "    [theme=dark] .colab-df-convert {\n",
       "      background-color: #3B4455;\n",
       "      fill: #D2E3FC;\n",
       "    }\n",
       "\n",
       "    [theme=dark] .colab-df-convert:hover {\n",
       "      background-color: #434B5C;\n",
       "      box-shadow: 0px 1px 3px 1px rgba(0, 0, 0, 0.15);\n",
       "      filter: drop-shadow(0px 1px 2px rgba(0, 0, 0, 0.3));\n",
       "      fill: #FFFFFF;\n",
       "    }\n",
       "  </style>\n",
       "\n",
       "      <script>\n",
       "        const buttonEl =\n",
       "          document.querySelector('#df-908f1758-df55-4fa0-9da6-df8b9f872c3d button.colab-df-convert');\n",
       "        buttonEl.style.display =\n",
       "          google.colab.kernel.accessAllowed ? 'block' : 'none';\n",
       "\n",
       "        async function convertToInteractive(key) {\n",
       "          const element = document.querySelector('#df-908f1758-df55-4fa0-9da6-df8b9f872c3d');\n",
       "          const dataTable =\n",
       "            await google.colab.kernel.invokeFunction('convertToInteractive',\n",
       "                                                     [key], {});\n",
       "          if (!dataTable) return;\n",
       "\n",
       "          const docLinkHtml = 'Like what you see? Visit the ' +\n",
       "            '<a target=\"_blank\" href=https://colab.research.google.com/notebooks/data_table.ipynb>data table notebook</a>'\n",
       "            + ' to learn more about interactive tables.';\n",
       "          element.innerHTML = '';\n",
       "          dataTable['output_type'] = 'display_data';\n",
       "          await google.colab.output.renderOutput(dataTable, element);\n",
       "          const docLink = document.createElement('div');\n",
       "          docLink.innerHTML = docLinkHtml;\n",
       "          element.appendChild(docLink);\n",
       "        }\n",
       "      </script>\n",
       "    </div>\n",
       "  </div>\n",
       "  "
      ],
      "text/plain": [
       "                        Rand  Rand Adjusted  V_measure        FM  Homogeneity  \\\n",
       "Datos Originales    0.503205       0.006410   0.008790  0.502766     0.008786   \n",
       "Datos Normalizados  0.505435       0.010869   0.012155  0.504998     0.012149   \n",
       "\n",
       "                    Mutual_Info  \n",
       "Datos Originales       0.008790  \n",
       "Datos Normalizados     0.012155  "
      ]
     },
     "metadata": {},
     "output_type": "display_data"
    }
   ],
   "source": [
    "Metricas = ['Rand', 'Rand Adjusted', 'V_measure', 'FM', 'Homogeneity', 'Mutual_Info']\n",
    "Valores = np.array([[P1,P3,P5,P7,P9,P11],[P2,P4,P6,P8,P10,P12]])\n",
    "Indices = ['Datos Originales', 'Datos Normalizados']\n",
    "Indices_Externos = pd.DataFrame(Valores, columns = Metricas, index = Indices)\n",
    "display(Indices_Externos)"
   ]
  },
  {
   "cell_type": "markdown",
   "metadata": {
    "id": "N9pFbU5-6P5Y"
   },
   "source": [
    "En esta tabla, la métrica rand y rand ajustado con los datos normalizados tienen un valor mayor con respecto a los datos originales, puesto que entre más cercano a 1, el agrupamiento es cercano al agrupamiento original de los datos. Desafortunadamente, estos valores son bajos, lo cual, se requiere del uso de otros algoritmo de agrupamiento que genere mejores resultados. Los resultados de la métrica FM deben ser cercanos a 1, pero estos resultados muestran un resultado regular. La homogenidad, la medida V, la información mutua debe ser cercanos 1 pero al observar que son valores bajos, el agrupamiento de datos es diferente al agrupamiento original de los datos. "
   ]
  },
  {
   "cell_type": "markdown",
   "metadata": {
    "id": "gYAQGd2wsgFO"
   },
   "source": [
    "### Integrando PCA con el algoritmo K-Means"
   ]
  },
  {
   "cell_type": "code",
   "execution_count": 52,
   "metadata": {
    "id": "ireU2pPaubFa"
   },
   "outputs": [],
   "source": [
    "from sklearn.decomposition import PCA\n",
    "from matplotlib import pyplot\n",
    "\n",
    "pca = PCA(iterated_power='auto', n_components = 60, random_state = 17, svd_solver='auto', tol = 1e-3, whiten = False)\n",
    "Variables_Principales = pca.fit_transform(X_norm) "
   ]
  },
  {
   "cell_type": "code",
   "execution_count": 53,
   "metadata": {
    "colab": {
     "base_uri": "https://localhost:8080/",
     "height": 530
    },
    "id": "IdBppTUwv8lk",
    "outputId": "8f74d46e-6981-4b77-a44f-76d7ae034f58"
   },
   "outputs": [
    {
     "data": {
      "image/png": "[encoded data removed]",
      "text/plain": [
       "<Figure size 1080x576 with 1 Axes>"
      ]
     },
     "metadata": {
      "needs_background": "light"
     },
     "output_type": "display_data"
    }
   ],
   "source": [
    "Varianza = pca.explained_variance_ratio_ # Calculamos la tasa de varianza de las componentes y generamos las componentes principales\n",
    "\n",
    "fig = plt.figure(figsize=(15,8))\n",
    "plt.bar(np.arange(len(Varianza)), Varianza)\n",
    "plt.xlabel('Componentes Principales')\n",
    "plt.ylabel('Tasa de Varianza')\n",
    "plt.title('PCA')\n",
    "plt.xlim(0, len(Varianza))\n",
    "plt.show()"
   ]
  },
  {
   "cell_type": "code",
   "execution_count": 54,
   "metadata": {
    "colab": {
     "base_uri": "https://localhost:8080/"
    },
    "id": "hrH60-KTwNSq",
    "outputId": "e5c77ca1-8522-4535-94ff-1667b40c03ee"
   },
   "outputs": [
    {
     "name": "stdout",
     "output_type": "stream",
     "text": [
      "Porcentaje de Varianza detectada para las primeras 10 componentes:  [78.74388373]\n",
      "Porcentaje de Varianza detectada para las primeras 20 componentes:  [90.64840137]\n",
      "Porcentaje de Varianza detectada para las primeras 30 componentes:  [96.27064937]\n",
      "Porcentaje de Varianza detectada para las primeras 40 componentes:  [98.72333979]\n",
      "Porcentaje de Varianza detectada para las primeras 50 componentes:  [99.6703558]\n"
     ]
    }
   ],
   "source": [
    "Importancia_Componentes = pd.DataFrame(data = Varianza)\n",
    "Importancia_Componentes = Importancia_Componentes.T\n",
    "print(\"Porcentaje de Varianza detectada para las primeras 10 componentes: \", format(100*Importancia_Componentes.loc[:,0:9].sum(axis = 1).values))\n",
    "print(\"Porcentaje de Varianza detectada para las primeras 20 componentes: \", format(100*Importancia_Componentes.loc[:,0:19].sum(axis = 1).values))\n",
    "print(\"Porcentaje de Varianza detectada para las primeras 30 componentes: \", format(100*Importancia_Componentes.loc[:,0:29].sum(axis = 1).values))\n",
    "print(\"Porcentaje de Varianza detectada para las primeras 40 componentes: \", format(100*Importancia_Componentes.loc[:,0:39].sum(axis = 1).values))\n",
    "print(\"Porcentaje de Varianza detectada para las primeras 50 componentes: \", format(100*Importancia_Componentes.loc[:,0:49].sum(axis = 1).values))"
   ]
  },
  {
   "cell_type": "code",
   "execution_count": 55,
   "metadata": {
    "colab": {
     "base_uri": "https://localhost:8080/"
    },
    "id": "YnMaJzIQwZe8",
    "outputId": "c3eb779b-6dd9-415a-9457-86244a8081e6"
   },
   "outputs": [
    {
     "name": "stdout",
     "output_type": "stream",
     "text": [
      "Tamaño de los datos originales con MinMax:  (208, 60)\n",
      "Tamaño de los datos reducidos:  (208, 40)\n",
      "Porcentaje de la varianza explicada con las componentes seleccionadas: 98.72%\n"
     ]
    }
   ],
   "source": [
    "Componentes_Seleccionadas = 40\n",
    "Tasa_Varianza_Explicada = np.sum(Varianza[0:Componentes_Seleccionadas])\n",
    "Nuevas_Componentes = PCA(Tasa_Varianza_Explicada, random_state = 17, svd_solver='auto', tol = 1e-3, whiten = False)\n",
    "\n",
    "X_norm_PCA = Nuevas_Componentes.fit_transform(X_norm) \n",
    "\n",
    "print('Tamaño de los datos originales con MinMax: ', X_norm.shape) # Tamaño de los datos originales\n",
    "print('Tamaño de los datos reducidos: ', X_norm_PCA.shape)  # Tamaño de los datos reducidos\n",
    "print(\"Porcentaje de la varianza explicada con las componentes seleccionadas: {:.2f}%\".format(Tasa_Varianza_Explicada*100))"
   ]
  },
  {
   "cell_type": "code",
   "execution_count": 56,
   "metadata": {
    "colab": {
     "base_uri": "https://localhost:8080/"
    },
    "id": "HV5GtqNOw0gM",
    "outputId": "7262159f-510d-421f-f5d3-487322caa103"
   },
   "outputs": [
    {
     "name": "stdout",
     "output_type": "stream",
     "text": [
      "RMSE =  0.18172053352110923\n"
     ]
    }
   ],
   "source": [
    "Datos_PCA_Reconstruidos = Nuevas_Componentes.inverse_transform(X_norm_PCA)\n",
    "RMSE = np.sqrt(np.sum((Datos_PCA_Reconstruidos - X_norm.values)**2)/(X_norm.shape[0]))\n",
    "print(\"RMSE = \", RMSE)"
   ]
  },
  {
   "cell_type": "code",
   "execution_count": 57,
   "metadata": {
    "colab": {
     "base_uri": "https://localhost:8080/",
     "height": 131
    },
    "id": "XcJtocF-yT1i",
    "outputId": "aa8d15df-5154-47c8-86ce-683065a3c0a6"
   },
   "outputs": [
    {
     "name": "stderr",
     "output_type": "stream",
     "text": [
      "/usr/local/lib/python3.9/dist-packages/sklearn/cluster/_kmeans.py:870: FutureWarning: The default value of `n_init` will change from 10 to 'auto' in 1.4. Set the value of `n_init` explicitly to suppress the warning\n",
      "  warnings.warn(\n"
     ]
    },
    {
     "data": {
      "text/html": [
       "<style>#sk-container-id-2 {color: black;background-color: white;}#sk-container-id-2 pre{padding: 0;}#sk-container-id-2 div.sk-toggleable {background-color: white;}#sk-container-id-2 label.sk-toggleable__label {cursor: pointer;display: block;width: 100%;margin-bottom: 0;padding: 0.3em;box-sizing: border-box;text-align: center;}#sk-container-id-2 label.sk-toggleable__label-arrow:before {content: \"▸\";float: left;margin-right: 0.25em;color: #696969;}#sk-container-id-2 label.sk-toggleable__label-arrow:hover:before {color: black;}#sk-container-id-2 div.sk-estimator:hover label.sk-toggleable__label-arrow:before {color: black;}#sk-container-id-2 div.sk-toggleable__content {max-height: 0;max-width: 0;overflow: hidden;text-align: left;background-color: #f0f8ff;}#sk-container-id-2 div.sk-toggleable__content pre {margin: 0.2em;color: black;border-radius: 0.25em;background-color: #f0f8ff;}#sk-container-id-2 input.sk-toggleable__control:checked~div.sk-toggleable__content {max-height: 200px;max-width: 100%;overflow: auto;}#sk-container-id-2 input.sk-toggleable__control:checked~label.sk-toggleable__label-arrow:before {content: \"▾\";}#sk-container-id-2 div.sk-estimator input.sk-toggleable__control:checked~label.sk-toggleable__label {background-color: #d4ebff;}#sk-container-id-2 div.sk-label input.sk-toggleable__control:checked~label.sk-toggleable__label {background-color: #d4ebff;}#sk-container-id-2 input.sk-hidden--visually {border: 0;clip: rect(1px 1px 1px 1px);clip: rect(1px, 1px, 1px, 1px);height: 1px;margin: -1px;overflow: hidden;padding: 0;position: absolute;width: 1px;}#sk-container-id-2 div.sk-estimator {font-family: monospace;background-color: #f0f8ff;border: 1px dotted black;border-radius: 0.25em;box-sizing: border-box;margin-bottom: 0.5em;}#sk-container-id-2 div.sk-estimator:hover {background-color: #d4ebff;}#sk-container-id-2 div.sk-parallel-item::after {content: \"\";width: 100%;border-bottom: 1px solid gray;flex-grow: 1;}#sk-container-id-2 div.sk-label:hover label.sk-toggleable__label {background-color: #d4ebff;}#sk-container-id-2 div.sk-serial::before {content: \"\";position: absolute;border-left: 1px solid gray;box-sizing: border-box;top: 0;bottom: 0;left: 50%;z-index: 0;}#sk-container-id-2 div.sk-serial {display: flex;flex-direction: column;align-items: center;background-color: white;padding-right: 0.2em;padding-left: 0.2em;position: relative;}#sk-container-id-2 div.sk-item {position: relative;z-index: 1;}#sk-container-id-2 div.sk-parallel {display: flex;align-items: stretch;justify-content: center;background-color: white;position: relative;}#sk-container-id-2 div.sk-item::before, #sk-container-id-2 div.sk-parallel-item::before {content: \"\";position: absolute;border-left: 1px solid gray;box-sizing: border-box;top: 0;bottom: 0;left: 50%;z-index: -1;}#sk-container-id-2 div.sk-parallel-item {display: flex;flex-direction: column;z-index: 1;position: relative;background-color: white;}#sk-container-id-2 div.sk-parallel-item:first-child::after {align-self: flex-end;width: 50%;}#sk-container-id-2 div.sk-parallel-item:last-child::after {align-self: flex-start;width: 50%;}#sk-container-id-2 div.sk-parallel-item:only-child::after {width: 0;}#sk-container-id-2 div.sk-dashed-wrapped {border: 1px dashed gray;margin: 0 0.4em 0.5em 0.4em;box-sizing: border-box;padding-bottom: 0.4em;background-color: white;}#sk-container-id-2 div.sk-label label {font-family: monospace;font-weight: bold;display: inline-block;line-height: 1.2em;}#sk-container-id-2 div.sk-label-container {text-align: center;}#sk-container-id-2 div.sk-container {/* jupyter's `normalize.less` sets `[hidden] { display: none; }` but bootstrap.min.css set `[hidden] { display: none !important; }` so we also need the `!important` here to be able to override the default hidden behavior on the sphinx rendered scikit-learn.org. See: https://github.com/scikit-learn/scikit-learn/issues/21755 */display: inline-block !important;position: relative;}#sk-container-id-2 div.sk-text-repr-fallback {display: none;}</style><div id=\"sk-container-id-2\" class=\"sk-top-container\"><div class=\"sk-text-repr-fallback\"><pre>KMeans(max_iter=5000, n_clusters=2, random_state=17)</pre><b>In a Jupyter environment, please rerun this cell to show the HTML representation or trust the notebook. <br />On GitHub, the HTML representation is unable to render, please try loading this page with nbviewer.org.</b></div><div class=\"sk-container\" hidden><div class=\"sk-item\"><div class=\"sk-estimator sk-toggleable\"><input class=\"sk-toggleable__control sk-hidden--visually\" id=\"sk-estimator-id-2\" type=\"checkbox\" checked><label for=\"sk-estimator-id-2\" class=\"sk-toggleable__label sk-toggleable__label-arrow\">KMeans</label><div class=\"sk-toggleable__content\"><pre>KMeans(max_iter=5000, n_clusters=2, random_state=17)</pre></div></div></div></div></div>"
      ],
      "text/plain": [
       "KMeans(max_iter=5000, n_clusters=2, random_state=17)"
      ]
     },
     "execution_count": 57,
     "metadata": {},
     "output_type": "execute_result"
    }
   ],
   "source": [
    "Numero_Clusters = 2\n",
    "error = 1e-4\n",
    "max_iteraciones = 5000\n",
    "\n",
    "Modelo_Kmeans_Xnorm_PCA = KMeans(n_clusters = Numero_Clusters, max_iter = max_iteraciones, \n",
    "                       tol = error,random_state = 17)\n",
    "Modelo_Kmeans_Xnorm_PCA.fit(X_norm_PCA) # Usamos los datos reducidos por PCA"
   ]
  },
  {
   "cell_type": "code",
   "execution_count": 58,
   "metadata": {
    "id": "0A55o-i1yo5T"
   },
   "outputs": [],
   "source": [
    "Clases_Xnorm_PCA = Modelo_Kmeans_Xnorm_PCA.labels_\n",
    "centros_Xnorm_PCA = Modelo_Kmeans_Xnorm_PCA.cluster_centers_"
   ]
  },
  {
   "cell_type": "code",
   "execution_count": 59,
   "metadata": {
    "colab": {
     "base_uri": "https://localhost:8080/",
     "height": 367
    },
    "id": "WR3j0uFLy7qr",
    "outputId": "fabe4e14-24d4-4697-f783-2abca0a0a37a"
   },
   "outputs": [
    {
     "data": {
      "image/png": "[encoded data removed]",
      "text/plain": [
       "<Figure size 360x360 with 1 Axes>"
      ]
     },
     "metadata": {
      "needs_background": "light"
     },
     "output_type": "display_data"
    }
   ],
   "source": [
    "x_1 = X_norm_PCA[:,2]\n",
    "x_2 = X_norm_PCA[:,3]\n",
    "colors = [\"green\", \"magenta\"]\n",
    "fig = plt.figure(figsize = (5,5))\n",
    "\n",
    "for j in range(Numero_Clusters):\n",
    "    plt.plot(x_1[Clases_Xnorm_PCA == j], x_2[Clases_Xnorm_PCA == j], '.', color = colors[j])\n",
    "\n",
    "for pt in centros_Xnorm_PCA:\n",
    "    plt.plot(pt[0],pt[1],'rs')\n",
    "\n",
    "plt.xlabel(\"Componente 3\")\n",
    "plt.ylabel(\"Componente 4\")\n",
    "plt.title(\"Agrupamiento de los datos con los datos reducidos por PCA\")\n",
    "plt.show()"
   ]
  },
  {
   "cell_type": "code",
   "execution_count": 60,
   "metadata": {
    "colab": {
     "base_uri": "https://localhost:8080/",
     "height": 367
    },
    "id": "J6LnVKPczk6H",
    "outputId": "4f57607e-296f-495c-d9da-546aa839a182"
   },
   "outputs": [
    {
     "data": {
      "image/png": "[encoded data removed]",
      "text/plain": [
       "<Figure size 360x360 with 1 Axes>"
      ]
     },
     "metadata": {
      "needs_background": "light"
     },
     "output_type": "display_data"
    }
   ],
   "source": [
    "x_1 = X_norm['Band1']\n",
    "x_2 = X_norm[' Band2']\n",
    "colors = [\"blue\", \"orange\"]\n",
    "fig = plt.figure(figsize = (5,5))\n",
    "\n",
    "for j in range(Numero_Clusters):\n",
    "    plt.plot(x_1[Clases_Xnorm_PCA == j], x_2[Clases_Xnorm_PCA == j], '.', color = colors[j])\n",
    "\n",
    "for pt in centros_X:\n",
    "    plt.plot(pt[0],pt[1],'rs')\n",
    "\n",
    "plt.xlabel(\"Band1\")\n",
    "plt.ylabel(\"Band2\")\n",
    "plt.title(\"Agrupamiento de los datos con el vector de clases obtenido con la integración PCA-KMeans\")\n",
    "plt.show()"
   ]
  },
  {
   "cell_type": "code",
   "execution_count": 61,
   "metadata": {
    "id": "hOV_smsH0F0g"
   },
   "outputs": [],
   "source": [
    "from sklearn.metrics import rand_score\n",
    "from sklearn.metrics import adjusted_rand_score\n",
    "from sklearn.metrics.cluster import v_measure_score\n",
    "from sklearn.metrics.cluster import fowlkes_mallows_score\n",
    "from sklearn.metrics import homogeneity_score\n",
    "from sklearn.metrics import normalized_mutual_info_score"
   ]
  },
  {
   "cell_type": "code",
   "execution_count": 62,
   "metadata": {
    "id": "tOimGlyP0bXF"
   },
   "outputs": [],
   "source": [
    "C1 = rand_score(Clases_Xnorm_PCA, Y_codificado)\n",
    "C2 = adjusted_rand_score(Clases_Xnorm_PCA, Y_codificado)\n",
    "C3 = v_measure_score(Clases_Xnorm_PCA, Y_codificado)\n",
    "C4 = fowlkes_mallows_score(Clases_Xnorm_PCA, Y_codificado)\n",
    "C5 = homogeneity_score(Clases_Xnorm_PCA, Y_codificado)\n",
    "C6 = normalized_mutual_info_score(Clases_Xnorm_PCA, Y_codificado)"
   ]
  },
  {
   "cell_type": "code",
   "execution_count": 63,
   "metadata": {
    "colab": {
     "base_uri": "https://localhost:8080/",
     "height": 143
    },
    "id": "lhf55_9v1J1M",
    "outputId": "acbe9339-ef51-4a71-b62e-16aa08fe5b72"
   },
   "outputs": [
    {
     "data": {
      "text/html": [
       "\n",
       "  <div id=\"df-917126a3-5b6e-4c65-8a93-07005d9f8032\">\n",
       "    <div class=\"colab-df-container\">\n",
       "      <div>\n",
       "<style scoped>\n",
       "    .dataframe tbody tr th:only-of-type {\n",
       "        vertical-align: middle;\n",
       "    }\n",
       "\n",
       "    .dataframe tbody tr th {\n",
       "        vertical-align: top;\n",
       "    }\n",
       "\n",
       "    .dataframe thead th {\n",
       "        text-align: right;\n",
       "    }\n",
       "</style>\n",
       "<table border=\"1\" class=\"dataframe\">\n",
       "  <thead>\n",
       "    <tr style=\"text-align: right;\">\n",
       "      <th></th>\n",
       "      <th>Rand</th>\n",
       "      <th>Rand Adjusted</th>\n",
       "      <th>V_measure</th>\n",
       "      <th>FM</th>\n",
       "      <th>Homogeneity</th>\n",
       "      <th>Mutual_Info</th>\n",
       "    </tr>\n",
       "  </thead>\n",
       "  <tbody>\n",
       "    <tr>\n",
       "      <th>Datos Originales</th>\n",
       "      <td>0.503205</td>\n",
       "      <td>0.006410</td>\n",
       "      <td>0.008790</td>\n",
       "      <td>0.502766</td>\n",
       "      <td>0.008786</td>\n",
       "      <td>0.008790</td>\n",
       "    </tr>\n",
       "    <tr>\n",
       "      <th>Datos Normalizados</th>\n",
       "      <td>0.505435</td>\n",
       "      <td>0.010869</td>\n",
       "      <td>0.012155</td>\n",
       "      <td>0.504998</td>\n",
       "      <td>0.012149</td>\n",
       "      <td>0.012155</td>\n",
       "    </tr>\n",
       "    <tr>\n",
       "      <th>Datos Reducidos PCA</th>\n",
       "      <td>0.505435</td>\n",
       "      <td>0.010869</td>\n",
       "      <td>0.012155</td>\n",
       "      <td>0.504998</td>\n",
       "      <td>0.012149</td>\n",
       "      <td>0.012155</td>\n",
       "    </tr>\n",
       "  </tbody>\n",
       "</table>\n",
       "</div>\n",
       "      <button class=\"colab-df-convert\" onclick=\"convertToInteractive('df-917126a3-5b6e-4c65-8a93-07005d9f8032')\"\n",
       "              title=\"Convert this dataframe to an interactive table.\"\n",
       "              style=\"display:none;\">\n",
       "        \n",
       "  <svg xmlns=\"http://www.w3.org/2000/svg\" height=\"24px\"viewBox=\"0 0 24 24\"\n",
       "       width=\"24px\">\n",
       "    <path d=\"M0 0h24v24H0V0z\" fill=\"none\"/>\n",
       "    <path d=\"M18.56 5.44l.94 2.06.94-2.06 2.06-.94-2.06-.94-.94-2.06-.94 2.06-2.06.94zm-11 1L8.5 8.5l.94-2.06 2.06-.94-2.06-.94L8.5 2.5l-.94 2.06-2.06.94zm10 10l.94 2.06.94-2.06 2.06-.94-2.06-.94-.94-2.06-.94 2.06-2.06.94z\"/><path d=\"M17.41 7.96l-1.37-1.37c-.4-.4-.92-.59-1.43-.59-.52 0-1.04.2-1.43.59L10.3 9.45l-7.72 7.72c-.78.78-.78 2.05 0 2.83L4 21.41c.39.39.9.59 1.41.59.51 0 1.02-.2 1.41-.59l7.78-7.78 2.81-2.81c.8-.78.8-2.07 0-2.86zM5.41 20L4 18.59l7.72-7.72 1.47 1.35L5.41 20z\"/>\n",
       "  </svg>\n",
       "      </button>\n",
       "      \n",
       "  <style>\n",
       "    .colab-df-container {\n",
       "      display:flex;\n",
       "      flex-wrap:wrap;\n",
       "      gap: 12px;\n",
       "    }\n",
       "\n",
       "    .colab-df-convert {\n",
       "      background-color: #E8F0FE;\n",
       "      border: none;\n",
       "      border-radius: 50%;\n",
       "      cursor: pointer;\n",
       "      display: none;\n",
       "      fill: #1967D2;\n",
       "      height: 32px;\n",
       "      padding: 0 0 0 0;\n",
       "      width: 32px;\n",
       "    }\n",
       "\n",
       "    .colab-df-convert:hover {\n",
       "      background-color: #E2EBFA;\n",
       "      box-shadow: 0px 1px 2px rgba(60, 64, 67, 0.3), 0px 1px 3px 1px rgba(60, 64, 67, 0.15);\n",
       "      fill: #174EA6;\n",
       "    }\n",
       "\n",
       "    [theme=dark] .colab-df-convert {\n",
       "      background-color: #3B4455;\n",
       "      fill: #D2E3FC;\n",
       "    }\n",
       "\n",
       "    [theme=dark] .colab-df-convert:hover {\n",
       "      background-color: #434B5C;\n",
       "      box-shadow: 0px 1px 3px 1px rgba(0, 0, 0, 0.15);\n",
       "      filter: drop-shadow(0px 1px 2px rgba(0, 0, 0, 0.3));\n",
       "      fill: #FFFFFF;\n",
       "    }\n",
       "  </style>\n",
       "\n",
       "      <script>\n",
       "        const buttonEl =\n",
       "          document.querySelector('#df-917126a3-5b6e-4c65-8a93-07005d9f8032 button.colab-df-convert');\n",
       "        buttonEl.style.display =\n",
       "          google.colab.kernel.accessAllowed ? 'block' : 'none';\n",
       "\n",
       "        async function convertToInteractive(key) {\n",
       "          const element = document.querySelector('#df-917126a3-5b6e-4c65-8a93-07005d9f8032');\n",
       "          const dataTable =\n",
       "            await google.colab.kernel.invokeFunction('convertToInteractive',\n",
       "                                                     [key], {});\n",
       "          if (!dataTable) return;\n",
       "\n",
       "          const docLinkHtml = 'Like what you see? Visit the ' +\n",
       "            '<a target=\"_blank\" href=https://colab.research.google.com/notebooks/data_table.ipynb>data table notebook</a>'\n",
       "            + ' to learn more about interactive tables.';\n",
       "          element.innerHTML = '';\n",
       "          dataTable['output_type'] = 'display_data';\n",
       "          await google.colab.output.renderOutput(dataTable, element);\n",
       "          const docLink = document.createElement('div');\n",
       "          docLink.innerHTML = docLinkHtml;\n",
       "          element.appendChild(docLink);\n",
       "        }\n",
       "      </script>\n",
       "    </div>\n",
       "  </div>\n",
       "  "
      ],
      "text/plain": [
       "                         Rand  Rand Adjusted  V_measure        FM  \\\n",
       "Datos Originales     0.503205       0.006410   0.008790  0.502766   \n",
       "Datos Normalizados   0.505435       0.010869   0.012155  0.504998   \n",
       "Datos Reducidos PCA  0.505435       0.010869   0.012155  0.504998   \n",
       "\n",
       "                     Homogeneity  Mutual_Info  \n",
       "Datos Originales        0.008786     0.008790  \n",
       "Datos Normalizados      0.012149     0.012155  \n",
       "Datos Reducidos PCA     0.012149     0.012155  "
      ]
     },
     "metadata": {},
     "output_type": "display_data"
    }
   ],
   "source": [
    "Valores_Actualizados = np.array([[P1,P3,P5,P7,P9,P11],[P2,P4,P6,P8,P10,P12],[C1,C2,C3,C4,C5,C6]])\n",
    "Indices = ['Datos Originales', 'Datos Normalizados', 'Datos Reducidos PCA']\n",
    "Indices_Externos_Actualizados = pd.DataFrame(Valores_Actualizados, columns = Metricas, index = Indices)\n",
    "display(Indices_Externos_Actualizados)"
   ]
  },
  {
   "cell_type": "markdown",
   "metadata": {
    "id": "teY2MjVg-ozT"
   },
   "source": [
    "### Integrando un método de selección de características con el algoritmo K-Means"
   ]
  },
  {
   "cell_type": "markdown",
   "metadata": {
    "id": "uiOWxOMG_ck4"
   },
   "source": [
    "Usaremos el método de selección de características basado en el test chi2, considerando el test de tasa de falsos positivos."
   ]
  },
  {
   "cell_type": "code",
   "execution_count": 64,
   "metadata": {
    "id": "xATHeWFu-xAs"
   },
   "outputs": [],
   "source": [
    "from sklearn.feature_selection import SelectFpr, chi2"
   ]
  },
  {
   "cell_type": "code",
   "execution_count": 65,
   "metadata": {
    "colab": {
     "base_uri": "https://localhost:8080/"
    },
    "id": "A-ivaPYc_qC9",
    "outputId": "b48eba05-ed60-4e22-ed15-c4c374a214cf"
   },
   "outputs": [
    {
     "data": {
      "text/plain": [
       "(208, 3)"
      ]
     },
     "execution_count": 65,
     "metadata": {},
     "output_type": "execute_result"
    }
   ],
   "source": [
    "seleccionador = SelectFpr(chi2, alpha=0.05)\n",
    "X_seleccionados = seleccionador.fit_transform(X_norm,Y_codificado) # Usamos la clasificación original para seleccionar las características\n",
    "X_seleccionados.shape"
   ]
  },
  {
   "cell_type": "code",
   "execution_count": 66,
   "metadata": {
    "id": "vN7sr90mE7Qs"
   },
   "outputs": [],
   "source": [
    "Columnas = seleccionador.get_feature_names_out() # Características seleccionadas"
   ]
  },
  {
   "cell_type": "code",
   "execution_count": 67,
   "metadata": {
    "colab": {
     "base_uri": "https://localhost:8080/",
     "height": 423
    },
    "id": "ujDaEGYzG-Jg",
    "outputId": "6dc214ef-7b7d-4076-cd2f-b71f8ad3721b"
   },
   "outputs": [
    {
     "data": {
      "text/html": [
       "\n",
       "  <div id=\"df-40d621f0-49d4-431a-895c-cdca07c1caff\">\n",
       "    <div class=\"colab-df-container\">\n",
       "      <div>\n",
       "<style scoped>\n",
       "    .dataframe tbody tr th:only-of-type {\n",
       "        vertical-align: middle;\n",
       "    }\n",
       "\n",
       "    .dataframe tbody tr th {\n",
       "        vertical-align: top;\n",
       "    }\n",
       "\n",
       "    .dataframe thead th {\n",
       "        text-align: right;\n",
       "    }\n",
       "</style>\n",
       "<table border=\"1\" class=\"dataframe\">\n",
       "  <thead>\n",
       "    <tr style=\"text-align: right;\">\n",
       "      <th></th>\n",
       "      <th>Band11</th>\n",
       "      <th>Band12</th>\n",
       "      <th>Band45</th>\n",
       "    </tr>\n",
       "  </thead>\n",
       "  <tbody>\n",
       "    <tr>\n",
       "      <th>0</th>\n",
       "      <td>0.187234</td>\n",
       "      <td>0.196481</td>\n",
       "      <td>0.375533</td>\n",
       "    </tr>\n",
       "    <tr>\n",
       "      <th>1</th>\n",
       "      <td>0.656738</td>\n",
       "      <td>0.925220</td>\n",
       "      <td>0.088193</td>\n",
       "    </tr>\n",
       "    <tr>\n",
       "      <th>2</th>\n",
       "      <td>0.856738</td>\n",
       "      <td>1.000000</td>\n",
       "      <td>0.300142</td>\n",
       "    </tr>\n",
       "    <tr>\n",
       "      <th>3</th>\n",
       "      <td>0.083688</td>\n",
       "      <td>0.256598</td>\n",
       "      <td>0.611664</td>\n",
       "    </tr>\n",
       "    <tr>\n",
       "      <th>4</th>\n",
       "      <td>0.547518</td>\n",
       "      <td>0.543988</td>\n",
       "      <td>0.098151</td>\n",
       "    </tr>\n",
       "    <tr>\n",
       "      <th>...</th>\n",
       "      <td>...</td>\n",
       "      <td>...</td>\n",
       "      <td>...</td>\n",
       "    </tr>\n",
       "    <tr>\n",
       "      <th>203</th>\n",
       "      <td>0.400000</td>\n",
       "      <td>0.394428</td>\n",
       "      <td>0.128023</td>\n",
       "    </tr>\n",
       "    <tr>\n",
       "      <th>204</th>\n",
       "      <td>0.395745</td>\n",
       "      <td>0.466276</td>\n",
       "      <td>0.135135</td>\n",
       "    </tr>\n",
       "    <tr>\n",
       "      <th>205</th>\n",
       "      <td>0.344681</td>\n",
       "      <td>0.312317</td>\n",
       "      <td>0.129445</td>\n",
       "    </tr>\n",
       "    <tr>\n",
       "      <th>206</th>\n",
       "      <td>0.370213</td>\n",
       "      <td>0.376833</td>\n",
       "      <td>0.187767</td>\n",
       "    </tr>\n",
       "    <tr>\n",
       "      <th>207</th>\n",
       "      <td>0.344681</td>\n",
       "      <td>0.322581</td>\n",
       "      <td>0.204836</td>\n",
       "    </tr>\n",
       "  </tbody>\n",
       "</table>\n",
       "<p>208 rows × 3 columns</p>\n",
       "</div>\n",
       "      <button class=\"colab-df-convert\" onclick=\"convertToInteractive('df-40d621f0-49d4-431a-895c-cdca07c1caff')\"\n",
       "              title=\"Convert this dataframe to an interactive table.\"\n",
       "              style=\"display:none;\">\n",
       "        \n",
       "  <svg xmlns=\"http://www.w3.org/2000/svg\" height=\"24px\"viewBox=\"0 0 24 24\"\n",
       "       width=\"24px\">\n",
       "    <path d=\"M0 0h24v24H0V0z\" fill=\"none\"/>\n",
       "    <path d=\"M18.56 5.44l.94 2.06.94-2.06 2.06-.94-2.06-.94-.94-2.06-.94 2.06-2.06.94zm-11 1L8.5 8.5l.94-2.06 2.06-.94-2.06-.94L8.5 2.5l-.94 2.06-2.06.94zm10 10l.94 2.06.94-2.06 2.06-.94-2.06-.94-.94-2.06-.94 2.06-2.06.94z\"/><path d=\"M17.41 7.96l-1.37-1.37c-.4-.4-.92-.59-1.43-.59-.52 0-1.04.2-1.43.59L10.3 9.45l-7.72 7.72c-.78.78-.78 2.05 0 2.83L4 21.41c.39.39.9.59 1.41.59.51 0 1.02-.2 1.41-.59l7.78-7.78 2.81-2.81c.8-.78.8-2.07 0-2.86zM5.41 20L4 18.59l7.72-7.72 1.47 1.35L5.41 20z\"/>\n",
       "  </svg>\n",
       "      </button>\n",
       "      \n",
       "  <style>\n",
       "    .colab-df-container {\n",
       "      display:flex;\n",
       "      flex-wrap:wrap;\n",
       "      gap: 12px;\n",
       "    }\n",
       "\n",
       "    .colab-df-convert {\n",
       "      background-color: #E8F0FE;\n",
       "      border: none;\n",
       "      border-radius: 50%;\n",
       "      cursor: pointer;\n",
       "      display: none;\n",
       "      fill: #1967D2;\n",
       "      height: 32px;\n",
       "      padding: 0 0 0 0;\n",
       "      width: 32px;\n",
       "    }\n",
       "\n",
       "    .colab-df-convert:hover {\n",
       "      background-color: #E2EBFA;\n",
       "      box-shadow: 0px 1px 2px rgba(60, 64, 67, 0.3), 0px 1px 3px 1px rgba(60, 64, 67, 0.15);\n",
       "      fill: #174EA6;\n",
       "    }\n",
       "\n",
       "    [theme=dark] .colab-df-convert {\n",
       "      background-color: #3B4455;\n",
       "      fill: #D2E3FC;\n",
       "    }\n",
       "\n",
       "    [theme=dark] .colab-df-convert:hover {\n",
       "      background-color: #434B5C;\n",
       "      box-shadow: 0px 1px 3px 1px rgba(0, 0, 0, 0.15);\n",
       "      filter: drop-shadow(0px 1px 2px rgba(0, 0, 0, 0.3));\n",
       "      fill: #FFFFFF;\n",
       "    }\n",
       "  </style>\n",
       "\n",
       "      <script>\n",
       "        const buttonEl =\n",
       "          document.querySelector('#df-40d621f0-49d4-431a-895c-cdca07c1caff button.colab-df-convert');\n",
       "        buttonEl.style.display =\n",
       "          google.colab.kernel.accessAllowed ? 'block' : 'none';\n",
       "\n",
       "        async function convertToInteractive(key) {\n",
       "          const element = document.querySelector('#df-40d621f0-49d4-431a-895c-cdca07c1caff');\n",
       "          const dataTable =\n",
       "            await google.colab.kernel.invokeFunction('convertToInteractive',\n",
       "                                                     [key], {});\n",
       "          if (!dataTable) return;\n",
       "\n",
       "          const docLinkHtml = 'Like what you see? Visit the ' +\n",
       "            '<a target=\"_blank\" href=https://colab.research.google.com/notebooks/data_table.ipynb>data table notebook</a>'\n",
       "            + ' to learn more about interactive tables.';\n",
       "          element.innerHTML = '';\n",
       "          dataTable['output_type'] = 'display_data';\n",
       "          await google.colab.output.renderOutput(dataTable, element);\n",
       "          const docLink = document.createElement('div');\n",
       "          docLink.innerHTML = docLinkHtml;\n",
       "          element.appendChild(docLink);\n",
       "        }\n",
       "      </script>\n",
       "    </div>\n",
       "  </div>\n",
       "  "
      ],
      "text/plain": [
       "       Band11    Band12    Band45\n",
       "0    0.187234  0.196481  0.375533\n",
       "1    0.656738  0.925220  0.088193\n",
       "2    0.856738  1.000000  0.300142\n",
       "3    0.083688  0.256598  0.611664\n",
       "4    0.547518  0.543988  0.098151\n",
       "..        ...       ...       ...\n",
       "203  0.400000  0.394428  0.128023\n",
       "204  0.395745  0.466276  0.135135\n",
       "205  0.344681  0.312317  0.129445\n",
       "206  0.370213  0.376833  0.187767\n",
       "207  0.344681  0.322581  0.204836\n",
       "\n",
       "[208 rows x 3 columns]"
      ]
     },
     "metadata": {},
     "output_type": "display_data"
    }
   ],
   "source": [
    "X_seleccionados = pd.DataFrame(X_seleccionados, columns = Columnas)\n",
    "display(X_seleccionados)"
   ]
  },
  {
   "cell_type": "code",
   "execution_count": 68,
   "metadata": {
    "colab": {
     "base_uri": "https://localhost:8080/"
    },
    "id": "NPm7glCJFbE0",
    "outputId": "5cfa7bd7-1734-4001-a55c-9f19a89f4838"
   },
   "outputs": [
    {
     "name": "stdout",
     "output_type": "stream",
     "text": [
      "RMSE =  3.315014151923741\n"
     ]
    }
   ],
   "source": [
    "X_reconstruidos_Fpr = seleccionador.inverse_transform(X_seleccionados)\n",
    "RMSE = np.sqrt(np.sum((X_reconstruidos_Fpr - X_norm.values)**2)/(X_norm.shape[0]))\n",
    "print(\"RMSE = \", RMSE)"
   ]
  },
  {
   "cell_type": "code",
   "execution_count": 69,
   "metadata": {
    "colab": {
     "base_uri": "https://localhost:8080/",
     "height": 131
    },
    "id": "9rFe-g4zGCTh",
    "outputId": "d6122180-7dfc-4c59-d951-7d6a3f967e2c"
   },
   "outputs": [
    {
     "name": "stderr",
     "output_type": "stream",
     "text": [
      "/usr/local/lib/python3.9/dist-packages/sklearn/cluster/_kmeans.py:870: FutureWarning: The default value of `n_init` will change from 10 to 'auto' in 1.4. Set the value of `n_init` explicitly to suppress the warning\n",
      "  warnings.warn(\n"
     ]
    },
    {
     "data": {
      "text/html": [
       "<style>#sk-container-id-3 {color: black;background-color: white;}#sk-container-id-3 pre{padding: 0;}#sk-container-id-3 div.sk-toggleable {background-color: white;}#sk-container-id-3 label.sk-toggleable__label {cursor: pointer;display: block;width: 100%;margin-bottom: 0;padding: 0.3em;box-sizing: border-box;text-align: center;}#sk-container-id-3 label.sk-toggleable__label-arrow:before {content: \"▸\";float: left;margin-right: 0.25em;color: #696969;}#sk-container-id-3 label.sk-toggleable__label-arrow:hover:before {color: black;}#sk-container-id-3 div.sk-estimator:hover label.sk-toggleable__label-arrow:before {color: black;}#sk-container-id-3 div.sk-toggleable__content {max-height: 0;max-width: 0;overflow: hidden;text-align: left;background-color: #f0f8ff;}#sk-container-id-3 div.sk-toggleable__content pre {margin: 0.2em;color: black;border-radius: 0.25em;background-color: #f0f8ff;}#sk-container-id-3 input.sk-toggleable__control:checked~div.sk-toggleable__content {max-height: 200px;max-width: 100%;overflow: auto;}#sk-container-id-3 input.sk-toggleable__control:checked~label.sk-toggleable__label-arrow:before {content: \"▾\";}#sk-container-id-3 div.sk-estimator input.sk-toggleable__control:checked~label.sk-toggleable__label {background-color: #d4ebff;}#sk-container-id-3 div.sk-label input.sk-toggleable__control:checked~label.sk-toggleable__label {background-color: #d4ebff;}#sk-container-id-3 input.sk-hidden--visually {border: 0;clip: rect(1px 1px 1px 1px);clip: rect(1px, 1px, 1px, 1px);height: 1px;margin: -1px;overflow: hidden;padding: 0;position: absolute;width: 1px;}#sk-container-id-3 div.sk-estimator {font-family: monospace;background-color: #f0f8ff;border: 1px dotted black;border-radius: 0.25em;box-sizing: border-box;margin-bottom: 0.5em;}#sk-container-id-3 div.sk-estimator:hover {background-color: #d4ebff;}#sk-container-id-3 div.sk-parallel-item::after {content: \"\";width: 100%;border-bottom: 1px solid gray;flex-grow: 1;}#sk-container-id-3 div.sk-label:hover label.sk-toggleable__label {background-color: #d4ebff;}#sk-container-id-3 div.sk-serial::before {content: \"\";position: absolute;border-left: 1px solid gray;box-sizing: border-box;top: 0;bottom: 0;left: 50%;z-index: 0;}#sk-container-id-3 div.sk-serial {display: flex;flex-direction: column;align-items: center;background-color: white;padding-right: 0.2em;padding-left: 0.2em;position: relative;}#sk-container-id-3 div.sk-item {position: relative;z-index: 1;}#sk-container-id-3 div.sk-parallel {display: flex;align-items: stretch;justify-content: center;background-color: white;position: relative;}#sk-container-id-3 div.sk-item::before, #sk-container-id-3 div.sk-parallel-item::before {content: \"\";position: absolute;border-left: 1px solid gray;box-sizing: border-box;top: 0;bottom: 0;left: 50%;z-index: -1;}#sk-container-id-3 div.sk-parallel-item {display: flex;flex-direction: column;z-index: 1;position: relative;background-color: white;}#sk-container-id-3 div.sk-parallel-item:first-child::after {align-self: flex-end;width: 50%;}#sk-container-id-3 div.sk-parallel-item:last-child::after {align-self: flex-start;width: 50%;}#sk-container-id-3 div.sk-parallel-item:only-child::after {width: 0;}#sk-container-id-3 div.sk-dashed-wrapped {border: 1px dashed gray;margin: 0 0.4em 0.5em 0.4em;box-sizing: border-box;padding-bottom: 0.4em;background-color: white;}#sk-container-id-3 div.sk-label label {font-family: monospace;font-weight: bold;display: inline-block;line-height: 1.2em;}#sk-container-id-3 div.sk-label-container {text-align: center;}#sk-container-id-3 div.sk-container {/* jupyter's `normalize.less` sets `[hidden] { display: none; }` but bootstrap.min.css set `[hidden] { display: none !important; }` so we also need the `!important` here to be able to override the default hidden behavior on the sphinx rendered scikit-learn.org. See: https://github.com/scikit-learn/scikit-learn/issues/21755 */display: inline-block !important;position: relative;}#sk-container-id-3 div.sk-text-repr-fallback {display: none;}</style><div id=\"sk-container-id-3\" class=\"sk-top-container\"><div class=\"sk-text-repr-fallback\"><pre>KMeans(max_iter=5000, n_clusters=2, random_state=17)</pre><b>In a Jupyter environment, please rerun this cell to show the HTML representation or trust the notebook. <br />On GitHub, the HTML representation is unable to render, please try loading this page with nbviewer.org.</b></div><div class=\"sk-container\" hidden><div class=\"sk-item\"><div class=\"sk-estimator sk-toggleable\"><input class=\"sk-toggleable__control sk-hidden--visually\" id=\"sk-estimator-id-3\" type=\"checkbox\" checked><label for=\"sk-estimator-id-3\" class=\"sk-toggleable__label sk-toggleable__label-arrow\">KMeans</label><div class=\"sk-toggleable__content\"><pre>KMeans(max_iter=5000, n_clusters=2, random_state=17)</pre></div></div></div></div></div>"
      ],
      "text/plain": [
       "KMeans(max_iter=5000, n_clusters=2, random_state=17)"
      ]
     },
     "execution_count": 69,
     "metadata": {},
     "output_type": "execute_result"
    }
   ],
   "source": [
    "Numero_Clusters = 2\n",
    "error = 1e-4\n",
    "max_iteraciones = 5000\n",
    "\n",
    "Modelo_Kmeans_Xnorm_Fpr = KMeans(n_clusters = Numero_Clusters, max_iter = max_iteraciones, \n",
    "                       tol = error,random_state = 17)\n",
    "Modelo_Kmeans_Xnorm_Fpr.fit(X_seleccionados) # Usamos los datos seleccionados por el test chi2 y el test de tasa de falsos positivos "
   ]
  },
  {
   "cell_type": "code",
   "execution_count": 70,
   "metadata": {
    "id": "jUSc_j63GS0_"
   },
   "outputs": [],
   "source": [
    "Clases_Xnorm_Fpr = Modelo_Kmeans_Xnorm_Fpr.labels_\n",
    "centros_Xnorm_Fpr = Modelo_Kmeans_Xnorm_Fpr.cluster_centers_"
   ]
  },
  {
   "cell_type": "code",
   "execution_count": 71,
   "metadata": {
    "colab": {
     "base_uri": "https://localhost:8080/",
     "height": 367
    },
    "id": "2tZb5UEZGafN",
    "outputId": "0181805d-caae-44a1-8976-aeee34a6fd2e"
   },
   "outputs": [
    {
     "data": {
      "image/png": "[encoded data removed]",
      "text/plain": [
       "<Figure size 360x360 with 1 Axes>"
      ]
     },
     "metadata": {
      "needs_background": "light"
     },
     "output_type": "display_data"
    }
   ],
   "source": [
    "x_1 = X_seleccionados[' Band11']\n",
    "x_2 = X_seleccionados[' Band12']\n",
    "colors = [\"brown\", \"blue\"]\n",
    "fig = plt.figure(figsize = (5,5))\n",
    "\n",
    "for j in range(Numero_Clusters):\n",
    "    plt.plot(x_1[Clases_Xnorm_Fpr == j], x_2[Clases_Xnorm_Fpr == j], '.', color = colors[j])\n",
    "\n",
    "for pt in centros_Xnorm_Fpr:\n",
    "    plt.plot(pt[0],pt[1],'rs')\n",
    "\n",
    "plt.xlabel(\"Band11\")\n",
    "plt.ylabel(\"Band12\")\n",
    "plt.title(\"Agrupamiento de los datos con los datos seleccionados por chi2 y el test de tasa de falsos positivos\")\n",
    "plt.show()"
   ]
  },
  {
   "cell_type": "code",
   "execution_count": 72,
   "metadata": {
    "colab": {
     "base_uri": "https://localhost:8080/",
     "height": 367
    },
    "id": "P0c20iblHZlM",
    "outputId": "a10eaa1b-2e25-483c-d2c8-60e7913a3d5e"
   },
   "outputs": [
    {
     "data": {
      "image/png": "[encoded data removed]",
      "text/plain": [
       "<Figure size 360x360 with 1 Axes>"
      ]
     },
     "metadata": {
      "needs_background": "light"
     },
     "output_type": "display_data"
    }
   ],
   "source": [
    "x_1 = X_norm['Band1']\n",
    "x_2 = X_norm[' Band2']\n",
    "colors = [\"blue\", \"orange\"]\n",
    "fig = plt.figure(figsize = (5,5))\n",
    "\n",
    "for j in range(Numero_Clusters):\n",
    "    plt.plot(x_1[Clases_Xnorm_Fpr == j], x_2[Clases_Xnorm_Fpr == j], '.', color = colors[j])\n",
    "\n",
    "for pt in centros_X:\n",
    "    plt.plot(pt[0],pt[1],'rs')\n",
    "\n",
    "plt.xlabel(\"Band1\")\n",
    "plt.ylabel(\"Band2\")\n",
    "plt.title(\"Agrupamiento de los datos con el vector de clases obtenido con la integración Selección de características-KMeans\")\n",
    "plt.show()"
   ]
  },
  {
   "cell_type": "code",
   "execution_count": 73,
   "metadata": {
    "id": "RhVotVCOH8pa"
   },
   "outputs": [],
   "source": [
    "from sklearn.metrics import rand_score\n",
    "from sklearn.metrics import adjusted_rand_score\n",
    "from sklearn.metrics.cluster import v_measure_score\n",
    "from sklearn.metrics.cluster import fowlkes_mallows_score\n",
    "from sklearn.metrics import homogeneity_score\n",
    "from sklearn.metrics import normalized_mutual_info_score"
   ]
  },
  {
   "cell_type": "code",
   "execution_count": 74,
   "metadata": {
    "id": "kM_b1J6YIBq1"
   },
   "outputs": [],
   "source": [
    "D1 = rand_score(Clases_Xnorm_Fpr, Y_codificado)\n",
    "D2 = adjusted_rand_score(Clases_Xnorm_Fpr, Y_codificado)\n",
    "D3 = v_measure_score(Clases_Xnorm_Fpr, Y_codificado)\n",
    "D4 = fowlkes_mallows_score(Clases_Xnorm_Fpr, Y_codificado)\n",
    "D5 = homogeneity_score(Clases_Xnorm_Fpr, Y_codificado)\n",
    "D6 = normalized_mutual_info_score(Clases_Xnorm_Fpr, Y_codificado)"
   ]
  },
  {
   "cell_type": "code",
   "execution_count": 75,
   "metadata": {
    "colab": {
     "base_uri": "https://localhost:8080/",
     "height": 175
    },
    "id": "zGI5b4DdIZrF",
    "outputId": "2a382e0a-2930-4b57-a6e3-69a5f14ed23e"
   },
   "outputs": [
    {
     "data": {
      "text/html": [
       "\n",
       "  <div id=\"df-1d14ec00-f971-4076-bbfc-bcd17a929b2c\">\n",
       "    <div class=\"colab-df-container\">\n",
       "      <div>\n",
       "<style scoped>\n",
       "    .dataframe tbody tr th:only-of-type {\n",
       "        vertical-align: middle;\n",
       "    }\n",
       "\n",
       "    .dataframe tbody tr th {\n",
       "        vertical-align: top;\n",
       "    }\n",
       "\n",
       "    .dataframe thead th {\n",
       "        text-align: right;\n",
       "    }\n",
       "</style>\n",
       "<table border=\"1\" class=\"dataframe\">\n",
       "  <thead>\n",
       "    <tr style=\"text-align: right;\">\n",
       "      <th></th>\n",
       "      <th>Rand</th>\n",
       "      <th>Rand Adjusted</th>\n",
       "      <th>V_measure</th>\n",
       "      <th>FM</th>\n",
       "      <th>Homogeneity</th>\n",
       "      <th>Mutual_Info</th>\n",
       "    </tr>\n",
       "  </thead>\n",
       "  <tbody>\n",
       "    <tr>\n",
       "      <th>Datos Originales</th>\n",
       "      <td>0.503205</td>\n",
       "      <td>0.006410</td>\n",
       "      <td>0.008790</td>\n",
       "      <td>0.502766</td>\n",
       "      <td>0.008786</td>\n",
       "      <td>0.008790</td>\n",
       "    </tr>\n",
       "    <tr>\n",
       "      <th>Datos Normalizados</th>\n",
       "      <td>0.505435</td>\n",
       "      <td>0.010869</td>\n",
       "      <td>0.012155</td>\n",
       "      <td>0.504998</td>\n",
       "      <td>0.012149</td>\n",
       "      <td>0.012155</td>\n",
       "    </tr>\n",
       "    <tr>\n",
       "      <th>Datos Reducidos PCA</th>\n",
       "      <td>0.505435</td>\n",
       "      <td>0.010869</td>\n",
       "      <td>0.012155</td>\n",
       "      <td>0.504998</td>\n",
       "      <td>0.012149</td>\n",
       "      <td>0.012155</td>\n",
       "    </tr>\n",
       "    <tr>\n",
       "      <th>Características Seleccionadas</th>\n",
       "      <td>0.583473</td>\n",
       "      <td>0.166946</td>\n",
       "      <td>0.134675</td>\n",
       "      <td>0.584343</td>\n",
       "      <td>0.134907</td>\n",
       "      <td>0.134675</td>\n",
       "    </tr>\n",
       "  </tbody>\n",
       "</table>\n",
       "</div>\n",
       "      <button class=\"colab-df-convert\" onclick=\"convertToInteractive('df-1d14ec00-f971-4076-bbfc-bcd17a929b2c')\"\n",
       "              title=\"Convert this dataframe to an interactive table.\"\n",
       "              style=\"display:none;\">\n",
       "        \n",
       "  <svg xmlns=\"http://www.w3.org/2000/svg\" height=\"24px\"viewBox=\"0 0 24 24\"\n",
       "       width=\"24px\">\n",
       "    <path d=\"M0 0h24v24H0V0z\" fill=\"none\"/>\n",
       "    <path d=\"M18.56 5.44l.94 2.06.94-2.06 2.06-.94-2.06-.94-.94-2.06-.94 2.06-2.06.94zm-11 1L8.5 8.5l.94-2.06 2.06-.94-2.06-.94L8.5 2.5l-.94 2.06-2.06.94zm10 10l.94 2.06.94-2.06 2.06-.94-2.06-.94-.94-2.06-.94 2.06-2.06.94z\"/><path d=\"M17.41 7.96l-1.37-1.37c-.4-.4-.92-.59-1.43-.59-.52 0-1.04.2-1.43.59L10.3 9.45l-7.72 7.72c-.78.78-.78 2.05 0 2.83L4 21.41c.39.39.9.59 1.41.59.51 0 1.02-.2 1.41-.59l7.78-7.78 2.81-2.81c.8-.78.8-2.07 0-2.86zM5.41 20L4 18.59l7.72-7.72 1.47 1.35L5.41 20z\"/>\n",
       "  </svg>\n",
       "      </button>\n",
       "      \n",
       "  <style>\n",
       "    .colab-df-container {\n",
       "      display:flex;\n",
       "      flex-wrap:wrap;\n",
       "      gap: 12px;\n",
       "    }\n",
       "\n",
       "    .colab-df-convert {\n",
       "      background-color: #E8F0FE;\n",
       "      border: none;\n",
       "      border-radius: 50%;\n",
       "      cursor: pointer;\n",
       "      display: none;\n",
       "      fill: #1967D2;\n",
       "      height: 32px;\n",
       "      padding: 0 0 0 0;\n",
       "      width: 32px;\n",
       "    }\n",
       "\n",
       "    .colab-df-convert:hover {\n",
       "      background-color: #E2EBFA;\n",
       "      box-shadow: 0px 1px 2px rgba(60, 64, 67, 0.3), 0px 1px 3px 1px rgba(60, 64, 67, 0.15);\n",
       "      fill: #174EA6;\n",
       "    }\n",
       "\n",
       "    [theme=dark] .colab-df-convert {\n",
       "      background-color: #3B4455;\n",
       "      fill: #D2E3FC;\n",
       "    }\n",
       "\n",
       "    [theme=dark] .colab-df-convert:hover {\n",
       "      background-color: #434B5C;\n",
       "      box-shadow: 0px 1px 3px 1px rgba(0, 0, 0, 0.15);\n",
       "      filter: drop-shadow(0px 1px 2px rgba(0, 0, 0, 0.3));\n",
       "      fill: #FFFFFF;\n",
       "    }\n",
       "  </style>\n",
       "\n",
       "      <script>\n",
       "        const buttonEl =\n",
       "          document.querySelector('#df-1d14ec00-f971-4076-bbfc-bcd17a929b2c button.colab-df-convert');\n",
       "        buttonEl.style.display =\n",
       "          google.colab.kernel.accessAllowed ? 'block' : 'none';\n",
       "\n",
       "        async function convertToInteractive(key) {\n",
       "          const element = document.querySelector('#df-1d14ec00-f971-4076-bbfc-bcd17a929b2c');\n",
       "          const dataTable =\n",
       "            await google.colab.kernel.invokeFunction('convertToInteractive',\n",
       "                                                     [key], {});\n",
       "          if (!dataTable) return;\n",
       "\n",
       "          const docLinkHtml = 'Like what you see? Visit the ' +\n",
       "            '<a target=\"_blank\" href=https://colab.research.google.com/notebooks/data_table.ipynb>data table notebook</a>'\n",
       "            + ' to learn more about interactive tables.';\n",
       "          element.innerHTML = '';\n",
       "          dataTable['output_type'] = 'display_data';\n",
       "          await google.colab.output.renderOutput(dataTable, element);\n",
       "          const docLink = document.createElement('div');\n",
       "          docLink.innerHTML = docLinkHtml;\n",
       "          element.appendChild(docLink);\n",
       "        }\n",
       "      </script>\n",
       "    </div>\n",
       "  </div>\n",
       "  "
      ],
      "text/plain": [
       "                                   Rand  Rand Adjusted  V_measure        FM  \\\n",
       "Datos Originales               0.503205       0.006410   0.008790  0.502766   \n",
       "Datos Normalizados             0.505435       0.010869   0.012155  0.504998   \n",
       "Datos Reducidos PCA            0.505435       0.010869   0.012155  0.504998   \n",
       "Características Seleccionadas  0.583473       0.166946   0.134675  0.584343   \n",
       "\n",
       "                               Homogeneity  Mutual_Info  \n",
       "Datos Originales                  0.008786     0.008790  \n",
       "Datos Normalizados                0.012149     0.012155  \n",
       "Datos Reducidos PCA               0.012149     0.012155  \n",
       "Características Seleccionadas     0.134907     0.134675  "
      ]
     },
     "metadata": {},
     "output_type": "display_data"
    }
   ],
   "source": [
    "Valores_Actualizados = np.array([[P1,P3,P5,P7,P9,P11],[P2,P4,P6,P8,P10,P12],[C1,C2,C3,C4,C5,C6],[D1,D2,D3,D4,D5,D6]])\n",
    "Indices = ['Datos Originales', 'Datos Normalizados', 'Datos Reducidos PCA', 'Características Seleccionadas']\n",
    "Indices_Externos_Actualizados = pd.DataFrame(Valores_Actualizados, columns = Metricas, index = Indices)\n",
    "display(Indices_Externos_Actualizados)"
   ]
  }
 ],
 "metadata": {
  "colab": {
   "machine_shape": "hm",
   "provenance": [],
   "toc_visible": true
  },
  "gpuClass": "standard",
  "kernelspec": {
   "display_name": "Python 3 (ipykernel)",
   "language": "python",
   "name": "python3"
  },
  "language_info": {
   "codemirror_mode": {
    "name": "ipython",
    "version": 3
   },
   "file_extension": ".py",
   "mimetype": "text/x-python",
   "name": "python",
   "nbconvert_exporter": "python",
   "pygments_lexer": "ipython3",
   "version": "3.9.13"
  }
 },
 "nbformat": 4,
 "nbformat_minor": 4
}
