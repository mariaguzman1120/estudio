{
 "cells": [
  {
   "cell_type": "code",
   "execution_count": 1,
   "metadata": {
    "colab": {
     "base_uri": "https://localhost:8080/"
    },
    "id": "_Wmr5VCU04qn",
    "outputId": "c176c521-efc0-4174-9e86-a64a7458ab7a"
   },
   "outputs": [],
   "source": [
    "#!wget --no-cache -O init.py -q https://raw.githubusercontent.com/UDEA-Esp-Analitica-y-Ciencia-de-Datos/EACD-02-ESTADISTICA/master/init.py\n",
    "#import init; init.init(force_download=False); \n",
    "from IPython.display import Image"
   ]
  },
  {
   "cell_type": "code",
   "execution_count": 2,
   "metadata": {
    "colab": {
     "base_uri": "https://localhost:8080/",
     "height": 251
    },
    "id": "VV3BghiJ05DI",
    "outputId": "8229da3d-4b38-4cce-de8c-1e5b1879275c"
   },
   "outputs": [
    {
     "data": {
      "image/png": "[encoded data removed]",
      "text/plain": [
       "<IPython.core.display.Image object>"
      ]
     },
     "execution_count": 2,
     "metadata": {},
     "output_type": "execute_result"
    }
   ],
   "source": [
    "Image(\"../docs/udea-datascience.png\")"
   ]
  },
  {
   "cell_type": "markdown",
   "metadata": {
    "id": "mvXlahbAbQqg"
   },
   "source": [
    "**Desarrollado por:** Javier Fernando Botía Valderrama\n",
    "\n",
    "*Docente del Departamento de Ingeniería de Sistemas*\n",
    "\n",
    "**Materia:** Estadística y Análisis Exploratorio\n",
    "\n",
    "**Departamento:** Posgrado en Ingeniería\n",
    "\n",
    "**Facultad de Ingeniería - Universidad de Antioquia**"
   ]
  },
  {
   "cell_type": "markdown",
   "metadata": {
    "id": "G_C_kWIibU7U"
   },
   "source": [
    "# Métodos Básicos para la Detección de Datos Atípicos"
   ]
  },
  {
   "cell_type": "code",
   "execution_count": 3,
   "metadata": {
    "id": "DHK-sekm7LLg"
   },
   "outputs": [],
   "source": [
    "import pandas as pd\n",
    "import numpy as np\n",
    "import requests\n",
    "import io\n",
    "import seaborn as sns\n",
    "\n",
    "from matplotlib import pyplot as plt\n",
    "\n",
    "from sklearn.preprocessing import MinMaxScaler\n",
    "\n",
    "from sklearn.neighbors import LocalOutlierFactor # Algoritmo LOF\n",
    "from scipy.special import entr # Entropía de Shannon\n",
    "from scipy.stats import multivariate_normal # Modelo de distribución gaussiana multivariable\n",
    "from sklearn.covariance import EllipticEnvelope # Estimación de Covarianza\n",
    "from scipy.stats import median_abs_deviation # MAD\n",
    "from scipy.stats import iqr # Interquartile range\n",
    "import matplotlib"
   ]
  },
  {
   "cell_type": "markdown",
   "metadata": {
    "id": "tMAa4Of9be9G"
   },
   "source": [
    "**Datos atípicos u outliers:**  Un *outlier* es un punto por el cual esta alejado desde el valor predicho por un modelo. Este tipo de datos se generan por diversas razones tales como almacenamiento incorrecto de la base de datos o el ruido de los sensores que generan lecturas erróneas, etc. Por lo general, los datos atípicos pueden tener pocos efectos en el desempeño de un modelo si el error que genera es pequeño o poco representativo para una predicción o una estimación. Sin embargo, si hay un porcentaje alto de la base de datos que son atípicos, el error puede incrementar abruptamente y generar una disminución el desempeño de un modelo de regresión o de clasificación, etc..."
   ]
  },
  {
   "cell_type": "markdown",
   "metadata": {
    "id": "n9RiZg_M72pz"
   },
   "source": [
    "**Base de datos:** \n",
    "\n",
    "This dataset was generated for use on 'Prediction of Motor Failure Time Using An Artificial Neural Network' project (DOI: 10.3390/s19194342). A cooler fan with weights on its blades was used to generate vibrations. To this fan cooler was attached an accelerometer to collect the vibration data. With this data, motor failure time predictions were made, using an artificial neural networks. To generate three distinct vibration scenarios, the weights were distributed in three different ways: 1) 'red' - normal configuration: two weight pieces positioned on neighboring blades; 2) 'blue' - perpendicular configuration: two weight pieces positioned on blades forming a 90$°$ angle; 3) 'green' - opposite configuration: two weight pieces positioned on opposite blades.\n",
    "\n",
    "*Devices used*:\n",
    "\n",
    "Akasa AK-FN059 12cm Viper cooling fan (Generate the vibrations)\n",
    "MMA8452Q accelerometer (Measure vibration)\n",
    "\n",
    "*Data collection method*:\n",
    "\n",
    "17 rotation speeds were set up, ranging from 20% to 100% of the cooler maximum speed at 5% intervals; for the three weight distribution configurations in the cooler blades. Note that the Akasa AK-FN059 cooler has 1900 rpm of max rotation speed.\n",
    "\n",
    "The vibration measurements were collected at a frequency of 20 ms for 1 min for each percentage, generating 3000 records per speed. Thus, in total, 153.000 vibration records were collected from the simulation model.\n",
    "\n",
    "*Columns:*\n",
    "\n",
    "*   wconfid: Weight Configuration ID (1 - 'red' - normal configuration; 2 - 'blue' - perpendicular configuration; 3 - 'green' - opposite configuration)\n",
    "*   pctid: Cooler Fan RPM Speed Percentage ID (20 means 20%, and so on).\n",
    "*   x: Accelerometer x value.\n",
    "*   y: Accelerometer y value.\n",
    "*   z: Accelerometer z value."
   ]
  },
  {
   "cell_type": "code",
   "execution_count": 4,
   "metadata": {
    "colab": {
     "base_uri": "https://localhost:8080/",
     "height": 676
    },
    "id": "5u8xY-ikbPkl",
    "outputId": "aba8f763-6c23-4313-dddf-b343b4b39a1c"
   },
   "outputs": [
    {
     "data": {
      "text/html": [
       "<div>\n",
       "<style scoped>\n",
       "    .dataframe tbody tr th:only-of-type {\n",
       "        vertical-align: middle;\n",
       "    }\n",
       "\n",
       "    .dataframe tbody tr th {\n",
       "        vertical-align: top;\n",
       "    }\n",
       "\n",
       "    .dataframe thead th {\n",
       "        text-align: right;\n",
       "    }\n",
       "</style>\n",
       "<table border=\"1\" class=\"dataframe\">\n",
       "  <thead>\n",
       "    <tr style=\"text-align: right;\">\n",
       "      <th></th>\n",
       "      <th>wconfid</th>\n",
       "      <th>pctid</th>\n",
       "      <th>x</th>\n",
       "      <th>y</th>\n",
       "      <th>z</th>\n",
       "    </tr>\n",
       "  </thead>\n",
       "  <tbody>\n",
       "    <tr>\n",
       "      <th>0</th>\n",
       "      <td>1</td>\n",
       "      <td>20</td>\n",
       "      <td>1.004</td>\n",
       "      <td>0.090</td>\n",
       "      <td>-0.125</td>\n",
       "    </tr>\n",
       "    <tr>\n",
       "      <th>1</th>\n",
       "      <td>1</td>\n",
       "      <td>20</td>\n",
       "      <td>1.004</td>\n",
       "      <td>-0.043</td>\n",
       "      <td>-0.125</td>\n",
       "    </tr>\n",
       "    <tr>\n",
       "      <th>2</th>\n",
       "      <td>1</td>\n",
       "      <td>20</td>\n",
       "      <td>0.969</td>\n",
       "      <td>0.090</td>\n",
       "      <td>-0.121</td>\n",
       "    </tr>\n",
       "    <tr>\n",
       "      <th>3</th>\n",
       "      <td>1</td>\n",
       "      <td>20</td>\n",
       "      <td>0.973</td>\n",
       "      <td>-0.012</td>\n",
       "      <td>-0.137</td>\n",
       "    </tr>\n",
       "    <tr>\n",
       "      <th>4</th>\n",
       "      <td>1</td>\n",
       "      <td>20</td>\n",
       "      <td>1.000</td>\n",
       "      <td>-0.016</td>\n",
       "      <td>-0.121</td>\n",
       "    </tr>\n",
       "    <tr>\n",
       "      <th>5</th>\n",
       "      <td>1</td>\n",
       "      <td>20</td>\n",
       "      <td>0.961</td>\n",
       "      <td>0.082</td>\n",
       "      <td>-0.121</td>\n",
       "    </tr>\n",
       "    <tr>\n",
       "      <th>6</th>\n",
       "      <td>1</td>\n",
       "      <td>20</td>\n",
       "      <td>0.973</td>\n",
       "      <td>-0.055</td>\n",
       "      <td>-0.109</td>\n",
       "    </tr>\n",
       "    <tr>\n",
       "      <th>7</th>\n",
       "      <td>1</td>\n",
       "      <td>20</td>\n",
       "      <td>1.000</td>\n",
       "      <td>0.012</td>\n",
       "      <td>-0.133</td>\n",
       "    </tr>\n",
       "    <tr>\n",
       "      <th>8</th>\n",
       "      <td>1</td>\n",
       "      <td>20</td>\n",
       "      <td>0.969</td>\n",
       "      <td>-0.102</td>\n",
       "      <td>-0.141</td>\n",
       "    </tr>\n",
       "    <tr>\n",
       "      <th>9</th>\n",
       "      <td>1</td>\n",
       "      <td>20</td>\n",
       "      <td>0.973</td>\n",
       "      <td>-0.059</td>\n",
       "      <td>-0.125</td>\n",
       "    </tr>\n",
       "    <tr>\n",
       "      <th>10</th>\n",
       "      <td>1</td>\n",
       "      <td>20</td>\n",
       "      <td>1.012</td>\n",
       "      <td>0.043</td>\n",
       "      <td>-0.133</td>\n",
       "    </tr>\n",
       "    <tr>\n",
       "      <th>11</th>\n",
       "      <td>1</td>\n",
       "      <td>20</td>\n",
       "      <td>0.996</td>\n",
       "      <td>-0.109</td>\n",
       "      <td>-0.148</td>\n",
       "    </tr>\n",
       "    <tr>\n",
       "      <th>12</th>\n",
       "      <td>1</td>\n",
       "      <td>20</td>\n",
       "      <td>0.988</td>\n",
       "      <td>-0.020</td>\n",
       "      <td>-0.125</td>\n",
       "    </tr>\n",
       "    <tr>\n",
       "      <th>13</th>\n",
       "      <td>1</td>\n",
       "      <td>20</td>\n",
       "      <td>1.012</td>\n",
       "      <td>0.043</td>\n",
       "      <td>-0.129</td>\n",
       "    </tr>\n",
       "    <tr>\n",
       "      <th>14</th>\n",
       "      <td>1</td>\n",
       "      <td>20</td>\n",
       "      <td>0.996</td>\n",
       "      <td>-0.090</td>\n",
       "      <td>-0.152</td>\n",
       "    </tr>\n",
       "    <tr>\n",
       "      <th>15</th>\n",
       "      <td>1</td>\n",
       "      <td>20</td>\n",
       "      <td>0.965</td>\n",
       "      <td>-0.102</td>\n",
       "      <td>-0.117</td>\n",
       "    </tr>\n",
       "    <tr>\n",
       "      <th>16</th>\n",
       "      <td>1</td>\n",
       "      <td>20</td>\n",
       "      <td>1.004</td>\n",
       "      <td>0.055</td>\n",
       "      <td>-0.121</td>\n",
       "    </tr>\n",
       "    <tr>\n",
       "      <th>17</th>\n",
       "      <td>1</td>\n",
       "      <td>20</td>\n",
       "      <td>0.988</td>\n",
       "      <td>-0.059</td>\n",
       "      <td>-0.141</td>\n",
       "    </tr>\n",
       "    <tr>\n",
       "      <th>18</th>\n",
       "      <td>1</td>\n",
       "      <td>20</td>\n",
       "      <td>0.969</td>\n",
       "      <td>-0.086</td>\n",
       "      <td>-0.117</td>\n",
       "    </tr>\n",
       "    <tr>\n",
       "      <th>19</th>\n",
       "      <td>1</td>\n",
       "      <td>20</td>\n",
       "      <td>1.039</td>\n",
       "      <td>0.094</td>\n",
       "      <td>-0.117</td>\n",
       "    </tr>\n",
       "  </tbody>\n",
       "</table>\n",
       "</div>"
      ],
      "text/plain": [
       "    wconfid  pctid      x       y       z\n",
       "0         1     20  1.004   0.090  -0.125\n",
       "1         1     20  1.004  -0.043  -0.125\n",
       "2         1     20  0.969   0.090  -0.121\n",
       "3         1     20  0.973  -0.012  -0.137\n",
       "4         1     20  1.000  -0.016  -0.121\n",
       "5         1     20  0.961   0.082  -0.121\n",
       "6         1     20  0.973  -0.055  -0.109\n",
       "7         1     20  1.000   0.012  -0.133\n",
       "8         1     20  0.969  -0.102  -0.141\n",
       "9         1     20  0.973  -0.059  -0.125\n",
       "10        1     20  1.012   0.043  -0.133\n",
       "11        1     20  0.996  -0.109  -0.148\n",
       "12        1     20  0.988  -0.020  -0.125\n",
       "13        1     20  1.012   0.043  -0.129\n",
       "14        1     20  0.996  -0.090  -0.152\n",
       "15        1     20  0.965  -0.102  -0.117\n",
       "16        1     20  1.004   0.055  -0.121\n",
       "17        1     20  0.988  -0.059  -0.141\n",
       "18        1     20  0.969  -0.086  -0.117\n",
       "19        1     20  1.039   0.094  -0.117"
      ]
     },
     "metadata": {},
     "output_type": "display_data"
    }
   ],
   "source": [
    "url = \"https://raw.githubusercontent.com/javierfernandobotia/AnalisisAvanzadoDatos/main/accelerometer.csv\"\n",
    "download = requests.get(url).content\n",
    "data = pd.read_csv(io.StringIO(download.decode('utf-8')), sep=',',\n",
    "                     decimal = ',')\n",
    "# Esimportante codificarlo a utf-8\n",
    "display(data.head(20))"
   ]
  },
  {
   "cell_type": "markdown",
   "metadata": {
    "id": "dySm2JDW9nPe"
   },
   "source": [
    "## Visualización de los Datos Atípicos con el diagrama de cajas"
   ]
  },
  {
   "cell_type": "code",
   "execution_count": 5,
   "metadata": {
    "colab": {
     "base_uri": "https://localhost:8080/"
    },
    "id": "gq8a1-7v91Cp",
    "outputId": "f8682481-dae2-4bfa-8fbe-9ad2b311a648"
   },
   "outputs": [
    {
     "name": "stdout",
     "output_type": "stream",
     "text": [
      "<class 'pandas.core.frame.DataFrame'>\n",
      "RangeIndex: 153000 entries, 0 to 152999\n",
      "Data columns (total 5 columns):\n",
      " #   Column   Non-Null Count   Dtype \n",
      "---  ------   --------------   ----- \n",
      " 0   wconfid  153000 non-null  int64 \n",
      " 1   pctid    153000 non-null  int64 \n",
      " 2   x        153000 non-null  object\n",
      " 3   y        153000 non-null  object\n",
      " 4   z        153000 non-null  object\n",
      "dtypes: int64(2), object(3)\n",
      "memory usage: 5.8+ MB\n"
     ]
    }
   ],
   "source": [
    "data.info()"
   ]
  },
  {
   "cell_type": "markdown",
   "metadata": {
    "id": "CF0UnnwA97op"
   },
   "source": [
    "Convertimos las variables x, y, z en datos tipo float64."
   ]
  },
  {
   "cell_type": "code",
   "execution_count": 6,
   "metadata": {
    "colab": {
     "base_uri": "https://localhost:8080/"
    },
    "id": "V0P8Ht-V-DE0",
    "outputId": "cdb5382e-73b0-45e9-a3bc-d1e9c0e74703"
   },
   "outputs": [
    {
     "name": "stdout",
     "output_type": "stream",
     "text": [
      "<class 'pandas.core.frame.DataFrame'>\n",
      "RangeIndex: 153000 entries, 0 to 152999\n",
      "Data columns (total 5 columns):\n",
      " #   Column   Non-Null Count   Dtype  \n",
      "---  ------   --------------   -----  \n",
      " 0   wconfid  153000 non-null  int64  \n",
      " 1   pctid    153000 non-null  int64  \n",
      " 2   x        153000 non-null  float64\n",
      " 3   y        153000 non-null  float64\n",
      " 4   z        153000 non-null  float64\n",
      "dtypes: float64(3), int64(2)\n",
      "memory usage: 5.8 MB\n"
     ]
    }
   ],
   "source": [
    "data['x'] = data['x'].astype(float)\n",
    "data['y'] = data['y'].astype(float)\n",
    "data['z'] = data['z'].astype(float)\n",
    "\n",
    "data.info()"
   ]
  },
  {
   "cell_type": "markdown",
   "metadata": {
    "id": "y12UTP8J-Umm"
   },
   "source": [
    "Generando un reporte estadístico de las variables:"
   ]
  },
  {
   "cell_type": "code",
   "execution_count": 7,
   "metadata": {
    "colab": {
     "base_uri": "https://localhost:8080/",
     "height": 300
    },
    "id": "fKYVcfdC-YsR",
    "outputId": "1b74e065-5d41-42c2-b2cb-b5d181b1f5b2"
   },
   "outputs": [
    {
     "data": {
      "text/html": [
       "<div>\n",
       "<style scoped>\n",
       "    .dataframe tbody tr th:only-of-type {\n",
       "        vertical-align: middle;\n",
       "    }\n",
       "\n",
       "    .dataframe tbody tr th {\n",
       "        vertical-align: top;\n",
       "    }\n",
       "\n",
       "    .dataframe thead th {\n",
       "        text-align: right;\n",
       "    }\n",
       "</style>\n",
       "<table border=\"1\" class=\"dataframe\">\n",
       "  <thead>\n",
       "    <tr style=\"text-align: right;\">\n",
       "      <th></th>\n",
       "      <th>wconfid</th>\n",
       "      <th>pctid</th>\n",
       "      <th>x</th>\n",
       "      <th>y</th>\n",
       "      <th>z</th>\n",
       "    </tr>\n",
       "  </thead>\n",
       "  <tbody>\n",
       "    <tr>\n",
       "      <th>count</th>\n",
       "      <td>153000.000000</td>\n",
       "      <td>153000.000000</td>\n",
       "      <td>153000.000000</td>\n",
       "      <td>153000.000000</td>\n",
       "      <td>153000.000000</td>\n",
       "    </tr>\n",
       "    <tr>\n",
       "      <th>mean</th>\n",
       "      <td>2.000000</td>\n",
       "      <td>60.000000</td>\n",
       "      <td>0.995622</td>\n",
       "      <td>0.005351</td>\n",
       "      <td>-0.117769</td>\n",
       "    </tr>\n",
       "    <tr>\n",
       "      <th>std</th>\n",
       "      <td>0.816499</td>\n",
       "      <td>24.494977</td>\n",
       "      <td>0.773958</td>\n",
       "      <td>0.742602</td>\n",
       "      <td>0.517008</td>\n",
       "    </tr>\n",
       "    <tr>\n",
       "      <th>min</th>\n",
       "      <td>1.000000</td>\n",
       "      <td>20.000000</td>\n",
       "      <td>-8.000000</td>\n",
       "      <td>-8.000000</td>\n",
       "      <td>-5.867000</td>\n",
       "    </tr>\n",
       "    <tr>\n",
       "      <th>25%</th>\n",
       "      <td>1.000000</td>\n",
       "      <td>40.000000</td>\n",
       "      <td>0.945000</td>\n",
       "      <td>-0.078000</td>\n",
       "      <td>-0.172000</td>\n",
       "    </tr>\n",
       "    <tr>\n",
       "      <th>50%</th>\n",
       "      <td>2.000000</td>\n",
       "      <td>60.000000</td>\n",
       "      <td>0.992000</td>\n",
       "      <td>0.008000</td>\n",
       "      <td>-0.125000</td>\n",
       "    </tr>\n",
       "    <tr>\n",
       "      <th>75%</th>\n",
       "      <td>3.000000</td>\n",
       "      <td>80.000000</td>\n",
       "      <td>1.039000</td>\n",
       "      <td>0.105000</td>\n",
       "      <td>-0.066000</td>\n",
       "    </tr>\n",
       "    <tr>\n",
       "      <th>max</th>\n",
       "      <td>3.000000</td>\n",
       "      <td>100.000000</td>\n",
       "      <td>7.996000</td>\n",
       "      <td>7.996000</td>\n",
       "      <td>6.086000</td>\n",
       "    </tr>\n",
       "  </tbody>\n",
       "</table>\n",
       "</div>"
      ],
      "text/plain": [
       "             wconfid          pctid              x              y  \\\n",
       "count  153000.000000  153000.000000  153000.000000  153000.000000   \n",
       "mean        2.000000      60.000000       0.995622       0.005351   \n",
       "std         0.816499      24.494977       0.773958       0.742602   \n",
       "min         1.000000      20.000000      -8.000000      -8.000000   \n",
       "25%         1.000000      40.000000       0.945000      -0.078000   \n",
       "50%         2.000000      60.000000       0.992000       0.008000   \n",
       "75%         3.000000      80.000000       1.039000       0.105000   \n",
       "max         3.000000     100.000000       7.996000       7.996000   \n",
       "\n",
       "                   z  \n",
       "count  153000.000000  \n",
       "mean       -0.117769  \n",
       "std         0.517008  \n",
       "min        -5.867000  \n",
       "25%        -0.172000  \n",
       "50%        -0.125000  \n",
       "75%        -0.066000  \n",
       "max         6.086000  "
      ]
     },
     "execution_count": 7,
     "metadata": {},
     "output_type": "execute_result"
    }
   ],
   "source": [
    "data.describe()"
   ]
  },
  {
   "cell_type": "markdown",
   "metadata": {
    "id": "iNuD7366-ztO"
   },
   "source": [
    "Generando el diagrama de cajas:"
   ]
  },
  {
   "cell_type": "code",
   "execution_count": 8,
   "metadata": {
    "colab": {
     "base_uri": "https://localhost:8080/",
     "height": 498
    },
    "id": "BP2pyeIG-2JV",
    "outputId": "3fb5db3e-9ca6-4f12-d3fe-fd543049c093"
   },
   "outputs": [
    {
     "data": {
      "image/png": "[encoded data removed]",
      "text/plain": [
       "<Figure size 432x288 with 1 Axes>"
      ]
     },
     "metadata": {
      "needs_background": "light"
     },
     "output_type": "display_data"
    }
   ],
   "source": [
    "sns.set(rc={'figure.figsize':(25,9)}) # Tamaño de la figura\n",
    "sns.set(style=\"whitegrid\") # Estilo de la figura\n",
    "sns.boxplot(data = data, linewidth = 3, palette=\"Set2\", fliersize = 5) # Diagrama Box Plot\n",
    "sns.despine(left=True)"
   ]
  },
  {
   "cell_type": "markdown",
   "metadata": {
    "id": "VyFLmlBj_CZ-"
   },
   "source": [
    "Normalizando los datos para mejorar la visualización del diagrama de cajas:"
   ]
  },
  {
   "cell_type": "code",
   "execution_count": 9,
   "metadata": {
    "id": "qQtDo-ci_J69"
   },
   "outputs": [],
   "source": [
    "MinMax = MinMaxScaler(copy=True, feature_range=(0, 1)) # Método MinMax con valores entre 0 y 1\n",
    "nombres = data.columns\n",
    "Datos_Min_Max = MinMax.fit_transform(data) # Transformación de los nuevos datos con una escala MinMax\n",
    "Datos_Min_Max = pd.DataFrame(Datos_Min_Max, columns = nombres)"
   ]
  },
  {
   "cell_type": "code",
   "execution_count": 10,
   "metadata": {
    "colab": {
     "base_uri": "https://localhost:8080/",
     "height": 300
    },
    "id": "LsgHNgZ7rZCD",
    "outputId": "61849bd0-b5e8-4c19-f69c-b57c0221cbbf"
   },
   "outputs": [
    {
     "data": {
      "text/html": [
       "<div>\n",
       "<style scoped>\n",
       "    .dataframe tbody tr th:only-of-type {\n",
       "        vertical-align: middle;\n",
       "    }\n",
       "\n",
       "    .dataframe tbody tr th {\n",
       "        vertical-align: top;\n",
       "    }\n",
       "\n",
       "    .dataframe thead th {\n",
       "        text-align: right;\n",
       "    }\n",
       "</style>\n",
       "<table border=\"1\" class=\"dataframe\">\n",
       "  <thead>\n",
       "    <tr style=\"text-align: right;\">\n",
       "      <th></th>\n",
       "      <th>wconfid</th>\n",
       "      <th>pctid</th>\n",
       "      <th>x</th>\n",
       "      <th>y</th>\n",
       "      <th>z</th>\n",
       "    </tr>\n",
       "  </thead>\n",
       "  <tbody>\n",
       "    <tr>\n",
       "      <th>count</th>\n",
       "      <td>153000.00000</td>\n",
       "      <td>153000.000000</td>\n",
       "      <td>153000.000000</td>\n",
       "      <td>153000.000000</td>\n",
       "      <td>153000.000000</td>\n",
       "    </tr>\n",
       "    <tr>\n",
       "      <th>mean</th>\n",
       "      <td>0.50000</td>\n",
       "      <td>0.500000</td>\n",
       "      <td>0.562367</td>\n",
       "      <td>0.500460</td>\n",
       "      <td>0.480986</td>\n",
       "    </tr>\n",
       "    <tr>\n",
       "      <th>std</th>\n",
       "      <td>0.40825</td>\n",
       "      <td>0.306187</td>\n",
       "      <td>0.048384</td>\n",
       "      <td>0.046424</td>\n",
       "      <td>0.043253</td>\n",
       "    </tr>\n",
       "    <tr>\n",
       "      <th>min</th>\n",
       "      <td>0.00000</td>\n",
       "      <td>0.000000</td>\n",
       "      <td>0.000000</td>\n",
       "      <td>0.000000</td>\n",
       "      <td>0.000000</td>\n",
       "    </tr>\n",
       "    <tr>\n",
       "      <th>25%</th>\n",
       "      <td>0.00000</td>\n",
       "      <td>0.250000</td>\n",
       "      <td>0.559202</td>\n",
       "      <td>0.495249</td>\n",
       "      <td>0.476449</td>\n",
       "    </tr>\n",
       "    <tr>\n",
       "      <th>50%</th>\n",
       "      <td>0.50000</td>\n",
       "      <td>0.500000</td>\n",
       "      <td>0.562141</td>\n",
       "      <td>0.500625</td>\n",
       "      <td>0.480381</td>\n",
       "    </tr>\n",
       "    <tr>\n",
       "      <th>75%</th>\n",
       "      <td>1.00000</td>\n",
       "      <td>0.750000</td>\n",
       "      <td>0.565079</td>\n",
       "      <td>0.506689</td>\n",
       "      <td>0.485317</td>\n",
       "    </tr>\n",
       "    <tr>\n",
       "      <th>max</th>\n",
       "      <td>1.00000</td>\n",
       "      <td>1.000000</td>\n",
       "      <td>1.000000</td>\n",
       "      <td>1.000000</td>\n",
       "      <td>1.000000</td>\n",
       "    </tr>\n",
       "  </tbody>\n",
       "</table>\n",
       "</div>"
      ],
      "text/plain": [
       "            wconfid          pctid              x              y  \\\n",
       "count  153000.00000  153000.000000  153000.000000  153000.000000   \n",
       "mean        0.50000       0.500000       0.562367       0.500460   \n",
       "std         0.40825       0.306187       0.048384       0.046424   \n",
       "min         0.00000       0.000000       0.000000       0.000000   \n",
       "25%         0.00000       0.250000       0.559202       0.495249   \n",
       "50%         0.50000       0.500000       0.562141       0.500625   \n",
       "75%         1.00000       0.750000       0.565079       0.506689   \n",
       "max         1.00000       1.000000       1.000000       1.000000   \n",
       "\n",
       "                   z  \n",
       "count  153000.000000  \n",
       "mean        0.480986  \n",
       "std         0.043253  \n",
       "min         0.000000  \n",
       "25%         0.476449  \n",
       "50%         0.480381  \n",
       "75%         0.485317  \n",
       "max         1.000000  "
      ]
     },
     "execution_count": 10,
     "metadata": {},
     "output_type": "execute_result"
    }
   ],
   "source": [
    "Datos_Min_Max.describe()"
   ]
  },
  {
   "cell_type": "code",
   "execution_count": 11,
   "metadata": {
    "colab": {
     "base_uri": "https://localhost:8080/",
     "height": 499
    },
    "id": "mzfq6_L8_jX5",
    "outputId": "5adcd579-bce6-4f98-da4c-bfe8fa257ff4"
   },
   "outputs": [
    {
     "data": {
      "image/png": "[encoded data removed]",
      "text/plain": [
       "<Figure size 1800x648 with 1 Axes>"
      ]
     },
     "metadata": {},
     "output_type": "display_data"
    }
   ],
   "source": [
    "sns.set(rc={'figure.figsize':(25,9)}) # Tamaño de la figura\n",
    "sns.set(style=\"whitegrid\") # Estilo de la figura\n",
    "sns.boxplot(data = Datos_Min_Max, linewidth = 3, palette=\"Set2\", fliersize = 5) # Diagrama Box Plot\n",
    "sns.despine(left=True)"
   ]
  },
  {
   "cell_type": "markdown",
   "metadata": {
    "id": "C28kiXbK_w0_"
   },
   "source": [
    "Se observa que las dos primeras columnas, *wconfid* y *pctid*, no tienen datos atípicos considerable pero las columnas *x*, *y*, *z*, tienen presencia de datos atípicos en ambos cuartiles (por debajo de 25% y por encima de 75 %). Por consiguiente, vamos a detectar y eliminar los datos atípicos sin sacrificar hasta lo posible la información que puedan ofrecer las variables *x*, *y*, *z*. "
   ]
  },
  {
   "cell_type": "markdown",
   "metadata": {
    "id": "cY1l7T3D88Ib"
   },
   "source": [
    "## Algoritmo LOF (Local Outlier Factor)"
   ]
  },
  {
   "cell_type": "markdown",
   "metadata": {
    "id": "TAttEqYhAa7t"
   },
   "source": [
    "Es un método de detección de outilers basado en una búsqueda local de datos atípicos llamado **factor atípico local o LOF**. Al usar LOF, se calcula la desviación local de la densidad de cada muestra con respecto a sus vecinos más cercanos. Por lo general, se utiliza una métrica de distancia entre una muestra y los vecinos más cercanos de forma local, donde una distancia más grande de un vecino con respecto a una muestra se considera como dato atípico. \n"
   ]
  },
  {
   "cell_type": "code",
   "execution_count": 12,
   "metadata": {
    "id": "qigJHwtVAiU4"
   },
   "outputs": [],
   "source": [
    "LOF = LocalOutlierFactor(n_neighbors = 5, algorithm = 'auto', contamination = 'auto', metric = 'euclidean') \n",
    "# OJO, usar un número de vecinos más cercano con números impares.\n",
    "\n",
    "Filtrado = LOF.fit_predict(Datos_Min_Max) # Se realiza la predicción de los datos atípicos\n",
    "\n",
    "NOF = LOF.negative_outlier_factor_ # Detecta los valores positivos y negativos (residuos). Si los valores son grandes, entonces son valores no atípicos y por lo general, son valores cercanos a -1.\n",
    "                                   # Si los valores son positivos y grandes y cercanos a 1, entonces son valores atípicos. La opción negative_outlier_dactor_ calcula dichos valores por \n",
    "                                   # la media de la relación entre la densidad local de una muestra y las de sus vecinos más cercanos.\n",
    "\n",
    "radio_outiler = (NOF.max() - NOF)/(NOF.max() - NOF.min()) # radio de detección de datos atípicos\n",
    "ground_truth = np.ones(len(Datos_Min_Max), dtype = int) \n",
    "# Se recomienda para luego comparar que datos es o no atípico (genera un vector de 1 o -1)\n",
    "n_errors = (Filtrado != ground_truth).sum() # número de datos atípicos"
   ]
  },
  {
   "cell_type": "code",
   "execution_count": 13,
   "metadata": {
    "colab": {
     "base_uri": "https://localhost:8080/"
    },
    "id": "tSaRDbMABfiv",
    "outputId": "5a6a1aaf-60e7-4cf0-fca2-336e0a10d17e"
   },
   "outputs": [
    {
     "name": "stdout",
     "output_type": "stream",
     "text": [
      "Detección:  [1 1 1 ... 1 1 1]\n",
      "Factores atípicos negativos:  [-1.06320122 -0.94153861 -0.97905    ... -0.95174656 -1.14236594\n",
      " -0.94374553]\n",
      "Número de muestras o filas con datos atípicos:  2581\n"
     ]
    }
   ],
   "source": [
    "print(\"Detección: \", Filtrado)\n",
    "print(\"Factores atípicos negativos: \", NOF)\n",
    "print(\"Número de muestras o filas con datos atípicos: \", n_errors)"
   ]
  },
  {
   "cell_type": "markdown",
   "metadata": {
    "id": "H5j6xdwGCCgY"
   },
   "source": [
    "Observemos como se visualiza la identificación de los datos atípicos, analizando dos características de nuestra base de datos"
   ]
  },
  {
   "cell_type": "code",
   "execution_count": 14,
   "metadata": {
    "colab": {
     "base_uri": "https://localhost:8080/",
     "height": 602
    },
    "id": "XipzBTCCB81w",
    "outputId": "60fa712e-d6a0-420f-d829-63cd556fe6fb"
   },
   "outputs": [
    {
     "data": {
      "image/png": "[encoded data removed]",
      "text/plain": [
       "<Figure size 1800x648 with 1 Axes>"
      ]
     },
     "metadata": {},
     "output_type": "display_data"
    }
   ],
   "source": [
    "plt.scatter(Datos_Min_Max['pctid'], Datos_Min_Max['x'], color='b', s=3, label='Datos')\n",
    "plt.scatter(Datos_Min_Max['pctid'], Datos_Min_Max['x'], s=1000 * radio_outiler, edgecolors='r', facecolors='none', label='valor outiler')\n",
    "plt.axis('tight')\n",
    "plt.xlabel('pctid')\n",
    "plt.ylabel('x')\n",
    "legend = plt.legend(loc = 'upper left')\n",
    "legend.legendHandles[0]._sizes = [10]\n",
    "legend.legendHandles[1]._sizes = [20]\n",
    "plt.show()"
   ]
  },
  {
   "cell_type": "markdown",
   "metadata": {
    "id": "KSxtMA_FDWc4"
   },
   "source": [
    "Ahora, vamos a eliminar las muestras o filas de la base de datos donde el algoritmo LOF identifico como datos atípicos"
   ]
  },
  {
   "cell_type": "code",
   "execution_count": 15,
   "metadata": {
    "colab": {
     "base_uri": "https://localhost:8080/",
     "height": 442
    },
    "id": "yDu7zrabDXo6",
    "outputId": "e5d4f3f1-847d-4e98-bde8-5edd2b19a4ed"
   },
   "outputs": [
    {
     "name": "stdout",
     "output_type": "stream",
     "text": [
      "Número de muestras sin outilers: 150419\n"
     ]
    },
    {
     "data": {
      "text/html": [
       "<div>\n",
       "<style scoped>\n",
       "    .dataframe tbody tr th:only-of-type {\n",
       "        vertical-align: middle;\n",
       "    }\n",
       "\n",
       "    .dataframe tbody tr th {\n",
       "        vertical-align: top;\n",
       "    }\n",
       "\n",
       "    .dataframe thead th {\n",
       "        text-align: right;\n",
       "    }\n",
       "</style>\n",
       "<table border=\"1\" class=\"dataframe\">\n",
       "  <thead>\n",
       "    <tr style=\"text-align: right;\">\n",
       "      <th></th>\n",
       "      <th>wconfid</th>\n",
       "      <th>pctid</th>\n",
       "      <th>x</th>\n",
       "      <th>y</th>\n",
       "      <th>z</th>\n",
       "    </tr>\n",
       "  </thead>\n",
       "  <tbody>\n",
       "    <tr>\n",
       "      <th>0</th>\n",
       "      <td>0.0</td>\n",
       "      <td>0.0</td>\n",
       "      <td>0.562891</td>\n",
       "      <td>0.505751</td>\n",
       "      <td>0.480381</td>\n",
       "    </tr>\n",
       "    <tr>\n",
       "      <th>1</th>\n",
       "      <td>0.0</td>\n",
       "      <td>0.0</td>\n",
       "      <td>0.562891</td>\n",
       "      <td>0.497437</td>\n",
       "      <td>0.480381</td>\n",
       "    </tr>\n",
       "    <tr>\n",
       "      <th>2</th>\n",
       "      <td>0.0</td>\n",
       "      <td>0.0</td>\n",
       "      <td>0.560703</td>\n",
       "      <td>0.505751</td>\n",
       "      <td>0.480716</td>\n",
       "    </tr>\n",
       "    <tr>\n",
       "      <th>3</th>\n",
       "      <td>0.0</td>\n",
       "      <td>0.0</td>\n",
       "      <td>0.560953</td>\n",
       "      <td>0.499375</td>\n",
       "      <td>0.479378</td>\n",
       "    </tr>\n",
       "    <tr>\n",
       "      <th>4</th>\n",
       "      <td>0.0</td>\n",
       "      <td>0.0</td>\n",
       "      <td>0.562641</td>\n",
       "      <td>0.499125</td>\n",
       "      <td>0.480716</td>\n",
       "    </tr>\n",
       "    <tr>\n",
       "      <th>...</th>\n",
       "      <td>...</td>\n",
       "      <td>...</td>\n",
       "      <td>...</td>\n",
       "      <td>...</td>\n",
       "      <td>...</td>\n",
       "    </tr>\n",
       "    <tr>\n",
       "      <th>152995</th>\n",
       "      <td>1.0</td>\n",
       "      <td>1.0</td>\n",
       "      <td>0.565829</td>\n",
       "      <td>0.505751</td>\n",
       "      <td>0.468920</td>\n",
       "    </tr>\n",
       "    <tr>\n",
       "      <th>152996</th>\n",
       "      <td>1.0</td>\n",
       "      <td>1.0</td>\n",
       "      <td>0.557514</td>\n",
       "      <td>0.502563</td>\n",
       "      <td>0.480047</td>\n",
       "    </tr>\n",
       "    <tr>\n",
       "      <th>152997</th>\n",
       "      <td>1.0</td>\n",
       "      <td>1.0</td>\n",
       "      <td>0.572393</td>\n",
       "      <td>0.494249</td>\n",
       "      <td>0.471848</td>\n",
       "    </tr>\n",
       "    <tr>\n",
       "      <th>152998</th>\n",
       "      <td>1.0</td>\n",
       "      <td>1.0</td>\n",
       "      <td>0.558515</td>\n",
       "      <td>0.512816</td>\n",
       "      <td>0.476449</td>\n",
       "    </tr>\n",
       "    <tr>\n",
       "      <th>152999</th>\n",
       "      <td>1.0</td>\n",
       "      <td>1.0</td>\n",
       "      <td>0.575081</td>\n",
       "      <td>0.489122</td>\n",
       "      <td>0.499958</td>\n",
       "    </tr>\n",
       "  </tbody>\n",
       "</table>\n",
       "<p>150419 rows × 5 columns</p>\n",
       "</div>"
      ],
      "text/plain": [
       "        wconfid  pctid         x         y         z\n",
       "0           0.0    0.0  0.562891  0.505751  0.480381\n",
       "1           0.0    0.0  0.562891  0.497437  0.480381\n",
       "2           0.0    0.0  0.560703  0.505751  0.480716\n",
       "3           0.0    0.0  0.560953  0.499375  0.479378\n",
       "4           0.0    0.0  0.562641  0.499125  0.480716\n",
       "...         ...    ...       ...       ...       ...\n",
       "152995      1.0    1.0  0.565829  0.505751  0.468920\n",
       "152996      1.0    1.0  0.557514  0.502563  0.480047\n",
       "152997      1.0    1.0  0.572393  0.494249  0.471848\n",
       "152998      1.0    1.0  0.558515  0.512816  0.476449\n",
       "152999      1.0    1.0  0.575081  0.489122  0.499958\n",
       "\n",
       "[150419 rows x 5 columns]"
      ]
     },
     "metadata": {},
     "output_type": "display_data"
    }
   ],
   "source": [
    "pos = np.where(Filtrado == ground_truth) # Se identifican en que muestras o filas de nuestra base de datos hay presencia de datos atípicos\n",
    "pos = np.asarray(pos)\n",
    "pos = np.hstack(pos)\n",
    "datos_sin_outilers_LOF = Datos_Min_Max.loc[pos, :]\n",
    "print(\"Número de muestras sin outilers:\", datos_sin_outilers_LOF.shape[0])\n",
    "display(datos_sin_outilers_LOF)"
   ]
  },
  {
   "cell_type": "code",
   "execution_count": 16,
   "metadata": {
    "colab": {
     "base_uri": "https://localhost:8080/"
    },
    "id": "8E2VmRAXDiIm",
    "outputId": "03b2805a-ff4b-4e5b-e63f-884d1b560403"
   },
   "outputs": [
    {
     "name": "stdout",
     "output_type": "stream",
     "text": [
      "(153000, 5)\n",
      "(150419, 5)\n"
     ]
    }
   ],
   "source": [
    "print(Datos_Min_Max.shape) # Tamaño de los datos originales\n",
    "print(datos_sin_outilers_LOF.shape) # Tamañno de los datos sin outliers "
   ]
  },
  {
   "cell_type": "markdown",
   "metadata": {
    "id": "ScJcShMyDtFx"
   },
   "source": [
    "¿Qué cambios se observan en el diagrama de cajas con la eliminación de datos atípicos basado en el algoritmo LOF?"
   ]
  },
  {
   "cell_type": "code",
   "execution_count": 17,
   "metadata": {
    "colab": {
     "base_uri": "https://localhost:8080/",
     "height": 499
    },
    "id": "BU-0AHOdDquF",
    "outputId": "44d794df-ab4f-4f21-bb2f-3102e96feed0"
   },
   "outputs": [
    {
     "data": {
      "image/png": "[encoded data removed]",
      "text/plain": [
       "<Figure size 1800x648 with 1 Axes>"
      ]
     },
     "metadata": {},
     "output_type": "display_data"
    }
   ],
   "source": [
    "sns.set(rc={'figure.figsize':(25,9)}) # Tamaño de la figura\n",
    "sns.set(style=\"whitegrid\") # Estilo de la figura\n",
    "sns.boxplot(data = datos_sin_outilers_LOF, linewidth = 3, palette=\"Set2\", fliersize = 5) # Diagrama Box Plot\n",
    "sns.despine(left=True)"
   ]
  },
  {
   "cell_type": "code",
   "execution_count": 65,
   "metadata": {},
   "outputs": [
    {
     "data": {
      "text/html": [
       "<div>\n",
       "<style scoped>\n",
       "    .dataframe tbody tr th:only-of-type {\n",
       "        vertical-align: middle;\n",
       "    }\n",
       "\n",
       "    .dataframe tbody tr th {\n",
       "        vertical-align: top;\n",
       "    }\n",
       "\n",
       "    .dataframe thead th {\n",
       "        text-align: right;\n",
       "    }\n",
       "</style>\n",
       "<table border=\"1\" class=\"dataframe\">\n",
       "  <thead>\n",
       "    <tr style=\"text-align: right;\">\n",
       "      <th></th>\n",
       "      <th>x</th>\n",
       "      <th>y</th>\n",
       "      <th>z</th>\n",
       "    </tr>\n",
       "  </thead>\n",
       "  <tbody>\n",
       "    <tr>\n",
       "      <th>0</th>\n",
       "      <td>0.323476</td>\n",
       "      <td>0.344776</td>\n",
       "      <td>0.352204</td>\n",
       "    </tr>\n",
       "    <tr>\n",
       "      <th>1</th>\n",
       "      <td>0.323476</td>\n",
       "      <td>0.347354</td>\n",
       "      <td>0.352204</td>\n",
       "    </tr>\n",
       "    <tr>\n",
       "      <th>2</th>\n",
       "      <td>0.324403</td>\n",
       "      <td>0.344776</td>\n",
       "      <td>0.352114</td>\n",
       "    </tr>\n",
       "    <tr>\n",
       "      <th>3</th>\n",
       "      <td>0.324297</td>\n",
       "      <td>0.346765</td>\n",
       "      <td>0.352470</td>\n",
       "    </tr>\n",
       "    <tr>\n",
       "      <th>4</th>\n",
       "      <td>0.323583</td>\n",
       "      <td>0.346841</td>\n",
       "      <td>0.352114</td>\n",
       "    </tr>\n",
       "    <tr>\n",
       "      <th>...</th>\n",
       "      <td>...</td>\n",
       "      <td>...</td>\n",
       "      <td>...</td>\n",
       "    </tr>\n",
       "    <tr>\n",
       "      <th>152995</th>\n",
       "      <td>0.322219</td>\n",
       "      <td>0.344776</td>\n",
       "      <td>0.355124</td>\n",
       "    </tr>\n",
       "    <tr>\n",
       "      <th>152996</th>\n",
       "      <td>0.325737</td>\n",
       "      <td>0.345781</td>\n",
       "      <td>0.352293</td>\n",
       "    </tr>\n",
       "    <tr>\n",
       "      <th>152997</th>\n",
       "      <td>0.319355</td>\n",
       "      <td>0.348305</td>\n",
       "      <td>0.354404</td>\n",
       "    </tr>\n",
       "    <tr>\n",
       "      <th>152998</th>\n",
       "      <td>0.325321</td>\n",
       "      <td>0.342478</td>\n",
       "      <td>0.353237</td>\n",
       "    </tr>\n",
       "    <tr>\n",
       "      <th>152999</th>\n",
       "      <td>0.318160</td>\n",
       "      <td>0.349792</td>\n",
       "      <td>0.346586</td>\n",
       "    </tr>\n",
       "  </tbody>\n",
       "</table>\n",
       "<p>153000 rows × 3 columns</p>\n",
       "</div>"
      ],
      "text/plain": [
       "               x         y         z\n",
       "0       0.323476  0.344776  0.352204\n",
       "1       0.323476  0.347354  0.352204\n",
       "2       0.324403  0.344776  0.352114\n",
       "3       0.324297  0.346765  0.352470\n",
       "4       0.323583  0.346841  0.352114\n",
       "...          ...       ...       ...\n",
       "152995  0.322219  0.344776  0.355124\n",
       "152996  0.325737  0.345781  0.352293\n",
       "152997  0.319355  0.348305  0.354404\n",
       "152998  0.325321  0.342478  0.353237\n",
       "152999  0.318160  0.349792  0.346586\n",
       "\n",
       "[153000 rows x 3 columns]"
      ]
     },
     "execution_count": 65,
     "metadata": {},
     "output_type": "execute_result"
    }
   ],
   "source": [
    "H_1"
   ]
  },
  {
   "cell_type": "markdown",
   "metadata": {
    "id": "WkS3ZPLxEimT"
   },
   "source": [
    "Para determinar si hay cambios considerables o no en la información de los datos, una estrategía es calcular el valor de la entropía en cada variable para comparar la información de los datos originales con respecto a la información de los datos con eliminación de datos atípicos (*Nota*: Solo se aplica con las características con datos cuantitativos):"
   ]
  },
  {
   "cell_type": "code",
   "execution_count": 18,
   "metadata": {
    "colab": {
     "base_uri": "https://localhost:8080/",
     "height": 143
    },
    "id": "-XgqMFC1E4QJ",
    "outputId": "1996fedb-5d00-4486-b97f-676291712c85"
   },
   "outputs": [
    {
     "data": {
      "text/html": [
       "<div>\n",
       "<style scoped>\n",
       "    .dataframe tbody tr th:only-of-type {\n",
       "        vertical-align: middle;\n",
       "    }\n",
       "\n",
       "    .dataframe tbody tr th {\n",
       "        vertical-align: top;\n",
       "    }\n",
       "\n",
       "    .dataframe thead th {\n",
       "        text-align: right;\n",
       "    }\n",
       "</style>\n",
       "<table border=\"1\" class=\"dataframe\">\n",
       "  <thead>\n",
       "    <tr style=\"text-align: right;\">\n",
       "      <th></th>\n",
       "      <th>Entropia Original</th>\n",
       "      <th>Entropia LOF</th>\n",
       "    </tr>\n",
       "  </thead>\n",
       "  <tbody>\n",
       "    <tr>\n",
       "      <th>x</th>\n",
       "      <td>0.321535</td>\n",
       "      <td>0.321538</td>\n",
       "    </tr>\n",
       "    <tr>\n",
       "      <th>y</th>\n",
       "      <td>0.344003</td>\n",
       "      <td>0.344028</td>\n",
       "    </tr>\n",
       "    <tr>\n",
       "      <th>z</th>\n",
       "      <td>0.350070</td>\n",
       "      <td>0.350089</td>\n",
       "    </tr>\n",
       "  </tbody>\n",
       "</table>\n",
       "</div>"
      ],
      "text/plain": [
       "   Entropia Original  Entropia LOF\n",
       "x           0.321535      0.321538\n",
       "y           0.344003      0.344028\n",
       "z           0.350070      0.350089"
      ]
     },
     "metadata": {},
     "output_type": "display_data"
    }
   ],
   "source": [
    "H_1 = entr(Datos_Min_Max[['x','y','z']])\n",
    "H_2 = entr(datos_sin_outilers_LOF[['x','y','z']])\n",
    "\n",
    "entropia_normalizada_1 = H_1.sum() / Datos_Min_Max.shape[0]\n",
    "entropia_normalizada_2 = H_2.sum() / datos_sin_outilers_LOF.shape[0]\n",
    "\n",
    "entropia_normalizada_1 = pd.DataFrame(entropia_normalizada_1, index = None, columns = ['Entropia Original'])\n",
    "entropia_normalizada_2 = pd.DataFrame(entropia_normalizada_2, index = None, columns = ['Entropia LOF'])\n",
    "Comparacion_entropias = pd.concat([entropia_normalizada_1, entropia_normalizada_2], axis = 1)\n",
    "\n",
    "display(Comparacion_entropias)"
   ]
  },
  {
   "cell_type": "markdown",
   "metadata": {
    "id": "65G7oHP5GnC5"
   },
   "source": [
    "Al comparar ambos casos, se concluye que el algoritmo LOF conservó la cantidad de información original de la base de datos."
   ]
  },
  {
   "cell_type": "markdown",
   "metadata": {
    "id": "QGifX5JiRXrw"
   },
   "source": [
    "## Rango intercuartil para detección de datos atípicos"
   ]
  },
  {
   "cell_type": "markdown",
   "metadata": {
    "id": "9C55NkNLRnXb"
   },
   "source": [
    "El método de rango intercuartil es un método de detección de datos atípicos a partir de la diferencia entre el primer (25%) y el tercer cuartil (75%), el cual permite cubrir el 50% de los datos. \n",
    "\n",
    "$IQR = Q3 - Q1$"
   ]
  },
  {
   "cell_type": "code",
   "execution_count": 64,
   "metadata": {},
   "outputs": [
    {
     "data": {
      "text/html": [
       "<div>\n",
       "<style scoped>\n",
       "    .dataframe tbody tr th:only-of-type {\n",
       "        vertical-align: middle;\n",
       "    }\n",
       "\n",
       "    .dataframe tbody tr th {\n",
       "        vertical-align: top;\n",
       "    }\n",
       "\n",
       "    .dataframe thead th {\n",
       "        text-align: right;\n",
       "    }\n",
       "</style>\n",
       "<table border=\"1\" class=\"dataframe\">\n",
       "  <thead>\n",
       "    <tr style=\"text-align: right;\">\n",
       "      <th></th>\n",
       "      <th>wconfid</th>\n",
       "      <th>pctid</th>\n",
       "      <th>x</th>\n",
       "      <th>y</th>\n",
       "      <th>z</th>\n",
       "    </tr>\n",
       "  </thead>\n",
       "  <tbody>\n",
       "    <tr>\n",
       "      <th>0</th>\n",
       "      <td>0.0</td>\n",
       "      <td>0.0</td>\n",
       "      <td>0.562891</td>\n",
       "      <td>0.505751</td>\n",
       "      <td>0.480381</td>\n",
       "    </tr>\n",
       "    <tr>\n",
       "      <th>1</th>\n",
       "      <td>0.0</td>\n",
       "      <td>0.0</td>\n",
       "      <td>0.562891</td>\n",
       "      <td>0.497437</td>\n",
       "      <td>0.480381</td>\n",
       "    </tr>\n",
       "    <tr>\n",
       "      <th>2</th>\n",
       "      <td>0.0</td>\n",
       "      <td>0.0</td>\n",
       "      <td>0.560703</td>\n",
       "      <td>0.505751</td>\n",
       "      <td>0.480716</td>\n",
       "    </tr>\n",
       "    <tr>\n",
       "      <th>3</th>\n",
       "      <td>0.0</td>\n",
       "      <td>0.0</td>\n",
       "      <td>0.560953</td>\n",
       "      <td>0.499375</td>\n",
       "      <td>0.479378</td>\n",
       "    </tr>\n",
       "    <tr>\n",
       "      <th>4</th>\n",
       "      <td>0.0</td>\n",
       "      <td>0.0</td>\n",
       "      <td>0.562641</td>\n",
       "      <td>0.499125</td>\n",
       "      <td>0.480716</td>\n",
       "    </tr>\n",
       "    <tr>\n",
       "      <th>...</th>\n",
       "      <td>...</td>\n",
       "      <td>...</td>\n",
       "      <td>...</td>\n",
       "      <td>...</td>\n",
       "      <td>...</td>\n",
       "    </tr>\n",
       "    <tr>\n",
       "      <th>152995</th>\n",
       "      <td>1.0</td>\n",
       "      <td>1.0</td>\n",
       "      <td>0.565829</td>\n",
       "      <td>0.505751</td>\n",
       "      <td>0.468920</td>\n",
       "    </tr>\n",
       "    <tr>\n",
       "      <th>152996</th>\n",
       "      <td>1.0</td>\n",
       "      <td>1.0</td>\n",
       "      <td>0.557514</td>\n",
       "      <td>0.502563</td>\n",
       "      <td>0.480047</td>\n",
       "    </tr>\n",
       "    <tr>\n",
       "      <th>152997</th>\n",
       "      <td>1.0</td>\n",
       "      <td>1.0</td>\n",
       "      <td>0.572393</td>\n",
       "      <td>0.494249</td>\n",
       "      <td>0.471848</td>\n",
       "    </tr>\n",
       "    <tr>\n",
       "      <th>152998</th>\n",
       "      <td>1.0</td>\n",
       "      <td>1.0</td>\n",
       "      <td>0.558515</td>\n",
       "      <td>0.512816</td>\n",
       "      <td>0.476449</td>\n",
       "    </tr>\n",
       "    <tr>\n",
       "      <th>152999</th>\n",
       "      <td>1.0</td>\n",
       "      <td>1.0</td>\n",
       "      <td>0.575081</td>\n",
       "      <td>0.489122</td>\n",
       "      <td>0.499958</td>\n",
       "    </tr>\n",
       "  </tbody>\n",
       "</table>\n",
       "<p>153000 rows × 5 columns</p>\n",
       "</div>"
      ],
      "text/plain": [
       "        wconfid  pctid         x         y         z\n",
       "0           0.0    0.0  0.562891  0.505751  0.480381\n",
       "1           0.0    0.0  0.562891  0.497437  0.480381\n",
       "2           0.0    0.0  0.560703  0.505751  0.480716\n",
       "3           0.0    0.0  0.560953  0.499375  0.479378\n",
       "4           0.0    0.0  0.562641  0.499125  0.480716\n",
       "...         ...    ...       ...       ...       ...\n",
       "152995      1.0    1.0  0.565829  0.505751  0.468920\n",
       "152996      1.0    1.0  0.557514  0.502563  0.480047\n",
       "152997      1.0    1.0  0.572393  0.494249  0.471848\n",
       "152998      1.0    1.0  0.558515  0.512816  0.476449\n",
       "152999      1.0    1.0  0.575081  0.489122  0.499958\n",
       "\n",
       "[153000 rows x 5 columns]"
      ]
     },
     "execution_count": 64,
     "metadata": {},
     "output_type": "execute_result"
    }
   ],
   "source": [
    "Datos_Min_Max"
   ]
  },
  {
   "cell_type": "code",
   "execution_count": 19,
   "metadata": {
    "colab": {
     "base_uri": "https://localhost:8080/"
    },
    "id": "XI_ah9z7Rfeh",
    "outputId": "71a5be46-29c0-4b9b-c897-da454a2c55a8"
   },
   "outputs": [
    {
     "name": "stdout",
     "output_type": "stream",
     "text": [
      "[1.         0.5        0.00587647 0.01144036 0.00886807]\n"
     ]
    }
   ],
   "source": [
    "IQR = iqr(Datos_Min_Max, axis = 0, rng = (25, 75), interpolation = 'midpoint')\n",
    "print(IQR)"
   ]
  },
  {
   "cell_type": "markdown",
   "metadata": {
    "id": "v8WDjznOW_lK"
   },
   "source": [
    "Ahora, calculamos la *desviación cuartil*, el cual es la mitad del IQR:"
   ]
  },
  {
   "cell_type": "code",
   "execution_count": 20,
   "metadata": {
    "colab": {
     "base_uri": "https://localhost:8080/"
    },
    "id": "owDH2kLCW_JW",
    "outputId": "ca543130-70f5-4f37-b541-26f3e4c434af"
   },
   "outputs": [
    {
     "name": "stdout",
     "output_type": "stream",
     "text": [
      "[0.5        0.25       0.00293823 0.00572018 0.00443403]\n"
     ]
    }
   ],
   "source": [
    "DC = IQR/2\n",
    "print(DC)"
   ]
  },
  {
   "cell_type": "markdown",
   "metadata": {
    "id": "nd_z9cfvY3QJ"
   },
   "source": [
    "La desviación cuartil nos permite observar que región de los datos está por fuera del IQR (Se puede visualizar con el diagrama de cajas). Ahora, vamos a calcular los límites intercuatiles el cual es $Q1 - 1.5*IQR$ y $Q3 + 1.5*IQR$. El valor 1.5 permite establecer una distancia entre el cuartil Q1 y Q3 con respecto al extremo superior e inferior de una caja que representa los datos."
   ]
  },
  {
   "cell_type": "code",
   "execution_count": 21,
   "metadata": {
    "colab": {
     "base_uri": "https://localhost:8080/"
    },
    "id": "8mwvqN72XvDx",
    "outputId": "9f7a7f8d-cac4-46a2-96ea-14bc77b7ce18"
   },
   "outputs": [
    {
     "name": "stdout",
     "output_type": "stream",
     "text": [
      "Límites inferiores =  [-1.5        -0.5         0.5503876   0.47808827  0.46314733]\n",
      "\n",
      "\n",
      "Límites superiores =  [2.5        1.5        0.57389347 0.52384971 0.49861959]\n"
     ]
    },
    {
     "name": "stderr",
     "output_type": "stream",
     "text": [
      "C:\\Users\\mdmgu\\AppData\\Local\\Temp\\ipykernel_19220\\1281563668.py:1: DeprecationWarning: the `interpolation=` argument to percentile was renamed to `method=`, which has additional options.\n",
      "Users of the modes 'nearest', 'lower', 'higher', or 'midpoint' are encouraged to review the method they used. (Deprecated NumPy 1.22)\n",
      "  Q1 = np.percentile(Datos_Min_Max, 25, axis = 0, interpolation = 'midpoint')\n",
      "C:\\Users\\mdmgu\\AppData\\Local\\Temp\\ipykernel_19220\\1281563668.py:2: DeprecationWarning: the `interpolation=` argument to percentile was renamed to `method=`, which has additional options.\n",
      "Users of the modes 'nearest', 'lower', 'higher', or 'midpoint' are encouraged to review the method they used. (Deprecated NumPy 1.22)\n",
      "  Q3 = np.percentile(Datos_Min_Max, 75, axis = 0, interpolation = 'midpoint')\n"
     ]
    }
   ],
   "source": [
    "Q1 = np.percentile(Datos_Min_Max, 25, axis = 0, interpolation = 'midpoint')\n",
    "Q3 = np.percentile(Datos_Min_Max, 75, axis = 0, interpolation = 'midpoint')\n",
    "\n",
    "Min_Limite = Q1 - 1.5 * IQR\n",
    "Max_Limite = Q3 + 1.5 * IQR\n",
    "\n",
    "print(\"Límites inferiores = \", Min_Limite)\n",
    "print(\"\\n\")\n",
    "print(\"Límites superiores = \", Max_Limite)"
   ]
  },
  {
   "cell_type": "code",
   "execution_count": 22,
   "metadata": {
    "colab": {
     "base_uri": "https://localhost:8080/",
     "height": 496
    },
    "id": "Ic4wZw8tZ4c4",
    "outputId": "df7f8b23-4af5-44fa-9442-5bdc37faf72d"
   },
   "outputs": [
    {
     "data": {
      "image/png": "[encoded data removed]",
      "text/plain": [
       "<Figure size 1800x648 with 1 Axes>"
      ]
     },
     "metadata": {},
     "output_type": "display_data"
    }
   ],
   "source": [
    "sns.set(rc={'figure.figsize':(25,9)}) # Tamaño de la figura\n",
    "sns.set(style=\"whitegrid\") # Estilo de la figura\n",
    "sns.boxplot(data = Datos_Min_Max, linewidth = 3, palette=\"Set2\", fliersize = 5) # Diagrama Box Plot\n",
    "\n",
    "for m in range(len(IQR)):\n",
    "    plt.axhline(Min_Limite[m], color = 'r')\n",
    "    plt.axhline(Max_Limite[m], color = 'b')\n",
    "\n",
    "sns.despine(left=True)"
   ]
  },
  {
   "cell_type": "code",
   "execution_count": 23,
   "metadata": {
    "colab": {
     "base_uri": "https://localhost:8080/",
     "height": 206
    },
    "id": "Q_YmOQuZbvXb",
    "outputId": "dbd3cc48-f5ea-4277-8927-0f1197f07b7d"
   },
   "outputs": [
    {
     "data": {
      "text/html": [
       "<div>\n",
       "<style scoped>\n",
       "    .dataframe tbody tr th:only-of-type {\n",
       "        vertical-align: middle;\n",
       "    }\n",
       "\n",
       "    .dataframe tbody tr th {\n",
       "        vertical-align: top;\n",
       "    }\n",
       "\n",
       "    .dataframe thead th {\n",
       "        text-align: right;\n",
       "    }\n",
       "</style>\n",
       "<table border=\"1\" class=\"dataframe\">\n",
       "  <thead>\n",
       "    <tr style=\"text-align: right;\">\n",
       "      <th></th>\n",
       "      <th>Número de Datos Atípicos</th>\n",
       "    </tr>\n",
       "  </thead>\n",
       "  <tbody>\n",
       "    <tr>\n",
       "      <th>wconfid</th>\n",
       "      <td>0</td>\n",
       "    </tr>\n",
       "    <tr>\n",
       "      <th>pctid</th>\n",
       "      <td>0</td>\n",
       "    </tr>\n",
       "    <tr>\n",
       "      <th>x</th>\n",
       "      <td>38169</td>\n",
       "    </tr>\n",
       "    <tr>\n",
       "      <th>y</th>\n",
       "      <td>30135</td>\n",
       "    </tr>\n",
       "    <tr>\n",
       "      <th>z</th>\n",
       "      <td>43205</td>\n",
       "    </tr>\n",
       "  </tbody>\n",
       "</table>\n",
       "</div>"
      ],
      "text/plain": [
       "         Número de Datos Atípicos\n",
       "wconfid                         0\n",
       "pctid                           0\n",
       "x                           38169\n",
       "y                           30135\n",
       "z                           43205"
      ]
     },
     "metadata": {},
     "output_type": "display_data"
    }
   ],
   "source": [
    "datos_atipicos_wconfid = []\n",
    "datos_atipicos_pctid = []\n",
    "datos_atipicos_x = []\n",
    "datos_atipicos_y = []\n",
    "datos_atipicos_z = []\n",
    "\n",
    "pos_atipicos_wconfid = []\n",
    "pos_atipicos_pctid = []\n",
    "pos_atipicos_x = []\n",
    "pos_atipicos_y = []\n",
    "pos_atipicos_z = []\n",
    "\n",
    "for n in range(Datos_Min_Max.shape[0]):\n",
    "  if Datos_Min_Max.iloc[n,0] < Min_Limite[0] or Datos_Min_Max.iloc[n,0] > Max_Limite[0]:\n",
    "     datos_atipicos_wconfid.append(Datos_Min_Max.iloc[n,0])\n",
    "     pos_atipicos_wconfid.append(n)\n",
    "  if Datos_Min_Max.iloc[n,1] < Min_Limite[1] or Datos_Min_Max.iloc[n,1] > Max_Limite[1]:\n",
    "     datos_atipicos_pctid.append(Datos_Min_Max.iloc[n,1])\n",
    "     pos_atipicos_pctid.append(n)\n",
    "  if Datos_Min_Max.iloc[n,2] < Min_Limite[2] or Datos_Min_Max.iloc[n,2] > Max_Limite[2]:\n",
    "     datos_atipicos_x.append(Datos_Min_Max.iloc[n,2])\n",
    "     pos_atipicos_x.append(n)\n",
    "  if Datos_Min_Max.iloc[n,3] < Min_Limite[3] or Datos_Min_Max.iloc[n,3] > Max_Limite[3]:\n",
    "     datos_atipicos_y.append(Datos_Min_Max.iloc[n,3])\n",
    "     pos_atipicos_y.append(n)\n",
    "  if Datos_Min_Max.iloc[n,4] < Min_Limite[4] or Datos_Min_Max.iloc[n,4] > Max_Limite[4]:\n",
    "     datos_atipicos_z.append(Datos_Min_Max.iloc[n,4])\n",
    "     pos_atipicos_z.append(n)\n",
    "\n",
    "Numero_datos_atipicos = [len(datos_atipicos_wconfid), len(datos_atipicos_pctid), len(datos_atipicos_x), \n",
    "                         len(datos_atipicos_y), len(datos_atipicos_z)]\n",
    "\n",
    "reporte = pd.DataFrame(Numero_datos_atipicos, index = nombres, columns = ['Número de Datos Atípicos'])\n",
    "display(reporte)  "
   ]
  },
  {
   "cell_type": "markdown",
   "metadata": {
    "id": "Y-Jf8_UfeP4J"
   },
   "source": [
    "¿Cómo eliminar los datos atípicos si las columnas $x$, $y$, $z$, tienen diferentes número de datos atípicos? Una estrategía es localizar las posiciones donde coincidan los datos atípicos de las tres columnas mencionadas."
   ]
  },
  {
   "cell_type": "code",
   "execution_count": 24,
   "metadata": {
    "colab": {
     "base_uri": "https://localhost:8080/"
    },
    "id": "cwyvlWnEePX0",
    "outputId": "ae352f2c-4514-4e75-d725-8c5991922ef4"
   },
   "outputs": [
    {
     "name": "stdout",
     "output_type": "stream",
     "text": [
      "18742\n"
     ]
    }
   ],
   "source": [
    "Posiciones_coinciden = list(set(pos_atipicos_x) & set(pos_atipicos_y) & set(pos_atipicos_z))\n",
    "print(len(Posiciones_coinciden))"
   ]
  },
  {
   "cell_type": "markdown",
   "metadata": {
    "id": "vnINjupCjchI"
   },
   "source": [
    "En este punto, vamos a eliminar los datos atípicos con dos opciones:"
   ]
  },
  {
   "cell_type": "markdown",
   "metadata": {
    "id": "CfS2EkuPjigw"
   },
   "source": [
    "*Opción 1: Usando la función drop para remover filas de la base de datos*"
   ]
  },
  {
   "cell_type": "code",
   "execution_count": 25,
   "metadata": {
    "colab": {
     "base_uri": "https://localhost:8080/"
    },
    "id": "QhBpjouVfS73",
    "outputId": "1cb13b24-bc17-4616-bf19-84f14492b47a"
   },
   "outputs": [
    {
     "name": "stdout",
     "output_type": "stream",
     "text": [
      "(153000, 5)\n",
      "(134258, 5)\n",
      "Muestras removidas =  18742\n"
     ]
    }
   ],
   "source": [
    "datos_sin_outliers_IQR = Datos_Min_Max.drop(Posiciones_coinciden)\n",
    "print(Datos_Min_Max.shape) # Tamaño de los datos originales\n",
    "print(datos_sin_outliers_IQR.shape) # Tamañno de los datos sin outliers\n",
    "print(\"Muestras removidas = \", Datos_Min_Max.shape[0] - datos_sin_outliers_IQR.shape[0]) "
   ]
  },
  {
   "cell_type": "code",
   "execution_count": 26,
   "metadata": {
    "colab": {
     "base_uri": "https://localhost:8080/",
     "height": 499
    },
    "id": "AWxgRlHHfphP",
    "outputId": "8b7679b9-e06e-4e42-f8fb-c948423affb9"
   },
   "outputs": [
    {
     "data": {
      "image/png": "[encoded data removed]",
      "text/plain": [
       "<Figure size 1800x648 with 1 Axes>"
      ]
     },
     "metadata": {},
     "output_type": "display_data"
    }
   ],
   "source": [
    "sns.set(rc={'figure.figsize':(25,9)}) # Tamaño de la figura\n",
    "sns.set(style=\"whitegrid\") # Estilo de la figura\n",
    "sns.boxplot(data = datos_sin_outliers_IQR, linewidth = 3, palette=\"Set2\", fliersize = 5) # Diagrama Box Plot\n",
    "sns.despine(left=True)"
   ]
  },
  {
   "cell_type": "markdown",
   "metadata": {
    "id": "AK_VDNGHjs4J"
   },
   "source": [
    "*Opción 2: Usando un taponamiento superior e inferior*"
   ]
  },
  {
   "cell_type": "code",
   "execution_count": 27,
   "metadata": {
    "id": "TNkmWFdJj0z3"
   },
   "outputs": [],
   "source": [
    "Datos_taponados = Datos_Min_Max.copy()\n",
    "\n",
    "Datos_taponados['x'] = np.where(Datos_taponados['x'] > Max_Limite[2], Max_Limite[2],\n",
    "                                np.where(Datos_taponados['x'] < Min_Limite[2], Min_Limite[2], Datos_taponados['x']))\n",
    "\n",
    "Datos_taponados['y'] = np.where(Datos_taponados['y'] > Max_Limite[3], Max_Limite[3],\n",
    "                                np.where(Datos_taponados['y'] < Min_Limite[3], Min_Limite[3], Datos_taponados['y']))\n",
    "\n",
    "Datos_taponados['z'] = np.where(Datos_taponados['z'] > Max_Limite[4], Max_Limite[4],\n",
    "                                np.where(Datos_taponados['z'] < Min_Limite[4], Min_Limite[4], Datos_taponados['z']))"
   ]
  },
  {
   "cell_type": "code",
   "execution_count": 28,
   "metadata": {
    "colab": {
     "base_uri": "https://localhost:8080/",
     "height": 499
    },
    "id": "dtGONKClmmon",
    "outputId": "62f4e3da-32c3-4792-b860-3be846b3880e"
   },
   "outputs": [
    {
     "data": {
      "image/png": "[encoded data removed]",
      "text/plain": [
       "<Figure size 1800x648 with 1 Axes>"
      ]
     },
     "metadata": {},
     "output_type": "display_data"
    }
   ],
   "source": [
    "sns.set(rc={'figure.figsize':(25,9)}) # Tamaño de la figura\n",
    "sns.set(style=\"whitegrid\") # Estilo de la figura\n",
    "sns.boxplot(data = Datos_taponados, linewidth = 3, palette=\"Set2\", fliersize = 5) # Diagrama Box Plot\n",
    "sns.despine(left=True)"
   ]
  },
  {
   "cell_type": "markdown",
   "metadata": {
    "id": "4YjI_7q5mzxc"
   },
   "source": [
    "Comparemos los resultados de ambas opciones con la métrica de la entropía"
   ]
  },
  {
   "cell_type": "code",
   "execution_count": 29,
   "metadata": {
    "colab": {
     "base_uri": "https://localhost:8080/",
     "height": 143
    },
    "id": "Bwcc6er7gvHD",
    "outputId": "0f6343ac-bee1-439f-9ee7-135a22b9bfdb"
   },
   "outputs": [
    {
     "data": {
      "text/html": [
       "<div>\n",
       "<style scoped>\n",
       "    .dataframe tbody tr th:only-of-type {\n",
       "        vertical-align: middle;\n",
       "    }\n",
       "\n",
       "    .dataframe tbody tr th {\n",
       "        vertical-align: top;\n",
       "    }\n",
       "\n",
       "    .dataframe thead th {\n",
       "        text-align: right;\n",
       "    }\n",
       "</style>\n",
       "<table border=\"1\" class=\"dataframe\">\n",
       "  <thead>\n",
       "    <tr style=\"text-align: right;\">\n",
       "      <th></th>\n",
       "      <th>Entropia Original</th>\n",
       "      <th>Entropia IQR</th>\n",
       "      <th>Entropia IQR Taponado</th>\n",
       "    </tr>\n",
       "  </thead>\n",
       "  <tbody>\n",
       "    <tr>\n",
       "      <th>x</th>\n",
       "      <td>0.321535</td>\n",
       "      <td>0.322888</td>\n",
       "      <td>0.323757</td>\n",
       "    </tr>\n",
       "    <tr>\n",
       "      <th>y</th>\n",
       "      <td>0.344003</td>\n",
       "      <td>0.345610</td>\n",
       "      <td>0.346077</td>\n",
       "    </tr>\n",
       "    <tr>\n",
       "      <th>z</th>\n",
       "      <td>0.350070</td>\n",
       "      <td>0.351448</td>\n",
       "      <td>0.352000</td>\n",
       "    </tr>\n",
       "  </tbody>\n",
       "</table>\n",
       "</div>"
      ],
      "text/plain": [
       "   Entropia Original  Entropia IQR  Entropia IQR Taponado\n",
       "x           0.321535      0.322888               0.323757\n",
       "y           0.344003      0.345610               0.346077\n",
       "z           0.350070      0.351448               0.352000"
      ]
     },
     "metadata": {},
     "output_type": "display_data"
    }
   ],
   "source": [
    "H_1 = entr(Datos_Min_Max[['x','y','z']])\n",
    "H_2 = entr(datos_sin_outliers_IQR[['x','y','z']])\n",
    "H_3 = entr(Datos_taponados[['x','y','z']])\n",
    "\n",
    "entropia_normalizada_1 = H_1.sum()/Datos_Min_Max.shape[0]\n",
    "entropia_normalizada_2 = H_2.sum()/datos_sin_outliers_IQR.shape[0]\n",
    "entropia_normalizada_3 = H_3.sum()/Datos_taponados.shape[0]\n",
    "\n",
    "entropia_normalizada_1 = pd.DataFrame(entropia_normalizada_1, index = None, columns = ['Entropia Original'])\n",
    "entropia_normalizada_2 = pd.DataFrame(entropia_normalizada_2, index = None, columns = ['Entropia IQR'])\n",
    "entropia_normalizada_3 = pd.DataFrame(entropia_normalizada_3, index = None, columns = ['Entropia IQR Taponado'])\n",
    "Comparacion_entropias = pd.concat([entropia_normalizada_1, entropia_normalizada_2, entropia_normalizada_3], axis = 1)\n",
    "\n",
    "display(Comparacion_entropias)"
   ]
  },
  {
   "cell_type": "markdown",
   "metadata": {
    "id": "vZzKd8mAG9Pz"
   },
   "source": [
    "## Test Z para Detección de Datos Atípicos"
   ]
  },
  {
   "cell_type": "markdown",
   "metadata": {
    "id": "ZdiamuOqHrhe"
   },
   "source": [
    "El test Z o puntuación estándar es un test estadístico que permite entender si un valor de los datos es mayor o menor que la media y a qué distancia está de la media. Lo anterior indica cuántas desviaciones estándar hay entre un punto de los datos y la media.\n",
    "\n",
    "$z = \\frac{x - \\mu}{\\sigma}$\n",
    "\n",
    "siendo $x$ una columna de datos, $\\mu$ es la media de la columna de datos y $\\sigma$ es la desviación estándar de la columna de datos (observen que este concepto es exactamente igual al método de escalamiento estándar visto en la sesión anterior).\n",
    "\n",
    "Para el caso de la detección de datos atípicos, se sugiere seguir la regla de las 3 desviaciones estándar:\n",
    "\n",
    "1.   Si se considera el 68% de los datos dentro de una distribución normal, entonces se considera una desviación estándar más o menos de 1, es decir, $\\mu \\pm \\sigma$\n",
    "2.   Si se considera el 95% de los datos dentro de una distribución normal, entonces se considera una desviación estándar más o menos de 2, es decir, $\\mu \\pm 2\\sigma$\n",
    "3.   Si se considera el 99.7% de los datos dentro de una distribución normal, entonces se considera una desviación estándar más o menos de 2, es decir, $\\mu \\pm 3\\sigma$\n",
    "\n",
    "Por ejemplo, si la el valor $z$ de un dato es mayor a 3, esto nos indica que el dato es muy diferente de los demás datos, y por consiguiente, el dato puede ser un valor atípico."
   ]
  },
  {
   "cell_type": "code",
   "execution_count": 30,
   "metadata": {
    "colab": {
     "base_uri": "https://localhost:8080/"
    },
    "id": "--Ad2OMzJ19_",
    "outputId": "fde97c2b-2c33-471d-ed17-749c06c4dfd3"
   },
   "outputs": [
    {
     "name": "stdout",
     "output_type": "stream",
     "text": [
      "media de las características de la base de datos: \n",
      " wconfid    0.500000\n",
      "pctid      0.500000\n",
      "x          0.562367\n",
      "y          0.500460\n",
      "z          0.480986\n",
      "dtype: float64\n",
      "desviación estándar de las características de la base de datos: \n",
      "  wconfid    0.408248\n",
      "pctid      0.306186\n",
      "x          0.048384\n",
      "y          0.046424\n",
      "z          0.043253\n",
      "dtype: float64\n"
     ]
    },
    {
     "name": "stderr",
     "output_type": "stream",
     "text": [
      "C:\\Users\\mdmgu\\AppData\\Local\\Programs\\Python\\Python39\\lib\\site-packages\\numpy\\core\\fromnumeric.py:3430: FutureWarning: In a future version, DataFrame.mean(axis=None) will return a scalar mean over the entire DataFrame. To retain the old behavior, use 'frame.mean(axis=0)' or just 'frame.mean()'\n",
      "  return mean(axis=axis, dtype=dtype, out=out, **kwargs)\n"
     ]
    }
   ],
   "source": [
    "media = np.mean(Datos_Min_Max)\n",
    "std = np.std(Datos_Min_Max)\n",
    "\n",
    "print('media de las características de la base de datos: \\n', media)\n",
    "print('desviación estándar de las características de la base de datos: \\n ', std)"
   ]
  },
  {
   "cell_type": "code",
   "execution_count": 31,
   "metadata": {
    "colab": {
     "base_uri": "https://localhost:8080/",
     "height": 300
    },
    "id": "GsKGmCM8KYOm",
    "outputId": "fd39975c-5ccd-4526-ad9a-3c66ac3feaab"
   },
   "outputs": [
    {
     "data": {
      "text/html": [
       "<div>\n",
       "<style scoped>\n",
       "    .dataframe tbody tr th:only-of-type {\n",
       "        vertical-align: middle;\n",
       "    }\n",
       "\n",
       "    .dataframe tbody tr th {\n",
       "        vertical-align: top;\n",
       "    }\n",
       "\n",
       "    .dataframe thead th {\n",
       "        text-align: right;\n",
       "    }\n",
       "</style>\n",
       "<table border=\"1\" class=\"dataframe\">\n",
       "  <thead>\n",
       "    <tr style=\"text-align: right;\">\n",
       "      <th></th>\n",
       "      <th>wconfid</th>\n",
       "      <th>pctid</th>\n",
       "      <th>x</th>\n",
       "      <th>y</th>\n",
       "      <th>z</th>\n",
       "    </tr>\n",
       "  </thead>\n",
       "  <tbody>\n",
       "    <tr>\n",
       "      <th>count</th>\n",
       "      <td>1.530000e+05</td>\n",
       "      <td>1.530000e+05</td>\n",
       "      <td>1.530000e+05</td>\n",
       "      <td>1.530000e+05</td>\n",
       "      <td>1.530000e+05</td>\n",
       "    </tr>\n",
       "    <tr>\n",
       "      <th>mean</th>\n",
       "      <td>4.755528e-17</td>\n",
       "      <td>-1.188882e-17</td>\n",
       "      <td>2.691703e-16</td>\n",
       "      <td>1.205647e-15</td>\n",
       "      <td>-9.709822e-16</td>\n",
       "    </tr>\n",
       "    <tr>\n",
       "      <th>std</th>\n",
       "      <td>1.000003e+00</td>\n",
       "      <td>1.000003e+00</td>\n",
       "      <td>1.000003e+00</td>\n",
       "      <td>1.000003e+00</td>\n",
       "      <td>1.000003e+00</td>\n",
       "    </tr>\n",
       "    <tr>\n",
       "      <th>min</th>\n",
       "      <td>-1.224745e+00</td>\n",
       "      <td>-1.632993e+00</td>\n",
       "      <td>-1.162291e+01</td>\n",
       "      <td>-1.078018e+01</td>\n",
       "      <td>-1.112024e+01</td>\n",
       "    </tr>\n",
       "    <tr>\n",
       "      <th>25%</th>\n",
       "      <td>-1.224745e+00</td>\n",
       "      <td>-8.164966e-01</td>\n",
       "      <td>-6.540706e-02</td>\n",
       "      <td>-1.122427e-01</td>\n",
       "      <td>-1.048940e-01</td>\n",
       "    </tr>\n",
       "    <tr>\n",
       "      <th>50%</th>\n",
       "      <td>0.000000e+00</td>\n",
       "      <td>0.000000e+00</td>\n",
       "      <td>-4.680082e-03</td>\n",
       "      <td>3.566742e-03</td>\n",
       "      <td>-1.398598e-02</td>\n",
       "    </tr>\n",
       "    <tr>\n",
       "      <th>75%</th>\n",
       "      <td>1.224745e+00</td>\n",
       "      <td>8.164966e-01</td>\n",
       "      <td>5.604690e-02</td>\n",
       "      <td>1.341890e-01</td>\n",
       "      <td>1.001326e-01</td>\n",
       "    </tr>\n",
       "    <tr>\n",
       "      <th>max</th>\n",
       "      <td>1.224745e+00</td>\n",
       "      <td>1.632993e+00</td>\n",
       "      <td>9.044932e+00</td>\n",
       "      <td>1.076038e+01</td>\n",
       "      <td>1.199941e+01</td>\n",
       "    </tr>\n",
       "  </tbody>\n",
       "</table>\n",
       "</div>"
      ],
      "text/plain": [
       "            wconfid         pctid             x             y             z\n",
       "count  1.530000e+05  1.530000e+05  1.530000e+05  1.530000e+05  1.530000e+05\n",
       "mean   4.755528e-17 -1.188882e-17  2.691703e-16  1.205647e-15 -9.709822e-16\n",
       "std    1.000003e+00  1.000003e+00  1.000003e+00  1.000003e+00  1.000003e+00\n",
       "min   -1.224745e+00 -1.632993e+00 -1.162291e+01 -1.078018e+01 -1.112024e+01\n",
       "25%   -1.224745e+00 -8.164966e-01 -6.540706e-02 -1.122427e-01 -1.048940e-01\n",
       "50%    0.000000e+00  0.000000e+00 -4.680082e-03  3.566742e-03 -1.398598e-02\n",
       "75%    1.224745e+00  8.164966e-01  5.604690e-02  1.341890e-01  1.001326e-01\n",
       "max    1.224745e+00  1.632993e+00  9.044932e+00  1.076038e+01  1.199941e+01"
      ]
     },
     "execution_count": 31,
     "metadata": {},
     "output_type": "execute_result"
    }
   ],
   "source": [
    "regla_desviacion = 3\n",
    "z = (Datos_Min_Max - media)/std\n",
    "z.describe()"
   ]
  },
  {
   "cell_type": "code",
   "execution_count": 32,
   "metadata": {
    "colab": {
     "base_uri": "https://localhost:8080/",
     "height": 206
    },
    "id": "8A5Owq81LKGD",
    "outputId": "730016b7-c4f6-486d-a79a-48e88d37ab6f"
   },
   "outputs": [
    {
     "data": {
      "text/html": [
       "<div>\n",
       "<style scoped>\n",
       "    .dataframe tbody tr th:only-of-type {\n",
       "        vertical-align: middle;\n",
       "    }\n",
       "\n",
       "    .dataframe tbody tr th {\n",
       "        vertical-align: top;\n",
       "    }\n",
       "\n",
       "    .dataframe thead th {\n",
       "        text-align: right;\n",
       "    }\n",
       "</style>\n",
       "<table border=\"1\" class=\"dataframe\">\n",
       "  <thead>\n",
       "    <tr style=\"text-align: right;\">\n",
       "      <th></th>\n",
       "      <th>Número de Datos Atípicos</th>\n",
       "    </tr>\n",
       "  </thead>\n",
       "  <tbody>\n",
       "    <tr>\n",
       "      <th>wconfid</th>\n",
       "      <td>0</td>\n",
       "    </tr>\n",
       "    <tr>\n",
       "      <th>pctid</th>\n",
       "      <td>0</td>\n",
       "    </tr>\n",
       "    <tr>\n",
       "      <th>x</th>\n",
       "      <td>2287</td>\n",
       "    </tr>\n",
       "    <tr>\n",
       "      <th>y</th>\n",
       "      <td>1827</td>\n",
       "    </tr>\n",
       "    <tr>\n",
       "      <th>z</th>\n",
       "      <td>2417</td>\n",
       "    </tr>\n",
       "  </tbody>\n",
       "</table>\n",
       "</div>"
      ],
      "text/plain": [
       "         Número de Datos Atípicos\n",
       "wconfid                         0\n",
       "pctid                           0\n",
       "x                            2287\n",
       "y                            1827\n",
       "z                            2417"
      ]
     },
     "metadata": {},
     "output_type": "display_data"
    }
   ],
   "source": [
    "datos_atipicos_wconfid = []\n",
    "datos_atipicos_pctid = []\n",
    "datos_atipicos_x = []\n",
    "datos_atipicos_y = []\n",
    "datos_atipicos_z = []\n",
    "\n",
    "pos_atipicos_wconfid = []\n",
    "pos_atipicos_pctid = []\n",
    "pos_atipicos_x = []\n",
    "pos_atipicos_y = []\n",
    "pos_atipicos_z = []\n",
    "\n",
    "for n in range(Datos_Min_Max.shape[0]):\n",
    "    if z.iloc[n,0] > regla_desviacion:\n",
    "      datos_atipicos_wconfid.append(Datos_Min_Max.iloc[n,0])\n",
    "      pos_atipicos_wconfid.append(n)\n",
    "    if z.iloc[n,1] > regla_desviacion:\n",
    "      datos_atipicos_pctid.append(Datos_Min_Max.iloc[n,1])\n",
    "      pos_atipicos_pctid.append(n)\n",
    "    if z.iloc[n,2] > regla_desviacion:\n",
    "      datos_atipicos_x.append(Datos_Min_Max.iloc[n,2])\n",
    "      pos_atipicos_x.append(n) \n",
    "    if z.iloc[n,3] > regla_desviacion:\n",
    "      datos_atipicos_y.append(Datos_Min_Max.iloc[n,3])\n",
    "      pos_atipicos_y.append(n) \n",
    "    if z.iloc[n,4] > regla_desviacion:\n",
    "      datos_atipicos_z.append(Datos_Min_Max.iloc[n,4])\n",
    "      pos_atipicos_z.append(n)\n",
    "\n",
    "Numero_datos_atipicos = [len(datos_atipicos_wconfid), len(datos_atipicos_pctid), len(datos_atipicos_x), \n",
    "                         len(datos_atipicos_y), len(datos_atipicos_z)]\n",
    "\n",
    "reporte = pd.DataFrame(Numero_datos_atipicos, index = nombres, columns = ['Número de Datos Atípicos'])\n",
    "display(reporte)  "
   ]
  },
  {
   "cell_type": "markdown",
   "metadata": {
    "id": "8xG-HnOTO4-h"
   },
   "source": [
    "¿Cómo eliminar los datos atípicos si las columnas $x$, $y$, $z$, tienen diferentes número de datos atípicos? Una estrategía es localizar las posiciones donde coincidan los datos atípicos de las tres columnas mencionadas."
   ]
  },
  {
   "cell_type": "code",
   "execution_count": 33,
   "metadata": {
    "colab": {
     "base_uri": "https://localhost:8080/"
    },
    "id": "Hyaw9V8BPUFq",
    "outputId": "f14170f7-e440-4817-91b0-aefb6e787b73"
   },
   "outputs": [
    {
     "name": "stdout",
     "output_type": "stream",
     "text": [
      "[45573, 97414, 50952, 50826, 99598, 42513, 46098, 45842, 49553, 99219, 49823, 42145, 47011, 47523, 49322, 48298, 46510, 46128, 46262, 44984, 99514, 48829, 46412, 48717, 47956, 47060, 48736, 43107, 100336, 97655]\n"
     ]
    }
   ],
   "source": [
    "Posiciones_coinciden = list(set(pos_atipicos_x) & set(pos_atipicos_y) & set(pos_atipicos_z))\n",
    "print(Posiciones_coinciden)"
   ]
  },
  {
   "cell_type": "code",
   "execution_count": 34,
   "metadata": {
    "colab": {
     "base_uri": "https://localhost:8080/"
    },
    "id": "bNCcK6dBWUHK",
    "outputId": "0bd36b3a-20b1-45f9-8b71-600fee80df3d"
   },
   "outputs": [
    {
     "name": "stdout",
     "output_type": "stream",
     "text": [
      "(153000, 5)\n",
      "(152970, 5)\n"
     ]
    }
   ],
   "source": [
    "datos_sin_outliers_z = Datos_Min_Max.drop(Posiciones_coinciden)\n",
    "print(Datos_Min_Max.shape) # Tamaño de los datos originales\n",
    "print(datos_sin_outliers_z.shape) # Tamañno de los datos sin outliers "
   ]
  },
  {
   "cell_type": "markdown",
   "metadata": {
    "id": "GeB8E6ancwbs"
   },
   "source": [
    "Verificando con la métrica de entropía"
   ]
  },
  {
   "cell_type": "code",
   "execution_count": 35,
   "metadata": {
    "colab": {
     "base_uri": "https://localhost:8080/",
     "height": 143
    },
    "id": "N53apF4nczwA",
    "outputId": "56375990-4a6c-4238-b107-fe5666c70b1a"
   },
   "outputs": [
    {
     "data": {
      "text/html": [
       "<div>\n",
       "<style scoped>\n",
       "    .dataframe tbody tr th:only-of-type {\n",
       "        vertical-align: middle;\n",
       "    }\n",
       "\n",
       "    .dataframe tbody tr th {\n",
       "        vertical-align: top;\n",
       "    }\n",
       "\n",
       "    .dataframe thead th {\n",
       "        text-align: right;\n",
       "    }\n",
       "</style>\n",
       "<table border=\"1\" class=\"dataframe\">\n",
       "  <thead>\n",
       "    <tr style=\"text-align: right;\">\n",
       "      <th></th>\n",
       "      <th>Entropia Original</th>\n",
       "      <th>Entropia Z</th>\n",
       "    </tr>\n",
       "  </thead>\n",
       "  <tbody>\n",
       "    <tr>\n",
       "      <th>x</th>\n",
       "      <td>0.321535</td>\n",
       "      <td>0.321569</td>\n",
       "    </tr>\n",
       "    <tr>\n",
       "      <th>y</th>\n",
       "      <td>0.344003</td>\n",
       "      <td>0.344024</td>\n",
       "    </tr>\n",
       "    <tr>\n",
       "      <th>z</th>\n",
       "      <td>0.350070</td>\n",
       "      <td>0.350088</td>\n",
       "    </tr>\n",
       "  </tbody>\n",
       "</table>\n",
       "</div>"
      ],
      "text/plain": [
       "   Entropia Original  Entropia Z\n",
       "x           0.321535    0.321569\n",
       "y           0.344003    0.344024\n",
       "z           0.350070    0.350088"
      ]
     },
     "metadata": {},
     "output_type": "display_data"
    }
   ],
   "source": [
    "H_1 = entr(Datos_Min_Max[['x','y','z']])\n",
    "H_2 = entr(datos_sin_outliers_z[['x','y','z']])\n",
    "\n",
    "entropia_normalizada_1 = H_1.sum()/Datos_Min_Max.shape[0]\n",
    "entropia_normalizada_2 = H_2.sum()/datos_sin_outliers_z.shape[0]\n",
    "\n",
    "entropia_normalizada_1 = pd.DataFrame(entropia_normalizada_1, index = None, columns = ['Entropia Original'])\n",
    "entropia_normalizada_2 = pd.DataFrame(entropia_normalizada_2, index = None, columns = ['Entropia Z'])\n",
    "Comparacion_entropias = pd.concat([entropia_normalizada_1, entropia_normalizada_2], axis = 1)\n",
    "\n",
    "display(Comparacion_entropias)"
   ]
  },
  {
   "cell_type": "markdown",
   "metadata": {
    "id": "caysuJO79ofi"
   },
   "source": [
    "## Test Z Modificado para Detección de Datos Atípicos"
   ]
  },
  {
   "cell_type": "markdown",
   "metadata": {
    "id": "DEYu8MI89xj1"
   },
   "source": [
    "El test Z modificado es una mejora del test Z clásico para mejorar la sensibilidad en la detección de datos atípicos. A diferencia del test Z, el test Z modificado cálcula la cantidad de desviaciones medias por debajo o por encima de la mediana de los datos, lo cual, permite detectar aquellos datos con mayor valor de $z$. Si el valor de $z$ es mayor, la desviación media de la mediana de los datos será mayor y permitirá detectar aquellos datos atípicos.\n",
    "\n",
    "La fórmula para calcular el Test Z modificado es el siguiente:\n",
    "\n",
    "$z_{mod} = 0.6745 \\left (\\frac{x-mediana}{MAD} \\right )$\n",
    "\n",
    "donde $MAD$ significa *Desviación Mediana Absoluta*, el cual reemplaza el cálculo de la desviación estándar del test Z clásico y el factor 0.6745 esta cercano a la regla 1 mencionado del test Z original. "
   ]
  },
  {
   "cell_type": "code",
   "execution_count": 36,
   "metadata": {
    "colab": {
     "base_uri": "https://localhost:8080/"
    },
    "id": "WJLcgTdx9vPy",
    "outputId": "d1dd4b2a-99f3-4a5b-edf7-4f8a677b45f3"
   },
   "outputs": [
    {
     "name": "stdout",
     "output_type": "stream",
     "text": [
      "mediana de las características de la base de datos: \n",
      " [0.5        0.5        0.56214054 0.50062516 0.48038149]\n",
      "\n",
      "\n",
      "MAD de las características de la base de datos: \n",
      "  [0.5        0.25       0.00293823 0.00562641 0.00460136]\n"
     ]
    }
   ],
   "source": [
    "mediana = np.median(Datos_Min_Max, axis = 0)\n",
    "MAD = median_abs_deviation(Datos_Min_Max)\n",
    "\n",
    "print('mediana de las características de la base de datos: \\n', mediana)\n",
    "print('\\n')\n",
    "print('MAD de las características de la base de datos: \\n ', MAD)"
   ]
  },
  {
   "cell_type": "code",
   "execution_count": 37,
   "metadata": {
    "colab": {
     "base_uri": "https://localhost:8080/",
     "height": 300
    },
    "id": "XrU4zXZgD7e-",
    "outputId": "e7d90030-40eb-4727-e780-b4a4fc658b01"
   },
   "outputs": [
    {
     "data": {
      "text/html": [
       "<div>\n",
       "<style scoped>\n",
       "    .dataframe tbody tr th:only-of-type {\n",
       "        vertical-align: middle;\n",
       "    }\n",
       "\n",
       "    .dataframe tbody tr th {\n",
       "        vertical-align: top;\n",
       "    }\n",
       "\n",
       "    .dataframe thead th {\n",
       "        text-align: right;\n",
       "    }\n",
       "</style>\n",
       "<table border=\"1\" class=\"dataframe\">\n",
       "  <thead>\n",
       "    <tr style=\"text-align: right;\">\n",
       "      <th></th>\n",
       "      <th>wconfid</th>\n",
       "      <th>pctid</th>\n",
       "      <th>x</th>\n",
       "      <th>y</th>\n",
       "      <th>z</th>\n",
       "    </tr>\n",
       "  </thead>\n",
       "  <tbody>\n",
       "    <tr>\n",
       "      <th>count</th>\n",
       "      <td>1.530000e+05</td>\n",
       "      <td>1.530000e+05</td>\n",
       "      <td>153000.000000</td>\n",
       "      <td>153000.000000</td>\n",
       "      <td>153000.000000</td>\n",
       "    </tr>\n",
       "    <tr>\n",
       "      <th>mean</th>\n",
       "      <td>1.783323e-17</td>\n",
       "      <td>-1.188882e-17</td>\n",
       "      <td>0.051982</td>\n",
       "      <td>-0.019850</td>\n",
       "      <td>0.088676</td>\n",
       "    </tr>\n",
       "    <tr>\n",
       "      <th>std</th>\n",
       "      <td>5.507287e-01</td>\n",
       "      <td>8.260931e-01</td>\n",
       "      <td>11.107125</td>\n",
       "      <td>5.565387</td>\n",
       "      <td>6.340396</td>\n",
       "    </tr>\n",
       "    <tr>\n",
       "      <th>min</th>\n",
       "      <td>-6.745000e-01</td>\n",
       "      <td>-1.349000e+00</td>\n",
       "      <td>-129.044766</td>\n",
       "      <td>-60.015511</td>\n",
       "      <td>-70.417800</td>\n",
       "    </tr>\n",
       "    <tr>\n",
       "      <th>25%</th>\n",
       "      <td>-6.745000e-01</td>\n",
       "      <td>-6.745000e-01</td>\n",
       "      <td>-0.674500</td>\n",
       "      <td>-0.644522</td>\n",
       "      <td>-0.576391</td>\n",
       "    </tr>\n",
       "    <tr>\n",
       "      <th>50%</th>\n",
       "      <td>0.000000e+00</td>\n",
       "      <td>0.000000e+00</td>\n",
       "      <td>0.000000</td>\n",
       "      <td>0.000000</td>\n",
       "      <td>0.000000</td>\n",
       "    </tr>\n",
       "    <tr>\n",
       "      <th>75%</th>\n",
       "      <td>6.745000e-01</td>\n",
       "      <td>6.745000e-01</td>\n",
       "      <td>0.674500</td>\n",
       "      <td>0.726961</td>\n",
       "      <td>0.723555</td>\n",
       "    </tr>\n",
       "    <tr>\n",
       "      <th>max</th>\n",
       "      <td>6.745000e-01</td>\n",
       "      <td>1.349000e+00</td>\n",
       "      <td>100.514851</td>\n",
       "      <td>59.865622</td>\n",
       "      <td>76.169445</td>\n",
       "    </tr>\n",
       "  </tbody>\n",
       "</table>\n",
       "</div>"
      ],
      "text/plain": [
       "            wconfid         pctid              x              y              z\n",
       "count  1.530000e+05  1.530000e+05  153000.000000  153000.000000  153000.000000\n",
       "mean   1.783323e-17 -1.188882e-17       0.051982      -0.019850       0.088676\n",
       "std    5.507287e-01  8.260931e-01      11.107125       5.565387       6.340396\n",
       "min   -6.745000e-01 -1.349000e+00    -129.044766     -60.015511     -70.417800\n",
       "25%   -6.745000e-01 -6.745000e-01      -0.674500      -0.644522      -0.576391\n",
       "50%    0.000000e+00  0.000000e+00       0.000000       0.000000       0.000000\n",
       "75%    6.745000e-01  6.745000e-01       0.674500       0.726961       0.723555\n",
       "max    6.745000e-01  1.349000e+00     100.514851      59.865622      76.169445"
      ]
     },
     "execution_count": 37,
     "metadata": {},
     "output_type": "execute_result"
    }
   ],
   "source": [
    "z_modificado = 0.6745*((Datos_Min_Max - mediana)/MAD)\n",
    "z_modificado.describe()"
   ]
  },
  {
   "cell_type": "code",
   "execution_count": 38,
   "metadata": {
    "colab": {
     "base_uri": "https://localhost:8080/",
     "height": 206
    },
    "id": "EgfqdyEjNfU8",
    "outputId": "15b63aad-d42d-476f-b9f9-8fac46f14df0"
   },
   "outputs": [
    {
     "data": {
      "text/html": [
       "<div>\n",
       "<style scoped>\n",
       "    .dataframe tbody tr th:only-of-type {\n",
       "        vertical-align: middle;\n",
       "    }\n",
       "\n",
       "    .dataframe tbody tr th {\n",
       "        vertical-align: top;\n",
       "    }\n",
       "\n",
       "    .dataframe thead th {\n",
       "        text-align: right;\n",
       "    }\n",
       "</style>\n",
       "<table border=\"1\" class=\"dataframe\">\n",
       "  <thead>\n",
       "    <tr style=\"text-align: right;\">\n",
       "      <th></th>\n",
       "      <th>Número de Datos Atípicos</th>\n",
       "    </tr>\n",
       "  </thead>\n",
       "  <tbody>\n",
       "    <tr>\n",
       "      <th>wconfid</th>\n",
       "      <td>0</td>\n",
       "    </tr>\n",
       "    <tr>\n",
       "      <th>pctid</th>\n",
       "      <td>0</td>\n",
       "    </tr>\n",
       "    <tr>\n",
       "      <th>x</th>\n",
       "      <td>18061</td>\n",
       "    </tr>\n",
       "    <tr>\n",
       "      <th>y</th>\n",
       "      <td>15114</td>\n",
       "    </tr>\n",
       "    <tr>\n",
       "      <th>z</th>\n",
       "      <td>19405</td>\n",
       "    </tr>\n",
       "  </tbody>\n",
       "</table>\n",
       "</div>"
      ],
      "text/plain": [
       "         Número de Datos Atípicos\n",
       "wconfid                         0\n",
       "pctid                           0\n",
       "x                           18061\n",
       "y                           15114\n",
       "z                           19405"
      ]
     },
     "metadata": {},
     "output_type": "display_data"
    }
   ],
   "source": [
    "regla_desviacion = 3\n",
    "\n",
    "datos_atipicos_wconfid = []\n",
    "datos_atipicos_pctid = []\n",
    "datos_atipicos_x = []\n",
    "datos_atipicos_y = []\n",
    "datos_atipicos_z = []\n",
    "\n",
    "for n in range(Datos_Min_Max.shape[0]):\n",
    "    if z_modificado.iloc[n,0] > regla_desviacion:\n",
    "      datos_atipicos_wconfid.append(Datos_Min_Max.iloc[n,0])\n",
    "    if z_modificado.iloc[n,1] > regla_desviacion:\n",
    "      datos_atipicos_pctid.append(Datos_Min_Max.iloc[n,1])\n",
    "    if z_modificado.iloc[n,2] > regla_desviacion:\n",
    "      datos_atipicos_x.append(Datos_Min_Max.iloc[n,2]) \n",
    "    if z_modificado.iloc[n,3] > regla_desviacion:\n",
    "      datos_atipicos_y.append(Datos_Min_Max.iloc[n,3])\n",
    "    if z_modificado.iloc[n,4] > regla_desviacion:\n",
    "      datos_atipicos_z.append(Datos_Min_Max.iloc[n,4])\n",
    "\n",
    "Numero_datos_atipicos = [len(datos_atipicos_wconfid), len(datos_atipicos_pctid), len(datos_atipicos_x), \n",
    "                         len(datos_atipicos_y), len(datos_atipicos_z)]\n",
    "\n",
    "reporte = pd.DataFrame(Numero_datos_atipicos, index = nombres, columns = ['Número de Datos Atípicos'])\n",
    "display(reporte)  "
   ]
  },
  {
   "cell_type": "code",
   "execution_count": 39,
   "metadata": {
    "colab": {
     "base_uri": "https://localhost:8080/"
    },
    "id": "tJgGKAJfOEXq",
    "outputId": "62f3101c-2be0-4fd6-d9f7-8419bf3fe39e"
   },
   "outputs": [
    {
     "name": "stdout",
     "output_type": "stream",
     "text": [
      "[40960, 81922, 49161, 49167, 90129, 49170, 98323, 49174, 49178, 90154, 41003, 49200, 49214, 41023, 49215, 98373, 90182, 98379, 41040, 82000, 41044, 90202, 41055, 98415, 41071, 98426, 98429, 41085, 49279, 98432, 90251, 90258, 49299, 98452, 90262, 49315, 98470, 49319, 49322, 49331, 90292, 49334, 41150, 41154, 32963, 49347, 98502, 49352, 49360, 90325, 32986, 98523, 98526, 41182, 49374, 98532, 90343, 41192, 33018, 90374, 49416, 98573, 49427, 41237, 98584, 98585, 41241, 98588, 41245, 49438, 90398, 98594, 33062, 49449, 41258, 49451, 41260, 98612, 33088, 98628, 41284, 41286, 49477, 49481, 82260, 49506, 90468, 98662, 98666, 90475, 41325, 49523, 33144, 49532, 90492, 90500, 98693, 49545, 90506, 41358, 98705, 49553, 49555, 98708, 49559, 49561, 90523, 49570, 90530, 98726, 90550, 41407, 98752, 41408, 90567, 33226, 41419, 90578, 41435, 33244, 98781, 98782, 41436, 41438, 41441, 98788, 90598, 33256, 41451, 49644, 98797, 98806, 49655, 98819, 41477, 49669, 90632, 98827, 90638, 41492, 49685, 90646, 90649, 41509, 90663, 98865, 98869, 90677, 49730, 98895, 98898, 41554, 41555, 98901, 82520, 49755, 49756, 98910, 90719, 41570, 41582, 49774, 41587, 98936, 98942, 98948, 90757, 90759, 90767, 98962, 49810, 82581, 49823, 33441, 98980, 49830, 41655, 41656, 82616, 99005, 49854, 90828, 99024, 82642, 49878, 41687, 41693, 90848, 33505, 49894, 41705, 49905, 99066, 49922, 49923, 99088, 49939, 99096, 90908, 49954, 49955, 33572, 99108, 99111, 90919, 99114, 99117, 41775, 90933, 49976, 49979, 41789, 99134, 41790, 49982, 41793, 49986, 41805, 99151, 50000, 50005, 50008, 33627, 41819, 41820, 50015, 90978, 99172, 50024, 50026, 41842, 41856, 99201, 41864, 50057, 41871, 99219, 91027, 91030, 50074, 50085, 99240, 99252, 99260, 33751, 99289, 99300, 41963, 33780, 99322, 50173, 99330, 41986, 50186, 91146, 91149, 91152, 50197, 33814, 50202, 50205, 91169, 33827, 50218, 91180, 99374, 91183, 99377, 50226, 33845, 42039, 91193, 50236, 91196, 99391, 91200, 91203, 42064, 33874, 42075, 99425, 42082, 99431, 50281, 50283, 42098, 50295, 33912, 33913, 99457, 99459, 50308, 42117, 99462, 33929, 42122, 99475, 91283, 50325, 50326, 42135, 42145, 42146, 99491, 33963, 99507, 99510, 42166, 99514, 42178, 33993, 42185, 50378, 99534, 42195, 50388, 50391, 99546, 91358, 50402, 99555, 34024, 42216, 50412, 99568, 42230, 34040, 50425, 91385, 42238, 42243, 34057, 99598, 42257, 91412, 50456, 99618, 99621, 34087, 34088, 50473, 42282, 50475, 50476, 91443, 42292, 91445, 42296, 91449, 91450, 99643, 99653, 91462, 91463, 42312, 42313, 50508, 91470, 50511, 99664, 34134, 99671, 34151, 42347, 50543, 42364, 91521, 99720, 42386, 99732, 34198, 42390, 42396, 99746, 34215, 91562, 50608, 42417, 91569, 34236, 50621, 91583, 42436, 42438, 42443, 91600, 42450, 91607, 42462, 34271, 42463, 50654, 34283, 91634, 42485, 42486, 42506, 42509, 34318, 50701, 42513, 99858, 42524, 99873, 50723, 91688, 99884, 99893, 99896, 99899, 50752, 34373, 42569, 91722, 91725, 50768, 91732, 42589, 42590, 91754, 91756, 42606, 50798, 42611, 42617, 99962, 42620, 50825, 50826, 42639, 50832, 99985, 42645, 50847, 42657, 42665, 50870, 100025, 42682, 100027, 50877, 42689, 50881, 91847, 42697, 42698, 100045, 100049, 100051, 50904, 34521, 50907, 100060, 42717, 42718, 50910, 91867, 42724, 100074, 50924, 91884, 42740, 100089, 50937, 34555, 42747, 50941, 91897, 100096, 100097, 42754, 91904, 100103, 50952, 100107, 34573, 42768, 50962, 50965, 42775, 100126, 100146, 42805, 100155, 42811, 42813, 91968, 42821, 83786, 91981, 42833, 91988, 100183, 100186, 34657, 92004, 92007, 42875, 34687, 42889, 92042, 100252, 42917, 100270, 42935, 100281, 92094, 100291, 100293, 92105, 42954, 100299, 92107, 100302, 42965, 83942, 42983, 42988, 92141, 100336, 42994, 100342, 43000, 92154, 34811, 100348, 34823, 43015, 43016, 34828, 43021, 100377, 43051, 92209, 43060, 84026, 43068, 34878, 100414, 100417, 100420, 92240, 43090, 92247, 43098, 92254, 43106, 43107, 100454, 34921, 100463, 100466, 43127, 100472, 92282, 43131, 92298, 92305, 43155, 43177, 34989, 34990, 43187, 92339, 92343, 43201, 35023, 35024, 100560, 43219, 92373, 43231, 92387, 92395, 35058, 92407, 100604, 35074, 35075, 100618, 100622, 92435, 35092, 43288, 92445, 43296, 100641, 43301, 84269, 100662, 43319, 43326, 100679, 92489, 43339, 100689, 43350, 100697, 43360, 43367, 92526, 100726, 35193, 35194, 43385, 84349, 43407, 43414, 100763, 43427, 43430, 92583, 100777, 100780, 43437, 43439, 43441, 43443, 43445, 43446, 43459, 43466, 100821, 100828, 43493, 84453, 35313, 84469, 100857, 43514, 84485, 43530, 35339, 43532, 84493, 84501, 43547, 43548, 84509, 100895, 92706, 43557, 92710, 92720, 43575, 92730, 27201, 100932, 92740, 100939, 100943, 43609, 43610, 35419, 92764, 100957, 100960, 27236, 35436, 35437, 100975, 43633, 84597, 43640, 27261, 92798, 43647, 35461, 84613, 27271, 43660, 92812, 101009, 27281, 84629, 84637, 43678, 35488, 92832, 92835, 101037, 35504, 35505, 84661, 101054, 35521, 35522, 84677, 43721, 43723, 35538, 92886, 43741, 43744, 43746, 35555, 35556, 43755, 84717, 101106, 43762, 35572, 35573, 43765, 27385, 43774, 92927, 101120, 43776, 101123, 27395, 101126, 84749, 101138, 27415, 84761, 92954, 43804, 92958, 27425, 84771, 84773, 35624, 27435, 43821, 101166, 101167, 43825, 43829, 101175, 35641, 27450, 101182, 92990, 84805, 84813, 43857, 43865, 35674, 101210, 43870, 101216, 93025, 43884, 101233, 93048, 43900, 93055, 35712, 93058, 43908, 93064, 93065, 93068, 101261, 27534, 101272, 27544, 101276, 27549, 43934, 43935, 93088, 101284, 43944, 93101, 27569, 43955, 27574, 101307, 35773, 101310, 93131, 101324, 35789, 43984, 43985, 43997, 84957, 35807, 93151, 44014, 93167, 93170, 93171, 101364, 93174, 98302, 101373, 101379, 85005, 101390, 35858, 85011, 44056, 35865, 101404, 93214, 44063, 93223, 93227, 85037, 27693, 93231, 101427, 44090, 27708, 44094, 35905, 27713, 44101, 101446, 44110, 85077, 44125, 93282, 35939, 44132, 101478, 101481, 44139, 85101, 85109, 101515, 93323, 44176, 101521, 35986, 101524, 44183, 93335, 44185, 93340, 93343, 36009, 101545, 93353, 93369, 101571, 101574, 101581, 93399, 101593, 101595, 101596, 44252, 36063, 44255, 93419, 93432, 93434, 101633, 93445, 44301, 85261, 93455, 44309, 85269, 101656, 44314, 44323, 36133, 93477, 44330, 85297, 44343, 101691, 44350, 44351, 36162, 93506, 85316, 85317, 36166, 36170, 101711, 93522, 36186, 36187, 44379, 44381, 36190, 101728, 101730, 93541, 44391, 44400, 101745, 44412, 93572, 93581, 101779, 101781, 44437, 85397, 101785, 44444, 36257, 101793, 36260, 101796, 93606, 36265, 36269, 44468, 36277, 101816, 36281, 93625, 44475, 101822, 44478, 85453, 101839, 101842, 101845, 36315, 44507, 85477, 101862, 44524, 93686, 93689, 44539, 101885, 36352, 36356, 44548, 44559, 101907, 44580, 36389, 44587, 36399, 44593, 93746, 85557, 101959, 44615, 44617, 44618, 44619, 93768, 85581, 44626, 28250, 85597, 28255, 36450, 85605, 36454, 44646, 36458, 101997, 36462, 85613, 36466, 36470, 44664, 85629, 44671, 93824, 36482, 36484, 36488, 44680, 93834, 36496, 93840, 44695, 44697, 36506, 44702, 44704, 93858, 93859, 44710, 44731, 93885, 28365, 44754, 85717, 93911, 93913, 44762, 44763, 44769, 85733, 36593, 44786, 93945, 44813, 44820, 85781, 85805, 93997, 36655, 85813, 44857, 94010, 85821, 85829, 36679, 94035, 85845, 36695, 28510, 36703, 36707, 44901, 36711, 94055, 44908, 85869, 94067, 85877, 36729, 85885, 94096, 36755, 94107, 44957, 44960, 44964, 36788, 94133, 44984, 44985, 94143, 36807, 94152, 45001, 36812, 28620, 45006, 28625, 36819, 45013, 94173, 36831, 85989, 28665, 94207, 45056, 94220, 28690, 36887, 36888, 45079, 45080, 36896, 45091, 45101, 45110, 28730, 36942, 86101, 45142, 94299, 45151, 28770, 45156, 94308, 45161, 86125, 45167, 45171, 94324, 94327, 86139, 28795, 36989, 45181, 94340, 45190, 94343, 28810, 94346, 37011, 94358, 45214, 94371, 94387, 45238, 37062, 37066, 86221, 45262, 45267, 86237, 45285, 86245, 94441, 45290, 86253, 94445, 37105, 45299, 94456, 37114, 86277, 37136, 86293, 86301, 94497, 86309, 28965, 28970, 37163, 94507, 86317, 37171, 37172, 28980, 37175, 86333, 94526, 45375, 45378, 37188, 86341, 37191, 86349, 94542, 45392, 45393, 29010, 86357, 86365, 45412, 86373, 45421, 86381, 45425, 37237, 94582, 37240, 29050, 45435, 78204, 94592, 86404, 94601, 45454, 37263, 94607, 29075, 94611, 94614, 37274, 45467, 45469, 45494, 37303, 37308, 37315, 45511, 37325, 94671, 37332, 86485, 94676, 94678, 37347, 45540, 94696, 94699, 45563, 37372, 45568, 45573, 37384, 94732, 45583, 94747, 37406, 45606, 45613, 45615, 86580, 45627, 37446, 37451, 86613, 37466, 86621, 45671, 94823, 37481, 37495, 45687, 37498, 45691, 45696, 94851, 86661, 37510, 45704, 37514, 94861, 37518, 37522, 45715, 45716, 94874, 94880, 94886, 45739, 45741, 94895, 45748, 94902, 86717, 37566, 94914, 94918, 94924, 86733, 45781, 37593, 37597, 86749, 29405, 45798, 37611, 37615, 37619, 45842, 95021, 45871, 95024, 37681, 37685, 37689, 45884, 45888, 95043, 86852, 37705, 95056, 95059, 86877, 95069, 37729, 86885, 45932, 86901, 45949, 86909, 95105, 37766, 37770, 95119, 37812, 46006, 95164, 37825, 37833, 46026, 46034, 37846, 95192, 46045, 37855, 37863, 46056, 87017, 95216, 46068, 37879, 95236, 46086, 95246, 37904, 46098, 46115, 87078, 87086, 46128, 37943, 87097, 37947, 37955, 46151, 37963, 46160, 87131, 46172, 95324, 37988, 95339, 87149, 37998, 37999, 46192, 95343, 95346, 38004, 95348, 95352, 38012, 38013, 38014, 95358, 87171, 95368, 38025, 95370, 95371, 46222, 95375, 38033, 38037, 95382, 87200, 46241, 38053, 38057, 95404, 87215, 38068, 46262, 38073, 87245, 46294, 38110, 46304, 38114, 38117, 87276, 38126, 46320, 95479, 87288, 87289, 38142, 95488, 46344, 38158, 46350, 38162, 46354, 38166, 87319, 95528, 46388, 95540, 46390, 38202, 46410, 46412, 95566, 46420, 95576, 30042, 95579, 38240, 46435, 38248, 46440, 95594, 87403, 38252, 30061, 87411, 79223, 95607, 87418, 30080, 87425, 46469, 87437, 95632, 38293, 30108, 95644, 46504, 87466, 46510, 95671, 87480, 30136, 95675, 95678, 87488, 38339, 38343, 95697, 46548, 95701, 95713, 30178, 95716, 87528, 87529, 46572, 87532, 30192, 38385, 38389, 30206, 38399, 46596, 38407, 46599, 95752, 38419, 46613, 95765, 46635, 46637, 95794, 87609, 46657, 95810, 38477, 46670, 46671, 46672, 95826, 95829, 38490, 87649, 95841, 95848, 46698, 87660, 46707, 46711, 30331, 38529, 46723, 87686, 38536, 87693, 46740, 46744, 87707, 38556, 95911, 38568, 95930, 38588, 95955, 87784, 46825, 30442, 46835, 46838, 46840, 30465, 96002, 38661, 46860, 38669, 46863, 46865, 87831, 46886, 38695, 46888, 96049, 96052, 46901, 87864, 87878, 46921, 46922, 96073, 87886, 96084, 96092, 46942, 96095, 96119, 87930, 38779, 87940, 46984, 46985, 38814, 38818, 47011, 87973, 38822, 47020, 96172, 87984, 96176, 96178, 96184, 47033, 47043, 96196, 88010, 47060, 88021, 47066, 96220, 88031, 96225, 96230, 96232, 88046, 30705, 88060, 38913, 38916, 47120, 30737, 88086, 30746, 47131, 47132, 88097, 38959, 47158, 38972, 96317, 47168, 30788, 47177, 96329, 30797, 47183, 96338, 47187, 47188, 47215, 96375, 47224, 47225, 39037, 39048, 47249, 39060, 47254, 96409, 96417, 39075, 39077, 39078, 88231, 96423, 96438, 47291, 96447, 96456, 39113, 30922, 96468, 39125, 96471, 47335, 96489, 96492, 39150, 30959, 47347, 96499, 39157, 47353, 39164, 96517, 39178, 88340, 39198, 47393, 39202, 31010, 96547, 39209, 88362, 96553, 96559, 47408, 88384, 39239, 96586, 47443, 96598, 31066, 96604, 47453, 47458, 31080, 88433, 88435, 96631, 47489, 31108, 39305, 88464, 47505, 39314, 88471, 96665, 39324, 47523, 96676, 88489, 96681, 88493, 96685, 96688, 39346, 47540, 39351, 88504, 31159, 88515, 96709, 96715, 88533, 39388, 31201, 47586, 88552, 39402, 47594, 47595, 39410, 96757, 39416, 96766, 96769, 88580, 88591, 96799, 47648, 88620, 96817, 96820, 47677, 88653, 88664, 39515, 47710, 47729, 96888, 39552, 47745, 39557, 39558, 96903, 47754, 96906, 47757, 39567, 88719, 88729, 96921, 96924, 39581, 39582, 47787, 47790, 39605, 88762, 88765, 39616, 96966, 47816, 47820, 39631, 39632, 96976, 39634, 47829, 47840, 39655, 39658, 47850, 47852, 97008, 97011, 47860, 97014, 97018, 47867, 97020, 47873, 88835, 39701, 39708, 39710, 47903, 97060, 39725, 97069, 97075, 47929, 47933, 88896, 88900, 47944, 31562, 47950, 39761, 39762, 47956, 47965, 47973, 47977, 39794, 47989, 97144, 48001, 48002, 48006, 88969, 48012, 39823, 39824, 88976, 39828, 39829, 48030, 39839, 31650, 97196, 89009, 39860, 48053, 39862, 97205, 97211, 48063, 89023, 48067, 39883, 39890, 97245, 48111, 97264, 97267, 48116, 48129, 97285, 31761, 89110, 39961, 39962, 48157, 39968, 48160, 39975, 39978, 40001, 97345, 40003, 97348, 40005, 40007, 97351, 40014, 48209, 48212, 97366, 97369, 48220, 89183, 97375, 40038, 48231, 40040, 97384, 48235, 97387, 48241, 40050, 48244, 40054, 97398, 48248, 97404, 97407, 48262, 97414, 89225, 89226, 40075, 40076, 40088, 97435, 89255, 48298, 97450, 40109, 97456, 48307, 48311, 31928, 48313, 40132, 89288, 40144, 40150, 89306, 48351, 48355, 97507, 48358, 48359, 40172, 89324, 40179, 97531, 40202, 89357, 40213, 48407, 97560, 40217, 97566, 48426, 48429, 40242, 40244, 48440, 89402, 48446, 40265, 40267, 97623, 97625, 48474, 40295, 48495, 40306, 40309, 40310, 97655, 89469, 97661, 40319, 40330, 81293, 81297, 48532, 48536, 89505, 89506, 48552, 89520, 40371, 48567, 40384, 40386, 40388, 48580, 97734, 97737, 40396, 97741, 97749, 81367, 97763, 97765, 40425, 97772, 40429, 40436, 97787, 48638, 97790, 40448, 97793, 40450, 40451, 97799, 97802, 40463, 48655, 40465, 48660, 48664, 48672, 48674, 97828, 48688, 97840, 89651, 48701, 48704, 48717, 89683, 48736, 40547, 48742, 89702, 97897, 48746, 48748, 97926, 40583, 40584, 89738, 97936, 48787, 48788, 89767, 40624, 40625, 97973, 48829, 48830, 97988, 97991, 97994, 48859, 89825, 98018, 48867, 40677, 48879, 98033, 48883, 48893, 40703, 48897, 89862, 98054, 89866, 48918, 40733, 48925, 48926, 89891, 48935, 98089, 48939, 98092, 48951, 98104, 48955, 98116, 48967, 89929, 48970, 48972, 48976, 98130, 40788, 48984, 48992, 40802, 48995, 40807, 49021, 49026, 98181, 40841, 49035, 40844, 49044, 40856, 49054, 40867, 49063, 98219, 98225, 90038, 98240, 98249, 40906, 98250, 49100, 40919, 90080, 40934, 90091, 90094, 40948, 40958]\n"
     ]
    }
   ],
   "source": [
    "pos_atipicos_x = []\n",
    "pos_atipicos_y = []\n",
    "pos_atipicos_z = []\n",
    "\n",
    "for n in range(Datos_Min_Max.shape[0]):\n",
    "  if z_modificado.iloc[n,2] > regla_desviacion:\n",
    "    pos_atipicos_x.append(n)\n",
    "  if z_modificado.iloc[n,3] > regla_desviacion:\n",
    "    pos_atipicos_y.append(n)\n",
    "  if z_modificado.iloc[n,4] > regla_desviacion:\n",
    "    pos_atipicos_z.append(n)\n",
    "\n",
    "Posiciones_coinciden = list(set(pos_atipicos_x) & set(pos_atipicos_y) & set(pos_atipicos_z))\n",
    "print(Posiciones_coinciden)"
   ]
  },
  {
   "cell_type": "code",
   "execution_count": 40,
   "metadata": {
    "colab": {
     "base_uri": "https://localhost:8080/"
    },
    "id": "ue2WmhMsOVnj",
    "outputId": "0dc0bb47-3ee9-4538-e15c-d9f66df6b6f7"
   },
   "outputs": [
    {
     "name": "stdout",
     "output_type": "stream",
     "text": [
      "(153000, 5)\n",
      "(151025, 5)\n"
     ]
    }
   ],
   "source": [
    "datos_sin_outliers_z_modificado = Datos_Min_Max.drop(Posiciones_coinciden)\n",
    "print(Datos_Min_Max.shape) # Tamaño de los datos originales\n",
    "print(datos_sin_outliers_z_modificado.shape) # Tamañno de los datos sin outliers"
   ]
  },
  {
   "cell_type": "code",
   "execution_count": 41,
   "metadata": {
    "colab": {
     "base_uri": "https://localhost:8080/"
    },
    "id": "i7jL4zn4OtTF",
    "outputId": "d3ad5357-443a-4bee-cea9-ddbdc259680b"
   },
   "outputs": [
    {
     "name": "stdout",
     "output_type": "stream",
     "text": [
      "Número de datos atípicos eliminados =  1975\n"
     ]
    }
   ],
   "source": [
    "print(\"Número de datos atípicos eliminados = \", Datos_Min_Max.shape[0] - datos_sin_outliers_z_modificado.shape[0])"
   ]
  },
  {
   "cell_type": "code",
   "execution_count": 42,
   "metadata": {
    "colab": {
     "base_uri": "https://localhost:8080/",
     "height": 143
    },
    "id": "N2J4GqLgOcgQ",
    "outputId": "cf0f5b5b-50dc-4f5b-d427-8d8e096903ca"
   },
   "outputs": [
    {
     "data": {
      "text/html": [
       "<div>\n",
       "<style scoped>\n",
       "    .dataframe tbody tr th:only-of-type {\n",
       "        vertical-align: middle;\n",
       "    }\n",
       "\n",
       "    .dataframe tbody tr th {\n",
       "        vertical-align: top;\n",
       "    }\n",
       "\n",
       "    .dataframe thead th {\n",
       "        text-align: right;\n",
       "    }\n",
       "</style>\n",
       "<table border=\"1\" class=\"dataframe\">\n",
       "  <thead>\n",
       "    <tr style=\"text-align: right;\">\n",
       "      <th></th>\n",
       "      <th>Entropia Original</th>\n",
       "      <th>Entropia Z Modificado</th>\n",
       "    </tr>\n",
       "  </thead>\n",
       "  <tbody>\n",
       "    <tr>\n",
       "      <th>x</th>\n",
       "      <td>0.321535</td>\n",
       "      <td>0.322130</td>\n",
       "    </tr>\n",
       "    <tr>\n",
       "      <th>y</th>\n",
       "      <td>0.344003</td>\n",
       "      <td>0.344441</td>\n",
       "    </tr>\n",
       "    <tr>\n",
       "      <th>z</th>\n",
       "      <td>0.350070</td>\n",
       "      <td>0.350482</td>\n",
       "    </tr>\n",
       "  </tbody>\n",
       "</table>\n",
       "</div>"
      ],
      "text/plain": [
       "   Entropia Original  Entropia Z Modificado\n",
       "x           0.321535               0.322130\n",
       "y           0.344003               0.344441\n",
       "z           0.350070               0.350482"
      ]
     },
     "metadata": {},
     "output_type": "display_data"
    }
   ],
   "source": [
    "H_1 = entr(Datos_Min_Max[['x','y','z']])\n",
    "H_2 = entr(datos_sin_outliers_z_modificado[['x','y','z']])\n",
    "\n",
    "entropia_normalizada_1 = H_1.sum()/Datos_Min_Max.shape[0]\n",
    "entropia_normalizada_2 = H_2.sum()/datos_sin_outliers_z_modificado.shape[0]\n",
    "\n",
    "entropia_normalizada_1 = pd.DataFrame(entropia_normalizada_1, index = None, columns = ['Entropia Original'])\n",
    "entropia_normalizada_2 = pd.DataFrame(entropia_normalizada_2, index = None, columns = ['Entropia Z Modificado'])\n",
    "Comparacion_entropias = pd.concat([entropia_normalizada_1, entropia_normalizada_2], axis = 1)\n",
    "\n",
    "display(Comparacion_entropias)"
   ]
  },
  {
   "cell_type": "code",
   "execution_count": 43,
   "metadata": {
    "colab": {
     "base_uri": "https://localhost:8080/",
     "height": 499
    },
    "id": "R8Byj0pXPxub",
    "outputId": "1abcc826-98e6-4d15-9291-1464e8bfdffb"
   },
   "outputs": [
    {
     "data": {
      "image/png": "[encoded data removed]",
      "text/plain": [
       "<Figure size 1800x648 with 1 Axes>"
      ]
     },
     "metadata": {},
     "output_type": "display_data"
    }
   ],
   "source": [
    "sns.set(rc={'figure.figsize':(25,9)}) # Tamaño de la figura\n",
    "sns.set(style=\"whitegrid\") # Estilo de la figura\n",
    "sns.boxplot(data = datos_sin_outliers_z_modificado, linewidth = 3, palette=\"Set2\", fliersize = 5) # Diagrama Box Plot\n",
    "sns.despine(left=True)"
   ]
  },
  {
   "cell_type": "markdown",
   "metadata": {
    "id": "ZH_EMk4vdb3J"
   },
   "source": [
    "## Detección de Datos Atípicos con Estimación de Covarianza basado en una distribución multidimensional Gaussiana"
   ]
  },
  {
   "cell_type": "markdown",
   "metadata": {
    "id": "74ZFTbjteM7o"
   },
   "source": [
    "Este método considera una detección de datos atípicos basado en una distribución de densidad de probabilidad multidimensional Gaussiana. \n",
    "\n",
    "Para comprender este método, vamos a dar una breve explicación de la densidad de probabilidad Gaussiana multivariada:"
   ]
  },
  {
   "cell_type": "markdown",
   "metadata": {
    "id": "5SDBSaSVe87A"
   },
   "source": [
    "**Definición:** Dado un vector aleatorio de N-dimensiones, $X = \\lbrack x_1, \\ldots, x_N \\rbrack$ sujeto a una distribución Gaussiana de N-dimensiones,$X \\sim N(\\mu, \\Sigma)$, con parámetros ($\\mu$,$\\Sigma$), la función de densidad de probabilidad se expresa como:\n",
    "\n",
    "$$f(x\\vert \\mu, \\Sigma) = \\frac{1}{(2\\pi)^\\frac{D}{2}\\vert\\Sigma \\vert^\\frac{1}{2}} \\exp \\left \\lbrack -\\frac{1}{2}(x - \\mu)^T \\Sigma^{-1} (x - \\mu)\\right \\rbrack$$\n",
    "\n",
    "donde:\n",
    "\n",
    "1.   $D$ es el número de dimensiones.\n",
    "2.   $\\mu$ es el vector de la media, donde la esperanza matemática es $E(X) = \\mu$\n",
    "3.   $ Cov(X) = \\Sigma$ es la matriz de covarianza de los datos.\n",
    "\n",
    "$$\\Sigma = \\begin{bmatrix} \\sigma_{1,1} & \\cdots &\\sigma_{1,d} & \\cdots & \\sigma_{1,D}\\\\\n",
    "\\vdots & \\ddots & \\vdots & \\cdots & \\vdots\\\\\n",
    "\\sigma_{d,1} & \\cdots &\\sigma_{d,d} & \\cdots & \\sigma_{d,D}\\\\\n",
    "\\vdots & \\ddots & \\vdots & \\cdots & \\vdots\\\\\n",
    "\\sigma_{D,1} & \\cdots &\\sigma_{D,d} & \\cdots & \\sigma_{D,D}\\\\\\end{bmatrix}_{DxD}$$\n",
    "\n",
    "Siendo $\\sigma_{d,d}$ la covarianza de una dimensión $d$ con respecto a otra dimensión $d$, considerando:\n",
    "\n",
    "$$\\sigma_{i,j} = E(X_i - \\mu_i)(X_j - \\mu_j) = E(X_i X_j) - \\mu_i\\mu_j$$\n",
    "\n",
    "Y la varianza por cada muestra $X_i$:\n",
    "\n",
    "$$\\sigma_{i,i} = E(X_i - \\mu_i)^2 = E(X_i^2) - \\mu_i^2$$\n",
    "\n",
    "4.   $\\vert \\cdot \\vert$ es el operador determinante de la matriz.\n",
    "5.   $\\Sigma^{-1}$ es la pseudo-inversa de la matriz de covarianza de los datos.\n",
    "6.   $\\frac{1}{2}(x - \\mu)^T \\Sigma^{-1} (x - \\mu)$ es una forma cuadrática.   \n",
    "\n",
    "Para determinar la la función de densidad de probabilidad, se estima los dos parámetros $(\\mu, \\Sigma)$, el cual se expresa como:\n",
    "\n",
    "$$\\hat{\\mu} = \\frac{1}{N} \\sum_{n=1}^N x_{n}$$\n",
    "$$\\Sigma = \\sum_{n=1}^N (x_{n} - \\hat{\\mu})^T (x_{n} - \\hat{\\mu})$$\n",
    "\n",
    "**Nota:** La función de probabilidad Gaussiana de una dimensión se considera como un caso especial de la función de probabilidad Gaussiana multivariable."
   ]
  },
  {
   "cell_type": "code",
   "execution_count": 44,
   "metadata": {
    "colab": {
     "base_uri": "https://localhost:8080/",
     "height": 516
    },
    "id": "LJdhwadxfmbv",
    "outputId": "b6b254df-3f77-42e0-813e-0a19b3b433a2"
   },
   "outputs": [
    {
     "data": {
      "image/png": "[encoded data removed]",
      "text/plain": [
       "<Figure size 1224x576 with 1 Axes>"
      ]
     },
     "metadata": {},
     "output_type": "display_data"
    }
   ],
   "source": [
    "matplotlib.rcParams.update({'font.size': 18, 'font.family': 'STIXGeneral', 'mathtext.fontset': 'stix'})\n",
    "\n",
    "x = np.linspace(0, 2, 1000, endpoint = False)\n",
    "f = multivariate_normal.pdf(x, mean = 1, cov = 0.2)\n",
    "\n",
    "fig = plt.figure(figsize=(17,8))\n",
    "plt.plot(x, f, '-o')\n",
    "plt.xlabel('$x$') # Etiqueta del eje x \n",
    "                   # $ es para escribir símbolos en LaTeX\n",
    "plt.ylabel('$f(x)$') # Etiqueta del eje y\n",
    "plt.title('Función de distribución de probabilidad Gaussiana')\n",
    "plt.show()"
   ]
  },
  {
   "cell_type": "markdown",
   "metadata": {
    "id": "EVLW2fACfsMy"
   },
   "source": [
    "La matriz de covarianza $\\Sigma$ tiene muchas implicaciones la forma como construimos una distribución de probabilidad Gaussiana Multivariada, lo cual, en aplicaciones en Machine Learning tiene muchas implicaciones en la forma como analizamos la distribución natural de los datos. Considerando lo anterior, vamos a observar tres casos de la matriz de covarianza $\\Sigma$"
   ]
  },
  {
   "cell_type": "markdown",
   "metadata": {
    "id": "YNfMBZSrf3xK"
   },
   "source": [
    "rimero, vamos a definir la matriz de covarianza desde el punto de vista matemático:\n",
    "\n",
    "$$\\Sigma = \\begin{bmatrix} \\Sigma_{x} & \\Sigma_{xy} \\\\ \\Sigma_{xy}^T & \\Sigma_{y}\\end{bmatrix}$$\n",
    "\n",
    "donde $x$ e $y$ son dos variables aleatorias y $\\Sigma^T$ es la transpuesta de la matriz.\n",
    "\n",
    "Por otra parte, se debe considerar un vector de medias, donde cada media esta relacionado con una variable aleatoria:\n",
    "\n",
    "$$\\mu =  \\begin{bmatrix} \\mu_x\\\\ \\mu_y \\end{bmatrix}$$"
   ]
  },
  {
   "cell_type": "markdown",
   "metadata": {
    "id": "Me_EIJgTgGgK"
   },
   "source": [
    "**Matriz de Covarianza Completa:** \n",
    "\n",
    "Los datos se agrupan en forma parabólica.\n",
    "\n",
    "$$f(x,y) = \\mathcal{N} \\begin{pmatrix} \\begin{bmatrix} 0\\\\ 0\\end{bmatrix}, \\begin{bmatrix} 1 & -1 \\\\ -1 & 4\\end{bmatrix} \\end{pmatrix}$$"
   ]
  },
  {
   "cell_type": "code",
   "execution_count": 45,
   "metadata": {
    "colab": {
     "base_uri": "https://localhost:8080/",
     "height": 516
    },
    "id": "O9O-KqVKf5OE",
    "outputId": "f2b6bf2e-91a1-4cbb-9d6d-b772d85dcf12"
   },
   "outputs": [
    {
     "data": {
      "image/png": "[encoded data removed]",
      "text/plain": [
       "<Figure size 1224x576 with 1 Axes>"
      ]
     },
     "metadata": {},
     "output_type": "display_data"
    }
   ],
   "source": [
    "matplotlib.rcParams.update({'font.size': 18, 'font.family': 'STIXGeneral', 'mathtext.fontset': 'stix'})\n",
    "\n",
    "x, y = np.mgrid[-4:4:0.01, -4:4:0.01]\n",
    "pos = np.dstack((x, y))\n",
    "rv = multivariate_normal([0, 0], [[1, -1], [-1, 4]])\n",
    "fig = plt.figure(figsize=(17,8))\n",
    "ax2 = fig.add_subplot(111)\n",
    "ax2.contourf(x, y, rv.pdf(pos)) # Genera una gráfica de contonor\n",
    "plt.xlabel('$x$') # Etiqueta del eje x\n",
    "plt.ylabel('$f(x)$') # Etiqueta del eje y\n",
    "plt.title('PDF con matriz de covarianza completa')\n",
    "plt.show()"
   ]
  },
  {
   "cell_type": "markdown",
   "metadata": {
    "id": "xLs6w-ONgZY7"
   },
   "source": [
    "**Matriz de Covarianza Esférica:** \n",
    "\n",
    "Los datos se agrupan de forma circular de acuerdo a los valores de la media, generando hiperesferas. Lo anterior genera un único valor de la varianza para todos los datos.\n",
    "\n",
    "$$f(x,y) = \\mathcal{N} \\begin{pmatrix} \\begin{bmatrix} 0\\\\ 0\\end{bmatrix}, \\begin{bmatrix} 1 & 0 \\\\ 0 & 1\\end{bmatrix} \\end{pmatrix}$$"
   ]
  },
  {
   "cell_type": "code",
   "execution_count": 46,
   "metadata": {
    "colab": {
     "base_uri": "https://localhost:8080/",
     "height": 515
    },
    "id": "4O3Xj9Y-gkLx",
    "outputId": "72e29bcf-2e6f-4d68-c99f-785c699b0016"
   },
   "outputs": [
    {
     "data": {
      "image/png": "[encoded data removed]",
      "text/plain": [
       "<Figure size 1224x576 with 1 Axes>"
      ]
     },
     "metadata": {},
     "output_type": "display_data"
    }
   ],
   "source": [
    "matplotlib.rcParams.update({'font.size': 18, 'font.family': 'STIXGeneral', 'mathtext.fontset': 'stix'})\n",
    "\n",
    "x, y = np.mgrid[-4:4:0.01, -4:4:0.01]\n",
    "pos = np.dstack((x, y))\n",
    "plt.figure(figsize=(17,8))\n",
    "rv_3 = multivariate_normal([0, 0], [[1, 0], [0, 1]])\n",
    "plt.contourf(x, y, rv_3.pdf(pos))\n",
    "plt.xlabel('$x$') # Etiqueta del eje x\n",
    "plt.ylabel('$f(x)$') # Etiqueta del eje y\n",
    "plt.title('PDF con matriz de covarianza esférica')\n",
    "plt.show()"
   ]
  },
  {
   "cell_type": "markdown",
   "metadata": {
    "id": "lI7rAeDVgs9m"
   },
   "source": [
    "**Matriz de Covarianza Diagonal:** \n",
    "\n",
    "Los datos se agrupan de forma elíptica, generando hiperelipsoides donde $\\Sigma$ contiene valores distintos en su diagonal.\n",
    "\n",
    "$$f(x,y) = \\mathcal{N} \\begin{pmatrix} \\begin{bmatrix} 0\\\\ 0\\end{bmatrix}, \\begin{bmatrix} 1 & 0 \\\\ 0 & 4\\end{bmatrix} \\end{pmatrix}$$\n",
    "\n",
    "En este caso, los datos se agrupan en elipses en paralelo a un eje."
   ]
  },
  {
   "cell_type": "code",
   "execution_count": 47,
   "metadata": {
    "colab": {
     "base_uri": "https://localhost:8080/",
     "height": 516
    },
    "id": "ZPP8T0Elg4AN",
    "outputId": "f3ca004a-82a1-455c-b860-d1c15fcff283"
   },
   "outputs": [
    {
     "data": {
      "image/png": "[encoded data removed]",
      "text/plain": [
       "<Figure size 1224x576 with 1 Axes>"
      ]
     },
     "metadata": {},
     "output_type": "display_data"
    }
   ],
   "source": [
    "matplotlib.rcParams.update({'font.size': 18, 'font.family': 'STIXGeneral', 'mathtext.fontset': 'stix'})\n",
    "\n",
    "x, y = np.mgrid[-4:4:0.01, -4:4:0.01]\n",
    "pos = np.dstack((x, y))\n",
    "plt.figure(figsize=(17,8))\n",
    "rv_2 = multivariate_normal([0, 0], [[1, 0], [0, 4]])\n",
    "plt.contourf(x, y, rv_2.pdf(pos))\n",
    "plt.xlabel('$x$') # Etiqueta del eje x\n",
    "plt.ylabel('$f(x)$') # Etiqueta del eje y\n",
    "plt.title('PDF con matriz de covarianza diagonal')\n",
    "plt.show()"
   ]
  },
  {
   "cell_type": "markdown",
   "metadata": {
    "id": "XFadNhSNhGQe"
   },
   "source": [
    "Teniendo presente estos conceptos de la función Gaussiana multivariada, vamos a aplicar la estimación de covarianza con dicha distribución para detectar datos atípicos:"
   ]
  },
  {
   "cell_type": "markdown",
   "metadata": {
    "id": "bLy6mfVJha-F"
   },
   "source": [
    "Primer se aplica la regla de detección para determinar si es pertinente o no aplicar el método con nuestro datos:"
   ]
  },
  {
   "cell_type": "code",
   "execution_count": 48,
   "metadata": {
    "colab": {
     "base_uri": "https://localhost:8080/"
    },
    "id": "uCckS_FWhU26",
    "outputId": "079c1f6f-e62a-4389-b059-13bed4e14b10"
   },
   "outputs": [
    {
     "name": "stdout",
     "output_type": "stream",
     "text": [
      "Se puede aplicar el método de estimación de covarianza con una distribución gaussiana multivariada\n"
     ]
    }
   ],
   "source": [
    "Muestras = Datos_Min_Max.shape[0]\n",
    "Caracteristicas_Cuadradas = (Datos_Min_Max.shape[1])**2\n",
    "\n",
    "if Muestras > Caracteristicas_Cuadradas:\n",
    "  print(\"Se puede aplicar el método de estimación de covarianza con una distribución gaussiana multivariada\")\n",
    "  if Muestras < Caracteristicas_Cuadradas:\n",
    "    print(\"No se puede aplicar el método de estimación de covarianza con una distribución gaussiana multivariada\")"
   ]
  },
  {
   "cell_type": "markdown",
   "metadata": {
    "id": "J__URQ77iP96"
   },
   "source": [
    "Ahora, vamos a estimar la covarianza de nuestros datos:"
   ]
  },
  {
   "cell_type": "code",
   "execution_count": 49,
   "metadata": {
    "id": "X1MfpxJviUf8"
   },
   "outputs": [],
   "source": [
    "EE = EllipticEnvelope(contamination = 0.05) # 5% de Datos Atípicos\n",
    "estimacion_covarianza = EE.fit(Datos_Min_Max)"
   ]
  },
  {
   "cell_type": "code",
   "execution_count": 50,
   "metadata": {
    "colab": {
     "base_uri": "https://localhost:8080/"
    },
    "id": "QAwSxsJ1jKmA",
    "outputId": "851ed5f8-4493-4af0-9fa9-9ca059be0a0e"
   },
   "outputs": [
    {
     "data": {
      "text/plain": [
       "array([[ 1.69893590e-01,  3.92525724e-02, -3.57971394e-05,\n",
       "         3.68076810e-05, -1.70157474e-05],\n",
       "       [ 3.92525724e-02,  6.29220793e-02, -3.30800898e-05,\n",
       "         1.60961782e-04,  3.59333257e-06],\n",
       "       [-3.57971394e-05, -3.30800898e-05,  9.29803245e-06,\n",
       "         1.00013020e-06, -6.66702646e-08],\n",
       "       [ 3.68076810e-05,  1.60961782e-04,  1.00013020e-06,\n",
       "         3.49817253e-05, -7.10347737e-07],\n",
       "       [-1.70157474e-05,  3.59333257e-06, -6.66702646e-08,\n",
       "        -7.10347737e-07,  2.01251514e-05]])"
      ]
     },
     "execution_count": 50,
     "metadata": {},
     "output_type": "execute_result"
    }
   ],
   "source": [
    "estimacion_covarianza.covariance_ # Matrices de covarianza"
   ]
  },
  {
   "cell_type": "code",
   "execution_count": 51,
   "metadata": {
    "colab": {
     "base_uri": "https://localhost:8080/"
    },
    "id": "021nqe04jYmD",
    "outputId": "7c1492fa-177c-43ed-c18d-ce21006fe89b"
   },
   "outputs": [
    {
     "name": "stdout",
     "output_type": "stream",
     "text": [
      "[1 1 1 ... 1 1 1]\n"
     ]
    }
   ],
   "source": [
    "Estimacion_Muestras = estimacion_covarianza.predict(Datos_Min_Max)\n",
    "print(Estimacion_Muestras) # si hay -1, es un dato atípico"
   ]
  },
  {
   "cell_type": "code",
   "execution_count": 52,
   "metadata": {
    "colab": {
     "base_uri": "https://localhost:8080/"
    },
    "id": "3tOXGHkHl8-w",
    "outputId": "5039dbea-6028-41a3-a301-d00b5b17f2ad"
   },
   "outputs": [
    {
     "name": "stdout",
     "output_type": "stream",
     "text": [
      "Número de Filas con Datos Atípicos =  7650\n"
     ]
    }
   ],
   "source": [
    "Deteccion = np.where(Estimacion_Muestras == -1)\n",
    "print(\"Número de Filas con Datos Atípicos = \", pd.DataFrame(Deteccion).shape[1])"
   ]
  },
  {
   "cell_type": "code",
   "execution_count": 53,
   "metadata": {
    "colab": {
     "base_uri": "https://localhost:8080/",
     "height": 501
    },
    "id": "aaJYCpHBm9ZN",
    "outputId": "f6900b24-36e1-476d-925c-3449eac5f0e3"
   },
   "outputs": [
    {
     "data": {
      "image/png": "[encoded data removed]",
      "text/plain": [
       "<Figure size 1080x576 with 1 Axes>"
      ]
     },
     "metadata": {},
     "output_type": "display_data"
    }
   ],
   "source": [
    "puntajes = estimacion_covarianza.score_samples(Datos_Min_Max)\n",
    "umbral = estimacion_covarianza.offset_\n",
    "\n",
    "plt.figure(figsize=(15,8))\n",
    "plt.plot(np.arange(0,puntajes.shape[0],1), puntajes)\n",
    "plt.axhline(umbral, color = 'r')\n",
    "plt.xlabel('Muestras')\n",
    "plt.ylabel('Puntaje de Detección')\n",
    "plt.show()"
   ]
  },
  {
   "cell_type": "code",
   "execution_count": 54,
   "metadata": {
    "colab": {
     "base_uri": "https://localhost:8080/"
    },
    "id": "xSirKfA-nrax",
    "outputId": "70a9c8cb-0cd4-411b-a1e2-b2c4b84d1fdf"
   },
   "outputs": [
    {
     "name": "stdout",
     "output_type": "stream",
     "text": [
      "Número de muestras sin outilers: 145350\n"
     ]
    }
   ],
   "source": [
    "pos = np.where(Estimacion_Muestras == 1) \n",
    "# Se identifican en que muestras o filas de nuestra base de datos hay presencia de datos atípicos\n",
    "pos = np.asarray(pos)\n",
    "pos = np.hstack(pos)\n",
    "datos_sin_outilers_EC = Datos_Min_Max.loc[pos, :]\n",
    "print(\"Número de muestras sin outilers:\", datos_sin_outilers_EC.shape[0])"
   ]
  },
  {
   "cell_type": "code",
   "execution_count": 55,
   "metadata": {
    "colab": {
     "base_uri": "https://localhost:8080/"
    },
    "id": "A_LZ8_Ieo0sK",
    "outputId": "1ce4972d-753b-494e-a732-7029fff3146f"
   },
   "outputs": [
    {
     "name": "stdout",
     "output_type": "stream",
     "text": [
      "(153000, 5)\n",
      "(145350, 5)\n"
     ]
    }
   ],
   "source": [
    "print(Datos_Min_Max.shape) # Tamaño de los datos originales\n",
    "print(datos_sin_outilers_EC.shape) # Tamañno de los datos sin outliers "
   ]
  },
  {
   "cell_type": "code",
   "execution_count": 56,
   "metadata": {
    "colab": {
     "base_uri": "https://localhost:8080/",
     "height": 499
    },
    "id": "XGWHKozdpp8p",
    "outputId": "720a90ee-e9ea-4312-8932-400f07593a60"
   },
   "outputs": [
    {
     "data": {
      "image/png": "[encoded data removed]",
      "text/plain": [
       "<Figure size 1800x648 with 1 Axes>"
      ]
     },
     "metadata": {},
     "output_type": "display_data"
    }
   ],
   "source": [
    "sns.set(rc={'figure.figsize':(25,9)}) # Tamaño de la figura\n",
    "sns.set(style=\"whitegrid\") # Estilo de la figura\n",
    "sns.boxplot(data = datos_sin_outilers_EC, linewidth = 3, palette=\"Set2\", fliersize = 5) # Diagrama Box Plot\n",
    "sns.despine(left=True)"
   ]
  },
  {
   "cell_type": "code",
   "execution_count": 57,
   "metadata": {
    "colab": {
     "base_uri": "https://localhost:8080/",
     "height": 143
    },
    "id": "FSoUAd_Wpx7D",
    "outputId": "3991740e-7eee-4bef-bf7d-dc99a5309b95"
   },
   "outputs": [
    {
     "data": {
      "text/html": [
       "<div>\n",
       "<style scoped>\n",
       "    .dataframe tbody tr th:only-of-type {\n",
       "        vertical-align: middle;\n",
       "    }\n",
       "\n",
       "    .dataframe tbody tr th {\n",
       "        vertical-align: top;\n",
       "    }\n",
       "\n",
       "    .dataframe thead th {\n",
       "        text-align: right;\n",
       "    }\n",
       "</style>\n",
       "<table border=\"1\" class=\"dataframe\">\n",
       "  <thead>\n",
       "    <tr style=\"text-align: right;\">\n",
       "      <th></th>\n",
       "      <th>Entropia Original</th>\n",
       "      <th>Entropia EC</th>\n",
       "    </tr>\n",
       "  </thead>\n",
       "  <tbody>\n",
       "    <tr>\n",
       "      <th>x</th>\n",
       "      <td>0.321535</td>\n",
       "      <td>0.323184</td>\n",
       "    </tr>\n",
       "    <tr>\n",
       "      <th>y</th>\n",
       "      <td>0.344003</td>\n",
       "      <td>0.345183</td>\n",
       "    </tr>\n",
       "    <tr>\n",
       "      <th>z</th>\n",
       "      <td>0.350070</td>\n",
       "      <td>0.351184</td>\n",
       "    </tr>\n",
       "  </tbody>\n",
       "</table>\n",
       "</div>"
      ],
      "text/plain": [
       "   Entropia Original  Entropia EC\n",
       "x           0.321535     0.323184\n",
       "y           0.344003     0.345183\n",
       "z           0.350070     0.351184"
      ]
     },
     "metadata": {},
     "output_type": "display_data"
    }
   ],
   "source": [
    "H_1 = entr(Datos_Min_Max[['x','y','z']])\n",
    "H_2 = entr(datos_sin_outilers_EC[['x','y','z']])\n",
    "\n",
    "entropia_normalizada_1 = H_1.sum()/Datos_Min_Max.shape[0]\n",
    "entropia_normalizada_2 = H_2.sum()/datos_sin_outilers_EC.shape[0]\n",
    "\n",
    "entropia_normalizada_1 = pd.DataFrame(entropia_normalizada_1, index = None, columns = ['Entropia Original'])\n",
    "entropia_normalizada_2 = pd.DataFrame(entropia_normalizada_2, index = None, columns = ['Entropia EC'])\n",
    "Comparacion_entropias = pd.concat([entropia_normalizada_1, entropia_normalizada_2], axis = 1)\n",
    "\n",
    "display(Comparacion_entropias)"
   ]
  },
  {
   "cell_type": "markdown",
   "metadata": {
    "id": "f-sUwu6msQDn"
   },
   "source": [
    "### Eliminación de Datos atípicos con estimación de covarianza usando taponamiento"
   ]
  },
  {
   "cell_type": "code",
   "execution_count": 58,
   "metadata": {
    "colab": {
     "base_uri": "https://localhost:8080/"
    },
    "id": "4fsa2NfrsZbd",
    "outputId": "79966e38-b069-453b-fb2b-9485cf74b008"
   },
   "outputs": [
    {
     "name": "stdout",
     "output_type": "stream",
     "text": [
      "[1.         0.5        0.00512628 0.01075269 0.00752949]\n"
     ]
    }
   ],
   "source": [
    "pos_outliers = np.where(Estimacion_Muestras == -1)\n",
    "pos_s = pd.DataFrame(pos_outliers)\n",
    "IQR = iqr(datos_sin_outilers_EC, axis = 0, rng = (25, 75), interpolation = 'midpoint')\n",
    "print(IQR)"
   ]
  },
  {
   "cell_type": "code",
   "execution_count": 59,
   "metadata": {
    "colab": {
     "base_uri": "https://localhost:8080/"
    },
    "id": "UseLvI6Ot1t8",
    "outputId": "204d2aa2-5992-4771-e033-6fae57f139aa"
   },
   "outputs": [
    {
     "name": "stdout",
     "output_type": "stream",
     "text": [
      "Límites inferiores =  [-1.5        -0.5         0.552013    0.4796199   0.46582448]\n",
      "\n",
      "\n",
      "Límites superiores =  [2.5        1.5        0.57251813 0.52263066 0.49594244]\n"
     ]
    },
    {
     "name": "stderr",
     "output_type": "stream",
     "text": [
      "C:\\Users\\mdmgu\\AppData\\Local\\Temp\\ipykernel_19220\\2329078125.py:1: DeprecationWarning: the `interpolation=` argument to percentile was renamed to `method=`, which has additional options.\n",
      "Users of the modes 'nearest', 'lower', 'higher', or 'midpoint' are encouraged to review the method they used. (Deprecated NumPy 1.22)\n",
      "  Q1 = np.percentile(datos_sin_outilers_EC, 25, axis = 0, interpolation = 'midpoint')\n",
      "C:\\Users\\mdmgu\\AppData\\Local\\Temp\\ipykernel_19220\\2329078125.py:2: DeprecationWarning: the `interpolation=` argument to percentile was renamed to `method=`, which has additional options.\n",
      "Users of the modes 'nearest', 'lower', 'higher', or 'midpoint' are encouraged to review the method they used. (Deprecated NumPy 1.22)\n",
      "  Q3 = np.percentile(datos_sin_outilers_EC, 75, axis = 0, interpolation = 'midpoint')\n"
     ]
    }
   ],
   "source": [
    "Q1 = np.percentile(datos_sin_outilers_EC, 25, axis = 0, interpolation = 'midpoint')\n",
    "Q3 = np.percentile(datos_sin_outilers_EC, 75, axis = 0, interpolation = 'midpoint')\n",
    "\n",
    "Min_Limite = Q1 - 1.5*IQR\n",
    "Max_Limite = Q3 + 1.5*IQR\n",
    "\n",
    "print(\"Límites inferiores = \", Min_Limite)\n",
    "print(\"\\n\")\n",
    "print(\"Límites superiores = \", Max_Limite)"
   ]
  },
  {
   "cell_type": "code",
   "execution_count": 60,
   "metadata": {
    "colab": {
     "base_uri": "https://localhost:8080/",
     "height": 423
    },
    "id": "xsutjxRMvgHV",
    "outputId": "827048b3-a6fd-4f75-8eff-f479fcab9b2f"
   },
   "outputs": [
    {
     "data": {
      "text/html": [
       "<div>\n",
       "<style scoped>\n",
       "    .dataframe tbody tr th:only-of-type {\n",
       "        vertical-align: middle;\n",
       "    }\n",
       "\n",
       "    .dataframe tbody tr th {\n",
       "        vertical-align: top;\n",
       "    }\n",
       "\n",
       "    .dataframe thead th {\n",
       "        text-align: right;\n",
       "    }\n",
       "</style>\n",
       "<table border=\"1\" class=\"dataframe\">\n",
       "  <thead>\n",
       "    <tr style=\"text-align: right;\">\n",
       "      <th></th>\n",
       "      <th>wconfid</th>\n",
       "      <th>pctid</th>\n",
       "      <th>x</th>\n",
       "      <th>y</th>\n",
       "      <th>z</th>\n",
       "    </tr>\n",
       "  </thead>\n",
       "  <tbody>\n",
       "    <tr>\n",
       "      <th>33084</th>\n",
       "      <td>0.0</td>\n",
       "      <td>0.6875</td>\n",
       "      <td>0.572518</td>\n",
       "      <td>0.479620</td>\n",
       "      <td>0.495942</td>\n",
       "    </tr>\n",
       "    <tr>\n",
       "      <th>33110</th>\n",
       "      <td>0.0</td>\n",
       "      <td>0.6875</td>\n",
       "      <td>0.572518</td>\n",
       "      <td>0.479620</td>\n",
       "      <td>0.495942</td>\n",
       "    </tr>\n",
       "    <tr>\n",
       "      <th>33123</th>\n",
       "      <td>0.0</td>\n",
       "      <td>0.6875</td>\n",
       "      <td>0.572518</td>\n",
       "      <td>0.479620</td>\n",
       "      <td>0.471262</td>\n",
       "    </tr>\n",
       "    <tr>\n",
       "      <th>33136</th>\n",
       "      <td>0.0</td>\n",
       "      <td>0.6875</td>\n",
       "      <td>0.572518</td>\n",
       "      <td>0.479620</td>\n",
       "      <td>0.477453</td>\n",
       "    </tr>\n",
       "    <tr>\n",
       "      <th>33235</th>\n",
       "      <td>0.0</td>\n",
       "      <td>0.6875</td>\n",
       "      <td>0.564329</td>\n",
       "      <td>0.479620</td>\n",
       "      <td>0.465824</td>\n",
       "    </tr>\n",
       "    <tr>\n",
       "      <th>...</th>\n",
       "      <td>...</td>\n",
       "      <td>...</td>\n",
       "      <td>...</td>\n",
       "      <td>...</td>\n",
       "      <td>...</td>\n",
       "    </tr>\n",
       "    <tr>\n",
       "      <th>101960</th>\n",
       "      <td>0.5</td>\n",
       "      <td>1.0000</td>\n",
       "      <td>0.572518</td>\n",
       "      <td>0.479620</td>\n",
       "      <td>0.483979</td>\n",
       "    </tr>\n",
       "    <tr>\n",
       "      <th>101965</th>\n",
       "      <td>0.5</td>\n",
       "      <td>1.0000</td>\n",
       "      <td>0.552013</td>\n",
       "      <td>0.522631</td>\n",
       "      <td>0.495942</td>\n",
       "    </tr>\n",
       "    <tr>\n",
       "      <th>101986</th>\n",
       "      <td>0.5</td>\n",
       "      <td>1.0000</td>\n",
       "      <td>0.572518</td>\n",
       "      <td>0.479620</td>\n",
       "      <td>0.495942</td>\n",
       "    </tr>\n",
       "    <tr>\n",
       "      <th>101987</th>\n",
       "      <td>0.5</td>\n",
       "      <td>1.0000</td>\n",
       "      <td>0.572518</td>\n",
       "      <td>0.479620</td>\n",
       "      <td>0.495942</td>\n",
       "    </tr>\n",
       "    <tr>\n",
       "      <th>101992</th>\n",
       "      <td>0.5</td>\n",
       "      <td>1.0000</td>\n",
       "      <td>0.552013</td>\n",
       "      <td>0.479620</td>\n",
       "      <td>0.465824</td>\n",
       "    </tr>\n",
       "  </tbody>\n",
       "</table>\n",
       "<p>7650 rows × 5 columns</p>\n",
       "</div>"
      ],
      "text/plain": [
       "        wconfid   pctid         x         y         z\n",
       "33084       0.0  0.6875  0.572518  0.479620  0.495942\n",
       "33110       0.0  0.6875  0.572518  0.479620  0.495942\n",
       "33123       0.0  0.6875  0.572518  0.479620  0.471262\n",
       "33136       0.0  0.6875  0.572518  0.479620  0.477453\n",
       "33235       0.0  0.6875  0.564329  0.479620  0.465824\n",
       "...         ...     ...       ...       ...       ...\n",
       "101960      0.5  1.0000  0.572518  0.479620  0.483979\n",
       "101965      0.5  1.0000  0.552013  0.522631  0.495942\n",
       "101986      0.5  1.0000  0.572518  0.479620  0.495942\n",
       "101987      0.5  1.0000  0.572518  0.479620  0.495942\n",
       "101992      0.5  1.0000  0.552013  0.479620  0.465824\n",
       "\n",
       "[7650 rows x 5 columns]"
      ]
     },
     "metadata": {},
     "output_type": "display_data"
    }
   ],
   "source": [
    "Datos_taponados_N = Datos_Min_Max.copy()\n",
    "\n",
    "D1 = np.where(Datos_taponados_N.loc[pos_outliers,'x'] > Max_Limite[2], Max_Limite[2],\n",
    "                                np.where(Datos_taponados_N.loc[pos_outliers,'x'] < Min_Limite[2], Min_Limite[2], \n",
    "                                         Datos_taponados_N.loc[pos_outliers,'x']))\n",
    "\n",
    "D2 = np.where(Datos_taponados_N.loc[pos_outliers,'y'] > Max_Limite[3], Max_Limite[3],\n",
    "                                np.where(Datos_taponados_N.loc[pos_outliers,'y'] < Min_Limite[3], Min_Limite[3], \n",
    "                                         Datos_taponados_N.loc[pos_outliers,'y']))\n",
    "\n",
    "D3 = np.where(Datos_taponados_N.loc[pos_outliers,'z'] > Max_Limite[4], Max_Limite[4],\n",
    "                                np.where(Datos_taponados_N.loc[pos_outliers,'z'] < Min_Limite[4], Min_Limite[4], \n",
    "                                         Datos_taponados_N.loc[pos_outliers,'z']))\n",
    "A1 = Datos_taponados_N.loc[pos_outliers,'wconfid']\n",
    "A2 = Datos_taponados_N.loc[pos_outliers,'pctid']\n",
    "\n",
    "concatenar = np.vstack([pos_s, A1, A2, D1, D2, D3]).transpose()\n",
    "concatenar = pd.DataFrame(concatenar, index = None, columns = ['pos','wconfid', 'pctid', 'x','y','z'])\n",
    "concatenar['pos'] = concatenar['pos'].astype(int)\n",
    "concatenar.set_index(['pos'], inplace=True)\n",
    "concatenar.index.name = None\n",
    "display(concatenar)"
   ]
  },
  {
   "cell_type": "code",
   "execution_count": 61,
   "metadata": {
    "id": "OC2Wj2Row-Rx"
   },
   "outputs": [],
   "source": [
    " Datos_taponados_N.iloc[pos_outliers] = concatenar.loc[pos_outliers] # Reemplazamos los nuevos valores"
   ]
  },
  {
   "cell_type": "code",
   "execution_count": 62,
   "metadata": {
    "colab": {
     "base_uri": "https://localhost:8080/",
     "height": 499
    },
    "id": "wf_CcGHjJwDN",
    "outputId": "19548dd9-8caf-4ae5-e73e-2e282b725c2e"
   },
   "outputs": [
    {
     "data": {
      "image/png": "[encoded data removed]",
      "text/plain": [
       "<Figure size 1800x648 with 1 Axes>"
      ]
     },
     "metadata": {},
     "output_type": "display_data"
    }
   ],
   "source": [
    "sns.set(rc={'figure.figsize':(25,9)}) # Tamaño de la figura\n",
    "sns.set(style=\"whitegrid\") # Estilo de la figura\n",
    "sns.boxplot(data = Datos_taponados_N, linewidth = 3, palette=\"Set2\", fliersize = 5) # Diagrama Box Plot\n",
    "sns.despine(left=True)"
   ]
  },
  {
   "cell_type": "code",
   "execution_count": 63,
   "metadata": {
    "colab": {
     "base_uri": "https://localhost:8080/",
     "height": 143
    },
    "id": "YDuWMOosUFJ7",
    "outputId": "f4131c34-776b-4825-8029-191157f08448"
   },
   "outputs": [
    {
     "data": {
      "text/html": [
       "<div>\n",
       "<style scoped>\n",
       "    .dataframe tbody tr th:only-of-type {\n",
       "        vertical-align: middle;\n",
       "    }\n",
       "\n",
       "    .dataframe tbody tr th {\n",
       "        vertical-align: top;\n",
       "    }\n",
       "\n",
       "    .dataframe thead th {\n",
       "        text-align: right;\n",
       "    }\n",
       "</style>\n",
       "<table border=\"1\" class=\"dataframe\">\n",
       "  <thead>\n",
       "    <tr style=\"text-align: right;\">\n",
       "      <th></th>\n",
       "      <th>Entropia Original</th>\n",
       "      <th>Entropia EC Taponado</th>\n",
       "    </tr>\n",
       "  </thead>\n",
       "  <tbody>\n",
       "    <tr>\n",
       "      <th>x</th>\n",
       "      <td>0.321535</td>\n",
       "      <td>0.323203</td>\n",
       "    </tr>\n",
       "    <tr>\n",
       "      <th>y</th>\n",
       "      <td>0.344003</td>\n",
       "      <td>0.345233</td>\n",
       "    </tr>\n",
       "    <tr>\n",
       "      <th>z</th>\n",
       "      <td>0.350070</td>\n",
       "      <td>0.351211</td>\n",
       "    </tr>\n",
       "  </tbody>\n",
       "</table>\n",
       "</div>"
      ],
      "text/plain": [
       "   Entropia Original  Entropia EC Taponado\n",
       "x           0.321535              0.323203\n",
       "y           0.344003              0.345233\n",
       "z           0.350070              0.351211"
      ]
     },
     "metadata": {},
     "output_type": "display_data"
    }
   ],
   "source": [
    "H_1 = entr(Datos_Min_Max[['x','y','z']])\n",
    "H_2 = entr(Datos_taponados_N[['x','y','z']])\n",
    "\n",
    "entropia_normalizada_1 = H_1.sum()/Datos_Min_Max.shape[0]\n",
    "entropia_normalizada_2 = H_2.sum()/Datos_taponados_N.shape[0]\n",
    "\n",
    "entropia_normalizada_1 = pd.DataFrame(entropia_normalizada_1, index = None, columns = ['Entropia Original'])\n",
    "entropia_normalizada_2 = pd.DataFrame(entropia_normalizada_2, index = None, columns = ['Entropia EC Taponado'])\n",
    "Comparacion_entropias = pd.concat([entropia_normalizada_1, entropia_normalizada_2], axis = 1)\n",
    "\n",
    "display(Comparacion_entropias)"
   ]
  }
 ],
 "metadata": {
  "colab": {
   "machine_shape": "hm",
   "provenance": [],
   "toc_visible": true
  },
  "gpuClass": "standard",
  "kernelspec": {
   "display_name": "Python 3 (ipykernel)",
   "language": "python",
   "name": "python3"
  },
  "language_info": {
   "codemirror_mode": {
    "name": "ipython",
    "version": 3
   },
   "file_extension": ".py",
   "mimetype": "text/x-python",
   "name": "python",
   "nbconvert_exporter": "python",
   "pygments_lexer": "ipython3",
   "version": "3.9.13"
  }
 },
 "nbformat": 4,
 "nbformat_minor": 4
}
