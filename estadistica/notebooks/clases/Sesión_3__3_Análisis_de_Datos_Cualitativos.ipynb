{
 "cells": [
  {
   "cell_type": "code",
   "execution_count": 1,
   "metadata": {
    "colab": {
     "base_uri": "https://localhost:8080/"
    },
    "id": "QTNqfjDQ1j-x",
    "outputId": "cc17027f-b8fe-4d7f-a292-fa797dd05fa5"
   },
   "outputs": [],
   "source": [
    "#!wget --no-cache -O init.py -q https://raw.githubusercontent.com/UDEA-Esp-Analitica-y-Ciencia-de-Datos/EACD-02-ESTADISTICA/master/init.py\n",
    "#import init; init.init(force_download=False); \n",
    "from IPython.display import Image"
   ]
  },
  {
   "cell_type": "code",
   "execution_count": 2,
   "metadata": {
    "colab": {
     "base_uri": "https://localhost:8080/",
     "height": 251
    },
    "id": "3tbbtx1A1mie",
    "outputId": "2be9b896-87b8-4973-f20b-99ce83ed2a72",
    "tags": []
   },
   "outputs": [
    {
     "data": {
      "image/png": "[encoded data removed]",
      "text/plain": [
       "<IPython.core.display.Image object>"
      ]
     },
     "execution_count": 2,
     "metadata": {},
     "output_type": "execute_result"
    }
   ],
   "source": [
    "Image('../docs/udea-datascience.png')"
   ]
  },
  {
   "cell_type": "markdown",
   "metadata": {
    "id": "ULSRhsTR1p0i",
    "tags": []
   },
   "source": [
    "**Desarrollado por:** Javier Fernando Botía Valderrama\n",
    "\n",
    "*Docente del Departamento de Ingeniería de Sistemas*\n",
    "\n",
    "**Materia:** Estadística y Análisis Exploratorio\n",
    "\n",
    "**Departamento:** Posgrado en Ingeniería\n",
    "\n",
    "**Facultad de Ingeniería - Universidad de Antioquia**"
   ]
  },
  {
   "cell_type": "markdown",
   "metadata": {
    "id": "FKut3o9G15b1"
   },
   "source": [
    "# Análisis de Datos Cualitativos"
   ]
  },
  {
   "cell_type": "code",
   "execution_count": 3,
   "metadata": {
    "id": "cvcft3Hd1tFG"
   },
   "outputs": [],
   "source": [
    "import pandas as pd\n",
    "import io\n",
    "import requests\n",
    "import seaborn as sns\n",
    "import numpy as np\n",
    "import matplotlib.pyplot as plt\n",
    "import matplotlib\n",
    "import matplotlib.patches as patches\n",
    "\n",
    "import scipy.stats\n",
    "from pandas import crosstab # Generador de tablas de contingencia\n",
    "from scipy.stats import fisher_exact # Test exacto de Fisher\n",
    "from scipy.stats import chisquare # Test Chi-Cuadrada\n",
    "from sklearn.metrics import mutual_info_score # Información Mutua"
   ]
  },
  {
   "cell_type": "code",
   "execution_count": 4,
   "metadata": {
    "colab": {
     "base_uri": "https://localhost:8080/",
     "height": 337
    },
    "id": "3KH_X8kK2hd6",
    "outputId": "8d6f27fd-f461-49ff-8d98-978defa991a0"
   },
   "outputs": [
    {
     "data": {
      "text/html": [
       "<div>\n",
       "<style scoped>\n",
       "    .dataframe tbody tr th:only-of-type {\n",
       "        vertical-align: middle;\n",
       "    }\n",
       "\n",
       "    .dataframe tbody tr th {\n",
       "        vertical-align: top;\n",
       "    }\n",
       "\n",
       "    .dataframe thead th {\n",
       "        text-align: right;\n",
       "    }\n",
       "</style>\n",
       "<table border=\"1\" class=\"dataframe\">\n",
       "  <thead>\n",
       "    <tr style=\"text-align: right;\">\n",
       "      <th></th>\n",
       "      <th>age</th>\n",
       "      <th>workclass</th>\n",
       "      <th>fnlwgt</th>\n",
       "      <th>education</th>\n",
       "      <th>education-num</th>\n",
       "      <th>marital-status</th>\n",
       "      <th>occupation</th>\n",
       "      <th>relationship</th>\n",
       "      <th>race</th>\n",
       "      <th>gender</th>\n",
       "      <th>capital-gain</th>\n",
       "      <th>capital-loss</th>\n",
       "      <th>hours-per-week</th>\n",
       "      <th>native-country</th>\n",
       "      <th>income</th>\n",
       "    </tr>\n",
       "  </thead>\n",
       "  <tbody>\n",
       "    <tr>\n",
       "      <th>0</th>\n",
       "      <td>39</td>\n",
       "      <td>State-gov</td>\n",
       "      <td>77516</td>\n",
       "      <td>Bachelors</td>\n",
       "      <td>13</td>\n",
       "      <td>Never-married</td>\n",
       "      <td>Adm-clerical</td>\n",
       "      <td>Not-in-family</td>\n",
       "      <td>White</td>\n",
       "      <td>Male</td>\n",
       "      <td>2174</td>\n",
       "      <td>0</td>\n",
       "      <td>40</td>\n",
       "      <td>United-States</td>\n",
       "      <td>&lt;=50K</td>\n",
       "    </tr>\n",
       "    <tr>\n",
       "      <th>1</th>\n",
       "      <td>50</td>\n",
       "      <td>Self-emp-not-inc</td>\n",
       "      <td>83311</td>\n",
       "      <td>Bachelors</td>\n",
       "      <td>13</td>\n",
       "      <td>Married-civ-spouse</td>\n",
       "      <td>Exec-managerial</td>\n",
       "      <td>Husband</td>\n",
       "      <td>White</td>\n",
       "      <td>Male</td>\n",
       "      <td>0</td>\n",
       "      <td>0</td>\n",
       "      <td>13</td>\n",
       "      <td>United-States</td>\n",
       "      <td>&lt;=50K</td>\n",
       "    </tr>\n",
       "    <tr>\n",
       "      <th>2</th>\n",
       "      <td>38</td>\n",
       "      <td>Private</td>\n",
       "      <td>215646</td>\n",
       "      <td>HS-grad</td>\n",
       "      <td>9</td>\n",
       "      <td>Divorced</td>\n",
       "      <td>Handlers-cleaners</td>\n",
       "      <td>Not-in-family</td>\n",
       "      <td>White</td>\n",
       "      <td>Male</td>\n",
       "      <td>0</td>\n",
       "      <td>0</td>\n",
       "      <td>40</td>\n",
       "      <td>United-States</td>\n",
       "      <td>&lt;=50K</td>\n",
       "    </tr>\n",
       "    <tr>\n",
       "      <th>3</th>\n",
       "      <td>53</td>\n",
       "      <td>Private</td>\n",
       "      <td>234721</td>\n",
       "      <td>11th</td>\n",
       "      <td>7</td>\n",
       "      <td>Married-civ-spouse</td>\n",
       "      <td>Handlers-cleaners</td>\n",
       "      <td>Husband</td>\n",
       "      <td>Black</td>\n",
       "      <td>Male</td>\n",
       "      <td>0</td>\n",
       "      <td>0</td>\n",
       "      <td>40</td>\n",
       "      <td>United-States</td>\n",
       "      <td>&lt;=50K</td>\n",
       "    </tr>\n",
       "    <tr>\n",
       "      <th>4</th>\n",
       "      <td>28</td>\n",
       "      <td>Private</td>\n",
       "      <td>338409</td>\n",
       "      <td>Bachelors</td>\n",
       "      <td>13</td>\n",
       "      <td>Married-civ-spouse</td>\n",
       "      <td>Prof-specialty</td>\n",
       "      <td>Wife</td>\n",
       "      <td>Black</td>\n",
       "      <td>Female</td>\n",
       "      <td>0</td>\n",
       "      <td>0</td>\n",
       "      <td>40</td>\n",
       "      <td>Cuba</td>\n",
       "      <td>&lt;=50K</td>\n",
       "    </tr>\n",
       "  </tbody>\n",
       "</table>\n",
       "</div>"
      ],
      "text/plain": [
       "   age          workclass  fnlwgt   education  education-num  \\\n",
       "0   39          State-gov   77516   Bachelors             13   \n",
       "1   50   Self-emp-not-inc   83311   Bachelors             13   \n",
       "2   38            Private  215646     HS-grad              9   \n",
       "3   53            Private  234721        11th              7   \n",
       "4   28            Private  338409   Bachelors             13   \n",
       "\n",
       "        marital-status          occupation    relationship    race   gender  \\\n",
       "0        Never-married        Adm-clerical   Not-in-family   White     Male   \n",
       "1   Married-civ-spouse     Exec-managerial         Husband   White     Male   \n",
       "2             Divorced   Handlers-cleaners   Not-in-family   White     Male   \n",
       "3   Married-civ-spouse   Handlers-cleaners         Husband   Black     Male   \n",
       "4   Married-civ-spouse      Prof-specialty            Wife   Black   Female   \n",
       "\n",
       "   capital-gain  capital-loss  hours-per-week  native-country  income  \n",
       "0          2174             0              40   United-States   <=50K  \n",
       "1             0             0              13   United-States   <=50K  \n",
       "2             0             0              40   United-States   <=50K  \n",
       "3             0             0              40   United-States   <=50K  \n",
       "4             0             0              40            Cuba   <=50K  "
      ]
     },
     "execution_count": 4,
     "metadata": {},
     "output_type": "execute_result"
    }
   ],
   "source": [
    "url = \"https://raw.githubusercontent.com/javierfernandobotia/AnalisisAvanzadoDatos/main/adult.data\"\n",
    "download = requests.get(url).content\n",
    "columnas = ['age', 'workclass', 'fnlwgt', 'education', \n",
    "            'education-num', 'marital-status', 'occupation', \n",
    "            'relationship', 'race', 'gender', 'capital-gain', \n",
    "            'capital-loss', 'hours-per-week', 'native-country', \n",
    "            'income']\n",
    "\n",
    "data = pd.read_table(\n",
    "    io.StringIO(download.decode('utf-8')),\n",
    "    sep=',',\n",
    "    names=columnas, \n",
    "    decimal=',', \n",
    "    header=None) \n",
    "\n",
    "data.head()"
   ]
  },
  {
   "cell_type": "markdown",
   "metadata": {
    "id": "Bi4MTI9u586S"
   },
   "source": [
    "## Distribución Marginal"
   ]
  },
  {
   "cell_type": "markdown",
   "metadata": {
    "id": "YXO85arw6Gjd"
   },
   "source": [
    "Para calcular las distribuciones marginales, vamos a seleccionar para nuestro ejemplo práctico las columnas **education** y **marital-status** (Es importante trabajar con datos categóricos para calcular las distribuciones marginales y condicionales)"
   ]
  },
  {
   "cell_type": "code",
   "execution_count": 5,
   "metadata": {
    "colab": {
     "base_uri": "https://localhost:8080/",
     "height": 423
    },
    "id": "0pYhR7u16F-m",
    "outputId": "f3cf3087-819d-440c-911f-6b48def7da9d"
   },
   "outputs": [
    {
     "data": {
      "text/html": [
       "<div>\n",
       "<style scoped>\n",
       "    .dataframe tbody tr th:only-of-type {\n",
       "        vertical-align: middle;\n",
       "    }\n",
       "\n",
       "    .dataframe tbody tr th {\n",
       "        vertical-align: top;\n",
       "    }\n",
       "\n",
       "    .dataframe thead th {\n",
       "        text-align: right;\n",
       "    }\n",
       "</style>\n",
       "<table border=\"1\" class=\"dataframe\">\n",
       "  <thead>\n",
       "    <tr style=\"text-align: right;\">\n",
       "      <th></th>\n",
       "      <th>education</th>\n",
       "      <th>marital-status</th>\n",
       "    </tr>\n",
       "  </thead>\n",
       "  <tbody>\n",
       "    <tr>\n",
       "      <th>0</th>\n",
       "      <td>Bachelors</td>\n",
       "      <td>Never-married</td>\n",
       "    </tr>\n",
       "    <tr>\n",
       "      <th>1</th>\n",
       "      <td>Bachelors</td>\n",
       "      <td>Married-civ-spouse</td>\n",
       "    </tr>\n",
       "    <tr>\n",
       "      <th>2</th>\n",
       "      <td>HS-grad</td>\n",
       "      <td>Divorced</td>\n",
       "    </tr>\n",
       "    <tr>\n",
       "      <th>3</th>\n",
       "      <td>11th</td>\n",
       "      <td>Married-civ-spouse</td>\n",
       "    </tr>\n",
       "    <tr>\n",
       "      <th>4</th>\n",
       "      <td>Bachelors</td>\n",
       "      <td>Married-civ-spouse</td>\n",
       "    </tr>\n",
       "  </tbody>\n",
       "</table>\n",
       "</div>"
      ],
      "text/plain": [
       "    education       marital-status\n",
       "0   Bachelors        Never-married\n",
       "1   Bachelors   Married-civ-spouse\n",
       "2     HS-grad             Divorced\n",
       "3        11th   Married-civ-spouse\n",
       "4   Bachelors   Married-civ-spouse"
      ]
     },
     "execution_count": 5,
     "metadata": {},
     "output_type": "execute_result"
    }
   ],
   "source": [
    "datos_select = data[['education','marital-status']]\n",
    "datos_select.head()"
   ]
  },
  {
   "cell_type": "markdown",
   "metadata": {
    "id": "UxG4lJNT6inP"
   },
   "source": [
    "En el siguiente apartado, se mostrará como se crea una tabla de contingencia a partir de **datos_select**. Dicha tabla nos permitirá calcular las probabilidades marginales y posteriormente, las probabilidades condicionales."
   ]
  },
  {
   "cell_type": "markdown",
   "metadata": {
    "id": "3k9OFLoh6qMe"
   },
   "source": [
    "Veamos como se construye una tabla de contingencia con **datos_select**"
   ]
  },
  {
   "cell_type": "markdown",
   "metadata": {
    "id": "osPmiCnT6eIi"
   },
   "source": [
    "### Creando un tabla de contingencia"
   ]
  },
  {
   "cell_type": "markdown",
   "metadata": {
    "id": "s0ThbhCL6nAG"
   },
   "source": [
    "**Una tabla de contingencia**, condicionado por filas de valores marginales y columna de sumas de valores, es una representación de la partición de una muestra poblacional de dos o más categorías y entre dos o más clasificaciones, como se muestra en la tabla ejemplo:\n",
    "\n",
    "|      |Vendido |No Vendido | Total |\n",
    "|------------|------|------|------|\n",
    "|T-shirt|13|11|24|\n",
    "|------------|------------|------------|------------|\n",
    "|Camisas|12|1|13|\n",
    "|------------|------------|------------|------------|\n",
    "|Total|25|12|37|\n",
    "|----------------|------------|------------|------------|\n"
   ]
  },
  {
   "cell_type": "code",
   "execution_count": 6,
   "metadata": {
    "id": "laNC7XfH6gIQ"
   },
   "outputs": [],
   "source": [
    "Categorias_Education = pd.Categorical(datos_select['education']).unique()\n",
    "Categorias_marital = pd.Categorical(datos_select['marital-status']).unique()"
   ]
  },
  {
   "cell_type": "code",
   "execution_count": 7,
   "metadata": {
    "colab": {
     "base_uri": "https://localhost:8080/",
     "height": 90
    },
    "id": "25skWhh760IB",
    "outputId": "da8e2fef-fb5e-4304-f446-af5be766dfa7"
   },
   "outputs": [
    {
     "data": {
      "text/plain": [
       "[' Bachelors', ' HS-grad', ' 11th', ' Masters', ' 9th', ..., ' 5th-6th', ' 10th', ' 1st-4th', ' Preschool', ' 12th']\n",
       "Length: 16\n",
       "Categories (16, object): [' 10th', ' 11th', ' 12th', ' 1st-4th', ..., ' Masters', ' Preschool', ' Prof-school', ' Some-college']"
      ]
     },
     "execution_count": 7,
     "metadata": {},
     "output_type": "execute_result"
    }
   ],
   "source": [
    "Categorias_Education"
   ]
  },
  {
   "cell_type": "code",
   "execution_count": 8,
   "metadata": {
    "colab": {
     "base_uri": "https://localhost:8080/",
     "height": 72
    },
    "id": "zJZAEIhH62Zj",
    "outputId": "b90ceef6-db5b-4cb4-8416-034b106070aa"
   },
   "outputs": [
    {
     "data": {
      "text/plain": [
       "[' Never-married', ' Married-civ-spouse', ' Divorced', ' Married-spouse-absent', ' Separated', ' Married-AF-spouse', ' Widowed']\n",
       "Categories (7, object): [' Divorced', ' Married-AF-spouse', ' Married-civ-spouse', ' Married-spouse-absent', ' Never-married', ' Separated', ' Widowed']"
      ]
     },
     "execution_count": 8,
     "metadata": {},
     "output_type": "execute_result"
    }
   ],
   "source": [
    "Categorias_marital"
   ]
  },
  {
   "cell_type": "code",
   "execution_count": 9,
   "metadata": {
    "id": "kB2F0Swu644p"
   },
   "outputs": [],
   "source": [
    "contingencia_education_marital = pd.crosstab(\n",
    "    datos_select['education'], \n",
    "    datos_select['marital-status']\n",
    ")"
   ]
  },
  {
   "cell_type": "code",
   "execution_count": 10,
   "metadata": {
    "colab": {
     "base_uri": "https://localhost:8080/",
     "height": 582
    },
    "id": "XaWqOb-M68OC",
    "outputId": "7c3b03b0-c87b-42e6-930c-9db9abbaf40a"
   },
   "outputs": [
    {
     "data": {
      "text/html": [
       "<div>\n",
       "<style scoped>\n",
       "    .dataframe tbody tr th:only-of-type {\n",
       "        vertical-align: middle;\n",
       "    }\n",
       "\n",
       "    .dataframe tbody tr th {\n",
       "        vertical-align: top;\n",
       "    }\n",
       "\n",
       "    .dataframe thead th {\n",
       "        text-align: right;\n",
       "    }\n",
       "</style>\n",
       "<table border=\"1\" class=\"dataframe\">\n",
       "  <thead>\n",
       "    <tr style=\"text-align: right;\">\n",
       "      <th>marital-status</th>\n",
       "      <th>Divorced</th>\n",
       "      <th>Married-AF-spouse</th>\n",
       "      <th>Married-civ-spouse</th>\n",
       "      <th>Married-spouse-absent</th>\n",
       "      <th>Never-married</th>\n",
       "      <th>Separated</th>\n",
       "      <th>Widowed</th>\n",
       "    </tr>\n",
       "    <tr>\n",
       "      <th>education</th>\n",
       "      <th></th>\n",
       "      <th></th>\n",
       "      <th></th>\n",
       "      <th></th>\n",
       "      <th></th>\n",
       "      <th></th>\n",
       "      <th></th>\n",
       "    </tr>\n",
       "  </thead>\n",
       "  <tbody>\n",
       "    <tr>\n",
       "      <th>10th</th>\n",
       "      <td>120</td>\n",
       "      <td>0</td>\n",
       "      <td>349</td>\n",
       "      <td>15</td>\n",
       "      <td>361</td>\n",
       "      <td>49</td>\n",
       "      <td>39</td>\n",
       "    </tr>\n",
       "    <tr>\n",
       "      <th>11th</th>\n",
       "      <td>130</td>\n",
       "      <td>0</td>\n",
       "      <td>354</td>\n",
       "      <td>19</td>\n",
       "      <td>586</td>\n",
       "      <td>48</td>\n",
       "      <td>38</td>\n",
       "    </tr>\n",
       "    <tr>\n",
       "      <th>12th</th>\n",
       "      <td>39</td>\n",
       "      <td>0</td>\n",
       "      <td>130</td>\n",
       "      <td>8</td>\n",
       "      <td>232</td>\n",
       "      <td>14</td>\n",
       "      <td>10</td>\n",
       "    </tr>\n",
       "    <tr>\n",
       "      <th>1st-4th</th>\n",
       "      <td>10</td>\n",
       "      <td>0</td>\n",
       "      <td>81</td>\n",
       "      <td>12</td>\n",
       "      <td>39</td>\n",
       "      <td>9</td>\n",
       "      <td>17</td>\n",
       "    </tr>\n",
       "    <tr>\n",
       "      <th>5th-6th</th>\n",
       "      <td>20</td>\n",
       "      <td>0</td>\n",
       "      <td>172</td>\n",
       "      <td>20</td>\n",
       "      <td>89</td>\n",
       "      <td>18</td>\n",
       "      <td>14</td>\n",
       "    </tr>\n",
       "    <tr>\n",
       "      <th>7th-8th</th>\n",
       "      <td>73</td>\n",
       "      <td>0</td>\n",
       "      <td>359</td>\n",
       "      <td>14</td>\n",
       "      <td>113</td>\n",
       "      <td>23</td>\n",
       "      <td>64</td>\n",
       "    </tr>\n",
       "    <tr>\n",
       "      <th>9th</th>\n",
       "      <td>64</td>\n",
       "      <td>0</td>\n",
       "      <td>230</td>\n",
       "      <td>9</td>\n",
       "      <td>155</td>\n",
       "      <td>33</td>\n",
       "      <td>23</td>\n",
       "    </tr>\n",
       "    <tr>\n",
       "      <th>Assoc-acdm</th>\n",
       "      <td>203</td>\n",
       "      <td>2</td>\n",
       "      <td>460</td>\n",
       "      <td>12</td>\n",
       "      <td>337</td>\n",
       "      <td>30</td>\n",
       "      <td>23</td>\n",
       "    </tr>\n",
       "    <tr>\n",
       "      <th>Assoc-voc</th>\n",
       "      <td>234</td>\n",
       "      <td>1</td>\n",
       "      <td>689</td>\n",
       "      <td>13</td>\n",
       "      <td>362</td>\n",
       "      <td>42</td>\n",
       "      <td>41</td>\n",
       "    </tr>\n",
       "    <tr>\n",
       "      <th>Bachelors</th>\n",
       "      <td>546</td>\n",
       "      <td>4</td>\n",
       "      <td>2768</td>\n",
       "      <td>68</td>\n",
       "      <td>1795</td>\n",
       "      <td>92</td>\n",
       "      <td>82</td>\n",
       "    </tr>\n",
       "    <tr>\n",
       "      <th>Doctorate</th>\n",
       "      <td>33</td>\n",
       "      <td>0</td>\n",
       "      <td>286</td>\n",
       "      <td>7</td>\n",
       "      <td>73</td>\n",
       "      <td>7</td>\n",
       "      <td>7</td>\n",
       "    </tr>\n",
       "    <tr>\n",
       "      <th>HS-grad</th>\n",
       "      <td>1613</td>\n",
       "      <td>13</td>\n",
       "      <td>4845</td>\n",
       "      <td>121</td>\n",
       "      <td>3089</td>\n",
       "      <td>406</td>\n",
       "      <td>414</td>\n",
       "    </tr>\n",
       "    <tr>\n",
       "      <th>Masters</th>\n",
       "      <td>233</td>\n",
       "      <td>0</td>\n",
       "      <td>1003</td>\n",
       "      <td>17</td>\n",
       "      <td>404</td>\n",
       "      <td>25</td>\n",
       "      <td>41</td>\n",
       "    </tr>\n",
       "    <tr>\n",
       "      <th>Preschool</th>\n",
       "      <td>1</td>\n",
       "      <td>0</td>\n",
       "      <td>20</td>\n",
       "      <td>4</td>\n",
       "      <td>22</td>\n",
       "      <td>1</td>\n",
       "      <td>3</td>\n",
       "    </tr>\n",
       "    <tr>\n",
       "      <th>Prof-school</th>\n",
       "      <td>55</td>\n",
       "      <td>0</td>\n",
       "      <td>412</td>\n",
       "      <td>3</td>\n",
       "      <td>93</td>\n",
       "      <td>8</td>\n",
       "      <td>5</td>\n",
       "    </tr>\n",
       "    <tr>\n",
       "      <th>Some-college</th>\n",
       "      <td>1069</td>\n",
       "      <td>3</td>\n",
       "      <td>2818</td>\n",
       "      <td>76</td>\n",
       "      <td>2933</td>\n",
       "      <td>220</td>\n",
       "      <td>172</td>\n",
       "    </tr>\n",
       "  </tbody>\n",
       "</table>\n",
       "</div>"
      ],
      "text/plain": [
       "marital-status   Divorced   Married-AF-spouse   Married-civ-spouse  \\\n",
       "education                                                            \n",
       " 10th                 120                   0                  349   \n",
       " 11th                 130                   0                  354   \n",
       " 12th                  39                   0                  130   \n",
       " 1st-4th               10                   0                   81   \n",
       " 5th-6th               20                   0                  172   \n",
       " 7th-8th               73                   0                  359   \n",
       " 9th                   64                   0                  230   \n",
       " Assoc-acdm           203                   2                  460   \n",
       " Assoc-voc            234                   1                  689   \n",
       " Bachelors            546                   4                 2768   \n",
       " Doctorate             33                   0                  286   \n",
       " HS-grad             1613                  13                 4845   \n",
       " Masters              233                   0                 1003   \n",
       " Preschool              1                   0                   20   \n",
       " Prof-school           55                   0                  412   \n",
       " Some-college        1069                   3                 2818   \n",
       "\n",
       "marital-status   Married-spouse-absent   Never-married   Separated   Widowed  \n",
       "education                                                                     \n",
       " 10th                               15             361          49        39  \n",
       " 11th                               19             586          48        38  \n",
       " 12th                                8             232          14        10  \n",
       " 1st-4th                            12              39           9        17  \n",
       " 5th-6th                            20              89          18        14  \n",
       " 7th-8th                            14             113          23        64  \n",
       " 9th                                 9             155          33        23  \n",
       " Assoc-acdm                         12             337          30        23  \n",
       " Assoc-voc                          13             362          42        41  \n",
       " Bachelors                          68            1795          92        82  \n",
       " Doctorate                           7              73           7         7  \n",
       " HS-grad                           121            3089         406       414  \n",
       " Masters                            17             404          25        41  \n",
       " Preschool                           4              22           1         3  \n",
       " Prof-school                         3              93           8         5  \n",
       " Some-college                       76            2933         220       172  "
      ]
     },
     "execution_count": 10,
     "metadata": {},
     "output_type": "execute_result"
    }
   ],
   "source": [
    "#contingencia_education_marital['Total'] = contingencia_education_marital.sum(axis=1)\n",
    "contingencia_education_marital"
   ]
  },
  {
   "cell_type": "markdown",
   "metadata": {
    "id": "IMrsgDdI7Ahc"
   },
   "source": [
    "### Aplicación de la distribución marginal con una tabla de contingencia"
   ]
  },
  {
   "cell_type": "markdown",
   "metadata": {
    "id": "S6t34EqO7Hty"
   },
   "source": [
    "La distribución marginal es una relación entre dos variables aleatorias discretas, $X$ e $Y$, que se define como una función $f(x,y)$, tal que la sumatoria de dos funciones $g(x)$ y $h(y)$ son distribuciones de probabilidad conjuntas, es decir:\n",
    "\n",
    "$$g(x) = \\sum_{x} f(x,y)$$\n",
    "\n",
    "$$h(y) = \\sum_{y} f(x,y)$$\n",
    "\n",
    "Por lo general, este tipo de distribución son **bivariadas**, lo cual se puede representar mediante una matriz. La matriz de probabilidades permite sumar las probabilidades de una variable $x$ y sumar las probabilidades de otra variable $y$, permitiendo analizar dos eventos independientes para tomar una decisión."
   ]
  },
  {
   "cell_type": "markdown",
   "metadata": {
    "id": "tkV5C0oK7NUB"
   },
   "source": [
    "### Ejemplo de la distribución marginal con una tabla de contingencia basado en valores de producción de café"
   ]
  },
  {
   "cell_type": "code",
   "execution_count": 11,
   "metadata": {
    "colab": {
     "base_uri": "https://localhost:8080/",
     "height": 112
    },
    "id": "Asd9lCP67CIz",
    "outputId": "385c29f0-dec5-4760-8e2b-b8b1d7d4a420"
   },
   "outputs": [
    {
     "data": {
      "text/html": [
       "<div>\n",
       "<style scoped>\n",
       "    .dataframe tbody tr th:only-of-type {\n",
       "        vertical-align: middle;\n",
       "    }\n",
       "\n",
       "    .dataframe tbody tr th {\n",
       "        vertical-align: top;\n",
       "    }\n",
       "\n",
       "    .dataframe thead th {\n",
       "        text-align: right;\n",
       "    }\n",
       "</style>\n",
       "<table border=\"1\" class=\"dataframe\">\n",
       "  <thead>\n",
       "    <tr style=\"text-align: right;\">\n",
       "      <th></th>\n",
       "      <th>San Alberto</th>\n",
       "      <th>Delolita</th>\n",
       "      <th>Al alma</th>\n",
       "      <th>Revolucion</th>\n",
       "    </tr>\n",
       "  </thead>\n",
       "  <tbody>\n",
       "    <tr>\n",
       "      <th>Cafe Especial</th>\n",
       "      <td>120</td>\n",
       "      <td>400</td>\n",
       "      <td>160</td>\n",
       "      <td>199</td>\n",
       "    </tr>\n",
       "    <tr>\n",
       "      <th>Cafe Premium</th>\n",
       "      <td>50</td>\n",
       "      <td>85</td>\n",
       "      <td>81</td>\n",
       "      <td>69</td>\n",
       "    </tr>\n",
       "  </tbody>\n",
       "</table>\n",
       "</div>"
      ],
      "text/plain": [
       "               San Alberto  Delolita  Al alma  Revolucion\n",
       "Cafe Especial          120       400      160         199\n",
       "Cafe Premium            50        85       81          69"
      ]
     },
     "execution_count": 11,
     "metadata": {},
     "output_type": "execute_result"
    }
   ],
   "source": [
    "Cafe_Especial = np.array([120, 400, 160, 199])\n",
    "Cafe_Premium = np.array([50, 85, 81, 69])\n",
    "Conjunto_Cafecitos = np.vstack((Cafe_Especial, Cafe_Premium))\n",
    "Empresas = ['San Alberto', 'Delolita', 'Al alma', 'Revolucion']\n",
    "Tipo = ['Cafe Especial','Cafe Premium']\n",
    "\n",
    "Datos = pd.DataFrame(data=Conjunto_Cafecitos, columns=Empresas, index=Tipo)\n",
    "Datos"
   ]
  },
  {
   "cell_type": "code",
   "execution_count": 12,
   "metadata": {
    "colab": {
     "base_uri": "https://localhost:8080/",
     "height": 269
    },
    "id": "UqZC58BA7TbJ",
    "outputId": "452a8abd-5438-4b8e-f8ed-c8e92548a712"
   },
   "outputs": [
    {
     "data": {
      "text/html": [
       "<div>\n",
       "<style scoped>\n",
       "    .dataframe tbody tr th:only-of-type {\n",
       "        vertical-align: middle;\n",
       "    }\n",
       "\n",
       "    .dataframe tbody tr th {\n",
       "        vertical-align: top;\n",
       "    }\n",
       "\n",
       "    .dataframe thead th {\n",
       "        text-align: right;\n",
       "    }\n",
       "</style>\n",
       "<table border=\"1\" class=\"dataframe\">\n",
       "  <thead>\n",
       "    <tr style=\"text-align: right;\">\n",
       "      <th></th>\n",
       "      <th>Suma Filas</th>\n",
       "    </tr>\n",
       "  </thead>\n",
       "  <tbody>\n",
       "    <tr>\n",
       "      <th>Cafe Especial</th>\n",
       "      <td>879</td>\n",
       "    </tr>\n",
       "    <tr>\n",
       "      <th>Cafe Premium</th>\n",
       "      <td>285</td>\n",
       "    </tr>\n",
       "  </tbody>\n",
       "</table>\n",
       "</div>"
      ],
      "text/plain": [
       "               Suma Filas\n",
       "Cafe Especial         879\n",
       "Cafe Premium          285"
      ]
     },
     "metadata": {},
     "output_type": "display_data"
    },
    {
     "data": {
      "text/html": [
       "<div>\n",
       "<style scoped>\n",
       "    .dataframe tbody tr th:only-of-type {\n",
       "        vertical-align: middle;\n",
       "    }\n",
       "\n",
       "    .dataframe tbody tr th {\n",
       "        vertical-align: top;\n",
       "    }\n",
       "\n",
       "    .dataframe thead th {\n",
       "        text-align: right;\n",
       "    }\n",
       "</style>\n",
       "<table border=\"1\" class=\"dataframe\">\n",
       "  <thead>\n",
       "    <tr style=\"text-align: right;\">\n",
       "      <th></th>\n",
       "      <th>Suma Columnas</th>\n",
       "    </tr>\n",
       "  </thead>\n",
       "  <tbody>\n",
       "    <tr>\n",
       "      <th>San Alberto</th>\n",
       "      <td>170</td>\n",
       "    </tr>\n",
       "    <tr>\n",
       "      <th>Delolita</th>\n",
       "      <td>485</td>\n",
       "    </tr>\n",
       "    <tr>\n",
       "      <th>Al alma</th>\n",
       "      <td>241</td>\n",
       "    </tr>\n",
       "    <tr>\n",
       "      <th>Revolucion</th>\n",
       "      <td>268</td>\n",
       "    </tr>\n",
       "  </tbody>\n",
       "</table>\n",
       "</div>"
      ],
      "text/plain": [
       "             Suma Columnas\n",
       "San Alberto            170\n",
       "Delolita               485\n",
       "Al alma                241\n",
       "Revolucion             268"
      ]
     },
     "metadata": {},
     "output_type": "display_data"
    }
   ],
   "source": [
    "suma_Filas = Conjunto_Cafecitos.sum(axis=1)\n",
    "suma_Columnas = Conjunto_Cafecitos.sum(axis=0)\n",
    "\n",
    "suma_Filas_Cafe = pd.DataFrame(\n",
    "    suma_Filas, \n",
    "    index = Tipo, \n",
    "    columns=['Suma Filas'])\n",
    "\n",
    "suma_Columnas_Cafe = pd.DataFrame(\n",
    "    suma_Columnas, \n",
    "    index=Empresas, \n",
    "    columns=['Suma Columnas'])\n",
    "\n",
    "display(suma_Filas_Cafe)\n",
    "display(suma_Columnas_Cafe)"
   ]
  },
  {
   "cell_type": "code",
   "execution_count": 13,
   "metadata": {
    "colab": {
     "base_uri": "https://localhost:8080/"
    },
    "id": "7bzpyCwB7WC4",
    "outputId": "5bf34c89-f063-4d10-f9f4-4255c3127d44"
   },
   "outputs": [
    {
     "name": "stdout",
     "output_type": "stream",
     "text": [
      "Suma total de filas y columnas = 1164.000 y 1164.000\n"
     ]
    }
   ],
   "source": [
    "Suma_Total_Columnas = suma_Columnas.sum()\n",
    "Suma_Total_Filas = suma_Filas.sum()\n",
    "print('Suma total de filas y columnas = {:.3f} y {:.3f}'.format(Suma_Total_Filas, Suma_Total_Columnas))"
   ]
  },
  {
   "cell_type": "markdown",
   "metadata": {
    "id": "59pwya1s7aMM"
   },
   "source": [
    "Si queremos saber la probabilidad que las empresas de café tengan disponible ambos tipos de café, realizamos la siguiente operación:"
   ]
  },
  {
   "cell_type": "code",
   "execution_count": 14,
   "metadata": {
    "colab": {
     "base_uri": "https://localhost:8080/",
     "height": 175
    },
    "id": "QWFONYxN7cdz",
    "outputId": "55b6b07b-02a6-4458-fe6c-f1b198569808"
   },
   "outputs": [
    {
     "data": {
      "text/html": [
       "<div>\n",
       "<style scoped>\n",
       "    .dataframe tbody tr th:only-of-type {\n",
       "        vertical-align: middle;\n",
       "    }\n",
       "\n",
       "    .dataframe tbody tr th {\n",
       "        vertical-align: top;\n",
       "    }\n",
       "\n",
       "    .dataframe thead th {\n",
       "        text-align: right;\n",
       "    }\n",
       "</style>\n",
       "<table border=\"1\" class=\"dataframe\">\n",
       "  <thead>\n",
       "    <tr style=\"text-align: right;\">\n",
       "      <th></th>\n",
       "      <th>Probabilidad Marginal</th>\n",
       "    </tr>\n",
       "  </thead>\n",
       "  <tbody>\n",
       "    <tr>\n",
       "      <th>San Alberto</th>\n",
       "      <td>0.146048</td>\n",
       "    </tr>\n",
       "    <tr>\n",
       "      <th>Delolita</th>\n",
       "      <td>0.416667</td>\n",
       "    </tr>\n",
       "    <tr>\n",
       "      <th>Al alma</th>\n",
       "      <td>0.207045</td>\n",
       "    </tr>\n",
       "    <tr>\n",
       "      <th>Revolucion</th>\n",
       "      <td>0.230241</td>\n",
       "    </tr>\n",
       "  </tbody>\n",
       "</table>\n",
       "</div>"
      ],
      "text/plain": [
       "             Probabilidad Marginal\n",
       "San Alberto               0.146048\n",
       "Delolita                  0.416667\n",
       "Al alma                   0.207045\n",
       "Revolucion                0.230241"
      ]
     },
     "metadata": {},
     "output_type": "display_data"
    }
   ],
   "source": [
    "Prob_Marginal = suma_Columnas / Suma_Total_Columnas\n",
    "Resultados_Empresas = pd.DataFrame(\n",
    "    data = Prob_Marginal, \n",
    "    index = Empresas,\n",
    "    columns = ['Probabilidad Marginal'])\n",
    "\n",
    "display(Resultados_Empresas)"
   ]
  },
  {
   "cell_type": "markdown",
   "metadata": {
    "id": "Sns02Q4t7fW0"
   },
   "source": [
    "Si queremos saber la probabilidad de disponibilidad de algún tipo de café, considerando todas las empresas, entonces realizamos el siguiente cálculo:"
   ]
  },
  {
   "cell_type": "code",
   "execution_count": 15,
   "metadata": {
    "colab": {
     "base_uri": "https://localhost:8080/",
     "height": 112
    },
    "id": "U0vXrsTW7gEz",
    "outputId": "7a78eabc-6a42-4ee7-9f30-64d12da3ee99"
   },
   "outputs": [
    {
     "data": {
      "text/html": [
       "<div>\n",
       "<style scoped>\n",
       "    .dataframe tbody tr th:only-of-type {\n",
       "        vertical-align: middle;\n",
       "    }\n",
       "\n",
       "    .dataframe tbody tr th {\n",
       "        vertical-align: top;\n",
       "    }\n",
       "\n",
       "    .dataframe thead th {\n",
       "        text-align: right;\n",
       "    }\n",
       "</style>\n",
       "<table border=\"1\" class=\"dataframe\">\n",
       "  <thead>\n",
       "    <tr style=\"text-align: right;\">\n",
       "      <th></th>\n",
       "      <th>Probabilidad Marginal</th>\n",
       "    </tr>\n",
       "  </thead>\n",
       "  <tbody>\n",
       "    <tr>\n",
       "      <th>Cafe Especial</th>\n",
       "      <td>0.755155</td>\n",
       "    </tr>\n",
       "    <tr>\n",
       "      <th>Cafe Premium</th>\n",
       "      <td>0.244845</td>\n",
       "    </tr>\n",
       "  </tbody>\n",
       "</table>\n",
       "</div>"
      ],
      "text/plain": [
       "               Probabilidad Marginal\n",
       "Cafe Especial               0.755155\n",
       "Cafe Premium                0.244845"
      ]
     },
     "metadata": {},
     "output_type": "display_data"
    }
   ],
   "source": [
    "Prob_Marginal_Cafes = suma_Filas / Suma_Total_Filas\n",
    "Resultados_Cafes = pd.DataFrame(\n",
    "    data = Prob_Marginal_Cafes, \n",
    "    index = Tipo, \n",
    "    columns = ['Probabilidad Marginal'])\n",
    "\n",
    "display(Resultados_Cafes)"
   ]
  },
  {
   "cell_type": "markdown",
   "metadata": {
    "id": "dH7xFIWn7j-w"
   },
   "source": [
    "¿El cálculo de las probabilidades cumplen con la propiedad que las suma de todas las probabilidades marginales es igual a 1? Verifiquemos si se cumple con dicha propiedad."
   ]
  },
  {
   "cell_type": "code",
   "execution_count": 16,
   "metadata": {
    "colab": {
     "base_uri": "https://localhost:8080/"
    },
    "id": "fSpghKtV7mh1",
    "outputId": "dd954850-a28e-44ad-fcc2-a8fb407d7c01"
   },
   "outputs": [
    {
     "name": "stdout",
     "output_type": "stream",
     "text": [
      "La suma de las probabilidades marginales de las empresas de café es:  Probabilidad Marginal    1.0\n",
      "dtype: float64\n",
      "La suma de las probabilidades marginales de los tipos de café es:  Probabilidad Marginal    1.0\n",
      "dtype: float64\n"
     ]
    }
   ],
   "source": [
    "print(\"La suma de las probabilidades marginales de las empresas de café es: \", Resultados_Empresas.sum())\n",
    "print(\"La suma de las probabilidades marginales de los tipos de café es: \", Resultados_Cafes.sum())"
   ]
  },
  {
   "cell_type": "markdown",
   "metadata": {
    "id": "5qeO-3VP7qpa"
   },
   "source": [
    "*Conclusión:* se observa que hay mayor probabilidad de comprar café tipo especial o premium en la empresa Delolita y hay mayor disponibilidad de café especial en todas las empresas de café."
   ]
  },
  {
   "cell_type": "markdown",
   "metadata": {
    "id": "mQMHDlnu7xWl"
   },
   "source": [
    "### Aplicación de la distribución marginal con la tabla de contingencia generada desde la base de datos"
   ]
  },
  {
   "cell_type": "markdown",
   "metadata": {
    "id": "jcTslui8702c"
   },
   "source": [
    "Considerando la tabla de contingencia que se construyo con la base de datos inicial, **contingencia_education_marital**, utilizamos la misma estrategía vista en el anterior ejemplo para calcular las probabilidades marginales:"
   ]
  },
  {
   "cell_type": "code",
   "execution_count": 17,
   "metadata": {
    "colab": {
     "base_uri": "https://localhost:8080/"
    },
    "id": "hG3HTQxF7p7M",
    "outputId": "e653c2de-e335-404c-a35b-89ed5632e326"
   },
   "outputs": [
    {
     "name": "stdout",
     "output_type": "stream",
     "text": [
      "education\n",
      " 10th              933\n",
      " 11th             1175\n",
      " 12th              433\n",
      " 1st-4th           168\n",
      " 5th-6th           333\n",
      " 7th-8th           646\n",
      " 9th               514\n",
      " Assoc-acdm       1067\n",
      " Assoc-voc        1382\n",
      " Bachelors        5355\n",
      " Doctorate         413\n",
      " HS-grad         10501\n",
      " Masters          1723\n",
      " Preschool          51\n",
      " Prof-school       576\n",
      " Some-college     7291\n",
      "dtype: int64\n",
      "\n",
      "\n",
      "marital-status\n",
      " Divorced                  4443\n",
      " Married-AF-spouse           23\n",
      " Married-civ-spouse       14976\n",
      " Married-spouse-absent      418\n",
      " Never-married            10683\n",
      " Separated                 1025\n",
      " Widowed                    993\n",
      "dtype: int64\n"
     ]
    }
   ],
   "source": [
    "suma_Filas = contingencia_education_marital.sum(axis = 1)\n",
    "suma_Columnas = contingencia_education_marital.sum(axis = 0)\n",
    "print(suma_Filas)\n",
    "print('\\n')\n",
    "print(suma_Columnas)"
   ]
  },
  {
   "cell_type": "code",
   "execution_count": 18,
   "metadata": {
    "colab": {
     "base_uri": "https://localhost:8080/",
     "height": 865
    },
    "id": "1hR6nxc375_8",
    "outputId": "6adc361d-ceae-4391-9dfa-51a9b74a8936"
   },
   "outputs": [
    {
     "data": {
      "text/html": [
       "<div>\n",
       "<style scoped>\n",
       "    .dataframe tbody tr th:only-of-type {\n",
       "        vertical-align: middle;\n",
       "    }\n",
       "\n",
       "    .dataframe tbody tr th {\n",
       "        vertical-align: top;\n",
       "    }\n",
       "\n",
       "    .dataframe thead th {\n",
       "        text-align: right;\n",
       "    }\n",
       "</style>\n",
       "<table border=\"1\" class=\"dataframe\">\n",
       "  <thead>\n",
       "    <tr style=\"text-align: right;\">\n",
       "      <th></th>\n",
       "      <th>Suma Filas</th>\n",
       "    </tr>\n",
       "    <tr>\n",
       "      <th>education</th>\n",
       "      <th></th>\n",
       "    </tr>\n",
       "  </thead>\n",
       "  <tbody>\n",
       "    <tr>\n",
       "      <th>Preschool</th>\n",
       "      <td>51</td>\n",
       "    </tr>\n",
       "    <tr>\n",
       "      <th>1st-4th</th>\n",
       "      <td>168</td>\n",
       "    </tr>\n",
       "    <tr>\n",
       "      <th>5th-6th</th>\n",
       "      <td>333</td>\n",
       "    </tr>\n",
       "    <tr>\n",
       "      <th>Doctorate</th>\n",
       "      <td>413</td>\n",
       "    </tr>\n",
       "    <tr>\n",
       "      <th>12th</th>\n",
       "      <td>433</td>\n",
       "    </tr>\n",
       "    <tr>\n",
       "      <th>9th</th>\n",
       "      <td>514</td>\n",
       "    </tr>\n",
       "    <tr>\n",
       "      <th>Prof-school</th>\n",
       "      <td>576</td>\n",
       "    </tr>\n",
       "    <tr>\n",
       "      <th>7th-8th</th>\n",
       "      <td>646</td>\n",
       "    </tr>\n",
       "    <tr>\n",
       "      <th>10th</th>\n",
       "      <td>933</td>\n",
       "    </tr>\n",
       "    <tr>\n",
       "      <th>Assoc-acdm</th>\n",
       "      <td>1067</td>\n",
       "    </tr>\n",
       "    <tr>\n",
       "      <th>11th</th>\n",
       "      <td>1175</td>\n",
       "    </tr>\n",
       "    <tr>\n",
       "      <th>Assoc-voc</th>\n",
       "      <td>1382</td>\n",
       "    </tr>\n",
       "    <tr>\n",
       "      <th>Masters</th>\n",
       "      <td>1723</td>\n",
       "    </tr>\n",
       "    <tr>\n",
       "      <th>Bachelors</th>\n",
       "      <td>5355</td>\n",
       "    </tr>\n",
       "    <tr>\n",
       "      <th>Some-college</th>\n",
       "      <td>7291</td>\n",
       "    </tr>\n",
       "    <tr>\n",
       "      <th>HS-grad</th>\n",
       "      <td>10501</td>\n",
       "    </tr>\n",
       "  </tbody>\n",
       "</table>\n",
       "</div>"
      ],
      "text/plain": [
       "               Suma Filas\n",
       "education                \n",
       " Preschool             51\n",
       " 1st-4th              168\n",
       " 5th-6th              333\n",
       " Doctorate            413\n",
       " 12th                 433\n",
       " 9th                  514\n",
       " Prof-school          576\n",
       " 7th-8th              646\n",
       " 10th                 933\n",
       " Assoc-acdm          1067\n",
       " 11th                1175\n",
       " Assoc-voc           1382\n",
       " Masters             1723\n",
       " Bachelors           5355\n",
       " Some-college        7291\n",
       " HS-grad            10501"
      ]
     },
     "metadata": {},
     "output_type": "display_data"
    },
    {
     "data": {
      "text/html": [
       "<div>\n",
       "<style scoped>\n",
       "    .dataframe tbody tr th:only-of-type {\n",
       "        vertical-align: middle;\n",
       "    }\n",
       "\n",
       "    .dataframe tbody tr th {\n",
       "        vertical-align: top;\n",
       "    }\n",
       "\n",
       "    .dataframe thead th {\n",
       "        text-align: right;\n",
       "    }\n",
       "</style>\n",
       "<table border=\"1\" class=\"dataframe\">\n",
       "  <thead>\n",
       "    <tr style=\"text-align: right;\">\n",
       "      <th></th>\n",
       "      <th>Suma Columnas</th>\n",
       "    </tr>\n",
       "    <tr>\n",
       "      <th>marital-status</th>\n",
       "      <th></th>\n",
       "    </tr>\n",
       "  </thead>\n",
       "  <tbody>\n",
       "    <tr>\n",
       "      <th>Married-AF-spouse</th>\n",
       "      <td>23</td>\n",
       "    </tr>\n",
       "    <tr>\n",
       "      <th>Married-spouse-absent</th>\n",
       "      <td>418</td>\n",
       "    </tr>\n",
       "    <tr>\n",
       "      <th>Widowed</th>\n",
       "      <td>993</td>\n",
       "    </tr>\n",
       "    <tr>\n",
       "      <th>Separated</th>\n",
       "      <td>1025</td>\n",
       "    </tr>\n",
       "    <tr>\n",
       "      <th>Divorced</th>\n",
       "      <td>4443</td>\n",
       "    </tr>\n",
       "    <tr>\n",
       "      <th>Never-married</th>\n",
       "      <td>10683</td>\n",
       "    </tr>\n",
       "    <tr>\n",
       "      <th>Married-civ-spouse</th>\n",
       "      <td>14976</td>\n",
       "    </tr>\n",
       "  </tbody>\n",
       "</table>\n",
       "</div>"
      ],
      "text/plain": [
       "                        Suma Columnas\n",
       "marital-status                       \n",
       " Married-AF-spouse                 23\n",
       " Married-spouse-absent            418\n",
       " Widowed                          993\n",
       " Separated                       1025\n",
       " Divorced                        4443\n",
       " Never-married                  10683\n",
       " Married-civ-spouse             14976"
      ]
     },
     "metadata": {},
     "output_type": "display_data"
    }
   ],
   "source": [
    "suma_Filas_education_marital = pd.DataFrame(suma_Filas, columns=['Suma Filas'])\n",
    "suma_Columnas_education_marital = pd.DataFrame(suma_Columnas, columns=['Suma Columnas'])\n",
    "\n",
    "display(suma_Filas_education_marital.sort_values(by = ['Suma Filas'], ascending = True)) # Organizamos de menor a mayor\n",
    "display(suma_Columnas_education_marital.sort_values(by = ['Suma Columnas'], ascending = True)) # Organizamos de menor a mayor"
   ]
  },
  {
   "cell_type": "code",
   "execution_count": 19,
   "metadata": {
    "colab": {
     "base_uri": "https://localhost:8080/"
    },
    "id": "CUe8DlvB7_Kd",
    "outputId": "c8df39c2-d5b5-4150-8a16-284cefb40cdb"
   },
   "outputs": [
    {
     "name": "stdout",
     "output_type": "stream",
     "text": [
      "Suma total de filas y columnas = 32561.000 y 32561.000\n"
     ]
    }
   ],
   "source": [
    "Suma_Total_Columnas = suma_Columnas.sum()\n",
    "Suma_Total_Filas = suma_Filas.sum()\n",
    "print('Suma total de filas y columnas = {:.3f} y {:.3f}'.format(Suma_Total_Filas, Suma_Total_Columnas))"
   ]
  },
  {
   "cell_type": "markdown",
   "metadata": {
    "id": "X_6acxLn8BoO"
   },
   "source": [
    "Si queremos saber la probabilidad de los encuestados de acuerdo al nivel de educación, realizamos la siguiente operación:"
   ]
  },
  {
   "cell_type": "code",
   "execution_count": 20,
   "metadata": {
    "colab": {
     "base_uri": "https://localhost:8080/",
     "height": 582
    },
    "id": "1zWnoFAa8Dv8",
    "outputId": "83d0f1f3-0cf2-44cf-b37e-690d5ddbe270"
   },
   "outputs": [
    {
     "data": {
      "text/html": [
       "<div>\n",
       "<style scoped>\n",
       "    .dataframe tbody tr th:only-of-type {\n",
       "        vertical-align: middle;\n",
       "    }\n",
       "\n",
       "    .dataframe tbody tr th {\n",
       "        vertical-align: top;\n",
       "    }\n",
       "\n",
       "    .dataframe thead th {\n",
       "        text-align: right;\n",
       "    }\n",
       "</style>\n",
       "<table border=\"1\" class=\"dataframe\">\n",
       "  <thead>\n",
       "    <tr style=\"text-align: right;\">\n",
       "      <th></th>\n",
       "      <th>Probabilidad Marginal</th>\n",
       "    </tr>\n",
       "    <tr>\n",
       "      <th>education</th>\n",
       "      <th></th>\n",
       "    </tr>\n",
       "  </thead>\n",
       "  <tbody>\n",
       "    <tr>\n",
       "      <th>10th</th>\n",
       "      <td>0.028654</td>\n",
       "    </tr>\n",
       "    <tr>\n",
       "      <th>11th</th>\n",
       "      <td>0.036086</td>\n",
       "    </tr>\n",
       "    <tr>\n",
       "      <th>12th</th>\n",
       "      <td>0.013298</td>\n",
       "    </tr>\n",
       "    <tr>\n",
       "      <th>1st-4th</th>\n",
       "      <td>0.005160</td>\n",
       "    </tr>\n",
       "    <tr>\n",
       "      <th>5th-6th</th>\n",
       "      <td>0.010227</td>\n",
       "    </tr>\n",
       "    <tr>\n",
       "      <th>7th-8th</th>\n",
       "      <td>0.019840</td>\n",
       "    </tr>\n",
       "    <tr>\n",
       "      <th>9th</th>\n",
       "      <td>0.015786</td>\n",
       "    </tr>\n",
       "    <tr>\n",
       "      <th>Assoc-acdm</th>\n",
       "      <td>0.032769</td>\n",
       "    </tr>\n",
       "    <tr>\n",
       "      <th>Assoc-voc</th>\n",
       "      <td>0.042443</td>\n",
       "    </tr>\n",
       "    <tr>\n",
       "      <th>Bachelors</th>\n",
       "      <td>0.164461</td>\n",
       "    </tr>\n",
       "    <tr>\n",
       "      <th>Doctorate</th>\n",
       "      <td>0.012684</td>\n",
       "    </tr>\n",
       "    <tr>\n",
       "      <th>HS-grad</th>\n",
       "      <td>0.322502</td>\n",
       "    </tr>\n",
       "    <tr>\n",
       "      <th>Masters</th>\n",
       "      <td>0.052916</td>\n",
       "    </tr>\n",
       "    <tr>\n",
       "      <th>Preschool</th>\n",
       "      <td>0.001566</td>\n",
       "    </tr>\n",
       "    <tr>\n",
       "      <th>Prof-school</th>\n",
       "      <td>0.017690</td>\n",
       "    </tr>\n",
       "    <tr>\n",
       "      <th>Some-college</th>\n",
       "      <td>0.223918</td>\n",
       "    </tr>\n",
       "  </tbody>\n",
       "</table>\n",
       "</div>"
      ],
      "text/plain": [
       "               Probabilidad Marginal\n",
       "education                           \n",
       " 10th                       0.028654\n",
       " 11th                       0.036086\n",
       " 12th                       0.013298\n",
       " 1st-4th                    0.005160\n",
       " 5th-6th                    0.010227\n",
       " 7th-8th                    0.019840\n",
       " 9th                        0.015786\n",
       " Assoc-acdm                 0.032769\n",
       " Assoc-voc                  0.042443\n",
       " Bachelors                  0.164461\n",
       " Doctorate                  0.012684\n",
       " HS-grad                    0.322502\n",
       " Masters                    0.052916\n",
       " Preschool                  0.001566\n",
       " Prof-school                0.017690\n",
       " Some-college               0.223918"
      ]
     },
     "metadata": {},
     "output_type": "display_data"
    }
   ],
   "source": [
    "Prob_Marginal_education = suma_Filas / Suma_Total_Filas\n",
    "Resultados_education = pd.DataFrame(\n",
    "    data = Prob_Marginal_education, \n",
    "    columns = ['Probabilidad Marginal'])\n",
    "\n",
    "display(Resultados_education)"
   ]
  },
  {
   "cell_type": "markdown",
   "metadata": {
    "id": "UWly0Xk08GdY"
   },
   "source": [
    "**Conclusión 1:** el 32.2% de los encuestados tienen nivel de educación *HS-grad* y el 22.39% de los encuestados tienen nivel de educación *Some-college*. Por consiguiente, al sumar ambos porcentajes, el 54.59% de los encuestados manifiestan tener un nivel educativo de colegio o estar graduado de algún colegio."
   ]
  },
  {
   "cell_type": "code",
   "execution_count": 21,
   "metadata": {
    "colab": {
     "base_uri": "https://localhost:8080/",
     "height": 886
    },
    "id": "ZgSslWct8I8l",
    "outputId": "ea4c9a36-0e20-4031-9f13-e19976f889d1"
   },
   "outputs": [
    {
     "data": {
      "image/png": "[encoded data removed]",
      "text/plain": [
       "<Figure size 576x576 with 1 Axes>"
      ]
     },
     "metadata": {},
     "output_type": "display_data"
    }
   ],
   "source": [
    "Resultados_education_Porcentaje = Resultados_education * 100\n",
    "\n",
    "Resultados_education_Porcentaje.plot(\n",
    "    kind='pie', \n",
    "    subplots=True, \n",
    "    figsize=(8, 8), \n",
    "    table=True)\n",
    "\n",
    "plt.title(\"Pocentajes - education\")\n",
    "plt.ylabel(\"\")\n",
    "plt.legend(loc='best', bbox_to_anchor=(1.5, 1))\n",
    "plt.show()"
   ]
  },
  {
   "cell_type": "markdown",
   "metadata": {
    "id": "2SnAbupb8Mv2"
   },
   "source": [
    "Si queremos saber la probabilidad de los encuestados de acuerdo a su estados civil, realizamos la siguiente operación:"
   ]
  },
  {
   "cell_type": "code",
   "execution_count": 22,
   "metadata": {
    "colab": {
     "base_uri": "https://localhost:8080/",
     "height": 300
    },
    "id": "F00sbLMW8O1u",
    "outputId": "1f8cc6c5-e0ca-4cef-d0ba-f3d3f22dde48"
   },
   "outputs": [
    {
     "data": {
      "text/html": [
       "<div>\n",
       "<style scoped>\n",
       "    .dataframe tbody tr th:only-of-type {\n",
       "        vertical-align: middle;\n",
       "    }\n",
       "\n",
       "    .dataframe tbody tr th {\n",
       "        vertical-align: top;\n",
       "    }\n",
       "\n",
       "    .dataframe thead th {\n",
       "        text-align: right;\n",
       "    }\n",
       "</style>\n",
       "<table border=\"1\" class=\"dataframe\">\n",
       "  <thead>\n",
       "    <tr style=\"text-align: right;\">\n",
       "      <th></th>\n",
       "      <th>Probabilidad Marginal</th>\n",
       "    </tr>\n",
       "    <tr>\n",
       "      <th>marital-status</th>\n",
       "      <th></th>\n",
       "    </tr>\n",
       "  </thead>\n",
       "  <tbody>\n",
       "    <tr>\n",
       "      <th>Divorced</th>\n",
       "      <td>0.136452</td>\n",
       "    </tr>\n",
       "    <tr>\n",
       "      <th>Married-AF-spouse</th>\n",
       "      <td>0.000706</td>\n",
       "    </tr>\n",
       "    <tr>\n",
       "      <th>Married-civ-spouse</th>\n",
       "      <td>0.459937</td>\n",
       "    </tr>\n",
       "    <tr>\n",
       "      <th>Married-spouse-absent</th>\n",
       "      <td>0.012837</td>\n",
       "    </tr>\n",
       "    <tr>\n",
       "      <th>Never-married</th>\n",
       "      <td>0.328092</td>\n",
       "    </tr>\n",
       "    <tr>\n",
       "      <th>Separated</th>\n",
       "      <td>0.031479</td>\n",
       "    </tr>\n",
       "    <tr>\n",
       "      <th>Widowed</th>\n",
       "      <td>0.030497</td>\n",
       "    </tr>\n",
       "  </tbody>\n",
       "</table>\n",
       "</div>"
      ],
      "text/plain": [
       "                        Probabilidad Marginal\n",
       "marital-status                               \n",
       " Divorced                            0.136452\n",
       " Married-AF-spouse                   0.000706\n",
       " Married-civ-spouse                  0.459937\n",
       " Married-spouse-absent               0.012837\n",
       " Never-married                       0.328092\n",
       " Separated                           0.031479\n",
       " Widowed                             0.030497"
      ]
     },
     "metadata": {},
     "output_type": "display_data"
    }
   ],
   "source": [
    "Prob_Marginal_martial = suma_Columnas/Suma_Total_Columnas\n",
    "Resultados_martial = pd.DataFrame(\n",
    "    data = Prob_Marginal_martial, \n",
    "    columns = ['Probabilidad Marginal'])\n",
    "\n",
    "display(Resultados_martial)"
   ]
  },
  {
   "cell_type": "code",
   "execution_count": 23,
   "metadata": {
    "colab": {
     "base_uri": "https://localhost:8080/"
    },
    "id": "BXml5_ZN8RTM",
    "outputId": "e9567a83-f7c7-4e86-e1d9-764eccc0d57a"
   },
   "outputs": [
    {
     "name": "stdout",
     "output_type": "stream",
     "text": [
      "La suma de las probabilidades marginales de nivel de educación es:  Probabilidad Marginal    1.0\n",
      "dtype: float64\n",
      "La suma de las probabilidades marginales de acuerdo al estado civil es:  Probabilidad Marginal    1.0\n",
      "dtype: float64\n"
     ]
    }
   ],
   "source": [
    "print(\"La suma de las probabilidades marginales de nivel de educación es: \", Resultados_education.sum())\n",
    "print(\"La suma de las probabilidades marginales de acuerdo al estado civil es: \", Resultados_martial.sum())"
   ]
  },
  {
   "cell_type": "markdown",
   "metadata": {
    "id": "KFopnQzw8T1o"
   },
   "source": [
    "**Conclusión 2:** El 45.99 % de los encuestados están casados pero hay un 32.8 % de los encuestados que están solteros. "
   ]
  },
  {
   "cell_type": "code",
   "execution_count": 24,
   "metadata": {
    "colab": {
     "base_uri": "https://localhost:8080/",
     "height": 1000
    },
    "id": "wHi9enDG8WQK",
    "outputId": "2e253043-5a0a-44da-f99e-42a029404f50"
   },
   "outputs": [
    {
     "data": {
      "image/png": "[encoded data removed]",
      "text/plain": [
       "<Figure size 576x576 with 1 Axes>"
      ]
     },
     "metadata": {},
     "output_type": "display_data"
    }
   ],
   "source": [
    "Resultados_martial_Porcentaje = Resultados_martial * 100\n",
    "\n",
    "Resultados_martial_Porcentaje.plot(\n",
    "    kind='pie', \n",
    "    subplots=True, \n",
    "    figsize=(8, 8), \n",
    "    table = True, \n",
    "    legend = True)\n",
    "\n",
    "plt.title(\"Pocentajes - Marital Status\")\n",
    "plt.ylabel(\"\")\n",
    "plt.legend(loc='best', bbox_to_anchor=(1.5, 1))\n",
    "plt.show()"
   ]
  },
  {
   "cell_type": "markdown",
   "metadata": {
    "id": "7kIXBGHw8mog"
   },
   "source": [
    "## Distribución Condicional"
   ]
  },
  {
   "cell_type": "markdown",
   "metadata": {
    "id": "J1qLqsKd8qqp"
   },
   "source": [
    "Recordando que la probabilidad condicional es la probabilidad de un evento $A$ dado un evento $B$ que ocurrío a priori:\n",
    "\n",
    "$$\\mathbb{P}(A\\vert B) = \\frac{\\mathbb{P}(A \\cap B)}{\\mathbb{P}(B)}$$\n",
    "\n",
    "Vamos a considerar dos variables aleatorias $X$ e $Y$ con una probabilidad conjunta que simbolizaremos como $f_{XY}(x,y)$. A partir de la probabilidad conjunta, la *distribución condicional* de $Y$ dado $X = x$, se expresa como:\n",
    "\n",
    "$$f_{Y\\vert x}(y) = \\frac{f_{XY}(x,y)}{f_X (x)}$$\n",
    "\n",
    "Esta expresión determina que la distribución condicional es la probabilidad conjunta de $X$ e $Y$ sobre la distribución marginal, que simbolizaremos como $f_X (x)$, siendo que $f_X (x) > 0$. \n",
    "\n",
    "Otra forma de expresar la distribución condicional es cuando se desea conocer la probabilidad de $X$ dado $Y = y$:\n",
    "\n",
    "$$f_{X\\vert y}(x) = \\frac{f_{XY}(x,y)}{f_Y (y)}$$\n",
    "\n",
    "Veamos un ejemplo práctico de esta distribución, considerando el ejemplo anterior de las baterías:"
   ]
  },
  {
   "cell_type": "markdown",
   "metadata": {
    "id": "RHzjjn1I871z"
   },
   "source": [
    "### Ejemplo de la distribución condicional con una tabla de contingencia basado en valores de producción de café"
   ]
  },
  {
   "cell_type": "markdown",
   "metadata": {
    "id": "Xje3jK568-3n"
   },
   "source": [
    "El primer paso es construir una matriz de probabilidades marginales"
   ]
  },
  {
   "cell_type": "code",
   "execution_count": 25,
   "metadata": {
    "colab": {
     "base_uri": "https://localhost:8080/",
     "height": 112
    },
    "id": "8HY31H8X8qTY",
    "outputId": "85339697-4a08-4760-bb88-e0ba820cd935"
   },
   "outputs": [
    {
     "data": {
      "text/html": [
       "<div>\n",
       "<style scoped>\n",
       "    .dataframe tbody tr th:only-of-type {\n",
       "        vertical-align: middle;\n",
       "    }\n",
       "\n",
       "    .dataframe tbody tr th {\n",
       "        vertical-align: top;\n",
       "    }\n",
       "\n",
       "    .dataframe thead th {\n",
       "        text-align: right;\n",
       "    }\n",
       "</style>\n",
       "<table border=\"1\" class=\"dataframe\">\n",
       "  <thead>\n",
       "    <tr style=\"text-align: right;\">\n",
       "      <th></th>\n",
       "      <th>San Alberto</th>\n",
       "      <th>Delolita</th>\n",
       "      <th>Al alma</th>\n",
       "      <th>Revolucion</th>\n",
       "    </tr>\n",
       "  </thead>\n",
       "  <tbody>\n",
       "    <tr>\n",
       "      <th>Cafe Especial</th>\n",
       "      <td>120</td>\n",
       "      <td>400</td>\n",
       "      <td>160</td>\n",
       "      <td>199</td>\n",
       "    </tr>\n",
       "    <tr>\n",
       "      <th>Cafe Premium</th>\n",
       "      <td>50</td>\n",
       "      <td>85</td>\n",
       "      <td>81</td>\n",
       "      <td>69</td>\n",
       "    </tr>\n",
       "  </tbody>\n",
       "</table>\n",
       "</div>"
      ],
      "text/plain": [
       "               San Alberto  Delolita  Al alma  Revolucion\n",
       "Cafe Especial          120       400      160         199\n",
       "Cafe Premium            50        85       81          69"
      ]
     },
     "metadata": {},
     "output_type": "display_data"
    }
   ],
   "source": [
    "display(Datos)"
   ]
  },
  {
   "cell_type": "code",
   "execution_count": 26,
   "metadata": {
    "colab": {
     "base_uri": "https://localhost:8080/",
     "height": 269
    },
    "id": "Pkoj6hoG9DcH",
    "outputId": "4047146d-7414-4bdd-9ffb-49288aabb7e0"
   },
   "outputs": [
    {
     "data": {
      "text/html": [
       "<div>\n",
       "<style scoped>\n",
       "    .dataframe tbody tr th:only-of-type {\n",
       "        vertical-align: middle;\n",
       "    }\n",
       "\n",
       "    .dataframe tbody tr th {\n",
       "        vertical-align: top;\n",
       "    }\n",
       "\n",
       "    .dataframe thead th {\n",
       "        text-align: right;\n",
       "    }\n",
       "</style>\n",
       "<table border=\"1\" class=\"dataframe\">\n",
       "  <thead>\n",
       "    <tr style=\"text-align: right;\">\n",
       "      <th></th>\n",
       "      <th>Suma Filas</th>\n",
       "    </tr>\n",
       "  </thead>\n",
       "  <tbody>\n",
       "    <tr>\n",
       "      <th>Cafe Especial</th>\n",
       "      <td>879</td>\n",
       "    </tr>\n",
       "    <tr>\n",
       "      <th>Cafe Premium</th>\n",
       "      <td>285</td>\n",
       "    </tr>\n",
       "  </tbody>\n",
       "</table>\n",
       "</div>"
      ],
      "text/plain": [
       "               Suma Filas\n",
       "Cafe Especial         879\n",
       "Cafe Premium          285"
      ]
     },
     "metadata": {},
     "output_type": "display_data"
    },
    {
     "data": {
      "text/html": [
       "<div>\n",
       "<style scoped>\n",
       "    .dataframe tbody tr th:only-of-type {\n",
       "        vertical-align: middle;\n",
       "    }\n",
       "\n",
       "    .dataframe tbody tr th {\n",
       "        vertical-align: top;\n",
       "    }\n",
       "\n",
       "    .dataframe thead th {\n",
       "        text-align: right;\n",
       "    }\n",
       "</style>\n",
       "<table border=\"1\" class=\"dataframe\">\n",
       "  <thead>\n",
       "    <tr style=\"text-align: right;\">\n",
       "      <th></th>\n",
       "      <th>Suma Columnas</th>\n",
       "    </tr>\n",
       "  </thead>\n",
       "  <tbody>\n",
       "    <tr>\n",
       "      <th>San Alberto</th>\n",
       "      <td>170</td>\n",
       "    </tr>\n",
       "    <tr>\n",
       "      <th>Delolita</th>\n",
       "      <td>485</td>\n",
       "    </tr>\n",
       "    <tr>\n",
       "      <th>Al alma</th>\n",
       "      <td>241</td>\n",
       "    </tr>\n",
       "    <tr>\n",
       "      <th>Revolucion</th>\n",
       "      <td>268</td>\n",
       "    </tr>\n",
       "  </tbody>\n",
       "</table>\n",
       "</div>"
      ],
      "text/plain": [
       "             Suma Columnas\n",
       "San Alberto            170\n",
       "Delolita               485\n",
       "Al alma                241\n",
       "Revolucion             268"
      ]
     },
     "metadata": {},
     "output_type": "display_data"
    }
   ],
   "source": [
    "display(suma_Filas_Cafe)\n",
    "display(suma_Columnas_Cafe)"
   ]
  },
  {
   "cell_type": "code",
   "execution_count": 27,
   "metadata": {
    "colab": {
     "base_uri": "https://localhost:8080/",
     "height": 112
    },
    "id": "PopcW2ZE9F9r",
    "outputId": "ec0dd5ff-29fb-4ae9-be94-5b83c2702837"
   },
   "outputs": [
    {
     "data": {
      "text/html": [
       "<div>\n",
       "<style scoped>\n",
       "    .dataframe tbody tr th:only-of-type {\n",
       "        vertical-align: middle;\n",
       "    }\n",
       "\n",
       "    .dataframe tbody tr th {\n",
       "        vertical-align: top;\n",
       "    }\n",
       "\n",
       "    .dataframe thead th {\n",
       "        text-align: right;\n",
       "    }\n",
       "</style>\n",
       "<table border=\"1\" class=\"dataframe\">\n",
       "  <thead>\n",
       "    <tr style=\"text-align: right;\">\n",
       "      <th></th>\n",
       "      <th>San Alberto</th>\n",
       "      <th>Delolita</th>\n",
       "      <th>Al alma</th>\n",
       "      <th>Revolucion</th>\n",
       "      <th>Suma Filas</th>\n",
       "    </tr>\n",
       "  </thead>\n",
       "  <tbody>\n",
       "    <tr>\n",
       "      <th>Cafe Especial</th>\n",
       "      <td>120</td>\n",
       "      <td>400</td>\n",
       "      <td>160</td>\n",
       "      <td>199</td>\n",
       "      <td>879</td>\n",
       "    </tr>\n",
       "    <tr>\n",
       "      <th>Cafe Premium</th>\n",
       "      <td>50</td>\n",
       "      <td>85</td>\n",
       "      <td>81</td>\n",
       "      <td>69</td>\n",
       "      <td>285</td>\n",
       "    </tr>\n",
       "  </tbody>\n",
       "</table>\n",
       "</div>"
      ],
      "text/plain": [
       "               San Alberto  Delolita  Al alma  Revolucion  Suma Filas\n",
       "Cafe Especial          120       400      160         199         879\n",
       "Cafe Premium            50        85       81          69         285"
      ]
     },
     "metadata": {},
     "output_type": "display_data"
    }
   ],
   "source": [
    "concatenar_filas = pd.concat([Datos, suma_Filas_Cafe], axis = 1)\n",
    "display(concatenar_filas)"
   ]
  },
  {
   "cell_type": "code",
   "execution_count": 28,
   "metadata": {
    "colab": {
     "base_uri": "https://localhost:8080/",
     "height": 143
    },
    "id": "IcmsdiaO9IHs",
    "outputId": "4d8121a4-5ecf-4836-fe45-5ce70bf07eba"
   },
   "outputs": [
    {
     "data": {
      "text/html": [
       "<div>\n",
       "<style scoped>\n",
       "    .dataframe tbody tr th:only-of-type {\n",
       "        vertical-align: middle;\n",
       "    }\n",
       "\n",
       "    .dataframe tbody tr th {\n",
       "        vertical-align: top;\n",
       "    }\n",
       "\n",
       "    .dataframe thead th {\n",
       "        text-align: right;\n",
       "    }\n",
       "</style>\n",
       "<table border=\"1\" class=\"dataframe\">\n",
       "  <thead>\n",
       "    <tr style=\"text-align: right;\">\n",
       "      <th></th>\n",
       "      <th>San Alberto</th>\n",
       "      <th>Delolita</th>\n",
       "      <th>Al alma</th>\n",
       "      <th>Revolucion</th>\n",
       "      <th>Suma Filas</th>\n",
       "    </tr>\n",
       "  </thead>\n",
       "  <tbody>\n",
       "    <tr>\n",
       "      <th>Cafe Especial</th>\n",
       "      <td>120</td>\n",
       "      <td>400</td>\n",
       "      <td>160</td>\n",
       "      <td>199</td>\n",
       "      <td>879.0</td>\n",
       "    </tr>\n",
       "    <tr>\n",
       "      <th>Cafe Premium</th>\n",
       "      <td>50</td>\n",
       "      <td>85</td>\n",
       "      <td>81</td>\n",
       "      <td>69</td>\n",
       "      <td>285.0</td>\n",
       "    </tr>\n",
       "    <tr>\n",
       "      <th>Suma Columnas</th>\n",
       "      <td>170</td>\n",
       "      <td>485</td>\n",
       "      <td>241</td>\n",
       "      <td>268</td>\n",
       "      <td>NaN</td>\n",
       "    </tr>\n",
       "  </tbody>\n",
       "</table>\n",
       "</div>"
      ],
      "text/plain": [
       "               San Alberto  Delolita  Al alma  Revolucion  Suma Filas\n",
       "Cafe Especial          120       400      160         199       879.0\n",
       "Cafe Premium            50        85       81          69       285.0\n",
       "Suma Columnas          170       485      241         268         NaN"
      ]
     },
     "metadata": {},
     "output_type": "display_data"
    }
   ],
   "source": [
    "concatenar_columnas = pd.concat([concatenar_filas, suma_Columnas_Cafe.T], axis = 0)\n",
    "display(concatenar_columnas)"
   ]
  },
  {
   "cell_type": "code",
   "execution_count": 29,
   "metadata": {
    "colab": {
     "base_uri": "https://localhost:8080/",
     "height": 143
    },
    "id": "2FtXh-_z9KU0",
    "outputId": "f01e2a8b-ec3d-4385-a79e-6b11286e3032"
   },
   "outputs": [
    {
     "data": {
      "text/html": [
       "<div>\n",
       "<style scoped>\n",
       "    .dataframe tbody tr th:only-of-type {\n",
       "        vertical-align: middle;\n",
       "    }\n",
       "\n",
       "    .dataframe tbody tr th {\n",
       "        vertical-align: top;\n",
       "    }\n",
       "\n",
       "    .dataframe thead th {\n",
       "        text-align: right;\n",
       "    }\n",
       "</style>\n",
       "<table border=\"1\" class=\"dataframe\">\n",
       "  <thead>\n",
       "    <tr style=\"text-align: right;\">\n",
       "      <th></th>\n",
       "      <th>San Alberto</th>\n",
       "      <th>Delolita</th>\n",
       "      <th>Al alma</th>\n",
       "      <th>Revolucion</th>\n",
       "      <th>Suma Filas</th>\n",
       "    </tr>\n",
       "  </thead>\n",
       "  <tbody>\n",
       "    <tr>\n",
       "      <th>Cafe Especial</th>\n",
       "      <td>120</td>\n",
       "      <td>400</td>\n",
       "      <td>160</td>\n",
       "      <td>199</td>\n",
       "      <td>879.0</td>\n",
       "    </tr>\n",
       "    <tr>\n",
       "      <th>Cafe Premium</th>\n",
       "      <td>50</td>\n",
       "      <td>85</td>\n",
       "      <td>81</td>\n",
       "      <td>69</td>\n",
       "      <td>285.0</td>\n",
       "    </tr>\n",
       "    <tr>\n",
       "      <th>Suma Columnas</th>\n",
       "      <td>170</td>\n",
       "      <td>485</td>\n",
       "      <td>241</td>\n",
       "      <td>268</td>\n",
       "      <td>1164.0</td>\n",
       "    </tr>\n",
       "  </tbody>\n",
       "</table>\n",
       "</div>"
      ],
      "text/plain": [
       "               San Alberto  Delolita  Al alma  Revolucion  Suma Filas\n",
       "Cafe Especial          120       400      160         199       879.0\n",
       "Cafe Premium            50        85       81          69       285.0\n",
       "Suma Columnas          170       485      241         268      1164.0"
      ]
     },
     "metadata": {},
     "output_type": "display_data"
    }
   ],
   "source": [
    "concatenar_columnas = concatenar_columnas.fillna(suma_Filas_Cafe.sum())\n",
    "display(concatenar_columnas)"
   ]
  },
  {
   "cell_type": "markdown",
   "metadata": {
    "id": "BA0W0i6u9Ms1"
   },
   "source": [
    "A partir de la tabla anterior, se calculan las probabilidades marginales de cada elemento de la tabla"
   ]
  },
  {
   "cell_type": "code",
   "execution_count": 30,
   "metadata": {
    "colab": {
     "base_uri": "https://localhost:8080/",
     "height": 143
    },
    "id": "jaY_vYHh9NMx",
    "outputId": "41089ef5-d1ba-48e7-890a-0973b341b18b"
   },
   "outputs": [
    {
     "data": {
      "text/html": [
       "<div>\n",
       "<style scoped>\n",
       "    .dataframe tbody tr th:only-of-type {\n",
       "        vertical-align: middle;\n",
       "    }\n",
       "\n",
       "    .dataframe tbody tr th {\n",
       "        vertical-align: top;\n",
       "    }\n",
       "\n",
       "    .dataframe thead th {\n",
       "        text-align: right;\n",
       "    }\n",
       "</style>\n",
       "<table border=\"1\" class=\"dataframe\">\n",
       "  <thead>\n",
       "    <tr style=\"text-align: right;\">\n",
       "      <th></th>\n",
       "      <th>San Alberto</th>\n",
       "      <th>Delolita</th>\n",
       "      <th>Al alma</th>\n",
       "      <th>Revolucion</th>\n",
       "      <th>Suma Filas</th>\n",
       "    </tr>\n",
       "  </thead>\n",
       "  <tbody>\n",
       "    <tr>\n",
       "      <th>Cafe Especial</th>\n",
       "      <td>0.103093</td>\n",
       "      <td>0.343643</td>\n",
       "      <td>0.137457</td>\n",
       "      <td>0.170962</td>\n",
       "      <td>0.755155</td>\n",
       "    </tr>\n",
       "    <tr>\n",
       "      <th>Cafe Premium</th>\n",
       "      <td>0.042955</td>\n",
       "      <td>0.073024</td>\n",
       "      <td>0.069588</td>\n",
       "      <td>0.059278</td>\n",
       "      <td>0.244845</td>\n",
       "    </tr>\n",
       "    <tr>\n",
       "      <th>Suma Columnas</th>\n",
       "      <td>0.146048</td>\n",
       "      <td>0.416667</td>\n",
       "      <td>0.207045</td>\n",
       "      <td>0.230241</td>\n",
       "      <td>1.000000</td>\n",
       "    </tr>\n",
       "  </tbody>\n",
       "</table>\n",
       "</div>"
      ],
      "text/plain": [
       "               San Alberto  Delolita   Al alma  Revolucion  Suma Filas\n",
       "Cafe Especial     0.103093  0.343643  0.137457    0.170962    0.755155\n",
       "Cafe Premium      0.042955  0.073024  0.069588    0.059278    0.244845\n",
       "Suma Columnas     0.146048  0.416667  0.207045    0.230241    1.000000"
      ]
     },
     "metadata": {},
     "output_type": "display_data"
    }
   ],
   "source": [
    "Probabilidades_Marginales_Total = concatenar_columnas / concatenar_columnas.loc['Suma Columnas']['Suma Filas']\n",
    "display(Probabilidades_Marginales_Total) "
   ]
  },
  {
   "cell_type": "markdown",
   "metadata": {
    "id": "oSLg7ska9ReY"
   },
   "source": [
    "Una vez que se obtiene la matriz de probabilidades marginales, procedemos a calcular la matriz de probabilidades condicionales"
   ]
  },
  {
   "cell_type": "markdown",
   "metadata": {
    "id": "qC5dIWgn9UJ7"
   },
   "source": [
    "**Caso 1**: $\\frac{\\mathbf{P}(X = San Alberto, \\, Y = Cafe Especial)}{\\mathbf{P}(Y = Cafe Especial)}$"
   ]
  },
  {
   "cell_type": "code",
   "execution_count": 31,
   "metadata": {
    "colab": {
     "base_uri": "https://localhost:8080/"
    },
    "id": "o1-99mBf9XwP",
    "outputId": "49494bae-7fb6-4cab-cf42-571a22336933"
   },
   "outputs": [
    {
     "name": "stdout",
     "output_type": "stream",
     "text": [
      "P(X = San Alberto, Y = Cafe Especial)/P(Y = Cafe Especial) =  0.13651877133105803\n"
     ]
    }
   ],
   "source": [
    "P_San_Alberto_Cafe_Especial = Probabilidades_Marginales_Total.loc['Cafe Especial', 'San Alberto'] / Probabilidades_Marginales_Total.loc['Cafe Especial', 'Suma Filas']\n",
    "print(\"P(X = San Alberto, Y = Cafe Especial)/P(Y = Cafe Especial) = \", P_San_Alberto_Cafe_Especial)"
   ]
  },
  {
   "cell_type": "markdown",
   "metadata": {
    "id": "ZuYQWHwR9Z18"
   },
   "source": [
    "**Caso 2**: $\\frac{\\mathbf{P}(X = Delolita, \\, Y = Cafe Especial)}{\\mathbf{P}(Y = Cafe Especial)}$"
   ]
  },
  {
   "cell_type": "code",
   "execution_count": 32,
   "metadata": {
    "colab": {
     "base_uri": "https://localhost:8080/"
    },
    "id": "axlgGJiu9afD",
    "outputId": "2b399c09-1b1c-472d-82d4-1353d2a21986"
   },
   "outputs": [
    {
     "name": "stdout",
     "output_type": "stream",
     "text": [
      "P(X = Delolita, Y = Cafe Especial)/P(Y = Cafe Especial) =  0.45506257110352677\n"
     ]
    }
   ],
   "source": [
    "P_Delolita_Cafe_Especial = Probabilidades_Marginales_Total.loc['Cafe Especial', 'Delolita'] / Probabilidades_Marginales_Total.loc['Cafe Especial', 'Suma Filas']\n",
    "print(\"P(X = Delolita, Y = Cafe Especial)/P(Y = Cafe Especial) = \", P_Delolita_Cafe_Especial)"
   ]
  },
  {
   "cell_type": "markdown",
   "metadata": {
    "id": "g4jXMUMi9eEC"
   },
   "source": [
    "**Caso 3**: $\\frac{\\mathbf{P}(X = Al alma, \\, Y = Cafe Especial)}{\\mathbf{P}(Y = Cafe Especial)}$"
   ]
  },
  {
   "cell_type": "code",
   "execution_count": 33,
   "metadata": {
    "colab": {
     "base_uri": "https://localhost:8080/"
    },
    "id": "9POnJp009gEU",
    "outputId": "0439f470-be4a-4b16-8969-0c57027413bb"
   },
   "outputs": [
    {
     "name": "stdout",
     "output_type": "stream",
     "text": [
      "P(X = Al alma, Y = Cafe Especial)/P(Y = Cafe Especial) =  0.18202502844141072\n"
     ]
    }
   ],
   "source": [
    "P_Al_alma_Cafe_Especial = Probabilidades_Marginales_Total.loc['Cafe Especial']['Al alma']/Probabilidades_Marginales_Total.loc['Cafe Especial']['Suma Filas']\n",
    "print(\"P(X = Al alma, Y = Cafe Especial)/P(Y = Cafe Especial) = \", P_Al_alma_Cafe_Especial)"
   ]
  },
  {
   "cell_type": "markdown",
   "metadata": {
    "id": "2zCoIkGR9kI9"
   },
   "source": [
    "**Caso 4**: $\\frac{\\mathbf{P}(X = Revolucion, \\, Y = Cafe Especial)}{\\mathbf{P}(Y = Cafe Especial)}$"
   ]
  },
  {
   "cell_type": "code",
   "execution_count": 34,
   "metadata": {
    "colab": {
     "base_uri": "https://localhost:8080/"
    },
    "id": "zm9uK1lq9ksK",
    "outputId": "c25f9516-c19d-4212-f110-2216907c0960"
   },
   "outputs": [
    {
     "name": "stdout",
     "output_type": "stream",
     "text": [
      "P(X = Revolucion, Y = Cafe Especial)/P(Y = Cafe Especial) =  0.22639362912400457\n"
     ]
    }
   ],
   "source": [
    "P_Revolucion_Cafe_Especial = Probabilidades_Marginales_Total.loc['Cafe Especial']['Revolucion']/Probabilidades_Marginales_Total.loc['Cafe Especial']['Suma Filas']\n",
    "print(\"P(X = Revolucion, Y = Cafe Especial)/P(Y = Cafe Especial) = \", P_Revolucion_Cafe_Especial)"
   ]
  },
  {
   "cell_type": "markdown",
   "metadata": {
    "id": "skvSebV49paK"
   },
   "source": [
    "**Caso 5**: $\\frac{\\mathbf{P}(X = San Alberto, \\, Y = Cafe Premium)}{\\mathbf{P}(Y = Cafe Premium)}$"
   ]
  },
  {
   "cell_type": "code",
   "execution_count": 35,
   "metadata": {
    "colab": {
     "base_uri": "https://localhost:8080/"
    },
    "id": "X6UNyQeQ9qEf",
    "outputId": "696b8057-f888-438d-cbfc-6ff8731ed502"
   },
   "outputs": [
    {
     "name": "stdout",
     "output_type": "stream",
     "text": [
      "P(X = San Alberto, Y = Cafe Premium)/P(Y = Cafe Premium) =  0.1754385964912281\n"
     ]
    }
   ],
   "source": [
    "P_San_Alberto_Cafe_Premium = Probabilidades_Marginales_Total.loc['Cafe Premium']['San Alberto']/Probabilidades_Marginales_Total.loc['Cafe Premium']['Suma Filas']\n",
    "print(\"P(X = San Alberto, Y = Cafe Premium)/P(Y = Cafe Premium) = \", P_San_Alberto_Cafe_Premium)"
   ]
  },
  {
   "cell_type": "markdown",
   "metadata": {
    "id": "AunuZLNl9wBA"
   },
   "source": [
    "**Caso 6**: $\\frac{\\mathbf{P}(X = Delolita, \\, Y = Cafe Premium)}{\\mathbf{P}(Y = Cafe Premium)}$"
   ]
  },
  {
   "cell_type": "code",
   "execution_count": 36,
   "metadata": {
    "colab": {
     "base_uri": "https://localhost:8080/"
    },
    "id": "Ylq7ghno9wxl",
    "outputId": "267227c3-c8bd-400a-ae22-d9e934ace91e"
   },
   "outputs": [
    {
     "name": "stdout",
     "output_type": "stream",
     "text": [
      "P(X = Delolita, Y = Cafe Premium)/P(Y = Cafe Premium) =  0.29824561403508776\n"
     ]
    }
   ],
   "source": [
    "P_Delolita_Cafe_Premium = Probabilidades_Marginales_Total.loc['Cafe Premium']['Delolita']/Probabilidades_Marginales_Total.loc['Cafe Premium']['Suma Filas']\n",
    "print(\"P(X = Delolita, Y = Cafe Premium)/P(Y = Cafe Premium) = \", P_Delolita_Cafe_Premium)"
   ]
  },
  {
   "cell_type": "markdown",
   "metadata": {
    "id": "JRtmvyGf91mk"
   },
   "source": [
    "**Caso 7**: $\\frac{\\mathbf{P}(X = Al alma, \\, Y = Cafe Premium)}{\\mathbf{P}(Y = Cafe Premium)}$"
   ]
  },
  {
   "cell_type": "code",
   "execution_count": 37,
   "metadata": {
    "colab": {
     "base_uri": "https://localhost:8080/"
    },
    "id": "SAMpbi7392Ht",
    "outputId": "a5817d3a-a862-4565-94b5-2aed8368fee6"
   },
   "outputs": [
    {
     "name": "stdout",
     "output_type": "stream",
     "text": [
      "P(X = Al alma, Y = Cafe Premium)/P(Y = Cafe Premium) =  0.28421052631578947\n"
     ]
    }
   ],
   "source": [
    "P_Alalma_Cafe_Premium = Probabilidades_Marginales_Total.loc['Cafe Premium']['Al alma']/Probabilidades_Marginales_Total.loc['Cafe Premium']['Suma Filas']\n",
    "print(\"P(X = Al alma, Y = Cafe Premium)/P(Y = Cafe Premium) = \", P_Alalma_Cafe_Premium)"
   ]
  },
  {
   "cell_type": "markdown",
   "metadata": {
    "id": "XJ_OX-J396Mg"
   },
   "source": [
    "**Caso 8**: $\\frac{\\mathbf{P}(X = Revolucion, \\, Y = Cafe Premium)}{\\mathbf{P}(Y = Cafe Premium)}$"
   ]
  },
  {
   "cell_type": "code",
   "execution_count": 38,
   "metadata": {
    "colab": {
     "base_uri": "https://localhost:8080/"
    },
    "id": "-DaUvEql96wq",
    "outputId": "5a7d2079-877d-4c71-94a4-d0c0cbb689f0"
   },
   "outputs": [
    {
     "name": "stdout",
     "output_type": "stream",
     "text": [
      "P(X = Revolucion, Y = Cafe Premium)/P(Y = Cafe Premium) =  0.24210526315789474\n"
     ]
    }
   ],
   "source": [
    "P_Revolucion_Cafe_Premium = Probabilidades_Marginales_Total.loc['Cafe Premium']['Revolucion']/Probabilidades_Marginales_Total.loc['Cafe Premium']['Suma Filas']\n",
    "print(\"P(X = Revolucion, Y = Cafe Premium)/P(Y = Cafe Premium) = \", P_Revolucion_Cafe_Premium)"
   ]
  },
  {
   "cell_type": "markdown",
   "metadata": {
    "id": "f7PHeVAJ-AC9"
   },
   "source": [
    "A partir del cálculo de las probabilidades condicionales, vamos a construir una tabla de probabilidad condicionales para facilitar su interpretación."
   ]
  },
  {
   "cell_type": "code",
   "execution_count": 39,
   "metadata": {
    "colab": {
     "base_uri": "https://localhost:8080/",
     "height": 112
    },
    "id": "ytNGwI4E-BAY",
    "outputId": "9673b6db-9729-49de-f08b-0732e0344096"
   },
   "outputs": [
    {
     "data": {
      "text/html": [
       "<div>\n",
       "<style scoped>\n",
       "    .dataframe tbody tr th:only-of-type {\n",
       "        vertical-align: middle;\n",
       "    }\n",
       "\n",
       "    .dataframe tbody tr th {\n",
       "        vertical-align: top;\n",
       "    }\n",
       "\n",
       "    .dataframe thead th {\n",
       "        text-align: right;\n",
       "    }\n",
       "</style>\n",
       "<table border=\"1\" class=\"dataframe\">\n",
       "  <thead>\n",
       "    <tr style=\"text-align: right;\">\n",
       "      <th></th>\n",
       "      <th>San Alberto</th>\n",
       "      <th>De lolita</th>\n",
       "      <th>Al alma</th>\n",
       "      <th>Revolucion</th>\n",
       "    </tr>\n",
       "  </thead>\n",
       "  <tbody>\n",
       "    <tr>\n",
       "      <th>Cafe Especial</th>\n",
       "      <td>0.136519</td>\n",
       "      <td>0.455063</td>\n",
       "      <td>0.182025</td>\n",
       "      <td>0.226394</td>\n",
       "    </tr>\n",
       "    <tr>\n",
       "      <th>Cafe Premium</th>\n",
       "      <td>0.175439</td>\n",
       "      <td>0.298246</td>\n",
       "      <td>0.284211</td>\n",
       "      <td>0.242105</td>\n",
       "    </tr>\n",
       "  </tbody>\n",
       "</table>\n",
       "</div>"
      ],
      "text/plain": [
       "               San Alberto  De lolita   Al alma  Revolucion\n",
       "Cafe Especial     0.136519   0.455063  0.182025    0.226394\n",
       "Cafe Premium      0.175439   0.298246  0.284211    0.242105"
      ]
     },
     "metadata": {},
     "output_type": "display_data"
    }
   ],
   "source": [
    "Fila_1 = np.hstack([P_San_Alberto_Cafe_Especial, P_Delolita_Cafe_Especial, P_Al_alma_Cafe_Especial, P_Revolucion_Cafe_Especial])\n",
    "Fila_2 = np.hstack([P_San_Alberto_Cafe_Premium, P_Delolita_Cafe_Premium, P_Alalma_Cafe_Premium, P_Revolucion_Cafe_Premium])\n",
    "Tabla_Probabilidades_Condicionales = np.vstack([Fila_1,Fila_2])\n",
    "Tabla_Probabilidades_Condicionales = pd.DataFrame(Tabla_Probabilidades_Condicionales, index =['Cafe Especial', 'Cafe Premium'], columns = ['San Alberto', 'De lolita', 'Al alma', 'Revolucion'])\n",
    "display(Tabla_Probabilidades_Condicionales)"
   ]
  },
  {
   "cell_type": "code",
   "execution_count": 40,
   "metadata": {
    "colab": {
     "base_uri": "https://localhost:8080/"
    },
    "id": "QioFhIiW-EhG",
    "outputId": "54e95ce9-78cd-44f6-f112-bc1a57726cb3"
   },
   "outputs": [
    {
     "name": "stdout",
     "output_type": "stream",
     "text": [
      "Suma de las probabilidades condicionales para el Cafe Especial =  1.0\n",
      "Suma de las probabilidades condicionales para el Cafe Premium =  1.0\n"
     ]
    }
   ],
   "source": [
    "print('Suma de las probabilidades condicionales para el Cafe Especial = ', Tabla_Probabilidades_Condicionales.loc['Cafe Especial'].sum())\n",
    "print('Suma de las probabilidades condicionales para el Cafe Premium = ', Tabla_Probabilidades_Condicionales.loc['Cafe Premium'].sum())"
   ]
  },
  {
   "cell_type": "markdown",
   "metadata": {
    "id": "Y6sHtGBl-G66"
   },
   "source": [
    "Método alternativo para calcular la tabla de probabilidades condicionales"
   ]
  },
  {
   "cell_type": "code",
   "execution_count": 41,
   "metadata": {
    "colab": {
     "base_uri": "https://localhost:8080/",
     "height": 112
    },
    "id": "W5O-U6bE-JV8",
    "outputId": "498e9cc0-2eb7-43d9-866b-1c807341bec2"
   },
   "outputs": [
    {
     "data": {
      "text/html": [
       "<div>\n",
       "<style scoped>\n",
       "    .dataframe tbody tr th:only-of-type {\n",
       "        vertical-align: middle;\n",
       "    }\n",
       "\n",
       "    .dataframe tbody tr th {\n",
       "        vertical-align: top;\n",
       "    }\n",
       "\n",
       "    .dataframe thead th {\n",
       "        text-align: right;\n",
       "    }\n",
       "</style>\n",
       "<table border=\"1\" class=\"dataframe\">\n",
       "  <thead>\n",
       "    <tr style=\"text-align: right;\">\n",
       "      <th></th>\n",
       "      <th>San Alberto</th>\n",
       "      <th>De lolita</th>\n",
       "      <th>Al alma</th>\n",
       "      <th>Revolucion</th>\n",
       "      <th>Suma Probalidades Condicionales</th>\n",
       "    </tr>\n",
       "  </thead>\n",
       "  <tbody>\n",
       "    <tr>\n",
       "      <th>Cafe Especial</th>\n",
       "      <td>0.136519</td>\n",
       "      <td>0.455063</td>\n",
       "      <td>0.182025</td>\n",
       "      <td>0.226394</td>\n",
       "      <td>1.0</td>\n",
       "    </tr>\n",
       "    <tr>\n",
       "      <th>Cafe Premium</th>\n",
       "      <td>0.175439</td>\n",
       "      <td>0.298246</td>\n",
       "      <td>0.284211</td>\n",
       "      <td>0.242105</td>\n",
       "      <td>1.0</td>\n",
       "    </tr>\n",
       "  </tbody>\n",
       "</table>\n",
       "</div>"
      ],
      "text/plain": [
       "               San Alberto  De lolita   Al alma  Revolucion  \\\n",
       "Cafe Especial     0.136519   0.455063  0.182025    0.226394   \n",
       "Cafe Premium      0.175439   0.298246  0.284211    0.242105   \n",
       "\n",
       "               Suma Probalidades Condicionales  \n",
       "Cafe Especial                              1.0  \n",
       "Cafe Premium                               1.0  "
      ]
     },
     "metadata": {},
     "output_type": "display_data"
    }
   ],
   "source": [
    "Prob_Marginales = Probabilidades_Marginales_Total.values\n",
    "Prob_Cond = []\n",
    "Longitud = Prob_Marginales.shape[0] - 1\n",
    "\n",
    "for x in range(Longitud):\n",
    "    pcond = Prob_Marginales[x,:]/Prob_Marginales[x,Prob_Marginales.shape[1]-1]\n",
    "    Prob_Cond.append(pcond)\n",
    "\n",
    "Prob_Cond = pd.DataFrame(Prob_Cond, index =['Cafe Especial', 'Cafe Premium'], columns = ['San Alberto', 'De lolita', 'Al alma', 'Revolucion', 'Suma Probalidades Condicionales'])\n",
    "display(Prob_Cond)"
   ]
  },
  {
   "cell_type": "markdown",
   "metadata": {
    "id": "_JeFNPZS-Shy"
   },
   "source": [
    "### Aplicación de la distribución condicional con la tabla de contingencia generada desde la base de datos"
   ]
  },
  {
   "cell_type": "markdown",
   "metadata": {
    "id": "hLFyh1w8-WlQ"
   },
   "source": [
    "En este apartado, vamos a aplicar la tabla de contingencia de nuestra base de datos para encontrar la matriz de probabilidades condicionales"
   ]
  },
  {
   "cell_type": "code",
   "execution_count": 42,
   "metadata": {
    "colab": {
     "base_uri": "https://localhost:8080/",
     "height": 582
    },
    "id": "52TNacrm-Uqc",
    "outputId": "f8409822-b797-47a2-e446-4396f77bf754"
   },
   "outputs": [
    {
     "data": {
      "text/html": [
       "<div>\n",
       "<style scoped>\n",
       "    .dataframe tbody tr th:only-of-type {\n",
       "        vertical-align: middle;\n",
       "    }\n",
       "\n",
       "    .dataframe tbody tr th {\n",
       "        vertical-align: top;\n",
       "    }\n",
       "\n",
       "    .dataframe thead th {\n",
       "        text-align: right;\n",
       "    }\n",
       "</style>\n",
       "<table border=\"1\" class=\"dataframe\">\n",
       "  <thead>\n",
       "    <tr style=\"text-align: right;\">\n",
       "      <th>marital-status</th>\n",
       "      <th>Divorced</th>\n",
       "      <th>Married-AF-spouse</th>\n",
       "      <th>Married-civ-spouse</th>\n",
       "      <th>Married-spouse-absent</th>\n",
       "      <th>Never-married</th>\n",
       "      <th>Separated</th>\n",
       "      <th>Widowed</th>\n",
       "    </tr>\n",
       "    <tr>\n",
       "      <th>education</th>\n",
       "      <th></th>\n",
       "      <th></th>\n",
       "      <th></th>\n",
       "      <th></th>\n",
       "      <th></th>\n",
       "      <th></th>\n",
       "      <th></th>\n",
       "    </tr>\n",
       "  </thead>\n",
       "  <tbody>\n",
       "    <tr>\n",
       "      <th>10th</th>\n",
       "      <td>120</td>\n",
       "      <td>0</td>\n",
       "      <td>349</td>\n",
       "      <td>15</td>\n",
       "      <td>361</td>\n",
       "      <td>49</td>\n",
       "      <td>39</td>\n",
       "    </tr>\n",
       "    <tr>\n",
       "      <th>11th</th>\n",
       "      <td>130</td>\n",
       "      <td>0</td>\n",
       "      <td>354</td>\n",
       "      <td>19</td>\n",
       "      <td>586</td>\n",
       "      <td>48</td>\n",
       "      <td>38</td>\n",
       "    </tr>\n",
       "    <tr>\n",
       "      <th>12th</th>\n",
       "      <td>39</td>\n",
       "      <td>0</td>\n",
       "      <td>130</td>\n",
       "      <td>8</td>\n",
       "      <td>232</td>\n",
       "      <td>14</td>\n",
       "      <td>10</td>\n",
       "    </tr>\n",
       "    <tr>\n",
       "      <th>1st-4th</th>\n",
       "      <td>10</td>\n",
       "      <td>0</td>\n",
       "      <td>81</td>\n",
       "      <td>12</td>\n",
       "      <td>39</td>\n",
       "      <td>9</td>\n",
       "      <td>17</td>\n",
       "    </tr>\n",
       "    <tr>\n",
       "      <th>5th-6th</th>\n",
       "      <td>20</td>\n",
       "      <td>0</td>\n",
       "      <td>172</td>\n",
       "      <td>20</td>\n",
       "      <td>89</td>\n",
       "      <td>18</td>\n",
       "      <td>14</td>\n",
       "    </tr>\n",
       "    <tr>\n",
       "      <th>7th-8th</th>\n",
       "      <td>73</td>\n",
       "      <td>0</td>\n",
       "      <td>359</td>\n",
       "      <td>14</td>\n",
       "      <td>113</td>\n",
       "      <td>23</td>\n",
       "      <td>64</td>\n",
       "    </tr>\n",
       "    <tr>\n",
       "      <th>9th</th>\n",
       "      <td>64</td>\n",
       "      <td>0</td>\n",
       "      <td>230</td>\n",
       "      <td>9</td>\n",
       "      <td>155</td>\n",
       "      <td>33</td>\n",
       "      <td>23</td>\n",
       "    </tr>\n",
       "    <tr>\n",
       "      <th>Assoc-acdm</th>\n",
       "      <td>203</td>\n",
       "      <td>2</td>\n",
       "      <td>460</td>\n",
       "      <td>12</td>\n",
       "      <td>337</td>\n",
       "      <td>30</td>\n",
       "      <td>23</td>\n",
       "    </tr>\n",
       "    <tr>\n",
       "      <th>Assoc-voc</th>\n",
       "      <td>234</td>\n",
       "      <td>1</td>\n",
       "      <td>689</td>\n",
       "      <td>13</td>\n",
       "      <td>362</td>\n",
       "      <td>42</td>\n",
       "      <td>41</td>\n",
       "    </tr>\n",
       "    <tr>\n",
       "      <th>Bachelors</th>\n",
       "      <td>546</td>\n",
       "      <td>4</td>\n",
       "      <td>2768</td>\n",
       "      <td>68</td>\n",
       "      <td>1795</td>\n",
       "      <td>92</td>\n",
       "      <td>82</td>\n",
       "    </tr>\n",
       "    <tr>\n",
       "      <th>Doctorate</th>\n",
       "      <td>33</td>\n",
       "      <td>0</td>\n",
       "      <td>286</td>\n",
       "      <td>7</td>\n",
       "      <td>73</td>\n",
       "      <td>7</td>\n",
       "      <td>7</td>\n",
       "    </tr>\n",
       "    <tr>\n",
       "      <th>HS-grad</th>\n",
       "      <td>1613</td>\n",
       "      <td>13</td>\n",
       "      <td>4845</td>\n",
       "      <td>121</td>\n",
       "      <td>3089</td>\n",
       "      <td>406</td>\n",
       "      <td>414</td>\n",
       "    </tr>\n",
       "    <tr>\n",
       "      <th>Masters</th>\n",
       "      <td>233</td>\n",
       "      <td>0</td>\n",
       "      <td>1003</td>\n",
       "      <td>17</td>\n",
       "      <td>404</td>\n",
       "      <td>25</td>\n",
       "      <td>41</td>\n",
       "    </tr>\n",
       "    <tr>\n",
       "      <th>Preschool</th>\n",
       "      <td>1</td>\n",
       "      <td>0</td>\n",
       "      <td>20</td>\n",
       "      <td>4</td>\n",
       "      <td>22</td>\n",
       "      <td>1</td>\n",
       "      <td>3</td>\n",
       "    </tr>\n",
       "    <tr>\n",
       "      <th>Prof-school</th>\n",
       "      <td>55</td>\n",
       "      <td>0</td>\n",
       "      <td>412</td>\n",
       "      <td>3</td>\n",
       "      <td>93</td>\n",
       "      <td>8</td>\n",
       "      <td>5</td>\n",
       "    </tr>\n",
       "    <tr>\n",
       "      <th>Some-college</th>\n",
       "      <td>1069</td>\n",
       "      <td>3</td>\n",
       "      <td>2818</td>\n",
       "      <td>76</td>\n",
       "      <td>2933</td>\n",
       "      <td>220</td>\n",
       "      <td>172</td>\n",
       "    </tr>\n",
       "  </tbody>\n",
       "</table>\n",
       "</div>"
      ],
      "text/plain": [
       "marital-status   Divorced   Married-AF-spouse   Married-civ-spouse  \\\n",
       "education                                                            \n",
       " 10th                 120                   0                  349   \n",
       " 11th                 130                   0                  354   \n",
       " 12th                  39                   0                  130   \n",
       " 1st-4th               10                   0                   81   \n",
       " 5th-6th               20                   0                  172   \n",
       " 7th-8th               73                   0                  359   \n",
       " 9th                   64                   0                  230   \n",
       " Assoc-acdm           203                   2                  460   \n",
       " Assoc-voc            234                   1                  689   \n",
       " Bachelors            546                   4                 2768   \n",
       " Doctorate             33                   0                  286   \n",
       " HS-grad             1613                  13                 4845   \n",
       " Masters              233                   0                 1003   \n",
       " Preschool              1                   0                   20   \n",
       " Prof-school           55                   0                  412   \n",
       " Some-college        1069                   3                 2818   \n",
       "\n",
       "marital-status   Married-spouse-absent   Never-married   Separated   Widowed  \n",
       "education                                                                     \n",
       " 10th                               15             361          49        39  \n",
       " 11th                               19             586          48        38  \n",
       " 12th                                8             232          14        10  \n",
       " 1st-4th                            12              39           9        17  \n",
       " 5th-6th                            20              89          18        14  \n",
       " 7th-8th                            14             113          23        64  \n",
       " 9th                                 9             155          33        23  \n",
       " Assoc-acdm                         12             337          30        23  \n",
       " Assoc-voc                          13             362          42        41  \n",
       " Bachelors                          68            1795          92        82  \n",
       " Doctorate                           7              73           7         7  \n",
       " HS-grad                           121            3089         406       414  \n",
       " Masters                            17             404          25        41  \n",
       " Preschool                           4              22           1         3  \n",
       " Prof-school                         3              93           8         5  \n",
       " Some-college                       76            2933         220       172  "
      ]
     },
     "metadata": {},
     "output_type": "display_data"
    }
   ],
   "source": [
    "display(contingencia_education_marital)"
   ]
  },
  {
   "cell_type": "code",
   "execution_count": 43,
   "metadata": {
    "id": "x8Q5A1Ep-boE"
   },
   "outputs": [],
   "source": [
    "Categorias_Marital = [' Divorced', ' Married-AF-spouse', ' Married-civ-spouse', \n",
    "                      ' Married-spouse-absent', ' Never-married', ' Separated', ' Widowed']\n",
    "Categorias_Education = [' 10th', ' 11th', ' 12th', ' 1st-4th', ' 5th-6th', ' 7th-8th', \n",
    "                        ' 9th', ' Assoc-acdm', ' Assoc-voc', ' Bachelors', ' Doctorate', \n",
    "                        ' HS-grad', ' Masters',\n",
    "                        ' Preschool', ' Prof-school', ' Some-college'] "
   ]
  },
  {
   "cell_type": "markdown",
   "metadata": {
    "id": "yZ4YnXdR-ed2"
   },
   "source": [
    "Vamos a construir una tabla que incluya la suma de filas y columnas"
   ]
  },
  {
   "cell_type": "code",
   "execution_count": 44,
   "metadata": {
    "colab": {
     "base_uri": "https://localhost:8080/",
     "height": 582
    },
    "id": "CR-fPPUq-e5q",
    "outputId": "2af4442a-a18e-462f-f560-47410461ba7d"
   },
   "outputs": [
    {
     "data": {
      "text/html": [
       "<div>\n",
       "<style scoped>\n",
       "    .dataframe tbody tr th:only-of-type {\n",
       "        vertical-align: middle;\n",
       "    }\n",
       "\n",
       "    .dataframe tbody tr th {\n",
       "        vertical-align: top;\n",
       "    }\n",
       "\n",
       "    .dataframe thead th {\n",
       "        text-align: right;\n",
       "    }\n",
       "</style>\n",
       "<table border=\"1\" class=\"dataframe\">\n",
       "  <thead>\n",
       "    <tr style=\"text-align: right;\">\n",
       "      <th></th>\n",
       "      <th>Divorced</th>\n",
       "      <th>Married-AF-spouse</th>\n",
       "      <th>Married-civ-spouse</th>\n",
       "      <th>Married-spouse-absent</th>\n",
       "      <th>Never-married</th>\n",
       "      <th>Separated</th>\n",
       "      <th>Widowed</th>\n",
       "      <th>Suma Filas</th>\n",
       "    </tr>\n",
       "  </thead>\n",
       "  <tbody>\n",
       "    <tr>\n",
       "      <th>10th</th>\n",
       "      <td>120</td>\n",
       "      <td>0</td>\n",
       "      <td>349</td>\n",
       "      <td>15</td>\n",
       "      <td>361</td>\n",
       "      <td>49</td>\n",
       "      <td>39</td>\n",
       "      <td>933.0</td>\n",
       "    </tr>\n",
       "    <tr>\n",
       "      <th>11th</th>\n",
       "      <td>130</td>\n",
       "      <td>0</td>\n",
       "      <td>354</td>\n",
       "      <td>19</td>\n",
       "      <td>586</td>\n",
       "      <td>48</td>\n",
       "      <td>38</td>\n",
       "      <td>1175.0</td>\n",
       "    </tr>\n",
       "    <tr>\n",
       "      <th>12th</th>\n",
       "      <td>39</td>\n",
       "      <td>0</td>\n",
       "      <td>130</td>\n",
       "      <td>8</td>\n",
       "      <td>232</td>\n",
       "      <td>14</td>\n",
       "      <td>10</td>\n",
       "      <td>433.0</td>\n",
       "    </tr>\n",
       "    <tr>\n",
       "      <th>1st-4th</th>\n",
       "      <td>10</td>\n",
       "      <td>0</td>\n",
       "      <td>81</td>\n",
       "      <td>12</td>\n",
       "      <td>39</td>\n",
       "      <td>9</td>\n",
       "      <td>17</td>\n",
       "      <td>168.0</td>\n",
       "    </tr>\n",
       "    <tr>\n",
       "      <th>5th-6th</th>\n",
       "      <td>20</td>\n",
       "      <td>0</td>\n",
       "      <td>172</td>\n",
       "      <td>20</td>\n",
       "      <td>89</td>\n",
       "      <td>18</td>\n",
       "      <td>14</td>\n",
       "      <td>333.0</td>\n",
       "    </tr>\n",
       "    <tr>\n",
       "      <th>7th-8th</th>\n",
       "      <td>73</td>\n",
       "      <td>0</td>\n",
       "      <td>359</td>\n",
       "      <td>14</td>\n",
       "      <td>113</td>\n",
       "      <td>23</td>\n",
       "      <td>64</td>\n",
       "      <td>646.0</td>\n",
       "    </tr>\n",
       "    <tr>\n",
       "      <th>9th</th>\n",
       "      <td>64</td>\n",
       "      <td>0</td>\n",
       "      <td>230</td>\n",
       "      <td>9</td>\n",
       "      <td>155</td>\n",
       "      <td>33</td>\n",
       "      <td>23</td>\n",
       "      <td>514.0</td>\n",
       "    </tr>\n",
       "    <tr>\n",
       "      <th>Assoc-acdm</th>\n",
       "      <td>203</td>\n",
       "      <td>2</td>\n",
       "      <td>460</td>\n",
       "      <td>12</td>\n",
       "      <td>337</td>\n",
       "      <td>30</td>\n",
       "      <td>23</td>\n",
       "      <td>1067.0</td>\n",
       "    </tr>\n",
       "    <tr>\n",
       "      <th>Assoc-voc</th>\n",
       "      <td>234</td>\n",
       "      <td>1</td>\n",
       "      <td>689</td>\n",
       "      <td>13</td>\n",
       "      <td>362</td>\n",
       "      <td>42</td>\n",
       "      <td>41</td>\n",
       "      <td>1382.0</td>\n",
       "    </tr>\n",
       "    <tr>\n",
       "      <th>Bachelors</th>\n",
       "      <td>546</td>\n",
       "      <td>4</td>\n",
       "      <td>2768</td>\n",
       "      <td>68</td>\n",
       "      <td>1795</td>\n",
       "      <td>92</td>\n",
       "      <td>82</td>\n",
       "      <td>5355.0</td>\n",
       "    </tr>\n",
       "    <tr>\n",
       "      <th>Doctorate</th>\n",
       "      <td>33</td>\n",
       "      <td>0</td>\n",
       "      <td>286</td>\n",
       "      <td>7</td>\n",
       "      <td>73</td>\n",
       "      <td>7</td>\n",
       "      <td>7</td>\n",
       "      <td>413.0</td>\n",
       "    </tr>\n",
       "    <tr>\n",
       "      <th>HS-grad</th>\n",
       "      <td>1613</td>\n",
       "      <td>13</td>\n",
       "      <td>4845</td>\n",
       "      <td>121</td>\n",
       "      <td>3089</td>\n",
       "      <td>406</td>\n",
       "      <td>414</td>\n",
       "      <td>10501.0</td>\n",
       "    </tr>\n",
       "    <tr>\n",
       "      <th>Masters</th>\n",
       "      <td>233</td>\n",
       "      <td>0</td>\n",
       "      <td>1003</td>\n",
       "      <td>17</td>\n",
       "      <td>404</td>\n",
       "      <td>25</td>\n",
       "      <td>41</td>\n",
       "      <td>1723.0</td>\n",
       "    </tr>\n",
       "    <tr>\n",
       "      <th>Preschool</th>\n",
       "      <td>1</td>\n",
       "      <td>0</td>\n",
       "      <td>20</td>\n",
       "      <td>4</td>\n",
       "      <td>22</td>\n",
       "      <td>1</td>\n",
       "      <td>3</td>\n",
       "      <td>51.0</td>\n",
       "    </tr>\n",
       "    <tr>\n",
       "      <th>Prof-school</th>\n",
       "      <td>55</td>\n",
       "      <td>0</td>\n",
       "      <td>412</td>\n",
       "      <td>3</td>\n",
       "      <td>93</td>\n",
       "      <td>8</td>\n",
       "      <td>5</td>\n",
       "      <td>576.0</td>\n",
       "    </tr>\n",
       "    <tr>\n",
       "      <th>Some-college</th>\n",
       "      <td>1069</td>\n",
       "      <td>3</td>\n",
       "      <td>2818</td>\n",
       "      <td>76</td>\n",
       "      <td>2933</td>\n",
       "      <td>220</td>\n",
       "      <td>172</td>\n",
       "      <td>7291.0</td>\n",
       "    </tr>\n",
       "    <tr>\n",
       "      <th>Suma Columnas</th>\n",
       "      <td>4443</td>\n",
       "      <td>23</td>\n",
       "      <td>14976</td>\n",
       "      <td>418</td>\n",
       "      <td>10683</td>\n",
       "      <td>1025</td>\n",
       "      <td>993</td>\n",
       "      <td>NaN</td>\n",
       "    </tr>\n",
       "  </tbody>\n",
       "</table>\n",
       "</div>"
      ],
      "text/plain": [
       "                Divorced   Married-AF-spouse   Married-civ-spouse  \\\n",
       " 10th                120                   0                  349   \n",
       " 11th                130                   0                  354   \n",
       " 12th                 39                   0                  130   \n",
       " 1st-4th              10                   0                   81   \n",
       " 5th-6th              20                   0                  172   \n",
       " 7th-8th              73                   0                  359   \n",
       " 9th                  64                   0                  230   \n",
       " Assoc-acdm          203                   2                  460   \n",
       " Assoc-voc           234                   1                  689   \n",
       " Bachelors           546                   4                 2768   \n",
       " Doctorate            33                   0                  286   \n",
       " HS-grad            1613                  13                 4845   \n",
       " Masters             233                   0                 1003   \n",
       " Preschool             1                   0                   20   \n",
       " Prof-school          55                   0                  412   \n",
       " Some-college       1069                   3                 2818   \n",
       "Suma Columnas       4443                  23                14976   \n",
       "\n",
       "                Married-spouse-absent   Never-married   Separated   Widowed  \\\n",
       " 10th                              15             361          49        39   \n",
       " 11th                              19             586          48        38   \n",
       " 12th                               8             232          14        10   \n",
       " 1st-4th                           12              39           9        17   \n",
       " 5th-6th                           20              89          18        14   \n",
       " 7th-8th                           14             113          23        64   \n",
       " 9th                                9             155          33        23   \n",
       " Assoc-acdm                        12             337          30        23   \n",
       " Assoc-voc                         13             362          42        41   \n",
       " Bachelors                         68            1795          92        82   \n",
       " Doctorate                          7              73           7         7   \n",
       " HS-grad                          121            3089         406       414   \n",
       " Masters                           17             404          25        41   \n",
       " Preschool                          4              22           1         3   \n",
       " Prof-school                        3              93           8         5   \n",
       " Some-college                      76            2933         220       172   \n",
       "Suma Columnas                     418           10683        1025       993   \n",
       "\n",
       "               Suma Filas  \n",
       " 10th               933.0  \n",
       " 11th              1175.0  \n",
       " 12th               433.0  \n",
       " 1st-4th            168.0  \n",
       " 5th-6th            333.0  \n",
       " 7th-8th            646.0  \n",
       " 9th                514.0  \n",
       " Assoc-acdm        1067.0  \n",
       " Assoc-voc         1382.0  \n",
       " Bachelors         5355.0  \n",
       " Doctorate          413.0  \n",
       " HS-grad          10501.0  \n",
       " Masters           1723.0  \n",
       " Preschool           51.0  \n",
       " Prof-school        576.0  \n",
       " Some-college      7291.0  \n",
       "Suma Columnas         NaN  "
      ]
     },
     "metadata": {},
     "output_type": "display_data"
    }
   ],
   "source": [
    "Suma_Filas = contingencia_education_marital.sum(axis = 1)\n",
    "Suma_Filas = pd.DataFrame(Suma_Filas, columns = ['Suma Filas'])\n",
    "Suma_Columnas = contingencia_education_marital.sum(axis = 0)\n",
    "Suma_Columna = pd.DataFrame(Suma_Columnas, columns = ['Suma Columnas'])\n",
    "contingencia_1 = pd.concat([contingencia_education_marital, Suma_Filas], axis = 1)\n",
    "contingencia_2 = pd.concat([contingencia_1, Suma_Columna.T], axis = 0)\n",
    "display(contingencia_2)"
   ]
  },
  {
   "cell_type": "code",
   "execution_count": 45,
   "metadata": {
    "colab": {
     "base_uri": "https://localhost:8080/",
     "height": 582
    },
    "id": "KTD87MVL-kk9",
    "outputId": "c13fd651-c2cc-4cf1-8960-c284543b6c82"
   },
   "outputs": [
    {
     "data": {
      "text/html": [
       "<div>\n",
       "<style scoped>\n",
       "    .dataframe tbody tr th:only-of-type {\n",
       "        vertical-align: middle;\n",
       "    }\n",
       "\n",
       "    .dataframe tbody tr th {\n",
       "        vertical-align: top;\n",
       "    }\n",
       "\n",
       "    .dataframe thead th {\n",
       "        text-align: right;\n",
       "    }\n",
       "</style>\n",
       "<table border=\"1\" class=\"dataframe\">\n",
       "  <thead>\n",
       "    <tr style=\"text-align: right;\">\n",
       "      <th></th>\n",
       "      <th>Divorced</th>\n",
       "      <th>Married-AF-spouse</th>\n",
       "      <th>Married-civ-spouse</th>\n",
       "      <th>Married-spouse-absent</th>\n",
       "      <th>Never-married</th>\n",
       "      <th>Separated</th>\n",
       "      <th>Widowed</th>\n",
       "      <th>Suma Filas</th>\n",
       "    </tr>\n",
       "  </thead>\n",
       "  <tbody>\n",
       "    <tr>\n",
       "      <th>10th</th>\n",
       "      <td>120</td>\n",
       "      <td>0</td>\n",
       "      <td>349</td>\n",
       "      <td>15</td>\n",
       "      <td>361</td>\n",
       "      <td>49</td>\n",
       "      <td>39</td>\n",
       "      <td>933.0</td>\n",
       "    </tr>\n",
       "    <tr>\n",
       "      <th>11th</th>\n",
       "      <td>130</td>\n",
       "      <td>0</td>\n",
       "      <td>354</td>\n",
       "      <td>19</td>\n",
       "      <td>586</td>\n",
       "      <td>48</td>\n",
       "      <td>38</td>\n",
       "      <td>1175.0</td>\n",
       "    </tr>\n",
       "    <tr>\n",
       "      <th>12th</th>\n",
       "      <td>39</td>\n",
       "      <td>0</td>\n",
       "      <td>130</td>\n",
       "      <td>8</td>\n",
       "      <td>232</td>\n",
       "      <td>14</td>\n",
       "      <td>10</td>\n",
       "      <td>433.0</td>\n",
       "    </tr>\n",
       "    <tr>\n",
       "      <th>1st-4th</th>\n",
       "      <td>10</td>\n",
       "      <td>0</td>\n",
       "      <td>81</td>\n",
       "      <td>12</td>\n",
       "      <td>39</td>\n",
       "      <td>9</td>\n",
       "      <td>17</td>\n",
       "      <td>168.0</td>\n",
       "    </tr>\n",
       "    <tr>\n",
       "      <th>5th-6th</th>\n",
       "      <td>20</td>\n",
       "      <td>0</td>\n",
       "      <td>172</td>\n",
       "      <td>20</td>\n",
       "      <td>89</td>\n",
       "      <td>18</td>\n",
       "      <td>14</td>\n",
       "      <td>333.0</td>\n",
       "    </tr>\n",
       "    <tr>\n",
       "      <th>7th-8th</th>\n",
       "      <td>73</td>\n",
       "      <td>0</td>\n",
       "      <td>359</td>\n",
       "      <td>14</td>\n",
       "      <td>113</td>\n",
       "      <td>23</td>\n",
       "      <td>64</td>\n",
       "      <td>646.0</td>\n",
       "    </tr>\n",
       "    <tr>\n",
       "      <th>9th</th>\n",
       "      <td>64</td>\n",
       "      <td>0</td>\n",
       "      <td>230</td>\n",
       "      <td>9</td>\n",
       "      <td>155</td>\n",
       "      <td>33</td>\n",
       "      <td>23</td>\n",
       "      <td>514.0</td>\n",
       "    </tr>\n",
       "    <tr>\n",
       "      <th>Assoc-acdm</th>\n",
       "      <td>203</td>\n",
       "      <td>2</td>\n",
       "      <td>460</td>\n",
       "      <td>12</td>\n",
       "      <td>337</td>\n",
       "      <td>30</td>\n",
       "      <td>23</td>\n",
       "      <td>1067.0</td>\n",
       "    </tr>\n",
       "    <tr>\n",
       "      <th>Assoc-voc</th>\n",
       "      <td>234</td>\n",
       "      <td>1</td>\n",
       "      <td>689</td>\n",
       "      <td>13</td>\n",
       "      <td>362</td>\n",
       "      <td>42</td>\n",
       "      <td>41</td>\n",
       "      <td>1382.0</td>\n",
       "    </tr>\n",
       "    <tr>\n",
       "      <th>Bachelors</th>\n",
       "      <td>546</td>\n",
       "      <td>4</td>\n",
       "      <td>2768</td>\n",
       "      <td>68</td>\n",
       "      <td>1795</td>\n",
       "      <td>92</td>\n",
       "      <td>82</td>\n",
       "      <td>5355.0</td>\n",
       "    </tr>\n",
       "    <tr>\n",
       "      <th>Doctorate</th>\n",
       "      <td>33</td>\n",
       "      <td>0</td>\n",
       "      <td>286</td>\n",
       "      <td>7</td>\n",
       "      <td>73</td>\n",
       "      <td>7</td>\n",
       "      <td>7</td>\n",
       "      <td>413.0</td>\n",
       "    </tr>\n",
       "    <tr>\n",
       "      <th>HS-grad</th>\n",
       "      <td>1613</td>\n",
       "      <td>13</td>\n",
       "      <td>4845</td>\n",
       "      <td>121</td>\n",
       "      <td>3089</td>\n",
       "      <td>406</td>\n",
       "      <td>414</td>\n",
       "      <td>10501.0</td>\n",
       "    </tr>\n",
       "    <tr>\n",
       "      <th>Masters</th>\n",
       "      <td>233</td>\n",
       "      <td>0</td>\n",
       "      <td>1003</td>\n",
       "      <td>17</td>\n",
       "      <td>404</td>\n",
       "      <td>25</td>\n",
       "      <td>41</td>\n",
       "      <td>1723.0</td>\n",
       "    </tr>\n",
       "    <tr>\n",
       "      <th>Preschool</th>\n",
       "      <td>1</td>\n",
       "      <td>0</td>\n",
       "      <td>20</td>\n",
       "      <td>4</td>\n",
       "      <td>22</td>\n",
       "      <td>1</td>\n",
       "      <td>3</td>\n",
       "      <td>51.0</td>\n",
       "    </tr>\n",
       "    <tr>\n",
       "      <th>Prof-school</th>\n",
       "      <td>55</td>\n",
       "      <td>0</td>\n",
       "      <td>412</td>\n",
       "      <td>3</td>\n",
       "      <td>93</td>\n",
       "      <td>8</td>\n",
       "      <td>5</td>\n",
       "      <td>576.0</td>\n",
       "    </tr>\n",
       "    <tr>\n",
       "      <th>Some-college</th>\n",
       "      <td>1069</td>\n",
       "      <td>3</td>\n",
       "      <td>2818</td>\n",
       "      <td>76</td>\n",
       "      <td>2933</td>\n",
       "      <td>220</td>\n",
       "      <td>172</td>\n",
       "      <td>7291.0</td>\n",
       "    </tr>\n",
       "    <tr>\n",
       "      <th>Suma Columnas</th>\n",
       "      <td>4443</td>\n",
       "      <td>23</td>\n",
       "      <td>14976</td>\n",
       "      <td>418</td>\n",
       "      <td>10683</td>\n",
       "      <td>1025</td>\n",
       "      <td>993</td>\n",
       "      <td>32561.0</td>\n",
       "    </tr>\n",
       "  </tbody>\n",
       "</table>\n",
       "</div>"
      ],
      "text/plain": [
       "                Divorced   Married-AF-spouse   Married-civ-spouse  \\\n",
       " 10th                120                   0                  349   \n",
       " 11th                130                   0                  354   \n",
       " 12th                 39                   0                  130   \n",
       " 1st-4th              10                   0                   81   \n",
       " 5th-6th              20                   0                  172   \n",
       " 7th-8th              73                   0                  359   \n",
       " 9th                  64                   0                  230   \n",
       " Assoc-acdm          203                   2                  460   \n",
       " Assoc-voc           234                   1                  689   \n",
       " Bachelors           546                   4                 2768   \n",
       " Doctorate            33                   0                  286   \n",
       " HS-grad            1613                  13                 4845   \n",
       " Masters             233                   0                 1003   \n",
       " Preschool             1                   0                   20   \n",
       " Prof-school          55                   0                  412   \n",
       " Some-college       1069                   3                 2818   \n",
       "Suma Columnas       4443                  23                14976   \n",
       "\n",
       "                Married-spouse-absent   Never-married   Separated   Widowed  \\\n",
       " 10th                              15             361          49        39   \n",
       " 11th                              19             586          48        38   \n",
       " 12th                               8             232          14        10   \n",
       " 1st-4th                           12              39           9        17   \n",
       " 5th-6th                           20              89          18        14   \n",
       " 7th-8th                           14             113          23        64   \n",
       " 9th                                9             155          33        23   \n",
       " Assoc-acdm                        12             337          30        23   \n",
       " Assoc-voc                         13             362          42        41   \n",
       " Bachelors                         68            1795          92        82   \n",
       " Doctorate                          7              73           7         7   \n",
       " HS-grad                          121            3089         406       414   \n",
       " Masters                           17             404          25        41   \n",
       " Preschool                          4              22           1         3   \n",
       " Prof-school                        3              93           8         5   \n",
       " Some-college                      76            2933         220       172   \n",
       "Suma Columnas                     418           10683        1025       993   \n",
       "\n",
       "               Suma Filas  \n",
       " 10th               933.0  \n",
       " 11th              1175.0  \n",
       " 12th               433.0  \n",
       " 1st-4th            168.0  \n",
       " 5th-6th            333.0  \n",
       " 7th-8th            646.0  \n",
       " 9th                514.0  \n",
       " Assoc-acdm        1067.0  \n",
       " Assoc-voc         1382.0  \n",
       " Bachelors         5355.0  \n",
       " Doctorate          413.0  \n",
       " HS-grad          10501.0  \n",
       " Masters           1723.0  \n",
       " Preschool           51.0  \n",
       " Prof-school        576.0  \n",
       " Some-college      7291.0  \n",
       "Suma Columnas     32561.0  "
      ]
     },
     "metadata": {},
     "output_type": "display_data"
    }
   ],
   "source": [
    "contingencia_2 = contingencia_2.fillna(Suma_Filas.sum())\n",
    "display(contingencia_2)"
   ]
  },
  {
   "cell_type": "markdown",
   "metadata": {
    "id": "rcvARz_A-oWR"
   },
   "source": [
    "Calculando la matriz de probabilidades marginales"
   ]
  },
  {
   "cell_type": "code",
   "execution_count": 46,
   "metadata": {
    "colab": {
     "base_uri": "https://localhost:8080/",
     "height": 582
    },
    "id": "Pj_et0yk-o5Q",
    "outputId": "d466e0f8-83e0-496b-ac29-6622f9c91ac7"
   },
   "outputs": [
    {
     "data": {
      "text/html": [
       "<div>\n",
       "<style scoped>\n",
       "    .dataframe tbody tr th:only-of-type {\n",
       "        vertical-align: middle;\n",
       "    }\n",
       "\n",
       "    .dataframe tbody tr th {\n",
       "        vertical-align: top;\n",
       "    }\n",
       "\n",
       "    .dataframe thead th {\n",
       "        text-align: right;\n",
       "    }\n",
       "</style>\n",
       "<table border=\"1\" class=\"dataframe\">\n",
       "  <thead>\n",
       "    <tr style=\"text-align: right;\">\n",
       "      <th></th>\n",
       "      <th>Divorced</th>\n",
       "      <th>Married-AF-spouse</th>\n",
       "      <th>Married-civ-spouse</th>\n",
       "      <th>Married-spouse-absent</th>\n",
       "      <th>Never-married</th>\n",
       "      <th>Separated</th>\n",
       "      <th>Widowed</th>\n",
       "      <th>Suma Filas</th>\n",
       "    </tr>\n",
       "  </thead>\n",
       "  <tbody>\n",
       "    <tr>\n",
       "      <th>10th</th>\n",
       "      <td>0.003685</td>\n",
       "      <td>0.000000</td>\n",
       "      <td>0.010718</td>\n",
       "      <td>0.000461</td>\n",
       "      <td>0.011087</td>\n",
       "      <td>0.001505</td>\n",
       "      <td>0.001198</td>\n",
       "      <td>0.028654</td>\n",
       "    </tr>\n",
       "    <tr>\n",
       "      <th>11th</th>\n",
       "      <td>0.003993</td>\n",
       "      <td>0.000000</td>\n",
       "      <td>0.010872</td>\n",
       "      <td>0.000584</td>\n",
       "      <td>0.017997</td>\n",
       "      <td>0.001474</td>\n",
       "      <td>0.001167</td>\n",
       "      <td>0.036086</td>\n",
       "    </tr>\n",
       "    <tr>\n",
       "      <th>12th</th>\n",
       "      <td>0.001198</td>\n",
       "      <td>0.000000</td>\n",
       "      <td>0.003993</td>\n",
       "      <td>0.000246</td>\n",
       "      <td>0.007125</td>\n",
       "      <td>0.000430</td>\n",
       "      <td>0.000307</td>\n",
       "      <td>0.013298</td>\n",
       "    </tr>\n",
       "    <tr>\n",
       "      <th>1st-4th</th>\n",
       "      <td>0.000307</td>\n",
       "      <td>0.000000</td>\n",
       "      <td>0.002488</td>\n",
       "      <td>0.000369</td>\n",
       "      <td>0.001198</td>\n",
       "      <td>0.000276</td>\n",
       "      <td>0.000522</td>\n",
       "      <td>0.005160</td>\n",
       "    </tr>\n",
       "    <tr>\n",
       "      <th>5th-6th</th>\n",
       "      <td>0.000614</td>\n",
       "      <td>0.000000</td>\n",
       "      <td>0.005282</td>\n",
       "      <td>0.000614</td>\n",
       "      <td>0.002733</td>\n",
       "      <td>0.000553</td>\n",
       "      <td>0.000430</td>\n",
       "      <td>0.010227</td>\n",
       "    </tr>\n",
       "    <tr>\n",
       "      <th>7th-8th</th>\n",
       "      <td>0.002242</td>\n",
       "      <td>0.000000</td>\n",
       "      <td>0.011025</td>\n",
       "      <td>0.000430</td>\n",
       "      <td>0.003470</td>\n",
       "      <td>0.000706</td>\n",
       "      <td>0.001966</td>\n",
       "      <td>0.019840</td>\n",
       "    </tr>\n",
       "    <tr>\n",
       "      <th>9th</th>\n",
       "      <td>0.001966</td>\n",
       "      <td>0.000000</td>\n",
       "      <td>0.007064</td>\n",
       "      <td>0.000276</td>\n",
       "      <td>0.004760</td>\n",
       "      <td>0.001013</td>\n",
       "      <td>0.000706</td>\n",
       "      <td>0.015786</td>\n",
       "    </tr>\n",
       "    <tr>\n",
       "      <th>Assoc-acdm</th>\n",
       "      <td>0.006234</td>\n",
       "      <td>0.000061</td>\n",
       "      <td>0.014127</td>\n",
       "      <td>0.000369</td>\n",
       "      <td>0.010350</td>\n",
       "      <td>0.000921</td>\n",
       "      <td>0.000706</td>\n",
       "      <td>0.032769</td>\n",
       "    </tr>\n",
       "    <tr>\n",
       "      <th>Assoc-voc</th>\n",
       "      <td>0.007187</td>\n",
       "      <td>0.000031</td>\n",
       "      <td>0.021160</td>\n",
       "      <td>0.000399</td>\n",
       "      <td>0.011118</td>\n",
       "      <td>0.001290</td>\n",
       "      <td>0.001259</td>\n",
       "      <td>0.042443</td>\n",
       "    </tr>\n",
       "    <tr>\n",
       "      <th>Bachelors</th>\n",
       "      <td>0.016769</td>\n",
       "      <td>0.000123</td>\n",
       "      <td>0.085010</td>\n",
       "      <td>0.002088</td>\n",
       "      <td>0.055127</td>\n",
       "      <td>0.002825</td>\n",
       "      <td>0.002518</td>\n",
       "      <td>0.164461</td>\n",
       "    </tr>\n",
       "    <tr>\n",
       "      <th>Doctorate</th>\n",
       "      <td>0.001013</td>\n",
       "      <td>0.000000</td>\n",
       "      <td>0.008784</td>\n",
       "      <td>0.000215</td>\n",
       "      <td>0.002242</td>\n",
       "      <td>0.000215</td>\n",
       "      <td>0.000215</td>\n",
       "      <td>0.012684</td>\n",
       "    </tr>\n",
       "    <tr>\n",
       "      <th>HS-grad</th>\n",
       "      <td>0.049538</td>\n",
       "      <td>0.000399</td>\n",
       "      <td>0.148798</td>\n",
       "      <td>0.003716</td>\n",
       "      <td>0.094868</td>\n",
       "      <td>0.012469</td>\n",
       "      <td>0.012715</td>\n",
       "      <td>0.322502</td>\n",
       "    </tr>\n",
       "    <tr>\n",
       "      <th>Masters</th>\n",
       "      <td>0.007156</td>\n",
       "      <td>0.000000</td>\n",
       "      <td>0.030804</td>\n",
       "      <td>0.000522</td>\n",
       "      <td>0.012407</td>\n",
       "      <td>0.000768</td>\n",
       "      <td>0.001259</td>\n",
       "      <td>0.052916</td>\n",
       "    </tr>\n",
       "    <tr>\n",
       "      <th>Preschool</th>\n",
       "      <td>0.000031</td>\n",
       "      <td>0.000000</td>\n",
       "      <td>0.000614</td>\n",
       "      <td>0.000123</td>\n",
       "      <td>0.000676</td>\n",
       "      <td>0.000031</td>\n",
       "      <td>0.000092</td>\n",
       "      <td>0.001566</td>\n",
       "    </tr>\n",
       "    <tr>\n",
       "      <th>Prof-school</th>\n",
       "      <td>0.001689</td>\n",
       "      <td>0.000000</td>\n",
       "      <td>0.012653</td>\n",
       "      <td>0.000092</td>\n",
       "      <td>0.002856</td>\n",
       "      <td>0.000246</td>\n",
       "      <td>0.000154</td>\n",
       "      <td>0.017690</td>\n",
       "    </tr>\n",
       "    <tr>\n",
       "      <th>Some-college</th>\n",
       "      <td>0.032831</td>\n",
       "      <td>0.000092</td>\n",
       "      <td>0.086545</td>\n",
       "      <td>0.002334</td>\n",
       "      <td>0.090077</td>\n",
       "      <td>0.006757</td>\n",
       "      <td>0.005282</td>\n",
       "      <td>0.223918</td>\n",
       "    </tr>\n",
       "    <tr>\n",
       "      <th>Suma Columnas</th>\n",
       "      <td>0.136452</td>\n",
       "      <td>0.000706</td>\n",
       "      <td>0.459937</td>\n",
       "      <td>0.012837</td>\n",
       "      <td>0.328092</td>\n",
       "      <td>0.031479</td>\n",
       "      <td>0.030497</td>\n",
       "      <td>1.000000</td>\n",
       "    </tr>\n",
       "  </tbody>\n",
       "</table>\n",
       "</div>"
      ],
      "text/plain": [
       "                Divorced   Married-AF-spouse   Married-civ-spouse  \\\n",
       " 10th           0.003685            0.000000             0.010718   \n",
       " 11th           0.003993            0.000000             0.010872   \n",
       " 12th           0.001198            0.000000             0.003993   \n",
       " 1st-4th        0.000307            0.000000             0.002488   \n",
       " 5th-6th        0.000614            0.000000             0.005282   \n",
       " 7th-8th        0.002242            0.000000             0.011025   \n",
       " 9th            0.001966            0.000000             0.007064   \n",
       " Assoc-acdm     0.006234            0.000061             0.014127   \n",
       " Assoc-voc      0.007187            0.000031             0.021160   \n",
       " Bachelors      0.016769            0.000123             0.085010   \n",
       " Doctorate      0.001013            0.000000             0.008784   \n",
       " HS-grad        0.049538            0.000399             0.148798   \n",
       " Masters        0.007156            0.000000             0.030804   \n",
       " Preschool      0.000031            0.000000             0.000614   \n",
       " Prof-school    0.001689            0.000000             0.012653   \n",
       " Some-college   0.032831            0.000092             0.086545   \n",
       "Suma Columnas   0.136452            0.000706             0.459937   \n",
       "\n",
       "                Married-spouse-absent   Never-married   Separated   Widowed  \\\n",
       " 10th                        0.000461        0.011087    0.001505  0.001198   \n",
       " 11th                        0.000584        0.017997    0.001474  0.001167   \n",
       " 12th                        0.000246        0.007125    0.000430  0.000307   \n",
       " 1st-4th                     0.000369        0.001198    0.000276  0.000522   \n",
       " 5th-6th                     0.000614        0.002733    0.000553  0.000430   \n",
       " 7th-8th                     0.000430        0.003470    0.000706  0.001966   \n",
       " 9th                         0.000276        0.004760    0.001013  0.000706   \n",
       " Assoc-acdm                  0.000369        0.010350    0.000921  0.000706   \n",
       " Assoc-voc                   0.000399        0.011118    0.001290  0.001259   \n",
       " Bachelors                   0.002088        0.055127    0.002825  0.002518   \n",
       " Doctorate                   0.000215        0.002242    0.000215  0.000215   \n",
       " HS-grad                     0.003716        0.094868    0.012469  0.012715   \n",
       " Masters                     0.000522        0.012407    0.000768  0.001259   \n",
       " Preschool                   0.000123        0.000676    0.000031  0.000092   \n",
       " Prof-school                 0.000092        0.002856    0.000246  0.000154   \n",
       " Some-college                0.002334        0.090077    0.006757  0.005282   \n",
       "Suma Columnas                0.012837        0.328092    0.031479  0.030497   \n",
       "\n",
       "               Suma Filas  \n",
       " 10th            0.028654  \n",
       " 11th            0.036086  \n",
       " 12th            0.013298  \n",
       " 1st-4th         0.005160  \n",
       " 5th-6th         0.010227  \n",
       " 7th-8th         0.019840  \n",
       " 9th             0.015786  \n",
       " Assoc-acdm      0.032769  \n",
       " Assoc-voc       0.042443  \n",
       " Bachelors       0.164461  \n",
       " Doctorate       0.012684  \n",
       " HS-grad         0.322502  \n",
       " Masters         0.052916  \n",
       " Preschool       0.001566  \n",
       " Prof-school     0.017690  \n",
       " Some-college    0.223918  \n",
       "Suma Columnas    1.000000  "
      ]
     },
     "metadata": {},
     "output_type": "display_data"
    }
   ],
   "source": [
    "Probabilidades_Marginales_education_marital = contingencia_2/contingencia_2.loc['Suma Columnas']['Suma Filas']\n",
    "display(Probabilidades_Marginales_education_marital) "
   ]
  },
  {
   "cell_type": "markdown",
   "metadata": {
    "id": "3s5dG4Dm-9k_"
   },
   "source": [
    "Generando la matriz de probabilidades condicionales"
   ]
  },
  {
   "cell_type": "code",
   "execution_count": 47,
   "metadata": {
    "id": "YO0_OPr---HC"
   },
   "outputs": [],
   "source": [
    "Categorias_Education = [' 10th', ' 11th', ' 12th', ' 1st-4th', ' 5th-6th', ' 7th-8th', ' 9th', ' Assoc-acdm', ' Assoc-voc', ' Bachelors', ' Doctorate', ' HS-grad', ' Masters',\n",
    "                        ' Preschool', ' Prof-school', ' Some-college']\n",
    "Categorias_Marital = ['Divorced', 'Married-AF-spouse',\t'Married-civ-spouse', 'Married-spouse-absent',\t'Never-married', 'Separated',\t'Widowed', 'Suma de Probabilidades Condicionales']     "
   ]
  },
  {
   "cell_type": "code",
   "execution_count": 48,
   "metadata": {
    "colab": {
     "base_uri": "https://localhost:8080/",
     "height": 551
    },
    "id": "ay50mBy0_G84",
    "outputId": "25a9593f-9af2-43f3-eef2-00ce4b8f775d"
   },
   "outputs": [
    {
     "data": {
      "text/html": [
       "<div>\n",
       "<style scoped>\n",
       "    .dataframe tbody tr th:only-of-type {\n",
       "        vertical-align: middle;\n",
       "    }\n",
       "\n",
       "    .dataframe tbody tr th {\n",
       "        vertical-align: top;\n",
       "    }\n",
       "\n",
       "    .dataframe thead th {\n",
       "        text-align: right;\n",
       "    }\n",
       "</style>\n",
       "<table border=\"1\" class=\"dataframe\">\n",
       "  <thead>\n",
       "    <tr style=\"text-align: right;\">\n",
       "      <th></th>\n",
       "      <th>Divorced</th>\n",
       "      <th>Married-AF-spouse</th>\n",
       "      <th>Married-civ-spouse</th>\n",
       "      <th>Married-spouse-absent</th>\n",
       "      <th>Never-married</th>\n",
       "      <th>Separated</th>\n",
       "      <th>Widowed</th>\n",
       "      <th>Suma de Probabilidades Condicionales</th>\n",
       "    </tr>\n",
       "  </thead>\n",
       "  <tbody>\n",
       "    <tr>\n",
       "      <th>10th</th>\n",
       "      <td>0.128617</td>\n",
       "      <td>0.000000</td>\n",
       "      <td>0.374062</td>\n",
       "      <td>0.016077</td>\n",
       "      <td>0.386924</td>\n",
       "      <td>0.052519</td>\n",
       "      <td>0.041801</td>\n",
       "      <td>1.0</td>\n",
       "    </tr>\n",
       "    <tr>\n",
       "      <th>11th</th>\n",
       "      <td>0.110638</td>\n",
       "      <td>0.000000</td>\n",
       "      <td>0.301277</td>\n",
       "      <td>0.016170</td>\n",
       "      <td>0.498723</td>\n",
       "      <td>0.040851</td>\n",
       "      <td>0.032340</td>\n",
       "      <td>1.0</td>\n",
       "    </tr>\n",
       "    <tr>\n",
       "      <th>12th</th>\n",
       "      <td>0.090069</td>\n",
       "      <td>0.000000</td>\n",
       "      <td>0.300231</td>\n",
       "      <td>0.018476</td>\n",
       "      <td>0.535797</td>\n",
       "      <td>0.032333</td>\n",
       "      <td>0.023095</td>\n",
       "      <td>1.0</td>\n",
       "    </tr>\n",
       "    <tr>\n",
       "      <th>1st-4th</th>\n",
       "      <td>0.059524</td>\n",
       "      <td>0.000000</td>\n",
       "      <td>0.482143</td>\n",
       "      <td>0.071429</td>\n",
       "      <td>0.232143</td>\n",
       "      <td>0.053571</td>\n",
       "      <td>0.101190</td>\n",
       "      <td>1.0</td>\n",
       "    </tr>\n",
       "    <tr>\n",
       "      <th>5th-6th</th>\n",
       "      <td>0.060060</td>\n",
       "      <td>0.000000</td>\n",
       "      <td>0.516517</td>\n",
       "      <td>0.060060</td>\n",
       "      <td>0.267267</td>\n",
       "      <td>0.054054</td>\n",
       "      <td>0.042042</td>\n",
       "      <td>1.0</td>\n",
       "    </tr>\n",
       "    <tr>\n",
       "      <th>7th-8th</th>\n",
       "      <td>0.113003</td>\n",
       "      <td>0.000000</td>\n",
       "      <td>0.555728</td>\n",
       "      <td>0.021672</td>\n",
       "      <td>0.174923</td>\n",
       "      <td>0.035604</td>\n",
       "      <td>0.099071</td>\n",
       "      <td>1.0</td>\n",
       "    </tr>\n",
       "    <tr>\n",
       "      <th>9th</th>\n",
       "      <td>0.124514</td>\n",
       "      <td>0.000000</td>\n",
       "      <td>0.447471</td>\n",
       "      <td>0.017510</td>\n",
       "      <td>0.301556</td>\n",
       "      <td>0.064202</td>\n",
       "      <td>0.044747</td>\n",
       "      <td>1.0</td>\n",
       "    </tr>\n",
       "    <tr>\n",
       "      <th>Assoc-acdm</th>\n",
       "      <td>0.190253</td>\n",
       "      <td>0.001874</td>\n",
       "      <td>0.431115</td>\n",
       "      <td>0.011246</td>\n",
       "      <td>0.315839</td>\n",
       "      <td>0.028116</td>\n",
       "      <td>0.021556</td>\n",
       "      <td>1.0</td>\n",
       "    </tr>\n",
       "    <tr>\n",
       "      <th>Assoc-voc</th>\n",
       "      <td>0.169320</td>\n",
       "      <td>0.000724</td>\n",
       "      <td>0.498553</td>\n",
       "      <td>0.009407</td>\n",
       "      <td>0.261939</td>\n",
       "      <td>0.030391</td>\n",
       "      <td>0.029667</td>\n",
       "      <td>1.0</td>\n",
       "    </tr>\n",
       "    <tr>\n",
       "      <th>Bachelors</th>\n",
       "      <td>0.101961</td>\n",
       "      <td>0.000747</td>\n",
       "      <td>0.516900</td>\n",
       "      <td>0.012698</td>\n",
       "      <td>0.335201</td>\n",
       "      <td>0.017180</td>\n",
       "      <td>0.015313</td>\n",
       "      <td>1.0</td>\n",
       "    </tr>\n",
       "    <tr>\n",
       "      <th>Doctorate</th>\n",
       "      <td>0.079903</td>\n",
       "      <td>0.000000</td>\n",
       "      <td>0.692494</td>\n",
       "      <td>0.016949</td>\n",
       "      <td>0.176755</td>\n",
       "      <td>0.016949</td>\n",
       "      <td>0.016949</td>\n",
       "      <td>1.0</td>\n",
       "    </tr>\n",
       "    <tr>\n",
       "      <th>HS-grad</th>\n",
       "      <td>0.153604</td>\n",
       "      <td>0.001238</td>\n",
       "      <td>0.461385</td>\n",
       "      <td>0.011523</td>\n",
       "      <td>0.294162</td>\n",
       "      <td>0.038663</td>\n",
       "      <td>0.039425</td>\n",
       "      <td>1.0</td>\n",
       "    </tr>\n",
       "    <tr>\n",
       "      <th>Masters</th>\n",
       "      <td>0.135229</td>\n",
       "      <td>0.000000</td>\n",
       "      <td>0.582124</td>\n",
       "      <td>0.009867</td>\n",
       "      <td>0.234475</td>\n",
       "      <td>0.014510</td>\n",
       "      <td>0.023796</td>\n",
       "      <td>1.0</td>\n",
       "    </tr>\n",
       "    <tr>\n",
       "      <th>Preschool</th>\n",
       "      <td>0.019608</td>\n",
       "      <td>0.000000</td>\n",
       "      <td>0.392157</td>\n",
       "      <td>0.078431</td>\n",
       "      <td>0.431373</td>\n",
       "      <td>0.019608</td>\n",
       "      <td>0.058824</td>\n",
       "      <td>1.0</td>\n",
       "    </tr>\n",
       "    <tr>\n",
       "      <th>Prof-school</th>\n",
       "      <td>0.095486</td>\n",
       "      <td>0.000000</td>\n",
       "      <td>0.715278</td>\n",
       "      <td>0.005208</td>\n",
       "      <td>0.161458</td>\n",
       "      <td>0.013889</td>\n",
       "      <td>0.008681</td>\n",
       "      <td>1.0</td>\n",
       "    </tr>\n",
       "    <tr>\n",
       "      <th>Some-college</th>\n",
       "      <td>0.146619</td>\n",
       "      <td>0.000411</td>\n",
       "      <td>0.386504</td>\n",
       "      <td>0.010424</td>\n",
       "      <td>0.402277</td>\n",
       "      <td>0.030174</td>\n",
       "      <td>0.023591</td>\n",
       "      <td>1.0</td>\n",
       "    </tr>\n",
       "  </tbody>\n",
       "</table>\n",
       "</div>"
      ],
      "text/plain": [
       "               Divorced  Married-AF-spouse  Married-civ-spouse  \\\n",
       " 10th          0.128617           0.000000            0.374062   \n",
       " 11th          0.110638           0.000000            0.301277   \n",
       " 12th          0.090069           0.000000            0.300231   \n",
       " 1st-4th       0.059524           0.000000            0.482143   \n",
       " 5th-6th       0.060060           0.000000            0.516517   \n",
       " 7th-8th       0.113003           0.000000            0.555728   \n",
       " 9th           0.124514           0.000000            0.447471   \n",
       " Assoc-acdm    0.190253           0.001874            0.431115   \n",
       " Assoc-voc     0.169320           0.000724            0.498553   \n",
       " Bachelors     0.101961           0.000747            0.516900   \n",
       " Doctorate     0.079903           0.000000            0.692494   \n",
       " HS-grad       0.153604           0.001238            0.461385   \n",
       " Masters       0.135229           0.000000            0.582124   \n",
       " Preschool     0.019608           0.000000            0.392157   \n",
       " Prof-school   0.095486           0.000000            0.715278   \n",
       " Some-college  0.146619           0.000411            0.386504   \n",
       "\n",
       "               Married-spouse-absent  Never-married  Separated   Widowed  \\\n",
       " 10th                       0.016077       0.386924   0.052519  0.041801   \n",
       " 11th                       0.016170       0.498723   0.040851  0.032340   \n",
       " 12th                       0.018476       0.535797   0.032333  0.023095   \n",
       " 1st-4th                    0.071429       0.232143   0.053571  0.101190   \n",
       " 5th-6th                    0.060060       0.267267   0.054054  0.042042   \n",
       " 7th-8th                    0.021672       0.174923   0.035604  0.099071   \n",
       " 9th                        0.017510       0.301556   0.064202  0.044747   \n",
       " Assoc-acdm                 0.011246       0.315839   0.028116  0.021556   \n",
       " Assoc-voc                  0.009407       0.261939   0.030391  0.029667   \n",
       " Bachelors                  0.012698       0.335201   0.017180  0.015313   \n",
       " Doctorate                  0.016949       0.176755   0.016949  0.016949   \n",
       " HS-grad                    0.011523       0.294162   0.038663  0.039425   \n",
       " Masters                    0.009867       0.234475   0.014510  0.023796   \n",
       " Preschool                  0.078431       0.431373   0.019608  0.058824   \n",
       " Prof-school                0.005208       0.161458   0.013889  0.008681   \n",
       " Some-college               0.010424       0.402277   0.030174  0.023591   \n",
       "\n",
       "               Suma de Probabilidades Condicionales  \n",
       " 10th                                           1.0  \n",
       " 11th                                           1.0  \n",
       " 12th                                           1.0  \n",
       " 1st-4th                                        1.0  \n",
       " 5th-6th                                        1.0  \n",
       " 7th-8th                                        1.0  \n",
       " 9th                                            1.0  \n",
       " Assoc-acdm                                     1.0  \n",
       " Assoc-voc                                      1.0  \n",
       " Bachelors                                      1.0  \n",
       " Doctorate                                      1.0  \n",
       " HS-grad                                        1.0  \n",
       " Masters                                        1.0  \n",
       " Preschool                                      1.0  \n",
       " Prof-school                                    1.0  \n",
       " Some-college                                   1.0  "
      ]
     },
     "metadata": {},
     "output_type": "display_data"
    }
   ],
   "source": [
    "Prob_Marginales = Probabilidades_Marginales_education_marital.values\n",
    "Prob_Cond = []\n",
    "Longitud = Prob_Marginales.shape[0] - 1\n",
    "\n",
    "for x in range(Longitud):\n",
    "    pcond = Prob_Marginales[x, :] / Prob_Marginales[x, Prob_Marginales.shape[1] - 1]\n",
    "    Prob_Cond.append(pcond)\n",
    "\n",
    "Prob_Cond_education_martial = pd.DataFrame(\n",
    "    Prob_Cond, \n",
    "    index=Categorias_Education, \n",
    "    columns=Categorias_Marital)\n",
    "\n",
    "display(Prob_Cond_education_martial)"
   ]
  },
  {
   "cell_type": "markdown",
   "metadata": {
    "id": "ITTrPki0_J8p"
   },
   "source": [
    "Analizando los resultados de la matriz de Probabilidades Condicionales"
   ]
  },
  {
   "cell_type": "code",
   "execution_count": 49,
   "metadata": {
    "id": "xheGeEg5_KZ5"
   },
   "outputs": [],
   "source": [
    "Prob_Cond_education_martial = Prob_Cond_education_martial[['Divorced', 'Married-AF-spouse',\t\n",
    "                                                           'Married-civ-spouse', 'Married-spouse-absent',\t\n",
    "                                                           'Never-married', 'Separated',\t'Widowed']]  "
   ]
  },
  {
   "cell_type": "code",
   "execution_count": 50,
   "metadata": {
    "colab": {
     "base_uri": "https://localhost:8080/",
     "height": 586
    },
    "id": "8XPB7Npe_WrE",
    "outputId": "69ef70c4-6290-4f76-92b8-91125cd1cdd5"
   },
   "outputs": [
    {
     "data": {
      "image/png": "[encoded data removed]",
      "text/plain": [
       "<Figure size 720x360 with 1 Axes>"
      ]
     },
     "metadata": {
      "needs_background": "light"
     },
     "output_type": "display_data"
    }
   ],
   "source": [
    "matplotlib.rcParams.update(\n",
    "    {\n",
    "        'font.size': 10, \n",
    "        'font.family': 'STIXGeneral', \n",
    "        'mathtext.fontset': 'stix'\n",
    "    }\n",
    ")\n",
    "\n",
    "plt.figure(figsize=(10, 5))\n",
    "\n",
    "plt.bar(x = ['Divorced', 'Married-AF-spouse',\t'Married-civ-spouse', 'Married-spouse-absent',\t'Never-married', 'Separated',\t'Widowed'], \n",
    "        data = Prob_Cond_education_martial.loc[' Bachelors'], height = 100*Prob_Cond_education_martial.loc[' Bachelors'])\n",
    "\n",
    "categorias = ['Divorced', 'Married-AF-spouse',\t'Married-civ-spouse', 'Married-spouse-absent',\t'Never-married', 'Separated',\t'Widowed']\n",
    "Prob_Cond_education_cad = 100*Prob_Cond_education_martial.loc[' Bachelors']\n",
    "y = np.arange(0,Prob_Cond_education_cad.shape[0])\n",
    "\n",
    "for index, value in enumerate(y):\n",
    "    plt.text(index, round(Prob_Cond_education_cad[index], 1), str(round(Prob_Cond_education_cad[index], 1)))\n",
    "\n",
    "plt.xlabel(\"Marital Status\")\n",
    "plt.ylabel(\"Porcentajes (calculados desde las Probabilidades)\")\n",
    "plt.title(\"Probabilidad de un estado marital dado un nivel educativo Bachelor o profesional (expresado en %)\")\n",
    "plt.show()"
   ]
  },
  {
   "cell_type": "code",
   "execution_count": 51,
   "metadata": {
    "colab": {
     "base_uri": "https://localhost:8080/",
     "height": 586
    },
    "id": "azvXoj01_Z3c",
    "outputId": "4c6cbe3b-fedb-45d5-a3b9-b4e0f46c5683"
   },
   "outputs": [
    {
     "data": {
      "image/png": "[encoded data removed]",
      "text/plain": [
       "<Figure size 720x360 with 1 Axes>"
      ]
     },
     "metadata": {
      "needs_background": "light"
     },
     "output_type": "display_data"
    }
   ],
   "source": [
    "matplotlib.rcParams.update({'font.size': 10, 'font.family': 'STIXGeneral', 'mathtext.fontset': 'stix'})\n",
    "\n",
    "plt.figure(figsize=(10, 5))\n",
    "\n",
    "plt.bar(x = ['Divorced', 'Married-AF-spouse',\t'Married-civ-spouse', 'Married-spouse-absent',\t'Never-married', 'Separated',\t'Widowed'], \n",
    "        data = Prob_Cond_education_martial.loc[' HS-grad'], height = 100*Prob_Cond_education_martial.loc[' HS-grad'])\n",
    "\n",
    "categorias = ['Divorced', 'Married-AF-spouse',\t'Married-civ-spouse', 'Married-spouse-absent',\t'Never-married', 'Separated',\t'Widowed']\n",
    "Prob_Cond_education_cad = 100*Prob_Cond_education_martial.loc[' HS-grad']\n",
    "y = np.arange(0,Prob_Cond_education_cad.shape[0])\n",
    "\n",
    "for index, value in enumerate(y):\n",
    "    plt.text(index, round(Prob_Cond_education_cad[index], 1), str(round(Prob_Cond_education_cad[index], 1)))\n",
    "\n",
    "plt.xlabel(\"Marital Status\")\n",
    "plt.ylabel(\"Porcentajes (calculados desde las Probabilidades)\")\n",
    "plt.title(\"Probabilidad de un estado marital dado un nivel educativo HS-grad (expresado en %)\")\n",
    "plt.show()"
   ]
  },
  {
   "cell_type": "code",
   "execution_count": 52,
   "metadata": {
    "colab": {
     "base_uri": "https://localhost:8080/",
     "height": 586
    },
    "id": "2Bu6hvg__ddT",
    "outputId": "7ac545f3-3d42-4724-b40f-f092d25fea96"
   },
   "outputs": [
    {
     "data": {
      "image/png": "[encoded data removed]",
      "text/plain": [
       "<Figure size 720x360 with 1 Axes>"
      ]
     },
     "metadata": {
      "needs_background": "light"
     },
     "output_type": "display_data"
    }
   ],
   "source": [
    "matplotlib.rcParams.update({'font.size': 10, 'font.family': 'STIXGeneral', 'mathtext.fontset': 'stix'})\n",
    "\n",
    "plt.figure(figsize=(10, 5))\n",
    "\n",
    "plt.bar(x = ['Divorced', 'Married-AF-spouse',\t'Married-civ-spouse', 'Married-spouse-absent',\t'Never-married', 'Separated',\t'Widowed'], \n",
    "        data = Prob_Cond_education_martial.loc[' Doctorate'], height = 100*Prob_Cond_education_martial.loc[' Doctorate'])\n",
    "\n",
    "categorias = ['Divorced', 'Married-AF-spouse',\t'Married-civ-spouse', 'Married-spouse-absent',\t'Never-married', 'Separated',\t'Widowed']\n",
    "Prob_Cond_education_cad = 100*Prob_Cond_education_martial.loc[' Doctorate']\n",
    "y = np.arange(0,Prob_Cond_education_cad.shape[0])\n",
    "\n",
    "for index, value in enumerate(y):\n",
    "    plt.text(index, round(Prob_Cond_education_cad[index], 1), str(round(Prob_Cond_education_cad[index], 1)))\n",
    "\n",
    "plt.xlabel(\"Marital Status\")\n",
    "plt.ylabel(\"Porcentajes (calculados desde las Probabilidades)\")\n",
    "plt.title(\"Probabilidad de un estado marital dado un nivel educativo Doctorate o Doctorado (expresado en %)\")\n",
    "plt.show()"
   ]
  },
  {
   "cell_type": "code",
   "execution_count": 53,
   "metadata": {
    "colab": {
     "base_uri": "https://localhost:8080/",
     "height": 586
    },
    "id": "cSIPrQHf_gaC",
    "outputId": "01456b39-7dc1-4a94-84fb-6299a452505d"
   },
   "outputs": [
    {
     "data": {
      "image/png": "[encoded data removed]",
      "text/plain": [
       "<Figure size 720x360 with 1 Axes>"
      ]
     },
     "metadata": {
      "needs_background": "light"
     },
     "output_type": "display_data"
    }
   ],
   "source": [
    "matplotlib.rcParams.update({'font.size': 10, 'font.family': 'STIXGeneral', 'mathtext.fontset': 'stix'})\n",
    "\n",
    "plt.figure(figsize=(10, 5))\n",
    "\n",
    "plt.bar(x = ['Divorced', 'Married-AF-spouse',\t'Married-civ-spouse', 'Married-spouse-absent',\t'Never-married', 'Separated',\t'Widowed'], \n",
    "        data = Prob_Cond_education_martial.loc[' Some-college'], height = 100*Prob_Cond_education_martial.loc[' Some-college'])\n",
    "\n",
    "categorias = ['Divorced', 'Married-AF-spouse',\t'Married-civ-spouse', 'Married-spouse-absent',\t'Never-married', 'Separated',\t'Widowed']\n",
    "Prob_Cond_education_cad = 100*Prob_Cond_education_martial.loc[' Some-college']\n",
    "y = np.arange(0,Prob_Cond_education_cad.shape[0])\n",
    "\n",
    "for index, value in enumerate(y):\n",
    "    plt.text(index, round(Prob_Cond_education_cad[index], 1), str(round(Prob_Cond_education_cad[index], 1)))\n",
    "\n",
    "plt.xlabel(\"Marital Status\")\n",
    "plt.ylabel(\"Porcentajes (calculados desde las Probabilidades)\")\n",
    "plt.title(\"Probabilidad de un estado marital dado un nivel educativo Some-college (expresado en %)\")\n",
    "plt.show()"
   ]
  },
  {
   "cell_type": "markdown",
   "metadata": {
    "id": "arvfWavT2XWd"
   },
   "source": [
    "## Test Exacto de Fisher"
   ]
  },
  {
   "cell_type": "markdown",
   "metadata": {
    "id": "DTmwczLi2WHF"
   },
   "source": [
    "El test exacto de Fischer calcula la probabilidad de una entrada particular de una **tabla de contingencia**, condicionado por filas de valores marginales y columna de sumas de valores. Considerando que este test considera una tabla de contingencia, dicha tabla es una representación de la partición de una muestra poblacional de dos categorías entre dos diferentes clasificaciones, como se muestra en la tabla ejemplo:\n",
    "\n",
    "|      |Vendido |No Vendido | Total |\n",
    "|------------|------|------|------|\n",
    "|T-shirt|13|11|24|\n",
    "|------------|------------|------------|------------|\n",
    "|Camisas|12|1|13|\n",
    "|------------|------------|------------|------------|\n",
    "|Total|25|12|37|\n",
    "|----------------|------------|------------|------------|\n",
    "\n",
    "La pregunta que se formula a partir de esta tabla es la siguiente: la tabla corresponde o no a una partición aleatoria de la muestra poblacional, condensado por sumas marginales. Note que debido a esta tabla de 2x2, un cambio de algún valor automáticamente afecta todo los valores restantes de las sumas. Para analizar este tipo de casos, el test exacto de Fisher permite resolver esta inquietud, mediante una **distribución hipérgeométrica**:\n",
    "\n",
    "$$\\mathbb{P}(X = k) = \\frac{\\binom{K}{k}\\binom{N-K}{n-k}}{\\binom{N}{n}}$$\n",
    "\n",
    "donde:\n",
    "\n",
    "*   $\\mathbb{P}(X = k) = \\mathbb{P}(X_{i,j} \\vert r_1,r_2,c_1,c_2)$ es la probabilidad de un valor particular de la tabla de contingencia, siendo $i,j$ una ubicación de una celda de la tabla, $r_1$ es la suma de la primera fila, $r2$ es la suma de la segunda fila, $c_!$ es la suma de la primera columna y $c_2$ es la suma de la segunda columna.\n",
    "*   $N$ es el tamaño de la población.\n",
    "*   $K$ es el número total de posibles valores favorables.\n",
    "*   $n$ es el número de valores favorables.\n",
    "*   $k$ es el número de valores favorables observados.\n",
    "\n",
    "Por convención, $K = r_1$, $k = x$, $n = c_1$ y $N = c_1 + c_2$. "
   ]
  },
  {
   "cell_type": "markdown",
   "metadata": {
    "id": "cOsFDcUW28v0"
   },
   "source": [
    "Seleccionando dos columnas de la base de datos que contengan solo dos categorías"
   ]
  },
  {
   "cell_type": "code",
   "execution_count": 54,
   "metadata": {
    "colab": {
     "base_uri": "https://localhost:8080/",
     "height": 54
    },
    "id": "5udCu57b2_bT",
    "outputId": "6326713b-6990-4c02-8d4c-8e04d5894b04"
   },
   "outputs": [
    {
     "data": {
      "text/plain": [
       "[' Male', ' Female']\n",
       "Categories (2, object): [' Female', ' Male']"
      ]
     },
     "metadata": {},
     "output_type": "display_data"
    }
   ],
   "source": [
    "Categorias_gender = pd.Categorical(data['gender']).unique()\n",
    "display(Categorias_gender)"
   ]
  },
  {
   "cell_type": "code",
   "execution_count": 55,
   "metadata": {
    "colab": {
     "base_uri": "https://localhost:8080/",
     "height": 54
    },
    "id": "rUgF2aag2_7m",
    "outputId": "629ec0cf-11d2-4d3f-e1c1-8e59105b93cb"
   },
   "outputs": [
    {
     "data": {
      "text/plain": [
       "[' <=50K', ' >50K']\n",
       "Categories (2, object): [' <=50K', ' >50K']"
      ]
     },
     "metadata": {},
     "output_type": "display_data"
    }
   ],
   "source": [
    "Categorias_income = pd.Categorical(data['income']).unique()\n",
    "display(Categorias_income)"
   ]
  },
  {
   "cell_type": "code",
   "execution_count": 56,
   "metadata": {
    "colab": {
     "base_uri": "https://localhost:8080/",
     "height": 423
    },
    "id": "eNPj3Lj33Dk3",
    "outputId": "602b57c6-ae99-45f2-b096-ad3a52e93777"
   },
   "outputs": [
    {
     "data": {
      "text/html": [
       "<div>\n",
       "<style scoped>\n",
       "    .dataframe tbody tr th:only-of-type {\n",
       "        vertical-align: middle;\n",
       "    }\n",
       "\n",
       "    .dataframe tbody tr th {\n",
       "        vertical-align: top;\n",
       "    }\n",
       "\n",
       "    .dataframe thead th {\n",
       "        text-align: right;\n",
       "    }\n",
       "</style>\n",
       "<table border=\"1\" class=\"dataframe\">\n",
       "  <thead>\n",
       "    <tr style=\"text-align: right;\">\n",
       "      <th></th>\n",
       "      <th>gender</th>\n",
       "      <th>income</th>\n",
       "    </tr>\n",
       "  </thead>\n",
       "  <tbody>\n",
       "    <tr>\n",
       "      <th>0</th>\n",
       "      <td>Male</td>\n",
       "      <td>&lt;=50K</td>\n",
       "    </tr>\n",
       "    <tr>\n",
       "      <th>1</th>\n",
       "      <td>Male</td>\n",
       "      <td>&lt;=50K</td>\n",
       "    </tr>\n",
       "    <tr>\n",
       "      <th>2</th>\n",
       "      <td>Male</td>\n",
       "      <td>&lt;=50K</td>\n",
       "    </tr>\n",
       "    <tr>\n",
       "      <th>3</th>\n",
       "      <td>Male</td>\n",
       "      <td>&lt;=50K</td>\n",
       "    </tr>\n",
       "    <tr>\n",
       "      <th>4</th>\n",
       "      <td>Female</td>\n",
       "      <td>&lt;=50K</td>\n",
       "    </tr>\n",
       "    <tr>\n",
       "      <th>...</th>\n",
       "      <td>...</td>\n",
       "      <td>...</td>\n",
       "    </tr>\n",
       "    <tr>\n",
       "      <th>32556</th>\n",
       "      <td>Female</td>\n",
       "      <td>&lt;=50K</td>\n",
       "    </tr>\n",
       "    <tr>\n",
       "      <th>32557</th>\n",
       "      <td>Male</td>\n",
       "      <td>&gt;50K</td>\n",
       "    </tr>\n",
       "    <tr>\n",
       "      <th>32558</th>\n",
       "      <td>Female</td>\n",
       "      <td>&lt;=50K</td>\n",
       "    </tr>\n",
       "    <tr>\n",
       "      <th>32559</th>\n",
       "      <td>Male</td>\n",
       "      <td>&lt;=50K</td>\n",
       "    </tr>\n",
       "    <tr>\n",
       "      <th>32560</th>\n",
       "      <td>Female</td>\n",
       "      <td>&gt;50K</td>\n",
       "    </tr>\n",
       "  </tbody>\n",
       "</table>\n",
       "<p>32561 rows × 2 columns</p>\n",
       "</div>"
      ],
      "text/plain": [
       "        gender  income\n",
       "0         Male   <=50K\n",
       "1         Male   <=50K\n",
       "2         Male   <=50K\n",
       "3         Male   <=50K\n",
       "4       Female   <=50K\n",
       "...        ...     ...\n",
       "32556   Female   <=50K\n",
       "32557     Male    >50K\n",
       "32558   Female   <=50K\n",
       "32559     Male   <=50K\n",
       "32560   Female    >50K\n",
       "\n",
       "[32561 rows x 2 columns]"
      ]
     },
     "metadata": {},
     "output_type": "display_data"
    }
   ],
   "source": [
    "datos_select = data[['gender','income']]\n",
    "display(datos_select)"
   ]
  },
  {
   "cell_type": "markdown",
   "metadata": {
    "id": "StEr2-c93FxN"
   },
   "source": [
    "A partir de los datos seleccionados, vamos a generar una tabla de contingencia de 2 x 2:"
   ]
  },
  {
   "cell_type": "code",
   "execution_count": 57,
   "metadata": {
    "colab": {
     "base_uri": "https://localhost:8080/",
     "height": 143
    },
    "id": "tKnI7_mF3s50",
    "outputId": "276a14c0-de59-4279-ece2-6e2e8414fdef"
   },
   "outputs": [
    {
     "data": {
      "text/html": [
       "<div>\n",
       "<style scoped>\n",
       "    .dataframe tbody tr th:only-of-type {\n",
       "        vertical-align: middle;\n",
       "    }\n",
       "\n",
       "    .dataframe tbody tr th {\n",
       "        vertical-align: top;\n",
       "    }\n",
       "\n",
       "    .dataframe thead th {\n",
       "        text-align: right;\n",
       "    }\n",
       "</style>\n",
       "<table border=\"1\" class=\"dataframe\">\n",
       "  <thead>\n",
       "    <tr style=\"text-align: right;\">\n",
       "      <th>income</th>\n",
       "      <th>&lt;=50K</th>\n",
       "      <th>&gt;50K</th>\n",
       "    </tr>\n",
       "    <tr>\n",
       "      <th>gender</th>\n",
       "      <th></th>\n",
       "      <th></th>\n",
       "    </tr>\n",
       "  </thead>\n",
       "  <tbody>\n",
       "    <tr>\n",
       "      <th>Female</th>\n",
       "      <td>9592</td>\n",
       "      <td>1179</td>\n",
       "    </tr>\n",
       "    <tr>\n",
       "      <th>Male</th>\n",
       "      <td>15128</td>\n",
       "      <td>6662</td>\n",
       "    </tr>\n",
       "  </tbody>\n",
       "</table>\n",
       "</div>"
      ],
      "text/plain": [
       "income    <=50K   >50K\n",
       "gender                \n",
       " Female    9592   1179\n",
       " Male     15128   6662"
      ]
     },
     "metadata": {},
     "output_type": "display_data"
    }
   ],
   "source": [
    "contingencia_gender_income = pd.crosstab(datos_select['gender'], datos_select['income'])\n",
    "display(contingencia_gender_income)"
   ]
  },
  {
   "cell_type": "markdown",
   "metadata": {
    "id": "tbRwBsES3wRi"
   },
   "source": [
    "Ahora vamos a sumar las filas y las columnas de la tabla de contingencia:"
   ]
  },
  {
   "cell_type": "code",
   "execution_count": 58,
   "metadata": {
    "colab": {
     "base_uri": "https://localhost:8080/",
     "height": 143
    },
    "id": "fyyZ8rEn33K-",
    "outputId": "f65347fa-e792-488c-a717-c3ad998a4171"
   },
   "outputs": [
    {
     "data": {
      "text/html": [
       "<div>\n",
       "<style scoped>\n",
       "    .dataframe tbody tr th:only-of-type {\n",
       "        vertical-align: middle;\n",
       "    }\n",
       "\n",
       "    .dataframe tbody tr th {\n",
       "        vertical-align: top;\n",
       "    }\n",
       "\n",
       "    .dataframe thead th {\n",
       "        text-align: right;\n",
       "    }\n",
       "</style>\n",
       "<table border=\"1\" class=\"dataframe\">\n",
       "  <thead>\n",
       "    <tr style=\"text-align: right;\">\n",
       "      <th></th>\n",
       "      <th>&lt;=50K</th>\n",
       "      <th>&gt;50K</th>\n",
       "      <th>Suma Filas</th>\n",
       "    </tr>\n",
       "  </thead>\n",
       "  <tbody>\n",
       "    <tr>\n",
       "      <th>Female</th>\n",
       "      <td>9592</td>\n",
       "      <td>1179</td>\n",
       "      <td>10771.0</td>\n",
       "    </tr>\n",
       "    <tr>\n",
       "      <th>Male</th>\n",
       "      <td>15128</td>\n",
       "      <td>6662</td>\n",
       "      <td>21790.0</td>\n",
       "    </tr>\n",
       "    <tr>\n",
       "      <th>Suma Columnas</th>\n",
       "      <td>24720</td>\n",
       "      <td>7841</td>\n",
       "      <td>NaN</td>\n",
       "    </tr>\n",
       "  </tbody>\n",
       "</table>\n",
       "</div>"
      ],
      "text/plain": [
       "                <=50K   >50K  Suma Filas\n",
       " Female          9592   1179     10771.0\n",
       " Male           15128   6662     21790.0\n",
       "Suma Columnas   24720   7841         NaN"
      ]
     },
     "metadata": {},
     "output_type": "display_data"
    }
   ],
   "source": [
    "Suma_Filas = contingencia_gender_income.sum(axis = 1)\n",
    "Suma_Filas = pd.DataFrame(Suma_Filas, columns = ['Suma Filas'])\n",
    "Suma_Columnas = contingencia_gender_income.sum(axis = 0)\n",
    "Suma_Columna = pd.DataFrame(Suma_Columnas, columns = ['Suma Columnas'])\n",
    "contingencia_1 = pd.concat([contingencia_gender_income, Suma_Filas], axis = 1)\n",
    "contingencia_2 = pd.concat([contingencia_1, Suma_Columna.T], axis = 0)\n",
    "display(contingencia_2)"
   ]
  },
  {
   "cell_type": "code",
   "execution_count": 59,
   "metadata": {
    "colab": {
     "base_uri": "https://localhost:8080/",
     "height": 143
    },
    "id": "hBgjKyMj35-u",
    "outputId": "479c9ec5-73f4-4434-df70-7ddb2d7cea18"
   },
   "outputs": [
    {
     "data": {
      "text/html": [
       "<div>\n",
       "<style scoped>\n",
       "    .dataframe tbody tr th:only-of-type {\n",
       "        vertical-align: middle;\n",
       "    }\n",
       "\n",
       "    .dataframe tbody tr th {\n",
       "        vertical-align: top;\n",
       "    }\n",
       "\n",
       "    .dataframe thead th {\n",
       "        text-align: right;\n",
       "    }\n",
       "</style>\n",
       "<table border=\"1\" class=\"dataframe\">\n",
       "  <thead>\n",
       "    <tr style=\"text-align: right;\">\n",
       "      <th></th>\n",
       "      <th>&lt;=50K</th>\n",
       "      <th>&gt;50K</th>\n",
       "      <th>Suma Filas</th>\n",
       "    </tr>\n",
       "  </thead>\n",
       "  <tbody>\n",
       "    <tr>\n",
       "      <th>Female</th>\n",
       "      <td>9592</td>\n",
       "      <td>1179</td>\n",
       "      <td>10771.0</td>\n",
       "    </tr>\n",
       "    <tr>\n",
       "      <th>Male</th>\n",
       "      <td>15128</td>\n",
       "      <td>6662</td>\n",
       "      <td>21790.0</td>\n",
       "    </tr>\n",
       "    <tr>\n",
       "      <th>Suma Columnas</th>\n",
       "      <td>24720</td>\n",
       "      <td>7841</td>\n",
       "      <td>32561.0</td>\n",
       "    </tr>\n",
       "  </tbody>\n",
       "</table>\n",
       "</div>"
      ],
      "text/plain": [
       "                <=50K   >50K  Suma Filas\n",
       " Female          9592   1179     10771.0\n",
       " Male           15128   6662     21790.0\n",
       "Suma Columnas   24720   7841     32561.0"
      ]
     },
     "metadata": {},
     "output_type": "display_data"
    }
   ],
   "source": [
    "contingencia_2 = contingencia_2.fillna(Suma_Filas.sum())\n",
    "display(contingencia_2)"
   ]
  },
  {
   "cell_type": "markdown",
   "metadata": {
    "id": "DMyT3-5V38is"
   },
   "source": [
    "Considerando esta tabla, se observa que 24720 hombres y mujeres de la población total de 32561 encuestados tienen ingresos anuales por debajo de 50K, y 7841 hombres y mujeres de la población total de encuestados tienen ingresos anuales por encima de 50K. Asumiendo la hipótesis nula de que los encuestados tienen la misma probabilidad de tener ingresos inferiores o superiores a 50K, \n",
    "¿Los encuestados se distribuirían tan desigualmente entre ingresos inferiores o superiores a 50K?"
   ]
  },
  {
   "cell_type": "markdown",
   "metadata": {
    "id": "-VNI-YhE3-7y"
   },
   "source": [
    "*   $H_0$ : Las variables son independientes por lo que una variable no varía entre los distintos niveles de la otra variable.\n",
    "*   $H_A$: Las variables son dependientes, una variable varía entre los distintos niveles de la otra variable."
   ]
  },
  {
   "cell_type": "markdown",
   "metadata": {
    "id": "snH6pF0f4BdV"
   },
   "source": [
    "A partir de la tabla de contingencia, vamos a aplicar el test exacto de Fisher para responder a esa pregunta:"
   ]
  },
  {
   "cell_type": "code",
   "execution_count": 60,
   "metadata": {
    "colab": {
     "base_uri": "https://localhost:8080/",
     "height": 143
    },
    "id": "9R5mylG84EME",
    "outputId": "88a487f6-bbe5-42ae-c1e9-8efd2bdfb92d"
   },
   "outputs": [
    {
     "data": {
      "text/html": [
       "<div>\n",
       "<style scoped>\n",
       "    .dataframe tbody tr th:only-of-type {\n",
       "        vertical-align: middle;\n",
       "    }\n",
       "\n",
       "    .dataframe tbody tr th {\n",
       "        vertical-align: top;\n",
       "    }\n",
       "\n",
       "    .dataframe thead th {\n",
       "        text-align: right;\n",
       "    }\n",
       "</style>\n",
       "<table border=\"1\" class=\"dataframe\">\n",
       "  <thead>\n",
       "    <tr style=\"text-align: right;\">\n",
       "      <th></th>\n",
       "      <th>Tasa Fisher</th>\n",
       "      <th>Valor-p</th>\n",
       "    </tr>\n",
       "  </thead>\n",
       "  <tbody>\n",
       "    <tr>\n",
       "      <th>two-sided</th>\n",
       "      <td>3.582766</td>\n",
       "      <td>0.0</td>\n",
       "    </tr>\n",
       "  </tbody>\n",
       "</table>\n",
       "</div>"
      ],
      "text/plain": [
       "           Tasa Fisher  Valor-p\n",
       "two-sided     3.582766      0.0"
      ]
     },
     "metadata": {},
     "output_type": "display_data"
    }
   ],
   "source": [
    "tasa_pares_1, p_valor_1 = fisher_exact(\n",
    "    contingencia_gender_income, \n",
    "    alternative = 'two-sided')\n",
    "\n",
    "resultado_Fisher = pd.DataFrame(\n",
    "    np.array([tasa_pares_1, p_valor_1]).reshape(1, 2), \n",
    "    index=['two-sided'], \n",
    "    columns=['Tasa Fisher', 'Valor-p']\n",
    ")\n",
    "\n",
    "display(resultado_Fisher)"
   ]
  },
  {
   "cell_type": "markdown",
   "metadata": {
    "id": "Jz9IBQG94Hy4"
   },
   "source": [
    "Centrando nuestro interés en el valor p usando la opción **two-sided**, el test estimó un valor p de 0.0. Este resultado indica que la tabla de contingencia es estadísticamente significativo y hay evidencias para rechazar la $H_0$, lo cual los generos de los encuestados son dependientes de los ingresos que reciben anualmente. Por consiguiente, los encuestados si se distribuirían tan desigualmente entre ingresos inferiores o superiores a 50K "
   ]
  },
  {
   "cell_type": "markdown",
   "metadata": {
    "id": "Y-4B3kD84Mv0"
   },
   "source": [
    "## Test Chi-Cuadrada"
   ]
  },
  {
   "cell_type": "markdown",
   "metadata": {
    "id": "02Xn5jQQ4PrB"
   },
   "source": [
    "El test Chi-Cuadrada evalua las relaciones entre dos o más variables categóricas, implicando un cálculo de la distribución chi-cuadrada de las probabilidades que se desean encontrar a partir de la tabla de contingencia. En la literatura, hay varios tipos de test chi-cuadrada:\n",
    "\n",
    "1.   **Test chi-cuadrada para la independencia entre variables.**\n",
    "2.   Test chi-cuadrada para la igualdad de proporciones.\n",
    "3.   Test chi-cuadrada para la bondad del ajuste.\n"
   ]
  },
  {
   "cell_type": "markdown",
   "metadata": {
    "id": "a-lpM5HZ4XON"
   },
   "source": [
    "### Test chi-cuadrada para la independencia entre variables"
   ]
  },
  {
   "cell_type": "markdown",
   "metadata": {
    "id": "3Yq2o8z74Z6g"
   },
   "source": [
    "Este tipo de test es aplicable para un análisis bivariable nominales y determina si es rechazable la hipótesis que dos variables son independientes o no. Bajo una hipótesis nula se determinan los casos en el supuesto de variables son independientes. Los valores esperados se determinan con probabilidades marginales de las categorías. A partir de estas probabilidades, el test $\\mathcal{X}^2$ mide la diferencia entre los valores esperados y los valores observados, de acuerdo al grado de libertad de la distribución chi-cuadrada:\n",
    "\n",
    "$$\\mathcal{X}^2 = \\sum_{i=1}^{p_1} \\sum_{j=1}^{p_2} \\frac{(E_{i,j} - O_{i,j})^2}{E_{i,j}}$$\n",
    "\n",
    "siendo $E_{i,j}$ y $O_{i,j}$ el valor esperado y el valor observado entre una fila $i$ con respecto a una columna $j$. Esta expresión esta bajo el supuesto de la hipótesis nula que sigue una distribución chi-cuadrada. Si no se cumple la hipótesis nula, entonces las variables son dependientes entre sí.\n",
    "\n",
    "Para calcular $E_{i,j}$, se realiza la siguiente operación matemática:\n",
    "\n",
    "$$E_{i,j} = \\frac{Total_{filas}xTotal_{Columnas}}{Total_{filas\\,\\, y\\,\\, columnas}}$$\n",
    "\n",
    "Consideremos la tabla de contingencia usada en el test exacto de Fisher (valores observados):\n",
    "\n",
    "|      |Vendido |No Vendido | Total |\n",
    "|------------|------|------|------|\n",
    "|T-shirt|13|11|24|\n",
    "|------------|------------|------------|------------|\n",
    "|Camisas|12|1|13|\n",
    "|------------|------------|------------|------------|\n",
    "|Total|25|12|37|\n",
    "|----------------|------------|------------|------------|\n",
    "\n",
    "$$E_{1,1} = \\frac{24x25}{37} = 22.2$$\n",
    "$$E_{1,2} = \\frac{24x12}{37} = 7.78$$\n",
    "$$E_{2,1} = \\frac{13x25}{37} = 8.78$$\n",
    "$$E_{2,2} = \\frac{13x12}{37} = 4.21$$\n",
    "\n",
    "Entonces la tabla de valores esperados es la siguiente:\n",
    "\n",
    "|      |Vendido |No Vendido | Total |\n",
    "|------------|------|------|------|\n",
    "|T-shirt|22.2|7.78|29.98|\n",
    "|------------|------------|------------|------------|\n",
    "|Camisas|8.78|4.21|12.99|\n",
    "|------------|------------|------------|------------|\n",
    "|Total|30.98|11.99|42.97|\n",
    "|----------------|------------|------------|------------|\n",
    "\n",
    "Teniendo en cuenta esa forma de operación, veamos como se aplica en Python"
   ]
  },
  {
   "cell_type": "code",
   "execution_count": 61,
   "metadata": {
    "colab": {
     "base_uri": "https://localhost:8080/",
     "height": 143
    },
    "id": "ckBUpE9W4dN3",
    "outputId": "fe611fd7-5403-46bf-dda5-df090fabde06"
   },
   "outputs": [
    {
     "data": {
      "text/html": [
       "<div>\n",
       "<style scoped>\n",
       "    .dataframe tbody tr th:only-of-type {\n",
       "        vertical-align: middle;\n",
       "    }\n",
       "\n",
       "    .dataframe tbody tr th {\n",
       "        vertical-align: top;\n",
       "    }\n",
       "\n",
       "    .dataframe thead th {\n",
       "        text-align: right;\n",
       "    }\n",
       "</style>\n",
       "<table border=\"1\" class=\"dataframe\">\n",
       "  <thead>\n",
       "    <tr style=\"text-align: right;\">\n",
       "      <th></th>\n",
       "      <th>&lt;=50K</th>\n",
       "      <th>&gt;50K</th>\n",
       "      <th>Suma Filas</th>\n",
       "    </tr>\n",
       "  </thead>\n",
       "  <tbody>\n",
       "    <tr>\n",
       "      <th>Female</th>\n",
       "      <td>9592</td>\n",
       "      <td>1179</td>\n",
       "      <td>10771.0</td>\n",
       "    </tr>\n",
       "    <tr>\n",
       "      <th>Male</th>\n",
       "      <td>15128</td>\n",
       "      <td>6662</td>\n",
       "      <td>21790.0</td>\n",
       "    </tr>\n",
       "    <tr>\n",
       "      <th>Suma Columnas</th>\n",
       "      <td>24720</td>\n",
       "      <td>7841</td>\n",
       "      <td>32561.0</td>\n",
       "    </tr>\n",
       "  </tbody>\n",
       "</table>\n",
       "</div>"
      ],
      "text/plain": [
       "                <=50K   >50K  Suma Filas\n",
       " Female          9592   1179     10771.0\n",
       " Male           15128   6662     21790.0\n",
       "Suma Columnas   24720   7841     32561.0"
      ]
     },
     "metadata": {},
     "output_type": "display_data"
    }
   ],
   "source": [
    "display(contingencia_2)"
   ]
  },
  {
   "cell_type": "code",
   "execution_count": 62,
   "metadata": {
    "colab": {
     "base_uri": "https://localhost:8080/",
     "height": 112
    },
    "id": "65lhUZTf4h95",
    "outputId": "ec73e4cf-62dc-40d6-b983-9a8be7e2fdb5"
   },
   "outputs": [
    {
     "data": {
      "text/html": [
       "<div>\n",
       "<style scoped>\n",
       "    .dataframe tbody tr th:only-of-type {\n",
       "        vertical-align: middle;\n",
       "    }\n",
       "\n",
       "    .dataframe tbody tr th {\n",
       "        vertical-align: top;\n",
       "    }\n",
       "\n",
       "    .dataframe thead th {\n",
       "        text-align: right;\n",
       "    }\n",
       "</style>\n",
       "<table border=\"1\" class=\"dataframe\">\n",
       "  <thead>\n",
       "    <tr style=\"text-align: right;\">\n",
       "      <th></th>\n",
       "      <th>&lt;=50K</th>\n",
       "      <th>&gt;50K</th>\n",
       "    </tr>\n",
       "  </thead>\n",
       "  <tbody>\n",
       "    <tr>\n",
       "      <th>Female</th>\n",
       "      <td>8177.240257</td>\n",
       "      <td>2593.759743</td>\n",
       "    </tr>\n",
       "    <tr>\n",
       "      <th>Male</th>\n",
       "      <td>16542.759743</td>\n",
       "      <td>5247.240257</td>\n",
       "    </tr>\n",
       "  </tbody>\n",
       "</table>\n",
       "</div>"
      ],
      "text/plain": [
       "               <=50K         >50K\n",
       "Female   8177.240257  2593.759743\n",
       "Male    16542.759743  5247.240257"
      ]
     },
     "metadata": {},
     "output_type": "display_data"
    }
   ],
   "source": [
    "tabla_valores_esperados = []\n",
    "valores_contingencia = np.asarray(contingencia_2.values)\n",
    "\n",
    "for _,m in enumerate(np.arange(0, contingencia_2['Suma Filas'].shape[0] - 1)):\n",
    "  for _,n in enumerate(np.arange(0, contingencia_2['Suma Filas'].shape[0] - 1)):\n",
    "    E = valores_contingencia[m, contingencia_2.shape[0] - 1] * valores_contingencia[contingencia_2.shape[0] - 1, n] / contingencia_2.loc['Suma Columnas','Suma Filas']\n",
    "    tabla_valores_esperados.append(E)\n",
    "\n",
    "tabla_valores_esperados = np.asarray(tabla_valores_esperados)\n",
    "tabla_valores_esperados = pd.DataFrame(tabla_valores_esperados.reshape(contingencia_2.shape[0] - 1,contingencia_2.shape[0] - 1), index = ['Female', 'Male'], columns = ['<=50K', '>50K'])\n",
    "display(tabla_valores_esperados)"
   ]
  },
  {
   "cell_type": "code",
   "execution_count": 63,
   "metadata": {
    "colab": {
     "base_uri": "https://localhost:8080/",
     "height": 143
    },
    "id": "k48oVg1M4kba",
    "outputId": "cb401b2e-d4df-42e5-b1b2-aa4bbfe8ebff"
   },
   "outputs": [
    {
     "data": {
      "text/html": [
       "<div>\n",
       "<style scoped>\n",
       "    .dataframe tbody tr th:only-of-type {\n",
       "        vertical-align: middle;\n",
       "    }\n",
       "\n",
       "    .dataframe tbody tr th {\n",
       "        vertical-align: top;\n",
       "    }\n",
       "\n",
       "    .dataframe thead th {\n",
       "        text-align: right;\n",
       "    }\n",
       "</style>\n",
       "<table border=\"1\" class=\"dataframe\">\n",
       "  <thead>\n",
       "    <tr style=\"text-align: right;\">\n",
       "      <th></th>\n",
       "      <th>&lt;=50K</th>\n",
       "      <th>&gt;50K</th>\n",
       "      <th>Suma Filas</th>\n",
       "    </tr>\n",
       "  </thead>\n",
       "  <tbody>\n",
       "    <tr>\n",
       "      <th>Female</th>\n",
       "      <td>8177.240257</td>\n",
       "      <td>2593.759743</td>\n",
       "      <td>10771.0</td>\n",
       "    </tr>\n",
       "    <tr>\n",
       "      <th>Male</th>\n",
       "      <td>16542.759743</td>\n",
       "      <td>5247.240257</td>\n",
       "      <td>21790.0</td>\n",
       "    </tr>\n",
       "    <tr>\n",
       "      <th>Suma Columnas</th>\n",
       "      <td>24720.000000</td>\n",
       "      <td>7841.000000</td>\n",
       "      <td>NaN</td>\n",
       "    </tr>\n",
       "  </tbody>\n",
       "</table>\n",
       "</div>"
      ],
      "text/plain": [
       "                      <=50K         >50K  Suma Filas\n",
       "Female          8177.240257  2593.759743     10771.0\n",
       "Male           16542.759743  5247.240257     21790.0\n",
       "Suma Columnas  24720.000000  7841.000000         NaN"
      ]
     },
     "metadata": {},
     "output_type": "display_data"
    }
   ],
   "source": [
    "Suma_Filas = tabla_valores_esperados.sum(axis = 1)\n",
    "Suma_Filas = pd.DataFrame(Suma_Filas, columns = ['Suma Filas'])\n",
    "Suma_Columnas = tabla_valores_esperados.sum(axis = 0)\n",
    "Suma_Columna = pd.DataFrame(Suma_Columnas, columns = ['Suma Columnas'])\n",
    "contingencia_1_esperado = pd.concat([tabla_valores_esperados, Suma_Filas], axis = 1)\n",
    "contingencia_2_esperado = pd.concat([contingencia_1_esperado, Suma_Columna.T], axis = 0)\n",
    "display(contingencia_2_esperado)"
   ]
  },
  {
   "cell_type": "code",
   "execution_count": 64,
   "metadata": {
    "colab": {
     "base_uri": "https://localhost:8080/",
     "height": 143
    },
    "id": "vaeiOxI04nPs",
    "outputId": "b4464069-1a3e-4780-9462-b999c17906e4"
   },
   "outputs": [
    {
     "data": {
      "text/html": [
       "<div>\n",
       "<style scoped>\n",
       "    .dataframe tbody tr th:only-of-type {\n",
       "        vertical-align: middle;\n",
       "    }\n",
       "\n",
       "    .dataframe tbody tr th {\n",
       "        vertical-align: top;\n",
       "    }\n",
       "\n",
       "    .dataframe thead th {\n",
       "        text-align: right;\n",
       "    }\n",
       "</style>\n",
       "<table border=\"1\" class=\"dataframe\">\n",
       "  <thead>\n",
       "    <tr style=\"text-align: right;\">\n",
       "      <th></th>\n",
       "      <th>&lt;=50K</th>\n",
       "      <th>&gt;50K</th>\n",
       "      <th>Suma Filas</th>\n",
       "    </tr>\n",
       "  </thead>\n",
       "  <tbody>\n",
       "    <tr>\n",
       "      <th>Female</th>\n",
       "      <td>8177.240257</td>\n",
       "      <td>2593.759743</td>\n",
       "      <td>10771.0</td>\n",
       "    </tr>\n",
       "    <tr>\n",
       "      <th>Male</th>\n",
       "      <td>16542.759743</td>\n",
       "      <td>5247.240257</td>\n",
       "      <td>21790.0</td>\n",
       "    </tr>\n",
       "    <tr>\n",
       "      <th>Suma Columnas</th>\n",
       "      <td>24720.000000</td>\n",
       "      <td>7841.000000</td>\n",
       "      <td>32561.0</td>\n",
       "    </tr>\n",
       "  </tbody>\n",
       "</table>\n",
       "</div>"
      ],
      "text/plain": [
       "                      <=50K         >50K  Suma Filas\n",
       "Female          8177.240257  2593.759743     10771.0\n",
       "Male           16542.759743  5247.240257     21790.0\n",
       "Suma Columnas  24720.000000  7841.000000     32561.0"
      ]
     },
     "metadata": {},
     "output_type": "display_data"
    }
   ],
   "source": [
    "contingencia_2_esperado = contingencia_2_esperado.fillna(Suma_Filas.sum())\n",
    "display(contingencia_2_esperado)"
   ]
  },
  {
   "cell_type": "code",
   "execution_count": 65,
   "metadata": {
    "colab": {
     "base_uri": "https://localhost:8080/",
     "height": 143
    },
    "id": "zS5TnXleQGja",
    "outputId": "4e711fb2-68e4-4b9c-9e9d-9787df5f449f"
   },
   "outputs": [
    {
     "data": {
      "text/html": [
       "<div>\n",
       "<style scoped>\n",
       "    .dataframe tbody tr th:only-of-type {\n",
       "        vertical-align: middle;\n",
       "    }\n",
       "\n",
       "    .dataframe tbody tr th {\n",
       "        vertical-align: top;\n",
       "    }\n",
       "\n",
       "    .dataframe thead th {\n",
       "        text-align: right;\n",
       "    }\n",
       "</style>\n",
       "<table border=\"1\" class=\"dataframe\">\n",
       "  <thead>\n",
       "    <tr style=\"text-align: right;\">\n",
       "      <th>income</th>\n",
       "      <th>&lt;=50K</th>\n",
       "      <th>&gt;50K</th>\n",
       "    </tr>\n",
       "    <tr>\n",
       "      <th>gender</th>\n",
       "      <th></th>\n",
       "      <th></th>\n",
       "    </tr>\n",
       "  </thead>\n",
       "  <tbody>\n",
       "    <tr>\n",
       "      <th>Female</th>\n",
       "      <td>9592</td>\n",
       "      <td>1179</td>\n",
       "    </tr>\n",
       "    <tr>\n",
       "      <th>Male</th>\n",
       "      <td>15128</td>\n",
       "      <td>6662</td>\n",
       "    </tr>\n",
       "  </tbody>\n",
       "</table>\n",
       "</div>"
      ],
      "text/plain": [
       "income    <=50K   >50K\n",
       "gender                \n",
       " Female    9592   1179\n",
       " Male     15128   6662"
      ]
     },
     "execution_count": 65,
     "metadata": {},
     "output_type": "execute_result"
    }
   ],
   "source": [
    "contingencia_gender_income"
   ]
  },
  {
   "cell_type": "code",
   "execution_count": 66,
   "metadata": {
    "id": "eRRw5lrY4pn3"
   },
   "outputs": [],
   "source": [
    "chi_valores, p_valores = chisquare(\n",
    "    np.asarray(contingencia_gender_income.values), \n",
    "    f_exp = np.asarray(tabla_valores_esperados.values), \n",
    "    ddof = 0\n",
    ") \n",
    "# ddof son los grados de libertad de la distribución chi-cuadrada\n",
    "# Los grados de libertad dependen del número e filas y columnas de la tabla de contingencia\n",
    "# Por ejemplo, Si f (filas) = 2 y c (columnas) = 2, entonces\n",
    "# ddof = (f -1) x (c - 1)\n",
    "# ddof = (2 - 1) x (2 - 1) = 1\n",
    "# En Python ddof = 1 se representa como ddof = 0"
   ]
  },
  {
   "cell_type": "code",
   "execution_count": 76,
   "metadata": {
    "colab": {
     "base_uri": "https://localhost:8080/",
     "height": 112
    },
    "id": "i5Bpyzcm4sTN",
    "outputId": "29f08b08-4c3f-4ab2-c038-f09e117b6865"
   },
   "outputs": [
    {
     "data": {
      "text/html": [
       "<div>\n",
       "<style scoped>\n",
       "    .dataframe tbody tr th:only-of-type {\n",
       "        vertical-align: middle;\n",
       "    }\n",
       "\n",
       "    .dataframe tbody tr th {\n",
       "        vertical-align: top;\n",
       "    }\n",
       "\n",
       "    .dataframe thead th {\n",
       "        text-align: right;\n",
       "    }\n",
       "</style>\n",
       "<table border=\"1\" class=\"dataframe\">\n",
       "  <thead>\n",
       "    <tr style=\"text-align: right;\">\n",
       "      <th></th>\n",
       "      <th>valor Chi-Cuadrada</th>\n",
       "      <th>Valor p</th>\n",
       "    </tr>\n",
       "  </thead>\n",
       "  <tbody>\n",
       "    <tr>\n",
       "      <th>Female / &lt;=50K y &gt;50k</th>\n",
       "      <td>365.762463</td>\n",
       "      <td>1.566215e-81</td>\n",
       "    </tr>\n",
       "    <tr>\n",
       "      <th>Male / &lt;=50K y &gt;50k</th>\n",
       "      <td>1153.124357</td>\n",
       "      <td>9.394065e-253</td>\n",
       "    </tr>\n",
       "  </tbody>\n",
       "</table>\n",
       "</div>"
      ],
      "text/plain": [
       "                       valor Chi-Cuadrada        Valor p\n",
       "Female / <=50K y >50k          365.762463   1.566215e-81\n",
       "Male / <=50K y >50k           1153.124357  9.394065e-253"
      ]
     },
     "metadata": {},
     "output_type": "display_data"
    }
   ],
   "source": [
    "resultados = pd.DataFrame(\n",
    "    np.array([chi_valores, p_valores]).T, \n",
    "    index = ['Female / <=50K y >50k','Male / <=50K y >50k'], \n",
    "    columns = ['valor Chi-Cuadrada', 'Valor p']\n",
    ")\n",
    "\n",
    "display(resultados)"
   ]
  },
  {
   "cell_type": "markdown",
   "metadata": {
    "id": "Hm79Orbz4v7h"
   },
   "source": [
    "*   $H_0$: “La población de mujeres y hombres encuestados es *independiente* del ingreso anual”.\n",
    "*   $H_A$: “La población de mujeres y hombres encuestados es *dependiente* del ingreso anual”."
   ]
  },
  {
   "cell_type": "markdown",
   "metadata": {
    "id": "zPN7N8bx4zmy"
   },
   "source": [
    "Considerando que ambos casos de la tabla de resultados del test chi-cuadrado generan un valor p cercano a 0 que es menor a $\\rho value = 0.05$, hay evidencias para rechazar $H_0$ y afirmar que la población de mujeres y hombres encuestados es dependiente del ingreso anual."
   ]
  },
  {
   "cell_type": "markdown",
   "metadata": {
    "id": "9CCGF_M9BJeN"
   },
   "source": [
    "## Información Mutua para Datos Categóricos"
   ]
  },
  {
   "cell_type": "markdown",
   "metadata": {
    "id": "f4_q7LCOBQWY"
   },
   "source": [
    "En el tema del análisis de datos cuantitativos, se definio el concepto de entropía y entropía relativa para determinar la cantidad de información que aporta una relación entre características cuantitativas. Para el caso del análisis de los datos cualitativos, se puede analizar la tabla de contingencia desde la perspectiva de la teoría de la información mediante el uso de la información mutua. Por definición, la **información mutua (MI, en inglés)** es una medida de la entropía relativa entre las distribuciones condicionales de dos variables o características y el producto de sus distribuciones marginales. Mediante esta medición, se puede conocer la cantidad de información de una variable o característica con respecto a las observaciones o datos de otra variable o característica.\n",
    "\n",
    "$$IM(X_1, X_2) = \\sum_{X_1 = 1}^N \\sum_{X_2 = 1}^N P(X_1 \\vert X_2)log \\left ( \\frac{P(X_1 \\vert X_2)}{P(X_1)P(X_2)}\\right)$$\n",
    "\n",
    "donde $X_1$ y $X_2$ son dos variables o características, $IM(X_1, X_2)$ es la información mutua entre $X_1$ y $X_2$, $P(X_1 \\vert X_2)$ es la probabilidad condicional entre $X_1$ y $X_2$ y $P(X_1)$ y $P(X_2)$ son las probabilidades marginales de $X_1$ y $X_2$. \n",
    "\n",
    "Considerando $IM(X_1, X_2)$, se puede analizar dos casos:\n",
    "\n",
    "1.   Si $P(X_1 \\vert X_2) =  P(X_1)P(X_2)$, entonces $log(1) = 0$ y por consiguiente, $IM(X_1, X_2) = 0$. En este caso, no hay una relación entre $X_1$ y $X_2$ y se puede concluir ambas variables son independientes y **NO** se puede establecer si conociendo la probabilidad de $X_1$ puedo conocer más acerca de la probabilidad de $X_2$.\n",
    "2.   Entre más grande sea $IM(X_1, X_2)$, se puede conocer más información de la probabilidad de $X_1$ con respecto la probabilidad de $X_2$. En este caso, se considera que ambas variables pueden aportar información valiosa para el análisis de datos.   \n",
    "\n",
    "Teniendo en cuenta lo anterior, vamos a analizar la tabla de contingencia usada en los test Exacto de Fisher y el Test Chi-cuadrada para el caso de la información mutua:"
   ]
  },
  {
   "cell_type": "code",
   "execution_count": 68,
   "metadata": {
    "colab": {
     "base_uri": "https://localhost:8080/",
     "height": 143
    },
    "id": "0w03jB4xBPXL",
    "outputId": "2aafc5f5-2155-48ea-9661-4fc56a3818bf"
   },
   "outputs": [
    {
     "data": {
      "text/html": [
       "<div>\n",
       "<style scoped>\n",
       "    .dataframe tbody tr th:only-of-type {\n",
       "        vertical-align: middle;\n",
       "    }\n",
       "\n",
       "    .dataframe tbody tr th {\n",
       "        vertical-align: top;\n",
       "    }\n",
       "\n",
       "    .dataframe thead th {\n",
       "        text-align: right;\n",
       "    }\n",
       "</style>\n",
       "<table border=\"1\" class=\"dataframe\">\n",
       "  <thead>\n",
       "    <tr style=\"text-align: right;\">\n",
       "      <th>income</th>\n",
       "      <th>&lt;=50K</th>\n",
       "      <th>&gt;50K</th>\n",
       "    </tr>\n",
       "    <tr>\n",
       "      <th>gender</th>\n",
       "      <th></th>\n",
       "      <th></th>\n",
       "    </tr>\n",
       "  </thead>\n",
       "  <tbody>\n",
       "    <tr>\n",
       "      <th>Female</th>\n",
       "      <td>9592</td>\n",
       "      <td>1179</td>\n",
       "    </tr>\n",
       "    <tr>\n",
       "      <th>Male</th>\n",
       "      <td>15128</td>\n",
       "      <td>6662</td>\n",
       "    </tr>\n",
       "  </tbody>\n",
       "</table>\n",
       "</div>"
      ],
      "text/plain": [
       "income    <=50K   >50K\n",
       "gender                \n",
       " Female    9592   1179\n",
       " Male     15128   6662"
      ]
     },
     "metadata": {},
     "output_type": "display_data"
    }
   ],
   "source": [
    "display(contingencia_gender_income)"
   ]
  },
  {
   "cell_type": "code",
   "execution_count": 86,
   "metadata": {
    "colab": {
     "base_uri": "https://localhost:8080/"
    },
    "id": "skp5tP0bMOqb",
    "outputId": "9ba02097-f28a-40e1-e194-8324cc65efd3"
   },
   "outputs": [
    {
     "name": "stdout",
     "output_type": "stream",
     "text": [
      "El valor MI entre gender e income es = 0.0258\n"
     ]
    }
   ],
   "source": [
    "MI = mutual_info_score(labels_true=None, labels_pred=None, contingency=contingencia_gender_income)\n",
    "print('El valor MI entre gender e income es = {:.4f}'.format(MI))"
   ]
  },
  {
   "cell_type": "markdown",
   "metadata": {
    "id": "Kfm5RcZwOyet"
   },
   "source": [
    "Considerando el valor de MI, aunque es mayor que 0, su valor es muy bajo. Lo anterior indica que si conocemos la probabilidad de ingresos (income) entonces nosotros podemos conocer al menos una parte de la probabilidad del genero (gender). "
   ]
  },
  {
   "cell_type": "markdown",
   "metadata": {
    "id": "5nZBtcukVuEH"
   },
   "source": [
    "## Construcción de una Matriz de Información Mutua"
   ]
  },
  {
   "cell_type": "code",
   "execution_count": 87,
   "metadata": {
    "colab": {
     "base_uri": "https://localhost:8080/"
    },
    "id": "XsQ8YeXNV41O",
    "outputId": "e9e1376a-e7ab-4b76-ff64-d5835f6afba4"
   },
   "outputs": [
    {
     "name": "stdout",
     "output_type": "stream",
     "text": [
      "<class 'pandas.core.frame.DataFrame'>\n",
      "RangeIndex: 32561 entries, 0 to 32560\n",
      "Data columns (total 15 columns):\n",
      " #   Column          Non-Null Count  Dtype \n",
      "---  ------          --------------  ----- \n",
      " 0   age             32561 non-null  int64 \n",
      " 1   workclass       32561 non-null  object\n",
      " 2   fnlwgt          32561 non-null  int64 \n",
      " 3   education       32561 non-null  object\n",
      " 4   education-num   32561 non-null  int64 \n",
      " 5   marital-status  32561 non-null  object\n",
      " 6   occupation      32561 non-null  object\n",
      " 7   relationship    32561 non-null  object\n",
      " 8   race            32561 non-null  object\n",
      " 9   gender          32561 non-null  object\n",
      " 10  capital-gain    32561 non-null  int64 \n",
      " 11  capital-loss    32561 non-null  int64 \n",
      " 12  hours-per-week  32561 non-null  int64 \n",
      " 13  native-country  32561 non-null  object\n",
      " 14  income          32561 non-null  object\n",
      "dtypes: int64(6), object(9)\n",
      "memory usage: 3.7+ MB\n"
     ]
    }
   ],
   "source": [
    "data.info()"
   ]
  },
  {
   "cell_type": "code",
   "execution_count": 88,
   "metadata": {
    "colab": {
     "base_uri": "https://localhost:8080/"
    },
    "id": "5Yna8uDgWMTc",
    "outputId": "9c9bb80e-1e16-417f-e42d-82dff43db22c"
   },
   "outputs": [
    {
     "name": "stdout",
     "output_type": "stream",
     "text": [
      "<class 'pandas.core.frame.DataFrame'>\n",
      "RangeIndex: 32561 entries, 0 to 32560\n",
      "Data columns (total 9 columns):\n",
      " #   Column          Non-Null Count  Dtype \n",
      "---  ------          --------------  ----- \n",
      " 0   workclass       32561 non-null  object\n",
      " 1   education       32561 non-null  object\n",
      " 2   marital-status  32561 non-null  object\n",
      " 3   occupation      32561 non-null  object\n",
      " 4   relationship    32561 non-null  object\n",
      " 5   race            32561 non-null  object\n",
      " 6   gender          32561 non-null  object\n",
      " 7   native-country  32561 non-null  object\n",
      " 8   income          32561 non-null  object\n",
      "dtypes: object(9)\n",
      "memory usage: 2.2+ MB\n"
     ]
    }
   ],
   "source": [
    "Datos_Categoricos = data[['workclass', 'education', 'marital-status', \n",
    "                          'occupation', 'relationship', 'race', 'gender', \n",
    "                          'native-country', 'income']]\n",
    "Datos_Categoricos.info()"
   ]
  },
  {
   "cell_type": "code",
   "execution_count": 89,
   "metadata": {
    "id": "ht6y9CZaXuGn"
   },
   "outputs": [],
   "source": [
    "datos_array = Datos_Categoricos.values\n",
    "features = np.arange(0,datos_array.shape[1])\n",
    "MI = []\n",
    "\n",
    "for d in features:\n",
    "    for e in features:\n",
    "        Tabla_Contingencia = crosstab(datos_array[:, d], datos_array[:, e])\n",
    "        mi = mutual_info_score(labels_true=None, labels_pred=None, contingency=Tabla_Contingencia)\n",
    "        MI.append(mi)"
   ]
  },
  {
   "cell_type": "code",
   "execution_count": 90,
   "metadata": {
    "colab": {
     "base_uri": "https://localhost:8080/",
     "height": 1000
    },
    "id": "f9NuCnAeW600",
    "outputId": "b48ff0e8-72f5-4c7e-834d-f3c53b73192b"
   },
   "outputs": [
    {
     "data": {
      "image/png": "[encoded data removed]",
      "text/plain": [
       "<Figure size 576x576 with 2 Axes>"
      ]
     },
     "metadata": {
      "needs_background": "light"
     },
     "output_type": "display_data"
    }
   ],
   "source": [
    "MI = np.asarray(MI)\n",
    "MI = MI.reshape(datos_array.shape[1], datos_array.shape[1])\n",
    "\n",
    "plt.figure(figsize=(8, 8))\n",
    "ax = sns.heatmap(\n",
    "    MI, \n",
    "    annot=True, \n",
    "    fmt='g', \n",
    "    xticklabels=Datos_Categoricos.columns, \n",
    "    yticklabels=Datos_Categoricos.columns,\n",
    "    annot_kws={\"size\": 8}\n",
    ")\n",
    "plt.show()"
   ]
  },
  {
   "cell_type": "markdown",
   "metadata": {
    "id": "scYxXEQEbUEm"
   },
   "source": [
    "Observando la anterior matriz, la diagonal de la matriz de información mutua esta comparando una característica consigo mismo, lo cual el valor de la información mutua es alto. No obstante, como nos interesa analizar la relación entre características diferentes, la relación entre las variables *relationship* y *marital-status* genera un valor alto de información mutua, 0.725501. Lo anterior indica que si uno conoce la probabilidad de *relationship* se puede conocer bastante información de la probabilidad de *marital-status*. Este resultado nos puede indicar que los datos de *relationship* y *marital-status* muestran información muy similar entre ellas. Por consiguiente, se puede descartar una de las variables de la base de datos. "
   ]
  },
  {
   "cell_type": "code",
   "execution_count": 74,
   "metadata": {
    "colab": {
     "base_uri": "https://localhost:8080/"
    },
    "id": "CufFt_27a1WQ",
    "outputId": "c307a22f-f7ee-4358-c7e8-f0131c5adc31"
   },
   "outputs": [
    {
     "data": {
      "text/plain": [
       "[' Not-in-family', ' Husband', ' Wife', ' Own-child', ' Unmarried', ' Other-relative']\n",
       "Categories (6, object): [' Husband', ' Not-in-family', ' Other-relative', ' Own-child', ' Unmarried', ' Wife']"
      ]
     },
     "execution_count": 74,
     "metadata": {},
     "output_type": "execute_result"
    }
   ],
   "source": [
    "pd.Categorical(Datos_Categoricos['relationship']).unique()"
   ]
  },
  {
   "cell_type": "code",
   "execution_count": 75,
   "metadata": {
    "colab": {
     "base_uri": "https://localhost:8080/"
    },
    "id": "ew99KGzpetKH",
    "outputId": "14943967-0cf8-4559-cff2-1cea572b8049"
   },
   "outputs": [
    {
     "data": {
      "text/plain": [
       "[' Never-married', ' Married-civ-spouse', ' Divorced', ' Married-spouse-absent', ' Separated', ' Married-AF-spouse', ' Widowed']\n",
       "Categories (7, object): [' Divorced', ' Married-AF-spouse', ' Married-civ-spouse', ' Married-spouse-absent', ' Never-married', ' Separated', ' Widowed']"
      ]
     },
     "execution_count": 75,
     "metadata": {},
     "output_type": "execute_result"
    }
   ],
   "source": [
    "pd.Categorical(Datos_Categoricos['marital-status']).unique()"
   ]
  },
  {
   "cell_type": "markdown",
   "metadata": {
    "id": "xWNir8n8e8xE"
   },
   "source": [
    "Por otra parte, se encuentra un valor razonablemente considerable de la información mutua para las relaciones *occupation-workclass* y *occupation-education*. Observando que hay una variable en común, hay una sospecha que la información de *occupation* sea similar a *workclass* y *education*. No obstante, el valor más alto de MI, 0.326612, corresponde a *occupation-workclass*, lo cual desde el contexto de la base de datos son datos similares."
   ]
  },
  {
   "cell_type": "markdown",
   "metadata": {
    "id": "BMCALQNEgiC1"
   },
   "source": [
    "Por último, se encontró un valor de información mutua alta entre *gender* y *relationship* (MI(gender, relationship) = 0.273147). Lo anterior indica que probablemente los datos de *gender* y *relationship* pueden llegar a ser similares pero la elección de remover una de las variables o no dependerá del contexto de la base de datos."
   ]
  }
 ],
 "metadata": {
  "colab": {
   "provenance": [],
   "toc_visible": true
  },
  "kernelspec": {
   "display_name": "Python 3 (ipykernel)",
   "language": "python",
   "name": "python3"
  },
  "language_info": {
   "codemirror_mode": {
    "name": "ipython",
    "version": 3
   },
   "file_extension": ".py",
   "mimetype": "text/x-python",
   "name": "python",
   "nbconvert_exporter": "python",
   "pygments_lexer": "ipython3",
   "version": "3.9.13"
  }
 },
 "nbformat": 4,
 "nbformat_minor": 4
}
