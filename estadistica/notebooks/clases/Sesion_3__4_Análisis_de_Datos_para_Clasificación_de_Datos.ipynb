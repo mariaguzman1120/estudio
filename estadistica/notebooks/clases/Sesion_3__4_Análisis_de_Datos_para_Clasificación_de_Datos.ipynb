{
 "cells": [
  {
   "cell_type": "code",
   "execution_count": 1,
   "metadata": {
    "id": "SKJr-Qo8zxRy"
   },
   "outputs": [],
   "source": [
    "#!wget --no-cache -O init.py -q https://raw.githubusercontent.com/UDEA-Esp-Analitica-y-Ciencia-de-Datos/EACD-02-ESTADISTICA/master/init.py\n",
    "#import init; init.init(force_download=False); \n",
    "from IPython.display import Image"
   ]
  },
  {
   "cell_type": "code",
   "execution_count": 2,
   "metadata": {
    "colab": {
     "base_uri": "https://localhost:8080/",
     "height": 251
    },
    "id": "5HZbcEXf0FP7",
    "outputId": "da5d1a9a-b924-4b7b-f2b6-f756801fed44"
   },
   "outputs": [
    {
     "data": {
      "image/png": "[encoded data removed]",
      "text/plain": [
       "<IPython.core.display.Image object>"
      ]
     },
     "execution_count": 2,
     "metadata": {},
     "output_type": "execute_result"
    }
   ],
   "source": [
    "Image('../docs/udea-datascience.png')"
   ]
  },
  {
   "cell_type": "markdown",
   "metadata": {
    "id": "lFvFUg3M0Jda"
   },
   "source": [
    "**Desarrollado por:** Javier Fernando Botía Valderrama\n",
    "\n",
    "*Docente del Departamento de Ingeniería de Sistemas*\n",
    "\n",
    "**Materia:** Estadística y Análisis Exploratorio\n",
    "\n",
    "**Departamento:** Posgrado en Ingeniería\n",
    "\n",
    "**Facultad de Ingeniería - Universidad de Antioquia**"
   ]
  },
  {
   "cell_type": "markdown",
   "metadata": {
    "id": "A-1pfjtF0NNq"
   },
   "source": [
    "# Análisis de Datos para Clasificación de Datos"
   ]
  },
  {
   "cell_type": "code",
   "execution_count": 3,
   "metadata": {
    "colab": {
     "base_uri": "https://localhost:8080/"
    },
    "id": "NsTNN3kSoUdD",
    "outputId": "48f6cd12-f2d4-4ca2-9672-b7b5275e3709"
   },
   "outputs": [
    {
     "name": "stdout",
     "output_type": "stream",
     "text": [
      "Collecting pingouin\n",
      "  Downloading pingouin-0.5.3-py3-none-any.whl (198 kB)\n",
      "     ------------------------------------ 198.6/198.6 KB 430.0 kB/s eta 0:00:00\n",
      "Requirement already satisfied: seaborn>=0.11 in c:\\users\\mdmgu\\appdata\\local\\programs\\python\\python39\\lib\\site-packages (from pingouin) (0.12.2)\n",
      "Requirement already satisfied: numpy>=1.19 in c:\\users\\mdmgu\\appdata\\local\\programs\\python\\python39\\lib\\site-packages (from pingouin) (1.23.2)\n",
      "Requirement already satisfied: scipy>=1.7 in c:\\users\\mdmgu\\appdata\\local\\programs\\python\\python39\\lib\\site-packages (from pingouin) (1.9.0)\n",
      "Requirement already satisfied: statsmodels>=0.13 in c:\\users\\mdmgu\\appdata\\local\\programs\\python\\python39\\lib\\site-packages (from pingouin) (0.13.5)\n",
      "Requirement already satisfied: pandas>=1.0 in c:\\users\\mdmgu\\appdata\\local\\programs\\python\\python39\\lib\\site-packages (from pingouin) (1.5.1)\n",
      "Collecting pandas-flavor>=0.2.0\n",
      "  Downloading pandas_flavor-0.5.0-py3-none-any.whl (7.1 kB)\n",
      "Requirement already satisfied: scikit-learn in c:\\users\\mdmgu\\appdata\\local\\programs\\python\\python39\\lib\\site-packages (from pingouin) (1.2.2)\n",
      "Collecting outdated\n",
      "  Downloading outdated-0.2.2-py2.py3-none-any.whl (7.5 kB)\n",
      "Requirement already satisfied: matplotlib>=3.0.2 in c:\\users\\mdmgu\\appdata\\local\\programs\\python\\python39\\lib\\site-packages (from pingouin) (3.5.3)\n",
      "Collecting tabulate\n",
      "  Downloading tabulate-0.9.0-py3-none-any.whl (35 kB)\n",
      "Requirement already satisfied: pyparsing>=2.2.1 in c:\\users\\mdmgu\\appdata\\local\\programs\\python\\python39\\lib\\site-packages (from matplotlib>=3.0.2->pingouin) (3.0.9)\n",
      "Requirement already satisfied: python-dateutil>=2.7 in c:\\users\\mdmgu\\appdata\\local\\programs\\python\\python39\\lib\\site-packages (from matplotlib>=3.0.2->pingouin) (2.8.2)\n",
      "Requirement already satisfied: packaging>=20.0 in c:\\users\\mdmgu\\appdata\\local\\programs\\python\\python39\\lib\\site-packages (from matplotlib>=3.0.2->pingouin) (23.0)\n",
      "Requirement already satisfied: cycler>=0.10 in c:\\users\\mdmgu\\appdata\\local\\programs\\python\\python39\\lib\\site-packages (from matplotlib>=3.0.2->pingouin) (0.11.0)\n",
      "Requirement already satisfied: pillow>=6.2.0 in c:\\users\\mdmgu\\appdata\\local\\programs\\python\\python39\\lib\\site-packages (from matplotlib>=3.0.2->pingouin) (9.2.0)\n",
      "Requirement already satisfied: fonttools>=4.22.0 in c:\\users\\mdmgu\\appdata\\local\\programs\\python\\python39\\lib\\site-packages (from matplotlib>=3.0.2->pingouin) (4.35.0)\n",
      "Requirement already satisfied: kiwisolver>=1.0.1 in c:\\users\\mdmgu\\appdata\\local\\programs\\python\\python39\\lib\\site-packages (from matplotlib>=3.0.2->pingouin) (1.4.4)\n",
      "Requirement already satisfied: pytz>=2020.1 in c:\\users\\mdmgu\\appdata\\local\\programs\\python\\python39\\lib\\site-packages (from pandas>=1.0->pingouin) (2022.1)\n",
      "Collecting xarray\n",
      "  Downloading xarray-2023.3.0-py3-none-any.whl (981 kB)\n",
      "     -------------------------------------- 981.2/981.2 KB 2.8 MB/s eta 0:00:00\n",
      "Requirement already satisfied: lazy-loader>=0.1 in c:\\users\\mdmgu\\appdata\\local\\programs\\python\\python39\\lib\\site-packages (from pandas-flavor>=0.2.0->pingouin) (0.1)\n",
      "Requirement already satisfied: patsy>=0.5.2 in c:\\users\\mdmgu\\appdata\\local\\programs\\python\\python39\\lib\\site-packages (from statsmodels>=0.13->pingouin) (0.5.3)\n",
      "Collecting littleutils\n",
      "  Downloading littleutils-0.2.2.tar.gz (6.6 kB)\n",
      "  Preparing metadata (setup.py): started\n",
      "  Preparing metadata (setup.py): finished with status 'done'\n",
      "Requirement already satisfied: requests in c:\\users\\mdmgu\\appdata\\local\\programs\\python\\python39\\lib\\site-packages (from outdated->pingouin) (2.28.1)\n",
      "Requirement already satisfied: setuptools>=44 in c:\\users\\mdmgu\\appdata\\local\\programs\\python\\python39\\lib\\site-packages (from outdated->pingouin) (58.1.0)\n",
      "Requirement already satisfied: joblib>=1.1.1 in c:\\users\\mdmgu\\appdata\\local\\programs\\python\\python39\\lib\\site-packages (from scikit-learn->pingouin) (1.2.0)\n",
      "Requirement already satisfied: threadpoolctl>=2.0.0 in c:\\users\\mdmgu\\appdata\\local\\programs\\python\\python39\\lib\\site-packages (from scikit-learn->pingouin) (3.1.0)\n",
      "Requirement already satisfied: six in c:\\users\\mdmgu\\appdata\\local\\programs\\python\\python39\\lib\\site-packages (from patsy>=0.5.2->statsmodels>=0.13->pingouin) (1.16.0)\n",
      "Requirement already satisfied: urllib3<1.27,>=1.21.1 in c:\\users\\mdmgu\\appdata\\local\\programs\\python\\python39\\lib\\site-packages (from requests->outdated->pingouin) (1.26.10)\n",
      "Requirement already satisfied: idna<4,>=2.5 in c:\\users\\mdmgu\\appdata\\local\\programs\\python\\python39\\lib\\site-packages (from requests->outdated->pingouin) (3.3)\n",
      "Requirement already satisfied: certifi>=2017.4.17 in c:\\users\\mdmgu\\appdata\\local\\programs\\python\\python39\\lib\\site-packages (from requests->outdated->pingouin) (2022.6.15)\n",
      "Requirement already satisfied: charset-normalizer<3,>=2 in c:\\users\\mdmgu\\appdata\\local\\programs\\python\\python39\\lib\\site-packages (from requests->outdated->pingouin) (2.1.0)\n",
      "Building wheels for collected packages: littleutils\n",
      "  Building wheel for littleutils (setup.py): started\n",
      "  Building wheel for littleutils (setup.py): finished with status 'done'\n",
      "  Created wheel for littleutils: filename=littleutils-0.2.2-py3-none-any.whl size=7054 sha256=7b3993bdb3d11e5dec56a0222f548afac18f0117bcb3fd3802d32bfcfa12fc04\n",
      "  Stored in directory: c:\\users\\mdmgu\\appdata\\local\\pip\\cache\\wheels\\04\\bb\\0d\\2d02ec45f29c48d6192476bfb59c5a0e64b605e7212374dd15\n",
      "Successfully built littleutils\n",
      "Installing collected packages: littleutils, tabulate, outdated, xarray, pandas-flavor, pingouin\n",
      "Successfully installed littleutils-0.2.2 outdated-0.2.2 pandas-flavor-0.5.0 pingouin-0.5.3 tabulate-0.9.0 xarray-2023.3.0\n"
     ]
    },
    {
     "name": "stderr",
     "output_type": "stream",
     "text": [
      "WARNING: You are using pip version 22.0.4; however, version 23.0.1 is available.\n",
      "You should consider upgrading via the 'C:\\Users\\mdmgu\\AppData\\Local\\Programs\\Python\\Python39\\python.exe -m pip install --upgrade pip' command.\n"
     ]
    }
   ],
   "source": [
    "#!pip install pingouin"
   ]
  },
  {
   "cell_type": "code",
   "execution_count": 4,
   "metadata": {
    "id": "M_2g7a1r0UKC"
   },
   "outputs": [],
   "source": [
    "import pandas as pd\n",
    "import io\n",
    "import requests\n",
    "import seaborn as sns\n",
    "import numpy as np\n",
    "import numpy.matlib\n",
    "import matplotlib.pyplot as plt\n",
    "import seaborn as sns\n",
    "\n",
    "from sklearn.preprocessing import MinMaxScaler\n",
    "\n",
    "from scipy.stats import ttest_1samp\n",
    "from scipy.stats import ttest_ind # t-test de dos muestras independientes\n",
    "import pingouin as pg # Librería para realizar test estadísticos\n",
    "\n",
    "from sklearn.feature_selection import chi2, f_classif, mutual_info_classif\n",
    "from sklearn.feature_selection import SelectKBest\n",
    "import statsmodels.api as sm\n",
    "import statsmodels.formula.api as smf\n",
    "import scipy.stats\n",
    "from sklearn.naive_bayes import GaussianNB # Gaussian Naive Bayes\n",
    "from sklearn.model_selection import train_test_split\n",
    "from sklearn.metrics import accuracy_score"
   ]
  },
  {
   "cell_type": "markdown",
   "metadata": {
    "id": "_yk_9xlO0Ul6"
   },
   "source": [
    "## Usando Test Estadístico para Analizar un Conjunto de Datos para la Clasificación de Datos"
   ]
  },
  {
   "cell_type": "markdown",
   "metadata": {
    "id": "1DWLJWwdbrTJ"
   },
   "source": [
    "The aim of this dataset is to distinguish between nasal (class 0) and oral sounds (class 1). The class distribution is 3,818 samples in class 0 and 1,586 samples in class 1.\n",
    "\n",
    "The phonemes are transcribed as follows: sh as in she, dcl as in dark, iy as the vowel in she, aa as the vowel in dark, and ao as the first vowel in water.\n",
    "\n",
    "https://sci2s.ugr.es/keel/dataset.php?cod=105"
   ]
  },
  {
   "cell_type": "code",
   "execution_count": 6,
   "metadata": {
    "colab": {
     "base_uri": "https://localhost:8080/",
     "height": 676
    },
    "id": "52AJ3JwI1TgK",
    "outputId": "9b1c982e-80ce-49e0-a567-c72cbb249e57"
   },
   "outputs": [
    {
     "data": {
      "text/html": [
       "<div>\n",
       "<style scoped>\n",
       "    .dataframe tbody tr th:only-of-type {\n",
       "        vertical-align: middle;\n",
       "    }\n",
       "\n",
       "    .dataframe tbody tr th {\n",
       "        vertical-align: top;\n",
       "    }\n",
       "\n",
       "    .dataframe thead th {\n",
       "        text-align: right;\n",
       "    }\n",
       "</style>\n",
       "<table border=\"1\" class=\"dataframe\">\n",
       "  <thead>\n",
       "    <tr style=\"text-align: right;\">\n",
       "      <th></th>\n",
       "      <th>Aa</th>\n",
       "      <th>Ao</th>\n",
       "      <th>Dcl</th>\n",
       "      <th>Iy</th>\n",
       "      <th>Sh</th>\n",
       "      <th>Class</th>\n",
       "    </tr>\n",
       "  </thead>\n",
       "  <tbody>\n",
       "    <tr>\n",
       "      <th>0</th>\n",
       "      <td>1.24</td>\n",
       "      <td>0.875</td>\n",
       "      <td>-0.205</td>\n",
       "      <td>-0.078</td>\n",
       "      <td>0.067</td>\n",
       "      <td>0</td>\n",
       "    </tr>\n",
       "    <tr>\n",
       "      <th>1</th>\n",
       "      <td>0.268</td>\n",
       "      <td>1.352</td>\n",
       "      <td>1.035</td>\n",
       "      <td>-0.332</td>\n",
       "      <td>0.217</td>\n",
       "      <td>0</td>\n",
       "    </tr>\n",
       "    <tr>\n",
       "      <th>2</th>\n",
       "      <td>1.567</td>\n",
       "      <td>0.867</td>\n",
       "      <td>1.3</td>\n",
       "      <td>1.041</td>\n",
       "      <td>0.559</td>\n",
       "      <td>0</td>\n",
       "    </tr>\n",
       "    <tr>\n",
       "      <th>3</th>\n",
       "      <td>0.279</td>\n",
       "      <td>0.99</td>\n",
       "      <td>2.555</td>\n",
       "      <td>-0.738</td>\n",
       "      <td>0.0</td>\n",
       "      <td>0</td>\n",
       "    </tr>\n",
       "    <tr>\n",
       "      <th>4</th>\n",
       "      <td>0.307</td>\n",
       "      <td>1.272</td>\n",
       "      <td>2.656</td>\n",
       "      <td>-0.946</td>\n",
       "      <td>-0.467</td>\n",
       "      <td>0</td>\n",
       "    </tr>\n",
       "  </tbody>\n",
       "</table>\n",
       "</div>"
      ],
      "text/plain": [
       "      Aa     Ao     Dcl      Iy      Sh   Class\n",
       "0   1.24  0.875  -0.205  -0.078   0.067       0\n",
       "1  0.268  1.352   1.035  -0.332   0.217       0\n",
       "2  1.567  0.867     1.3   1.041   0.559       0\n",
       "3  0.279   0.99   2.555  -0.738     0.0       0\n",
       "4  0.307  1.272   2.656  -0.946  -0.467       0"
      ]
     },
     "execution_count": 6,
     "metadata": {},
     "output_type": "execute_result"
    }
   ],
   "source": [
    "url = \"https://raw.githubusercontent.com/javierfernandobotia/AnalisisAvanzadoDatos/main/phoneme.dat\"\n",
    "download = requests.get(url).content\n",
    "data = pd.read_table(\n",
    "    io.StringIO(download.decode('utf-8')), \n",
    "    sep=',',\n",
    "    decimal=',')\n",
    "\n",
    "data.head()"
   ]
  },
  {
   "cell_type": "code",
   "execution_count": 7,
   "metadata": {
    "colab": {
     "base_uri": "https://localhost:8080/"
    },
    "id": "uDlYgkm-pbs4",
    "outputId": "6805193e-7c66-492f-92fe-b5062c7f1406"
   },
   "outputs": [
    {
     "name": "stdout",
     "output_type": "stream",
     "text": [
      "<class 'pandas.core.frame.DataFrame'>\n",
      "RangeIndex: 5404 entries, 0 to 5403\n",
      "Data columns (total 6 columns):\n",
      " #   Column  Non-Null Count  Dtype \n",
      "---  ------  --------------  ----- \n",
      " 0   Aa      5404 non-null   object\n",
      " 1    Ao     5404 non-null   object\n",
      " 2    Dcl    5404 non-null   object\n",
      " 3    Iy     5404 non-null   object\n",
      " 4    Sh     5404 non-null   object\n",
      " 5    Class  5404 non-null   int64 \n",
      "dtypes: int64(1), object(5)\n",
      "memory usage: 253.4+ KB\n"
     ]
    }
   ],
   "source": [
    "data.info()"
   ]
  },
  {
   "cell_type": "code",
   "execution_count": 8,
   "metadata": {
    "id": "E2NKt5RW3Jb2"
   },
   "outputs": [],
   "source": [
    "data = data.values\n",
    "data = pd.DataFrame(data, columns = ['Aa', 'Ao', 'Dcl', 'Iy', 'Sh', 'Class'])"
   ]
  },
  {
   "cell_type": "code",
   "execution_count": 9,
   "metadata": {
    "id": "lJ16HTHjkyNl"
   },
   "outputs": [],
   "source": [
    "data['Class'] = data['Class'].replace(0, 'No')\n",
    "data['Class'] = data['Class'].replace(1, 'Yes')"
   ]
  },
  {
   "cell_type": "code",
   "execution_count": 10,
   "metadata": {
    "colab": {
     "base_uri": "https://localhost:8080/",
     "height": 423
    },
    "id": "GKqkzBMelJW_",
    "outputId": "28154475-e25a-4c11-e9d0-ec9f542d8e46"
   },
   "outputs": [
    {
     "data": {
      "text/html": [
       "<div>\n",
       "<style scoped>\n",
       "    .dataframe tbody tr th:only-of-type {\n",
       "        vertical-align: middle;\n",
       "    }\n",
       "\n",
       "    .dataframe tbody tr th {\n",
       "        vertical-align: top;\n",
       "    }\n",
       "\n",
       "    .dataframe thead th {\n",
       "        text-align: right;\n",
       "    }\n",
       "</style>\n",
       "<table border=\"1\" class=\"dataframe\">\n",
       "  <thead>\n",
       "    <tr style=\"text-align: right;\">\n",
       "      <th></th>\n",
       "      <th>Aa</th>\n",
       "      <th>Ao</th>\n",
       "      <th>Dcl</th>\n",
       "      <th>Iy</th>\n",
       "      <th>Sh</th>\n",
       "      <th>Class</th>\n",
       "    </tr>\n",
       "  </thead>\n",
       "  <tbody>\n",
       "    <tr>\n",
       "      <th>0</th>\n",
       "      <td>1.24</td>\n",
       "      <td>0.875</td>\n",
       "      <td>-0.205</td>\n",
       "      <td>-0.078</td>\n",
       "      <td>0.067</td>\n",
       "      <td>No</td>\n",
       "    </tr>\n",
       "    <tr>\n",
       "      <th>1</th>\n",
       "      <td>0.268</td>\n",
       "      <td>1.352</td>\n",
       "      <td>1.035</td>\n",
       "      <td>-0.332</td>\n",
       "      <td>0.217</td>\n",
       "      <td>No</td>\n",
       "    </tr>\n",
       "    <tr>\n",
       "      <th>2</th>\n",
       "      <td>1.567</td>\n",
       "      <td>0.867</td>\n",
       "      <td>1.3</td>\n",
       "      <td>1.041</td>\n",
       "      <td>0.559</td>\n",
       "      <td>No</td>\n",
       "    </tr>\n",
       "    <tr>\n",
       "      <th>3</th>\n",
       "      <td>0.279</td>\n",
       "      <td>0.99</td>\n",
       "      <td>2.555</td>\n",
       "      <td>-0.738</td>\n",
       "      <td>0.0</td>\n",
       "      <td>No</td>\n",
       "    </tr>\n",
       "    <tr>\n",
       "      <th>4</th>\n",
       "      <td>0.307</td>\n",
       "      <td>1.272</td>\n",
       "      <td>2.656</td>\n",
       "      <td>-0.946</td>\n",
       "      <td>-0.467</td>\n",
       "      <td>No</td>\n",
       "    </tr>\n",
       "    <tr>\n",
       "      <th>...</th>\n",
       "      <td>...</td>\n",
       "      <td>...</td>\n",
       "      <td>...</td>\n",
       "      <td>...</td>\n",
       "      <td>...</td>\n",
       "      <td>...</td>\n",
       "    </tr>\n",
       "    <tr>\n",
       "      <th>5399</th>\n",
       "      <td>0.254</td>\n",
       "      <td>2.392</td>\n",
       "      <td>0.689</td>\n",
       "      <td>1.828</td>\n",
       "      <td>-0.544</td>\n",
       "      <td>No</td>\n",
       "    </tr>\n",
       "    <tr>\n",
       "      <th>5400</th>\n",
       "      <td>0.781</td>\n",
       "      <td>1.25</td>\n",
       "      <td>0.793</td>\n",
       "      <td>0.383</td>\n",
       "      <td>0.816</td>\n",
       "      <td>Yes</td>\n",
       "    </tr>\n",
       "    <tr>\n",
       "      <th>5401</th>\n",
       "      <td>1.031</td>\n",
       "      <td>0.584</td>\n",
       "      <td>1.866</td>\n",
       "      <td>1.532</td>\n",
       "      <td>-0.671</td>\n",
       "      <td>Yes</td>\n",
       "    </tr>\n",
       "    <tr>\n",
       "      <th>5402</th>\n",
       "      <td>0.15</td>\n",
       "      <td>0.933</td>\n",
       "      <td>2.363</td>\n",
       "      <td>-0.742</td>\n",
       "      <td>-0.617</td>\n",
       "      <td>No</td>\n",
       "    </tr>\n",
       "    <tr>\n",
       "      <th>5403</th>\n",
       "      <td>0.137</td>\n",
       "      <td>0.714</td>\n",
       "      <td>1.35</td>\n",
       "      <td>0.972</td>\n",
       "      <td>-0.63</td>\n",
       "      <td>Yes</td>\n",
       "    </tr>\n",
       "  </tbody>\n",
       "</table>\n",
       "<p>5404 rows × 6 columns</p>\n",
       "</div>"
      ],
      "text/plain": [
       "         Aa     Ao     Dcl      Iy      Sh Class\n",
       "0      1.24  0.875  -0.205  -0.078   0.067    No\n",
       "1     0.268  1.352   1.035  -0.332   0.217    No\n",
       "2     1.567  0.867     1.3   1.041   0.559    No\n",
       "3     0.279   0.99   2.555  -0.738     0.0    No\n",
       "4     0.307  1.272   2.656  -0.946  -0.467    No\n",
       "...     ...    ...     ...     ...     ...   ...\n",
       "5399  0.254  2.392   0.689   1.828  -0.544    No\n",
       "5400  0.781   1.25   0.793   0.383   0.816   Yes\n",
       "5401  1.031  0.584   1.866   1.532  -0.671   Yes\n",
       "5402   0.15  0.933   2.363  -0.742  -0.617    No\n",
       "5403  0.137  0.714    1.35   0.972   -0.63   Yes\n",
       "\n",
       "[5404 rows x 6 columns]"
      ]
     },
     "metadata": {},
     "output_type": "display_data"
    }
   ],
   "source": [
    "display(data)"
   ]
  },
  {
   "cell_type": "markdown",
   "metadata": {
    "id": "vAd16spQkk2w"
   },
   "source": [
    "La anterior base de datos tiene datos cuantitativos y datos cualitativos. Para realizar un análisis de datos cuantitativos y cualitativos, uno de los test estadísticos más famosos es el **test T-student**."
   ]
  },
  {
   "cell_type": "markdown",
   "metadata": {
    "id": "5oZf0oNGmQC4"
   },
   "source": [
    "## Test T-student"
   ]
  },
  {
   "cell_type": "markdown",
   "metadata": {
    "id": "zjLlTXeXmYsB"
   },
   "source": [
    "En el test T, se analiza como las muestras se pueden modelar desde una población de distribución normal (Gaussiana) y como **la desviación estandar muestral se puede estimar como una varianza poblacional**, lo cual la distribución de las medias muestrales para una variable $x$ se puede determinar como:\n",
    "\n",
    "$$t = \\frac{\\bar{x}-\\mu}{(s/\\sqrt{N})}$$\n",
    "\n",
    "donde $\\bar{x}$ es la media de una muestra de datos, $\\mu$ es la media poblacional, $s$ es la desviación estándar poblacional y $N$ es el tamaño de las muestras de los datos.\n",
    "\n",
    "Considerando la anterior ecuación, la prueba t se puede usar para comparar la media de una muestra con respecto a una población con una media conocida. Para este caso, la *hipótesis nula* esta establecida como no hay diferencias significativas entre la media en la población desde el cual la muestra esta definida y la media de la población conocida."
   ]
  },
  {
   "cell_type": "markdown",
   "metadata": {
    "id": "hW_z2ARoo17A"
   },
   "source": [
    "### Test T- student de una muestra"
   ]
  },
  {
   "cell_type": "markdown",
   "metadata": {
    "id": "L9Gz1SpWpAm5"
   },
   "source": [
    "la ecuación del **test t de una muestra** se expresa como:\n",
    "\n",
    "$$t = \\frac{\\bar{x}-\\mu_0}{(s_0/\\sqrt{N})}$$\n",
    "\n",
    "donde $\\bar{x}$ es la media de la muestra, $\\mu_0$ es la media de referencia que se conoce, $s_0$ es la desviación estándar de la muestra y $N$ es el tamaño de la muestra."
   ]
  },
  {
   "cell_type": "markdown",
   "metadata": {
    "id": "7Py2Wlmfr3fa"
   },
   "source": [
    "*   $H_0$ = No hay diferencias entre la media conocida de los datos y la media calculada por una determinada distribución de densidad de probabilidad ($\\mu_1 = \\mu_2$)\n",
    "*   $H_A$ = Hay diferencias entre la media conocida de los datos y la media calculada por una determinada distribución de densidad de probabilidad. En este caso, el valor real de la media poblacional de los datos suele ser mayor o menor al valor de la media que establece $H_0$ (es decir, $\\mu_1 \\neq \\mu_2$)"
   ]
  },
  {
   "cell_type": "code",
   "execution_count": 11,
   "metadata": {
    "colab": {
     "base_uri": "https://localhost:8080/"
    },
    "id": "yscGOJHlPPFH",
    "outputId": "af1568fc-d259-453e-d0f5-601177a07456"
   },
   "outputs": [
    {
     "name": "stdout",
     "output_type": "stream",
     "text": [
      "<class 'pandas.core.frame.DataFrame'>\n",
      "RangeIndex: 5404 entries, 0 to 5403\n",
      "Data columns (total 5 columns):\n",
      " #   Column  Non-Null Count  Dtype \n",
      "---  ------  --------------  ----- \n",
      " 0   Aa      5404 non-null   object\n",
      " 1   Ao      5404 non-null   object\n",
      " 2   Dcl     5404 non-null   object\n",
      " 3   Iy      5404 non-null   object\n",
      " 4   Sh      5404 non-null   object\n",
      "dtypes: object(5)\n",
      "memory usage: 211.2+ KB\n"
     ]
    }
   ],
   "source": [
    "data_cuantitativo = data[['Aa',\t'Ao',\t'Dcl',\t'Iy',\t'Sh']]\n",
    "data_cuantitativo.info()"
   ]
  },
  {
   "cell_type": "code",
   "execution_count": 12,
   "metadata": {
    "id": "k9sqzDstP-zT"
   },
   "outputs": [],
   "source": [
    "data_cuantitativo = data_cuantitativo.astype('float')"
   ]
  },
  {
   "cell_type": "code",
   "execution_count": 18,
   "metadata": {
    "colab": {
     "base_uri": "https://localhost:8080/",
     "height": 531
    },
    "id": "5kczbw1Oo_5B",
    "outputId": "1e4c6ab1-ef04-4a7a-c2ab-4e598b0b4f03"
   },
   "outputs": [
    {
     "name": "stderr",
     "output_type": "stream",
     "text": [
      "C:\\Users\\mdmgu\\AppData\\Local\\Programs\\Python\\Python39\\lib\\site-packages\\scipy\\stats\\_continuous_distns.py:684: RuntimeWarning: invalid value encountered in sqrt\n",
      "  sk = 2*(b-a)*np.sqrt(a + b + 1) / (a + b + 2) / np.sqrt(a*b)\n"
     ]
    },
    {
     "data": {
      "text/html": [
       "<div>\n",
       "<style scoped>\n",
       "    .dataframe tbody tr th:only-of-type {\n",
       "        vertical-align: middle;\n",
       "    }\n",
       "\n",
       "    .dataframe tbody tr th {\n",
       "        vertical-align: top;\n",
       "    }\n",
       "\n",
       "    .dataframe thead th {\n",
       "        text-align: right;\n",
       "    }\n",
       "</style>\n",
       "<table border=\"1\" class=\"dataframe\">\n",
       "  <thead>\n",
       "    <tr style=\"text-align: right;\">\n",
       "      <th></th>\n",
       "      <th>Aa</th>\n",
       "      <th>Ao</th>\n",
       "      <th>Dcl</th>\n",
       "      <th>Iy</th>\n",
       "      <th>Sh</th>\n",
       "    </tr>\n",
       "  </thead>\n",
       "  <tbody>\n",
       "    <tr>\n",
       "      <th>norm</th>\n",
       "      <td>0.000000</td>\n",
       "      <td>0.000000e+00</td>\n",
       "      <td>0.000000e+00</td>\n",
       "      <td>0.000000e+00</td>\n",
       "      <td>0.000000</td>\n",
       "    </tr>\n",
       "    <tr>\n",
       "      <th>expon</th>\n",
       "      <td>6.645623</td>\n",
       "      <td>1.444023e+01</td>\n",
       "      <td>1.036833e+01</td>\n",
       "      <td>1.202274e+01</td>\n",
       "      <td>11.784036</td>\n",
       "    </tr>\n",
       "    <tr>\n",
       "      <th>chi2</th>\n",
       "      <td>-9.406894</td>\n",
       "      <td>-6.164188e+02</td>\n",
       "      <td>-3.368741e+00</td>\n",
       "      <td>-1.662658e+01</td>\n",
       "      <td>-141.071509</td>\n",
       "    </tr>\n",
       "    <tr>\n",
       "      <th>t</th>\n",
       "      <td>-8.265916</td>\n",
       "      <td>-4.470318e+07</td>\n",
       "      <td>-4.421065e+07</td>\n",
       "      <td>-5.907278e+07</td>\n",
       "      <td>-16.687206</td>\n",
       "    </tr>\n",
       "    <tr>\n",
       "      <th>cauchy</th>\n",
       "      <td>2.666066</td>\n",
       "      <td>1.310502e+00</td>\n",
       "      <td>7.110385e-01</td>\n",
       "      <td>1.222781e+00</td>\n",
       "      <td>1.828293</td>\n",
       "    </tr>\n",
       "    <tr>\n",
       "      <th>beta</th>\n",
       "      <td>2.767698</td>\n",
       "      <td>-5.259789e+00</td>\n",
       "      <td>8.750459e-01</td>\n",
       "      <td>-1.202868e+01</td>\n",
       "      <td>-67.704356</td>\n",
       "    </tr>\n",
       "  </tbody>\n",
       "</table>\n",
       "</div>"
      ],
      "text/plain": [
       "              Aa            Ao           Dcl            Iy          Sh\n",
       "norm    0.000000  0.000000e+00  0.000000e+00  0.000000e+00    0.000000\n",
       "expon   6.645623  1.444023e+01  1.036833e+01  1.202274e+01   11.784036\n",
       "chi2   -9.406894 -6.164188e+02 -3.368741e+00 -1.662658e+01 -141.071509\n",
       "t      -8.265916 -4.470318e+07 -4.421065e+07 -5.907278e+07  -16.687206\n",
       "cauchy  2.666066  1.310502e+00  7.110385e-01  1.222781e+00    1.828293\n",
       "beta    2.767698 -5.259789e+00  8.750459e-01 -1.202868e+01  -67.704356"
      ]
     },
     "metadata": {},
     "output_type": "display_data"
    },
    {
     "name": "stdout",
     "output_type": "stream",
     "text": [
      "\n",
      "\n"
     ]
    },
    {
     "data": {
      "text/html": [
       "<div>\n",
       "<style scoped>\n",
       "    .dataframe tbody tr th:only-of-type {\n",
       "        vertical-align: middle;\n",
       "    }\n",
       "\n",
       "    .dataframe tbody tr th {\n",
       "        vertical-align: top;\n",
       "    }\n",
       "\n",
       "    .dataframe thead th {\n",
       "        text-align: right;\n",
       "    }\n",
       "</style>\n",
       "<table border=\"1\" class=\"dataframe\">\n",
       "  <thead>\n",
       "    <tr style=\"text-align: right;\">\n",
       "      <th></th>\n",
       "      <th>Aa</th>\n",
       "      <th>Ao</th>\n",
       "      <th>Dcl</th>\n",
       "      <th>Iy</th>\n",
       "      <th>Sh</th>\n",
       "    </tr>\n",
       "  </thead>\n",
       "  <tbody>\n",
       "    <tr>\n",
       "      <th>norm</th>\n",
       "      <td>1.000000e+00</td>\n",
       "      <td>1.000000e+00</td>\n",
       "      <td>1.000000e+00</td>\n",
       "      <td>1.000000e+00</td>\n",
       "      <td>1.000000e+00</td>\n",
       "    </tr>\n",
       "    <tr>\n",
       "      <th>expon</th>\n",
       "      <td>2.349117e-08</td>\n",
       "      <td>2.775935e-19</td>\n",
       "      <td>5.976180e-14</td>\n",
       "      <td>3.153221e-16</td>\n",
       "      <td>6.576005e-16</td>\n",
       "    </tr>\n",
       "    <tr>\n",
       "      <th>chi2</th>\n",
       "      <td>1.471988e-12</td>\n",
       "      <td>5.743385e-97</td>\n",
       "      <td>1.478203e-03</td>\n",
       "      <td>8.764522e-22</td>\n",
       "      <td>1.306927e-65</td>\n",
       "    </tr>\n",
       "    <tr>\n",
       "      <th>t</th>\n",
       "      <td>7.513087e-11</td>\n",
       "      <td>0.000000e+00</td>\n",
       "      <td>0.000000e+00</td>\n",
       "      <td>0.000000e+00</td>\n",
       "      <td>7.527854e-22</td>\n",
       "    </tr>\n",
       "    <tr>\n",
       "      <th>cauchy</th>\n",
       "      <td>1.036681e-02</td>\n",
       "      <td>1.961356e-01</td>\n",
       "      <td>4.804315e-01</td>\n",
       "      <td>2.272612e-01</td>\n",
       "      <td>7.359643e-02</td>\n",
       "    </tr>\n",
       "    <tr>\n",
       "      <th>beta</th>\n",
       "      <td>7.944607e-03</td>\n",
       "      <td>3.155618e-06</td>\n",
       "      <td>3.858181e-01</td>\n",
       "      <td>3.096324e-16</td>\n",
       "      <td>4.500886e-50</td>\n",
       "    </tr>\n",
       "  </tbody>\n",
       "</table>\n",
       "</div>"
      ],
      "text/plain": [
       "                  Aa            Ao           Dcl            Iy            Sh\n",
       "norm    1.000000e+00  1.000000e+00  1.000000e+00  1.000000e+00  1.000000e+00\n",
       "expon   2.349117e-08  2.775935e-19  5.976180e-14  3.153221e-16  6.576005e-16\n",
       "chi2    1.471988e-12  5.743385e-97  1.478203e-03  8.764522e-22  1.306927e-65\n",
       "t       7.513087e-11  0.000000e+00  0.000000e+00  0.000000e+00  7.527854e-22\n",
       "cauchy  1.036681e-02  1.961356e-01  4.804315e-01  2.272612e-01  7.359643e-02\n",
       "beta    7.944607e-03  3.155618e-06  3.858181e-01  3.096324e-16  4.500886e-50"
      ]
     },
     "metadata": {},
     "output_type": "display_data"
    }
   ],
   "source": [
    "t_test = []\n",
    "valor_p = []\n",
    "Caracteristicas = data_cuantitativo.columns\n",
    "nombres = ['norm', 'expon', 'chi2', 't', 'cauchy', 'beta'] \n",
    "Data_muestra = data_cuantitativo[: 50] # 50 Muestras\n",
    "\n",
    "# cauchy = distribución de densidad de probabilidad Cauchy\n",
    "# chi2 = distribución de densidad de probabilidad chi - cuadrada\n",
    "# expon = función de densidad de probabilidad exponencial\n",
    "# norm = función de densidad de probabilidad normal\n",
    "# beta = función de densidad de probabilidad beta \n",
    "\n",
    "for distribuciones in nombres:\n",
    "    dis = getattr(scipy.stats, distribuciones)\n",
    "    for n in Caracteristicas:\n",
    "        A = np.asarray(Data_muestra[n])\n",
    "        par = dis.fit(A)\n",
    "        if distribuciones == 'norm' or 'expon' or 'cauchy':\n",
    "            media = par[0]\n",
    "        elif distribuciones == 'chi2' or 't':\n",
    "            media = par[1]\n",
    "        elif distribuciones == 'beta':\n",
    "            media = par[2]\n",
    "        valor_t_test, p_value = ttest_1samp(Data_muestra[n], media, alternative='two-sided') # test _t de 1 muestra poblacional\n",
    "        valor_p.append(p_value)\n",
    "        t_test.append(valor_t_test)\n",
    "\n",
    "valor_p = np.asarray(valor_p)\n",
    "valor_p = valor_p.reshape(len(nombres), len(Caracteristicas))\n",
    "t_test = np.asarray(t_test)\n",
    "t_test = t_test.reshape(len(nombres), len(Caracteristicas))\n",
    "\n",
    "t_test = pd.DataFrame(t_test, index=nombres, columns=Caracteristicas)\n",
    "valor_p = pd.DataFrame(valor_p, index=nombres, columns=Caracteristicas)\n",
    "\n",
    "display(t_test)\n",
    "print('\\n')\n",
    "display(valor_p)"
   ]
  },
  {
   "cell_type": "markdown",
   "metadata": {
    "id": "k5FDUjqniI1E"
   },
   "source": [
    "*Nota*: en el test t de una muestra, hay una opción llamada `alternative`. Se puede trabajar de tres formas de acuerdo a la hipótesis nula y alternativa:\n",
    "\n",
    "*   Si `alternative = 'two-sided'`, entonces se quiere demostrar la diferencia del valor de hipótesis nula (la opción que estamos analizando)\n",
    "*   Si `alternative = 'greater'`, entonces se quiere demostrar que la media muestral de los datos es mayor que una media dada de la población $\\mu_1 > \\mu_2$\n",
    "*   Si `alternative = 'lower'`, entonces se quiere demostrar que la media muestral de los datos es menor que una media dada de la población $\\mu_1 < \\mu_2$"
   ]
  },
  {
   "cell_type": "markdown",
   "metadata": {
    "id": "p_EKITLxSUAU"
   },
   "source": [
    "Observen que el test t con una selección de las primeras 50 muestras nos indica que el valor $p$ esta por encima de 0.05 para el caso de la distribución normal. Por consiguiente, no rechazamos la hipótesis nula de la prueba debido a que no tenemos pruebas suficientes para afirmar que la media conocida de los datos y la media calculada por una determinada distribución de densidad de probabilidad sean diferentes. Por consiguiente, las 5 características o variables siguen una distribución normal."
   ]
  },
  {
   "cell_type": "code",
   "execution_count": 19,
   "metadata": {
    "colab": {
     "base_uri": "https://localhost:8080/",
     "height": 112
    },
    "id": "X-cMpgKuU0gF",
    "outputId": "1cdcec1c-d8d0-4f86-f63f-d678a973c443"
   },
   "outputs": [
    {
     "data": {
      "text/html": [
       "<div>\n",
       "<style scoped>\n",
       "    .dataframe tbody tr th:only-of-type {\n",
       "        vertical-align: middle;\n",
       "    }\n",
       "\n",
       "    .dataframe tbody tr th {\n",
       "        vertical-align: top;\n",
       "    }\n",
       "\n",
       "    .dataframe thead th {\n",
       "        text-align: right;\n",
       "    }\n",
       "</style>\n",
       "<table border=\"1\" class=\"dataframe\">\n",
       "  <thead>\n",
       "    <tr style=\"text-align: right;\">\n",
       "      <th></th>\n",
       "      <th>Aa</th>\n",
       "      <th>Ao</th>\n",
       "      <th>Dcl</th>\n",
       "      <th>Iy</th>\n",
       "      <th>Sh</th>\n",
       "    </tr>\n",
       "  </thead>\n",
       "  <tbody>\n",
       "    <tr>\n",
       "      <th>0</th>\n",
       "      <td>0.818957</td>\n",
       "      <td>1.258802</td>\n",
       "      <td>0.764732</td>\n",
       "      <td>0.398743</td>\n",
       "      <td>0.078619</td>\n",
       "    </tr>\n",
       "    <tr>\n",
       "      <th>1</th>\n",
       "      <td>0.858654</td>\n",
       "      <td>0.850979</td>\n",
       "      <td>0.925351</td>\n",
       "      <td>0.796457</td>\n",
       "      <td>0.575571</td>\n",
       "    </tr>\n",
       "  </tbody>\n",
       "</table>\n",
       "</div>"
      ],
      "text/plain": [
       "         Aa        Ao       Dcl        Iy        Sh\n",
       "0  0.818957  1.258802  0.764732  0.398743  0.078619\n",
       "1  0.858654  0.850979  0.925351  0.796457  0.575571"
      ]
     },
     "execution_count": 19,
     "metadata": {},
     "output_type": "execute_result"
    }
   ],
   "source": [
    "from scipy.stats import norm # distribución de densidad de probabilidad normal\n",
    "\n",
    "par_Aa, par_Ao, par_Dc1, par_Iy, par_Sh  = [\n",
    "    norm.fit(data_cuantitativo['Aa']), \n",
    "    norm.fit(data_cuantitativo['Ao']), \n",
    "    norm.fit(data_cuantitativo['Dcl']),\n",
    "    norm.fit(data_cuantitativo['Iy']), \n",
    "    norm.fit(data_cuantitativo['Sh'])\n",
    "]\n",
    "\n",
    "par = [par_Aa, par_Ao, par_Dc1, par_Iy, par_Sh]\n",
    "par = pd.DataFrame(np.asarray(par).T, columns=Caracteristicas)\n",
    "par\n",
    "# A partir de los datos, calculamos los parámetros de ajuste de la distribución usando la Estimación de la Máxima Verosimilitud (MLE)"
   ]
  },
  {
   "cell_type": "code",
   "execution_count": 20,
   "metadata": {
    "colab": {
     "base_uri": "https://localhost:8080/"
    },
    "id": "LPG_oIsLZJOT",
    "outputId": "b98aba47-77fd-4bc5-ff35-e94241903342"
   },
   "outputs": [
    {
     "data": {
      "text/plain": [
       "0.5755709556653462"
      ]
     },
     "execution_count": 20,
     "metadata": {},
     "output_type": "execute_result"
    }
   ],
   "source": [
    "parametro = par[n].values\n",
    "parametro[1]"
   ]
  },
  {
   "cell_type": "code",
   "execution_count": 24,
   "metadata": {
    "colab": {
     "base_uri": "https://localhost:8080/",
     "height": 1000
    },
    "id": "1UimjNE4WuZm",
    "outputId": "ec83fbcb-ac76-4413-bef7-b678d3b79ff9"
   },
   "outputs": [
    {
     "data": {
      "image/png": "[encoded data removed]",
      "text/plain": [
       "<Figure size 1440x720 with 1 Axes>"
      ]
     },
     "metadata": {
      "needs_background": "light"
     },
     "output_type": "display_data"
    },
    {
     "data": {
      "image/png": "[encoded data removed]",
      "text/plain": [
       "<Figure size 1440x720 with 1 Axes>"
      ]
     },
     "metadata": {
      "needs_background": "light"
     },
     "output_type": "display_data"
    },
    {
     "data": {
      "image/png": "[encoded data removed]",
      "text/plain": [
       "<Figure size 1440x720 with 1 Axes>"
      ]
     },
     "metadata": {
      "needs_background": "light"
     },
     "output_type": "display_data"
    },
    {
     "data": {
      "image/png": "[encoded data removed]",
      "text/plain": [
       "<Figure size 1440x720 with 1 Axes>"
      ]
     },
     "metadata": {
      "needs_background": "light"
     },
     "output_type": "display_data"
    },
    {
     "data": {
      "image/png": "[encoded data removed]",
      "text/plain": [
       "<Figure size 1440x720 with 1 Axes>"
      ]
     },
     "metadata": {
      "needs_background": "light"
     },
     "output_type": "display_data"
    }
   ],
   "source": [
    "k = 0\n",
    "\n",
    "for n in Caracteristicas:\n",
    "    x_minimo = np.min(data_cuantitativo[n].values)\n",
    "    x_maximo = np.max(data_cuantitativo[n].values)\n",
    "    x = np.linspace(x_minimo, x_maximo, data_cuantitativo[n].shape[0]) \n",
    "    # Generamos un arreglo de valores para construir la función de densidad de probabilidad normal\n",
    "    parametro = par[n].values\n",
    "    norm_dist = norm.pdf(x, loc = parametro[0], scale = parametro[1])\n",
    "    fig = plt.figure(figsize=(20, 10))\n",
    "    ax = fig.add_subplot(1, data_cuantitativo.shape[1], k + 1)\n",
    "    plt.hist(data_cuantitativo[n], density=True, bins = 'fd', alpha=0.7)\n",
    "    plt.plot(x, norm_dist, 'm-', lw = 5, alpha = 0.6)\n",
    "    plt.xlabel('Valores')\n",
    "    plt.ylabel('$f(x)$')"
   ]
  },
  {
   "cell_type": "markdown",
   "metadata": {
    "id": "MRag3i9LbX5m"
   },
   "source": [
    "Otro ejemplo de análisis con el test t de una sola muestra:\n",
    "\n",
    "Considerando la variable *Sh* o She, esta variable representa la intensidad de la voz de una mujer cuando repite la palabra She. Queremos determinar si la intensidad de la voz tiene una media igual a 0.01 para una muestra de 50 medidas de la voz. A partir de lo anterior, vamos a considerar dos hipótesis:\n",
    "\n",
    "H0: µ = 15 (the mean height for this species of plant is 15 inches)\n",
    "\n",
    "*   $H_0$: $\\mu = 0.01$ significa que la media de la intensidad de la voz de la mujer es igual a 0.01\n",
    "*   $H_A$: $\\mu \\neq 0.01$ significa que la media de la intensidad de la voz de la mujer **no es igual** a 0.01\n"
   ]
  },
  {
   "cell_type": "code",
   "execution_count": 25,
   "metadata": {
    "colab": {
     "base_uri": "https://localhost:8080/"
    },
    "id": "RNOX8-ardrFi",
    "outputId": "911346ef-734d-41ba-9c6b-524a4f58ea9f"
   },
   "outputs": [
    {
     "name": "stdout",
     "output_type": "stream",
     "text": [
      "Valor del test t =  0.2917173106451872\n",
      "Valor p del test t =  0.7717342492897488\n"
     ]
    }
   ],
   "source": [
    "Muestra = Data_muestra['Sh']\n",
    "media_pop = 0.01\n",
    "valor_T, p_value = ttest_1samp(Muestra, media_pop)\n",
    "print(\"Valor del test t = \", valor_T)\n",
    "print(\"Valor p del test t = \", p_value)"
   ]
  },
  {
   "cell_type": "markdown",
   "metadata": {
    "id": "rJ4y_HZAeZH9"
   },
   "source": [
    "Debido a que el $\\rho$-value de 0.77173 es mayor a $\\alpha = 0.05$, no se rechaza la hipótesis nula y por consiguiente, no hay suficiente evidencia para afirmar que la media de la intensidad de la voz de la mujer es diferente a 0.01. Esto quiere decir que la media de la muestra de los datos es igual a 0.01"
   ]
  },
  {
   "cell_type": "markdown",
   "metadata": {
    "id": "qRnxAFvqj-z8"
   },
   "source": [
    "### Test-T para muestras independientes"
   ]
  },
  {
   "cell_type": "markdown",
   "metadata": {
    "id": "f6SxVOFVkNnY"
   },
   "source": [
    "Hasta el momento, solo se ha analizado con una sola variable pero qué sucede si tenemos dos muestras independientes?. Para resolver esta inquietud, se establece el **test t de dos muestras o muestras independientes**. El proposito de ese test es determinar si las medias de las poblaciones de las que se extrajeron las muestras son iguales. Para este caso, se supone que las dos muestras no están relacionados entre sí y que han sido seleccionados independientemente de sus poblaciones. Además, suponemos que las poblaciones de las que se seleccionaron las muestras tienen una distribución normal o Gaussiana, al menos que las muestras sean suficientemente grandes para invocar el teorema del límite central, y que las poblaciones tienen una varianza aproximadamente igual. \n",
    "\n",
    "Basado en el anterior enfoque del test t, se determina que:\n",
    "\n",
    "$$t = \\frac{(\\bar{x_1}-\\bar{x_2}) - (\\mu_1 - \\mu_2)}{\\sqrt{s_p^2 \\left( \\frac{1}{N_1}+\\frac{1}{N_2} \\right)}}$$\n",
    "\n",
    "donde:\n",
    "\n",
    "$$s_p^2 = \\frac{(n_1 - 1)s_1^2 + (n_1 - 1)s_2^2}{N_1 + N_2 - 2}$$\n",
    "\n",
    "siendo $\\bar{x_1}$ y $\\bar{x_2}$ dos medias de dos muestras independientes, $\\mu_1$ y $\\mu_2$ son las medias de dos poblaciones, $s_p^2$ es la varianza acumulada, $s_1^2$ y $s_2^2$ son las varianzas de dos muestras y $N_1$ y $N_2$ son dos tamaños de dos muestras.\n",
    "\n",
    "Con la anterior explicación, vamos a utilizar los datos de la variable `Class` para determinar inicialmente si sigue o no una distribución normal:"
   ]
  },
  {
   "cell_type": "markdown",
   "metadata": {
    "id": "pDpH-zQZ6cPS"
   },
   "source": [
    "\n",
    "*   $H_0$: No hay diferencia entre las medias poblacionales, $\\mu_{Class: No} = \\mu_{Class: Yes}$\n",
    "*   $H_1$: Si hay diferencia entre las medias poblacionales, $\\mu_{Class: No} \\neq \\mu_{Class: Yes}$"
   ]
  },
  {
   "cell_type": "code",
   "execution_count": 26,
   "metadata": {
    "colab": {
     "base_uri": "https://localhost:8080/"
    },
    "id": "1mRRek4jpJ1k",
    "outputId": "c66dc10c-6284-446f-dd2c-539110a7288d"
   },
   "outputs": [
    {
     "name": "stdout",
     "output_type": "stream",
     "text": [
      "<class 'pandas.core.frame.DataFrame'>\n",
      "RangeIndex: 5404 entries, 0 to 5403\n",
      "Data columns (total 6 columns):\n",
      " #   Column  Non-Null Count  Dtype  \n",
      "---  ------  --------------  -----  \n",
      " 0   Aa      5404 non-null   float64\n",
      " 1   Ao      5404 non-null   float64\n",
      " 2   Dcl     5404 non-null   float64\n",
      " 3   Iy      5404 non-null   float64\n",
      " 4   Sh      5404 non-null   float64\n",
      " 5   Class   5404 non-null   object \n",
      "dtypes: float64(5), object(1)\n",
      "memory usage: 253.4+ KB\n"
     ]
    }
   ],
   "source": [
    "data_nuevo = pd.concat([data_cuantitativo, data['Class']], axis = 1)\n",
    "data_nuevo.info()"
   ]
  },
  {
   "cell_type": "code",
   "execution_count": 27,
   "metadata": {
    "colab": {
     "base_uri": "https://localhost:8080/"
    },
    "id": "oxCpd8ym2sjb",
    "outputId": "84a659ae-eb83-4f26-d195-deef9c786d7d"
   },
   "outputs": [
    {
     "data": {
      "text/plain": [
       "Class\n",
       "No     3818\n",
       "Yes    1586\n",
       "dtype: int64"
      ]
     },
     "execution_count": 27,
     "metadata": {},
     "output_type": "execute_result"
    }
   ],
   "source": [
    "data_nuevo.groupby('Class').size()"
   ]
  },
  {
   "cell_type": "code",
   "execution_count": 28,
   "metadata": {
    "colab": {
     "base_uri": "https://localhost:8080/",
     "height": 143
    },
    "id": "2-DypWOpn0Sd",
    "outputId": "9a97ae59-c880-404d-efd5-feabe8674c37"
   },
   "outputs": [
    {
     "data": {
      "text/html": [
       "<div>\n",
       "<style scoped>\n",
       "    .dataframe tbody tr th:only-of-type {\n",
       "        vertical-align: middle;\n",
       "    }\n",
       "\n",
       "    .dataframe tbody tr th {\n",
       "        vertical-align: top;\n",
       "    }\n",
       "\n",
       "    .dataframe thead th {\n",
       "        text-align: right;\n",
       "    }\n",
       "</style>\n",
       "<table border=\"1\" class=\"dataframe\">\n",
       "  <thead>\n",
       "    <tr style=\"text-align: right;\">\n",
       "      <th></th>\n",
       "      <th>W</th>\n",
       "      <th>pval</th>\n",
       "      <th>normal</th>\n",
       "    </tr>\n",
       "    <tr>\n",
       "      <th>Class</th>\n",
       "      <th></th>\n",
       "      <th></th>\n",
       "      <th></th>\n",
       "    </tr>\n",
       "  </thead>\n",
       "  <tbody>\n",
       "    <tr>\n",
       "      <th>No</th>\n",
       "      <td>0.860836</td>\n",
       "      <td>0.000000e+00</td>\n",
       "      <td>False</td>\n",
       "    </tr>\n",
       "    <tr>\n",
       "      <th>Yes</th>\n",
       "      <td>0.930665</td>\n",
       "      <td>1.699995e-26</td>\n",
       "      <td>False</td>\n",
       "    </tr>\n",
       "  </tbody>\n",
       "</table>\n",
       "</div>"
      ],
      "text/plain": [
       "              W          pval  normal\n",
       "Class                                \n",
       "No     0.860836  0.000000e+00   False\n",
       "Yes    0.930665  1.699995e-26   False"
      ]
     },
     "execution_count": 28,
     "metadata": {},
     "output_type": "execute_result"
    }
   ],
   "source": [
    "pg.normality(data = data_nuevo, dv='Aa', group='Class')"
   ]
  },
  {
   "cell_type": "code",
   "execution_count": 29,
   "metadata": {
    "colab": {
     "base_uri": "https://localhost:8080/",
     "height": 143
    },
    "id": "tJzGS6bxp9tT",
    "outputId": "fc7cb4da-0f5b-4c87-c6bc-91f8be8a2705"
   },
   "outputs": [
    {
     "data": {
      "text/html": [
       "<div>\n",
       "<style scoped>\n",
       "    .dataframe tbody tr th:only-of-type {\n",
       "        vertical-align: middle;\n",
       "    }\n",
       "\n",
       "    .dataframe tbody tr th {\n",
       "        vertical-align: top;\n",
       "    }\n",
       "\n",
       "    .dataframe thead th {\n",
       "        text-align: right;\n",
       "    }\n",
       "</style>\n",
       "<table border=\"1\" class=\"dataframe\">\n",
       "  <thead>\n",
       "    <tr style=\"text-align: right;\">\n",
       "      <th></th>\n",
       "      <th>W</th>\n",
       "      <th>pval</th>\n",
       "      <th>normal</th>\n",
       "    </tr>\n",
       "    <tr>\n",
       "      <th>Class</th>\n",
       "      <th></th>\n",
       "      <th></th>\n",
       "      <th></th>\n",
       "    </tr>\n",
       "  </thead>\n",
       "  <tbody>\n",
       "    <tr>\n",
       "      <th>No</th>\n",
       "      <td>0.982307</td>\n",
       "      <td>1.869817e-21</td>\n",
       "      <td>False</td>\n",
       "    </tr>\n",
       "    <tr>\n",
       "      <th>Yes</th>\n",
       "      <td>0.874562</td>\n",
       "      <td>6.514833e-34</td>\n",
       "      <td>False</td>\n",
       "    </tr>\n",
       "  </tbody>\n",
       "</table>\n",
       "</div>"
      ],
      "text/plain": [
       "              W          pval  normal\n",
       "Class                                \n",
       "No     0.982307  1.869817e-21   False\n",
       "Yes    0.874562  6.514833e-34   False"
      ]
     },
     "execution_count": 29,
     "metadata": {},
     "output_type": "execute_result"
    }
   ],
   "source": [
    "pg.normality(data = data_nuevo, dv='Ao', group='Class')"
   ]
  },
  {
   "cell_type": "code",
   "execution_count": 30,
   "metadata": {
    "colab": {
     "base_uri": "https://localhost:8080/",
     "height": 143
    },
    "id": "0imXmvTIqDw6",
    "outputId": "2908dfba-e80c-4a02-9763-00425f24a0c7"
   },
   "outputs": [
    {
     "data": {
      "text/html": [
       "<div>\n",
       "<style scoped>\n",
       "    .dataframe tbody tr th:only-of-type {\n",
       "        vertical-align: middle;\n",
       "    }\n",
       "\n",
       "    .dataframe tbody tr th {\n",
       "        vertical-align: top;\n",
       "    }\n",
       "\n",
       "    .dataframe thead th {\n",
       "        text-align: right;\n",
       "    }\n",
       "</style>\n",
       "<table border=\"1\" class=\"dataframe\">\n",
       "  <thead>\n",
       "    <tr style=\"text-align: right;\">\n",
       "      <th></th>\n",
       "      <th>W</th>\n",
       "      <th>pval</th>\n",
       "      <th>normal</th>\n",
       "    </tr>\n",
       "    <tr>\n",
       "      <th>Class</th>\n",
       "      <th></th>\n",
       "      <th></th>\n",
       "      <th></th>\n",
       "    </tr>\n",
       "  </thead>\n",
       "  <tbody>\n",
       "    <tr>\n",
       "      <th>No</th>\n",
       "      <td>0.942722</td>\n",
       "      <td>3.940932e-36</td>\n",
       "      <td>False</td>\n",
       "    </tr>\n",
       "    <tr>\n",
       "      <th>Yes</th>\n",
       "      <td>0.974421</td>\n",
       "      <td>3.431056e-16</td>\n",
       "      <td>False</td>\n",
       "    </tr>\n",
       "  </tbody>\n",
       "</table>\n",
       "</div>"
      ],
      "text/plain": [
       "              W          pval  normal\n",
       "Class                                \n",
       "No     0.942722  3.940932e-36   False\n",
       "Yes    0.974421  3.431056e-16   False"
      ]
     },
     "execution_count": 30,
     "metadata": {},
     "output_type": "execute_result"
    }
   ],
   "source": [
    "pg.normality(data = data_nuevo, dv='Dcl', group='Class')"
   ]
  },
  {
   "cell_type": "code",
   "execution_count": 31,
   "metadata": {
    "colab": {
     "base_uri": "https://localhost:8080/",
     "height": 143
    },
    "id": "gWges_cTqIv2",
    "outputId": "9f12b837-3df5-439d-f443-c063757f8328"
   },
   "outputs": [
    {
     "data": {
      "text/html": [
       "<div>\n",
       "<style scoped>\n",
       "    .dataframe tbody tr th:only-of-type {\n",
       "        vertical-align: middle;\n",
       "    }\n",
       "\n",
       "    .dataframe tbody tr th {\n",
       "        vertical-align: top;\n",
       "    }\n",
       "\n",
       "    .dataframe thead th {\n",
       "        text-align: right;\n",
       "    }\n",
       "</style>\n",
       "<table border=\"1\" class=\"dataframe\">\n",
       "  <thead>\n",
       "    <tr style=\"text-align: right;\">\n",
       "      <th></th>\n",
       "      <th>W</th>\n",
       "      <th>pval</th>\n",
       "      <th>normal</th>\n",
       "    </tr>\n",
       "    <tr>\n",
       "      <th>Class</th>\n",
       "      <th></th>\n",
       "      <th></th>\n",
       "      <th></th>\n",
       "    </tr>\n",
       "  </thead>\n",
       "  <tbody>\n",
       "    <tr>\n",
       "      <th>No</th>\n",
       "      <td>0.942222</td>\n",
       "      <td>2.965070e-36</td>\n",
       "      <td>False</td>\n",
       "    </tr>\n",
       "    <tr>\n",
       "      <th>Yes</th>\n",
       "      <td>0.943520</td>\n",
       "      <td>3.730205e-24</td>\n",
       "      <td>False</td>\n",
       "    </tr>\n",
       "  </tbody>\n",
       "</table>\n",
       "</div>"
      ],
      "text/plain": [
       "              W          pval  normal\n",
       "Class                                \n",
       "No     0.942222  2.965070e-36   False\n",
       "Yes    0.943520  3.730205e-24   False"
      ]
     },
     "execution_count": 31,
     "metadata": {},
     "output_type": "execute_result"
    }
   ],
   "source": [
    "pg.normality(data = data_nuevo, dv='Iy', group='Class')"
   ]
  },
  {
   "cell_type": "code",
   "execution_count": 32,
   "metadata": {
    "colab": {
     "base_uri": "https://localhost:8080/",
     "height": 143
    },
    "id": "Sfg3UxTOqN9K",
    "outputId": "f23e1821-d549-42b1-c91e-e4a04d1422fb"
   },
   "outputs": [
    {
     "data": {
      "text/html": [
       "<div>\n",
       "<style scoped>\n",
       "    .dataframe tbody tr th:only-of-type {\n",
       "        vertical-align: middle;\n",
       "    }\n",
       "\n",
       "    .dataframe tbody tr th {\n",
       "        vertical-align: top;\n",
       "    }\n",
       "\n",
       "    .dataframe thead th {\n",
       "        text-align: right;\n",
       "    }\n",
       "</style>\n",
       "<table border=\"1\" class=\"dataframe\">\n",
       "  <thead>\n",
       "    <tr style=\"text-align: right;\">\n",
       "      <th></th>\n",
       "      <th>W</th>\n",
       "      <th>pval</th>\n",
       "      <th>normal</th>\n",
       "    </tr>\n",
       "    <tr>\n",
       "      <th>Class</th>\n",
       "      <th></th>\n",
       "      <th></th>\n",
       "      <th></th>\n",
       "    </tr>\n",
       "  </thead>\n",
       "  <tbody>\n",
       "    <tr>\n",
       "      <th>No</th>\n",
       "      <td>0.835144</td>\n",
       "      <td>0.000000e+00</td>\n",
       "      <td>False</td>\n",
       "    </tr>\n",
       "    <tr>\n",
       "      <th>Yes</th>\n",
       "      <td>0.949034</td>\n",
       "      <td>5.026160e-23</td>\n",
       "      <td>False</td>\n",
       "    </tr>\n",
       "  </tbody>\n",
       "</table>\n",
       "</div>"
      ],
      "text/plain": [
       "              W          pval  normal\n",
       "Class                                \n",
       "No     0.835144  0.000000e+00   False\n",
       "Yes    0.949034  5.026160e-23   False"
      ]
     },
     "execution_count": 32,
     "metadata": {},
     "output_type": "execute_result"
    }
   ],
   "source": [
    "pg.normality(data = data_nuevo, dv='Sh', group='Class')"
   ]
  },
  {
   "cell_type": "code",
   "execution_count": 38,
   "metadata": {},
   "outputs": [
    {
     "data": {
      "text/html": [
       "<div>\n",
       "<style scoped>\n",
       "    .dataframe tbody tr th:only-of-type {\n",
       "        vertical-align: middle;\n",
       "    }\n",
       "\n",
       "    .dataframe tbody tr th {\n",
       "        vertical-align: top;\n",
       "    }\n",
       "\n",
       "    .dataframe thead th {\n",
       "        text-align: right;\n",
       "    }\n",
       "</style>\n",
       "<table border=\"1\" class=\"dataframe\">\n",
       "  <thead>\n",
       "    <tr style=\"text-align: right;\">\n",
       "      <th></th>\n",
       "      <th>W</th>\n",
       "      <th>pval</th>\n",
       "      <th>normal</th>\n",
       "    </tr>\n",
       "    <tr>\n",
       "      <th>Class</th>\n",
       "      <th></th>\n",
       "      <th></th>\n",
       "      <th></th>\n",
       "    </tr>\n",
       "  </thead>\n",
       "  <tbody>\n",
       "    <tr>\n",
       "      <th>No</th>\n",
       "      <td>0.860836</td>\n",
       "      <td>0.000000e+00</td>\n",
       "      <td>False</td>\n",
       "    </tr>\n",
       "    <tr>\n",
       "      <th>Yes</th>\n",
       "      <td>0.930665</td>\n",
       "      <td>1.699995e-26</td>\n",
       "      <td>False</td>\n",
       "    </tr>\n",
       "  </tbody>\n",
       "</table>\n",
       "</div>"
      ],
      "text/plain": [
       "              W          pval  normal\n",
       "Class                                \n",
       "No     0.860836  0.000000e+00   False\n",
       "Yes    0.930665  1.699995e-26   False"
      ]
     },
     "metadata": {},
     "output_type": "display_data"
    },
    {
     "data": {
      "text/html": [
       "<div>\n",
       "<style scoped>\n",
       "    .dataframe tbody tr th:only-of-type {\n",
       "        vertical-align: middle;\n",
       "    }\n",
       "\n",
       "    .dataframe tbody tr th {\n",
       "        vertical-align: top;\n",
       "    }\n",
       "\n",
       "    .dataframe thead th {\n",
       "        text-align: right;\n",
       "    }\n",
       "</style>\n",
       "<table border=\"1\" class=\"dataframe\">\n",
       "  <thead>\n",
       "    <tr style=\"text-align: right;\">\n",
       "      <th></th>\n",
       "      <th>W</th>\n",
       "      <th>pval</th>\n",
       "      <th>normal</th>\n",
       "    </tr>\n",
       "    <tr>\n",
       "      <th>Class</th>\n",
       "      <th></th>\n",
       "      <th></th>\n",
       "      <th></th>\n",
       "    </tr>\n",
       "  </thead>\n",
       "  <tbody>\n",
       "    <tr>\n",
       "      <th>No</th>\n",
       "      <td>0.982307</td>\n",
       "      <td>1.869817e-21</td>\n",
       "      <td>False</td>\n",
       "    </tr>\n",
       "    <tr>\n",
       "      <th>Yes</th>\n",
       "      <td>0.874562</td>\n",
       "      <td>6.514833e-34</td>\n",
       "      <td>False</td>\n",
       "    </tr>\n",
       "  </tbody>\n",
       "</table>\n",
       "</div>"
      ],
      "text/plain": [
       "              W          pval  normal\n",
       "Class                                \n",
       "No     0.982307  1.869817e-21   False\n",
       "Yes    0.874562  6.514833e-34   False"
      ]
     },
     "metadata": {},
     "output_type": "display_data"
    },
    {
     "data": {
      "text/html": [
       "<div>\n",
       "<style scoped>\n",
       "    .dataframe tbody tr th:only-of-type {\n",
       "        vertical-align: middle;\n",
       "    }\n",
       "\n",
       "    .dataframe tbody tr th {\n",
       "        vertical-align: top;\n",
       "    }\n",
       "\n",
       "    .dataframe thead th {\n",
       "        text-align: right;\n",
       "    }\n",
       "</style>\n",
       "<table border=\"1\" class=\"dataframe\">\n",
       "  <thead>\n",
       "    <tr style=\"text-align: right;\">\n",
       "      <th></th>\n",
       "      <th>W</th>\n",
       "      <th>pval</th>\n",
       "      <th>normal</th>\n",
       "    </tr>\n",
       "    <tr>\n",
       "      <th>Class</th>\n",
       "      <th></th>\n",
       "      <th></th>\n",
       "      <th></th>\n",
       "    </tr>\n",
       "  </thead>\n",
       "  <tbody>\n",
       "    <tr>\n",
       "      <th>No</th>\n",
       "      <td>0.942722</td>\n",
       "      <td>3.940932e-36</td>\n",
       "      <td>False</td>\n",
       "    </tr>\n",
       "    <tr>\n",
       "      <th>Yes</th>\n",
       "      <td>0.974421</td>\n",
       "      <td>3.431056e-16</td>\n",
       "      <td>False</td>\n",
       "    </tr>\n",
       "  </tbody>\n",
       "</table>\n",
       "</div>"
      ],
      "text/plain": [
       "              W          pval  normal\n",
       "Class                                \n",
       "No     0.942722  3.940932e-36   False\n",
       "Yes    0.974421  3.431056e-16   False"
      ]
     },
     "metadata": {},
     "output_type": "display_data"
    },
    {
     "data": {
      "text/html": [
       "<div>\n",
       "<style scoped>\n",
       "    .dataframe tbody tr th:only-of-type {\n",
       "        vertical-align: middle;\n",
       "    }\n",
       "\n",
       "    .dataframe tbody tr th {\n",
       "        vertical-align: top;\n",
       "    }\n",
       "\n",
       "    .dataframe thead th {\n",
       "        text-align: right;\n",
       "    }\n",
       "</style>\n",
       "<table border=\"1\" class=\"dataframe\">\n",
       "  <thead>\n",
       "    <tr style=\"text-align: right;\">\n",
       "      <th></th>\n",
       "      <th>W</th>\n",
       "      <th>pval</th>\n",
       "      <th>normal</th>\n",
       "    </tr>\n",
       "    <tr>\n",
       "      <th>Class</th>\n",
       "      <th></th>\n",
       "      <th></th>\n",
       "      <th></th>\n",
       "    </tr>\n",
       "  </thead>\n",
       "  <tbody>\n",
       "    <tr>\n",
       "      <th>No</th>\n",
       "      <td>0.942222</td>\n",
       "      <td>2.965070e-36</td>\n",
       "      <td>False</td>\n",
       "    </tr>\n",
       "    <tr>\n",
       "      <th>Yes</th>\n",
       "      <td>0.943520</td>\n",
       "      <td>3.730205e-24</td>\n",
       "      <td>False</td>\n",
       "    </tr>\n",
       "  </tbody>\n",
       "</table>\n",
       "</div>"
      ],
      "text/plain": [
       "              W          pval  normal\n",
       "Class                                \n",
       "No     0.942222  2.965070e-36   False\n",
       "Yes    0.943520  3.730205e-24   False"
      ]
     },
     "metadata": {},
     "output_type": "display_data"
    },
    {
     "data": {
      "text/html": [
       "<div>\n",
       "<style scoped>\n",
       "    .dataframe tbody tr th:only-of-type {\n",
       "        vertical-align: middle;\n",
       "    }\n",
       "\n",
       "    .dataframe tbody tr th {\n",
       "        vertical-align: top;\n",
       "    }\n",
       "\n",
       "    .dataframe thead th {\n",
       "        text-align: right;\n",
       "    }\n",
       "</style>\n",
       "<table border=\"1\" class=\"dataframe\">\n",
       "  <thead>\n",
       "    <tr style=\"text-align: right;\">\n",
       "      <th></th>\n",
       "      <th>W</th>\n",
       "      <th>pval</th>\n",
       "      <th>normal</th>\n",
       "    </tr>\n",
       "    <tr>\n",
       "      <th>Class</th>\n",
       "      <th></th>\n",
       "      <th></th>\n",
       "      <th></th>\n",
       "    </tr>\n",
       "  </thead>\n",
       "  <tbody>\n",
       "    <tr>\n",
       "      <th>No</th>\n",
       "      <td>0.835144</td>\n",
       "      <td>0.000000e+00</td>\n",
       "      <td>False</td>\n",
       "    </tr>\n",
       "    <tr>\n",
       "      <th>Yes</th>\n",
       "      <td>0.949034</td>\n",
       "      <td>5.026160e-23</td>\n",
       "      <td>False</td>\n",
       "    </tr>\n",
       "  </tbody>\n",
       "</table>\n",
       "</div>"
      ],
      "text/plain": [
       "              W          pval  normal\n",
       "Class                                \n",
       "No     0.835144  0.000000e+00   False\n",
       "Yes    0.949034  5.026160e-23   False"
      ]
     },
     "metadata": {},
     "output_type": "display_data"
    }
   ],
   "source": [
    "# Mismos pasos en un ciclo for (johan)\n",
    "for col in data_nuevo.columns[:-1]:\n",
    "    df = pg.normality(data = data_nuevo, dv=col, group='Class')\n",
    "    display(df)"
   ]
  },
  {
   "cell_type": "markdown",
   "metadata": {
    "id": "d8b0dTNOqYep"
   },
   "source": [
    "El anterior test para determinar si una variable cuantitativa con respecto a una variable cualitativa siguen o no una distribución normal se llama el **test Shapiro-Wilk**. En todas las pruebas, se observa que los datos **no vienen** de poblaciones con distribución normal. Dado que la comparación entre variables cuantitativas con respecto a la variable cualitativa no procede de una población con distribución normal, se recomienda usar **comparar las varianzas** usando un **test de Levene**. Veamos como se realiza este procedimiento con nuestros datos:"
   ]
  },
  {
   "cell_type": "code",
   "execution_count": 39,
   "metadata": {
    "colab": {
     "base_uri": "https://localhost:8080/",
     "height": 352
    },
    "id": "N160YsQWrad5",
    "outputId": "585561e2-0fa1-496f-c6fd-174deed6182f"
   },
   "outputs": [
    {
     "data": {
      "image/png": "[encoded data removed]",
      "text/plain": [
       "<Figure size 720x360 with 1 Axes>"
      ]
     },
     "metadata": {
      "needs_background": "light"
     },
     "output_type": "display_data"
    }
   ],
   "source": [
    "fig, ax = plt.subplots(1, 1, figsize=(10, 5))\n",
    "sns.boxplot(\n",
    "    y=\"Class\", \n",
    "    x=\"Aa\", \n",
    "    data=data_nuevo, \n",
    "    ax=ax)\n",
    "sns.stripplot(\n",
    "    y=\"Class\", \n",
    "    x=\"Aa\", \n",
    "    data = data_nuevo, \n",
    "    color = 'black', \n",
    "    alpha = 0.4, \n",
    "    ax = ax)\n",
    "plt.show()"
   ]
  },
  {
   "cell_type": "code",
   "execution_count": 40,
   "metadata": {
    "colab": {
     "base_uri": "https://localhost:8080/",
     "height": 81
    },
    "id": "r0kYTF26unTm",
    "outputId": "1f64fcca-fec7-479e-8848-ebf02ed55d6b"
   },
   "outputs": [
    {
     "data": {
      "text/html": [
       "<div>\n",
       "<style scoped>\n",
       "    .dataframe tbody tr th:only-of-type {\n",
       "        vertical-align: middle;\n",
       "    }\n",
       "\n",
       "    .dataframe tbody tr th {\n",
       "        vertical-align: top;\n",
       "    }\n",
       "\n",
       "    .dataframe thead th {\n",
       "        text-align: right;\n",
       "    }\n",
       "</style>\n",
       "<table border=\"1\" class=\"dataframe\">\n",
       "  <thead>\n",
       "    <tr style=\"text-align: right;\">\n",
       "      <th></th>\n",
       "      <th>W</th>\n",
       "      <th>pval</th>\n",
       "      <th>equal_var</th>\n",
       "    </tr>\n",
       "  </thead>\n",
       "  <tbody>\n",
       "    <tr>\n",
       "      <th>levene</th>\n",
       "      <td>544.41112</td>\n",
       "      <td>8.343761e-115</td>\n",
       "      <td>False</td>\n",
       "    </tr>\n",
       "  </tbody>\n",
       "</table>\n",
       "</div>"
      ],
      "text/plain": [
       "                W           pval  equal_var\n",
       "levene  544.41112  8.343761e-115      False"
      ]
     },
     "execution_count": 40,
     "metadata": {},
     "output_type": "execute_result"
    }
   ],
   "source": [
    "pg.homoscedasticity(data = data_nuevo, dv = 'Aa', group ='Class')"
   ]
  },
  {
   "cell_type": "markdown",
   "metadata": {
    "id": "o88kh7EZu1OA"
   },
   "source": [
    "**Nota**: la homocedasticidad o varianza entre poblaciones permite establecer si dos varianzas son iguales o no."
   ]
  },
  {
   "cell_type": "code",
   "execution_count": 41,
   "metadata": {
    "colab": {
     "base_uri": "https://localhost:8080/",
     "height": 81
    },
    "id": "1FNZEWEfvvRt",
    "outputId": "2eb9e733-c779-4f7e-9c2c-a2ff43ba7d4a"
   },
   "outputs": [
    {
     "data": {
      "text/html": [
       "<div>\n",
       "<style scoped>\n",
       "    .dataframe tbody tr th:only-of-type {\n",
       "        vertical-align: middle;\n",
       "    }\n",
       "\n",
       "    .dataframe tbody tr th {\n",
       "        vertical-align: top;\n",
       "    }\n",
       "\n",
       "    .dataframe thead th {\n",
       "        text-align: right;\n",
       "    }\n",
       "</style>\n",
       "<table border=\"1\" class=\"dataframe\">\n",
       "  <thead>\n",
       "    <tr style=\"text-align: right;\">\n",
       "      <th></th>\n",
       "      <th>W</th>\n",
       "      <th>pval</th>\n",
       "      <th>equal_var</th>\n",
       "    </tr>\n",
       "  </thead>\n",
       "  <tbody>\n",
       "    <tr>\n",
       "      <th>levene</th>\n",
       "      <td>380.352863</td>\n",
       "      <td>6.469768e-82</td>\n",
       "      <td>False</td>\n",
       "    </tr>\n",
       "  </tbody>\n",
       "</table>\n",
       "</div>"
      ],
      "text/plain": [
       "                 W          pval  equal_var\n",
       "levene  380.352863  6.469768e-82      False"
      ]
     },
     "execution_count": 41,
     "metadata": {},
     "output_type": "execute_result"
    }
   ],
   "source": [
    "pg.homoscedasticity(data = data_nuevo, dv = 'Ao', group ='Class')"
   ]
  },
  {
   "cell_type": "code",
   "execution_count": 42,
   "metadata": {
    "colab": {
     "base_uri": "https://localhost:8080/",
     "height": 81
    },
    "id": "rBHfnOAWv36q",
    "outputId": "22a4d81b-2d0a-4c91-d33c-13430fa2dc07"
   },
   "outputs": [
    {
     "data": {
      "text/html": [
       "<div>\n",
       "<style scoped>\n",
       "    .dataframe tbody tr th:only-of-type {\n",
       "        vertical-align: middle;\n",
       "    }\n",
       "\n",
       "    .dataframe tbody tr th {\n",
       "        vertical-align: top;\n",
       "    }\n",
       "\n",
       "    .dataframe thead th {\n",
       "        text-align: right;\n",
       "    }\n",
       "</style>\n",
       "<table border=\"1\" class=\"dataframe\">\n",
       "  <thead>\n",
       "    <tr style=\"text-align: right;\">\n",
       "      <th></th>\n",
       "      <th>W</th>\n",
       "      <th>pval</th>\n",
       "      <th>equal_var</th>\n",
       "    </tr>\n",
       "  </thead>\n",
       "  <tbody>\n",
       "    <tr>\n",
       "      <th>levene</th>\n",
       "      <td>140.233821</td>\n",
       "      <td>5.863704e-32</td>\n",
       "      <td>False</td>\n",
       "    </tr>\n",
       "  </tbody>\n",
       "</table>\n",
       "</div>"
      ],
      "text/plain": [
       "                 W          pval  equal_var\n",
       "levene  140.233821  5.863704e-32      False"
      ]
     },
     "execution_count": 42,
     "metadata": {},
     "output_type": "execute_result"
    }
   ],
   "source": [
    "pg.homoscedasticity(data = data_nuevo, dv = 'Dcl', group ='Class')"
   ]
  },
  {
   "cell_type": "code",
   "execution_count": 43,
   "metadata": {
    "colab": {
     "base_uri": "https://localhost:8080/",
     "height": 81
    },
    "id": "QzgLKDGev-u5",
    "outputId": "0160b3f8-59cd-40d3-f034-16bf13277e12"
   },
   "outputs": [
    {
     "data": {
      "text/html": [
       "<div>\n",
       "<style scoped>\n",
       "    .dataframe tbody tr th:only-of-type {\n",
       "        vertical-align: middle;\n",
       "    }\n",
       "\n",
       "    .dataframe tbody tr th {\n",
       "        vertical-align: top;\n",
       "    }\n",
       "\n",
       "    .dataframe thead th {\n",
       "        text-align: right;\n",
       "    }\n",
       "</style>\n",
       "<table border=\"1\" class=\"dataframe\">\n",
       "  <thead>\n",
       "    <tr style=\"text-align: right;\">\n",
       "      <th></th>\n",
       "      <th>W</th>\n",
       "      <th>pval</th>\n",
       "      <th>equal_var</th>\n",
       "    </tr>\n",
       "  </thead>\n",
       "  <tbody>\n",
       "    <tr>\n",
       "      <th>levene</th>\n",
       "      <td>102.935781</td>\n",
       "      <td>5.671396e-24</td>\n",
       "      <td>False</td>\n",
       "    </tr>\n",
       "  </tbody>\n",
       "</table>\n",
       "</div>"
      ],
      "text/plain": [
       "                 W          pval  equal_var\n",
       "levene  102.935781  5.671396e-24      False"
      ]
     },
     "execution_count": 43,
     "metadata": {},
     "output_type": "execute_result"
    }
   ],
   "source": [
    "pg.homoscedasticity(data = data_nuevo, dv = 'Iy', group ='Class')"
   ]
  },
  {
   "cell_type": "code",
   "execution_count": 44,
   "metadata": {
    "colab": {
     "base_uri": "https://localhost:8080/",
     "height": 81
    },
    "id": "w1nWWkCewGzc",
    "outputId": "b112807f-d083-4041-d0f6-8e1053bc437a"
   },
   "outputs": [
    {
     "data": {
      "text/html": [
       "<div>\n",
       "<style scoped>\n",
       "    .dataframe tbody tr th:only-of-type {\n",
       "        vertical-align: middle;\n",
       "    }\n",
       "\n",
       "    .dataframe tbody tr th {\n",
       "        vertical-align: top;\n",
       "    }\n",
       "\n",
       "    .dataframe thead th {\n",
       "        text-align: right;\n",
       "    }\n",
       "</style>\n",
       "<table border=\"1\" class=\"dataframe\">\n",
       "  <thead>\n",
       "    <tr style=\"text-align: right;\">\n",
       "      <th></th>\n",
       "      <th>W</th>\n",
       "      <th>pval</th>\n",
       "      <th>equal_var</th>\n",
       "    </tr>\n",
       "  </thead>\n",
       "  <tbody>\n",
       "    <tr>\n",
       "      <th>levene</th>\n",
       "      <td>810.549092</td>\n",
       "      <td>3.058114e-166</td>\n",
       "      <td>False</td>\n",
       "    </tr>\n",
       "  </tbody>\n",
       "</table>\n",
       "</div>"
      ],
      "text/plain": [
       "                 W           pval  equal_var\n",
       "levene  810.549092  3.058114e-166      False"
      ]
     },
     "execution_count": 44,
     "metadata": {},
     "output_type": "execute_result"
    }
   ],
   "source": [
    "pg.homoscedasticity(data = data_nuevo, dv = 'Sh', group ='Class')"
   ]
  },
  {
   "cell_type": "markdown",
   "metadata": {
    "id": "vHJq-S7HwN91"
   },
   "source": [
    "Como en todas las pruebas de Levene mencionan que la igualdad de la varianza es falsa, entonces se debe aplicar el t-test para muestras independientes con la corrección de Welch que permite compensar la diferencia entre varianza. En caso que si existiera igualdad de la varianza, se puede aplicar el test t para muestras independientes sin necesidad de esta corrección."
   ]
  },
  {
   "cell_type": "code",
   "execution_count": 54,
   "metadata": {
    "id": "p-LD98QLxpAm"
   },
   "outputs": [],
   "source": [
    "nombres = data_nuevo.columns\n",
    "nombres = nombres.drop('Class')\n",
    "Resultado= []\n",
    "\n",
    "for n in nombres:\n",
    "    comparacion_1 = data_nuevo.loc[data_nuevo.Class == 'No', n]\n",
    "    comparacion_2 = data_nuevo.loc[data_nuevo.Class == 'Yes', n]\n",
    "    Tabla = pg.ttest(x = comparacion_1, y = comparacion_2, alternative='two-sided', correction = True)\n",
    "    Resultado.append(Tabla)"
   ]
  },
  {
   "cell_type": "code",
   "execution_count": 55,
   "metadata": {
    "colab": {
     "base_uri": "https://localhost:8080/",
     "height": 81
    },
    "id": "89H9Ubqi5jH3",
    "outputId": "a7cbdc48-55dd-4ab9-eaf5-3a1b9ae0fd84"
   },
   "outputs": [
    {
     "data": {
      "text/html": [
       "<div>\n",
       "<style scoped>\n",
       "    .dataframe tbody tr th:only-of-type {\n",
       "        vertical-align: middle;\n",
       "    }\n",
       "\n",
       "    .dataframe tbody tr th {\n",
       "        vertical-align: top;\n",
       "    }\n",
       "\n",
       "    .dataframe thead th {\n",
       "        text-align: right;\n",
       "    }\n",
       "</style>\n",
       "<table border=\"1\" class=\"dataframe\">\n",
       "  <thead>\n",
       "    <tr style=\"text-align: right;\">\n",
       "      <th></th>\n",
       "      <th>T</th>\n",
       "      <th>dof</th>\n",
       "      <th>alternative</th>\n",
       "      <th>p-val</th>\n",
       "      <th>CI95%</th>\n",
       "      <th>cohen-d</th>\n",
       "      <th>BF10</th>\n",
       "      <th>power</th>\n",
       "    </tr>\n",
       "  </thead>\n",
       "  <tbody>\n",
       "    <tr>\n",
       "      <th>T-test</th>\n",
       "      <td>29.451105</td>\n",
       "      <td>5352.503806</td>\n",
       "      <td>two-sided</td>\n",
       "      <td>8.090088e-177</td>\n",
       "      <td>[0.49, 0.56]</td>\n",
       "      <td>0.636567</td>\n",
       "      <td>6.694e+172</td>\n",
       "      <td>1.0</td>\n",
       "    </tr>\n",
       "  </tbody>\n",
       "</table>\n",
       "</div>"
      ],
      "text/plain": [
       "                T          dof alternative          p-val         CI95%  \\\n",
       "T-test  29.451105  5352.503806   two-sided  8.090088e-177  [0.49, 0.56]   \n",
       "\n",
       "         cohen-d        BF10  power  \n",
       "T-test  0.636567  6.694e+172    1.0  "
      ]
     },
     "execution_count": 55,
     "metadata": {},
     "output_type": "execute_result"
    }
   ],
   "source": [
    "Resultado[0] # Aa vs Class"
   ]
  },
  {
   "cell_type": "code",
   "execution_count": 56,
   "metadata": {
    "colab": {
     "base_uri": "https://localhost:8080/",
     "height": 81
    },
    "id": "cxvdK-tu5mgE",
    "outputId": "4402971f-2e41-4845-b154-8098009954fe"
   },
   "outputs": [
    {
     "data": {
      "text/html": [
       "<div>\n",
       "<style scoped>\n",
       "    .dataframe tbody tr th:only-of-type {\n",
       "        vertical-align: middle;\n",
       "    }\n",
       "\n",
       "    .dataframe tbody tr th {\n",
       "        vertical-align: top;\n",
       "    }\n",
       "\n",
       "    .dataframe thead th {\n",
       "        text-align: right;\n",
       "    }\n",
       "</style>\n",
       "<table border=\"1\" class=\"dataframe\">\n",
       "  <thead>\n",
       "    <tr style=\"text-align: right;\">\n",
       "      <th></th>\n",
       "      <th>T</th>\n",
       "      <th>dof</th>\n",
       "      <th>alternative</th>\n",
       "      <th>p-val</th>\n",
       "      <th>CI95%</th>\n",
       "      <th>cohen-d</th>\n",
       "      <th>BF10</th>\n",
       "      <th>power</th>\n",
       "    </tr>\n",
       "  </thead>\n",
       "  <tbody>\n",
       "    <tr>\n",
       "      <th>T-test</th>\n",
       "      <td>19.904657</td>\n",
       "      <td>4055.626981</td>\n",
       "      <td>two-sided</td>\n",
       "      <td>3.440199e-84</td>\n",
       "      <td>[0.39, 0.47]</td>\n",
       "      <td>0.52145</td>\n",
       "      <td>2.164e+81</td>\n",
       "      <td>1.0</td>\n",
       "    </tr>\n",
       "  </tbody>\n",
       "</table>\n",
       "</div>"
      ],
      "text/plain": [
       "                T          dof alternative         p-val         CI95%  \\\n",
       "T-test  19.904657  4055.626981   two-sided  3.440199e-84  [0.39, 0.47]   \n",
       "\n",
       "        cohen-d       BF10  power  \n",
       "T-test  0.52145  2.164e+81    1.0  "
      ]
     },
     "execution_count": 56,
     "metadata": {},
     "output_type": "execute_result"
    }
   ],
   "source": [
    "Resultado[1] # Ao vs Class"
   ]
  },
  {
   "cell_type": "code",
   "execution_count": 57,
   "metadata": {
    "colab": {
     "base_uri": "https://localhost:8080/",
     "height": 81
    },
    "id": "djW9UXfp50o-",
    "outputId": "32004e2d-bf5f-414f-9276-6ad92ed54a6c"
   },
   "outputs": [
    {
     "data": {
      "text/html": [
       "<div>\n",
       "<style scoped>\n",
       "    .dataframe tbody tr th:only-of-type {\n",
       "        vertical-align: middle;\n",
       "    }\n",
       "\n",
       "    .dataframe tbody tr th {\n",
       "        vertical-align: top;\n",
       "    }\n",
       "\n",
       "    .dataframe thead th {\n",
       "        text-align: right;\n",
       "    }\n",
       "</style>\n",
       "<table border=\"1\" class=\"dataframe\">\n",
       "  <thead>\n",
       "    <tr style=\"text-align: right;\">\n",
       "      <th></th>\n",
       "      <th>T</th>\n",
       "      <th>dof</th>\n",
       "      <th>alternative</th>\n",
       "      <th>p-val</th>\n",
       "      <th>CI95%</th>\n",
       "      <th>cohen-d</th>\n",
       "      <th>BF10</th>\n",
       "      <th>power</th>\n",
       "    </tr>\n",
       "  </thead>\n",
       "  <tbody>\n",
       "    <tr>\n",
       "      <th>T-test</th>\n",
       "      <td>-25.50145</td>\n",
       "      <td>3751.529133</td>\n",
       "      <td>two-sided</td>\n",
       "      <td>1.996532e-132</td>\n",
       "      <td>[-0.66, -0.56]</td>\n",
       "      <td>0.689345</td>\n",
       "      <td>3.631e+131</td>\n",
       "      <td>1.0</td>\n",
       "    </tr>\n",
       "  </tbody>\n",
       "</table>\n",
       "</div>"
      ],
      "text/plain": [
       "               T          dof alternative          p-val           CI95%  \\\n",
       "T-test -25.50145  3751.529133   two-sided  1.996532e-132  [-0.66, -0.56]   \n",
       "\n",
       "         cohen-d        BF10  power  \n",
       "T-test  0.689345  3.631e+131    1.0  "
      ]
     },
     "execution_count": 57,
     "metadata": {},
     "output_type": "execute_result"
    }
   ],
   "source": [
    "Resultado[2] # Dcl vs Class"
   ]
  },
  {
   "cell_type": "code",
   "execution_count": 58,
   "metadata": {
    "colab": {
     "base_uri": "https://localhost:8080/",
     "height": 81
    },
    "id": "qtuTVcV153gv",
    "outputId": "d4080bb6-da46-4282-d155-f92decbb6e63"
   },
   "outputs": [
    {
     "data": {
      "text/html": [
       "<div>\n",
       "<style scoped>\n",
       "    .dataframe tbody tr th:only-of-type {\n",
       "        vertical-align: middle;\n",
       "    }\n",
       "\n",
       "    .dataframe tbody tr th {\n",
       "        vertical-align: top;\n",
       "    }\n",
       "\n",
       "    .dataframe thead th {\n",
       "        text-align: right;\n",
       "    }\n",
       "</style>\n",
       "<table border=\"1\" class=\"dataframe\">\n",
       "  <thead>\n",
       "    <tr style=\"text-align: right;\">\n",
       "      <th></th>\n",
       "      <th>T</th>\n",
       "      <th>dof</th>\n",
       "      <th>alternative</th>\n",
       "      <th>p-val</th>\n",
       "      <th>CI95%</th>\n",
       "      <th>cohen-d</th>\n",
       "      <th>BF10</th>\n",
       "      <th>power</th>\n",
       "    </tr>\n",
       "  </thead>\n",
       "  <tbody>\n",
       "    <tr>\n",
       "      <th>T-test</th>\n",
       "      <td>-23.5571</td>\n",
       "      <td>2471.305113</td>\n",
       "      <td>two-sided</td>\n",
       "      <td>7.304893e-111</td>\n",
       "      <td>[-0.63, -0.53]</td>\n",
       "      <td>0.77006</td>\n",
       "      <td>9.07e+112</td>\n",
       "      <td>1.0</td>\n",
       "    </tr>\n",
       "  </tbody>\n",
       "</table>\n",
       "</div>"
      ],
      "text/plain": [
       "              T          dof alternative          p-val           CI95%  \\\n",
       "T-test -23.5571  2471.305113   two-sided  7.304893e-111  [-0.63, -0.53]   \n",
       "\n",
       "        cohen-d       BF10  power  \n",
       "T-test  0.77006  9.07e+112    1.0  "
      ]
     },
     "execution_count": 58,
     "metadata": {},
     "output_type": "execute_result"
    }
   ],
   "source": [
    "Resultado[3] # ly vs Class"
   ]
  },
  {
   "cell_type": "code",
   "execution_count": 59,
   "metadata": {
    "colab": {
     "base_uri": "https://localhost:8080/",
     "height": 81
    },
    "id": "zPxm_mdp55Rg",
    "outputId": "b4d5a10b-0760-4ef6-b7b5-b842b7f76170"
   },
   "outputs": [
    {
     "data": {
      "text/html": [
       "<div>\n",
       "<style scoped>\n",
       "    .dataframe tbody tr th:only-of-type {\n",
       "        vertical-align: middle;\n",
       "    }\n",
       "\n",
       "    .dataframe tbody tr th {\n",
       "        vertical-align: top;\n",
       "    }\n",
       "\n",
       "    .dataframe thead th {\n",
       "        text-align: right;\n",
       "    }\n",
       "</style>\n",
       "<table border=\"1\" class=\"dataframe\">\n",
       "  <thead>\n",
       "    <tr style=\"text-align: right;\">\n",
       "      <th></th>\n",
       "      <th>T</th>\n",
       "      <th>dof</th>\n",
       "      <th>alternative</th>\n",
       "      <th>p-val</th>\n",
       "      <th>CI95%</th>\n",
       "      <th>cohen-d</th>\n",
       "      <th>BF10</th>\n",
       "      <th>power</th>\n",
       "    </tr>\n",
       "  </thead>\n",
       "  <tbody>\n",
       "    <tr>\n",
       "      <th>T-test</th>\n",
       "      <td>-8.82951</td>\n",
       "      <td>2047.846446</td>\n",
       "      <td>two-sided</td>\n",
       "      <td>2.208493e-18</td>\n",
       "      <td>[-0.23, -0.14]</td>\n",
       "      <td>0.324171</td>\n",
       "      <td>1.913e+15</td>\n",
       "      <td>1.0</td>\n",
       "    </tr>\n",
       "  </tbody>\n",
       "</table>\n",
       "</div>"
      ],
      "text/plain": [
       "              T          dof alternative         p-val           CI95%  \\\n",
       "T-test -8.82951  2047.846446   two-sided  2.208493e-18  [-0.23, -0.14]   \n",
       "\n",
       "         cohen-d       BF10  power  \n",
       "T-test  0.324171  1.913e+15    1.0  "
      ]
     },
     "execution_count": 59,
     "metadata": {},
     "output_type": "execute_result"
    }
   ],
   "source": [
    "Resultado[4] # Sh vs Class"
   ]
  },
  {
   "cell_type": "markdown",
   "metadata": {
    "id": "ZhCtqzPO6PG1"
   },
   "source": [
    "Ya que el valor $\\rho$ es menor a 0.05, se dispone de evidencia suficiente para considerar que existe una diferencia real entre las variables cuantitativas cuando se etiqueta en la clase *No* y *Yes*. Por consiguiente, rechazamos la hipótesis nula en favor de la hipótesis alternativa.\n"
   ]
  },
  {
   "cell_type": "markdown",
   "metadata": {
    "id": "Vl4-BdFk7vCe"
   },
   "source": [
    "## Selección de características o variables con el test chi-cuadrado"
   ]
  },
  {
   "cell_type": "markdown",
   "metadata": {
    "id": "aWygk21sbxkw"
   },
   "source": [
    "Primero separamos los datos en características, el cual llamaremos **X**, y en el vector de clases, el cual llamaremos **Y**"
   ]
  },
  {
   "cell_type": "code",
   "execution_count": 60,
   "metadata": {},
   "outputs": [
    {
     "data": {
      "text/plain": [
       "Index(['Aa', 'Ao', 'Dcl', 'Iy', 'Sh', 'Class'], dtype='object')"
      ]
     },
     "execution_count": 60,
     "metadata": {},
     "output_type": "execute_result"
    }
   ],
   "source": [
    "data.columns"
   ]
  },
  {
   "cell_type": "code",
   "execution_count": 61,
   "metadata": {
    "id": "b-QJg-ov563O"
   },
   "outputs": [],
   "source": [
    "X = data[['Aa', 'Ao', 'Dcl', 'Iy', 'Sh']] # Características\n",
    "Y = data['Class'] # Vector de clases"
   ]
  },
  {
   "cell_type": "markdown",
   "metadata": {
    "id": "SwJWP6_BcAhv"
   },
   "source": [
    "Considerando que en este escenario el test Chi-Cuadrada esta restringuido a los valores enteros o flotantes positivos, se debe analizar con la función `describe()` Si hay valores negativos en las características:"
   ]
  },
  {
   "cell_type": "code",
   "execution_count": 62,
   "metadata": {
    "id": "nwiQHcG1ca4H"
   },
   "outputs": [],
   "source": [
    "X = X.astype(float)"
   ]
  },
  {
   "cell_type": "code",
   "execution_count": 63,
   "metadata": {
    "colab": {
     "base_uri": "https://localhost:8080/",
     "height": 300
    },
    "id": "RnSiMnVZcW8n",
    "outputId": "b9eff643-660b-4874-a2d4-ea1b4c967383"
   },
   "outputs": [
    {
     "data": {
      "text/html": [
       "<div>\n",
       "<style scoped>\n",
       "    .dataframe tbody tr th:only-of-type {\n",
       "        vertical-align: middle;\n",
       "    }\n",
       "\n",
       "    .dataframe tbody tr th {\n",
       "        vertical-align: top;\n",
       "    }\n",
       "\n",
       "    .dataframe thead th {\n",
       "        text-align: right;\n",
       "    }\n",
       "</style>\n",
       "<table border=\"1\" class=\"dataframe\">\n",
       "  <thead>\n",
       "    <tr style=\"text-align: right;\">\n",
       "      <th></th>\n",
       "      <th>Aa</th>\n",
       "      <th>Ao</th>\n",
       "      <th>Dcl</th>\n",
       "      <th>Iy</th>\n",
       "      <th>Sh</th>\n",
       "    </tr>\n",
       "  </thead>\n",
       "  <tbody>\n",
       "    <tr>\n",
       "      <th>count</th>\n",
       "      <td>5404.000000</td>\n",
       "      <td>5404.000000</td>\n",
       "      <td>5404.000000</td>\n",
       "      <td>5404.000000</td>\n",
       "      <td>5404.000000</td>\n",
       "    </tr>\n",
       "    <tr>\n",
       "      <th>mean</th>\n",
       "      <td>0.818957</td>\n",
       "      <td>1.258802</td>\n",
       "      <td>0.764732</td>\n",
       "      <td>0.398743</td>\n",
       "      <td>0.078619</td>\n",
       "    </tr>\n",
       "    <tr>\n",
       "      <th>std</th>\n",
       "      <td>0.858733</td>\n",
       "      <td>0.851057</td>\n",
       "      <td>0.925436</td>\n",
       "      <td>0.796531</td>\n",
       "      <td>0.575624</td>\n",
       "    </tr>\n",
       "    <tr>\n",
       "      <th>min</th>\n",
       "      <td>-1.700000</td>\n",
       "      <td>-1.327000</td>\n",
       "      <td>-1.823000</td>\n",
       "      <td>-1.581000</td>\n",
       "      <td>-1.284000</td>\n",
       "    </tr>\n",
       "    <tr>\n",
       "      <th>25%</th>\n",
       "      <td>0.243750</td>\n",
       "      <td>0.596000</td>\n",
       "      <td>-0.115000</td>\n",
       "      <td>-0.205000</td>\n",
       "      <td>-0.232250</td>\n",
       "    </tr>\n",
       "    <tr>\n",
       "      <th>50%</th>\n",
       "      <td>0.492500</td>\n",
       "      <td>1.075500</td>\n",
       "      <td>0.729000</td>\n",
       "      <td>0.285500</td>\n",
       "      <td>-0.044000</td>\n",
       "    </tr>\n",
       "    <tr>\n",
       "      <th>75%</th>\n",
       "      <td>1.089250</td>\n",
       "      <td>1.866250</td>\n",
       "      <td>1.484000</td>\n",
       "      <td>0.937000</td>\n",
       "      <td>0.196250</td>\n",
       "    </tr>\n",
       "    <tr>\n",
       "      <th>max</th>\n",
       "      <td>4.107000</td>\n",
       "      <td>4.378000</td>\n",
       "      <td>3.199000</td>\n",
       "      <td>2.826000</td>\n",
       "      <td>2.719000</td>\n",
       "    </tr>\n",
       "  </tbody>\n",
       "</table>\n",
       "</div>"
      ],
      "text/plain": [
       "                Aa           Ao          Dcl           Iy           Sh\n",
       "count  5404.000000  5404.000000  5404.000000  5404.000000  5404.000000\n",
       "mean      0.818957     1.258802     0.764732     0.398743     0.078619\n",
       "std       0.858733     0.851057     0.925436     0.796531     0.575624\n",
       "min      -1.700000    -1.327000    -1.823000    -1.581000    -1.284000\n",
       "25%       0.243750     0.596000    -0.115000    -0.205000    -0.232250\n",
       "50%       0.492500     1.075500     0.729000     0.285500    -0.044000\n",
       "75%       1.089250     1.866250     1.484000     0.937000     0.196250\n",
       "max       4.107000     4.378000     3.199000     2.826000     2.719000"
      ]
     },
     "execution_count": 63,
     "metadata": {},
     "output_type": "execute_result"
    }
   ],
   "source": [
    "X.describe()"
   ]
  },
  {
   "cell_type": "markdown",
   "metadata": {
    "id": "_FTH_GDHch3f"
   },
   "source": [
    "Como los valores mínimos de cada variable son negativos, se requiere normalizar **X** para tener solo valores positivos:"
   ]
  },
  {
   "cell_type": "code",
   "execution_count": 64,
   "metadata": {
    "id": "OK9DZeerc1tO"
   },
   "outputs": [],
   "source": [
    "MM = MinMaxScaler()\n",
    "X_norm = MM.fit_transform(X)\n",
    "X_norm = pd.DataFrame(X_norm, columns = X.columns)"
   ]
  },
  {
   "cell_type": "markdown",
   "metadata": {
    "id": "R4tYSUh0dN-m"
   },
   "source": [
    "Una vez realizado este procedimiento, se aplica el test chi-cuadrada entre `X_Norm` y `Y`"
   ]
  },
  {
   "cell_type": "code",
   "execution_count": 65,
   "metadata": {
    "colab": {
     "base_uri": "https://localhost:8080/",
     "height": 206
    },
    "id": "yTAWfYhYbXoo",
    "outputId": "ed582438-eac0-4790-f62e-00b7491d165f"
   },
   "outputs": [
    {
     "data": {
      "text/html": [
       "<div>\n",
       "<style scoped>\n",
       "    .dataframe tbody tr th:only-of-type {\n",
       "        vertical-align: middle;\n",
       "    }\n",
       "\n",
       "    .dataframe tbody tr th {\n",
       "        vertical-align: top;\n",
       "    }\n",
       "\n",
       "    .dataframe thead th {\n",
       "        text-align: right;\n",
       "    }\n",
       "</style>\n",
       "<table border=\"1\" class=\"dataframe\">\n",
       "  <thead>\n",
       "    <tr style=\"text-align: right;\">\n",
       "      <th></th>\n",
       "      <th>Caracteristica</th>\n",
       "      <th>Chi valor</th>\n",
       "      <th>value-p</th>\n",
       "    </tr>\n",
       "  </thead>\n",
       "  <tbody>\n",
       "    <tr>\n",
       "      <th>0</th>\n",
       "      <td>Aa</td>\n",
       "      <td>21.119604</td>\n",
       "      <td>4.314913e-06</td>\n",
       "    </tr>\n",
       "    <tr>\n",
       "      <th>1</th>\n",
       "      <td>Ao</td>\n",
       "      <td>14.163367</td>\n",
       "      <td>1.676021e-04</td>\n",
       "    </tr>\n",
       "    <tr>\n",
       "      <th>2</th>\n",
       "      <td>Dcl</td>\n",
       "      <td>31.948210</td>\n",
       "      <td>1.583382e-08</td>\n",
       "    </tr>\n",
       "    <tr>\n",
       "      <th>3</th>\n",
       "      <td>Iy</td>\n",
       "      <td>43.035369</td>\n",
       "      <td>5.375914e-11</td>\n",
       "    </tr>\n",
       "    <tr>\n",
       "      <th>4</th>\n",
       "      <td>Sh</td>\n",
       "      <td>7.001730</td>\n",
       "      <td>8.143100e-03</td>\n",
       "    </tr>\n",
       "  </tbody>\n",
       "</table>\n",
       "</div>"
      ],
      "text/plain": [
       "  Caracteristica  Chi valor       value-p\n",
       "0             Aa  21.119604  4.314913e-06\n",
       "1             Ao  14.163367  1.676021e-04\n",
       "2            Dcl  31.948210  1.583382e-08\n",
       "3             Iy  43.035369  5.375914e-11\n",
       "4             Sh   7.001730  8.143100e-03"
      ]
     },
     "execution_count": 65,
     "metadata": {},
     "output_type": "execute_result"
    }
   ],
   "source": [
    "Chi_Value, value_p = chi2(X_norm, Y)\n",
    "Tabla = pd.DataFrame(np.vstack([Chi_Value, value_p]).T, columns = ['Chi valor', 'value-p'])\n",
    "Tabla_concatenada = pd.concat([pd.DataFrame(X.columns, columns = ['Caracteristica']), Tabla], axis = 1)\n",
    "Tabla_concatenada"
   ]
  },
  {
   "cell_type": "markdown",
   "metadata": {
    "id": "UM9ELyLTgBSM"
   },
   "source": [
    "Considerando el valor p obtenido por cada característica, todos los casos muestran que $p \\leq 0.05$. Este resultado indica que las variables son dependientes del vector de clases de la base de datos. No obstante, se puede analizar los valores de la prueba chi-cuadrada para determinar independencia o dependencia entre variables a partir del vector de clases, si se considera las siguientes hipótesis:\n",
    "\n",
    "*   $H_0$: Dos caracteristicas son independientes del vector de clases. \n",
    "*   $H_A$: Dos caracteristicas son dependientes del vector de clases.\n",
    "\n",
    "Este último caso, $H_A$, es el más útil para crear posteriormente un modelo de clasificación de datos. Usualmente, para que se cumpla dicha condición, el valor Chi-cuadrada debe ser el más grande para demostrar que es estadísticamente suficiente para seleccionar las dos características más relevantes para crear un modelo de clasificación de datos eficiente.\n",
    "\n",
    "Veamos como se realiza dicho proceso:"
   ]
  },
  {
   "cell_type": "code",
   "execution_count": 72,
   "metadata": {
    "id": "eNWXSw-2kJka"
   },
   "outputs": [],
   "source": [
    "Modelo_Seleccion_Chi_Cuadrada = SelectKBest(chi2, k=2) # k = 2 es el número de características para seleccionar si los valores Chi-Cudrada\n",
    "                                                         # son los más grandes comparado con otros valores."
   ]
  },
  {
   "cell_type": "code",
   "execution_count": 73,
   "metadata": {
    "colab": {
     "base_uri": "https://localhost:8080/"
    },
    "id": "2Mul7tvrksPh",
    "outputId": "39469661-ded0-4bc0-da29-e792a1ab6b13"
   },
   "outputs": [
    {
     "data": {
      "text/plain": [
       "(5404, 2)"
      ]
     },
     "execution_count": 73,
     "metadata": {},
     "output_type": "execute_result"
    }
   ],
   "source": [
    "X_Norm_Seleccionado = Modelo_Seleccion_Chi_Cuadrada.fit_transform(X_norm, Y)\n",
    "X_Norm_Seleccionado.shape"
   ]
  },
  {
   "cell_type": "markdown",
   "metadata": {
    "id": "xLoiKiqRk9Ch"
   },
   "source": [
    "Para determinar cúales son las características seleccionadas, se puede comparar entre las medias de los datos originales y las medias de los datos seleccionados:"
   ]
  },
  {
   "cell_type": "code",
   "execution_count": 74,
   "metadata": {
    "colab": {
     "base_uri": "https://localhost:8080/"
    },
    "id": "4H5MwngVlRUv",
    "outputId": "33a04105-3d3e-467f-c936-6019c320576d"
   },
   "outputs": [
    {
     "name": "stdout",
     "output_type": "stream",
     "text": [
      "Características seleccionadas =  Index(['Dcl', 'Iy'], dtype='object')\n"
     ]
    }
   ],
   "source": [
    "Media_Original = X_norm.mean()\n",
    "Media_Seleccionados = pd.DataFrame(X_Norm_Seleccionado).mean()\n",
    "Medias_Caracteristicas_Seleccionadas = []\n",
    "\n",
    "for a in range(len(Media_Seleccionados)):\n",
    "    pos = Media_Original.loc[Media_Original == Media_Seleccionados[a]]\n",
    "    Medias_Caracteristicas_Seleccionadas.append(pos)\n",
    "\n",
    "Medias_Caracteristicas_Seleccionadas = pd.DataFrame(Medias_Caracteristicas_Seleccionadas)\n",
    "Caracteristicas_Seleccionadas = Medias_Caracteristicas_Seleccionadas.columns\n",
    "print(\"Características seleccionadas = \", Caracteristicas_Seleccionadas)"
   ]
  },
  {
   "cell_type": "markdown",
   "metadata": {
    "id": "xzsuv-_WpWJG"
   },
   "source": [
    "Con las características seleccionadas, se genera una nueva base de datos con las características que son estadísticamente más significativos de acuerdo al test chi-cuadrada."
   ]
  },
  {
   "cell_type": "code",
   "execution_count": 75,
   "metadata": {
    "colab": {
     "base_uri": "https://localhost:8080/",
     "height": 423
    },
    "id": "n_C6_J_ToyHo",
    "outputId": "24f8aca4-ca96-46b2-fc83-bb849b69463c"
   },
   "outputs": [
    {
     "data": {
      "text/html": [
       "<div>\n",
       "<style scoped>\n",
       "    .dataframe tbody tr th:only-of-type {\n",
       "        vertical-align: middle;\n",
       "    }\n",
       "\n",
       "    .dataframe tbody tr th {\n",
       "        vertical-align: top;\n",
       "    }\n",
       "\n",
       "    .dataframe thead th {\n",
       "        text-align: right;\n",
       "    }\n",
       "</style>\n",
       "<table border=\"1\" class=\"dataframe\">\n",
       "  <thead>\n",
       "    <tr style=\"text-align: right;\">\n",
       "      <th></th>\n",
       "      <th>Dcl</th>\n",
       "      <th>Iy</th>\n",
       "    </tr>\n",
       "  </thead>\n",
       "  <tbody>\n",
       "    <tr>\n",
       "      <th>0</th>\n",
       "      <td>-0.205</td>\n",
       "      <td>-0.078</td>\n",
       "    </tr>\n",
       "    <tr>\n",
       "      <th>1</th>\n",
       "      <td>1.035</td>\n",
       "      <td>-0.332</td>\n",
       "    </tr>\n",
       "    <tr>\n",
       "      <th>2</th>\n",
       "      <td>1.300</td>\n",
       "      <td>1.041</td>\n",
       "    </tr>\n",
       "    <tr>\n",
       "      <th>3</th>\n",
       "      <td>2.555</td>\n",
       "      <td>-0.738</td>\n",
       "    </tr>\n",
       "    <tr>\n",
       "      <th>4</th>\n",
       "      <td>2.656</td>\n",
       "      <td>-0.946</td>\n",
       "    </tr>\n",
       "    <tr>\n",
       "      <th>...</th>\n",
       "      <td>...</td>\n",
       "      <td>...</td>\n",
       "    </tr>\n",
       "    <tr>\n",
       "      <th>5399</th>\n",
       "      <td>0.689</td>\n",
       "      <td>1.828</td>\n",
       "    </tr>\n",
       "    <tr>\n",
       "      <th>5400</th>\n",
       "      <td>0.793</td>\n",
       "      <td>0.383</td>\n",
       "    </tr>\n",
       "    <tr>\n",
       "      <th>5401</th>\n",
       "      <td>1.866</td>\n",
       "      <td>1.532</td>\n",
       "    </tr>\n",
       "    <tr>\n",
       "      <th>5402</th>\n",
       "      <td>2.363</td>\n",
       "      <td>-0.742</td>\n",
       "    </tr>\n",
       "    <tr>\n",
       "      <th>5403</th>\n",
       "      <td>1.350</td>\n",
       "      <td>0.972</td>\n",
       "    </tr>\n",
       "  </tbody>\n",
       "</table>\n",
       "<p>5404 rows × 2 columns</p>\n",
       "</div>"
      ],
      "text/plain": [
       "        Dcl     Iy\n",
       "0    -0.205 -0.078\n",
       "1     1.035 -0.332\n",
       "2     1.300  1.041\n",
       "3     2.555 -0.738\n",
       "4     2.656 -0.946\n",
       "...     ...    ...\n",
       "5399  0.689  1.828\n",
       "5400  0.793  0.383\n",
       "5401  1.866  1.532\n",
       "5402  2.363 -0.742\n",
       "5403  1.350  0.972\n",
       "\n",
       "[5404 rows x 2 columns]"
      ]
     },
     "metadata": {},
     "output_type": "display_data"
    }
   ],
   "source": [
    "X_seleccionado = X[['Dcl', 'Iy']]\n",
    "display(X_seleccionado)"
   ]
  },
  {
   "cell_type": "markdown",
   "metadata": {
    "id": "Of0od3RZvIuj"
   },
   "source": [
    "Aunque se realizó dicha selección de datos, cómo se podría verificar si dichas características son los más representativos para un modelo de clasificación de datos? Aquí les muestro una de las estrategías:"
   ]
  },
  {
   "cell_type": "markdown",
   "metadata": {
    "id": "Yf8SPlZewHHa"
   },
   "source": [
    "1) Generamos una partición de los datos en entrenamiento y en prueba, tanto para los datos normalizados originales como para los datos normalizados con las características seleccionadas"
   ]
  },
  {
   "cell_type": "code",
   "execution_count": 76,
   "metadata": {
    "id": "qnXVzD36v91x"
   },
   "outputs": [],
   "source": [
    "X_norm_train, X_norm_test, y_1_train, y_1_test = train_test_split(X_norm, Y, train_size=0.7) # 0.7 es el 70% de los datos son para\n",
    "                                                                                               # crear el modelo de clasificación de datos\n",
    "                                                                                               # el 30% restante son los datos para realizar\n",
    "                                                                                               # una validación del modelo.\n",
    "\n",
    "X_norm_selected_train, X_norm_selected_test, y_2_train, y_2_test = train_test_split(X_Norm_Seleccionado, Y, train_size=0.7) \n",
    "                                                                                               # 0.7 es el 70% de los datos son para\n",
    "                                                                                               # crear el modelo de clasificación de datos\n",
    "                                                                                               # el 30% restante son los datos para realizar\n",
    "                                                                                               # una validación del modelo. "
   ]
  },
  {
   "cell_type": "markdown",
   "metadata": {
    "id": "TApKA9qQxK9S"
   },
   "source": [
    "2) Creamos los modelos de clasificación de datos"
   ]
  },
  {
   "cell_type": "code",
   "execution_count": 77,
   "metadata": {
    "colab": {
     "base_uri": "https://localhost:8080/"
    },
    "id": "fX-Drg5Lvim0",
    "outputId": "41495a6e-0830-4c84-bd32-d08d5f1ed0e1"
   },
   "outputs": [
    {
     "data": {
      "text/html": [
       "<style>#sk-container-id-1 {color: black;background-color: white;}#sk-container-id-1 pre{padding: 0;}#sk-container-id-1 div.sk-toggleable {background-color: white;}#sk-container-id-1 label.sk-toggleable__label {cursor: pointer;display: block;width: 100%;margin-bottom: 0;padding: 0.3em;box-sizing: border-box;text-align: center;}#sk-container-id-1 label.sk-toggleable__label-arrow:before {content: \"▸\";float: left;margin-right: 0.25em;color: #696969;}#sk-container-id-1 label.sk-toggleable__label-arrow:hover:before {color: black;}#sk-container-id-1 div.sk-estimator:hover label.sk-toggleable__label-arrow:before {color: black;}#sk-container-id-1 div.sk-toggleable__content {max-height: 0;max-width: 0;overflow: hidden;text-align: left;background-color: #f0f8ff;}#sk-container-id-1 div.sk-toggleable__content pre {margin: 0.2em;color: black;border-radius: 0.25em;background-color: #f0f8ff;}#sk-container-id-1 input.sk-toggleable__control:checked~div.sk-toggleable__content {max-height: 200px;max-width: 100%;overflow: auto;}#sk-container-id-1 input.sk-toggleable__control:checked~label.sk-toggleable__label-arrow:before {content: \"▾\";}#sk-container-id-1 div.sk-estimator input.sk-toggleable__control:checked~label.sk-toggleable__label {background-color: #d4ebff;}#sk-container-id-1 div.sk-label input.sk-toggleable__control:checked~label.sk-toggleable__label {background-color: #d4ebff;}#sk-container-id-1 input.sk-hidden--visually {border: 0;clip: rect(1px 1px 1px 1px);clip: rect(1px, 1px, 1px, 1px);height: 1px;margin: -1px;overflow: hidden;padding: 0;position: absolute;width: 1px;}#sk-container-id-1 div.sk-estimator {font-family: monospace;background-color: #f0f8ff;border: 1px dotted black;border-radius: 0.25em;box-sizing: border-box;margin-bottom: 0.5em;}#sk-container-id-1 div.sk-estimator:hover {background-color: #d4ebff;}#sk-container-id-1 div.sk-parallel-item::after {content: \"\";width: 100%;border-bottom: 1px solid gray;flex-grow: 1;}#sk-container-id-1 div.sk-label:hover label.sk-toggleable__label {background-color: #d4ebff;}#sk-container-id-1 div.sk-serial::before {content: \"\";position: absolute;border-left: 1px solid gray;box-sizing: border-box;top: 0;bottom: 0;left: 50%;z-index: 0;}#sk-container-id-1 div.sk-serial {display: flex;flex-direction: column;align-items: center;background-color: white;padding-right: 0.2em;padding-left: 0.2em;position: relative;}#sk-container-id-1 div.sk-item {position: relative;z-index: 1;}#sk-container-id-1 div.sk-parallel {display: flex;align-items: stretch;justify-content: center;background-color: white;position: relative;}#sk-container-id-1 div.sk-item::before, #sk-container-id-1 div.sk-parallel-item::before {content: \"\";position: absolute;border-left: 1px solid gray;box-sizing: border-box;top: 0;bottom: 0;left: 50%;z-index: -1;}#sk-container-id-1 div.sk-parallel-item {display: flex;flex-direction: column;z-index: 1;position: relative;background-color: white;}#sk-container-id-1 div.sk-parallel-item:first-child::after {align-self: flex-end;width: 50%;}#sk-container-id-1 div.sk-parallel-item:last-child::after {align-self: flex-start;width: 50%;}#sk-container-id-1 div.sk-parallel-item:only-child::after {width: 0;}#sk-container-id-1 div.sk-dashed-wrapped {border: 1px dashed gray;margin: 0 0.4em 0.5em 0.4em;box-sizing: border-box;padding-bottom: 0.4em;background-color: white;}#sk-container-id-1 div.sk-label label {font-family: monospace;font-weight: bold;display: inline-block;line-height: 1.2em;}#sk-container-id-1 div.sk-label-container {text-align: center;}#sk-container-id-1 div.sk-container {/* jupyter's `normalize.less` sets `[hidden] { display: none; }` but bootstrap.min.css set `[hidden] { display: none !important; }` so we also need the `!important` here to be able to override the default hidden behavior on the sphinx rendered scikit-learn.org. See: https://github.com/scikit-learn/scikit-learn/issues/21755 */display: inline-block !important;position: relative;}#sk-container-id-1 div.sk-text-repr-fallback {display: none;}</style><div id=\"sk-container-id-1\" class=\"sk-top-container\"><div class=\"sk-text-repr-fallback\"><pre>GaussianNB()</pre><b>In a Jupyter environment, please rerun this cell to show the HTML representation or trust the notebook. <br />On GitHub, the HTML representation is unable to render, please try loading this page with nbviewer.org.</b></div><div class=\"sk-container\" hidden><div class=\"sk-item\"><div class=\"sk-estimator sk-toggleable\"><input class=\"sk-toggleable__control sk-hidden--visually\" id=\"sk-estimator-id-1\" type=\"checkbox\" checked><label for=\"sk-estimator-id-1\" class=\"sk-toggleable__label sk-toggleable__label-arrow\">GaussianNB</label><div class=\"sk-toggleable__content\"><pre>GaussianNB()</pre></div></div></div></div></div>"
      ],
      "text/plain": [
       "GaussianNB()"
      ]
     },
     "execution_count": 77,
     "metadata": {},
     "output_type": "execute_result"
    }
   ],
   "source": [
    "GNB_1 = GaussianNB() # Algoritmo Bayes Ingenuo Gaussiano para clasificar datos\n",
    "GNB_2 = GaussianNB()\n",
    "\n",
    "GNB_1.fit(X_norm_train, y_1_train)\n",
    "GNB_2.fit(X_norm_selected_train, y_2_train)"
   ]
  },
  {
   "cell_type": "markdown",
   "metadata": {
    "id": "6Pf0U54iviEp"
   },
   "source": [
    "3) Realizamos una predicción de las clases con los datos de prueba y posteriormente, se calcula la exactitud de la clasificación comparando con el vector de clases para la validación"
   ]
  },
  {
   "cell_type": "code",
   "execution_count": 78,
   "metadata": {
    "colab": {
     "base_uri": "https://localhost:8080/"
    },
    "id": "xylr97ppx1MR",
    "outputId": "d0bc6ec5-686f-42c2-a41a-48db84f66af2"
   },
   "outputs": [
    {
     "name": "stdout",
     "output_type": "stream",
     "text": [
      "Exactitud de la clasificación con todas las características = 76.079 %\n",
      "Exactitud de la clasificación con las características seleccionadas = 72.195 %\n"
     ]
    }
   ],
   "source": [
    "Y_pred_all_features = GNB_1.predict(X_norm_test)\n",
    "Y_pred_selected_features = GNB_2.predict(X_norm_selected_test)\n",
    "\n",
    "print(\"Exactitud de la clasificación con todas las características = {:.3f} %\".format(100*accuracy_score(y_1_test,Y_pred_all_features)))\n",
    "print(\"Exactitud de la clasificación con las características seleccionadas = {:.3f} %\".format(100*accuracy_score(y_2_test,Y_pred_selected_features)))"
   ]
  },
  {
   "cell_type": "markdown",
   "metadata": {
    "id": "cIEqIQsMzNTY"
   },
   "source": [
    "Observen que la diferencia de la exactitud para ambos casos es mayor al 2 %, lo cual la clasificación con las características seleccionadas tiene un desempeño mejor con respecto al caso de todas las características. Lo anterior es el principio de la **importancia de las características**, el cual permite establecer cuales son las características que realmente aporta más información a la clasificación de datos. "
   ]
  },
  {
   "cell_type": "markdown",
   "metadata": {
    "id": "8QL6js92z1_p"
   },
   "source": [
    "### Selección de características o variables con ANOVA (Análisis de Varianzas)"
   ]
  },
  {
   "cell_type": "markdown",
   "metadata": {
    "id": "SYHaTn3J0JbH"
   },
   "source": [
    "#### ANOVA"
   ]
  },
  {
   "cell_type": "markdown",
   "metadata": {
    "id": "CtnQODEM0Wtu"
   },
   "source": [
    "El análisis ANOVA o análisis de varianza es un modelo que permite evaluar la influencia de dos o más variables independientes con respecto a una variable dependiente, por medio de un **test de diferencias entre varianzas** (e inclusive entre medias). Tales diferencias se comparan en término de una métrica del error que es atribuible a una variación en las variables dependientes dentro una condición que permite saber que proporción de la variación de una variable dependiente puede atribuirse a la manipulación de las variables de un experimento, de un sistema real, etc. "
   ]
  },
  {
   "cell_type": "markdown",
   "metadata": {
    "id": "Ey1IVf_X5X4a"
   },
   "source": [
    "Veamos la siguiente base de datos del número de visitas de cuatro páginas web:"
   ]
  },
  {
   "cell_type": "code",
   "execution_count": 79,
   "metadata": {
    "colab": {
     "base_uri": "https://localhost:8080/",
     "height": 206
    },
    "id": "wbvfRNbo3mmF",
    "outputId": "2eb5932b-d5f0-472e-ebca-e0dc4a21e9b4"
   },
   "outputs": [
    {
     "data": {
      "text/html": [
       "<div>\n",
       "<style scoped>\n",
       "    .dataframe tbody tr th:only-of-type {\n",
       "        vertical-align: middle;\n",
       "    }\n",
       "\n",
       "    .dataframe tbody tr th {\n",
       "        vertical-align: top;\n",
       "    }\n",
       "\n",
       "    .dataframe thead th {\n",
       "        text-align: right;\n",
       "    }\n",
       "</style>\n",
       "<table border=\"1\" class=\"dataframe\">\n",
       "  <thead>\n",
       "    <tr style=\"text-align: right;\">\n",
       "      <th></th>\n",
       "      <th>Web 1</th>\n",
       "      <th>Web 2</th>\n",
       "      <th>Web 3</th>\n",
       "      <th>Web 4</th>\n",
       "    </tr>\n",
       "  </thead>\n",
       "  <tbody>\n",
       "    <tr>\n",
       "      <th>0</th>\n",
       "      <td>164</td>\n",
       "      <td>178</td>\n",
       "      <td>175</td>\n",
       "      <td>155</td>\n",
       "    </tr>\n",
       "    <tr>\n",
       "      <th>1</th>\n",
       "      <td>172</td>\n",
       "      <td>191</td>\n",
       "      <td>193</td>\n",
       "      <td>166</td>\n",
       "    </tr>\n",
       "    <tr>\n",
       "      <th>2</th>\n",
       "      <td>177</td>\n",
       "      <td>182</td>\n",
       "      <td>171</td>\n",
       "      <td>164</td>\n",
       "    </tr>\n",
       "    <tr>\n",
       "      <th>3</th>\n",
       "      <td>156</td>\n",
       "      <td>185</td>\n",
       "      <td>163</td>\n",
       "      <td>170</td>\n",
       "    </tr>\n",
       "    <tr>\n",
       "      <th>4</th>\n",
       "      <td>195</td>\n",
       "      <td>177</td>\n",
       "      <td>176</td>\n",
       "      <td>168</td>\n",
       "    </tr>\n",
       "  </tbody>\n",
       "</table>\n",
       "</div>"
      ],
      "text/plain": [
       "   Web 1  Web 2  Web 3  Web 4\n",
       "0    164    178    175    155\n",
       "1    172    191    193    166\n",
       "2    177    182    171    164\n",
       "3    156    185    163    170\n",
       "4    195    177    176    168"
      ]
     },
     "metadata": {},
     "output_type": "display_data"
    }
   ],
   "source": [
    "Paginas = np.array([[164, 178, 175, 155], [172, 191, 193, 166], [177, 182, 171, 164],\n",
    "                    [156, 185, 163, 170], [195, 177, 176, 168]])\n",
    "\n",
    "Paginas = pd.DataFrame(Paginas, columns = ['Web 1', 'Web 2', 'Web 3', 'Web 4'])\n",
    "display(Paginas)"
   ]
  },
  {
   "cell_type": "code",
   "execution_count": 95,
   "metadata": {
    "colab": {
     "base_uri": "https://localhost:8080/",
     "height": 498
    },
    "id": "w_dBD1ji6de7",
    "outputId": "e5c40b3c-1eef-481a-e28c-f40a1ca052d9"
   },
   "outputs": [
    {
     "data": {
      "image/png": "[encoded data removed]",
      "text/plain": [
       "<Figure size 720x360 with 1 Axes>"
      ]
     },
     "metadata": {},
     "output_type": "display_data"
    }
   ],
   "source": [
    "sns.set(rc={'figure.figsize':(10, 5)}) # Tamaño de la figura\n",
    "sns.set(style=\"whitegrid\") # Estilo de la figura\n",
    "sns.boxplot(data = Paginas, linewidth = 3, palette=\"Set2\", fliersize = 5) # Diagrama Box Plot\n",
    "sns.despine(left=True)"
   ]
  },
  {
   "cell_type": "code",
   "execution_count": 96,
   "metadata": {
    "id": "LOCZijdvAyfH"
   },
   "outputs": [],
   "source": [
    "Nombres = np.array(['Web 1', 'Web 2', 'Web 3', 'Web 4'])\n",
    "Nombres_repetidos = numpy.matlib.repmat(Nombres,1,Paginas.shape[0])"
   ]
  },
  {
   "cell_type": "code",
   "execution_count": 97,
   "metadata": {
    "id": "b41z0X_hEEtU"
   },
   "outputs": [],
   "source": [
    "datos_paginas = Paginas.values.reshape(1,Paginas.shape[0]*Paginas.shape[1])"
   ]
  },
  {
   "cell_type": "code",
   "execution_count": 100,
   "metadata": {
    "id": "K6kA0R83Efbz"
   },
   "outputs": [],
   "source": [
    "datos_pagina_concatenados = pd.concat(\n",
    "    [pd.DataFrame(Nombres_repetidos.T, columns=['Pagina']),\n",
    "     pd.DataFrame(datos_paginas.T, columns=['Tiempo'])], \n",
    "    axis=1)"
   ]
  },
  {
   "cell_type": "code",
   "execution_count": 101,
   "metadata": {
    "colab": {
     "base_uri": "https://localhost:8080/",
     "height": 676
    },
    "id": "RYtl1NhsEuVM",
    "outputId": "5fdbae31-2128-4e7e-f09d-4c47215596a4"
   },
   "outputs": [
    {
     "data": {
      "text/html": [
       "<div>\n",
       "<style scoped>\n",
       "    .dataframe tbody tr th:only-of-type {\n",
       "        vertical-align: middle;\n",
       "    }\n",
       "\n",
       "    .dataframe tbody tr th {\n",
       "        vertical-align: top;\n",
       "    }\n",
       "\n",
       "    .dataframe thead th {\n",
       "        text-align: right;\n",
       "    }\n",
       "</style>\n",
       "<table border=\"1\" class=\"dataframe\">\n",
       "  <thead>\n",
       "    <tr style=\"text-align: right;\">\n",
       "      <th></th>\n",
       "      <th>Pagina</th>\n",
       "      <th>Tiempo</th>\n",
       "    </tr>\n",
       "  </thead>\n",
       "  <tbody>\n",
       "    <tr>\n",
       "      <th>0</th>\n",
       "      <td>Web 1</td>\n",
       "      <td>164</td>\n",
       "    </tr>\n",
       "    <tr>\n",
       "      <th>1</th>\n",
       "      <td>Web 2</td>\n",
       "      <td>178</td>\n",
       "    </tr>\n",
       "    <tr>\n",
       "      <th>2</th>\n",
       "      <td>Web 3</td>\n",
       "      <td>175</td>\n",
       "    </tr>\n",
       "    <tr>\n",
       "      <th>3</th>\n",
       "      <td>Web 4</td>\n",
       "      <td>155</td>\n",
       "    </tr>\n",
       "    <tr>\n",
       "      <th>4</th>\n",
       "      <td>Web 1</td>\n",
       "      <td>172</td>\n",
       "    </tr>\n",
       "    <tr>\n",
       "      <th>5</th>\n",
       "      <td>Web 2</td>\n",
       "      <td>191</td>\n",
       "    </tr>\n",
       "    <tr>\n",
       "      <th>6</th>\n",
       "      <td>Web 3</td>\n",
       "      <td>193</td>\n",
       "    </tr>\n",
       "    <tr>\n",
       "      <th>7</th>\n",
       "      <td>Web 4</td>\n",
       "      <td>166</td>\n",
       "    </tr>\n",
       "    <tr>\n",
       "      <th>8</th>\n",
       "      <td>Web 1</td>\n",
       "      <td>177</td>\n",
       "    </tr>\n",
       "    <tr>\n",
       "      <th>9</th>\n",
       "      <td>Web 2</td>\n",
       "      <td>182</td>\n",
       "    </tr>\n",
       "    <tr>\n",
       "      <th>10</th>\n",
       "      <td>Web 3</td>\n",
       "      <td>171</td>\n",
       "    </tr>\n",
       "    <tr>\n",
       "      <th>11</th>\n",
       "      <td>Web 4</td>\n",
       "      <td>164</td>\n",
       "    </tr>\n",
       "    <tr>\n",
       "      <th>12</th>\n",
       "      <td>Web 1</td>\n",
       "      <td>156</td>\n",
       "    </tr>\n",
       "    <tr>\n",
       "      <th>13</th>\n",
       "      <td>Web 2</td>\n",
       "      <td>185</td>\n",
       "    </tr>\n",
       "    <tr>\n",
       "      <th>14</th>\n",
       "      <td>Web 3</td>\n",
       "      <td>163</td>\n",
       "    </tr>\n",
       "    <tr>\n",
       "      <th>15</th>\n",
       "      <td>Web 4</td>\n",
       "      <td>170</td>\n",
       "    </tr>\n",
       "    <tr>\n",
       "      <th>16</th>\n",
       "      <td>Web 1</td>\n",
       "      <td>195</td>\n",
       "    </tr>\n",
       "    <tr>\n",
       "      <th>17</th>\n",
       "      <td>Web 2</td>\n",
       "      <td>177</td>\n",
       "    </tr>\n",
       "    <tr>\n",
       "      <th>18</th>\n",
       "      <td>Web 3</td>\n",
       "      <td>176</td>\n",
       "    </tr>\n",
       "    <tr>\n",
       "      <th>19</th>\n",
       "      <td>Web 4</td>\n",
       "      <td>168</td>\n",
       "    </tr>\n",
       "  </tbody>\n",
       "</table>\n",
       "</div>"
      ],
      "text/plain": [
       "   Pagina  Tiempo\n",
       "0   Web 1     164\n",
       "1   Web 2     178\n",
       "2   Web 3     175\n",
       "3   Web 4     155\n",
       "4   Web 1     172\n",
       "5   Web 2     191\n",
       "6   Web 3     193\n",
       "7   Web 4     166\n",
       "8   Web 1     177\n",
       "9   Web 2     182\n",
       "10  Web 3     171\n",
       "11  Web 4     164\n",
       "12  Web 1     156\n",
       "13  Web 2     185\n",
       "14  Web 3     163\n",
       "15  Web 4     170\n",
       "16  Web 1     195\n",
       "17  Web 2     177\n",
       "18  Web 3     176\n",
       "19  Web 4     168"
      ]
     },
     "execution_count": 101,
     "metadata": {},
     "output_type": "execute_result"
    }
   ],
   "source": [
    "datos_pagina_concatenados"
   ]
  },
  {
   "cell_type": "code",
   "execution_count": 102,
   "metadata": {
    "id": "tQk1RcnY7Gxq"
   },
   "outputs": [],
   "source": [
    "datos_agrupados = datos_pagina_concatenados.groupby('Pagina')"
   ]
  },
  {
   "cell_type": "markdown",
   "metadata": {
    "id": "uAk56nHnJTGK"
   },
   "source": [
    "A partir del agrupamiento de los datos con `groupby`, el test ANOVA se realiza un procedimiento con remuestreo de datos para facilitar la comparación entre las cuatro variables de la base de datos. En este caso, vamos a mezclar y extraer cuatro remuestreos de cinco valores cada uno. Luego, calculamos la media de cada una de las cuatro variables o características y posteriormente, calculamos la varianza observada en cada una. Finalmente, repetimos este proceso varias veces hasta encontrar un valor de prueba `Pr(Prob)` que podamos comparar con el valor p de referencia de 0.05"
   ]
  },
  {
   "cell_type": "code",
   "execution_count": 103,
   "metadata": {
    "colab": {
     "base_uri": "https://localhost:8080/"
    },
    "id": "xdkLUJaB7sQK",
    "outputId": "a12de471-0f41-422b-937d-d18fc04dcdab"
   },
   "outputs": [
    {
     "name": "stdout",
     "output_type": "stream",
     "text": [
      "Medias observadas de la base de datos:  [172.8 182.6 175.6 164.6]\n",
      "Varianza Observada:  55.426666666666655\n"
     ]
    }
   ],
   "source": [
    "Varianza_Observada = datos_agrupados.mean().var()[0]\n",
    "print(\"Medias observadas de la base de datos: \", datos_agrupados.mean().values.ravel())\n",
    "print(\"Varianza Observada: \", Varianza_Observada)"
   ]
  },
  {
   "cell_type": "markdown",
   "metadata": {
    "id": "1V5jgp-KOEem"
   },
   "source": [
    "Para el remuestreo, realizamos una prueba de permutación exhaustiva, el cual nos permite descubrir todas las formas posibles en que podemos dividir y mezclar los datos de forma aleatoria. Con la cantidad de repeticiones que generemos, es probable que nos permita acercanos o alejarnos de un intervalo de confianza p de 0.05. \n",
    "\n",
    "**Nota:** Esta estrategía es válida si el tamaño de los datos es pequeño. Para datos de mayor tamaño, la permutación basado en boostrap sería lo más recomendable."
   ]
  },
  {
   "cell_type": "code",
   "execution_count": 105,
   "metadata": {
    "id": "kRHIspun79Yj"
   },
   "outputs": [],
   "source": [
    "def test_permutaciones(data):\n",
    "    data = data.copy()\n",
    "    data['Tiempo'] = np.random.permutation(data['Tiempo'].values)\n",
    "    return data.groupby('Pagina').mean().var()[0]"
   ]
  },
  {
   "cell_type": "code",
   "execution_count": 88,
   "metadata": {
    "colab": {
     "base_uri": "https://localhost:8080/"
    },
    "id": "sk0PjQ7-HQzi",
    "outputId": "adb555be-2c6d-4817-87af-5842c268c3dc"
   },
   "outputs": [
    {
     "name": "stdout",
     "output_type": "stream",
     "text": [
      "Pr(Prob) 0.07733333333333334\n"
     ]
    }
   ],
   "source": [
    "permutaciones_varianza = [test_permutaciones(datos_pagina_concatenados) for _ in range(3000)] # repetimos el proceso 3000 veces\n",
    "print(\"Pr(Prob)\", np.mean([var > Varianza_Observada for var in permutaciones_varianza]))"
   ]
  },
  {
   "cell_type": "code",
   "execution_count": 89,
   "metadata": {
    "colab": {
     "base_uri": "https://localhost:8080/",
     "height": 365
    },
    "id": "J0aZesENISaM",
    "outputId": "bd51a909-42c0-4dc8-db9b-8818af1d8dcb"
   },
   "outputs": [
    {
     "data": {
      "image/png": "[encoded data removed]",
      "text/plain": [
       "<Figure size 360x360 with 1 Axes>"
      ]
     },
     "metadata": {},
     "output_type": "display_data"
    }
   ],
   "source": [
    "fig, ax = plt.subplots(figsize=(5, 5))\n",
    "ax.hist(permutaciones_varianza, bins = 15, rwidth = 0.9)\n",
    "ax.axvline(x = Varianza_Observada, color='red', lw=2)\n",
    "ax.text(60, 200, 'Varianza\\nObservada', bbox={'facecolor':'white'})\n",
    "ax.set_xlabel('Varianza')\n",
    "ax.set_ylabel('Frecuencias')\n",
    "\n",
    "plt.tight_layout()\n",
    "plt.show()"
   ]
  },
  {
   "cell_type": "markdown",
   "metadata": {
    "id": "VGdOcv7RKwjX"
   },
   "source": [
    "El valor p del test ANOVA nos genero un valor de 0.074, lo cual es mayor al valor p tradicional de 0.05. Esto significa que la diferencia entre las cuatro variables se generaron por casualidad o coincidencia."
   ]
  },
  {
   "cell_type": "markdown",
   "metadata": {
    "id": "82xMKwV50MwP"
   },
   "source": [
    "#### F- Measure"
   ]
  },
  {
   "cell_type": "markdown",
   "metadata": {
    "id": "s3U9jUz5N6KO"
   },
   "source": [
    "F-Measure o el estadístico F permite reemplazar la prueba de permutación del ANOVA por un test estadístico basado en la razón entre la varianza de las medias de un grupo de datos y la varianza generada por el error residual de los datos. Si el valor de este test es mayor, más significativo estadísticamente será el resultado del análisis.\n",
    "\n"
   ]
  },
  {
   "cell_type": "markdown",
   "metadata": {
    "id": "6mNUdKAnQKk9"
   },
   "source": [
    "*Descripción complementaria del estadístico F para ANOVA*:\n",
    "\n",
    "El análisis ANOVA básico se define matemáticamente a partir de un parámetro llamado **número de niveles**, $p$, tal que $y_{k,l}$ es el valor observable definido como una variable dependiente (función de pronóstico):\n",
    "\n",
    "$$y_{k,l} = \\mu + \\alpha_l + \\epsilon_{k,l}$$\n",
    "\n",
    "donde:\n",
    "\n",
    "*   $\\mu$ es un valor constante que representa el punto de corte con el eje $y$. \n",
    "*   $l$ es la etiqueta en el cual indica el nivel del factor, siendo $l = \\lbrace 1,\\ldots, p \\rbrace$\n",
    "*   $k$ es la $k$-enésima prueba o test, siendo $k = \\lbrace 1, \\ldots, n_l\\rbrace$ y $n_l$ es el número de tratamientos o pruebas para un nivel de factor $l$.\n",
    "*   $\\alpha_l$ es el efecto del $l$-enésimo nivel que varia la prueba o tratamiento.  \n",
    "*   $\\epsilon_{k,l}$ es una variable independiente y aleatoria que adiciona un margen de error entre un valor predicho y un valor conocido u observable. \n",
    "\n",
    "Si $\\epsilon_{k,l} = 0$ entonces $l = 0$ y por consiguiente se obtiene una función de pronóstico llamado **media de la prueba o tratamiento:**\n",
    "\n",
    "$$y_{k} = \\mu + \\alpha_l$$\n",
    "\n",
    "Si $y_{k,l} = y_k + \\epsilon_{k,l}$, donde asumimos que los valores predichos de $y_{k,l}$ tendrá un margen de error $\\epsilon_{k,l}$, se puede afirmar que la ecuación $y_{k} = \\mu + \\alpha_l$ se puede reescribir como:\n",
    "\n",
    "$$y_{k,l} -\\epsilon_{k,l} = y_k + \\epsilon_{k,l} - \\hat{y}$$\n",
    "\n",
    "donde $\\hat{y}$ es la media general de los valores predichos. Como ANOVA analiza variaciones de varianza, se puede escribir la anterior ecuación como:\n",
    "\n",
    "$$\\sum_k \\sum_l (y_{k,l} -\\hat{y})^2 = \\sum_k \\sum_l (y_{k,l} - y_k)^2 + N\\sum_k (y_{k} - \\hat{y})^2$$\n",
    "\n",
    "donde:\n",
    "\n",
    "*   $S_{r} = N\\sum_k (y_{k} - \\hat{y})^2$ es una métrica que mide la variación debida *al nivel de factor* (error de regresión de cuadrados).\n",
    "*   $S_{e} = \\sum_k \\sum_l (y_{k,l} - y_k)^2$ es una métrica que relaciona la varianza dentro de *cada* factor (error de cuadrados).\n",
    "\n",
    "De esta manera, la **varianza total**, $S_{t} = S_{r} + S_{e}$. A partir de $S{r}$ y $S_{e}$, se puede establecer varias medidas que nos permitirá analizar si se acepta o no una hipótesis nula. Una de las medidas es el **F-distribución**, dado por una razón entre $S{r}$ y $S_{e}$:\n",
    "\n",
    "$$F_{distribucion} = \\frac{S_{r}/(p - 1)}{S_{e}/(n_{l} - p)}$$\n",
    "\n",
    "Si $F_{distribucion}$ es un valor grande, entonces hay mayor probabilidad que se acepte la hipótesis nula. Para encontrar $p_{value}$ que permite aceptar o rechazar la hipótesis nula, se puede usar la métrica $F_{distribucion}$ con $p-1$ y $n_{l} - 1$. "
   ]
  },
  {
   "cell_type": "code",
   "execution_count": 90,
   "metadata": {
    "id": "HZ8TTG6eQKLF"
   },
   "outputs": [],
   "source": [
    "Modelo_OLS = smf.ols('Tiempo ~ Pagina', data = datos_pagina_concatenados).fit()\n",
    "# Creamos un modelo de regresión de mínimo cuadrados ordinarios"
   ]
  },
  {
   "cell_type": "code",
   "execution_count": 91,
   "metadata": {
    "colab": {
     "base_uri": "https://localhost:8080/"
    },
    "id": "dLsAb1qK8zT2",
    "outputId": "58af1969-a808-4527-d0b6-33891e2aae41"
   },
   "outputs": [
    {
     "name": "stdout",
     "output_type": "stream",
     "text": [
      "            df  sum_sq     mean_sq         F    PR(>F)\n",
      "Pagina     3.0   831.4  277.133333  2.739825  0.077586\n",
      "Residual  16.0  1618.4  101.150000       NaN       NaN\n"
     ]
    }
   ],
   "source": [
    "Tabla = sm.stats.anova_lm(Modelo_OLS)\n",
    "print(Tabla)"
   ]
  },
  {
   "cell_type": "markdown",
   "metadata": {
    "id": "dLfzK2VL-aK0"
   },
   "source": [
    "`sum_sq` es la suma de cuadrados, `mean_sq` es cuadrados medios o desviaciones cuadráticas medias, `F` es el estadístico F, `df` es el grado de libertas y `PR(>F)` es el valor p estimados por ANOVA F-estadístico.\n",
    "\n",
    "Para el promedio general, la suma de cuadrados es la desviación del promedio general, al cuadrado, multiplicado por un número de observaciones, que por defecto, son 20.\n",
    "\n",
    "El número de grados de libertad por defecto es 1.0 pero al realizar el análisis, el grado de libertad aumentó a 3.0. Lo anterior se debe a que para las medias del tratamiento, una vez se establecen tres valores y luego se establece el promedio general, la otra media del tratamiento no puede variar. En el caso de la suma de los cuadrados de las medias del tratamiento es la suma de las desviaciones al cuadrado entre las medias del tratamiento y el promedio general. \n",
    "\n",
    "En el caso de los residuos, hay 16 grados de libertad, de los cuales en 20 observaciones, hay 16 observaciones que pueden variar después que se genere la media general y las medias del tratamiento.\n",
    "\n",
    "SS es la suma de las diferencia al cuadrado entre las observaciones individuales de los datos y las medias del tratamiento.\n",
    "\n",
    "Los cuadrados medios o desviaciones cuadráticas medias es la suma de los cuadrados dividida por los grados de libertad.\n",
    "\n",
    "Por tanto, el estadístico F sería la razón entre los cuadrados medios para las medias del tratamiento y los cuadrados medios del error.\n",
    "\n",
    "Considerando lo anterior, estamos trabajando ANOVA unidireccional o *one way*, el cual se tiene un factor o grupo que varía. Veamos como se podría implementar:"
   ]
  },
  {
   "cell_type": "code",
   "execution_count": 116,
   "metadata": {
    "colab": {
     "base_uri": "https://localhost:8080/"
    },
    "id": "7YzbVcNP9Z18",
    "outputId": "5e9b3910-5489-42ed-d216-35eb004f9a54"
   },
   "outputs": [
    {
     "name": "stdout",
     "output_type": "stream",
     "text": [
      "F-Statistic: 2.7398\n",
      "p-value: 0.0776\n"
     ]
    }
   ],
   "source": [
    "import scipy\n",
    "analisis = scipy.stats.f_oneway(datos_pagina_concatenados[datos_pagina_concatenados.Pagina == 'Web 1'].Tiempo, \n",
    "                     datos_pagina_concatenados[datos_pagina_concatenados.Pagina == 'Web 2'].Tiempo,\n",
    "                     datos_pagina_concatenados[datos_pagina_concatenados.Pagina == 'Web 3'].Tiempo,\n",
    "                     datos_pagina_concatenados[datos_pagina_concatenados.Pagina == 'Web 4'].Tiempo)\n",
    "print(f'F-Statistic: {analisis.statistic:.4f}')\n",
    "print(f'p-value: {analisis.pvalue:.4f}')"
   ]
  },
  {
   "cell_type": "markdown",
   "metadata": {
    "id": "2dg_fHW0JGKW"
   },
   "source": [
    "Considerando `F-Statistic` y `p-value`, no hay diferencias estadísticamente significativos entre las variables y por consiguiente, la diferencia entre las cuatro variables se generaron por casualidad o coincidencia. \n",
    "\n",
    "\n",
    "\n",
    "\n"
   ]
  },
  {
   "cell_type": "markdown",
   "metadata": {
    "id": "dA65bT7R0PrX"
   },
   "source": [
    "#### Selección de características con ANOVA F-Measure"
   ]
  },
  {
   "cell_type": "code",
   "execution_count": 117,
   "metadata": {
    "colab": {
     "base_uri": "https://localhost:8080/",
     "height": 206
    },
    "id": "p1sn-vv6Iufu",
    "outputId": "a79c8e2f-4aca-42ad-8d08-818b1ae0a9f5"
   },
   "outputs": [
    {
     "data": {
      "text/html": [
       "<div>\n",
       "<style scoped>\n",
       "    .dataframe tbody tr th:only-of-type {\n",
       "        vertical-align: middle;\n",
       "    }\n",
       "\n",
       "    .dataframe tbody tr th {\n",
       "        vertical-align: top;\n",
       "    }\n",
       "\n",
       "    .dataframe thead th {\n",
       "        text-align: right;\n",
       "    }\n",
       "</style>\n",
       "<table border=\"1\" class=\"dataframe\">\n",
       "  <thead>\n",
       "    <tr style=\"text-align: right;\">\n",
       "      <th></th>\n",
       "      <th>Caracteristica</th>\n",
       "      <th>F_estadistica</th>\n",
       "      <th>value-p</th>\n",
       "    </tr>\n",
       "  </thead>\n",
       "  <tbody>\n",
       "    <tr>\n",
       "      <th>0</th>\n",
       "      <td>Aa</td>\n",
       "      <td>454.059232</td>\n",
       "      <td>8.270064e-97</td>\n",
       "    </tr>\n",
       "    <tr>\n",
       "      <th>1</th>\n",
       "      <td>Ao</td>\n",
       "      <td>304.683234</td>\n",
       "      <td>2.031720e-66</td>\n",
       "    </tr>\n",
       "    <tr>\n",
       "      <th>2</th>\n",
       "      <td>Dcl</td>\n",
       "      <td>532.471563</td>\n",
       "      <td>1.920298e-112</td>\n",
       "    </tr>\n",
       "    <tr>\n",
       "      <th>3</th>\n",
       "      <td>Iy</td>\n",
       "      <td>664.465922</td>\n",
       "      <td>2.726775e-138</td>\n",
       "    </tr>\n",
       "    <tr>\n",
       "      <th>4</th>\n",
       "      <td>Sh</td>\n",
       "      <td>117.752969</td>\n",
       "      <td>3.736565e-27</td>\n",
       "    </tr>\n",
       "  </tbody>\n",
       "</table>\n",
       "</div>"
      ],
      "text/plain": [
       "  Caracteristica  F_estadistica        value-p\n",
       "0             Aa     454.059232   8.270064e-97\n",
       "1             Ao     304.683234   2.031720e-66\n",
       "2            Dcl     532.471563  1.920298e-112\n",
       "3             Iy     664.465922  2.726775e-138\n",
       "4             Sh     117.752969   3.736565e-27"
      ]
     },
     "execution_count": 117,
     "metadata": {},
     "output_type": "execute_result"
    }
   ],
   "source": [
    "F_estadistica, value_p = f_classif(X_norm, Y)\n",
    "Tabla = pd.DataFrame(np.vstack([F_estadistica, value_p]).T, columns = ['F_estadistica', 'value-p'])\n",
    "Tabla_concatenada = pd.concat([pd.DataFrame(X.columns, columns = ['Caracteristica']), Tabla], axis = 1)\n",
    "Tabla_concatenada"
   ]
  },
  {
   "cell_type": "code",
   "execution_count": 118,
   "metadata": {
    "id": "g7PTwmlALp2Q"
   },
   "outputs": [],
   "source": [
    "Modelo_Seleccion_F_Estadistica = SelectKBest(f_classif, k = 2) # k = 2 es el número de características para seleccionar si los valores Chi-Cudrada\n",
    "                                                         # son los más grandes comparado con otros valores."
   ]
  },
  {
   "cell_type": "code",
   "execution_count": 119,
   "metadata": {
    "colab": {
     "base_uri": "https://localhost:8080/"
    },
    "id": "jWwHke2KL8sQ",
    "outputId": "1ef13b1e-1d22-4ed0-f05a-15d562887489"
   },
   "outputs": [
    {
     "data": {
      "text/plain": [
       "(5404, 2)"
      ]
     },
     "execution_count": 119,
     "metadata": {},
     "output_type": "execute_result"
    }
   ],
   "source": [
    "X_Norm_Seleccionado = Modelo_Seleccion_F_Estadistica.fit_transform(X_norm, Y)\n",
    "X_Norm_Seleccionado.shape"
   ]
  },
  {
   "cell_type": "code",
   "execution_count": 120,
   "metadata": {
    "colab": {
     "base_uri": "https://localhost:8080/"
    },
    "id": "J0IfQvPQMFj5",
    "outputId": "17a6af53-dfdd-4cfc-f7b4-719a2d6f0d5a"
   },
   "outputs": [
    {
     "name": "stdout",
     "output_type": "stream",
     "text": [
      "Características seleccionadas =  Index(['Dcl', 'Iy'], dtype='object')\n"
     ]
    }
   ],
   "source": [
    "Media_Original = X_norm.mean()\n",
    "Media_Seleccionados = pd.DataFrame(X_Norm_Seleccionado).mean()\n",
    "Medias_Caracteristicas_Seleccionadas = []\n",
    "\n",
    "for a in range(len(Media_Seleccionados)):\n",
    "    pos = Media_Original.loc[Media_Original == Media_Seleccionados[a]]\n",
    "    Medias_Caracteristicas_Seleccionadas.append(pos)\n",
    "\n",
    "Medias_Caracteristicas_Seleccionadas = pd.DataFrame(Medias_Caracteristicas_Seleccionadas)\n",
    "Caracteristicas_Seleccionadas = Medias_Caracteristicas_Seleccionadas.columns\n",
    "print(\"Características seleccionadas = \", Caracteristicas_Seleccionadas)"
   ]
  },
  {
   "cell_type": "code",
   "execution_count": 122,
   "metadata": {
    "colab": {
     "base_uri": "https://localhost:8080/",
     "height": 423
    },
    "id": "aRpEEQ5RMTlW",
    "outputId": "a3534261-db5c-4e75-ba43-551687580f3b"
   },
   "outputs": [
    {
     "data": {
      "text/html": [
       "<div>\n",
       "<style scoped>\n",
       "    .dataframe tbody tr th:only-of-type {\n",
       "        vertical-align: middle;\n",
       "    }\n",
       "\n",
       "    .dataframe tbody tr th {\n",
       "        vertical-align: top;\n",
       "    }\n",
       "\n",
       "    .dataframe thead th {\n",
       "        text-align: right;\n",
       "    }\n",
       "</style>\n",
       "<table border=\"1\" class=\"dataframe\">\n",
       "  <thead>\n",
       "    <tr style=\"text-align: right;\">\n",
       "      <th></th>\n",
       "      <th>Dcl</th>\n",
       "      <th>Iy</th>\n",
       "    </tr>\n",
       "  </thead>\n",
       "  <tbody>\n",
       "    <tr>\n",
       "      <th>0</th>\n",
       "      <td>-0.205</td>\n",
       "      <td>-0.078</td>\n",
       "    </tr>\n",
       "    <tr>\n",
       "      <th>1</th>\n",
       "      <td>1.035</td>\n",
       "      <td>-0.332</td>\n",
       "    </tr>\n",
       "    <tr>\n",
       "      <th>2</th>\n",
       "      <td>1.300</td>\n",
       "      <td>1.041</td>\n",
       "    </tr>\n",
       "    <tr>\n",
       "      <th>3</th>\n",
       "      <td>2.555</td>\n",
       "      <td>-0.738</td>\n",
       "    </tr>\n",
       "    <tr>\n",
       "      <th>4</th>\n",
       "      <td>2.656</td>\n",
       "      <td>-0.946</td>\n",
       "    </tr>\n",
       "    <tr>\n",
       "      <th>...</th>\n",
       "      <td>...</td>\n",
       "      <td>...</td>\n",
       "    </tr>\n",
       "    <tr>\n",
       "      <th>5399</th>\n",
       "      <td>0.689</td>\n",
       "      <td>1.828</td>\n",
       "    </tr>\n",
       "    <tr>\n",
       "      <th>5400</th>\n",
       "      <td>0.793</td>\n",
       "      <td>0.383</td>\n",
       "    </tr>\n",
       "    <tr>\n",
       "      <th>5401</th>\n",
       "      <td>1.866</td>\n",
       "      <td>1.532</td>\n",
       "    </tr>\n",
       "    <tr>\n",
       "      <th>5402</th>\n",
       "      <td>2.363</td>\n",
       "      <td>-0.742</td>\n",
       "    </tr>\n",
       "    <tr>\n",
       "      <th>5403</th>\n",
       "      <td>1.350</td>\n",
       "      <td>0.972</td>\n",
       "    </tr>\n",
       "  </tbody>\n",
       "</table>\n",
       "<p>5404 rows × 2 columns</p>\n",
       "</div>"
      ],
      "text/plain": [
       "        Dcl     Iy\n",
       "0    -0.205 -0.078\n",
       "1     1.035 -0.332\n",
       "2     1.300  1.041\n",
       "3     2.555 -0.738\n",
       "4     2.656 -0.946\n",
       "...     ...    ...\n",
       "5399  0.689  1.828\n",
       "5400  0.793  0.383\n",
       "5401  1.866  1.532\n",
       "5402  2.363 -0.742\n",
       "5403  1.350  0.972\n",
       "\n",
       "[5404 rows x 2 columns]"
      ]
     },
     "metadata": {},
     "output_type": "display_data"
    }
   ],
   "source": [
    "X_seleccionado = X[['Dcl', 'Iy']]\n",
    "display(X_seleccionado)"
   ]
  },
  {
   "cell_type": "markdown",
   "metadata": {
    "id": "j1sOH5-6Nbia"
   },
   "source": [
    "## Usando Medidas de Entropía para Analizar un Conjunto de Datos para la Clasificación de Datos"
   ]
  },
  {
   "cell_type": "markdown",
   "metadata": {
    "id": "vdcOX1PUN066"
   },
   "source": [
    "Considerando la importancia de las métricas de entropía para medir la cantidad de información de un conjunto de datos, se puede adaptar la entropía de Shannon para tareas de selección de variables o características, usando la teoría de la **información mutua** que se vio en la sesión 3_3 --> información mutua para datos categóricos. \n",
    "\n",
    "La **información mutua** permite medir la dependencia entre las variables o características pero se estima con distancias de vecinos más cercanos para evitar hasta lo posible la reducción de la varianza. Cuando el valor de la entropía es 0, las variables son independientes, y un valor de entropía cercano a 1, hay una alta dependencia entre las variables."
   ]
  },
  {
   "cell_type": "code",
   "execution_count": 108,
   "metadata": {
    "id": "HpJTK37dPmn6"
   },
   "outputs": [],
   "source": [
    "seleccion = mutual_info_classif(X_norm, Y, discrete_features = 'auto', n_neighbors = 3)"
   ]
  },
  {
   "cell_type": "markdown",
   "metadata": {
    "id": "vP-Rjz49QXY4"
   },
   "source": [
    "**NOTA:** Al incrementar el número de vecinos, se logra reducir la varianza durante la estimación de la entropía relativa pero hay riesgos de aumentar el sesgo si el número de muestras o filas de la base de datos es grande."
   ]
  },
  {
   "cell_type": "code",
   "execution_count": 109,
   "metadata": {
    "colab": {
     "base_uri": "https://localhost:8080/",
     "height": 206
    },
    "id": "is-lqR9YQ1pk",
    "outputId": "670b897d-0e93-4ddf-c840-47f813d520c8"
   },
   "outputs": [
    {
     "data": {
      "text/html": [
       "<div>\n",
       "<style scoped>\n",
       "    .dataframe tbody tr th:only-of-type {\n",
       "        vertical-align: middle;\n",
       "    }\n",
       "\n",
       "    .dataframe tbody tr th {\n",
       "        vertical-align: top;\n",
       "    }\n",
       "\n",
       "    .dataframe thead th {\n",
       "        text-align: right;\n",
       "    }\n",
       "</style>\n",
       "<table border=\"1\" class=\"dataframe\">\n",
       "  <thead>\n",
       "    <tr style=\"text-align: right;\">\n",
       "      <th></th>\n",
       "      <th>Caracteristica</th>\n",
       "      <th>Cantidad de Información</th>\n",
       "    </tr>\n",
       "  </thead>\n",
       "  <tbody>\n",
       "    <tr>\n",
       "      <th>0</th>\n",
       "      <td>Aa</td>\n",
       "      <td>0.093388</td>\n",
       "    </tr>\n",
       "    <tr>\n",
       "      <th>1</th>\n",
       "      <td>Ao</td>\n",
       "      <td>0.076791</td>\n",
       "    </tr>\n",
       "    <tr>\n",
       "      <th>2</th>\n",
       "      <td>Dcl</td>\n",
       "      <td>0.119754</td>\n",
       "    </tr>\n",
       "    <tr>\n",
       "      <th>3</th>\n",
       "      <td>Iy</td>\n",
       "      <td>0.176389</td>\n",
       "    </tr>\n",
       "    <tr>\n",
       "      <th>4</th>\n",
       "      <td>Sh</td>\n",
       "      <td>0.139993</td>\n",
       "    </tr>\n",
       "  </tbody>\n",
       "</table>\n",
       "</div>"
      ],
      "text/plain": [
       "  Caracteristica  Cantidad de Información\n",
       "0             Aa                 0.093388\n",
       "1             Ao                 0.076791\n",
       "2            Dcl                 0.119754\n",
       "3             Iy                 0.176389\n",
       "4             Sh                 0.139993"
      ]
     },
     "execution_count": 109,
     "metadata": {},
     "output_type": "execute_result"
    }
   ],
   "source": [
    "Tabla_concatenada = pd.concat([pd.DataFrame(X.columns, columns = ['Caracteristica']), \n",
    "                               pd.DataFrame(seleccion, columns = ['Cantidad de Información'])], \n",
    "                              axis = 1)\n",
    "Tabla_concatenada"
   ]
  },
  {
   "cell_type": "code",
   "execution_count": 111,
   "metadata": {
    "id": "8wo-XVbbS55c"
   },
   "outputs": [],
   "source": [
    "data_seleccionado_Norm = X_norm[['Dcl', 'Iy', 'Sh']]"
   ]
  },
  {
   "cell_type": "code",
   "execution_count": 112,
   "metadata": {
    "id": "XrlEFiI0T_yV"
   },
   "outputs": [],
   "source": [
    "X_norm_selected_train, X_norm_selected_test, y_2_train, y_2_test = train_test_split(data_seleccionado_Norm, Y, train_size = 0.7) \n",
    "                                                                                               # 0.7 es el 70% de los datos son para\n",
    "                                                                                               # crear el modelo de clasificación de datos\n",
    "                                                                                               # el 30% restante son los datos para realizar\n",
    "                                                                                               # una validación del modelo. "
   ]
  },
  {
   "cell_type": "code",
   "execution_count": 113,
   "metadata": {
    "colab": {
     "base_uri": "https://localhost:8080/"
    },
    "id": "zOa6fowRUQ0y",
    "outputId": "15cb9a13-1513-4cdf-bc03-39e38aef42cd"
   },
   "outputs": [
    {
     "data": {
      "text/html": [
       "<style>#sk-container-id-2 {color: black;background-color: white;}#sk-container-id-2 pre{padding: 0;}#sk-container-id-2 div.sk-toggleable {background-color: white;}#sk-container-id-2 label.sk-toggleable__label {cursor: pointer;display: block;width: 100%;margin-bottom: 0;padding: 0.3em;box-sizing: border-box;text-align: center;}#sk-container-id-2 label.sk-toggleable__label-arrow:before {content: \"▸\";float: left;margin-right: 0.25em;color: #696969;}#sk-container-id-2 label.sk-toggleable__label-arrow:hover:before {color: black;}#sk-container-id-2 div.sk-estimator:hover label.sk-toggleable__label-arrow:before {color: black;}#sk-container-id-2 div.sk-toggleable__content {max-height: 0;max-width: 0;overflow: hidden;text-align: left;background-color: #f0f8ff;}#sk-container-id-2 div.sk-toggleable__content pre {margin: 0.2em;color: black;border-radius: 0.25em;background-color: #f0f8ff;}#sk-container-id-2 input.sk-toggleable__control:checked~div.sk-toggleable__content {max-height: 200px;max-width: 100%;overflow: auto;}#sk-container-id-2 input.sk-toggleable__control:checked~label.sk-toggleable__label-arrow:before {content: \"▾\";}#sk-container-id-2 div.sk-estimator input.sk-toggleable__control:checked~label.sk-toggleable__label {background-color: #d4ebff;}#sk-container-id-2 div.sk-label input.sk-toggleable__control:checked~label.sk-toggleable__label {background-color: #d4ebff;}#sk-container-id-2 input.sk-hidden--visually {border: 0;clip: rect(1px 1px 1px 1px);clip: rect(1px, 1px, 1px, 1px);height: 1px;margin: -1px;overflow: hidden;padding: 0;position: absolute;width: 1px;}#sk-container-id-2 div.sk-estimator {font-family: monospace;background-color: #f0f8ff;border: 1px dotted black;border-radius: 0.25em;box-sizing: border-box;margin-bottom: 0.5em;}#sk-container-id-2 div.sk-estimator:hover {background-color: #d4ebff;}#sk-container-id-2 div.sk-parallel-item::after {content: \"\";width: 100%;border-bottom: 1px solid gray;flex-grow: 1;}#sk-container-id-2 div.sk-label:hover label.sk-toggleable__label {background-color: #d4ebff;}#sk-container-id-2 div.sk-serial::before {content: \"\";position: absolute;border-left: 1px solid gray;box-sizing: border-box;top: 0;bottom: 0;left: 50%;z-index: 0;}#sk-container-id-2 div.sk-serial {display: flex;flex-direction: column;align-items: center;background-color: white;padding-right: 0.2em;padding-left: 0.2em;position: relative;}#sk-container-id-2 div.sk-item {position: relative;z-index: 1;}#sk-container-id-2 div.sk-parallel {display: flex;align-items: stretch;justify-content: center;background-color: white;position: relative;}#sk-container-id-2 div.sk-item::before, #sk-container-id-2 div.sk-parallel-item::before {content: \"\";position: absolute;border-left: 1px solid gray;box-sizing: border-box;top: 0;bottom: 0;left: 50%;z-index: -1;}#sk-container-id-2 div.sk-parallel-item {display: flex;flex-direction: column;z-index: 1;position: relative;background-color: white;}#sk-container-id-2 div.sk-parallel-item:first-child::after {align-self: flex-end;width: 50%;}#sk-container-id-2 div.sk-parallel-item:last-child::after {align-self: flex-start;width: 50%;}#sk-container-id-2 div.sk-parallel-item:only-child::after {width: 0;}#sk-container-id-2 div.sk-dashed-wrapped {border: 1px dashed gray;margin: 0 0.4em 0.5em 0.4em;box-sizing: border-box;padding-bottom: 0.4em;background-color: white;}#sk-container-id-2 div.sk-label label {font-family: monospace;font-weight: bold;display: inline-block;line-height: 1.2em;}#sk-container-id-2 div.sk-label-container {text-align: center;}#sk-container-id-2 div.sk-container {/* jupyter's `normalize.less` sets `[hidden] { display: none; }` but bootstrap.min.css set `[hidden] { display: none !important; }` so we also need the `!important` here to be able to override the default hidden behavior on the sphinx rendered scikit-learn.org. See: https://github.com/scikit-learn/scikit-learn/issues/21755 */display: inline-block !important;position: relative;}#sk-container-id-2 div.sk-text-repr-fallback {display: none;}</style><div id=\"sk-container-id-2\" class=\"sk-top-container\"><div class=\"sk-text-repr-fallback\"><pre>GaussianNB()</pre><b>In a Jupyter environment, please rerun this cell to show the HTML representation or trust the notebook. <br />On GitHub, the HTML representation is unable to render, please try loading this page with nbviewer.org.</b></div><div class=\"sk-container\" hidden><div class=\"sk-item\"><div class=\"sk-estimator sk-toggleable\"><input class=\"sk-toggleable__control sk-hidden--visually\" id=\"sk-estimator-id-2\" type=\"checkbox\" checked><label for=\"sk-estimator-id-2\" class=\"sk-toggleable__label sk-toggleable__label-arrow\">GaussianNB</label><div class=\"sk-toggleable__content\"><pre>GaussianNB()</pre></div></div></div></div></div>"
      ],
      "text/plain": [
       "GaussianNB()"
      ]
     },
     "execution_count": 113,
     "metadata": {},
     "output_type": "execute_result"
    }
   ],
   "source": [
    "GNB_1 = GaussianNB() # Algoritmo Bayes Ingenuo Gaussiano para clasificar datos\n",
    "GNB_2 = GaussianNB()\n",
    "\n",
    "GNB_1.fit(X_norm_train, y_1_train)\n",
    "GNB_2.fit(X_norm_selected_train, y_2_train)"
   ]
  },
  {
   "cell_type": "code",
   "execution_count": 114,
   "metadata": {
    "colab": {
     "base_uri": "https://localhost:8080/"
    },
    "id": "SGZbwSIUUqIX",
    "outputId": "62779483-db40-4872-b4bc-53e48f409fa3"
   },
   "outputs": [
    {
     "name": "stdout",
     "output_type": "stream",
     "text": [
      "Exactitud de la clasificación con todas las características = 76.079 %\n",
      "Exactitud de la clasificación con las características seleccionadas = 74.599 %\n"
     ]
    }
   ],
   "source": [
    "Y_pred_all_features = GNB_1.predict(X_norm_test)\n",
    "Y_pred_selected_features = GNB_2.predict(X_norm_selected_test)\n",
    "\n",
    "print(\"Exactitud de la clasificación con todas las características = {:.3f} %\".format(100*accuracy_score(y_1_test,Y_pred_all_features)))\n",
    "print(\"Exactitud de la clasificación con las características seleccionadas = {:.3f} %\".format(100*accuracy_score(y_2_test,Y_pred_selected_features)))"
   ]
  },
  {
   "cell_type": "markdown",
   "metadata": {
    "id": "DSkYAZ8OVBos"
   },
   "source": [
    "Observen que en este escenario, la selección de las características realizado permitío aumentar la exactitud de la clasificación de los datos en 1 % aproximadamente."
   ]
  },
  {
   "cell_type": "code",
   "execution_count": null,
   "metadata": {},
   "outputs": [],
   "source": []
  }
 ],
 "metadata": {
  "colab": {
   "provenance": [],
   "toc_visible": true
  },
  "kernelspec": {
   "display_name": "Python 3 (ipykernel)",
   "language": "python",
   "name": "python3"
  },
  "language_info": {
   "codemirror_mode": {
    "name": "ipython",
    "version": 3
   },
   "file_extension": ".py",
   "mimetype": "text/x-python",
   "name": "python",
   "nbconvert_exporter": "python",
   "pygments_lexer": "ipython3",
   "version": "3.9.13"
  }
 },
 "nbformat": 4,
 "nbformat_minor": 4
}
