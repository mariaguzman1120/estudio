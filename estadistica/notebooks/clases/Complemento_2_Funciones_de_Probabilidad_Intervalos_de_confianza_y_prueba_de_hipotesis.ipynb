{
 "cells": [
  {
   "cell_type": "code",
   "execution_count": 1,
   "metadata": {
    "id": "o2cER5JjH4jJ"
   },
   "outputs": [],
   "source": [
    "#!wget --no-cache -O init.py -q https://raw.githubusercontent.com/UDEA-Esp-Analitica-y-Ciencia-de-Datos/EACD-02-ESTADISTICA/master/init.py\n",
    "#]import init; init.init(force_download=False); \n",
    "from IPython.display import Image"
   ]
  },
  {
   "cell_type": "code",
   "execution_count": 2,
   "metadata": {
    "colab": {
     "base_uri": "https://localhost:8080/",
     "height": 251
    },
    "id": "qKH-xqzpIPZN",
    "outputId": "376a0d14-5817-4baf-8bea-bbc671a795f3"
   },
   "outputs": [
    {
     "data": {
      "image/png": "[encoded data removed]",
      "text/plain": [
       "<IPython.core.display.Image object>"
      ]
     },
     "execution_count": 2,
     "metadata": {},
     "output_type": "execute_result"
    }
   ],
   "source": [
    "Image('../docs/udea-datascience.png')"
   ]
  },
  {
   "cell_type": "markdown",
   "metadata": {
    "id": "3VSLZJeIITFo"
   },
   "source": [
    "# **Funciones de Probabilidad, intervalos de confianza y prueba de hipótesis**\n",
    "\n",
    "## Desarrollado por: Prof. Javier Fernando Botía Valderrama\n",
    "\n",
    "## Materia: Estadística y Análisis Exploratorio\n",
    "\n",
    "## Universidad de Antioquia"
   ]
  },
  {
   "cell_type": "markdown",
   "metadata": {
    "id": "EYFkFmvwC6Rv"
   },
   "source": [
    "# Poblaciones y Muestras"
   ]
  },
  {
   "cell_type": "markdown",
   "metadata": {
    "id": "fao4o0egC_zi"
   },
   "source": [
    "En la estadística, es normal el uso de datos desde un conjunto de muestras selecionadas para sacar unas conclusiones derivadas del análisis de una población de datos. Debido a lo anterior, uno de los retos grandes de la estadística es determinar un tamaño de muestra de los datos que sea lo suficientemente representativo para tomar una decisión acertada. Por consiguiente, es necesario conocer la diferencia entre población y muestra:\n",
    "\n",
    "*   **Población**: consiste en todos los elementos de un conjunto de datos.\n",
    "*   **Muestras**: consiste de una o más observaciones desde la población. \n",
    "\n",
    "Cuando se estima un parámetro de una población, por ejemplo, la edad de los programadores de Python, tipicamente no podemos *medir* todos los programadores. Por está razón, es necesario limitar el análisis a una *muestra aleatoria* que permita inferir en una decisión o una conclusión a partir de los datos de muestra. Tales medidas son la media, la varianza, entre otras que más adelante los llamaremos como **estadísticos**, que es una caracteristica medible desde una muestra de datos.\n",
    "\n",
    "Aunque ya sabemos la diferencia entre población y muestras, ¿Cómo se selecciona la muestra desde una población?. Para responder a esa inquietud, hay dos clases de muestreo:\n",
    "\n",
    "*   **Muestreo sin reemplazos:** Una población de observaciones o individuos se selecciona una sola vez y *no se puede devolver de nuevo a la población*.\n",
    "*   **Muestreo con reemplazos:** Se realiza una selección aleatoria de observaciones o individuos antes de que el próximo sea seleccionado. A diferencia del muestreo sin reemplazos, se puede seleccionar más de una vez la población de individuos.\n",
    "\n",
    "Veamos un ejemplo práctico de poblaciones y muestras."
   ]
  },
  {
   "cell_type": "code",
   "execution_count": 3,
   "metadata": {
    "colab": {
     "base_uri": "https://localhost:8080/"
    },
    "id": "CA0e9raWTgWE",
    "outputId": "4ac6d61d-5395-4b1e-a718-42f23dc4f4b4"
   },
   "outputs": [
    {
     "name": "stdout",
     "output_type": "stream",
     "text": [
      "Muestreo sin reemplazos = \n",
      " 5     180\n",
      "2     136\n",
      "12    159\n",
      "9     133\n",
      "15    106\n",
      "17    185\n",
      "Name: poblacion, dtype: int64\n",
      "\n",
      "\n",
      "Muestreo con reemplazos = \n",
      " 10    177\n",
      "1     150\n",
      "0     101\n",
      "15    106\n",
      "9     133\n",
      "8     122\n",
      "Name: poblacion, dtype: int64\n"
     ]
    }
   ],
   "source": [
    "import pandas as pd\n",
    "\n",
    "X = pd.DataFrame()\n",
    "X['poblacion'] = [101, 150, 136, 147, 201, 180, 165, 199, 122, 133, 177, 141, 159, 205, 144, 106, 111, 185]\n",
    "Muestreo_SIN = X['poblacion'].sample(6,replace = False)\n",
    "Muestreo_CON = X['poblacion'].sample(6,replace = True)\n",
    "\n",
    "print(\"Muestreo sin reemplazos = \\n\", Muestreo_SIN)\n",
    "print(\"\\n\")\n",
    "print(\"Muestreo con reemplazos = \\n\", Muestreo_CON)"
   ]
  },
  {
   "cell_type": "markdown",
   "metadata": {
    "id": "fHwd5kZKTfFE"
   },
   "source": [
    "Otros dos conceptos que vamos a considerar para esta unidad son las siguientes:\n",
    "\n",
    "*   **Distribución de la muestra:** Son *distribuciones* de probabilidad de una estadística dada basada en una muestra aleatoria de los datos.\n",
    "*   **Inferencia estadística:** permite hacer una conjetura sobre un parámetro de la población basado en una estadística calculada a partir de una muestra extraida aleatoriamente desde esa población."
   ]
  },
  {
   "cell_type": "markdown",
   "metadata": {
    "id": "fxfAcYaeXcSi"
   },
   "source": [
    "## Probabilidad\n",
    "\n",
    "Es la asignación de un número real postivo, entre $0$ y $1$, a cada evento que indique la posibilidad que el evento ocurra.\n",
    "\n",
    "Suponga que en un experimento se puede realizar $n$ veces bajo las mismas condiciones. Si consideramos un evento $A$, se puede afirmar que:\n",
    "\n",
    "$$P(A) = \\frac{n(A)}{n}$$\n",
    "\n",
    "donde $n(A)$ es el número de veces que ocurre en $n$ experimentos. La anterior fórmula se llama **frecuencia relativa** que permite conocer una valor probable que suceda un evento de acuerdo al número de veces que se genera un evento. \n",
    "\n",
    "Veamos un ejemplo práctico de la frecuencia relativa."
   ]
  },
  {
   "cell_type": "code",
   "execution_count": 4,
   "metadata": {
    "colab": {
     "base_uri": "https://localhost:8080/",
     "height": 618
    },
    "id": "LNfPYqBIvYq6",
    "outputId": "c59f8cc9-d3ae-438b-f2d1-1b87cfd6c6ac"
   },
   "outputs": [
    {
     "data": {
      "image/png": "[encoded data removed]",
      "text/plain": [
       "<Figure size 720x720 with 1 Axes>"
      ]
     },
     "metadata": {
      "needs_background": "light"
     },
     "output_type": "display_data"
    }
   ],
   "source": [
    "import numpy as np\n",
    "import matplotlib\n",
    "from matplotlib import pyplot\n",
    "\n",
    "matplotlib.rcParams.update({'font.size': 18, 'font.family': 'STIXGeneral', 'mathtext.fontset': 'stix'})\n",
    "\n",
    "n = np.arange(100, 700, 100)\n",
    "nA = 14,29,51,65,83,102\n",
    "f = nA/n\n",
    "\n",
    "fig = pyplot.figure(figsize=(10,10))\n",
    "pyplot.stem(n, f, linefmt='brown', markerfmt='D')\n",
    "pyplot.xlabel('$n$')\n",
    "pyplot.ylabel('$P(A)$')\n",
    "pyplot.show()"
   ]
  },
  {
   "cell_type": "markdown",
   "metadata": {
    "id": "Kur8iiHp02yG"
   },
   "source": [
    "Observen que ha medida que aumenta $n$, se estabiliza la frecuencia relativa. Lo anterior se llama **regularidad estadística**, el cual permite hacer predicciones que eliminan, aunque sea parcial, la incertidumbre en los fenómenos impredecibles. Sin embargo, el valor de $f(A)$ alrededor del cual se está estabilizando la frecuencia relativa de *un evento*, indica la *posibilidad* de ocurrencia de un solo evento.\n",
    "\n",
    "Considerando lo anterior, definimos $\\mathbb{P}(A)$ como la probabilidad de un evento, que cumple las siguientes propiedades:\n",
    "\n",
    "1.   Si $n(A) \\geq 0$, entonces $0 \\leq \\mathbb{P}(A) \\leq 1$\n",
    "2.   Si $n(\\Omega) = n$, entonces $\\mathbb{P}(\\Omega) = 1$\n",
    "3.   Si $A$ y $B$ son dos eventos excluyentes, entonces $n(A \\cup B) = n(A) + n(B)$ y por consiguiente, $\\mathbb{P}(A \\cup B) = \\mathbb{P}(A) + \\mathbb{P}(B) - \\mathbb{P}(A \\cap B)$\n",
    "4.   Si consideramos un conjunto de eventos mutuamente excluyentes, $A_1, \\ldots, A_i, \\ldots, A_N$, entonces:\n",
    "\n",
    "$$\\mathbb{P}\\left( \\bigcup_{i=1}^N A_i \\right) = \\sum_{i=1}^N \\mathbb{P}(A_i)$$\n",
    "\n",
    "5.   El complemento de la probabilidad de un evento $A$:\n",
    "\n",
    "$$\\mathbb{P}(A^c) = 1 - \\mathbb{P}(A)$$\n",
    "\n"
   ]
  },
  {
   "cell_type": "markdown",
   "metadata": {
    "id": "Xz9VU4qqjEcA"
   },
   "source": [
    "## Probabilidad Marginal"
   ]
  },
  {
   "cell_type": "markdown",
   "metadata": {
    "id": "FYByfL5XjHfK"
   },
   "source": [
    "La probabilidad marginal es una representación de un evento ocurrido, $\\mathbb{A}$, que no esta condicionado a otro evento diferente. \n",
    "\n",
    "*Por ejemplo*, consideremos la probabilidad que una carta tenga color azul, es decir, $\\mathbb{P}(A = azul) = 0.25$ o la probabilidad que la carta tenga el número 5, es decir, $\\mathbb{P}(B = número) = 0.15$. Observen que es una probabilidad de un único evento y aunque $A$ y $B$ son dos eventos, cada uno son sucesos diferentes y no están condicionados uno con respecto al otro."
   ]
  },
  {
   "cell_type": "markdown",
   "metadata": {
    "id": "Y_Y5TU65m1bw"
   },
   "source": [
    "## Probabilidad Condicional"
   ]
  },
  {
   "cell_type": "markdown",
   "metadata": {
    "id": "pt7OCXBCm90X"
   },
   "source": [
    "**Descripción Preliminar**\n",
    "\n",
    "Muchas veces se obtiene información parcial acerca de los eventos aleatorios antes de conocer el resultado final o información apriori. Considerando esta información, se puede cambiar la estructura del espacio muestral. Supongamos que al medir la probabilidad de ocurrencia de un evento se tiene la información que el evento $A$ ya sucedio, para $n$ veces que se repite el evento, tenemos la siguiente expresión:\n",
    "\n",
    "$$P(B\\vert A) = \\frac{n(A \\cap B)}{n(A)} = \\frac{\\frac{n(A\\cap B)}{n}}{\\frac{n(A)}{A}}$$\n",
    "\n",
    "*Por ejemplo*, se lanza dos dados:\n",
    "\n",
    "$$\\Omega = \\lbrace (1,1), (1,2), \\ldots, (6,6)\\rbrace$$\n",
    "\n",
    "Como el número de lanzamientos posibles es $n(\\Omega) = 36$, Si $A = $ Evento que la suma sea $7$ sin información apriori:\n",
    "\n",
    "$$\\mathbb{P}(A) = \\frac{6}{36} = \\frac{1}{6}$$\n",
    "\n",
    "Lo anterior se obtiene si se realiza el siguiente análisis:\n",
    "\n",
    "$$1+6 = 7$$\n",
    "$$6+1 = 7$$\n",
    "$$3+4 = 7$$\n",
    "$$4+3 = 7$$\n",
    "$$5+2 = 7$$\n",
    "$$2+5 = 7$$\n",
    "\n",
    "Obseerven que hay $6$ eventos que suman igual a $7$. \n",
    "\n",
    "Ahora supongamos que hay un evento $B$ que dice que sale un $3$ en uno de los dos dados. Inicialmente, se tiene:\n",
    "\n",
    "$$\\Omega = \\lbrace (3,1), (3,2), (3,3), (3,4), (3,5), (3,6), (1,3), (2,3), (3,3), (4,3), (5,3), (6,3) \\rbrace$$\n",
    "\n",
    "En este caso, $n(\\Omega) = 12$\n",
    "\n",
    "Como solo hay dos eventos que al salir un $3$ en uno de los dados, entonces se considera $(3,4)$ y $(4,3)$, y por consiguiente, son $2$ eventos que se presentan. Por consiguiente:\n",
    "\n",
    "$$\\mathbb{P}(A\\vert B) = \\frac{n(A\\cap B)}{n(B)} = \\frac{2}{12} = \\frac{1}{6}$$\n",
    "\n",
    "Para este caso, $n(B) = n{(\\Omega)}$ y $n(A \\cap B) = 2$. En este cálculo, $\\mathbb{P}(A\\vert B)$ significa que es la probabilidad de un evento $A$ dado que ocurra un evento $B$.\n",
    "\n",
    "A partir de estos puntos preliminares, se define el concepto de probabilidad condicional\n"
   ]
  },
  {
   "cell_type": "markdown",
   "metadata": {
    "id": "ThVq8W4fLLXN"
   },
   "source": [
    "**Probabilidad Condicional:** Es la probabilidad de un evento $A$ dado un evento $B$ que ocurrío a priori:\n",
    "\n",
    "$$\\mathbb{P}(A\\vert B) = \\frac{\\mathbb{P}(A \\cap B)}{\\mathbb{P}(B)}$$\n",
    "\n",
    "o en caso contrario:\n",
    "\n",
    "$$\\mathbb{P}(B\\vert A) = \\frac{\\mathbb{P}(A \\cap B)}{\\mathbb{P}(A)}$$\n",
    "\n",
    "donde $\\mathbb{P}(B) > 0$ y $\\mathbb{P}(A) > 0$. La probabilidad condicional cumple con las siguientes condiciones:\n",
    "\n",
    "1.   $\\mathbb{P}(A\\vert A) = 1$\n",
    "2.   $\\mathbb{P}(A^c\\vert B) = 1 - \\mathbb{P}(A\\vert B)$, siendo $A^c$ el complemento.\n",
    "3.   $\\mathbb{P}(A \\cap B \\vert C) = \\mathbb{P}(A\\vert B\\cap C)\\cdot \\mathbb{P}(B \\vert C)$\n",
    "4.   $\\mathbb{P}(A \\cap B \\cap C) = \\mathbb{P}(C \\vert A \\cap B)\\cdot \\mathbb{P}(A \\cap B)$\n",
    "\n",
    "Veamos un ejemplo práctico de la cuarta propiedad de la probabilidad condicional\n",
    "\n"
   ]
  },
  {
   "cell_type": "markdown",
   "metadata": {
    "id": "DQZTFLIaMtHG"
   },
   "source": [
    "*Ejemplo:* Se tiene una caja con 12 bolas, de los cuales 3 son de color negro y 9 son de color azul. Se seleccionan 3 bolas de forma aleatoria sin repetir de nuevo una nueva selección. ¿Cuál es la probabilidad que la bola sea azul, la segunda bola sea también azul y la tercera bola sea negra?"
   ]
  },
  {
   "cell_type": "code",
   "execution_count": null,
   "metadata": {
    "colab": {
     "base_uri": "https://localhost:8080/"
    },
    "id": "8fSEg046NmqN",
    "outputId": "d448ab7c-b221-4582-f774-2901c172ee00"
   },
   "outputs": [],
   "source": [
    "import numpy as np\n",
    "\n",
    "# Evento A es una bola azul\n",
    "# Evento B es una bola azul\n",
    "# Evento C es una bola negra\n",
    "\n",
    "N = 12 # 12 Bolas en total\n",
    "N_A = 9 # 9 bolas azul\n",
    "N_N = 3 # 3 bolas negras\n",
    "P_A = N_A/N # Probabilidad que salga bola de color azul en el primer intento\n",
    "\n",
    "# Si se descarta una bola azul en el segundo intento entonces...\n",
    "\n",
    "P_B_cond_A = (N_A - 1)/(N - 1)\n",
    "\n",
    "# Si se descarta dos bolas para salga azul, entonces...\n",
    "\n",
    "P_C_cond_A_cap_B = N_N/(N - 2)\n",
    "\n",
    "print(\"Probabilidad del intento 1 = \", P_A)\n",
    "print(\"Probabilidad del intento 2 = \", P_B_cond_A)\n",
    "print(\"Probabilidad del intento 3 = \", P_C_cond_A_cap_B)"
   ]
  },
  {
   "cell_type": "markdown",
   "metadata": {
    "id": "kU7cc-8bQV8D"
   },
   "source": [
    "Como $\\mathbb{P}(B\\vert A) = \\frac{\\mathbb{P}(A \\cap B)}{\\mathbb{P}(A)}$, entonces se puede decir que:\n",
    "\n",
    "$$\\mathbb{P}(A \\cap B) = \\mathbb{P}(B\\vert A)\\cdot \\mathbb{P}(A)$$\n",
    "\n",
    "Por consiguiente:\n",
    "\n",
    "$$\\mathbb{P}(A \\cap B \\cap C) = \\mathbb{P}(C \\vert A \\cap B)\\cdot \\mathbb{P}(B\\vert A)\\cdot \\mathbb{P}(A)$$"
   ]
  },
  {
   "cell_type": "code",
   "execution_count": null,
   "metadata": {
    "colab": {
     "base_uri": "https://localhost:8080/"
    },
    "id": "1GtoriY1RcpH",
    "outputId": "6a2deb74-91e7-4d83-fa81-afb735b31f76"
   },
   "outputs": [],
   "source": [
    "P_A_cap_B_cap_C = P_C_cond_A_cap_B * P_B_cond_A * P_A\n",
    "print(\"La probabilidad que la bola sea azul en el intento 1, azul en el intento 2 y negra en el intento 3 es = {:.3f}\".format(P_A_cap_B_cap_C))"
   ]
  },
  {
   "cell_type": "markdown",
   "metadata": {
    "id": "QpC-yqWKSvG2"
   },
   "source": [
    "## Independencia de eventos"
   ]
  },
  {
   "cell_type": "markdown",
   "metadata": {
    "id": "j_dl9vaXS01V"
   },
   "source": [
    "La independencia de eventos establece una interpretación si dos eventos, $A$ y $B$, son independientes entre sí, cuando se cumpla la condición $A \\cap B = \\emptyset$. Si se cumple esta condición, entonces:\n",
    "\n",
    "$$\\mathbb{P}(A \\cap B) = \\mathbb{P}(A)\\cdot \\mathbb{P}(B)$$\n",
    "\n",
    "En caso que no sean independientes ambos eventos, entonces:\n",
    "\n",
    "$$\\mathbb{P}(A \\cap B) \\neq \\mathbb{P}(A)\\cdot \\mathbb{P}(B)$$\n",
    "\n",
    "Si se presenta lo anterior, entonces $A$ y $B$ son mutuamente excluyentes pero no independientes.\n",
    "\n",
    "**Nota:** $\\mathbb{P}(A \\cap B) = \\mathbb{P}(A)\\cdot \\mathbb{P}(B)$ también se le llama **probabilidad conjunta** de dos eventos.\n",
    "\n",
    "Veamos un ejemplo práctico."
   ]
  },
  {
   "cell_type": "code",
   "execution_count": null,
   "metadata": {
    "colab": {
     "base_uri": "https://localhost:8080/"
    },
    "id": "vD7cjEYkWJmq",
    "outputId": "9a0f9b8b-821f-4d1c-bf8a-4d2e666d3e72"
   },
   "outputs": [],
   "source": [
    "# A = evento que la moneda salga cara\n",
    "# B = evento que la moneda salga sello.\n",
    "\n",
    "P_A = 0.5 # Probabilidad que salga cara.\n",
    "P_B = 0.5 # Probabilidad que salga sello.\n",
    "\n",
    "P_A_cap_B = P_A * P_B\n",
    "\n",
    "print(\"Probabilidad que A y B sean independientes es = {:.3f}\".format(P_A_cap_B))"
   ]
  },
  {
   "cell_type": "markdown",
   "metadata": {
    "id": "YWf6kryTW789"
   },
   "source": [
    "Como la probabilidad es de $0.25$, y como se busca que $\\mathbb{P}(A \\cap B) = 0$, entonces $A$ y $B$ no son independientes entre sí."
   ]
  },
  {
   "cell_type": "markdown",
   "metadata": {
    "id": "iYqmq9taCJwx"
   },
   "source": [
    "## Teorema de la probabilidad total y de Bayes"
   ]
  },
  {
   "cell_type": "markdown",
   "metadata": {
    "id": "tELO7FwgCWSy"
   },
   "source": [
    "El teorema de la probabilidad total permite establecer una suma de particiones del espacio muestral y de cualquier evento. En este caso, consideramos $B$ como las particiones del espacio muestral $\\Omega$ y $D$ es cualquier evento:\n",
    "\n",
    "$$\\mathbb{P}(D) = \\mathbb{P}(D \\cap B_1) + \\mathbb{P}(D \\cap B_2) + \\ldots + \\mathbb{P}(D \\cap B_i) + \\ldots$$\n",
    "\n",
    "La anterior expresión se puede presentar mediante probabilidades condicionales:\n",
    "\n",
    "$$\\mathbb{P}(D) = \\mathbb{P}(D \\vert B_1)\\cdot\\mathbb{P}(B_1) + \\mathbb{P}(D \\vert B_2)\\cdot\\mathbb{P}(B_2) + \\ldots + \\mathbb{P}(D \\vert B_i)\\cdot\\mathbb{P}(B_i) + \\ldots$$\n",
    "\n",
    "Y por consiguiente, se puede reescribir la probabilidad total como:\n",
    "\n",
    "$$\\mathbb{P}(D) = \\sum_{i \\geq 1} \\mathbb{P}(D \\vert B_i)\\cdot\\mathbb{P}(B_i)$$\n",
    "\n",
    "A partir de la expresión de la probabilidad total, se define el teorema de Bayes como sigue:\n",
    "\n",
    "Considere que se conoce que un evento $D$ ya ocurrio, si se desea conocer la probabilidad que haya ocurrido en el evento de la partición $B_i$, se establece que:\n",
    "\n",
    "$$\\mathbb{P}(B_i \\vert D) = \\frac{\\mathbb{P}(D\\cap B_i)}{\\mathbb{P}(D)} = \\frac{\\mathbb{P}(D \\vert B_i)\\cdot \\mathbb{P}(B_i)}{\\sum_{i \\geq 1} \\mathbb{P}(D \\vert B_i)\\cdot\\mathbb{P}(B_i)}$$\n",
    "\n",
    "Veamos un ejemplo práctico del teorema de Bayes."
   ]
  },
  {
   "cell_type": "markdown",
   "metadata": {
    "id": "7n61PiqRJK2u"
   },
   "source": [
    "*Ejemplo:* En una fábrica, hay tres máquinas que llamaremos $A$, $B$ y $C$ que producen el $45\\%$, $30\\%$ y $25\\%$ del total de piezas producidas por día. Sin embargo, se estiman que los porcentajes de producción de piezas defectuosas por las tres máquinas son $3\\%$, $4\\%$ y $5\\%$, respectivamente. Si se seleccional al azar una de las piezas y resulta defectuosa, cuál máquina tiene mayor probabilidad de generar piezas defectuosas?"
   ]
  },
  {
   "cell_type": "code",
   "execution_count": null,
   "metadata": {
    "colab": {
     "base_uri": "https://localhost:8080/"
    },
    "id": "y9ikOflRHUF9",
    "outputId": "4b4fa9cf-edc2-4bbe-acf4-89e1ad3e3994"
   },
   "outputs": [],
   "source": [
    "P_A = 0.45\n",
    "P_B = 0.3\n",
    "P_C = 0.25\n",
    "\n",
    "P_D_cond_A = 0.03\n",
    "P_D_cond_B = 0.04\n",
    "P_D_cond_C = 0.05\n",
    "\n",
    "P_TOTAL = (P_D_cond_A * P_A) + (P_D_cond_B * P_B) + (P_D_cond_C * P_C)\n",
    "\n",
    "P_A_cond_D = (P_D_cond_A * P_A) / P_TOTAL\n",
    "P_B_cond_D = (P_D_cond_B * P_B) / P_TOTAL\n",
    "P_C_cond_D = (P_D_cond_C * P_C) / P_TOTAL\n",
    "\n",
    "print(\"La probabilidad de generar piezas defectuosas en la máquina A es {:.3f}\".format(P_A_cond_D))\n",
    "print(\"La probabilidad de generar piezas defectuosas en la máquina B es {:.3f}\".format(P_B_cond_D))\n",
    "print(\"La probabilidad de generar piezas defectuosas en la máquina C es {:.3f}\".format(P_C_cond_D))"
   ]
  },
  {
   "cell_type": "markdown",
   "metadata": {
    "id": "3pyiC8JFQeU6"
   },
   "source": [
    "Por consiguiente, la máquina $A$ tiene mayor probabilidad de generar piezas defectuosas, con una probabilidad de $0.355$ ($35.5\\%$ en el lenguaje común)."
   ]
  },
  {
   "cell_type": "markdown",
   "metadata": {
    "id": "pPwI_rfeQv7I"
   },
   "source": [
    "# Variable aleatoria"
   ]
  },
  {
   "cell_type": "markdown",
   "metadata": {
    "id": "x_S15PQQLKht"
   },
   "source": [
    "Una variable aleatoria, $X$, es una representación en un espacio de probabilidad si es una función que transforma los elementos de un conjunto de datos a valores reales.\n",
    "\n",
    "*Ejemplo:* Consideremos el caso del lanzamiento de dos dados.\n",
    "\n",
    "$$\\Omega = \\lbrace (1,1), (1,2), \\ldots, ](6,6)\\rbrace$$\n",
    "\n",
    "Como cada dado tiene 6 lados, entonces el número de lanzamientos posibles es $n(\\Omega) = 36$. Si $X$ es una variable aleatoria que a cada elemento del espacio muestral le da un valor de la **suma** de los dados, entonces:\n",
    "\n",
    "$$X\\lbrace (1,2) \\rbrace = 3$$\n",
    "$$X\\lbrace (6,6) \\rbrace = 12$$\n",
    "\n",
    "Por consiguiente, podemos establecer una relación entre un evento y un valor real:\n",
    "\n",
    "$$X\\lbrace (1,1) \\rbrace = 2$$\n",
    "$$X\\lbrace (1,2) \\rbrace = 3$$\n",
    "$$X\\lbrace (1,3) \\rbrace = 4$$\n",
    "$$X\\lbrace (1,4) \\rbrace = 5$$\n",
    "$$X\\lbrace (1,5) \\rbrace = 6$$\n",
    "$$X\\lbrace (2,1) \\rbrace = 3$$\n",
    "$$\\vdots$$\n",
    "$$X\\lbrace (6,6) \\rbrace = 12$$\n",
    "\n",
    "Considerando el anterior ejemplo, nos enfocaremos con la probabilidad el concepto de la variable aleatoria. Para este propósito, analizaremos el siguiente caso basado en el ejemplo anterior:\n",
    "\n",
    "*Ejemplo:* A partir del ejemplo anterior, si los dos dados son *independientes* entre sí, ¿Cuáles son las medidas de cada uno de estos conjuntos, $\\Omega$? En virtud de la independencia entre ambos dados, la medida de cada uno es el producto de las respectivas medidas de cada elemento, es decir:\n",
    "\n",
    "$$\\mathbb{P}\\lbrace (1,2) \\rbrace = \\mathbb{P}(\\lbrace 1 \\rbrace) \\cdot \\mathbb{P}(\\lbrace 2 \\rbrace) = \\frac{1}{6}\\cdot\\frac{1}{6} = \\frac{1}{36}$$\n",
    "\n",
    "Esto quiere decir que el evento $(1,2)$ tiene una probabilidad de $\\frac{1}{36}$ que ocurra si ambos dados son independientes entre sí. Ahora, con todo lo establecido, podemos hacer la siguiente pregunta: ¿Cuál es la probabilidad que la suma de los dados sea igual a siete? *Esta pregunta se puede resolver mediante el siguiente código*:"
   ]
  },
  {
   "cell_type": "code",
   "execution_count": null,
   "metadata": {
    "colab": {
     "base_uri": "https://localhost:8080/"
    },
    "id": "I73PA8DyXelS",
    "outputId": "8c1dc188-997e-41ee-a2a0-7a4c3d5d0c70"
   },
   "outputs": [],
   "source": [
    "import numpy as np\n",
    "\n",
    "# Recuerde que X{(i,j)} = i + j como vimos en la primera parte del ejemplo.\n",
    "\n",
    "d = {(i,j):i+j for i in range(1,7) for j in range(1,7)}\n",
    "print(d)"
   ]
  },
  {
   "cell_type": "code",
   "execution_count": null,
   "metadata": {
    "colab": {
     "base_uri": "https://localhost:8080/"
    },
    "id": "X7YrY1ajYTs3",
    "outputId": "25c323f1-fbaa-4ef1-e567-86e10b0f2b42"
   },
   "outputs": [],
   "source": [
    "from collections import defaultdict\n",
    "\n",
    "dd = defaultdict(list)\n",
    "for i,j in d.items():\n",
    "  dd[j].append(i)\n",
    "\n",
    "print(dd) # agrupa los eventos que sean iguales a un número real."
   ]
  },
  {
   "cell_type": "code",
   "execution_count": null,
   "metadata": {
    "colab": {
     "base_uri": "https://localhost:8080/"
    },
    "id": "y01Una5pY2Im",
    "outputId": "61d63211-1585-4078-89aa-dc7e0edf851f"
   },
   "outputs": [],
   "source": [
    "print(dd[7]) # Los eventos que son iguales a 7"
   ]
  },
  {
   "cell_type": "markdown",
   "metadata": {
    "id": "BhW3z4-mZOOq"
   },
   "source": [
    "Una vez que encontramos los eventos iguales a 7, se calcula la probabilidad para cada elemento. Considerando la suposición de independencia entre ambos dados, dado como la suma de los productos de las probabilidades de los elementos individuales o eventos. Como sabemos que cada resultado es igualmente probable, la probabilidad de cada término de la suma es igual a $\\frac{1}{36}$. Por consiguiente, todo lo que tenemos que hacer es contar el número de elementos en la lista correspondiente en la variable $dd$ y dividirlo por $36$. \n",
    "\n",
    "*Por ejemplo:*\n",
    "\n",
    "$$X\\lbrace (5,6) \\rbrace = 11$$\n",
    "$$X\\lbrace (6,5) \\rbrace = 11$$\n",
    "\n",
    "Entonces: $\\mathbb{P}(11) = \\mathbb{P}(5,6) + \\mathbb{P}(6,5) = \\frac{1}{36} + \\frac{1}{36} = \\frac{2}{36} = 0.055$. Esta estrategía lo podemos reproducir para los demás casos con un ciclo *for*:"
   ]
  },
  {
   "cell_type": "code",
   "execution_count": null,
   "metadata": {
    "colab": {
     "base_uri": "https://localhost:8080/",
     "height": 218
    },
    "id": "nPZjDDffZAWR",
    "outputId": "4f2610f8-4710-4467-dc4f-5625dca0e69d"
   },
   "outputs": [],
   "source": [
    "X = {i:len(j)/36. for i,j in dd.items()}\n",
    "display(X)"
   ]
  },
  {
   "cell_type": "code",
   "execution_count": null,
   "metadata": {
    "colab": {
     "base_uri": "https://localhost:8080/"
    },
    "id": "Jb-PEUVRduUf",
    "outputId": "a4a01c00-c7fd-4542-8854-75ed597cf809"
   },
   "outputs": [],
   "source": [
    "Sum_P = sum(X.values())\n",
    "print(\"La suma de todas las probabilidades es = {:.3f}\".format(Sum_P))"
   ]
  },
  {
   "cell_type": "markdown",
   "metadata": {
    "id": "eh6dw7HWfead"
   },
   "source": [
    "¿Cuál es la probabilidad de que la mitad del producto de tres dados exceda la suma de los mismos?"
   ]
  },
  {
   "cell_type": "code",
   "execution_count": null,
   "metadata": {
    "colab": {
     "base_uri": "https://localhost:8080/",
     "height": 1000
    },
    "id": "PqDk2748fVvp",
    "outputId": "0d6fc384-69b5-4137-f090-aea00873195b"
   },
   "outputs": [],
   "source": [
    "d = {(i,j,k):((i*j*k)/2 > i+j+k) for i in range(1,7) for j in range(1,7) for k in range(1,7)}\n",
    "display(d)"
   ]
  },
  {
   "cell_type": "code",
   "execution_count": null,
   "metadata": {
    "colab": {
     "base_uri": "https://localhost:8080/",
     "height": 1000
    },
    "id": "YgYCMKPZf4Xt",
    "outputId": "3203ae19-1d61-4cb2-9dc3-1482c7461d2b"
   },
   "outputs": [],
   "source": [
    "dd = defaultdict(list)\n",
    "for i,j in d.items():\n",
    "  dd[j].append(i)\n",
    "\n",
    "display(dd) # Agrupamos los eventos que no cumplen la condicion y aquellos eventos que si cumplen con la condición: \"la probabilidad de que la mitad del producto de tres dados exceda la suma de los mismos\""
   ]
  },
  {
   "cell_type": "code",
   "execution_count": null,
   "metadata": {
    "colab": {
     "base_uri": "https://localhost:8080/",
     "height": 35
    },
    "id": "JH5h9b5ygf-H",
    "outputId": "23c73b13-3e23-4786-a496-58ce11899383"
   },
   "outputs": [],
   "source": [
    "X = {i:len(j)/6**3 for i,j in dd.items()}\n",
    "display(X)"
   ]
  },
  {
   "cell_type": "markdown",
   "metadata": {
    "id": "gaKPBZjIhEEO"
   },
   "source": [
    "El anterior resultado indica que hay una probabilidad de $0.6296$ ($62.96\\%$ en el lenguaje común) que la mitad del producto de tres dados exceda la suma de los mismos "
   ]
  },
  {
   "cell_type": "markdown",
   "metadata": {
    "id": "h7Lo6PtrlLAP"
   },
   "source": [
    "# Esperanza de una variable aleatoria"
   ]
  },
  {
   "cell_type": "markdown",
   "metadata": {
    "id": "ZBfOptwch4xE"
   },
   "source": [
    "El valor esperado o esperanza de una variable aleatoria, $\\mathbb{E}\\lbrack X \\rbrack$, es una función de una determina distribución de probabilidad (que analizaremos más adelante) de los valores observados en una población. Si consideramos que $X$ es una variable aleatoria para una distribución continua, entonces:\n",
    "\n",
    "$$\\mathbb{E}\\lbrack X \\rbrack = \\int_{-\\infty}^{\\infty} xf(x)dx$$\n",
    "\n",
    "Para una distribución discreta, se representa como una sumatoria de los valores posibles de $X$:\n",
    "\n",
    "$$\\mathbb{E}\\lbrack X \\rbrack = \\sum_n x_nP_n$$\n",
    "\n",
    "Al analizar ambas ecuaciones, se observa que se determina el promedio o media de una determinada distribución de datos continuos o discretos. Por consiguiente, para una muestra de una población, la media muestral de una muestra es el valor medio observado de los datos. Si lo anterior se cumple, entonces podemos afirmar que la media muestral debería converger al valor esperado a medida que se incluyan más muestras para determinar de nuevo el valor de la media muestral.\n"
   ]
  },
  {
   "cell_type": "markdown",
   "metadata": {
    "id": "MawjprQYynAu"
   },
   "source": [
    "## Varianza y Covarianza de una variable aleatoria"
   ]
  },
  {
   "cell_type": "markdown",
   "metadata": {
    "id": "OHge7HiOyte2"
   },
   "source": [
    "La variabilidad de los datos para una variable aleatoria permite conocer la varianza para un conjunto de datos, el cual esta definido como la diferencia entre la variable aleatoria $X$ y el valor esperado $\\mathbb{E}\\lbrack X \\rbrack$:\n",
    "\n",
    "$$\\mathbb{V}\\lbrack X \\rbrack = \\mathbb{E}\\lbrack (X - \\mathbb{E}\\lbrack X \\rbrack)^2 \\rbrack = \\mathbb{E}\\lbrack X^2 \\rbrack - (\\mathbb{E}\\lbrack X \\rbrack)^2 = \\sum_n P_n(x_n - \\mathbb{E}\\lbrack X\\rbrack)^2$$\n",
    "\n",
    "Por otra parte, la covarianza determina la variabilidad entre dos variables aleatorias, $X$ e $Y$, el cual se determina como:\n",
    "\n",
    "$$\\mathbb{C}\\lbrack X,Y \\rbrack = \\mathbb{E} \\lbrack (X - \\mathbb{E}\\lbrack X \\rbrack)(Y - \\mathbb{E}\\lbrack Y \\rbrack)\\rbrack = \\mathbb{E}\\lbrack X,Y \\rbrack - \\mathbb{E}\\lbrack X \\rbrack \\mathbb{E}\\lbrack Y \\rbrack$$\n",
    "\n",
    "Teniendo en cuenta el concepto de la independencia de eventos que vimos en secciones anteriores, si $X$ e $Y$ son variables aleatorias independientes, se puede afirmar que:\n",
    "\n",
    "$$\\mathbb{C}\\lbrack X,Y \\rbrack = 0$$\n",
    "\n",
    "Lo anterior significa que no hay variabilidad entre ambas variables aleatorias."
   ]
  },
  {
   "cell_type": "markdown",
   "metadata": {
    "id": "YLehpgzr2rcy"
   },
   "source": [
    "## Ejemplo de la esperanza de una variable aleatoria"
   ]
  },
  {
   "cell_type": "code",
   "execution_count": null,
   "metadata": {
    "colab": {
     "base_uri": "https://localhost:8080/"
    },
    "id": "2wo-l6mH2wHO",
    "outputId": "b290aff2-0df0-4160-dc47-71fc79e8733b"
   },
   "outputs": [],
   "source": [
    "from scipy.stats import describe\n",
    "import random\n",
    "import numpy as np\n",
    "import matplotlib\n",
    "from matplotlib import pyplot\n",
    "\n",
    "matplotlib.rcParams.update({'font.size': 18, 'font.family': 'STIXGeneral', 'mathtext.fontset': 'stix'})\n",
    "\n",
    "Poblacion = range(100)\n",
    "Tamano_muestra = 60\n",
    "X = random.sample(Poblacion, Tamano_muestra)\n",
    "Valor_esperado = describe(X).mean\n",
    "Varianza_esperada = describe(X).variance\n",
    "print(\"Valor esperado y varianza = {:.3f} y {:.3f}\".format(Valor_esperado, Varianza_esperada))"
   ]
  },
  {
   "cell_type": "code",
   "execution_count": null,
   "metadata": {
    "colab": {
     "base_uri": "https://localhost:8080/",
     "height": 486
    },
    "id": "RcB_4HJy4g5k",
    "outputId": "c26ce3b0-9162-4dfe-8c19-0461fb3e6395"
   },
   "outputs": [],
   "source": [
    "Poblacion = range(10000)\n",
    "P = range(10000-2)\n",
    "Valor_esperado = []\n",
    "Varianza_esperada = []\n",
    "ES = []\n",
    "VS = []\n",
    "Err_1 = []\n",
    "Err_2 = []\n",
    "Error_1 = []\n",
    "Error_2 = []\n",
    "\n",
    "for tam in P:\n",
    "  X = random.sample(Poblacion, tam + 2)\n",
    "  Valor_esperado = describe(X).mean\n",
    "  Varianza_esperada = describe(X).variance\n",
    "  ES = np.append(ES, Valor_esperado)\n",
    "  VS = np.append(VS, Varianza_esperada)\n",
    "  if tam > 1:\n",
    "    Err_1 = (ES[tam] - ES[tam - 1])**2\n",
    "    Err_2 = (VS[tam] - VS[tam - 1])**2\n",
    "    Error_1 = np.append(Error_1, Err_1)\n",
    "    Error_2 = np.append(Error_2, Err_2)\n",
    "\n",
    "fig = pyplot.figure(figsize=(30,10))\n",
    "\n",
    "ax = fig.add_subplot(1, 2, 1)\n",
    "ax.plot(np.arange(0,len(ES)), ES, 'b')\n",
    "pyplot.xlabel('$n$')\n",
    "pyplot.ylabel('$E[X]$')\n",
    "pyplot.title('Valor esperado')\n",
    "\n",
    "ax = fig.add_subplot(1, 2, 2)\n",
    "ax.plot(np.arange(0,len(VS)), VS, 'r')\n",
    "pyplot.xlabel('$n$')\n",
    "pyplot.ylabel('$V[X]$')\n",
    "pyplot.title('Varianza esperada')\n",
    "pyplot.show()"
   ]
  },
  {
   "cell_type": "code",
   "execution_count": null,
   "metadata": {
    "colab": {
     "base_uri": "https://localhost:8080/",
     "height": 490
    },
    "id": "2NIruROoLts0",
    "outputId": "9b2cb565-e162-445c-dacd-86e333566034"
   },
   "outputs": [],
   "source": [
    "fig = pyplot.figure(figsize=(30,10))\n",
    "\n",
    "ax = fig.add_subplot(1, 2, 1)\n",
    "ax.plot(np.arange(0,len(Error_1)), Error_1, '-ob')\n",
    "pyplot.xlabel('$n$')\n",
    "pyplot.ylabel('Error de $E[X]$')\n",
    "pyplot.title('Error cuadrático del valor esperado')\n",
    "\n",
    "ax = fig.add_subplot(1, 2, 2)\n",
    "ax.plot(np.arange(0,len(Error_2)), Error_2, '-or')\n",
    "pyplot.xlabel('$n$')\n",
    "pyplot.ylabel('Error de $V[X]$')\n",
    "pyplot.title('Error cuadrático de la varianza esperada')\n",
    "pyplot.show()"
   ]
  },
  {
   "cell_type": "markdown",
   "metadata": {
    "id": "mc2XtMHRnmDV"
   },
   "source": [
    "# Estadísticos"
   ]
  },
  {
   "cell_type": "markdown",
   "metadata": {
    "id": "eS0EMEucnsUE"
   },
   "source": [
    "Primero definimos qué es un estadístico:\n",
    "\n",
    "**Estadiístico:** son valores que resumen la información que contine una muestra completa de un conjunto de datos.\n",
    "\n",
    "Para determina aquellos estadísticos que nos permite determinar la información de una muestra, es importante diferenciar variable continua y variable nominal.\n",
    "\n",
    "1.   **Variable Continua:** Por lo general, son variables que pueden ser analizadas por métricas centrales como la media, la moda, la mediana, métricas de dispersión, como la varianza, la desviación estándar, y por histogramas. Las variables continuas son valores cuantitativos o numéricos como potencia, presión, etc...\n",
    "2.   **Variable nominal:** son variables que pueden ser analizados por frecuencias relativas, la moda y la media y varianza de probabilidad estimada. Las variables nominales pueden ser valores discretos o categóricos."
   ]
  },
  {
   "cell_type": "markdown",
   "metadata": {
    "id": "gmXfUey0o85K"
   },
   "source": [
    "## Estadísticos de variable continua"
   ]
  },
  {
   "cell_type": "markdown",
   "metadata": {
    "id": "mLa3LS17pEMJ"
   },
   "source": [
    "**Media muestral:** determina el promedio de un conjunto de valores:\n",
    "\n",
    "$$\\mu = \\bar{x} = \\frac{1}{N} \\sum_{n=1}^N x_n$$\n",
    "\n",
    "**Mediana:** Es el valor que deja el mismo número de sucesos a ambos lados. Es decir:\n",
    "\n",
    "$$med(x) = x_n \\vert sucesos(x_m \\leq x_n) = sucesos(x_k \\geq x_n)$$\n",
    "\n",
    "A diferencia de la media, la mediana ordena el vector de valores y toma el valor central, lo cual, es menos sensible que la media muestral cuando hay valores extremos poco probables.\n",
    "\n",
    "**Rango:** Mide la distancia entre el valor máximo y mínimo de un conjunto de datos.\n",
    "\n",
    "$$r(x) = \\max\\lbrace x_1, \\ldots, x_n, \\ldots, x_N \\rbrace - \\min\\lbrace x_1, \\ldots, x_n, \\ldots, x_N \\rbrace$$\n",
    "\n",
    "**Varianza:** es el promedio o media de las desviaciones con respecto a un valor medio muestral.\n",
    "\n",
    "$$\\sigma^2 = \\frac{1}{N - 1} \\sum_{n=1}^N (x_n - \\mu)^2 = \\frac{1}{N - 1} \\left \\lbrack \\sum_{n=1}^N x_n^2 - N\\mu^2 \\right \\rbrack$$\n",
    "\n",
    "**Desviación estándar:** Es la raíz cuadrada de la varianza:\n",
    "\n",
    "$$std(x) = \\sqrt{\\sigma^2}$$"
   ]
  },
  {
   "cell_type": "code",
   "execution_count": null,
   "metadata": {
    "colab": {
     "base_uri": "https://localhost:8080/"
    },
    "id": "gEzBbwcbymTm",
    "outputId": "711af648-8212-470d-99af-caf627303289"
   },
   "outputs": [],
   "source": [
    "import numpy as np\n",
    "\n",
    "x = np.random.randn(1,50)\n",
    "print(x)"
   ]
  },
  {
   "cell_type": "code",
   "execution_count": null,
   "metadata": {
    "colab": {
     "base_uri": "https://localhost:8080/"
    },
    "id": "_BTmAZe91zL7",
    "outputId": "e8c4aa55-aaff-4120-a4cc-9aef280ec7d8"
   },
   "outputs": [],
   "source": [
    "print(\"Media de la muestra de los datos = {:.3f}\".format(np.mean(x)))\n",
    "print(\"Mediana de la muestra de los datos = {:.3f}\".format(np.median(x)))\n",
    "print(\"Varianza de la muestra de los datos = {:.3f}\".format(np.var(x)))\n",
    "print(\"Desviación estándar de la muestra de los datos = {:.3f}\".format(np.std(x)))\n",
    "print(\"Rango de la muestra de los datos = {:.3f}\".format(np.max(x) - np.min(x)))"
   ]
  },
  {
   "cell_type": "markdown",
   "metadata": {
    "id": "Gm4ROrj34Btc"
   },
   "source": [
    "*Ejemplo*: Consideremos dos conjuntos de datos, $x$, $y$, donde $x$ representa el promedio acumulado de las notas de los estudiantes de electromagnetismo e $y$ representa el promedio acumulado de las notas de los estudiantes de modelo de sistemas. Para una muestra de 20 estudiantes de los 100 estudiantes inscritos a tales asignaturas, se desea conocer si hay una diferencia entre las notas de ambas asignaturas."
   ]
  },
  {
   "cell_type": "code",
   "execution_count": null,
   "metadata": {
    "colab": {
     "base_uri": "https://localhost:8080/"
    },
    "id": "Va2qXRcO8w3-",
    "outputId": "c1711094-f0ec-45bb-b0f0-9e9c31e02164"
   },
   "outputs": [],
   "source": [
    "!pip install statistics --upgrade"
   ]
  },
  {
   "cell_type": "code",
   "execution_count": null,
   "metadata": {
    "colab": {
     "base_uri": "https://localhost:8080/"
    },
    "id": "Pj60dmk33sBy",
    "outputId": "9035dd67-93c0-46a7-dad7-7c7a2ece567f"
   },
   "outputs": [],
   "source": [
    "from statistics import mean\n",
    "from random import shuffle\n",
    "import numpy as np\n",
    "\n",
    "electro = [3.2, 2.1, 4.5, 3.0, 2.94, 2.5, 3.7, 4.1, 2.2]\n",
    "modelos = [3.1, 5.0, 4.5, 4.4, 3.5, 2.7, 3.3, 3.9, 4.7, 4.0, 3.3, 2.0]\n",
    "\n",
    "media_electro = mean(electro)\n",
    "media_modelos = mean(modelos)\n",
    "\n",
    "diferencia = media_electro - media_modelos\n",
    "\n",
    "N = 20\n",
    "contador = 0\n",
    "suma_notas = np.sum(np.asarray([electro, modelos]),axis=0)\n",
    "\n",
    "for n in range(N):\n",
    "  shuffle(suma_notas)\n",
    "  diferencia_seleccionada = mean(suma_notas[:len(electro)]) - mean(suma_notas[:len(modelos)])\n",
    "  contador += (diferencia_seleccionada >= diferencia)\n",
    "\n",
    "print(\"Número de conteos con una diferencia es {:.3f}\".format(contador))\n",
    "print(\"Diferencia conocida de las notas es {:.3f}\".format(diferencia))\n",
    "print(\"El valor de la diferencia entre conteo es {:.3f}\".format(contador/N))  "
   ]
  },
  {
   "cell_type": "markdown",
   "metadata": {
    "id": "iTRupKhWTZkr"
   },
   "source": [
    "## Histograma"
   ]
  },
  {
   "cell_type": "markdown",
   "metadata": {
    "id": "mUF3_l9iTeC-"
   },
   "source": [
    "El histograma es una representación gráfica que muestra la distribución de probabilidad de una variable a lo largo de su recorrido, mediante la frecuencia de aparición de datos a lo largo del recorrido de la variable. Es importante considerar que la frecuencia de aparición dependerá del intervalo que se estime, mediante el valor mínimo y máximo de la variable. Por otra parte, la suma total de frecuencias de aparición o *absoluta* es el número de datos y si se trabaja con frecuencias *relativas*, la suma total será 1.\n",
    "\n",
    "Dentro de los histogramas, una de las representaciones más comunes es el **histograma acumulado** que representa la suma de frecuencias relativas de casos inferiores al valor en abscisas, es decir, la acumulación de un histograma normalizado entre 0 y 1. \n",
    "\n",
    "En un histograma, hay cuatro valores que se pueden extraer como información de los datos:\n",
    "\n",
    "1.   **Cuartil:** son valores que dividen el recorrido de los datos en particiones, que los llamaremos $c$, donde cada partición tiene la misma frecuencia. Matemáticamente, el cuartil se calcula como:\n",
    "\n",
    "$$c = \\frac{\\max_n\\lbrace x_1,\\ldots,x_N \\rbrace - \\min_n\\lbrace x_1,\\ldots,x_N \\rbrace}{h}$$\n",
    "\n",
    "siendo $h$ el ancho de las particiones. Otra forma alternativa para calcular el cuartil es con la fórmula de Sturges, que se expresa como:\n",
    "\n",
    "$$c = (\\log_2 N) + 1$$\n",
    "  \n",
    "Así mismo, hay otras alternativas como la regla de referencia normal de Scott o la regla de Freedman-Diaconis.\n",
    "\n",
    "2.   **Percentil:** es el valor que esta por debajo de un porcentaje de muestras de los datos. Este valor se calcula si entramos en el eje vertical del histograma y se lee el valor correspondiente en el eje horizontal.\n",
    "3.   **Percentil 50:** es el valor de la mediana de los datos.\n",
    "4.   **Percentiles 25 y 75 cuartiles:** es el $50\\%$ de las muestras de los datos. En algunos libros de estadística lo llaman recorrido intercuartílico.\n",
    "\n",
    "Veamos un ejemplo práctico de un histograma."
   ]
  },
  {
   "cell_type": "code",
   "execution_count": null,
   "metadata": {
    "colab": {
     "base_uri": "https://localhost:8080/",
     "height": 423
    },
    "id": "f3E6YzGWXXMF",
    "outputId": "ac2c3988-0792-4b13-b68c-15533256702a"
   },
   "outputs": [],
   "source": [
    "from sklearn.datasets import load_wine # Base de datos de clases de vino\n",
    "import pandas as pd # librería para análisis de datos\n",
    "\n",
    "datos = load_wine()\n",
    "data = datos.data\n",
    "X = data[:,0:2]\n",
    "nombres = ['fixed acidity', 'volatile acidity']\n",
    "data_comp = pd.DataFrame(X, columns = nombres)\n",
    "display(data_comp)"
   ]
  },
  {
   "cell_type": "code",
   "execution_count": null,
   "metadata": {
    "colab": {
     "base_uri": "https://localhost:8080/",
     "height": 206
    },
    "id": "Txh7UdJ6kDcv",
    "outputId": "1a6cc3a5-051a-44a9-f192-d1d6c8997992"
   },
   "outputs": [],
   "source": [
    "# Calculando los cuartiles\n",
    "data_comp.quantile([0, 0.25, 0.5, 0.75, 1])"
   ]
  },
  {
   "cell_type": "code",
   "execution_count": null,
   "metadata": {
    "colab": {
     "base_uri": "https://localhost:8080/",
     "height": 300
    },
    "id": "w-Ja4DJikru-",
    "outputId": "ba83d0c8-fcde-4d2b-fd60-fa280134bb99"
   },
   "outputs": [],
   "source": [
    "# Calculando los estadísticos principales de los datos\n",
    "data_comp.describe()"
   ]
  },
  {
   "cell_type": "code",
   "execution_count": null,
   "metadata": {
    "colab": {
     "base_uri": "https://localhost:8080/"
    },
    "id": "F3Mg0Pj0lDF6",
    "outputId": "8ca257b3-93d9-4966-d671-2a0f77de6632"
   },
   "outputs": [],
   "source": [
    "# Calculando la mediana de los datos\n",
    "data_comp.median()"
   ]
  },
  {
   "cell_type": "code",
   "execution_count": null,
   "metadata": {
    "colab": {
     "base_uri": "https://localhost:8080/"
    },
    "id": "YNTf-Av9lMOd",
    "outputId": "35e8a808-a30e-44cb-d1a3-08d5254d7aa1"
   },
   "outputs": [],
   "source": [
    "# Calculando la varianza de los datos\n",
    "data_comp.var()"
   ]
  },
  {
   "cell_type": "code",
   "execution_count": null,
   "metadata": {
    "colab": {
     "base_uri": "https://localhost:8080/",
     "height": 639
    },
    "id": "Y2mbmS6clSDN",
    "outputId": "ab30f19b-154d-4fa5-be58-09121b35898a"
   },
   "outputs": [],
   "source": [
    "import matplotlib\n",
    "from matplotlib import pyplot\n",
    "\n",
    "matplotlib.rcParams.update({'font.size': 18, 'font.family': 'STIXGeneral', 'mathtext.fontset': 'stix'})\n",
    "\n",
    "fig = pyplot.figure(figsize=(18,10))\n",
    "ax = fig.add_subplot(1, 2, 1)\n",
    "pyplot.hist(data_comp['fixed acidity'], bins = 'fd', alpha=0.7) # fd = regla de Freedman-Diaconis\n",
    "pyplot.xlim(data_comp['fixed acidity'].min(),data_comp['fixed acidity'].max())\n",
    "pyplot.xlabel('Valores')\n",
    "pyplot.ylabel('Frecuencias')\n",
    "pyplot.title('Fixed acidity - Wine')\n",
    "ax = fig.add_subplot(1, 2, 2)\n",
    "pyplot.hist(data_comp['volatile acidity'], bins = 'fd', alpha=0.5) # fd = regla de Freedman-Diaconis\n",
    "pyplot.xlim(data_comp['volatile acidity'].min(),data_comp['volatile acidity'].max())\n",
    "pyplot.xlabel('Valores')\n",
    "pyplot.ylabel('Frecuencias')\n",
    "pyplot.title('volatile acidity - Wine')\n",
    "pyplot.show()"
   ]
  },
  {
   "cell_type": "code",
   "execution_count": null,
   "metadata": {
    "colab": {
     "base_uri": "https://localhost:8080/",
     "height": 639
    },
    "id": "MKtl9gu2u8Vm",
    "outputId": "1e8efea3-5e6e-4894-b5f3-9fef39ac9fa4"
   },
   "outputs": [],
   "source": [
    "import matplotlib\n",
    "from matplotlib import pyplot\n",
    "\n",
    "matplotlib.rcParams.update({'font.size': 18, 'font.family': 'STIXGeneral', 'mathtext.fontset': 'stix'})\n",
    "\n",
    "fig = pyplot.figure(figsize=(18,10))\n",
    "ax = fig.add_subplot(1, 2, 1)\n",
    "pyplot.hist(data_comp['fixed acidity'], bins = 'sturges', alpha=0.7, color = 'r') # sturges\n",
    "pyplot.xlim(data_comp['fixed acidity'].min(),data_comp['fixed acidity'].max())\n",
    "pyplot.xlabel('Valores')\n",
    "pyplot.ylabel('Frecuencias')\n",
    "pyplot.title('Fixed acidity - Wine')\n",
    "ax = fig.add_subplot(1, 2, 2)\n",
    "pyplot.hist(data_comp['volatile acidity'], bins = 'sturges', alpha=0.5, color = 'r') # sturges\n",
    "pyplot.xlim(data_comp['volatile acidity'].min(),data_comp['volatile acidity'].max())\n",
    "pyplot.xlabel('Valores')\n",
    "pyplot.ylabel('Frecuencias')\n",
    "pyplot.title('volatile acidity - Wine')\n",
    "pyplot.show()"
   ]
  },
  {
   "cell_type": "code",
   "execution_count": null,
   "metadata": {
    "colab": {
     "base_uri": "https://localhost:8080/",
     "height": 639
    },
    "id": "df5PNydVxG_H",
    "outputId": "b02d945b-7e6f-4e54-8b0e-12df39fddd5c"
   },
   "outputs": [],
   "source": [
    "import matplotlib\n",
    "from matplotlib import pyplot\n",
    "\n",
    "matplotlib.rcParams.update({'font.size': 18, 'font.family': 'STIXGeneral', 'mathtext.fontset': 'stix'})\n",
    "\n",
    "fig = pyplot.figure(figsize=(18,10))\n",
    "ax = fig.add_subplot(1, 2, 1)\n",
    "pyplot.hist(data_comp['fixed acidity'], bins = 'scott', alpha=0.7, color = 'm') # scott\n",
    "pyplot.xlim(data_comp['fixed acidity'].min(),data_comp['fixed acidity'].max())\n",
    "pyplot.xlabel('Valores')\n",
    "pyplot.ylabel('Frecuencias')\n",
    "pyplot.title('Fixed acidity - Wine')\n",
    "ax = fig.add_subplot(1, 2, 2)\n",
    "pyplot.hist(data_comp['volatile acidity'], bins = 'scott', alpha=0.5, color = 'm') # scott\n",
    "pyplot.xlim(data_comp['volatile acidity'].min(),data_comp['volatile acidity'].max())\n",
    "pyplot.xlabel('Valores')\n",
    "pyplot.ylabel('Frecuencias')\n",
    "pyplot.title('volatile acidity - Wine')\n",
    "pyplot.show()"
   ]
  },
  {
   "cell_type": "markdown",
   "metadata": {
    "id": "lJRb7yR-3NKy"
   },
   "source": [
    " Que sucede si se utiliza el parámetro *density* "
   ]
  },
  {
   "cell_type": "code",
   "execution_count": null,
   "metadata": {
    "colab": {
     "base_uri": "https://localhost:8080/",
     "height": 639
    },
    "id": "Q36RmfweyDGv",
    "outputId": "50c55767-858e-4401-943d-60fad17d73a3"
   },
   "outputs": [],
   "source": [
    "import matplotlib\n",
    "from matplotlib import pyplot\n",
    "\n",
    "matplotlib.rcParams.update({'font.size': 18, 'font.family': 'STIXGeneral', 'mathtext.fontset': 'stix'})\n",
    "\n",
    "fig = pyplot.figure(figsize=(18,10))\n",
    "ax = fig.add_subplot(1, 2, 1)\n",
    "pyplot.hist(data_comp['fixed acidity'], bins = 'scott', density = True, alpha=0.7, color = 'g') # density\n",
    "pyplot.xlim(data_comp['fixed acidity'].min(),data_comp['fixed acidity'].max())\n",
    "pyplot.xlabel('Valores')\n",
    "pyplot.ylabel('Frecuencias')\n",
    "pyplot.title('Fixed acidity - Wine')\n",
    "ax = fig.add_subplot(1, 2, 2)\n",
    "pyplot.hist(data_comp['volatile acidity'], bins = 'scott', density = True, alpha=0.5, color = 'g') # density\n",
    "pyplot.xlim(data_comp['volatile acidity'].min(),data_comp['volatile acidity'].max())\n",
    "pyplot.xlabel('Valores')\n",
    "pyplot.ylabel('Frecuencias')\n",
    "pyplot.title('volatile acidity - Wine')\n",
    "pyplot.show()"
   ]
  },
  {
   "cell_type": "markdown",
   "metadata": {
    "id": "A9CnCnr79Rxy"
   },
   "source": [
    "## Estadísticos de variable nominal o categórica"
   ]
  },
  {
   "cell_type": "markdown",
   "metadata": {
    "id": "CPs12UuT9dv2"
   },
   "source": [
    "Consideremos un conjunto de valores dicretos, $\\lbrace v_1,\\ldots, v_N \\rbrace$, tal que podemos caracterizar el número de veces que en la muestra de $N$ datos aparece cada valor, $\\lbrace n_1, \\ldots, n_K\\rbrace$, donde:\n",
    "\n",
    "$$N = \\sum_{j=1}^k n_j$$\n",
    "\n",
    "Lo anterior indica que la suma total del número de veces que aparece uno o más valores discretos es igual al número total de muestras de los datos. Teniendo en cuenta esta característica, los estadísticos de una variable nominal $V$ son las siguientes:\n",
    "\n",
    "**Moda:** Es el valor que aparece más veces en un conjunto de datos discretos.\n",
    "\n",
    "$$v_j = arg\\max_j\\lbrace n_1, \\ldots, n_j, \\ldots. n_k \\rbrace$$\n",
    "\n",
    "**Media Nominal:** Es un valor que para una variable nominal dada, se obtiene para $m$ casos o sucesos observados en $N$ datos:\n",
    "\n",
    "$$\\rho = \\frac{m}{N}$$\n",
    "\n",
    "Una forma alternativa para representar $\\rho$ es mediante una expresión que asigna una variable binaria con cada ejemplo de un conjunto datos:\n",
    "\n",
    "$$\\rho = \\frac{1}{N}\\sum_{i=1}^N v_i$$\n",
    "\n",
    "donde $v_i = 1$ si hay correspondencia en una categoría y $v_i = 0$ en otro caso.\n",
    "\n",
    "**Varianza Nominal:** Es un valor que estima la varianza de cada categoría:\n",
    "\n",
    "$$\\sigma^2(\\rho) = \\frac{1}{N}\\sum_{i=1}^N (v_i - \\rho) = \\rho(1 - \\rho)$$\n",
    "\n",
    "Como caso curioso, si $\\rho = 0.5$ entonces se obtiene la máxima varianza nominal y se puede estimar $\\rho = \\frac{1}{k}$, siendo $k$ es el númerop de valores que toma la variable nominal.\n",
    "\n",
    "**Desviación estándar nominal:** Es un valor de la desviación de cada categoría:\n",
    "\n",
    "$$\\sigma(\\rho) = \\sqrt{\\rho(1 - \\rho)}$$\n",
    "\n",
    "**Histograma para variable nominal**: Para crear una representación gráfica del histograma con variable nominal, se calcula la distribución de frecuencias de los valores en $N$ datos de for porcentual:\n",
    "\n",
    "$$P_1 = 100\\left ( \\frac{n_1}{N} \\right)\\%;\\ldots; P_k = 100\\left ( \\frac{n_k}{N} \\right)\\%$$\n",
    "\n",
    "Por consiguiente, cada $P_1 \\ldots, P_K$ tiene un valor porcentual por cada categoría."
   ]
  },
  {
   "cell_type": "code",
   "execution_count": null,
   "metadata": {
    "colab": {
     "base_uri": "https://localhost:8080/",
     "height": 423
    },
    "id": "_a7mU8tr9c5a",
    "outputId": "9c01a4d1-73d5-458a-8a26-3f0816242123"
   },
   "outputs": [],
   "source": [
    "import seaborn as sns\n",
    "from matplotlib import pyplot\n",
    "import matplotlib\n",
    "\n",
    "datos = sns.load_dataset(\"tips\")\n",
    "datos = datos.loc[:,['sex', 'smoker', 'day', 'time', 'size']]\n",
    "display(datos)"
   ]
  },
  {
   "cell_type": "code",
   "execution_count": null,
   "metadata": {
    "colab": {
     "base_uri": "https://localhost:8080/",
     "height": 564
    },
    "id": "B5-Z0kHryvZ-",
    "outputId": "d13b7af1-2a24-45ec-ca63-b35c2d634582"
   },
   "outputs": [],
   "source": [
    "matplotlib.rcParams.update({'font.size': 20, 'font.family': 'STIXGeneral', 'mathtext.fontset': 'stix'})\n",
    "sns.catplot(x=\"sex\", kind=\"count\", palette=\"ch:.25\", data = datos, height = 8, aspect = 1)\n",
    "pyplot.show()"
   ]
  },
  {
   "cell_type": "code",
   "execution_count": null,
   "metadata": {
    "colab": {
     "base_uri": "https://localhost:8080/",
     "height": 564
    },
    "id": "Ttm1PdSUymJ6",
    "outputId": "1db93dbb-da66-44ca-9a60-83663a12445a"
   },
   "outputs": [],
   "source": [
    "matplotlib.rcParams.update({'font.size': 20, 'font.family': 'STIXGeneral', 'mathtext.fontset': 'stix'})\n",
    "sns.catplot(x=\"smoker\", kind=\"count\", palette=\"ch:.25\", data = datos, height = 8, aspect = 1)\n",
    "pyplot.show()"
   ]
  },
  {
   "cell_type": "code",
   "execution_count": null,
   "metadata": {
    "colab": {
     "base_uri": "https://localhost:8080/",
     "height": 564
    },
    "id": "WzcWfuSSytWs",
    "outputId": "4231bc4b-9237-469f-9a47-1f6bdde4f18d"
   },
   "outputs": [],
   "source": [
    "matplotlib.rcParams.update({'font.size': 20, 'font.family': 'STIXGeneral', 'mathtext.fontset': 'stix'})\n",
    "sns.catplot(x=\"day\", kind=\"count\", palette=\"ch:.25\", data = datos, height = 8, aspect = 1)\n",
    "pyplot.show()"
   ]
  },
  {
   "cell_type": "code",
   "execution_count": null,
   "metadata": {
    "colab": {
     "base_uri": "https://localhost:8080/",
     "height": 564
    },
    "id": "xmqjNP97zCM1",
    "outputId": "62ef866e-9dad-48dd-fb82-8099e595e22e"
   },
   "outputs": [],
   "source": [
    "matplotlib.rcParams.update({'font.size': 20, 'font.family': 'STIXGeneral', 'mathtext.fontset': 'stix'})\n",
    "sns.catplot(x=\"time\", kind=\"count\", palette=\"ch:.25\", data = datos, height = 8, aspect = 1)\n",
    "pyplot.show()"
   ]
  },
  {
   "cell_type": "code",
   "execution_count": null,
   "metadata": {
    "colab": {
     "base_uri": "https://localhost:8080/",
     "height": 564
    },
    "id": "eSekpvfozHEt",
    "outputId": "de2eca70-84d3-4369-ebeb-fbd19793126a"
   },
   "outputs": [],
   "source": [
    "matplotlib.rcParams.update({'font.size': 20, 'font.family': 'STIXGeneral', 'mathtext.fontset': 'stix'})\n",
    "sns.catplot(x=\"size\", kind=\"count\", palette=\"ch:.25\", data = datos, height = 8, aspect = 1)\n",
    "pyplot.show()"
   ]
  },
  {
   "cell_type": "code",
   "execution_count": null,
   "metadata": {
    "colab": {
     "base_uri": "https://localhost:8080/",
     "height": 564
    },
    "id": "9bV_7i9DzYHD",
    "outputId": "156f41c3-8b6a-4ea2-fb14-ddca04fcef21"
   },
   "outputs": [],
   "source": [
    "matplotlib.rcParams.update({'font.size': 20, 'font.family': 'STIXGeneral', 'mathtext.fontset': 'stix'})\n",
    "sns.catplot(x=\"sex\", y = \"size\", hue=\"day\", kind=\"violin\", palette=\"ch:.25\", data = datos, height = 8, aspect = 1)\n",
    "pyplot.show()"
   ]
  },
  {
   "cell_type": "code",
   "execution_count": null,
   "metadata": {
    "colab": {
     "base_uri": "https://localhost:8080/"
    },
    "id": "gLjqiuP307u7",
    "outputId": "5185575c-ddaa-4eef-ee6a-6e408b26181e"
   },
   "outputs": [],
   "source": [
    "import numpy as np\n",
    "\n",
    "a = datos['sex'].value_counts(normalize = False)\n",
    "m = datos.shape[0]\n",
    "print(\"Muestras por cada categoría para una variable nominal = \\n\", a)\n",
    "print(\"Número de datos = \", m)\n",
    "media_nominal = a/m\n",
    "varianza_nominal = media_nominal*(1 - media_nominal)\n",
    "desd_nominal = np.sqrt(varianza_nominal)\n",
    "print(\"Media nominal = \\n\",media_nominal)\n",
    "print(\"Varianza nominal = \\n\",varianza_nominal)\n",
    "print(\"Desviación nominal = \\n\",desd_nominal)"
   ]
  },
  {
   "cell_type": "code",
   "execution_count": null,
   "metadata": {
    "colab": {
     "base_uri": "https://localhost:8080/"
    },
    "id": "-t1m5E1EOsIk",
    "outputId": "550811b4-e31d-442b-dcb0-aacf52eaf96b"
   },
   "outputs": [],
   "source": [
    "d = datos.loc[:,['sex','smoker']]\n",
    "L1 = d.loc[(d['sex'] == 'Male') & (d['smoker'] == 'Yes')]\n",
    "L2 = d.loc[(d['sex'] == 'Female') & (d['smoker'] == 'Yes')]\n",
    "n1 = L1.shape[0]\n",
    "n2 = L2.shape[0]\n",
    "m = datos.shape[0]\n",
    "media_1 = n1/m\n",
    "media_2 = n2/m\n",
    "var_1 = media_1*(1 - media_1)\n",
    "var_2 = media_2*(1 - media_2)\n",
    "des_1 = np.sqrt(var_1)\n",
    "des_2 = np.sqrt(var_2)\n",
    "print(\"Media nominal hombres que fuman = {:.3f}\".format(media_1))\n",
    "print(\"Media nominal mujeres que fuman = {:.3f}\".format(media_2))\n",
    "print(\"Varianza nominal hombres que fuman = {:.3f}\".format(var_1))\n",
    "print(\"Varianza nominal mujeres que fuman = {:.3f}\".format(var_2))\n",
    "print(\"Desviación nominal hombres que fuman = {:.3f}\".format(des_1))\n",
    "print(\"Desviación nominal mujeres que fuman = {:.3f}\".format(des_2))"
   ]
  },
  {
   "cell_type": "code",
   "execution_count": null,
   "metadata": {
    "colab": {
     "base_uri": "https://localhost:8080/",
     "height": 586
    },
    "id": "q7rnUKINxWdm",
    "outputId": "af80cca1-ab04-417e-cf60-cfc2c5fa73a9"
   },
   "outputs": [],
   "source": [
    "import pandas as pd\n",
    "\n",
    "matplotlib.rcParams.update({'font.size': 20, 'font.family': 'STIXGeneral', 'mathtext.fontset': 'stix'})\n",
    "DATA = np.vstack([L1,L2]) # Unificar los conjuntos de datos L1 y L2\n",
    "data_new = pd.DataFrame(DATA, columns = ['sex','smoker'])\n",
    "sns.catplot(x=\"sex\", kind=\"count\", palette=\"ch:.25\", data = data_new, height = 8, aspect = 1)\n",
    "pyplot.title(\"Histograma de los hombres y mujeres que fuman\")\n",
    "pyplot.show()"
   ]
  },
  {
   "cell_type": "markdown",
   "metadata": {
    "id": "hpxQWKs0iYWW"
   },
   "source": [
    "# Función de distribución acumulada"
   ]
  },
  {
   "cell_type": "markdown",
   "metadata": {
    "id": "H0on5I41ibhZ"
   },
   "source": [
    "Una función de distribución acumulada se establece como una relación una variable aleatoria $X$ , tal que:\n",
    "\n",
    "$$F(X) = F_X(x) = \\mathbb{P}(X \\leq x)$$\n",
    "\n",
    "donde $x$ es un valor que pertenece a $X$. Esta función cumple con tres propiedades:\n",
    "\n",
    "1.   $\\lim_{X \\rightarrow -\\infty} F(X) = 0$\n",
    "2.   $\\lim_{X \\rightarrow \\infty} F(X) = 1$\n",
    "3.   $F(X)$ es una función creciente si $F(X) \\leq F(x)$\n",
    "\n",
    "A partir de lo anterior, se puede analizar el siguiente ejemplo:\n",
    "\n",
    "Se lanza una moneda dos veces. Si $X$ es el número de caras obtenidas en dos lanzamientos, se considera que:\n",
    "\n",
    "*   $s$ es un sello de la moneda.\n",
    "*   $c$ es la cara de la moneda.\n",
    "*   $\\Omega$ es el espacio de las muestras, dado para este ejemplo como:\n",
    "\n",
    "$$\\Omega = \\lbrace (c,c),(c,s),(s,c), (s,s) \\rbrace$$\n",
    "\n",
    "El estado $(s,s)$ se representa como $0$, $(c,s)$ y $(s,c)$ como $1$ y $(c,c)$ como $2$. A partir de lo anterior, se define una variable aleatoria $X = \\lbrace 0,1,2 \\rbrace$. Por consiguiente:\n",
    "\n",
    "$$P(X = 0) = \\frac{1}{4}$$\n",
    "$$P(X = 1) = \\frac{1}{2}$$\n",
    "$$P(X = 2) = \\frac{1}{4}$$\n",
    "$$\\sum_{n=0}^2 P(X_n) = \\frac{1}{4} + \\frac{1}{2} + \\frac{1}{4} = 1$$\n",
    "\n",
    "Al determinar la función de probabilidad acumulada, encontramos que:\n",
    "\n",
    "$$F(0) = \\mathbb{P}(X \\leq 0) = \\mathbb{P}(X = 0) = \\frac{1}{4}$$\n",
    "$$F(0.5) = \\mathbb{P}(X \\leq 0.5) = \\mathbb{P}(X = 0.5) = \\frac{1}{4}$$\n",
    "$$F(1) = \\mathbb{P}(X \\leq 1) = \\mathbb{P}(X = 0) + \\mathbb{P}(X = 1) = \\frac{1}{4} + \\frac{1}{2} = \\frac{3}{4}$$\n",
    "$$F(1.5) = \\mathbb{P}(X \\leq 1.5) = \\mathbb{P}(X = 0) + \\mathbb{P}(X = 1.5) = \\frac{1}{4} + \\frac{1}{2} = \\frac{3}{4}$$\n",
    "$$F(2) = \\mathbb{P}(X \\leq 2) = \\mathbb{P}(X = 0) + \\mathbb{P}(X = 1) + \\mathbb{P}(X = 2) = \\frac{1}{4} + \\frac{1}{2} + \\frac{1}{4} = 1$$\n",
    "\n",
    "Considerando estos cálculos, la función de distribución acumulada se define como:\n",
    "\n",
    "$$F(x) = \\begin{cases} 0 & Si\\,\\, x < 0\\\\\n",
    "\\frac{1}{4} & Si\\,\\, 0 \\leq x < 1\\\\\n",
    "\\frac{3}{4} & Si\\,\\, 1 \\leq x < 2\\\\\n",
    "1 & Si\\,\\, x \\geq 2\\end{cases}$$\n",
    "\n",
    "Veamos un ejemplo práctico en Python.\n"
   ]
  },
  {
   "cell_type": "code",
   "execution_count": null,
   "metadata": {
    "colab": {
     "base_uri": "https://localhost:8080/",
     "height": 618
    },
    "id": "-kev4iX68SCq",
    "outputId": "4951db40-1417-44bd-b428-6196c13a78d6"
   },
   "outputs": [],
   "source": [
    "import numpy as np\n",
    "import matplotlib\n",
    "from matplotlib import pyplot\n",
    "\n",
    "matplotlib.rcParams.update({'font.size': 18, 'font.family': 'STIXGeneral', 'mathtext.fontset': 'stix'})\n",
    "\n",
    "x = np.linspace(-0.5,2.5,200)\n",
    "\n",
    "f = []\n",
    "\n",
    "for n in range(len(x)):\n",
    "  if x[n] < 0:\n",
    "    f.append(0)\n",
    "  elif x[n] >= 0 and x[n] < 1:\n",
    "    f.append(0.25)\n",
    "  elif x[n] >= 1 and x[n] < 2:\n",
    "    f.append(0.75)\n",
    "  elif x[n] >= 2:\n",
    "    f.append(1)\n",
    "\n",
    "pyplot.figure(figsize=(10,10))\n",
    "pyplot.stem(x, f, linefmt='brown', markerfmt='D')\n",
    "pyplot.xlabel('$x$')\n",
    "pyplot.ylabel('$CDF(x)$')\n",
    "pyplot.show()"
   ]
  },
  {
   "cell_type": "markdown",
   "metadata": {
    "id": "ACBf4LN4TGvI"
   },
   "source": [
    "#Momentos estadísticos"
   ]
  },
  {
   "cell_type": "markdown",
   "metadata": {
    "id": "UXdpV2R0TLe-"
   },
   "source": [
    "Los momentos estadísticos son conjuntos de parámetros estadísticos que miden una determinada distribución de probabilidad. Por lo general, hay cuatro momentos que se analizan en una distribución:\n",
    "\n",
    "1.   **Primer Momento:** La media\n",
    "2.   **Segundo Momento:** La varianza\n",
    "3.   **Tercer Momento:** El sesgo. Este parámetro mide la asimentría de una distribución desde su pico, lo cual permite describir la forma de la distribución. Por lo general, si el sesgo es positivo, significa que la media es más grande que la mediana y la distribución tendra un pico con los valores más altos de probabilidad. Por el contrario, si el sesgo es negativo, entonces la media es más pequeña que la mediana y la distribución tendra un pico con los valores más bajos de probabilidad. El sesgo se determina como:\n",
    "\n",
    "$$s = \\frac{media - mediana}{desviacion}$$\n",
    "\n",
    "4.  **Cuarto Momento:** La Curtosis. Este parámetro mide el pico de una distribución. Si la curtosis es positiva, entonces la distribución tendrá una forma delgada y puntiaguda. Si la curtosis es negativa, entonces la distribución tendrá una forma plana y amplia.\n",
    "\n",
    "Es importante resaltar que estos momentos de las distribución pueden diferir su comportamiento de acuerdo a los parámetros propios de cada distribución de probabilidad que analizaremos más adelante. \n",
    "\n"
   ]
  },
  {
   "cell_type": "markdown",
   "metadata": {
    "id": "bmKdgOD-TSWG"
   },
   "source": [
    "# Funciones de distribución discreta"
   ]
  },
  {
   "cell_type": "markdown",
   "metadata": {
    "id": "dd6-kal-DoYh"
   },
   "source": [
    "## Función de distribución uniforme discreta"
   ]
  },
  {
   "cell_type": "markdown",
   "metadata": {
    "id": "7MEaMBI-DvUT"
   },
   "source": [
    "La función de distribución uniforme discreta, $X \\sim Unid(L,H)$, es la función de distribución discreta más sencilla donde relaciona puntos extremos máximos y mínimos de la variable aleatoria $X$. De acuerdo al rango entre ambos extremos, entre más amplio su rango, los valores de probabilidad disminuye y se incrementa en caso contrario. Matemáticamente se define como:\n",
    "\n",
    "$$P(x\\vert L,H) = \\frac{1}{H - L}$$\n",
    "\n",
    "siendo $L$ y $H$ los extremos menor y superior.\n",
    "\n",
    "La media y la varianza de esta distribución está dado por:\n",
    "\n",
    "$$\\mu = \\frac{L + H}{2}$$\n",
    "\n",
    "$$\\sigma^2 = \\frac{(H-L+1)^2 - 1}{12}$$\n",
    "\n",
    "Veamos un ejemplo práctico de esta distribución."
   ]
  },
  {
   "cell_type": "code",
   "execution_count": null,
   "metadata": {
    "colab": {
     "base_uri": "https://localhost:8080/",
     "height": 427
    },
    "id": "QeB5brr-Fbk7",
    "outputId": "98025f57-a648-4723-a599-bfa3f054de46"
   },
   "outputs": [],
   "source": [
    "import numpy as np\n",
    "from scipy.stats import randint\n",
    "import matplotlib\n",
    "from matplotlib import pyplot\n",
    "\n",
    "matplotlib.rcParams.update({'font.size': 18, 'font.family': 'STIXGeneral', 'mathtext.fontset': 'stix'})\n",
    "\n",
    "L_1,H_1 = 5,15\n",
    "L_2,H_2 = 2,20\n",
    "L_3,H_3 = 3,30\n",
    "media_1, varianza_1,_ ,_ = randint.stats(L_1, H_1, moments='mvsk')\n",
    "media_2, varianza_2,_ ,_ = randint.stats(L_2, H_2, moments='mvsk')\n",
    "media_3, varianza_3,_ ,_ = randint.stats(L_3, H_3, moments='mvsk')\n",
    "x = np.arange(25)\n",
    "\n",
    "P1 = randint.pmf(x, L_1, H_1)\n",
    "P2 = randint.pmf(x, L_2, H_2)\n",
    "P3 = randint.pmf(x, L_3, H_3)\n",
    "\n",
    "fig = pyplot.figure(figsize=(38,10))\n",
    "\n",
    "ax = fig.add_subplot(1, 3, 1)\n",
    "ax.stem(x, P1, linefmt='green', markerfmt='D')\n",
    "pyplot.xlabel('$x$')\n",
    "pyplot.ylabel('$P(x)$')\n",
    "pyplot.title('Función de masa de probabilidad uniforme discreta con $L$ y $H$ = {:.2f} y {:.2f}'.format(L_1,H_1))\n",
    "\n",
    "ax = fig.add_subplot(1, 3, 2)\n",
    "ax.stem(x, P2, linefmt='blue', markerfmt='D')\n",
    "pyplot.xlabel('$x$')\n",
    "pyplot.ylabel('$P(x)$')\n",
    "pyplot.title('Función de masa de probabilidad uniforme discreta con $L$ y $H$ = {:.2f} y {:.2f}'.format(L_2,H_2))\n",
    "\n",
    "ax = fig.add_subplot(1, 3, 3)\n",
    "ax.stem(x, P3, linefmt='red', markerfmt='D')\n",
    "pyplot.xlabel('$x$')\n",
    "pyplot.ylabel('$P(x)$')\n",
    "pyplot.title('Función de masa de probabilidad uniforme discreta con $L$ y $H$ = {:.2f} y {:.2f}'.format(L_3,H_3))\n",
    "pyplot.show()\n",
    "\n",
    "print(\"Los valores de la media son = {:.3f}, {:.3f} y {:.3f}\".format(media_1, media_2, media_3))\n",
    "print(\"Los valores de la varianza son = {:.3f}, {:.3f} y {:.3f}\".format(varianza_1, varianza_2, varianza_3))"
   ]
  },
  {
   "cell_type": "markdown",
   "metadata": {
    "id": "wUjGfe0Ofrp0"
   },
   "source": [
    "## Función de distribución Bernoulli"
   ]
  },
  {
   "cell_type": "markdown",
   "metadata": {
    "id": "nTztIdl0fwaI"
   },
   "source": [
    "La función de distribución Bernoulli, $X \\sim Ber(\\rho)$, es una distribución con dos estados, como sucede, por ejemplo, en el lanzamiento de una moneda. Si lanzamos una moneda (y la moneda no está amañada), la probabilidad que salga \"cara\" es $\\rho_{cara} = 0.5$. Y como tiene que ser cara o sello, obtenemos:\n",
    "\n",
    "$$P(x\\vert \\rho) = \\begin{cases} 1 - \\rho & x=0 \\\\\n",
    "\\rho & x = 1\\end{cases}$$\n",
    "\n",
    "where:\n",
    "\n",
    "*   $\\sim$ significa \"es distribuido de acuerdo a\"\n",
    "*   $1 - \\rho$ es el complemento de $\\rho$, por ejemplo, la probabilidad que salga \"sello\", $\\rho_{sello} = 1 - \\rho_{cara}$\n",
    "*   $\\rho_{sello} + \\rho_{cara} = 1$\n",
    "\n",
    "Veamos un ejemplo práctico."
   ]
  },
  {
   "cell_type": "code",
   "execution_count": null,
   "metadata": {
    "colab": {
     "base_uri": "https://localhost:8080/"
    },
    "id": "qR_rb9r_ndkU",
    "outputId": "6af839e9-1514-4244-e28e-a79b661ab8d8"
   },
   "outputs": [],
   "source": [
    "from scipy.stats import bernoulli\n",
    "\n",
    "p = 0.5\n",
    "PX = bernoulli(p)\n",
    "PX"
   ]
  },
  {
   "cell_type": "markdown",
   "metadata": {
    "id": "_TZUHYXVoMSK"
   },
   "source": [
    "Lo anterior se llama función de distribución congelado o frozen, que es una opción de Python que permite calcular cualquier valor de una distribución, para este caso, como es una distribución Bernoulli, analizamos que sucede si $x = 0$ y $x = 1$, tal y como se mencionó en la fórmula de la función de distribución Bernoulli."
   ]
  },
  {
   "cell_type": "code",
   "execution_count": null,
   "metadata": {
    "colab": {
     "base_uri": "https://localhost:8080/"
    },
    "id": "0lBr9M9VoHWC",
    "outputId": "a1156928-1e8a-4f7c-f048-2353c8e9693c"
   },
   "outputs": [],
   "source": [
    "x = [0,1]\n",
    "p_sello = PX.pmf(x[0])\n",
    "p_cara = PX.pmf(x[1])\n",
    "print(\"La probabilidad de caer sello es: {:.3f}\".format(p_sello))\n",
    "print(\"La probabilidad de caer cara es: {:.3f}\".format(p_cara))"
   ]
  },
  {
   "cell_type": "markdown",
   "metadata": {
    "id": "Jeurv3_epLQ2"
   },
   "source": [
    "La función pmf significa *función de masa de probabilidad*. Ahora veamos el gráfico de esta distribución"
   ]
  },
  {
   "cell_type": "code",
   "execution_count": null,
   "metadata": {
    "colab": {
     "base_uri": "https://localhost:8080/",
     "height": 367
    },
    "id": "LE6ZbPAXpins",
    "outputId": "3f852d5f-9223-4a60-efa9-1c254740731d"
   },
   "outputs": [],
   "source": [
    "import numpy as np\n",
    "import matplotlib\n",
    "from matplotlib import pyplot\n",
    "\n",
    "matplotlib.rcParams.update({'font.size': 18, 'font.family': 'STIXGeneral', 'mathtext.fontset': 'stix'})\n",
    "\n",
    "pyplot.figure(figsize=(5,5))\n",
    "pyplot.stem(x, [p_sello,p_cara], linefmt='brown', markerfmt='D')\n",
    "pyplot.xlabel('$x$')\n",
    "pyplot.ylabel('$P(x)$')\n",
    "pyplot.title('Función de masa de probabilidad Bernoulli con p = {:.1f}'.format(p))\n",
    "pyplot.show()"
   ]
  },
  {
   "cell_type": "code",
   "execution_count": null,
   "metadata": {
    "colab": {
     "base_uri": "https://localhost:8080/"
    },
    "id": "EIAu4TpOqRFq",
    "outputId": "1020c0b9-0d95-4110-fad6-3a873e457cf3"
   },
   "outputs": [],
   "source": [
    "sellos = PX.rvs(15)\n",
    "sellos"
   ]
  },
  {
   "cell_type": "markdown",
   "metadata": {
    "id": "57MYQRYNq_Gj"
   },
   "source": [
    "La función rvs significa variaciones aleatorias y se utiliza para generar una secuencia aleatoria de valores entre 0 y 1."
   ]
  },
  {
   "cell_type": "markdown",
   "metadata": {
    "id": "7s8UBRjJfyAF"
   },
   "source": [
    "## Función de distribución Binomial"
   ]
  },
  {
   "cell_type": "markdown",
   "metadata": {
    "id": "VC2fF41zrMTM"
   },
   "source": [
    "La función de distribución binomial, $X \\sim Bin(n,p)$, es una distribución que determina la probabilidad que un número determinado de *ensayos* o *pruebas* son probables casos de éxito o de fracaso. Por ejemplo consideremos las siguientes interrogantes:\n",
    "\n",
    "*   De cada diez lanzamientos, ¿cuántas veces la moneda aterrizará con cara?\n",
    "*   De los niños nacidos en un hospital determinado en un día determinado, ¿cuántos de ellos serán niñas?\n",
    "*   ¿Cuántos estudiantes en un aula determinada tendrán ojos verdes?\n",
    "*   ¿Cuántos mosquitos, de un enjambre, morirán cuando se les rocíe con insecticida?\n",
    "\n",
    "Para responder a este tipo de interrogantes, consideramos $n$ como el número de experimentos repetitivos donde la probabilidad de éxito está dado por el parámetro $rho$ y la suma del número de éxitos. Este número de éxitos está representado por la variable aleatoria $X$ tal que $X = \\lbrace 0,\\ldots, n \\rbrace$. Por consiguiente, definimos la función de masa de probabilidad, $p(x = k \\vert n,\\rho)$, como:\n",
    "\n",
    "$$P(x = k \\vert n,\\rho) = \\begin{cases} \\binom{n}{k} \\rho^k (1-\\rho)^{n-k} & 0 \\leq \\rho \\leq 1,\\,\\, n \\in \\mathbb{N} \\\\\n",
    "0 & otro\\,\\, caso \\end{cases}$$\n",
    "\n",
    "donde:\n",
    "\n",
    "$$\\binom{n}{k} = \\frac{n!}{k!(n-k)!}$$\n",
    "\n",
    "Esta función cumple con la condición de la probabilidad total:\n",
    "\n",
    "$$P_0 + \\ldots + P_{n-1} = \\sum_{i=0}^{n-1} P_i = 1$$\n",
    "\n",
    "La media y la varianza de esta distribución están dados por:\n",
    "\n",
    "$$\\mu = n\\rho$$\n",
    "\n",
    "$$\\sigma^2 = n\\rho(1-\\rho)$$\n",
    "\n",
    "Veamos un ejemplo práctio de esta función."
   ]
  },
  {
   "cell_type": "code",
   "execution_count": null,
   "metadata": {
    "colab": {
     "base_uri": "https://localhost:8080/",
     "height": 676
    },
    "id": "nZ2QQXYDrLij",
    "outputId": "bafb515b-0a53-4e00-a2d3-68f01cc14e66"
   },
   "outputs": [],
   "source": [
    "from scipy.stats import binom\n",
    "import numpy as np\n",
    "import matplotlib\n",
    "from matplotlib import pyplot\n",
    "\n",
    "matplotlib.rcParams.update({'font.size': 18, 'font.family': 'STIXGeneral', 'mathtext.fontset': 'stix'})\n",
    "\n",
    "p, n = 0.5, 15\n",
    "BIN = binom(n, p)\n",
    "x = np.arange(15)\n",
    "P = BIN.pmf(x)\n",
    "media, varianza, _, _ = binom.stats(n, p, moments='mvsk')\n",
    "\n",
    "print(\"La media es {:.3f}\".format(media))\n",
    "print(\"La varianza es {:.3f}\".format(varianza))\n",
    "\n",
    "pyplot.figure(figsize=(10,10))\n",
    "pyplot.stem(x, P, linefmt='brown', markerfmt='D')\n",
    "pyplot.xlabel('$x$')\n",
    "pyplot.ylabel('$P(x)$')\n",
    "pyplot.title('Función de masa de probabilidad Binomial con p = {:.2f}'.format(p))\n",
    "pyplot.show()"
   ]
  },
  {
   "cell_type": "markdown",
   "metadata": {
    "id": "JEMgTR71LuDF"
   },
   "source": [
    "Qué sucedería en la función de distribución para diferentes valores de $\\rho$?"
   ]
  },
  {
   "cell_type": "code",
   "execution_count": null,
   "metadata": {
    "colab": {
     "base_uri": "https://localhost:8080/",
     "height": 524
    },
    "id": "azZns7lcL2DJ",
    "outputId": "bcb99a21-968c-4223-e894-b2ab89afa2f1"
   },
   "outputs": [],
   "source": [
    "from scipy.stats import binom\n",
    "import numpy as np\n",
    "import matplotlib\n",
    "from matplotlib import pyplot\n",
    "\n",
    "matplotlib.rcParams.update({'font.size': 18, 'font.family': 'STIXGeneral', 'mathtext.fontset': 'stix'})\n",
    "\n",
    "x = np.arange(15)\n",
    "p1, p2, p3 = 0.25, 0.75, 0.9\n",
    "n = 15\n",
    "BIN_1 = binom(n, p1)\n",
    "BIN_2 = binom(n, p2)\n",
    "BIN_3 = binom(n, p3)\n",
    "P1 = BIN_1.pmf(x)\n",
    "P2 = BIN_2.pmf(x)\n",
    "P3 = BIN_3.pmf(x)\n",
    "\n",
    "media_1, varianza_1, _, _ = binom.stats(n, p1, moments='mvsk')\n",
    "media_2, varianza_2, _, _ = binom.stats(n, p2, moments='mvsk')\n",
    "media_3, varianza_3, _, _ = binom.stats(n, p3, moments='mvsk')\n",
    "\n",
    "fig = pyplot.figure(figsize=(30,10))\n",
    "\n",
    "ax = fig.add_subplot(1, 3, 1)\n",
    "ax.stem(x, P1, linefmt='green', markerfmt='D')\n",
    "pyplot.xlabel('$x$')\n",
    "pyplot.ylabel('$P(x)$')\n",
    "pyplot.title('Función de masa de probabilidad Binomial con p = {:.2f}'.format(p1))\n",
    "\n",
    "ax = fig.add_subplot(1, 3, 2)\n",
    "ax.stem(x, P2, linefmt='blue', markerfmt='D')\n",
    "pyplot.xlabel('$x$')\n",
    "pyplot.ylabel('$P(x)$')\n",
    "pyplot.title('Función de masa de probabilidad Binomial con p = {:.2f}'.format(p2))\n",
    "\n",
    "ax = fig.add_subplot(1, 3, 3)\n",
    "ax.stem(x, P3, linefmt='red', markerfmt='D')\n",
    "pyplot.xlabel('$x$')\n",
    "pyplot.ylabel('$P(x)$')\n",
    "pyplot.title('Función de masa de probabilidad Binomial con p = {:.2f}'.format(p3))\n",
    "pyplot.show()\n",
    "\n",
    "print(\"Los valores de la media son = {:.3f}, {:.3f} y {:.3f}\".format(media_1, media_2, media_3))\n",
    "print(\"Los valores de la varianza son = {:.3f}, {:.3f} y {:.3f}\".format(varianza_1, varianza_2, varianza_3))"
   ]
  },
  {
   "cell_type": "markdown",
   "metadata": {
    "id": "8FNOsqpONkdH"
   },
   "source": [
    "### Test Binomial"
   ]
  },
  {
   "cell_type": "markdown",
   "metadata": {
    "id": "Eo90nFn-Nqf7"
   },
   "source": [
    "El test binomial es una prueba que desde los datos de una muestra permite determinar si la proporción de la población para una variable binaria es igual a un valor específico. Por ejemplo, un test binomial podría ser ver si la proporción de ingenieros de una empresa tienen habilidades de programación es igual $0.65$, lo cual es el valor esperado de la media de un modelo que analiza este tipo de escenario.\n",
    "\n",
    "El test binomial calcula la probabilidad de obtener de un tamaño de muestra específico, $n$, el número de resultados esperados, que para este caso, seria el número de ingenieros con habilidades de programación. Por lo general, en el test binomial depende del cálculo de la función de masa de probabilidad binomial, $X \\sim Bin(n,\\rho)$.\n",
    "\n",
    "Veamos un ejemplo práctico de este test.\n"
   ]
  },
  {
   "cell_type": "markdown",
   "metadata": {
    "id": "FWGh22gq4k9D"
   },
   "source": [
    "Consideremos el siguiente problema: \"Una empresa de desarrollo de Software dice que no más del 25% de las pruebas de calidad del software son ineficientes. Para 15 productos de software que son analizados, se encontraron que 5 productos de software son ineficientes. No obstante, varios expertos en ingeniería de software determinaron que puede haber 50%, 75% o inclusive 90% de sofware ineficientes debido a los cambios de personal que ha sufrido la empresa en los últimos dos años. Quiénes tendrán la razón?\""
   ]
  },
  {
   "cell_type": "code",
   "execution_count": null,
   "metadata": {
    "colab": {
     "base_uri": "https://localhost:8080/"
    },
    "id": "hYI9kxts2bit",
    "outputId": "9ff41865-2226-4257-c7de-451c186eabb0"
   },
   "outputs": [],
   "source": [
    "from scipy.stats import binom_test\n",
    "import numpy as np\n",
    "\n",
    "x = 5\n",
    "p1, p2, p3, p4 = 0.25, 0.5, 0.75, 0.9\n",
    "n = 15\n",
    "\n",
    "valor_1 = binom_test(x, n, p = p1)\n",
    "valor_2 = binom_test(x, n, p = p2)\n",
    "valor_3 = binom_test(x, n, p = p3)\n",
    "valor_4 = binom_test(x, n, p = p4)\n",
    "\n",
    "print(\"Valor de la prueba binomial con p = {:.2f} es = {:.8f}\".format(p1,valor_1))\n",
    "print(\"Valor de la prueba binomial con p = {:.2f} es = {:.8f}\".format(p2,valor_2))\n",
    "print(\"Valor de la prueba binomial con p = {:.2f} es = {:.8f}\".format(p3,valor_3))\n",
    "print(\"Valor de la prueba binomial con p = {:.2f} es = {:.8f}\".format(p4,valor_4))"
   ]
  },
  {
   "cell_type": "markdown",
   "metadata": {
    "id": "P3GMYABt64r3"
   },
   "source": [
    "Si consideramos un umbral de decisión de $0.05$ que es lo mismo que decir que hay 5% de desconfianza en los expertos, se determina que los expertos 1 y 2 no tienen razón en su afirmación mientras que los expertos 3 y 4 tienen razón en afirmar que entre el 75% y el 90% de los productos de software tienen problemas de clalidad.\n",
    "\n",
    "En la unidad 3, analizaremos a profunidad los test estadísticos."
   ]
  },
  {
   "cell_type": "markdown",
   "metadata": {
    "id": "4paUpeh2Fgn-"
   },
   "source": [
    "## Función de distribución binomial negativa"
   ]
  },
  {
   "cell_type": "markdown",
   "metadata": {
    "id": "o1dkFTjOFniM"
   },
   "source": [
    "La función de distribución binomial negativa, $X \\sim Nbin(n,\\rho)$, describe una secuencia de ensayos independientes basado en la distribución Bernoulli, donde la variable aleatoria $X$ denota el ensayo para $n$ sucesos o ensayos exitosos. A diferencia de la distribución binomial, esta distribución determina una variable aleatoria que representa el número de fracasos, $Y$. Matemáticamente, esta distribución esta dada por:\n",
    "\n",
    "$$P(y=k\\vert n,p) = \\binom{n+y-1}{y}\\rho^n(1 - \\rho)^y,\\,\\,\\, y = \\lbrace 0,1,\\ldots \\rbrace$$\n",
    "\n",
    "donde:\n",
    "\n",
    "$$\\binom{n+y-1}{y} = (-1)^y \\binom{-n}{y} = (-1)^y \\frac{(-n)(-n-1)\\cdots (-n-y+1)}{(y)(y-1)\\cdots (2)(1)}$$\n",
    "\n",
    "Otra forma alternativa de definir matemáticamente esta distribución es la siguiente:\n",
    "\n",
    "$$P(x=k\\vert n,p) = \\binom{x-1}{n-1}\\rho^n(1 - \\rho)^{x-n},\\,\\,\\, x = \\lbrace n,n+1,\\ldots \\rbrace$$\n",
    "\n",
    "La media y la varianza de esta distribución están dados por:\n",
    "\n",
    "$$\\mu = n\\left( \\frac{1-\\rho}{\\rho} \\right )$$\n",
    "\n",
    "$$\\sigma^2 = \\frac{n(1-\\rho)}{\\rho^2}$$\n",
    "\n",
    "Veamos un ejemplo práctico de esta distribución"
   ]
  },
  {
   "cell_type": "code",
   "execution_count": null,
   "metadata": {
    "colab": {
     "base_uri": "https://localhost:8080/",
     "height": 676
    },
    "id": "LR_5PhDuRa1i",
    "outputId": "72243806-6554-4634-aafb-8060d59d1173"
   },
   "outputs": [],
   "source": [
    "from scipy.stats import nbinom\n",
    "import numpy as np\n",
    "import matplotlib\n",
    "from matplotlib import pyplot\n",
    "\n",
    "matplotlib.rcParams.update({'font.size': 18, 'font.family': 'STIXGeneral', 'mathtext.fontset': 'stix'})\n",
    "\n",
    "p, n = 0.5, 15\n",
    "NBIN = nbinom(n, p)\n",
    "x = np.arange(15)\n",
    "P = NBIN.pmf(x)\n",
    "media, varianza, _, _ = nbinom.stats(n, p, moments='mvsk')\n",
    "\n",
    "print(\"La media es {:.3f}\".format(media))\n",
    "print(\"La varianza es {:.3f}\".format(varianza))\n",
    "\n",
    "pyplot.figure(figsize=(10,10))\n",
    "pyplot.stem(x, P, linefmt='brown', markerfmt='D')\n",
    "pyplot.xlabel('$x$')\n",
    "pyplot.ylabel('$P(x)$')\n",
    "pyplot.title('Función de masa de probabilidad Binomial Negativa con p = {:.1f}'.format(p))\n",
    "pyplot.show()"
   ]
  },
  {
   "cell_type": "markdown",
   "metadata": {
    "id": "JxrZai4dSJ3y"
   },
   "source": [
    "Qué sucedería en la función de distribución binomial negativa para diferentes valores de $\\rho$?"
   ]
  },
  {
   "cell_type": "code",
   "execution_count": null,
   "metadata": {
    "colab": {
     "base_uri": "https://localhost:8080/",
     "height": 456
    },
    "id": "AyvhWdG4SFb3",
    "outputId": "a25ae113-6e33-4349-f010-a94213dd1e4f"
   },
   "outputs": [],
   "source": [
    "from scipy.stats import nbinom\n",
    "import numpy as np\n",
    "import matplotlib\n",
    "from matplotlib import pyplot\n",
    "\n",
    "matplotlib.rcParams.update({'font.size': 18, 'font.family': 'STIXGeneral', 'mathtext.fontset': 'stix'})\n",
    "\n",
    "x = np.arange(15)\n",
    "p1, p2, p3 = 0.25, 0.75, 0.9\n",
    "n = 15\n",
    "NBIN_1 = nbinom(n, p1)\n",
    "NBIN_2 = nbinom(n, p2)\n",
    "NBIN_3 = nbinom(n, p3)\n",
    "P1 = NBIN_1.pmf(x)\n",
    "P2 = NBIN_2.pmf(x)\n",
    "P3 = NBIN_3.pmf(x)\n",
    "\n",
    "media_1, varianza_1, _, _ = nbinom.stats(n, p1, moments='mvsk')\n",
    "media_2, varianza_2, _, _ = nbinom.stats(n, p2, moments='mvsk')\n",
    "media_3, varianza_3, _, _ = nbinom.stats(n, p3, moments='mvsk')\n",
    "\n",
    "fig = pyplot.figure(figsize=(35,10))\n",
    "\n",
    "ax = fig.add_subplot(1, 3, 1)\n",
    "ax.stem(x, P1, linefmt='green', markerfmt='D')\n",
    "pyplot.xlabel('$x$')\n",
    "pyplot.ylabel('$P(x)$')\n",
    "pyplot.title('Función de masa de probabilidad Binomial Negativa con p = {:.2f}'.format(p1))\n",
    "\n",
    "ax = fig.add_subplot(1, 3, 2)\n",
    "ax.stem(x, P2, linefmt='blue', markerfmt='D')\n",
    "pyplot.xlabel('$x$')\n",
    "pyplot.ylabel('$P(x)$')\n",
    "pyplot.title('Función de masa de probabilidad Binomial Negativa con p = {:.2f}'.format(p2))\n",
    "\n",
    "ax = fig.add_subplot(1, 3, 3)\n",
    "ax.stem(x, P3, linefmt='red', markerfmt='D')\n",
    "pyplot.xlabel('$x$')\n",
    "pyplot.ylabel('$P(x)$')\n",
    "pyplot.title('Función de masa de probabilidad Binomial Negativa con p = {:.2f}'.format(p3))\n",
    "pyplot.show()\n",
    "\n",
    "print(\"Los valores de la media son = {:.3f}, {:.3f} y {:.3f}\".format(media_1, media_2, media_3))\n",
    "print(\"Los valores de la varianza son = {:.3f}, {:.3f} y {:.3f}\".format(varianza_1, varianza_2, varianza_3))"
   ]
  },
  {
   "cell_type": "markdown",
   "metadata": {
    "id": "iZgblzD7ToV4"
   },
   "source": [
    "### Test Binomial Negativa"
   ]
  },
  {
   "cell_type": "markdown",
   "metadata": {
    "id": "D6aBvgpNTsK1"
   },
   "source": [
    "El test binomial negativa esta basado en el test Binomial estándar pero se debe considerar dos muestras: número de éxitos y número de fracasos. Veamos un ejemplo práctico de este test"
   ]
  },
  {
   "cell_type": "markdown",
   "metadata": {
    "id": "MCMzQxtSUtHh"
   },
   "source": [
    "Consideremos el siguiente problema: \"Un ciudadano colombiano tiene un negocio de empánadas que produce 200 empanadas en tres horas. De las 200 empanadas, hay 8 empanadas deliciosas y 2 empanadas regulares por cada 10 empanadas que produce en nueve minutos. Sin embargo, en una encuesta a los consumidores, dicen que de las empanadas que comen lunes a viernes, hay aproximadamente 10% o 60% de las empanadas que tienen un sabor regular\"\n"
   ]
  },
  {
   "cell_type": "code",
   "execution_count": null,
   "metadata": {
    "colab": {
     "base_uri": "https://localhost:8080/"
    },
    "id": "0l0Ygmf7Unfx",
    "outputId": "59e2827b-8cf5-4f8c-f1cd-9ea5227f7ba5"
   },
   "outputs": [],
   "source": [
    "from scipy.stats import binom_test\n",
    "import numpy as np\n",
    "\n",
    "xe, xf = 8, 2\n",
    "p1, p2 = 0.1, 0.6\n",
    "n = 10\n",
    "\n",
    "valor_1 = binom_test([xe,xf], n, p = p1)\n",
    "valor_2 = binom_test([xe,xf], n, p = p2)\n",
    "\n",
    "print(\"Valor de la prueba binomial negativa con p = {:.2f} es = {:.8f}\".format(p1,valor_1))\n",
    "print(\"Valor de la prueba binomial negativa con p = {:.2f} es = {:.8f}\".format(p2,valor_2))"
   ]
  },
  {
   "cell_type": "markdown",
   "metadata": {
    "id": "GyY9NFovW8yT"
   },
   "source": [
    "Si consideramos un umbral de decisión de $0.05$, observen que el primer caso tiene un valor menor $0.05$ y por consiguiente, hay alrededor de 10% de las empanadas que pueden salir regulares. Por otra parte, el segundo caso tiene un valor mayor a $0.05$, lo cual se rechaza la hipótesis que el 60% de las empanadas salgan regulares."
   ]
  },
  {
   "cell_type": "markdown",
   "metadata": {
    "id": "76jHo4-dZC4w"
   },
   "source": [
    "## Función de distribución Geométrica"
   ]
  },
  {
   "cell_type": "markdown",
   "metadata": {
    "id": "8md1xLsKZIFC"
   },
   "source": [
    "La función de distribución geométrica, $X \\sim Geo(\\rho)$, es un caso especial de la distribución binomial negativa cuando $n=1$. Al considerar dicha condición, la función se expresa como:\n",
    "\n",
    "$$P(x=k \\vert \\rho) = \\rho(1 - \\rho)^{x - 1},\\,\\, x=\\lbrace 1,2,\\ldots \\rbrace$$\n",
    "\n",
    "Esta función considera $\\rho$ como la probabilidad de éxitos, como en la función binomial estándar. La variable aleatoria $X$ se interpreta como el ensayo o experimento en el cual el primer éxito se presenta y por consiguiente, se aguarda a esperar si se presenta un nuevo éxito. \n",
    "\n",
    "La media y la varianza de esta distribución está dado por:\n",
    "\n",
    "$$\\mu = \\frac{1}{\\rho}$$\n",
    "\n",
    "$$\\sigma^2 = \\frac{1 - \\rho}{\\rho^2}$$\n",
    "\n",
    "Una característica interesante de esta distribución es una propiedad llamada **sin memoría**, que significa que la distribución geométrica olvida lo que sucedio anteriormente. \n",
    "\n",
    "Veamos un ejemplo práctico de dicha distribución."
   ]
  },
  {
   "cell_type": "code",
   "execution_count": null,
   "metadata": {
    "colab": {
     "base_uri": "https://localhost:8080/",
     "height": 676
    },
    "id": "pEeN9TGDbuux",
    "outputId": "4faa4608-5010-4c58-f31f-f38b36a397f2"
   },
   "outputs": [],
   "source": [
    "from scipy.stats import geom\n",
    "import numpy as np\n",
    "import matplotlib\n",
    "from matplotlib import pyplot\n",
    "\n",
    "matplotlib.rcParams.update({'font.size': 18, 'font.family': 'STIXGeneral', 'mathtext.fontset': 'stix'})\n",
    "\n",
    "p = 0.5\n",
    "GEO = geom(p)\n",
    "x = np.arange(15)\n",
    "P = GEO.pmf(x)\n",
    "media, varianza, _, _ = geom.stats(p, moments='mvsk')\n",
    "\n",
    "print(\"La media es {:.3f}\".format(media))\n",
    "print(\"La varianza es {:.3f}\".format(varianza))\n",
    "\n",
    "pyplot.figure(figsize=(10,10))\n",
    "pyplot.stem(x, P, linefmt='brown', markerfmt='D')\n",
    "pyplot.xlabel('$x$')\n",
    "pyplot.ylabel('$p(x)$')\n",
    "pyplot.title('Función de masa de probabilidad Geométrica con p = {:.1f}'.format(p))\n",
    "pyplot.show()"
   ]
  },
  {
   "cell_type": "markdown",
   "metadata": {
    "id": "fAmmuOZXcgO-"
   },
   "source": [
    "Qué sucedería en la función de distribución geométrica para diferentes valores de $\\rho$?"
   ]
  },
  {
   "cell_type": "code",
   "execution_count": null,
   "metadata": {
    "colab": {
     "base_uri": "https://localhost:8080/",
     "height": 459
    },
    "id": "gtCogb--cfeL",
    "outputId": "ad03bd0b-e6f3-4f4d-a2a4-cd86052ba518"
   },
   "outputs": [],
   "source": [
    "from scipy.stats import geom\n",
    "import numpy as np\n",
    "import matplotlib\n",
    "from matplotlib import pyplot\n",
    "\n",
    "matplotlib.rcParams.update({'font.size': 18, 'font.family': 'STIXGeneral', 'mathtext.fontset': 'stix'})\n",
    "\n",
    "x = np.arange(15)\n",
    "p1, p2, p3 = 0.25, 0.75, 0.9\n",
    "GEO_1 = geom(p1)\n",
    "GEO_2 = geom(p2)\n",
    "GEO_3 = geom(p3)\n",
    "P1 = GEO_1.pmf(x)\n",
    "P2 = GEO_2.pmf(x)\n",
    "P3 = GEO_3.pmf(x)\n",
    "\n",
    "media_1, varianza_1, _, _ = geom.stats(p1, moments='mvsk')\n",
    "media_2, varianza_2, _, _ = geom.stats(p2, moments='mvsk')\n",
    "media_3, varianza_3, _, _ = geom.stats(p3, moments='mvsk')\n",
    "\n",
    "fig = pyplot.figure(figsize=(35,10))\n",
    "\n",
    "ax = fig.add_subplot(1, 3, 1)\n",
    "ax.stem(x, P1, linefmt='green', markerfmt='D')\n",
    "pyplot.xlabel('$x$')\n",
    "pyplot.ylabel('$P(x)$')\n",
    "pyplot.title('Función de masa de probabilidad Geométrica con p = {:.2f}'.format(p1))\n",
    "\n",
    "ax = fig.add_subplot(1, 3, 2)\n",
    "ax.stem(x, P2, linefmt='blue', markerfmt='D')\n",
    "pyplot.xlabel('$x$')\n",
    "pyplot.ylabel('$P(x)$')\n",
    "pyplot.title('Función de masa de probabilidad Geométrica con p = {:.2f}'.format(p2))\n",
    "\n",
    "ax = fig.add_subplot(1, 3, 3)\n",
    "ax.stem(x, P3, linefmt='red', markerfmt='D')\n",
    "pyplot.xlabel('$x$')\n",
    "pyplot.ylabel('$P(x)$')\n",
    "pyplot.title('Función de masa de probabilidad Geométrica con p = {:.2f}'.format(p3))\n",
    "pyplot.show()\n",
    "\n",
    "print(\"Los valores de la media son = {:.3f}, {:.3f} y {:.3f}\".format(media_1, media_2, media_3))\n",
    "print(\"Los valores de la varianza son = {:.3f}, {:.3f} y {:.3f}\".format(varianza_1, varianza_2, varianza_3))"
   ]
  },
  {
   "cell_type": "markdown",
   "metadata": {
    "id": "sZNWaTlIdQMr"
   },
   "source": [
    "## Función de distribución Hipergeométrica"
   ]
  },
  {
   "cell_type": "markdown",
   "metadata": {
    "id": "Km0FfUIMdUrh"
   },
   "source": [
    "La distribución de masa de probabilidad hipergeométrica, $X \\sim HGeo(n,M,N)$, es una función que considera el número de posbiles maneras de obtener el tamaño de la muestra $\\binom{N}{n}$, siendo que se considere un número de fracasos $M$ y como la variable aleatoria $X$ puede ser muestreado como $\\binom{M}{x}$, de diferentes maneras. La función de masa está dado por:\n",
    "\n",
    "$$P(X = k\\vert n,M.N) = \\frac{\\binom{M}{x}\\binom{N-M}{n-x}}{\\binom{N}{n}}$$\n",
    "\n",
    "donde $x$ es un número entero que está limitado en un rango entre $\\max \\lbrace 0, n-N+M\\rbrace$ y $\\min\\lbrace n,M\\rbrace$.\n",
    "\n",
    "La media y la varianza de esta distribución está dado por:\n",
    "\n",
    "$$\\mu = n\\left (\\frac{M}{N} \\right)$$\n",
    "\n",
    "$$\\sigma^2 = n \\left(\\frac{M}{N}\\right) \\left(\\frac{N-M}{N}\\right) \\left(\\frac{N-n}{N-1}\\right)$$\n",
    "\n",
    "Veamos un ejemplo práctico de esta distribución."
   ]
  },
  {
   "cell_type": "markdown",
   "metadata": {
    "id": "ZPrVtZj_9vya"
   },
   "source": [
    "Consideremos el siguiente problema: \"En el restaurante de Pino Prestanizzi hacen 200 pizzas por día. De estas 200 pizzas, hay 20 pizzas que tienen tomates Milano dañados. Si consideramos una muestra aleatoria de $n$ pizzas, denotamos $X$ como el número de pizzas con tomates Milano de baja calidad obtenidos desde la muestra $n$. Pino Prestanizzi, con la rabia característica que lo conocen sus empleados, desea saber si con $n = 10$ pizzas, hay alguna pizza con tomates de mala calidad\"."
   ]
  },
  {
   "cell_type": "code",
   "execution_count": null,
   "metadata": {
    "colab": {
     "base_uri": "https://localhost:8080/",
     "height": 676
    },
    "id": "A_D9xTWv_QnB",
    "outputId": "7fa5385d-e083-4078-f2f3-e975bd59d647"
   },
   "outputs": [],
   "source": [
    "from scipy.stats import hypergeom\n",
    "import numpy as np\n",
    "import matplotlib\n",
    "from matplotlib import pyplot\n",
    "\n",
    "matplotlib.rcParams.update({'font.size': 18, 'font.family': 'STIXGeneral', 'mathtext.fontset': 'stix'})\n",
    "\n",
    "N = 200\n",
    "M = 20\n",
    "n = 10\n",
    "x = np.arange(15)\n",
    "HYG = hypergeom(N,M,n)\n",
    "P = HYG.pmf(x)\n",
    "\n",
    "media = hypergeom.mean(N,M,n)\n",
    "varianza = hypergeom.var(N,M,n)\n",
    "\n",
    "print(\"La media es {:.3f}\".format(media))\n",
    "print(\"La varianza es {:.3f}\".format(varianza))\n",
    "\n",
    "pyplot.figure(figsize=(10,10))\n",
    "pyplot.stem(x, P, linefmt='brown', markerfmt='D')\n",
    "pyplot.xlabel('$x$')\n",
    "pyplot.ylabel('$P(x)$')\n",
    "pyplot.title('Función de masa de probabilidad Hipergeométrica')\n",
    "pyplot.show()"
   ]
  },
  {
   "cell_type": "code",
   "execution_count": null,
   "metadata": {
    "colab": {
     "base_uri": "https://localhost:8080/"
    },
    "id": "TmL115sCDAah",
    "outputId": "ba082124-ad60-4abb-bf89-a86dfc27bd32"
   },
   "outputs": [],
   "source": [
    "P_pizza_defectosa = np.max(P)\n",
    "P_pizza_defectosa "
   ]
  },
  {
   "cell_type": "code",
   "execution_count": null,
   "metadata": {
    "colab": {
     "base_uri": "https://localhost:8080/"
    },
    "id": "F5_kjU44DXk3",
    "outputId": "116ec77a-2218-4a71-decb-7a8b5718d460"
   },
   "outputs": [],
   "source": [
    "x_pizza_defectuosa = np.argmax(P)\n",
    "x_pizza_defectuosa"
   ]
  },
  {
   "cell_type": "markdown",
   "metadata": {
    "id": "3rXqf1tmCthi"
   },
   "source": [
    "Para el ejemplo anterior, efectivamente, hay una pizza (x = 1), que tiene tomate Milano de mala calidad con una probabilidad de $P(x = 1) = 0.397$"
   ]
  },
  {
   "cell_type": "markdown",
   "metadata": {
    "id": "Q1AmkAfTD0uj"
   },
   "source": [
    "## Función de distribución de probabilidad Poisson"
   ]
  },
  {
   "cell_type": "markdown",
   "metadata": {
    "id": "Vs1QaJOWD6Qs"
   },
   "source": [
    "La distribución de probabilidad Poisson, $X \\sim Poi(\\lambda)$, es similar a la distribución binomial donde se analiza como el número de veces que ocurre un evento en un periodo de espacio o tiempo se puede presentar. A diferencia de las anteriores distribuciones, está distribución no tiene un valor total de muestras $n$, solamente está definido por un único parámetro que llamaremos $\\lambda$.\n",
    "\n",
    "Las siguientes preguntas pueden ser respondidas con la distribución de Poisson:\n",
    "\n",
    "*   ¿Cuántos conejitos me encontraré en mi camino a casa?\n",
    "*   ¿Cuántos ancianos serán atendidos en la UCI hoy?\n",
    "*   ¿Cuántos productos venderé después de emitir un nuevo anuncio en Facebook?\n",
    "*   ¿Cuántas caídas de servicio celular habrá por cada 1000 llamadas que se presentá en la estación central por cada minuto?\n",
    "\n",
    "Para este tipo de distribución, la variable aleatoria $X$ considera el número de eventos que puede tomar cualquier valor entero no negativo, es decir, $X = \\lbrace 1,2,\\ldots \\rbrace$. Por ejemplo, podría hacer una llamada por celular y que no se caiga la llamada (en términos coloquiales). Pero se puede presentar el caso que se corte la llamada cuando lleve un minuto de servicio del operador móvil. \n",
    "\n",
    "Matemáticamente, la distribución de masa de probabilidad Poisson se expresa como:\n",
    "\n",
    "$$P(x = k\\vert \\lambda) = \\frac{\\exp(-\\lambda)\\lambda^x}{x!}$$\n",
    "\n",
    "A diferencia del parámetro $\\rho$ de la distribución Binomial, el parámetro $\\lambda$ representa el promedio o número experado de eventos que ocurrirá en un evento o suceso.\n",
    "\n",
    "Una caracteristica curiosa de esta distribución es que la media y la varianza son iguales a $\\lambda$, es decir, $\\mu = \\sigma^2 = \\lambda$.\n",
    "\n",
    "Veamos un ejemplo práctico de esta distribución."
   ]
  },
  {
   "cell_type": "markdown",
   "metadata": {
    "id": "FChdCPUr-kFA"
   },
   "source": [
    "Consideremos el siguiente problema: \"La empresa Hughes Net está monitoreando la estabilidad de la velocidad del internet satelital a los usuarios de los corregimientos más cercanos a Medellin. Según sus resultados, para 10 usuarios de un corregimiento tiene una estimación entre 2 y 5 usuarios que tengan una baja velocidad del internet entre las 10 am y las 11 am de los días martes y miércoles. Por consiguiente, se desea conocer la mayor probabilidad que la velocidad tenga una disminución drástica a ese grupo de usuarios\"."
   ]
  },
  {
   "cell_type": "code",
   "execution_count": null,
   "metadata": {
    "colab": {
     "base_uri": "https://localhost:8080/",
     "height": 680
    },
    "id": "hHkdCT03-kpD",
    "outputId": "0fdd611c-5c0e-498a-ebc9-cd9584d03a19"
   },
   "outputs": [],
   "source": [
    "from scipy.stats import poisson\n",
    "import numpy as np\n",
    "import matplotlib\n",
    "from matplotlib import pyplot\n",
    "\n",
    "matplotlib.rcParams.update({'font.size': 18, 'font.family': 'STIXGeneral', 'mathtext.fontset': 'stix'})\n",
    "\n",
    "lamda_1, lamda_2 = 2, 5\n",
    "x = np.arange(10)\n",
    "POI_1 = poisson(lamda_1)\n",
    "POI_2 = poisson(lamda_2)\n",
    "P1 = POI_1.pmf(x)\n",
    "P2 = POI_2.pmf(x)\n",
    "\n",
    "media_1 = poisson.mean(lamda_1)\n",
    "media_2 = poisson.mean(lamda_2)\n",
    "varianza_1 = poisson.mean(lamda_1)\n",
    "varianza_2 = poisson.mean(lamda_2)\n",
    "\n",
    "fig = pyplot.figure(figsize=(20,10))\n",
    "\n",
    "ax = fig.add_subplot(1, 2, 1)\n",
    "ax.stem(x, P1, linefmt='red', markerfmt='D')\n",
    "pyplot.xlabel('$x$')\n",
    "pyplot.ylabel('$P(x)$')\n",
    "pyplot.title('Función de masa de probabilidad Poisson con $\\lambda$ = {:.2f}'.format(lamda_1))\n",
    "\n",
    "ax = fig.add_subplot(1, 2, 2)\n",
    "ax.stem(x, P2, linefmt='blue', markerfmt='D')\n",
    "pyplot.xlabel('$x$')\n",
    "pyplot.ylabel('$P(x)$')\n",
    "pyplot.title('Función de masa de probabilidad Poisson con $\\lambda$ = {:.2f}'.format(lamda_2))\n",
    "\n",
    "print(\"Los valores de la media son {:.3f} y {:.3f}\".format(media_1, media_2))\n",
    "print(\"Los valores de la covarianza son {:.3f} y {:.3f}\".format(varianza_1, varianza_2))"
   ]
  },
  {
   "cell_type": "markdown",
   "metadata": {
    "id": "fE5sgITaCF9a"
   },
   "source": [
    "Cuando $\\lambda = 2$, se observa que los usuarios 1 y 2 tienen mayor probabilidad que se reduzca la velocidad del internet. Por otra parte, si $\\lambda = 5$, los usuarios 4 y 5 tienen mayor probabilidad con respecto a los demás usuarios que se reduzca la velocidad del internet pero con valor de probabilidad más bajo en comparación con el caso de $\\lambda = 2$."
   ]
  },
  {
   "cell_type": "markdown",
   "metadata": {
    "id": "T256e5d0iwIz"
   },
   "source": [
    "# Funciones de distribución continua"
   ]
  },
  {
   "cell_type": "markdown",
   "metadata": {
    "id": "V3yzOhflRx7I"
   },
   "source": [
    "Supongamos que la variable aleatoria $X$ es continuo sobre los posbiles valores de $x$. Definimos la **función de densidad de probabilidad** como una distribución continua, $f(x)$, tal que para un rango $\\lbrack a,b \\rbrack$ está definido como:\n",
    "\n",
    "$$f(x) = \\mathbb{P}(X \\in \\lbrack a, b \\rbrack) = \\int_a^b f(x)dx$$\n",
    "\n",
    "Obviamente, para un rango $R_x = \\lbrack a,b \\rbrack$, decimos que para una distribución con una variable $s$ definimos:\n",
    "\n",
    "$$\\int_{R_x} f(s)ds = 1$$\n",
    "\n",
    "A partir de lo anterior, se define la **función de densidad acumulada**, que es un nombre especial para las probabilidades acumuladas de una función continua de un evento, $P(X < x)$.\n",
    "\n",
    "De forma general, la función de densidad acumulada está dado por:\n",
    "\n",
    "$$P(X < z) = \\int_{-\\infty}^x f(s)ds$$"
   ]
  },
  {
   "cell_type": "markdown",
   "metadata": {
    "id": "YoXJHaMCUKQ_"
   },
   "source": [
    "## Función de distribución Uniforme"
   ]
  },
  {
   "cell_type": "markdown",
   "metadata": {
    "id": "-QOTA7-tUiQp"
   },
   "source": [
    "La distribución de densidad de probabilidad uniforme, $X \\sim Unif(a,b)$, es una distribución sobre el intervalor $\\lbrack a,b \\rbrack$, tal que $b > 0$. Si $a,b \\in \\mathbb{R^+}$, para cualesquiera números reales, la función está dada por:\n",
    "\n",
    "$$f(x;a,b) = \\frac{1}{b-a}, \\,\\, a\\leq x \\leq b,\\,\\, siendo\\,\\, b>a $$\n",
    "\n",
    "La media y la varianza de esta distribución están dado por:\n",
    "\n",
    "$$\\mu = \\frac{a+b}{2}$$\n",
    "\n",
    "$$\\sigma^2 = \\frac{(b-a)^2}{12}$$\n",
    "\n",
    "Veamos un ejemplo práctico de esta distribución."
   ]
  },
  {
   "cell_type": "markdown",
   "metadata": {
    "id": "6epdj9uqV_Vs"
   },
   "source": [
    "Consideremos el siguiente problema: \"En una agencia de seguridad industrial, contrató a un grupo de PhDs de una prestigiosa universidad para analizar el diseño de un switch que genera señales aleatorias cuya trayectoria es uniformemente distribuido sobre un intervalo entre $0$ y $1$. La agencia está interesada en calcular la probabilidad que la trayectoria cae en un intervalo entre $0.3$ y $0.61$\"."
   ]
  },
  {
   "cell_type": "code",
   "execution_count": null,
   "metadata": {
    "colab": {
     "base_uri": "https://localhost:8080/",
     "height": 676
    },
    "id": "hIgZ6BSsUJJo",
    "outputId": "d2cd6af0-7d7a-45a1-e93c-72c00c105edf"
   },
   "outputs": [],
   "source": [
    "from scipy.stats import uniform\n",
    "import numpy as np\n",
    "import matplotlib\n",
    "from matplotlib import pyplot\n",
    "\n",
    "matplotlib.rcParams.update({'font.size': 18, 'font.family': 'STIXGeneral', 'mathtext.fontset': 'stix'})\n",
    "\n",
    "a,b = 0.3,0.61\n",
    "media = (a+b)/2\n",
    "varianza = (b-a)**2/12\n",
    "media_u,varianza_u,_,_ = uniform.stats(loc = media, scale = varianza, moments = 'mvsk')\n",
    "print(\"La media es = {:.3f}\".format(media_u))\n",
    "print(\"La varianza es = {:.9f}\".format(varianza_u))\n",
    "\n",
    "x = np.linspace(uniform.ppf(0.01), uniform.ppf(0.99), 110)\n",
    "UNIF = uniform()\n",
    "P = UNIF.pdf(x)\n",
    "\n",
    "pyplot.figure(figsize=(10,10))\n",
    "pyplot.plot(x, P, 'b-', lw = 5, alpha = 0.6, label='pdf uniforme')\n",
    "pyplot.hist(uniform.rvs(size = 110), density=True, histtype='stepfilled', alpha=0.5) # rvs significa variable aleatoria\n",
    "pyplot.xlabel('$x$')\n",
    "pyplot.ylabel('$f(x)$')\n",
    "pyplot.axis([a,b,0,1.02])\n",
    "pyplot.title('Función de densidad de probabilidad uniforme')\n",
    "pyplot.show()"
   ]
  },
  {
   "cell_type": "code",
   "execution_count": null,
   "metadata": {
    "colab": {
     "base_uri": "https://localhost:8080/"
    },
    "id": "rHNrzMxkbhp0",
    "outputId": "ad055e5f-48af-4221-bfdc-2f8c3882de6f"
   },
   "outputs": [],
   "source": [
    "DIF = UNIF.cdf(b) - UNIF.cdf(a) # cdf es la función de densidad acumulada\n",
    "print(\"Valor de la trayectoria donde hay mayor probabilidad que se active el switch es = {:.3f}\".format(DIF))"
   ]
  },
  {
   "cell_type": "markdown",
   "metadata": {
    "id": "28Ser8XlgnAC"
   },
   "source": [
    "## Función de distribución Gaussiana"
   ]
  },
  {
   "cell_type": "markdown",
   "metadata": {
    "id": "mAjfh9c7H02M"
   },
   "source": [
    "La función de densidad probabilidad Gaussiana, $X \\sim Gauss(\\mu,\\sigma^2)$, es una función que tiene la siguiente expresión:\n",
    "\n",
    "$$f(x;\\mu,\\sigma) = \\frac{1}{\\sqrt{2\\pi}\\sigma} \\exp \\left( -\\frac{(x-\\mu)^2}{\\sigma^2} \\right )$$\n",
    "\n",
    "donde $\\mu$, $\\sigma$ ($\\sigma > 0$) y $-\\infty < x < \\infty$.\n",
    "\n",
    "Esta función de densidad de probabilidad está sujeto a las siguientes propiedades:\n",
    "\n",
    "*Propiedad 1:*\n",
    "\n",
    "$f(x;\\mu,\\sigma)$ es simétrico en términos de $x = \\mu$. En otras palabras, se dice que $f(\\mu - x) = f(\\mu + x)$\n",
    "\n",
    "*Propiedad 2:*\n",
    "\n",
    "$f(x;\\mu,\\sigma)$ tiene una simetría central para un punto con coordenadas $(\\mu, 0.5)$. Lo anterior permite establecer que $f(\\mu - x) = 1 - f(\\mu + x)$\n",
    "\n",
    "*Propiedad 3:*\n",
    "\n",
    "La esperanza y la varianza de $X$ son $\\mathbb{E}\\lbrack X \\rbrack = \\mu$ y $\\mathbb{V}\\lbrack X \\rbrack = \\sigma^2$. La media determina el punto central, mientras que la desviación estándar determina la inclinación.\n",
    "\n",
    "Por otra parte, la variable aleatoria $X$ está sujeto a una distribución normal con parámetro $\\mu$ y $\\sigma$, si $\\mu = 0$ y $\\sigma = 1$, lo cual se genera la **distribución normal estándar o Z**. Lo anterior es una forma de *estandarizar* o *tipificar* las variables aleatorias, lo cual se mide el desplazamiento de la función con respecto a $\\mu$ en unidades de desviación estándar $\\sigma$:\n",
    "\n",
    "$$z_i = \\frac{y_i - \\bar{y}}{\\sigma_i}$$\n",
    "\n",
    "donde $\\bar{y} = \\frac{1}{N}\\sum_{i=1}^N y_i$ es el estadístico de media, $y_i$ es una muestra aleatoria de $N$ datos de la población, es decir, $i = \\lbrace 1, \\ldots, N \\rbrace$, y $\\sigma_i$ es la desviación estándar de una muestra poblacional. Por consiguiente, la función se expresa en término de $z$ como:\n",
    "\n",
    "$$f(z) = \\frac{1}{\\sqrt{2\\pi}} \\exp \\left( -\\frac{1}{2} z^2 \\right )$$\n",
    "\n",
    "donde esta distribución coinciden con la media y la mediana en $0$ y $f(z)$ permite disponer del valor de la distribución de probabilidad bajo el área de la curva para cualquier valor de de la función estándar.\n",
    "\n",
    "A partir de la función de distribución normal estándar, surge una cuarta propiedad de la función Gaussiana:\n",
    "\n",
    "*Propiedad 4:*\n",
    "\n",
    "$$\\mathbb{P}(\\mu - 3\\sigma \\leq X \\leq \\mu + 3\\sigma) = 0.9973$$\n",
    "\n",
    "Esta propiedad menciona que si la variable aleatoria esta sujeto a una distribución normal, entonces el $99.73\\%$ de sus valores estarán localizados en el intervalo con centro $\\mu$ y longitud o escala $3\\sigma$. Lo anterior se denomina como el **principio $3\\sigma$**, el cual es ampliamente aplicado en estadística.\n",
    "\n",
    "Veamos varios ejemplo prácticos de está importante distribución.\n"
   ]
  },
  {
   "cell_type": "code",
   "execution_count": null,
   "metadata": {
    "colab": {
     "base_uri": "https://localhost:8080/",
     "height": 639
    },
    "id": "UhRHvEwdHr-r",
    "outputId": "eb5bdbfa-b65a-4910-e6db-9dacb81180b5"
   },
   "outputs": [],
   "source": [
    "from scipy.stats import norm\n",
    "import numpy as np\n",
    "import matplotlib\n",
    "from matplotlib import pyplot\n",
    "\n",
    "x = np.arange(-3,3.1,0.001)\n",
    "f = norm.pdf(x) # loc = media = 0 y scale = varianza = 1 \n",
    "pyplot.figure(figsize=(10,10))\n",
    "pyplot.plot(x, f, 'b-', lw = 5, alpha = 0.6, label='pdf Gaussiano')\n",
    "pyplot.hist(norm.rvs(size = 1000), density=True, histtype='stepfilled', alpha=0.5) # rvs significa variable aleatoria\n",
    "pyplot.xlabel('$x$')\n",
    "pyplot.ylabel('$f(x)$')\n",
    "pyplot.title('Función de densidad de probabilidad Gaussiana')\n",
    "pyplot.show()"
   ]
  },
  {
   "cell_type": "code",
   "execution_count": null,
   "metadata": {
    "colab": {
     "base_uri": "https://localhost:8080/",
     "height": 427
    },
    "id": "-V4MNJVwL7ld",
    "outputId": "6f1dd24f-c0bb-48fa-eb43-44bdccbe9848"
   },
   "outputs": [],
   "source": [
    "from scipy.stats import norm\n",
    "import numpy as np\n",
    "import matplotlib\n",
    "from matplotlib import pyplot\n",
    "\n",
    "matplotlib.rcParams.update({'font.size': 18, 'font.family': 'STIXGeneral', 'mathtext.fontset': 'stix'})\n",
    "\n",
    "z = np.arange(-4.1,4.1, 0.01)\n",
    "z1 = np.arange(0,4.02, 0.01)\n",
    "z2 = np.arange(-1.96,1.96, 0.01)\n",
    "z3 = np.arange(-3,3, 0.01)\n",
    "\n",
    "P = norm.pdf(z)\n",
    "P1 = norm.pdf(z1)\n",
    "P2 = norm.pdf(z2)\n",
    "P3 = norm.pdf(z3)\n",
    "\n",
    "fig = pyplot.figure(figsize=(28,28))\n",
    "ax = fig.add_subplot(3, 3, 1)\n",
    "pyplot.plot(z, P, 'b-', lw = 5, alpha = 0.6)\n",
    "pyplot.fill_between(z1,P1)\n",
    "pyplot.xlabel('$0 \\leq z \\leq 4.02$')\n",
    "pyplot.ylabel('$f(z)$')\n",
    "\n",
    "ax = fig.add_subplot(3, 3, 2)\n",
    "pyplot.plot(z, P, 'b-', lw = 5, alpha = 0.6)\n",
    "pyplot.fill_between(z2,P2)\n",
    "pyplot.xlabel('$-1.96 \\leq z \\leq 1.96$')\n",
    "pyplot.ylabel('$f(z)$')\n",
    "\n",
    "ax = fig.add_subplot(3, 3, 3)\n",
    "pyplot.plot(z, P, 'b-', lw = 5, alpha = 0.6)\n",
    "pyplot.fill_between(z3,P3)\n",
    "pyplot.xlabel('$-3 \\leq z \\leq 3$')\n",
    "pyplot.ylabel('$f(z)$')\n",
    "pyplot.show()"
   ]
  },
  {
   "cell_type": "markdown",
   "metadata": {
    "id": "-Z9OhC3yDOkJ"
   },
   "source": [
    "Si la media es $115$ y la desviación estándar es $20$ para una población con distribución normal , podemos realizar el siguiente análisis práctico"
   ]
  },
  {
   "cell_type": "code",
   "execution_count": null,
   "metadata": {
    "colab": {
     "base_uri": "https://localhost:8080/",
     "height": 639
    },
    "id": "ShsuoN0SDeVe",
    "outputId": "3b234026-a45e-40ff-8709-3baed73d8bbc"
   },
   "outputs": [],
   "source": [
    "from scipy.stats import norm\n",
    "import numpy as np\n",
    "import matplotlib\n",
    "from matplotlib import pyplot\n",
    "\n",
    "matplotlib.rcParams.update({'font.size': 18, 'font.family': 'STIXGeneral', 'mathtext.fontset': 'stix'})\n",
    "\n",
    "x = np.arange(25,200, 0.001)\n",
    "P = norm.pdf(x, loc = 115, scale = 20)\n",
    "\n",
    "pyplot.figure(figsize=(10,10))\n",
    "pyplot.plot(x, P, 'b-', lw = 5, alpha = 0.6, label='pdf Gaussiano')\n",
    "pyplot.hist(norm.rvs(size = 1000, loc = 115, scale = 20), density=True, histtype='stepfilled', alpha=0.5) # rvs significa variable aleatoria\n",
    "pyplot.xlabel('$x$')\n",
    "pyplot.ylabel('$f(x)$')\n",
    "pyplot.title('Función de densidad de probabilidad Gaussiana para una población')\n",
    "pyplot.show()"
   ]
  },
  {
   "cell_type": "code",
   "execution_count": null,
   "metadata": {
    "colab": {
     "base_uri": "https://localhost:8080/"
    },
    "id": "QgyyoXugEycS",
    "outputId": "7c5605b1-3383-4000-c5f9-4d320f079193"
   },
   "outputs": [],
   "source": [
    "print(\"La probabilidad de observar valores inferiores a 70 es = {:.6f}\".format(norm.cdf((70-115)/20, loc = 0, scale = 1)))"
   ]
  },
  {
   "cell_type": "code",
   "execution_count": null,
   "metadata": {
    "colab": {
     "base_uri": "https://localhost:8080/"
    },
    "id": "uwkqeU9MG3OZ",
    "outputId": "c9e64b95-b66f-4ac4-b89e-b6153764c034"
   },
   "outputs": [],
   "source": [
    "print(\"La probabilidad de observar valores superiores a 150 es = {:.6f}\".format(1 - norm.cdf((150-115)/20, loc = 0, scale = 1)))"
   ]
  },
  {
   "cell_type": "code",
   "execution_count": null,
   "metadata": {
    "colab": {
     "base_uri": "https://localhost:8080/"
    },
    "id": "072ADZ_uHllZ",
    "outputId": "4207f8ce-b479-463a-b06d-bd1abc69fb96"
   },
   "outputs": [],
   "source": [
    "print(\"La probabilidad de observaciones en el intervalo entre 90 y 130 es = {:.6f}\".format(norm.cdf((130-115)/20, loc = 0, scale = 1) - norm.cdf((90-115)/20, loc = 0, scale = 1)))"
   ]
  },
  {
   "cell_type": "markdown",
   "metadata": {
    "id": "4b_C-2qgLrQk"
   },
   "source": [
    "Cuáles son los intervalos simétricos tiene el $80\\%$ y el $95\\%$ de las observaciones?"
   ]
  },
  {
   "cell_type": "code",
   "execution_count": null,
   "metadata": {
    "colab": {
     "base_uri": "https://localhost:8080/",
     "height": 638
    },
    "id": "QiTdP-ZILXTA",
    "outputId": "131fc7f3-2082-45e2-f3a0-244cde81ef0c"
   },
   "outputs": [],
   "source": [
    "from scipy.stats import norm\n",
    "import numpy as np\n",
    "import matplotlib\n",
    "from matplotlib import pyplot\n",
    "\n",
    "matplotlib.rcParams.update({'font.size': 18, 'font.family': 'STIXGeneral', 'mathtext.fontset': 'stix'})\n",
    "\n",
    "zz = np.arange(-3,3, 0.001)\n",
    "PP = norm.cdf(zz, loc = 0, scale = 1)\n",
    "\n",
    "pyplot.figure(figsize=(10,10))\n",
    "pyplot.plot(zz, PP, 'b-', lw = 5, alpha = 0.6, label='pdf Gaussiano')\n",
    "pyplot.xlabel('$z$')\n",
    "pyplot.ylabel('$cdf(z)$')\n",
    "pyplot.title('Función densidad acumulada normal o cdf Gaussiana')\n",
    "pyplot.show()"
   ]
  },
  {
   "cell_type": "markdown",
   "metadata": {
    "id": "fEBhT8riNFck"
   },
   "source": [
    "Por lo general, el $80\\%$ se determina en la curva de la cdf Gaussiana con $a = 0.1$ y el $95\\%$ es $a = 0.025$\n",
    "\n",
    "$$a_1 = \\frac{1 - F}{2} = \\frac{1 - 0.8}{2} = 0.1$$\n",
    "\n",
    "$$a_2 = \\frac{1 - F}{2} = \\frac{1 - 0.95}{2} = 0.025$$"
   ]
  },
  {
   "cell_type": "code",
   "execution_count": null,
   "metadata": {
    "colab": {
     "base_uri": "https://localhost:8080/"
    },
    "id": "_cdoWaHtMpX3",
    "outputId": "bc4f473d-5d90-4808-c79f-e48845cf19b1"
   },
   "outputs": [],
   "source": [
    "POS1 = np.min(np.where(PP >= 0.1))\n",
    "POS2 = np.min(np.where(PP >= 0.025))\n",
    "z1 = np.abs(zz[POS1])\n",
    "z2 = np.abs(zz[POS2])\n",
    "print(\"a(0.1) = z1 = {:.2f}\".format(z1))\n",
    "print(\"a(0.025) = z2 = {:.2f}\".format(z2))"
   ]
  },
  {
   "cell_type": "code",
   "execution_count": null,
   "metadata": {
    "colab": {
     "base_uri": "https://localhost:8080/",
     "height": 448
    },
    "id": "l0YsjtN5Rfk6",
    "outputId": "6b282dc1-cb60-4ca2-a9f6-afc41fdb5238"
   },
   "outputs": [],
   "source": [
    "from scipy.stats import norm\n",
    "import numpy as np\n",
    "import matplotlib\n",
    "from matplotlib import pyplot\n",
    "\n",
    "matplotlib.rcParams.update({'font.size': 18, 'font.family': 'STIXGeneral', 'mathtext.fontset': 'stix'})\n",
    "\n",
    "z = np.arange(-3,3, 0.001)\n",
    "zz1 = np.arange(-z1,z1, 0.001)\n",
    "zz2 = np.arange(-z2,z2, 0.001)\n",
    "\n",
    "P = norm.pdf(z)\n",
    "P1 = norm.pdf(zz1)\n",
    "P2 = norm.pdf(zz2)\n",
    "\n",
    "fig = pyplot.figure(figsize=(15,15))\n",
    "ax = fig.add_subplot(2, 2, 1)\n",
    "pyplot.plot(z, P, 'b-', lw = 5, alpha = 0.6)\n",
    "pyplot.fill_between(zz1,P1)\n",
    "pyplot.xlabel('$-{:.2f} \\leq z \\leq {:.2f}$'.format(z1,z1))\n",
    "pyplot.ylabel('$f(z)$')\n",
    "\n",
    "ax = fig.add_subplot(2, 2, 2)\n",
    "pyplot.plot(z, P, 'b-', lw = 5, alpha = 0.6)\n",
    "pyplot.fill_between(zz2,P2)\n",
    "pyplot.xlabel('$-{:.2f} \\leq z \\leq {:.2f}$'.format(z2,z2))\n",
    "pyplot.ylabel('$f(z)$')\n",
    "pyplot.show()"
   ]
  },
  {
   "cell_type": "code",
   "execution_count": null,
   "metadata": {
    "colab": {
     "base_uri": "https://localhost:8080/",
     "height": 914
    },
    "id": "y3fP4hAcZZkF",
    "outputId": "5f5b243a-2e03-4691-f279-df8def41daa3"
   },
   "outputs": [],
   "source": [
    "from scipy.stats import norm\n",
    "import numpy as np\n",
    "import matplotlib\n",
    "from matplotlib import pyplot\n",
    "\n",
    "matplotlib.rcParams.update({'font.size': 18, 'font.family': 'STIXGeneral', 'mathtext.fontset': 'stix'})\n",
    "\n",
    "media = 115 \n",
    "desv_std = 20\n",
    "X11 = media - z1*desv_std\n",
    "X12 = media + z1*desv_std\n",
    "X21 = media - z2*desv_std\n",
    "X22 = media + z2*desv_std\n",
    "\n",
    "x = np.arange(25,200, 0.001)\n",
    "x1 = np.arange(X11,X12, 0.001)\n",
    "x2 = np.arange(X21,X22, 0.001)\n",
    "\n",
    "P = norm.pdf(x, loc = 115, scale = 20)\n",
    "P1 = norm.pdf(x1, loc = 115, scale = 20)\n",
    "P2 = norm.pdf(x2, loc = 115, scale = 20)\n",
    "\n",
    "fig = pyplot.figure(figsize=(15,15))\n",
    "ax = fig.add_subplot(2, 1, 1)\n",
    "pyplot.plot(x, P, 'r-', lw = 5, alpha = 0.6, label='pdf Gaussiano')\n",
    "pyplot.fill_between(x1,P1)\n",
    "pyplot.xlabel('$x$')\n",
    "pyplot.ylabel('$f(x)$')\n",
    "pyplot.title('Función de densidad de probabilidad Gaussiana para una población con intervalos $80\\%$ de las observaciones [{:.2f}, {:.2f}]'.format(X11,X12))\n",
    "\n",
    "ax = fig.add_subplot(2, 1, 2)\n",
    "pyplot.plot(x, P, 'm-', lw = 5, alpha = 0.6, label='pdf Gaussiano')\n",
    "pyplot.fill_between(x2,P2)\n",
    "pyplot.xlabel('$x$')\n",
    "pyplot.ylabel('$f(x)$')\n",
    "pyplot.title('Función de densidad de probabilidad Gaussiana para una población con intervalos $95\\%$ de las observaciones [{:.2f}, {:.2f}]'.format(X21,X22))\n",
    "pyplot.show()"
   ]
  },
  {
   "cell_type": "markdown",
   "metadata": {
    "id": "9GJQC05y06yj"
   },
   "source": [
    "## Función de distribución Gamma $(\\Gamma)$"
   ]
  },
  {
   "cell_type": "markdown",
   "metadata": {
    "id": "ElZgvvkK1Sw-"
   },
   "source": [
    "La función de densidad de probabilidad Gamma,$X \\sim \\Gamma(\\alpha, \\lambda)$, es una distribución para variables aleatorias *np-negativas*, donde tiene dos parámetros $\\lambda > 0$ y $\\alpha > 0$, y una función gamma $\\Gamma(z)$, la distribución de densidad de probabilidad $f(x)$ está dado por:\n",
    "\n",
    "$$f(x; \\alpha, \\lambda) = \\begin{cases} \\frac{\\lambda^\\alpha}{\\Gamma(\\alpha)}x^{\\alpha - 1} & Si\\,\\, x \\geq 0 \\\\ 0 & Si\\,\\, x < 0 \\end{cases}$$\n",
    "\n",
    "donde $\\Gamma(\\alpha)$ es una función Gamma que normaliza la función de densidad de probabilidad para asegurar que $0 \\leq f(x; \\alpha, \\lambda) \\leq 1$.\n",
    "\n",
    "La media y la varianza de esta distribución está dado por:\n",
    "\n",
    "$$\\mu = \\frac{\\alpha}{\\lambda}$$\n",
    "\n",
    "$$\\sigma^2= \\frac{\\alpha}{\\lambda^2}$$\n",
    "\n",
    "Veamos un ejemplo práctico de esta distribución"
   ]
  },
  {
   "cell_type": "code",
   "execution_count": null,
   "metadata": {
    "colab": {
     "base_uri": "https://localhost:8080/",
     "height": 334
    },
    "id": "oSWtQGj20570",
    "outputId": "c05281ba-92a9-4779-af26-845ce527a705"
   },
   "outputs": [],
   "source": [
    "from scipy.stats import gengamma\n",
    "import numpy as np\n",
    "import matplotlib\n",
    "from matplotlib import pyplot\n",
    "\n",
    "a1, a2, a3 = 1, 2, 1\n",
    "L1, L2, L3 = 2, 2, 1\n",
    "\n",
    "media_1, varianza_1, _, _ = gengamma.stats(a1, L1, moments='mvsk')\n",
    "media_2, varianza_2, _, _ = gengamma.stats(a2, L2, moments='mvsk')\n",
    "media_3, varianza_3, _, _ = gengamma.stats(a3, L3, moments='mvsk')\n",
    "\n",
    "print(\"Los valores de la media son {:.3f}, {:.3f} y {:.3f}\".format(media_1, media_2, media_3))\n",
    "print(\"Los valores de la covarianza son {:.3f}, {:.3f} y {:.3f}\".format(varianza_1, varianza_2, varianza_3))\n",
    "\n",
    "x = np.arange(0,5,0.001)\n",
    "f1 = gengamma.pdf(x,a1,L1)\n",
    "f2 = gengamma.pdf(x,a2,L2)\n",
    "f3 = gengamma.pdf(x,a3,L3)\n",
    "\n",
    "fig = pyplot.figure(figsize=(30,18))\n",
    "ax = fig.add_subplot(3, 3, 1)\n",
    "pyplot.plot(x, f1, 'b-', lw = 5, alpha = 0.6)\n",
    "pyplot.xlabel('$x$')\n",
    "pyplot.ylabel('$f(x)$')\n",
    "pyplot.title('PDF Gamma con alpha y $\\lambda$ = [{:.2f}, {:.2f}]'.format(a1,L1))\n",
    "\n",
    "ax = fig.add_subplot(3, 3, 2)\n",
    "pyplot.plot(x, f2, 'r-', lw = 5, alpha = 0.6)\n",
    "pyplot.xlabel('$x$')\n",
    "pyplot.ylabel('$f(x)$')\n",
    "pyplot.title('PDF Gamma con alpha y $\\lambda$ = [{:.2f}, {:.2f}]'.format(a2,L2))\n",
    "\n",
    "ax = fig.add_subplot(3, 3, 3)\n",
    "pyplot.plot(x, f3, 'g-', lw = 5, alpha = 0.6)\n",
    "pyplot.xlabel('$x$')\n",
    "pyplot.ylabel('$f(x)$')\n",
    "pyplot.title('PDF Gamma con alpha y $\\lambda$ = [{:.2f}, {:.2f}]'.format(a3,L3))\n",
    "pyplot.show()"
   ]
  },
  {
   "cell_type": "markdown",
   "metadata": {
    "id": "nw1gkcGHfkHt"
   },
   "source": [
    "## Función de distribución Weibull\n",
    "\n",
    "---\n",
    "\n"
   ]
  },
  {
   "cell_type": "markdown",
   "metadata": {
    "id": "dGiZ4xpPfpWq"
   },
   "source": [
    "La función de densidad Weibull, $X \\sim Wei(\\beta, \\gamma, \\eta)$, es una función que contiene tres parámetros, $\\beta, \\gamma, \\eta$, donde $\\beta$ es el parámetro de la forma de la función o **envolvente Weibull**, $\\gamma$ es el parámetro de localización (relacionado con la media) y $\\eta$ es el parámetro de escala (relacionado con la varianza):\n",
    "\n",
    "$$f(x;\\beta, \\gamma, \\eta) = \\frac{\\beta}{\\eta} \\left( \\frac{x - \\gamma}{\\eta}\\right)^{\\beta - 1} \\exp\\left\\lbrack- \\left( \\frac{x - \\gamma}{\\eta} \\right)\\right\\rbrack^\\beta$$\n",
    "\n",
    "Por lo general, $x \\geq \\gamma$, $\\beta > 0$, $\\eta > 0$, $-\\infty < \\gamma < +\\infty$. En la práctica, $\\gamma = 0$ para facilitar el uso de esta función y reducir la cantidad de parámetros. \n",
    "\n",
    "La media y la varianza de esta distribución está dado por:\n",
    "\n",
    "$$\\mu = \\eta \\cdot\\Gamma\\left( 1 + \\frac{1}{\\beta}\\right)$$\n",
    "\n",
    "$$\\sigma^2 = \\eta^2 \\left \\lbrack \\Gamma \\left(1 + \\frac{2}{\\beta}\\right ) - \\left ( \\Gamma\\left ( 1 + \\frac{1}{\\beta} \\right) \\right)^2 \\right\\rbrack$$\n",
    "\n",
    "Como pueden observar el cálculo de ambos estadísticos es complejo debido a la dependencia de una función $\\Gamma$. Sin embargo, se puede facilitar el análisis de esta función de densidad de probabilidad, considerando dos interpretaciones que se explicarán a continuación:"
   ]
  },
  {
   "cell_type": "markdown",
   "metadata": {
    "id": "RME-4Cw8TZ-Z"
   },
   "source": [
    "### Función de distribución Weibull mínimo"
   ]
  },
  {
   "cell_type": "markdown",
   "metadata": {
    "id": "mlk1yol_Te5v"
   },
   "source": [
    "La función Weibull mínimo, $X \\sim Weimin(\\beta)$, es una aproximación basado en la teoría del valor extremo que limita la distribución a una escala mínima. \n",
    "\n",
    "$$f(x;\\beta) = \\beta\\cdot x^{\\beta - 1} \\exp(-x^\\beta)$$\n",
    "\n",
    "Para esta función, $\\beta$ cambia la forma de la envolvente de la función. Veamos un ejemplo práctico de esta distribución."
   ]
  },
  {
   "cell_type": "code",
   "execution_count": null,
   "metadata": {
    "colab": {
     "base_uri": "https://localhost:8080/",
     "height": 309
    },
    "id": "NkkX61yNfZJR",
    "outputId": "7eac4236-9953-4ab0-dccc-bd6a86638346"
   },
   "outputs": [],
   "source": [
    "from scipy.stats import weibull_min\n",
    "import numpy as np\n",
    "import matplotlib\n",
    "from matplotlib import pyplot\n",
    "\n",
    "matplotlib.rcParams.update({'font.size': 18, 'font.family': 'STIXGeneral', 'mathtext.fontset': 'stix'})\n",
    "\n",
    "beta = 1,1.2,1.5,2\n",
    "\n",
    "media_1, varianza_1, _, _ = weibull_min.stats(c = beta[0], moments = 'mvsk')\n",
    "media_2, varianza_2, _, _ = weibull_min.stats(c = beta[1], moments = 'mvsk')\n",
    "media_3, varianza_3, _, _ = weibull_min.stats(c = beta[2], moments = 'mvsk') \n",
    "media_4, varianza_4, _, _ = weibull_min.stats(c = beta[3], moments = 'mvsk')\n",
    "\n",
    "print(\"la media y la varianza con beta = {:.2f} son = {:.3f} y {:.3f}\".format(beta[0], media_1, varianza_1))\n",
    "print(\"la media y la varianza con beta = {:.2f} son = {:.3f} y {:.3f}\".format(beta[1], media_2, varianza_2))\n",
    "print(\"la media y la varianza con beta = {:.2f} son = {:.3f} y {:.3f}\".format(beta[2], media_3, varianza_3))\n",
    "print(\"la media y la varianza con beta = {:.2f} son = {:.3f} y {:.3f}\".format(beta[3], media_4, varianza_4))\n",
    "\n",
    "x1 = np.linspace(weibull_min.ppf(0.01, beta[0]), weibull_min.ppf(0.99, beta[0]), 1000)\n",
    "x2 = np.linspace(weibull_min.ppf(0.01, beta[1]), weibull_min.ppf(0.99, beta[1]), 1000)\n",
    "x3 = np.linspace(weibull_min.ppf(0.01, beta[2]), weibull_min.ppf(0.99, beta[2]), 1000)\n",
    "x4 = np.linspace(weibull_min.ppf(0.01, beta[3]), weibull_min.ppf(0.99, beta[3]), 1000)\n",
    "\n",
    "f1 = weibull_min.pdf(x1, beta[0])\n",
    "f2 = weibull_min.pdf(x2, beta[1])\n",
    "f3 = weibull_min.pdf(x3, beta[2])\n",
    "f4 = weibull_min.pdf(x4, beta[3])\n",
    "\n",
    "fig = pyplot.figure(figsize=(30,18))\n",
    "ax = fig.add_subplot(4, 4, 1)\n",
    "pyplot.plot(x1, f1, 'b-', lw = 5, alpha = 0.6)\n",
    "pyplot.xlabel('$x$')\n",
    "pyplot.ylabel('$f(x)$')\n",
    "pyplot.title('Weibull Mínumo con beta = {:.2f}'.format(beta[0]))\n",
    "\n",
    "ax = fig.add_subplot(4, 4, 2)\n",
    "pyplot.plot(x2, f2, 'r-', lw = 5, alpha = 0.6)\n",
    "pyplot.xlabel('$x$')\n",
    "pyplot.ylabel('$f(x)$')\n",
    "pyplot.title('Weibull Mínumo con beta = {:.2f}'.format(beta[1]))\n",
    "\n",
    "ax = fig.add_subplot(4, 4, 3)\n",
    "pyplot.plot(x3, f3, 'g-', lw = 5, alpha = 0.6)\n",
    "pyplot.xlabel('$x$')\n",
    "pyplot.ylabel('$f(x)$')\n",
    "pyplot.title('Weibull Mínumo con beta = {:.2f}'.format(beta[2]))\n",
    "\n",
    "ax = fig.add_subplot(4, 4, 4)\n",
    "pyplot.plot(x4, f4, 'm-', lw = 5, alpha = 0.6)\n",
    "pyplot.xlabel('$x$')\n",
    "pyplot.ylabel('$f(x)$')\n",
    "pyplot.title('Weibull Mínumo con beta = {:.2f}'.format(beta[3]))\n",
    "pyplot.show()"
   ]
  },
  {
   "cell_type": "markdown",
   "metadata": {
    "id": "4-5qDxcQm1gF"
   },
   "source": [
    "### Función de distribución Weibull máximo"
   ]
  },
  {
   "cell_type": "markdown",
   "metadata": {
    "id": "5PM_y3Kgm7so"
   },
   "source": [
    "La función Weibull máxima, $X \\sim Weimax(\\beta)$, es una función que considera la teoría del valor extremo para limitar la distribución a una escala máxima. \n",
    "\n",
    "$$f(x;\\beta) = \\beta(-x)^{\\beta - 1} \\exp(-(-x)^\\beta)$$\n",
    "\n",
    "Al igual que en Weibull mínimo, $\\beta$ cambia la forma de la envolvente de la función.\n",
    "\n",
    "Veamos un ejemplo práctico de esta función."
   ]
  },
  {
   "cell_type": "code",
   "execution_count": null,
   "metadata": {
    "colab": {
     "base_uri": "https://localhost:8080/",
     "height": 308
    },
    "id": "GX6E0yznn2UG",
    "outputId": "88c9b6ba-f7de-4c6d-ef3d-e639ed90a8e3"
   },
   "outputs": [],
   "source": [
    "from scipy.stats import weibull_max\n",
    "import numpy as np\n",
    "import matplotlib\n",
    "from matplotlib import pyplot\n",
    "\n",
    "matplotlib.rcParams.update({'font.size': 18, 'font.family': 'STIXGeneral', 'mathtext.fontset': 'stix'})\n",
    "\n",
    "beta = 1,1.2,1.5,2\n",
    "\n",
    "media_1, varianza_1, _, _ = weibull_max.stats(c = beta[0], moments = 'mvsk')\n",
    "media_2, varianza_2, _, _ = weibull_max.stats(c = beta[1], moments = 'mvsk')\n",
    "media_3, varianza_3, _, _ = weibull_max.stats(c = beta[2], moments = 'mvsk') \n",
    "media_4, varianza_4, _, _ = weibull_max.stats(c = beta[3], moments = 'mvsk')\n",
    "\n",
    "print(\"la media y la varianza con beta = {:.2f} son = {:.3f} y {:.3f}\".format(beta[0], media_1, varianza_1))\n",
    "print(\"la media y la varianza con beta = {:.2f} son = {:.3f} y {:.3f}\".format(beta[1], media_2, varianza_2))\n",
    "print(\"la media y la varianza con beta = {:.2f} son = {:.3f} y {:.3f}\".format(beta[2], media_3, varianza_3))\n",
    "print(\"la media y la varianza con beta = {:.2f} son = {:.3f} y {:.3f}\".format(beta[3], media_4, varianza_4))\n",
    "\n",
    "x1 = np.linspace(weibull_max.ppf(0.01, beta[0]), weibull_max.ppf(0.99, beta[0]), 1000)\n",
    "x2 = np.linspace(weibull_max.ppf(0.01, beta[1]), weibull_max.ppf(0.99, beta[1]), 1000)\n",
    "x3 = np.linspace(weibull_max.ppf(0.01, beta[2]), weibull_max.ppf(0.99, beta[2]), 1000)\n",
    "x4 = np.linspace(weibull_max.ppf(0.01, beta[3]), weibull_max.ppf(0.99, beta[3]), 1000)\n",
    "\n",
    "f1 = weibull_max.pdf(x1, beta[0])\n",
    "f2 = weibull_max.pdf(x2, beta[1])\n",
    "f3 = weibull_max.pdf(x3, beta[2])\n",
    "f4 = weibull_max.pdf(x4, beta[3])\n",
    "\n",
    "fig = pyplot.figure(figsize=(30,18))\n",
    "ax = fig.add_subplot(4, 4, 1)\n",
    "pyplot.plot(x1, f1, 'b-', lw = 5, alpha = 0.6)\n",
    "pyplot.xlabel('$x$')\n",
    "pyplot.ylabel('$f(x)$')\n",
    "pyplot.title('Weibull Máximo con beta = {:.2f}'.format(beta[0]))\n",
    "\n",
    "ax = fig.add_subplot(4, 4, 2)\n",
    "pyplot.plot(x2, f2, 'r-', lw = 5, alpha = 0.6)\n",
    "pyplot.xlabel('$x$')\n",
    "pyplot.ylabel('$f(x)$')\n",
    "pyplot.title('Weibull Máximo con beta = {:.2f}'.format(beta[1]))\n",
    "\n",
    "ax = fig.add_subplot(4, 4, 3)\n",
    "pyplot.plot(x3, f3, 'g-', lw = 5, alpha = 0.6)\n",
    "pyplot.xlabel('$x$')\n",
    "pyplot.ylabel('$f(x)$')\n",
    "pyplot.title('Weibull Máximo con beta = {:.2f}'.format(beta[2]))\n",
    "\n",
    "ax = fig.add_subplot(4, 4, 4)\n",
    "pyplot.plot(x4, f4, 'm-', lw = 5, alpha = 0.6)\n",
    "pyplot.xlabel('$x$')\n",
    "pyplot.ylabel('$f(x)$')\n",
    "pyplot.title('Weibull Máximo con beta = {:.2f}'.format(beta[3]))\n",
    "pyplot.show()"
   ]
  },
  {
   "cell_type": "markdown",
   "metadata": {
    "id": "4WEeD0XR0r_q"
   },
   "source": [
    "# Teorema del límite central"
   ]
  },
  {
   "cell_type": "markdown",
   "metadata": {
    "id": "a79yYiZk0vkf"
   },
   "source": [
    "El teorema del límite central muestra las razones por la cual se generan, por ejemplo, una distribución Gaussiana o Normal. En otras palabras, **determina si el límite de las distribuciones que mediante una *suma* de variables aleatorias son distribuciones normales o Gaussianas**.\n",
    "\n",
    "Por lo general, hay muchos problemas que pueden ser resueltos con la distribución límite de la suma de variables aleatorias independientes (tal y como se mostro en el espacio de probabilidad), el cual lo denotamos como $\\sum_{n=1}^N X_n$. Con el fin de evitar la obtención de esperanzas infinitas y varianzas de variedades aleatorias diferentes entre sí, es necesario normalizar $\\sum_{n=1}^N X_n$. Para normarlizar la suma, es necesario asumir que $X$ tiene una esperanza finita y una varianza también finita. Por consiguiente:\n",
    "\n",
    "$$\\mathbb{E}\\lbrack X_n \\rbrack = \\mu_n$$\n",
    "$$\\mathbb{V}[X_n] = \\sigma_n^2$$\n",
    "$$B_n^2 = \\sum_{n=1}^N \\sigma_n^2$$\n",
    "\n",
    "Por consiguiente, la variable aleatoria se normaliza como la suma de la variable aleatoria independiente, $X_1, \\ldots, X_n$:\n",
    "\n",
    "$$Y_n = \\sum_{n=1}^N \\frac{X_n - \\mu_n}{B_n}$$\n",
    "\n",
    "donde $Y_1, \\ldots, Y_n$, es la variable aleatoria normalizada que satisface el teorema del límite central.\n",
    "\n",
    "En la sección *Función de distribución Gaussiana*, se observó este comportamiento cuando se normalizaba la distribución Gaussiana (Recomiendo ver de nuevo el ejemplo práctico).\n",
    "\n",
    "Por otra parte, también recomiendo esta lectura complementaria: https://towardsdatascience.com/the-central-limit-theorem-and-its-implications-4a7adac9d6de"
   ]
  },
  {
   "cell_type": "markdown",
   "metadata": {
    "id": "O-KEqOqcRYzy"
   },
   "source": [
    "# Distribuciones Especiales"
   ]
  },
  {
   "cell_type": "markdown",
   "metadata": {
    "id": "ys5rDIq6SBt2"
   },
   "source": [
    "**Recordatorio: Distribución Gamma ($\\Gamma$):**\n",
    "\n",
    "La función de densidad de probabilidad Gamma es una distribución para variables aleatorias *np-negativas*, donde tiene dos parámetros $\\lambda > 0$ y $\\alpha > 0$, y una función gamma $\\Gamma(z)$, la distribución de densidad de probabilidad $f(x)$ está dado por:\n",
    "\n",
    "$$f(x) = \\begin{cases} \\frac{\\lambda^\\alpha}{\\Gamma(\\alpha)}x^{\\alpha - 1} & Si\\,\\, x \\geq 0 \\\\ 0 & Si\\,\\, x < 0 \\end{cases}$$\n",
    "\n",
    "donde $\\Gamma(\\alpha)$ es una función Gamma que normaliza la función de densidad de probabilidad para asegurar que $0 \\leq f(x) \\leq 1$."
   ]
  },
  {
   "cell_type": "markdown",
   "metadata": {
    "id": "nNgQ_HjiqnV9"
   },
   "source": [
    "## Distribución exponencial"
   ]
  },
  {
   "cell_type": "markdown",
   "metadata": {
    "id": "Lqm_5m8Sqs3m"
   },
   "source": [
    "Teniendo en cuenta la distribución Gamma, la distribución exponencial es un caso especial con $\\alpha = 1$ tal que su función de densidad de probabilidad está dado por:\n",
    "\n",
    "$$f(x) = \\begin{cases} \\frac{\\lambda}{\\Gamma(1)} \\exp(-\\lambda x) & Si\\,\\, x \\geq 0 \\\\ 0 & Si\\,\\, x < 0 \\end{cases}$$\n",
    "\n",
    "Una característica particular es que $\\Gamma(1) = 0! = 1$, y por consiguiente para $x \\geq 0$ se puede aproximar a $\\lambda \\exp(-\\lambda x)$.\n",
    "\n",
    "Por lo general, la media y la varianza de esta distribución están dados por:\n",
    "\n",
    "$$\\mu = \\frac{1}{\\lambda}$$\n",
    "$$\\sigma^2 = \\frac{1}{\\lambda^2}$$\n",
    "\n",
    "Se puede observar que para ambos estadísticos, si $\\lambda$ es más grande entonces la media y la varianza disminuira cada vez más rápido. Por otra parte, el sesgo y la curtosis de está distribución están dados por valores constantes, $s = 2$ y $\\beta_2 = 6$.\n",
    "\n",
    "Veamos un ejemplo práctico de esta distribución:"
   ]
  },
  {
   "cell_type": "code",
   "execution_count": null,
   "metadata": {
    "colab": {
     "base_uri": "https://localhost:8080/",
     "height": 712
    },
    "id": "P2TWOxt3sB25",
    "outputId": "8d914833-a673-42f0-cf69-d9d9e7d00c79"
   },
   "outputs": [],
   "source": [
    "from scipy.stats import expon # Distribución exponencial\n",
    "import numpy as np\n",
    "from matplotlib import pyplot\n",
    "import matplotlib\n",
    "\n",
    "matplotlib.rcParams.update({'font.size': 18, 'font.family': 'STIXGeneral', 'mathtext.fontset': 'stix'})\n",
    "\n",
    "lamda_1, lamda_2, lamda_3 = 1, 2, 4\n",
    "\n",
    "sc_1 = 1/lamda_1 \n",
    "sc_2 = 1/lamda_2\n",
    "sc_3 = 1/lamda_3\n",
    "\n",
    "media_1, varianza_1, sesgo_1, kurtosis_1 = expon.stats(scale = sc_1, moments='mvsk')\n",
    "media_2, varianza_2, sesgo_2, kurtosis_2 = expon.stats(scale = sc_2, moments='mvsk')\n",
    "media_3, varianza_3, sesgo_3, kurtosis_3 = expon.stats(scale = sc_3, moments='mvsk')\n",
    "\n",
    "print(\"Media_1 = {:.2f}\".format(media_1), \"Media_2 = {:.2f}\".format(media_2), \"Media_3 = {:.2f}\".format(media_3))\n",
    "print(\"Varianza_1 = {:.2f}\".format(varianza_1), \"Varianza_2 = {:.2f}\".format(varianza_2), \"Varianza_3 = {:.2f}\".format(varianza_3))\n",
    "print(\"Sesgo_1 = {:.2f}\".format(sesgo_1), \"Sesgo_2 = {:.2f}\".format(sesgo_2), \"Sesgo_3 = {:.2f}\".format(sesgo_3))\n",
    "print(\"Curtosis_1 = {:.2f}\".format(kurtosis_1), \"Curtosis_2 = {:.2f}\".format(kurtosis_2), \"Curtosis_3 = {:.2f}\".format(kurtosis_3))\n",
    "\n",
    "x1 = np.linspace(expon.ppf(0.01, scale = sc_1), expon.ppf(0.99, scale = sc_1), 100)\n",
    "x2 = np.linspace(expon.ppf(0.01, scale = sc_2), expon.ppf(0.99, scale = sc_2), 100)\n",
    "x3 = np.linspace(expon.ppf(0.01, scale = sc_3), expon.ppf(0.99, scale = sc_3), 100)\n",
    "\n",
    "P1 = expon.pdf(x1, scale = sc_1)\n",
    "P2 = expon.pdf(x2, scale = sc_2)\n",
    "P3 = expon.pdf(x3, scale = sc_3)\n",
    "\n",
    "fig = pyplot.figure(figsize=(10,10))\n",
    "pyplot.plot(x1, P1,'-ob', lw = 4, alpha = 0.4, label = r'$\\lambda$ = {:d}'.format(lamda_1))\n",
    "pyplot.plot(x2, P2,'-or', lw = 4, alpha = 0.4, label = r'$\\lambda$ = {:d}'.format(lamda_2))\n",
    "pyplot.plot(x3, P3,'-og', lw = 4, alpha = 0.4, label = r'$\\lambda$ = {:d}'.format(lamda_3))\n",
    "pyplot.xlabel('$x$') # Etiqueta del eje x\n",
    "pyplot.ylabel('$f(x)$') # Etiqueta del eje y  \n",
    "pyplot.title('Distribución Exponencial') # Titulo de la gráfica\n",
    "pyplot.legend()\n",
    "pyplot.show()"
   ]
  },
  {
   "cell_type": "markdown",
   "metadata": {
    "id": "RSIJdZTAqeQg"
   },
   "source": [
    "## Distribución chi-cuadrada"
   ]
  },
  {
   "cell_type": "markdown",
   "metadata": {
    "id": "Y7Wl-JpqcT4d"
   },
   "source": [
    "Recordando la distribución Gamma, la distribución chi-cuadrada es un caso especial de la distribución Gamma con $D$ grados de libertad para $\\alpha = \\frac{D}{2}$ y $\\lambda = \\frac{1}{2}$:\n",
    "\n",
    "$$f(x) = \\begin{cases} \\frac{1}{2^{\\left ( \\frac{D}{2} \\right )} \\cdot \\Gamma \\left( \\frac{D}{2}\\right )}x^{\\left ( \\frac{D}{2} - 1 \\right )} \\exp \\left (-\\frac{x}{2} \\right ) & Si\\,\\, x \\geq 0 \\\\ 0 & Si\\,\\, x < 0 \\end{cases}$$\n",
    "\n",
    "La función de probabilidad $f(x)$ se llama **chi-cuadrada** con $D$ grados de libertad. Por notación, nosotros representaremos tal distribución como $X$ ~ $x^2_D$.\n",
    "\n",
    "Por lo general, la media y la varianza de esta distribución están dados por las siguientes expresiones:\n",
    "\n",
    "$$\\mu = D$$\n",
    "\n",
    "$$\\sigma^2 = 2 \\left ( \\frac{D}{N} \\right )$$\n",
    "\n",
    "siendo $N$ el número de muestras u observaciones de $x$. Como pueden observar, la media depende del número de grados de libertad y la varianza depende de la razón entre el número de grados de libertad con respecto al número de muestras de los datos. Si $D$ es un valor fijo y $N$ es más grande, entonces la varianza disminuye.\n",
    "\n",
    "Por otra parte, el sesgo y la curtosis de esta distribución son respectivamente: $s = \\sqrt{8/D}$ y $\\beta_2 = 12/D$. Obviamente, si $D$ es un valor grande, entonces el sesgo y la curtosis disminuye, haciendo que la función de densidad chi-cuadrada tenga una forma cada vez más achatada. \n",
    "\n",
    "Veamos un ejemplo práctico para conocer algunas características de esta distribución."
   ]
  },
  {
   "cell_type": "code",
   "execution_count": null,
   "metadata": {
    "colab": {
     "base_uri": "https://localhost:8080/",
     "height": 711
    },
    "id": "kXkMGATYZfff",
    "outputId": "ed4cbcf7-36df-4ccb-f710-a5d2a32a87aa"
   },
   "outputs": [],
   "source": [
    "from scipy.stats import chi2 # Distribución chi-cuadrada\n",
    "import numpy as np\n",
    "from matplotlib import pyplot\n",
    "import matplotlib\n",
    "\n",
    "matplotlib.rcParams.update({'font.size': 18, 'font.family': 'STIXGeneral', 'mathtext.fontset': 'stix'})\n",
    "\n",
    "D1, D2, D3 = 10, 20, 50\n",
    "media_1, varianza_1, sesgo_1, kurtosis_1 = chi2.stats(D1, moments='mvsk')\n",
    "media_2, varianza_2, sesgo_2, kurtosis_2 = chi2.stats(D2, moments='mvsk')\n",
    "media_3, varianza_3, sesgo_3, kurtosis_3 = chi2.stats(D3, moments='mvsk')\n",
    "\n",
    "print(\"Media_1 = {:.2f}\".format(media_1), \"Media_2 = {:.2f}\".format(media_2), \"Media_3 = {:.2f}\".format(media_3))\n",
    "print(\"Varianza_1 = {:.2f}\".format(varianza_1), \"Varianza_2 = {:.2f}\".format(varianza_2), \"Varianza_3 = {:.2f}\".format(varianza_3))\n",
    "print(\"Sesgo_1 = {:.2f}\".format(sesgo_1), \"Sesgo_2 = {:.2f}\".format(sesgo_2), \"Sesgo_3 = {:.2f}\".format(sesgo_3))\n",
    "print(\"Curtosis_1 = {:.2f}\".format(kurtosis_1), \"Curtosis_2 = {:.2f}\".format(kurtosis_2), \"Curtosis_3 = {:.2f}\".format(kurtosis_3))\n",
    "\n",
    "x1 = np.linspace(chi2.ppf(0.01, D1), chi2.ppf(0.99, D1), 100)\n",
    "x2 = np.linspace(chi2.ppf(0.01, D2), chi2.ppf(0.99, D2), 100)\n",
    "x3 = np.linspace(chi2.ppf(0.01, D3), chi2.ppf(0.99, D3), 100)\n",
    "\n",
    "P1 = chi2.pdf(x1, D1)\n",
    "P2 = chi2.pdf(x2, D2)\n",
    "P3 = chi2.pdf(x3, D3)\n",
    "\n",
    "fig = pyplot.figure(figsize=(10,10))\n",
    "pyplot.plot(x1, P1,'-ob', lw = 4, alpha = 0.4, label = r'D = {:d}'.format(D1))\n",
    "pyplot.plot(x2, P2,'-or', lw = 4, alpha = 0.4, label = r'D = {:d}'.format(D2))\n",
    "pyplot.plot(x3, P3,'-og', lw = 4, alpha = 0.4, label = r'D = {:d}'.format(D3))\n",
    "pyplot.xlabel('$x$') # Etiqueta del eje x\n",
    "pyplot.ylabel('$f(x)$') # Etiqueta del eje y  \n",
    "pyplot.title('Distribución Chi-Cuadrada') # Titulo de la gráfica\n",
    "pyplot.legend()\n",
    "pyplot.show()"
   ]
  },
  {
   "cell_type": "markdown",
   "metadata": {
    "id": "4xBNQPMvxYGL"
   },
   "source": [
    "Recordando la distribución Gamma, la distribución chi-cuadrada es un caso especial de la distribución Gamma con $\\alpha = D$.\n",
    "\n",
    "$$f(x) = \\begin{cases} \\frac{\\lambda^D}{\\Gamma(D)}x^{(D -1)} \\exp (-\\lambda x) & Si\\,\\, x \\geq 0 \\\\ 0 & Si\\,\\, x < 0 \\end{cases}$$\n",
    "\n",
    "donde $\\Gamma(D) = (D - 1)!$.\n",
    "\n",
    "La media y la varianza de la distribución Erlang están dados por:\n",
    "\n",
    "$$\\mu = \\frac{D}{\\lambda}$$\n",
    "\n",
    "$$\\sigma^2 = \\frac{D}{\\lambda^2}$$\n",
    "\n",
    "Tanto la media como la varianza aumentan si $D$ es grande, siempre y cuando $\\lambda$ tenga el mismo valor para toda la distribución. Por otra parte, el sesgo y la curtosis se expresan para esta distribución como:\n",
    "\n",
    "$$s = \\frac{2}{\\sqrt{D}}$$\n",
    "\n",
    "$$\\beta_2 = \\frac{6}{D}$$\n",
    "\n",
    "Obviamente si $D$ es muy grande, el sesgo y la curtosis van a ser cada vez menor, lo cual se achata la función de densidad de distribución, tal y como se observó en la distribución Chi-Cuadrada.\n",
    "\n",
    "Veamos un ejemplo de esta distribución de densidad de probabilidad."
   ]
  },
  {
   "cell_type": "code",
   "execution_count": null,
   "metadata": {
    "colab": {
     "base_uri": "https://localhost:8080/",
     "height": 712
    },
    "id": "FU2AZxIIONhU",
    "outputId": "97b7a9c2-0947-4b12-d661-fe71200223df"
   },
   "outputs": [],
   "source": [
    "from scipy.stats import erlang # Distribución Erlang\n",
    "import numpy as np\n",
    "from matplotlib import pyplot\n",
    "import matplotlib\n",
    "\n",
    "matplotlib.rcParams.update({'font.size': 18, 'font.family': 'STIXGeneral', 'mathtext.fontset': 'stix'})\n",
    "\n",
    "D1, D2, D3 = 10, 20, 50\n",
    "media_1, varianza_1, sesgo_1, kurtosis_1 = erlang.stats(D1, moments='mvsk')\n",
    "media_2, varianza_2, sesgo_2, kurtosis_2 = erlang.stats(D2, moments='mvsk')\n",
    "media_3, varianza_3, sesgo_3, kurtosis_3 = erlang.stats(D3, moments='mvsk')\n",
    "\n",
    "print(\"Media_1 = {:.2f};\".format(media_1), \"Media_2 = {:.2f};\".format(media_2), \"Media_3 = {:.2f}\".format(media_3))\n",
    "print(\"Varianza_1 = {:.2f};\".format(varianza_1), \"Varianza_2 = {:.2f};\".format(varianza_2), \"Varianza_3 = {:.2f}\".format(varianza_3))\n",
    "print(\"Sesgo_1 = {:.2f};\".format(sesgo_1), \"Sesgo_2 = {:.2f};\".format(sesgo_2), \"Sesgo_3 = {:.2f}\".format(sesgo_3))\n",
    "print(\"Curtosis_1 = {:.2f};\".format(kurtosis_1), \"Curtosis_2 = {:.2f};\".format(kurtosis_2), \"Curtosis_3 = {:.2f}\".format(kurtosis_3))\n",
    "\n",
    "x1 = np.linspace(erlang.ppf(0.01, D1), erlang.ppf(0.99, D1), 100)\n",
    "x2 = np.linspace(erlang.ppf(0.01, D2), erlang.ppf(0.99, D2), 100)\n",
    "x3 = np.linspace(erlang.ppf(0.01, D3), erlang.ppf(0.99, D3), 100)\n",
    "\n",
    "P1 = erlang.pdf(x1, D1)\n",
    "P2 = erlang.pdf(x2, D2)\n",
    "P3 = erlang.pdf(x3, D3)\n",
    "\n",
    "fig = pyplot.figure(figsize=(10,10))\n",
    "pyplot.plot(x1, P1,'-ob', lw = 4, alpha = 0.4, label = r'D = {:d}'.format(D1))\n",
    "pyplot.plot(x2, P2,'-or', lw = 4, alpha = 0.4, label = r'D = {:d}'.format(D2))\n",
    "pyplot.plot(x3, P3,'-og', lw = 4, alpha = 0.4, label = r'D = {:d}'.format(D3))\n",
    "pyplot.xlabel('$x$') # Etiqueta del eje x\n",
    "pyplot.ylabel('$f(x)$') # Etiqueta del eje y  \n",
    "pyplot.title('Distribución Erlang') # Titulo de la gráfica\n",
    "pyplot.legend()\n",
    "pyplot.show()"
   ]
  },
  {
   "cell_type": "markdown",
   "metadata": {
    "id": "bJmNEbEKW70i"
   },
   "source": [
    "## Distribución t-student"
   ]
  },
  {
   "cell_type": "markdown",
   "metadata": {
    "id": "bAfKHw9pXAYn"
   },
   "source": [
    "La distribución t-student es una interpretación de la conjugada entre una una función de densidad de probabilidad Gaussiana (apriori) con una función de densidad de probabilidad Gamma. \n",
    "\n",
    "Incialmente, se define una distribución Gamma con dos parámetros $\\alpha$ y $b$, el cual lo representamos como $Gam(\\lambda\\vert \\alpha, b)$:\n",
    "\n",
    "$$Gam(\\lambda\\vert \\alpha, b) = \\frac{1}{\\Gamma(\\alpha)}b^\\alpha \\lambda^{\\alpha - 1} \\exp(-b\\lambda)$$\n",
    "\n",
    "donde $\\Gamma(\\alpha)$ es la función Gamma que vimos en la unidad 1, $\\lambda$ se llama como la **precisión** y $b$ es un parámetro de ajuste de la distribución. \n",
    "\n",
    "Considerando la anterior distribución y la distribución Gaussiana, se utiliza dos parámetros, $\\nu = 2\\alpha$ y $\\lambda = \\frac{\\alpha}{b}$. De manera forma, la distribución t-student, $St(x\\vert \\mu, \\lambda, \\nu)$, se expresa como:\n",
    "\n",
    "$$St(x\\vert \\mu, \\lambda, \\nu) = \\frac{\\Gamma \\left( \\frac{\\nu}{2} + \\frac{1}{2}\\right )}{\\Gamma \\left (\\frac{\\nu}{2} \\right)} \\left (\\frac{\\lambda}{\\pi\\cdot \\nu} \\right)^{\\frac{1}{2}} \\left \\lbrack 1 + \\frac{\\lambda (x - \\mu)^2}{\\nu} \\right \\rbrack^{-\\frac{\\nu}{2} - \\frac{1}{2}}$$\n",
    "\n",
    "El parámetro $\\lambda$ se llama habitualmente como el **parámetro de precisión t-student** y el parámetro $\\nu$ se llama **grados de libertad**. A diferencia de una distribución de densidad de probabilidad Gaussiana, la distribución t-student tiene una interesante propiedad llamada **robustez**, que significa que la distribución t-student es mucho menos sensible que la distribución Gaussiana cuando hay presencia de un conjunto de datos de tamaño pequeño (esta propiedad es interesante porque permite agrupar datos con presencia de datos arípicos u outliers de manera más eficiente, usando mezclas Gaussianas. Lo anterior es útil para tareas de aprendizaje no supervisado en machine learning). Otro detalle intersante de la robustez es su aplicabilidad en tareas de regresión, el cual es útil para obtener modelos robustos de regresión para hacer tareas de predicción. \n",
    "\n",
    "La media y la varianza de la distribución t-student se expresan como:\n",
    "\n",
    "$$\\mu = 0,\\,\\, Si\\,\\, \\nu > 1$$\n",
    "$$\\sigma^2 = \\frac{\\nu}{\\nu - 2},\\,\\, Si\\,\\, \\nu > 2$$\n",
    "\n",
    "Es importante mencionar que la media siempre se mantendrá en 0 si $\\nu > 1$ porque para valores más pequeños, es decir $\\nu \\leq 1$, la media tiende a ser un valor indeterminado. Una interpretación similar se presenta con la varianza. \n",
    "\n",
    "Por otra parte, el sesgo y la curtosis de esta distribución se expresan como:\n",
    "\n",
    "$$s = 0,\\,\\, Si\\,\\, \\nu > 3$$\n",
    "$$\\beta_2 = \\frac{6}{\\nu - 4},\\,\\, Si\\,\\, \\nu > 4$$\n",
    "\n",
    "Observen que el sesgo siempre será 0 para $\\nu > 3$ y la curtosis dependerá del grado de libertad que debe ser $\\nu > 4$ para evitar valores indeterminados.\n",
    "\n",
    "Veamos un ejemplo práctico de esta importante distribución."
   ]
  },
  {
   "cell_type": "code",
   "execution_count": null,
   "metadata": {
    "colab": {
     "base_uri": "https://localhost:8080/",
     "height": 711
    },
    "id": "SYNnnF4Vv4JH",
    "outputId": "4dc7bbbf-4992-4931-ec4d-74d72b032812"
   },
   "outputs": [],
   "source": [
    "from scipy.stats import t # Distribución t - student\n",
    "import numpy as np\n",
    "from matplotlib import pyplot\n",
    "import matplotlib\n",
    "\n",
    "matplotlib.rcParams.update({'font.size': 18, 'font.family': 'STIXGeneral', 'mathtext.fontset': 'stix'})\n",
    "\n",
    "nu_1, nu_2, nu_3, nu_4 = 3.1, 10, 20, 35\n",
    "\n",
    "media_1, varianza_1, sesgo_1, kurtosis_1 = t.stats(nu_1, moments='mvsk')\n",
    "media_2, varianza_2, sesgo_2, kurtosis_2 = t.stats(nu_2, moments='mvsk')\n",
    "media_3, varianza_3, sesgo_3, kurtosis_3 = t.stats(nu_3, moments='mvsk')\n",
    "media_4, varianza_4, sesgo_4, kurtosis_4 = t.stats(nu_4, moments='mvsk')\n",
    "\n",
    "print(\"Media_1 = {:.2f};\".format(media_1), \"Media_2 = {:.2f};\".format(media_2), \"Media_3 = {:.2f};\".format(media_3), \"Media_4 = {:.2f}\".format(media_4))\n",
    "print(\"Varianza_1 = {:.2f};\".format(varianza_1), \"Varianza_2 = {:.2f};\".format(varianza_2), \"Varianza_3 = {:.2f};\".format(varianza_3), \"Varianza_4 = {:.2f}\".format(varianza_4))\n",
    "print(\"Sesgo_1 = {:.2f};\".format(sesgo_1), \"Sesgo_2 = {:.2f};\".format(sesgo_2), \"Sesgo_3 = {:.2f};\".format(sesgo_3), \"Sesgo_4 = {:.2f}\".format(sesgo_4))\n",
    "print(\"Curtosis_1 = {:.2f};\".format(kurtosis_1), \"Curtosis_2 = {:.2f};\".format(kurtosis_2), \"Curtosis_3 = {:.2f};\".format(kurtosis_3), \"Curtosis_4 = {:.2f}\".format(kurtosis_4))\n",
    "\n",
    "x1 = np.linspace(t.ppf(0.01, nu_1), t.ppf(0.99, nu_1), 100)\n",
    "x2 = np.linspace(t.ppf(0.01, nu_2), t.ppf(0.99, nu_2), 100)\n",
    "x3 = np.linspace(t.ppf(0.01, nu_3), t.ppf(0.99, nu_3), 100)\n",
    "x4 = np.linspace(t.ppf(0.01, nu_4), t.ppf(0.99, nu_4), 100)\n",
    "\n",
    "P1 = t.pdf(x1, nu_1)\n",
    "P2 = t.pdf(x2, nu_2)\n",
    "P3 = t.pdf(x3, nu_3)\n",
    "P4 = t.pdf(x4, nu_4)\n",
    "\n",
    "fig = pyplot.figure(figsize=(10,10))\n",
    "pyplot.plot(x1, P1,'-ob', lw = 4, alpha = 0.4, label = r'$\\nu$ = {:.1f}'.format(nu_1))\n",
    "pyplot.plot(x2, P2,'-or', lw = 4, alpha = 0.4, label = r'$\\nu$ = {:d}'.format(nu_2))\n",
    "pyplot.plot(x3, P3,'-og', lw = 4, alpha = 0.4, label = r'$\\nu$ = {:d}'.format(nu_3))\n",
    "pyplot.plot(x4, P4,'-ok', lw = 4, alpha = 0.4, label = r'$\\nu$ = {:d}'.format(nu_4))\n",
    "pyplot.xlabel('$x$') # Etiqueta del eje x\n",
    "pyplot.ylabel('$f(x)$') # Etiqueta del eje y  \n",
    "pyplot.title('Distribución t-student') # Titulo de la gráfica\n",
    "pyplot.legend()\n",
    "pyplot.show()"
   ]
  },
  {
   "cell_type": "markdown",
   "metadata": {
    "id": "OtoaAPWNPHsP"
   },
   "source": [
    "## Distribución Kolmogorov"
   ]
  },
  {
   "cell_type": "markdown",
   "metadata": {
    "id": "bCgMaknYPQr-"
   },
   "source": [
    "La distribución Kolmogorov es una distribución acumulada de la forma:\n",
    "\n",
    "$$F(x) = 1 - 2\\sum_{n=1}^\\infty (-1)^{n-1}\\exp(-2n^2x^2) = \\frac{\\sqrt{2\\pi}}{x}\\sum_{n=1}^\\infty \\exp\\left( -\\frac{(2n-1)^2\\pi^2}{8x^2} \\right)$$\n",
    "\n",
    "donde es una forma que limita la probabilidad, $\\mathbb{P}(\\sqrt{n}D_n \\leq x)$. El término $\\sqrt{n}D_n$ es un límite que depende del número de muestras $n$ y una distancia entre una función de densidad de probabilidad $F_n(x)$ y una función de probabilidad acumulada $F(x)$, $D_n = \\max_x\\lbrace F_n(x) - F(x)\\rbrace$. Esta distribución tiene una media y una varianza dado por:\n",
    "\n",
    "$$\\mu = \\sqrt{\\frac{\\pi}{2}}ln\\vert 2 \\vert = 0.8687311605$$\n",
    "\n",
    "$$\\sigma^2 = \\frac{\\pi^2}{12} - \\sigma^2 = 0.0677732044$$\n",
    "\n",
    "Veamos un ejemplo pr´+actico de esta distribución."
   ]
  },
  {
   "cell_type": "code",
   "execution_count": null,
   "metadata": {
    "colab": {
     "base_uri": "https://localhost:8080/",
     "height": 712
    },
    "id": "Nl8T9xQAPHA4",
    "outputId": "19b2171e-f343-4a31-f43c-97fb22537a1d"
   },
   "outputs": [],
   "source": [
    "from scipy.stats import kstwobign # Distribución Kolmogorov\n",
    "import numpy as np\n",
    "from matplotlib import pyplot\n",
    "import matplotlib\n",
    "\n",
    "matplotlib.rcParams.update({'font.size': 18, 'font.family': 'STIXGeneral', 'mathtext.fontset': 'stix'})\n",
    "\n",
    "media, varianza, sesgo, kurtosis = kstwobign.stats(moments='mvsk')\n",
    "\n",
    "print(\"Media = {:.10f}\".format(media))\n",
    "print(\"Varianza = {:.10f}\".format(varianza))\n",
    "print(\"Sesgo = {:.10f}\".format(sesgo))\n",
    "print(\"Curtosis = {:.10f}\".format(kurtosis))\n",
    "\n",
    "x = np.linspace(kstwobign.ppf(0.01), kstwobign.ppf(0.99), 4096)\n",
    "p = kstwobign.cdf(x)\n",
    "\n",
    "fig = pyplot.figure(figsize=(10,10))\n",
    "pyplot.plot(x, p,'-ob', lw = 4, alpha = 0.4)\n",
    "pyplot.xlabel('$x$') # Etiqueta del eje x\n",
    "pyplot.ylabel('$f(x)$') # Etiqueta del eje y  \n",
    "pyplot.title('Distribución Kolmogorov Acumulada') # Titulo de la gráfica\n",
    "pyplot.show()"
   ]
  },
  {
   "cell_type": "markdown",
   "metadata": {
    "id": "5FyCQya_ZdXQ"
   },
   "source": [
    "# Valor p o p-value"
   ]
  },
  {
   "cell_type": "markdown",
   "metadata": {
    "id": "2E7PlBgAZi5o"
   },
   "source": [
    "El **valor p o p-value** expresa la probabilidad que resulte al menos un valor extremo que permita validar una estimación mediante pruebas estadísticas basado en distribuciones de probabilidad. Por lo general, un valor p extremo a la media de una distribución de probabilidad representa que los datos están más cercanos a esa distribución. En cambio, un valor p alejado de la media representa aquellos datos que son poco probables que se acerquen a una distribución de probabilidad determinado.\n",
    "\n",
    "Supongamos que estamos realizando un experimento en lanzar una moneda que creemos que es justa, es decir, una moneda para la cual la cara $h$ o la cruz $t$ son resultados igualmente probables para un sólo lanzamiento.\n",
    "\n",
    "$$P(h) = P(t) = 0.5$$\n",
    "\n",
    "Considerando lo anterior, cada lanzamiento lo llamaremos **decisión** donde la probabilidad de cara en cualquier lanzamiento es de 0.5 y la mejor estimación es que obtendremos 5 caras en 10 **pruebas** (aunque también se sabe que en cualquier prueba se puede obtener un número diferente de caras). Suponiendo que lanzamos la moneda 10 veces, y 8 veces cae cara, se desea saber el valor p de probabilidad 0.5 para las caras en un solo lanzamiento o ensayo que produzca 8 caras en 10 pruebas. Para resolver esta inquietud, se utiliza la distribución binomial. "
   ]
  },
  {
   "cell_type": "code",
   "execution_count": null,
   "metadata": {
    "colab": {
     "base_uri": "https://localhost:8080/"
    },
    "id": "Op65iG3oZ9rZ",
    "outputId": "0ef6861e-5cdb-43da-f7fc-968afa4d598d"
   },
   "outputs": [],
   "source": [
    "from scipy.stats import binom\n",
    "\n",
    "n = 10 # Lanzamientos\n",
    "p = 0.5 # Probabilidad que caiga cara\n",
    "x = 8 # punto de referencia\n",
    "\n",
    "P = binom.pmf(x, n, p)\n",
    "print(\"Probabilidad que en un solo lanzamiento se produzca 8 caras en 10 pruebas es = {:.4f}\".format(P))"
   ]
  },
  {
   "cell_type": "markdown",
   "metadata": {
    "id": "LkuDcd_vbgle"
   },
   "source": [
    "La probabilidad resultante es 0.0439, lo que significa que menos del 5% de las veces esperamos obtener exactamente 8 caras en 10 pruebas o lanzamientos con una moneda justa. Ahora analizaremos que sucede con 9 caras y 10 caras en 10 pruebas o lanzamientos."
   ]
  },
  {
   "cell_type": "code",
   "execution_count": null,
   "metadata": {
    "colab": {
     "base_uri": "https://localhost:8080/"
    },
    "id": "Dz8cP1IEb-mG",
    "outputId": "7c7b2c0d-9c7b-4162-b978-f3f1eabe7883"
   },
   "outputs": [],
   "source": [
    "from scipy.stats import binom\n",
    "\n",
    "n = 10 # Lanzamientos\n",
    "p = 0.5 # Probabilidad que caiga cara\n",
    "x1 = 9 # punto de referencia 1\n",
    "x2 = 10 # punto de referencia 1\n",
    "\n",
    "P1 = binom.pmf(x1, n, p)\n",
    "P2 = binom.pmf(x2, n, p)\n",
    "print(\"Probabilidad que en un solo lanzamiento se produzca 9 caras en 10 pruebas es = {:.4f}\".format(P1))\n",
    "print(\"Probabilidad que en un solo lanzamiento se produzca 10 caras en 10 pruebas es = {:.4f}\".format(P2))"
   ]
  },
  {
   "cell_type": "markdown",
   "metadata": {
    "id": "QeXW1z8-cNfc"
   },
   "source": [
    "La probabilidad para 9 caras en 10 lanzamientos es de $0.0098$, y para 10 caras en 10 lanzamientos es de $0.0010$. Esto demuestra que a medida que los resultados se alejan del resultado esperado de 5 caras en 10 lanzamientos, se vuelven menos probables. Si evaluamos la probabilidad que la moneda sea justa, los resultados que están lejos de nuestra expectativa (5 caras en 10 lanzamientos) nos dan una fuerte evidencia  que es justa. Con este tipo de preguntas, se calcula la probabilidad no sólo del resultado que obtuvimos en nuestro experimento, sino de resultados al menos tan extremos como los que obtuvimos. En este caso, la probabilidad de obtener 8, 9 o 10 caras en 10 lanzamientos de una moneda justa es: \n",
    "\n",
    "$$0.0439 + 0.0098 + 0.0010 = 0.0547$$\n",
    "\n",
    "El valor $0.0547$ es el *valor p del resultado de al menos 8 caras en 10 ensayos*, utilizando una moneda en la que $P(h) = 0.5$. Los valores p se enlazan comúnmente para la mayoría de los resultados de las investigaciones que implican cálculos estadísticos, en parte porque la intuición es una guía deficiente de lo inusual que es un resultado particular. Por ejemplo, muchas personas podrían pensar que es inusual obtener 8 o más caras en 10 pruebas utilizando una moneda justa. No existe una definición estadística de lo que constituye un resultado *inusual*, por lo que utilizaremos el estándar común de que el valor p de nuestros resultados debe ser inferior a $0.05$"
   ]
  },
  {
   "cell_type": "code",
   "execution_count": null,
   "metadata": {
    "colab": {
     "base_uri": "https://localhost:8080/",
     "height": 638
    },
    "id": "U34m5yv3dv5I",
    "outputId": "fadc2140-b820-4174-cbc5-be37e3a8170e"
   },
   "outputs": [],
   "source": [
    "from scipy.stats import binom\n",
    "from matplotlib import pyplot\n",
    "import matplotlib\n",
    "\n",
    "matplotlib.rcParams.update({'font.size': 18, 'font.family': 'STIXGeneral', 'mathtext.fontset': 'stix'})\n",
    "\n",
    "n = 10 # Lanzamientos\n",
    "p = 0.5 # Probabilidad que caiga cara\n",
    "x = np.arange(1,10)\n",
    "PC = binom.pmf(x, n, p)\n",
    "\n",
    "fig = pyplot.figure(figsize=(10,10))\n",
    "pyplot.plot(x, PC,'-ob', lw = 4, alpha = 0.4, label = 'Distribución Binomial para el ejemplo de valor p')\n",
    "pyplot.xlabel('$x$') # Etiqueta del eje x\n",
    "pyplot.ylabel('$P(x)$') # Etiqueta del eje y  \n",
    "pyplot.title('Distribución binomial') # Titulo de la gráfica\n",
    "pyplot.legend()\n",
    "pyplot.show()"
   ]
  },
  {
   "cell_type": "markdown",
   "metadata": {
    "id": "iCV0kRcrBKsD"
   },
   "source": [
    "# Intervalos de Confianza"
   ]
  },
  {
   "cell_type": "markdown",
   "metadata": {
    "id": "WaFU7IUfBSma"
   },
   "source": [
    "Por definición, el intervalo de confianza permite **estimar** que tan cerca podemos llegar a un valor verdadero que se estima inicialmente. Aunque no se conoce el valor exacto de lo que se desea estimar, hay una manera de saber ese valor. En este caso, si consideramos que la probabilidad de un valor en un cierto intervalo es del 90% (0.9), no hay un método que permita concluir que el valor más cercano al valor verdadero esta dentro de una campana de Gauss con un nivel del confianza del 90%. Lo mejor que se puede hacer es realizar *varias pruebas* que permita estabelcer el mejor intervalo de confianza. \n",
    "\n",
    "Para estimar un intervalo de confianza, consideramos un método llamado **desigualdad de Hoeffding**. Esta desigualdad considera una esperanza matemática $\\mathbb {E}(X_i) = \\mu$ tal que $X = \\lbrace X_1, \\ldots, X_i, \\ldots, X_N \\rbrace$ y un intervalo $a \\leq X_i \\leq b$. Por consiguiente, se establece una desigualdad dada por:\n",
    "\n",
    "$$\\mathbb{P}(\\vert \\bar{X_N} - \\mu \\vert \\geq \\epsilon) \\leq 2\\exp\\left \\lbrack - \\frac{2N\\epsilon^2}{(b-a)^2}\\right \\rbrack$$\n",
    "\n",
    "donde $\\bar{X_N} = \\frac{1}{N} \\sum_{i = 1}^N X_i$ es un estimador de la media $\\mu$, $\\epsilon > 0$ es un punto extremo de decisión (para conocer los valores de $a$ y $b$), $N$ es el número de muestras,  $a$ y $b$ son los puntos extremos inferior y superior, y $\\mathbb{P}(\\vert \\bar{X_N} - \\mu \\vert \\geq \\epsilon)$ es una función de densidad de probabilidad que depende de $a$ y $b$. Observen que esta desigualdad permite establecer un intervalo de confianza para obtener la mejor estimación bajo un umbral. Por lo general, esta desigualdad se puede definir a partir de una función de distribucuión Bernoulli, dado por:\n",
    "\n",
    "$$\\mathbb{P}(\\vert \\hat{p}_N - p\\vert > \\epsilon_N)  \\leq 2\\exp(-2N\\epsilon^2)$$\n",
    "\n",
    "Para este caso, **los intervalos de confianza** son $\\mathbb{I} = \\lbrack \\hat{p}_N - \\epsilon_N, \\hat{p}_N + \\epsilon_N \\rbrack$, siendo ${p}_N$ un valor de probabilidad que permite establecer los intervalos más confiables. Para determinar los puntos extremos del intervalo, se puede calcular $\\epsilon_N$ como:\n",
    "\n",
    "$$\\epsilon_N = \\sqrt{\\frac{1}{2N} log \\frac{2}{\\alpha}}$$\n",
    "\n",
    "donde $\\alpha$ es el **umbral de confianza**, el cual $\\mathbb{P}(\\vert \\hat{p}_N - p\\vert > \\epsilon_N) \\leq \\alpha$. \n",
    "\n",
    "**Por ejemplo:** Si $N = 100$ y definimos un valor de confianza $\\alpha = 0.05$, entonces $\\epsilon_N = 0.136$ y por tanto, el 95% del intervalo de confianza esta establecido en el rango:\n",
    "\n",
    "$$\\mathbb{I} = \\lbrack \\hat{p}_N - 0.136, \\hat{p}_N + 0.136 \\rbrack$$.\n",
    "\n",
    "Veamos un ejemplo práctico de esta teoría del intervalo de confianza:"
   ]
  },
  {
   "cell_type": "code",
   "execution_count": null,
   "metadata": {
    "colab": {
     "base_uri": "https://localhost:8080/"
    },
    "id": "Q44rSmvzg-Mt",
    "outputId": "d5801fbb-55e3-48b1-f908-1d7aac4a27f2"
   },
   "outputs": [],
   "source": [
    "from scipy.stats import bernoulli\n",
    "import numpy as np\n",
    "\n",
    "Xi = 0.5\n",
    "p = bernoulli(Xi) # pdf Bernoulli con X = 0.5\n",
    "N = 100\n",
    "alpha = 0.05\n",
    "Pruebas = 150\n",
    "X = p.rvs(N*Pruebas).reshape(N,-1)\n",
    "pn = np.mean(X)\n",
    "e_n = np.sqrt((1/(2*N))*np.log(2/alpha))\n",
    "I = np.logical_and((pn - e_n) <= Xi, Xi <= (pn + e_n)).mean()*100  \n",
    "print(\"El intervalo esta con un porcentaje de confianza de {:.3f}%\".format(I))\n",
    "print(\"Intervalos[{:.2f},{:.2f}]\".format(pn - e_n, pn + e_n))"
   ]
  },
  {
   "cell_type": "markdown",
   "metadata": {
    "id": "cPpGSvIVlAXU"
   },
   "source": [
    "El resultado muestra que el estimador y el intervalo correspondiente fueron capaces de atrapar el verdadero valor al menos el 95% de las veces (aunque nos dio 100% para este caso particular). Así es como se interpreta la acción de los intervalos de confianza. Sin embargo, en la vida real, la desigualdad de Hoeffding tiene limitantes para estimar con datos de mayor tamaño (más muestras y variables). Para solventar esta limitante, se define el **error estándar**, dado por:\n",
    "\n",
    "$$s_e = \\sqrt{\\mathbb{V}(\\hat{\\theta_N})}$$\n",
    "\n",
    "donde $\\theta_N$ es un punto estimado para un parámetro $\\theta$ y $\\mathbb{V}(\\hat{\\theta_N})$ es la varianza con respecto a $\\hat{\\theta_N}$. Considerando la distribución Bernoulli, el estimador $\\hat{p} = \\frac{1}{N}\\sum_{i=1}^N X_i$ y la varianza $\\mathbb{V}(\\hat{p}_N) = \\frac{p(1 - p)}{N}$ y por consiguiente, el error estándar se determina como:\n",
    "\n",
    "$$s_e = \\sqrt{\\frac{\\hat{p}(1 - \\hat{p})}{N}}$$\n",
    "\n",
    "donde $\\hat{p}$ es un promedio de la distribución Bernoulli. Teniendo en cuenta esta métrica, se establece que el intervalo de confianza será $\\mathbb{I} = \\lbrack \\hat{p} - p, \\hat{p} + p\\rbrack$. Por lo general cada intervalo se puede estimar mediante una distribución Gaussiana para facilitar los mejores valores del intervalo posibles.\n",
    "\n",
    "Veamos un ejemplo práctico:"
   ]
  },
  {
   "cell_type": "code",
   "execution_count": null,
   "metadata": {
    "id": "bpv2_cbnqbvA"
   },
   "outputs": [],
   "source": [
    "def mejores_intervalos_se(p,X):\n",
    "  SE = np.sqrt(p*(1 - p)/X.shape[0])\n",
    "  S = norm.interval(0.95, loc = p, scale = SE)\n",
    "  return S"
   ]
  },
  {
   "cell_type": "code",
   "execution_count": null,
   "metadata": {
    "id": "G-jyaUkwusMh"
   },
   "outputs": [],
   "source": [
    "def mejores_intervalos_dh(p,X):\n",
    "  N = X.shape[0]\n",
    "  alpha = 0.05\n",
    "  E_N = np.sqrt((1/(2*N))*np.log(2/alpha))\n",
    "  A = p - E_N\n",
    "  B = p + E_N\n",
    "  return A,B"
   ]
  },
  {
   "cell_type": "code",
   "execution_count": null,
   "metadata": {
    "colab": {
     "base_uri": "https://localhost:8080/",
     "height": 1000
    },
    "id": "qdCNan84paSv",
    "outputId": "f83d725c-7f9a-4fc7-c098-da535bf09e78"
   },
   "outputs": [],
   "source": [
    "from scipy.stats import bernoulli\n",
    "from scipy.stats import norm\n",
    "import numpy as np\n",
    "from matplotlib import pyplot\n",
    "import matplotlib\n",
    "\n",
    "matplotlib.rcParams.update({'font.size': 18, 'font.family': 'STIXGeneral', 'mathtext.fontset': 'stix'})\n",
    "\n",
    "Xi = 0.5\n",
    "p = bernoulli(Xi) # pdf Bernoulli con X = 0.5\n",
    "N = 100\n",
    "alpha = 0.05\n",
    "Pruebas = 150\n",
    "X = p.rvs(N*Pruebas).reshape(N,-1)\n",
    "pn = np.mean(X, axis = 0)\n",
    "se = np.sqrt(pn*(1 - pn)/X.shape[0])\n",
    "estimador = norm(0, se[0]) # este es un estimación con distribución Normal o Gaussiana con media 0 y varianza = se\n",
    "I = np.array(estimador.interval(0.95)) + pn[0]\n",
    "a, b = mejores_intervalos_se(pn,X)\n",
    "aa, bb = mejores_intervalos_dh(pn,X) \n",
    "print(\"Intervalos[{:.2f}, {:.2f}]\".format(I[0], I[1]))\n",
    "\n",
    "fig = pyplot.figure(figsize=(12,12))\n",
    "pyplot.plot(np.arange(0,len(a)), a,'-ob', lw = 4, alpha = 0.4, label = 'Estimaciones del valor inicial se')\n",
    "pyplot.plot(np.arange(0,len(b)), b,'-om', lw = 4, alpha = 0.4, label = 'Estimaciones del valor final se')\n",
    "pyplot.xlabel('Pruebas') # Etiqueta del eje x\n",
    "pyplot.ylabel('Valores de intervalo') # Etiqueta del eje y  \n",
    "pyplot.title('Comportamiento de los intervalos de confianza con error estándar') # Titulo de la gráfica\n",
    "pyplot.legend()\n",
    "\n",
    "fig = pyplot.figure(figsize=(12,12))\n",
    "pyplot.plot(np.arange(0,len(aa)), aa,'-oc', lw = 4, alpha = 0.4, label = 'Estimaciones del valor inicial dh')\n",
    "pyplot.plot(np.arange(0,len(bb)), bb,'-or', lw = 4, alpha = 0.4, label = 'Estimaciones del valor final dh')\n",
    "pyplot.xlabel('Pruebas') # Etiqueta del eje x\n",
    "pyplot.ylabel('Valores de intervalo') # Etiqueta del eje y  \n",
    "pyplot.title('Comportamiento de los intervalos de confianza con Desigualdad de Hoeffding') # Titulo de la gráfica\n",
    "pyplot.legend()\n",
    "pyplot.show()"
   ]
  },
  {
   "cell_type": "markdown",
   "metadata": {
    "id": "7JuvRpO1z5ut"
   },
   "source": [
    "A partir de la anterior teoría, Comó se podría encontrar los intervalos de confianza para un vector de datos reales? Vea el siguiente ejemplo:"
   ]
  },
  {
   "cell_type": "code",
   "execution_count": null,
   "metadata": {
    "id": "RB41K4dRUSRh"
   },
   "outputs": [],
   "source": [
    "from sklearn.datasets import load_wine # Base de datos de clases de vino\n",
    "from scipy.stats import sem, t, norm\n",
    "import numpy as np\n",
    "\n",
    "datos = load_wine()\n",
    "data = datos.data\n",
    "X = data[:,0:1]\n",
    "\n",
    "confianza = 0.95\n",
    "N = X.shape[0]\n",
    "mu = np.mean(X)\n",
    "se = sem(X) # calcula el error estándar de la media de los datos\n",
    "p1 = t.ppf((1 + confianza ) / 2, N - 1)\n",
    "p2 = norm.ppf((1 + confianza ) / 2, N)\n",
    "e_n_1 = se*p1\n",
    "e_n_2 = se*p2\n",
    "\n",
    "inicio_1 = mu  - e_n_1\n",
    "inicio_2 = mu  - e_n_2\n",
    "final_1 = mu  + e_n_1\n",
    "final_2 = mu  + e_n_2"
   ]
  },
  {
   "cell_type": "code",
   "execution_count": null,
   "metadata": {
    "colab": {
     "base_uri": "https://localhost:8080/"
    },
    "id": "FDs6IYQnyU1N",
    "outputId": "8db00a14-34e5-4f23-80f3-250dd621c345"
   },
   "outputs": [],
   "source": [
    "list(map('Intervalo con distribución t : Inicio = {:.2f} y Final = {:.2f}'.format,inicio_1,final_1))"
   ]
  },
  {
   "cell_type": "code",
   "execution_count": null,
   "metadata": {
    "colab": {
     "base_uri": "https://localhost:8080/"
    },
    "id": "T2Q05xpRzg-X",
    "outputId": "a1ea466c-663e-42fc-bcd8-d6cb19cdc615"
   },
   "outputs": [],
   "source": [
    "list(map('Intervalo con distribución Gaussiana : Inicio = {:.2f} y Final = {:.2f}'.format,inicio_2,final_2))"
   ]
  },
  {
   "cell_type": "markdown",
   "metadata": {
    "id": "0xeoFlvUieCo"
   },
   "source": [
    "# Pruebas de hipótesis"
   ]
  },
  {
   "cell_type": "markdown",
   "metadata": {
    "id": "6DW_Sp-aiivm"
   },
   "source": [
    "La prueba de hipótesis es una estrategía que permite usar métodos estadísticos en la toma de decisiones acerca de problemas de la vida real. Por lo general, la prueba de hipótesis involucra un conjunto de pasos, como se mencionan a continuación:\n",
    "\n",
    "*   Desarrollar una hipótesis de investigación que pueda ser probado matemáticamente.\n",
    "*   Formalizar formalmente las hipótesis nulas y alternativas.\n",
    "*   Decidir una prueba estadística apropiada que permita analizar los datos.\n",
    "*   Tomar la decisión considerando los resultados de la prueba.\n",
    "\n",
    "Considerando estos pasos, analizaremos el siguiente caso:\n",
    "\n",
    "Se desea evaluar un nuevo medicamento para tratar la presión alta en el flujo de sangre en el cuerpo humano. La farmacéutica desea establecer que tratamiento tiene el mejor desempeño bajo las mismas condiciones de experimentación. Entonces, la farmacéutica define una hipótesis: *Los pacientes hipertensos tratados con el nuevo fármaco $X$ mostrarán una mayor disminución de su presión arterial que los pacientes hipertensos tratados con el fármaco actualmente disponible $Y$*. Se utiliza $\\mu_1$ como la disminución media de la presión sanguína en el grupo tratado con el fármaco $X$ y $\\mu_2$ como la disminución media de la presión sanguínea en el grupo que recibe el fármaco $Y$. \n",
    "\n",
    "Basado en la información del problema, se define dos hipótesis\n",
    "\n",
    "$$H_0: \\mu_1 \\leq \\mu_2 $$\n",
    "$$H_A: \\mu_1 > \\mu_2$$\n",
    "\n",
    "donde:\n",
    "\n",
    "*   $H_0:$ es la hipótesis nula\n",
    "*   $H_A:$ es la hipótesis alternativa.\n",
    "\n",
    "Para el ejemplo de la farmacéutica, $H_0$ sería la siguiente: *el fármaco $X$ no es una mejora sobre el fármaco $Y$ porque la disminución de la presión sanguínea lograda por el fármaco $X$ es menor o igual que la lograda por el fármaco $Y$*. Observen que $H_0$ debe ser mutuamente excluido con respecto a $H_A$ para satisfacer una de las dos condiciones de la prueba. Para tomar la decisión, *el grupo tratado con el fármaco $X$ debe lograr una mayor disminución de la presión sanguínea que el grupo tratado con el fármaco $Y$ para que la hipótesis nula sea rechazada*.\n",
    "\n",
    "En pruebas estadísticas, $H_0$ y $H_A$ se pueden estructurar como **pruebas de hipótesis de dos colas**, que es la forma más usada debido a que se conserva la capacidad de encontrar una *diferencia* en cualquier caso de la prueba de hipótesis:\n",
    "\n",
    "$$H_0: \\mu_1 = \\mu_2 $$\n",
    "$$H_A: \\mu_1 \\neq \\mu_2$$\n",
    "\n",
    "Este tipo de prueba permite tomar una de las siguientes decisiones:\n",
    "\n",
    "*   Rechaza la hipótesis nula.\n",
    "*   No rechace la hipótesis nula.\n",
    "\n",
    "En estas decisiones, si no se rechaza $H_0$, esto no significa que se verificó que $H_0$ es verdadero, sino más bien que el experimento no determinó suficientes pruebas para rechazarla. Cuando se dice **rechazar la hipótesis nula** significa que se *encuentra resultados estadísticamente significativos* porque el análisis debe mostrar no sólo que hay diferencias entre las medias, sino que esas diferencias son suficientes para aprobar dicha hipótesis.\n",
    "\n",
    "Para determinar si los resultados son estadísticamente significativos, se utiliza el **valor p** que permite establecer ese criterio ($p < 0.05$).\n",
    "\n",
    "Veamos un ejemplo práctico de la prueba de hipótesis nula."
   ]
  },
  {
   "cell_type": "code",
   "execution_count": null,
   "metadata": {
    "colab": {
     "base_uri": "https://localhost:8080/"
    },
    "id": "ErcMNM-hP2h3",
    "outputId": "c12c672e-694f-477c-8d8d-87bcbea843d1"
   },
   "outputs": [],
   "source": [
    "import numpy as np\n",
    "from scipy.stats import sem, t, norm\n",
    "\n",
    "X = np.array([6.8,6.78,6.77,6.8,6.78,6.8,6.82,6.81,6.8,6.79]) # PH de una piscina pública\n",
    "confianza_1 = 0.95\n",
    "confianza_2 = 0.65\n",
    "\n",
    "N = X.shape[0]\n",
    "mu = np.mean(X)\n",
    "se = sem(X) # calcula el error estándar de la media de los datos\n",
    "p11 = t.ppf((1 + confianza_1) / 2, N - 1)\n",
    "p12 = t.ppf((1 + confianza_2) / 2, N - 1)\n",
    "p21 = norm.ppf((1 + confianza_1) / 2, N)\n",
    "p22 = norm.ppf((1 + confianza_2) / 2, N)\n",
    "e_n_11 = se*p11\n",
    "e_n_12 = se*p12\n",
    "e_n_21 = se*p21\n",
    "e_n_22 = se*p22\n",
    "\n",
    "inicio_11 = mu - e_n_11\n",
    "final_11 = mu + e_n_11\n",
    "\n",
    "inicio_12 = mu - e_n_12\n",
    "final_12 = mu + e_n_12\n",
    "\n",
    "inicio_21 = mu - e_n_21\n",
    "final_21 = mu + e_n_21\n",
    "\n",
    "inicio_22 = mu - e_n_22\n",
    "final_22 = mu + e_n_22\n",
    "\n",
    "print(\"Intervalo con distribución t con pvalue = 0.05: Inicio = {:.2f} y Final = {:.2f}\".format(inicio_11,final_11))\n",
    "print(\"Intervalo con distribución t con pvalue = 0.35: Inicio = {:.2f} y Final = {:.2f}\".format(inicio_12,final_12))\n",
    "print(\"Intervalo con distribución normal con pvalue = 0.05: Inicio = {:.2f} y Final = {:.2f}\".format(inicio_21,final_21))\n",
    "print(\"Intervalo con distribución normal con pvalue = 0.35: Inicio = {:.2f} y Final = {:.2f}\".format(inicio_22,final_22))"
   ]
  },
  {
   "cell_type": "markdown",
   "metadata": {
    "id": "DgIi8nI1mYE7"
   },
   "source": [
    "La hipótesis nula de estos datos es que la media poblacional es $6.8$. Observen que los intervalos de confianza se ensanchan más en la distribución normal con respecto a la distribución t, donde está última tiene un intervalo más estrecho. "
   ]
  },
  {
   "cell_type": "code",
   "execution_count": null,
   "metadata": {
    "colab": {
     "base_uri": "https://localhost:8080/"
    },
    "id": "0EPPQGnRp89M",
    "outputId": "4998ce29-6f1d-4b22-b3d7-163176d0717a"
   },
   "outputs": [],
   "source": [
    "PROM_1 = np.array([inicio_11,final_11]).mean()\n",
    "PROM_2 = np.array([inicio_12,final_12]).mean()\n",
    "PROM_3 = np.array([inicio_21,final_21]).mean()\n",
    "PROM_4 = np.array([inicio_22,final_22]).mean()\n",
    "print(\"Media distribución t con pvalue = 0.05 = {:.4f}\".format(PROM_1))\n",
    "print(\"Media distribución t con pvalue = 0.35 = {:.4f}\".format(PROM_2))\n",
    "print(\"Media distribución normal con pvalue = 0.05 = {:.4f}\".format(PROM_3))\n",
    "print(\"Media distribución normal con pvalue = 0.05 = {:.4f}\".format(PROM_4))"
   ]
  },
  {
   "cell_type": "markdown",
   "metadata": {
    "id": "QCpUNxjDrQO_"
   },
   "source": [
    "Observe que $6.7950$ es cercano a $6.8$ pero no se puede concluir que ambas medias sean iguales y por tanto se rechaza la hipótesis nula, y se acepta que $\\mu_1 \\neq \\mu_2$."
   ]
  },
  {
   "cell_type": "markdown",
   "metadata": {
    "id": "_eyYz29nsR9-"
   },
   "source": [
    "En la prueba de hipótesis, existen 3 herramientas para realizar varios tipos de análisis de acuerdo a la interacción o dependencia entre variables o atributos de los datos:\n",
    "\n",
    "1.   **Relación entre variables nominales:** Analiza la interrelación entre los valores de variables nominales, mediante una *tabla de contingencia*. Ese tipo de tabla se calcula mediante las frecuencia de aparición de distintas combinaciones de valores de dos variables. Por lo general, este tipo análisis se realiza mediante el **test chi-cuadrada**, que veremos más adelante.\n",
    "2.   **Relación entre variables numéricas-nominales:** Analiza las posibles relaciones entre dos variables, una de ellas numérica y la otra nominal, comparando medias y proporciones de los datos. En este método, la hipótesis nula se rechaza si las diferencias entre medias condicionadas a las etiquetas de la variable nominal son debidas a un proceso aleatorio. Por lo general, el **test t** y **ANOVA** son pruebas muy usuadas para este tipo de relaciones.\n",
    "3.   **Relación entre variables numéricas:** Analiza las posibles relaciones de dos variables numéricas mediante un análisis de regresión o por covarianzas o por correlaciones. Las matrices de **correlación** y de **covarianza** son muy útiles para este tipo de análisis.\n",
    "\n",
    "De aquí en adelante, estudiaremos algunos de estos test."
   ]
  }
 ],
 "metadata": {
  "colab": {
   "provenance": [],
   "toc_visible": true
  },
  "kernelspec": {
   "display_name": "Python 3 (ipykernel)",
   "language": "python",
   "name": "python3"
  },
  "language_info": {
   "codemirror_mode": {
    "name": "ipython",
    "version": 3
   },
   "file_extension": ".py",
   "mimetype": "text/x-python",
   "name": "python",
   "nbconvert_exporter": "python",
   "pygments_lexer": "ipython3",
   "version": "3.9.13"
  }
 },
 "nbformat": 4,
 "nbformat_minor": 4
}
