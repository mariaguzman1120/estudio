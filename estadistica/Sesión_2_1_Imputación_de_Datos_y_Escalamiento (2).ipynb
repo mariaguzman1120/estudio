{
 "cells": [
  {
   "cell_type": "code",
   "execution_count": 1,
   "metadata": {
    "colab": {
     "base_uri": "https://localhost:8080/"
    },
    "id": "9OooL_6ekjsC",
    "outputId": "99387bc7-161d-4337-ce1f-14c4034d80bf"
   },
   "outputs": [],
   "source": [
    "#!wget --no-cache -O init.py -q https://raw.githubusercontent.com/UDEA-Esp-Analitica-y-Ciencia-de-Datos/EACD-02-ESTADISTICA/master/init.py\n",
    "#import init; init.init(force_download=False); \n",
    "from IPython.display import Image"
   ]
  },
  {
   "cell_type": "code",
   "execution_count": 2,
   "metadata": {
    "colab": {
     "base_uri": "https://localhost:8080/",
     "height": 251
    },
    "id": "-S9OpQGQkjjh",
    "outputId": "4ff54994-6236-49d1-8e39-951ab2a9059c"
   },
   "outputs": [],
   "source": [
    "#Image(\"local/imgs/udea-datascience.png\")"
   ]
  },
  {
   "cell_type": "markdown",
   "metadata": {
    "id": "LTUfbJ2w_vtq"
   },
   "source": [
    "**Desarrollado por:** Javier Fernando Botía Valderrama\n",
    "\n",
    "*Docente del Departamento de Ingeniería de Sistemas*\n",
    "\n",
    "**Materia:** Estadística y Análisis Exploratorio\n",
    "\n",
    "**Departamento:** Posgrado en Ingeniería\n",
    "\n",
    "**Facultad de Ingeniería - Universidad de Antioquia**"
   ]
  },
  {
   "cell_type": "markdown",
   "metadata": {
    "id": "kedIupZ7_x65"
   },
   "source": [
    "# Métodos de Imputación de Datos y Escalamiento de Datos"
   ]
  },
  {
   "cell_type": "code",
   "execution_count": 3,
   "metadata": {
    "id": "YKufc-Em_tbe"
   },
   "outputs": [],
   "source": [
    "import pandas as pd\n",
    "import io\n",
    "import requests\n",
    "import numpy as np\n",
    "import seaborn as sns # Librería de visualización para data science\n",
    "\n",
    "from matplotlib import pyplot as plt\n",
    "import matplotlib\n",
    "import scipy.stats\n",
    "\n",
    "from sklearn.impute import MissingIndicator # Es una función que permite identificar los datos faltantes\n",
    "from sklearn.impute import SimpleImputer # Método de imputación \n",
    "from sklearn.impute import KNNImputer # Se utiliza la función KNNIMputer para aplicar la imputación KNN\n",
    "\n",
    "from sklearn.preprocessing import StandardScaler # Escalamiento estándar\n",
    "from sklearn.preprocessing import RobustScaler # Escalamiento robusto\n",
    "from sklearn.preprocessing import MinMaxScaler # MinMaxScaler es una librería que permite \n",
    "                                               # hacer diferentes escalas de los datos cuando ajustes de valores máximos y mínimos.\n",
    "from sklearn.preprocessing import Normalizer # Librería para normalizar datos en una escala deseada"
   ]
  },
  {
   "cell_type": "markdown",
   "metadata": {
    "id": "F6O6G6dQATA_"
   },
   "source": [
    "## Métodos de Imputación de Datos"
   ]
  },
  {
   "cell_type": "markdown",
   "metadata": {
    "id": "YHQG2iryNCJx"
   },
   "source": [
    "La imputación de datos es un conjunto de métodos para evitar la eliminación de muestras u observaciones útiles y valiosos para analizar datos cuando hay presencia de **datos faltantes o datos nulos**. Por lo general, la imputación de datos utiliza técnicas de interpolación para estimar valores en los datos faltantes. Existen varias estrategías para imputar datos basados en *estadísticos o en algoritmos de vecinos más cercanos*. A continuación, vamos a revisar algunos de ellos:"
   ]
  },
  {
   "cell_type": "markdown",
   "metadata": {
    "id": "Y_JSqKyhO3Ew"
   },
   "source": [
    "*Descripción original de los datos*: \n",
    "\n",
    "This data set can be used to predict the severity (benign or malignant) of a mammographic mass lesion from BI-RADS attributes and the patient's age.\n",
    "\n",
    "It contains a BI-RADS assessment, the patient's age and three BI-RADS attributes together with the ground truth (the severity field, which is the target attribute).\n",
    "\n",
    "The data was collected at the Institute of Radiology of the University Erlangen-Nuremberg between 2003 and 2006.\n",
    "\n",
    "https://sci2s.ugr.es/keel/dataset.php?cod=86"
   ]
  },
  {
   "cell_type": "code",
   "execution_count": 4,
   "metadata": {
    "colab": {
     "base_uri": "https://localhost:8080/",
     "height": 676
    },
    "id": "ESzY2DG8M_nQ",
    "outputId": "f7eb7d43-e3d7-4cf3-e0c2-6c48a6c4ae1c"
   },
   "outputs": [
    {
     "data": {
      "text/html": [
       "<div>\n",
       "<style scoped>\n",
       "    .dataframe tbody tr th:only-of-type {\n",
       "        vertical-align: middle;\n",
       "    }\n",
       "\n",
       "    .dataframe tbody tr th {\n",
       "        vertical-align: top;\n",
       "    }\n",
       "\n",
       "    .dataframe thead th {\n",
       "        text-align: right;\n",
       "    }\n",
       "</style>\n",
       "<table border=\"1\" class=\"dataframe\">\n",
       "  <thead>\n",
       "    <tr style=\"text-align: right;\">\n",
       "      <th></th>\n",
       "      <th>BI-RADS</th>\n",
       "      <th>Age</th>\n",
       "      <th>Shape</th>\n",
       "      <th>Margin</th>\n",
       "      <th>Density</th>\n",
       "      <th>Severity</th>\n",
       "    </tr>\n",
       "  </thead>\n",
       "  <tbody>\n",
       "    <tr>\n",
       "      <th>0</th>\n",
       "      <td>5</td>\n",
       "      <td>67</td>\n",
       "      <td>3</td>\n",
       "      <td>5</td>\n",
       "      <td>3</td>\n",
       "      <td>1</td>\n",
       "    </tr>\n",
       "    <tr>\n",
       "      <th>1</th>\n",
       "      <td>4</td>\n",
       "      <td>43</td>\n",
       "      <td>1</td>\n",
       "      <td>1</td>\n",
       "      <td>?</td>\n",
       "      <td>1</td>\n",
       "    </tr>\n",
       "    <tr>\n",
       "      <th>2</th>\n",
       "      <td>5</td>\n",
       "      <td>58</td>\n",
       "      <td>4</td>\n",
       "      <td>5</td>\n",
       "      <td>3</td>\n",
       "      <td>1</td>\n",
       "    </tr>\n",
       "    <tr>\n",
       "      <th>3</th>\n",
       "      <td>4</td>\n",
       "      <td>28</td>\n",
       "      <td>1</td>\n",
       "      <td>1</td>\n",
       "      <td>3</td>\n",
       "      <td>0</td>\n",
       "    </tr>\n",
       "    <tr>\n",
       "      <th>4</th>\n",
       "      <td>5</td>\n",
       "      <td>74</td>\n",
       "      <td>1</td>\n",
       "      <td>5</td>\n",
       "      <td>?</td>\n",
       "      <td>1</td>\n",
       "    </tr>\n",
       "    <tr>\n",
       "      <th>5</th>\n",
       "      <td>4</td>\n",
       "      <td>65</td>\n",
       "      <td>1</td>\n",
       "      <td>?</td>\n",
       "      <td>3</td>\n",
       "      <td>0</td>\n",
       "    </tr>\n",
       "    <tr>\n",
       "      <th>6</th>\n",
       "      <td>4</td>\n",
       "      <td>70</td>\n",
       "      <td>?</td>\n",
       "      <td>?</td>\n",
       "      <td>3</td>\n",
       "      <td>0</td>\n",
       "    </tr>\n",
       "    <tr>\n",
       "      <th>7</th>\n",
       "      <td>5</td>\n",
       "      <td>42</td>\n",
       "      <td>1</td>\n",
       "      <td>?</td>\n",
       "      <td>3</td>\n",
       "      <td>0</td>\n",
       "    </tr>\n",
       "    <tr>\n",
       "      <th>8</th>\n",
       "      <td>5</td>\n",
       "      <td>57</td>\n",
       "      <td>1</td>\n",
       "      <td>5</td>\n",
       "      <td>3</td>\n",
       "      <td>1</td>\n",
       "    </tr>\n",
       "    <tr>\n",
       "      <th>9</th>\n",
       "      <td>5</td>\n",
       "      <td>60</td>\n",
       "      <td>?</td>\n",
       "      <td>5</td>\n",
       "      <td>1</td>\n",
       "      <td>1</td>\n",
       "    </tr>\n",
       "  </tbody>\n",
       "</table>\n",
       "</div>"
      ],
      "text/plain": [
       "  BI-RADS Age Shape Margin Density  Severity\n",
       "0       5  67     3      5       3         1\n",
       "1       4  43     1      1       ?         1\n",
       "2       5  58     4      5       3         1\n",
       "3       4  28     1      1       3         0\n",
       "4       5  74     1      5       ?         1\n",
       "5       4  65     1      ?       3         0\n",
       "6       4  70     ?      ?       3         0\n",
       "7       5  42     1      ?       3         0\n",
       "8       5  57     1      5       3         1\n",
       "9       5  60     ?      5       1         1"
      ]
     },
     "metadata": {},
     "output_type": "display_data"
    }
   ],
   "source": [
    "url = \"https://raw.githubusercontent.com/javierfernandobotia/AnalisisAvanzadoDatos/main/mammographic.dat\"\n",
    "download = requests.get(url).content\n",
    "data = pd.read_table(io.StringIO(download.decode('utf-8')), # Es importante codificarlo a utf-8\n",
    "                     sep=',',\n",
    "                     decimal=',')\n",
    "\n",
    "display(data.head(10))"
   ]
  },
  {
   "cell_type": "markdown",
   "metadata": {
    "id": "LeK7QBWWAWKs"
   },
   "source": [
    "### Estrategía de Diagnóstico de Datos Faltantes"
   ]
  },
  {
   "cell_type": "code",
   "execution_count": 5,
   "metadata": {
    "colab": {
     "base_uri": "https://localhost:8080/"
    },
    "id": "3sC8gFY4Pwwe",
    "outputId": "d6eaee4b-a63a-4c50-f4bb-0da13507bfd4"
   },
   "outputs": [
    {
     "name": "stdout",
     "output_type": "stream",
     "text": [
      "<class 'pandas.core.frame.DataFrame'>\n",
      "RangeIndex: 961 entries, 0 to 960\n",
      "Data columns (total 6 columns):\n",
      " #   Column    Non-Null Count  Dtype \n",
      "---  ------    --------------  ----- \n",
      " 0   BI-RADS   961 non-null    object\n",
      " 1   Age       961 non-null    object\n",
      " 2   Shape     961 non-null    object\n",
      " 3   Margin    961 non-null    object\n",
      " 4   Density   961 non-null    object\n",
      " 5   Severity  961 non-null    int64 \n",
      "dtypes: int64(1), object(5)\n",
      "memory usage: 45.2+ KB\n"
     ]
    }
   ],
   "source": [
    "data.info()"
   ]
  },
  {
   "cell_type": "markdown",
   "metadata": {
    "id": "k2y7qddAP5ux"
   },
   "source": [
    "**NOTA:** Es importante que el número de muestras de cada característica sea igual al número de muestras o filas de la base de datos original. Sin embargo, este tipo de exploración de datos no garantiza que exista datos faltantes o con caracteres extraños. Por esta razón, se recomienda hacer una exploración exhaustiva de la base de datos."
   ]
  },
  {
   "cell_type": "code",
   "execution_count": 6,
   "metadata": {},
   "outputs": [
    {
     "name": "stdout",
     "output_type": "stream",
     "text": [
      "238 µs ± 1.07 µs per loop (mean ± std. dev. of 7 runs, 1,000 loops each)\n"
     ]
    }
   ],
   "source": [
    "%%timeit\n",
    "l = []\n",
    "for col in data.columns:\n",
    "    l.append(data[col].unique().tolist())"
   ]
  },
  {
   "cell_type": "code",
   "execution_count": 7,
   "metadata": {
    "colab": {
     "base_uri": "https://localhost:8080/",
     "height": 1000
    },
    "id": "cpHUY_VcQCFM",
    "outputId": "506ee58f-e652-4a4a-c2f9-95e3dd0dc87d"
   },
   "outputs": [],
   "source": [
    "\n",
    "BI_RADS = list(data['BI-RADS'].value_counts().index)\n",
    "Age = list(data['Age'].value_counts().index)\n",
    "Shape = list(data['Shape'].value_counts().index)\n",
    "Margin = list(data['Margin'].value_counts().index)\n",
    "Density  = list(data['Density'].value_counts().index)\n",
    "Severity  = list(data['Severity'].value_counts().index)\n",
    "\n",
    "lista = ([[BI_RADS, Age, Shape, Margin, Density, Severity]])"
   ]
  },
  {
   "cell_type": "code",
   "execution_count": 8,
   "metadata": {},
   "outputs": [
    {
     "data": {
      "text/plain": [
       "[[['4', '5', '3', '2', '6', '0', '?'],\n",
       "  ['59',\n",
       "   '67',\n",
       "   '57',\n",
       "   '66',\n",
       "   '46',\n",
       "   '64',\n",
       "   '55',\n",
       "   '60',\n",
       "   '54',\n",
       "   '62',\n",
       "   '65',\n",
       "   '63',\n",
       "   '53',\n",
       "   '49',\n",
       "   '58',\n",
       "   '56',\n",
       "   '71',\n",
       "   '50',\n",
       "   '45',\n",
       "   '43',\n",
       "   '52',\n",
       "   '68',\n",
       "   '42',\n",
       "   '40',\n",
       "   '44',\n",
       "   '72',\n",
       "   '76',\n",
       "   '41',\n",
       "   '51',\n",
       "   '47',\n",
       "   '35',\n",
       "   '61',\n",
       "   '70',\n",
       "   '69',\n",
       "   '74',\n",
       "   '48',\n",
       "   '80',\n",
       "   '39',\n",
       "   '36',\n",
       "   '34',\n",
       "   '77',\n",
       "   '38',\n",
       "   '73',\n",
       "   '33',\n",
       "   '37',\n",
       "   '79',\n",
       "   '31',\n",
       "   '75',\n",
       "   '23',\n",
       "   '27',\n",
       "   '32',\n",
       "   '21',\n",
       "   '83',\n",
       "   '86',\n",
       "   '28',\n",
       "   '?',\n",
       "   '87',\n",
       "   '78',\n",
       "   '85',\n",
       "   '19',\n",
       "   '24',\n",
       "   '84',\n",
       "   '29',\n",
       "   '25',\n",
       "   '30',\n",
       "   '22',\n",
       "   '26',\n",
       "   '81',\n",
       "   '88',\n",
       "   '18',\n",
       "   '82',\n",
       "   '93',\n",
       "   '96',\n",
       "   '20'],\n",
       "  ['4', '1', '2', '3', '?'],\n",
       "  ['1', '4', '5', '3', '?', '2'],\n",
       "  ['3', '?', '2', '1', '4'],\n",
       "  [0, 1]]]"
      ]
     },
     "execution_count": 8,
     "metadata": {},
     "output_type": "execute_result"
    }
   ],
   "source": [
    "lista"
   ]
  },
  {
   "cell_type": "markdown",
   "metadata": {
    "id": "UrOriNTWQwZF"
   },
   "source": [
    "Como se sospechaba, hay datos faltantes \"?\" en varias características de nuestra base de datos. El siguiente paso, es convertir los datos \"?\" en datos \"NaN\" o nulos, con la finalidad de calcular un porcentaje total de datos faltantes de nuestra base de datos"
   ]
  },
  {
   "cell_type": "code",
   "execution_count": 9,
   "metadata": {
    "colab": {
     "base_uri": "https://localhost:8080/"
    },
    "id": "BQuOWdeyQxIL",
    "outputId": "4608d552-10b7-4622-c03d-298ae276d090"
   },
   "outputs": [
    {
     "name": "stdout",
     "output_type": "stream",
     "text": [
      "<class 'pandas.core.frame.DataFrame'>\n",
      "RangeIndex: 961 entries, 0 to 960\n",
      "Data columns (total 6 columns):\n",
      " #   Column    Non-Null Count  Dtype \n",
      "---  ------    --------------  ----- \n",
      " 0   BI-RADS   959 non-null    object\n",
      " 1   Age       956 non-null    object\n",
      " 2   Shape     930 non-null    object\n",
      " 3   Margin    913 non-null    object\n",
      " 4   Density   885 non-null    object\n",
      " 5   Severity  961 non-null    int64 \n",
      "dtypes: int64(1), object(5)\n",
      "memory usage: 45.2+ KB\n"
     ]
    }
   ],
   "source": [
    "data = data.replace('?', np.nan) # Reemplazamos los datos ? por datos NaN o nulos\n",
    "data.info()"
   ]
  },
  {
   "cell_type": "markdown",
   "metadata": {
    "id": "shMmrYTQQ6Ah"
   },
   "source": [
    "Debido al análisis exploratorio exhaustivo, se descubrió que en realidad hay datos faltantes en nuestra base de datos. Vamos a calcular un porcentaje de los datos faltantes de nuestra base de datos."
   ]
  },
  {
   "cell_type": "code",
   "execution_count": 10,
   "metadata": {
    "colab": {
     "base_uri": "https://localhost:8080/",
     "height": 145
    },
    "id": "h0GJB3QZAoU0",
    "outputId": "bcfcf729-ab54-4f50-d0fe-57d17bd2e9cf"
   },
   "outputs": [
    {
     "data": {
      "text/plain": [
       "array([[False, False, False, False, False],\n",
       "       [False, False, False, False,  True],\n",
       "       [False, False, False, False, False],\n",
       "       ...,\n",
       "       [False, False, False, False, False],\n",
       "       [False, False, False, False, False],\n",
       "       [False, False, False, False, False]])"
      ]
     },
     "metadata": {},
     "output_type": "display_data"
    }
   ],
   "source": [
    "Indicador = MissingIndicator(missing_values=np.nan) # Decimos que datos debe buscar como datos faltantes\n",
    "\n",
    "Indicador.fit(data) # Aplicamos el método de búsqueda con nuestra base de datos\n",
    "Datos_Indicador = Indicador.transform(data) # Realizamos una transformación Booleana de los datos para identificar los datos faltantes (True)\n",
    "                                             # y los datos no faltantes (False)\n",
    "display(Datos_Indicador) # Mostramos los resultados de la búsqueda de los datos faltantes y no faltantes"
   ]
  },
  {
   "cell_type": "code",
   "execution_count": 11,
   "metadata": {
    "colab": {
     "base_uri": "https://localhost:8080/"
    },
    "id": "x8T_bmsuQ-s7",
    "outputId": "00cab3d5-3585-40bb-fad6-2d15f6c70c1d"
   },
   "outputs": [
    {
     "name": "stdout",
     "output_type": "stream",
     "text": [
      "Características donde hay datos faltantes:  [0 1 2 3 4]\n"
     ]
    }
   ],
   "source": [
    "print(\"Características donde hay datos faltantes: \", Indicador.features_)"
   ]
  },
  {
   "cell_type": "code",
   "execution_count": 12,
   "metadata": {
    "colab": {
     "base_uri": "https://localhost:8080/"
    },
    "id": "jR6ef7-gRB1L",
    "outputId": "a0d64c16-4cbe-4aa3-c13f-f5a2171ba4f3"
   },
   "outputs": [
    {
     "name": "stdout",
     "output_type": "stream",
     "text": [
      "Porcentaje de Datos Faltantes (%):  3.3714880332986477\n"
     ]
    }
   ],
   "source": [
    "POS = np.where(Datos_Indicador == True) # Se busca aquellos datos que tiene un valor Booleanos igual a True\n",
    "print(\"Porcentaje de Datos Faltantes (%): \", len(POS[0]) / (Datos_Indicador.shape[0] * Datos_Indicador.shape[1]) * 100)"
   ]
  },
  {
   "cell_type": "markdown",
   "metadata": {
    "id": "j6s62pfiRIMi"
   },
   "source": [
    "Lo anterior indica que hay 3.37 % de datos faltantes. Ahora viene la siguiente pregunta: ¿Cómo rellenar los datos faltantes?. La principal estrategía es la **Imputación de datos**"
   ]
  },
  {
   "cell_type": "markdown",
   "metadata": {
    "id": "qQH8WEcwAdY2"
   },
   "source": [
    "### Imputación Simple"
   ]
  },
  {
   "cell_type": "markdown",
   "metadata": {
    "id": "FLOpMAk1Rb9Q"
   },
   "source": [
    "#### Imputación de la media"
   ]
  },
  {
   "cell_type": "markdown",
   "metadata": {
    "id": "rKp1itpeRfWC"
   },
   "source": [
    "Es un método que sustituye los valores faltantes por el valor promedio de cada característica de los datos. A continuación, se muestra un ejemplo práctico:"
   ]
  },
  {
   "cell_type": "code",
   "execution_count": 13,
   "metadata": {
    "colab": {
     "base_uri": "https://localhost:8080/",
     "height": 423
    },
    "id": "EzQi8f2AAnLg",
    "outputId": "8ef9801c-12ba-4bd2-db93-cb21a882474d"
   },
   "outputs": [
    {
     "data": {
      "text/html": [
       "<div>\n",
       "<style scoped>\n",
       "    .dataframe tbody tr th:only-of-type {\n",
       "        vertical-align: middle;\n",
       "    }\n",
       "\n",
       "    .dataframe tbody tr th {\n",
       "        vertical-align: top;\n",
       "    }\n",
       "\n",
       "    .dataframe thead th {\n",
       "        text-align: right;\n",
       "    }\n",
       "</style>\n",
       "<table border=\"1\" class=\"dataframe\">\n",
       "  <thead>\n",
       "    <tr style=\"text-align: right;\">\n",
       "      <th></th>\n",
       "      <th>BI-RADS</th>\n",
       "      <th>Age</th>\n",
       "      <th>Shape</th>\n",
       "      <th>Margin</th>\n",
       "      <th>Density</th>\n",
       "      <th>Severity</th>\n",
       "    </tr>\n",
       "  </thead>\n",
       "  <tbody>\n",
       "    <tr>\n",
       "      <th>0</th>\n",
       "      <td>5.0</td>\n",
       "      <td>67.0</td>\n",
       "      <td>3.0</td>\n",
       "      <td>5.0</td>\n",
       "      <td>3.000000</td>\n",
       "      <td>1.0</td>\n",
       "    </tr>\n",
       "    <tr>\n",
       "      <th>1</th>\n",
       "      <td>4.0</td>\n",
       "      <td>43.0</td>\n",
       "      <td>1.0</td>\n",
       "      <td>1.0</td>\n",
       "      <td>2.910734</td>\n",
       "      <td>1.0</td>\n",
       "    </tr>\n",
       "    <tr>\n",
       "      <th>2</th>\n",
       "      <td>5.0</td>\n",
       "      <td>58.0</td>\n",
       "      <td>4.0</td>\n",
       "      <td>5.0</td>\n",
       "      <td>3.000000</td>\n",
       "      <td>1.0</td>\n",
       "    </tr>\n",
       "    <tr>\n",
       "      <th>3</th>\n",
       "      <td>4.0</td>\n",
       "      <td>28.0</td>\n",
       "      <td>1.0</td>\n",
       "      <td>1.0</td>\n",
       "      <td>3.000000</td>\n",
       "      <td>0.0</td>\n",
       "    </tr>\n",
       "    <tr>\n",
       "      <th>4</th>\n",
       "      <td>5.0</td>\n",
       "      <td>74.0</td>\n",
       "      <td>1.0</td>\n",
       "      <td>5.0</td>\n",
       "      <td>2.910734</td>\n",
       "      <td>1.0</td>\n",
       "    </tr>\n",
       "    <tr>\n",
       "      <th>...</th>\n",
       "      <td>...</td>\n",
       "      <td>...</td>\n",
       "      <td>...</td>\n",
       "      <td>...</td>\n",
       "      <td>...</td>\n",
       "      <td>...</td>\n",
       "    </tr>\n",
       "    <tr>\n",
       "      <th>956</th>\n",
       "      <td>4.0</td>\n",
       "      <td>47.0</td>\n",
       "      <td>2.0</td>\n",
       "      <td>1.0</td>\n",
       "      <td>3.000000</td>\n",
       "      <td>0.0</td>\n",
       "    </tr>\n",
       "    <tr>\n",
       "      <th>957</th>\n",
       "      <td>4.0</td>\n",
       "      <td>56.0</td>\n",
       "      <td>4.0</td>\n",
       "      <td>5.0</td>\n",
       "      <td>3.000000</td>\n",
       "      <td>1.0</td>\n",
       "    </tr>\n",
       "    <tr>\n",
       "      <th>958</th>\n",
       "      <td>4.0</td>\n",
       "      <td>64.0</td>\n",
       "      <td>4.0</td>\n",
       "      <td>5.0</td>\n",
       "      <td>3.000000</td>\n",
       "      <td>0.0</td>\n",
       "    </tr>\n",
       "    <tr>\n",
       "      <th>959</th>\n",
       "      <td>5.0</td>\n",
       "      <td>66.0</td>\n",
       "      <td>4.0</td>\n",
       "      <td>5.0</td>\n",
       "      <td>3.000000</td>\n",
       "      <td>1.0</td>\n",
       "    </tr>\n",
       "    <tr>\n",
       "      <th>960</th>\n",
       "      <td>4.0</td>\n",
       "      <td>62.0</td>\n",
       "      <td>3.0</td>\n",
       "      <td>3.0</td>\n",
       "      <td>3.000000</td>\n",
       "      <td>0.0</td>\n",
       "    </tr>\n",
       "  </tbody>\n",
       "</table>\n",
       "<p>961 rows × 6 columns</p>\n",
       "</div>"
      ],
      "text/plain": [
       "     BI-RADS   Age  Shape  Margin   Density  Severity\n",
       "0        5.0  67.0    3.0     5.0  3.000000       1.0\n",
       "1        4.0  43.0    1.0     1.0  2.910734       1.0\n",
       "2        5.0  58.0    4.0     5.0  3.000000       1.0\n",
       "3        4.0  28.0    1.0     1.0  3.000000       0.0\n",
       "4        5.0  74.0    1.0     5.0  2.910734       1.0\n",
       "..       ...   ...    ...     ...       ...       ...\n",
       "956      4.0  47.0    2.0     1.0  3.000000       0.0\n",
       "957      4.0  56.0    4.0     5.0  3.000000       1.0\n",
       "958      4.0  64.0    4.0     5.0  3.000000       0.0\n",
       "959      5.0  66.0    4.0     5.0  3.000000       1.0\n",
       "960      4.0  62.0    3.0     3.0  3.000000       0.0\n",
       "\n",
       "[961 rows x 6 columns]"
      ]
     },
     "metadata": {},
     "output_type": "display_data"
    }
   ],
   "source": [
    "imp = SimpleImputer(missing_values=np.nan, \n",
    "                    strategy='mean') # Rellena los datos NaN por medio del cálculo de la media\n",
    "\n",
    "imp.fit(data) # Aplicamos el método con los datos\n",
    "\n",
    "Datos_Imputacion_Media = imp.transform(data) # Realizamos la imputación de la media con nuestros datos\n",
    "\n",
    "nombres = data.columns # Extraer los nombres de las columnas\n",
    "Datos_Imputacion_Media = pd.DataFrame(Datos_Imputacion_Media, \n",
    "                                      columns=nombres)\n",
    "\n",
    "display(Datos_Imputacion_Media)"
   ]
  },
  {
   "cell_type": "code",
   "execution_count": 14,
   "metadata": {
    "colab": {
     "base_uri": "https://localhost:8080/"
    },
    "id": "H-WN63CxSAz0",
    "outputId": "cd63433b-0742-4811-bd91-99cd4665102c"
   },
   "outputs": [
    {
     "name": "stdout",
     "output_type": "stream",
     "text": [
      "<class 'pandas.core.frame.DataFrame'>\n",
      "RangeIndex: 961 entries, 0 to 960\n",
      "Data columns (total 6 columns):\n",
      " #   Column    Non-Null Count  Dtype  \n",
      "---  ------    --------------  -----  \n",
      " 0   BI-RADS   961 non-null    float64\n",
      " 1   Age       961 non-null    float64\n",
      " 2   Shape     961 non-null    float64\n",
      " 3   Margin    961 non-null    float64\n",
      " 4   Density   961 non-null    float64\n",
      " 5   Severity  961 non-null    float64\n",
      "dtypes: float64(6)\n",
      "memory usage: 45.2 KB\n"
     ]
    }
   ],
   "source": [
    "Datos_Imputacion_Media.info()"
   ]
  },
  {
   "cell_type": "markdown",
   "metadata": {
    "id": "DkdsoElpSEGA"
   },
   "source": [
    "Como se puede observar, se logró rellenar los datos faltantes y el tipo de dato ahora es Float 64 bits, logrando reducir un poco el uso de memoría para almacenar los datos."
   ]
  },
  {
   "cell_type": "markdown",
   "metadata": {
    "id": "jBOHHXFGSICz"
   },
   "source": [
    "#### Imputación de la mediana"
   ]
  },
  {
   "cell_type": "markdown",
   "metadata": {
    "id": "tyoudPsZSNO6"
   },
   "source": [
    "Es un método que sustituye los valores faltantes por el valor de la mediana de cada característica de los datos. A continuación, se muestra un ejemplo práctico:"
   ]
  },
  {
   "cell_type": "code",
   "execution_count": 15,
   "metadata": {
    "colab": {
     "base_uri": "https://localhost:8080/",
     "height": 423
    },
    "id": "r0Zb8D9ESLVr",
    "outputId": "b92ab35a-0943-405b-89bb-428bc60d0aeb"
   },
   "outputs": [
    {
     "data": {
      "text/html": [
       "<div>\n",
       "<style scoped>\n",
       "    .dataframe tbody tr th:only-of-type {\n",
       "        vertical-align: middle;\n",
       "    }\n",
       "\n",
       "    .dataframe tbody tr th {\n",
       "        vertical-align: top;\n",
       "    }\n",
       "\n",
       "    .dataframe thead th {\n",
       "        text-align: right;\n",
       "    }\n",
       "</style>\n",
       "<table border=\"1\" class=\"dataframe\">\n",
       "  <thead>\n",
       "    <tr style=\"text-align: right;\">\n",
       "      <th></th>\n",
       "      <th>BI-RADS</th>\n",
       "      <th>Age</th>\n",
       "      <th>Shape</th>\n",
       "      <th>Margin</th>\n",
       "      <th>Density</th>\n",
       "      <th>Severity</th>\n",
       "    </tr>\n",
       "  </thead>\n",
       "  <tbody>\n",
       "    <tr>\n",
       "      <th>0</th>\n",
       "      <td>5.0</td>\n",
       "      <td>67.0</td>\n",
       "      <td>3.0</td>\n",
       "      <td>5.0</td>\n",
       "      <td>3.0</td>\n",
       "      <td>1.0</td>\n",
       "    </tr>\n",
       "    <tr>\n",
       "      <th>1</th>\n",
       "      <td>4.0</td>\n",
       "      <td>43.0</td>\n",
       "      <td>1.0</td>\n",
       "      <td>1.0</td>\n",
       "      <td>3.0</td>\n",
       "      <td>1.0</td>\n",
       "    </tr>\n",
       "    <tr>\n",
       "      <th>2</th>\n",
       "      <td>5.0</td>\n",
       "      <td>58.0</td>\n",
       "      <td>4.0</td>\n",
       "      <td>5.0</td>\n",
       "      <td>3.0</td>\n",
       "      <td>1.0</td>\n",
       "    </tr>\n",
       "    <tr>\n",
       "      <th>3</th>\n",
       "      <td>4.0</td>\n",
       "      <td>28.0</td>\n",
       "      <td>1.0</td>\n",
       "      <td>1.0</td>\n",
       "      <td>3.0</td>\n",
       "      <td>0.0</td>\n",
       "    </tr>\n",
       "    <tr>\n",
       "      <th>4</th>\n",
       "      <td>5.0</td>\n",
       "      <td>74.0</td>\n",
       "      <td>1.0</td>\n",
       "      <td>5.0</td>\n",
       "      <td>3.0</td>\n",
       "      <td>1.0</td>\n",
       "    </tr>\n",
       "    <tr>\n",
       "      <th>...</th>\n",
       "      <td>...</td>\n",
       "      <td>...</td>\n",
       "      <td>...</td>\n",
       "      <td>...</td>\n",
       "      <td>...</td>\n",
       "      <td>...</td>\n",
       "    </tr>\n",
       "    <tr>\n",
       "      <th>956</th>\n",
       "      <td>4.0</td>\n",
       "      <td>47.0</td>\n",
       "      <td>2.0</td>\n",
       "      <td>1.0</td>\n",
       "      <td>3.0</td>\n",
       "      <td>0.0</td>\n",
       "    </tr>\n",
       "    <tr>\n",
       "      <th>957</th>\n",
       "      <td>4.0</td>\n",
       "      <td>56.0</td>\n",
       "      <td>4.0</td>\n",
       "      <td>5.0</td>\n",
       "      <td>3.0</td>\n",
       "      <td>1.0</td>\n",
       "    </tr>\n",
       "    <tr>\n",
       "      <th>958</th>\n",
       "      <td>4.0</td>\n",
       "      <td>64.0</td>\n",
       "      <td>4.0</td>\n",
       "      <td>5.0</td>\n",
       "      <td>3.0</td>\n",
       "      <td>0.0</td>\n",
       "    </tr>\n",
       "    <tr>\n",
       "      <th>959</th>\n",
       "      <td>5.0</td>\n",
       "      <td>66.0</td>\n",
       "      <td>4.0</td>\n",
       "      <td>5.0</td>\n",
       "      <td>3.0</td>\n",
       "      <td>1.0</td>\n",
       "    </tr>\n",
       "    <tr>\n",
       "      <th>960</th>\n",
       "      <td>4.0</td>\n",
       "      <td>62.0</td>\n",
       "      <td>3.0</td>\n",
       "      <td>3.0</td>\n",
       "      <td>3.0</td>\n",
       "      <td>0.0</td>\n",
       "    </tr>\n",
       "  </tbody>\n",
       "</table>\n",
       "<p>961 rows × 6 columns</p>\n",
       "</div>"
      ],
      "text/plain": [
       "     BI-RADS   Age  Shape  Margin  Density  Severity\n",
       "0        5.0  67.0    3.0     5.0      3.0       1.0\n",
       "1        4.0  43.0    1.0     1.0      3.0       1.0\n",
       "2        5.0  58.0    4.0     5.0      3.0       1.0\n",
       "3        4.0  28.0    1.0     1.0      3.0       0.0\n",
       "4        5.0  74.0    1.0     5.0      3.0       1.0\n",
       "..       ...   ...    ...     ...      ...       ...\n",
       "956      4.0  47.0    2.0     1.0      3.0       0.0\n",
       "957      4.0  56.0    4.0     5.0      3.0       1.0\n",
       "958      4.0  64.0    4.0     5.0      3.0       0.0\n",
       "959      5.0  66.0    4.0     5.0      3.0       1.0\n",
       "960      4.0  62.0    3.0     3.0      3.0       0.0\n",
       "\n",
       "[961 rows x 6 columns]"
      ]
     },
     "metadata": {},
     "output_type": "display_data"
    }
   ],
   "source": [
    "imp_2 = SimpleImputer(missing_values=np.nan, \n",
    "                      strategy='median') # Rellena los datos NaN por medio del cálculo de la mediana\n",
    "\n",
    "imp_2.fit(data)\n",
    "\n",
    "Datos_Imputacion_Mediana = imp_2.transform(data)\n",
    "\n",
    "nombres = data.columns\n",
    "Datos_Imputacion_Mediana = pd.DataFrame(Datos_Imputacion_Mediana, \n",
    "                                        columns=nombres)\n",
    "\n",
    "display(Datos_Imputacion_Mediana)"
   ]
  },
  {
   "cell_type": "code",
   "execution_count": 16,
   "metadata": {
    "colab": {
     "base_uri": "https://localhost:8080/"
    },
    "id": "GJZND0ldSZ6_",
    "outputId": "8d2320ea-5d91-49cd-bee5-ac302bddefa0"
   },
   "outputs": [
    {
     "name": "stdout",
     "output_type": "stream",
     "text": [
      "<class 'pandas.core.frame.DataFrame'>\n",
      "RangeIndex: 961 entries, 0 to 960\n",
      "Data columns (total 6 columns):\n",
      " #   Column    Non-Null Count  Dtype  \n",
      "---  ------    --------------  -----  \n",
      " 0   BI-RADS   961 non-null    float64\n",
      " 1   Age       961 non-null    float64\n",
      " 2   Shape     961 non-null    float64\n",
      " 3   Margin    961 non-null    float64\n",
      " 4   Density   961 non-null    float64\n",
      " 5   Severity  961 non-null    float64\n",
      "dtypes: float64(6)\n",
      "memory usage: 45.2 KB\n"
     ]
    }
   ],
   "source": [
    "Datos_Imputacion_Mediana.info()"
   ]
  },
  {
   "cell_type": "markdown",
   "metadata": {
    "id": "mDZvRfpFSchW"
   },
   "source": [
    "#### Imputación con los datos más frecuentes"
   ]
  },
  {
   "cell_type": "markdown",
   "metadata": {
    "id": "y_jQupi6SiTf"
   },
   "source": [
    "Es un método que reemplaza los valores faltantes por los valores más frecuentes de cada características de los datos. A continuación, se muestra un ejemplo práctico:"
   ]
  },
  {
   "cell_type": "code",
   "execution_count": 17,
   "metadata": {
    "colab": {
     "base_uri": "https://localhost:8080/",
     "height": 423
    },
    "id": "lp4YnBjVSgv8",
    "outputId": "5ef901c6-c791-4aa9-d702-bcc19082fc79"
   },
   "outputs": [
    {
     "data": {
      "text/html": [
       "<div>\n",
       "<style scoped>\n",
       "    .dataframe tbody tr th:only-of-type {\n",
       "        vertical-align: middle;\n",
       "    }\n",
       "\n",
       "    .dataframe tbody tr th {\n",
       "        vertical-align: top;\n",
       "    }\n",
       "\n",
       "    .dataframe thead th {\n",
       "        text-align: right;\n",
       "    }\n",
       "</style>\n",
       "<table border=\"1\" class=\"dataframe\">\n",
       "  <thead>\n",
       "    <tr style=\"text-align: right;\">\n",
       "      <th></th>\n",
       "      <th>BI-RADS</th>\n",
       "      <th>Age</th>\n",
       "      <th>Shape</th>\n",
       "      <th>Margin</th>\n",
       "      <th>Density</th>\n",
       "      <th>Severity</th>\n",
       "    </tr>\n",
       "  </thead>\n",
       "  <tbody>\n",
       "    <tr>\n",
       "      <th>0</th>\n",
       "      <td>5</td>\n",
       "      <td>67</td>\n",
       "      <td>3</td>\n",
       "      <td>5</td>\n",
       "      <td>3</td>\n",
       "      <td>1</td>\n",
       "    </tr>\n",
       "    <tr>\n",
       "      <th>1</th>\n",
       "      <td>4</td>\n",
       "      <td>43</td>\n",
       "      <td>1</td>\n",
       "      <td>1</td>\n",
       "      <td>3</td>\n",
       "      <td>1</td>\n",
       "    </tr>\n",
       "    <tr>\n",
       "      <th>2</th>\n",
       "      <td>5</td>\n",
       "      <td>58</td>\n",
       "      <td>4</td>\n",
       "      <td>5</td>\n",
       "      <td>3</td>\n",
       "      <td>1</td>\n",
       "    </tr>\n",
       "    <tr>\n",
       "      <th>3</th>\n",
       "      <td>4</td>\n",
       "      <td>28</td>\n",
       "      <td>1</td>\n",
       "      <td>1</td>\n",
       "      <td>3</td>\n",
       "      <td>0</td>\n",
       "    </tr>\n",
       "    <tr>\n",
       "      <th>4</th>\n",
       "      <td>5</td>\n",
       "      <td>74</td>\n",
       "      <td>1</td>\n",
       "      <td>5</td>\n",
       "      <td>3</td>\n",
       "      <td>1</td>\n",
       "    </tr>\n",
       "    <tr>\n",
       "      <th>...</th>\n",
       "      <td>...</td>\n",
       "      <td>...</td>\n",
       "      <td>...</td>\n",
       "      <td>...</td>\n",
       "      <td>...</td>\n",
       "      <td>...</td>\n",
       "    </tr>\n",
       "    <tr>\n",
       "      <th>956</th>\n",
       "      <td>4</td>\n",
       "      <td>47</td>\n",
       "      <td>2</td>\n",
       "      <td>1</td>\n",
       "      <td>3</td>\n",
       "      <td>0</td>\n",
       "    </tr>\n",
       "    <tr>\n",
       "      <th>957</th>\n",
       "      <td>4</td>\n",
       "      <td>56</td>\n",
       "      <td>4</td>\n",
       "      <td>5</td>\n",
       "      <td>3</td>\n",
       "      <td>1</td>\n",
       "    </tr>\n",
       "    <tr>\n",
       "      <th>958</th>\n",
       "      <td>4</td>\n",
       "      <td>64</td>\n",
       "      <td>4</td>\n",
       "      <td>5</td>\n",
       "      <td>3</td>\n",
       "      <td>0</td>\n",
       "    </tr>\n",
       "    <tr>\n",
       "      <th>959</th>\n",
       "      <td>5</td>\n",
       "      <td>66</td>\n",
       "      <td>4</td>\n",
       "      <td>5</td>\n",
       "      <td>3</td>\n",
       "      <td>1</td>\n",
       "    </tr>\n",
       "    <tr>\n",
       "      <th>960</th>\n",
       "      <td>4</td>\n",
       "      <td>62</td>\n",
       "      <td>3</td>\n",
       "      <td>3</td>\n",
       "      <td>3</td>\n",
       "      <td>0</td>\n",
       "    </tr>\n",
       "  </tbody>\n",
       "</table>\n",
       "<p>961 rows × 6 columns</p>\n",
       "</div>"
      ],
      "text/plain": [
       "    BI-RADS Age Shape Margin Density Severity\n",
       "0         5  67     3      5       3        1\n",
       "1         4  43     1      1       3        1\n",
       "2         5  58     4      5       3        1\n",
       "3         4  28     1      1       3        0\n",
       "4         5  74     1      5       3        1\n",
       "..      ...  ..   ...    ...     ...      ...\n",
       "956       4  47     2      1       3        0\n",
       "957       4  56     4      5       3        1\n",
       "958       4  64     4      5       3        0\n",
       "959       5  66     4      5       3        1\n",
       "960       4  62     3      3       3        0\n",
       "\n",
       "[961 rows x 6 columns]"
      ]
     },
     "metadata": {},
     "output_type": "display_data"
    }
   ],
   "source": [
    "imp_3 = SimpleImputer(missing_values=np.nan, \n",
    "                      strategy='most_frequent') # Rellena los datos NaN por medio del cálculo de los valores más frecuentes\n",
    "\n",
    "imp_3.fit(data)\n",
    "\n",
    "Datos_Imputacion_Frecuente = imp_3.transform(data)\n",
    "\n",
    "nombres = data.columns\n",
    "Datos_Imputacion_Frecuente = pd.DataFrame(Datos_Imputacion_Frecuente, \n",
    "                                          columns=nombres)\n",
    "\n",
    "display(Datos_Imputacion_Frecuente)"
   ]
  },
  {
   "cell_type": "code",
   "execution_count": 18,
   "metadata": {
    "colab": {
     "base_uri": "https://localhost:8080/"
    },
    "id": "mYDyzsjqSvRo",
    "outputId": "1ee00210-995a-4151-acf1-19633bd40ee7"
   },
   "outputs": [
    {
     "name": "stdout",
     "output_type": "stream",
     "text": [
      "<class 'pandas.core.frame.DataFrame'>\n",
      "RangeIndex: 961 entries, 0 to 960\n",
      "Data columns (total 6 columns):\n",
      " #   Column    Non-Null Count  Dtype \n",
      "---  ------    --------------  ----- \n",
      " 0   BI-RADS   961 non-null    object\n",
      " 1   Age       961 non-null    object\n",
      " 2   Shape     961 non-null    object\n",
      " 3   Margin    961 non-null    object\n",
      " 4   Density   961 non-null    object\n",
      " 5   Severity  961 non-null    object\n",
      "dtypes: object(6)\n",
      "memory usage: 45.2+ KB\n"
     ]
    }
   ],
   "source": [
    "Datos_Imputacion_Frecuente.info()"
   ]
  },
  {
   "cell_type": "markdown",
   "metadata": {
    "id": "5OQ2GqoJSyxc"
   },
   "source": [
    "Como pueden observar, este método genera que cada característica de los datos sea tipo **object** pero es mejor convertirlo a datos enteros o datos tipo flotante para manipular mejor los datos."
   ]
  },
  {
   "cell_type": "code",
   "execution_count": 19,
   "metadata": {
    "colab": {
     "base_uri": "https://localhost:8080/"
    },
    "id": "NNF2umLISzYR",
    "outputId": "39af3c67-5556-453d-b40b-8938687bdc2f"
   },
   "outputs": [
    {
     "name": "stdout",
     "output_type": "stream",
     "text": [
      "<class 'pandas.core.frame.DataFrame'>\n",
      "RangeIndex: 961 entries, 0 to 960\n",
      "Data columns (total 6 columns):\n",
      " #   Column    Non-Null Count  Dtype  \n",
      "---  ------    --------------  -----  \n",
      " 0   BI-RADS   961 non-null    float32\n",
      " 1   Age       961 non-null    float32\n",
      " 2   Shape     961 non-null    float32\n",
      " 3   Margin    961 non-null    float32\n",
      " 4   Density   961 non-null    float32\n",
      " 5   Severity  961 non-null    float32\n",
      "dtypes: float32(6)\n",
      "memory usage: 22.6 KB\n"
     ]
    },
    {
     "name": "stderr",
     "output_type": "stream",
     "text": [
      "C:\\Users\\mdmgu\\AppData\\Local\\Temp\\ipykernel_18848\\414817515.py:2: FutureWarning: In a future version, `df.iloc[:, i] = newvals` will attempt to set the values inplace instead of always setting a new array. To retain the old behavior, use either `df[df.columns[i]] = newvals` or, if columns are non-unique, `df.isetitem(i, newvals)`\n",
      "  Datos_Imputacion_Frecuente.iloc[:, i] = pd.to_numeric(Datos_Imputacion_Frecuente.iloc[:, i],\n"
     ]
    }
   ],
   "source": [
    "for i in range(len(Datos_Imputacion_Frecuente.columns)):\n",
    "    Datos_Imputacion_Frecuente.iloc[:, i] = pd.to_numeric(Datos_Imputacion_Frecuente.iloc[:, i],\n",
    "                                                          errors='ignore', \n",
    "                                                          downcast='float')\n",
    "    \n",
    "Datos_Imputacion_Frecuente.info()"
   ]
  },
  {
   "cell_type": "code",
   "execution_count": 20,
   "metadata": {},
   "outputs": [
    {
     "name": "stdout",
     "output_type": "stream",
     "text": [
      "<class 'pandas.core.frame.DataFrame'>\n",
      "RangeIndex: 961 entries, 0 to 960\n",
      "Data columns (total 6 columns):\n",
      " #   Column    Non-Null Count  Dtype  \n",
      "---  ------    --------------  -----  \n",
      " 0   BI-RADS   961 non-null    float64\n",
      " 1   Age       961 non-null    float64\n",
      " 2   Shape     961 non-null    float64\n",
      " 3   Margin    961 non-null    float64\n",
      " 4   Density   961 non-null    float64\n",
      " 5   Severity  961 non-null    float64\n",
      "dtypes: float64(6)\n",
      "memory usage: 45.2 KB\n"
     ]
    }
   ],
   "source": [
    "dic = {col: 'float64' for col in Datos_Imputacion_Frecuente.columns}\n",
    "Datos_Imputacion_Frecuente = Datos_Imputacion_Frecuente.astype(dic)\n",
    "\n",
    "Datos_Imputacion_Frecuente.info()"
   ]
  },
  {
   "cell_type": "markdown",
   "metadata": {
    "id": "rU9tQ_x1S-oT"
   },
   "source": [
    "Observen que esta estretegia reduce aún más el uso de memoría - Una pequeña Ñapa de la experiencia :) "
   ]
  },
  {
   "cell_type": "markdown",
   "metadata": {
    "id": "8xtCP9q_Agpv"
   },
   "source": [
    "### Imputación con el Algoritmo de los Vecinos más Cercanos"
   ]
  },
  {
   "cell_type": "markdown",
   "metadata": {
    "id": "Xljd7frXTFnS"
   },
   "source": [
    "Es un método de imputación basado en el algoritmo de los vecinos más cercanos o KNN. Este método rellena los valores faltantes por medio de un cálculo de la distancia euclidiana de los vecinos más cercanos y a cada característica, se imputa los valores faltantes a través de un promedio uniforme. Sin embargo, si a cada característica le falta más de un valor, los vecinos para esa muestra pueden ser diferentes dependiendo de la característica particular que se imputa. Es importante tener en cuenta que si el número de vecinos que define el usuario es menor al número de vecinos que se puede determinar en los datos, y además que no hay distancias euclidianas que se puedan calcular, la imputación se realiza por un promedio de los valores existentes (como en la imputación por la media). En caso que hay al menos un vecino con distancia calculada, se aplica un promedio ponderado o no ponderado con los vecinos restantes."
   ]
  },
  {
   "cell_type": "code",
   "execution_count": 21,
   "metadata": {},
   "outputs": [
    {
     "name": "stdout",
     "output_type": "stream",
     "text": [
      "promedio de los datos 5.028571428571429\n",
      "promedo de las distancias [1.17142857 1.52857143 0.72857143 1.82857143 1.67142857 1.77142857\n",
      " 0.52857143]\n"
     ]
    }
   ],
   "source": [
    "arr = [6.2, 3.5, 4.3, 3.2, 6.7, 6.8, 4.5]\n",
    "print('promedio de los datos', np.mean(arr))\n",
    "print('promedo de las distancias', (np.abs(np.array(arr) - np.mean(arr))))"
   ]
  },
  {
   "cell_type": "code",
   "execution_count": 22,
   "metadata": {
    "id": "gdgR0rqfAnqC"
   },
   "outputs": [],
   "source": [
    "imp_4 = KNNImputer(missing_values=np.nan, \n",
    "                   n_neighbors=5, \n",
    "                   weights= \"uniform\") # pdf uniforme P = Na/N \n",
    "\n",
    "# Imputación por el algoritmo KNN con 5 vecinos y promedio uniforme.\n",
    "imp_4.fit(data)\n",
    "\n",
    "Datos_Imputacion_KNN_1 = imp_4.transform(data)"
   ]
  },
  {
   "cell_type": "code",
   "execution_count": 23,
   "metadata": {
    "id": "NS2aPml9VFdN"
   },
   "outputs": [],
   "source": [
    "imp_5 = KNNImputer(missing_values=np.nan, \n",
    "                   n_neighbors=5, \n",
    "                   weights=\"distance\") # distancia Euclidiana\n",
    "\n",
    "# Imputación por el algoritmo KNN con 5 vecinos y promedio ponderado donde \n",
    "# los vecinos más cercanos de un valor tendrán una mayor influencia que los vecinos que están más lejos.\n",
    "imp_5.fit(data)\n",
    "\n",
    "Datos_Imputacion_KNN_2 = imp_5.transform(data)"
   ]
  },
  {
   "cell_type": "code",
   "execution_count": 24,
   "metadata": {
    "id": "_XsLMG4aVQLl"
   },
   "outputs": [],
   "source": [
    "Datos_Imputacion_KNN_1 = pd.DataFrame(Datos_Imputacion_KNN_1, columns=nombres)\n",
    "Datos_Imputacion_KNN_2 = pd.DataFrame(Datos_Imputacion_KNN_2, columns=nombres)"
   ]
  },
  {
   "cell_type": "code",
   "execution_count": 25,
   "metadata": {
    "colab": {
     "base_uri": "https://localhost:8080/"
    },
    "id": "9x_LGBeRVTC0",
    "outputId": "1d2f1334-7b2c-4a0b-e43a-0ca7e4fc59b4"
   },
   "outputs": [
    {
     "name": "stdout",
     "output_type": "stream",
     "text": [
      "<class 'pandas.core.frame.DataFrame'>\n",
      "RangeIndex: 961 entries, 0 to 960\n",
      "Data columns (total 6 columns):\n",
      " #   Column    Non-Null Count  Dtype  \n",
      "---  ------    --------------  -----  \n",
      " 0   BI-RADS   961 non-null    float64\n",
      " 1   Age       961 non-null    float64\n",
      " 2   Shape     961 non-null    float64\n",
      " 3   Margin    961 non-null    float64\n",
      " 4   Density   961 non-null    float64\n",
      " 5   Severity  961 non-null    float64\n",
      "dtypes: float64(6)\n",
      "memory usage: 45.2 KB\n"
     ]
    }
   ],
   "source": [
    "Datos_Imputacion_KNN_1.info()"
   ]
  },
  {
   "cell_type": "code",
   "execution_count": 26,
   "metadata": {
    "colab": {
     "base_uri": "https://localhost:8080/"
    },
    "id": "1EC0l_OMVUXN",
    "outputId": "309d9ff2-b4ee-4f8c-8620-7fb860e30f17"
   },
   "outputs": [
    {
     "name": "stdout",
     "output_type": "stream",
     "text": [
      "<class 'pandas.core.frame.DataFrame'>\n",
      "RangeIndex: 961 entries, 0 to 960\n",
      "Data columns (total 6 columns):\n",
      " #   Column    Non-Null Count  Dtype  \n",
      "---  ------    --------------  -----  \n",
      " 0   BI-RADS   961 non-null    float64\n",
      " 1   Age       961 non-null    float64\n",
      " 2   Shape     961 non-null    float64\n",
      " 3   Margin    961 non-null    float64\n",
      " 4   Density   961 non-null    float64\n",
      " 5   Severity  961 non-null    float64\n",
      "dtypes: float64(6)\n",
      "memory usage: 45.2 KB\n"
     ]
    }
   ],
   "source": [
    "Datos_Imputacion_KNN_2.info()"
   ]
  },
  {
   "cell_type": "markdown",
   "metadata": {
    "id": "HmHcQGgsVYp3"
   },
   "source": [
    "**Nota:** Se sugiere usar un número de vecinos más cercanos en valores impares, es decir, $\\lbrace 3, 5, 7, 9, 11, 13, \\ldots \\rbrace$. Sugiero hacer una lectura del siguiente Blog que explica en detalle esta recomendación: \\url{https://machinelearningmastery.com/k-nearest-neighbors-for-machine-learning/}"
   ]
  },
  {
   "cell_type": "markdown",
   "metadata": {
    "id": "HthOoxRbVZYv"
   },
   "source": [
    "Hasta este punto, tenemos cuatro estrategías para imputar datos, pero, ¿Cúal seleccionamos para seguir con nuestra exploración de datos?. Si analizamos los datos, todos los datos son enteros positivos, por consiguiente, la imputación de la media no se seleccionaría porque genere datos rellenados con valores reales o con decimales en el lenguaje común. Por consiguiente, se seleccionará los datos con imputación a la mediana porque los datos son enteros positivos, aunque los otros métodos como los datos más frecuentes o KNN genera valores enteros positivos. El criterio de selección depende del analizador de datos."
   ]
  },
  {
   "cell_type": "markdown",
   "metadata": {
    "id": "dd0SAQpNmDi6"
   },
   "source": [
    "## Escalamiento de Datos"
   ]
  },
  {
   "cell_type": "markdown",
   "metadata": {
    "id": "PR31rYOPmhuS"
   },
   "source": [
    "Por lo general, el escalamiento de datos es un conjunto de transformaciones de los datos tal que reduce la sensibilidad de la escala de entrada de los modelos de machine learning. Inicialmente, vamos a analizar dos transformaciones matemáticas: **escalamiento estándar** y **escalamiento robusto**. Más adelante, se explicará un caso especial del escalamiento de datos llamado **normalización de datos**, donde vamos a conocer cuatro transformaciones para normalizar. Lo anterior permite establecer que la normalización es un *caso especial* del escalamiento de datos."
   ]
  },
  {
   "cell_type": "code",
   "execution_count": 27,
   "metadata": {
    "colab": {
     "base_uri": "https://localhost:8080/",
     "height": 676
    },
    "id": "5Gaa3Hj1mHH1",
    "outputId": "4f336943-4ca7-470c-f4a1-0dd8d294767a"
   },
   "outputs": [
    {
     "data": {
      "text/html": [
       "<div>\n",
       "<style scoped>\n",
       "    .dataframe tbody tr th:only-of-type {\n",
       "        vertical-align: middle;\n",
       "    }\n",
       "\n",
       "    .dataframe tbody tr th {\n",
       "        vertical-align: top;\n",
       "    }\n",
       "\n",
       "    .dataframe thead th {\n",
       "        text-align: right;\n",
       "    }\n",
       "</style>\n",
       "<table border=\"1\" class=\"dataframe\">\n",
       "  <thead>\n",
       "    <tr style=\"text-align: right;\">\n",
       "      <th></th>\n",
       "      <th>Aa</th>\n",
       "      <th>Ao</th>\n",
       "      <th>Dcl</th>\n",
       "      <th>Iy</th>\n",
       "      <th>Sh</th>\n",
       "      <th>Class</th>\n",
       "    </tr>\n",
       "  </thead>\n",
       "  <tbody>\n",
       "    <tr>\n",
       "      <th>0</th>\n",
       "      <td>1.24</td>\n",
       "      <td>0.875</td>\n",
       "      <td>-0.205</td>\n",
       "      <td>-0.078</td>\n",
       "      <td>0.067</td>\n",
       "      <td>0</td>\n",
       "    </tr>\n",
       "    <tr>\n",
       "      <th>1</th>\n",
       "      <td>0.268</td>\n",
       "      <td>1.352</td>\n",
       "      <td>1.035</td>\n",
       "      <td>-0.332</td>\n",
       "      <td>0.217</td>\n",
       "      <td>0</td>\n",
       "    </tr>\n",
       "    <tr>\n",
       "      <th>2</th>\n",
       "      <td>1.567</td>\n",
       "      <td>0.867</td>\n",
       "      <td>1.3</td>\n",
       "      <td>1.041</td>\n",
       "      <td>0.559</td>\n",
       "      <td>0</td>\n",
       "    </tr>\n",
       "    <tr>\n",
       "      <th>3</th>\n",
       "      <td>0.279</td>\n",
       "      <td>0.99</td>\n",
       "      <td>2.555</td>\n",
       "      <td>-0.738</td>\n",
       "      <td>0.0</td>\n",
       "      <td>0</td>\n",
       "    </tr>\n",
       "    <tr>\n",
       "      <th>4</th>\n",
       "      <td>0.307</td>\n",
       "      <td>1.272</td>\n",
       "      <td>2.656</td>\n",
       "      <td>-0.946</td>\n",
       "      <td>-0.467</td>\n",
       "      <td>0</td>\n",
       "    </tr>\n",
       "  </tbody>\n",
       "</table>\n",
       "</div>"
      ],
      "text/plain": [
       "      Aa     Ao     Dcl      Iy      Sh   Class\n",
       "0   1.24  0.875  -0.205  -0.078   0.067       0\n",
       "1  0.268  1.352   1.035  -0.332   0.217       0\n",
       "2  1.567  0.867     1.3   1.041   0.559       0\n",
       "3  0.279   0.99   2.555  -0.738     0.0       0\n",
       "4  0.307  1.272   2.656  -0.946  -0.467       0"
      ]
     },
     "metadata": {},
     "output_type": "display_data"
    }
   ],
   "source": [
    "url = \"https://raw.githubusercontent.com/javierfernandobotia/AnalisisAvanzadoDatos/main/phoneme.dat\"\n",
    "download = requests.get(url).content\n",
    "data = pd.read_table(io.StringIO(download.decode('utf-8')), # Esimportante codificarlo a utf-8\n",
    "                     sep=',',\n",
    "                     decimal=',')\n",
    "\n",
    "display(data.head())"
   ]
  },
  {
   "cell_type": "markdown",
   "metadata": {
    "id": "cQvtvHgvmoAN"
   },
   "source": [
    "### Escalamiento Estándar"
   ]
  },
  {
   "cell_type": "markdown",
   "metadata": {
    "id": "SazVUUhPmsnU"
   },
   "source": [
    "Es una transformación donde los datos son restados por la media de cada característica y dividido por la varianza de cada característica.\n",
    "\n",
    "$$\\hat{x}_{n,d} = \\frac{x_{n,d} - m_{d}}{\\sigma_d}$$\n",
    "\n",
    "donde:\n",
    "\n",
    "*   $\\hat{x}_{n,d}$ es una muestra escalada de una muestra $n$ con respecto a una característica $d$.\n",
    "*   $x_{n,d}$ es una muestra no escalada de una muestra $n$ con respecto a una característica $d$.\n",
    "*   $m_{d}$ es la media de una característica $d$.\n",
    "*   $\\sigma_d$ es la varianza de una característica $d$.\n",
    "\n",
    "Si la media es 0 y la varianza es 1, los datos originales tendrán una *distribución Gaussiana*. Veamos una ejemplo aplicativo del escalamiento estándar"
   ]
  },
  {
   "cell_type": "code",
   "execution_count": 28,
   "metadata": {
    "colab": {
     "base_uri": "https://localhost:8080/"
    },
    "id": "1NK-B8Cgmvkp",
    "outputId": "846886cd-4e24-4aae-e7fb-46bea96ca6a1"
   },
   "outputs": [
    {
     "name": "stdout",
     "output_type": "stream",
     "text": [
      "<class 'pandas.core.frame.DataFrame'>\n",
      "RangeIndex: 5404 entries, 0 to 5403\n",
      "Data columns (total 5 columns):\n",
      " #   Column  Non-Null Count  Dtype \n",
      "---  ------  --------------  ----- \n",
      " 0   Aa      5404 non-null   object\n",
      " 1    Ao     5404 non-null   object\n",
      " 2    Dcl    5404 non-null   object\n",
      " 3    Iy     5404 non-null   object\n",
      " 4    Sh     5404 non-null   object\n",
      "dtypes: object(5)\n",
      "memory usage: 211.2+ KB\n"
     ]
    }
   ],
   "source": [
    "data = data[['Aa',\t' Ao',\t' Dcl',\t' Iy',\t' Sh']]\n",
    "data.info()"
   ]
  },
  {
   "cell_type": "code",
   "execution_count": 29,
   "metadata": {
    "colab": {
     "base_uri": "https://localhost:8080/"
    },
    "id": "RUjPczTymxTa",
    "outputId": "28491164-c4ec-45c4-d181-c1709b781e04"
   },
   "outputs": [
    {
     "name": "stdout",
     "output_type": "stream",
     "text": [
      "<class 'pandas.core.frame.DataFrame'>\n",
      "RangeIndex: 5404 entries, 0 to 5403\n",
      "Data columns (total 5 columns):\n",
      " #   Column  Non-Null Count  Dtype  \n",
      "---  ------  --------------  -----  \n",
      " 0   Aa      5404 non-null   float64\n",
      " 1    Ao     5404 non-null   float64\n",
      " 2    Dcl    5404 non-null   float64\n",
      " 3    Iy     5404 non-null   float64\n",
      " 4    Sh     5404 non-null   float64\n",
      "dtypes: float64(5)\n",
      "memory usage: 211.2 KB\n"
     ]
    }
   ],
   "source": [
    "data = data.astype(float)\n",
    "data.info()"
   ]
  },
  {
   "cell_type": "code",
   "execution_count": 30,
   "metadata": {
    "colab": {
     "base_uri": "https://localhost:8080/",
     "height": 300
    },
    "id": "DaMviMGgm0fy",
    "outputId": "4cbc298d-496a-4a83-bf76-d3591991a2f4"
   },
   "outputs": [
    {
     "data": {
      "text/html": [
       "<div>\n",
       "<style scoped>\n",
       "    .dataframe tbody tr th:only-of-type {\n",
       "        vertical-align: middle;\n",
       "    }\n",
       "\n",
       "    .dataframe tbody tr th {\n",
       "        vertical-align: top;\n",
       "    }\n",
       "\n",
       "    .dataframe thead th {\n",
       "        text-align: right;\n",
       "    }\n",
       "</style>\n",
       "<table border=\"1\" class=\"dataframe\">\n",
       "  <thead>\n",
       "    <tr style=\"text-align: right;\">\n",
       "      <th></th>\n",
       "      <th>Aa</th>\n",
       "      <th>Ao</th>\n",
       "      <th>Dcl</th>\n",
       "      <th>Iy</th>\n",
       "      <th>Sh</th>\n",
       "    </tr>\n",
       "  </thead>\n",
       "  <tbody>\n",
       "    <tr>\n",
       "      <th>count</th>\n",
       "      <td>5404.000000</td>\n",
       "      <td>5404.000000</td>\n",
       "      <td>5404.000000</td>\n",
       "      <td>5404.000000</td>\n",
       "      <td>5404.000000</td>\n",
       "    </tr>\n",
       "    <tr>\n",
       "      <th>mean</th>\n",
       "      <td>0.818957</td>\n",
       "      <td>1.258802</td>\n",
       "      <td>0.764732</td>\n",
       "      <td>0.398743</td>\n",
       "      <td>0.078619</td>\n",
       "    </tr>\n",
       "    <tr>\n",
       "      <th>std</th>\n",
       "      <td>0.858733</td>\n",
       "      <td>0.851057</td>\n",
       "      <td>0.925436</td>\n",
       "      <td>0.796531</td>\n",
       "      <td>0.575624</td>\n",
       "    </tr>\n",
       "    <tr>\n",
       "      <th>min</th>\n",
       "      <td>-1.700000</td>\n",
       "      <td>-1.327000</td>\n",
       "      <td>-1.823000</td>\n",
       "      <td>-1.581000</td>\n",
       "      <td>-1.284000</td>\n",
       "    </tr>\n",
       "    <tr>\n",
       "      <th>25%</th>\n",
       "      <td>0.243750</td>\n",
       "      <td>0.596000</td>\n",
       "      <td>-0.115000</td>\n",
       "      <td>-0.205000</td>\n",
       "      <td>-0.232250</td>\n",
       "    </tr>\n",
       "    <tr>\n",
       "      <th>50%</th>\n",
       "      <td>0.492500</td>\n",
       "      <td>1.075500</td>\n",
       "      <td>0.729000</td>\n",
       "      <td>0.285500</td>\n",
       "      <td>-0.044000</td>\n",
       "    </tr>\n",
       "    <tr>\n",
       "      <th>75%</th>\n",
       "      <td>1.089250</td>\n",
       "      <td>1.866250</td>\n",
       "      <td>1.484000</td>\n",
       "      <td>0.937000</td>\n",
       "      <td>0.196250</td>\n",
       "    </tr>\n",
       "    <tr>\n",
       "      <th>max</th>\n",
       "      <td>4.107000</td>\n",
       "      <td>4.378000</td>\n",
       "      <td>3.199000</td>\n",
       "      <td>2.826000</td>\n",
       "      <td>2.719000</td>\n",
       "    </tr>\n",
       "  </tbody>\n",
       "</table>\n",
       "</div>"
      ],
      "text/plain": [
       "                Aa           Ao          Dcl           Iy           Sh\n",
       "count  5404.000000  5404.000000  5404.000000  5404.000000  5404.000000\n",
       "mean      0.818957     1.258802     0.764732     0.398743     0.078619\n",
       "std       0.858733     0.851057     0.925436     0.796531     0.575624\n",
       "min      -1.700000    -1.327000    -1.823000    -1.581000    -1.284000\n",
       "25%       0.243750     0.596000    -0.115000    -0.205000    -0.232250\n",
       "50%       0.492500     1.075500     0.729000     0.285500    -0.044000\n",
       "75%       1.089250     1.866250     1.484000     0.937000     0.196250\n",
       "max       4.107000     4.378000     3.199000     2.826000     2.719000"
      ]
     },
     "execution_count": 30,
     "metadata": {},
     "output_type": "execute_result"
    }
   ],
   "source": [
    "data.describe()"
   ]
  },
  {
   "cell_type": "code",
   "execution_count": 31,
   "metadata": {
    "colab": {
     "base_uri": "https://localhost:8080/"
    },
    "id": "ahM6pXBsm3Fp",
    "outputId": "913ff1de-0628-4507-ade5-c6d6973e6e5e"
   },
   "outputs": [
    {
     "name": "stdout",
     "output_type": "stream",
     "text": [
      "[[ 0.49035227 -0.45101251 -1.04796119 -0.59857896 -0.02018657]\n",
      " [-0.64165252  0.10951862  0.29207121 -0.91749121  0.24042422]\n",
      " [ 0.87118105 -0.46041345  0.57844911  0.80639274  0.83461682]\n",
      " ...\n",
      " [ 0.24694795 -0.79297175  1.19010906  1.42287272 -1.30239164]\n",
      " [-0.77907698 -0.38285569  1.72720269 -1.43227084 -1.20857176]\n",
      " [-0.79421696 -0.64020646  0.63248267  0.71975909 -1.23115802]]\n"
     ]
    }
   ],
   "source": [
    "SS = StandardScaler()\n",
    "data_SS = SS.fit_transform(data) # Se realiza la transformación del conjunto de datos. Para este caso, utilizaremos los datos imputados por la media de los ejemplos anteriores.\n",
    "print(data_SS)  # Resultado del escalamiento estándar"
   ]
  },
  {
   "cell_type": "code",
   "execution_count": 32,
   "metadata": {
    "colab": {
     "base_uri": "https://localhost:8080/",
     "height": 423
    },
    "id": "hfGiz12mm5K-",
    "outputId": "0e54373f-164b-4f8b-c6e9-44e42aa24bf2"
   },
   "outputs": [
    {
     "data": {
      "text/html": [
       "<div>\n",
       "<style scoped>\n",
       "    .dataframe tbody tr th:only-of-type {\n",
       "        vertical-align: middle;\n",
       "    }\n",
       "\n",
       "    .dataframe tbody tr th {\n",
       "        vertical-align: top;\n",
       "    }\n",
       "\n",
       "    .dataframe thead th {\n",
       "        text-align: right;\n",
       "    }\n",
       "</style>\n",
       "<table border=\"1\" class=\"dataframe\">\n",
       "  <thead>\n",
       "    <tr style=\"text-align: right;\">\n",
       "      <th></th>\n",
       "      <th>Aa</th>\n",
       "      <th>Ao</th>\n",
       "      <th>Dcl</th>\n",
       "      <th>Iy</th>\n",
       "      <th>Sh</th>\n",
       "    </tr>\n",
       "  </thead>\n",
       "  <tbody>\n",
       "    <tr>\n",
       "      <th>0</th>\n",
       "      <td>0.490352</td>\n",
       "      <td>-0.451013</td>\n",
       "      <td>-1.047961</td>\n",
       "      <td>-0.598579</td>\n",
       "      <td>-0.020187</td>\n",
       "    </tr>\n",
       "    <tr>\n",
       "      <th>1</th>\n",
       "      <td>-0.641653</td>\n",
       "      <td>0.109519</td>\n",
       "      <td>0.292071</td>\n",
       "      <td>-0.917491</td>\n",
       "      <td>0.240424</td>\n",
       "    </tr>\n",
       "    <tr>\n",
       "      <th>2</th>\n",
       "      <td>0.871181</td>\n",
       "      <td>-0.460413</td>\n",
       "      <td>0.578449</td>\n",
       "      <td>0.806393</td>\n",
       "      <td>0.834617</td>\n",
       "    </tr>\n",
       "    <tr>\n",
       "      <th>3</th>\n",
       "      <td>-0.628842</td>\n",
       "      <td>-0.315874</td>\n",
       "      <td>1.934692</td>\n",
       "      <td>-1.427249</td>\n",
       "      <td>-0.136593</td>\n",
       "    </tr>\n",
       "    <tr>\n",
       "      <th>4</th>\n",
       "      <td>-0.596233</td>\n",
       "      <td>0.015509</td>\n",
       "      <td>2.043839</td>\n",
       "      <td>-1.688405</td>\n",
       "      <td>-0.947961</td>\n",
       "    </tr>\n",
       "    <tr>\n",
       "      <th>...</th>\n",
       "      <td>...</td>\n",
       "      <td>...</td>\n",
       "      <td>...</td>\n",
       "      <td>...</td>\n",
       "      <td>...</td>\n",
       "    </tr>\n",
       "    <tr>\n",
       "      <th>5399</th>\n",
       "      <td>-0.657957</td>\n",
       "      <td>1.331641</td>\n",
       "      <td>-0.081841</td>\n",
       "      <td>1.794518</td>\n",
       "      <td>-1.081741</td>\n",
       "    </tr>\n",
       "    <tr>\n",
       "      <th>5400</th>\n",
       "      <td>-0.044206</td>\n",
       "      <td>-0.010343</td>\n",
       "      <td>0.030549</td>\n",
       "      <td>-0.019766</td>\n",
       "      <td>1.281130</td>\n",
       "    </tr>\n",
       "    <tr>\n",
       "      <th>5401</th>\n",
       "      <td>0.246948</td>\n",
       "      <td>-0.792972</td>\n",
       "      <td>1.190109</td>\n",
       "      <td>1.422873</td>\n",
       "      <td>-1.302392</td>\n",
       "    </tr>\n",
       "    <tr>\n",
       "      <th>5402</th>\n",
       "      <td>-0.779077</td>\n",
       "      <td>-0.382856</td>\n",
       "      <td>1.727203</td>\n",
       "      <td>-1.432271</td>\n",
       "      <td>-1.208572</td>\n",
       "    </tr>\n",
       "    <tr>\n",
       "      <th>5403</th>\n",
       "      <td>-0.794217</td>\n",
       "      <td>-0.640206</td>\n",
       "      <td>0.632483</td>\n",
       "      <td>0.719759</td>\n",
       "      <td>-1.231158</td>\n",
       "    </tr>\n",
       "  </tbody>\n",
       "</table>\n",
       "<p>5404 rows × 5 columns</p>\n",
       "</div>"
      ],
      "text/plain": [
       "            Aa        Ao       Dcl        Iy        Sh\n",
       "0     0.490352 -0.451013 -1.047961 -0.598579 -0.020187\n",
       "1    -0.641653  0.109519  0.292071 -0.917491  0.240424\n",
       "2     0.871181 -0.460413  0.578449  0.806393  0.834617\n",
       "3    -0.628842 -0.315874  1.934692 -1.427249 -0.136593\n",
       "4    -0.596233  0.015509  2.043839 -1.688405 -0.947961\n",
       "...        ...       ...       ...       ...       ...\n",
       "5399 -0.657957  1.331641 -0.081841  1.794518 -1.081741\n",
       "5400 -0.044206 -0.010343  0.030549 -0.019766  1.281130\n",
       "5401  0.246948 -0.792972  1.190109  1.422873 -1.302392\n",
       "5402 -0.779077 -0.382856  1.727203 -1.432271 -1.208572\n",
       "5403 -0.794217 -0.640206  0.632483  0.719759 -1.231158\n",
       "\n",
       "[5404 rows x 5 columns]"
      ]
     },
     "metadata": {},
     "output_type": "display_data"
    }
   ],
   "source": [
    "data_SS = pd.DataFrame(data_SS, columns=['Aa', ' Ao', ' Dcl', ' Iy', ' Sh'])\n",
    "display(data_SS)"
   ]
  },
  {
   "cell_type": "code",
   "execution_count": 33,
   "metadata": {
    "colab": {
     "base_uri": "https://localhost:8080/",
     "height": 300
    },
    "id": "y3x6rwF0HL4o",
    "outputId": "73bf0f1a-a023-41a8-8a7b-e6ba02d056ff"
   },
   "outputs": [
    {
     "data": {
      "text/html": [
       "<div>\n",
       "<style scoped>\n",
       "    .dataframe tbody tr th:only-of-type {\n",
       "        vertical-align: middle;\n",
       "    }\n",
       "\n",
       "    .dataframe tbody tr th {\n",
       "        vertical-align: top;\n",
       "    }\n",
       "\n",
       "    .dataframe thead th {\n",
       "        text-align: right;\n",
       "    }\n",
       "</style>\n",
       "<table border=\"1\" class=\"dataframe\">\n",
       "  <thead>\n",
       "    <tr style=\"text-align: right;\">\n",
       "      <th></th>\n",
       "      <th>Aa</th>\n",
       "      <th>Ao</th>\n",
       "      <th>Dcl</th>\n",
       "      <th>Iy</th>\n",
       "      <th>Sh</th>\n",
       "    </tr>\n",
       "  </thead>\n",
       "  <tbody>\n",
       "    <tr>\n",
       "      <th>count</th>\n",
       "      <td>5.404000e+03</td>\n",
       "      <td>5.404000e+03</td>\n",
       "      <td>5.404000e+03</td>\n",
       "      <td>5.404000e+03</td>\n",
       "      <td>5.404000e+03</td>\n",
       "    </tr>\n",
       "    <tr>\n",
       "      <th>mean</th>\n",
       "      <td>1.275401e-16</td>\n",
       "      <td>3.158917e-16</td>\n",
       "      <td>2.826919e-17</td>\n",
       "      <td>1.840784e-17</td>\n",
       "      <td>2.498207e-17</td>\n",
       "    </tr>\n",
       "    <tr>\n",
       "      <th>std</th>\n",
       "      <td>1.000093e+00</td>\n",
       "      <td>1.000093e+00</td>\n",
       "      <td>1.000093e+00</td>\n",
       "      <td>1.000093e+00</td>\n",
       "      <td>1.000093e+00</td>\n",
       "    </tr>\n",
       "    <tr>\n",
       "      <th>min</th>\n",
       "      <td>-2.933613e+00</td>\n",
       "      <td>-3.038622e+00</td>\n",
       "      <td>-2.796487e+00</td>\n",
       "      <td>-2.485686e+00</td>\n",
       "      <td>-2.367421e+00</td>\n",
       "    </tr>\n",
       "    <tr>\n",
       "      <th>25%</th>\n",
       "      <td>-6.698944e-01</td>\n",
       "      <td>-7.788703e-01</td>\n",
       "      <td>-9.507008e-01</td>\n",
       "      <td>-7.580351e-01</td>\n",
       "      <td>-5.401051e-01</td>\n",
       "    </tr>\n",
       "    <tr>\n",
       "      <th>50%</th>\n",
       "      <td>-3.801967e-01</td>\n",
       "      <td>-2.154014e-01</td>\n",
       "      <td>-3.861420e-02</td>\n",
       "      <td>-1.421829e-01</td>\n",
       "      <td>-2.130385e-01</td>\n",
       "    </tr>\n",
       "    <tr>\n",
       "      <th>75%</th>\n",
       "      <td>3.147867e-01</td>\n",
       "      <td>7.138229e-01</td>\n",
       "      <td>7.772926e-01</td>\n",
       "      <td>6.758145e-01</td>\n",
       "      <td>2.043731e-01</td>\n",
       "    </tr>\n",
       "    <tr>\n",
       "      <th>max</th>\n",
       "      <td>3.829301e+00</td>\n",
       "      <td>3.665425e+00</td>\n",
       "      <td>2.630644e+00</td>\n",
       "      <td>3.047567e+00</td>\n",
       "      <td>4.587412e+00</td>\n",
       "    </tr>\n",
       "  </tbody>\n",
       "</table>\n",
       "</div>"
      ],
      "text/plain": [
       "                 Aa            Ao           Dcl            Iy            Sh\n",
       "count  5.404000e+03  5.404000e+03  5.404000e+03  5.404000e+03  5.404000e+03\n",
       "mean   1.275401e-16  3.158917e-16  2.826919e-17  1.840784e-17  2.498207e-17\n",
       "std    1.000093e+00  1.000093e+00  1.000093e+00  1.000093e+00  1.000093e+00\n",
       "min   -2.933613e+00 -3.038622e+00 -2.796487e+00 -2.485686e+00 -2.367421e+00\n",
       "25%   -6.698944e-01 -7.788703e-01 -9.507008e-01 -7.580351e-01 -5.401051e-01\n",
       "50%   -3.801967e-01 -2.154014e-01 -3.861420e-02 -1.421829e-01 -2.130385e-01\n",
       "75%    3.147867e-01  7.138229e-01  7.772926e-01  6.758145e-01  2.043731e-01\n",
       "max    3.829301e+00  3.665425e+00  2.630644e+00  3.047567e+00  4.587412e+00"
      ]
     },
     "execution_count": 33,
     "metadata": {},
     "output_type": "execute_result"
    }
   ],
   "source": [
    "data_SS.describe()"
   ]
  },
  {
   "cell_type": "code",
   "execution_count": 34,
   "metadata": {
    "colab": {
     "base_uri": "https://localhost:8080/",
     "height": 533
    },
    "id": "svAGEYlkny7M",
    "outputId": "050440bb-d4ed-4ab7-a571-868b6940ac9f"
   },
   "outputs": [
    {
     "data": {
      "image/png": "[encoded data removed]",
      "text/plain": [
       "<Figure size 720x360 with 2 Axes>"
      ]
     },
     "metadata": {
      "needs_background": "light"
     },
     "output_type": "display_data"
    }
   ],
   "source": [
    "fig = plt.figure(figsize=(10, 5)) # Se define el tamaño de la figura en ancho y altura    \n",
    "\n",
    "matplotlib.rcParams.update({'font.size': 20, 'font.family': 'STIXGeneral', 'mathtext.fontset': 'stix'})\n",
    "\n",
    "ax = fig.add_subplot(1, 2, 1)   \n",
    "ax.scatter(data['Aa'], \n",
    "           data[' Ao'], \n",
    "           edgecolors=\"m\")\n",
    "\n",
    "plt.axhline(0, color=\"blue\") # Elegir color de la linea horizontal de referencia\n",
    "plt.title('Espacio de características sin escalamiento estándar') # Titulo de la gráfica\n",
    "plt.xlabel('Aa') # Etiqueta del eje x\n",
    "plt.ylabel('Ao') # Etiqueta del eje y\n",
    "\n",
    "ax = fig.add_subplot(1, 2, 2) \n",
    "ax.scatter(data_SS['Aa'], \n",
    "           data_SS[' Ao'], \n",
    "           edgecolors=\"r\")\n",
    "\n",
    "plt.axhline(0, color=\"blue\") # Elegir color de la linea horizontal de referencia\n",
    "plt.title('Espacio de características con escalamiento estándar') # Titulo de la gráfica\n",
    "plt.xlabel('Aa') # Etiqueta del eje x\n",
    "plt.ylabel('Ao') # Etiqueta del eje y\n",
    "\n",
    "plt.show()"
   ]
  },
  {
   "cell_type": "code",
   "execution_count": 35,
   "metadata": {
    "colab": {
     "base_uri": "https://localhost:8080/",
     "height": 499
    },
    "id": "_u5ELPzen2Rg",
    "outputId": "121eef32-8018-4152-89ce-462e4316bdcc"
   },
   "outputs": [
    {
     "data": {
      "image/png": "[encoded data removed]",
      "text/plain": [
       "<Figure size 720x360 with 1 Axes>"
      ]
     },
     "metadata": {},
     "output_type": "display_data"
    }
   ],
   "source": [
    "sns.set(rc={'figure.figsize':(10, 5)}) # Tamaño de la figura\n",
    "sns.set(style=\"whitegrid\") # Estilo de la figura\n",
    "sns.boxplot(data=data_SS, \n",
    "            linewidth=3, \n",
    "            palette=\"Set2\", \n",
    "            fliersize=5) # Diagrama Box Plot con los datos con escalamiento estándar\n",
    "\n",
    "sns.despine(left=True)"
   ]
  },
  {
   "cell_type": "markdown",
   "metadata": {
    "id": "1amzrMIhn5Kq"
   },
   "source": [
    "### Escalamiento Robusto"
   ]
  },
  {
   "cell_type": "markdown",
   "metadata": {
    "id": "v6FnWYiQn-xt"
   },
   "source": [
    "Es una transformación de datos cuando hay presencia de datos atípicos u outliers. Por lo general, esta transformación escala los datos en un **rango de cuartiles**, permitiendo escalar los datos independientemente para cada características al computar las estadísticas más importantes de las muestras de los datos, como la media y la desviación estándar. Esta transformación utiliza un método llamado **rango intercuartiles**, que maneja desde el primer cuartil hasta el tercer cuartil.\n",
    "\n",
    "Veamos un ejemplo práctico de esta transformación de datos:"
   ]
  },
  {
   "cell_type": "code",
   "execution_count": 36,
   "metadata": {
    "id": "qd61p245n8wX"
   },
   "outputs": [],
   "source": [
    "RS_1 = RobustScaler(quantile_range=(15, 75)) # (Primer cuartil, tercer cuartil)\n",
    "RS_2 = RobustScaler(quantile_range=(20, 65))\n",
    "RS_3 = RobustScaler(quantile_range=(30, 60))\n",
    "\n",
    "data_RS_1 = RS_1.fit_transform(data)\n",
    "data_RS_2 = RS_2.fit_transform(data)\n",
    "data_RS_3 = RS_3.fit_transform(data)\n",
    "\n",
    "data_RS_1 = pd.DataFrame(data = data_RS_1, columns = ['Aa',\t' Ao',\t' Dcl',\t' Iy',\t' Sh'])\n",
    "data_RS_2 = pd.DataFrame(data = data_RS_2, columns = ['Aa',\t' Ao',\t' Dcl',\t' Iy',\t' Sh'])\n",
    "data_RS_3 = pd.DataFrame(data = data_RS_3, columns = ['Aa',\t' Ao',\t' Dcl',\t' Iy',\t' Sh'])"
   ]
  },
  {
   "cell_type": "code",
   "execution_count": 37,
   "metadata": {
    "colab": {
     "base_uri": "https://localhost:8080/",
     "height": 672
    },
    "id": "J3V06AwHoB6v",
    "outputId": "11e269df-fc13-4ff1-fff9-8286d0fc1b6f"
   },
   "outputs": [
    {
     "data": {
      "image/png": "[encoded data removed]",
      "text/plain": [
       "<Figure size 720x360 with 4 Axes>"
      ]
     },
     "metadata": {},
     "output_type": "display_data"
    }
   ],
   "source": [
    "fig = plt.figure(figsize=(10, 5))\n",
    "\n",
    "ax = fig.add_subplot(2, 2, 1)   \n",
    "ax.scatter(data['Aa'], \n",
    "           data[' Ao'], \n",
    "           edgecolors=\"r\")\n",
    "\n",
    "plt.axhline(0, color=\"blue\") # Elegir color de la linea horizontal de referencia\n",
    "plt.xlim(data['Aa'].min(), data['Aa'].max()) # Definir el rango de valores que desea que aparezca en el gráfico en el eje x\n",
    "plt.ylim(data[' Ao'].min(), data[' Ao'].max()) # Definir el rango de valores que desea que aparezca en el gráfico en el eje y\n",
    "plt.title('Datos Originales') # Titulo de la gráfica\n",
    "plt.xlabel('Aa') # Etiqueta del eje x\n",
    "plt.ylabel('Ao') # Etiqueta del eje y\n",
    "\n",
    "ax = fig.add_subplot(2, 2, 2) \n",
    "ax.scatter(data_RS_1['Aa'], \n",
    "           data_RS_1[' Ao'], \n",
    "           edgecolors=\"b\")\n",
    "\n",
    "plt.axhline(0, color=\"blue\") # Elegir color de la linea horizontal de referencia\n",
    "plt.xlim(data['Aa'].min(), data['Aa'].max()) # Definir el rango de valores que desea que aparezca en el gráfico en el eje x\n",
    "plt.ylim(data[' Ao'].min(), data[' Ao'].max()) # Definir el rango de valores que desea que aparezca en el gráfico en el eje y\n",
    "plt.title('Datos con Robustez (15,75)') # Titulo de la gráfica\n",
    "plt.xlabel('Aa') # Etiqueta del eje x\n",
    "plt.ylabel('Ao') # Etiqueta del eje y\n",
    "\n",
    "ax = fig.add_subplot(2, 2, 3) \n",
    "ax.scatter(data_RS_2['Aa'], \n",
    "           data_RS_2[' Ao'], \n",
    "           edgecolors=\"b\")\n",
    "\n",
    "plt.axhline(0, color=\"blue\") # Elegir color de la linea horizontal de referencia\n",
    "plt.xlim(data['Aa'].min(), data['Aa'].max()) # Definir el rango de valores que desea que aparezca en el gráfico en el eje x\n",
    "plt.ylim(data[' Ao'].min(), data[' Ao'].max()) # Definir el rango de valores que desea que aparezca en el gráfico en el eje y\n",
    "plt.title('Datos con Robustez (20,65)') # Titulo de la gráfica\n",
    "plt.xlabel('Aa') # Etiqueta del eje x\n",
    "plt.ylabel('Ao') # Etiqueta del eje y\n",
    "\n",
    "ax = fig.add_subplot(2, 2, 4) \n",
    "ax.scatter(data_RS_3['Aa'], \n",
    "           data_RS_3[' Ao'], \n",
    "           edgecolors=\"b\")\n",
    "\n",
    "plt.axhline(0, color=\"blue\") # Elegir color de la linea horizontal de referencia\n",
    "plt.xlim(data['Aa'].min(), data['Aa'].max()) # Definir el rango de valores que desea que aparezca en el gráfico en el eje x\n",
    "plt.ylim(data[' Ao'].min(), data[' Ao'].max()) # Definir el rango de valores que desea que aparezca en el gráfico en el eje y\n",
    "plt.title('Datos con Robustez (30,60)') # Titulo de la gráfica\n",
    "plt.xlabel('Aa') # Etiqueta del eje x\n",
    "plt.ylabel('Ao') # Etiqueta del eje y\n",
    "\n",
    "plt.show()"
   ]
  },
  {
   "cell_type": "code",
   "execution_count": 38,
   "metadata": {
    "colab": {
     "base_uri": "https://localhost:8080/",
     "height": 499
    },
    "id": "PZk_Cf-qoFt-",
    "outputId": "a8f6594b-2428-4482-f93d-faa9ed9a6790"
   },
   "outputs": [
    {
     "data": {
      "image/png": "[encoded data removed]",
      "text/plain": [
       "<Figure size 720x360 with 1 Axes>"
      ]
     },
     "metadata": {},
     "output_type": "display_data"
    }
   ],
   "source": [
    "sns.set(rc={'figure.figsize':(10, 5)}) # Tamaño de la figura\n",
    "sns.set(style=\"whitegrid\") # Estilo de la figura\n",
    "sns.boxplot(data=data_RS_1, \n",
    "            linewidth=3, \n",
    "            palette=\"Set2\", \n",
    "            fliersize=5) # Diagrama Box Plot con los datos con escalamiento robusto (15, 75)\n",
    "\n",
    "sns.despine(left=True)"
   ]
  },
  {
   "cell_type": "code",
   "execution_count": 39,
   "metadata": {
    "colab": {
     "base_uri": "https://localhost:8080/",
     "height": 500
    },
    "id": "1iUDEvwPoHjm",
    "outputId": "7303b692-2b9a-4006-ade7-ebf800b9e059"
   },
   "outputs": [
    {
     "data": {
      "image/png": "[encoded data removed]",
      "text/plain": [
       "<Figure size 720x360 with 1 Axes>"
      ]
     },
     "metadata": {},
     "output_type": "display_data"
    }
   ],
   "source": [
    "sns.set(rc={'figure.figsize':(10, 5)}) # Tamaño de la figura\n",
    "sns.set(style=\"whitegrid\") # Estilo de la figura\n",
    "sns.boxplot(data=data_RS_2, \n",
    "            linewidth=3, \n",
    "            palette=\"Set2\", \n",
    "            fliersize=5) # Diagrama Box Plot con los datos con escalamiento robusto (15, 75)\n",
    "\n",
    "sns.despine(left=True)"
   ]
  },
  {
   "cell_type": "code",
   "execution_count": 40,
   "metadata": {
    "colab": {
     "base_uri": "https://localhost:8080/",
     "height": 499
    },
    "id": "oiaMHUGQoJbM",
    "outputId": "612e122f-7454-4225-eb0a-c2843cef6e47"
   },
   "outputs": [
    {
     "data": {
      "image/png": "[encoded data removed]",
      "text/plain": [
       "<Figure size 720x360 with 1 Axes>"
      ]
     },
     "metadata": {},
     "output_type": "display_data"
    }
   ],
   "source": [
    "sns.set(rc={'figure.figsize':(10, 5)}) # Tamaño de la figura\n",
    "sns.set(style=\"whitegrid\") # Estilo de la figura\n",
    "sns.boxplot(data=data_RS_3, \n",
    "            linewidth=3, \n",
    "            palette=\"Set2\", \n",
    "            fliersize=5) # Diagrama Box Plot con los datos con escalamiento robusto (15, 75)\n",
    "\n",
    "sns.despine(left=True)"
   ]
  },
  {
   "cell_type": "markdown",
   "metadata": {
    "id": "H7edQR-0pSG5"
   },
   "source": [
    "## Normalización"
   ]
  },
  {
   "cell_type": "markdown",
   "metadata": {
    "id": "HXuZ8sbJpUns"
   },
   "source": [
    "La **Normalización** se define como una transformación de los datos en una escala entre 0 y 1 (datos normales) o entre un rango menor, es decir, $0 < \\hat{x} < 1$. Veamos algunas de estas transformaciones:"
   ]
  },
  {
   "cell_type": "markdown",
   "metadata": {
    "id": "hmYpyZFypZme"
   },
   "source": [
    "#### Normalización Min-Max"
   ]
  },
  {
   "cell_type": "markdown",
   "metadata": {
    "id": "CvPnjom6pcKk"
   },
   "source": [
    "Esta transformación llamada escalamiento min-max, normaliza los datos a una escala en el rango $\\lbrack 0,1 \\rbrack$, estrechando todos los datos.\n",
    "\n",
    "*Definición formal de Min-Max:* Dado $x_{n,d}$ un dato de una muestra $n$ con respecto a una características $d$, decimos que $\\hat{x}_{n,d}$ es un dato normalizado, tal que  $0 \\leq \\hat{x}_{n,d} \\leq 1$, donde la normalización es la razón entre la resta $x_{n,d} - xmin_{d}$ y la resta entre $xmax_d - xmin_{d}$, siendo $xmin_{d}$ y $xmax_{d}$ el valor mínimo y máximo de cada característica $d$, respectivamente.\n",
    "\n",
    "$$\\hat{x}_{n,d} = \\frac{x_{n,d} - xmin_{d}}{xmax_{d} - xmin_{d}}$$\n",
    "\n",
    "Veamos un ejemplo de aplicación de esta transformación:"
   ]
  },
  {
   "cell_type": "code",
   "execution_count": 41,
   "metadata": {
    "colab": {
     "base_uri": "https://localhost:8080/",
     "height": 518
    },
    "id": "Q9TRNheYpfdm",
    "outputId": "2195e92d-7eaa-4b3b-c710-af7c331057f9"
   },
   "outputs": [
    {
     "data": {
      "image/png": "[encoded data removed]",
      "text/plain": [
       "<Figure size 720x360 with 2 Axes>"
      ]
     },
     "metadata": {},
     "output_type": "display_data"
    }
   ],
   "source": [
    "MinMax_1 = MinMaxScaler(copy=True, feature_range=(0, 1)) # Método MinMax con valores entre 0 y 1\n",
    "\n",
    "data_Min_Max = MinMax_1.fit_transform(data) # Transformación de los nuevos datos con una escala MinMax\n",
    "\n",
    "data_Min_Max = pd.DataFrame(data=data_Min_Max, columns=['Aa', ' Ao', ' Dcl', ' Iy', ' Sh'])\n",
    "\n",
    "fig = plt.figure(figsize=(10, 5)) # Se define el tamaño de la figura en ancho y altura    \n",
    "    \n",
    "ax = fig.add_subplot(1, 2, 1)   \n",
    "ax.scatter(data['Aa'], \n",
    "           data[' Ao'], \n",
    "           edgecolors=\"m\")\n",
    "\n",
    "plt.axhline(0, color=\"blue\") # Elegir color de la linea horizontal de referencia\n",
    "plt.title('Datos Originales') # Titulo de la gráfica\n",
    "plt.xlabel('Aa') # Etiqueta del eje x\n",
    "plt.ylabel('Ao') # Etiqueta del eje y\n",
    "\n",
    "ax = fig.add_subplot(1, 2, 2) \n",
    "ax.scatter(data_Min_Max['Aa'], \n",
    "           data_Min_Max[' Ao'],\n",
    "           edgecolors=\"g\")\n",
    "\n",
    "plt.axhline(0, color=\"blue\") # Elegir color de la linea horizontal de referencia\n",
    "plt.title('Datos con Escalamiento MinMax') # Titulo de la gráfica\n",
    "plt.xlabel('Aa') # Etiqueta del eje x\n",
    "plt.ylabel('Ao') # Etiqueta del eje y\n",
    "\n",
    "plt.show()"
   ]
  },
  {
   "cell_type": "code",
   "execution_count": 42,
   "metadata": {
    "colab": {
     "base_uri": "https://localhost:8080/",
     "height": 300
    },
    "id": "vAA8JHYnNYdy",
    "outputId": "c75afc6a-6af9-4878-fabd-9b7326dfe8bd"
   },
   "outputs": [
    {
     "data": {
      "text/html": [
       "<div>\n",
       "<style scoped>\n",
       "    .dataframe tbody tr th:only-of-type {\n",
       "        vertical-align: middle;\n",
       "    }\n",
       "\n",
       "    .dataframe tbody tr th {\n",
       "        vertical-align: top;\n",
       "    }\n",
       "\n",
       "    .dataframe thead th {\n",
       "        text-align: right;\n",
       "    }\n",
       "</style>\n",
       "<table border=\"1\" class=\"dataframe\">\n",
       "  <thead>\n",
       "    <tr style=\"text-align: right;\">\n",
       "      <th></th>\n",
       "      <th>Aa</th>\n",
       "      <th>Ao</th>\n",
       "      <th>Dcl</th>\n",
       "      <th>Iy</th>\n",
       "      <th>Sh</th>\n",
       "    </tr>\n",
       "  </thead>\n",
       "  <tbody>\n",
       "    <tr>\n",
       "      <th>count</th>\n",
       "      <td>5404.000000</td>\n",
       "      <td>5404.000000</td>\n",
       "      <td>5404.000000</td>\n",
       "      <td>5404.000000</td>\n",
       "      <td>5404.000000</td>\n",
       "    </tr>\n",
       "    <tr>\n",
       "      <th>mean</th>\n",
       "      <td>0.433779</td>\n",
       "      <td>0.453252</td>\n",
       "      <td>0.515279</td>\n",
       "      <td>0.449227</td>\n",
       "      <td>0.340399</td>\n",
       "    </tr>\n",
       "    <tr>\n",
       "      <th>std</th>\n",
       "      <td>0.147879</td>\n",
       "      <td>0.149177</td>\n",
       "      <td>0.184276</td>\n",
       "      <td>0.180742</td>\n",
       "      <td>0.143798</td>\n",
       "    </tr>\n",
       "    <tr>\n",
       "      <th>min</th>\n",
       "      <td>0.000000</td>\n",
       "      <td>0.000000</td>\n",
       "      <td>0.000000</td>\n",
       "      <td>0.000000</td>\n",
       "      <td>0.000000</td>\n",
       "    </tr>\n",
       "    <tr>\n",
       "      <th>25%</th>\n",
       "      <td>0.334725</td>\n",
       "      <td>0.337073</td>\n",
       "      <td>0.340104</td>\n",
       "      <td>0.312231</td>\n",
       "      <td>0.262740</td>\n",
       "    </tr>\n",
       "    <tr>\n",
       "      <th>50%</th>\n",
       "      <td>0.377562</td>\n",
       "      <td>0.421122</td>\n",
       "      <td>0.508164</td>\n",
       "      <td>0.423531</td>\n",
       "      <td>0.309768</td>\n",
       "    </tr>\n",
       "    <tr>\n",
       "      <th>75%</th>\n",
       "      <td>0.480325</td>\n",
       "      <td>0.559728</td>\n",
       "      <td>0.658503</td>\n",
       "      <td>0.571364</td>\n",
       "      <td>0.369785</td>\n",
       "    </tr>\n",
       "    <tr>\n",
       "      <th>max</th>\n",
       "      <td>1.000000</td>\n",
       "      <td>1.000000</td>\n",
       "      <td>1.000000</td>\n",
       "      <td>1.000000</td>\n",
       "      <td>1.000000</td>\n",
       "    </tr>\n",
       "  </tbody>\n",
       "</table>\n",
       "</div>"
      ],
      "text/plain": [
       "                Aa           Ao          Dcl           Iy           Sh\n",
       "count  5404.000000  5404.000000  5404.000000  5404.000000  5404.000000\n",
       "mean      0.433779     0.453252     0.515279     0.449227     0.340399\n",
       "std       0.147879     0.149177     0.184276     0.180742     0.143798\n",
       "min       0.000000     0.000000     0.000000     0.000000     0.000000\n",
       "25%       0.334725     0.337073     0.340104     0.312231     0.262740\n",
       "50%       0.377562     0.421122     0.508164     0.423531     0.309768\n",
       "75%       0.480325     0.559728     0.658503     0.571364     0.369785\n",
       "max       1.000000     1.000000     1.000000     1.000000     1.000000"
      ]
     },
     "execution_count": 42,
     "metadata": {},
     "output_type": "execute_result"
    }
   ],
   "source": [
    "data_Min_Max.describe()"
   ]
  },
  {
   "cell_type": "code",
   "execution_count": 43,
   "metadata": {
    "colab": {
     "base_uri": "https://localhost:8080/",
     "height": 499
    },
    "id": "I2s0u2rNpjbt",
    "outputId": "2c5f1350-c337-485c-80d2-bc80c0c7e83d"
   },
   "outputs": [
    {
     "data": {
      "image/png": "[encoded data removed]",
      "text/plain": [
       "<Figure size 720x360 with 1 Axes>"
      ]
     },
     "metadata": {},
     "output_type": "display_data"
    }
   ],
   "source": [
    "sns.set(rc={'figure.figsize':(10, 5)}) # Tamaño de la figura\n",
    "sns.set(style=\"whitegrid\") # Estilo de la figura\n",
    "sns.boxplot(data=data_Min_Max, \n",
    "            linewidth=3, \n",
    "            palette=\"Set2\", \n",
    "            fliersize=5) # Diagrama Box Plot con los datos con normalización Min-Max\n",
    "\n",
    "sns.despine(left=True)"
   ]
  },
  {
   "cell_type": "markdown",
   "metadata": {
    "id": "S2m19tXBpk_L"
   },
   "source": [
    "### Máxima Normalización"
   ]
  },
  {
   "cell_type": "markdown",
   "metadata": {
    "id": "4Kz3zF3lpn78"
   },
   "source": [
    "Es una transformación de datos que relaciona los datos $x_{n,d}$ con respecto al máximo valor de los datos por cada característica $d$, $xmax_{d}$:\n",
    "\n",
    "$$\\hat{x}_{n,d} = \\frac{x_{n,d}}{xmax_{d}}$$\n",
    "\n",
    "NOTA: Si los máximos valores de los datos originales son 1, no hay necesidad de utilizar este método de normalización.\n",
    "\n",
    "Veamos un ejemplo de aplicación:"
   ]
  },
  {
   "cell_type": "code",
   "execution_count": 44,
   "metadata": {
    "colab": {
     "base_uri": "https://localhost:8080/",
     "height": 518
    },
    "id": "lJXYR7VSpqLw",
    "outputId": "533df0c6-43a3-4c60-c528-1ba8257c676d"
   },
   "outputs": [
    {
     "data": {
      "image/png": "[encoded data removed]",
      "text/plain": [
       "<Figure size 720x360 with 2 Axes>"
      ]
     },
     "metadata": {},
     "output_type": "display_data"
    }
   ],
   "source": [
    "NM = Normalizer(norm='max') # Método de maxima normalización\n",
    "\n",
    "data_NM = NM.fit_transform(data)\n",
    "\n",
    "data_NM = pd.DataFrame(data=data_NM, columns= ['Aa', ' Ao', ' Dcl', ' Iy', ' Sh'])\n",
    "\n",
    "fig = plt.figure(figsize=(10, 5)) # Se define el tamaño de la figura en ancho y altura    \n",
    "    \n",
    "ax = fig.add_subplot(1, 2, 1)   \n",
    "ax.scatter(data['Aa'], \n",
    "           data[' Ao'], \n",
    "           edgecolors=\"m\")\n",
    "\n",
    "plt.axhline(0, color=\"blue\") # Elegir color de la linea horizontal de referencia\n",
    "plt.title('Datos Originales') # Titulo de la gráfica\n",
    "plt.xlabel('Aa') # Etiqueta del eje x\n",
    "plt.ylabel('Ao') # Etiqueta del eje y\n",
    "\n",
    "ax = fig.add_subplot(1, 2, 2) \n",
    "ax.scatter(data_NM['Aa'], data_NM[' Ao'], edgecolors=\"c\")\n",
    "plt.axhline(0, color=\"blue\") # Elegir color de la linea horizontal de referencia\n",
    "plt.title('Datos con Máxima Normalización') # Titulo de la gráfica\n",
    "plt.xlabel('Aa') # Etiqueta del eje x\n",
    "plt.ylabel('Ao') # Etiqueta del eje y\n",
    "\n",
    "plt.show()"
   ]
  },
  {
   "cell_type": "code",
   "execution_count": 45,
   "metadata": {
    "colab": {
     "base_uri": "https://localhost:8080/",
     "height": 494
    },
    "id": "6l6eZxiGpt0p",
    "outputId": "7e2a478c-570c-430d-cbfb-6592198960d3"
   },
   "outputs": [
    {
     "data": {
      "image/png": "[encoded data removed]",
      "text/plain": [
       "<Figure size 720x360 with 1 Axes>"
      ]
     },
     "metadata": {},
     "output_type": "display_data"
    }
   ],
   "source": [
    "sns.set(rc={'figure.figsize':(10, 5)}) # Tamaño de la figura\n",
    "sns.set(style=\"whitegrid\") # Estilo de la figura\n",
    "sns.boxplot(data=data_NM, \n",
    "            linewidth=3, \n",
    "            palette=\"Set2\", \n",
    "            fliersize=5) # Diagrama Box Plot con los datos con normalización máxima\n",
    "\n",
    "sns.despine(left=True)"
   ]
  },
  {
   "cell_type": "markdown",
   "metadata": {
    "id": "52sDFZ7Ppw1W"
   },
   "source": [
    "### Normalización L1 - L2"
   ]
  },
  {
   "cell_type": "markdown",
   "metadata": {
    "id": "SRdU6WqzpyJ6"
   },
   "source": [
    "Es una transformación de datos que relaciona los datos $x_{n,d}$ con respecto a una norma L1 o una norma L2 o Euclidiana:\n",
    "\n",
    "$$L1(x_{n,d}) = \\frac{x_{n,d}}{\\vert \\vert x \\vert \\vert_{1}} =\\frac{x_{n,d}}{\\sum_{n=1}^N \\vert x_{n,d}\\vert}$$\n",
    "\n",
    "$$L2(x_{n,d}) = \\frac{x_{n,d}}{\\vert \\vert x \\vert \\vert_{2}}= \\frac{x_{n,d}}{\\sqrt{\\sum_{n=1}^N \\vert x_{n,d}\\vert^2}}$$\n",
    "\n",
    "En la norma L2, los datos son divididos o medidos por la longitud del vector en el espacio de coordenadas, lo cual no cambia la forma de la distribución natural de los datos originales debido a que esta normalización siempre se divide por una constante L2, $\\vert \\vert x \\vert \\vert_{2}$.\n",
    "\n",
    "Veamos un ejemplo aplicativo de esta transformación:"
   ]
  },
  {
   "cell_type": "code",
   "execution_count": 46,
   "metadata": {
    "colab": {
     "base_uri": "https://localhost:8080/",
     "height": 323
    },
    "id": "dZ4V0qdFp0_F",
    "outputId": "e042eee3-b9b5-417d-dcfe-06308e3edaac"
   },
   "outputs": [
    {
     "data": {
      "image/png": "[encoded data removed]",
      "text/plain": [
       "<Figure size 720x720 with 3 Axes>"
      ]
     },
     "metadata": {},
     "output_type": "display_data"
    }
   ],
   "source": [
    "L1 = Normalizer(norm='l1') # Método de normalización L1\n",
    "L2 = Normalizer(norm='l2') # Método de normalización L2\n",
    "\n",
    "data_L1 = L1.fit_transform(data)\n",
    "data_L2 = L2.fit_transform(data)\n",
    "data_L1 = pd.DataFrame(data=data_L1, columns=['Aa', ' Ao', ' Dcl', ' Iy', ' Sh'])\n",
    "data_L2 = pd.DataFrame(data=data_L2, columns=['Aa', ' Ao', ' Dcl', ' Iy', ' Sh'])\n",
    "\n",
    "fig = plt.figure(figsize=(10, 10)) # Se define el tamaño de la figura en ancho y altura    \n",
    "    \n",
    "ax = fig.add_subplot(3, 3, 1)   \n",
    "ax.scatter(data['Aa'], \n",
    "           data[' Ao'], \n",
    "           edgecolors=\"m\")\n",
    "plt.axhline(0, color=\"blue\") # Elegir color de la linea horizontal de referencia\n",
    "plt.title('Datos Originales') # Titulo de la gráfica\n",
    "plt.xlabel('Aa') # Etiqueta del eje x\n",
    "plt.ylabel('Ao') # Etiqueta del eje y\n",
    "\n",
    "ax = fig.add_subplot(3, 3, 2) \n",
    "ax.scatter(data_L1['Aa'], \n",
    "           data_L1[' Ao'], \n",
    "           edgecolors=\"r\")\n",
    "plt.axhline(0, color=\"blue\") # Elegir color de la linea horizontal de referencia\n",
    "plt.title('Datos con Normalización L1') # Titulo de la gráfica\n",
    "plt.xlabel('Aa') # Etiqueta del eje x\n",
    "plt.ylabel('Ao') # Etiqueta del eje y\n",
    "\n",
    "ax = fig.add_subplot(3, 3, 3) \n",
    "ax.scatter(data_L2['Aa'], \n",
    "           data_L2[' Ao'], \n",
    "           edgecolors=\"g\")\n",
    "plt.axhline(0, color=\"blue\") # Elegir color de la linea horizontal de referencia\n",
    "plt.title('Datos con Normalización L2') # Titulo de la gráfica\n",
    "plt.xlabel('Aa') # Etiqueta del eje x\n",
    "plt.ylabel('Ao') # Etiqueta del eje y\n",
    "\n",
    "plt.show()"
   ]
  },
  {
   "cell_type": "code",
   "execution_count": 47,
   "metadata": {
    "colab": {
     "base_uri": "https://localhost:8080/",
     "height": 496
    },
    "id": "PuI8rcT0p3OP",
    "outputId": "1ce213e2-414b-432c-f7a7-0bba3bf47040"
   },
   "outputs": [
    {
     "data": {
      "image/png": "[encoded data removed]",
      "text/plain": [
       "<Figure size 720x360 with 1 Axes>"
      ]
     },
     "metadata": {},
     "output_type": "display_data"
    }
   ],
   "source": [
    "sns.set(rc={'figure.figsize':(10, 5)}) # Tamaño de la figura\n",
    "sns.set(style=\"whitegrid\") # Estilo de la figura\n",
    "sns.boxplot(data=data_L1, \n",
    "            linewidth=3, \n",
    "            palette=\"Set2\", \n",
    "            fliersize=5) # Diagrama Box Plot con los datos con normalización L1\n",
    "\n",
    "sns.despine(left=True)"
   ]
  },
  {
   "cell_type": "code",
   "execution_count": 48,
   "metadata": {
    "colab": {
     "base_uri": "https://localhost:8080/",
     "height": 494
    },
    "id": "-7OJtu15p6ZQ",
    "outputId": "ea596eb9-2120-48ee-8bc2-76de7d201a22"
   },
   "outputs": [
    {
     "data": {
      "image/png": "[encoded data removed]",
      "text/plain": [
       "<Figure size 720x360 with 1 Axes>"
      ]
     },
     "metadata": {},
     "output_type": "display_data"
    }
   ],
   "source": [
    "sns.set(rc={'figure.figsize':(10, 5)}) # Tamaño de la figura\n",
    "sns.set(style=\"whitegrid\") # Estilo de la figura\n",
    "sns.boxplot(data=data_L2, \n",
    "            linewidth=3,\n",
    "            palette=\"Set2\", \n",
    "            fliersize=5) # Diagrama Box Plot con los datos con normalización L1\n",
    "\n",
    "sns.despine(left=True)"
   ]
  },
  {
   "cell_type": "markdown",
   "metadata": {
    "id": "F5VmnGkxp9O6"
   },
   "source": [
    "## Recomendaciones para el escalamiento de datos"
   ]
  },
  {
   "cell_type": "markdown",
   "metadata": {
    "id": "eMSTEEQmp-JF"
   },
   "source": [
    "1.   Cuando hay datos muy esparcidos (observándolos en el espacio de características), la normalización min-max y el escalamiento estándar pueden substraer una cantidad de datos desde los datos originales. Para este caso, la normalización min-max genera un desplazamiento sobre los valores mínimos de todas las características de los datos originales. Para el caso del escalamiento estándar, el desplazamiento se genera sobre los valores promedio de todas las características de los datos originales. Lo anterior puede ocasionar una alteración de los datos con valores mínimos o promedio si los datos tienen demasiado esparcidos en el espacio de características.\n",
    "\n",
    "2.   Considerando el mismo caso de los datos esparcidos, si el desplazamiento no es cero, entonces ambas transformaciones pueden convertir un vector de características dispersa donde la mayoría de los valores son cero cuando los datos están demasiado esparcidos. Lo anterior puede ocasionar un incremento el costo de máquina (consumo de memoría RAM) cuando se construye modelos con algoritmos de machine learning."
   ]
  },
  {
   "cell_type": "code",
   "execution_count": 49,
   "metadata": {},
   "outputs": [
    {
     "name": "stdout",
     "output_type": "stream",
     "text": [
      "22.3\n",
      "[0.23766816 0.19730942 0.14349776 0.1838565  0.23766816]\n"
     ]
    }
   ],
   "source": [
    "# Funcionamiento de L1\n",
    "ar = [5.3, 4.4, 3.2, 4.1, 5.3]\n",
    "print(sum(ar))\n",
    "print(np.array(ar) / sum(ar))"
   ]
  }
 ],
 "metadata": {
  "colab": {
   "provenance": [],
   "toc_visible": true
  },
  "kernelspec": {
   "display_name": "Python 3 (ipykernel)",
   "language": "python",
   "name": "python3"
  },
  "language_info": {
   "codemirror_mode": {
    "name": "ipython",
    "version": 3
   },
   "file_extension": ".py",
   "mimetype": "text/x-python",
   "name": "python",
   "nbconvert_exporter": "python",
   "pygments_lexer": "ipython3",
   "version": "3.9.13"
  },
  "toc-autonumbering": true
 },
 "nbformat": 4,
 "nbformat_minor": 4
}
