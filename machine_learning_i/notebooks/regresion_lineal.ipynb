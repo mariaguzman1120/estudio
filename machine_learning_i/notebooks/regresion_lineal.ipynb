{
 "cells": [
  {
   "cell_type": "markdown",
   "id": "b83468af",
   "metadata": {},
   "source": [
    "<span style=\"font-size: 30px;\">Taller Machine learning I</span>"
   ]
  },
  {
   "cell_type": "markdown",
   "id": "6f70f736",
   "metadata": {},
   "source": [
    "<span style=\"font-size: 20px;\">Integrantes</span>"
   ]
  },
  {
   "cell_type": "markdown",
   "id": "86505e5c",
   "metadata": {},
   "source": [
    "# Librerias"
   ]
  },
  {
   "cell_type": "code",
   "execution_count": 38,
   "id": "e18b22b1",
   "metadata": {},
   "outputs": [],
   "source": [
    "import matplotlib.pyplot as plt\n",
    "import numpy as np\n",
    "import os\n",
    "import pandas as pd\n",
    "import seaborn as sns\n",
    "\n",
    "from sklearn.ensemble import RandomForestRegressor\n",
    "from sklearn.linear_model import LinearRegression\n",
    "from sklearn.metrics import mean_squared_error\n",
    "from sklearn.metrics import r2_score\n",
    "from sklearn.model_selection import cross_val_score\n",
    "from sklearn.model_selection import GridSearchCV\n",
    "from sklearn.model_selection import learning_curve\n",
    "from sklearn.model_selection import train_test_split\n",
    "from sklearn.preprocessing import MinMaxScaler\n",
    "\n",
    "%matplotlib inline\n",
    "plt.style.use('ggplot')"
   ]
  },
  {
   "cell_type": "code",
   "execution_count": 2,
   "id": "e023a810",
   "metadata": {},
   "outputs": [],
   "source": [
    "pd.set_option('display.max_colwidth', None)\n",
    "pd.set_option('display.max_columns', None)"
   ]
  },
  {
   "cell_type": "markdown",
   "id": "8c28c289",
   "metadata": {},
   "source": [
    "# Funciones utils"
   ]
  },
  {
   "cell_type": "markdown",
   "id": "d0416300",
   "metadata": {},
   "source": [
    "## Gráficas"
   ]
  },
  {
   "cell_type": "code",
   "execution_count": 3,
   "id": "915a219d",
   "metadata": {},
   "outputs": [],
   "source": [
    "def box_plot(df: pd.DataFrame, showfliers: bool = True):\n",
    "    \"\"\"Genera un diagrama de cajas utilizando el mapa de colores RdYlGn.\n",
    "\n",
    "    Args:\n",
    "        df (pd.DataFrame): El DataFrame que se utilizará para generar \n",
    "         el diagrama de cajas.\n",
    "        showfliers (bool): Indica si se muestran o no los valores \n",
    "         atípicos en el diagrama de cajas. Valor predeterminado es True.\n",
    "\n",
    "    Returns:\n",
    "        None: Muestra el gráfico de barras.\n",
    "        \n",
    "    \"\"\"\n",
    "    # Generar el diagrama de cajas utilizando df.plot(kind='box')\n",
    "    ax = df.plot(kind='box', patch_artist=True, figsize=(8, 5), showfliers=showfliers, vert=False)\n",
    "    \n",
    "    # Configurar el mapa de colores\n",
    "    cmap = plt.cm.RdYlGn\n",
    "    \n",
    "    # Personalizar el color de las cajas utilizando el mapa de colores\n",
    "    for patch, color in zip(ax.artists, cmap(np.linspace(0.1, 0.9, len(ax.artists)))):\n",
    "        patch.set_facecolor(color)\n",
    "\n",
    "    plt.show()"
   ]
  },
  {
   "cell_type": "code",
   "execution_count": 4,
   "id": "7cc38fa4",
   "metadata": {},
   "outputs": [],
   "source": [
    "def plot_correlation(df: pd.DataFrame) -> None:\n",
    "    \"\"\"Grafica una matriz de correlación para un DataFrame dado.\n",
    "\n",
    "    Args:\n",
    "        df (pandas.DataFrame): DataFrame que contiene los datos.\n",
    "\n",
    "    Returns:\n",
    "        None: Muestra el gráfica de correlación.\n",
    "\n",
    "    \"\"\"\n",
    "    correlation_matrix = df.corr()\n",
    "    plt.figure(figsize=(10, 8))\n",
    "    sns.heatmap(correlation_matrix, annot=True, cmap=\"coolwarm\")\n",
    "    plt.title(\"Matriz de correlación\")\n",
    "    plt.show()"
   ]
  },
  {
   "cell_type": "code",
   "execution_count": 37,
   "id": "f92a2102",
   "metadata": {},
   "outputs": [],
   "source": [
    "def plot_learning_curve(model, X, y, train_sizes, cv):\n",
    "    \"\"\" Grafica las curvas de aprendizaje para un modelo de regresión lineal.\n",
    "\n",
    "    Args:\n",
    "        model: Modelo de regresión lineal ya ajustado.\n",
    "        X (array-like): Datos de entrada.\n",
    "        y (array-like): Valores objetivo.\n",
    "        train_sizes (array-like): Tamaños del conjunto de entrenamiento a evaluar.\n",
    "        cv (int): Número de divisiones para la validación cruzada.\n",
    "\n",
    "    \"\"\"\n",
    "    train_sizes, train_scores, test_scores = learning_curve(\n",
    "        model, X, y, train_sizes=train_sizes, cv=cv\n",
    "    )\n",
    "\n",
    "    train_scores_mean = np.mean(train_scores, axis=1)\n",
    "    train_scores_std = np.std(train_scores, axis=1)\n",
    "    test_scores_mean = np.mean(test_scores, axis=1)\n",
    "    test_scores_std = np.std(test_scores, axis=1)\n",
    "\n",
    "    plt.figure(figsize=(8, 6))\n",
    "    plt.plot(train_sizes, train_scores_mean, 'o-', color='blue', label='Puntuación de entrenamiento')\n",
    "    plt.plot(train_sizes, test_scores_mean, 'o-', color='red', label='Puntuación de validación')\n",
    "\n",
    "    plt.fill_between(\n",
    "        train_sizes, \n",
    "        train_scores_mean - train_scores_std,\n",
    "        train_scores_mean + train_scores_std, \n",
    "        alpha=0.1, \n",
    "        color='blue')\n",
    "    plt.fill_between(\n",
    "        train_sizes, \n",
    "        test_scores_mean - test_scores_std,\n",
    "        test_scores_mean + test_scores_std, \n",
    "        alpha=0.1, \n",
    "        color='red')\n",
    "\n",
    "    plt.xlabel('Tamaño del conjunto de entrenamiento')\n",
    "    plt.ylabel('Puntuación')\n",
    "    plt.title('Curvas de Aprendizaje')\n",
    "    plt.legend(loc='best')\n",
    "    plt.grid(True)\n",
    "    plt.show()"
   ]
  },
  {
   "cell_type": "markdown",
   "id": "cf5917fa",
   "metadata": {},
   "source": [
    "## Análisis"
   ]
  },
  {
   "cell_type": "code",
   "execution_count": 5,
   "id": "26cd7b95",
   "metadata": {},
   "outputs": [],
   "source": [
    "def corr_features(correlation_matrix: pd.DataFrame, \n",
    "                  threshold: float) -> None:\n",
    "    \"\"\"Encuentra las características altamente relacionadas \n",
    "     basadas en una matriz de correlación y un umbral dado.\n",
    "\n",
    "    Args:\n",
    "        correlation_matrix: Matriz de correlación.\n",
    "        threshold: Umbral para considerar una alta correlación.\n",
    "\n",
    "    Returns:\n",
    "        list: Lista de pares de características altamente relacionadas.\n",
    "\n",
    "    \"\"\"\n",
    "    correlated_features = []\n",
    "    n_features = len(correlation_matrix.columns)\n",
    "\n",
    "    for i in range(n_features):\n",
    "        for j in range(i + 1, n_features):\n",
    "            correlation = correlation_matrix.iloc[i, j]\n",
    "            if abs(correlation) >= threshold:\n",
    "                feature_i = correlation_matrix.columns[i]\n",
    "                feature_j = correlation_matrix.columns[j]\n",
    "                correlated_features.append((feature_i, feature_j))\n",
    "\n",
    "    return correlated_features"
   ]
  },
  {
   "cell_type": "markdown",
   "id": "0f77c35a",
   "metadata": {},
   "source": [
    "# Carga de datos"
   ]
  },
  {
   "cell_type": "code",
   "execution_count": 6,
   "id": "59d7edd5",
   "metadata": {},
   "outputs": [],
   "source": [
    "path = os.path.join('..', 'data', 'youtube_model.parquet')\n",
    "youtube_model = pd.read_parquet(path)"
   ]
  },
  {
   "cell_type": "code",
   "execution_count": 7,
   "id": "0120a822",
   "metadata": {},
   "outputs": [
    {
     "data": {
      "text/html": [
       "<div>\n",
       "<style scoped>\n",
       "    .dataframe tbody tr th:only-of-type {\n",
       "        vertical-align: middle;\n",
       "    }\n",
       "\n",
       "    .dataframe tbody tr th {\n",
       "        vertical-align: top;\n",
       "    }\n",
       "\n",
       "    .dataframe thead th {\n",
       "        text-align: right;\n",
       "    }\n",
       "</style>\n",
       "<table border=\"1\" class=\"dataframe\">\n",
       "  <thead>\n",
       "    <tr style=\"text-align: right;\">\n",
       "      <th></th>\n",
       "      <th>views</th>\n",
       "      <th>likes</th>\n",
       "      <th>dislikes</th>\n",
       "      <th>comment_count</th>\n",
       "      <th>days</th>\n",
       "      <th>title_length</th>\n",
       "      <th>tag_count</th>\n",
       "      <th>category</th>\n",
       "    </tr>\n",
       "  </thead>\n",
       "  <tbody>\n",
       "    <tr>\n",
       "      <th>0</th>\n",
       "      <td>2418783</td>\n",
       "      <td>97185</td>\n",
       "      <td>6146</td>\n",
       "      <td>12703</td>\n",
       "      <td>0</td>\n",
       "      <td>62</td>\n",
       "      <td>4</td>\n",
       "      <td>Entertainment</td>\n",
       "    </tr>\n",
       "    <tr>\n",
       "      <th>1</th>\n",
       "      <td>343168</td>\n",
       "      <td>10172</td>\n",
       "      <td>666</td>\n",
       "      <td>2146</td>\n",
       "      <td>0</td>\n",
       "      <td>32</td>\n",
       "      <td>27</td>\n",
       "      <td>Entertainment</td>\n",
       "    </tr>\n",
       "  </tbody>\n",
       "</table>\n",
       "</div>"
      ],
      "text/plain": [
       "     views  likes  dislikes  comment_count  days  title_length  tag_count  \\\n",
       "0  2418783  97185      6146          12703     0            62          4   \n",
       "1   343168  10172       666           2146     0            32         27   \n",
       "\n",
       "        category  \n",
       "0  Entertainment  \n",
       "1  Entertainment  "
      ]
     },
     "execution_count": 7,
     "metadata": {},
     "output_type": "execute_result"
    }
   ],
   "source": [
    "youtube_model.head(2)"
   ]
  },
  {
   "cell_type": "markdown",
   "id": "ebba8481",
   "metadata": {},
   "source": [
    "# Exploración"
   ]
  },
  {
   "cell_type": "markdown",
   "id": "22e663d5",
   "metadata": {},
   "source": [
    "* Inicialmente no tendremos en cuenta la variable objetivo"
   ]
  },
  {
   "cell_type": "code",
   "execution_count": 8,
   "id": "b72cb670",
   "metadata": {},
   "outputs": [
    {
     "name": "stdout",
     "output_type": "stream",
     "text": [
      "<class 'pandas.core.frame.DataFrame'>\n",
      "RangeIndex: 34669 entries, 0 to 34668\n",
      "Data columns (total 8 columns):\n",
      " #   Column         Non-Null Count  Dtype \n",
      "---  ------         --------------  ----- \n",
      " 0   views          34669 non-null  int64 \n",
      " 1   likes          34669 non-null  int64 \n",
      " 2   dislikes       34669 non-null  int64 \n",
      " 3   comment_count  34669 non-null  int64 \n",
      " 4   days           34669 non-null  int64 \n",
      " 5   title_length   34669 non-null  int64 \n",
      " 6   tag_count      34669 non-null  int64 \n",
      " 7   category       34669 non-null  object\n",
      "dtypes: int64(7), object(1)\n",
      "memory usage: 2.1+ MB\n"
     ]
    }
   ],
   "source": [
    "youtube_model.info()"
   ]
  },
  {
   "cell_type": "code",
   "execution_count": 9,
   "id": "b15c02da",
   "metadata": {},
   "outputs": [],
   "source": [
    "cols = ['views', 'dislikes', 'comment_count', 'days', 'title_length', 'tag_count']"
   ]
  },
  {
   "cell_type": "code",
   "execution_count": 10,
   "id": "b64859f9",
   "metadata": {},
   "outputs": [],
   "source": [
    "youtube = youtube_model[cols]"
   ]
  },
  {
   "cell_type": "code",
   "execution_count": 11,
   "id": "83c7d020",
   "metadata": {},
   "outputs": [
    {
     "data": {
      "image/png": "[encoded data removed]",
      "text/plain": [
       "<Figure size 576x360 with 1 Axes>"
      ]
     },
     "metadata": {},
     "output_type": "display_data"
    }
   ],
   "source": [
    "box_plot(youtube, showfliers=False)"
   ]
  },
  {
   "cell_type": "markdown",
   "id": "8d213e6e",
   "metadata": {},
   "source": [
    "* Escalamos los datos para tener una visión clara"
   ]
  },
  {
   "cell_type": "code",
   "execution_count": 12,
   "id": "cc162653",
   "metadata": {},
   "outputs": [],
   "source": [
    "min_max = MinMaxScaler()\n",
    "\n",
    "numeric_scale = min_max.fit_transform(youtube)\n",
    "numeric_scale = pd.DataFrame(numeric_scale, columns=youtube.columns)"
   ]
  },
  {
   "cell_type": "code",
   "execution_count": 13,
   "id": "2cad4e5e",
   "metadata": {},
   "outputs": [
    {
     "data": {
      "image/png": "[encoded data removed]",
      "text/plain": [
       "<Figure size 576x360 with 1 Axes>"
      ]
     },
     "metadata": {},
     "output_type": "display_data"
    }
   ],
   "source": [
    "box_plot(numeric_scale, showfliers=False)"
   ]
  },
  {
   "cell_type": "code",
   "execution_count": 14,
   "id": "3111a24f",
   "metadata": {},
   "outputs": [
    {
     "data": {
      "text/html": [
       "<div>\n",
       "<style scoped>\n",
       "    .dataframe tbody tr th:only-of-type {\n",
       "        vertical-align: middle;\n",
       "    }\n",
       "\n",
       "    .dataframe tbody tr th {\n",
       "        vertical-align: top;\n",
       "    }\n",
       "\n",
       "    .dataframe thead th {\n",
       "        text-align: right;\n",
       "    }\n",
       "</style>\n",
       "<table border=\"1\" class=\"dataframe\">\n",
       "  <thead>\n",
       "    <tr style=\"text-align: right;\">\n",
       "      <th></th>\n",
       "      <th>views</th>\n",
       "      <th>dislikes</th>\n",
       "      <th>comment_count</th>\n",
       "      <th>days</th>\n",
       "      <th>title_length</th>\n",
       "      <th>tag_count</th>\n",
       "    </tr>\n",
       "  </thead>\n",
       "  <tbody>\n",
       "    <tr>\n",
       "      <th>count</th>\n",
       "      <td>3.466900e+04</td>\n",
       "      <td>3.466900e+04</td>\n",
       "      <td>3.466900e+04</td>\n",
       "      <td>34669.000000</td>\n",
       "      <td>34669.000000</td>\n",
       "      <td>34669.000000</td>\n",
       "    </tr>\n",
       "    <tr>\n",
       "      <th>mean</th>\n",
       "      <td>2.288998e+06</td>\n",
       "      <td>3.501578e+03</td>\n",
       "      <td>7.609041e+03</td>\n",
       "      <td>16.885604</td>\n",
       "      <td>47.919640</td>\n",
       "      <td>19.704895</td>\n",
       "    </tr>\n",
       "    <tr>\n",
       "      <th>std</th>\n",
       "      <td>7.396248e+06</td>\n",
       "      <td>2.999773e+04</td>\n",
       "      <td>3.070281e+04</td>\n",
       "      <td>150.651921</td>\n",
       "      <td>19.478644</td>\n",
       "      <td>11.974529</td>\n",
       "    </tr>\n",
       "    <tr>\n",
       "      <th>min</th>\n",
       "      <td>5.490000e+02</td>\n",
       "      <td>0.000000e+00</td>\n",
       "      <td>0.000000e+00</td>\n",
       "      <td>-1.000000</td>\n",
       "      <td>3.000000</td>\n",
       "      <td>1.000000</td>\n",
       "    </tr>\n",
       "    <tr>\n",
       "      <th>25%</th>\n",
       "      <td>2.345420e+05</td>\n",
       "      <td>1.960000e+02</td>\n",
       "      <td>6.130000e+02</td>\n",
       "      <td>2.000000</td>\n",
       "      <td>34.000000</td>\n",
       "      <td>10.000000</td>\n",
       "    </tr>\n",
       "    <tr>\n",
       "      <th>50%</th>\n",
       "      <td>6.454490e+05</td>\n",
       "      <td>5.970000e+02</td>\n",
       "      <td>1.807000e+03</td>\n",
       "      <td>5.000000</td>\n",
       "      <td>46.000000</td>\n",
       "      <td>19.000000</td>\n",
       "    </tr>\n",
       "    <tr>\n",
       "      <th>75%</th>\n",
       "      <td>1.711967e+06</td>\n",
       "      <td>1.799000e+03</td>\n",
       "      <td>5.513000e+03</td>\n",
       "      <td>8.000000</td>\n",
       "      <td>60.000000</td>\n",
       "      <td>29.000000</td>\n",
       "    </tr>\n",
       "    <tr>\n",
       "      <th>max</th>\n",
       "      <td>2.252119e+08</td>\n",
       "      <td>1.674420e+06</td>\n",
       "      <td>1.361580e+06</td>\n",
       "      <td>4214.000000</td>\n",
       "      <td>111.000000</td>\n",
       "      <td>69.000000</td>\n",
       "    </tr>\n",
       "  </tbody>\n",
       "</table>\n",
       "</div>"
      ],
      "text/plain": [
       "              views      dislikes  comment_count          days  title_length  \\\n",
       "count  3.466900e+04  3.466900e+04   3.466900e+04  34669.000000  34669.000000   \n",
       "mean   2.288998e+06  3.501578e+03   7.609041e+03     16.885604     47.919640   \n",
       "std    7.396248e+06  2.999773e+04   3.070281e+04    150.651921     19.478644   \n",
       "min    5.490000e+02  0.000000e+00   0.000000e+00     -1.000000      3.000000   \n",
       "25%    2.345420e+05  1.960000e+02   6.130000e+02      2.000000     34.000000   \n",
       "50%    6.454490e+05  5.970000e+02   1.807000e+03      5.000000     46.000000   \n",
       "75%    1.711967e+06  1.799000e+03   5.513000e+03      8.000000     60.000000   \n",
       "max    2.252119e+08  1.674420e+06   1.361580e+06   4214.000000    111.000000   \n",
       "\n",
       "          tag_count  \n",
       "count  34669.000000  \n",
       "mean      19.704895  \n",
       "std       11.974529  \n",
       "min        1.000000  \n",
       "25%       10.000000  \n",
       "50%       19.000000  \n",
       "75%       29.000000  \n",
       "max       69.000000  "
      ]
     },
     "execution_count": 14,
     "metadata": {},
     "output_type": "execute_result"
    }
   ],
   "source": [
    "youtube.describe()"
   ]
  },
  {
   "cell_type": "markdown",
   "id": "a7c4ac2a",
   "metadata": {},
   "source": [
    "* Correlación lineal"
   ]
  },
  {
   "cell_type": "code",
   "execution_count": 15,
   "id": "db241ab6",
   "metadata": {},
   "outputs": [
    {
     "data": {
      "image/png": "[encoded data removed]",
      "text/plain": [
       "<Figure size 720x576 with 2 Axes>"
      ]
     },
     "metadata": {},
     "output_type": "display_data"
    }
   ],
   "source": [
    "plot_correlation(youtube.corr())"
   ]
  },
  {
   "cell_type": "code",
   "execution_count": 16,
   "id": "0b22562f",
   "metadata": {},
   "outputs": [
    {
     "data": {
      "text/plain": [
       "[('views', 'dislikes'),\n",
       " ('views', 'comment_count'),\n",
       " ('dislikes', 'comment_count'),\n",
       " ('comment_count', 'title_length'),\n",
       " ('title_length', 'tag_count')]"
      ]
     },
     "execution_count": 16,
     "metadata": {},
     "output_type": "execute_result"
    }
   ],
   "source": [
    "corr_features(youtube.corr(), 0.07)"
   ]
  },
  {
   "cell_type": "code",
   "execution_count": 17,
   "id": "d94522d7",
   "metadata": {},
   "outputs": [],
   "source": [
    "drop_cols = ['title_length']"
   ]
  },
  {
   "cell_type": "code",
   "execution_count": 18,
   "id": "b7dbd298",
   "metadata": {},
   "outputs": [],
   "source": [
    "youtube_model.drop(drop_cols, axis=1, inplace=True)"
   ]
  },
  {
   "cell_type": "code",
   "execution_count": 19,
   "id": "49587c5a",
   "metadata": {},
   "outputs": [
    {
     "data": {
      "text/html": [
       "<div>\n",
       "<style scoped>\n",
       "    .dataframe tbody tr th:only-of-type {\n",
       "        vertical-align: middle;\n",
       "    }\n",
       "\n",
       "    .dataframe tbody tr th {\n",
       "        vertical-align: top;\n",
       "    }\n",
       "\n",
       "    .dataframe thead th {\n",
       "        text-align: right;\n",
       "    }\n",
       "</style>\n",
       "<table border=\"1\" class=\"dataframe\">\n",
       "  <thead>\n",
       "    <tr style=\"text-align: right;\">\n",
       "      <th></th>\n",
       "      <th>views</th>\n",
       "      <th>likes</th>\n",
       "      <th>dislikes</th>\n",
       "      <th>comment_count</th>\n",
       "      <th>days</th>\n",
       "      <th>tag_count</th>\n",
       "      <th>category</th>\n",
       "    </tr>\n",
       "  </thead>\n",
       "  <tbody>\n",
       "    <tr>\n",
       "      <th>0</th>\n",
       "      <td>2418783</td>\n",
       "      <td>97185</td>\n",
       "      <td>6146</td>\n",
       "      <td>12703</td>\n",
       "      <td>0</td>\n",
       "      <td>4</td>\n",
       "      <td>Entertainment</td>\n",
       "    </tr>\n",
       "    <tr>\n",
       "      <th>1</th>\n",
       "      <td>343168</td>\n",
       "      <td>10172</td>\n",
       "      <td>666</td>\n",
       "      <td>2146</td>\n",
       "      <td>0</td>\n",
       "      <td>27</td>\n",
       "      <td>Entertainment</td>\n",
       "    </tr>\n",
       "    <tr>\n",
       "      <th>2</th>\n",
       "      <td>2095731</td>\n",
       "      <td>132235</td>\n",
       "      <td>1989</td>\n",
       "      <td>17518</td>\n",
       "      <td>1</td>\n",
       "      <td>14</td>\n",
       "      <td>Entertainment</td>\n",
       "    </tr>\n",
       "    <tr>\n",
       "      <th>3</th>\n",
       "      <td>817732</td>\n",
       "      <td>23663</td>\n",
       "      <td>778</td>\n",
       "      <td>3432</td>\n",
       "      <td>1</td>\n",
       "      <td>13</td>\n",
       "      <td>Science &amp; Technology</td>\n",
       "    </tr>\n",
       "    <tr>\n",
       "      <th>4</th>\n",
       "      <td>826059</td>\n",
       "      <td>3543</td>\n",
       "      <td>119</td>\n",
       "      <td>340</td>\n",
       "      <td>0</td>\n",
       "      <td>28</td>\n",
       "      <td>Film &amp; Animation</td>\n",
       "    </tr>\n",
       "  </tbody>\n",
       "</table>\n",
       "</div>"
      ],
      "text/plain": [
       "     views   likes  dislikes  comment_count  days  tag_count  \\\n",
       "0  2418783   97185      6146          12703     0          4   \n",
       "1   343168   10172       666           2146     0         27   \n",
       "2  2095731  132235      1989          17518     1         14   \n",
       "3   817732   23663       778           3432     1         13   \n",
       "4   826059    3543       119            340     0         28   \n",
       "\n",
       "               category  \n",
       "0         Entertainment  \n",
       "1         Entertainment  \n",
       "2         Entertainment  \n",
       "3  Science & Technology  \n",
       "4      Film & Animation  "
      ]
     },
     "execution_count": 19,
     "metadata": {},
     "output_type": "execute_result"
    }
   ],
   "source": [
    "youtube_model.head()"
   ]
  },
  {
   "cell_type": "markdown",
   "id": "3eab6f8e",
   "metadata": {},
   "source": [
    "# Trasformaciones"
   ]
  },
  {
   "cell_type": "code",
   "execution_count": 20,
   "id": "05ac8d7e",
   "metadata": {},
   "outputs": [],
   "source": [
    "youtube_regresion = pd.get_dummies(youtube_model, columns=['category'], dtype=int)"
   ]
  },
  {
   "cell_type": "code",
   "execution_count": 21,
   "id": "190f7077",
   "metadata": {},
   "outputs": [
    {
     "data": {
      "text/html": [
       "<div>\n",
       "<style scoped>\n",
       "    .dataframe tbody tr th:only-of-type {\n",
       "        vertical-align: middle;\n",
       "    }\n",
       "\n",
       "    .dataframe tbody tr th {\n",
       "        vertical-align: top;\n",
       "    }\n",
       "\n",
       "    .dataframe thead th {\n",
       "        text-align: right;\n",
       "    }\n",
       "</style>\n",
       "<table border=\"1\" class=\"dataframe\">\n",
       "  <thead>\n",
       "    <tr style=\"text-align: right;\">\n",
       "      <th></th>\n",
       "      <th>views</th>\n",
       "      <th>likes</th>\n",
       "      <th>dislikes</th>\n",
       "      <th>comment_count</th>\n",
       "      <th>days</th>\n",
       "      <th>tag_count</th>\n",
       "      <th>category_Comedy</th>\n",
       "      <th>category_Entertainment</th>\n",
       "      <th>category_Film &amp; Animation</th>\n",
       "      <th>category_Howto &amp; Style</th>\n",
       "      <th>category_Music</th>\n",
       "      <th>category_News &amp; Politics</th>\n",
       "      <th>category_Other</th>\n",
       "      <th>category_People &amp; Blogs</th>\n",
       "      <th>category_Science &amp; Technology</th>\n",
       "      <th>category_Sports</th>\n",
       "    </tr>\n",
       "  </thead>\n",
       "  <tbody>\n",
       "    <tr>\n",
       "      <th>0</th>\n",
       "      <td>2418783</td>\n",
       "      <td>97185</td>\n",
       "      <td>6146</td>\n",
       "      <td>12703</td>\n",
       "      <td>0</td>\n",
       "      <td>4</td>\n",
       "      <td>0</td>\n",
       "      <td>1</td>\n",
       "      <td>0</td>\n",
       "      <td>0</td>\n",
       "      <td>0</td>\n",
       "      <td>0</td>\n",
       "      <td>0</td>\n",
       "      <td>0</td>\n",
       "      <td>0</td>\n",
       "      <td>0</td>\n",
       "    </tr>\n",
       "    <tr>\n",
       "      <th>1</th>\n",
       "      <td>343168</td>\n",
       "      <td>10172</td>\n",
       "      <td>666</td>\n",
       "      <td>2146</td>\n",
       "      <td>0</td>\n",
       "      <td>27</td>\n",
       "      <td>0</td>\n",
       "      <td>1</td>\n",
       "      <td>0</td>\n",
       "      <td>0</td>\n",
       "      <td>0</td>\n",
       "      <td>0</td>\n",
       "      <td>0</td>\n",
       "      <td>0</td>\n",
       "      <td>0</td>\n",
       "      <td>0</td>\n",
       "    </tr>\n",
       "    <tr>\n",
       "      <th>2</th>\n",
       "      <td>2095731</td>\n",
       "      <td>132235</td>\n",
       "      <td>1989</td>\n",
       "      <td>17518</td>\n",
       "      <td>1</td>\n",
       "      <td>14</td>\n",
       "      <td>0</td>\n",
       "      <td>1</td>\n",
       "      <td>0</td>\n",
       "      <td>0</td>\n",
       "      <td>0</td>\n",
       "      <td>0</td>\n",
       "      <td>0</td>\n",
       "      <td>0</td>\n",
       "      <td>0</td>\n",
       "      <td>0</td>\n",
       "    </tr>\n",
       "    <tr>\n",
       "      <th>3</th>\n",
       "      <td>817732</td>\n",
       "      <td>23663</td>\n",
       "      <td>778</td>\n",
       "      <td>3432</td>\n",
       "      <td>1</td>\n",
       "      <td>13</td>\n",
       "      <td>0</td>\n",
       "      <td>0</td>\n",
       "      <td>0</td>\n",
       "      <td>0</td>\n",
       "      <td>0</td>\n",
       "      <td>0</td>\n",
       "      <td>0</td>\n",
       "      <td>0</td>\n",
       "      <td>1</td>\n",
       "      <td>0</td>\n",
       "    </tr>\n",
       "    <tr>\n",
       "      <th>4</th>\n",
       "      <td>826059</td>\n",
       "      <td>3543</td>\n",
       "      <td>119</td>\n",
       "      <td>340</td>\n",
       "      <td>0</td>\n",
       "      <td>28</td>\n",
       "      <td>0</td>\n",
       "      <td>0</td>\n",
       "      <td>1</td>\n",
       "      <td>0</td>\n",
       "      <td>0</td>\n",
       "      <td>0</td>\n",
       "      <td>0</td>\n",
       "      <td>0</td>\n",
       "      <td>0</td>\n",
       "      <td>0</td>\n",
       "    </tr>\n",
       "  </tbody>\n",
       "</table>\n",
       "</div>"
      ],
      "text/plain": [
       "     views   likes  dislikes  comment_count  days  tag_count  category_Comedy  \\\n",
       "0  2418783   97185      6146          12703     0          4                0   \n",
       "1   343168   10172       666           2146     0         27                0   \n",
       "2  2095731  132235      1989          17518     1         14                0   \n",
       "3   817732   23663       778           3432     1         13                0   \n",
       "4   826059    3543       119            340     0         28                0   \n",
       "\n",
       "   category_Entertainment  category_Film & Animation  category_Howto & Style  \\\n",
       "0                       1                          0                       0   \n",
       "1                       1                          0                       0   \n",
       "2                       1                          0                       0   \n",
       "3                       0                          0                       0   \n",
       "4                       0                          1                       0   \n",
       "\n",
       "   category_Music  category_News & Politics  category_Other  \\\n",
       "0               0                         0               0   \n",
       "1               0                         0               0   \n",
       "2               0                         0               0   \n",
       "3               0                         0               0   \n",
       "4               0                         0               0   \n",
       "\n",
       "   category_People & Blogs  category_Science & Technology  category_Sports  \n",
       "0                        0                              0                0  \n",
       "1                        0                              0                0  \n",
       "2                        0                              0                0  \n",
       "3                        0                              1                0  \n",
       "4                        0                              0                0  "
      ]
     },
     "execution_count": 21,
     "metadata": {},
     "output_type": "execute_result"
    }
   ],
   "source": [
    "youtube_regresion.head()"
   ]
  },
  {
   "cell_type": "code",
   "execution_count": 22,
   "id": "245eff28",
   "metadata": {},
   "outputs": [],
   "source": [
    "x = youtube_regresion.drop('likes', axis=1)\n",
    "y = youtube_regresion['likes']"
   ]
  },
  {
   "cell_type": "markdown",
   "id": "2baa1ddb",
   "metadata": {},
   "source": [
    "## Escalamiento de datos"
   ]
  },
  {
   "cell_type": "code",
   "execution_count": 23,
   "id": "9ed3cd33",
   "metadata": {},
   "outputs": [],
   "source": [
    "min_max = MinMaxScaler()\n",
    "\n",
    "numeric_scale = min_max.fit_transform(x)\n",
    "\n",
    "numeric_scale = pd.DataFrame(numeric_scale, columns=x.columns)"
   ]
  },
  {
   "cell_type": "markdown",
   "id": "4c156cdc",
   "metadata": {},
   "source": [
    "# Modelos"
   ]
  },
  {
   "cell_type": "markdown",
   "id": "a32f638c",
   "metadata": {},
   "source": [
    "## Regresión lineal"
   ]
  },
  {
   "cell_type": "code",
   "execution_count": 24,
   "id": "784e1b1d",
   "metadata": {},
   "outputs": [],
   "source": [
    "x_train, x_test, y_train, y_test = train_test_split(\n",
    "    numeric_scale, y, train_size=0.8, random_state=1234, shuffle=True\n",
    ")"
   ]
  },
  {
   "cell_type": "code",
   "execution_count": 25,
   "id": "f6c8981b",
   "metadata": {},
   "outputs": [],
   "source": [
    "lr = LinearRegression()"
   ]
  },
  {
   "cell_type": "code",
   "execution_count": 26,
   "id": "933cc307",
   "metadata": {},
   "outputs": [
    {
     "data": {
      "text/html": [
       "<style>#sk-container-id-1 {color: black;background-color: white;}#sk-container-id-1 pre{padding: 0;}#sk-container-id-1 div.sk-toggleable {background-color: white;}#sk-container-id-1 label.sk-toggleable__label {cursor: pointer;display: block;width: 100%;margin-bottom: 0;padding: 0.3em;box-sizing: border-box;text-align: center;}#sk-container-id-1 label.sk-toggleable__label-arrow:before {content: \"▸\";float: left;margin-right: 0.25em;color: #696969;}#sk-container-id-1 label.sk-toggleable__label-arrow:hover:before {color: black;}#sk-container-id-1 div.sk-estimator:hover label.sk-toggleable__label-arrow:before {color: black;}#sk-container-id-1 div.sk-toggleable__content {max-height: 0;max-width: 0;overflow: hidden;text-align: left;background-color: #f0f8ff;}#sk-container-id-1 div.sk-toggleable__content pre {margin: 0.2em;color: black;border-radius: 0.25em;background-color: #f0f8ff;}#sk-container-id-1 input.sk-toggleable__control:checked~div.sk-toggleable__content {max-height: 200px;max-width: 100%;overflow: auto;}#sk-container-id-1 input.sk-toggleable__control:checked~label.sk-toggleable__label-arrow:before {content: \"▾\";}#sk-container-id-1 div.sk-estimator input.sk-toggleable__control:checked~label.sk-toggleable__label {background-color: #d4ebff;}#sk-container-id-1 div.sk-label input.sk-toggleable__control:checked~label.sk-toggleable__label {background-color: #d4ebff;}#sk-container-id-1 input.sk-hidden--visually {border: 0;clip: rect(1px 1px 1px 1px);clip: rect(1px, 1px, 1px, 1px);height: 1px;margin: -1px;overflow: hidden;padding: 0;position: absolute;width: 1px;}#sk-container-id-1 div.sk-estimator {font-family: monospace;background-color: #f0f8ff;border: 1px dotted black;border-radius: 0.25em;box-sizing: border-box;margin-bottom: 0.5em;}#sk-container-id-1 div.sk-estimator:hover {background-color: #d4ebff;}#sk-container-id-1 div.sk-parallel-item::after {content: \"\";width: 100%;border-bottom: 1px solid gray;flex-grow: 1;}#sk-container-id-1 div.sk-label:hover label.sk-toggleable__label {background-color: #d4ebff;}#sk-container-id-1 div.sk-serial::before {content: \"\";position: absolute;border-left: 1px solid gray;box-sizing: border-box;top: 0;bottom: 0;left: 50%;z-index: 0;}#sk-container-id-1 div.sk-serial {display: flex;flex-direction: column;align-items: center;background-color: white;padding-right: 0.2em;padding-left: 0.2em;position: relative;}#sk-container-id-1 div.sk-item {position: relative;z-index: 1;}#sk-container-id-1 div.sk-parallel {display: flex;align-items: stretch;justify-content: center;background-color: white;position: relative;}#sk-container-id-1 div.sk-item::before, #sk-container-id-1 div.sk-parallel-item::before {content: \"\";position: absolute;border-left: 1px solid gray;box-sizing: border-box;top: 0;bottom: 0;left: 50%;z-index: -1;}#sk-container-id-1 div.sk-parallel-item {display: flex;flex-direction: column;z-index: 1;position: relative;background-color: white;}#sk-container-id-1 div.sk-parallel-item:first-child::after {align-self: flex-end;width: 50%;}#sk-container-id-1 div.sk-parallel-item:last-child::after {align-self: flex-start;width: 50%;}#sk-container-id-1 div.sk-parallel-item:only-child::after {width: 0;}#sk-container-id-1 div.sk-dashed-wrapped {border: 1px dashed gray;margin: 0 0.4em 0.5em 0.4em;box-sizing: border-box;padding-bottom: 0.4em;background-color: white;}#sk-container-id-1 div.sk-label label {font-family: monospace;font-weight: bold;display: inline-block;line-height: 1.2em;}#sk-container-id-1 div.sk-label-container {text-align: center;}#sk-container-id-1 div.sk-container {/* jupyter's `normalize.less` sets `[hidden] { display: none; }` but bootstrap.min.css set `[hidden] { display: none !important; }` so we also need the `!important` here to be able to override the default hidden behavior on the sphinx rendered scikit-learn.org. See: https://github.com/scikit-learn/scikit-learn/issues/21755 */display: inline-block !important;position: relative;}#sk-container-id-1 div.sk-text-repr-fallback {display: none;}</style><div id=\"sk-container-id-1\" class=\"sk-top-container\"><div class=\"sk-text-repr-fallback\"><pre>LinearRegression()</pre><b>In a Jupyter environment, please rerun this cell to show the HTML representation or trust the notebook. <br />On GitHub, the HTML representation is unable to render, please try loading this page with nbviewer.org.</b></div><div class=\"sk-container\" hidden><div class=\"sk-item\"><div class=\"sk-estimator sk-toggleable\"><input class=\"sk-toggleable__control sk-hidden--visually\" id=\"sk-estimator-id-1\" type=\"checkbox\" checked><label for=\"sk-estimator-id-1\" class=\"sk-toggleable__label sk-toggleable__label-arrow\">LinearRegression</label><div class=\"sk-toggleable__content\"><pre>LinearRegression()</pre></div></div></div></div></div>"
      ],
      "text/plain": [
       "LinearRegression()"
      ]
     },
     "execution_count": 26,
     "metadata": {},
     "output_type": "execute_result"
    }
   ],
   "source": [
    "lr.fit(x_train, y_train)"
   ]
  },
  {
   "cell_type": "code",
   "execution_count": 27,
   "id": "99f3cb11",
   "metadata": {},
   "outputs": [],
   "source": [
    "y_predict = lr.predict(x_test)"
   ]
  },
  {
   "cell_type": "code",
   "execution_count": 28,
   "id": "4762844c",
   "metadata": {},
   "outputs": [
    {
     "data": {
      "text/plain": [
       "0.916148644668527"
      ]
     },
     "execution_count": 28,
     "metadata": {},
     "output_type": "execute_result"
    }
   ],
   "source": [
    "r2_score(y_test, y_predict)"
   ]
  },
  {
   "cell_type": "markdown",
   "id": "3d81d28e",
   "metadata": {},
   "source": [
    "### Curvas de aprendizaje"
   ]
  },
  {
   "cell_type": "code",
   "execution_count": 36,
   "id": "b5227b1b",
   "metadata": {},
   "outputs": [
    {
     "data": {
      "image/png": "[encoded data removed]",
      "text/plain": [
       "<Figure size 576x432 with 1 Axes>"
      ]
     },
     "metadata": {},
     "output_type": "display_data"
    }
   ],
   "source": [
    "train_sizes = [100, 500, 1000, 2000, 3000, 5000, 10000, 15000, 20000]\n",
    "\n",
    "plot_learning_curve(lr, x_train, y_train, train_sizes=train_sizes, cv=5)"
   ]
  },
  {
   "cell_type": "code",
   "execution_count": 33,
   "id": "c9dde232",
   "metadata": {},
   "outputs": [
    {
     "data": {
      "text/plain": [
       "(27735, 15)"
      ]
     },
     "execution_count": 33,
     "metadata": {},
     "output_type": "execute_result"
    }
   ],
   "source": [
    "x_train.shape"
   ]
  },
  {
   "cell_type": "markdown",
   "id": "919678f4",
   "metadata": {},
   "source": [
    "## Random Forest Regressor"
   ]
  },
  {
   "cell_type": "markdown",
   "id": "f87f5186",
   "metadata": {},
   "source": [
    "* Usamos GridSearchCV para buscar el mejor modelo"
   ]
  },
  {
   "cell_type": "code",
   "execution_count": 43,
   "id": "42fc58b3",
   "metadata": {},
   "outputs": [],
   "source": [
    "param_grid = {\n",
    "    'n_estimators': [50, 100, 200],\n",
    "    'max_depth': [None, 5, 10]}"
   ]
  },
  {
   "cell_type": "code",
   "execution_count": 44,
   "id": "ba56bcea",
   "metadata": {},
   "outputs": [],
   "source": [
    "rf = RandomForestRegressor(random_state=1234)"
   ]
  },
  {
   "cell_type": "code",
   "execution_count": 45,
   "id": "6105173d",
   "metadata": {},
   "outputs": [],
   "source": [
    "grid_search = GridSearchCV(\n",
    "    estimator=rf, \n",
    "    param_grid=param_grid, \n",
    "    cv=5, \n",
    "    scoring='r2')"
   ]
  },
  {
   "cell_type": "code",
   "execution_count": 46,
   "id": "5cee3a9b",
   "metadata": {},
   "outputs": [
    {
     "data": {
      "text/html": [
       "<style>#sk-container-id-2 {color: black;background-color: white;}#sk-container-id-2 pre{padding: 0;}#sk-container-id-2 div.sk-toggleable {background-color: white;}#sk-container-id-2 label.sk-toggleable__label {cursor: pointer;display: block;width: 100%;margin-bottom: 0;padding: 0.3em;box-sizing: border-box;text-align: center;}#sk-container-id-2 label.sk-toggleable__label-arrow:before {content: \"▸\";float: left;margin-right: 0.25em;color: #696969;}#sk-container-id-2 label.sk-toggleable__label-arrow:hover:before {color: black;}#sk-container-id-2 div.sk-estimator:hover label.sk-toggleable__label-arrow:before {color: black;}#sk-container-id-2 div.sk-toggleable__content {max-height: 0;max-width: 0;overflow: hidden;text-align: left;background-color: #f0f8ff;}#sk-container-id-2 div.sk-toggleable__content pre {margin: 0.2em;color: black;border-radius: 0.25em;background-color: #f0f8ff;}#sk-container-id-2 input.sk-toggleable__control:checked~div.sk-toggleable__content {max-height: 200px;max-width: 100%;overflow: auto;}#sk-container-id-2 input.sk-toggleable__control:checked~label.sk-toggleable__label-arrow:before {content: \"▾\";}#sk-container-id-2 div.sk-estimator input.sk-toggleable__control:checked~label.sk-toggleable__label {background-color: #d4ebff;}#sk-container-id-2 div.sk-label input.sk-toggleable__control:checked~label.sk-toggleable__label {background-color: #d4ebff;}#sk-container-id-2 input.sk-hidden--visually {border: 0;clip: rect(1px 1px 1px 1px);clip: rect(1px, 1px, 1px, 1px);height: 1px;margin: -1px;overflow: hidden;padding: 0;position: absolute;width: 1px;}#sk-container-id-2 div.sk-estimator {font-family: monospace;background-color: #f0f8ff;border: 1px dotted black;border-radius: 0.25em;box-sizing: border-box;margin-bottom: 0.5em;}#sk-container-id-2 div.sk-estimator:hover {background-color: #d4ebff;}#sk-container-id-2 div.sk-parallel-item::after {content: \"\";width: 100%;border-bottom: 1px solid gray;flex-grow: 1;}#sk-container-id-2 div.sk-label:hover label.sk-toggleable__label {background-color: #d4ebff;}#sk-container-id-2 div.sk-serial::before {content: \"\";position: absolute;border-left: 1px solid gray;box-sizing: border-box;top: 0;bottom: 0;left: 50%;z-index: 0;}#sk-container-id-2 div.sk-serial {display: flex;flex-direction: column;align-items: center;background-color: white;padding-right: 0.2em;padding-left: 0.2em;position: relative;}#sk-container-id-2 div.sk-item {position: relative;z-index: 1;}#sk-container-id-2 div.sk-parallel {display: flex;align-items: stretch;justify-content: center;background-color: white;position: relative;}#sk-container-id-2 div.sk-item::before, #sk-container-id-2 div.sk-parallel-item::before {content: \"\";position: absolute;border-left: 1px solid gray;box-sizing: border-box;top: 0;bottom: 0;left: 50%;z-index: -1;}#sk-container-id-2 div.sk-parallel-item {display: flex;flex-direction: column;z-index: 1;position: relative;background-color: white;}#sk-container-id-2 div.sk-parallel-item:first-child::after {align-self: flex-end;width: 50%;}#sk-container-id-2 div.sk-parallel-item:last-child::after {align-self: flex-start;width: 50%;}#sk-container-id-2 div.sk-parallel-item:only-child::after {width: 0;}#sk-container-id-2 div.sk-dashed-wrapped {border: 1px dashed gray;margin: 0 0.4em 0.5em 0.4em;box-sizing: border-box;padding-bottom: 0.4em;background-color: white;}#sk-container-id-2 div.sk-label label {font-family: monospace;font-weight: bold;display: inline-block;line-height: 1.2em;}#sk-container-id-2 div.sk-label-container {text-align: center;}#sk-container-id-2 div.sk-container {/* jupyter's `normalize.less` sets `[hidden] { display: none; }` but bootstrap.min.css set `[hidden] { display: none !important; }` so we also need the `!important` here to be able to override the default hidden behavior on the sphinx rendered scikit-learn.org. See: https://github.com/scikit-learn/scikit-learn/issues/21755 */display: inline-block !important;position: relative;}#sk-container-id-2 div.sk-text-repr-fallback {display: none;}</style><div id=\"sk-container-id-2\" class=\"sk-top-container\"><div class=\"sk-text-repr-fallback\"><pre>GridSearchCV(cv=5, estimator=RandomForestRegressor(random_state=1234),\n",
       "             param_grid={&#x27;max_depth&#x27;: [None, 5, 10],\n",
       "                         &#x27;n_estimators&#x27;: [50, 100, 200]},\n",
       "             scoring=&#x27;r2&#x27;)</pre><b>In a Jupyter environment, please rerun this cell to show the HTML representation or trust the notebook. <br />On GitHub, the HTML representation is unable to render, please try loading this page with nbviewer.org.</b></div><div class=\"sk-container\" hidden><div class=\"sk-item sk-dashed-wrapped\"><div class=\"sk-label-container\"><div class=\"sk-label sk-toggleable\"><input class=\"sk-toggleable__control sk-hidden--visually\" id=\"sk-estimator-id-2\" type=\"checkbox\" ><label for=\"sk-estimator-id-2\" class=\"sk-toggleable__label sk-toggleable__label-arrow\">GridSearchCV</label><div class=\"sk-toggleable__content\"><pre>GridSearchCV(cv=5, estimator=RandomForestRegressor(random_state=1234),\n",
       "             param_grid={&#x27;max_depth&#x27;: [None, 5, 10],\n",
       "                         &#x27;n_estimators&#x27;: [50, 100, 200]},\n",
       "             scoring=&#x27;r2&#x27;)</pre></div></div></div><div class=\"sk-parallel\"><div class=\"sk-parallel-item\"><div class=\"sk-item\"><div class=\"sk-label-container\"><div class=\"sk-label sk-toggleable\"><input class=\"sk-toggleable__control sk-hidden--visually\" id=\"sk-estimator-id-3\" type=\"checkbox\" ><label for=\"sk-estimator-id-3\" class=\"sk-toggleable__label sk-toggleable__label-arrow\">estimator: RandomForestRegressor</label><div class=\"sk-toggleable__content\"><pre>RandomForestRegressor(random_state=1234)</pre></div></div></div><div class=\"sk-serial\"><div class=\"sk-item\"><div class=\"sk-estimator sk-toggleable\"><input class=\"sk-toggleable__control sk-hidden--visually\" id=\"sk-estimator-id-4\" type=\"checkbox\" ><label for=\"sk-estimator-id-4\" class=\"sk-toggleable__label sk-toggleable__label-arrow\">RandomForestRegressor</label><div class=\"sk-toggleable__content\"><pre>RandomForestRegressor(random_state=1234)</pre></div></div></div></div></div></div></div></div></div></div>"
      ],
      "text/plain": [
       "GridSearchCV(cv=5, estimator=RandomForestRegressor(random_state=1234),\n",
       "             param_grid={'max_depth': [None, 5, 10],\n",
       "                         'n_estimators': [50, 100, 200]},\n",
       "             scoring='r2')"
      ]
     },
     "execution_count": 46,
     "metadata": {},
     "output_type": "execute_result"
    }
   ],
   "source": [
    "grid_search.fit(x_train, y_train)"
   ]
  },
  {
   "cell_type": "code",
   "execution_count": 47,
   "id": "c7f9d382",
   "metadata": {},
   "outputs": [],
   "source": [
    "r_params = grid_search.best_params_\n",
    "r_model = grid_search.best_estimator_"
   ]
  },
  {
   "cell_type": "code",
   "execution_count": 48,
   "id": "6f49f124",
   "metadata": {},
   "outputs": [],
   "source": [
    "y_pred = r_model.predict(x_test)"
   ]
  },
  {
   "cell_type": "code",
   "execution_count": 49,
   "id": "9454df85",
   "metadata": {},
   "outputs": [
    {
     "name": "stdout",
     "output_type": "stream",
     "text": [
      "Exactitud del modelo: 98.06%\n"
     ]
    }
   ],
   "source": [
    "accuracy = r2_score(y_test, y_pred)\n",
    "print(\"Exactitud del modelo: {:.2f}%\".format(accuracy * 100))"
   ]
  },
  {
   "cell_type": "code",
   "execution_count": null,
   "id": "dff71a07",
   "metadata": {},
   "outputs": [],
   "source": []
  }
 ],
 "metadata": {
  "kernelspec": {
   "display_name": "Python 3 (ipykernel)",
   "language": "python",
   "name": "python3"
  },
  "language_info": {
   "codemirror_mode": {
    "name": "ipython",
    "version": 3
   },
   "file_extension": ".py",
   "mimetype": "text/x-python",
   "name": "python",
   "nbconvert_exporter": "python",
   "pygments_lexer": "ipython3",
   "version": "3.10.11"
  }
 },
 "nbformat": 4,
 "nbformat_minor": 5
}
