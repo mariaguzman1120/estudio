{
 "cells": [
  {
   "cell_type": "markdown",
   "id": "88c61dbc-2b9d-4cd3-9771-9771f6535392",
   "metadata": {},
   "source": [
    "# Taller machine learning I"
   ]
  },
  {
   "cell_type": "markdown",
   "id": "cbc714bc-492a-49d6-9dc7-de12d7013a5b",
   "metadata": {},
   "source": [
    "## Librerias"
   ]
  },
  {
   "cell_type": "code",
   "execution_count": null,
   "id": "520e9e6a-7b58-45b6-9494-5646f3a01104",
   "metadata": {},
   "outputs": [],
   "source": [
    "import pandas as pd\n",
    "import numpy as np\n",
    "import os\n",
    "import matplotlib.pyplot as plt\n",
    "\n",
    "from sklearn import metrics\n",
    "from sklearn.neighbors import LocalOutlierFactor\n",
    "from sklearn.preprocessing import MinMaxScaler\n",
    "from sklearn.model_selection import train_test_split\n",
    "\n",
    "from sklearn import preprocessing\n",
    "\n",
    "from sklearn import svm\n",
    "from sklearn import neighbors\n",
    "from sklearn.naive_bayes import CategoricalNB\n",
    "from sklearn.naive_bayes import ComplementNB\n",
    "from sklearn import tree\n",
    "from sklearn.ensemble import RandomForestClassifier\n",
    "from sklearn.neural_network import MLPClassifier\n",
    "from sklearn.linear_model import LogisticRegression"
   ]
  },
  {
   "cell_type": "markdown",
   "id": "26df0c91-0fef-4b5d-a132-914ee6fb457d",
   "metadata": {},
   "source": [
    "## Lectura"
   ]
  },
  {
   "cell_type": "code",
   "execution_count": null,
   "id": "21862f23-50c1-4489-a307-ae5769766dc4",
   "metadata": {},
   "outputs": [],
   "source": [
    "path = os.path.join('..', 'data', 'customer_shopping_data.csv')"
   ]
  },
  {
   "cell_type": "code",
   "execution_count": null,
   "id": "fa43b835-042a-4ec0-a2fa-0f1567716d39",
   "metadata": {},
   "outputs": [],
   "source": [
    "customer = pd.read_csv(path)"
   ]
  },
  {
   "cell_type": "code",
   "execution_count": null,
   "id": "bfcfa41e-95ee-44af-ae7a-4eed0d5d5d30",
   "metadata": {},
   "outputs": [],
   "source": [
    "customer.shape"
   ]
  },
  {
   "cell_type": "code",
   "execution_count": null,
   "id": "6d9476bc-a9de-4786-ad9e-67d87514ffb2",
   "metadata": {},
   "outputs": [],
   "source": [
    "customer.info()"
   ]
  },
  {
   "cell_type": "markdown",
   "id": "0f33dc64-041a-4db9-9c24-1f9f4be75d52",
   "metadata": {},
   "source": [
    "## Columnas objetivo (target)"
   ]
  },
  {
   "cell_type": "code",
   "execution_count": null,
   "id": "ddbecaeb-d831-442b-80f2-5b2fe2b0c223",
   "metadata": {},
   "outputs": [],
   "source": [
    "customer_group = customer.groupby('payment_method').agg({'invoice_no': 'count'})\n",
    "customer_group['per'] = customer_group['invoice_no'] / customer_group['invoice_no'].sum() * 100"
   ]
  },
  {
   "cell_type": "code",
   "execution_count": null,
   "id": "3a3e7884-28a2-42ac-af7c-8b7750e4c585",
   "metadata": {},
   "outputs": [],
   "source": [
    "customer_group"
   ]
  },
  {
   "cell_type": "code",
   "execution_count": null,
   "id": "f9130b75-f7ac-4e79-a0ad-b964d63cfdc4",
   "metadata": {
    "scrolled": true
   },
   "outputs": [],
   "source": [
    "customer_group['invoice_no'].plot(kind='bar', figsize=(4, 4))\n",
    "plt.show()"
   ]
  },
  {
   "cell_type": "markdown",
   "id": "00845190-b407-454e-a762-4532d995b852",
   "metadata": {},
   "source": [
    "## Imputación"
   ]
  },
  {
   "cell_type": "code",
   "execution_count": null,
   "id": "ae2d5dcb-663c-4763-8dbf-14abf68dd9e3",
   "metadata": {},
   "outputs": [],
   "source": [
    "customer.isnull().sum()"
   ]
  },
  {
   "cell_type": "code",
   "execution_count": null,
   "id": "6b8822f4-dce7-48cb-9dc1-4b1fb601d30b",
   "metadata": {},
   "outputs": [],
   "source": [
    "numeric_cols = customer.select_dtypes(include=['float64', 'int64'])"
   ]
  },
  {
   "cell_type": "code",
   "execution_count": null,
   "id": "9481a720-0ac6-4524-876e-29f821aa9bf0",
   "metadata": {},
   "outputs": [],
   "source": [
    "numeric_cols"
   ]
  },
  {
   "cell_type": "code",
   "execution_count": null,
   "id": "ea88f66b-0369-4db0-bfa5-85333c1241ee",
   "metadata": {},
   "outputs": [],
   "source": [
    "categoric_cols = customer.select_dtypes(include=['object']).columns"
   ]
  },
  {
   "cell_type": "code",
   "execution_count": null,
   "id": "f31cf270-0e29-46b2-8bb1-f77cd39ea61e",
   "metadata": {},
   "outputs": [],
   "source": [
    "categoric_cols"
   ]
  },
  {
   "cell_type": "code",
   "execution_count": null,
   "id": "dc623808-9254-48c6-87c7-f7c6719cda19",
   "metadata": {},
   "outputs": [],
   "source": [
    "numeric_cols.plot(kind='box', figsize=(4, 4))\n",
    "plt.show()"
   ]
  },
  {
   "cell_type": "code",
   "execution_count": null,
   "id": "2349c83f-353b-4cf0-93dd-9a0f83ff0855",
   "metadata": {},
   "outputs": [],
   "source": [
    "min_max = MinMaxScaler()\n",
    "\n",
    "numeric_scale = min_max.fit_transform(numeric_cols)\n",
    "\n",
    "numeric_scale = pd.DataFrame(numeric_scale, columns=numeric_cols.columns)"
   ]
  },
  {
   "cell_type": "code",
   "execution_count": null,
   "id": "77baf0e2-a80d-4248-8514-4c191b81f756",
   "metadata": {},
   "outputs": [],
   "source": [
    "numeric_scale.plot(kind='box', figsize=(4, 4))\n",
    "plt.show()"
   ]
  },
  {
   "cell_type": "code",
   "execution_count": null,
   "id": "7d718afc-bb3c-4fd8-99bf-b90daa14d408",
   "metadata": {},
   "outputs": [],
   "source": [
    "max_ = customer['price'].max()\n",
    "\n",
    "customer[customer['price'] == max_]"
   ]
  },
  {
   "cell_type": "markdown",
   "id": "a6365d01-fcfb-43c7-ac4d-59c5a8ff236b",
   "metadata": {},
   "source": [
    "## Atípicos"
   ]
  },
  {
   "cell_type": "code",
   "execution_count": null,
   "id": "8356339a-44a1-4a0f-8854-fd946bd11581",
   "metadata": {},
   "outputs": [],
   "source": [
    "customer[customer['category'] == 'Technology'].plot(kind='box', figsize=(4, 4))\n",
    "plt.show()"
   ]
  },
  {
   "cell_type": "code",
   "execution_count": null,
   "id": "bfaaa37d-b1ea-49fe-b479-6c382e2f7fa5",
   "metadata": {},
   "outputs": [],
   "source": [
    "lof = LocalOutlierFactor(n_neighbors=5, \n",
    "                         algorithm='auto',\n",
    "                         contamination='auto',\n",
    "                         metric='euclidean') "
   ]
  },
  {
   "cell_type": "code",
   "execution_count": null,
   "id": "1f90eaaa-a30d-4bb1-962c-82503108f38c",
   "metadata": {},
   "outputs": [],
   "source": [
    "filter = lof.fit_predict(numeric_cols)\n",
    "ground_truth = np.ones(len(numeric_cols), dtype=int) "
   ]
  },
  {
   "cell_type": "code",
   "execution_count": null,
   "id": "349b4df1-0b87-4adf-bf36-59f9c383d3ef",
   "metadata": {},
   "outputs": [],
   "source": [
    "n_errors = (filter != ground_truth).sum()"
   ]
  },
  {
   "cell_type": "code",
   "execution_count": null,
   "id": "18264b1a-e2a0-4c68-af22-1ee2a4633b1a",
   "metadata": {},
   "outputs": [],
   "source": [
    "n_errors"
   ]
  },
  {
   "cell_type": "markdown",
   "id": "1910dd5d-2f73-4a9a-9219-667de2a7eb70",
   "metadata": {},
   "source": [
    "## Transforamciones"
   ]
  },
  {
   "cell_type": "code",
   "execution_count": null,
   "id": "a577446f-8737-4f43-931c-94cff8f61438",
   "metadata": {},
   "outputs": [],
   "source": [
    "customer['category'].value_counts()"
   ]
  },
  {
   "cell_type": "code",
   "execution_count": null,
   "id": "b3b4c823-c0de-4344-982a-d617d3595955",
   "metadata": {},
   "outputs": [],
   "source": [
    "lista = ['Books', 'Souvenir']\n",
    "for i in lista:\n",
    "    cond = customer['category'] == i\n",
    "    customer.loc[cond, 'category'] = 'Others'"
   ]
  },
  {
   "cell_type": "code",
   "execution_count": null,
   "id": "fa43a584-e9ca-4372-b220-62fbd712b33f",
   "metadata": {},
   "outputs": [],
   "source": [
    "customer['category'].value_counts()"
   ]
  },
  {
   "cell_type": "code",
   "execution_count": null,
   "id": "96d62859-c3a0-4083-8310-da74aa722c73",
   "metadata": {},
   "outputs": [],
   "source": [
    "customer.columns"
   ]
  },
  {
   "cell_type": "code",
   "execution_count": null,
   "id": "83afdaff-3b53-4f72-b0f3-fbfe82cb9ed7",
   "metadata": {},
   "outputs": [],
   "source": [
    "cols_x = ['gender', 'age', 'quantity', 'shopping_mall', 'category', 'payment_method']\n",
    "#cols_x = ['age', 'quantity', 'price']\n",
    "cols_y = ['price']"
   ]
  },
  {
   "cell_type": "code",
   "execution_count": null,
   "id": "558a4775-fabe-4b87-9000-ffbeebc1c3d3",
   "metadata": {},
   "outputs": [],
   "source": [
    "customer_model = customer[cols_x]"
   ]
  },
  {
   "cell_type": "code",
   "execution_count": null,
   "id": "6df1cbf0-5cdd-4b6f-a32c-ac8fc105fc07",
   "metadata": {},
   "outputs": [],
   "source": [
    "target = customer[cols_y]"
   ]
  },
  {
   "cell_type": "code",
   "execution_count": null,
   "id": "7567f8af-5734-427c-9e45-7b50c193c75f",
   "metadata": {},
   "outputs": [],
   "source": [
    "customer_model = pd.get_dummies(customer_model, columns=['gender', 'shopping_mall', 'category', 'payment_method'], dtype=int)"
   ]
  },
  {
   "cell_type": "code",
   "execution_count": null,
   "id": "cb2ef57f-2511-4859-9384-16723ad65fb3",
   "metadata": {},
   "outputs": [],
   "source": [
    "min_max = MinMaxScaler()\n",
    "\n",
    "scale = min_max.fit_transform(customer_model)\n",
    "\n",
    "scale = pd.DataFrame(scale, columns=customer_model.columns)"
   ]
  },
  {
   "cell_type": "code",
   "execution_count": null,
   "id": "d6538eb3-e101-4136-a96c-05f772191492",
   "metadata": {},
   "outputs": [],
   "source": [
    "x = scale.values\n",
    "y = target['price']"
   ]
  },
  {
   "cell_type": "code",
   "execution_count": null,
   "id": "d1191ef2-2290-46f9-949a-8dbe10d3fc0c",
   "metadata": {},
   "outputs": [],
   "source": [
    "x_train, x_test, y_train, y_test = train_test_split(\n",
    "                                        x,\n",
    "                                        y, \n",
    "                                        train_size=0.7,\n",
    "                                        random_state=1234,\n",
    "                                        shuffle=True)"
   ]
  },
  {
   "cell_type": "code",
   "execution_count": null,
   "id": "de3d7267-9e74-499b-bd49-0f97e92b6fe3",
   "metadata": {},
   "outputs": [],
   "source": [
    "from sklearn.linear_model import LinearRegression,Ridge,Lasso"
   ]
  },
  {
   "cell_type": "code",
   "execution_count": null,
   "id": "c0b795f4-1598-45de-91c8-def4a5835e95",
   "metadata": {},
   "outputs": [],
   "source": [
    "lm=LinearRegression()\n",
    "lm.fit(x_train, y_train)\n",
    "lm_pred=lm.predict(x_test)"
   ]
  },
  {
   "cell_type": "code",
   "execution_count": null,
   "id": "1dfebe41-e319-4928-9a4f-cbb5f98d2731",
   "metadata": {},
   "outputs": [],
   "source": [
    "from sklearn.metrics import r2_score,mean_absolute_error"
   ]
  },
  {
   "cell_type": "code",
   "execution_count": null,
   "id": "07ccbfc7-7cbb-40d8-9a1f-307e60c19533",
   "metadata": {},
   "outputs": [],
   "source": [
    "print('R2 score',r2_score(y_test,lm_pred))\n",
    "print('MAE',mean_absolute_error(y_test,lm_pred))"
   ]
  },
  {
   "cell_type": "code",
   "execution_count": null,
   "id": "2f691a11-7feb-47b5-8c69-607328a99c7e",
   "metadata": {},
   "outputs": [],
   "source": [
    "from sklearn.tree import DecisionTreeRegressor"
   ]
  },
  {
   "cell_type": "code",
   "execution_count": null,
   "id": "14347adb-bda9-411e-9de9-e1ea08c05659",
   "metadata": {},
   "outputs": [],
   "source": [
    "dtr=DecisionTreeRegressor(max_depth=8)\n",
    "dtr.fit(x_train, y_train)\n",
    "dtr_pred=dtr.predict(x_test)"
   ]
  },
  {
   "cell_type": "code",
   "execution_count": null,
   "id": "b85df9d2-83c1-4028-b94d-46c9aeeb7615",
   "metadata": {},
   "outputs": [],
   "source": [
    "print('R2 score',r2_score(y_test,dtr_pred))\n",
    "print('MAE',mean_absolute_error(y_test,dtr_pred))"
   ]
  },
  {
   "cell_type": "code",
   "execution_count": null,
   "id": "adb21565-7f1e-4b56-9d27-aeb7716c63d3",
   "metadata": {},
   "outputs": [],
   "source": []
  },
  {
   "cell_type": "code",
   "execution_count": null,
   "id": "a4c203eb-4399-4861-9ce7-f5a6c37cecce",
   "metadata": {},
   "outputs": [],
   "source": []
  },
  {
   "cell_type": "code",
   "execution_count": null,
   "id": "3d0df20f-00a5-4db5-ac9f-4c34dbf7295c",
   "metadata": {},
   "outputs": [],
   "source": [
    "cols_x = ['gender', 'age', 'category', 'quantity', 'price', 'shopping_mall']\n",
    "#cols_x = ['age', 'quantity', 'price']\n",
    "cols_y = ['payment_method']"
   ]
  },
  {
   "cell_type": "code",
   "execution_count": null,
   "id": "bf2c8cf9-26fb-4779-913e-a899a0b29731",
   "metadata": {},
   "outputs": [],
   "source": [
    "customer_model = customer[cols_x]"
   ]
  },
  {
   "cell_type": "code",
   "execution_count": null,
   "id": "793e7760-0f43-44fc-97c2-ffb10b1bb837",
   "metadata": {},
   "outputs": [],
   "source": [
    "target = customer[cols_y]"
   ]
  },
  {
   "cell_type": "code",
   "execution_count": null,
   "id": "d4343238-095e-40e9-9c9a-373faa4dd822",
   "metadata": {},
   "outputs": [],
   "source": [
    "dic = {\n",
    "    'Cash': 1,\n",
    "    'Credit Card': 2,\n",
    "    'Debit Card': 3\n",
    "}"
   ]
  },
  {
   "cell_type": "code",
   "execution_count": null,
   "id": "43434eb3-f20e-4e52-b410-5eb78b3be5bc",
   "metadata": {},
   "outputs": [],
   "source": [
    "target['payment_method'] = target['payment_method'].map(dic)"
   ]
  },
  {
   "cell_type": "code",
   "execution_count": null,
   "id": "7b8b0d2c-3f64-4dfd-bf87-8ed05a7d4056",
   "metadata": {},
   "outputs": [],
   "source": [
    "list_cond = [customer_model['age'] <= 30, (customer_model['age'] > 30) & (customer_model['age'] <= 50), customer_model['age'] > 50]\n",
    "list_choices = ['young', 'adult', 'old']\n",
    "\n",
    "customer_model['age'] = np.select(list_cond, list_choices)"
   ]
  },
  {
   "cell_type": "code",
   "execution_count": null,
   "id": "f79ea58e-626a-4625-99d9-dc04cc90d854",
   "metadata": {},
   "outputs": [],
   "source": [
    "customer_model = pd.get_dummies(customer_model, columns=['gender'], dtype=int)"
   ]
  },
  {
   "cell_type": "code",
   "execution_count": null,
   "id": "7908b492-f87c-458e-ad8d-c7cd01259d30",
   "metadata": {},
   "outputs": [],
   "source": [
    "le = preprocessing.LabelEncoder()\n",
    "le.fit(list_choices)\n",
    "customer_model['age'] = le.transform(customer_model['age']) "
   ]
  },
  {
   "cell_type": "code",
   "execution_count": null,
   "id": "4ad2690e-5553-43c3-9660-d31a4fd78fc4",
   "metadata": {},
   "outputs": [],
   "source": [
    "customer_model.head()"
   ]
  },
  {
   "cell_type": "code",
   "execution_count": null,
   "id": "c5b3f296-00b6-45d0-8b2d-dff639506a24",
   "metadata": {},
   "outputs": [],
   "source": [
    "min_max = MinMaxScaler()\n",
    "\n",
    "scale = min_max.fit_transform(customer_model)\n",
    "\n",
    "scale = pd.DataFrame(scale, columns=customer_model.columns)"
   ]
  },
  {
   "cell_type": "markdown",
   "id": "7c57c3b5-1960-4e93-bf8b-f6bd56361109",
   "metadata": {},
   "source": [
    "## Dividir conjunto de datos"
   ]
  },
  {
   "cell_type": "code",
   "execution_count": null,
   "id": "bd38b7d0-3084-414f-9b9a-bb375edb3576",
   "metadata": {},
   "outputs": [],
   "source": [
    "x = scale.values\n",
    "y = target['payment_method']"
   ]
  },
  {
   "cell_type": "code",
   "execution_count": null,
   "id": "e40f74f2-d253-42fe-8ae7-9838a33ee255",
   "metadata": {},
   "outputs": [],
   "source": [
    "x_train, x_test, y_train, y_test = train_test_split(\n",
    "                                        x,\n",
    "                                        y, \n",
    "                                        train_size=0.7,\n",
    "                                        random_state=1234,\n",
    "                                        shuffle=True)"
   ]
  },
  {
   "cell_type": "code",
   "execution_count": null,
   "id": "1e51a300-f442-4805-8627-7dfdcfb1ac00",
   "metadata": {},
   "outputs": [],
   "source": [
    "modelTreeClas  = tree.DecisionTreeClassifier(random_state=0).fit(x_train, y_train)"
   ]
  },
  {
   "cell_type": "code",
   "execution_count": null,
   "id": "fc9f5fe9-2e16-42e7-b278-4d61676afb33",
   "metadata": {},
   "outputs": [],
   "source": [
    "y_TreeClas = modelTreeClas.predict(x_test)"
   ]
  },
  {
   "cell_type": "code",
   "execution_count": null,
   "id": "aebe3f74-0045-41a1-b7c5-a5339442d793",
   "metadata": {},
   "outputs": [],
   "source": [
    "print(\"modelTreeClas :\", metrics.accuracy_score(y_test, y_TreeClas))"
   ]
  },
  {
   "cell_type": "code",
   "execution_count": null,
   "id": "6c952819-3e09-4aca-a83f-2fee9eacd5b3",
   "metadata": {},
   "outputs": [],
   "source": [
    "modelComplNB   = ComplementNB().fit(x_train, y_train)"
   ]
  },
  {
   "cell_type": "code",
   "execution_count": null,
   "id": "814248c1-c07f-42ca-8471-42c6656c486a",
   "metadata": {},
   "outputs": [],
   "source": [
    "y_ComplNB  = modelComplNB.predict(x_test)"
   ]
  },
  {
   "cell_type": "code",
   "execution_count": null,
   "id": "4645804d-9f8c-4333-92b1-9f17a596c4dd",
   "metadata": {},
   "outputs": [],
   "source": [
    "print(\"modelComplNB  :\", metrics.accuracy_score(y_test, y_ComplNB  ))"
   ]
  },
  {
   "cell_type": "code",
   "execution_count": null,
   "id": "5cf49622-ba2d-4180-a81b-16d948f3f652",
   "metadata": {},
   "outputs": [],
   "source": [
    "random_forest = RandomForestClassifier(n_estimators=50, max_depth=8, random_state=0)"
   ]
  },
  {
   "cell_type": "code",
   "execution_count": null,
   "id": "a73b83d3-dd10-42dd-9cf2-8292808230e2",
   "metadata": {},
   "outputs": [],
   "source": [
    "random_forest.fit(x_train, y_train)"
   ]
  },
  {
   "cell_type": "code",
   "execution_count": null,
   "id": "64d689d7-c861-42e4-94db-8569dbe1f89f",
   "metadata": {},
   "outputs": [],
   "source": [
    "y_predict = random_forest.predict(x_test)"
   ]
  },
  {
   "cell_type": "code",
   "execution_count": null,
   "id": "f9b27315-e10a-4727-bd8b-455197826921",
   "metadata": {},
   "outputs": [],
   "source": [
    "print(\"modelRanForest:\", metrics.accuracy_score(y_test, y_predict))"
   ]
  },
  {
   "cell_type": "code",
   "execution_count": null,
   "id": "80164529-b0a3-42f8-b80f-5289727a706b",
   "metadata": {},
   "outputs": [],
   "source": []
  },
  {
   "cell_type": "code",
   "execution_count": null,
   "id": "b283da7c-171a-49a9-b00b-a571536dcc67",
   "metadata": {},
   "outputs": [],
   "source": []
  }
 ],
 "metadata": {
  "kernelspec": {
   "display_name": "Python 3 (ipykernel)",
   "language": "python",
   "name": "python3"
  },
  "language_info": {
   "codemirror_mode": {
    "name": "ipython",
    "version": 3
   },
   "file_extension": ".py",
   "mimetype": "text/x-python",
   "name": "python",
   "nbconvert_exporter": "python",
   "pygments_lexer": "ipython3",
   "version": "3.10.11"
  }
 },
 "nbformat": 4,
 "nbformat_minor": 5
}
