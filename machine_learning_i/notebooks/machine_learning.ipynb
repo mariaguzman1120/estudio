{
 "cells": [
  {
   "cell_type": "markdown",
   "id": "cdbc12a0-cd70-4bb4-821d-d73aa65e6b40",
   "metadata": {},
   "source": [
    "<span style=\"font-size: 30px;\">Taller Machine learning I</span>"
   ]
  },
  {
   "cell_type": "markdown",
   "id": "55670056-d28c-46c6-90b6-eac2e6d1e84b",
   "metadata": {},
   "source": [
    "<span style=\"font-size: 20px;\">Integrantes</span>\n",
    "\n",
    "* Nombre: Maria del mar Ipia Guzmán\n",
    "* Cédula: 1214726595\n",
    "* Correo: maria.ipia@udea.edu.co\n",
    "\n",
    "  \n",
    "\n",
    "- Nombre: Johan Arbey Vargas Mejía\n",
    "- Cédula: 1152195956\n",
    "- Correo: johan.vargas@udea.edu.co"
   ]
  },
  {
   "cell_type": "markdown",
   "id": "ca7fd92e-72a4-4a29-867e-cfbe2cde4c68",
   "metadata": {},
   "source": [
    "# Dataset youtube"
   ]
  },
  {
   "cell_type": "markdown",
   "id": "6d03aa11-3f0c-410a-acfc-da59ed92c781",
   "metadata": {},
   "source": [
    "Este conjunto de datos contiene información sobre videos de YouTube, segmentado por regiones, durante un período de tiempo específico. El conjunto de datos contiene 23 columnas que representan diferentes atributos de los videos.\n",
    "\n",
    "Algunas de las columnas clave incluyen:\n",
    "\n",
    "* video_id: ID único para identificar cada video.\n",
    "* trending_date: Fecha en la que el video se volvió popular (trending).\n",
    "* title: Título del video.\n",
    "* channel_title: Nombre del canal que publicó el video.\n",
    "* category_id: ID que representa la categoría del video.\n",
    "* publish_time: Fecha y hora en que se publicó el video.\n",
    "* views: Número de vistas que ha recibido el video.\n",
    "* likes: Número de \"me gusta\" que ha recibido el video.\n",
    "* dislikes: Número de \"no me gusta\" que ha recibido el video.\n",
    "* comment_count: Número de comentarios que ha recibido el video.\n",
    "* tags: Etiquetas asociadas al video.\n",
    "* thumbnail_link: Enlace a la miniatura del video.\n",
    "\n",
    "Los datos abarcan desde el 14 de noviembre de 2017 hasta el 14 de junio de 2018."
   ]
  },
  {
   "cell_type": "markdown",
   "id": "48045f50-aebb-4f97-8e20-8c1144ce6997",
   "metadata": {},
   "source": [
    "# Librerías"
   ]
  },
  {
   "cell_type": "code",
   "execution_count": 122,
   "id": "5e0c5ddd-37c5-4c22-a7ab-130e52fdb4f3",
   "metadata": {},
   "outputs": [],
   "source": [
    "import json\n",
    "import matplotlib.pyplot as plt\n",
    "import nltk\n",
    "import numpy as np\n",
    "import os\n",
    "import pandas as pd\n",
    "import re\n",
    "import zipfile\n",
    "\n",
    "from nltk.corpus import stopwords\n",
    "from sklearn import metrics\n",
    "from sklearn import svm\n",
    "from sklearn.ensemble import RandomForestClassifier\n",
    "from sklearn.feature_extraction.text import CountVectorizer\n",
    "from sklearn.metrics import classification_report\n",
    "from sklearn.model_selection import cross_val_score\n",
    "from sklearn.model_selection import GridSearchCV\n",
    "from sklearn.model_selection import train_test_split\n",
    "from sklearn.neighbors import LocalOutlierFactor\n",
    "from sklearn.neural_network import MLPClassifier\n",
    "from sklearn.preprocessing import LabelEncoder\n",
    "from sklearn.preprocessing import MinMaxScaler\n",
    "from sklearn.tree import DecisionTreeClassifier\n",
    "from sklearn.tree import plot_tree\n",
    "\n",
    "\n",
    "%matplotlib inline\n",
    "plt.style.use('ggplot')"
   ]
  },
  {
   "cell_type": "code",
   "execution_count": 2,
   "id": "0eec165a-296b-4110-b36c-86b00b1f4714",
   "metadata": {},
   "outputs": [],
   "source": [
    "pd.set_option('display.max_colwidth', None)\n",
    "pd.set_option('display.max_columns', None)"
   ]
  },
  {
   "cell_type": "markdown",
   "id": "f7eb6b4b-bb30-4b8b-83b6-d2ee3abacd2f",
   "metadata": {},
   "source": [
    "# Configuración del API de Kaggle"
   ]
  },
  {
   "cell_type": "markdown",
   "id": "6b30e8f7-0141-4c70-8619-eec0d64f5749",
   "metadata": {},
   "source": [
    "1. Iniciar sesión en tu cuenta de Kaggle en `https://www.kaggle.com`.\n",
    "2. Hacer clic en tu foto de perfil en la esquina superior derecha de la página y seleccionar \"Cuenta\" en el menú desplaable.\n",
    "3. Desplazar hacia abajo hasta la sección `API` y haz clic en `Crear nueva clave de API`.\n",
    "4. Se descargará automáticamente el archivo `kaggle.json` que contiene las credenciales de API de Kaggle.\n",
    "5. Guardar el archivo kaggle.json en una `input`."
   ]
  },
  {
   "cell_type": "code",
   "execution_count": 3,
   "id": "58951108-62e9-4ae0-a076-57883ad30c57",
   "metadata": {},
   "outputs": [],
   "source": [
    "def set_environ_kaggle(path: str) -> None:\n",
    "    \"\"\"Establece las variables de entorno para la autenticación \n",
    "     de la API de Kaggle.\n",
    "\n",
    "    Args:\n",
    "        path: Ruta al archivo kaggle.json que contiene las \n",
    "         credenciales de API de Kaggle.\n",
    "\n",
    "    \"\"\"\n",
    "    with open(path, 'r') as f:\n",
    "        data = json.load(f)\n",
    "\n",
    "    os.environ['KAGGLE_USERNAME'] = data['username']\n",
    "    os.environ['KAGGLE_KEY'] = data['key']"
   ]
  },
  {
   "cell_type": "code",
   "execution_count": 4,
   "id": "12dbeaeb-d503-4db6-8e91-89fc96451ea9",
   "metadata": {},
   "outputs": [],
   "source": [
    "kaggle_path = os.path.join('..', 'input', 'kaggle.json')"
   ]
  },
  {
   "cell_type": "code",
   "execution_count": 5,
   "id": "4ac6d9c7-1ca4-4abc-bfa0-e728db9b0285",
   "metadata": {},
   "outputs": [],
   "source": [
    "# Se configura el entorno para autenticarse en KAGGLE.\n",
    "set_environ_kaggle(kaggle_path)"
   ]
  },
  {
   "cell_type": "markdown",
   "id": "3f597434-26d3-4795-bafb-838c2c32ae3e",
   "metadata": {},
   "source": [
    "## Descargar el conjunto de datos"
   ]
  },
  {
   "cell_type": "code",
   "execution_count": 6,
   "id": "7a2fa6d9-50ee-4cd0-85e2-2c48908b8e82",
   "metadata": {},
   "outputs": [],
   "source": [
    "from kaggle.api.kaggle_api_extended import KaggleApi"
   ]
  },
  {
   "cell_type": "code",
   "execution_count": 7,
   "id": "d76151a0-6282-46a3-a0a2-ae2e9ef481ef",
   "metadata": {},
   "outputs": [],
   "source": [
    "def download_dataset(dataset_name: str, output_path: str) -> None:\n",
    "    \"\"\"Descarga un conjunto de datos de Kaggle y lo extrae en \n",
    "     la ubicación especificada.\n",
    "\n",
    "    Args:\n",
    "        dataset_name: Nombre del conjunto de datos en Kaggle.\n",
    "         Debe seguir el formato 'nombre-usuario/nombre-conjunto-datos'.\n",
    "        output_path: Ruta donde se extraerán los archivos \n",
    "         del conjunto de datos.\n",
    "\n",
    "    \"\"\"\n",
    "    api = KaggleApi()\n",
    "    api.authenticate()\n",
    "\n",
    "    api.dataset_download_files(dataset_name)\n",
    "\n",
    "    file_name = dataset_name.split('/')[1]\n",
    "    with zipfile.ZipFile(f'{file_name}.zip', 'r') as zip_ref:\n",
    "        zip_ref.extractall(output_path)\n",
    "\n",
    "    os.remove(f'{file_name}.zip')"
   ]
  },
  {
   "cell_type": "markdown",
   "id": "f78c8c82-b427-4129-b30e-e54a6fcfca3f",
   "metadata": {},
   "source": [
    "El dataset se encuentra en el link: https://www.kaggle.com/datasets/datasnaek/youtube-new?select=MXvideos.csv\n",
    "\n",
    "Notar que el nombre del conjunto de datos está despues `datasets/` y va hasta el signo `?`"
   ]
  },
  {
   "cell_type": "code",
   "execution_count": 8,
   "id": "b2161796-12b2-40bb-8106-f2712561402f",
   "metadata": {},
   "outputs": [],
   "source": [
    "dataset_name = 'datasnaek/youtube-new'"
   ]
  },
  {
   "cell_type": "code",
   "execution_count": 9,
   "id": "6dde7d6d-90e9-483e-8904-da0e150c77b9",
   "metadata": {},
   "outputs": [],
   "source": [
    "data_path = os.path.join('..', 'data')"
   ]
  },
  {
   "cell_type": "code",
   "execution_count": 10,
   "id": "d9c96e69-5286-4a1a-8c39-efdecd8d9233",
   "metadata": {},
   "outputs": [],
   "source": [
    "download_dataset(dataset_name, data_path)"
   ]
  },
  {
   "cell_type": "markdown",
   "id": "2123ec21-e0a6-41fd-b711-ce4a1a71b290",
   "metadata": {},
   "source": [
    "# Funciones utils"
   ]
  },
  {
   "cell_type": "markdown",
   "id": "522e2dba-a772-4c49-b6d5-b33d57ee89ba",
   "metadata": {},
   "source": [
    "## Gráficas"
   ]
  },
  {
   "cell_type": "code",
   "execution_count": 11,
   "id": "ff2b3371-e646-4f9a-8f4e-78a018268355",
   "metadata": {},
   "outputs": [],
   "source": [
    "def pie_plot(data: pd.DataFrame, col: str) -> None:\n",
    "    \"\"\"Genera un gráfico de pastel basado en una columna de un DataFrame.\n",
    "\n",
    "    Args:\n",
    "        data (pd.DataFrame): El DataFrame que contiene los datos.\n",
    "        col (str): El nombre de la columna a graficar.\n",
    "\n",
    "    Returns:\n",
    "        None: Muestra el gráfico de pastel.\n",
    "\n",
    "    \"\"\"\n",
    "    plt.figure(figsize=(8, 5))\n",
    "    datos = data[col]\n",
    "    labels = data.index\n",
    "    \n",
    "    # Se agregan colores con plt.cm estableciendo un color para cada espacio en el \n",
    "    # diagrama, por eso se usa un linspace de la misma magnitud de los datos.\n",
    "    colors = plt.cm.RdYlGn(np.linspace(0.1, 0.7, len(datos)))\n",
    "    \n",
    "    # Generación del diagrama circular\n",
    "    patches, texts = plt.pie(datos, labels=labels, colors=colors)\n",
    "\n",
    "    # Para que siempre se vea como un círculo\n",
    "    plt.axis('equal')\n",
    "    \n",
    "    # Se eliminan las líneas\n",
    "    plt.rcParams['patch.linewidth'] = 0\n",
    "    \n",
    "    # Estimación porcentaje\n",
    "    porcent = 100 * datos / sum(datos)\n",
    "    # Lista que será expuesta en la legenda\n",
    "    labels = ['{0} - {1:1.1f} %'.format(i,j) for i, j in zip(labels, porcent)]\n",
    "    \n",
    "    # Se genera la legenda\n",
    "    # bbox_to_anchor especifica en coordenadas la posición de la legenda\n",
    "    plt.legend(patches, labels, bbox_to_anchor=(-0.1, 1.), fontsize=8)\n",
    "    \n",
    "    plt.show()"
   ]
  },
  {
   "cell_type": "code",
   "execution_count": 12,
   "id": "64e4d4e5-5c06-43f4-8eef-4d7301924ed5",
   "metadata": {},
   "outputs": [],
   "source": [
    "def box_plot(df: pd.DataFrame, showfliers: bool = True):\n",
    "    \"\"\"Genera un diagrama de cajas utilizando el mapa de colores RdYlGn.\n",
    "\n",
    "    Args:\n",
    "        df (pd.DataFrame): El DataFrame que se utilizará para generar \n",
    "         el diagrama de cajas.\n",
    "        showfliers (bool): Indica si se muestran o no los valores \n",
    "         atípicos en el diagrama de cajas. Valor predeterminado es True.\n",
    "\n",
    "    Returns:\n",
    "        None: Muestra el gráfico de barras.\n",
    "        \n",
    "    \"\"\"\n",
    "    # Generar el diagrama de cajas utilizando df.plot(kind='box')\n",
    "    ax = df.plot(kind='box', patch_artist=True, figsize=(8, 5), showfliers=showfliers, vert=False)\n",
    "    \n",
    "    # Configurar el mapa de colores\n",
    "    cmap = plt.cm.RdYlGn\n",
    "    \n",
    "    # Personalizar el color de las cajas utilizando el mapa de colores\n",
    "    for patch, color in zip(ax.artists, cmap(np.linspace(0.1, 0.9, len(ax.artists)))):\n",
    "        patch.set_facecolor(color)\n",
    "\n",
    "    plt.show()"
   ]
  },
  {
   "cell_type": "markdown",
   "id": "791cc2af-cba8-49ab-a628-77dbaf9668bd",
   "metadata": {},
   "source": [
    "## Limpieza"
   ]
  },
  {
   "cell_type": "code",
   "execution_count": 13,
   "id": "c6ef8b00-e4eb-4c96-bcc0-f0241c1a9ec0",
   "metadata": {},
   "outputs": [],
   "source": [
    "def find_missing(df: pd.DataFrame) -> pd.DataFrame:\n",
    "    \"\"\"Encuentra los valores faltantes en un DataFrame y devuelve un nuevo DataFrame\n",
    "     que muestra la cantidad de valores faltantes y el porcentaje correspondiente.\n",
    "\n",
    "    Args:\n",
    "        df (pd.DataFrame): El DataFrame que se va a analizar.\n",
    "\n",
    "    Returns:\n",
    "        pd.DataFrame: Un nuevo DataFrame que muestra las columnas, la cantidad de\n",
    "        valores faltantes y el porcentaje de valores faltantes para cada columna.\n",
    "\n",
    "    \"\"\"\n",
    "    lista = []\n",
    "    for col in df.columns:\n",
    "        num = df[df[col].isnull()].shape[0]\n",
    "        lista.append(num)\n",
    "    \n",
    "    dic = {\n",
    "        'Columnas': df.columns,\n",
    "        'Faltantes': lista}\n",
    "    df_faltantes = pd.DataFrame(dic)\n",
    "    \n",
    "    df_faltantes['Porcentaje'] = df_faltantes['Faltantes'] / df.shape[0]\n",
    "    \n",
    "    return df_faltantes"
   ]
  },
  {
   "cell_type": "code",
   "execution_count": 14,
   "id": "636de8af-f018-4ae9-bfa8-3c78222f44a7",
   "metadata": {},
   "outputs": [],
   "source": [
    "def clean_text(df: pd.DataFrame,  column: str) -> pd.DataFrame:\n",
    "    \"\"\"Limpia el texto en una columna específica de un DataFrame, \n",
    "     eliminando stopwords y filtrando palabras por longitud.\n",
    "    \n",
    "    Args:\n",
    "        df (pd.DataFrame): DataFrame de entrada.\n",
    "        columna (str): Nombre de la columna que contiene el texto a limpiar.\n",
    "        \n",
    "    Returns:\n",
    "        pd.DataFrame: DataFrame con el texto limpio.\n",
    "    \"\"\"\n",
    "    # Se descargan las stopwords\n",
    "    nltk.download('stopwords')\n",
    "    stop_words = set(stopwords.words('english')) \n",
    "\n",
    "    # Se eliminan todas las stopwords de las frases\n",
    "    len_min = 3\n",
    "    len_max = 10 \n",
    "    list_words = []\n",
    "    for string in df[column]:\n",
    "        string = re.sub(r'\\d+', '', string)\n",
    "        words = string.split() \n",
    "        words_stopwords = [word for word in words \n",
    "                           if word not in stop_words\n",
    "                           and len_min <= len(word) <= len_max]\n",
    "        clean_word = ' '.join(words_stopwords)\n",
    "        list_words.append(clean_word)\n",
    "\n",
    "    df[column] = list_words\n",
    "\n",
    "    return df   "
   ]
  },
  {
   "cell_type": "markdown",
   "id": "0d5186d4-6aa7-4cb0-9b71-31cf53271af7",
   "metadata": {},
   "source": [
    "# Exploración de datos"
   ]
  },
  {
   "cell_type": "markdown",
   "id": "dd3099d3-fe66-4822-a8f9-54627d691dc6",
   "metadata": {},
   "source": [
    "## Lectura de datos"
   ]
  },
  {
   "cell_type": "markdown",
   "id": "ec92a779-9d9f-4658-a1bb-c3653e544bae",
   "metadata": {},
   "source": [
    "Archivo JSON con la información de las categorías de los videos."
   ]
  },
  {
   "cell_type": "code",
   "execution_count": 15,
   "id": "23e1fbc7-d1f0-4a68-8731-f6963d8b2c65",
   "metadata": {},
   "outputs": [],
   "source": [
    "with open(os.path.join(data_path, 'US_category_id.json'), 'r') as f:\n",
    "    data = json.load(f)"
   ]
  },
  {
   "cell_type": "code",
   "execution_count": 16,
   "id": "7fe4b4d2-0388-4d3f-bb69-f1484b23a81c",
   "metadata": {},
   "outputs": [],
   "source": [
    "ls = []\n",
    "for diccionario in data['items']:\n",
    "    row = {\n",
    "        'category_id': diccionario['id'],\n",
    "        'category': diccionario['snippet']['title']\n",
    "    }\n",
    "    \n",
    "    ls.append(row)\n",
    "\n",
    "categories = pd.DataFrame(ls)"
   ]
  },
  {
   "cell_type": "code",
   "execution_count": 17,
   "id": "db9a1e3a-fd9e-4c7b-ad3f-9b7359c82227",
   "metadata": {},
   "outputs": [
    {
     "data": {
      "text/html": [
       "<div>\n",
       "<style scoped>\n",
       "    .dataframe tbody tr th:only-of-type {\n",
       "        vertical-align: middle;\n",
       "    }\n",
       "\n",
       "    .dataframe tbody tr th {\n",
       "        vertical-align: top;\n",
       "    }\n",
       "\n",
       "    .dataframe thead th {\n",
       "        text-align: right;\n",
       "    }\n",
       "</style>\n",
       "<table border=\"1\" class=\"dataframe\">\n",
       "  <thead>\n",
       "    <tr style=\"text-align: right;\">\n",
       "      <th></th>\n",
       "      <th>category_id</th>\n",
       "      <th>category</th>\n",
       "    </tr>\n",
       "  </thead>\n",
       "  <tbody>\n",
       "    <tr>\n",
       "      <th>0</th>\n",
       "      <td>1</td>\n",
       "      <td>Film &amp; Animation</td>\n",
       "    </tr>\n",
       "    <tr>\n",
       "      <th>1</th>\n",
       "      <td>2</td>\n",
       "      <td>Autos &amp; Vehicles</td>\n",
       "    </tr>\n",
       "    <tr>\n",
       "      <th>2</th>\n",
       "      <td>10</td>\n",
       "      <td>Music</td>\n",
       "    </tr>\n",
       "    <tr>\n",
       "      <th>3</th>\n",
       "      <td>15</td>\n",
       "      <td>Pets &amp; Animals</td>\n",
       "    </tr>\n",
       "    <tr>\n",
       "      <th>4</th>\n",
       "      <td>17</td>\n",
       "      <td>Sports</td>\n",
       "    </tr>\n",
       "  </tbody>\n",
       "</table>\n",
       "</div>"
      ],
      "text/plain": [
       "  category_id          category\n",
       "0           1  Film & Animation\n",
       "1           2  Autos & Vehicles\n",
       "2          10             Music\n",
       "3          15    Pets & Animals\n",
       "4          17            Sports"
      ]
     },
     "execution_count": 17,
     "metadata": {},
     "output_type": "execute_result"
    }
   ],
   "source": [
    "categories.head()"
   ]
  },
  {
   "cell_type": "code",
   "execution_count": 18,
   "id": "f86a3dba-1a02-4f03-9b41-c88f31d0b8f0",
   "metadata": {},
   "outputs": [],
   "source": [
    "path = os.path.join(data_path, 'USvideos.csv')\n",
    "youtube = pd.read_csv(path, encoding='latin-1', converters={'category_id': str})"
   ]
  },
  {
   "cell_type": "code",
   "execution_count": 19,
   "id": "dcdc77cd-991c-4efa-b820-f92263972682",
   "metadata": {},
   "outputs": [
    {
     "name": "stdout",
     "output_type": "stream",
     "text": [
      "Tamaño del dataset: (40949, 16)\n"
     ]
    }
   ],
   "source": [
    "print(f'Tamaño del dataset: {youtube.shape}')"
   ]
  },
  {
   "cell_type": "code",
   "execution_count": 20,
   "id": "d211fa68-2f9f-4498-8407-5e1bbe321440",
   "metadata": {},
   "outputs": [
    {
     "name": "stdout",
     "output_type": "stream",
     "text": [
      "<class 'pandas.core.frame.DataFrame'>\n",
      "RangeIndex: 40949 entries, 0 to 40948\n",
      "Data columns (total 16 columns):\n",
      " #   Column                  Non-Null Count  Dtype \n",
      "---  ------                  --------------  ----- \n",
      " 0   video_id                40949 non-null  object\n",
      " 1   trending_date           40949 non-null  object\n",
      " 2   title                   40949 non-null  object\n",
      " 3   channel_title           40949 non-null  object\n",
      " 4   category_id             40949 non-null  object\n",
      " 5   publish_time            40949 non-null  object\n",
      " 6   tags                    40949 non-null  object\n",
      " 7   views                   40949 non-null  int64 \n",
      " 8   likes                   40949 non-null  int64 \n",
      " 9   dislikes                40949 non-null  int64 \n",
      " 10  comment_count           40949 non-null  int64 \n",
      " 11  thumbnail_link          40949 non-null  object\n",
      " 12  comments_disabled       40949 non-null  bool  \n",
      " 13  ratings_disabled        40949 non-null  bool  \n",
      " 14  video_error_or_removed  40949 non-null  bool  \n",
      " 15  description             40379 non-null  object\n",
      "dtypes: bool(3), int64(4), object(9)\n",
      "memory usage: 4.2+ MB\n"
     ]
    }
   ],
   "source": [
    "youtube.info()"
   ]
  },
  {
   "cell_type": "markdown",
   "id": "ff5df97a-4146-452d-8c81-514fbc59ef00",
   "metadata": {},
   "source": [
    "## Imputación"
   ]
  },
  {
   "cell_type": "code",
   "execution_count": 21,
   "id": "315715be-f2cb-47f3-b8bb-2ef61c86a590",
   "metadata": {},
   "outputs": [],
   "source": [
    "missing_values = find_missing(youtube)"
   ]
  },
  {
   "cell_type": "code",
   "execution_count": 22,
   "id": "d653bd44-e8f8-4d3c-918e-0f71a11aecc4",
   "metadata": {},
   "outputs": [
    {
     "data": {
      "text/html": [
       "<div>\n",
       "<style scoped>\n",
       "    .dataframe tbody tr th:only-of-type {\n",
       "        vertical-align: middle;\n",
       "    }\n",
       "\n",
       "    .dataframe tbody tr th {\n",
       "        vertical-align: top;\n",
       "    }\n",
       "\n",
       "    .dataframe thead th {\n",
       "        text-align: right;\n",
       "    }\n",
       "</style>\n",
       "<table border=\"1\" class=\"dataframe\">\n",
       "  <thead>\n",
       "    <tr style=\"text-align: right;\">\n",
       "      <th></th>\n",
       "      <th>Columnas</th>\n",
       "      <th>Faltantes</th>\n",
       "      <th>Porcentaje</th>\n",
       "    </tr>\n",
       "  </thead>\n",
       "  <tbody>\n",
       "    <tr>\n",
       "      <th>0</th>\n",
       "      <td>video_id</td>\n",
       "      <td>0</td>\n",
       "      <td>0.00000</td>\n",
       "    </tr>\n",
       "    <tr>\n",
       "      <th>1</th>\n",
       "      <td>trending_date</td>\n",
       "      <td>0</td>\n",
       "      <td>0.00000</td>\n",
       "    </tr>\n",
       "    <tr>\n",
       "      <th>2</th>\n",
       "      <td>title</td>\n",
       "      <td>0</td>\n",
       "      <td>0.00000</td>\n",
       "    </tr>\n",
       "    <tr>\n",
       "      <th>3</th>\n",
       "      <td>channel_title</td>\n",
       "      <td>0</td>\n",
       "      <td>0.00000</td>\n",
       "    </tr>\n",
       "    <tr>\n",
       "      <th>4</th>\n",
       "      <td>category_id</td>\n",
       "      <td>0</td>\n",
       "      <td>0.00000</td>\n",
       "    </tr>\n",
       "    <tr>\n",
       "      <th>5</th>\n",
       "      <td>publish_time</td>\n",
       "      <td>0</td>\n",
       "      <td>0.00000</td>\n",
       "    </tr>\n",
       "    <tr>\n",
       "      <th>6</th>\n",
       "      <td>tags</td>\n",
       "      <td>0</td>\n",
       "      <td>0.00000</td>\n",
       "    </tr>\n",
       "    <tr>\n",
       "      <th>7</th>\n",
       "      <td>views</td>\n",
       "      <td>0</td>\n",
       "      <td>0.00000</td>\n",
       "    </tr>\n",
       "    <tr>\n",
       "      <th>8</th>\n",
       "      <td>likes</td>\n",
       "      <td>0</td>\n",
       "      <td>0.00000</td>\n",
       "    </tr>\n",
       "    <tr>\n",
       "      <th>9</th>\n",
       "      <td>dislikes</td>\n",
       "      <td>0</td>\n",
       "      <td>0.00000</td>\n",
       "    </tr>\n",
       "    <tr>\n",
       "      <th>10</th>\n",
       "      <td>comment_count</td>\n",
       "      <td>0</td>\n",
       "      <td>0.00000</td>\n",
       "    </tr>\n",
       "    <tr>\n",
       "      <th>11</th>\n",
       "      <td>thumbnail_link</td>\n",
       "      <td>0</td>\n",
       "      <td>0.00000</td>\n",
       "    </tr>\n",
       "    <tr>\n",
       "      <th>12</th>\n",
       "      <td>comments_disabled</td>\n",
       "      <td>0</td>\n",
       "      <td>0.00000</td>\n",
       "    </tr>\n",
       "    <tr>\n",
       "      <th>13</th>\n",
       "      <td>ratings_disabled</td>\n",
       "      <td>0</td>\n",
       "      <td>0.00000</td>\n",
       "    </tr>\n",
       "    <tr>\n",
       "      <th>14</th>\n",
       "      <td>video_error_or_removed</td>\n",
       "      <td>0</td>\n",
       "      <td>0.00000</td>\n",
       "    </tr>\n",
       "    <tr>\n",
       "      <th>15</th>\n",
       "      <td>description</td>\n",
       "      <td>570</td>\n",
       "      <td>0.01392</td>\n",
       "    </tr>\n",
       "  </tbody>\n",
       "</table>\n",
       "</div>"
      ],
      "text/plain": [
       "                  Columnas  Faltantes  Porcentaje\n",
       "0                 video_id          0     0.00000\n",
       "1            trending_date          0     0.00000\n",
       "2                    title          0     0.00000\n",
       "3            channel_title          0     0.00000\n",
       "4              category_id          0     0.00000\n",
       "5             publish_time          0     0.00000\n",
       "6                     tags          0     0.00000\n",
       "7                    views          0     0.00000\n",
       "8                    likes          0     0.00000\n",
       "9                 dislikes          0     0.00000\n",
       "10           comment_count          0     0.00000\n",
       "11          thumbnail_link          0     0.00000\n",
       "12       comments_disabled          0     0.00000\n",
       "13        ratings_disabled          0     0.00000\n",
       "14  video_error_or_removed          0     0.00000\n",
       "15             description        570     0.01392"
      ]
     },
     "execution_count": 22,
     "metadata": {},
     "output_type": "execute_result"
    }
   ],
   "source": [
    "missing_values"
   ]
  },
  {
   "cell_type": "code",
   "execution_count": 23,
   "id": "bc9bd9ff-bd90-4e0f-b511-75399c8f1b9f",
   "metadata": {},
   "outputs": [
    {
     "data": {
      "image/png": "[encoded data removed]",
      "text/plain": [
       "<Figure size 500x500 with 1 Axes>"
      ]
     },
     "metadata": {},
     "output_type": "display_data"
    }
   ],
   "source": [
    "total_faltantes = missing_values['Faltantes'].sum()\n",
    "total_registros = youtube.shape[0] * youtube.shape[1]\n",
    "\n",
    "plt.figure(figsize=(5, 5))\n",
    "datos = [total_registros - total_faltantes, total_faltantes]\n",
    "label = ['No nulos', 'Nulos']\n",
    "\n",
    "plt.pie(\n",
    "    datos, \n",
    "    labels=label, \n",
    "    colors=['orchid', 'lightblue'], \n",
    "    autopct='%.2f%%')\n",
    "plt.title('Porcentaje de datos faltantes')\n",
    "plt.show()"
   ]
  },
  {
   "cell_type": "markdown",
   "id": "eb97df0b-ebcc-4770-bcde-347f05896fee",
   "metadata": {},
   "source": [
    "No se encontraron valores nulos en las columnas, a excepción de la columna `description` que no será usada en el modelo de clasificación por lo que no hay necesidad de realizar imputación de datos."
   ]
  },
  {
   "cell_type": "markdown",
   "id": "3c4c0c7c-1231-4300-91c9-d2e5d21fa01b",
   "metadata": {},
   "source": [
    "## Datos atípicos"
   ]
  },
  {
   "cell_type": "code",
   "execution_count": 24,
   "id": "1414b9aa-55a2-4118-9473-a15c5499f80b",
   "metadata": {},
   "outputs": [
    {
     "data": {
      "image/png": "[encoded data removed]",
      "text/plain": [
       "<Figure size 800x500 with 1 Axes>"
      ]
     },
     "metadata": {},
     "output_type": "display_data"
    }
   ],
   "source": [
    "box_plot(youtube)"
   ]
  },
  {
   "cell_type": "markdown",
   "id": "808dece6-0a77-4457-8225-2b38e8603044",
   "metadata": {},
   "source": [
    "* Se seleccionan las columnas numéricas para escalar y tener un diagrama de cajas con las caracteríscas en la misma escala"
   ]
  },
  {
   "cell_type": "code",
   "execution_count": 25,
   "id": "90ac9eb6-0aba-4fb3-8c11-da2a41fc43bf",
   "metadata": {},
   "outputs": [],
   "source": [
    "youtube_numeric = youtube.select_dtypes(include=['float64', 'int64'])"
   ]
  },
  {
   "cell_type": "code",
   "execution_count": 26,
   "id": "ff48482d-b934-47ab-84d4-94233c690999",
   "metadata": {},
   "outputs": [
    {
     "data": {
      "text/html": [
       "<div>\n",
       "<style scoped>\n",
       "    .dataframe tbody tr th:only-of-type {\n",
       "        vertical-align: middle;\n",
       "    }\n",
       "\n",
       "    .dataframe tbody tr th {\n",
       "        vertical-align: top;\n",
       "    }\n",
       "\n",
       "    .dataframe thead th {\n",
       "        text-align: right;\n",
       "    }\n",
       "</style>\n",
       "<table border=\"1\" class=\"dataframe\">\n",
       "  <thead>\n",
       "    <tr style=\"text-align: right;\">\n",
       "      <th></th>\n",
       "      <th>views</th>\n",
       "      <th>likes</th>\n",
       "      <th>dislikes</th>\n",
       "      <th>comment_count</th>\n",
       "    </tr>\n",
       "  </thead>\n",
       "  <tbody>\n",
       "    <tr>\n",
       "      <th>0</th>\n",
       "      <td>748374</td>\n",
       "      <td>57527</td>\n",
       "      <td>2966</td>\n",
       "      <td>15954</td>\n",
       "    </tr>\n",
       "    <tr>\n",
       "      <th>1</th>\n",
       "      <td>2418783</td>\n",
       "      <td>97185</td>\n",
       "      <td>6146</td>\n",
       "      <td>12703</td>\n",
       "    </tr>\n",
       "    <tr>\n",
       "      <th>2</th>\n",
       "      <td>3191434</td>\n",
       "      <td>146033</td>\n",
       "      <td>5339</td>\n",
       "      <td>8181</td>\n",
       "    </tr>\n",
       "    <tr>\n",
       "      <th>3</th>\n",
       "      <td>343168</td>\n",
       "      <td>10172</td>\n",
       "      <td>666</td>\n",
       "      <td>2146</td>\n",
       "    </tr>\n",
       "    <tr>\n",
       "      <th>4</th>\n",
       "      <td>2095731</td>\n",
       "      <td>132235</td>\n",
       "      <td>1989</td>\n",
       "      <td>17518</td>\n",
       "    </tr>\n",
       "    <tr>\n",
       "      <th>...</th>\n",
       "      <td>...</td>\n",
       "      <td>...</td>\n",
       "      <td>...</td>\n",
       "      <td>...</td>\n",
       "    </tr>\n",
       "    <tr>\n",
       "      <th>40944</th>\n",
       "      <td>1685609</td>\n",
       "      <td>38160</td>\n",
       "      <td>1385</td>\n",
       "      <td>2657</td>\n",
       "    </tr>\n",
       "    <tr>\n",
       "      <th>40945</th>\n",
       "      <td>1064798</td>\n",
       "      <td>60008</td>\n",
       "      <td>382</td>\n",
       "      <td>3936</td>\n",
       "    </tr>\n",
       "    <tr>\n",
       "      <th>40946</th>\n",
       "      <td>1066451</td>\n",
       "      <td>48068</td>\n",
       "      <td>1032</td>\n",
       "      <td>3992</td>\n",
       "    </tr>\n",
       "    <tr>\n",
       "      <th>40947</th>\n",
       "      <td>5660813</td>\n",
       "      <td>192957</td>\n",
       "      <td>2846</td>\n",
       "      <td>13088</td>\n",
       "    </tr>\n",
       "    <tr>\n",
       "      <th>40948</th>\n",
       "      <td>10306119</td>\n",
       "      <td>357079</td>\n",
       "      <td>212976</td>\n",
       "      <td>144795</td>\n",
       "    </tr>\n",
       "  </tbody>\n",
       "</table>\n",
       "<p>40949 rows × 4 columns</p>\n",
       "</div>"
      ],
      "text/plain": [
       "          views   likes  dislikes  comment_count\n",
       "0        748374   57527      2966          15954\n",
       "1       2418783   97185      6146          12703\n",
       "2       3191434  146033      5339           8181\n",
       "3        343168   10172       666           2146\n",
       "4       2095731  132235      1989          17518\n",
       "...         ...     ...       ...            ...\n",
       "40944   1685609   38160      1385           2657\n",
       "40945   1064798   60008       382           3936\n",
       "40946   1066451   48068      1032           3992\n",
       "40947   5660813  192957      2846          13088\n",
       "40948  10306119  357079    212976         144795\n",
       "\n",
       "[40949 rows x 4 columns]"
      ]
     },
     "execution_count": 26,
     "metadata": {},
     "output_type": "execute_result"
    }
   ],
   "source": [
    "youtube_numeric"
   ]
  },
  {
   "cell_type": "code",
   "execution_count": 27,
   "id": "1da19e77-9bca-4184-b5f7-27d72e9f51b5",
   "metadata": {},
   "outputs": [],
   "source": [
    "# Normalización de los datos\n",
    "\n",
    "min_max = MinMaxScaler()\n",
    "\n",
    "numeric_scale = min_max.fit_transform(youtube_numeric)\n",
    "\n",
    "numeric_scale = pd.DataFrame(numeric_scale, columns=youtube_numeric.columns)"
   ]
  },
  {
   "cell_type": "code",
   "execution_count": 28,
   "id": "451a5df5-f0c7-481b-9fb9-d6f55e48a85f",
   "metadata": {},
   "outputs": [
    {
     "data": {
      "image/png": "[encoded data removed]",
      "text/plain": [
       "<Figure size 800x500 with 1 Axes>"
      ]
     },
     "metadata": {},
     "output_type": "display_data"
    }
   ],
   "source": [
    "box_plot(numeric_scale)"
   ]
  },
  {
   "cell_type": "markdown",
   "id": "b032ead6-56c2-4082-88e6-77df5d6a4e3b",
   "metadata": {},
   "source": [
    "* Observemos los datos sin presencia de outliers para intentar tener una vista clara de los datos"
   ]
  },
  {
   "cell_type": "code",
   "execution_count": 29,
   "id": "79d387d6-7a09-4d5b-8a65-a9f28eff1a4a",
   "metadata": {},
   "outputs": [
    {
     "data": {
      "image/png": "[encoded data removed]",
      "text/plain": [
       "<Figure size 800x500 with 1 Axes>"
      ]
     },
     "metadata": {},
     "output_type": "display_data"
    }
   ],
   "source": [
    "box_plot(numeric_scale, showfliers=False)"
   ]
  },
  {
   "cell_type": "markdown",
   "id": "bc11ec27-d912-4cfc-a8d9-4032765708d0",
   "metadata": {},
   "source": [
    "## Detección de outliers con el algoritmo LOF"
   ]
  },
  {
   "cell_type": "code",
   "execution_count": 32,
   "id": "f2eea069-7f28-41ba-852e-e542cdf4a86c",
   "metadata": {},
   "outputs": [],
   "source": [
    "lof = LocalOutlierFactor(\n",
    "    n_neighbors=5, \n",
    "    algorithm='auto', \n",
    "    contamination='auto', \n",
    "    metric='euclidean')"
   ]
  },
  {
   "cell_type": "code",
   "execution_count": 33,
   "id": "03141469-310f-496e-b4d6-3ac7dbb7a11c",
   "metadata": {},
   "outputs": [],
   "source": [
    "lof_array = lof.fit_predict(numeric_scale)"
   ]
  },
  {
   "cell_type": "code",
   "execution_count": 34,
   "id": "29391ecc-c903-4998-aa35-02a41213fa72",
   "metadata": {},
   "outputs": [],
   "source": [
    "ground_truth = np.ones(len(numeric_scale), dtype=int)"
   ]
  },
  {
   "cell_type": "code",
   "execution_count": 35,
   "id": "0aa248c9-41ce-4d1e-934e-f1c657813ddb",
   "metadata": {},
   "outputs": [],
   "source": [
    "n_errors = (lof_array != ground_truth).sum()"
   ]
  },
  {
   "cell_type": "code",
   "execution_count": 36,
   "id": "63aeab32-ccf5-4aa9-85c6-fc6fd565cd1e",
   "metadata": {},
   "outputs": [
    {
     "data": {
      "text/plain": [
       "3413"
      ]
     },
     "execution_count": 36,
     "metadata": {},
     "output_type": "execute_result"
    }
   ],
   "source": [
    "n_errors"
   ]
  },
  {
   "cell_type": "markdown",
   "id": "1310538c-c6b2-4852-9290-9d1b2b5b7d08",
   "metadata": {},
   "source": [
    "Partiendo del algoritmo LOF, se encontraron $3413$ datos atípicos, los cuales se deciden eliminar del dataframe para minimizar el ruido e el modelo."
   ]
  },
  {
   "cell_type": "code",
   "execution_count": 37,
   "id": "4e41f515-7094-4287-be33-7ca85769348f",
   "metadata": {},
   "outputs": [
    {
     "name": "stdout",
     "output_type": "stream",
     "text": [
      "Número de muestras sin outilers: 37536\n"
     ]
    }
   ],
   "source": [
    "pos = np.where(lof_array == ground_truth)\n",
    "pos = np.asarray(pos)\n",
    "pos = np.hstack(pos)\n",
    "youtube = youtube.loc[pos, :]\n",
    "print('Número de muestras sin outilers:', youtube.shape[0])"
   ]
  },
  {
   "cell_type": "code",
   "execution_count": 38,
   "id": "6954324f-3e40-4e83-a0f5-75a751bf668d",
   "metadata": {},
   "outputs": [
    {
     "data": {
      "image/png": "[encoded data removed]",
      "text/plain": [
       "<Figure size 800x500 with 1 Axes>"
      ]
     },
     "metadata": {},
     "output_type": "display_data"
    }
   ],
   "source": [
    "box_plot(youtube, showfliers=False)"
   ]
  },
  {
   "cell_type": "markdown",
   "id": "8df07e99-1727-4dd0-b5fa-014d7aff3018",
   "metadata": {},
   "source": [
    "# Transformaciones"
   ]
  },
  {
   "cell_type": "code",
   "execution_count": 39,
   "id": "06f28da5-f471-4a93-bc6d-7a9ff7f15237",
   "metadata": {},
   "outputs": [],
   "source": [
    "youtube = pd.merge(\n",
    "    youtube,\n",
    "    categories,\n",
    "    on='category_id',\n",
    "    how='left')"
   ]
  },
  {
   "cell_type": "code",
   "execution_count": 40,
   "id": "2a43b946-ce38-4882-8557-0e271d996078",
   "metadata": {},
   "outputs": [],
   "source": [
    "categories_youtube = youtube.groupby('category').agg({'video_id': 'count'})"
   ]
  },
  {
   "cell_type": "code",
   "execution_count": 41,
   "id": "0ee5dbeb-62e0-4b2f-8d39-0e2a509b6ae0",
   "metadata": {},
   "outputs": [],
   "source": [
    "categories_youtube['per'] = categories_youtube['video_id'] / categories_youtube['video_id'].sum() * 100"
   ]
  },
  {
   "cell_type": "code",
   "execution_count": 42,
   "id": "b9160dfa-29f8-4089-b608-efd8c33576bf",
   "metadata": {},
   "outputs": [],
   "source": [
    "categories_youtube = categories_youtube.sort_values(by='video_id', ascending=False)"
   ]
  },
  {
   "cell_type": "code",
   "execution_count": 43,
   "id": "139aec02-48c3-4492-b000-c8e5ab132b2a",
   "metadata": {},
   "outputs": [
    {
     "data": {
      "text/html": [
       "<div>\n",
       "<style scoped>\n",
       "    .dataframe tbody tr th:only-of-type {\n",
       "        vertical-align: middle;\n",
       "    }\n",
       "\n",
       "    .dataframe tbody tr th {\n",
       "        vertical-align: top;\n",
       "    }\n",
       "\n",
       "    .dataframe thead th {\n",
       "        text-align: right;\n",
       "    }\n",
       "</style>\n",
       "<table border=\"1\" class=\"dataframe\">\n",
       "  <thead>\n",
       "    <tr style=\"text-align: right;\">\n",
       "      <th></th>\n",
       "      <th>video_id</th>\n",
       "      <th>per</th>\n",
       "    </tr>\n",
       "    <tr>\n",
       "      <th>category</th>\n",
       "      <th></th>\n",
       "      <th></th>\n",
       "    </tr>\n",
       "  </thead>\n",
       "  <tbody>\n",
       "    <tr>\n",
       "      <th>Entertainment</th>\n",
       "      <td>9109</td>\n",
       "      <td>24.267370</td>\n",
       "    </tr>\n",
       "    <tr>\n",
       "      <th>Music</th>\n",
       "      <td>5939</td>\n",
       "      <td>15.822144</td>\n",
       "    </tr>\n",
       "    <tr>\n",
       "      <th>Howto &amp; Style</th>\n",
       "      <td>3877</td>\n",
       "      <td>10.328751</td>\n",
       "    </tr>\n",
       "    <tr>\n",
       "      <th>Comedy</th>\n",
       "      <td>3213</td>\n",
       "      <td>8.559783</td>\n",
       "    </tr>\n",
       "    <tr>\n",
       "      <th>People &amp; Blogs</th>\n",
       "      <td>2951</td>\n",
       "      <td>7.861786</td>\n",
       "    </tr>\n",
       "    <tr>\n",
       "      <th>Science &amp; Technology</th>\n",
       "      <td>2219</td>\n",
       "      <td>5.911658</td>\n",
       "    </tr>\n",
       "    <tr>\n",
       "      <th>News &amp; Politics</th>\n",
       "      <td>2167</td>\n",
       "      <td>5.773124</td>\n",
       "    </tr>\n",
       "    <tr>\n",
       "      <th>Film &amp; Animation</th>\n",
       "      <td>2133</td>\n",
       "      <td>5.682545</td>\n",
       "    </tr>\n",
       "    <tr>\n",
       "      <th>Sports</th>\n",
       "      <td>1959</td>\n",
       "      <td>5.218990</td>\n",
       "    </tr>\n",
       "    <tr>\n",
       "      <th>Education</th>\n",
       "      <td>1560</td>\n",
       "      <td>4.156010</td>\n",
       "    </tr>\n",
       "    <tr>\n",
       "      <th>Pets &amp; Animals</th>\n",
       "      <td>865</td>\n",
       "      <td>2.304454</td>\n",
       "    </tr>\n",
       "    <tr>\n",
       "      <th>Gaming</th>\n",
       "      <td>720</td>\n",
       "      <td>1.918159</td>\n",
       "    </tr>\n",
       "    <tr>\n",
       "      <th>Travel &amp; Events</th>\n",
       "      <td>372</td>\n",
       "      <td>0.991049</td>\n",
       "    </tr>\n",
       "    <tr>\n",
       "      <th>Autos &amp; Vehicles</th>\n",
       "      <td>345</td>\n",
       "      <td>0.919118</td>\n",
       "    </tr>\n",
       "    <tr>\n",
       "      <th>Shows</th>\n",
       "      <td>56</td>\n",
       "      <td>0.149190</td>\n",
       "    </tr>\n",
       "    <tr>\n",
       "      <th>Nonprofits &amp; Activism</th>\n",
       "      <td>51</td>\n",
       "      <td>0.135870</td>\n",
       "    </tr>\n",
       "  </tbody>\n",
       "</table>\n",
       "</div>"
      ],
      "text/plain": [
       "                       video_id        per\n",
       "category                                  \n",
       "Entertainment              9109  24.267370\n",
       "Music                      5939  15.822144\n",
       "Howto & Style              3877  10.328751\n",
       "Comedy                     3213   8.559783\n",
       "People & Blogs             2951   7.861786\n",
       "Science & Technology       2219   5.911658\n",
       "News & Politics            2167   5.773124\n",
       "Film & Animation           2133   5.682545\n",
       "Sports                     1959   5.218990\n",
       "Education                  1560   4.156010\n",
       "Pets & Animals              865   2.304454\n",
       "Gaming                      720   1.918159\n",
       "Travel & Events             372   0.991049\n",
       "Autos & Vehicles            345   0.919118\n",
       "Shows                        56   0.149190\n",
       "Nonprofits & Activism        51   0.135870"
      ]
     },
     "execution_count": 43,
     "metadata": {},
     "output_type": "execute_result"
    }
   ],
   "source": [
    "categories_youtube"
   ]
  },
  {
   "cell_type": "code",
   "execution_count": 44,
   "id": "258c47c4-235a-44aa-928e-07c9dea59c30",
   "metadata": {},
   "outputs": [
    {
     "data": {
      "image/png": "[encoded data removed]",
      "text/plain": [
       "<Figure size 800x500 with 1 Axes>"
      ]
     },
     "metadata": {},
     "output_type": "display_data"
    }
   ],
   "source": [
    "pie_plot(categories_youtube, 'video_id')"
   ]
  },
  {
   "cell_type": "markdown",
   "id": "994f4f32-4171-49a4-b08f-874803d420d8",
   "metadata": {},
   "source": [
    "## Agrupación de categorias de bajo porcentaje de participación"
   ]
  },
  {
   "cell_type": "code",
   "execution_count": 45,
   "id": "3d32c2f1-d77d-407e-96ae-d69e1c76ccce",
   "metadata": {},
   "outputs": [],
   "source": [
    "cats = ['Education', 'Pets & Animals', 'Gaming', 'Travel & Events',\n",
    "        'Autos & Vehicles', 'Nonprofits & Activism', 'Shows']\n",
    "\n",
    "for cat in cats:\n",
    "    cond = youtube['category'] == cat\n",
    "    youtube.loc[cond, 'category'] = 'Other'"
   ]
  },
  {
   "cell_type": "code",
   "execution_count": 46,
   "id": "00eb8161-29e4-4ab9-a790-b9547b129f6b",
   "metadata": {},
   "outputs": [],
   "source": [
    "ids = categories[categories['category'].isin(cats)]['category_id'].unique()\n",
    "\n",
    "for id in ids:\n",
    "    cond = youtube['category_id'] == id\n",
    "    youtube.loc[cond, 'category_id'] = '50'"
   ]
  },
  {
   "cell_type": "code",
   "execution_count": 47,
   "id": "694eab47-5f12-44ef-8d03-0f6613addffe",
   "metadata": {},
   "outputs": [],
   "source": [
    "categories_youtube = youtube.groupby('category').agg({'video_id': 'count'})"
   ]
  },
  {
   "cell_type": "code",
   "execution_count": 48,
   "id": "ab814523-79ff-47b9-be93-a9b92a6e3c3d",
   "metadata": {},
   "outputs": [
    {
     "data": {
      "text/html": [
       "<div>\n",
       "<style scoped>\n",
       "    .dataframe tbody tr th:only-of-type {\n",
       "        vertical-align: middle;\n",
       "    }\n",
       "\n",
       "    .dataframe tbody tr th {\n",
       "        vertical-align: top;\n",
       "    }\n",
       "\n",
       "    .dataframe thead th {\n",
       "        text-align: right;\n",
       "    }\n",
       "</style>\n",
       "<table border=\"1\" class=\"dataframe\">\n",
       "  <thead>\n",
       "    <tr style=\"text-align: right;\">\n",
       "      <th></th>\n",
       "      <th>video_id</th>\n",
       "    </tr>\n",
       "    <tr>\n",
       "      <th>category</th>\n",
       "      <th></th>\n",
       "    </tr>\n",
       "  </thead>\n",
       "  <tbody>\n",
       "    <tr>\n",
       "      <th>Comedy</th>\n",
       "      <td>3213</td>\n",
       "    </tr>\n",
       "    <tr>\n",
       "      <th>Entertainment</th>\n",
       "      <td>9109</td>\n",
       "    </tr>\n",
       "    <tr>\n",
       "      <th>Film &amp; Animation</th>\n",
       "      <td>2133</td>\n",
       "    </tr>\n",
       "    <tr>\n",
       "      <th>Howto &amp; Style</th>\n",
       "      <td>3877</td>\n",
       "    </tr>\n",
       "    <tr>\n",
       "      <th>Music</th>\n",
       "      <td>5939</td>\n",
       "    </tr>\n",
       "    <tr>\n",
       "      <th>News &amp; Politics</th>\n",
       "      <td>2167</td>\n",
       "    </tr>\n",
       "    <tr>\n",
       "      <th>Other</th>\n",
       "      <td>3969</td>\n",
       "    </tr>\n",
       "    <tr>\n",
       "      <th>People &amp; Blogs</th>\n",
       "      <td>2951</td>\n",
       "    </tr>\n",
       "    <tr>\n",
       "      <th>Science &amp; Technology</th>\n",
       "      <td>2219</td>\n",
       "    </tr>\n",
       "    <tr>\n",
       "      <th>Sports</th>\n",
       "      <td>1959</td>\n",
       "    </tr>\n",
       "  </tbody>\n",
       "</table>\n",
       "</div>"
      ],
      "text/plain": [
       "                      video_id\n",
       "category                      \n",
       "Comedy                    3213\n",
       "Entertainment             9109\n",
       "Film & Animation          2133\n",
       "Howto & Style             3877\n",
       "Music                     5939\n",
       "News & Politics           2167\n",
       "Other                     3969\n",
       "People & Blogs            2951\n",
       "Science & Technology      2219\n",
       "Sports                    1959"
      ]
     },
     "execution_count": 48,
     "metadata": {},
     "output_type": "execute_result"
    }
   ],
   "source": [
    "categories_youtube"
   ]
  },
  {
   "cell_type": "code",
   "execution_count": 49,
   "id": "5f81e7d9-d34e-40ce-80a6-c03d1a5a06c4",
   "metadata": {},
   "outputs": [
    {
     "data": {
      "image/png": "[encoded data removed]",
      "text/plain": [
       "<Figure size 800x500 with 1 Axes>"
      ]
     },
     "metadata": {},
     "output_type": "display_data"
    }
   ],
   "source": [
    "pie_plot(categories_youtube, 'video_id')"
   ]
  },
  {
   "cell_type": "markdown",
   "id": "385e4218-18e7-4abe-ac24-addde7b09126",
   "metadata": {},
   "source": [
    "## Características"
   ]
  },
  {
   "cell_type": "markdown",
   "id": "e1a1d641-3ad7-4c67-9f2b-1f135b72dd25",
   "metadata": {},
   "source": [
    "* Cantidad de días para convertirse en tendencia"
   ]
  },
  {
   "cell_type": "code",
   "execution_count": 51,
   "id": "1561fa8a-b061-473c-8830-f1ad75976118",
   "metadata": {},
   "outputs": [],
   "source": [
    "youtube['trending_date'] = pd.to_datetime(youtube['trending_date'], format='%y.%d.%m')"
   ]
  },
  {
   "cell_type": "code",
   "execution_count": 52,
   "id": "08d35ec9-6724-4a3b-9151-4b74065140cd",
   "metadata": {},
   "outputs": [],
   "source": [
    "youtube['publish_time'] = pd.to_datetime(youtube['publish_time'])"
   ]
  },
  {
   "cell_type": "code",
   "execution_count": 53,
   "id": "1ee17ab0-bf1a-41a4-9dee-c7190d075ad0",
   "metadata": {},
   "outputs": [],
   "source": [
    "youtube['days'] = (youtube['trending_date'] - youtube['publish_time'].dt.tz_localize(None)).dt.days"
   ]
  },
  {
   "cell_type": "markdown",
   "id": "02ec941f-7acb-46f8-87da-fadb7140373b",
   "metadata": {},
   "source": [
    "* Longitud del titulo del video"
   ]
  },
  {
   "cell_type": "code",
   "execution_count": 54,
   "id": "d6e382b3-048d-4cae-a7c2-24544e7fa56a",
   "metadata": {},
   "outputs": [],
   "source": [
    "youtube['title_length'] = youtube['title'].apply(lambda x: len(x))"
   ]
  },
  {
   "cell_type": "markdown",
   "id": "9b39fe58-f4ba-4fd4-8353-4deeb60b451e",
   "metadata": {},
   "source": [
    "* Cantidad de tags con las que cuenta el video"
   ]
  },
  {
   "cell_type": "code",
   "execution_count": 55,
   "id": "f8a706b1-ea68-49ff-9e47-e460f518d63f",
   "metadata": {},
   "outputs": [],
   "source": [
    "youtube['tag_count'] = youtube['tags'].apply(lambda x: len(x.split('|')))"
   ]
  },
  {
   "cell_type": "markdown",
   "id": "9e7f1796-8c0d-42f7-9811-4b3426bdbd73",
   "metadata": {},
   "source": [
    "* Vectorizar el titulo"
   ]
  },
  {
   "cell_type": "markdown",
   "id": "f1712971-c8e4-4275-8400-55b76de42a1b",
   "metadata": {},
   "source": [
    "### Ejemplo de vectorización"
   ]
  },
  {
   "cell_type": "code",
   "execution_count": 56,
   "id": "887f18a3-130e-450c-b15c-0256ec7aaf6f",
   "metadata": {},
   "outputs": [
    {
     "data": {
      "text/html": [
       "<div>\n",
       "<style scoped>\n",
       "    .dataframe tbody tr th:only-of-type {\n",
       "        vertical-align: middle;\n",
       "    }\n",
       "\n",
       "    .dataframe tbody tr th {\n",
       "        vertical-align: top;\n",
       "    }\n",
       "\n",
       "    .dataframe thead th {\n",
       "        text-align: right;\n",
       "    }\n",
       "</style>\n",
       "<table border=\"1\" class=\"dataframe\">\n",
       "  <thead>\n",
       "    <tr style=\"text-align: right;\">\n",
       "      <th></th>\n",
       "      <th>titulo</th>\n",
       "    </tr>\n",
       "  </thead>\n",
       "  <tbody>\n",
       "    <tr>\n",
       "      <th>0</th>\n",
       "      <td>WE WANT TO TALK ABOUT OUR MARRIAGE</td>\n",
       "    </tr>\n",
       "    <tr>\n",
       "      <th>1</th>\n",
       "      <td>The Trump Presidency: Last Week Tonight with John Oliver (HBO)</td>\n",
       "    </tr>\n",
       "    <tr>\n",
       "      <th>2</th>\n",
       "      <td>Racist Superman | Rudy Mancuso, King Bach &amp; Lele Pons</td>\n",
       "    </tr>\n",
       "    <tr>\n",
       "      <th>3</th>\n",
       "      <td>Drop the Mic w/ Ashton Kutcher &amp; Sean Diddy Combs</td>\n",
       "    </tr>\n",
       "    <tr>\n",
       "      <th>4</th>\n",
       "      <td>Carla Makes BA Smashburgers | From the Test Kitchen | Bon Appétit</td>\n",
       "    </tr>\n",
       "    <tr>\n",
       "      <th>5</th>\n",
       "      <td>Katherine Langford on 13 Reasons Why, Australia &amp; Doctor Parents</td>\n",
       "    </tr>\n",
       "  </tbody>\n",
       "</table>\n",
       "</div>"
      ],
      "text/plain": [
       "                                                              titulo\n",
       "0                                 WE WANT TO TALK ABOUT OUR MARRIAGE\n",
       "1     The Trump Presidency: Last Week Tonight with John Oliver (HBO)\n",
       "2              Racist Superman | Rudy Mancuso, King Bach & Lele Pons\n",
       "3                  Drop the Mic w/ Ashton Kutcher & Sean Diddy Combs\n",
       "4  Carla Makes BA Smashburgers | From the Test Kitchen | Bon Appétit\n",
       "5   Katherine Langford on 13 Reasons Why, Australia & Doctor Parents"
      ]
     },
     "execution_count": 56,
     "metadata": {},
     "output_type": "execute_result"
    }
   ],
   "source": [
    "titles = [\n",
    "    'WE WANT TO TALK ABOUT OUR MARRIAGE',\n",
    "    'The Trump Presidency: Last Week Tonight with John Oliver (HBO)',\n",
    "    'Racist Superman | Rudy Mancuso, King Bach & Lele Pons',\n",
    "    'Drop the Mic w/ Ashton Kutcher & Sean Diddy Combs',\n",
    "    'Carla Makes BA Smashburgers | From the Test Kitchen | Bon Appétit',\n",
    "    'Katherine Langford on 13 Reasons Why, Australia & Doctor Parents'\n",
    "]\n",
    "\n",
    "df = pd.DataFrame({'titulo': titles})\n",
    "df"
   ]
  },
  {
   "cell_type": "markdown",
   "id": "2df5a416-6c16-4976-b153-467858901293",
   "metadata": {},
   "source": [
    "* Instanciamos la clase CountVectorizer"
   ]
  },
  {
   "cell_type": "code",
   "execution_count": 57,
   "id": "ee50f46b-7a35-4178-a8a5-ac0a90402557",
   "metadata": {},
   "outputs": [],
   "source": [
    "vectorizer_example = CountVectorizer()"
   ]
  },
  {
   "cell_type": "code",
   "execution_count": 58,
   "id": "d64d9075-e9cd-425d-b811-bc4297bb1fc2",
   "metadata": {},
   "outputs": [],
   "source": [
    "X = vectorizer_example.fit_transform(df['titulo'])"
   ]
  },
  {
   "cell_type": "code",
   "execution_count": 59,
   "id": "90b58f48-b4d5-41cd-99f4-cba686ae43bf",
   "metadata": {},
   "outputs": [
    {
     "data": {
      "text/plain": [
       "array(['13', 'about', 'appétit', 'ashton', 'australia', 'ba', 'bach',\n",
       "       'bon', 'carla', 'combs', 'diddy', 'doctor', 'drop', 'from', 'hbo',\n",
       "       'john', 'katherine', 'king', 'kitchen', 'kutcher', 'langford',\n",
       "       'last', 'lele', 'makes', 'mancuso', 'marriage', 'mic', 'oliver',\n",
       "       'on', 'our', 'parents', 'pons', 'presidency', 'racist', 'reasons',\n",
       "       'rudy', 'sean', 'smashburgers', 'superman', 'talk', 'test', 'the',\n",
       "       'to', 'tonight', 'trump', 'want', 'we', 'week', 'why', 'with'],\n",
       "      dtype=object)"
      ]
     },
     "execution_count": 59,
     "metadata": {},
     "output_type": "execute_result"
    }
   ],
   "source": [
    "cols = vectorizer_example.get_feature_names_out()\n",
    "cols"
   ]
  },
  {
   "cell_type": "code",
   "execution_count": 60,
   "id": "36f00765-234d-4de8-8e4e-ced4ee090cc7",
   "metadata": {},
   "outputs": [
    {
     "data": {
      "text/html": [
       "<div>\n",
       "<style scoped>\n",
       "    .dataframe tbody tr th:only-of-type {\n",
       "        vertical-align: middle;\n",
       "    }\n",
       "\n",
       "    .dataframe tbody tr th {\n",
       "        vertical-align: top;\n",
       "    }\n",
       "\n",
       "    .dataframe thead th {\n",
       "        text-align: right;\n",
       "    }\n",
       "</style>\n",
       "<table border=\"1\" class=\"dataframe\">\n",
       "  <thead>\n",
       "    <tr style=\"text-align: right;\">\n",
       "      <th></th>\n",
       "      <th>13</th>\n",
       "      <th>about</th>\n",
       "      <th>appétit</th>\n",
       "      <th>ashton</th>\n",
       "      <th>australia</th>\n",
       "      <th>ba</th>\n",
       "      <th>bach</th>\n",
       "      <th>bon</th>\n",
       "      <th>carla</th>\n",
       "      <th>combs</th>\n",
       "      <th>diddy</th>\n",
       "      <th>doctor</th>\n",
       "      <th>drop</th>\n",
       "      <th>from</th>\n",
       "      <th>hbo</th>\n",
       "      <th>john</th>\n",
       "      <th>katherine</th>\n",
       "      <th>king</th>\n",
       "      <th>kitchen</th>\n",
       "      <th>kutcher</th>\n",
       "      <th>langford</th>\n",
       "      <th>last</th>\n",
       "      <th>lele</th>\n",
       "      <th>makes</th>\n",
       "      <th>mancuso</th>\n",
       "      <th>marriage</th>\n",
       "      <th>mic</th>\n",
       "      <th>oliver</th>\n",
       "      <th>on</th>\n",
       "      <th>our</th>\n",
       "      <th>parents</th>\n",
       "      <th>pons</th>\n",
       "      <th>presidency</th>\n",
       "      <th>racist</th>\n",
       "      <th>reasons</th>\n",
       "      <th>rudy</th>\n",
       "      <th>sean</th>\n",
       "      <th>smashburgers</th>\n",
       "      <th>superman</th>\n",
       "      <th>talk</th>\n",
       "      <th>test</th>\n",
       "      <th>the</th>\n",
       "      <th>to</th>\n",
       "      <th>tonight</th>\n",
       "      <th>trump</th>\n",
       "      <th>want</th>\n",
       "      <th>we</th>\n",
       "      <th>week</th>\n",
       "      <th>why</th>\n",
       "      <th>with</th>\n",
       "    </tr>\n",
       "  </thead>\n",
       "  <tbody>\n",
       "    <tr>\n",
       "      <th>0</th>\n",
       "      <td>0</td>\n",
       "      <td>1</td>\n",
       "      <td>0</td>\n",
       "      <td>0</td>\n",
       "      <td>0</td>\n",
       "      <td>0</td>\n",
       "      <td>0</td>\n",
       "      <td>0</td>\n",
       "      <td>0</td>\n",
       "      <td>0</td>\n",
       "      <td>0</td>\n",
       "      <td>0</td>\n",
       "      <td>0</td>\n",
       "      <td>0</td>\n",
       "      <td>0</td>\n",
       "      <td>0</td>\n",
       "      <td>0</td>\n",
       "      <td>0</td>\n",
       "      <td>0</td>\n",
       "      <td>0</td>\n",
       "      <td>0</td>\n",
       "      <td>0</td>\n",
       "      <td>0</td>\n",
       "      <td>0</td>\n",
       "      <td>0</td>\n",
       "      <td>1</td>\n",
       "      <td>0</td>\n",
       "      <td>0</td>\n",
       "      <td>0</td>\n",
       "      <td>1</td>\n",
       "      <td>0</td>\n",
       "      <td>0</td>\n",
       "      <td>0</td>\n",
       "      <td>0</td>\n",
       "      <td>0</td>\n",
       "      <td>0</td>\n",
       "      <td>0</td>\n",
       "      <td>0</td>\n",
       "      <td>0</td>\n",
       "      <td>1</td>\n",
       "      <td>0</td>\n",
       "      <td>0</td>\n",
       "      <td>1</td>\n",
       "      <td>0</td>\n",
       "      <td>0</td>\n",
       "      <td>1</td>\n",
       "      <td>1</td>\n",
       "      <td>0</td>\n",
       "      <td>0</td>\n",
       "      <td>0</td>\n",
       "    </tr>\n",
       "    <tr>\n",
       "      <th>1</th>\n",
       "      <td>0</td>\n",
       "      <td>0</td>\n",
       "      <td>0</td>\n",
       "      <td>0</td>\n",
       "      <td>0</td>\n",
       "      <td>0</td>\n",
       "      <td>0</td>\n",
       "      <td>0</td>\n",
       "      <td>0</td>\n",
       "      <td>0</td>\n",
       "      <td>0</td>\n",
       "      <td>0</td>\n",
       "      <td>0</td>\n",
       "      <td>0</td>\n",
       "      <td>1</td>\n",
       "      <td>1</td>\n",
       "      <td>0</td>\n",
       "      <td>0</td>\n",
       "      <td>0</td>\n",
       "      <td>0</td>\n",
       "      <td>0</td>\n",
       "      <td>1</td>\n",
       "      <td>0</td>\n",
       "      <td>0</td>\n",
       "      <td>0</td>\n",
       "      <td>0</td>\n",
       "      <td>0</td>\n",
       "      <td>1</td>\n",
       "      <td>0</td>\n",
       "      <td>0</td>\n",
       "      <td>0</td>\n",
       "      <td>0</td>\n",
       "      <td>1</td>\n",
       "      <td>0</td>\n",
       "      <td>0</td>\n",
       "      <td>0</td>\n",
       "      <td>0</td>\n",
       "      <td>0</td>\n",
       "      <td>0</td>\n",
       "      <td>0</td>\n",
       "      <td>0</td>\n",
       "      <td>1</td>\n",
       "      <td>0</td>\n",
       "      <td>1</td>\n",
       "      <td>1</td>\n",
       "      <td>0</td>\n",
       "      <td>0</td>\n",
       "      <td>1</td>\n",
       "      <td>0</td>\n",
       "      <td>1</td>\n",
       "    </tr>\n",
       "    <tr>\n",
       "      <th>2</th>\n",
       "      <td>0</td>\n",
       "      <td>0</td>\n",
       "      <td>0</td>\n",
       "      <td>0</td>\n",
       "      <td>0</td>\n",
       "      <td>0</td>\n",
       "      <td>1</td>\n",
       "      <td>0</td>\n",
       "      <td>0</td>\n",
       "      <td>0</td>\n",
       "      <td>0</td>\n",
       "      <td>0</td>\n",
       "      <td>0</td>\n",
       "      <td>0</td>\n",
       "      <td>0</td>\n",
       "      <td>0</td>\n",
       "      <td>0</td>\n",
       "      <td>1</td>\n",
       "      <td>0</td>\n",
       "      <td>0</td>\n",
       "      <td>0</td>\n",
       "      <td>0</td>\n",
       "      <td>1</td>\n",
       "      <td>0</td>\n",
       "      <td>1</td>\n",
       "      <td>0</td>\n",
       "      <td>0</td>\n",
       "      <td>0</td>\n",
       "      <td>0</td>\n",
       "      <td>0</td>\n",
       "      <td>0</td>\n",
       "      <td>1</td>\n",
       "      <td>0</td>\n",
       "      <td>1</td>\n",
       "      <td>0</td>\n",
       "      <td>1</td>\n",
       "      <td>0</td>\n",
       "      <td>0</td>\n",
       "      <td>1</td>\n",
       "      <td>0</td>\n",
       "      <td>0</td>\n",
       "      <td>0</td>\n",
       "      <td>0</td>\n",
       "      <td>0</td>\n",
       "      <td>0</td>\n",
       "      <td>0</td>\n",
       "      <td>0</td>\n",
       "      <td>0</td>\n",
       "      <td>0</td>\n",
       "      <td>0</td>\n",
       "    </tr>\n",
       "    <tr>\n",
       "      <th>3</th>\n",
       "      <td>0</td>\n",
       "      <td>0</td>\n",
       "      <td>0</td>\n",
       "      <td>1</td>\n",
       "      <td>0</td>\n",
       "      <td>0</td>\n",
       "      <td>0</td>\n",
       "      <td>0</td>\n",
       "      <td>0</td>\n",
       "      <td>1</td>\n",
       "      <td>1</td>\n",
       "      <td>0</td>\n",
       "      <td>1</td>\n",
       "      <td>0</td>\n",
       "      <td>0</td>\n",
       "      <td>0</td>\n",
       "      <td>0</td>\n",
       "      <td>0</td>\n",
       "      <td>0</td>\n",
       "      <td>1</td>\n",
       "      <td>0</td>\n",
       "      <td>0</td>\n",
       "      <td>0</td>\n",
       "      <td>0</td>\n",
       "      <td>0</td>\n",
       "      <td>0</td>\n",
       "      <td>1</td>\n",
       "      <td>0</td>\n",
       "      <td>0</td>\n",
       "      <td>0</td>\n",
       "      <td>0</td>\n",
       "      <td>0</td>\n",
       "      <td>0</td>\n",
       "      <td>0</td>\n",
       "      <td>0</td>\n",
       "      <td>0</td>\n",
       "      <td>1</td>\n",
       "      <td>0</td>\n",
       "      <td>0</td>\n",
       "      <td>0</td>\n",
       "      <td>0</td>\n",
       "      <td>1</td>\n",
       "      <td>0</td>\n",
       "      <td>0</td>\n",
       "      <td>0</td>\n",
       "      <td>0</td>\n",
       "      <td>0</td>\n",
       "      <td>0</td>\n",
       "      <td>0</td>\n",
       "      <td>0</td>\n",
       "    </tr>\n",
       "    <tr>\n",
       "      <th>4</th>\n",
       "      <td>0</td>\n",
       "      <td>0</td>\n",
       "      <td>1</td>\n",
       "      <td>0</td>\n",
       "      <td>0</td>\n",
       "      <td>1</td>\n",
       "      <td>0</td>\n",
       "      <td>1</td>\n",
       "      <td>1</td>\n",
       "      <td>0</td>\n",
       "      <td>0</td>\n",
       "      <td>0</td>\n",
       "      <td>0</td>\n",
       "      <td>1</td>\n",
       "      <td>0</td>\n",
       "      <td>0</td>\n",
       "      <td>0</td>\n",
       "      <td>0</td>\n",
       "      <td>1</td>\n",
       "      <td>0</td>\n",
       "      <td>0</td>\n",
       "      <td>0</td>\n",
       "      <td>0</td>\n",
       "      <td>1</td>\n",
       "      <td>0</td>\n",
       "      <td>0</td>\n",
       "      <td>0</td>\n",
       "      <td>0</td>\n",
       "      <td>0</td>\n",
       "      <td>0</td>\n",
       "      <td>0</td>\n",
       "      <td>0</td>\n",
       "      <td>0</td>\n",
       "      <td>0</td>\n",
       "      <td>0</td>\n",
       "      <td>0</td>\n",
       "      <td>0</td>\n",
       "      <td>1</td>\n",
       "      <td>0</td>\n",
       "      <td>0</td>\n",
       "      <td>1</td>\n",
       "      <td>1</td>\n",
       "      <td>0</td>\n",
       "      <td>0</td>\n",
       "      <td>0</td>\n",
       "      <td>0</td>\n",
       "      <td>0</td>\n",
       "      <td>0</td>\n",
       "      <td>0</td>\n",
       "      <td>0</td>\n",
       "    </tr>\n",
       "    <tr>\n",
       "      <th>5</th>\n",
       "      <td>1</td>\n",
       "      <td>0</td>\n",
       "      <td>0</td>\n",
       "      <td>0</td>\n",
       "      <td>1</td>\n",
       "      <td>0</td>\n",
       "      <td>0</td>\n",
       "      <td>0</td>\n",
       "      <td>0</td>\n",
       "      <td>0</td>\n",
       "      <td>0</td>\n",
       "      <td>1</td>\n",
       "      <td>0</td>\n",
       "      <td>0</td>\n",
       "      <td>0</td>\n",
       "      <td>0</td>\n",
       "      <td>1</td>\n",
       "      <td>0</td>\n",
       "      <td>0</td>\n",
       "      <td>0</td>\n",
       "      <td>1</td>\n",
       "      <td>0</td>\n",
       "      <td>0</td>\n",
       "      <td>0</td>\n",
       "      <td>0</td>\n",
       "      <td>0</td>\n",
       "      <td>0</td>\n",
       "      <td>0</td>\n",
       "      <td>1</td>\n",
       "      <td>0</td>\n",
       "      <td>1</td>\n",
       "      <td>0</td>\n",
       "      <td>0</td>\n",
       "      <td>0</td>\n",
       "      <td>1</td>\n",
       "      <td>0</td>\n",
       "      <td>0</td>\n",
       "      <td>0</td>\n",
       "      <td>0</td>\n",
       "      <td>0</td>\n",
       "      <td>0</td>\n",
       "      <td>0</td>\n",
       "      <td>0</td>\n",
       "      <td>0</td>\n",
       "      <td>0</td>\n",
       "      <td>0</td>\n",
       "      <td>0</td>\n",
       "      <td>0</td>\n",
       "      <td>1</td>\n",
       "      <td>0</td>\n",
       "    </tr>\n",
       "  </tbody>\n",
       "</table>\n",
       "</div>"
      ],
      "text/plain": [
       "   13  about  appétit  ashton  australia  ba  bach  bon  carla  combs  diddy   \n",
       "0   0      1        0       0          0   0     0    0      0      0      0  \\\n",
       "1   0      0        0       0          0   0     0    0      0      0      0   \n",
       "2   0      0        0       0          0   0     1    0      0      0      0   \n",
       "3   0      0        0       1          0   0     0    0      0      1      1   \n",
       "4   0      0        1       0          0   1     0    1      1      0      0   \n",
       "5   1      0        0       0          1   0     0    0      0      0      0   \n",
       "\n",
       "   doctor  drop  from  hbo  john  katherine  king  kitchen  kutcher  langford   \n",
       "0       0     0     0    0     0          0     0        0        0         0  \\\n",
       "1       0     0     0    1     1          0     0        0        0         0   \n",
       "2       0     0     0    0     0          0     1        0        0         0   \n",
       "3       0     1     0    0     0          0     0        0        1         0   \n",
       "4       0     0     1    0     0          0     0        1        0         0   \n",
       "5       1     0     0    0     0          1     0        0        0         1   \n",
       "\n",
       "   last  lele  makes  mancuso  marriage  mic  oliver  on  our  parents  pons   \n",
       "0     0     0      0        0         1    0       0   0    1        0     0  \\\n",
       "1     1     0      0        0         0    0       1   0    0        0     0   \n",
       "2     0     1      0        1         0    0       0   0    0        0     1   \n",
       "3     0     0      0        0         0    1       0   0    0        0     0   \n",
       "4     0     0      1        0         0    0       0   0    0        0     0   \n",
       "5     0     0      0        0         0    0       0   1    0        1     0   \n",
       "\n",
       "   presidency  racist  reasons  rudy  sean  smashburgers  superman  talk   \n",
       "0           0       0        0     0     0             0         0     1  \\\n",
       "1           1       0        0     0     0             0         0     0   \n",
       "2           0       1        0     1     0             0         1     0   \n",
       "3           0       0        0     0     1             0         0     0   \n",
       "4           0       0        0     0     0             1         0     0   \n",
       "5           0       0        1     0     0             0         0     0   \n",
       "\n",
       "   test  the  to  tonight  trump  want  we  week  why  with  \n",
       "0     0    0   1        0      0     1   1     0    0     0  \n",
       "1     0    1   0        1      1     0   0     1    0     1  \n",
       "2     0    0   0        0      0     0   0     0    0     0  \n",
       "3     0    1   0        0      0     0   0     0    0     0  \n",
       "4     1    1   0        0      0     0   0     0    0     0  \n",
       "5     0    0   0        0      0     0   0     0    1     0  "
      ]
     },
     "execution_count": 60,
     "metadata": {},
     "output_type": "execute_result"
    }
   ],
   "source": [
    "X_vectorizer = pd.DataFrame(X.toarray(), columns=cols)\n",
    "X_vectorizer"
   ]
  },
  {
   "cell_type": "markdown",
   "id": "a8e4d03e-26bf-4051-bac8-0ac3c16f3cc5",
   "metadata": {},
   "source": [
    "* Continuamos con la vectorización del título"
   ]
  },
  {
   "cell_type": "code",
   "execution_count": 61,
   "id": "b251fe1c-da00-44ad-bef4-6c89a1086923",
   "metadata": {},
   "outputs": [],
   "source": [
    "youtube['title'] = youtube['title'].str.lower()"
   ]
  },
  {
   "cell_type": "markdown",
   "id": "821cef24-1e91-4d17-acb9-017198e6b26e",
   "metadata": {},
   "source": [
    "* Con la función `clean_text` se eliminan las stopswords, palabras cortas y largas y caracteres extraños."
   ]
  },
  {
   "cell_type": "code",
   "execution_count": 63,
   "id": "d3177ac9-60c2-4a62-94e5-09573cd6415d",
   "metadata": {},
   "outputs": [
    {
     "name": "stderr",
     "output_type": "stream",
     "text": [
      "[nltk_data] Downloading package stopwords to\n",
      "[nltk_data]     C:\\Users\\Usuario\\AppData\\Roaming\\nltk_data...\n",
      "[nltk_data]   Package stopwords is already up-to-date!\n"
     ]
    }
   ],
   "source": [
    "youtube = clean_text(youtube, 'title')"
   ]
  },
  {
   "cell_type": "code",
   "execution_count": 64,
   "id": "5daf5fa1-fd36-498e-9866-812b870f1372",
   "metadata": {},
   "outputs": [],
   "source": [
    "patron_caracteres_otros_idiomas = re.compile(r'[^\\x00-\\x7F]+')\n",
    "\n",
    "mascara = youtube['title'].apply(lambda x: not re.search(patron_caracteres_otros_idiomas, x))"
   ]
  },
  {
   "cell_type": "code",
   "execution_count": 65,
   "id": "7a6a8312-c728-447e-a2b5-60aececc38d7",
   "metadata": {},
   "outputs": [],
   "source": [
    "youtube = youtube[mascara]"
   ]
  },
  {
   "cell_type": "code",
   "execution_count": 66,
   "id": "be392010-dc5b-43bf-b898-f0d55433629a",
   "metadata": {},
   "outputs": [],
   "source": [
    "vectorizer = CountVectorizer()\n",
    "\n",
    "x_title = vectorizer.fit_transform(youtube['title'])"
   ]
  },
  {
   "cell_type": "markdown",
   "id": "74a4689c-ec04-4a82-9fbf-296c7eb6cd2f",
   "metadata": {},
   "source": [
    "### Elección de características"
   ]
  },
  {
   "cell_type": "code",
   "execution_count": 67,
   "id": "711cd601-fbfd-4ba4-9d40-0f6be2a680e1",
   "metadata": {},
   "outputs": [
    {
     "data": {
      "text/plain": [
       "Index(['video_id', 'trending_date', 'title', 'channel_title', 'category_id',\n",
       "       'publish_time', 'tags', 'views', 'likes', 'dislikes', 'comment_count',\n",
       "       'thumbnail_link', 'comments_disabled', 'ratings_disabled',\n",
       "       'video_error_or_removed', 'description', 'category', 'days',\n",
       "       'title_length', 'tag_count'],\n",
       "      dtype='object')"
      ]
     },
     "execution_count": 67,
     "metadata": {},
     "output_type": "execute_result"
    }
   ],
   "source": [
    "youtube.columns"
   ]
  },
  {
   "cell_type": "code",
   "execution_count": 68,
   "id": "8aed4346-f64c-46cf-a02d-6d914f6d8001",
   "metadata": {},
   "outputs": [],
   "source": [
    "columnas = ['views', 'likes', 'dislikes', 'comment_count', \n",
    "            'days','title_length', 'tag_count', 'category', ]"
   ]
  },
  {
   "cell_type": "code",
   "execution_count": 69,
   "id": "27bbfa27-1c97-4aee-a9f8-d5b3cffc6307",
   "metadata": {},
   "outputs": [],
   "source": [
    "youtube_model = youtube.loc[:, columnas]"
   ]
  },
  {
   "cell_type": "code",
   "execution_count": 77,
   "id": "788b2b62-f52e-43ca-8ae0-a7f2f06f906b",
   "metadata": {
    "scrolled": true
   },
   "outputs": [
    {
     "data": {
      "text/html": [
       "<div>\n",
       "<style scoped>\n",
       "    .dataframe tbody tr th:only-of-type {\n",
       "        vertical-align: middle;\n",
       "    }\n",
       "\n",
       "    .dataframe tbody tr th {\n",
       "        vertical-align: top;\n",
       "    }\n",
       "\n",
       "    .dataframe thead th {\n",
       "        text-align: right;\n",
       "    }\n",
       "</style>\n",
       "<table border=\"1\" class=\"dataframe\">\n",
       "  <thead>\n",
       "    <tr style=\"text-align: right;\">\n",
       "      <th></th>\n",
       "      <th>views</th>\n",
       "      <th>likes</th>\n",
       "      <th>dislikes</th>\n",
       "      <th>comment_count</th>\n",
       "      <th>days</th>\n",
       "      <th>title_length</th>\n",
       "      <th>tag_count</th>\n",
       "      <th>category</th>\n",
       "    </tr>\n",
       "  </thead>\n",
       "  <tbody>\n",
       "    <tr>\n",
       "      <th>0</th>\n",
       "      <td>2418783</td>\n",
       "      <td>97185</td>\n",
       "      <td>6146</td>\n",
       "      <td>12703</td>\n",
       "      <td>0</td>\n",
       "      <td>62</td>\n",
       "      <td>4</td>\n",
       "      <td>Entertainment</td>\n",
       "    </tr>\n",
       "    <tr>\n",
       "      <th>1</th>\n",
       "      <td>343168</td>\n",
       "      <td>10172</td>\n",
       "      <td>666</td>\n",
       "      <td>2146</td>\n",
       "      <td>0</td>\n",
       "      <td>32</td>\n",
       "      <td>27</td>\n",
       "      <td>Entertainment</td>\n",
       "    </tr>\n",
       "    <tr>\n",
       "      <th>2</th>\n",
       "      <td>2095731</td>\n",
       "      <td>132235</td>\n",
       "      <td>1989</td>\n",
       "      <td>17518</td>\n",
       "      <td>1</td>\n",
       "      <td>24</td>\n",
       "      <td>14</td>\n",
       "      <td>Entertainment</td>\n",
       "    </tr>\n",
       "    <tr>\n",
       "      <th>3</th>\n",
       "      <td>817732</td>\n",
       "      <td>23663</td>\n",
       "      <td>778</td>\n",
       "      <td>3432</td>\n",
       "      <td>1</td>\n",
       "      <td>35</td>\n",
       "      <td>13</td>\n",
       "      <td>Science &amp; Technology</td>\n",
       "    </tr>\n",
       "    <tr>\n",
       "      <th>4</th>\n",
       "      <td>826059</td>\n",
       "      <td>3543</td>\n",
       "      <td>119</td>\n",
       "      <td>340</td>\n",
       "      <td>0</td>\n",
       "      <td>65</td>\n",
       "      <td>28</td>\n",
       "      <td>Film &amp; Animation</td>\n",
       "    </tr>\n",
       "  </tbody>\n",
       "</table>\n",
       "</div>"
      ],
      "text/plain": [
       "     views   likes  dislikes  comment_count  days  title_length  tag_count   \n",
       "0  2418783   97185      6146          12703     0            62          4  \\\n",
       "1   343168   10172       666           2146     0            32         27   \n",
       "2  2095731  132235      1989          17518     1            24         14   \n",
       "3   817732   23663       778           3432     1            35         13   \n",
       "4   826059    3543       119            340     0            65         28   \n",
       "\n",
       "               category  \n",
       "0         Entertainment  \n",
       "1         Entertainment  \n",
       "2         Entertainment  \n",
       "3  Science & Technology  \n",
       "4      Film & Animation  "
      ]
     },
     "execution_count": 77,
     "metadata": {},
     "output_type": "execute_result"
    }
   ],
   "source": [
    "youtube_model.head()"
   ]
  },
  {
   "cell_type": "markdown",
   "id": "6dfef9fd-ba1f-4d4e-a790-aaf5ab5df168",
   "metadata": {},
   "source": [
    "### Exportación de datos del modelo en parquet"
   ]
  },
  {
   "cell_type": "code",
   "execution_count": 76,
   "id": "d37711f6-6437-4abf-b17a-0868ad6ab505",
   "metadata": {},
   "outputs": [],
   "source": [
    "path = os.path.join('..', 'data', 'youtube_model.parquet')\n",
    "youtube_model.to_parquet(path, index=False)"
   ]
  },
  {
   "cell_type": "markdown",
   "id": "a5753057-b02a-47e9-8800-90a5b4d24625",
   "metadata": {},
   "source": [
    "# Modelo de clasificación"
   ]
  },
  {
   "cell_type": "markdown",
   "id": "d58b3e50-cd3d-4e14-916e-34c2b553409d",
   "metadata": {},
   "source": [
    "* Aplicamos LabelEncoder para cambiar categorias en el modelo"
   ]
  },
  {
   "cell_type": "code",
   "execution_count": 71,
   "id": "2945d4d8-536f-46c8-b50a-07c324f16eaa",
   "metadata": {},
   "outputs": [],
   "source": [
    "#le = LabelEncoder()\n",
    "#y_encoded = le.fit_transform(youtube_model['category'])"
   ]
  },
  {
   "cell_type": "code",
   "execution_count": 72,
   "id": "95a985d0-b91a-4cfc-8023-c6f37cb1336d",
   "metadata": {},
   "outputs": [],
   "source": [
    "#for i, categoria in enumerate(le.classes_):\n",
    "#    print(f\"Número: {i}, Categoría: {categoria}\")"
   ]
  },
  {
   "cell_type": "code",
   "execution_count": 73,
   "id": "122ed46c-c198-46e1-820c-6bfdf146f055",
   "metadata": {},
   "outputs": [],
   "source": [
    "x_model = youtube_model.drop('category', axis=1)"
   ]
  },
  {
   "cell_type": "markdown",
   "id": "2d1a1c44-e27d-4626-9ad9-216b47407617",
   "metadata": {},
   "source": [
    "* Escalamos los datos"
   ]
  },
  {
   "cell_type": "code",
   "execution_count": 74,
   "id": "3f7da9ae-4db4-45a0-ada9-180713aba5ee",
   "metadata": {},
   "outputs": [],
   "source": [
    "min_max = MinMaxScaler()\n",
    "\n",
    "x = min_max.fit_transform(x_model)\n",
    "\n",
    "x = pd.DataFrame(x, columns=x_model.columns)"
   ]
  },
  {
   "cell_type": "markdown",
   "id": "fb2be4ce-e217-4d5d-a2a4-c8910f1d330d",
   "metadata": {},
   "source": [
    "## División del conjunto de datos"
   ]
  },
  {
   "cell_type": "code",
   "execution_count": 78,
   "id": "205067b8-a13f-4c3c-841d-73d557a13787",
   "metadata": {},
   "outputs": [],
   "source": [
    "x_numeric = np.array(x)\n",
    "\n",
    "X = np.hstack((x_title.toarray(), x_numeric))"
   ]
  },
  {
   "cell_type": "code",
   "execution_count": 79,
   "id": "209c5396-78d2-436e-8fea-0da3c3a0f026",
   "metadata": {},
   "outputs": [],
   "source": [
    "y = youtube_model['category']"
   ]
  },
  {
   "cell_type": "code",
   "execution_count": 80,
   "id": "8cf8f3b9-bf2d-4f2f-a3e8-b54de36e586c",
   "metadata": {},
   "outputs": [],
   "source": [
    "x_train, x_test, y_train, y_test = train_test_split(\n",
    "    x, y, train_size=0.8, random_state=1234, shuffle=True\n",
    ")"
   ]
  },
  {
   "cell_type": "code",
   "execution_count": 81,
   "id": "9718ad2c-b208-4705-a16c-66d70bccda94",
   "metadata": {},
   "outputs": [
    {
     "name": "stdout",
     "output_type": "stream",
     "text": [
      "Tamaño del conjunto de entrenamiento:\n",
      "x_train: (27735, 7)\n",
      "y_train: (27735,)\n",
      "Tamaño del conjunto de prueba:\n",
      "x_test: (6934, 7)\n",
      "y_test: (6934,)\n"
     ]
    }
   ],
   "source": [
    "print(\"Tamaño del conjunto de entrenamiento:\")\n",
    "print(\"x_train:\", x_train.shape)\n",
    "print(\"y_train:\", y_train.shape)\n",
    "\n",
    "print(\"Tamaño del conjunto de prueba:\")\n",
    "print(\"x_test:\", x_test.shape)\n",
    "print(\"y_test:\", y_test.shape)"
   ]
  },
  {
   "cell_type": "markdown",
   "id": "2569eec7-1d42-46c2-93b4-555095b69c9f",
   "metadata": {},
   "source": [
    "## Entrenamiento y testeo"
   ]
  },
  {
   "cell_type": "markdown",
   "id": "cf7cdff3-7e07-4b94-9a26-fc7c98382cd9",
   "metadata": {},
   "source": [
    "### Random Forest"
   ]
  },
  {
   "cell_type": "markdown",
   "id": "1291ff07-4049-4ef5-8ee0-4bf785bf6ce5",
   "metadata": {},
   "source": [
    "* Usamos GridSearchCV para buscar el mejor modelo"
   ]
  },
  {
   "cell_type": "code",
   "execution_count": 86,
   "id": "71908353-d779-45a0-af03-546655cacbb2",
   "metadata": {},
   "outputs": [],
   "source": [
    "param_grid = {\n",
    "    'n_estimators': [50, 100, 200],\n",
    "    'max_depth': [None, 5, 10]\n",
    "}"
   ]
  },
  {
   "cell_type": "code",
   "execution_count": 87,
   "id": "cc175070-59ca-4843-b1a3-bf16f4412dbd",
   "metadata": {},
   "outputs": [],
   "source": [
    "rf = RandomForestClassifier(random_state=1234)"
   ]
  },
  {
   "cell_type": "code",
   "execution_count": 88,
   "id": "ce2e3db4-2cef-4541-bcdf-4e848780ab60",
   "metadata": {},
   "outputs": [],
   "source": [
    "grid_search = GridSearchCV(\n",
    "    estimator=rf, \n",
    "    param_grid=param_grid, \n",
    "    cv=5, \n",
    "    scoring='accuracy')"
   ]
  },
  {
   "cell_type": "code",
   "execution_count": 89,
   "id": "4fbd00e2-ddab-4c25-aed7-9f8b22745182",
   "metadata": {},
   "outputs": [
    {
     "data": {
      "text/html": [
       "<style>#sk-container-id-1 {color: black;background-color: white;}#sk-container-id-1 pre{padding: 0;}#sk-container-id-1 div.sk-toggleable {background-color: white;}#sk-container-id-1 label.sk-toggleable__label {cursor: pointer;display: block;width: 100%;margin-bottom: 0;padding: 0.3em;box-sizing: border-box;text-align: center;}#sk-container-id-1 label.sk-toggleable__label-arrow:before {content: \"▸\";float: left;margin-right: 0.25em;color: #696969;}#sk-container-id-1 label.sk-toggleable__label-arrow:hover:before {color: black;}#sk-container-id-1 div.sk-estimator:hover label.sk-toggleable__label-arrow:before {color: black;}#sk-container-id-1 div.sk-toggleable__content {max-height: 0;max-width: 0;overflow: hidden;text-align: left;background-color: #f0f8ff;}#sk-container-id-1 div.sk-toggleable__content pre {margin: 0.2em;color: black;border-radius: 0.25em;background-color: #f0f8ff;}#sk-container-id-1 input.sk-toggleable__control:checked~div.sk-toggleable__content {max-height: 200px;max-width: 100%;overflow: auto;}#sk-container-id-1 input.sk-toggleable__control:checked~label.sk-toggleable__label-arrow:before {content: \"▾\";}#sk-container-id-1 div.sk-estimator input.sk-toggleable__control:checked~label.sk-toggleable__label {background-color: #d4ebff;}#sk-container-id-1 div.sk-label input.sk-toggleable__control:checked~label.sk-toggleable__label {background-color: #d4ebff;}#sk-container-id-1 input.sk-hidden--visually {border: 0;clip: rect(1px 1px 1px 1px);clip: rect(1px, 1px, 1px, 1px);height: 1px;margin: -1px;overflow: hidden;padding: 0;position: absolute;width: 1px;}#sk-container-id-1 div.sk-estimator {font-family: monospace;background-color: #f0f8ff;border: 1px dotted black;border-radius: 0.25em;box-sizing: border-box;margin-bottom: 0.5em;}#sk-container-id-1 div.sk-estimator:hover {background-color: #d4ebff;}#sk-container-id-1 div.sk-parallel-item::after {content: \"\";width: 100%;border-bottom: 1px solid gray;flex-grow: 1;}#sk-container-id-1 div.sk-label:hover label.sk-toggleable__label {background-color: #d4ebff;}#sk-container-id-1 div.sk-serial::before {content: \"\";position: absolute;border-left: 1px solid gray;box-sizing: border-box;top: 0;bottom: 0;left: 50%;z-index: 0;}#sk-container-id-1 div.sk-serial {display: flex;flex-direction: column;align-items: center;background-color: white;padding-right: 0.2em;padding-left: 0.2em;position: relative;}#sk-container-id-1 div.sk-item {position: relative;z-index: 1;}#sk-container-id-1 div.sk-parallel {display: flex;align-items: stretch;justify-content: center;background-color: white;position: relative;}#sk-container-id-1 div.sk-item::before, #sk-container-id-1 div.sk-parallel-item::before {content: \"\";position: absolute;border-left: 1px solid gray;box-sizing: border-box;top: 0;bottom: 0;left: 50%;z-index: -1;}#sk-container-id-1 div.sk-parallel-item {display: flex;flex-direction: column;z-index: 1;position: relative;background-color: white;}#sk-container-id-1 div.sk-parallel-item:first-child::after {align-self: flex-end;width: 50%;}#sk-container-id-1 div.sk-parallel-item:last-child::after {align-self: flex-start;width: 50%;}#sk-container-id-1 div.sk-parallel-item:only-child::after {width: 0;}#sk-container-id-1 div.sk-dashed-wrapped {border: 1px dashed gray;margin: 0 0.4em 0.5em 0.4em;box-sizing: border-box;padding-bottom: 0.4em;background-color: white;}#sk-container-id-1 div.sk-label label {font-family: monospace;font-weight: bold;display: inline-block;line-height: 1.2em;}#sk-container-id-1 div.sk-label-container {text-align: center;}#sk-container-id-1 div.sk-container {/* jupyter's `normalize.less` sets `[hidden] { display: none; }` but bootstrap.min.css set `[hidden] { display: none !important; }` so we also need the `!important` here to be able to override the default hidden behavior on the sphinx rendered scikit-learn.org. See: https://github.com/scikit-learn/scikit-learn/issues/21755 */display: inline-block !important;position: relative;}#sk-container-id-1 div.sk-text-repr-fallback {display: none;}</style><div id=\"sk-container-id-1\" class=\"sk-top-container\"><div class=\"sk-text-repr-fallback\"><pre>GridSearchCV(cv=5, estimator=RandomForestClassifier(random_state=1234),\n",
       "             param_grid={&#x27;max_depth&#x27;: [None, 5, 10],\n",
       "                         &#x27;n_estimators&#x27;: [50, 100, 200]},\n",
       "             scoring=&#x27;accuracy&#x27;)</pre><b>In a Jupyter environment, please rerun this cell to show the HTML representation or trust the notebook. <br />On GitHub, the HTML representation is unable to render, please try loading this page with nbviewer.org.</b></div><div class=\"sk-container\" hidden><div class=\"sk-item sk-dashed-wrapped\"><div class=\"sk-label-container\"><div class=\"sk-label sk-toggleable\"><input class=\"sk-toggleable__control sk-hidden--visually\" id=\"sk-estimator-id-1\" type=\"checkbox\" ><label for=\"sk-estimator-id-1\" class=\"sk-toggleable__label sk-toggleable__label-arrow\">GridSearchCV</label><div class=\"sk-toggleable__content\"><pre>GridSearchCV(cv=5, estimator=RandomForestClassifier(random_state=1234),\n",
       "             param_grid={&#x27;max_depth&#x27;: [None, 5, 10],\n",
       "                         &#x27;n_estimators&#x27;: [50, 100, 200]},\n",
       "             scoring=&#x27;accuracy&#x27;)</pre></div></div></div><div class=\"sk-parallel\"><div class=\"sk-parallel-item\"><div class=\"sk-item\"><div class=\"sk-label-container\"><div class=\"sk-label sk-toggleable\"><input class=\"sk-toggleable__control sk-hidden--visually\" id=\"sk-estimator-id-2\" type=\"checkbox\" ><label for=\"sk-estimator-id-2\" class=\"sk-toggleable__label sk-toggleable__label-arrow\">estimator: RandomForestClassifier</label><div class=\"sk-toggleable__content\"><pre>RandomForestClassifier(random_state=1234)</pre></div></div></div><div class=\"sk-serial\"><div class=\"sk-item\"><div class=\"sk-estimator sk-toggleable\"><input class=\"sk-toggleable__control sk-hidden--visually\" id=\"sk-estimator-id-3\" type=\"checkbox\" ><label for=\"sk-estimator-id-3\" class=\"sk-toggleable__label sk-toggleable__label-arrow\">RandomForestClassifier</label><div class=\"sk-toggleable__content\"><pre>RandomForestClassifier(random_state=1234)</pre></div></div></div></div></div></div></div></div></div></div>"
      ],
      "text/plain": [
       "GridSearchCV(cv=5, estimator=RandomForestClassifier(random_state=1234),\n",
       "             param_grid={'max_depth': [None, 5, 10],\n",
       "                         'n_estimators': [50, 100, 200]},\n",
       "             scoring='accuracy')"
      ]
     },
     "execution_count": 89,
     "metadata": {},
     "output_type": "execute_result"
    }
   ],
   "source": [
    "grid_search.fit(x_train, y_train)"
   ]
  },
  {
   "cell_type": "code",
   "execution_count": 90,
   "id": "4ce6f9b6-086b-4710-b9b2-e672e3292329",
   "metadata": {},
   "outputs": [],
   "source": [
    "params = grid_search.best_params_\n",
    "rf_model = grid_search.best_estimator_"
   ]
  },
  {
   "cell_type": "code",
   "execution_count": 116,
   "id": "eeeb5aef-6450-4aac-8b87-6ea7e71a655b",
   "metadata": {},
   "outputs": [
    {
     "data": {
      "text/html": [
       "<div>\n",
       "<style scoped>\n",
       "    .dataframe tbody tr th:only-of-type {\n",
       "        vertical-align: middle;\n",
       "    }\n",
       "\n",
       "    .dataframe tbody tr th {\n",
       "        vertical-align: top;\n",
       "    }\n",
       "\n",
       "    .dataframe thead th {\n",
       "        text-align: right;\n",
       "    }\n",
       "</style>\n",
       "<table border=\"1\" class=\"dataframe\">\n",
       "  <thead>\n",
       "    <tr style=\"text-align: right;\">\n",
       "      <th></th>\n",
       "      <th>predictor</th>\n",
       "      <th>importancia</th>\n",
       "    </tr>\n",
       "  </thead>\n",
       "  <tbody>\n",
       "    <tr>\n",
       "      <th>1</th>\n",
       "      <td>likes</td>\n",
       "      <td>0.171343</td>\n",
       "    </tr>\n",
       "    <tr>\n",
       "      <th>5</th>\n",
       "      <td>title_length</td>\n",
       "      <td>0.163801</td>\n",
       "    </tr>\n",
       "    <tr>\n",
       "      <th>6</th>\n",
       "      <td>tag_count</td>\n",
       "      <td>0.163589</td>\n",
       "    </tr>\n",
       "    <tr>\n",
       "      <th>3</th>\n",
       "      <td>comment_count</td>\n",
       "      <td>0.158856</td>\n",
       "    </tr>\n",
       "    <tr>\n",
       "      <th>2</th>\n",
       "      <td>dislikes</td>\n",
       "      <td>0.143285</td>\n",
       "    </tr>\n",
       "    <tr>\n",
       "      <th>0</th>\n",
       "      <td>views</td>\n",
       "      <td>0.138801</td>\n",
       "    </tr>\n",
       "    <tr>\n",
       "      <th>4</th>\n",
       "      <td>days</td>\n",
       "      <td>0.060325</td>\n",
       "    </tr>\n",
       "  </tbody>\n",
       "</table>\n",
       "</div>"
      ],
      "text/plain": [
       "       predictor  importancia\n",
       "1          likes     0.171343\n",
       "5   title_length     0.163801\n",
       "6      tag_count     0.163589\n",
       "3  comment_count     0.158856\n",
       "2       dislikes     0.143285\n",
       "0          views     0.138801\n",
       "4           days     0.060325"
      ]
     },
     "execution_count": 116,
     "metadata": {},
     "output_type": "execute_result"
    }
   ],
   "source": [
    "importancia = pd.DataFrame({\n",
    "    'predictor': x.columns,\n",
    "    'importancia': rf_model.feature_importances_\n",
    "})\n",
    "importancia.sort_values('importancia', ascending=False)"
   ]
  },
  {
   "cell_type": "code",
   "execution_count": 115,
   "id": "57a52865-751f-4f1c-99b4-4a1a40221cbb",
   "metadata": {},
   "outputs": [
    {
     "data": {
      "text/plain": [
       "array([0.13880109, 0.17134281, 0.14328514, 0.15885607, 0.06032479,\n",
       "       0.16380087, 0.16358924])"
      ]
     },
     "execution_count": 115,
     "metadata": {},
     "output_type": "execute_result"
    }
   ],
   "source": [
    "rf_model.feature_importances_"
   ]
  },
  {
   "cell_type": "code",
   "execution_count": 103,
   "id": "12d28533-66c9-401e-ad34-8c7b7d1d9444",
   "metadata": {},
   "outputs": [
    {
     "data": {
      "text/html": [
       "<div>\n",
       "<style scoped>\n",
       "    .dataframe tbody tr th:only-of-type {\n",
       "        vertical-align: middle;\n",
       "    }\n",
       "\n",
       "    .dataframe tbody tr th {\n",
       "        vertical-align: top;\n",
       "    }\n",
       "\n",
       "    .dataframe thead th {\n",
       "        text-align: right;\n",
       "    }\n",
       "</style>\n",
       "<table border=\"1\" class=\"dataframe\">\n",
       "  <thead>\n",
       "    <tr style=\"text-align: right;\">\n",
       "      <th></th>\n",
       "      <th>param_max_depth</th>\n",
       "      <th>param_n_estimators</th>\n",
       "      <th>mean_test_score</th>\n",
       "      <th>std_test_score</th>\n",
       "    </tr>\n",
       "  </thead>\n",
       "  <tbody>\n",
       "    <tr>\n",
       "      <th>2</th>\n",
       "      <td>None</td>\n",
       "      <td>200</td>\n",
       "      <td>0.892302</td>\n",
       "      <td>0.002104</td>\n",
       "    </tr>\n",
       "    <tr>\n",
       "      <th>1</th>\n",
       "      <td>None</td>\n",
       "      <td>100</td>\n",
       "      <td>0.888228</td>\n",
       "      <td>0.001968</td>\n",
       "    </tr>\n",
       "    <tr>\n",
       "      <th>0</th>\n",
       "      <td>None</td>\n",
       "      <td>50</td>\n",
       "      <td>0.883396</td>\n",
       "      <td>0.002301</td>\n",
       "    </tr>\n",
       "    <tr>\n",
       "      <th>8</th>\n",
       "      <td>10</td>\n",
       "      <td>200</td>\n",
       "      <td>0.570254</td>\n",
       "      <td>0.004297</td>\n",
       "    </tr>\n",
       "    <tr>\n",
       "      <th>7</th>\n",
       "      <td>10</td>\n",
       "      <td>100</td>\n",
       "      <td>0.569497</td>\n",
       "      <td>0.005109</td>\n",
       "    </tr>\n",
       "    <tr>\n",
       "      <th>6</th>\n",
       "      <td>10</td>\n",
       "      <td>50</td>\n",
       "      <td>0.566829</td>\n",
       "      <td>0.005878</td>\n",
       "    </tr>\n",
       "    <tr>\n",
       "      <th>3</th>\n",
       "      <td>5</td>\n",
       "      <td>50</td>\n",
       "      <td>0.330701</td>\n",
       "      <td>0.002992</td>\n",
       "    </tr>\n",
       "    <tr>\n",
       "      <th>4</th>\n",
       "      <td>5</td>\n",
       "      <td>100</td>\n",
       "      <td>0.329836</td>\n",
       "      <td>0.001418</td>\n",
       "    </tr>\n",
       "    <tr>\n",
       "      <th>5</th>\n",
       "      <td>5</td>\n",
       "      <td>200</td>\n",
       "      <td>0.328105</td>\n",
       "      <td>0.001551</td>\n",
       "    </tr>\n",
       "  </tbody>\n",
       "</table>\n",
       "</div>"
      ],
      "text/plain": [
       "  param_max_depth param_n_estimators  mean_test_score  std_test_score\n",
       "2            None                200         0.892302        0.002104\n",
       "1            None                100         0.888228        0.001968\n",
       "0            None                 50         0.883396        0.002301\n",
       "8              10                200         0.570254        0.004297\n",
       "7              10                100         0.569497        0.005109\n",
       "6              10                 50         0.566829        0.005878\n",
       "3               5                 50         0.330701        0.002992\n",
       "4               5                100         0.329836        0.001418\n",
       "5               5                200         0.328105        0.001551"
      ]
     },
     "execution_count": 103,
     "metadata": {},
     "output_type": "execute_result"
    }
   ],
   "source": [
    "resultados = pd.DataFrame(grid_search.cv_results_)\n",
    "resultados = resultados.filter(regex = '(param*|mean_t|std_t)')\n",
    "resultados = resultados.drop(columns = 'params')\n",
    "resultados = resultados.sort_values('mean_test_score', ascending=False)\n",
    "resultados"
   ]
  },
  {
   "cell_type": "code",
   "execution_count": 104,
   "id": "e6349e6d-2725-48ea-a9df-0ea02f09abdc",
   "metadata": {},
   "outputs": [
    {
     "name": "stdout",
     "output_type": "stream",
     "text": [
      "Los mejores parametros para el RandomForest son: {'max_depth': None, 'n_estimators': 200}\n"
     ]
    }
   ],
   "source": [
    "print(f'Los mejores parametros para el RandomForest son: {params}')"
   ]
  },
  {
   "cell_type": "code",
   "execution_count": 105,
   "id": "ee4c2b78-950a-44c7-89f0-e821240d1584",
   "metadata": {},
   "outputs": [],
   "source": [
    "y_pred = rf_model.predict(x_test)"
   ]
  },
  {
   "cell_type": "code",
   "execution_count": 106,
   "id": "5955d64a-2995-45cf-97fb-fc450b6de256",
   "metadata": {},
   "outputs": [
    {
     "name": "stdout",
     "output_type": "stream",
     "text": [
      "Exactitud del modelo: 91.30%\n"
     ]
    }
   ],
   "source": [
    "accuracy = metrics.accuracy_score(y_test, y_pred)\n",
    "print(\"Exactitud del modelo: {:.2f}%\".format(accuracy * 100))"
   ]
  },
  {
   "cell_type": "markdown",
   "id": "f466b489-ca6f-4d29-a4a9-0fc986c7779a",
   "metadata": {},
   "source": [
    "* Cross validation"
   ]
  },
  {
   "cell_type": "code",
   "execution_count": 107,
   "id": "b97bc08f-402a-4d79-84bb-5e8fbfbb86fb",
   "metadata": {},
   "outputs": [],
   "source": [
    "scores = cross_val_score(rf_model, x_train, y_train, cv=5)"
   ]
  },
  {
   "cell_type": "code",
   "execution_count": 108,
   "id": "19b4f720-aa11-43dc-b347-14de337d7c6a",
   "metadata": {},
   "outputs": [
    {
     "name": "stdout",
     "output_type": "stream",
     "text": [
      "fold 1: 0.8938164773751578\n",
      "fold 2: 0.8884081485487652\n",
      "fold 3: 0.8920137010996936\n",
      "fold 4: 0.894357310257797\n",
      "fold 5: 0.8929150892374257\n"
     ]
    }
   ],
   "source": [
    "for i, j in enumerate(scores):\n",
    "    print(f'fold {i+1}: {j}')"
   ]
  },
  {
   "cell_type": "code",
   "execution_count": 109,
   "id": "4b95b861-e9ae-425b-9de9-a3b209f9ab02",
   "metadata": {},
   "outputs": [
    {
     "name": "stdout",
     "output_type": "stream",
     "text": [
      "mean acc: 0.8923021453037678\n"
     ]
    }
   ],
   "source": [
    "print(f'mean acc: {scores.mean()}')"
   ]
  },
  {
   "cell_type": "markdown",
   "id": "849ff324-7e2a-4eaf-9fed-7da39a249897",
   "metadata": {},
   "source": [
    "### DecisionTreeClassifier"
   ]
  },
  {
   "cell_type": "code",
   "execution_count": 110,
   "id": "b41a19a0-e9f2-4cbf-bc9d-537cd409f239",
   "metadata": {},
   "outputs": [],
   "source": [
    "param_grid = {\n",
    "    'max_depth': [None, 5, 10],\n",
    "    'min_samples_split': [2, 5, 10],\n",
    "    'min_samples_leaf': [1, 2, 4]\n",
    "}"
   ]
  },
  {
   "cell_type": "code",
   "execution_count": 111,
   "id": "878c7261-c10b-4339-9d38-f76778b97389",
   "metadata": {},
   "outputs": [],
   "source": [
    "dt = DecisionTreeClassifier(random_state=1234)"
   ]
  },
  {
   "cell_type": "code",
   "execution_count": 112,
   "id": "e7965a6c-0a03-4cd4-b29e-a03d7607756a",
   "metadata": {},
   "outputs": [],
   "source": [
    "grid_search_tree = GridSearchCV(\n",
    "    estimator=dt, \n",
    "    param_grid=param_grid, \n",
    "    cv=5, \n",
    "    scoring='accuracy')"
   ]
  },
  {
   "cell_type": "code",
   "execution_count": 113,
   "id": "51bcffa0-469b-485c-abb9-f773fa1a000f",
   "metadata": {},
   "outputs": [
    {
     "data": {
      "text/html": [
       "<style>#sk-container-id-2 {color: black;background-color: white;}#sk-container-id-2 pre{padding: 0;}#sk-container-id-2 div.sk-toggleable {background-color: white;}#sk-container-id-2 label.sk-toggleable__label {cursor: pointer;display: block;width: 100%;margin-bottom: 0;padding: 0.3em;box-sizing: border-box;text-align: center;}#sk-container-id-2 label.sk-toggleable__label-arrow:before {content: \"▸\";float: left;margin-right: 0.25em;color: #696969;}#sk-container-id-2 label.sk-toggleable__label-arrow:hover:before {color: black;}#sk-container-id-2 div.sk-estimator:hover label.sk-toggleable__label-arrow:before {color: black;}#sk-container-id-2 div.sk-toggleable__content {max-height: 0;max-width: 0;overflow: hidden;text-align: left;background-color: #f0f8ff;}#sk-container-id-2 div.sk-toggleable__content pre {margin: 0.2em;color: black;border-radius: 0.25em;background-color: #f0f8ff;}#sk-container-id-2 input.sk-toggleable__control:checked~div.sk-toggleable__content {max-height: 200px;max-width: 100%;overflow: auto;}#sk-container-id-2 input.sk-toggleable__control:checked~label.sk-toggleable__label-arrow:before {content: \"▾\";}#sk-container-id-2 div.sk-estimator input.sk-toggleable__control:checked~label.sk-toggleable__label {background-color: #d4ebff;}#sk-container-id-2 div.sk-label input.sk-toggleable__control:checked~label.sk-toggleable__label {background-color: #d4ebff;}#sk-container-id-2 input.sk-hidden--visually {border: 0;clip: rect(1px 1px 1px 1px);clip: rect(1px, 1px, 1px, 1px);height: 1px;margin: -1px;overflow: hidden;padding: 0;position: absolute;width: 1px;}#sk-container-id-2 div.sk-estimator {font-family: monospace;background-color: #f0f8ff;border: 1px dotted black;border-radius: 0.25em;box-sizing: border-box;margin-bottom: 0.5em;}#sk-container-id-2 div.sk-estimator:hover {background-color: #d4ebff;}#sk-container-id-2 div.sk-parallel-item::after {content: \"\";width: 100%;border-bottom: 1px solid gray;flex-grow: 1;}#sk-container-id-2 div.sk-label:hover label.sk-toggleable__label {background-color: #d4ebff;}#sk-container-id-2 div.sk-serial::before {content: \"\";position: absolute;border-left: 1px solid gray;box-sizing: border-box;top: 0;bottom: 0;left: 50%;z-index: 0;}#sk-container-id-2 div.sk-serial {display: flex;flex-direction: column;align-items: center;background-color: white;padding-right: 0.2em;padding-left: 0.2em;position: relative;}#sk-container-id-2 div.sk-item {position: relative;z-index: 1;}#sk-container-id-2 div.sk-parallel {display: flex;align-items: stretch;justify-content: center;background-color: white;position: relative;}#sk-container-id-2 div.sk-item::before, #sk-container-id-2 div.sk-parallel-item::before {content: \"\";position: absolute;border-left: 1px solid gray;box-sizing: border-box;top: 0;bottom: 0;left: 50%;z-index: -1;}#sk-container-id-2 div.sk-parallel-item {display: flex;flex-direction: column;z-index: 1;position: relative;background-color: white;}#sk-container-id-2 div.sk-parallel-item:first-child::after {align-self: flex-end;width: 50%;}#sk-container-id-2 div.sk-parallel-item:last-child::after {align-self: flex-start;width: 50%;}#sk-container-id-2 div.sk-parallel-item:only-child::after {width: 0;}#sk-container-id-2 div.sk-dashed-wrapped {border: 1px dashed gray;margin: 0 0.4em 0.5em 0.4em;box-sizing: border-box;padding-bottom: 0.4em;background-color: white;}#sk-container-id-2 div.sk-label label {font-family: monospace;font-weight: bold;display: inline-block;line-height: 1.2em;}#sk-container-id-2 div.sk-label-container {text-align: center;}#sk-container-id-2 div.sk-container {/* jupyter's `normalize.less` sets `[hidden] { display: none; }` but bootstrap.min.css set `[hidden] { display: none !important; }` so we also need the `!important` here to be able to override the default hidden behavior on the sphinx rendered scikit-learn.org. See: https://github.com/scikit-learn/scikit-learn/issues/21755 */display: inline-block !important;position: relative;}#sk-container-id-2 div.sk-text-repr-fallback {display: none;}</style><div id=\"sk-container-id-2\" class=\"sk-top-container\"><div class=\"sk-text-repr-fallback\"><pre>GridSearchCV(cv=5, estimator=DecisionTreeClassifier(random_state=1234),\n",
       "             param_grid={&#x27;max_depth&#x27;: [None, 5, 10],\n",
       "                         &#x27;min_samples_leaf&#x27;: [1, 2, 4],\n",
       "                         &#x27;min_samples_split&#x27;: [2, 5, 10]},\n",
       "             scoring=&#x27;accuracy&#x27;)</pre><b>In a Jupyter environment, please rerun this cell to show the HTML representation or trust the notebook. <br />On GitHub, the HTML representation is unable to render, please try loading this page with nbviewer.org.</b></div><div class=\"sk-container\" hidden><div class=\"sk-item sk-dashed-wrapped\"><div class=\"sk-label-container\"><div class=\"sk-label sk-toggleable\"><input class=\"sk-toggleable__control sk-hidden--visually\" id=\"sk-estimator-id-4\" type=\"checkbox\" ><label for=\"sk-estimator-id-4\" class=\"sk-toggleable__label sk-toggleable__label-arrow\">GridSearchCV</label><div class=\"sk-toggleable__content\"><pre>GridSearchCV(cv=5, estimator=DecisionTreeClassifier(random_state=1234),\n",
       "             param_grid={&#x27;max_depth&#x27;: [None, 5, 10],\n",
       "                         &#x27;min_samples_leaf&#x27;: [1, 2, 4],\n",
       "                         &#x27;min_samples_split&#x27;: [2, 5, 10]},\n",
       "             scoring=&#x27;accuracy&#x27;)</pre></div></div></div><div class=\"sk-parallel\"><div class=\"sk-parallel-item\"><div class=\"sk-item\"><div class=\"sk-label-container\"><div class=\"sk-label sk-toggleable\"><input class=\"sk-toggleable__control sk-hidden--visually\" id=\"sk-estimator-id-5\" type=\"checkbox\" ><label for=\"sk-estimator-id-5\" class=\"sk-toggleable__label sk-toggleable__label-arrow\">estimator: DecisionTreeClassifier</label><div class=\"sk-toggleable__content\"><pre>DecisionTreeClassifier(random_state=1234)</pre></div></div></div><div class=\"sk-serial\"><div class=\"sk-item\"><div class=\"sk-estimator sk-toggleable\"><input class=\"sk-toggleable__control sk-hidden--visually\" id=\"sk-estimator-id-6\" type=\"checkbox\" ><label for=\"sk-estimator-id-6\" class=\"sk-toggleable__label sk-toggleable__label-arrow\">DecisionTreeClassifier</label><div class=\"sk-toggleable__content\"><pre>DecisionTreeClassifier(random_state=1234)</pre></div></div></div></div></div></div></div></div></div></div>"
      ],
      "text/plain": [
       "GridSearchCV(cv=5, estimator=DecisionTreeClassifier(random_state=1234),\n",
       "             param_grid={'max_depth': [None, 5, 10],\n",
       "                         'min_samples_leaf': [1, 2, 4],\n",
       "                         'min_samples_split': [2, 5, 10]},\n",
       "             scoring='accuracy')"
      ]
     },
     "execution_count": 113,
     "metadata": {},
     "output_type": "execute_result"
    }
   ],
   "source": [
    "grid_search_tree.fit(x_train, y_train)"
   ]
  },
  {
   "cell_type": "code",
   "execution_count": 117,
   "id": "c184eede-39b0-43eb-9a4f-5536b05f67dd",
   "metadata": {},
   "outputs": [],
   "source": [
    "params_dt = grid_search_tree.best_params_\n",
    "dt_model = grid_search_tree.best_estimator_"
   ]
  },
  {
   "cell_type": "code",
   "execution_count": 118,
   "id": "1b60a618-b325-4acb-a4ef-bae72a1e4b6d",
   "metadata": {},
   "outputs": [],
   "source": [
    "y_pred = dt_model.predict(x_test)"
   ]
  },
  {
   "cell_type": "code",
   "execution_count": 120,
   "id": "d1655ce3-57f9-4430-afcd-3df4eb1d5519",
   "metadata": {},
   "outputs": [
    {
     "name": "stdout",
     "output_type": "stream",
     "text": [
      "Exactitud del modelo: 79.77%\n"
     ]
    }
   ],
   "source": [
    "accuracy = metrics.accuracy_score(y_test, y_pred)\n",
    "print(\"Exactitud del modelo: {:.2f}%\".format(accuracy * 100))"
   ]
  },
  {
   "cell_type": "code",
   "execution_count": 124,
   "id": "0d1dd320-8d96-48a2-ac9c-ab4093d21430",
   "metadata": {},
   "outputs": [
    {
     "name": "stdout",
     "output_type": "stream",
     "text": [
      "Profundidad del árbol: 28\n",
      "Número de nodos terminales: 5681\n",
      "Error in callback <function flush_figures at 0x000001D66B810310> (for post_execute):\n"
     ]
    },
    {
     "name": "stderr",
     "output_type": "stream",
     "text": [
      "\n",
      "KeyboardInterrupt\n",
      "\n"
     ]
    }
   ],
   "source": [
    "fig, ax = plt.subplots(figsize=(28, 8))\n",
    "\n",
    "\n",
    "print(f\"Profundidad del árbol: {dt_model.get_depth()}\")\n",
    "print(f\"Número de nodos terminales: {dt_model.get_n_leaves()}\")\n",
    "\n",
    "plot = plot_tree(\n",
    "    decision_tree=dt_model,\n",
    "    feature_names=x.columns,\n",
    "    class_names='bad_credit',\n",
    "    filled=True,\n",
    "    impurity=True,\n",
    "    fontsize=7,\n",
    "    ax=ax)"
   ]
  },
  {
   "cell_type": "code",
   "execution_count": null,
   "id": "bb50b699-3b3b-4b9e-acdc-2f46e266f8d9",
   "metadata": {},
   "outputs": [],
   "source": []
  },
  {
   "cell_type": "code",
   "execution_count": null,
   "id": "990bb070-6774-41eb-8564-629562376e86",
   "metadata": {},
   "outputs": [],
   "source": []
  },
  {
   "cell_type": "code",
   "execution_count": null,
   "id": "ad6b766d-f204-4e7b-84ce-fdf35277fa16",
   "metadata": {},
   "outputs": [],
   "source": []
  },
  {
   "cell_type": "code",
   "execution_count": null,
   "id": "08ecba0c-e57a-4467-a553-242c80ea71e2",
   "metadata": {},
   "outputs": [],
   "source": []
  },
  {
   "cell_type": "code",
   "execution_count": null,
   "id": "d912f489-4b12-44db-9505-6b339520c93b",
   "metadata": {},
   "outputs": [],
   "source": []
  },
  {
   "cell_type": "markdown",
   "id": "b500afc0-841c-4972-9c28-304d9544d614",
   "metadata": {},
   "source": [
    "# Regresión lineal"
   ]
  },
  {
   "cell_type": "code",
   "execution_count": null,
   "id": "e583c5f5-9aec-470a-bdb3-7c480b7e4068",
   "metadata": {},
   "outputs": [],
   "source": [
    "youtube_model.head(2)"
   ]
  },
  {
   "cell_type": "code",
   "execution_count": null,
   "id": "95d4ab19-300a-45d9-80b6-cf5b674874bf",
   "metadata": {},
   "outputs": [],
   "source": [
    "youtube_regresion = pd.get_dummies(youtube_model, columns=['category'], dtype=int)"
   ]
  },
  {
   "cell_type": "code",
   "execution_count": null,
   "id": "3aee2d36-f1ac-4d70-b019-e069dec881db",
   "metadata": {},
   "outputs": [],
   "source": [
    "x = youtube_regresion.drop('likes', axis=1)\n",
    "y = youtube_regresion['likes']"
   ]
  },
  {
   "cell_type": "code",
   "execution_count": null,
   "id": "e603cc5c-9073-4e56-9f7e-5f998e92c8d5",
   "metadata": {},
   "outputs": [],
   "source": [
    "x_train, x_test, y_train, y_test = train_test_split(\n",
    "    x, y, train_size=0.8, random_state=1234, shuffle=True\n",
    ")"
   ]
  },
  {
   "cell_type": "code",
   "execution_count": null,
   "id": "ecb43493-5647-4dc0-985d-6a53be18cc69",
   "metadata": {},
   "outputs": [],
   "source": [
    "from sklearn.linear_model import LinearRegression"
   ]
  },
  {
   "cell_type": "code",
   "execution_count": null,
   "id": "f25af324-3ad9-486d-98e2-e60443da6a05",
   "metadata": {},
   "outputs": [],
   "source": [
    "lr = LinearRegression()"
   ]
  },
  {
   "cell_type": "code",
   "execution_count": null,
   "id": "e1bcdb3f-6d93-4860-98f0-9265a9efc3b1",
   "metadata": {},
   "outputs": [],
   "source": [
    "lr.fit(x_train, y_train)"
   ]
  },
  {
   "cell_type": "code",
   "execution_count": null,
   "id": "17caacbc-ce4c-4ff6-af7f-99c8d7a4737e",
   "metadata": {},
   "outputs": [],
   "source": [
    "y_predict = lr.predict(x_test)"
   ]
  },
  {
   "cell_type": "code",
   "execution_count": null,
   "id": "78ed532b-4253-497f-bf68-bd8908e7da79",
   "metadata": {},
   "outputs": [],
   "source": [
    "from sklearn.metrics import r2_score"
   ]
  },
  {
   "cell_type": "code",
   "execution_count": null,
   "id": "52f87297-217c-4e88-b240-75fc79239526",
   "metadata": {},
   "outputs": [],
   "source": [
    "r2_score(y_test, y_predict)"
   ]
  },
  {
   "cell_type": "code",
   "execution_count": null,
   "id": "fa9b708c-c3c8-49a4-b5f0-e577c48f9b52",
   "metadata": {},
   "outputs": [],
   "source": [
    "y_predict[0]"
   ]
  },
  {
   "cell_type": "code",
   "execution_count": null,
   "id": "4a100062-3625-42f0-a122-991fbd71f3c7",
   "metadata": {},
   "outputs": [],
   "source": [
    "y_test"
   ]
  },
  {
   "cell_type": "code",
   "execution_count": null,
   "id": "29be8385-be38-47ff-a95b-f6c97c83e9e8",
   "metadata": {},
   "outputs": [],
   "source": [
    "from sklearn.linear_model import Ridge\n",
    "from sklearn.model_selection import GridSearchCV"
   ]
  },
  {
   "cell_type": "code",
   "execution_count": null,
   "id": "e392d942-cf55-483d-8bdb-a1a0803cc9d1",
   "metadata": {},
   "outputs": [],
   "source": [
    "param_grid = {\n",
    "    'alpha': [0.01, 0.1, 1.0]\n",
    "}"
   ]
  },
  {
   "cell_type": "code",
   "execution_count": null,
   "id": "2399e560-f0af-41d1-9dae-448d8b21d2cd",
   "metadata": {},
   "outputs": [],
   "source": [
    "ridge = Ridge()"
   ]
  },
  {
   "cell_type": "code",
   "execution_count": null,
   "id": "3bf7de6f-9c9a-4803-b64d-8df58c1782fd",
   "metadata": {},
   "outputs": [],
   "source": [
    "grid_search = GridSearchCV(estimator=ridge, param_grid=param_grid, cv=5, scoring='neg_mean_squared_error')"
   ]
  },
  {
   "cell_type": "code",
   "execution_count": null,
   "id": "ec7bd3c4-ca35-42c6-a5dd-b917ccd8a42a",
   "metadata": {},
   "outputs": [],
   "source": [
    "grid_search.fit(x_train, y_train)"
   ]
  },
  {
   "cell_type": "code",
   "execution_count": null,
   "id": "effefcca-022b-4f9f-a106-d90ac9537f8d",
   "metadata": {},
   "outputs": [],
   "source": [
    "mejores_hiperparametros = grid_search.best_params_\n",
    "mejor_modelo = grid_search.best_estimator_"
   ]
  },
  {
   "cell_type": "code",
   "execution_count": null,
   "id": "931ab270-c408-4078-9030-4e0d7f614757",
   "metadata": {},
   "outputs": [],
   "source": [
    "mejores_hiperparametros"
   ]
  },
  {
   "cell_type": "code",
   "execution_count": null,
   "id": "efc0e129-51c6-461f-8e06-6282f661f197",
   "metadata": {},
   "outputs": [],
   "source": [
    "y_pred = mejor_modelo.predict(x_test)\n",
    "\n",
    "# Calcula el error cuadrático medio (MSE)\n",
    "mse = metrics.mean_squared_error(y_test, y_pred)\n",
    "print(\"Error cuadrático medio (MSE): {:.2f}\".format(mse))"
   ]
  },
  {
   "cell_type": "code",
   "execution_count": null,
   "id": "c662aa30-6ced-4b66-8215-16e57b70b581",
   "metadata": {},
   "outputs": [],
   "source": [
    "r2_score(y_test, y_pred)"
   ]
  },
  {
   "cell_type": "code",
   "execution_count": null,
   "id": "56d0b868-4d63-4577-9704-37e59ac3fdb3",
   "metadata": {},
   "outputs": [],
   "source": []
  }
 ],
 "metadata": {
  "kernelspec": {
   "display_name": "Python 3 (ipykernel)",
   "language": "python",
   "name": "python3"
  },
  "language_info": {
   "codemirror_mode": {
    "name": "ipython",
    "version": 3
   },
   "file_extension": ".py",
   "mimetype": "text/x-python",
   "name": "python",
   "nbconvert_exporter": "python",
   "pygments_lexer": "ipython3",
   "version": "3.10.11"
  },
  "toc-autonumbering": true
 },
 "nbformat": 4,
 "nbformat_minor": 5
}
