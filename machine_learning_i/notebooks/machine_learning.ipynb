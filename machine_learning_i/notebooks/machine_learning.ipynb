{
 "cells": [
  {
   "cell_type": "markdown",
   "id": "cdbc12a0-cd70-4bb4-821d-d73aa65e6b40",
   "metadata": {},
   "source": [
    "# Taller machine learning"
   ]
  },
  {
   "cell_type": "code",
   "execution_count": null,
   "id": "5e0c5ddd-37c5-4c22-a7ab-130e52fdb4f3",
   "metadata": {},
   "outputs": [],
   "source": [
    "import pandas as pd\n",
    "import numpy as np\n",
    "import os"
   ]
  }
 ],
 "metadata": {
  "kernelspec": {
   "display_name": "Python 3 (ipykernel)",
   "language": "python",
   "name": "python3"
  },
  "language_info": {
   "codemirror_mode": {
    "name": "ipython",
    "version": 3
   },
   "file_extension": ".py",
   "mimetype": "text/x-python",
   "name": "python",
   "nbconvert_exporter": "python",
   "pygments_lexer": "ipython3",
   "version": "3.10.11"
  }
 },
 "nbformat": 4,
 "nbformat_minor": 5
}
