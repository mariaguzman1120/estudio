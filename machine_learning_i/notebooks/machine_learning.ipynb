{
 "cells": [
  {
   "cell_type": "markdown",
   "id": "cdbc12a0-cd70-4bb4-821d-d73aa65e6b40",
   "metadata": {},
   "source": [
    "# Taller machine learning I"
   ]
  },
  {
   "cell_type": "markdown",
   "id": "55670056-d28c-46c6-90b6-eac2e6d1e84b",
   "metadata": {},
   "source": [
    "**Integrantes**\n",
    "\n",
    "* Nombre: Maria del mar Ipia Guzmán\n",
    "* Cédula: 1214726595\n",
    "* Correo: maria.ipia@udea.edu.co\n",
    "\n",
    "  \n",
    "\n",
    "- Nombre: Johan Arbey Vargas Mejía\n",
    "- Cédula: 1152195956\n",
    "- Correo: johan.vargas@udea.edu.co"
   ]
  },
  {
   "cell_type": "markdown",
   "id": "ee92295d-f359-4724-92d2-161d4ef7bc08",
   "metadata": {},
   "source": [
    "## Librerías"
   ]
  },
  {
   "cell_type": "code",
   "execution_count": 417,
   "id": "5e0c5ddd-37c5-4c22-a7ab-130e52fdb4f3",
   "metadata": {},
   "outputs": [],
   "source": [
    "import json\n",
    "import matplotlib.pyplot as plt\n",
    "import numpy as np\n",
    "import os\n",
    "import pandas as pd\n",
    "import zipfile\n",
    "\n",
    "from sklearn import metrics\n",
    "from sklearn import svm\n",
    "from sklearn.ensemble import RandomForestClassifier\n",
    "from sklearn.metrics import classification_report\n",
    "from sklearn.model_selection import train_test_split\n",
    "from sklearn.neural_network import MLPClassifier\n",
    "from sklearn.preprocessing import LabelEncoder\n",
    "from sklearn.preprocessing import MinMaxScaler\n",
    "\n",
    "\n",
    "%matplotlib inline\n",
    "plt.style.use('ggplot')"
   ]
  },
  {
   "cell_type": "code",
   "execution_count": 107,
   "id": "0eec165a-296b-4110-b36c-86b00b1f4714",
   "metadata": {},
   "outputs": [],
   "source": [
    "pd.set_option('display.max_colwidth', None)\n",
    "pd.set_option('display.max_columns', None)"
   ]
  },
  {
   "cell_type": "markdown",
   "id": "f7eb6b4b-bb30-4b8b-83b6-d2ee3abacd2f",
   "metadata": {},
   "source": [
    "## Configuración del API de Kaggle"
   ]
  },
  {
   "cell_type": "markdown",
   "id": "6b30e8f7-0141-4c70-8619-eec0d64f5749",
   "metadata": {},
   "source": [
    "1. Iniciar sesión en tu cuenta de Kaggle en `https://www.kaggle.com`.\n",
    "2. Hacer clic en tu foto de perfil en la esquina superior derecha de la página y seleccionar \"Cuenta\" en el menú desplaable.\n",
    "3. Desplazar hacia abajo hasta la sección `API` y haz clic en `Crear nueva clave de API`.\n",
    "4. Se descargará automáticamente el archivo `kaggle.json` que contiene las credenciales de API de Kaggle.\n",
    "5. Guardar el archivo kaggle.json en una `input`."
   ]
  },
  {
   "cell_type": "code",
   "execution_count": 2,
   "id": "58951108-62e9-4ae0-a076-57883ad30c57",
   "metadata": {},
   "outputs": [],
   "source": [
    "def set_environ_kaggle(path: str) -> None:\n",
    "    \"\"\"Establece las variables de entorno para la autenticación \n",
    "     de la API de Kaggle.\n",
    "\n",
    "    Args:\n",
    "        path: Ruta al archivo kaggle.json que contiene las \n",
    "         credenciales de API de Kaggle.\n",
    "\n",
    "    \"\"\"\n",
    "    with open(path, 'r') as f:\n",
    "        data = json.load(f)\n",
    "\n",
    "    os.environ['KAGGLE_USERNAME'] = data['username']\n",
    "    os.environ['KAGGLE_KEY'] = data['key']"
   ]
  },
  {
   "cell_type": "code",
   "execution_count": 3,
   "id": "12dbeaeb-d503-4db6-8e91-89fc96451ea9",
   "metadata": {},
   "outputs": [],
   "source": [
    "kaggle_path = os.path.join('..', 'input', 'kaggle.json')"
   ]
  },
  {
   "cell_type": "code",
   "execution_count": 4,
   "id": "4ac6d9c7-1ca4-4abc-bfa0-e728db9b0285",
   "metadata": {},
   "outputs": [],
   "source": [
    "# Se configura el entorno para autenticarse en KAGGLE.\n",
    "set_environ_kaggle(kaggle_path)"
   ]
  },
  {
   "cell_type": "markdown",
   "id": "3f597434-26d3-4795-bafb-838c2c32ae3e",
   "metadata": {},
   "source": [
    "## Descargar el conjunto de datos"
   ]
  },
  {
   "cell_type": "code",
   "execution_count": 5,
   "id": "7a2fa6d9-50ee-4cd0-85e2-2c48908b8e82",
   "metadata": {},
   "outputs": [],
   "source": [
    "from kaggle.api.kaggle_api_extended import KaggleApi"
   ]
  },
  {
   "cell_type": "code",
   "execution_count": 6,
   "id": "d76151a0-6282-46a3-a0a2-ae2e9ef481ef",
   "metadata": {},
   "outputs": [],
   "source": [
    "def download_dataset(dataset_name: str, output_path: str) -> None:\n",
    "    \"\"\"Descarga un conjunto de datos de Kaggle y lo extrae en \n",
    "     la ubicación especificada.\n",
    "\n",
    "    Args:\n",
    "        dataset_name: Nombre del conjunto de datos en Kaggle.\n",
    "         Debe seguir el formato 'nombre-usuario/nombre-conjunto-datos'.\n",
    "        output_path: Ruta donde se extraerán los archivos \n",
    "         del conjunto de datos.\n",
    "\n",
    "    \"\"\"\n",
    "    api = KaggleApi()\n",
    "    api.authenticate()\n",
    "\n",
    "    api.dataset_download_files(dataset_name)\n",
    "\n",
    "    file_name = dataset_name.split('/')[1]\n",
    "    with zipfile.ZipFile(f'{file_name}.zip', 'r') as zip_ref:\n",
    "        zip_ref.extractall(output_path)\n",
    "\n",
    "    os.remove(f'{file_name}.zip')"
   ]
  },
  {
   "cell_type": "markdown",
   "id": "f78c8c82-b427-4129-b30e-e54a6fcfca3f",
   "metadata": {},
   "source": [
    "El dataset se encuentra en el link: https://www.kaggle.com/datasets/datasnaek/youtube-new?select=MXvideos.csv\n",
    "\n",
    "Notar que el nombre del conjunto de datos está despues `datasets/` y va hasta el signo `?`"
   ]
  },
  {
   "cell_type": "code",
   "execution_count": 7,
   "id": "b2161796-12b2-40bb-8106-f2712561402f",
   "metadata": {},
   "outputs": [],
   "source": [
    "dataset_name = 'datasnaek/youtube-new'"
   ]
  },
  {
   "cell_type": "code",
   "execution_count": 11,
   "id": "6dde7d6d-90e9-483e-8904-da0e150c77b9",
   "metadata": {},
   "outputs": [],
   "source": [
    "data_path = os.path.join('..', 'data')"
   ]
  },
  {
   "cell_type": "code",
   "execution_count": 9,
   "id": "d9c96e69-5286-4a1a-8c39-efdecd8d9233",
   "metadata": {},
   "outputs": [],
   "source": [
    "download_dataset(dataset_name, data_path)"
   ]
  },
  {
   "cell_type": "markdown",
   "id": "2123ec21-e0a6-41fd-b711-ce4a1a71b290",
   "metadata": {},
   "source": [
    "## Funciones utils"
   ]
  },
  {
   "cell_type": "markdown",
   "id": "522e2dba-a772-4c49-b6d5-b33d57ee89ba",
   "metadata": {},
   "source": [
    "### Gráficas"
   ]
  },
  {
   "cell_type": "code",
   "execution_count": 162,
   "id": "ff2b3371-e646-4f9a-8f4e-78a018268355",
   "metadata": {},
   "outputs": [],
   "source": [
    "def pie_plot(data: pd.DataFrame, col: str) -> None:\n",
    "    \"\"\"Genera un gráfico de pastel basado en una columna de un DataFrame.\n",
    "\n",
    "    Args:\n",
    "        data (pd.DataFrame): El DataFrame que contiene los datos.\n",
    "        col (str): El nombre de la columna a graficar.\n",
    "\n",
    "    Returns:\n",
    "        None: Muestra el gráfico de pastel.\n",
    "\n",
    "    \"\"\"\n",
    "    plt.figure(figsize=(8, 5))\n",
    "    datos = data[col]\n",
    "    labels = data.index\n",
    "    \n",
    "    # Se agregan colores con plt.cm estableciendo un color para cada espacio en el \n",
    "    # diagrama, por eso se usa un linspace de la misma magnitud de los datos.\n",
    "    colors = plt.cm.RdYlGn(np.linspace(0.1, 0.7, len(datos)))\n",
    "    \n",
    "    # Generación del diagrama circular\n",
    "    patches, texts = plt.pie(datos, labels=labels, colors=colors)\n",
    "\n",
    "    # Para que siempre se vea como un círculo\n",
    "    plt.axis('equal')\n",
    "    \n",
    "    # Se eliminan las líneas\n",
    "    plt.rcParams['patch.linewidth'] = 0\n",
    "    \n",
    "    # Estimación porcentaje\n",
    "    porcent = 100 * datos / sum(datos)\n",
    "    # Lista que será expuesta en la legenda\n",
    "    labels = ['{0} - {1:1.1f} %'.format(i,j) for i, j in zip(labels, porcent)]\n",
    "    \n",
    "    # Se genera la legenda\n",
    "    # bbox_to_anchor especifica en coordenadas la posición de la legenda\n",
    "    plt.legend(patches, labels, bbox_to_anchor=(-0.1, 1.), fontsize=8)\n",
    "    \n",
    "    plt.show()"
   ]
  },
  {
   "cell_type": "code",
   "execution_count": 237,
   "id": "64e4d4e5-5c06-43f4-8eef-4d7301924ed5",
   "metadata": {},
   "outputs": [],
   "source": [
    "def box_plot(df: pd.DataFrame, showfliers: bool = True):\n",
    "    \"\"\"Genera un diagrama de cajas utilizando el mapa de colores RdYlGn.\n",
    "\n",
    "    Args:\n",
    "        df (pd.DataFrame): El DataFrame que se utilizará para generar \n",
    "         el diagrama de cajas.\n",
    "        showfliers (bool): Indica si se muestran o no los valores \n",
    "         atípicos en el diagrama de cajas. Valor predeterminado es True.\n",
    "\n",
    "    Returns:\n",
    "        None: Muestra el gráfico de barras.\n",
    "        \n",
    "    \"\"\"\n",
    "    # Generar el diagrama de cajas utilizando df.plot(kind='box')\n",
    "    ax = df.plot(kind='box', patch_artist=True, figsize=(8, 5), showfliers=showfliers, vert=False)\n",
    "    \n",
    "    # Configurar el mapa de colores\n",
    "    cmap = plt.cm.RdYlGn\n",
    "    \n",
    "    # Personalizar el color de las cajas utilizando el mapa de colores\n",
    "    for patch, color in zip(ax.artists, cmap(np.linspace(0.1, 0.9, len(ax.artists)))):\n",
    "        patch.set_facecolor(color)\n",
    "\n",
    "    plt.show()"
   ]
  },
  {
   "cell_type": "markdown",
   "id": "791cc2af-cba8-49ab-a628-77dbaf9668bd",
   "metadata": {},
   "source": [
    "### Limpieza"
   ]
  },
  {
   "cell_type": "code",
   "execution_count": 215,
   "id": "c6ef8b00-e4eb-4c96-bcc0-f0241c1a9ec0",
   "metadata": {},
   "outputs": [],
   "source": [
    "def find_missing(df: pd.DataFrame) -> pd.DataFrame:\n",
    "    \"\"\"Encuentra los valores faltantes en un DataFrame y devuelve un nuevo DataFrame\n",
    "     que muestra la cantidad de valores faltantes y el porcentaje correspondiente.\n",
    "\n",
    "    Args:\n",
    "        df (pd.DataFrame): El DataFrame que se va a analizar.\n",
    "\n",
    "    Returns:\n",
    "        pd.DataFrame: Un nuevo DataFrame que muestra las columnas, la cantidad de\n",
    "        valores faltantes y el porcentaje de valores faltantes para cada columna.\n",
    "\n",
    "    \"\"\"\n",
    "    lista = []\n",
    "    for col in df.columns:\n",
    "        num = df[df[col].isnull()].shape[0]\n",
    "        lista.append(num)\n",
    "    \n",
    "    dic = {\n",
    "        'Columnas': df.columns,\n",
    "        'Faltantes': lista}\n",
    "    df_faltantes = pd.DataFrame(dic)\n",
    "    \n",
    "    df_faltantes['Porcentaje'] = df_faltantes['Faltantes'] / df.shape[0]\n",
    "    \n",
    "    return df_faltantes"
   ]
  },
  {
   "cell_type": "markdown",
   "id": "0d5186d4-6aa7-4cb0-9b71-31cf53271af7",
   "metadata": {},
   "source": [
    "## Exploración de datos"
   ]
  },
  {
   "cell_type": "markdown",
   "id": "ec92a779-9d9f-4658-a1bb-c3653e544bae",
   "metadata": {},
   "source": [
    "Archivo JSON con la información de las categorías de los videos."
   ]
  },
  {
   "cell_type": "code",
   "execution_count": 297,
   "id": "23e1fbc7-d1f0-4a68-8731-f6963d8b2c65",
   "metadata": {},
   "outputs": [],
   "source": [
    "with open(os.path.join(data_path, 'US_category_id.json'), 'r') as f:\n",
    "    data = json.load(f)"
   ]
  },
  {
   "cell_type": "code",
   "execution_count": 298,
   "id": "7fe4b4d2-0388-4d3f-bb69-f1484b23a81c",
   "metadata": {},
   "outputs": [],
   "source": [
    "ls = []\n",
    "for diccionario in data['items']:\n",
    "    row = {\n",
    "        'category_id': diccionario['id'],\n",
    "        'category': diccionario['snippet']['title']\n",
    "    }\n",
    "    \n",
    "    ls.append(row)\n",
    "\n",
    "categories = pd.DataFrame(ls)"
   ]
  },
  {
   "cell_type": "code",
   "execution_count": 299,
   "id": "db9a1e3a-fd9e-4c7b-ad3f-9b7359c82227",
   "metadata": {},
   "outputs": [
    {
     "data": {
      "text/html": [
       "<div>\n",
       "<style scoped>\n",
       "    .dataframe tbody tr th:only-of-type {\n",
       "        vertical-align: middle;\n",
       "    }\n",
       "\n",
       "    .dataframe tbody tr th {\n",
       "        vertical-align: top;\n",
       "    }\n",
       "\n",
       "    .dataframe thead th {\n",
       "        text-align: right;\n",
       "    }\n",
       "</style>\n",
       "<table border=\"1\" class=\"dataframe\">\n",
       "  <thead>\n",
       "    <tr style=\"text-align: right;\">\n",
       "      <th></th>\n",
       "      <th>category_id</th>\n",
       "      <th>category</th>\n",
       "    </tr>\n",
       "  </thead>\n",
       "  <tbody>\n",
       "    <tr>\n",
       "      <th>0</th>\n",
       "      <td>1</td>\n",
       "      <td>Film &amp; Animation</td>\n",
       "    </tr>\n",
       "    <tr>\n",
       "      <th>1</th>\n",
       "      <td>2</td>\n",
       "      <td>Autos &amp; Vehicles</td>\n",
       "    </tr>\n",
       "    <tr>\n",
       "      <th>2</th>\n",
       "      <td>10</td>\n",
       "      <td>Music</td>\n",
       "    </tr>\n",
       "    <tr>\n",
       "      <th>3</th>\n",
       "      <td>15</td>\n",
       "      <td>Pets &amp; Animals</td>\n",
       "    </tr>\n",
       "    <tr>\n",
       "      <th>4</th>\n",
       "      <td>17</td>\n",
       "      <td>Sports</td>\n",
       "    </tr>\n",
       "  </tbody>\n",
       "</table>\n",
       "</div>"
      ],
      "text/plain": [
       "  category_id          category\n",
       "0           1  Film & Animation\n",
       "1           2  Autos & Vehicles\n",
       "2          10             Music\n",
       "3          15    Pets & Animals\n",
       "4          17            Sports"
      ]
     },
     "execution_count": 299,
     "metadata": {},
     "output_type": "execute_result"
    }
   ],
   "source": [
    "categories.head()"
   ]
  },
  {
   "cell_type": "markdown",
   "id": "dd3099d3-fe66-4822-a8f9-54627d691dc6",
   "metadata": {},
   "source": [
    "### Lectura de datos"
   ]
  },
  {
   "cell_type": "code",
   "execution_count": 300,
   "id": "f86a3dba-1a02-4f03-9b41-c88f31d0b8f0",
   "metadata": {},
   "outputs": [],
   "source": [
    "path = os.path.join(data_path, 'USvideos.csv')\n",
    "youtube = pd.read_csv(path, encoding='latin-1', converters={'category_id': str})"
   ]
  },
  {
   "cell_type": "code",
   "execution_count": 301,
   "id": "dcdc77cd-991c-4efa-b820-f92263972682",
   "metadata": {},
   "outputs": [
    {
     "name": "stdout",
     "output_type": "stream",
     "text": [
      "Tamaño del dataset: (40949, 16)\n"
     ]
    }
   ],
   "source": [
    "print(f'Tamaño del dataset: {youtube.shape}')"
   ]
  },
  {
   "cell_type": "code",
   "execution_count": 302,
   "id": "d211fa68-2f9f-4498-8407-5e1bbe321440",
   "metadata": {},
   "outputs": [
    {
     "name": "stdout",
     "output_type": "stream",
     "text": [
      "<class 'pandas.core.frame.DataFrame'>\n",
      "RangeIndex: 40949 entries, 0 to 40948\n",
      "Data columns (total 16 columns):\n",
      " #   Column                  Non-Null Count  Dtype \n",
      "---  ------                  --------------  ----- \n",
      " 0   video_id                40949 non-null  object\n",
      " 1   trending_date           40949 non-null  object\n",
      " 2   title                   40949 non-null  object\n",
      " 3   channel_title           40949 non-null  object\n",
      " 4   category_id             40949 non-null  object\n",
      " 5   publish_time            40949 non-null  object\n",
      " 6   tags                    40949 non-null  object\n",
      " 7   views                   40949 non-null  int64 \n",
      " 8   likes                   40949 non-null  int64 \n",
      " 9   dislikes                40949 non-null  int64 \n",
      " 10  comment_count           40949 non-null  int64 \n",
      " 11  thumbnail_link          40949 non-null  object\n",
      " 12  comments_disabled       40949 non-null  bool  \n",
      " 13  ratings_disabled        40949 non-null  bool  \n",
      " 14  video_error_or_removed  40949 non-null  bool  \n",
      " 15  description             40379 non-null  object\n",
      "dtypes: bool(3), int64(4), object(9)\n",
      "memory usage: 4.2+ MB\n"
     ]
    }
   ],
   "source": [
    "youtube.info()"
   ]
  },
  {
   "cell_type": "markdown",
   "id": "8df07e99-1727-4dd0-b5fa-014d7aff3018",
   "metadata": {},
   "source": [
    "### Columna objetivo"
   ]
  },
  {
   "cell_type": "code",
   "execution_count": 303,
   "id": "06f28da5-f471-4a93-bc6d-7a9ff7f15237",
   "metadata": {},
   "outputs": [],
   "source": [
    "youtube = pd.merge(\n",
    "    youtube,\n",
    "    categories,\n",
    "    on='category_id',\n",
    "    how='left')"
   ]
  },
  {
   "cell_type": "code",
   "execution_count": 304,
   "id": "2a43b946-ce38-4882-8557-0e271d996078",
   "metadata": {},
   "outputs": [],
   "source": [
    "categories_youtube = youtube.groupby('category').agg({'video_id': 'count'})"
   ]
  },
  {
   "cell_type": "code",
   "execution_count": 305,
   "id": "0ee5dbeb-62e0-4b2f-8d39-0e2a509b6ae0",
   "metadata": {},
   "outputs": [],
   "source": [
    "categories_youtube['per'] = categories_youtube['video_id'] / categories_youtube['video_id'].sum() * 100"
   ]
  },
  {
   "cell_type": "code",
   "execution_count": 306,
   "id": "b9160dfa-29f8-4089-b608-efd8c33576bf",
   "metadata": {},
   "outputs": [],
   "source": [
    "categories_youtube = categories_youtube.sort_values(by='video_id', ascending=False)"
   ]
  },
  {
   "cell_type": "code",
   "execution_count": 307,
   "id": "139aec02-48c3-4492-b000-c8e5ab132b2a",
   "metadata": {},
   "outputs": [
    {
     "data": {
      "text/html": [
       "<div>\n",
       "<style scoped>\n",
       "    .dataframe tbody tr th:only-of-type {\n",
       "        vertical-align: middle;\n",
       "    }\n",
       "\n",
       "    .dataframe tbody tr th {\n",
       "        vertical-align: top;\n",
       "    }\n",
       "\n",
       "    .dataframe thead th {\n",
       "        text-align: right;\n",
       "    }\n",
       "</style>\n",
       "<table border=\"1\" class=\"dataframe\">\n",
       "  <thead>\n",
       "    <tr style=\"text-align: right;\">\n",
       "      <th></th>\n",
       "      <th>video_id</th>\n",
       "      <th>per</th>\n",
       "    </tr>\n",
       "    <tr>\n",
       "      <th>category</th>\n",
       "      <th></th>\n",
       "      <th></th>\n",
       "    </tr>\n",
       "  </thead>\n",
       "  <tbody>\n",
       "    <tr>\n",
       "      <th>Entertainment</th>\n",
       "      <td>9964</td>\n",
       "      <td>24.332707</td>\n",
       "    </tr>\n",
       "    <tr>\n",
       "      <th>Music</th>\n",
       "      <td>6472</td>\n",
       "      <td>15.805026</td>\n",
       "    </tr>\n",
       "    <tr>\n",
       "      <th>Howto &amp; Style</th>\n",
       "      <td>4146</td>\n",
       "      <td>10.124789</td>\n",
       "    </tr>\n",
       "    <tr>\n",
       "      <th>Comedy</th>\n",
       "      <td>3457</td>\n",
       "      <td>8.442209</td>\n",
       "    </tr>\n",
       "    <tr>\n",
       "      <th>People &amp; Blogs</th>\n",
       "      <td>3210</td>\n",
       "      <td>7.839019</td>\n",
       "    </tr>\n",
       "    <tr>\n",
       "      <th>News &amp; Politics</th>\n",
       "      <td>2487</td>\n",
       "      <td>6.073408</td>\n",
       "    </tr>\n",
       "    <tr>\n",
       "      <th>Science &amp; Technology</th>\n",
       "      <td>2401</td>\n",
       "      <td>5.863391</td>\n",
       "    </tr>\n",
       "    <tr>\n",
       "      <th>Film &amp; Animation</th>\n",
       "      <td>2345</td>\n",
       "      <td>5.726636</td>\n",
       "    </tr>\n",
       "    <tr>\n",
       "      <th>Sports</th>\n",
       "      <td>2174</td>\n",
       "      <td>5.309043</td>\n",
       "    </tr>\n",
       "    <tr>\n",
       "      <th>Education</th>\n",
       "      <td>1656</td>\n",
       "      <td>4.044055</td>\n",
       "    </tr>\n",
       "    <tr>\n",
       "      <th>Pets &amp; Animals</th>\n",
       "      <td>920</td>\n",
       "      <td>2.246697</td>\n",
       "    </tr>\n",
       "    <tr>\n",
       "      <th>Gaming</th>\n",
       "      <td>817</td>\n",
       "      <td>1.995165</td>\n",
       "    </tr>\n",
       "    <tr>\n",
       "      <th>Travel &amp; Events</th>\n",
       "      <td>402</td>\n",
       "      <td>0.981709</td>\n",
       "    </tr>\n",
       "    <tr>\n",
       "      <th>Autos &amp; Vehicles</th>\n",
       "      <td>384</td>\n",
       "      <td>0.937752</td>\n",
       "    </tr>\n",
       "    <tr>\n",
       "      <th>Nonprofits &amp; Activism</th>\n",
       "      <td>57</td>\n",
       "      <td>0.139198</td>\n",
       "    </tr>\n",
       "    <tr>\n",
       "      <th>Shows</th>\n",
       "      <td>57</td>\n",
       "      <td>0.139198</td>\n",
       "    </tr>\n",
       "  </tbody>\n",
       "</table>\n",
       "</div>"
      ],
      "text/plain": [
       "                       video_id        per\n",
       "category                                  \n",
       "Entertainment              9964  24.332707\n",
       "Music                      6472  15.805026\n",
       "Howto & Style              4146  10.124789\n",
       "Comedy                     3457   8.442209\n",
       "People & Blogs             3210   7.839019\n",
       "News & Politics            2487   6.073408\n",
       "Science & Technology       2401   5.863391\n",
       "Film & Animation           2345   5.726636\n",
       "Sports                     2174   5.309043\n",
       "Education                  1656   4.044055\n",
       "Pets & Animals              920   2.246697\n",
       "Gaming                      817   1.995165\n",
       "Travel & Events             402   0.981709\n",
       "Autos & Vehicles            384   0.937752\n",
       "Nonprofits & Activism        57   0.139198\n",
       "Shows                        57   0.139198"
      ]
     },
     "execution_count": 307,
     "metadata": {},
     "output_type": "execute_result"
    }
   ],
   "source": [
    "categories_youtube"
   ]
  },
  {
   "cell_type": "code",
   "execution_count": 308,
   "id": "258c47c4-235a-44aa-928e-07c9dea59c30",
   "metadata": {},
   "outputs": [
    {
     "data": {
      "image/png": "[encoded data removed]",
      "text/plain": [
       "<Figure size 800x500 with 1 Axes>"
      ]
     },
     "metadata": {},
     "output_type": "display_data"
    }
   ],
   "source": [
    "pie_plot(categories_youtube, 'video_id')"
   ]
  },
  {
   "cell_type": "markdown",
   "id": "994f4f32-4171-49a4-b08f-874803d420d8",
   "metadata": {},
   "source": [
    "#### Agrupación de categorias de bajo porcentaje de participación"
   ]
  },
  {
   "cell_type": "code",
   "execution_count": 309,
   "id": "3d32c2f1-d77d-407e-96ae-d69e1c76ccce",
   "metadata": {},
   "outputs": [],
   "source": [
    "cats = ['Education', 'Pets & Animals', 'Gaming', 'Travel & Events',\n",
    "        'Autos & Vehicles', 'Nonprofits & Activism', 'Shows']\n",
    "\n",
    "for cat in cats:\n",
    "    cond = youtube['category'] == cat\n",
    "    youtube.loc[cond, 'category'] = 'Other'"
   ]
  },
  {
   "cell_type": "code",
   "execution_count": 310,
   "id": "00eb8161-29e4-4ab9-a790-b9547b129f6b",
   "metadata": {},
   "outputs": [],
   "source": [
    "ids = categories[categories['category'].isin(cats)]['category_id'].unique()\n",
    "\n",
    "for id in ids:\n",
    "    cond = youtube['category_id'] == id\n",
    "    youtube.loc[cond, 'category_id'] = '50'"
   ]
  },
  {
   "cell_type": "code",
   "execution_count": 311,
   "id": "694eab47-5f12-44ef-8d03-0f6613addffe",
   "metadata": {},
   "outputs": [],
   "source": [
    "categories_youtube = youtube.groupby('category').agg({'video_id': 'count'})"
   ]
  },
  {
   "cell_type": "code",
   "execution_count": 312,
   "id": "ab814523-79ff-47b9-be93-a9b92a6e3c3d",
   "metadata": {},
   "outputs": [
    {
     "data": {
      "text/html": [
       "<div>\n",
       "<style scoped>\n",
       "    .dataframe tbody tr th:only-of-type {\n",
       "        vertical-align: middle;\n",
       "    }\n",
       "\n",
       "    .dataframe tbody tr th {\n",
       "        vertical-align: top;\n",
       "    }\n",
       "\n",
       "    .dataframe thead th {\n",
       "        text-align: right;\n",
       "    }\n",
       "</style>\n",
       "<table border=\"1\" class=\"dataframe\">\n",
       "  <thead>\n",
       "    <tr style=\"text-align: right;\">\n",
       "      <th></th>\n",
       "      <th>video_id</th>\n",
       "    </tr>\n",
       "    <tr>\n",
       "      <th>category</th>\n",
       "      <th></th>\n",
       "    </tr>\n",
       "  </thead>\n",
       "  <tbody>\n",
       "    <tr>\n",
       "      <th>Comedy</th>\n",
       "      <td>3457</td>\n",
       "    </tr>\n",
       "    <tr>\n",
       "      <th>Entertainment</th>\n",
       "      <td>9964</td>\n",
       "    </tr>\n",
       "    <tr>\n",
       "      <th>Film &amp; Animation</th>\n",
       "      <td>2345</td>\n",
       "    </tr>\n",
       "    <tr>\n",
       "      <th>Howto &amp; Style</th>\n",
       "      <td>4146</td>\n",
       "    </tr>\n",
       "    <tr>\n",
       "      <th>Music</th>\n",
       "      <td>6472</td>\n",
       "    </tr>\n",
       "    <tr>\n",
       "      <th>News &amp; Politics</th>\n",
       "      <td>2487</td>\n",
       "    </tr>\n",
       "    <tr>\n",
       "      <th>Other</th>\n",
       "      <td>4293</td>\n",
       "    </tr>\n",
       "    <tr>\n",
       "      <th>People &amp; Blogs</th>\n",
       "      <td>3210</td>\n",
       "    </tr>\n",
       "    <tr>\n",
       "      <th>Science &amp; Technology</th>\n",
       "      <td>2401</td>\n",
       "    </tr>\n",
       "    <tr>\n",
       "      <th>Sports</th>\n",
       "      <td>2174</td>\n",
       "    </tr>\n",
       "  </tbody>\n",
       "</table>\n",
       "</div>"
      ],
      "text/plain": [
       "                      video_id\n",
       "category                      \n",
       "Comedy                    3457\n",
       "Entertainment             9964\n",
       "Film & Animation          2345\n",
       "Howto & Style             4146\n",
       "Music                     6472\n",
       "News & Politics           2487\n",
       "Other                     4293\n",
       "People & Blogs            3210\n",
       "Science & Technology      2401\n",
       "Sports                    2174"
      ]
     },
     "execution_count": 312,
     "metadata": {},
     "output_type": "execute_result"
    }
   ],
   "source": [
    "categories_youtube"
   ]
  },
  {
   "cell_type": "code",
   "execution_count": 313,
   "id": "5f81e7d9-d34e-40ce-80a6-c03d1a5a06c4",
   "metadata": {},
   "outputs": [
    {
     "data": {
      "image/png": "[encoded data removed]",
      "text/plain": [
       "<Figure size 800x500 with 1 Axes>"
      ]
     },
     "metadata": {},
     "output_type": "display_data"
    }
   ],
   "source": [
    "pie_plot(categories_youtube, 'video_id')"
   ]
  },
  {
   "cell_type": "markdown",
   "id": "ff5df97a-4146-452d-8c81-514fbc59ef00",
   "metadata": {},
   "source": [
    "### Imputación"
   ]
  },
  {
   "cell_type": "code",
   "execution_count": 314,
   "id": "315715be-f2cb-47f3-b8bb-2ef61c86a590",
   "metadata": {},
   "outputs": [],
   "source": [
    "missing_values = find_missing(youtube)"
   ]
  },
  {
   "cell_type": "code",
   "execution_count": 315,
   "id": "d653bd44-e8f8-4d3c-918e-0f71a11aecc4",
   "metadata": {},
   "outputs": [
    {
     "data": {
      "text/html": [
       "<div>\n",
       "<style scoped>\n",
       "    .dataframe tbody tr th:only-of-type {\n",
       "        vertical-align: middle;\n",
       "    }\n",
       "\n",
       "    .dataframe tbody tr th {\n",
       "        vertical-align: top;\n",
       "    }\n",
       "\n",
       "    .dataframe thead th {\n",
       "        text-align: right;\n",
       "    }\n",
       "</style>\n",
       "<table border=\"1\" class=\"dataframe\">\n",
       "  <thead>\n",
       "    <tr style=\"text-align: right;\">\n",
       "      <th></th>\n",
       "      <th>Columnas</th>\n",
       "      <th>Faltantes</th>\n",
       "      <th>Porcentaje</th>\n",
       "    </tr>\n",
       "  </thead>\n",
       "  <tbody>\n",
       "    <tr>\n",
       "      <th>0</th>\n",
       "      <td>video_id</td>\n",
       "      <td>0</td>\n",
       "      <td>0.00000</td>\n",
       "    </tr>\n",
       "    <tr>\n",
       "      <th>1</th>\n",
       "      <td>trending_date</td>\n",
       "      <td>0</td>\n",
       "      <td>0.00000</td>\n",
       "    </tr>\n",
       "    <tr>\n",
       "      <th>2</th>\n",
       "      <td>title</td>\n",
       "      <td>0</td>\n",
       "      <td>0.00000</td>\n",
       "    </tr>\n",
       "    <tr>\n",
       "      <th>3</th>\n",
       "      <td>channel_title</td>\n",
       "      <td>0</td>\n",
       "      <td>0.00000</td>\n",
       "    </tr>\n",
       "    <tr>\n",
       "      <th>4</th>\n",
       "      <td>category_id</td>\n",
       "      <td>0</td>\n",
       "      <td>0.00000</td>\n",
       "    </tr>\n",
       "    <tr>\n",
       "      <th>5</th>\n",
       "      <td>publish_time</td>\n",
       "      <td>0</td>\n",
       "      <td>0.00000</td>\n",
       "    </tr>\n",
       "    <tr>\n",
       "      <th>6</th>\n",
       "      <td>tags</td>\n",
       "      <td>0</td>\n",
       "      <td>0.00000</td>\n",
       "    </tr>\n",
       "    <tr>\n",
       "      <th>7</th>\n",
       "      <td>views</td>\n",
       "      <td>0</td>\n",
       "      <td>0.00000</td>\n",
       "    </tr>\n",
       "    <tr>\n",
       "      <th>8</th>\n",
       "      <td>likes</td>\n",
       "      <td>0</td>\n",
       "      <td>0.00000</td>\n",
       "    </tr>\n",
       "    <tr>\n",
       "      <th>9</th>\n",
       "      <td>dislikes</td>\n",
       "      <td>0</td>\n",
       "      <td>0.00000</td>\n",
       "    </tr>\n",
       "    <tr>\n",
       "      <th>10</th>\n",
       "      <td>comment_count</td>\n",
       "      <td>0</td>\n",
       "      <td>0.00000</td>\n",
       "    </tr>\n",
       "    <tr>\n",
       "      <th>11</th>\n",
       "      <td>thumbnail_link</td>\n",
       "      <td>0</td>\n",
       "      <td>0.00000</td>\n",
       "    </tr>\n",
       "    <tr>\n",
       "      <th>12</th>\n",
       "      <td>comments_disabled</td>\n",
       "      <td>0</td>\n",
       "      <td>0.00000</td>\n",
       "    </tr>\n",
       "    <tr>\n",
       "      <th>13</th>\n",
       "      <td>ratings_disabled</td>\n",
       "      <td>0</td>\n",
       "      <td>0.00000</td>\n",
       "    </tr>\n",
       "    <tr>\n",
       "      <th>14</th>\n",
       "      <td>video_error_or_removed</td>\n",
       "      <td>0</td>\n",
       "      <td>0.00000</td>\n",
       "    </tr>\n",
       "    <tr>\n",
       "      <th>15</th>\n",
       "      <td>description</td>\n",
       "      <td>570</td>\n",
       "      <td>0.01392</td>\n",
       "    </tr>\n",
       "    <tr>\n",
       "      <th>16</th>\n",
       "      <td>category</td>\n",
       "      <td>0</td>\n",
       "      <td>0.00000</td>\n",
       "    </tr>\n",
       "  </tbody>\n",
       "</table>\n",
       "</div>"
      ],
      "text/plain": [
       "                  Columnas  Faltantes  Porcentaje\n",
       "0                 video_id          0     0.00000\n",
       "1            trending_date          0     0.00000\n",
       "2                    title          0     0.00000\n",
       "3            channel_title          0     0.00000\n",
       "4              category_id          0     0.00000\n",
       "5             publish_time          0     0.00000\n",
       "6                     tags          0     0.00000\n",
       "7                    views          0     0.00000\n",
       "8                    likes          0     0.00000\n",
       "9                 dislikes          0     0.00000\n",
       "10           comment_count          0     0.00000\n",
       "11          thumbnail_link          0     0.00000\n",
       "12       comments_disabled          0     0.00000\n",
       "13        ratings_disabled          0     0.00000\n",
       "14  video_error_or_removed          0     0.00000\n",
       "15             description        570     0.01392\n",
       "16                category          0     0.00000"
      ]
     },
     "execution_count": 315,
     "metadata": {},
     "output_type": "execute_result"
    }
   ],
   "source": [
    "missing_values"
   ]
  },
  {
   "cell_type": "markdown",
   "id": "eb97df0b-ebcc-4770-bcde-347f05896fee",
   "metadata": {},
   "source": [
    "`description` no será usada en el modelo de clasificación por lo que no hay necesidad de realizar imputación de datos"
   ]
  },
  {
   "cell_type": "markdown",
   "id": "3c4c0c7c-1231-4300-91c9-d2e5d21fa01b",
   "metadata": {},
   "source": [
    "### Datos atípicos"
   ]
  },
  {
   "cell_type": "code",
   "execution_count": 316,
   "id": "1414b9aa-55a2-4118-9473-a15c5499f80b",
   "metadata": {},
   "outputs": [
    {
     "data": {
      "image/png": "[encoded data removed]",
      "text/plain": [
       "<Figure size 800x500 with 1 Axes>"
      ]
     },
     "metadata": {},
     "output_type": "display_data"
    }
   ],
   "source": [
    "box_plot(youtube)"
   ]
  },
  {
   "cell_type": "markdown",
   "id": "808dece6-0a77-4457-8225-2b38e8603044",
   "metadata": {},
   "source": [
    "* Se seleccionan las columnas numéricas para escalar y tener un diagrama de cajas con las caracteríscas en la misma escala"
   ]
  },
  {
   "cell_type": "code",
   "execution_count": 317,
   "id": "90ac9eb6-0aba-4fb3-8c11-da2a41fc43bf",
   "metadata": {},
   "outputs": [],
   "source": [
    "youtube_numeric = youtube.select_dtypes(include=['float64', 'int64'])"
   ]
  },
  {
   "cell_type": "code",
   "execution_count": 318,
   "id": "ff48482d-b934-47ab-84d4-94233c690999",
   "metadata": {},
   "outputs": [
    {
     "data": {
      "text/html": [
       "<div>\n",
       "<style scoped>\n",
       "    .dataframe tbody tr th:only-of-type {\n",
       "        vertical-align: middle;\n",
       "    }\n",
       "\n",
       "    .dataframe tbody tr th {\n",
       "        vertical-align: top;\n",
       "    }\n",
       "\n",
       "    .dataframe thead th {\n",
       "        text-align: right;\n",
       "    }\n",
       "</style>\n",
       "<table border=\"1\" class=\"dataframe\">\n",
       "  <thead>\n",
       "    <tr style=\"text-align: right;\">\n",
       "      <th></th>\n",
       "      <th>views</th>\n",
       "      <th>likes</th>\n",
       "      <th>dislikes</th>\n",
       "      <th>comment_count</th>\n",
       "    </tr>\n",
       "  </thead>\n",
       "  <tbody>\n",
       "    <tr>\n",
       "      <th>0</th>\n",
       "      <td>748374</td>\n",
       "      <td>57527</td>\n",
       "      <td>2966</td>\n",
       "      <td>15954</td>\n",
       "    </tr>\n",
       "    <tr>\n",
       "      <th>1</th>\n",
       "      <td>2418783</td>\n",
       "      <td>97185</td>\n",
       "      <td>6146</td>\n",
       "      <td>12703</td>\n",
       "    </tr>\n",
       "    <tr>\n",
       "      <th>2</th>\n",
       "      <td>3191434</td>\n",
       "      <td>146033</td>\n",
       "      <td>5339</td>\n",
       "      <td>8181</td>\n",
       "    </tr>\n",
       "    <tr>\n",
       "      <th>3</th>\n",
       "      <td>343168</td>\n",
       "      <td>10172</td>\n",
       "      <td>666</td>\n",
       "      <td>2146</td>\n",
       "    </tr>\n",
       "    <tr>\n",
       "      <th>4</th>\n",
       "      <td>2095731</td>\n",
       "      <td>132235</td>\n",
       "      <td>1989</td>\n",
       "      <td>17518</td>\n",
       "    </tr>\n",
       "    <tr>\n",
       "      <th>...</th>\n",
       "      <td>...</td>\n",
       "      <td>...</td>\n",
       "      <td>...</td>\n",
       "      <td>...</td>\n",
       "    </tr>\n",
       "    <tr>\n",
       "      <th>40944</th>\n",
       "      <td>1685609</td>\n",
       "      <td>38160</td>\n",
       "      <td>1385</td>\n",
       "      <td>2657</td>\n",
       "    </tr>\n",
       "    <tr>\n",
       "      <th>40945</th>\n",
       "      <td>1064798</td>\n",
       "      <td>60008</td>\n",
       "      <td>382</td>\n",
       "      <td>3936</td>\n",
       "    </tr>\n",
       "    <tr>\n",
       "      <th>40946</th>\n",
       "      <td>1066451</td>\n",
       "      <td>48068</td>\n",
       "      <td>1032</td>\n",
       "      <td>3992</td>\n",
       "    </tr>\n",
       "    <tr>\n",
       "      <th>40947</th>\n",
       "      <td>5660813</td>\n",
       "      <td>192957</td>\n",
       "      <td>2846</td>\n",
       "      <td>13088</td>\n",
       "    </tr>\n",
       "    <tr>\n",
       "      <th>40948</th>\n",
       "      <td>10306119</td>\n",
       "      <td>357079</td>\n",
       "      <td>212976</td>\n",
       "      <td>144795</td>\n",
       "    </tr>\n",
       "  </tbody>\n",
       "</table>\n",
       "<p>40949 rows × 4 columns</p>\n",
       "</div>"
      ],
      "text/plain": [
       "          views   likes  dislikes  comment_count\n",
       "0        748374   57527      2966          15954\n",
       "1       2418783   97185      6146          12703\n",
       "2       3191434  146033      5339           8181\n",
       "3        343168   10172       666           2146\n",
       "4       2095731  132235      1989          17518\n",
       "...         ...     ...       ...            ...\n",
       "40944   1685609   38160      1385           2657\n",
       "40945   1064798   60008       382           3936\n",
       "40946   1066451   48068      1032           3992\n",
       "40947   5660813  192957      2846          13088\n",
       "40948  10306119  357079    212976         144795\n",
       "\n",
       "[40949 rows x 4 columns]"
      ]
     },
     "execution_count": 318,
     "metadata": {},
     "output_type": "execute_result"
    }
   ],
   "source": [
    "youtube_numeric"
   ]
  },
  {
   "cell_type": "code",
   "execution_count": 319,
   "id": "1da19e77-9bca-4184-b5f7-27d72e9f51b5",
   "metadata": {},
   "outputs": [],
   "source": [
    "min_max = MinMaxScaler()\n",
    "\n",
    "numeric_scale = min_max.fit_transform(youtube_numeric)\n",
    "\n",
    "numeric_scale = pd.DataFrame(numeric_scale, columns=youtube_numeric.columns)"
   ]
  },
  {
   "cell_type": "code",
   "execution_count": 320,
   "id": "451a5df5-f0c7-481b-9fb9-d6f55e48a85f",
   "metadata": {},
   "outputs": [
    {
     "data": {
      "image/png": "[encoded data removed]",
      "text/plain": [
       "<Figure size 800x500 with 1 Axes>"
      ]
     },
     "metadata": {},
     "output_type": "display_data"
    }
   ],
   "source": [
    "box_plot(numeric_scale)"
   ]
  },
  {
   "cell_type": "markdown",
   "id": "b032ead6-56c2-4082-88e6-77df5d6a4e3b",
   "metadata": {},
   "source": [
    "* Observemos los datos sin presencia de outliers para intentar tener una vista clara de los datos"
   ]
  },
  {
   "cell_type": "code",
   "execution_count": 321,
   "id": "79d387d6-7a09-4d5b-8a65-a9f28eff1a4a",
   "metadata": {},
   "outputs": [
    {
     "data": {
      "image/png": "[encoded data removed]",
      "text/plain": [
       "<Figure size 800x500 with 1 Axes>"
      ]
     },
     "metadata": {},
     "output_type": "display_data"
    }
   ],
   "source": [
    "box_plot(numeric_scale, showfliers=False)"
   ]
  },
  {
   "cell_type": "markdown",
   "id": "385e4218-18e7-4abe-ac24-addde7b09126",
   "metadata": {},
   "source": [
    "### Transformaciones"
   ]
  },
  {
   "cell_type": "markdown",
   "id": "e1a1d641-3ad7-4c67-9f2b-1f135b72dd25",
   "metadata": {},
   "source": [
    "* Cantidad de días para convertirse en tendencia"
   ]
  },
  {
   "cell_type": "code",
   "execution_count": 322,
   "id": "1561fa8a-b061-473c-8830-f1ad75976118",
   "metadata": {},
   "outputs": [],
   "source": [
    "youtube['trending_date'] = pd.to_datetime(youtube['trending_date'], format='%y.%d.%m')"
   ]
  },
  {
   "cell_type": "code",
   "execution_count": 323,
   "id": "08d35ec9-6724-4a3b-9151-4b74065140cd",
   "metadata": {},
   "outputs": [],
   "source": [
    "youtube['publish_time'] = pd.to_datetime(youtube['publish_time'])"
   ]
  },
  {
   "cell_type": "code",
   "execution_count": 346,
   "id": "1ee17ab0-bf1a-41a4-9dee-c7190d075ad0",
   "metadata": {},
   "outputs": [],
   "source": [
    "youtube['days'] = (youtube['trending_date'] - youtube['publish_time'].dt.tz_localize(None)).dt.days"
   ]
  },
  {
   "cell_type": "markdown",
   "id": "02ec941f-7acb-46f8-87da-fadb7140373b",
   "metadata": {},
   "source": [
    "* Longitud del titulo del video"
   ]
  },
  {
   "cell_type": "code",
   "execution_count": 347,
   "id": "d6e382b3-048d-4cae-a7c2-24544e7fa56a",
   "metadata": {},
   "outputs": [],
   "source": [
    "youtube['title_length'] = youtube['title'].apply(lambda x: len(x))"
   ]
  },
  {
   "cell_type": "markdown",
   "id": "9b39fe58-f4ba-4fd4-8353-4deeb60b451e",
   "metadata": {},
   "source": [
    "* Cantidad de tags con las que cuenta el video"
   ]
  },
  {
   "cell_type": "code",
   "execution_count": 348,
   "id": "f8a706b1-ea68-49ff-9e47-e460f518d63f",
   "metadata": {},
   "outputs": [],
   "source": [
    "youtube['tag_count'] = youtube['tags'].apply(lambda x: len(x.split('|')))"
   ]
  },
  {
   "cell_type": "markdown",
   "id": "74a4689c-ec04-4a82-9fbf-296c7eb6cd2f",
   "metadata": {},
   "source": [
    "### Elección de características"
   ]
  },
  {
   "cell_type": "code",
   "execution_count": 350,
   "id": "711cd601-fbfd-4ba4-9d40-0f6be2a680e1",
   "metadata": {},
   "outputs": [
    {
     "data": {
      "text/plain": [
       "Index(['video_id', 'trending_date', 'title', 'channel_title', 'category_id',\n",
       "       'publish_time', 'tags', 'views', 'likes', 'dislikes', 'comment_count',\n",
       "       'thumbnail_link', 'comments_disabled', 'ratings_disabled',\n",
       "       'video_error_or_removed', 'description', 'category', 'days',\n",
       "       'title_length', 'tag_count'],\n",
       "      dtype='object')"
      ]
     },
     "execution_count": 350,
     "metadata": {},
     "output_type": "execute_result"
    }
   ],
   "source": [
    "youtube.columns"
   ]
  },
  {
   "cell_type": "code",
   "execution_count": 398,
   "id": "8aed4346-f64c-46cf-a02d-6d914f6d8001",
   "metadata": {},
   "outputs": [],
   "source": [
    "columnas = ['views', 'likes', 'dislikes', 'comment_count', \n",
    "            'days','title_length', 'tag_count', 'category', ]"
   ]
  },
  {
   "cell_type": "code",
   "execution_count": 399,
   "id": "27bbfa27-1c97-4aee-a9f8-d5b3cffc6307",
   "metadata": {},
   "outputs": [],
   "source": [
    "youtube_model = youtube.loc[:, columnas]"
   ]
  },
  {
   "cell_type": "code",
   "execution_count": 400,
   "id": "788b2b62-f52e-43ca-8ae0-a7f2f06f906b",
   "metadata": {},
   "outputs": [
    {
     "data": {
      "text/html": [
       "<div>\n",
       "<style scoped>\n",
       "    .dataframe tbody tr th:only-of-type {\n",
       "        vertical-align: middle;\n",
       "    }\n",
       "\n",
       "    .dataframe tbody tr th {\n",
       "        vertical-align: top;\n",
       "    }\n",
       "\n",
       "    .dataframe thead th {\n",
       "        text-align: right;\n",
       "    }\n",
       "</style>\n",
       "<table border=\"1\" class=\"dataframe\">\n",
       "  <thead>\n",
       "    <tr style=\"text-align: right;\">\n",
       "      <th></th>\n",
       "      <th>views</th>\n",
       "      <th>likes</th>\n",
       "      <th>dislikes</th>\n",
       "      <th>comment_count</th>\n",
       "      <th>days</th>\n",
       "      <th>title_length</th>\n",
       "      <th>tag_count</th>\n",
       "      <th>category</th>\n",
       "    </tr>\n",
       "  </thead>\n",
       "  <tbody>\n",
       "    <tr>\n",
       "      <th>0</th>\n",
       "      <td>748374</td>\n",
       "      <td>57527</td>\n",
       "      <td>2966</td>\n",
       "      <td>15954</td>\n",
       "      <td>0</td>\n",
       "      <td>34</td>\n",
       "      <td>1</td>\n",
       "      <td>People &amp; Blogs</td>\n",
       "    </tr>\n",
       "    <tr>\n",
       "      <th>1</th>\n",
       "      <td>2418783</td>\n",
       "      <td>97185</td>\n",
       "      <td>6146</td>\n",
       "      <td>12703</td>\n",
       "      <td>0</td>\n",
       "      <td>62</td>\n",
       "      <td>4</td>\n",
       "      <td>Entertainment</td>\n",
       "    </tr>\n",
       "    <tr>\n",
       "      <th>2</th>\n",
       "      <td>3191434</td>\n",
       "      <td>146033</td>\n",
       "      <td>5339</td>\n",
       "      <td>8181</td>\n",
       "      <td>1</td>\n",
       "      <td>53</td>\n",
       "      <td>23</td>\n",
       "      <td>Comedy</td>\n",
       "    </tr>\n",
       "    <tr>\n",
       "      <th>3</th>\n",
       "      <td>343168</td>\n",
       "      <td>10172</td>\n",
       "      <td>666</td>\n",
       "      <td>2146</td>\n",
       "      <td>0</td>\n",
       "      <td>32</td>\n",
       "      <td>27</td>\n",
       "      <td>Entertainment</td>\n",
       "    </tr>\n",
       "    <tr>\n",
       "      <th>4</th>\n",
       "      <td>2095731</td>\n",
       "      <td>132235</td>\n",
       "      <td>1989</td>\n",
       "      <td>17518</td>\n",
       "      <td>1</td>\n",
       "      <td>24</td>\n",
       "      <td>14</td>\n",
       "      <td>Entertainment</td>\n",
       "    </tr>\n",
       "    <tr>\n",
       "      <th>...</th>\n",
       "      <td>...</td>\n",
       "      <td>...</td>\n",
       "      <td>...</td>\n",
       "      <td>...</td>\n",
       "      <td>...</td>\n",
       "      <td>...</td>\n",
       "      <td>...</td>\n",
       "      <td>...</td>\n",
       "    </tr>\n",
       "    <tr>\n",
       "      <th>40944</th>\n",
       "      <td>1685609</td>\n",
       "      <td>38160</td>\n",
       "      <td>1385</td>\n",
       "      <td>2657</td>\n",
       "      <td>26</td>\n",
       "      <td>28</td>\n",
       "      <td>14</td>\n",
       "      <td>Other</td>\n",
       "    </tr>\n",
       "    <tr>\n",
       "      <th>40945</th>\n",
       "      <td>1064798</td>\n",
       "      <td>60008</td>\n",
       "      <td>382</td>\n",
       "      <td>3936</td>\n",
       "      <td>26</td>\n",
       "      <td>26</td>\n",
       "      <td>1</td>\n",
       "      <td>People &amp; Blogs</td>\n",
       "    </tr>\n",
       "    <tr>\n",
       "      <th>40946</th>\n",
       "      <td>1066451</td>\n",
       "      <td>48068</td>\n",
       "      <td>1032</td>\n",
       "      <td>3992</td>\n",
       "      <td>26</td>\n",
       "      <td>84</td>\n",
       "      <td>24</td>\n",
       "      <td>Entertainment</td>\n",
       "    </tr>\n",
       "    <tr>\n",
       "      <th>40947</th>\n",
       "      <td>5660813</td>\n",
       "      <td>192957</td>\n",
       "      <td>2846</td>\n",
       "      <td>13088</td>\n",
       "      <td>27</td>\n",
       "      <td>35</td>\n",
       "      <td>22</td>\n",
       "      <td>Film &amp; Animation</td>\n",
       "    </tr>\n",
       "    <tr>\n",
       "      <th>40948</th>\n",
       "      <td>10306119</td>\n",
       "      <td>357079</td>\n",
       "      <td>212976</td>\n",
       "      <td>144795</td>\n",
       "      <td>27</td>\n",
       "      <td>68</td>\n",
       "      <td>4</td>\n",
       "      <td>Other</td>\n",
       "    </tr>\n",
       "  </tbody>\n",
       "</table>\n",
       "<p>40949 rows × 8 columns</p>\n",
       "</div>"
      ],
      "text/plain": [
       "          views   likes  dislikes  comment_count  days  title_length   \n",
       "0        748374   57527      2966          15954     0            34  \\\n",
       "1       2418783   97185      6146          12703     0            62   \n",
       "2       3191434  146033      5339           8181     1            53   \n",
       "3        343168   10172       666           2146     0            32   \n",
       "4       2095731  132235      1989          17518     1            24   \n",
       "...         ...     ...       ...            ...   ...           ...   \n",
       "40944   1685609   38160      1385           2657    26            28   \n",
       "40945   1064798   60008       382           3936    26            26   \n",
       "40946   1066451   48068      1032           3992    26            84   \n",
       "40947   5660813  192957      2846          13088    27            35   \n",
       "40948  10306119  357079    212976         144795    27            68   \n",
       "\n",
       "       tag_count          category  \n",
       "0              1    People & Blogs  \n",
       "1              4     Entertainment  \n",
       "2             23            Comedy  \n",
       "3             27     Entertainment  \n",
       "4             14     Entertainment  \n",
       "...          ...               ...  \n",
       "40944         14             Other  \n",
       "40945          1    People & Blogs  \n",
       "40946         24     Entertainment  \n",
       "40947         22  Film & Animation  \n",
       "40948          4             Other  \n",
       "\n",
       "[40949 rows x 8 columns]"
      ]
     },
     "execution_count": 400,
     "metadata": {},
     "output_type": "execute_result"
    }
   ],
   "source": [
    "youtube_model"
   ]
  },
  {
   "cell_type": "markdown",
   "id": "a5753057-b02a-47e9-8800-90a5b4d24625",
   "metadata": {},
   "source": [
    "# Modelo de clasifiación"
   ]
  },
  {
   "cell_type": "markdown",
   "id": "d58b3e50-cd3d-4e14-916e-34c2b553409d",
   "metadata": {},
   "source": [
    "* Aplicamos LabelEncoder para cambiar categorias en el modelo"
   ]
  },
  {
   "cell_type": "code",
   "execution_count": 401,
   "id": "2945d4d8-536f-46c8-b50a-07c324f16eaa",
   "metadata": {},
   "outputs": [],
   "source": [
    "le = LabelEncoder()\n",
    "y_encoded = le.fit_transform(youtube_model['category'])"
   ]
  },
  {
   "cell_type": "code",
   "execution_count": 402,
   "id": "95a985d0-b91a-4cfc-8023-c6f37cb1336d",
   "metadata": {},
   "outputs": [
    {
     "name": "stdout",
     "output_type": "stream",
     "text": [
      "Número: 0, Categoría: Comedy\n",
      "Número: 1, Categoría: Entertainment\n",
      "Número: 2, Categoría: Film & Animation\n",
      "Número: 3, Categoría: Howto & Style\n",
      "Número: 4, Categoría: Music\n",
      "Número: 5, Categoría: News & Politics\n",
      "Número: 6, Categoría: Other\n",
      "Número: 7, Categoría: People & Blogs\n",
      "Número: 8, Categoría: Science & Technology\n",
      "Número: 9, Categoría: Sports\n"
     ]
    }
   ],
   "source": [
    "for i, categoria in enumerate(le.classes_):\n",
    "    print(f\"Número: {i}, Categoría: {categoria}\")"
   ]
  },
  {
   "cell_type": "code",
   "execution_count": 403,
   "id": "122ed46c-c198-46e1-820c-6bfdf146f055",
   "metadata": {},
   "outputs": [],
   "source": [
    "x_model = youtube_model.drop('category', axis=1)"
   ]
  },
  {
   "cell_type": "markdown",
   "id": "2d1a1c44-e27d-4626-9ad9-216b47407617",
   "metadata": {},
   "source": [
    "* Escalamos los datos"
   ]
  },
  {
   "cell_type": "code",
   "execution_count": 404,
   "id": "3f7da9ae-4db4-45a0-ada9-180713aba5ee",
   "metadata": {},
   "outputs": [],
   "source": [
    "min_max = MinMaxScaler()\n",
    "\n",
    "x = min_max.fit_transform(x_model)\n",
    "\n",
    "x = pd.DataFrame(x, columns=x_model.columns)"
   ]
  },
  {
   "cell_type": "markdown",
   "id": "fb2be4ce-e217-4d5d-a2a4-c8910f1d330d",
   "metadata": {},
   "source": [
    "## División del conjunto de datos"
   ]
  },
  {
   "cell_type": "code",
   "execution_count": 405,
   "id": "8cf8f3b9-bf2d-4f2f-a3e8-b54de36e586c",
   "metadata": {},
   "outputs": [],
   "source": [
    "x_train, x_test, y_train, y_test = train_test_split(\n",
    "    x, y_encoded, train_size=0.8, random_state=1234, shuffle=True\n",
    ")"
   ]
  },
  {
   "cell_type": "code",
   "execution_count": 406,
   "id": "9718ad2c-b208-4705-a16c-66d70bccda94",
   "metadata": {},
   "outputs": [
    {
     "name": "stdout",
     "output_type": "stream",
     "text": [
      "Tamaño del conjunto de entrenamiento:\n",
      "x_train: (32759, 7)\n",
      "y_train: (32759,)\n",
      "Tamaño del conjunto de prueba:\n",
      "x_test: (8190, 7)\n",
      "y_test: (8190,)\n"
     ]
    }
   ],
   "source": [
    "print(\"Tamaño del conjunto de entrenamiento:\")\n",
    "print(\"x_train:\", x_train.shape)\n",
    "print(\"y_train:\", y_train.shape)\n",
    "\n",
    "print(\"Tamaño del conjunto de prueba:\")\n",
    "print(\"x_test:\", x_test.shape)\n",
    "print(\"y_test:\", y_test.shape)"
   ]
  },
  {
   "cell_type": "markdown",
   "id": "2569eec7-1d42-46c2-93b4-555095b69c9f",
   "metadata": {},
   "source": [
    "## Entrenamiento y testeo"
   ]
  },
  {
   "cell_type": "markdown",
   "id": "cf7cdff3-7e07-4b94-9a26-fc7c98382cd9",
   "metadata": {},
   "source": [
    "### Random Forest"
   ]
  },
  {
   "cell_type": "code",
   "execution_count": 422,
   "id": "e0a83d22-d05a-4b9b-bc72-2f6025895a18",
   "metadata": {},
   "outputs": [],
   "source": [
    "random_forest = RandomForestClassifier(n_estimators=100, random_state=1234)"
   ]
  },
  {
   "cell_type": "code",
   "execution_count": 423,
   "id": "f6b1f228-75bb-4a92-a2bf-4aa3bfa658e9",
   "metadata": {},
   "outputs": [
    {
     "data": {
      "text/html": [
       "<style>#sk-container-id-5 {color: black;background-color: white;}#sk-container-id-5 pre{padding: 0;}#sk-container-id-5 div.sk-toggleable {background-color: white;}#sk-container-id-5 label.sk-toggleable__label {cursor: pointer;display: block;width: 100%;margin-bottom: 0;padding: 0.3em;box-sizing: border-box;text-align: center;}#sk-container-id-5 label.sk-toggleable__label-arrow:before {content: \"▸\";float: left;margin-right: 0.25em;color: #696969;}#sk-container-id-5 label.sk-toggleable__label-arrow:hover:before {color: black;}#sk-container-id-5 div.sk-estimator:hover label.sk-toggleable__label-arrow:before {color: black;}#sk-container-id-5 div.sk-toggleable__content {max-height: 0;max-width: 0;overflow: hidden;text-align: left;background-color: #f0f8ff;}#sk-container-id-5 div.sk-toggleable__content pre {margin: 0.2em;color: black;border-radius: 0.25em;background-color: #f0f8ff;}#sk-container-id-5 input.sk-toggleable__control:checked~div.sk-toggleable__content {max-height: 200px;max-width: 100%;overflow: auto;}#sk-container-id-5 input.sk-toggleable__control:checked~label.sk-toggleable__label-arrow:before {content: \"▾\";}#sk-container-id-5 div.sk-estimator input.sk-toggleable__control:checked~label.sk-toggleable__label {background-color: #d4ebff;}#sk-container-id-5 div.sk-label input.sk-toggleable__control:checked~label.sk-toggleable__label {background-color: #d4ebff;}#sk-container-id-5 input.sk-hidden--visually {border: 0;clip: rect(1px 1px 1px 1px);clip: rect(1px, 1px, 1px, 1px);height: 1px;margin: -1px;overflow: hidden;padding: 0;position: absolute;width: 1px;}#sk-container-id-5 div.sk-estimator {font-family: monospace;background-color: #f0f8ff;border: 1px dotted black;border-radius: 0.25em;box-sizing: border-box;margin-bottom: 0.5em;}#sk-container-id-5 div.sk-estimator:hover {background-color: #d4ebff;}#sk-container-id-5 div.sk-parallel-item::after {content: \"\";width: 100%;border-bottom: 1px solid gray;flex-grow: 1;}#sk-container-id-5 div.sk-label:hover label.sk-toggleable__label {background-color: #d4ebff;}#sk-container-id-5 div.sk-serial::before {content: \"\";position: absolute;border-left: 1px solid gray;box-sizing: border-box;top: 0;bottom: 0;left: 50%;z-index: 0;}#sk-container-id-5 div.sk-serial {display: flex;flex-direction: column;align-items: center;background-color: white;padding-right: 0.2em;padding-left: 0.2em;position: relative;}#sk-container-id-5 div.sk-item {position: relative;z-index: 1;}#sk-container-id-5 div.sk-parallel {display: flex;align-items: stretch;justify-content: center;background-color: white;position: relative;}#sk-container-id-5 div.sk-item::before, #sk-container-id-5 div.sk-parallel-item::before {content: \"\";position: absolute;border-left: 1px solid gray;box-sizing: border-box;top: 0;bottom: 0;left: 50%;z-index: -1;}#sk-container-id-5 div.sk-parallel-item {display: flex;flex-direction: column;z-index: 1;position: relative;background-color: white;}#sk-container-id-5 div.sk-parallel-item:first-child::after {align-self: flex-end;width: 50%;}#sk-container-id-5 div.sk-parallel-item:last-child::after {align-self: flex-start;width: 50%;}#sk-container-id-5 div.sk-parallel-item:only-child::after {width: 0;}#sk-container-id-5 div.sk-dashed-wrapped {border: 1px dashed gray;margin: 0 0.4em 0.5em 0.4em;box-sizing: border-box;padding-bottom: 0.4em;background-color: white;}#sk-container-id-5 div.sk-label label {font-family: monospace;font-weight: bold;display: inline-block;line-height: 1.2em;}#sk-container-id-5 div.sk-label-container {text-align: center;}#sk-container-id-5 div.sk-container {/* jupyter's `normalize.less` sets `[hidden] { display: none; }` but bootstrap.min.css set `[hidden] { display: none !important; }` so we also need the `!important` here to be able to override the default hidden behavior on the sphinx rendered scikit-learn.org. See: https://github.com/scikit-learn/scikit-learn/issues/21755 */display: inline-block !important;position: relative;}#sk-container-id-5 div.sk-text-repr-fallback {display: none;}</style><div id=\"sk-container-id-5\" class=\"sk-top-container\"><div class=\"sk-text-repr-fallback\"><pre>RandomForestClassifier(random_state=1234)</pre><b>In a Jupyter environment, please rerun this cell to show the HTML representation or trust the notebook. <br />On GitHub, the HTML representation is unable to render, please try loading this page with nbviewer.org.</b></div><div class=\"sk-container\" hidden><div class=\"sk-item\"><div class=\"sk-estimator sk-toggleable\"><input class=\"sk-toggleable__control sk-hidden--visually\" id=\"sk-estimator-id-5\" type=\"checkbox\" checked><label for=\"sk-estimator-id-5\" class=\"sk-toggleable__label sk-toggleable__label-arrow\">RandomForestClassifier</label><div class=\"sk-toggleable__content\"><pre>RandomForestClassifier(random_state=1234)</pre></div></div></div></div></div>"
      ],
      "text/plain": [
       "RandomForestClassifier(random_state=1234)"
      ]
     },
     "execution_count": 423,
     "metadata": {},
     "output_type": "execute_result"
    }
   ],
   "source": [
    "random_forest.fit(x_train, y_train)"
   ]
  },
  {
   "cell_type": "code",
   "execution_count": 424,
   "id": "78883598-f3e6-419e-a75c-8fc8fdfa42c7",
   "metadata": {},
   "outputs": [],
   "source": [
    "y_pred = random_forest.predict(x_test)"
   ]
  },
  {
   "cell_type": "code",
   "execution_count": 425,
   "id": "47a8391c-e602-4be0-a013-7d62673d8f0e",
   "metadata": {},
   "outputs": [
    {
     "name": "stdout",
     "output_type": "stream",
     "text": [
      "modelRanForest: 0.9070818070818071\n"
     ]
    }
   ],
   "source": [
    "print(\"modelRanForest:\", metrics.accuracy_score(y_test, y_pred))"
   ]
  },
  {
   "cell_type": "code",
   "execution_count": 426,
   "id": "25e9ee9d-28bf-4ca4-8d1d-d7a3a343e104",
   "metadata": {},
   "outputs": [
    {
     "name": "stdout",
     "output_type": "stream",
     "text": [
      "              precision    recall  f1-score   support\n",
      "\n",
      "           0       0.92      0.88      0.90       672\n",
      "           1       0.85      0.94      0.89      2004\n",
      "           2       0.97      0.87      0.92       463\n",
      "           3       0.91      0.89      0.90       815\n",
      "           4       0.91      0.94      0.92      1317\n",
      "           5       0.92      0.93      0.92       486\n",
      "           6       0.94      0.87      0.91       914\n",
      "           7       0.96      0.89      0.92       581\n",
      "           8       0.95      0.86      0.90       514\n",
      "           9       0.95      0.87      0.91       424\n",
      "\n",
      "    accuracy                           0.91      8190\n",
      "   macro avg       0.93      0.90      0.91      8190\n",
      "weighted avg       0.91      0.91      0.91      8190\n",
      "\n"
     ]
    }
   ],
   "source": [
    "print(classification_report(y_test, y_pred))"
   ]
  },
  {
   "cell_type": "markdown",
   "id": "85f77f45-080f-4873-8c65-c42eabe68eb4",
   "metadata": {},
   "source": [
    "### MLPClassifier"
   ]
  },
  {
   "cell_type": "code",
   "execution_count": 418,
   "id": "43714807-be92-4f71-9c8f-9c72fcf331b6",
   "metadata": {},
   "outputs": [],
   "source": [
    "clf = MLPClassifier(hidden_layer_sizes=(100, 100), activation='relu', random_state=1234)"
   ]
  },
  {
   "cell_type": "code",
   "execution_count": 419,
   "id": "2ead2593-2806-4bd2-9cb1-8e02db8a2941",
   "metadata": {},
   "outputs": [
    {
     "name": "stderr",
     "output_type": "stream",
     "text": [
      "C:\\Users\\Usuario\\AppData\\Local\\Programs\\Python\\Python310\\lib\\site-packages\\sklearn\\neural_network\\_multilayer_perceptron.py:686: ConvergenceWarning: Stochastic Optimizer: Maximum iterations (200) reached and the optimization hasn't converged yet.\n",
      "  warnings.warn(\n"
     ]
    },
    {
     "data": {
      "text/html": [
       "<style>#sk-container-id-4 {color: black;background-color: white;}#sk-container-id-4 pre{padding: 0;}#sk-container-id-4 div.sk-toggleable {background-color: white;}#sk-container-id-4 label.sk-toggleable__label {cursor: pointer;display: block;width: 100%;margin-bottom: 0;padding: 0.3em;box-sizing: border-box;text-align: center;}#sk-container-id-4 label.sk-toggleable__label-arrow:before {content: \"▸\";float: left;margin-right: 0.25em;color: #696969;}#sk-container-id-4 label.sk-toggleable__label-arrow:hover:before {color: black;}#sk-container-id-4 div.sk-estimator:hover label.sk-toggleable__label-arrow:before {color: black;}#sk-container-id-4 div.sk-toggleable__content {max-height: 0;max-width: 0;overflow: hidden;text-align: left;background-color: #f0f8ff;}#sk-container-id-4 div.sk-toggleable__content pre {margin: 0.2em;color: black;border-radius: 0.25em;background-color: #f0f8ff;}#sk-container-id-4 input.sk-toggleable__control:checked~div.sk-toggleable__content {max-height: 200px;max-width: 100%;overflow: auto;}#sk-container-id-4 input.sk-toggleable__control:checked~label.sk-toggleable__label-arrow:before {content: \"▾\";}#sk-container-id-4 div.sk-estimator input.sk-toggleable__control:checked~label.sk-toggleable__label {background-color: #d4ebff;}#sk-container-id-4 div.sk-label input.sk-toggleable__control:checked~label.sk-toggleable__label {background-color: #d4ebff;}#sk-container-id-4 input.sk-hidden--visually {border: 0;clip: rect(1px 1px 1px 1px);clip: rect(1px, 1px, 1px, 1px);height: 1px;margin: -1px;overflow: hidden;padding: 0;position: absolute;width: 1px;}#sk-container-id-4 div.sk-estimator {font-family: monospace;background-color: #f0f8ff;border: 1px dotted black;border-radius: 0.25em;box-sizing: border-box;margin-bottom: 0.5em;}#sk-container-id-4 div.sk-estimator:hover {background-color: #d4ebff;}#sk-container-id-4 div.sk-parallel-item::after {content: \"\";width: 100%;border-bottom: 1px solid gray;flex-grow: 1;}#sk-container-id-4 div.sk-label:hover label.sk-toggleable__label {background-color: #d4ebff;}#sk-container-id-4 div.sk-serial::before {content: \"\";position: absolute;border-left: 1px solid gray;box-sizing: border-box;top: 0;bottom: 0;left: 50%;z-index: 0;}#sk-container-id-4 div.sk-serial {display: flex;flex-direction: column;align-items: center;background-color: white;padding-right: 0.2em;padding-left: 0.2em;position: relative;}#sk-container-id-4 div.sk-item {position: relative;z-index: 1;}#sk-container-id-4 div.sk-parallel {display: flex;align-items: stretch;justify-content: center;background-color: white;position: relative;}#sk-container-id-4 div.sk-item::before, #sk-container-id-4 div.sk-parallel-item::before {content: \"\";position: absolute;border-left: 1px solid gray;box-sizing: border-box;top: 0;bottom: 0;left: 50%;z-index: -1;}#sk-container-id-4 div.sk-parallel-item {display: flex;flex-direction: column;z-index: 1;position: relative;background-color: white;}#sk-container-id-4 div.sk-parallel-item:first-child::after {align-self: flex-end;width: 50%;}#sk-container-id-4 div.sk-parallel-item:last-child::after {align-self: flex-start;width: 50%;}#sk-container-id-4 div.sk-parallel-item:only-child::after {width: 0;}#sk-container-id-4 div.sk-dashed-wrapped {border: 1px dashed gray;margin: 0 0.4em 0.5em 0.4em;box-sizing: border-box;padding-bottom: 0.4em;background-color: white;}#sk-container-id-4 div.sk-label label {font-family: monospace;font-weight: bold;display: inline-block;line-height: 1.2em;}#sk-container-id-4 div.sk-label-container {text-align: center;}#sk-container-id-4 div.sk-container {/* jupyter's `normalize.less` sets `[hidden] { display: none; }` but bootstrap.min.css set `[hidden] { display: none !important; }` so we also need the `!important` here to be able to override the default hidden behavior on the sphinx rendered scikit-learn.org. See: https://github.com/scikit-learn/scikit-learn/issues/21755 */display: inline-block !important;position: relative;}#sk-container-id-4 div.sk-text-repr-fallback {display: none;}</style><div id=\"sk-container-id-4\" class=\"sk-top-container\"><div class=\"sk-text-repr-fallback\"><pre>MLPClassifier(hidden_layer_sizes=(100, 100), random_state=1234)</pre><b>In a Jupyter environment, please rerun this cell to show the HTML representation or trust the notebook. <br />On GitHub, the HTML representation is unable to render, please try loading this page with nbviewer.org.</b></div><div class=\"sk-container\" hidden><div class=\"sk-item\"><div class=\"sk-estimator sk-toggleable\"><input class=\"sk-toggleable__control sk-hidden--visually\" id=\"sk-estimator-id-4\" type=\"checkbox\" checked><label for=\"sk-estimator-id-4\" class=\"sk-toggleable__label sk-toggleable__label-arrow\">MLPClassifier</label><div class=\"sk-toggleable__content\"><pre>MLPClassifier(hidden_layer_sizes=(100, 100), random_state=1234)</pre></div></div></div></div></div>"
      ],
      "text/plain": [
       "MLPClassifier(hidden_layer_sizes=(100, 100), random_state=1234)"
      ]
     },
     "execution_count": 419,
     "metadata": {},
     "output_type": "execute_result"
    }
   ],
   "source": [
    "clf.fit(x_train, y_train)"
   ]
  },
  {
   "cell_type": "code",
   "execution_count": 420,
   "id": "c3e8723b-4d28-4358-ad16-5cbdc30bfe75",
   "metadata": {},
   "outputs": [],
   "source": [
    "y_pred = clf.predict(x_test)"
   ]
  },
  {
   "cell_type": "code",
   "execution_count": 421,
   "id": "8c7696e7-1c50-4293-94d8-040d8ceabf39",
   "metadata": {},
   "outputs": [
    {
     "name": "stdout",
     "output_type": "stream",
     "text": [
      "ModelNN: 0.4186813186813187\n"
     ]
    }
   ],
   "source": [
    "print(\"ModelNN:\", metrics.accuracy_score(y_test, y_pred))"
   ]
  },
  {
   "cell_type": "markdown",
   "id": "62498965-8c4e-43c9-9bee-8f80b51eb92d",
   "metadata": {},
   "source": [
    "###  SVM (Support Vector Machine)"
   ]
  },
  {
   "cell_type": "code",
   "execution_count": 427,
   "id": "010744c3-bd23-4975-a3e8-7f2d7035881c",
   "metadata": {},
   "outputs": [],
   "source": [
    "clf = svm.SVC(kernel='linear', probability = True)"
   ]
  },
  {
   "cell_type": "code",
   "execution_count": 428,
   "id": "4c751e6d-b6e3-40d5-a8b4-93c93e39d95c",
   "metadata": {},
   "outputs": [
    {
     "data": {
      "text/html": [
       "<style>#sk-container-id-6 {color: black;background-color: white;}#sk-container-id-6 pre{padding: 0;}#sk-container-id-6 div.sk-toggleable {background-color: white;}#sk-container-id-6 label.sk-toggleable__label {cursor: pointer;display: block;width: 100%;margin-bottom: 0;padding: 0.3em;box-sizing: border-box;text-align: center;}#sk-container-id-6 label.sk-toggleable__label-arrow:before {content: \"▸\";float: left;margin-right: 0.25em;color: #696969;}#sk-container-id-6 label.sk-toggleable__label-arrow:hover:before {color: black;}#sk-container-id-6 div.sk-estimator:hover label.sk-toggleable__label-arrow:before {color: black;}#sk-container-id-6 div.sk-toggleable__content {max-height: 0;max-width: 0;overflow: hidden;text-align: left;background-color: #f0f8ff;}#sk-container-id-6 div.sk-toggleable__content pre {margin: 0.2em;color: black;border-radius: 0.25em;background-color: #f0f8ff;}#sk-container-id-6 input.sk-toggleable__control:checked~div.sk-toggleable__content {max-height: 200px;max-width: 100%;overflow: auto;}#sk-container-id-6 input.sk-toggleable__control:checked~label.sk-toggleable__label-arrow:before {content: \"▾\";}#sk-container-id-6 div.sk-estimator input.sk-toggleable__control:checked~label.sk-toggleable__label {background-color: #d4ebff;}#sk-container-id-6 div.sk-label input.sk-toggleable__control:checked~label.sk-toggleable__label {background-color: #d4ebff;}#sk-container-id-6 input.sk-hidden--visually {border: 0;clip: rect(1px 1px 1px 1px);clip: rect(1px, 1px, 1px, 1px);height: 1px;margin: -1px;overflow: hidden;padding: 0;position: absolute;width: 1px;}#sk-container-id-6 div.sk-estimator {font-family: monospace;background-color: #f0f8ff;border: 1px dotted black;border-radius: 0.25em;box-sizing: border-box;margin-bottom: 0.5em;}#sk-container-id-6 div.sk-estimator:hover {background-color: #d4ebff;}#sk-container-id-6 div.sk-parallel-item::after {content: \"\";width: 100%;border-bottom: 1px solid gray;flex-grow: 1;}#sk-container-id-6 div.sk-label:hover label.sk-toggleable__label {background-color: #d4ebff;}#sk-container-id-6 div.sk-serial::before {content: \"\";position: absolute;border-left: 1px solid gray;box-sizing: border-box;top: 0;bottom: 0;left: 50%;z-index: 0;}#sk-container-id-6 div.sk-serial {display: flex;flex-direction: column;align-items: center;background-color: white;padding-right: 0.2em;padding-left: 0.2em;position: relative;}#sk-container-id-6 div.sk-item {position: relative;z-index: 1;}#sk-container-id-6 div.sk-parallel {display: flex;align-items: stretch;justify-content: center;background-color: white;position: relative;}#sk-container-id-6 div.sk-item::before, #sk-container-id-6 div.sk-parallel-item::before {content: \"\";position: absolute;border-left: 1px solid gray;box-sizing: border-box;top: 0;bottom: 0;left: 50%;z-index: -1;}#sk-container-id-6 div.sk-parallel-item {display: flex;flex-direction: column;z-index: 1;position: relative;background-color: white;}#sk-container-id-6 div.sk-parallel-item:first-child::after {align-self: flex-end;width: 50%;}#sk-container-id-6 div.sk-parallel-item:last-child::after {align-self: flex-start;width: 50%;}#sk-container-id-6 div.sk-parallel-item:only-child::after {width: 0;}#sk-container-id-6 div.sk-dashed-wrapped {border: 1px dashed gray;margin: 0 0.4em 0.5em 0.4em;box-sizing: border-box;padding-bottom: 0.4em;background-color: white;}#sk-container-id-6 div.sk-label label {font-family: monospace;font-weight: bold;display: inline-block;line-height: 1.2em;}#sk-container-id-6 div.sk-label-container {text-align: center;}#sk-container-id-6 div.sk-container {/* jupyter's `normalize.less` sets `[hidden] { display: none; }` but bootstrap.min.css set `[hidden] { display: none !important; }` so we also need the `!important` here to be able to override the default hidden behavior on the sphinx rendered scikit-learn.org. See: https://github.com/scikit-learn/scikit-learn/issues/21755 */display: inline-block !important;position: relative;}#sk-container-id-6 div.sk-text-repr-fallback {display: none;}</style><div id=\"sk-container-id-6\" class=\"sk-top-container\"><div class=\"sk-text-repr-fallback\"><pre>SVC(kernel=&#x27;linear&#x27;, probability=True)</pre><b>In a Jupyter environment, please rerun this cell to show the HTML representation or trust the notebook. <br />On GitHub, the HTML representation is unable to render, please try loading this page with nbviewer.org.</b></div><div class=\"sk-container\" hidden><div class=\"sk-item\"><div class=\"sk-estimator sk-toggleable\"><input class=\"sk-toggleable__control sk-hidden--visually\" id=\"sk-estimator-id-6\" type=\"checkbox\" checked><label for=\"sk-estimator-id-6\" class=\"sk-toggleable__label sk-toggleable__label-arrow\">SVC</label><div class=\"sk-toggleable__content\"><pre>SVC(kernel=&#x27;linear&#x27;, probability=True)</pre></div></div></div></div></div>"
      ],
      "text/plain": [
       "SVC(kernel='linear', probability=True)"
      ]
     },
     "execution_count": 428,
     "metadata": {},
     "output_type": "execute_result"
    }
   ],
   "source": [
    "clf.fit(x_train, y_train)"
   ]
  },
  {
   "cell_type": "code",
   "execution_count": 429,
   "id": "406c8459-e469-450b-a2b6-c8ecfa789154",
   "metadata": {},
   "outputs": [],
   "source": [
    "y_pred = clf.predict(x_test)"
   ]
  },
  {
   "cell_type": "code",
   "execution_count": 430,
   "id": "66eb30e1-2e4e-4b16-a280-0b9f7f9cafc7",
   "metadata": {},
   "outputs": [
    {
     "name": "stdout",
     "output_type": "stream",
     "text": [
      "modelSVC: 0.29816849816849816\n"
     ]
    }
   ],
   "source": [
    "print(\"modelSVC:\", metrics.accuracy_score(y_test, y_pred))"
   ]
  },
  {
   "cell_type": "code",
   "execution_count": null,
   "id": "d44dc64b-6bff-4ded-86b0-b77d660cd469",
   "metadata": {},
   "outputs": [],
   "source": []
  },
  {
   "cell_type": "code",
   "execution_count": null,
   "id": "4754877b-d275-4028-a958-bb9a69bfb2c3",
   "metadata": {},
   "outputs": [],
   "source": []
  }
 ],
 "metadata": {
  "kernelspec": {
   "display_name": "Python 3 (ipykernel)",
   "language": "python",
   "name": "python3"
  },
  "language_info": {
   "codemirror_mode": {
    "name": "ipython",
    "version": 3
   },
   "file_extension": ".py",
   "mimetype": "text/x-python",
   "name": "python",
   "nbconvert_exporter": "python",
   "pygments_lexer": "ipython3",
   "version": "3.10.11"
  }
 },
 "nbformat": 4,
 "nbformat_minor": 5
}
